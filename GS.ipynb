{
  "nbformat": 4,
  "nbformat_minor": 0,
  "metadata": {
    "colab": {
      "provenance": [],
      "authorship_tag": "ABX9TyPdpP4D2MYjmAih73aFn2tJ",
      "include_colab_link": true
    },
    "kernelspec": {
      "name": "python3",
      "display_name": "Python 3"
    },
    "language_info": {
      "name": "python"
    },
    "accelerator": "TPU",
    "gpuClass": "standard"
  },
  "cells": [
    {
      "cell_type": "markdown",
      "metadata": {
        "id": "view-in-github",
        "colab_type": "text"
      },
      "source": [
        "<a href=\"https://colab.research.google.com/github/LCaravaggio/politext/blob/main/GS.ipynb\" target=\"_parent\"><img src=\"https://colab.research.google.com/assets/colab-badge.svg\" alt=\"Open In Colab\"/></a>"
      ]
    },
    {
      "cell_type": "markdown",
      "source": [
        "# Cargar la base"
      ],
      "metadata": {
        "id": "3bR6IbjGTqyw"
      }
    },
    {
      "cell_type": "code",
      "source": [
        "from google.colab import drive\n",
        "drive.mount('/content/drive')"
      ],
      "metadata": {
        "colab": {
          "base_uri": "https://localhost:8080/"
        },
        "id": "1d3u68qTTy95",
        "outputId": "d525e3da-fd35-43b6-c606-01731681f8a9"
      },
      "execution_count": 1,
      "outputs": [
        {
          "output_type": "stream",
          "name": "stdout",
          "text": [
            "Mounted at /content/drive\n"
          ]
        }
      ]
    },
    {
      "cell_type": "code",
      "source": [
        "import pandas as pd\n",
        "base=pd.read_csv('/content/drive/MyDrive/base_formateada.csv')"
      ],
      "metadata": {
        "id": "a4Y2nh_NT6vv",
        "colab": {
          "base_uri": "https://localhost:8080/"
        },
        "outputId": "e0d53982-cec7-4a1d-bc10-b409d88dbd05"
      },
      "execution_count": 2,
      "outputs": [
        {
          "output_type": "stream",
          "name": "stderr",
          "text": [
            "/usr/local/lib/python3.8/dist-packages/IPython/core/interactiveshell.py:3326: DtypeWarning: Columns (18) have mixed types.Specify dtype option on import or set low_memory=False.\n",
            "  exec(code_obj, self.user_global_ns, self.user_ns)\n"
          ]
        }
      ]
    },
    {
      "cell_type": "code",
      "source": [
        "import nltk\n",
        "nltk.download('stopwords')\n",
        "from nltk.corpus import stopwords\n",
        "stopwords=stopwords.words('spanish')"
      ],
      "metadata": {
        "colab": {
          "base_uri": "https://localhost:8080/"
        },
        "id": "vG2Zxxq3UvyZ",
        "outputId": "5c811369-b6db-4837-c75f-9c96d850fb95"
      },
      "execution_count": 3,
      "outputs": [
        {
          "output_type": "stream",
          "name": "stderr",
          "text": [
            "[nltk_data] Downloading package stopwords to /root/nltk_data...\n",
            "[nltk_data]   Unzipping corpora/stopwords.zip.\n"
          ]
        }
      ]
    },
    {
      "cell_type": "code",
      "source": [
        "# Se incorporan las stopwords sugeridas por Federico\n",
        "stopwords.extend(['señor', 'señora', 'mucha', 'gracia', 'año', 'pasado', 'cada', 'vez', 'uno', 'dos', 'tres', 'cuatro', 'cinco', 'seis' ,'siete', 'ocho', 'nueve', 'diez'])\n",
        "stopwords.extend(['hoy', 'aquí', 'primer', 'lugar', 'primera', 'segunda', 'primero', 'segundo', 'siguiente', 'tercer'])\n",
        "stopwords.extend(['convergencia', 'esquerra', 'republicana', 'grupo', 'parlamentaria', 'parlamentario', 'partido'])\n",
        "stopwords.extend(['enmienda', 'votación', 'favor', 'abstención', 'ley', 'real', 'decreto', 'decretoley', 'resultado', 'voto', 'sé' ,'sí', 'silencio' ,'favor'])\n",
        "stopwords.extend(['usted', 'señoría', 'presidente', 'presidenta', 'ministro', 'orden' , 'día', 'palabra', 'petición', 'posición', 'punto', 'vista', 'sesión', 'baldoví', 'duran', 'turno'])\n",
        "stopwords.extend(['hacer', 'frente', 'puede' ,'ser', 'va', 'voy', 'decir'])\n",
        "stopwords.extend(['millón', 'euro', 'emitido', 'efectuada', 'dio', 'comienzo', 'partido', 'queda', 'quedan', 'rechazada', 'aceptada', 'comienza', 'usted', 'sabe', 'abstención', 'diputado', 'gobierno'])\n",
        "stopwords.extend(['continuación', 'votamos', 'telemático', 'republicanaizquierda', 'unidainiciativa', 'puede', 'bien', 'propuesta' ,'abstencion', 'mayoría', 'absoluta', 'pregunta', 'don', 'vamos', 'votar', 'llevar', 'cabo', 'millón', 'muchas', 'gracias'])\n",
        "stopwords.extend(['podemosen', 'podemen', 'ministro', 'ministra', 'ss', 'ruego', 'aprobado', 'aprobada'])\n",
        "stopwords.extend(['diputado', 'diputada', 'don', 'doña', 'vicepresidenta', 'sagastizab', 'unzetabarrenetxea', 'agirretxea', 'urresti', 'escrutinio', 'dijo', 'dice', 'quevedo'])\n",
        "stopwords.extend(['campuzano', 'beitialarrangoitia', 'gonzalezmoro', 'mixto'])"
      ],
      "metadata": {
        "id": "D34MOjAhUx_a"
      },
      "execution_count": 4,
      "outputs": []
    },
    {
      "cell_type": "code",
      "source": [
        "# Se incorporan los nombres de los oradores como stopwords\n",
        "from collections import Counter\n",
        "nombres=[]\n",
        "for i in base.namey.unique().tolist(): nombres.extend(str(i).split(' '))\n",
        "nombres = [x.strip(' ') for x in nombres]\n",
        "nombres = [x.strip(' †') for x in nombres]\n",
        "nombres = [x.strip(',') for x in nombres]\n",
        "nombres=list(Counter(nombres))\n",
        "nombres.remove('')"
      ],
      "metadata": {
        "id": "yRV1LnZ51Z8_"
      },
      "execution_count": 5,
      "outputs": []
    },
    {
      "cell_type": "code",
      "source": [
        "stopwords.extend(nombres)"
      ],
      "metadata": {
        "id": "h_aUXBkoJTLY"
      },
      "execution_count": 6,
      "outputs": []
    },
    {
      "cell_type": "code",
      "source": [
        "partidos=pd.read_csv('/content/drive/MyDrive/partidos.csv', encoding='latin1', sep=';')"
      ],
      "metadata": {
        "id": "gVO9-cRc2C2h"
      },
      "execution_count": 7,
      "outputs": []
    },
    {
      "cell_type": "code",
      "source": [
        "for x in partidos['nombre'].unique(): \n",
        "  a=str(x).rstrip(' ')\n",
        "  stopwords.extend(str(a).split())\n",
        "  stopwords.extend(a)\n",
        "\n",
        "for x in partidos['1'].unique():\n",
        "  a=str(x).rstrip(' ')\n",
        "  stopwords.extend(a.split())\n",
        "  stopwords.extend(a)\n",
        "\n",
        "for x in partidos['2'].unique(): \n",
        "  a=str(x).rstrip(' ')\n",
        "  stopwords.extend(a.split())\n",
        "  stopwords.extend(a)\n",
        "\n",
        "for x in partidos['3'].unique(): \n",
        "  a=str(x).rstrip(' ')\n",
        "  stopwords.extend(a.split())\n",
        "  stopwords.extend(a)"
      ],
      "metadata": {
        "id": "JRe_Lrv02rRQ"
      },
      "execution_count": 8,
      "outputs": []
    },
    {
      "cell_type": "code",
      "source": [
        "len(stopwords)"
      ],
      "metadata": {
        "id": "PcvgCNO-OI4Z",
        "outputId": "89d21d26-27c4-4e74-e13a-e7b0a83e70e0",
        "colab": {
          "base_uri": "https://localhost:8080/"
        }
      },
      "execution_count": 9,
      "outputs": [
        {
          "output_type": "execute_result",
          "data": {
            "text/plain": [
              "4481"
            ]
          },
          "metadata": {},
          "execution_count": 9
        }
      ]
    },
    {
      "cell_type": "code",
      "source": [
        "# elimino acentos de los tokens\n",
        "a,b = 'áàéèíóúü','aaeeiouu'\n",
        "trans = str.maketrans(a,b)\n",
        "list = []\n",
        "for row in base.values:\n",
        "    row[20]=row[20].translate(trans)\n",
        "    list.append(row)\n",
        "\n",
        "base = pd.DataFrame(list, columns=base.columns)"
      ],
      "metadata": {
        "id": "6oEIOU9opvUN"
      },
      "execution_count": 10,
      "outputs": []
    },
    {
      "cell_type": "code",
      "source": [
        "# llevo las stopwords a minúsculas y elimino acentos\n",
        "stopwords=[x.lower() for x in stopwords if type(x)==str]\n",
        "stopwords=[x.translate(trans) for x in stopwords if type(x)==str]"
      ],
      "metadata": {
        "id": "wMKKiWt5oZnO"
      },
      "execution_count": 11,
      "outputs": []
    },
    {
      "cell_type": "markdown",
      "source": [
        "# Mencionadas en al menos 10 discursos\n",
        "(spoken in at least 10 unique speaker-session)"
      ],
      "metadata": {
        "id": "niQ8Yz2kYfL8"
      }
    },
    {
      "cell_type": "code",
      "source": [
        "from sklearn.feature_extraction.text import CountVectorizer\n",
        "\n",
        "vect = CountVectorizer(ngram_range=[2,2], stop_words=stopwords , min_df=10)\n",
        "bow = vect.fit_transform(base['tokens'])"
      ],
      "metadata": {
        "id": "wIkH9CBhZE6m",
        "outputId": "b1c57a83-d300-4992-c3c2-70406bf7ae8d",
        "colab": {
          "base_uri": "https://localhost:8080/"
        }
      },
      "execution_count": 12,
      "outputs": [
        {
          "output_type": "stream",
          "name": "stderr",
          "text": [
            "/usr/local/lib/python3.8/dist-packages/sklearn/feature_extraction/text.py:396: UserWarning: Your stop_words may be inconsistent with your preprocessing. Tokenizing the stop words generated tokens ['ahuja', 'alcañiz', 'amor', 'arreciado', 'barcena', 'barnuevo', 'capel', 'capitan', 'cascos', 'castejon', 'cienfuegos', 'compromis', 'congr', 'escandon', 'estefani', 'figueroa', 'fortun', 'hickman', 'huarte', 'jeltzalea', 'jovellanos', 'lasquetty', 'latorre', 'legaz', 'lersundi', 'llin', 'machuca', 'maillo', 'mancisidor', 'margallo', 'maribona', 'marlaska', 'medel', 'menchero', 'mendicoa', 'na', 'olivares', 'patxi', 'peces', 'pedrero', 'pinilla', 'piñero', 'ponga', 'pujalte', 'salmones', 'santesmases', 'sito', 'soro', 'sotelo', 'tagle', 'tesorero', 'tizon', 'toledano', 'torrecilla', 'trevijano', 'valdecasas', 'valdes', 'vargas', 'villaseñor', 'ximo', 'yañez'] not in stop_words.\n",
            "  warnings.warn(\n"
          ]
        }
      ]
    },
    {
      "cell_type": "code",
      "source": [
        "total_features = len(vect.vocabulary_)"
      ],
      "metadata": {
        "id": "mckvFlWih2bu"
      },
      "execution_count": 13,
      "outputs": []
    },
    {
      "cell_type": "markdown",
      "source": [
        "# Mencionadas al menos 100 veces en total\n",
        "(spoken at least 100 times across al sessions)"
      ],
      "metadata": {
        "id": "7hQBT61Eh3Lw"
      }
    },
    {
      "cell_type": "code",
      "source": [
        "new_voc={}\n",
        "for token in vect.vocabulary_: \n",
        "  if vect.vocabulary_[token]>100:\n",
        "    new_voc[token]=vect.vocabulary_[token]"
      ],
      "metadata": {
        "id": "GVsuZbfyd8OJ"
      },
      "execution_count": 14,
      "outputs": []
    },
    {
      "cell_type": "code",
      "source": [
        "len(new_voc)"
      ],
      "metadata": {
        "id": "r2-2-d6_hr-_",
        "outputId": "44b72dbe-f885-4c36-b84f-5d21362cc41a",
        "colab": {
          "base_uri": "https://localhost:8080/"
        }
      },
      "execution_count": 15,
      "outputs": [
        {
          "output_type": "execute_result",
          "data": {
            "text/plain": [
              "270231"
            ]
          },
          "metadata": {},
          "execution_count": 15
        }
      ]
    },
    {
      "cell_type": "markdown",
      "source": [
        "# Mencionadas al menos 10 veces en un día\n",
        "(spoken at least 10 times in at least one session)"
      ],
      "metadata": {
        "id": "q5idatwOQz8B"
      }
    },
    {
      "cell_type": "code",
      "source": [
        "# Gentzkow et.al. usan mencionadas al menos 10 veces en una \"sesión\". Acá se usa mencionadas al menos 10 veces en un \"día\". \n",
        "\n",
        "new_voc2={}\n",
        "vect = CountVectorizer(ngram_range=[2,2], stop_words=stopwords)\n",
        "for x in base.fecha.unique(): \n",
        "  base_dia=base[pd.DatetimeIndex(base.fecha)==x]\n",
        "  try: \n",
        "    bow = vect.fit_transform(base_dia['tokens'])\n",
        "    for token in vect.vocabulary_: \n",
        "      if vect.vocabulary_[token]>10:\n",
        "        new_voc2[token]=vect.vocabulary_[token]\n",
        "  except: pass"
      ],
      "metadata": {
        "id": "t99_S7tOQ1QB"
      },
      "execution_count": 16,
      "outputs": []
    },
    {
      "cell_type": "code",
      "source": [
        "len(new_voc2)"
      ],
      "metadata": {
        "id": "ag7htFVFmJl4",
        "outputId": "554e6725-4c9a-478e-ea1d-b4d156a31a32",
        "colab": {
          "base_uri": "https://localhost:8080/"
        }
      },
      "execution_count": 17,
      "outputs": [
        {
          "output_type": "execute_result",
          "data": {
            "text/plain": [
              "7719234"
            ]
          },
          "metadata": {},
          "execution_count": 17
        }
      ]
    },
    {
      "cell_type": "markdown",
      "source": [
        "# Combinación"
      ],
      "metadata": {
        "id": "lT1yqy_YZv_r"
      }
    },
    {
      "cell_type": "code",
      "source": [
        "inter=set(new_voc2).intersection(new_voc)"
      ],
      "metadata": {
        "id": "EOKJYrc1b538"
      },
      "execution_count": 18,
      "outputs": []
    },
    {
      "cell_type": "code",
      "source": [
        "vect = CountVectorizer(ngram_range=[2,2], stop_words=stopwords ,vocabulary=inter)\n",
        "bow = vect.fit_transform(base['tokens'])\n",
        "total_features = len(vect.vocabulary_)"
      ],
      "metadata": {
        "id": "pWPzVsZqZyuZ"
      },
      "execution_count": 19,
      "outputs": []
    },
    {
      "cell_type": "code",
      "source": [
        "# La intersección genera un vocabulario de apenas 814 bigramas. \n",
        "total_features"
      ],
      "metadata": {
        "id": "2Xdq8tNmah0y",
        "outputId": "6c82c30f-09f6-4827-f9f7-ee7677032682",
        "colab": {
          "base_uri": "https://localhost:8080/"
        }
      },
      "execution_count": 20,
      "outputs": [
        {
          "output_type": "execute_result",
          "data": {
            "text/plain": [
              "270230"
            ]
          },
          "metadata": {},
          "execution_count": 20
        }
      ]
    },
    {
      "cell_type": "code",
      "source": [
        "matrix = bow"
      ],
      "metadata": {
        "id": "x63AW_utluu4"
      },
      "execution_count": 21,
      "outputs": []
    },
    {
      "cell_type": "markdown",
      "source": [
        "# LDA con 10 clusters"
      ],
      "metadata": {
        "id": "cUPM4dCzG-lY"
      }
    },
    {
      "cell_type": "code",
      "source": [
        "# Acá hay un problema porque se sigue usando 10 clusters cuando en realidad habría que chequear el número óptimo de clusters una vez definida la cantidad de bigramas a utilizar. \n",
        "# Sin embargo, Text as data dice que el número de clústers es generalmente arbitrario, y recomienda arrancar probando con 10. \n",
        "from sklearn.decomposition import LatentDirichletAllocation\n",
        "lda = LatentDirichletAllocation(n_components=10, max_iter=15, learning_method='batch', learning_offset=50.,random_state=0)     "
      ],
      "metadata": {
        "id": "F-6Mmsh8HQLm"
      },
      "execution_count": 22,
      "outputs": []
    },
    {
      "cell_type": "code",
      "source": [
        "lda.fit(matrix)"
      ],
      "metadata": {
        "id": "KMXpBy7-Hn0m",
        "colab": {
          "base_uri": "https://localhost:8080/"
        },
        "outputId": "42a3ab14-36bc-4b32-f332-84859bf2e1f0"
      },
      "execution_count": 23,
      "outputs": [
        {
          "output_type": "execute_result",
          "data": {
            "text/plain": [
              "LatentDirichletAllocation(learning_offset=50.0, max_iter=15, random_state=0)"
            ]
          },
          "metadata": {},
          "execution_count": 23
        }
      ]
    },
    {
      "cell_type": "code",
      "source": [
        "def display_topics(model, feature_names, no_top_words):\n",
        "    for topic_idx, topic in enumerate(model.components_):\n",
        "        print(\"Topic %d:\" % (topic_idx + 1))\n",
        "        print(\" , \".join([feature_names[i] for i in topic.argsort()[:-no_top_words - 1:-1]]))"
      ],
      "metadata": {
        "id": "b3BMGoEaHrEt"
      },
      "execution_count": 24,
      "outputs": []
    },
    {
      "cell_type": "code",
      "source": [
        "display_topics(lda, feature_names=vect.get_feature_names_out(), no_top_words=20)"
      ],
      "metadata": {
        "id": "cJxdkzWzHsWi",
        "colab": {
          "base_uri": "https://localhost:8080/"
        },
        "outputId": "cee304fe-5e3f-420e-dad1-f8550d6e43e9"
      },
      "execution_count": 25,
      "outputs": [
        {
          "output_type": "stream",
          "name": "stdout",
          "text": [
            "Topic 1:\n",
            "guardia civil , comision investigacion , medio comunicacion , cuerpo seguridad , ministerio interior , fuerza cuerpo , asunto exterior , responsabilidad politica , ministerio asunto , fuerza seguridad , seguridad vial , policia guardia , opinion publica , cualquier caso , policia nacion , ministerio cultura , cuerpo nacion , nacion policia , relacion cort , proteccion civil\n",
            "Topic 2:\n",
            "comunidad autonoma , tribun constitucion , articulo constitucion , codigo penal , estatuto autonomia , disposicion adicion , exposicion motivo , ordenamiento juridico , corporacion local , toma consideracion , sentencia tribun , administracion publica , cort general , poder publico , hace referencia , texto alternativo , seguridad juridica , consideracion proposicion , disposicion transitoria , competencia comunidad\n",
            "Topic 3:\n",
            "poder judici , administracion publica , consejo poder , funcion publica , fuerza armada , administracion justicia , sistema nacion , nacion salud , comunidad autonoma , formacion profesion , servicio publico , tribun supremo , puesto trabajo , ministerio justicia , organica poder , ministerio sanidad , sanidad consumo , servicio militar , asistencia sanitaria , ministerio fiscal\n",
            "Topic 4:\n",
            "impuesto renta , empresa publica , sector publico , economia hacienda , persona fisica , agencia tributaria , renta persona , fraud fiscal , impuesto sociedad , puesto trabajo , salario minimo , reforma labor , tribun cuenta , lucha fraud , tipo intere , reforma fiscal , presion fiscal , hombr mujer , hace falta , sistema fiscal\n",
            "Topic 5:\n",
            "comunidad autonoma , servicio publico , comision europea , puesto marcha , alta velocidad , unido podemo , investigacion desarrollo , energia renov , puesta marcha , politica industri , confeder unido , consejo europeo , cambio climatico , sociedad informacion , turismo comercio , poner marcha , ministerio industria , puesto trabajo , crisi economica , politica energetica\n",
            "Topic 6:\n",
            "sistema educativo , vaya concluyendo , comunidad autonoma , ministerio educacion , formacion profesion , educacion ciencia , credito extraordinario , cultura deport , sector agrario , politica vivienda , alta velocidad , comision nacion , educacion cultura , mercado valor , plan vivienda , vivienda protegida , politica agraria , nacion mercado , vivienda alquil , consejo universidad\n",
            "Topic 7:\n",
            "comunidad autonoma , medio ambient , obra publica , comunidad economica , economica europea , presupuesto general , plan hidrologico , ministerio medio , congreso formula , hidrologico nacion , pesca alimentacion , ministerio agricultura , agricultura pesca , ceuta melilla , plan nacion , medio rural , administracion central , dominio publico , ministerio obra , junta andalucia\n",
            "Topic 8:\n",
            "politica economica , deficit publico , gasto publico , creacion empleo , presupuesto general , comunidad autonoma , administracion publica , crecimiento economico , deuda publica , interior bruto , producto interior , estabilidad presupuestaria , pequeña mediana , crisi economica , mediana empresa , puesto trabajo , tipo intere , sector publico , politica fiscal , poder adquisitivo\n",
            "Topic 9:\n",
            "dictamen comision , toma consideracion , interpelacion urgent , minoria catalana , numero formula , consideracion proposicion , consecuencia interpelacion , desean fijar , mocion consecuencia , violencia genero , junta portavoc , senado proyecto , texto dictamen , articulo reglamento , proyecto organica , disposicion adicion , tribun cuenta , defensa presentada , debat totalidad , acuerdo dictamen\n",
            "Topic 10:\n",
            "politica exterior , derecho humano , consejo europeo , fuerza politica , opinion publica , asunto exterior , parlamento europeo , consejo seguridad , quiero decirl , comunidad internacion , llegar acuerdo , mismo tiempo , duda alguna , hecho referencia , cualquier caso , comunidad europea , reino unido , construccion europea , ningun tipo , hace falta\n"
          ]
        }
      ]
    },
    {
      "cell_type": "markdown",
      "source": [
        "# LASSO por legislatura"
      ],
      "metadata": {
        "id": "8-gb-mEnBIzT"
      }
    },
    {
      "cell_type": "code",
      "source": [
        "from tabulate import tabulate\n",
        "from sklearn.linear_model import LogisticRegression\n",
        "from sklearn.metrics import confusion_matrix,classification_report\n",
        "import numpy as np\n",
        "from numpy import argsort\n",
        "import statistics\n",
        "from statistics import mode\n",
        "from scipy.special import logsumexp\n",
        "import scipy as sp"
      ],
      "metadata": {
        "id": "vhDOUIZfBKmy"
      },
      "execution_count": null,
      "outputs": []
    },
    {
      "cell_type": "code",
      "source": [
        "def frex(mod, w=0.7):\n",
        "    log_beta = np.log(mod.components_)\n",
        "    log_exclusivity = log_beta - logsumexp(log_beta, axis=0)\n",
        "    exclusivity_ecdf = np.apply_along_axis(ecdf, 1, log_exclusivity)\n",
        "    freq_ecdf = np.apply_along_axis(ecdf, 1, log_beta)\n",
        "    out = 1. / (w / exclusivity_ecdf + (1 - w) / freq_ecdf)\n",
        "    return out\n",
        "\n",
        "def ecdf(arr):\n",
        "    return sp.stats.rankdata(arr, method='max') / arr.size"
      ],
      "metadata": {
        "id": "81XlFaANB8kB"
      },
      "execution_count": null,
      "outputs": []
    },
    {
      "cell_type": "code",
      "source": [
        "frex_df=pd.DataFrame(frex(lda))"
      ],
      "metadata": {
        "id": "ULyGkadGCBjd"
      },
      "execution_count": null,
      "outputs": []
    },
    {
      "cell_type": "code",
      "source": [
        "# Topic que presenta mayor FREX para cada bigrama\n",
        "d = []\n",
        "feature_names=vect.get_feature_names_out()\n",
        "for n in enumerate(feature_names):\n",
        "    d.append(\n",
        "        {\n",
        "            'N': n[0],\n",
        "            'Bigrama': n[1],\n",
        "            'Topic':  frex_df[n[0]].argsort()[9]\n",
        "        }\n",
        "    )\n",
        "\n",
        "bi_topic_frex=pd.DataFrame(d)\n",
        "bi_topic_frex.head(20)"
      ],
      "metadata": {
        "id": "bxUhi6ifBuiB",
        "outputId": "a50a4780-0160-435c-8a32-1661b3f98ce0",
        "colab": {
          "base_uri": "https://localhost:8080/",
          "height": 677
        }
      },
      "execution_count": null,
      "outputs": [
        {
          "output_type": "execute_result",
          "data": {
            "text/plain": [
              "     N              Bigrama  Topic\n",
              "0    0  abierto competitivo      9\n",
              "1    1    abierto comunidad      1\n",
              "2    2     abierto consenso      0\n",
              "3    3   abierto considerar      6\n",
              "4    4    abierto cualquier      2\n",
              "5    5        abierto debat      8\n",
              "6    6     abierto dialogar      0\n",
              "7    7      abierto dialogo      9\n",
              "8    8        abierto dicho      0\n",
              "9    9    abierto discusion      9\n",
              "10  10     abierto discutir      7\n",
              "11  11         abierto ello      7\n",
              "12  12     abierto estudiar      8\n",
              "13  13        abierto etapa      1\n",
              "14  14      abierto europea      7\n",
              "15  15    abierto expedient      5\n",
              "16  16     abierto exterior      1\n",
              "17  17        abierto firma      1\n",
              "18  18      abierto flexibl      6\n",
              "19  19         abierto gran      8"
            ],
            "text/html": [
              "\n",
              "  <div id=\"df-fc6aae92-9ad2-4fe5-bfa5-a18fcbbaa5b9\">\n",
              "    <div class=\"colab-df-container\">\n",
              "      <div>\n",
              "<style scoped>\n",
              "    .dataframe tbody tr th:only-of-type {\n",
              "        vertical-align: middle;\n",
              "    }\n",
              "\n",
              "    .dataframe tbody tr th {\n",
              "        vertical-align: top;\n",
              "    }\n",
              "\n",
              "    .dataframe thead th {\n",
              "        text-align: right;\n",
              "    }\n",
              "</style>\n",
              "<table border=\"1\" class=\"dataframe\">\n",
              "  <thead>\n",
              "    <tr style=\"text-align: right;\">\n",
              "      <th></th>\n",
              "      <th>N</th>\n",
              "      <th>Bigrama</th>\n",
              "      <th>Topic</th>\n",
              "    </tr>\n",
              "  </thead>\n",
              "  <tbody>\n",
              "    <tr>\n",
              "      <th>0</th>\n",
              "      <td>0</td>\n",
              "      <td>abierto competitivo</td>\n",
              "      <td>9</td>\n",
              "    </tr>\n",
              "    <tr>\n",
              "      <th>1</th>\n",
              "      <td>1</td>\n",
              "      <td>abierto comunidad</td>\n",
              "      <td>1</td>\n",
              "    </tr>\n",
              "    <tr>\n",
              "      <th>2</th>\n",
              "      <td>2</td>\n",
              "      <td>abierto consenso</td>\n",
              "      <td>0</td>\n",
              "    </tr>\n",
              "    <tr>\n",
              "      <th>3</th>\n",
              "      <td>3</td>\n",
              "      <td>abierto considerar</td>\n",
              "      <td>6</td>\n",
              "    </tr>\n",
              "    <tr>\n",
              "      <th>4</th>\n",
              "      <td>4</td>\n",
              "      <td>abierto cualquier</td>\n",
              "      <td>2</td>\n",
              "    </tr>\n",
              "    <tr>\n",
              "      <th>5</th>\n",
              "      <td>5</td>\n",
              "      <td>abierto debat</td>\n",
              "      <td>8</td>\n",
              "    </tr>\n",
              "    <tr>\n",
              "      <th>6</th>\n",
              "      <td>6</td>\n",
              "      <td>abierto dialogar</td>\n",
              "      <td>0</td>\n",
              "    </tr>\n",
              "    <tr>\n",
              "      <th>7</th>\n",
              "      <td>7</td>\n",
              "      <td>abierto dialogo</td>\n",
              "      <td>9</td>\n",
              "    </tr>\n",
              "    <tr>\n",
              "      <th>8</th>\n",
              "      <td>8</td>\n",
              "      <td>abierto dicho</td>\n",
              "      <td>0</td>\n",
              "    </tr>\n",
              "    <tr>\n",
              "      <th>9</th>\n",
              "      <td>9</td>\n",
              "      <td>abierto discusion</td>\n",
              "      <td>9</td>\n",
              "    </tr>\n",
              "    <tr>\n",
              "      <th>10</th>\n",
              "      <td>10</td>\n",
              "      <td>abierto discutir</td>\n",
              "      <td>7</td>\n",
              "    </tr>\n",
              "    <tr>\n",
              "      <th>11</th>\n",
              "      <td>11</td>\n",
              "      <td>abierto ello</td>\n",
              "      <td>7</td>\n",
              "    </tr>\n",
              "    <tr>\n",
              "      <th>12</th>\n",
              "      <td>12</td>\n",
              "      <td>abierto estudiar</td>\n",
              "      <td>8</td>\n",
              "    </tr>\n",
              "    <tr>\n",
              "      <th>13</th>\n",
              "      <td>13</td>\n",
              "      <td>abierto etapa</td>\n",
              "      <td>1</td>\n",
              "    </tr>\n",
              "    <tr>\n",
              "      <th>14</th>\n",
              "      <td>14</td>\n",
              "      <td>abierto europea</td>\n",
              "      <td>7</td>\n",
              "    </tr>\n",
              "    <tr>\n",
              "      <th>15</th>\n",
              "      <td>15</td>\n",
              "      <td>abierto expedient</td>\n",
              "      <td>5</td>\n",
              "    </tr>\n",
              "    <tr>\n",
              "      <th>16</th>\n",
              "      <td>16</td>\n",
              "      <td>abierto exterior</td>\n",
              "      <td>1</td>\n",
              "    </tr>\n",
              "    <tr>\n",
              "      <th>17</th>\n",
              "      <td>17</td>\n",
              "      <td>abierto firma</td>\n",
              "      <td>1</td>\n",
              "    </tr>\n",
              "    <tr>\n",
              "      <th>18</th>\n",
              "      <td>18</td>\n",
              "      <td>abierto flexibl</td>\n",
              "      <td>6</td>\n",
              "    </tr>\n",
              "    <tr>\n",
              "      <th>19</th>\n",
              "      <td>19</td>\n",
              "      <td>abierto gran</td>\n",
              "      <td>8</td>\n",
              "    </tr>\n",
              "  </tbody>\n",
              "</table>\n",
              "</div>\n",
              "      <button class=\"colab-df-convert\" onclick=\"convertToInteractive('df-fc6aae92-9ad2-4fe5-bfa5-a18fcbbaa5b9')\"\n",
              "              title=\"Convert this dataframe to an interactive table.\"\n",
              "              style=\"display:none;\">\n",
              "        \n",
              "  <svg xmlns=\"http://www.w3.org/2000/svg\" height=\"24px\"viewBox=\"0 0 24 24\"\n",
              "       width=\"24px\">\n",
              "    <path d=\"M0 0h24v24H0V0z\" fill=\"none\"/>\n",
              "    <path d=\"M18.56 5.44l.94 2.06.94-2.06 2.06-.94-2.06-.94-.94-2.06-.94 2.06-2.06.94zm-11 1L8.5 8.5l.94-2.06 2.06-.94-2.06-.94L8.5 2.5l-.94 2.06-2.06.94zm10 10l.94 2.06.94-2.06 2.06-.94-2.06-.94-.94-2.06-.94 2.06-2.06.94z\"/><path d=\"M17.41 7.96l-1.37-1.37c-.4-.4-.92-.59-1.43-.59-.52 0-1.04.2-1.43.59L10.3 9.45l-7.72 7.72c-.78.78-.78 2.05 0 2.83L4 21.41c.39.39.9.59 1.41.59.51 0 1.02-.2 1.41-.59l7.78-7.78 2.81-2.81c.8-.78.8-2.07 0-2.86zM5.41 20L4 18.59l7.72-7.72 1.47 1.35L5.41 20z\"/>\n",
              "  </svg>\n",
              "      </button>\n",
              "      \n",
              "  <style>\n",
              "    .colab-df-container {\n",
              "      display:flex;\n",
              "      flex-wrap:wrap;\n",
              "      gap: 12px;\n",
              "    }\n",
              "\n",
              "    .colab-df-convert {\n",
              "      background-color: #E8F0FE;\n",
              "      border: none;\n",
              "      border-radius: 50%;\n",
              "      cursor: pointer;\n",
              "      display: none;\n",
              "      fill: #1967D2;\n",
              "      height: 32px;\n",
              "      padding: 0 0 0 0;\n",
              "      width: 32px;\n",
              "    }\n",
              "\n",
              "    .colab-df-convert:hover {\n",
              "      background-color: #E2EBFA;\n",
              "      box-shadow: 0px 1px 2px rgba(60, 64, 67, 0.3), 0px 1px 3px 1px rgba(60, 64, 67, 0.15);\n",
              "      fill: #174EA6;\n",
              "    }\n",
              "\n",
              "    [theme=dark] .colab-df-convert {\n",
              "      background-color: #3B4455;\n",
              "      fill: #D2E3FC;\n",
              "    }\n",
              "\n",
              "    [theme=dark] .colab-df-convert:hover {\n",
              "      background-color: #434B5C;\n",
              "      box-shadow: 0px 1px 3px 1px rgba(0, 0, 0, 0.15);\n",
              "      filter: drop-shadow(0px 1px 2px rgba(0, 0, 0, 0.3));\n",
              "      fill: #FFFFFF;\n",
              "    }\n",
              "  </style>\n",
              "\n",
              "      <script>\n",
              "        const buttonEl =\n",
              "          document.querySelector('#df-fc6aae92-9ad2-4fe5-bfa5-a18fcbbaa5b9 button.colab-df-convert');\n",
              "        buttonEl.style.display =\n",
              "          google.colab.kernel.accessAllowed ? 'block' : 'none';\n",
              "\n",
              "        async function convertToInteractive(key) {\n",
              "          const element = document.querySelector('#df-fc6aae92-9ad2-4fe5-bfa5-a18fcbbaa5b9');\n",
              "          const dataTable =\n",
              "            await google.colab.kernel.invokeFunction('convertToInteractive',\n",
              "                                                     [key], {});\n",
              "          if (!dataTable) return;\n",
              "\n",
              "          const docLinkHtml = 'Like what you see? Visit the ' +\n",
              "            '<a target=\"_blank\" href=https://colab.research.google.com/notebooks/data_table.ipynb>data table notebook</a>'\n",
              "            + ' to learn more about interactive tables.';\n",
              "          element.innerHTML = '';\n",
              "          dataTable['output_type'] = 'display_data';\n",
              "          await google.colab.output.renderOutput(dataTable, element);\n",
              "          const docLink = document.createElement('div');\n",
              "          docLink.innerHTML = docLinkHtml;\n",
              "          element.appendChild(docLink);\n",
              "        }\n",
              "      </script>\n",
              "    </div>\n",
              "  </div>\n",
              "  "
            ]
          },
          "metadata": {},
          "execution_count": 31
        }
      ]
    },
    {
      "cell_type": "code",
      "source": [
        "# Relevancia de bigramas en la predicción por legislatura\n",
        "from sklearn.model_selection import train_test_split\n",
        "from sklearn.metrics import f1_score\n",
        "\n",
        "tabla=[]\n",
        "legislaturas=['I', 'II', 'III', 'IV', 'V', 'VI', 'VII','VIII', 'IX', 'X', 'XI', 'XII','XIII']\n",
        "n=5\n",
        "\n",
        "macro=[]\n",
        "weighted=[]\n",
        "\n",
        "lr = LogisticRegression(penalty='l1', max_iter=50, solver='liblinear')\n",
        "cv=CountVectorizer(ngram_range=[2,2], stop_words=stopwords ,vocabulary=inter)\n",
        "\n",
        "for x in legislaturas: \n",
        "  try: \n",
        "    base_year=base[base.legislatura==x]\n",
        "    X_train, X_test, y_train, y_test = train_test_split(base_year.loc[:, base_year.columns != 'party'], base_year['party'], test_size=0.33, random_state=42)\n",
        "    train_matrix = vect.fit_transform(X_train['tokens'])\n",
        "    test_matrix = vect.transform(X_test['tokens'])  \n",
        "    lr.fit(train_matrix,y_train)\n",
        "    predictions = lr.predict(test_matrix )\n",
        "    macro.append(f1_score(predictions,y_test, average='macro'))\n",
        "    weighted.append(f1_score(predictions,y_test, average='weighted'))\n",
        "    s=lr.coef_[0]\n",
        "    print(f\"Legislatura: {x} - Most Frecuent Topic: {mode(bi_topic_frex['Topic'][argsort(s)])}\")\n",
        "    print(tabulate([cv.get_feature_names_out()[argsort(s)[:n]], sorted(s)[:n],bi_topic_frex['Topic'][argsort(s)[:n]],cv.get_feature_names_out()[argsort(s)[-n:]], sorted(s)[-n:],  bi_topic_frex['Topic'][argsort(s)[-n:]]], tablefmt='pretty'))\n",
        "  except: \n",
        "    macro.append(np.nan)\n",
        "    weighted.append(np.nan)    "
      ],
      "metadata": {
        "id": "M6Sh3m9EBRBW",
        "outputId": "72df511a-724a-4ae6-c95d-b0ea14b8cfba",
        "colab": {
          "base_uri": "https://localhost:8080/"
        }
      },
      "execution_count": null,
      "outputs": [
        {
          "output_type": "stream",
          "name": "stdout",
          "text": [
            "Legislatura: I - Most Frecuent Topic: 8\n",
            "+--------------------+--------------------+---------------------+---------------------+--------------------+\n",
            "|  nombr centrista   |    duda ninguna    | articulo mantenida  |  libertad libertad  |   articulo pausa   |\n",
            "| -3.549276404572062 | -3.527940415756376 | -2.8903444535964598 | -2.8042904769329446 | -2.649982807935666 |\n",
            "|         1          |         7          |          4          |          0          |         4          |\n",
            "| formacion politica |   cualquier caso   | solucionar problema |    reunion junta    |   pasamo examen    |\n",
            "| 2.173631617023642  | 2.1872960026471904 | 2.2613183146291282  |  2.570740837867983  | 2.7548127978897994 |\n",
            "|         8          |         5          |          7          |          4          |         6          |\n",
            "+--------------------+--------------------+---------------------+---------------------+--------------------+\n",
            "Legislatura: II - Most Frecuent Topic: 8\n",
            "+---------------------+--------------------+--------------------+----------------------------+---------------------+\n",
            "|   retirar numero    |   pido cuestion    |     pre sident     | consecuencia transferencia |  precio carburant   |\n",
            "| -3.8599297551948584 | -3.414014686680768 | -3.082018038897371 |     -2.955848253403986     | -2.6386547526942414 |\n",
            "|          0          |         4          |         7          |             6              |          3          |\n",
            "|  atengas cuestion   |  acuerdo dictamen  |   articulo pausa   |       tiempo minuto        |   vaya terminando   |\n",
            "|  2.587834963384034  | 2.611283155349637  | 2.7691755808351206 |     2.8930252283671987     |  3.504586622955237  |\n",
            "|          0          |         4          |         4          |             7              |          8          |\n",
            "+---------------------+--------------------+--------------------+----------------------------+---------------------+\n",
            "Legislatura: III - Most Frecuent Topic: 8\n",
            "+--------------------+---------------------+---------------------+-------------------------+---------------------+\n",
            "|  terminar refier   | rogaria presidencia |   pedimo separada   | funcionario pensionista |  solicito separada  |\n",
            "| -3.510875702758788 | -3.375314739630591  | -3.2961040345294568 |   -3.2437114147345656   | -3.2384036554123607 |\n",
            "|         1          |          5          |          6          |            3            |          6          |\n",
            "| dictamen comision  |    sube tribuna     |     duda alguna     |   agrupacion catalana   |    puesto marcha    |\n",
            "| 2.053359667509565  | 2.2244480516890386  | 2.2257806721953344  |    2.283903140320862    |  2.316853871798849  |\n",
            "|         4          |          8          |          9          |            2            |          2          |\n",
            "+--------------------+---------------------+---------------------+-------------------------+---------------------+\n",
            "Legislatura: IV - Most Frecuent Topic: 8\n",
            "+--------------------+----------------------+---------------------+-------------------------+---------------------+\n",
            "|   pedir separada   | solicitaria separada | hecho absolutament  |    solicito separada    |  solicita separada  |\n",
            "| -4.341204800199035 |  -4.29690590527807   | -3.8175649647962393 |   -3.783847100754209    | -3.7525991334356434 |\n",
            "|         0          |          7           |          8          |            6            |          2          |\n",
            "|   quiero indicar   | apartado disposicion |   mejor condicion   | conjunto administracion |   linea actuacion   |\n",
            "| 2.4798978668302167 |  2.553174460811344   | 2.6877412534445364  |    2.729433494609271    |  2.744247680002166  |\n",
            "|         2          |          4           |          1          |            2            |          5          |\n",
            "+--------------------+----------------------+---------------------+-------------------------+---------------------+\n",
            "Legislatura: V - Most Frecuent Topic: 8\n",
            "+--------------------+--------------------+---------------------+---------------------+-----------------------+\n",
            "|  convenir conmigo  | solicito separada  | planteando cuestion |      hace casi      | termino inmediatament |\n",
            "| -4.081692282651469 | -3.532825528810987 | -3.450991718828348  | -3.3684119973940825 |   -3.32374114527453   |\n",
            "|         7          |         6          |          8          |          9          |           1           |\n",
            "|    deseen fijar    | politico economico |  vaya concluyendo   |    recordar ssss    |   congreso formula    |\n",
            "| 2.2031095255666844 | 2.2878399507168843 |  2.486610668117454  | 2.5219237319362873  |   4.30197187978588    |\n",
            "|         1          |         1          |          5          |          3          |           8           |\n",
            "+--------------------+--------------------+---------------------+---------------------+-----------------------+\n",
            "Legislatura: VI - Most Frecuent Topic: 8\n",
            "+--------------------+---------------------+---------------------+---------------------+--------------------+\n",
            "| termino resultant  | presentacion nombr  |     nombr feder     | texto interpelacion |   numero formula   |\n",
            "| -3.37741156364991  | -3.1649505639571442 | -2.9185914112694884 | -2.6911066183405787 | -2.621682032672328 |\n",
            "|         4          |          2          |          7          |          7          |         1          |\n",
            "|    pasar debat     | lasagabast defensa  |     deberia ir      |   indicar acepta    |    fijar debat     |\n",
            "| 3.1499749850125283 | 3.2201576368587483  |   3.5728257737419   |  4.257638414115817  | 4.752908366796452  |\n",
            "|         6          |          4          |          8          |          2          |         4          |\n",
            "+--------------------+---------------------+---------------------+---------------------+--------------------+\n",
            "Legislatura: VII - Most Frecuent Topic: 8\n",
            "+---------------------+---------------------+---------------------+----------------------+--------------------+\n",
            "|   numero formula    |  congreso formula   |   quiero agradec    | interpelacion urgent | acuerd celebracion |\n",
            "| -4.4311586315955545 | -2.8965976102459954 | -2.6797822440635883 |  -2.547376819290694  | -2.485933663014468 |\n",
            "|          1          |          8          |          2          |          7           |         5          |\n",
            "|  presentada mocion  |   recort derecho    |  tiempo inspector   |    ir concluyendo    |   cuenta secreta   |\n",
            "|  3.401364945785955  | 3.5028778431537604  |  3.876031550584538  |  3.953145288305846   | 4.373878198007457  |\n",
            "|          7          |          7          |          9          |          7           |         8          |\n",
            "+---------------------+---------------------+---------------------+----------------------+--------------------+\n",
            "Legislatura: VIII - Most Frecuent Topic: 8\n",
            "+--------------------+-----------------------+---------------------+---------------------+-----------------------+\n",
            "|  doy reproducida   |     doy formulada     | ilegalment militant |    pido articulo    | solucion habitacional |\n",
            "| -5.013751435381542 |  -4.452805777652356   | -3.9492270465544372 | -3.4874511885120043 |  -3.3550533259892252  |\n",
            "|         1          |           6           |          8          |          4          |           6           |\n",
            "|  tiempo concluido  | integracion inmigrant |     aria cañet      |  batallon elector   |   turismo comercio    |\n",
            "| 2.2876445995664554 |  2.3322332322820944   | 2.6469273954084183  | 2.7369372446683538  |   2.786650711189854   |\n",
            "|         4          |           7           |          1          |          9          |           5           |\n",
            "+--------------------+-----------------------+---------------------+---------------------+-----------------------+\n",
            "Legislatura: IX - Most Frecuent Topic: 8\n",
            "+--------------------+--------------------+--------------------------+--------------------+--------------------+\n",
            "|   doy formulada    |   derecho saber    | continuamo interpelacion |   subir impuesto   | subvencion empresa |\n",
            "| -4.416587876125937 | -3.923495051401289 |   -3.7194456500830135    | -3.611106797388377 | -3.290114426847133 |\n",
            "|         6          |         8          |            3             |         3          |         5          |\n",
            "| autonoma gobiernan |  turismo comercio  |     poner manifiesto     |   alli gobiernan   | dato criminalidad  |\n",
            "| 2.449955203850876  | 2.497222746144206  |    2.654651012264186     | 3.0074390638722166 | 4.239312624903171  |\n",
            "|         6          |         5          |            0             |         8          |         8          |\n",
            "+--------------------+--------------------+--------------------------+--------------------+--------------------+\n",
            "Legislatura: X - Most Frecuent Topic: 8\n",
            "+---------------------+------------------------+---------------------+---------------------+---------------------+\n",
            "| reforma estructural | declaracion tributaria |  periodo ordinario  |   energia turismo   |  servicio igualdad  |\n",
            "| -3.879415800479447  |   -3.741977971861457   | -2.6660508121767497 | -2.6430636224106627 | -2.6274925897983827 |\n",
            "|          3          |           5            |          9          |          9          |          2          |\n",
            "|   valoracion hace   |     inform dispon      |    excusa crisi     |    doy formulada    |    debe concluir    |\n",
            "| 3.4731169021373485  |    3.6521154053209     | 3.8666299275867186  |  5.243716430463113  |  5.351378045893195  |\n",
            "|          9          |           9            |          7          |          6          |          0          |\n",
            "+---------------------+------------------------+---------------------+---------------------+---------------------+\n",
            "Legislatura: XI - Most Frecuent Topic: 8\n",
            "+--------------------+---------------------+---------------------+---------------------+---------------------+\n",
            "|    cort general    |   puesto trabajo    |   secretaria edad   |   llamado proced    |     alguna sido     |\n",
            "| -2.219136751824599 | -2.0815323763613547 | -1.7669320300315323 | -1.5879622134931584 | -1.5879539112269347 |\n",
            "|         4          |          2          |          4          |          2          |          4          |\n",
            "|      dar paso      |    vota termino     |   directiva agua    | toma consideracion  |  sociedad catalana  |\n",
            "| 0.7144036088109214 | 0.8203623804814956  | 0.9841654229744358  | 1.1126986909046985  | 1.1224398039119827  |\n",
            "|         9          |          0          |          9          |          0          |          8          |\n",
            "+--------------------+---------------------+---------------------+---------------------+---------------------+\n",
            "Legislatura: XII - Most Frecuent Topic: 8\n",
            "+--------------------+--------------------+-----------------------+---------------------+---------------------+\n",
            "|   quieren romper   |  creacion empleo   |   servicio igualdad   | mantenimiento poder | alimentacion medio  |\n",
            "| -3.606058573706617 | -3.222720800658042 |  -2.741824681518154   | -2.5948330979578325 | -2.3795385194173653 |\n",
            "|         8          |         3          |           2           |          2          |          9          |\n",
            "|   ciudadano pai    |  comercio turismo  | universalidad sanidad |    efecto acepta    | europea cooperacion |\n",
            "| 3.1825739017230643 | 3.1935798920476706 |   3.230959837174084   | 3.4477439751128767  | 3.7207863477822296  |\n",
            "|         8          |         5          |           2           |          4          |          1          |\n",
            "+--------------------+--------------------+-----------------------+---------------------+---------------------+\n",
            "Legislatura: XIII - Most Frecuent Topic: 8\n",
            "+---------------------+---------------------+---------------------+---------------------+---------------------+\n",
            "|     forma part      |  haber demostrado   |    adema podemo     |      digo creo      |      hace mese      |\n",
            "| -3.370717334734642  | -2.2140165474835762 | -2.1806392415175395 | -1.9942324869749255 | -1.9878789790985736 |\n",
            "|          9          |          1          |          7          |          8          |          8          |\n",
            "|      doce mese      | politica migratoria |     duda alguna     |    medida urgent    |   confeder podemo   |\n",
            "| 0.35705170075749226 | 0.39467613852488453 | 0.5585755623270988  | 0.7109320832371474  | 0.7501057997951667  |\n",
            "|          7          |          8          |          9          |          2          |          6          |\n",
            "+---------------------+---------------------+---------------------+---------------------+---------------------+\n"
          ]
        }
      ]
    },
    {
      "cell_type": "code",
      "source": [
        "# Yo entiendo que el resultado relevante es el macro, porque considera el desbalance de clases\n",
        "import matplotlib.pyplot as plt\n",
        "plt.plot(legislaturas, macro, marker='o')\n",
        "plt.plot(legislaturas, weighted, marker='+')"
      ],
      "metadata": {
        "id": "Iw40i86R9JeP",
        "outputId": "a9238f76-b37b-46d9-c4e5-f58b8e0e7b86",
        "colab": {
          "base_uri": "https://localhost:8080/",
          "height": 282
        }
      },
      "execution_count": null,
      "outputs": [
        {
          "output_type": "execute_result",
          "data": {
            "text/plain": [
              "[<matplotlib.lines.Line2D at 0x7fb3b2dc3cd0>]"
            ]
          },
          "metadata": {},
          "execution_count": 36
        },
        {
          "output_type": "display_data",
          "data": {
            "text/plain": [
              "<Figure size 432x288 with 1 Axes>"
            ],
            "image/png": "[encoded data removed]"
          },
          "metadata": {
            "needs_background": "light"
          }
        }
      ]
    },
    {
      "cell_type": "markdown",
      "source": [
        "# LASSO por año"
      ],
      "metadata": {
        "id": "OFeJludNFKDc"
      }
    },
    {
      "cell_type": "code",
      "source": [
        "# Relevancia de bigramas en la predicción por año\n",
        "macro=[]\n",
        "weighted=[]\n",
        "tabla=[]\n",
        "\n",
        "nombres=cv.get_feature_names_out()\n",
        "componentes=lda.components_.transpose()\n",
        "n = 5\n",
        "lr = LogisticRegression(penalty='l1', max_iter=1000, solver='liblinear')\n",
        "\n",
        "for x in range (1979, 2020): \n",
        "  try: \n",
        "    base_year=base[pd.DatetimeIndex(base.fecha).year==x]\n",
        "    X_train, X_test, y_train, y_test = train_test_split(base_year.loc[:, base_year.columns != 'party'], base_year['party'], test_size=0.33, random_state=42)\n",
        "    train_matrix = vect.fit_transform(X_train['tokens'])\n",
        "    test_matrix = vect.transform(X_test['tokens'])  \n",
        "    lr.fit(train_matrix,y_train)\n",
        "    predictions = lr.predict(test_matrix )\n",
        "    macro.append(f1_score(predictions,y_test, average='macro'))\n",
        "    weighted.append(f1_score(predictions,y_test, average='weighted'))\n",
        "    s = lr.coef_[0]\n",
        "    print(f\"Año: {x}\")\n",
        "    print(tabulate([cv.get_feature_names_out()[argsort(s)[:n]], sorted(s)[:n],bi_topic_frex['Topic'][argsort(s)[:n]],cv.get_feature_names_out()[argsort(s)[-n:]], sorted(s)[-n:],  bi_topic_frex['Topic'][argsort(s)[-n:]]], tablefmt='pretty'))\n",
        "  except: \n",
        "    macro.append(np.nan)\n",
        "    weighted.append(np.nan)  "
      ],
      "metadata": {
        "id": "iwoTUMp8FMHE",
        "outputId": "3f8ec877-2f9f-4c3f-f35a-244fd2f63179",
        "colab": {
          "base_uri": "https://localhost:8080/"
        }
      },
      "execution_count": null,
      "outputs": [
        {
          "output_type": "stream",
          "name": "stdout",
          "text": [
            "Año: 1979\n",
            "+----------------------+---------------------+---------------------+---------------------+---------------------+\n",
            "|  publicada boletin   |  correspond ahora   |     misma razon     |      quier uso      | ultima intervencion |\n",
            "| -2.5222317804060768  | -2.4847429484345174 | -1.9272200015116672 | -1.7392107850094534 | -1.7297614129418764 |\n",
            "|          0           |          2          |          2          |          4          |          9          |\n",
            "| ministerio educacion |  orador precedido   |     ningun tipo     | ministerio hacienda | formacion politica  |\n",
            "|  0.9633499478985179  | 1.0045817961668109  | 1.0456324338784133  |  1.190383393445428  | 1.9685748153989335  |\n",
            "|          6           |          5          |          7          |          5          |          8          |\n",
            "+----------------------+---------------------+---------------------+---------------------+---------------------+\n",
            "Año: 1980\n",
            "+---------------------+----------------------+---------------------+---------------------+---------------------+\n",
            "|   articulo pausa    |  publicada boletin   | constitucion cuanto |   senado proyecto   | articulo mantenida  |\n",
            "| -2.282004409413664  |  -2.268657813630009  | -2.2552502427787764 | -2.1758814720236224 | -2.0479941489195688 |\n",
            "|          4          |          0           |          0          |          4          |          4          |\n",
            "| solucionar problema | expresar conformidad |    respond nombr    |   congreso senado   |    pasamo examen    |\n",
            "|  1.672029828232257  |  1.7819425429064424  | 1.9169689998738968  | 2.0763844260643007  | 2.2129825205054714  |\n",
            "|          7          |          7           |          1          |          4          |          6          |\n",
            "+---------------------+----------------------+---------------------+---------------------+---------------------+\n",
            "Año: 1981\n",
            "+---------------------+---------------------+-------------------------+-------------------------+---------------------+\n",
            "|   contestar nombr   |      desea uso      | interpelacion formulada | contestar interpelacion |    podemo seguir    |\n",
            "| -2.1205593696001825 | -1.9533293617920924 |   -1.8262063144074492   |   -1.7797145589939045   | -1.7638012679318607 |\n",
            "|          1          |          2          |            7            |            7            |          8          |\n",
            "|    alguna manera    |     ningun tipo     |   presupuesto general   |         asi pue         |   pedimo separada   |\n",
            "| 1.0195848915522805  |  1.175847312213356  |    1.207663403573547    |   1.2431290396168102    |  1.803817079120038  |\n",
            "|          2          |          7          |            6            |            4            |          6          |\n",
            "+---------------------+---------------------+-------------------------+-------------------------+---------------------+\n",
            "Año: 1982\n",
            "+--------------------+---------------------------+----------------------+-----------------------+--------------------------+\n",
            "|    duda ninguna    | procedimiento legislativo | desarrollo economico | funcion fiscalizadora | interpelacion correspond |\n",
            "| -2.024470103567028 |    -1.9948905749953512    | -1.9723925373205553  |  -1.7620639796668485  |   -1.6826606785118476    |\n",
            "|         7          |             0             |          1           |           5           |            0             |\n",
            "|   cualquier caso   |   jurisdiccion contabl    |      plazo mese      |   separada articulo   |     resolv problema      |\n",
            "| 0.7537265667996188 |    0.8361833732324266     |  0.9535510446603651  |  1.1018108579234949   |    1.3725342761830974    |\n",
            "|         5          |             5             |          9           |           6           |            7             |\n",
            "+--------------------+---------------------------+----------------------+-----------------------+--------------------------+\n",
            "Año: 1983\n",
            "+---------------------+---------------------+--------------------+--------------------+---------------------+\n",
            "|    pido cuestion    | separadament numero |   banco derecha    |     hace caso      |  pido explicacion   |\n",
            "| -3.1299235981017324 | -3.056937591029842  | -2.844504085124726 | -2.735956774581992 | -2.7244563525266936 |\n",
            "|          4          |          2          |         8          |         2          |          7          |\n",
            "|  respecto anterior  |   vaya terminando   |    numero pausa    |   tiempo minuto    |    buena medida     |\n",
            "|  2.04906673349138   | 2.1330305450515508  | 2.2571756751708856 | 2.724859057076804  | 3.1883875165699282  |\n",
            "|          6          |          8          |         4          |         7          |          2          |\n",
            "+---------------------+---------------------+--------------------+--------------------+---------------------+\n",
            "Año: 1984\n",
            "+--------------------+---------------------+---------------------+--------------------+--------------------+\n",
            "| separada articulo  |    banco derecha    |  opinion respecto   |   pido cuestion    |    grave error     |\n",
            "| -4.226031677693775 | -3.6789577501352455 | -3.1013338214656847 | -2.852509114105633 | -2.825016054275747 |\n",
            "|         6          |          8          |          8          |         4          |         7          |\n",
            "|  terminado tiempo  |   articulo pausa    |     pausa nulo      |    entrar tema     |  vaya terminando   |\n",
            "| 1.9950070847814356 |  2.160553455831103  | 2.2252847048896585  | 2.310462467596113  | 2.4438839299740773 |\n",
            "|         3          |          4          |          4          |         8          |         8          |\n",
            "+--------------------+---------------------+---------------------+--------------------+--------------------+\n",
            "Año: 1985\n",
            "+---------------------+---------------------+---------------------+--------------------+--------------------+\n",
            "|     misma forma     | votars conjuntament |   pedimo separada   |  maxima brevedad   |   pido cuestion    |\n",
            "| -3.4145640377019797 | -3.3856670940096234 | -3.1462693789073333 | -3.108617959480141 | -3.033134733601782 |\n",
            "|          0          |          4          |          6          |         1          |         4          |\n",
            "|   articulo pausa    |     rumor banco     |   senado articulo   |  vaya terminando   | articulo apartado  |\n",
            "| 2.0917614087538317  |  2.163608942296737  | 2.1835167844912218  |  2.29945519486818  | 2.8432719012702274 |\n",
            "|          4          |          8          |          4          |         8          |         4          |\n",
            "+---------------------+---------------------+---------------------+--------------------+--------------------+\n",
            "Año: 1986\n",
            "+---------------------+---------------------+--------------------+---------------------+--------------------+\n",
            "|  portavoz minoria   |   feder alemania    |  pension viudedad  |   conoc prevision   |  separada numero   |\n",
            "| -3.251015486335947  | -2.7522440826517234 | -2.707692354637773 | -2.6604240418349896 | -2.640002246283526 |\n",
            "|          2          |          1          |         2          |          3          |         6          |\n",
            "| agrupacion catalana |  dictamen comision  | organismo autonomo |     sido objeto     |  estructura mando  |\n",
            "| 1.3067759492926956  |  1.448628554363648  | 1.483783898257191  | 1.5063841982885904  | 1.5838379485736318 |\n",
            "|          2          |          4          |         5          |          4          |         1          |\n",
            "+---------------------+---------------------+--------------------+---------------------+--------------------+\n",
            "Año: 1987\n",
            "+------------------------+---------------------+---------------------+--------------------+-----------------------+\n",
            "|     base articulo      |   despue tramite    |   debat entendemo   |  director general  | agrupacion represento |\n",
            "|   -3.682003668521231   | -2.9469546498232493 | -2.9346123056764126 | -2.855047539031647 |   -2.74283473461647   |\n",
            "|           4            |          6          |          9          |         2          |           2           |\n",
            "| presupuesto ministerio |  central sindical   | agrupacion catalana |   creado puesto    |      duda alguna      |\n",
            "|   1.7294876866208297   | 1.8280260748571935  | 1.8904372176053994  | 2.1780762624030183 |   2.355680923339715   |\n",
            "|           6            |          7          |          2          |         3          |           9           |\n",
            "+------------------------+---------------------+---------------------+--------------------+-----------------------+\n",
            "Año: 1988\n",
            "+------------------------+---------------------+--------------------+--------------------+---------------------+\n",
            "|     pido separada      |    pide separada    | apoyo proposicion  |   propio termino   |     segun dato      |\n",
            "|   -3.297317863555272   | -3.2953822984778633 | -3.158781752035964 | -3.015346296749777 | -2.9547687991658482 |\n",
            "|           6            |          2          |         6          |         4          |          2          |\n",
            "| administracion central |   ningun problema   |   linea general    | dictamen comision  |    puedo decirl     |\n",
            "|    1.48122100731239    | 1.4919988690439105  | 2.3202811496177973 | 2.8118094587390283 | 3.5080993631280335  |\n",
            "|           4            |          8          |         6          |         4          |          9          |\n",
            "+------------------------+---------------------+--------------------+--------------------+---------------------+\n",
            "Año: 1989\n",
            "+---------------------+-----------------------+---------------------+--------------------+--------------------+\n",
            "|    medida piensa    |       toda luce       |  sido contradicho   |   pedir separada   |  cuerpo mutilado   |\n",
            "| -3.6120154622333014 |  -3.2208288202798787  | -3.0930403995162483 | -3.026594835334921 | -2.782478021187251 |\n",
            "|          5          |           5           |          1          |         0          |         2          |\n",
            "|  atencion primaria  | reforma universitaria |    mismo tiempo     | haciendo esfuerzo  |    norma legal     |\n",
            "|  1.219148934792572  |  1.2488447369703928   | 1.3421909349216545  | 1.6016001358844667 | 1.7925944305262038 |\n",
            "|          2          |           6           |          9          |         2          |         0          |\n",
            "+---------------------+-----------------------+---------------------+--------------------+--------------------+\n",
            "Año: 1990\n",
            "+------------------------+--------------------+---------------------+---------------------+---------------------+\n",
            "|     banco derecha      | solicita separada  |     dado razon      |   ello presentado   |  solicito separada  |\n",
            "|  -3.8222840329270733   | -3.650023948789022 | -3.3287046234398727 | -3.3207597275068053 | -3.3023243587188102 |\n",
            "|           8            |         2          |          8          |          2          |          6          |\n",
            "| administracion central |   texto dictamen   |     hace tiempo     |  ponencia comision  |   rumor protesta    |\n",
            "|   1.497826248164574    | 1.624982669538194  | 1.6999013273887829  |  2.194237321100278  | 4.3009643404138584  |\n",
            "|           4            |         4          |          6          |          4          |          7          |\n",
            "+------------------------+--------------------+---------------------+---------------------+---------------------+\n",
            "Año: 1991\n",
            "+---------------------+---------------------+-------------------------+--------------------+-----------------------+\n",
            "|  solicito separada  |  solicita separada  |    sido contradicho     |    razon mismo     |      tal derecho      |\n",
            "| -3.8182581725156934 | -3.5553272433262304 |   -3.1136255063716183   | -2.993840623323652 |  -2.952907569743723   |\n",
            "|          6          |          2          |            1            |         8          |           0           |\n",
            "| sistema proteccion  | subsidio desempleo  | producto hortofruticola | aspecto important  | cuadro macroeconomico |\n",
            "|  1.584080939106268  | 1.8021306288636145  |    1.844184405474585    | 2.0178640831417196 |  2.6111655153543367   |\n",
            "|          2          |          2          |            1            |         9          |           3           |\n",
            "+---------------------+---------------------+-------------------------+--------------------+-----------------------+\n",
            "Año: 1992\n",
            "+-----------------------+---------------------+--------------------+--------------------+---------------------+\n",
            "|    tribuna defend     |  solicita separada  |   medida piensa    |   cuestion rumor   |  alegro reconozca   |\n",
            "|  -3.7289623451449003  | -3.5680742217063948 | -3.501970705277702 | -3.388514950044505 | -3.2995667527002412 |\n",
            "|           0           |          2          |         5          |         4          |          7          |\n",
            "| organo administracion |     partir ahi      |   persona fisica   |   lersundi pide    | momento determinado |\n",
            "|  1.9867527710304218   |  2.058873797498836  | 2.0717864749856214 | 2.432776808679431  |  2.432845693224974  |\n",
            "|           0           |          9          |         0          |         4          |          0          |\n",
            "+-----------------------+---------------------+--------------------+--------------------+---------------------+\n",
            "Año: 1993\n",
            "+---------------------+---------------------+--------------------+---------------------+-----------------------+\n",
            "|   separada bloqu    |     resto bloqu     |  concluyo minuto   |  solicito separada  |     aplauso banco     |\n",
            "| -3.4365600398707983 | -3.1019421960228803 | -3.032540560825391 | -2.9929095008950743 |  -2.9819819628573287  |\n",
            "|          2          |          4          |         7          |          6          |           8           |\n",
            "|    desean fijar     | formacion politica  | publica transport  |  congreso formula   | crecimiento economico |\n",
            "| 1.7138464758614944  | 1.7821374366570149  | 1.8026987566665509 |  1.983335994721592  |  2.3288424911624475   |\n",
            "|          2          |          8          |         1          |          8          |           3           |\n",
            "+---------------------+---------------------+--------------------+---------------------+-----------------------+\n",
            "Año: 1994\n",
            "+--------------------+-------------------+----------------------+-----------------------+----------------------+\n",
            "| solicito separada  |  ello solicitamo  |       van dar        | justificar injustific | legislatura anterior |\n",
            "| -3.618211449698561 | -3.4060517603178  | -3.2717602758068827  |  -3.251158281224246   | -3.1892903379239104  |\n",
            "|         6          |         6         |          8           |           6           |          5           |\n",
            "|    da impresion    |  recurso humano   | institucion familiar |   vaya concluyendo    |   congreso formula   |\n",
            "| 1.5281855992027518 | 1.571734635594895 |  1.735197795210252   |  1.9138065845501069   |  3.022287687414612   |\n",
            "|         7          |         2         |          0           |           5           |          8           |\n",
            "+--------------------+-------------------+----------------------+-----------------------+----------------------+\n",
            "Año: 1995\n",
            "+-----------------------+--------------------+---------------------+----------------------+--------------------------+\n",
            "| desgravacion impuesto | termino rapidament |  postura respecto   | celebracion eleccion | verdaderament preocupant |\n",
            "|  -4.026885774461625   | -3.167311468188054 | -3.0752083860375334 | -3.0232461981292444  |    -2.98111512090211     |\n",
            "|           3           |         7          |          7          |          1           |            3             |\n",
            "|   vaya concluyendo    |    desean fijar    |    capit privado    |  objetivo fundament  |     congreso formula     |\n",
            "|  1.6408269301788518   | 1.687965840106751  | 2.1107688921328327  |  3.226560488433243   |    3.4590245310813406    |\n",
            "|           5           |         2          |          3          |          2           |            8             |\n",
            "+-----------------------+--------------------+---------------------+----------------------+--------------------------+\n",
            "Año: 1996\n",
            "+---------------------+----------------------+---------------------+----------------------+----------------------+\n",
            "|   numero formula    |   congreso formula   |   mediana empresa   |     tipo intere      |   ultima eleccion    |\n",
            "| -3.251675240637579  | -2.9605161698556577  | -1.5132274592284338 | -1.5013220316872746  | -1.4754351977077076  |\n",
            "|          1          |          8           |          3          |          3           |          8           |\n",
            "| presentado proyecto | verdad comparecencia | propio representant | convalidacion desean | modificacion regimen |\n",
            "|  2.273222216908134  |  2.3045574961794233  | 2.3060217106946013  |  2.5768607776728003  |   2.73531987485998   |\n",
            "|          4          |          8           |          1          |          2           |          0           |\n",
            "+---------------------+----------------------+---------------------+----------------------+----------------------+\n",
            "Año: 1997\n",
            "+--------------------+----------------------+---------------------+--------------------+---------------------+\n",
            "|   numero formula   | presentacion defensa |     debat part      |    mardon nombr    |  termino resultant  |\n",
            "| -4.038988854514559 |  -2.262947709952144  | -1.876399580611044  | -1.85134519691911  | -1.8506141013827995 |\n",
            "|         1          |          9           |          7          |         1          |          4          |\n",
            "|  intervenir debat  |     texto texto      | vicepresident nombr |    dejeme diga     |     fijar debat     |\n",
            "| 2.2696332857603725 |  2.322302231989278   |  2.446576150539005  | 2.5128293750106354 |  4.266384836468041  |\n",
            "|         4          |          4           |          9          |         8          |          4          |\n",
            "+--------------------+----------------------+---------------------+--------------------+---------------------+\n",
            "Año: 1998\n",
            "+----------------------+---------------------+----------------------+----------------------+---------------------+\n",
            "| resultant aceptacion |   numero formula    | presentacion defensa | medicamento generico | naturaleza organica |\n",
            "| -2.1054650292668016  | -2.0749134679534795 | -1.9168275297233743  | -1.7650949936805913  | -1.7631864380033233 |\n",
            "|          4           |          1          |          9           |          2           |          0          |\n",
            "| aceptamo transaccion |   indicar acepta    |    ciudadano pai     |  defensa presentada  |     fijar debat     |\n",
            "|  2.5904098676548166  |  2.963044141141716  |  3.028299709398831   |  3.883146344094396   |  4.503607217283988  |\n",
            "|          7           |          2          |          8           |          1           |          4          |\n",
            "+----------------------+---------------------+----------------------+----------------------+---------------------+\n",
            "Año: 1999\n",
            "+---------------------+---------------------+---------------------+--------------------+---------------------+\n",
            "|  congreso formula   |     fijar nombr     |   adopcion medida   |    nombr feder     |   creacion empleo   |\n",
            "| -3.0766287645141266 | -2.6789750933558025 | -2.4552214463874984 | -2.447399068811729 | -2.3915503473577835 |\n",
            "|          8          |          3          |          5          |         7          |          3          |\n",
            "|  intervenir debat   |   indicar acepta    |     deberia ir      |  vaya terminando   |     fijar debat     |\n",
            "| 3.0145614918561656  | 3.0174977322810643  | 3.0784411055973395  | 3.3744342744222036 | 3.9447044816256596  |\n",
            "|          4          |          2          |          8          |         8          |          4          |\n",
            "+---------------------+---------------------+---------------------+--------------------+---------------------+\n",
            "Año: 2000\n",
            "+---------------------+---------------------+---------------------------+-----------------------+----------------------+\n",
            "|   numero formula    |  congreso formula   | equilibrio presupuestario |  pesca alimentacion   |     mismo tiempo     |\n",
            "| -2.5254638258792634 | -2.4088678051734482 |    -1.972258518502192     |  -1.9339751634374138  | -1.7576597068080968  |\n",
            "|          1          |          8          |             6             |           6           |          9           |\n",
            "|    debe concluir    |     quier fijar     |        mismo nivel        | gestion aeroportuaria | recaudacion impuesto |\n",
            "|  2.570772636149492  |  2.570776049442612  |     2.748078036334448     |   2.800176184491799   |  2.9667039371653248  |\n",
            "|          0          |          5          |             2             |           5           |          3           |\n",
            "+---------------------+---------------------+---------------------------+-----------------------+----------------------+\n",
            "Año: 2001\n",
            "+---------------------+---------------------+---------------------+---------------------+---------------------+\n",
            "|   numero formula    |  congreso formula   | pesca alimentacion  |   cultura deport    |    plan igualdad    |\n",
            "| -3.1150205044864134 | -2.6044729351014055 | -2.2613384334211526 | -1.9135905443492993 | -1.7446811213253675 |\n",
            "|          1          |          8          |          6          |          6          |          7          |\n",
            "|  quiero preguntar   |      vaca loca      |  concluido tiempo   | señalar aceptacion  |    pasamo debat     |\n",
            "|  2.956540297714851  |  2.997908075320102  | 3.2279995761133002  |  3.674860454780048  | 3.7640351973094472  |\n",
            "|          7          |          1          |          6          |          9          |          6          |\n",
            "+---------------------+---------------------+---------------------+---------------------+---------------------+\n",
            "Año: 2002\n",
            "+--------------------+--------------------+-----------------------+---------------------+---------------------+\n",
            "|   numero formula   |   cultura deport   | interpelacion urgent  |    tener cuenta     |   trabajo asunto    |\n",
            "| -3.299109096047125 | -2.420512469097223 |  -2.089376681734508   | -1.7136127674821335 | -1.6801180835864271 |\n",
            "|         1          |         6          |           7           |          2          |          7          |\n",
            "|    efecto pide     |   debe concluir    | intervencion anterior |   leo textualment   |   recort derecho    |\n",
            "| 3.307734206138293  | 3.3471665769510537 |   3.389431006786067   |  3.395867484153377  | 3.6321162097884416  |\n",
            "|         4          |         0          |           7           |          5          |          7          |\n",
            "+--------------------+--------------------+-----------------------+---------------------+---------------------+\n",
            "Año: 2003\n",
            "+---------------------+-----------------------+---------------------+---------------------+---------------------+\n",
            "|   numero formula    |      nombr feder      |    ocupen escaño    |   toda comunidad    |   texto dictamen    |\n",
            "| -3.3084113568560367 |  -2.0931765430583757  | -1.9738855829833832 | -1.6560829923910105 | -1.5929824427985462 |\n",
            "|          1          |           7           |          9          |          4          |          4          |\n",
            "|  seguridad publica  | termino inmediatament |     hago figura     | campaña publicidad  |   acabo diciendo    |\n",
            "|  2.918215775961808  |   2.950893941602311   |  3.355266097395251  |  3.450627789478625  |  3.530437774092534  |\n",
            "|          2          |           1           |          7          |          1          |          2          |\n",
            "+---------------------+-----------------------+---------------------+---------------------+---------------------+\n",
            "Año: 2004\n",
            "+--------------------+--------------------+--------------------+---------------------+-----------------------+\n",
            "| plantear cuestion  |   alemania reino   | intervencion breve |    doy formulada    |      solo nombr       |\n",
            "| -3.070980713402901 | -3.055119175011101 | -3.035184749110735 | -3.0351847491084274 |  -3.0351847491084265  |\n",
            "|         1          |         1          |         8          |          6          |           1           |\n",
            "|    tener cuenta    |  vaya concluyendo  | pesca alimentacion |   texto dictamen    | legalidad internacion |\n",
            "| 1.2744199846132205 | 1.283431680546162  | 1.313152222815966  | 1.3762212161163536  |  1.5162052238983652   |\n",
            "|         2          |         5          |         6          |          4          |           9           |\n",
            "+--------------------+--------------------+--------------------+---------------------+-----------------------+\n",
            "Año: 2005\n",
            "+--------------------+-----------------------+---------------------+---------------------+---------------------+\n",
            "|  doy reproducida   | respond interpelacion |    doy formulada    |    pido articulo    |  articulo alusion   |\n",
            "| -4.532856950023067 |  -4.473788420499133   | -3.7674237041023098 | -3.6641656805013496 | -3.4625521315204453 |\n",
            "|         1          |           4           |          6          |          4          |          0          |\n",
            "|     verd verd      |   seccion relativo    |  turismo comercio   |   lider oposicion   |  organica politico  |\n",
            "| 1.213787831541137  |   1.262685726286229   | 1.6834406730055782  |  2.097876815976347  | 2.2829331216931767  |\n",
            "|         4          |           6           |          5          |          8          |          0          |\n",
            "+--------------------+-----------------------+---------------------+---------------------+---------------------+\n",
            "Año: 2006\n",
            "+--------------------+---------------------+--------------------+----------------------+-----------------------+\n",
            "|  doy reproducida   | ilegalment militant |  defensa igualdad  | eficiencia economica |     doy formulada     |\n",
            "| -4.475959471985238 | -3.669649615146483  | -3.059178175111401 |  -2.963215783235011  |  -2.9551350696217806  |\n",
            "|         1          |          8          |         7          |          3           |           6           |\n",
            "|     merec pena     |   policia guardia   | acuerd celebracion |   turismo comercio   | integracion inmigrant |\n",
            "| 1.6059730851484209 | 1.9196536865920635  | 2.004170340603228  |  2.298723106544289   |  2.5605596394262107   |\n",
            "|         7          |          8          |         5          |          5           |           7           |\n",
            "+--------------------+---------------------+--------------------+----------------------+-----------------------+\n",
            "Año: 2007\n",
            "+--------------------+-------------------------+---------------------+-------------------+--------------------+\n",
            "|   formulo figura   |     finalment fijar     |     decirl cosa     |  doy reproducida  |      van dar       |\n",
            "| -3.231614185757857 |   -3.076916281222156    | -3.0225347985551836 | -2.8807904182157  | -2.865219648839681 |\n",
            "|         6          |            4            |          8          |         1         |         8          |\n",
            "| presentada mocion  | administracion justicia |    lengua signo     | tiempo concluido  |     partir ahi     |\n",
            "| 1.446576608006071  |   1.4502477285059392    | 1.7226431943179126  | 2.026983008047335 | 2.212632530906482  |\n",
            "|         7          |            0            |          6          |         4         |         9          |\n",
            "+--------------------+-------------------------+---------------------+-------------------+--------------------+\n",
            "Año: 2008\n",
            "+---------------------+---------------------+---------------------+---------------------+---------------------+\n",
            "|   umbral pobreza    |   sistema pension   |    pasada semana    | sindicato policial  |   familia miembro   |\n",
            "| -3.2826618242417736 | -3.2707561349215264 | -3.2261542093670905 | -3.1685975629974554 | -3.1044148266713956 |\n",
            "|          2          |          2          |          5          |          8          |          0          |\n",
            "|     ir acabando     | actividad economica |   mercado trabajo   |   puedo asegurar    |  turismo comercio   |\n",
            "| 1.2976952631305296  | 1.6429413797495056  |  2.005995014006813  |  2.007224624598043  | 2.1616762530168554  |\n",
            "|          8          |          3          |          7          |          2          |          5          |\n",
            "+---------------------+---------------------+---------------------+---------------------+---------------------+\n",
            "Año: 2009\n",
            "+--------------------+--------------------+---------------------+--------------------+---------------------+\n",
            "|  doy reproducida   |   doy formulada    |     pido retir      |     tasa paro      | chave vicepresident |\n",
            "| -3.583827017642323 | -3.500969347499057 | -3.5009693474973993 | -3.234478430330894 | -3.016144355309542  |\n",
            "|         1          |         6          |          6          |         3          |          8          |\n",
            "|  turismo comercio  | persona situacion  |    puesto marcha    | modelo productivo  |    puesta marcha    |\n",
            "| 1.5426418327486653 | 1.664309497619077  |  1.719586359561537  | 1.7356999393769292 | 1.9486157143790686  |\n",
            "|         5          |         2          |          2          |         3          |          6          |\n",
            "+--------------------+--------------------+---------------------+--------------------+---------------------+\n",
            "Año: 2010\n",
            "+---------------------+---------------------+-----------------------+----------------------+-------------------------+\n",
            "|     pacto hecho     |    podemo seguir    | recort presupuestario |   falta prevision    | expedient disciplinario |\n",
            "| -3.4051002148406804 | -3.1103242992173703 |  -3.0883705421422367  | -2.9463271421040425  |    -2.89761063529563    |\n",
            "|          8          |          8          |           6           |          5           |            5            |\n",
            "|   transport aereo   |   mercado trabajo   |   turismo comercio    | consolidacion fiscal |        buena fe         |\n",
            "| 1.9064245444006205  | 1.9197934603830702  |  1.9274818728241128   |  2.299899444560131   |   2.3864566179992512    |\n",
            "|          5          |          7          |           5           |          3           |            0            |\n",
            "+---------------------+---------------------+-----------------------+----------------------+-------------------------+\n",
            "Año: 2011\n",
            "+---------------------+-------------------------+---------------------+----------------------+---------------------+\n",
            "|     casi parado     | fiscalia anticorrupcion |  empleo destruido   |   trama corrupcion   | sentencia audiencia |\n",
            "| -3.7824387199451412 |   -3.0612526195604213   | -3.0290276118488415 | -2.6281487737685327  | -2.6187733483920286 |\n",
            "|          3          |            5            |          3          |          8           |          0          |\n",
            "|  dato criminalidad  |    turismo comercio     |  politica igualdad  | consolidacion fiscal |   quiero agradec    |\n",
            "| 1.2776458207315027  |   1.3162602266802903    | 1.8282623036844905  |  1.845908376258071   |  1.904494005122691  |\n",
            "|          8          |            5            |          6          |          3           |          2          |\n",
            "+---------------------+-------------------------+---------------------+----------------------+---------------------+\n",
            "Año: 2012\n",
            "+-------------------------+---------------------+---------------------+--------------------+---------------------+\n",
            "| economia competitividad | reforma estructural |   deficit publico   | reforma necesaria  |   toda comunidad    |\n",
            "|   -1.9461693565696754   | -1.7050524749653735 | -1.4826068366564449 | -1.302902563240993 | -1.2789663535075173 |\n",
            "|            3            |          3          |          3          |         2          |          4          |\n",
            "|       mese despue       |  consenso politico  | apoyar proposicion  |     van poder      |    debe concluir    |\n",
            "|    3.117667153719218    | 3.1381557072018813  |  3.175772278291756  | 3.1862988098768334 |  4.809734609064276  |\n",
            "|            5            |          0          |          0          |         6          |          0          |\n",
            "+-------------------------+---------------------+---------------------+--------------------+---------------------+\n",
            "Año: 2013\n",
            "+--------------------+--------------------+--------------------+------------------------+---------------------+\n",
            "| servicio igualdad  |   cultura deport   |  energia turismo   | sostenibilidad sistema |   deficit publico   |\n",
            "| -3.196840806861025 | -2.282839529138048 | -2.111591450750278 |  -2.0162744696178616   | -1.9294114872832104 |\n",
            "|         2          |         6          |         9          |           2            |          3          |\n",
            "| formulada distinto |   doy formulada    |  recort politica   |    nombr industria     |    debe concluir    |\n",
            "| 3.259665767761233  | 3.282824150944429  | 3.448800848794425  |   3.731919246433884    |  4.175956413388183  |\n",
            "|         4          |         6          |         3          |           6            |          0          |\n",
            "+--------------------+--------------------+--------------------+------------------------+---------------------+\n",
            "Año: 2014\n",
            "+----------------------+--------------------+--------------------+---------------------+---------------------+\n",
            "|  servicio igualdad   |   quiero decirl    | seguir trabajando  |   energia turismo   | mundo desarrollado  |\n",
            "|  -4.004722809521868  | -2.894641394574678 | -2.334669247089427 | -2.1044913581998115 | -1.8749856538416971 |\n",
            "|          2           |         8          |         8          |          9          |          3          |\n",
            "| proteccion desempleo |   hecho alusion    |    tan siquiera    |    debe concluir    |    doy formulada    |\n",
            "|  2.9750641948996708  | 2.980393767056154  | 3.2265118891706552 |  4.164067240123169  |  4.226616375545852  |\n",
            "|          3           |         2          |         8          |          0          |          6          |\n",
            "+----------------------+--------------------+--------------------+---------------------+---------------------+\n",
            "Año: 2015\n",
            "+-------------------+---------------------+--------------------+---------------------+---------------------+\n",
            "|  creacion empleo  |   respuesta penal   |   quiero decirl    |   recurso propio    | situacion economica |\n",
            "| -2.3319124271586  | -2.1322879356722746 | -2.026428179449421 | -1.7310268982459063 | -1.5341508121213479 |\n",
            "|         3         |          0          |         8          |          1          |          3          |\n",
            "|   perder empleo   |  seguridad privada  |    toman medida    | intencion relacion  |    debe concluir    |\n",
            "| 2.589721627033051 | 2.6279843001791496  | 2.847681152494829  | 2.8774198860009146  | 3.5049801660719235  |\n",
            "|         5         |          8          |         5          |          8          |          0          |\n",
            "+-------------------+---------------------+--------------------+---------------------+---------------------+\n",
            "Año: 2016\n",
            "+--------------------+---------------------+---------------------+---------------------+--------------------+\n",
            "|   confeder unido   |   creacion empleo   |  servicio igualdad  |  reforma organica   |   cualquier caso   |\n",
            "| -2.40209080611103  | -1.5966103647531462 | -1.5944872701722816 | -1.4572146624293676 | -1.113657732477118 |\n",
            "|         4          |          3          |          2          |          0          |         5          |\n",
            "|  trabajador pobr   |  correspond ahora   |      lui ramo       |   podemo creacion   |  vaya concluyendo  |\n",
            "| 1.6998013095364484 |  1.707201778158472  | 2.3534880091795505  | 2.5359684429975275  | 3.012566596047389  |\n",
            "|         3          |          2          |          4          |          8          |         5          |\n",
            "+--------------------+---------------------+---------------------+---------------------+--------------------+\n",
            "Año: 2017\n",
            "+---------------------+--------------------+--------------------------+---------------------+---------------------+\n",
            "|     partir ahi      | servicio igualdad  | industria competitividad |   creacion empleo   |     duda alguna     |\n",
            "| -2.4962963731143537 | -2.143454468000856 |    -2.093082598696412    | -2.0070601112380566 | -1.7758894460190808 |\n",
            "|          9          |         2          |            3             |          3          |          9          |\n",
            "| corrupcion afectan  |    medida tomar    |    sensibilidad hacia    |   amnistia fiscal   |  acogida refugiado  |\n",
            "| 2.6707935117248103  | 2.908369676866157  |    2.9282929012568215    | 3.2093611221729472  |  3.488997835093461  |\n",
            "|          8          |         8          |            9             |          3          |          9          |\n",
            "+---------------------+--------------------+--------------------------+---------------------+---------------------+\n",
            "Año: 2018\n",
            "+-----------------------+---------------------+--------------------+---------------------+---------------------+\n",
            "|    asunto exterior    |   creacion empleo   |   quieren romper   |    pasamo ahora     |   podemo adelant    |\n",
            "|  -2.966575312465405   | -2.4635460464107024 | -2.106338111279562 | -1.9096915999410944 | -1.8673390206655542 |\n",
            "|           1           |          3          |         8          |          4          |          8          |\n",
            "| universalidad sanidad |     solo efecto     |     dire cosa      |  senda estabilidad  | europea cooperacion |\n",
            "|   2.586008367559763   | 2.6310996084306937  | 2.727894352115682  | 2.9135238526986704  | 3.8434035368460346  |\n",
            "|           2           |          4          |         3          |          3          |          1          |\n",
            "+-----------------------+---------------------+--------------------+---------------------+---------------------+\n",
            "Año: 2019\n",
            "+--------------------+---------------------+----------------------+-----------------------+---------------------+\n",
            "|   confeder unido   | fijacion intervien  | presidencia relacion |     pasamo ahora      |    mismo canade     |\n",
            "| -3.014484857420344 | -2.3582559192201913 | -1.9050814932645077  |  -1.8130265627977513  | -1.6968669572444293 |\n",
            "|         4          |          4          |          0           |           4           |          7          |\n",
            "|  hacienda funcion  |  interior funcion   |   aizpurua arzallu   | candidato presidencia |   confeder podemo   |\n",
            "| 1.9674957756262061 | 2.1658251716154338  |  2.172190215510538   |   2.248621732809796   |  3.48588622862801   |\n",
            "|         5          |          8          |          4           |           9           |          6          |\n",
            "+--------------------+---------------------+----------------------+-----------------------+---------------------+\n"
          ]
        }
      ]
    },
    {
      "cell_type": "code",
      "source": [
        "# Yo entiendo que el resultado relevante es el macro, porque considera el desbalance de clases\n",
        "import matplotlib.pyplot as plt\n",
        "plt.plot(range(1979,2020), macro, marker='o')\n",
        "plt.plot(range(1979,2020), weighted, marker='+')"
      ],
      "metadata": {
        "id": "kCX2FWEx_a9B",
        "outputId": "35e5383d-059b-4903-cf79-d98a754c2f6b",
        "colab": {
          "base_uri": "https://localhost:8080/",
          "height": 282
        }
      },
      "execution_count": null,
      "outputs": [
        {
          "output_type": "execute_result",
          "data": {
            "text/plain": [
              "[<matplotlib.lines.Line2D at 0x7fb3b2c9fe50>]"
            ]
          },
          "metadata": {},
          "execution_count": 40
        },
        {
          "output_type": "display_data",
          "data": {
            "text/plain": [
              "<Figure size 432x288 with 1 Axes>"
            ],
            "image/png": "[encoded data removed]"
          },
          "metadata": {
            "needs_background": "light"
          }
        }
      ]
    },
    {
      "cell_type": "markdown",
      "source": [
        "# LASSO overall"
      ],
      "metadata": {
        "id": "Li7nh_9i5-qJ"
      }
    },
    {
      "cell_type": "code",
      "source": [
        "X_train, X_test, y_train, y_test = train_test_split(base.loc[:, base_year.columns != 'party'], base['party'], test_size=0.33, random_state=42)\n",
        "train_matrix = vect.fit_transform(X_train['tokens'])\n",
        "test_matrix = vect.transform(X_test['tokens'])  \n",
        "lr.fit(train_matrix,y_train)\n",
        "predictions = lr.predict(test_matrix )\n",
        "print(f1_score(predictions,y_test, average='macro'))\n",
        "print(f1_score(predictions,y_test, average='weighted'))\n",
        "s = lr.coef_[0]\n",
        "print(tabulate([cv.get_feature_names_out()[argsort(s)[:n]], sorted(s)[:n],bi_topic_frex['Topic'][argsort(s)[:n]],cv.get_feature_names_out()[argsort(s)[-n:]], sorted(s)[-n:],  bi_topic_frex['Topic'][argsort(s)[-n:]]], tablefmt='pretty'))"
      ],
      "metadata": {
        "id": "UY1-qXOP6GSp",
        "outputId": "5189fae1-e38c-4c2a-f168-0492dca3bf0a",
        "colab": {
          "base_uri": "https://localhost:8080/"
        }
      },
      "execution_count": null,
      "outputs": [
        {
          "output_type": "stream",
          "name": "stdout",
          "text": [
            "0.6475676345836355\n",
            "0.702092524952785\n",
            "+--------------------+--------------------+--------------------+--------------------+--------------------+\n",
            "|  dirigida conform  |  termino derivado  |  pausa procedemo   |   numero formula   |  referido senado   |\n",
            "| -4.563631313666959 | -4.495666259901117 | -4.467462000867042 | -4.313279503955554 | -4.286990885912989 |\n",
            "|         4          |         4          |         4          |         1          |         4          |\n",
            "|   seccion pausa    |    fijar pausa     |  turismo comercio  |      cd pausa      |  confeder podemo   |\n",
            "| 4.337243334545795  | 4.5238540101213145 | 4.564449330704396  | 4.824248859413627  | 4.919934962942936  |\n",
            "|         4          |         2          |         5          |         4          |         6          |\n",
            "+--------------------+--------------------+--------------------+--------------------+--------------------+\n"
          ]
        }
      ]
    },
    {
      "cell_type": "markdown",
      "source": [
        "# Topic por discurso por weight"
      ],
      "metadata": {
        "id": "7EDRq21VmrQl"
      }
    },
    {
      "cell_type": "code",
      "source": [
        "base.shape"
      ],
      "metadata": {
        "colab": {
          "base_uri": "https://localhost:8080/"
        },
        "id": "fSl-C57Imw9a",
        "outputId": "13f1ce5e-4d35-4d30-e45a-67e82ab16dbc"
      },
      "execution_count": 26,
      "outputs": [
        {
          "output_type": "execute_result",
          "data": {
            "text/plain": [
              "(334421, 21)"
            ]
          },
          "metadata": {},
          "execution_count": 26
        }
      ]
    },
    {
      "cell_type": "code",
      "source": [
        "matrix"
      ],
      "metadata": {
        "colab": {
          "base_uri": "https://localhost:8080/"
        },
        "id": "SCr_e_4y5VNe",
        "outputId": "7ff38dae-7577-4238-e6e3-9a4e11faf42a"
      },
      "execution_count": 27,
      "outputs": [
        {
          "output_type": "execute_result",
          "data": {
            "text/plain": [
              "<334421x270230 sparse matrix of type '<class 'numpy.int64'>'\n",
              "\twith 8479733 stored elements in Compressed Sparse Row format>"
            ]
          },
          "metadata": {},
          "execution_count": 27
        }
      ]
    },
    {
      "cell_type": "code",
      "source": [
        "lda.components_.shape"
      ],
      "metadata": {
        "colab": {
          "base_uri": "https://localhost:8080/"
        },
        "id": "v0dtCVHbnQx5",
        "outputId": "0cb28724-cb5d-4c93-d4ec-e2b65b39b714"
      },
      "execution_count": 28,
      "outputs": [
        {
          "output_type": "execute_result",
          "data": {
            "text/plain": [
              "(10, 270230)"
            ]
          },
          "metadata": {},
          "execution_count": 28
        }
      ]
    },
    {
      "cell_type": "code",
      "source": [
        "disc_weights=matrix*lda.components_.transpose()"
      ],
      "metadata": {
        "id": "b6HVfaocDn3o"
      },
      "execution_count": 29,
      "outputs": []
    },
    {
      "cell_type": "code",
      "source": [
        "pd.DataFrame(disc_weights)"
      ],
      "metadata": {
        "colab": {
          "base_uri": "https://localhost:8080/",
          "height": 424
        },
        "id": "xRNvhEgQDuqt",
        "outputId": "84019d21-06b4-4797-c08d-eaec33e54b60"
      },
      "execution_count": 30,
      "outputs": [
        {
          "output_type": "execute_result",
          "data": {
            "text/plain": [
              "                 0           1           2           3            4  \\\n",
              "0         1.895022  368.874840    0.487960    0.200016     0.200010   \n",
              "1        48.679894  402.748750  161.535735  151.586220    29.820095   \n",
              "2       189.567273  222.219997  229.095032   93.709399   101.085256   \n",
              "3       145.552557  209.336918   35.446370    4.365061     6.781903   \n",
              "4       269.295148  298.227450    9.880958   46.773718    13.114930   \n",
              "...            ...         ...         ...         ...          ...   \n",
              "334416    0.000000    0.000000    0.000000    0.000000     0.000000   \n",
              "334417    5.129920  227.471353  439.997185   94.495560  1129.851431   \n",
              "334418    0.000000    0.000000    0.000000    0.000000     0.000000   \n",
              "334419  553.477176  533.216657  242.676982   78.008213   172.692365   \n",
              "334420  576.889276  624.862502  330.447079  279.810588   522.436040   \n",
              "\n",
              "                 5           6            7            8           9  \n",
              "0        11.369097    3.555456     0.200010  1528.244460  316.973128  \n",
              "1        58.953386  125.348155    37.960878   666.418114   87.948774  \n",
              "2        63.462675   63.203865    65.799454   174.314675  415.542375  \n",
              "3         6.896645    7.700900     5.291612   348.794869  356.833165  \n",
              "4        11.846984   32.578132     9.382510     7.845158  622.055012  \n",
              "...            ...         ...          ...          ...         ...  \n",
              "334416    0.000000    0.000000     0.000000     0.000000    0.000000  \n",
              "334417  124.734862  740.184879   152.498171   667.264145   22.372492  \n",
              "334418    0.000000    0.000000     0.000000     0.000000    0.000000  \n",
              "334419   50.404432   97.743083  1141.963825   863.645468  481.171799  \n",
              "334420   52.635334  153.202193  1231.509943   685.924454  719.282589  \n",
              "\n",
              "[334421 rows x 10 columns]"
            ],
            "text/html": [
              "\n",
              "  <div id=\"df-b0881280-6f00-4c6a-a24c-7dfd2bed148e\">\n",
              "    <div class=\"colab-df-container\">\n",
              "      <div>\n",
              "<style scoped>\n",
              "    .dataframe tbody tr th:only-of-type {\n",
              "        vertical-align: middle;\n",
              "    }\n",
              "\n",
              "    .dataframe tbody tr th {\n",
              "        vertical-align: top;\n",
              "    }\n",
              "\n",
              "    .dataframe thead th {\n",
              "        text-align: right;\n",
              "    }\n",
              "</style>\n",
              "<table border=\"1\" class=\"dataframe\">\n",
              "  <thead>\n",
              "    <tr style=\"text-align: right;\">\n",
              "      <th></th>\n",
              "      <th>0</th>\n",
              "      <th>1</th>\n",
              "      <th>2</th>\n",
              "      <th>3</th>\n",
              "      <th>4</th>\n",
              "      <th>5</th>\n",
              "      <th>6</th>\n",
              "      <th>7</th>\n",
              "      <th>8</th>\n",
              "      <th>9</th>\n",
              "    </tr>\n",
              "  </thead>\n",
              "  <tbody>\n",
              "    <tr>\n",
              "      <th>0</th>\n",
              "      <td>1.895022</td>\n",
              "      <td>368.874840</td>\n",
              "      <td>0.487960</td>\n",
              "      <td>0.200016</td>\n",
              "      <td>0.200010</td>\n",
              "      <td>11.369097</td>\n",
              "      <td>3.555456</td>\n",
              "      <td>0.200010</td>\n",
              "      <td>1528.244460</td>\n",
              "      <td>316.973128</td>\n",
              "    </tr>\n",
              "    <tr>\n",
              "      <th>1</th>\n",
              "      <td>48.679894</td>\n",
              "      <td>402.748750</td>\n",
              "      <td>161.535735</td>\n",
              "      <td>151.586220</td>\n",
              "      <td>29.820095</td>\n",
              "      <td>58.953386</td>\n",
              "      <td>125.348155</td>\n",
              "      <td>37.960878</td>\n",
              "      <td>666.418114</td>\n",
              "      <td>87.948774</td>\n",
              "    </tr>\n",
              "    <tr>\n",
              "      <th>2</th>\n",
              "      <td>189.567273</td>\n",
              "      <td>222.219997</td>\n",
              "      <td>229.095032</td>\n",
              "      <td>93.709399</td>\n",
              "      <td>101.085256</td>\n",
              "      <td>63.462675</td>\n",
              "      <td>63.203865</td>\n",
              "      <td>65.799454</td>\n",
              "      <td>174.314675</td>\n",
              "      <td>415.542375</td>\n",
              "    </tr>\n",
              "    <tr>\n",
              "      <th>3</th>\n",
              "      <td>145.552557</td>\n",
              "      <td>209.336918</td>\n",
              "      <td>35.446370</td>\n",
              "      <td>4.365061</td>\n",
              "      <td>6.781903</td>\n",
              "      <td>6.896645</td>\n",
              "      <td>7.700900</td>\n",
              "      <td>5.291612</td>\n",
              "      <td>348.794869</td>\n",
              "      <td>356.833165</td>\n",
              "    </tr>\n",
              "    <tr>\n",
              "      <th>4</th>\n",
              "      <td>269.295148</td>\n",
              "      <td>298.227450</td>\n",
              "      <td>9.880958</td>\n",
              "      <td>46.773718</td>\n",
              "      <td>13.114930</td>\n",
              "      <td>11.846984</td>\n",
              "      <td>32.578132</td>\n",
              "      <td>9.382510</td>\n",
              "      <td>7.845158</td>\n",
              "      <td>622.055012</td>\n",
              "    </tr>\n",
              "    <tr>\n",
              "      <th>...</th>\n",
              "      <td>...</td>\n",
              "      <td>...</td>\n",
              "      <td>...</td>\n",
              "      <td>...</td>\n",
              "      <td>...</td>\n",
              "      <td>...</td>\n",
              "      <td>...</td>\n",
              "      <td>...</td>\n",
              "      <td>...</td>\n",
              "      <td>...</td>\n",
              "    </tr>\n",
              "    <tr>\n",
              "      <th>334416</th>\n",
              "      <td>0.000000</td>\n",
              "      <td>0.000000</td>\n",
              "      <td>0.000000</td>\n",
              "      <td>0.000000</td>\n",
              "      <td>0.000000</td>\n",
              "      <td>0.000000</td>\n",
              "      <td>0.000000</td>\n",
              "      <td>0.000000</td>\n",
              "      <td>0.000000</td>\n",
              "      <td>0.000000</td>\n",
              "    </tr>\n",
              "    <tr>\n",
              "      <th>334417</th>\n",
              "      <td>5.129920</td>\n",
              "      <td>227.471353</td>\n",
              "      <td>439.997185</td>\n",
              "      <td>94.495560</td>\n",
              "      <td>1129.851431</td>\n",
              "      <td>124.734862</td>\n",
              "      <td>740.184879</td>\n",
              "      <td>152.498171</td>\n",
              "      <td>667.264145</td>\n",
              "      <td>22.372492</td>\n",
              "    </tr>\n",
              "    <tr>\n",
              "      <th>334418</th>\n",
              "      <td>0.000000</td>\n",
              "      <td>0.000000</td>\n",
              "      <td>0.000000</td>\n",
              "      <td>0.000000</td>\n",
              "      <td>0.000000</td>\n",
              "      <td>0.000000</td>\n",
              "      <td>0.000000</td>\n",
              "      <td>0.000000</td>\n",
              "      <td>0.000000</td>\n",
              "      <td>0.000000</td>\n",
              "    </tr>\n",
              "    <tr>\n",
              "      <th>334419</th>\n",
              "      <td>553.477176</td>\n",
              "      <td>533.216657</td>\n",
              "      <td>242.676982</td>\n",
              "      <td>78.008213</td>\n",
              "      <td>172.692365</td>\n",
              "      <td>50.404432</td>\n",
              "      <td>97.743083</td>\n",
              "      <td>1141.963825</td>\n",
              "      <td>863.645468</td>\n",
              "      <td>481.171799</td>\n",
              "    </tr>\n",
              "    <tr>\n",
              "      <th>334420</th>\n",
              "      <td>576.889276</td>\n",
              "      <td>624.862502</td>\n",
              "      <td>330.447079</td>\n",
              "      <td>279.810588</td>\n",
              "      <td>522.436040</td>\n",
              "      <td>52.635334</td>\n",
              "      <td>153.202193</td>\n",
              "      <td>1231.509943</td>\n",
              "      <td>685.924454</td>\n",
              "      <td>719.282589</td>\n",
              "    </tr>\n",
              "  </tbody>\n",
              "</table>\n",
              "<p>334421 rows × 10 columns</p>\n",
              "</div>\n",
              "      <button class=\"colab-df-convert\" onclick=\"convertToInteractive('df-b0881280-6f00-4c6a-a24c-7dfd2bed148e')\"\n",
              "              title=\"Convert this dataframe to an interactive table.\"\n",
              "              style=\"display:none;\">\n",
              "        \n",
              "  <svg xmlns=\"http://www.w3.org/2000/svg\" height=\"24px\"viewBox=\"0 0 24 24\"\n",
              "       width=\"24px\">\n",
              "    <path d=\"M0 0h24v24H0V0z\" fill=\"none\"/>\n",
              "    <path d=\"M18.56 5.44l.94 2.06.94-2.06 2.06-.94-2.06-.94-.94-2.06-.94 2.06-2.06.94zm-11 1L8.5 8.5l.94-2.06 2.06-.94-2.06-.94L8.5 2.5l-.94 2.06-2.06.94zm10 10l.94 2.06.94-2.06 2.06-.94-2.06-.94-.94-2.06-.94 2.06-2.06.94z\"/><path d=\"M17.41 7.96l-1.37-1.37c-.4-.4-.92-.59-1.43-.59-.52 0-1.04.2-1.43.59L10.3 9.45l-7.72 7.72c-.78.78-.78 2.05 0 2.83L4 21.41c.39.39.9.59 1.41.59.51 0 1.02-.2 1.41-.59l7.78-7.78 2.81-2.81c.8-.78.8-2.07 0-2.86zM5.41 20L4 18.59l7.72-7.72 1.47 1.35L5.41 20z\"/>\n",
              "  </svg>\n",
              "      </button>\n",
              "      \n",
              "  <style>\n",
              "    .colab-df-container {\n",
              "      display:flex;\n",
              "      flex-wrap:wrap;\n",
              "      gap: 12px;\n",
              "    }\n",
              "\n",
              "    .colab-df-convert {\n",
              "      background-color: #E8F0FE;\n",
              "      border: none;\n",
              "      border-radius: 50%;\n",
              "      cursor: pointer;\n",
              "      display: none;\n",
              "      fill: #1967D2;\n",
              "      height: 32px;\n",
              "      padding: 0 0 0 0;\n",
              "      width: 32px;\n",
              "    }\n",
              "\n",
              "    .colab-df-convert:hover {\n",
              "      background-color: #E2EBFA;\n",
              "      box-shadow: 0px 1px 2px rgba(60, 64, 67, 0.3), 0px 1px 3px 1px rgba(60, 64, 67, 0.15);\n",
              "      fill: #174EA6;\n",
              "    }\n",
              "\n",
              "    [theme=dark] .colab-df-convert {\n",
              "      background-color: #3B4455;\n",
              "      fill: #D2E3FC;\n",
              "    }\n",
              "\n",
              "    [theme=dark] .colab-df-convert:hover {\n",
              "      background-color: #434B5C;\n",
              "      box-shadow: 0px 1px 3px 1px rgba(0, 0, 0, 0.15);\n",
              "      filter: drop-shadow(0px 1px 2px rgba(0, 0, 0, 0.3));\n",
              "      fill: #FFFFFF;\n",
              "    }\n",
              "  </style>\n",
              "\n",
              "      <script>\n",
              "        const buttonEl =\n",
              "          document.querySelector('#df-b0881280-6f00-4c6a-a24c-7dfd2bed148e button.colab-df-convert');\n",
              "        buttonEl.style.display =\n",
              "          google.colab.kernel.accessAllowed ? 'block' : 'none';\n",
              "\n",
              "        async function convertToInteractive(key) {\n",
              "          const element = document.querySelector('#df-b0881280-6f00-4c6a-a24c-7dfd2bed148e');\n",
              "          const dataTable =\n",
              "            await google.colab.kernel.invokeFunction('convertToInteractive',\n",
              "                                                     [key], {});\n",
              "          if (!dataTable) return;\n",
              "\n",
              "          const docLinkHtml = 'Like what you see? Visit the ' +\n",
              "            '<a target=\"_blank\" href=https://colab.research.google.com/notebooks/data_table.ipynb>data table notebook</a>'\n",
              "            + ' to learn more about interactive tables.';\n",
              "          element.innerHTML = '';\n",
              "          dataTable['output_type'] = 'display_data';\n",
              "          await google.colab.output.renderOutput(dataTable, element);\n",
              "          const docLink = document.createElement('div');\n",
              "          docLink.innerHTML = docLinkHtml;\n",
              "          element.appendChild(docLink);\n",
              "        }\n",
              "      </script>\n",
              "    </div>\n",
              "  </div>\n",
              "  "
            ]
          },
          "metadata": {},
          "execution_count": 30
        }
      ]
    },
    {
      "cell_type": "code",
      "source": [
        "base['Topic_weight']=disc_weights.argmax(axis=1)"
      ],
      "metadata": {
        "id": "o0LrXTjDC_I6"
      },
      "execution_count": 31,
      "outputs": []
    },
    {
      "cell_type": "code",
      "source": [
        "base.head()"
      ],
      "metadata": {
        "colab": {
          "base_uri": "https://localhost:8080/",
          "height": 629
        },
        "id": "tEOQVwIODwCV",
        "outputId": "3c612f4f-502f-4a72-a624-8fb595832628"
      },
      "execution_count": 32,
      "outputs": [
        {
          "output_type": "execute_result",
          "data": {
            "text/plain": [
              "   Unnamed: 0                                              orden  \\\n",
              "0           0  LECTURA DEL REAL DECRETO. DE CONVOCATORIA, DE ...   \n",
              "1           1                     DESIGNACION DE LA MESA DE EDAD   \n",
              "2           2                     DESIGNACION DE LA MESA DE EDAD   \n",
              "3           3  CONSTITUCION INTERINA DE LA CAMA. RA Y ELECCIO...   \n",
              "4           4  CONSTITUCION INTERINA DE LA CAMA. RA Y ELECCIO...   \n",
              "\n",
              "                                          namex  \\\n",
              "0       PRESIDENTE PROVISIONAL (Fraile Poujade)   \n",
              "1                        PRESIDENTE PROVISIONAL   \n",
              "2   PRESIDENTE PROVISIONAL (Rodríguez Valverde)   \n",
              "3  PRESIDENTE PROVISIONAL (Ro.dríguez Valverde)   \n",
              "4   PRESIDENTE PROVISIONAL (Rodríguez Valverde)   \n",
              "\n",
              "                                        intervention       fecha legislatura  \\\n",
              "0   Señoras y señores Diputados, se abre la sesió...  23/03/1979           I   \n",
              "1   (Fraile Poujade): Según la relación que cons....  23/03/1979           I   \n",
              "2   Siguiendo el orden del día, ruego al señor Es...  23/03/1979           I   \n",
              "3   Al reanudarse la sesión, procedería dar lectu...  23/03/1979           I   \n",
              "4   Una vez leído el informe de la Junta Electora...  23/03/1979           I   \n",
              "\n",
              "   pleno                    role              oradorx  \\\n",
              "0    1.0  PRESIDENTE PROVISIONAL       FRAILE POUJADE   \n",
              "1    1.0  PRESIDENTE PROVISIONAL       FRAILE POUJADE   \n",
              "2    1.0  PRESIDENTE PROVISIONAL   RODRIGUEZ VALVERDE   \n",
              "3    1.0  PRESIDENTE PROVISIONAL  RO.DRIGUEZ VALVERDE   \n",
              "4    1.0  PRESIDENTE PROVISIONAL   RODRIGUEZ VALVERDE   \n",
              "\n",
              "                               namey  ...                  congreso senado  \\\n",
              "0          Fraile Poujade, Modesto †  ...         4 (C, I, II, III)      –   \n",
              "1          Fraile Poujade, Modesto †  ...         4 (C, I, II, III)      –   \n",
              "2  Rodríguez Valverde, León Máximo †  ...  6 (C, I, II, III, IV, V)      –   \n",
              "3  Rodríguez Valverde, León Máximo †  ...  6 (C, I, II, III, IV, V)      –   \n",
              "4  Rodríguez Valverde, León Máximo †  ...  6 (C, I, II, III, IV, V)      –   \n",
              "\n",
              "  total             oradory  cataluna estatut  inter_raw          partido  \\\n",
              "0   4.0      FRAILE POUJADE       0.0     0.0        NaN  UCD, AP-PDP, CP   \n",
              "1   4.0      FRAILE POUJADE       0.0     0.0        NaN  UCD, AP-PDP, CP   \n",
              "2   6.0  RODRIGUEZ VALVERDE       0.0     0.0        NaN             PSOE   \n",
              "3   6.0  RODRIGUEZ VALVERDE       0.0     0.0        NaN             PSOE   \n",
              "4   6.0  RODRIGUEZ VALVERDE       0.0     0.0        NaN             PSOE   \n",
              "\n",
              "                                              tokens Topic_weight  \n",
              "0  ['señora', 'señor', 'diputado', 'abr', 'junta'...            8  \n",
              "1  ['frail', 'poujad', 'segun', 'relacion', 'con'...            8  \n",
              "2  ['siguiendo', 'ruego', 'esperabe', 'arteaga', ...            9  \n",
              "3  ['reanudars', 'procederia', 'dar', 'lectura', ...            9  \n",
              "4  ['leido', 'inform', 'junta', 'elector', 'centr...            9  \n",
              "\n",
              "[5 rows x 22 columns]"
            ],
            "text/html": [
              "\n",
              "  <div id=\"df-eb6a3597-8be8-450e-85f8-4a7a56621533\">\n",
              "    <div class=\"colab-df-container\">\n",
              "      <div>\n",
              "<style scoped>\n",
              "    .dataframe tbody tr th:only-of-type {\n",
              "        vertical-align: middle;\n",
              "    }\n",
              "\n",
              "    .dataframe tbody tr th {\n",
              "        vertical-align: top;\n",
              "    }\n",
              "\n",
              "    .dataframe thead th {\n",
              "        text-align: right;\n",
              "    }\n",
              "</style>\n",
              "<table border=\"1\" class=\"dataframe\">\n",
              "  <thead>\n",
              "    <tr style=\"text-align: right;\">\n",
              "      <th></th>\n",
              "      <th>Unnamed: 0</th>\n",
              "      <th>orden</th>\n",
              "      <th>namex</th>\n",
              "      <th>intervention</th>\n",
              "      <th>fecha</th>\n",
              "      <th>legislatura</th>\n",
              "      <th>pleno</th>\n",
              "      <th>role</th>\n",
              "      <th>oradorx</th>\n",
              "      <th>namey</th>\n",
              "      <th>...</th>\n",
              "      <th>congreso</th>\n",
              "      <th>senado</th>\n",
              "      <th>total</th>\n",
              "      <th>oradory</th>\n",
              "      <th>cataluna</th>\n",
              "      <th>estatut</th>\n",
              "      <th>inter_raw</th>\n",
              "      <th>partido</th>\n",
              "      <th>tokens</th>\n",
              "      <th>Topic_weight</th>\n",
              "    </tr>\n",
              "  </thead>\n",
              "  <tbody>\n",
              "    <tr>\n",
              "      <th>0</th>\n",
              "      <td>0</td>\n",
              "      <td>LECTURA DEL REAL DECRETO. DE CONVOCATORIA, DE ...</td>\n",
              "      <td>PRESIDENTE PROVISIONAL (Fraile Poujade)</td>\n",
              "      <td>Señoras y señores Diputados, se abre la sesió...</td>\n",
              "      <td>23/03/1979</td>\n",
              "      <td>I</td>\n",
              "      <td>1.0</td>\n",
              "      <td>PRESIDENTE PROVISIONAL</td>\n",
              "      <td>FRAILE POUJADE</td>\n",
              "      <td>Fraile Poujade, Modesto †</td>\n",
              "      <td>...</td>\n",
              "      <td>4 (C, I, II, III)</td>\n",
              "      <td>–</td>\n",
              "      <td>4.0</td>\n",
              "      <td>FRAILE POUJADE</td>\n",
              "      <td>0.0</td>\n",
              "      <td>0.0</td>\n",
              "      <td>NaN</td>\n",
              "      <td>UCD, AP-PDP, CP</td>\n",
              "      <td>['señora', 'señor', 'diputado', 'abr', 'junta'...</td>\n",
              "      <td>8</td>\n",
              "    </tr>\n",
              "    <tr>\n",
              "      <th>1</th>\n",
              "      <td>1</td>\n",
              "      <td>DESIGNACION DE LA MESA DE EDAD</td>\n",
              "      <td>PRESIDENTE PROVISIONAL</td>\n",
              "      <td>(Fraile Poujade): Según la relación que cons....</td>\n",
              "      <td>23/03/1979</td>\n",
              "      <td>I</td>\n",
              "      <td>1.0</td>\n",
              "      <td>PRESIDENTE PROVISIONAL</td>\n",
              "      <td>FRAILE POUJADE</td>\n",
              "      <td>Fraile Poujade, Modesto †</td>\n",
              "      <td>...</td>\n",
              "      <td>4 (C, I, II, III)</td>\n",
              "      <td>–</td>\n",
              "      <td>4.0</td>\n",
              "      <td>FRAILE POUJADE</td>\n",
              "      <td>0.0</td>\n",
              "      <td>0.0</td>\n",
              "      <td>NaN</td>\n",
              "      <td>UCD, AP-PDP, CP</td>\n",
              "      <td>['frail', 'poujad', 'segun', 'relacion', 'con'...</td>\n",
              "      <td>8</td>\n",
              "    </tr>\n",
              "    <tr>\n",
              "      <th>2</th>\n",
              "      <td>2</td>\n",
              "      <td>DESIGNACION DE LA MESA DE EDAD</td>\n",
              "      <td>PRESIDENTE PROVISIONAL (Rodríguez Valverde)</td>\n",
              "      <td>Siguiendo el orden del día, ruego al señor Es...</td>\n",
              "      <td>23/03/1979</td>\n",
              "      <td>I</td>\n",
              "      <td>1.0</td>\n",
              "      <td>PRESIDENTE PROVISIONAL</td>\n",
              "      <td>RODRIGUEZ VALVERDE</td>\n",
              "      <td>Rodríguez Valverde, León Máximo †</td>\n",
              "      <td>...</td>\n",
              "      <td>6 (C, I, II, III, IV, V)</td>\n",
              "      <td>–</td>\n",
              "      <td>6.0</td>\n",
              "      <td>RODRIGUEZ VALVERDE</td>\n",
              "      <td>0.0</td>\n",
              "      <td>0.0</td>\n",
              "      <td>NaN</td>\n",
              "      <td>PSOE</td>\n",
              "      <td>['siguiendo', 'ruego', 'esperabe', 'arteaga', ...</td>\n",
              "      <td>9</td>\n",
              "    </tr>\n",
              "    <tr>\n",
              "      <th>3</th>\n",
              "      <td>3</td>\n",
              "      <td>CONSTITUCION INTERINA DE LA CAMA. RA Y ELECCIO...</td>\n",
              "      <td>PRESIDENTE PROVISIONAL (Ro.dríguez Valverde)</td>\n",
              "      <td>Al reanudarse la sesión, procedería dar lectu...</td>\n",
              "      <td>23/03/1979</td>\n",
              "      <td>I</td>\n",
              "      <td>1.0</td>\n",
              "      <td>PRESIDENTE PROVISIONAL</td>\n",
              "      <td>RO.DRIGUEZ VALVERDE</td>\n",
              "      <td>Rodríguez Valverde, León Máximo †</td>\n",
              "      <td>...</td>\n",
              "      <td>6 (C, I, II, III, IV, V)</td>\n",
              "      <td>–</td>\n",
              "      <td>6.0</td>\n",
              "      <td>RODRIGUEZ VALVERDE</td>\n",
              "      <td>0.0</td>\n",
              "      <td>0.0</td>\n",
              "      <td>NaN</td>\n",
              "      <td>PSOE</td>\n",
              "      <td>['reanudars', 'procederia', 'dar', 'lectura', ...</td>\n",
              "      <td>9</td>\n",
              "    </tr>\n",
              "    <tr>\n",
              "      <th>4</th>\n",
              "      <td>4</td>\n",
              "      <td>CONSTITUCION INTERINA DE LA CAMA. RA Y ELECCIO...</td>\n",
              "      <td>PRESIDENTE PROVISIONAL (Rodríguez Valverde)</td>\n",
              "      <td>Una vez leído el informe de la Junta Electora...</td>\n",
              "      <td>23/03/1979</td>\n",
              "      <td>I</td>\n",
              "      <td>1.0</td>\n",
              "      <td>PRESIDENTE PROVISIONAL</td>\n",
              "      <td>RODRIGUEZ VALVERDE</td>\n",
              "      <td>Rodríguez Valverde, León Máximo †</td>\n",
              "      <td>...</td>\n",
              "      <td>6 (C, I, II, III, IV, V)</td>\n",
              "      <td>–</td>\n",
              "      <td>6.0</td>\n",
              "      <td>RODRIGUEZ VALVERDE</td>\n",
              "      <td>0.0</td>\n",
              "      <td>0.0</td>\n",
              "      <td>NaN</td>\n",
              "      <td>PSOE</td>\n",
              "      <td>['leido', 'inform', 'junta', 'elector', 'centr...</td>\n",
              "      <td>9</td>\n",
              "    </tr>\n",
              "  </tbody>\n",
              "</table>\n",
              "<p>5 rows × 22 columns</p>\n",
              "</div>\n",
              "      <button class=\"colab-df-convert\" onclick=\"convertToInteractive('df-eb6a3597-8be8-450e-85f8-4a7a56621533')\"\n",
              "              title=\"Convert this dataframe to an interactive table.\"\n",
              "              style=\"display:none;\">\n",
              "        \n",
              "  <svg xmlns=\"http://www.w3.org/2000/svg\" height=\"24px\"viewBox=\"0 0 24 24\"\n",
              "       width=\"24px\">\n",
              "    <path d=\"M0 0h24v24H0V0z\" fill=\"none\"/>\n",
              "    <path d=\"M18.56 5.44l.94 2.06.94-2.06 2.06-.94-2.06-.94-.94-2.06-.94 2.06-2.06.94zm-11 1L8.5 8.5l.94-2.06 2.06-.94-2.06-.94L8.5 2.5l-.94 2.06-2.06.94zm10 10l.94 2.06.94-2.06 2.06-.94-2.06-.94-.94-2.06-.94 2.06-2.06.94z\"/><path d=\"M17.41 7.96l-1.37-1.37c-.4-.4-.92-.59-1.43-.59-.52 0-1.04.2-1.43.59L10.3 9.45l-7.72 7.72c-.78.78-.78 2.05 0 2.83L4 21.41c.39.39.9.59 1.41.59.51 0 1.02-.2 1.41-.59l7.78-7.78 2.81-2.81c.8-.78.8-2.07 0-2.86zM5.41 20L4 18.59l7.72-7.72 1.47 1.35L5.41 20z\"/>\n",
              "  </svg>\n",
              "      </button>\n",
              "      \n",
              "  <style>\n",
              "    .colab-df-container {\n",
              "      display:flex;\n",
              "      flex-wrap:wrap;\n",
              "      gap: 12px;\n",
              "    }\n",
              "\n",
              "    .colab-df-convert {\n",
              "      background-color: #E8F0FE;\n",
              "      border: none;\n",
              "      border-radius: 50%;\n",
              "      cursor: pointer;\n",
              "      display: none;\n",
              "      fill: #1967D2;\n",
              "      height: 32px;\n",
              "      padding: 0 0 0 0;\n",
              "      width: 32px;\n",
              "    }\n",
              "\n",
              "    .colab-df-convert:hover {\n",
              "      background-color: #E2EBFA;\n",
              "      box-shadow: 0px 1px 2px rgba(60, 64, 67, 0.3), 0px 1px 3px 1px rgba(60, 64, 67, 0.15);\n",
              "      fill: #174EA6;\n",
              "    }\n",
              "\n",
              "    [theme=dark] .colab-df-convert {\n",
              "      background-color: #3B4455;\n",
              "      fill: #D2E3FC;\n",
              "    }\n",
              "\n",
              "    [theme=dark] .colab-df-convert:hover {\n",
              "      background-color: #434B5C;\n",
              "      box-shadow: 0px 1px 3px 1px rgba(0, 0, 0, 0.15);\n",
              "      filter: drop-shadow(0px 1px 2px rgba(0, 0, 0, 0.3));\n",
              "      fill: #FFFFFF;\n",
              "    }\n",
              "  </style>\n",
              "\n",
              "      <script>\n",
              "        const buttonEl =\n",
              "          document.querySelector('#df-eb6a3597-8be8-450e-85f8-4a7a56621533 button.colab-df-convert');\n",
              "        buttonEl.style.display =\n",
              "          google.colab.kernel.accessAllowed ? 'block' : 'none';\n",
              "\n",
              "        async function convertToInteractive(key) {\n",
              "          const element = document.querySelector('#df-eb6a3597-8be8-450e-85f8-4a7a56621533');\n",
              "          const dataTable =\n",
              "            await google.colab.kernel.invokeFunction('convertToInteractive',\n",
              "                                                     [key], {});\n",
              "          if (!dataTable) return;\n",
              "\n",
              "          const docLinkHtml = 'Like what you see? Visit the ' +\n",
              "            '<a target=\"_blank\" href=https://colab.research.google.com/notebooks/data_table.ipynb>data table notebook</a>'\n",
              "            + ' to learn more about interactive tables.';\n",
              "          element.innerHTML = '';\n",
              "          dataTable['output_type'] = 'display_data';\n",
              "          await google.colab.output.renderOutput(dataTable, element);\n",
              "          const docLink = document.createElement('div');\n",
              "          docLink.innerHTML = docLinkHtml;\n",
              "          element.appendChild(docLink);\n",
              "        }\n",
              "      </script>\n",
              "    </div>\n",
              "  </div>\n",
              "  "
            ]
          },
          "metadata": {},
          "execution_count": 32
        }
      ]
    },
    {
      "cell_type": "markdown",
      "source": [
        "# Topic por discurso por frex"
      ],
      "metadata": {
        "id": "oDvio7lcD34N"
      }
    },
    {
      "cell_type": "code",
      "source": [
        "import scipy as sp\n",
        "from scipy.special import logsumexp\n",
        "import numpy as np"
      ],
      "metadata": {
        "id": "SlXWtwvAEWLu"
      },
      "execution_count": 33,
      "outputs": []
    },
    {
      "cell_type": "code",
      "source": [
        "def frex(mod, w=0.7):\n",
        "    log_beta = np.log(mod.components_)\n",
        "    log_exclusivity = log_beta - logsumexp(log_beta, axis=0)\n",
        "    exclusivity_ecdf = np.apply_along_axis(ecdf, 1, log_exclusivity)\n",
        "    freq_ecdf = np.apply_along_axis(ecdf, 1, log_beta)\n",
        "    out = 1. / (w / exclusivity_ecdf + (1 - w) / freq_ecdf)\n",
        "    return out"
      ],
      "metadata": {
        "id": "2CA1z1h4EQVA"
      },
      "execution_count": 34,
      "outputs": []
    },
    {
      "cell_type": "code",
      "source": [
        "def ecdf(arr):\n",
        "    return sp.stats.rankdata(arr, method='max') / arr.size"
      ],
      "metadata": {
        "id": "r3fvAqCoESaO"
      },
      "execution_count": 35,
      "outputs": []
    },
    {
      "cell_type": "code",
      "source": [
        "def t_FREX(row):\n",
        "  return frex_df[matrix[row['id']].argmax()].argsort()[9]"
      ],
      "metadata": {
        "id": "Zmao9yM8EKD3"
      },
      "execution_count": 36,
      "outputs": []
    },
    {
      "cell_type": "code",
      "source": [
        "frex_df=pd.DataFrame(frex(lda))\n",
        "frex_df"
      ],
      "metadata": {
        "colab": {
          "base_uri": "https://localhost:8080/",
          "height": 456
        },
        "id": "mHiNOBTiEUsT",
        "outputId": "37f2f303-a4b9-4cfe-a651-c5ea1c12e47b"
      },
      "execution_count": 37,
      "outputs": [
        {
          "output_type": "execute_result",
          "data": {
            "text/plain": [
              "     0         1         2         3         4         5         6       \\\n",
              "0  0.247863  0.240661  0.408933  0.362972  0.779619  0.506531  0.908506   \n",
              "1  0.260347  0.712643  0.893341  0.868345  0.806162  0.649684  0.395709   \n",
              "2  0.569979  0.167517  0.306268  0.409230  0.858782  0.718137  0.436067   \n",
              "3  0.287477  0.144060  0.533870  0.432932  0.049946  0.716384  0.162405   \n",
              "4  0.981332  0.814402  0.764308  0.361701  0.654255  0.738591  0.838474   \n",
              "5  0.343906  0.934803  0.583532  0.414557  0.057910  0.800711  0.567712   \n",
              "6  0.290103  0.871329  0.216799  0.318671  0.053312  0.671482  0.463596   \n",
              "7  0.625757  0.174455  0.580911  0.746685  0.046004  0.685058  0.487189   \n",
              "8  0.086615  0.312039  0.596931  0.573347  0.113486  0.945398  0.739749   \n",
              "9  0.282502  0.230946  0.467435  0.697076  0.869501  0.929596  0.777440   \n",
              "\n",
              "     7         8         9       ...    270220    270221    270222    270223  \\\n",
              "0  0.013852  0.544060  0.368795  ...  0.803568  0.076266  0.418070  0.176153   \n",
              "1  0.661580  0.814713  0.810592  ...  0.529199  0.517160  0.176862  0.121120   \n",
              "2  0.743585  0.337421  0.653785  ...  0.009317  0.050760  0.295801  0.118917   \n",
              "3  0.626267  0.772482  0.264690  ...  0.011059  0.066008  0.742182  0.156756   \n",
              "4  0.856906  0.456490  0.827585  ...  0.857986  0.832940  0.270810  0.114926   \n",
              "5  0.745701  0.910720  0.355172  ...  0.914979  0.074564  0.399506  0.196631   \n",
              "6  0.756691  0.207433  0.349797  ...  0.978961  0.989702  0.971830  0.994910   \n",
              "7  0.675081  0.423880  0.776632  ...  0.009575  0.063795  0.270168  0.113270   \n",
              "8  0.026564  0.685885  0.109178  ...  0.027926  0.124071  0.504661  0.289877   \n",
              "9  0.913451  0.478976  0.324609  ...  0.013282  0.068462  0.681774  0.106899   \n",
              "\n",
              "     270224    270225    270226    270227    270228    270229  \n",
              "0  0.134921  0.000604  0.297832  0.397776  0.254753  0.117534  \n",
              "1  0.084075  0.000358  0.117710  0.185585  0.007070  0.020764  \n",
              "2  0.090055  0.970252  0.023778  0.980680  0.016852  0.029897  \n",
              "3  0.107313  0.000431  0.024611  0.030546  0.016691  0.031373  \n",
              "4  0.802180  0.060895  0.031814  0.038914  0.022753  0.004293  \n",
              "5  0.142734  0.000468  0.979602  0.053813  0.039937  0.054112  \n",
              "6  0.979004  0.000407  0.165672  0.201977  0.026200  0.964091  \n",
              "7  0.768724  0.000419  0.104530  0.047950  0.031147  0.006314  \n",
              "8  0.204282  0.587167  0.469004  0.595854  0.992261  0.377666  \n",
              "9  0.634927  0.028100  0.840865  0.016594  0.008543  0.893889  \n",
              "\n",
              "[10 rows x 270230 columns]"
            ],
            "text/html": [
              "\n",
              "  <div id=\"df-2590f95f-a403-408c-abc4-db685bade94a\">\n",
              "    <div class=\"colab-df-container\">\n",
              "      <div>\n",
              "<style scoped>\n",
              "    .dataframe tbody tr th:only-of-type {\n",
              "        vertical-align: middle;\n",
              "    }\n",
              "\n",
              "    .dataframe tbody tr th {\n",
              "        vertical-align: top;\n",
              "    }\n",
              "\n",
              "    .dataframe thead th {\n",
              "        text-align: right;\n",
              "    }\n",
              "</style>\n",
              "<table border=\"1\" class=\"dataframe\">\n",
              "  <thead>\n",
              "    <tr style=\"text-align: right;\">\n",
              "      <th></th>\n",
              "      <th>0</th>\n",
              "      <th>1</th>\n",
              "      <th>2</th>\n",
              "      <th>3</th>\n",
              "      <th>4</th>\n",
              "      <th>5</th>\n",
              "      <th>6</th>\n",
              "      <th>7</th>\n",
              "      <th>8</th>\n",
              "      <th>9</th>\n",
              "      <th>...</th>\n",
              "      <th>270220</th>\n",
              "      <th>270221</th>\n",
              "      <th>270222</th>\n",
              "      <th>270223</th>\n",
              "      <th>270224</th>\n",
              "      <th>270225</th>\n",
              "      <th>270226</th>\n",
              "      <th>270227</th>\n",
              "      <th>270228</th>\n",
              "      <th>270229</th>\n",
              "    </tr>\n",
              "  </thead>\n",
              "  <tbody>\n",
              "    <tr>\n",
              "      <th>0</th>\n",
              "      <td>0.247863</td>\n",
              "      <td>0.240661</td>\n",
              "      <td>0.408933</td>\n",
              "      <td>0.362972</td>\n",
              "      <td>0.779619</td>\n",
              "      <td>0.506531</td>\n",
              "      <td>0.908506</td>\n",
              "      <td>0.013852</td>\n",
              "      <td>0.544060</td>\n",
              "      <td>0.368795</td>\n",
              "      <td>...</td>\n",
              "      <td>0.803568</td>\n",
              "      <td>0.076266</td>\n",
              "      <td>0.418070</td>\n",
              "      <td>0.176153</td>\n",
              "      <td>0.134921</td>\n",
              "      <td>0.000604</td>\n",
              "      <td>0.297832</td>\n",
              "      <td>0.397776</td>\n",
              "      <td>0.254753</td>\n",
              "      <td>0.117534</td>\n",
              "    </tr>\n",
              "    <tr>\n",
              "      <th>1</th>\n",
              "      <td>0.260347</td>\n",
              "      <td>0.712643</td>\n",
              "      <td>0.893341</td>\n",
              "      <td>0.868345</td>\n",
              "      <td>0.806162</td>\n",
              "      <td>0.649684</td>\n",
              "      <td>0.395709</td>\n",
              "      <td>0.661580</td>\n",
              "      <td>0.814713</td>\n",
              "      <td>0.810592</td>\n",
              "      <td>...</td>\n",
              "      <td>0.529199</td>\n",
              "      <td>0.517160</td>\n",
              "      <td>0.176862</td>\n",
              "      <td>0.121120</td>\n",
              "      <td>0.084075</td>\n",
              "      <td>0.000358</td>\n",
              "      <td>0.117710</td>\n",
              "      <td>0.185585</td>\n",
              "      <td>0.007070</td>\n",
              "      <td>0.020764</td>\n",
              "    </tr>\n",
              "    <tr>\n",
              "      <th>2</th>\n",
              "      <td>0.569979</td>\n",
              "      <td>0.167517</td>\n",
              "      <td>0.306268</td>\n",
              "      <td>0.409230</td>\n",
              "      <td>0.858782</td>\n",
              "      <td>0.718137</td>\n",
              "      <td>0.436067</td>\n",
              "      <td>0.743585</td>\n",
              "      <td>0.337421</td>\n",
              "      <td>0.653785</td>\n",
              "      <td>...</td>\n",
              "      <td>0.009317</td>\n",
              "      <td>0.050760</td>\n",
              "      <td>0.295801</td>\n",
              "      <td>0.118917</td>\n",
              "      <td>0.090055</td>\n",
              "      <td>0.970252</td>\n",
              "      <td>0.023778</td>\n",
              "      <td>0.980680</td>\n",
              "      <td>0.016852</td>\n",
              "      <td>0.029897</td>\n",
              "    </tr>\n",
              "    <tr>\n",
              "      <th>3</th>\n",
              "      <td>0.287477</td>\n",
              "      <td>0.144060</td>\n",
              "      <td>0.533870</td>\n",
              "      <td>0.432932</td>\n",
              "      <td>0.049946</td>\n",
              "      <td>0.716384</td>\n",
              "      <td>0.162405</td>\n",
              "      <td>0.626267</td>\n",
              "      <td>0.772482</td>\n",
              "      <td>0.264690</td>\n",
              "      <td>...</td>\n",
              "      <td>0.011059</td>\n",
              "      <td>0.066008</td>\n",
              "      <td>0.742182</td>\n",
              "      <td>0.156756</td>\n",
              "      <td>0.107313</td>\n",
              "      <td>0.000431</td>\n",
              "      <td>0.024611</td>\n",
              "      <td>0.030546</td>\n",
              "      <td>0.016691</td>\n",
              "      <td>0.031373</td>\n",
              "    </tr>\n",
              "    <tr>\n",
              "      <th>4</th>\n",
              "      <td>0.981332</td>\n",
              "      <td>0.814402</td>\n",
              "      <td>0.764308</td>\n",
              "      <td>0.361701</td>\n",
              "      <td>0.654255</td>\n",
              "      <td>0.738591</td>\n",
              "      <td>0.838474</td>\n",
              "      <td>0.856906</td>\n",
              "      <td>0.456490</td>\n",
              "      <td>0.827585</td>\n",
              "      <td>...</td>\n",
              "      <td>0.857986</td>\n",
              "      <td>0.832940</td>\n",
              "      <td>0.270810</td>\n",
              "      <td>0.114926</td>\n",
              "      <td>0.802180</td>\n",
              "      <td>0.060895</td>\n",
              "      <td>0.031814</td>\n",
              "      <td>0.038914</td>\n",
              "      <td>0.022753</td>\n",
              "      <td>0.004293</td>\n",
              "    </tr>\n",
              "    <tr>\n",
              "      <th>5</th>\n",
              "      <td>0.343906</td>\n",
              "      <td>0.934803</td>\n",
              "      <td>0.583532</td>\n",
              "      <td>0.414557</td>\n",
              "      <td>0.057910</td>\n",
              "      <td>0.800711</td>\n",
              "      <td>0.567712</td>\n",
              "      <td>0.745701</td>\n",
              "      <td>0.910720</td>\n",
              "      <td>0.355172</td>\n",
              "      <td>...</td>\n",
              "      <td>0.914979</td>\n",
              "      <td>0.074564</td>\n",
              "      <td>0.399506</td>\n",
              "      <td>0.196631</td>\n",
              "      <td>0.142734</td>\n",
              "      <td>0.000468</td>\n",
              "      <td>0.979602</td>\n",
              "      <td>0.053813</td>\n",
              "      <td>0.039937</td>\n",
              "      <td>0.054112</td>\n",
              "    </tr>\n",
              "    <tr>\n",
              "      <th>6</th>\n",
              "      <td>0.290103</td>\n",
              "      <td>0.871329</td>\n",
              "      <td>0.216799</td>\n",
              "      <td>0.318671</td>\n",
              "      <td>0.053312</td>\n",
              "      <td>0.671482</td>\n",
              "      <td>0.463596</td>\n",
              "      <td>0.756691</td>\n",
              "      <td>0.207433</td>\n",
              "      <td>0.349797</td>\n",
              "      <td>...</td>\n",
              "      <td>0.978961</td>\n",
              "      <td>0.989702</td>\n",
              "      <td>0.971830</td>\n",
              "      <td>0.994910</td>\n",
              "      <td>0.979004</td>\n",
              "      <td>0.000407</td>\n",
              "      <td>0.165672</td>\n",
              "      <td>0.201977</td>\n",
              "      <td>0.026200</td>\n",
              "      <td>0.964091</td>\n",
              "    </tr>\n",
              "    <tr>\n",
              "      <th>7</th>\n",
              "      <td>0.625757</td>\n",
              "      <td>0.174455</td>\n",
              "      <td>0.580911</td>\n",
              "      <td>0.746685</td>\n",
              "      <td>0.046004</td>\n",
              "      <td>0.685058</td>\n",
              "      <td>0.487189</td>\n",
              "      <td>0.675081</td>\n",
              "      <td>0.423880</td>\n",
              "      <td>0.776632</td>\n",
              "      <td>...</td>\n",
              "      <td>0.009575</td>\n",
              "      <td>0.063795</td>\n",
              "      <td>0.270168</td>\n",
              "      <td>0.113270</td>\n",
              "      <td>0.768724</td>\n",
              "      <td>0.000419</td>\n",
              "      <td>0.104530</td>\n",
              "      <td>0.047950</td>\n",
              "      <td>0.031147</td>\n",
              "      <td>0.006314</td>\n",
              "    </tr>\n",
              "    <tr>\n",
              "      <th>8</th>\n",
              "      <td>0.086615</td>\n",
              "      <td>0.312039</td>\n",
              "      <td>0.596931</td>\n",
              "      <td>0.573347</td>\n",
              "      <td>0.113486</td>\n",
              "      <td>0.945398</td>\n",
              "      <td>0.739749</td>\n",
              "      <td>0.026564</td>\n",
              "      <td>0.685885</td>\n",
              "      <td>0.109178</td>\n",
              "      <td>...</td>\n",
              "      <td>0.027926</td>\n",
              "      <td>0.124071</td>\n",
              "      <td>0.504661</td>\n",
              "      <td>0.289877</td>\n",
              "      <td>0.204282</td>\n",
              "      <td>0.587167</td>\n",
              "      <td>0.469004</td>\n",
              "      <td>0.595854</td>\n",
              "      <td>0.992261</td>\n",
              "      <td>0.377666</td>\n",
              "    </tr>\n",
              "    <tr>\n",
              "      <th>9</th>\n",
              "      <td>0.282502</td>\n",
              "      <td>0.230946</td>\n",
              "      <td>0.467435</td>\n",
              "      <td>0.697076</td>\n",
              "      <td>0.869501</td>\n",
              "      <td>0.929596</td>\n",
              "      <td>0.777440</td>\n",
              "      <td>0.913451</td>\n",
              "      <td>0.478976</td>\n",
              "      <td>0.324609</td>\n",
              "      <td>...</td>\n",
              "      <td>0.013282</td>\n",
              "      <td>0.068462</td>\n",
              "      <td>0.681774</td>\n",
              "      <td>0.106899</td>\n",
              "      <td>0.634927</td>\n",
              "      <td>0.028100</td>\n",
              "      <td>0.840865</td>\n",
              "      <td>0.016594</td>\n",
              "      <td>0.008543</td>\n",
              "      <td>0.893889</td>\n",
              "    </tr>\n",
              "  </tbody>\n",
              "</table>\n",
              "<p>10 rows × 270230 columns</p>\n",
              "</div>\n",
              "      <button class=\"colab-df-convert\" onclick=\"convertToInteractive('df-2590f95f-a403-408c-abc4-db685bade94a')\"\n",
              "              title=\"Convert this dataframe to an interactive table.\"\n",
              "              style=\"display:none;\">\n",
              "        \n",
              "  <svg xmlns=\"http://www.w3.org/2000/svg\" height=\"24px\"viewBox=\"0 0 24 24\"\n",
              "       width=\"24px\">\n",
              "    <path d=\"M0 0h24v24H0V0z\" fill=\"none\"/>\n",
              "    <path d=\"M18.56 5.44l.94 2.06.94-2.06 2.06-.94-2.06-.94-.94-2.06-.94 2.06-2.06.94zm-11 1L8.5 8.5l.94-2.06 2.06-.94-2.06-.94L8.5 2.5l-.94 2.06-2.06.94zm10 10l.94 2.06.94-2.06 2.06-.94-2.06-.94-.94-2.06-.94 2.06-2.06.94z\"/><path d=\"M17.41 7.96l-1.37-1.37c-.4-.4-.92-.59-1.43-.59-.52 0-1.04.2-1.43.59L10.3 9.45l-7.72 7.72c-.78.78-.78 2.05 0 2.83L4 21.41c.39.39.9.59 1.41.59.51 0 1.02-.2 1.41-.59l7.78-7.78 2.81-2.81c.8-.78.8-2.07 0-2.86zM5.41 20L4 18.59l7.72-7.72 1.47 1.35L5.41 20z\"/>\n",
              "  </svg>\n",
              "      </button>\n",
              "      \n",
              "  <style>\n",
              "    .colab-df-container {\n",
              "      display:flex;\n",
              "      flex-wrap:wrap;\n",
              "      gap: 12px;\n",
              "    }\n",
              "\n",
              "    .colab-df-convert {\n",
              "      background-color: #E8F0FE;\n",
              "      border: none;\n",
              "      border-radius: 50%;\n",
              "      cursor: pointer;\n",
              "      display: none;\n",
              "      fill: #1967D2;\n",
              "      height: 32px;\n",
              "      padding: 0 0 0 0;\n",
              "      width: 32px;\n",
              "    }\n",
              "\n",
              "    .colab-df-convert:hover {\n",
              "      background-color: #E2EBFA;\n",
              "      box-shadow: 0px 1px 2px rgba(60, 64, 67, 0.3), 0px 1px 3px 1px rgba(60, 64, 67, 0.15);\n",
              "      fill: #174EA6;\n",
              "    }\n",
              "\n",
              "    [theme=dark] .colab-df-convert {\n",
              "      background-color: #3B4455;\n",
              "      fill: #D2E3FC;\n",
              "    }\n",
              "\n",
              "    [theme=dark] .colab-df-convert:hover {\n",
              "      background-color: #434B5C;\n",
              "      box-shadow: 0px 1px 3px 1px rgba(0, 0, 0, 0.15);\n",
              "      filter: drop-shadow(0px 1px 2px rgba(0, 0, 0, 0.3));\n",
              "      fill: #FFFFFF;\n",
              "    }\n",
              "  </style>\n",
              "\n",
              "      <script>\n",
              "        const buttonEl =\n",
              "          document.querySelector('#df-2590f95f-a403-408c-abc4-db685bade94a button.colab-df-convert');\n",
              "        buttonEl.style.display =\n",
              "          google.colab.kernel.accessAllowed ? 'block' : 'none';\n",
              "\n",
              "        async function convertToInteractive(key) {\n",
              "          const element = document.querySelector('#df-2590f95f-a403-408c-abc4-db685bade94a');\n",
              "          const dataTable =\n",
              "            await google.colab.kernel.invokeFunction('convertToInteractive',\n",
              "                                                     [key], {});\n",
              "          if (!dataTable) return;\n",
              "\n",
              "          const docLinkHtml = 'Like what you see? Visit the ' +\n",
              "            '<a target=\"_blank\" href=https://colab.research.google.com/notebooks/data_table.ipynb>data table notebook</a>'\n",
              "            + ' to learn more about interactive tables.';\n",
              "          element.innerHTML = '';\n",
              "          dataTable['output_type'] = 'display_data';\n",
              "          await google.colab.output.renderOutput(dataTable, element);\n",
              "          const docLink = document.createElement('div');\n",
              "          docLink.innerHTML = docLinkHtml;\n",
              "          element.appendChild(docLink);\n",
              "        }\n",
              "      </script>\n",
              "    </div>\n",
              "  </div>\n",
              "  "
            ]
          },
          "metadata": {},
          "execution_count": 37
        }
      ]
    },
    {
      "cell_type": "code",
      "source": [
        "# Ejemplo de Topic por FREX de acuerdo al bigrama más presente en ese discurso\n",
        "discurso=2\n",
        "print(f\"Bigrama más usado: {matrix[discurso].argmax()}\")\n",
        "print(f\"Topic: {frex_df[matrix[discurso].argmax()].argsort()[9]}\")"
      ],
      "metadata": {
        "colab": {
          "base_uri": "https://localhost:8080/"
        },
        "id": "8XRoJIpcD5rl",
        "outputId": "3de5a3ba-6d97-43dd-9165-3fa020103f3f"
      },
      "execution_count": 38,
      "outputs": [
        {
          "output_type": "stream",
          "name": "stdout",
          "text": [
            "Bigrama más usado: 3547\n",
            "Topic: 8\n"
          ]
        }
      ]
    },
    {
      "cell_type": "code",
      "source": [
        "base['id']=range(0,334421)"
      ],
      "metadata": {
        "id": "jMI1KKd8Eo4X"
      },
      "execution_count": 39,
      "outputs": []
    },
    {
      "cell_type": "code",
      "source": [
        "# Se crea una columna con el topic que se asigna por frex a cada discurso de la base\n",
        "base['Topic_FREX']=base.apply (lambda row: t_FREX(row), axis=1)"
      ],
      "metadata": {
        "id": "efCGbY1tEk4k"
      },
      "execution_count": 40,
      "outputs": []
    },
    {
      "cell_type": "code",
      "source": [
        "base.head(5)"
      ],
      "metadata": {
        "colab": {
          "base_uri": "https://localhost:8080/",
          "height": 629
        },
        "id": "RmlOb_8dEwpZ",
        "outputId": "9e59bced-4eda-47fe-f27e-2f3fa7abe093"
      },
      "execution_count": 41,
      "outputs": [
        {
          "output_type": "execute_result",
          "data": {
            "text/plain": [
              "   Unnamed: 0                                              orden  \\\n",
              "0           0  LECTURA DEL REAL DECRETO. DE CONVOCATORIA, DE ...   \n",
              "1           1                     DESIGNACION DE LA MESA DE EDAD   \n",
              "2           2                     DESIGNACION DE LA MESA DE EDAD   \n",
              "3           3  CONSTITUCION INTERINA DE LA CAMA. RA Y ELECCIO...   \n",
              "4           4  CONSTITUCION INTERINA DE LA CAMA. RA Y ELECCIO...   \n",
              "\n",
              "                                          namex  \\\n",
              "0       PRESIDENTE PROVISIONAL (Fraile Poujade)   \n",
              "1                        PRESIDENTE PROVISIONAL   \n",
              "2   PRESIDENTE PROVISIONAL (Rodríguez Valverde)   \n",
              "3  PRESIDENTE PROVISIONAL (Ro.dríguez Valverde)   \n",
              "4   PRESIDENTE PROVISIONAL (Rodríguez Valverde)   \n",
              "\n",
              "                                        intervention       fecha legislatura  \\\n",
              "0   Señoras y señores Diputados, se abre la sesió...  23/03/1979           I   \n",
              "1   (Fraile Poujade): Según la relación que cons....  23/03/1979           I   \n",
              "2   Siguiendo el orden del día, ruego al señor Es...  23/03/1979           I   \n",
              "3   Al reanudarse la sesión, procedería dar lectu...  23/03/1979           I   \n",
              "4   Una vez leído el informe de la Junta Electora...  23/03/1979           I   \n",
              "\n",
              "   pleno                    role              oradorx  \\\n",
              "0    1.0  PRESIDENTE PROVISIONAL       FRAILE POUJADE   \n",
              "1    1.0  PRESIDENTE PROVISIONAL       FRAILE POUJADE   \n",
              "2    1.0  PRESIDENTE PROVISIONAL   RODRIGUEZ VALVERDE   \n",
              "3    1.0  PRESIDENTE PROVISIONAL  RO.DRIGUEZ VALVERDE   \n",
              "4    1.0  PRESIDENTE PROVISIONAL   RODRIGUEZ VALVERDE   \n",
              "\n",
              "                               namey  ... total             oradory cataluna  \\\n",
              "0          Fraile Poujade, Modesto †  ...   4.0      FRAILE POUJADE      0.0   \n",
              "1          Fraile Poujade, Modesto †  ...   4.0      FRAILE POUJADE      0.0   \n",
              "2  Rodríguez Valverde, León Máximo †  ...   6.0  RODRIGUEZ VALVERDE      0.0   \n",
              "3  Rodríguez Valverde, León Máximo †  ...   6.0  RODRIGUEZ VALVERDE      0.0   \n",
              "4  Rodríguez Valverde, León Máximo †  ...   6.0  RODRIGUEZ VALVERDE      0.0   \n",
              "\n",
              "  estatut  inter_raw          partido  \\\n",
              "0     0.0        NaN  UCD, AP-PDP, CP   \n",
              "1     0.0        NaN  UCD, AP-PDP, CP   \n",
              "2     0.0        NaN             PSOE   \n",
              "3     0.0        NaN             PSOE   \n",
              "4     0.0        NaN             PSOE   \n",
              "\n",
              "                                              tokens  Topic_weight id  \\\n",
              "0  ['señora', 'señor', 'diputado', 'abr', 'junta'...             8  0   \n",
              "1  ['frail', 'poujad', 'segun', 'relacion', 'con'...             8  1   \n",
              "2  ['siguiendo', 'ruego', 'esperabe', 'arteaga', ...             9  2   \n",
              "3  ['reanudars', 'procederia', 'dar', 'lectura', ...             9  3   \n",
              "4  ['leido', 'inform', 'junta', 'elector', 'centr...             9  4   \n",
              "\n",
              "  Topic_FREX  \n",
              "0          8  \n",
              "1          8  \n",
              "2          8  \n",
              "3          8  \n",
              "4          1  \n",
              "\n",
              "[5 rows x 24 columns]"
            ],
            "text/html": [
              "\n",
              "  <div id=\"df-f623c12e-6630-4717-b10e-99b7fad7d53c\">\n",
              "    <div class=\"colab-df-container\">\n",
              "      <div>\n",
              "<style scoped>\n",
              "    .dataframe tbody tr th:only-of-type {\n",
              "        vertical-align: middle;\n",
              "    }\n",
              "\n",
              "    .dataframe tbody tr th {\n",
              "        vertical-align: top;\n",
              "    }\n",
              "\n",
              "    .dataframe thead th {\n",
              "        text-align: right;\n",
              "    }\n",
              "</style>\n",
              "<table border=\"1\" class=\"dataframe\">\n",
              "  <thead>\n",
              "    <tr style=\"text-align: right;\">\n",
              "      <th></th>\n",
              "      <th>Unnamed: 0</th>\n",
              "      <th>orden</th>\n",
              "      <th>namex</th>\n",
              "      <th>intervention</th>\n",
              "      <th>fecha</th>\n",
              "      <th>legislatura</th>\n",
              "      <th>pleno</th>\n",
              "      <th>role</th>\n",
              "      <th>oradorx</th>\n",
              "      <th>namey</th>\n",
              "      <th>...</th>\n",
              "      <th>total</th>\n",
              "      <th>oradory</th>\n",
              "      <th>cataluna</th>\n",
              "      <th>estatut</th>\n",
              "      <th>inter_raw</th>\n",
              "      <th>partido</th>\n",
              "      <th>tokens</th>\n",
              "      <th>Topic_weight</th>\n",
              "      <th>id</th>\n",
              "      <th>Topic_FREX</th>\n",
              "    </tr>\n",
              "  </thead>\n",
              "  <tbody>\n",
              "    <tr>\n",
              "      <th>0</th>\n",
              "      <td>0</td>\n",
              "      <td>LECTURA DEL REAL DECRETO. DE CONVOCATORIA, DE ...</td>\n",
              "      <td>PRESIDENTE PROVISIONAL (Fraile Poujade)</td>\n",
              "      <td>Señoras y señores Diputados, se abre la sesió...</td>\n",
              "      <td>23/03/1979</td>\n",
              "      <td>I</td>\n",
              "      <td>1.0</td>\n",
              "      <td>PRESIDENTE PROVISIONAL</td>\n",
              "      <td>FRAILE POUJADE</td>\n",
              "      <td>Fraile Poujade, Modesto †</td>\n",
              "      <td>...</td>\n",
              "      <td>4.0</td>\n",
              "      <td>FRAILE POUJADE</td>\n",
              "      <td>0.0</td>\n",
              "      <td>0.0</td>\n",
              "      <td>NaN</td>\n",
              "      <td>UCD, AP-PDP, CP</td>\n",
              "      <td>['señora', 'señor', 'diputado', 'abr', 'junta'...</td>\n",
              "      <td>8</td>\n",
              "      <td>0</td>\n",
              "      <td>8</td>\n",
              "    </tr>\n",
              "    <tr>\n",
              "      <th>1</th>\n",
              "      <td>1</td>\n",
              "      <td>DESIGNACION DE LA MESA DE EDAD</td>\n",
              "      <td>PRESIDENTE PROVISIONAL</td>\n",
              "      <td>(Fraile Poujade): Según la relación que cons....</td>\n",
              "      <td>23/03/1979</td>\n",
              "      <td>I</td>\n",
              "      <td>1.0</td>\n",
              "      <td>PRESIDENTE PROVISIONAL</td>\n",
              "      <td>FRAILE POUJADE</td>\n",
              "      <td>Fraile Poujade, Modesto †</td>\n",
              "      <td>...</td>\n",
              "      <td>4.0</td>\n",
              "      <td>FRAILE POUJADE</td>\n",
              "      <td>0.0</td>\n",
              "      <td>0.0</td>\n",
              "      <td>NaN</td>\n",
              "      <td>UCD, AP-PDP, CP</td>\n",
              "      <td>['frail', 'poujad', 'segun', 'relacion', 'con'...</td>\n",
              "      <td>8</td>\n",
              "      <td>1</td>\n",
              "      <td>8</td>\n",
              "    </tr>\n",
              "    <tr>\n",
              "      <th>2</th>\n",
              "      <td>2</td>\n",
              "      <td>DESIGNACION DE LA MESA DE EDAD</td>\n",
              "      <td>PRESIDENTE PROVISIONAL (Rodríguez Valverde)</td>\n",
              "      <td>Siguiendo el orden del día, ruego al señor Es...</td>\n",
              "      <td>23/03/1979</td>\n",
              "      <td>I</td>\n",
              "      <td>1.0</td>\n",
              "      <td>PRESIDENTE PROVISIONAL</td>\n",
              "      <td>RODRIGUEZ VALVERDE</td>\n",
              "      <td>Rodríguez Valverde, León Máximo †</td>\n",
              "      <td>...</td>\n",
              "      <td>6.0</td>\n",
              "      <td>RODRIGUEZ VALVERDE</td>\n",
              "      <td>0.0</td>\n",
              "      <td>0.0</td>\n",
              "      <td>NaN</td>\n",
              "      <td>PSOE</td>\n",
              "      <td>['siguiendo', 'ruego', 'esperabe', 'arteaga', ...</td>\n",
              "      <td>9</td>\n",
              "      <td>2</td>\n",
              "      <td>8</td>\n",
              "    </tr>\n",
              "    <tr>\n",
              "      <th>3</th>\n",
              "      <td>3</td>\n",
              "      <td>CONSTITUCION INTERINA DE LA CAMA. RA Y ELECCIO...</td>\n",
              "      <td>PRESIDENTE PROVISIONAL (Ro.dríguez Valverde)</td>\n",
              "      <td>Al reanudarse la sesión, procedería dar lectu...</td>\n",
              "      <td>23/03/1979</td>\n",
              "      <td>I</td>\n",
              "      <td>1.0</td>\n",
              "      <td>PRESIDENTE PROVISIONAL</td>\n",
              "      <td>RO.DRIGUEZ VALVERDE</td>\n",
              "      <td>Rodríguez Valverde, León Máximo †</td>\n",
              "      <td>...</td>\n",
              "      <td>6.0</td>\n",
              "      <td>RODRIGUEZ VALVERDE</td>\n",
              "      <td>0.0</td>\n",
              "      <td>0.0</td>\n",
              "      <td>NaN</td>\n",
              "      <td>PSOE</td>\n",
              "      <td>['reanudars', 'procederia', 'dar', 'lectura', ...</td>\n",
              "      <td>9</td>\n",
              "      <td>3</td>\n",
              "      <td>8</td>\n",
              "    </tr>\n",
              "    <tr>\n",
              "      <th>4</th>\n",
              "      <td>4</td>\n",
              "      <td>CONSTITUCION INTERINA DE LA CAMA. RA Y ELECCIO...</td>\n",
              "      <td>PRESIDENTE PROVISIONAL (Rodríguez Valverde)</td>\n",
              "      <td>Una vez leído el informe de la Junta Electora...</td>\n",
              "      <td>23/03/1979</td>\n",
              "      <td>I</td>\n",
              "      <td>1.0</td>\n",
              "      <td>PRESIDENTE PROVISIONAL</td>\n",
              "      <td>RODRIGUEZ VALVERDE</td>\n",
              "      <td>Rodríguez Valverde, León Máximo †</td>\n",
              "      <td>...</td>\n",
              "      <td>6.0</td>\n",
              "      <td>RODRIGUEZ VALVERDE</td>\n",
              "      <td>0.0</td>\n",
              "      <td>0.0</td>\n",
              "      <td>NaN</td>\n",
              "      <td>PSOE</td>\n",
              "      <td>['leido', 'inform', 'junta', 'elector', 'centr...</td>\n",
              "      <td>9</td>\n",
              "      <td>4</td>\n",
              "      <td>1</td>\n",
              "    </tr>\n",
              "  </tbody>\n",
              "</table>\n",
              "<p>5 rows × 24 columns</p>\n",
              "</div>\n",
              "      <button class=\"colab-df-convert\" onclick=\"convertToInteractive('df-f623c12e-6630-4717-b10e-99b7fad7d53c')\"\n",
              "              title=\"Convert this dataframe to an interactive table.\"\n",
              "              style=\"display:none;\">\n",
              "        \n",
              "  <svg xmlns=\"http://www.w3.org/2000/svg\" height=\"24px\"viewBox=\"0 0 24 24\"\n",
              "       width=\"24px\">\n",
              "    <path d=\"M0 0h24v24H0V0z\" fill=\"none\"/>\n",
              "    <path d=\"M18.56 5.44l.94 2.06.94-2.06 2.06-.94-2.06-.94-.94-2.06-.94 2.06-2.06.94zm-11 1L8.5 8.5l.94-2.06 2.06-.94-2.06-.94L8.5 2.5l-.94 2.06-2.06.94zm10 10l.94 2.06.94-2.06 2.06-.94-2.06-.94-.94-2.06-.94 2.06-2.06.94z\"/><path d=\"M17.41 7.96l-1.37-1.37c-.4-.4-.92-.59-1.43-.59-.52 0-1.04.2-1.43.59L10.3 9.45l-7.72 7.72c-.78.78-.78 2.05 0 2.83L4 21.41c.39.39.9.59 1.41.59.51 0 1.02-.2 1.41-.59l7.78-7.78 2.81-2.81c.8-.78.8-2.07 0-2.86zM5.41 20L4 18.59l7.72-7.72 1.47 1.35L5.41 20z\"/>\n",
              "  </svg>\n",
              "      </button>\n",
              "      \n",
              "  <style>\n",
              "    .colab-df-container {\n",
              "      display:flex;\n",
              "      flex-wrap:wrap;\n",
              "      gap: 12px;\n",
              "    }\n",
              "\n",
              "    .colab-df-convert {\n",
              "      background-color: #E8F0FE;\n",
              "      border: none;\n",
              "      border-radius: 50%;\n",
              "      cursor: pointer;\n",
              "      display: none;\n",
              "      fill: #1967D2;\n",
              "      height: 32px;\n",
              "      padding: 0 0 0 0;\n",
              "      width: 32px;\n",
              "    }\n",
              "\n",
              "    .colab-df-convert:hover {\n",
              "      background-color: #E2EBFA;\n",
              "      box-shadow: 0px 1px 2px rgba(60, 64, 67, 0.3), 0px 1px 3px 1px rgba(60, 64, 67, 0.15);\n",
              "      fill: #174EA6;\n",
              "    }\n",
              "\n",
              "    [theme=dark] .colab-df-convert {\n",
              "      background-color: #3B4455;\n",
              "      fill: #D2E3FC;\n",
              "    }\n",
              "\n",
              "    [theme=dark] .colab-df-convert:hover {\n",
              "      background-color: #434B5C;\n",
              "      box-shadow: 0px 1px 3px 1px rgba(0, 0, 0, 0.15);\n",
              "      filter: drop-shadow(0px 1px 2px rgba(0, 0, 0, 0.3));\n",
              "      fill: #FFFFFF;\n",
              "    }\n",
              "  </style>\n",
              "\n",
              "      <script>\n",
              "        const buttonEl =\n",
              "          document.querySelector('#df-f623c12e-6630-4717-b10e-99b7fad7d53c button.colab-df-convert');\n",
              "        buttonEl.style.display =\n",
              "          google.colab.kernel.accessAllowed ? 'block' : 'none';\n",
              "\n",
              "        async function convertToInteractive(key) {\n",
              "          const element = document.querySelector('#df-f623c12e-6630-4717-b10e-99b7fad7d53c');\n",
              "          const dataTable =\n",
              "            await google.colab.kernel.invokeFunction('convertToInteractive',\n",
              "                                                     [key], {});\n",
              "          if (!dataTable) return;\n",
              "\n",
              "          const docLinkHtml = 'Like what you see? Visit the ' +\n",
              "            '<a target=\"_blank\" href=https://colab.research.google.com/notebooks/data_table.ipynb>data table notebook</a>'\n",
              "            + ' to learn more about interactive tables.';\n",
              "          element.innerHTML = '';\n",
              "          dataTable['output_type'] = 'display_data';\n",
              "          await google.colab.output.renderOutput(dataTable, element);\n",
              "          const docLink = document.createElement('div');\n",
              "          docLink.innerHTML = docLinkHtml;\n",
              "          element.appendChild(docLink);\n",
              "        }\n",
              "      </script>\n",
              "    </div>\n",
              "  </div>\n",
              "  "
            ]
          },
          "metadata": {},
          "execution_count": 41
        }
      ]
    },
    {
      "cell_type": "code",
      "source": [
        "# Promedio general de bigramas únicos por discurso\n",
        "(matrix != 0).sum(1).mean()"
      ],
      "metadata": {
        "colab": {
          "base_uri": "https://localhost:8080/"
        },
        "id": "Rz6ACA4QFhi3",
        "outputId": "4ffd3cba-1d4f-4da7-fa87-dcbc2635df02"
      },
      "execution_count": 42,
      "outputs": [
        {
          "output_type": "execute_result",
          "data": {
            "text/plain": [
              "25.356460868187106"
            ]
          },
          "metadata": {},
          "execution_count": 42
        }
      ]
    },
    {
      "cell_type": "markdown",
      "source": [
        "# Gráficos"
      ],
      "metadata": {
        "id": "ACFUCUxXFekz"
      }
    },
    {
      "cell_type": "code",
      "source": [
        "base['Topic_FREX'].unique()"
      ],
      "metadata": {
        "colab": {
          "base_uri": "https://localhost:8080/"
        },
        "id": "g2csnpOhKeUu",
        "outputId": "fdb22219-0dd8-4da0-9033-ebdc720c9720"
      },
      "execution_count": 70,
      "outputs": [
        {
          "output_type": "execute_result",
          "data": {
            "text/plain": [
              "array([8, 1, 4, 0, 9, 3, 5, 6, 2, 7])"
            ]
          },
          "metadata": {},
          "execution_count": 70
        }
      ]
    },
    {
      "cell_type": "code",
      "source": [
        "base['Year']=pd.DatetimeIndex(base.fecha).year\n",
        "base['Month']=pd.DatetimeIndex(base.fecha).month"
      ],
      "metadata": {
        "id": "TEPDzv9XB0D4"
      },
      "execution_count": 48,
      "outputs": []
    },
    {
      "cell_type": "code",
      "source": [
        "import datetime\n",
        "def get_mode_list(x):\n",
        "    mode = pd.Series.mode(x)\n",
        "    return mode[0] if isinstance(mode, pd.Series) else [mode]\n",
        "\n",
        "graf=base.groupby(['Year', 'Month'], as_index=False)['Topic_FREX'].agg(get_mode_list)"
      ],
      "metadata": {
        "id": "cBftJMN6DK2u"
      },
      "execution_count": 97,
      "outputs": []
    },
    {
      "cell_type": "code",
      "source": [
        "graf['date'] = graf.apply(lambda x: datetime.datetime(x['Year'], x['Month'], 1), axis=1)"
      ],
      "metadata": {
        "id": "HWV-ZFkLEiI5"
      },
      "execution_count": 99,
      "outputs": []
    },
    {
      "cell_type": "code",
      "source": [
        "plt.plot(graf.date, graf.Topic_FREX, linewidth=0, markersize=5, marker='o')"
      ],
      "metadata": {
        "colab": {
          "base_uri": "https://localhost:8080/",
          "height": 282
        },
        "id": "yGCPFWYDDnEj",
        "outputId": "9de83ce5-6498-4b6d-fc27-53d4a2a4fea3"
      },
      "execution_count": 101,
      "outputs": [
        {
          "output_type": "execute_result",
          "data": {
            "text/plain": [
              "[<matplotlib.lines.Line2D at 0x7efe9d6377f0>]"
            ]
          },
          "metadata": {},
          "execution_count": 101
        },
        {
          "output_type": "display_data",
          "data": {
            "text/plain": [
              "<Figure size 432x288 with 1 Axes>"
            ],
            "image/png": "[encoded data removed]"
          },
          "metadata": {
            "needs_background": "light"
          }
        }
      ]
    },
    {
      "cell_type": "markdown",
      "source": [
        "Ahora para weights"
      ],
      "metadata": {
        "id": "BOEHXbWKF7YJ"
      }
    },
    {
      "cell_type": "code",
      "source": [
        "base['Topic_weight'].unique()"
      ],
      "metadata": {
        "colab": {
          "base_uri": "https://localhost:8080/"
        },
        "id": "eQWmKLVDKjRB",
        "outputId": "1168f7a7-d4c1-41fc-9746-433b9cd53a88"
      },
      "execution_count": 102,
      "outputs": [
        {
          "output_type": "execute_result",
          "data": {
            "text/plain": [
              "array([8, 9, 0, 1, 7, 4, 3, 2, 6, 5])"
            ]
          },
          "metadata": {},
          "execution_count": 102
        }
      ]
    },
    {
      "cell_type": "code",
      "source": [
        "graf=base.groupby(['Year', 'Month'], as_index=False)['Topic_weight'].agg(get_mode_list)\n",
        "graf['date'] = graf.apply(lambda x: datetime.datetime(x['Year'], x['Month'], 1), axis=1)"
      ],
      "metadata": {
        "id": "YLe8TEq1Fj9J"
      },
      "execution_count": 103,
      "outputs": []
    },
    {
      "cell_type": "code",
      "source": [
        "plt.plot(graf.date, graf.Topic_weight, linewidth=0, markersize=5, marker='o')"
      ],
      "metadata": {
        "colab": {
          "base_uri": "https://localhost:8080/",
          "height": 282
        },
        "id": "WdcGFs2BFwb0",
        "outputId": "7700826e-72b2-423c-a164-a5e64b64ce75"
      },
      "execution_count": 104,
      "outputs": [
        {
          "output_type": "execute_result",
          "data": {
            "text/plain": [
              "[<matplotlib.lines.Line2D at 0x7efe9d5b3a00>]"
            ]
          },
          "metadata": {},
          "execution_count": 104
        },
        {
          "output_type": "display_data",
          "data": {
            "text/plain": [
              "<Figure size 432x288 with 1 Axes>"
            ],
            "image/png": "[encoded data removed]"
          },
          "metadata": {
            "needs_background": "light"
          }
        }
      ]
    }
  ]
}