{
  "nbformat": 4,
  "nbformat_minor": 0,
  "metadata": {
    "colab": {
      "provenance": [],
      "authorship_tag": "ABX9TyOmYpjdJc6O8uEQ1+tBSW1X",
      "include_colab_link": true
    },
    "kernelspec": {
      "name": "python3",
      "display_name": "Python 3"
    },
    "language_info": {
      "name": "python"
    },
    "accelerator": "TPU",
    "gpuClass": "standard"
  },
  "cells": [
    {
      "cell_type": "markdown",
      "metadata": {
        "id": "view-in-github",
        "colab_type": "text"
      },
      "source": [
        "<a href=\"https://colab.research.google.com/github/LCaravaggio/politext/blob/main/GS.ipynb\" target=\"_parent\"><img src=\"https://colab.research.google.com/assets/colab-badge.svg\" alt=\"Open In Colab\"/></a>"
      ]
    },
    {
      "cell_type": "markdown",
      "source": [
        "# Cargar la base"
      ],
      "metadata": {
        "id": "3bR6IbjGTqyw"
      }
    },
    {
      "cell_type": "code",
      "source": [
        "from google.colab import drive\n",
        "drive.mount('/content/drive')"
      ],
      "metadata": {
        "colab": {
          "base_uri": "https://localhost:8080/"
        },
        "id": "1d3u68qTTy95",
        "outputId": "54ecbde1-92c0-49cd-bc4f-b5fd1727a35e"
      },
      "execution_count": 1,
      "outputs": [
        {
          "output_type": "stream",
          "name": "stdout",
          "text": [
            "Mounted at /content/drive\n"
          ]
        }
      ]
    },
    {
      "cell_type": "code",
      "source": [
        "import pandas as pd\n",
        "base=pd.read_csv('/content/drive/MyDrive/base_formateada.csv')"
      ],
      "metadata": {
        "id": "a4Y2nh_NT6vv",
        "colab": {
          "base_uri": "https://localhost:8080/"
        },
        "outputId": "e6535432-b0b9-4bd7-8a20-983243727fc8"
      },
      "execution_count": 2,
      "outputs": [
        {
          "output_type": "stream",
          "name": "stderr",
          "text": [
            "/usr/local/lib/python3.8/dist-packages/IPython/core/interactiveshell.py:3326: DtypeWarning: Columns (18) have mixed types.Specify dtype option on import or set low_memory=False.\n",
            "  exec(code_obj, self.user_global_ns, self.user_ns)\n"
          ]
        }
      ]
    },
    {
      "cell_type": "code",
      "source": [
        "import nltk\n",
        "nltk.download('stopwords')\n",
        "from nltk.corpus import stopwords\n",
        "stopwords=stopwords.words('spanish')"
      ],
      "metadata": {
        "colab": {
          "base_uri": "https://localhost:8080/"
        },
        "id": "vG2Zxxq3UvyZ",
        "outputId": "df9bb2f9-7c96-4bfe-9ac8-a0e83daeb429"
      },
      "execution_count": 3,
      "outputs": [
        {
          "output_type": "stream",
          "name": "stderr",
          "text": [
            "[nltk_data] Downloading package stopwords to /root/nltk_data...\n",
            "[nltk_data]   Unzipping corpora/stopwords.zip.\n"
          ]
        }
      ]
    },
    {
      "cell_type": "code",
      "source": [
        "# Se incorporan las stopwords sugeridas por Federico\n",
        "stopwords.extend(['señor', 'señora', 'mucha', 'gracia', 'año', 'pasado', 'cada', 'vez', 'uno', 'dos', 'tres', 'cuatro', 'cinco', 'seis' ,'siete', 'ocho', 'nueve', 'diez'])\n",
        "stopwords.extend(['hoy', 'aquí', 'primer', 'lugar', 'primera', 'segunda', 'primero', 'segundo', 'siguiente', 'tercer'])\n",
        "stopwords.extend(['convergencia', 'esquerra', 'republicana', 'grupo', 'parlamentaria', 'parlamentario', 'partido'])\n",
        "stopwords.extend(['enmienda', 'votación', 'favor', 'abstención', 'ley', 'real', 'decreto', 'decretoley', 'resultado', 'voto', 'sé' ,'sí', 'silencio' ,'favor'])\n",
        "stopwords.extend(['usted', 'señoría', 'presidente', 'presidenta', 'ministro', 'orden' , 'día', 'palabra', 'petición', 'posición', 'punto', 'vista', 'sesión', 'baldoví', 'duran', 'turno'])\n",
        "stopwords.extend(['hacer', 'frente', 'puede' ,'ser', 'va', 'voy', 'decir'])\n",
        "stopwords.extend(['millón', 'euro', 'emitido', 'efectuada', 'dio', 'comienzo', 'partido', 'queda', 'quedan', 'rechazada', 'aceptada', 'comienza', 'usted', 'sabe', 'abstención', 'diputado', 'gobierno'])\n",
        "stopwords.extend(['continuación', 'votamos', 'telemático', 'republicanaizquierda', 'unidainiciativa', 'puede', 'bien', 'propuesta' ,'abstencion', 'mayoría', 'absoluta', 'pregunta', 'don', 'vamos', 'votar', 'llevar', 'cabo', 'millón', 'muchas', 'gracias'])\n",
        "stopwords.extend(['podemosen', 'podemen', 'ministro', 'ministra', 'ss', 'ruego', 'aprobado', 'aprobada'])\n",
        "stopwords.extend(['diputado', 'diputada', 'don', 'doña', 'vicepresidenta', 'sagastizab', 'unzetabarrenetxea', 'agirretxea', 'urresti', 'escrutinio', 'dijo', 'dice', 'quevedo'])\n",
        "stopwords.extend(['campuzano', 'beitialarrangoitia', 'gonzalezmoro', 'mixto'])"
      ],
      "metadata": {
        "id": "D34MOjAhUx_a"
      },
      "execution_count": 4,
      "outputs": []
    },
    {
      "cell_type": "code",
      "source": [
        "# Se incorporan los nombres de los oradores como stopwords\n",
        "from collections import Counter\n",
        "nombres=[]\n",
        "for i in base.namey.unique().tolist(): nombres.extend(str(i).split(' '))\n",
        "nombres = [x.strip(' ') for x in nombres]\n",
        "nombres = [x.strip(' †') for x in nombres]\n",
        "nombres = [x.strip(',') for x in nombres]\n",
        "nombres=list(Counter(nombres))\n",
        "nombres.remove('')"
      ],
      "metadata": {
        "id": "yRV1LnZ51Z8_"
      },
      "execution_count": 5,
      "outputs": []
    },
    {
      "cell_type": "code",
      "source": [
        "stopwords.extend(nombres)"
      ],
      "metadata": {
        "id": "h_aUXBkoJTLY"
      },
      "execution_count": 6,
      "outputs": []
    },
    {
      "cell_type": "code",
      "source": [
        "partidos=pd.read_csv('/content/drive/MyDrive/partidos.csv', encoding='latin1', sep=';')"
      ],
      "metadata": {
        "id": "gVO9-cRc2C2h"
      },
      "execution_count": 7,
      "outputs": []
    },
    {
      "cell_type": "code",
      "source": [
        "for x in partidos['nombre'].unique(): \n",
        "  a=str(x).rstrip(' ')\n",
        "  stopwords.extend(str(a).split())\n",
        "  stopwords.extend(a)\n",
        "\n",
        "for x in partidos['1'].unique():\n",
        "  a=str(x).rstrip(' ')\n",
        "  stopwords.extend(a.split())\n",
        "  stopwords.extend(a)\n",
        "\n",
        "for x in partidos['2'].unique(): \n",
        "  a=str(x).rstrip(' ')\n",
        "  stopwords.extend(a.split())\n",
        "  stopwords.extend(a)\n",
        "\n",
        "for x in partidos['3'].unique(): \n",
        "  a=str(x).rstrip(' ')\n",
        "  stopwords.extend(a.split())\n",
        "  stopwords.extend(a)"
      ],
      "metadata": {
        "id": "JRe_Lrv02rRQ"
      },
      "execution_count": 8,
      "outputs": []
    },
    {
      "cell_type": "code",
      "source": [
        "len(stopwords)"
      ],
      "metadata": {
        "id": "PcvgCNO-OI4Z",
        "outputId": "7762a1c1-5acc-4bd7-d879-ea66f5eeb779",
        "colab": {
          "base_uri": "https://localhost:8080/"
        }
      },
      "execution_count": 9,
      "outputs": [
        {
          "output_type": "execute_result",
          "data": {
            "text/plain": [
              "4481"
            ]
          },
          "metadata": {},
          "execution_count": 9
        }
      ]
    },
    {
      "cell_type": "code",
      "source": [
        "# elimino acentos de los tokens\n",
        "a,b = 'áàéèíóúü','aaeeiouu'\n",
        "trans = str.maketrans(a,b)\n",
        "list = []\n",
        "for row in base.values:\n",
        "    row[20]=row[20].translate(trans)\n",
        "    list.append(row)\n",
        "\n",
        "base = pd.DataFrame(list, columns=base.columns)"
      ],
      "metadata": {
        "id": "6oEIOU9opvUN"
      },
      "execution_count": 10,
      "outputs": []
    },
    {
      "cell_type": "code",
      "source": [
        "# llevo las stopwords a minúsculas y elimino acentos\n",
        "stopwords=[x.lower() for x in stopwords if type(x)==str]\n",
        "stopwords=[x.translate(trans) for x in stopwords if type(x)==str]"
      ],
      "metadata": {
        "id": "wMKKiWt5oZnO"
      },
      "execution_count": 11,
      "outputs": []
    },
    {
      "cell_type": "markdown",
      "source": [
        "# Mencionadas en al menos 10 discursos\n",
        "(spoken in at least 10 unique speaker-session)"
      ],
      "metadata": {
        "id": "niQ8Yz2kYfL8"
      }
    },
    {
      "cell_type": "code",
      "source": [
        "from sklearn.feature_extraction.text import CountVectorizer\n",
        "\n",
        "vect = CountVectorizer(ngram_range=[2,2], stop_words=stopwords , min_df=10)\n",
        "bow = vect.fit_transform(base['tokens'])"
      ],
      "metadata": {
        "id": "wIkH9CBhZE6m",
        "outputId": "ac19cd26-3e32-4ac3-f804-e741216d01e0",
        "colab": {
          "base_uri": "https://localhost:8080/"
        }
      },
      "execution_count": 12,
      "outputs": [
        {
          "output_type": "stream",
          "name": "stderr",
          "text": [
            "/usr/local/lib/python3.8/dist-packages/sklearn/feature_extraction/text.py:396: UserWarning: Your stop_words may be inconsistent with your preprocessing. Tokenizing the stop words generated tokens ['ahuja', 'alcañiz', 'amor', 'arreciado', 'barcena', 'barnuevo', 'capel', 'capitan', 'cascos', 'castejon', 'cienfuegos', 'compromis', 'congr', 'escandon', 'estefani', 'figueroa', 'fortun', 'hickman', 'huarte', 'jeltzalea', 'jovellanos', 'lasquetty', 'latorre', 'legaz', 'lersundi', 'llin', 'machuca', 'maillo', 'mancisidor', 'margallo', 'maribona', 'marlaska', 'medel', 'menchero', 'mendicoa', 'na', 'olivares', 'patxi', 'peces', 'pedrero', 'pinilla', 'piñero', 'ponga', 'pujalte', 'salmones', 'santesmases', 'sito', 'soro', 'sotelo', 'tagle', 'tesorero', 'tizon', 'toledano', 'torrecilla', 'trevijano', 'valdecasas', 'valdes', 'vargas', 'villaseñor', 'ximo', 'yañez'] not in stop_words.\n",
            "  warnings.warn(\n"
          ]
        }
      ]
    },
    {
      "cell_type": "code",
      "source": [
        "total_features = len(vect.vocabulary_)"
      ],
      "metadata": {
        "id": "mckvFlWih2bu"
      },
      "execution_count": 13,
      "outputs": []
    },
    {
      "cell_type": "markdown",
      "source": [
        "# Mencionadas al menos 100 veces en total\n",
        "(spoken at least 100 times across al sessions)"
      ],
      "metadata": {
        "id": "7hQBT61Eh3Lw"
      }
    },
    {
      "cell_type": "code",
      "source": [
        "new_voc={}\n",
        "for token in vect.vocabulary_: \n",
        "  if vect.vocabulary_[token]>100:\n",
        "    new_voc[token]=vect.vocabulary_[token]"
      ],
      "metadata": {
        "id": "GVsuZbfyd8OJ"
      },
      "execution_count": 14,
      "outputs": []
    },
    {
      "cell_type": "code",
      "source": [
        "len(new_voc)"
      ],
      "metadata": {
        "id": "r2-2-d6_hr-_",
        "outputId": "53073354-2791-40cf-e0b8-74a19209cf73",
        "colab": {
          "base_uri": "https://localhost:8080/"
        }
      },
      "execution_count": 15,
      "outputs": [
        {
          "output_type": "execute_result",
          "data": {
            "text/plain": [
              "270231"
            ]
          },
          "metadata": {},
          "execution_count": 15
        }
      ]
    },
    {
      "cell_type": "markdown",
      "source": [
        "# Mencionadas al menos 10 veces en un día\n",
        "(spoken at least 10 times in at least one session)"
      ],
      "metadata": {
        "id": "q5idatwOQz8B"
      }
    },
    {
      "cell_type": "code",
      "source": [
        "# Gentzkow et.al. usan mencionadas al menos 10 veces en una \"sesión\". Acá se usa mencionadas al menos 10 veces en un \"día\". \n",
        "\n",
        "new_voc2={}\n",
        "vect = CountVectorizer(ngram_range=[2,2], stop_words=stopwords)\n",
        "for x in base.fecha.unique(): \n",
        "  base_dia=base[pd.DatetimeIndex(base.fecha)==x]\n",
        "  try: \n",
        "    bow = vect.fit_transform(base_dia['tokens'])\n",
        "    for token in vect.vocabulary_: \n",
        "      if vect.vocabulary_[token]>10:\n",
        "        new_voc2[token]=vect.vocabulary_[token]\n",
        "  except: pass"
      ],
      "metadata": {
        "id": "t99_S7tOQ1QB"
      },
      "execution_count": 16,
      "outputs": []
    },
    {
      "cell_type": "code",
      "source": [
        "len(new_voc2)"
      ],
      "metadata": {
        "id": "ag7htFVFmJl4",
        "outputId": "4b5f5907-2262-41aa-d2e7-c0e858bca4cf",
        "colab": {
          "base_uri": "https://localhost:8080/"
        }
      },
      "execution_count": 17,
      "outputs": [
        {
          "output_type": "execute_result",
          "data": {
            "text/plain": [
              "7719234"
            ]
          },
          "metadata": {},
          "execution_count": 17
        }
      ]
    },
    {
      "cell_type": "markdown",
      "source": [
        "# Combinación"
      ],
      "metadata": {
        "id": "lT1yqy_YZv_r"
      }
    },
    {
      "cell_type": "code",
      "source": [
        "inter=set(new_voc2).intersection(new_voc)"
      ],
      "metadata": {
        "id": "EOKJYrc1b538"
      },
      "execution_count": 18,
      "outputs": []
    },
    {
      "cell_type": "code",
      "source": [
        "vect = CountVectorizer(ngram_range=[2,2], stop_words=stopwords ,vocabulary=inter)\n",
        "bow = vect.fit_transform(base['tokens'])\n",
        "total_features = len(vect.vocabulary_)"
      ],
      "metadata": {
        "id": "pWPzVsZqZyuZ"
      },
      "execution_count": 19,
      "outputs": []
    },
    {
      "cell_type": "code",
      "source": [
        "# La intersección genera un vocabulario de apenas 814 bigramas. \n",
        "total_features"
      ],
      "metadata": {
        "id": "2Xdq8tNmah0y",
        "outputId": "e4d42620-25ac-4e5a-ff86-c5747435f083",
        "colab": {
          "base_uri": "https://localhost:8080/"
        }
      },
      "execution_count": 20,
      "outputs": [
        {
          "output_type": "execute_result",
          "data": {
            "text/plain": [
              "270230"
            ]
          },
          "metadata": {},
          "execution_count": 20
        }
      ]
    },
    {
      "cell_type": "code",
      "source": [
        "matrix = bow"
      ],
      "metadata": {
        "id": "x63AW_utluu4"
      },
      "execution_count": 21,
      "outputs": []
    },
    {
      "cell_type": "markdown",
      "source": [
        "# Número óptimo de clústers"
      ],
      "metadata": {
        "id": "Ly1yHtQRdesl"
      }
    },
    {
      "cell_type": "code",
      "source": [
        "from sklearn.decomposition import LatentDirichletAllocation"
      ],
      "metadata": {
        "id": "nrX8JFA8HNjg"
      },
      "execution_count": 22,
      "outputs": []
    },
    {
      "cell_type": "code",
      "source": [
        "# LDA en Sklearn tiene un resultado de score correspondiente al log-likelihood. En base a ese criterio se identifica el número óptimo de clusters. \n",
        "\n",
        "from sklearn.model_selection import GridSearchCV\n",
        "\n",
        "search_params = {'n_components': [10, 30, 50]}\n",
        "\n",
        "model = LatentDirichletAllocation(max_iter=5, learning_method='online', learning_offset=50.,random_state=0)\n",
        "\n",
        "gridsearch = GridSearchCV(model,\n",
        "                          param_grid=search_params,\n",
        "                          n_jobs=-1,\n",
        "                          verbose=1, \n",
        "                          cv=2)\n",
        "gridsearch.fit(matrix)\n",
        "\n",
        "## Save the best model\n",
        "best_lda = gridsearch.best_estimator_"
      ],
      "metadata": {
        "id": "2mF9Tq-_dh73",
        "outputId": "aede9f13-5170-4941-87c3-097c3e728b80",
        "colab": {
          "base_uri": "https://localhost:8080/"
        }
      },
      "execution_count": null,
      "outputs": [
        {
          "metadata": {
            "tags": null
          },
          "name": "stdout",
          "output_type": "stream",
          "text": [
            "Fitting 2 folds for each of 3 candidates, totalling 6 fits\n"
          ]
        }
      ]
    },
    {
      "cell_type": "code",
      "source": [
        "import seaborn as sns\n",
        "\n",
        "cv_results_df = pd.DataFrame(gridsearch.cv_results_)\n",
        "\n",
        "sns.set(rc={\"figure.dpi\":150, 'savefig.dpi':150})\n",
        "sns.pointplot(x=\"param_n_components\",\n",
        "              y=\"mean_test_score\",\n",
        "              data=cv_results_df)"
      ],
      "metadata": {
        "id": "XYJvKjyHd1qK",
        "outputId": "133770bb-ca58-49bf-bc49-d80cd234b92d",
        "colab": {
          "base_uri": "https://localhost:8080/",
          "height": 616
        }
      },
      "execution_count": null,
      "outputs": [
        {
          "output_type": "execute_result",
          "data": {
            "text/plain": [
              "<matplotlib.axes._subplots.AxesSubplot at 0x7fb0472cf3d0>"
            ]
          },
          "metadata": {},
          "execution_count": 25
        },
        {
          "output_type": "display_data",
          "data": {
            "text/plain": [
              "<Figure size 900x600 with 1 Axes>"
            ],
            "image/png": "[encoded data removed]"
          },
          "metadata": {}
        }
      ]
    },
    {
      "cell_type": "code",
      "source": [
        "# LDA en Sklearn tiene un resultado de score correspondiente al log-likelihood. En base a ese criterio se identifica el número óptimo de clusters. \n",
        "\n",
        "from sklearn.model_selection import GridSearchCV\n",
        "\n",
        "search_params = {'n_components': [8, 15, 20]}\n",
        "\n",
        "model = LatentDirichletAllocation(max_iter=5, learning_method='online', learning_offset=50.,random_state=0)\n",
        "\n",
        "gridsearch = GridSearchCV(model,\n",
        "                          param_grid=search_params,\n",
        "                          n_jobs=-1,\n",
        "                          verbose=1, \n",
        "                          cv=2)\n",
        "gridsearch.fit(matrix)"
      ],
      "metadata": {
        "id": "V3KCnL05BDDq"
      },
      "execution_count": null,
      "outputs": []
    },
    {
      "cell_type": "code",
      "source": [
        "import seaborn as sns\n",
        "\n",
        "## Save the best model\n",
        "best_lda = gridsearch.best_estimator_\n",
        "\n",
        "cv_results_df = pd.DataFrame(gridsearch.cv_results_)\n",
        "\n",
        "sns.set(rc={\"figure.dpi\":150, 'savefig.dpi':150})\n",
        "sns.pointplot(x=\"param_n_components\",\n",
        "              y=\"mean_test_score\",\n",
        "              data=cv_results_df)"
      ],
      "metadata": {
        "colab": {
          "base_uri": "https://localhost:8080/",
          "height": 616
        },
        "id": "ngmA-TV2rJ2q",
        "outputId": "d72b9eb7-8297-4a5e-fa05-bfb3c4e06a08"
      },
      "execution_count": 25,
      "outputs": [
        {
          "output_type": "execute_result",
          "data": {
            "text/plain": [
              "<matplotlib.axes._subplots.AxesSubplot at 0x7ff04e1b37f0>"
            ]
          },
          "metadata": {},
          "execution_count": 25
        },
        {
          "output_type": "display_data",
          "data": {
            "text/plain": [
              "<Figure size 900x600 with 1 Axes>"
            ],
            "image/png": "[encoded data removed]"
          },
          "metadata": {}
        }
      ]
    },
    {
      "cell_type": "code",
      "source": [
        "search_params = {'n_components': [3, 5]}\n",
        "\n",
        "model = LatentDirichletAllocation(max_iter=5, learning_method='online', learning_offset=50.,random_state=0)\n",
        "\n",
        "gridsearch = GridSearchCV(model,\n",
        "                          param_grid=search_params,\n",
        "                          n_jobs=-1,\n",
        "                          verbose=1, \n",
        "                          cv=2)\n",
        "gridsearch.fit(matrix)\n",
        "\n",
        "## Save the best model\n",
        "best_lda = gridsearch.best_estimator_\n",
        "\n",
        "cv_results_df = pd.DataFrame(gridsearch.cv_results_)\n",
        "\n",
        "sns.set(rc={\"figure.dpi\":150, 'savefig.dpi':150})\n",
        "sns.pointplot(x=\"param_n_components\",\n",
        "              y=\"mean_test_score\",\n",
        "              data=cv_results_df)"
      ],
      "metadata": {
        "colab": {
          "base_uri": "https://localhost:8080/",
          "height": 634
        },
        "id": "1KbLoFh2rkTj",
        "outputId": "414d3f28-a7a0-4918-bac6-a9b1c2c2284e"
      },
      "execution_count": 27,
      "outputs": [
        {
          "output_type": "stream",
          "name": "stdout",
          "text": [
            "Fitting 2 folds for each of 2 candidates, totalling 4 fits\n"
          ]
        },
        {
          "output_type": "execute_result",
          "data": {
            "text/plain": [
              "<matplotlib.axes._subplots.AxesSubplot at 0x7ff04ba18280>"
            ]
          },
          "metadata": {},
          "execution_count": 27
        },
        {
          "output_type": "display_data",
          "data": {
            "text/plain": [
              "<Figure size 900x600 with 1 Axes>"
            ],
            "image/png": "[encoded data removed]"
          },
          "metadata": {}
        }
      ]
    },
    {
      "cell_type": "code",
      "source": [
        "search_params = {'n_components': [2, 7]}\n",
        "\n",
        "model = LatentDirichletAllocation(max_iter=5, learning_method='online', learning_offset=50.,random_state=0)\n",
        "\n",
        "gridsearch = GridSearchCV(model,\n",
        "                          param_grid=search_params,\n",
        "                          n_jobs=-1,\n",
        "                          verbose=1, \n",
        "                          cv=2)\n",
        "gridsearch.fit(matrix)\n",
        "\n",
        "## Save the best model\n",
        "best_lda = gridsearch.best_estimator_\n",
        "\n",
        "cv_results_df = pd.DataFrame(gridsearch.cv_results_)\n",
        "\n",
        "sns.set(rc={\"figure.dpi\":150, 'savefig.dpi':150})\n",
        "sns.pointplot(x=\"param_n_components\",\n",
        "              y=\"mean_test_score\",\n",
        "              data=cv_results_df)"
      ],
      "metadata": {
        "colab": {
          "base_uri": "https://localhost:8080/",
          "height": 634
        },
        "id": "tR9fiNqwNTvi",
        "outputId": "46a5b7a7-555d-4636-b649-e4a584164bc4"
      },
      "execution_count": 28,
      "outputs": [
        {
          "output_type": "stream",
          "name": "stdout",
          "text": [
            "Fitting 2 folds for each of 2 candidates, totalling 4 fits\n"
          ]
        },
        {
          "output_type": "execute_result",
          "data": {
            "text/plain": [
              "<matplotlib.axes._subplots.AxesSubplot at 0x7ff04de053d0>"
            ]
          },
          "metadata": {},
          "execution_count": 28
        },
        {
          "output_type": "display_data",
          "data": {
            "text/plain": [
              "<Figure size 900x600 with 1 Axes>"
            ],
            "image/png": "[encoded data removed]"
          },
          "metadata": {}
        }
      ]
    },
    {
      "cell_type": "markdown",
      "source": [
        "# LDA con 10 clusters"
      ],
      "metadata": {
        "id": "cUPM4dCzG-lY"
      }
    },
    {
      "cell_type": "code",
      "source": [
        "# Acá hay un problema porque se sigue usando 10 clusters cuando en realidad habría que chequear el número óptimo de clusters una vez definida la cantidad de bigramas a utilizar. \n",
        "# Sin embargo, Text as data dice que el número de clústers es generalmente arbitrario, y recomienda arrancar probando con 10. \n",
        "lda = LatentDirichletAllocation(n_components=10, max_iter=5, learning_method='online', learning_offset=50.,random_state=0)     "
      ],
      "metadata": {
        "id": "F-6Mmsh8HQLm"
      },
      "execution_count": null,
      "outputs": []
    },
    {
      "cell_type": "code",
      "source": [
        "lda.fit(matrix)"
      ],
      "metadata": {
        "id": "KMXpBy7-Hn0m",
        "colab": {
          "base_uri": "https://localhost:8080/"
        },
        "outputId": "78d44ec5-f0c4-40a6-c28f-190bb36b5f79"
      },
      "execution_count": null,
      "outputs": [
        {
          "output_type": "execute_result",
          "data": {
            "text/plain": [
              "LatentDirichletAllocation(learning_method='online', learning_offset=50.0,\n",
              "                          max_iter=5, random_state=0)"
            ]
          },
          "metadata": {},
          "execution_count": 32
        }
      ]
    },
    {
      "cell_type": "code",
      "source": [
        "def display_topics(model, feature_names, no_top_words):\n",
        "    for topic_idx, topic in enumerate(model.components_):\n",
        "        print(\"Topic %d:\" % (topic_idx + 1))\n",
        "        print(\" , \".join([feature_names[i] for i in topic.argsort()[:-no_top_words - 1:-1]]))"
      ],
      "metadata": {
        "id": "b3BMGoEaHrEt"
      },
      "execution_count": null,
      "outputs": []
    },
    {
      "cell_type": "code",
      "source": [
        "display_topics(lda, feature_names=vect.get_feature_names_out(), no_top_words=20)"
      ],
      "metadata": {
        "id": "cJxdkzWzHsWi",
        "colab": {
          "base_uri": "https://localhost:8080/"
        },
        "outputId": "3b9bff47-984b-4522-981c-8f9ba35257fd"
      },
      "execution_count": null,
      "outputs": [
        {
          "output_type": "stream",
          "name": "stdout",
          "text": [
            "Topic 1:\n",
            "tribun constitucion , poder judici , toma consideracion , codigo penal , articulo constitucion , derecho humano , consideracion proposicion , consejo poder , tribun supremo , ordenamiento juridico , administracion justicia , derecho libertad , sentencia tribun , seguridad juridica , ministerio justicia , derecho fundamental , exposicion motivo , organica poder , ministerio fiscal , cort general\n",
            "Topic 2:\n",
            "comision europea , consejo europeo , asunto exterior , politica exterior , reino unido , parlamento europeo , numero formula , ceuta melilla , quiero destacar , organismo internacional , comunidad europea , politica europea , comision mixta , institucion europea , desarrollo economico , exterior cooperacion , ministerio asunto , puedo asegurar , comision asunto , defensa presentada\n",
            "Topic 3:\n",
            "administracion publica , servicio publico , sistema nacion , nacion salud , funcion publica , salario minimo , servicio igualdad , empleado publico , poder adquisitivo , debat totalidad , sistema publico , sanidad servicio , sanidad publica , ministerio sanidad , asistencia sanitaria , minimo interprofesion , sistema seguridad , pasada legislatura , medida urgent , desean fijar\n",
            "Topic 4:\n",
            "politica economica , creacion empleo , deficit publico , crecimiento economico , crisi economica , reforma labor , puesto trabajo , deuda publica , estabilidad presupuestaria , gasto publico , sistema financiero , recuperacion economica , actividad economica , agencia tributaria , pequeña mediana , politica fiscal , producto interior , interior bruto , mediana empresa , crear empleo\n",
            "Topic 5:\n",
            "comunidad autonoma , estatuto autonomia , disposicion adicion , confeder unido , dictamen comision , disposicion final , junta portavoc , senado proyecto , articulo reglamento , formulada numero , disposicion transitoria , competencia comunidad , tramitacion proyecto , texto dictamen , texto alternativo , convalidacion derogacion , proyecto organica , reforma estatuto , lectura unica , pasamo fijacion\n",
            "Topic 6:\n",
            "diputacion permanent , extraordinaria comision , alta velocidad , celebracion extraordinaria , alto cargo , comision nacion , acuerd celebracion , tribun cuenta , empresa publica , sector publico , numero suficient , vaya concluyendo , credito extraordinario , economia hacienda , miembro diputacion , suficient miembro , permanent pertenecient , mercado valor , ministerio industria , cien cien\n",
            "Topic 7:\n",
            "comunidad autonoma , presupuesto general , servicio publico , administracion publica , sistema educativo , formacion profesion , corporacion local , proyecto presupuesto , entidad local , persona discapacidad , cultura deport , objetivo deficit , ministerio fomento , cuenta publica , sistema financiacion , medio rural , hacienda administracion , toda comunidad , presupuesto ministerio , igualdad oportunidad\n",
            "Topic 8:\n",
            "violencia genero , interpelacion urgent , consecuencia interpelacion , mocion consecuencia , politica activa , hombr mujer , cualquier caso , ningun tipo , negociacion colectiva , resolv problema , llegar acuerdo , solucion problema , cualquier tipo , partir ahi , proposicion congreso , tiempo parcial , fondo reserva , estatuto trabajador , derecho trabajador , mujer hombr\n",
            "Topic 9:\n",
            "guardia civil , medio comunicacion , fuerza politica , quiero decirl , cuerpo seguridad , fuerza cuerpo , hace falta , semana pasada , opinion publica , responsabilidad politica , comision investigacion , ministerio interior , cualquier caso , mocion censura , ahora mismo , hace tiempo , tan important , hace mese , congreso formula , seguir trabajando\n",
            "Topic 10:\n",
            "medio ambient , unido podemo , fuerza armada , cambio climatico , energia renov , consejo seguridad , ministerio defensa , plan nacion , comunidad internacion , activa empleo , alimentacion medio , ministerio medio , plan hidrologico , da igual , eficiencia energetica , sector electrico , politica energetica , sistema electrico , directiva europea , seguridad nacion\n"
          ]
        }
      ]
    },
    {
      "cell_type": "markdown",
      "source": [
        "# LASSO por legislatura"
      ],
      "metadata": {
        "id": "8-gb-mEnBIzT"
      }
    },
    {
      "cell_type": "code",
      "source": [
        "from tabulate import tabulate\n",
        "from sklearn.linear_model import LogisticRegression\n",
        "from sklearn.metrics import confusion_matrix,classification_report\n",
        "import numpy as np\n",
        "from numpy import argsort\n",
        "import statistics\n",
        "from statistics import mode\n",
        "from scipy.special import logsumexp\n",
        "import scipy as sp"
      ],
      "metadata": {
        "id": "vhDOUIZfBKmy"
      },
      "execution_count": null,
      "outputs": []
    },
    {
      "cell_type": "code",
      "source": [
        "def frex(mod, w=0.7):\n",
        "    log_beta = np.log(mod.components_)\n",
        "    log_exclusivity = log_beta - logsumexp(log_beta, axis=0)\n",
        "    exclusivity_ecdf = np.apply_along_axis(ecdf, 1, log_exclusivity)\n",
        "    freq_ecdf = np.apply_along_axis(ecdf, 1, log_beta)\n",
        "    out = 1. / (w / exclusivity_ecdf + (1 - w) / freq_ecdf)\n",
        "    return out\n",
        "\n",
        "def ecdf(arr):\n",
        "    return sp.stats.rankdata(arr, method='max') / arr.size"
      ],
      "metadata": {
        "id": "81XlFaANB8kB"
      },
      "execution_count": null,
      "outputs": []
    },
    {
      "cell_type": "code",
      "source": [
        "frex_df=pd.DataFrame(frex(lda))"
      ],
      "metadata": {
        "id": "ULyGkadGCBjd"
      },
      "execution_count": null,
      "outputs": []
    },
    {
      "cell_type": "code",
      "source": [
        "# Topic que presenta mayor FREX para cada bigrama\n",
        "d = []\n",
        "feature_names=vec.get_feature_names_out()\n",
        "for n in enumerate(feature_names):\n",
        "    d.append(\n",
        "        {\n",
        "            'N': n[0],\n",
        "            'Bigrama': n[1],\n",
        "            'Topic':  frex_df[n[0]].argsort()[9]\n",
        "        }\n",
        "    )\n",
        "\n",
        "bi_topic_frex=pd.DataFrame(d)\n",
        "bi_topic_frex.head(20)"
      ],
      "metadata": {
        "id": "bxUhi6ifBuiB",
        "outputId": "23f69e8e-194c-4c0c-c251-d8193482d2ab",
        "colab": {
          "base_uri": "https://localhost:8080/",
          "height": 677
        }
      },
      "execution_count": null,
      "outputs": [
        {
          "output_type": "execute_result",
          "data": {
            "text/plain": [
              "     N              Bigrama  Topic\n",
              "0    0  abierto competitivo      9\n",
              "1    1    abierto comunidad      1\n",
              "2    2     abierto consenso      0\n",
              "3    3   abierto considerar      6\n",
              "4    4    abierto cualquier      2\n",
              "5    5        abierto debat      8\n",
              "6    6     abierto dialogar      0\n",
              "7    7      abierto dialogo      9\n",
              "8    8        abierto dicho      0\n",
              "9    9    abierto discusion      9\n",
              "10  10     abierto discutir      7\n",
              "11  11         abierto ello      7\n",
              "12  12     abierto estudiar      8\n",
              "13  13        abierto etapa      1\n",
              "14  14      abierto europea      7\n",
              "15  15    abierto expedient      5\n",
              "16  16     abierto exterior      1\n",
              "17  17        abierto firma      1\n",
              "18  18      abierto flexibl      6\n",
              "19  19         abierto gran      8"
            ],
            "text/html": [
              "\n",
              "  <div id=\"df-c80a6dd8-0c99-4c07-8abe-bac4352fd0ba\">\n",
              "    <div class=\"colab-df-container\">\n",
              "      <div>\n",
              "<style scoped>\n",
              "    .dataframe tbody tr th:only-of-type {\n",
              "        vertical-align: middle;\n",
              "    }\n",
              "\n",
              "    .dataframe tbody tr th {\n",
              "        vertical-align: top;\n",
              "    }\n",
              "\n",
              "    .dataframe thead th {\n",
              "        text-align: right;\n",
              "    }\n",
              "</style>\n",
              "<table border=\"1\" class=\"dataframe\">\n",
              "  <thead>\n",
              "    <tr style=\"text-align: right;\">\n",
              "      <th></th>\n",
              "      <th>N</th>\n",
              "      <th>Bigrama</th>\n",
              "      <th>Topic</th>\n",
              "    </tr>\n",
              "  </thead>\n",
              "  <tbody>\n",
              "    <tr>\n",
              "      <th>0</th>\n",
              "      <td>0</td>\n",
              "      <td>abierto competitivo</td>\n",
              "      <td>9</td>\n",
              "    </tr>\n",
              "    <tr>\n",
              "      <th>1</th>\n",
              "      <td>1</td>\n",
              "      <td>abierto comunidad</td>\n",
              "      <td>1</td>\n",
              "    </tr>\n",
              "    <tr>\n",
              "      <th>2</th>\n",
              "      <td>2</td>\n",
              "      <td>abierto consenso</td>\n",
              "      <td>0</td>\n",
              "    </tr>\n",
              "    <tr>\n",
              "      <th>3</th>\n",
              "      <td>3</td>\n",
              "      <td>abierto considerar</td>\n",
              "      <td>6</td>\n",
              "    </tr>\n",
              "    <tr>\n",
              "      <th>4</th>\n",
              "      <td>4</td>\n",
              "      <td>abierto cualquier</td>\n",
              "      <td>2</td>\n",
              "    </tr>\n",
              "    <tr>\n",
              "      <th>5</th>\n",
              "      <td>5</td>\n",
              "      <td>abierto debat</td>\n",
              "      <td>8</td>\n",
              "    </tr>\n",
              "    <tr>\n",
              "      <th>6</th>\n",
              "      <td>6</td>\n",
              "      <td>abierto dialogar</td>\n",
              "      <td>0</td>\n",
              "    </tr>\n",
              "    <tr>\n",
              "      <th>7</th>\n",
              "      <td>7</td>\n",
              "      <td>abierto dialogo</td>\n",
              "      <td>9</td>\n",
              "    </tr>\n",
              "    <tr>\n",
              "      <th>8</th>\n",
              "      <td>8</td>\n",
              "      <td>abierto dicho</td>\n",
              "      <td>0</td>\n",
              "    </tr>\n",
              "    <tr>\n",
              "      <th>9</th>\n",
              "      <td>9</td>\n",
              "      <td>abierto discusion</td>\n",
              "      <td>9</td>\n",
              "    </tr>\n",
              "    <tr>\n",
              "      <th>10</th>\n",
              "      <td>10</td>\n",
              "      <td>abierto discutir</td>\n",
              "      <td>7</td>\n",
              "    </tr>\n",
              "    <tr>\n",
              "      <th>11</th>\n",
              "      <td>11</td>\n",
              "      <td>abierto ello</td>\n",
              "      <td>7</td>\n",
              "    </tr>\n",
              "    <tr>\n",
              "      <th>12</th>\n",
              "      <td>12</td>\n",
              "      <td>abierto estudiar</td>\n",
              "      <td>8</td>\n",
              "    </tr>\n",
              "    <tr>\n",
              "      <th>13</th>\n",
              "      <td>13</td>\n",
              "      <td>abierto etapa</td>\n",
              "      <td>1</td>\n",
              "    </tr>\n",
              "    <tr>\n",
              "      <th>14</th>\n",
              "      <td>14</td>\n",
              "      <td>abierto europea</td>\n",
              "      <td>7</td>\n",
              "    </tr>\n",
              "    <tr>\n",
              "      <th>15</th>\n",
              "      <td>15</td>\n",
              "      <td>abierto expedient</td>\n",
              "      <td>5</td>\n",
              "    </tr>\n",
              "    <tr>\n",
              "      <th>16</th>\n",
              "      <td>16</td>\n",
              "      <td>abierto exterior</td>\n",
              "      <td>1</td>\n",
              "    </tr>\n",
              "    <tr>\n",
              "      <th>17</th>\n",
              "      <td>17</td>\n",
              "      <td>abierto firma</td>\n",
              "      <td>1</td>\n",
              "    </tr>\n",
              "    <tr>\n",
              "      <th>18</th>\n",
              "      <td>18</td>\n",
              "      <td>abierto flexibl</td>\n",
              "      <td>6</td>\n",
              "    </tr>\n",
              "    <tr>\n",
              "      <th>19</th>\n",
              "      <td>19</td>\n",
              "      <td>abierto gran</td>\n",
              "      <td>8</td>\n",
              "    </tr>\n",
              "  </tbody>\n",
              "</table>\n",
              "</div>\n",
              "      <button class=\"colab-df-convert\" onclick=\"convertToInteractive('df-c80a6dd8-0c99-4c07-8abe-bac4352fd0ba')\"\n",
              "              title=\"Convert this dataframe to an interactive table.\"\n",
              "              style=\"display:none;\">\n",
              "        \n",
              "  <svg xmlns=\"http://www.w3.org/2000/svg\" height=\"24px\"viewBox=\"0 0 24 24\"\n",
              "       width=\"24px\">\n",
              "    <path d=\"M0 0h24v24H0V0z\" fill=\"none\"/>\n",
              "    <path d=\"M18.56 5.44l.94 2.06.94-2.06 2.06-.94-2.06-.94-.94-2.06-.94 2.06-2.06.94zm-11 1L8.5 8.5l.94-2.06 2.06-.94-2.06-.94L8.5 2.5l-.94 2.06-2.06.94zm10 10l.94 2.06.94-2.06 2.06-.94-2.06-.94-.94-2.06-.94 2.06-2.06.94z\"/><path d=\"M17.41 7.96l-1.37-1.37c-.4-.4-.92-.59-1.43-.59-.52 0-1.04.2-1.43.59L10.3 9.45l-7.72 7.72c-.78.78-.78 2.05 0 2.83L4 21.41c.39.39.9.59 1.41.59.51 0 1.02-.2 1.41-.59l7.78-7.78 2.81-2.81c.8-.78.8-2.07 0-2.86zM5.41 20L4 18.59l7.72-7.72 1.47 1.35L5.41 20z\"/>\n",
              "  </svg>\n",
              "      </button>\n",
              "      \n",
              "  <style>\n",
              "    .colab-df-container {\n",
              "      display:flex;\n",
              "      flex-wrap:wrap;\n",
              "      gap: 12px;\n",
              "    }\n",
              "\n",
              "    .colab-df-convert {\n",
              "      background-color: #E8F0FE;\n",
              "      border: none;\n",
              "      border-radius: 50%;\n",
              "      cursor: pointer;\n",
              "      display: none;\n",
              "      fill: #1967D2;\n",
              "      height: 32px;\n",
              "      padding: 0 0 0 0;\n",
              "      width: 32px;\n",
              "    }\n",
              "\n",
              "    .colab-df-convert:hover {\n",
              "      background-color: #E2EBFA;\n",
              "      box-shadow: 0px 1px 2px rgba(60, 64, 67, 0.3), 0px 1px 3px 1px rgba(60, 64, 67, 0.15);\n",
              "      fill: #174EA6;\n",
              "    }\n",
              "\n",
              "    [theme=dark] .colab-df-convert {\n",
              "      background-color: #3B4455;\n",
              "      fill: #D2E3FC;\n",
              "    }\n",
              "\n",
              "    [theme=dark] .colab-df-convert:hover {\n",
              "      background-color: #434B5C;\n",
              "      box-shadow: 0px 1px 3px 1px rgba(0, 0, 0, 0.15);\n",
              "      filter: drop-shadow(0px 1px 2px rgba(0, 0, 0, 0.3));\n",
              "      fill: #FFFFFF;\n",
              "    }\n",
              "  </style>\n",
              "\n",
              "      <script>\n",
              "        const buttonEl =\n",
              "          document.querySelector('#df-c80a6dd8-0c99-4c07-8abe-bac4352fd0ba button.colab-df-convert');\n",
              "        buttonEl.style.display =\n",
              "          google.colab.kernel.accessAllowed ? 'block' : 'none';\n",
              "\n",
              "        async function convertToInteractive(key) {\n",
              "          const element = document.querySelector('#df-c80a6dd8-0c99-4c07-8abe-bac4352fd0ba');\n",
              "          const dataTable =\n",
              "            await google.colab.kernel.invokeFunction('convertToInteractive',\n",
              "                                                     [key], {});\n",
              "          if (!dataTable) return;\n",
              "\n",
              "          const docLinkHtml = 'Like what you see? Visit the ' +\n",
              "            '<a target=\"_blank\" href=https://colab.research.google.com/notebooks/data_table.ipynb>data table notebook</a>'\n",
              "            + ' to learn more about interactive tables.';\n",
              "          element.innerHTML = '';\n",
              "          dataTable['output_type'] = 'display_data';\n",
              "          await google.colab.output.renderOutput(dataTable, element);\n",
              "          const docLink = document.createElement('div');\n",
              "          docLink.innerHTML = docLinkHtml;\n",
              "          element.appendChild(docLink);\n",
              "        }\n",
              "      </script>\n",
              "    </div>\n",
              "  </div>\n",
              "  "
            ]
          },
          "metadata": {},
          "execution_count": 54
        }
      ]
    },
    {
      "cell_type": "code",
      "source": [
        "# Relevancia de bigramas en la predicción por legislatura\n",
        "tabla=[]\n",
        "legislaturas=['I', 'II', 'III', 'IV', 'V', 'VI', 'VII','VIII', 'IX', 'X', 'XI', 'XII','XIII']\n",
        "n=5\n",
        "\n",
        "cv=CountVectorizer(ngram_range=[2,2], stop_words=stopwords ,vocabulary=inter)\n",
        "\n",
        "for x in legislaturas: \n",
        "  base_year=base[base.legislatura==x]\n",
        "  \n",
        "  vec = cv.fit(base_year['tokens'])\n",
        "  train_matrix = vec.fit_transform(base_year['tokens']) \n",
        "  lr = LogisticRegression(penalty='l1', max_iter=50, solver='liblinear')\n",
        "  lr.fit(train_matrix,base_year['party'])\n",
        "  \n",
        "  features=[]\n",
        "  s=lr.coef_[0]\n",
        "  \n",
        "  print(f\"Legislatura: {x} - Most Frecuent Topic: {mode(bi_topic_frex['Topic'][argsort(s)])}\")\n",
        "  print(tabulate([cv.get_feature_names_out()[argsort(s)[:n]], sorted(s)[:n],bi_topic_frex['Topic'][argsort(s)[:n]],cv.get_feature_names_out()[argsort(s)[-n:]], sorted(s)[-n:],  bi_topic_frex['Topic'][argsort(s)[-n:]]], tablefmt='pretty'))\n",
        "     "
      ],
      "metadata": {
        "id": "M6Sh3m9EBRBW",
        "outputId": "483af5d7-afeb-4c80-808c-f3e154f7bd6d",
        "colab": {
          "base_uri": "https://localhost:8080/"
        }
      },
      "execution_count": null,
      "outputs": [
        {
          "output_type": "stream",
          "name": "stderr",
          "text": [
            "/usr/local/lib/python3.8/dist-packages/sklearn/feature_extraction/text.py:396: UserWarning: Your stop_words may be inconsistent with your preprocessing. Tokenizing the stop words generated tokens ['ahuja', 'alcañiz', 'amor', 'arreciado', 'barcena', 'barnuevo', 'capel', 'capitan', 'cascos', 'castejon', 'cienfuegos', 'compromis', 'congr', 'escandon', 'estefani', 'figueroa', 'fortun', 'hickman', 'huarte', 'jeltzalea', 'jovellanos', 'lasquetty', 'latorre', 'legaz', 'lersundi', 'llin', 'machuca', 'maillo', 'mancisidor', 'margallo', 'maribona', 'marlaska', 'medel', 'menchero', 'mendicoa', 'na', 'olivares', 'patxi', 'peces', 'pedrero', 'pinilla', 'piñero', 'ponga', 'pujalte', 'salmones', 'santesmases', 'sito', 'soro', 'sotelo', 'tagle', 'tesorero', 'tizon', 'toledano', 'torrecilla', 'trevijano', 'valdecasas', 'valdes', 'vargas', 'villaseñor', 'ximo', 'yañez'] not in stop_words.\n",
            "  warnings.warn(\n"
          ]
        },
        {
          "output_type": "stream",
          "name": "stdout",
          "text": [
            "Legislatura: I - Most Frecuent Topic: 8\n",
            "+---------------------+--------------------+--------------------+-------------------------+---------------------+\n",
            "|    duda ninguna     |  nombr centrista   |  contestar nombr   | interpelacion formulada | contestar formulada |\n",
            "| -3.7595664514677964 | -3.106113898130977 | -2.773383518879153 |   -2.755256829609694    | -2.567978377990887  |\n",
            "|          7          |         1          |         1          |            7            |          8          |\n",
            "| ministerio trabajo  |   cualquier caso   |    poujad ocupa    |   formacion politica    |    pasamo examen    |\n",
            "| 1.8919608181080438  | 1.9868101753123022 | 2.0136665031299934 |    2.533913748057015    | 3.1913567483816334  |\n",
            "|          2          |         5          |         7          |            8            |          6          |\n",
            "+---------------------+--------------------+--------------------+-------------------------+---------------------+\n",
            "Legislatura: II - Most Frecuent Topic: 8\n",
            "+--------------------+---------------------+---------------------+--------------------+--------------------+\n",
            "|   retirar numero   |      meno toda      |     pre sident      | venia presidencia  |    normal sino     |\n",
            "| -3.906916966563966 | -3.5040488000870917 | -3.2873822944050675 | -3.233431430675619 | -3.182624887242168 |\n",
            "|         0          |          8          |          7          |         4          |         9          |\n",
            "|  terminado debat   |  acuerdo dictamen   |   articulo pausa    |   tiempo minuto    |  vaya terminando   |\n",
            "| 2.795257735366114  | 2.9576010771985195  | 3.0641430869804944  | 3.208066583738811  | 3.913605032093908  |\n",
            "|         2          |          4          |          4          |         7          |         8          |\n",
            "+--------------------+---------------------+---------------------+--------------------+--------------------+\n",
            "Legislatura: III - Most Frecuent Topic: 8\n",
            "+---------------------+--------------------+---------------------+--------------------+--------------------+\n",
            "|   tale condicion    |   pedir separada   | rogaria presidencia |   pido separada    | solicito separada  |\n",
            "| -3.8502696000261456 | -3.823457161692379 | -3.685602107221514  | -3.513287613575465 | -3.475711438648299 |\n",
            "|          7          |         0          |          5          |         6          |         6          |\n",
            "|   sector agrario    |  ocasion discutir  |  orador precedido   |    dejando lado    |  tasa crecimiento  |\n",
            "| 2.1472384776213467  | 2.1514389233188544 |  2.230066999815661  | 2.6459499017321453 | 2.969222409865865  |\n",
            "|          6          |         9          |          5          |         1          |         3          |\n",
            "+---------------------+--------------------+---------------------+--------------------+--------------------+\n",
            "Legislatura: IV - Most Frecuent Topic: 8\n",
            "+---------------------+----------------------+-----------------------+--------------------+-------------------------+\n",
            "|    opinion merec    | solicitaria separada | particular presentado | solicito separada  |      pido alusion       |\n",
            "| -4.2836340585714066 | -4.1897853436818675  |   -4.10110569584021   | -4.091331429872756 |   -4.034274539474366    |\n",
            "|          1          |          7           |           4           |         6          |            5            |\n",
            "|  gasto proteccion   |    banco protesta    |   consiguient creo    |    dejando lado    | conjunto administracion |\n",
            "|  2.842602441660159  |  2.9419800932536626  |   3.170898539794751   | 3.326731618618909  |    4.915925465980794    |\n",
            "|          2          |          8           |           8           |         1          |            2            |\n",
            "+---------------------+----------------------+-----------------------+--------------------+-------------------------+\n",
            "Legislatura: V - Most Frecuent Topic: 8\n",
            "+--------------------+---------------------+--------------------------+------------------------+---------------------+\n",
            "|  resolucion hace   |   ello solicitamo   | departamento ministerial |    corregir defecto    |  solicito separada  |\n",
            "| -3.876410131214978 | -3.7602475990857323 |   -3.7567835799758615    |  -3.7450748044920164   | -3.6437768656422556 |\n",
            "|         3          |          6          |            6             |           5            |          6          |\n",
            "|    deseen fijar    | recesion economica  |     vaya concluyendo     | presentamo transaccion |  congreso formula   |\n",
            "|  2.44167727789957  | 2.7893630756627323  |    2.840619257893303     |   2.9172241168462625   |  4.687743110041777  |\n",
            "|         1          |          3          |            5             |           4            |          8          |\n",
            "+--------------------+---------------------+--------------------------+------------------------+---------------------+\n",
            "Legislatura: VI - Most Frecuent Topic: 8\n",
            "+---------------------+--------------------+--------------------+---------------------+---------------------+\n",
            "|   numero formula    | presentacion pleno |  efecto solicita   | presentacion nombr  | texto interpelacion |\n",
            "| -2.9613977650102385 | -2.788420706510868 | -2.719900308201911 | -2.7188848957409166 | -2.6534894480644047 |\n",
            "|          1          |         9          |         2          |          2          |          7          |\n",
            "| lasagabast defensa  |    objeto pide     |     deberia ir     |   indicar acepta    |     fijar debat     |\n",
            "|  3.464361212856743  | 3.952397482004681  | 4.006270010031116  |  4.425232891347203  |  4.84141208037687   |\n",
            "|          4          |         9          |         8          |          2          |          4          |\n",
            "+---------------------+--------------------+--------------------+---------------------+---------------------+\n",
            "Legislatura: VII - Most Frecuent Topic: 8\n",
            "+-----------------------+-----------------------+---------------------+--------------------+---------------------+\n",
            "|    numero formula     | concluir intervencion |  congreso formula   |   texto dictamen   |    ocupen escaño    |\n",
            "|  -4.861081550308634   |  -3.320014515060698   | -3.2322628546480403 | -2.757731223927808 | -2.6963044834676784 |\n",
            "|           1           |           5           |          8          |         4          |          9          |\n",
            "| gestion aeroportuaria |    cuenta secreta     |  quiero preguntar   |   recort derecho   |   ir concluyendo    |\n",
            "|  3.3819906223823364   |  3.3932580300704127   | 3.4061312916024664  | 3.6320221099805385 |  4.537034701544011  |\n",
            "|           5           |           8           |          7          |         7          |          7          |\n",
            "+-----------------------+-----------------------+---------------------+--------------------+---------------------+\n",
            "Legislatura: VIII - Most Frecuent Topic: 8\n",
            "+--------------------+--------------------+-----------------------+---------------------+---------------------+\n",
            "|  doy reproducida   |   doy formulada    | solucion habitacional | ilegalment militant |    pido articulo    |\n",
            "| -5.108109846703777 |  -4.8274727482031  |  -3.7751696651063185  | -3.585472949855289  | -3.5437135502325403 |\n",
            "|         1          |         6          |           6           |          8          |          4          |\n",
            "| ningun fundamento  |  seccion relativo  |   batallon elector    |  tiempo concluido   |  turismo comercio   |\n",
            "| 2.3830111828118237 | 2.5315446676861435 |  2.5637659477166874   |  2.58039543987157   | 3.3271322452167196  |\n",
            "|         8          |         6          |           9           |          4          |          5          |\n",
            "+--------------------+--------------------+-----------------------+---------------------+---------------------+\n",
            "Legislatura: IX - Most Frecuent Topic: 8\n",
            "+--------------------+-----------------------+---------------------+---------------------+--------------------------+\n",
            "|   doy formulada    |      casi parado      |      nadi cree      |    derecho saber    | continuamo interpelacion |\n",
            "| -4.534574981627148 |  -4.259134110134191   | -4.0679898326451225 | -3.8859684837097834 |    -3.763707896051578    |\n",
            "|         6          |           3           |          7          |          8          |            3             |\n",
            "|   acabado tiempo   | organizacion sindical |   alli gobiernan    |  turismo comercio   |      europea adema       |\n",
            "| 2.860039695678917  |   3.106994148712076   |  3.53190207228918   |  3.65835500611554   |    3.850977655018337     |\n",
            "|         7          |           7           |          8          |          5          |            1             |\n",
            "+--------------------+-----------------------+---------------------+---------------------+--------------------------+\n",
            "Legislatura: X - Most Frecuent Topic: 8\n",
            "+---------------------+---------------------+-------------------------------+---------------------+------------------------+\n",
            "| reforma estructural |   region europea    | regularizacion extraordinaria |  servicio igualdad  | declaracion tributaria |\n",
            "| -3.1752317327996513 | -3.1052738419636583 |      -3.0459849284165528      | -3.0197929997103143 |  -2.9524258411167836   |\n",
            "|          3          |          1          |               7               |          2          |           5            |\n",
            "|  nombr agricultura  |    excusa crisi     |          balanc hace          |    doy formulada    |     debe concluir      |\n",
            "|  3.48769683876943   | 3.5314321539378377  |      4.0368523538100005       |  5.343406681150438  |   5.749007514184686    |\n",
            "|          1          |          7          |               7               |          6          |           0            |\n",
            "+---------------------+---------------------+-------------------------------+---------------------+------------------------+\n",
            "Legislatura: XI - Most Frecuent Topic: 8\n",
            "+--------------------+---------------------+----------------------+---------------------+----------------------+\n",
            "|   puesto trabajo   |     alguna sido     |   secretaria edad    |    sido llamado     |  crecimiento empleo  |\n",
            "| -2.682159242244137 | -2.3362354217339116 | -1.9365571168793605  | -1.8827400012697768 | -1.8572264553934166  |\n",
            "|         2          |          4          |          4           |          2          |          3           |\n",
            "|    ahora mismo     |    vota termino     | conflicto atribucion |   proxima semana    | diputacion permanent |\n",
            "| 0.6807528133385208 | 0.8090886720221949  |  0.8244889435178253  | 0.8947903320524102  |   0.98829346961721   |\n",
            "|         9          |          0          |          0           |          6          |          5           |\n",
            "+--------------------+---------------------+----------------------+---------------------+----------------------+\n",
            "Legislatura: XII - Most Frecuent Topic: 8\n",
            "+--------------------+---------------------+---------------------+--------------------------+---------------------+\n",
            "|   quieren romper   |  servicio igualdad  |   creacion empleo   | industria competitividad |    mano tendida     |\n",
            "| -5.304103144423496 | -3.3254270861104707 | -3.172038875943142  |    -3.128982170297846    | -2.7797552653152775 |\n",
            "|         8          |          2          |          3          |            3             |          8          |\n",
            "|  ciudadano verdad  |     solo efecto     | europea cooperacion |     comercio turismo     |    efecto acepta    |\n",
            "| 3.208273938674679  | 3.2613592449395523  | 3.6536526614907605  |    3.737290829715869     | 3.8116646286404894  |\n",
            "|         8          |          4          |          1          |            5             |          4          |\n",
            "+--------------------+---------------------+---------------------+--------------------------+---------------------+\n",
            "Legislatura: XIII - Most Frecuent Topic: 8\n",
            "+--------------------+-----------------------+---------------------+--------------------+--------------------+\n",
            "|   dinero publico   |       hace mese       |    adema podemo     |   empleo agosto    |   acuerdo ningun   |\n",
            "| -2.912049350598778 |  -2.3446647687337725  | -2.2991373771369807 | -2.238135454302934 | -2.144471154602534 |\n",
            "|         6          |           8           |          7          |         3          |         7          |\n",
            "|  empresa afectada  | candidato presidencia |   adoptan medida    |    duda alguna     |  confeder podemo   |\n",
            "| 0.5388942912346704 |  0.5960494808459058   | 0.6222146136346239  |  0.84963241711759  | 1.0319039738051423 |\n",
            "|         5          |           9           |          2          |         9          |         6          |\n",
            "+--------------------+-----------------------+---------------------+--------------------+--------------------+\n"
          ]
        }
      ]
    },
    {
      "cell_type": "markdown",
      "source": [
        "# LASSO por año"
      ],
      "metadata": {
        "id": "OFeJludNFKDc"
      }
    },
    {
      "cell_type": "code",
      "source": [
        "# Relevancia de bigramas en la predicción por año\n",
        "tabla=[]\n",
        "\n",
        "nombres=cv.get_feature_names_out()\n",
        "componentes=lda.components_.transpose()\n",
        "n = 5\n",
        "\n",
        "for x in range (1979, 2010): \n",
        "  base_year=base[pd.DatetimeIndex(base.fecha).year==x]\n",
        "  train_matrix = vec.fit_transform(base_year['tokens'])\n",
        "  y_train= base_year['party']\n",
        "  lr = LogisticRegression(penalty='l1', max_iter=1000, solver='liblinear')\n",
        "  lr.fit(train_matrix,y_train)\n",
        "\n",
        "  s = lr.coef_[0]\n",
        "    \n",
        "  print(f\"Año: {x}\")\n",
        "  print(tabulate([cv.get_feature_names_out()[argsort(s)[:n]], sorted(s)[:n],bi_topic_frex['Topic'][argsort(s)[:n]],cv.get_feature_names_out()[argsort(s)[-n:]], sorted(s)[-n:],  bi_topic_frex['Topic'][argsort(s)[-n:]]], tablefmt='pretty'))"
      ],
      "metadata": {
        "id": "iwoTUMp8FMHE",
        "outputId": "e2cdc9a2-c666-43c8-8438-1ea02db33700",
        "colab": {
          "base_uri": "https://localhost:8080/"
        }
      },
      "execution_count": null,
      "outputs": [
        {
          "output_type": "stream",
          "name": "stdout",
          "text": [
            "Año: 1979\n",
            "+--------------------+---------------------+---------------------+---------------------+--------------------+\n",
            "|  correspond ahora  |  publicada boletin  |      quier uso      |     modo especi     |   debat articulo   |\n",
            "| -3.051146241834419 | -2.1578325468771866 | -1.8093147023194842 | -1.7476463816896606 | -1.703132798065553 |\n",
            "|         2          |          0          |          4          |          9          |         4          |\n",
            "|   cualquier caso   |   sino simplement   |   abril martorel    | solucionar problema | formacion politica |\n",
            "| 1.270884624559489  |  1.415493410609748  | 1.4978171850498985  | 1.6178872338140338  |  2.39166434004746  |\n",
            "|         5          |          9          |          4          |          7          |         8          |\n",
            "+--------------------+---------------------+---------------------+---------------------+--------------------+\n",
            "Año: 1980\n",
            "+---------------------+---------------------+--------------------+--------------------+---------------------+\n",
            "|   senado proyecto   |    duda ninguna     | articulo mantenida |   proced numero    | financiacion cargo  |\n",
            "| -2.7452328510913198 | -2.6086111563256815 | -2.514652469538071 | -2.453900994087242 | -2.3655053678278493 |\n",
            "|          4          |          7          |         4          |         0          |          6          |\n",
            "| ministerio hacienda |    respond nombr    | supresion articulo |   cualquier caso   |    pasamo examen    |\n",
            "| 1.7899114346530705  | 1.9138275284647042  | 1.9294430484103993 | 1.9752830180050327 | 3.2413557345226063  |\n",
            "|          5          |          1          |         4          |         5          |          6          |\n",
            "+---------------------+---------------------+--------------------+--------------------+---------------------+\n",
            "Año: 1981\n",
            "+--------------------+-------------------------+---------------------+-------------------------+--------------------+\n",
            "|  contestar nombr   | contestar interpelacion |      desea uso      | interpelacion formulada |   part integrant   |\n",
            "| -2.372770751602062 |   -2.2834070800311532   | -1.8864658476995213 |   -1.874401240818647    | -1.438826859587837 |\n",
            "|         1          |            7            |          2          |            7            |         9          |\n",
            "|    ningun tipo     |      quiero decirl      | presupuesto general |      relacion tema      |  pedimo separada   |\n",
            "| 1.3602012952586742 |   1.3795356220655353    | 1.6746106496159547  |   1.7304678066936876    | 1.7809966854382921 |\n",
            "|         7          |            8            |          6          |            0            |         6          |\n",
            "+--------------------+-------------------------+---------------------+-------------------------+--------------------+\n",
            "Año: 1982\n",
            "+---------------------+-----------------------+--------------------+---------------------------+-------------------------+\n",
            "|    duda ninguna     | funcion fiscalizadora |    toda region     | procedimiento legislativo | politico administrativa |\n",
            "| -2.6245705944589943 |   -2.57413601603403   | -2.227818713625835 |    -2.199139758185751     |   -1.926828754298405    |\n",
            "|          7          |           5           |         1          |             0             |            6            |\n",
            "|  terminado tiempo   |    resolv problema    |   cualquier caso   |   jurisdiccion contabl    |    separada articulo    |\n",
            "| 0.8942621426077044  |  0.9748193964091254   | 1.2841886131679243 |    1.3525645719819024     |    1.411216044819964    |\n",
            "|          3          |           7           |         5          |             5             |            6            |\n",
            "+---------------------+-----------------------+--------------------+---------------------------+-------------------------+\n",
            "Año: 1983\n",
            "+---------------------+---------------------+---------------------+---------------------+---------------------+\n",
            "| separadament numero | votara separadament |    toda seriedad    |  pedimo supresion   |    asunto rumasa    |\n",
            "| -3.078512425276195  | -3.030664275265795  | -2.9704002595831374 | -2.9334812472075877 | -2.7846169214648895 |\n",
            "|          2          |          0          |          8          |          0          |          5          |\n",
            "|  atengas cuestion   |     pausa nulo      |    numero pausa     |   vaya terminando   |    tiempo minuto    |\n",
            "|  2.333742236346375  | 2.3440736433160883  |  2.447019764638717  |  2.646386793428467  |  3.170507342983363  |\n",
            "|          0          |          4          |          4          |          8          |          7          |\n",
            "+---------------------+---------------------+---------------------+---------------------+---------------------+\n",
            "Año: 1984\n",
            "+---------------------+--------------------+---------------------+---------------------+---------------------+\n",
            "|    iba dirigida     |  elegir librement  |    misma persona    |  articulo realment  |  toda conjuntament  |\n",
            "| -3.2895992432081664 | -3.157747970006752 | -3.024860664579083  | -3.0093212550446915 | -2.9521392740075516 |\n",
            "|          5          |         2          |          2          |          4          |          2          |\n",
            "|     pausa nulo      |  terminado debat   | inicio intervencion |   parec important   |   vaya terminando   |\n",
            "| 2.3894096073770568  | 2.474554782923401  |  2.475931363491606  |  2.696009354264383  |  2.870145023775723  |\n",
            "|          4          |         2          |          9          |          7          |          8          |\n",
            "+---------------------+--------------------+---------------------+---------------------+---------------------+\n",
            "Año: 1985\n",
            "+---------------------+--------------------+---------------------+---------------------+--------------------+\n",
            "| votars conjuntament |  maxima brevedad   |    pido cuestion    |      cabe duda      | pediriamo separada |\n",
            "| -3.2955921701527746 | -3.072948458304781 | -2.9292858484561224 | -2.8629646030611524 | -2.844730506145769 |\n",
            "|          4          |         1          |          4          |          9          |         0          |\n",
            "|   part ministerio   |  acuerdo dictamen  |   articulo pausa    |  propia comunidad   |  vaya terminando   |\n",
            "|  1.99552506439283   | 2.069796445419533  |  2.268803887509916  | 2.6447651087366513  | 2.711578097302777  |\n",
            "|          6          |         4          |          4          |          1          |         8          |\n",
            "+---------------------+--------------------+---------------------+---------------------+--------------------+\n",
            "Año: 1986\n",
            "+---------------------+--------------------+--------------------+---------------------+---------------------+\n",
            "|    pide separada    |     conoc tan      |  pedimo separada   |  portavoz minoria   |   grave situacion   |\n",
            "| -3.673404832456406  | -3.256620722238209 | -3.241491966791559 | -3.0604373433288607 | -2.9152512611657433 |\n",
            "|          2          |         7          |         6          |          2          |          5          |\n",
            "| agrupacion catalana |   junta portavoc   |  ultima instancia  |  dictamen comision  |   sector privado    |\n",
            "|  1.297055562388684  | 1.3214068502633083 | 1.3998421785768485 | 1.6261061433846742  | 1.6447294320211987  |\n",
            "|          2          |         4          |         2          |          4          |          2          |\n",
            "+---------------------+--------------------+--------------------+---------------------+---------------------+\n",
            "Año: 1987\n",
            "+---------------------+---------------------+--------------------+---------------------+--------------------+\n",
            "|   despue tramite    |     pre sident      |   pedir separada   |     pest equina     |  portavoz citado   |\n",
            "| -3.2966137059379594 | -3.1828294890270943 | -3.134794542185152 | -3.0902623848376476 | -3.057947861812063 |\n",
            "|          6          |          7          |         0          |          6          |         8          |\n",
            "|    relacion tema    |     parec razon     |   creado puesto    |   toda comunidad    |   puesto marcha    |\n",
            "| 2.2442013802856775  |  2.395791999326162  | 2.448341766689643  | 2.4937503832067938  | 4.1328013099214935 |\n",
            "|          0          |          5          |         3          |          4          |         2          |\n",
            "+---------------------+---------------------+--------------------+---------------------+--------------------+\n",
            "Año: 1988\n",
            "+---------------------+--------------------+--------------------+--------------------+---------------------+\n",
            "|    pido separada    |    saber piensa    |   pide separada    |   propio termino   |     segun dato      |\n",
            "| -3.4482805868419706 | -3.37503540709406  | -3.373893069004405 | -3.338580772617241 | -3.1625283694830566 |\n",
            "|          6          |         6          |         2          |         4          |          2          |\n",
            "| problema important  |   linea general    |    duda alguna     | dictamen comision  |    puedo decirl     |\n",
            "| 1.7737178256641566  | 1.9536652158717842 | 2.1175707754944186 | 2.164246018089076  |  2.89779166749089   |\n",
            "|          7          |         6          |         9          |         4          |          9          |\n",
            "+---------------------+--------------------+--------------------+--------------------+---------------------+\n",
            "Año: 1989\n",
            "+--------------------+---------------------+--------------------+---------------------+--------------------+\n",
            "|   medida piensa    |  dejar constancia   | explicacion nombr  |      toda luce      |  sido contradicho  |\n",
            "| -4.086110650795521 | -4.0114684283657915 | -3.387242439225248 | -3.2469362194555473 | -3.228781575870954 |\n",
            "|         5          |          9          |         7          |          5          |         1          |\n",
            "|  junta electoral   |      base dato      |    cort general    |     debo decirl     | haciendo esfuerzo  |\n",
            "| 1.5627239163658178 | 1.5714790794985714  | 1.5834938373504668 | 1.7002353836168764  | 2.4901050496757806 |\n",
            "|         9          |          5          |         4          |          7          |         2          |\n",
            "+--------------------+---------------------+--------------------+---------------------+--------------------+\n",
            "Año: 1990\n",
            "+--------------------+---------------------+---------------------+---------------------+--------------------+\n",
            "| solicita separada  |  solicito separada  | solicitamo separada |     dado razon      |   opinion merec    |\n",
            "| -3.890867538126689 | -3.500768871197374  | -3.257391496580769  | -3.1624135384892784 | -3.07992854689382  |\n",
            "|         2          |          6          |          6          |          8          |         1          |\n",
            "|   relacion tema    | momento determinado |   banco protesta    |   llegar acuerdo    |  ningun problema   |\n",
            "| 1.945912896340994  | 2.0557314247536698  | 2.1619134053538804  |  2.208475063359827  | 2.6645784358049034 |\n",
            "|         0          |          0          |          8          |          7          |         8          |\n",
            "+--------------------+---------------------+---------------------+---------------------+--------------------+\n",
            "Año: 1991\n",
            "+-----------------------+---------------------+--------------------+--------------------+---------------------+\n",
            "| particular presentado |  solicita separada  |  proyecto quiero   |   pedir separada   |  solicito separada  |\n",
            "|  -3.8084483869779673  | -3.6085329156010792 | -3.605818023362906 | -3.403049825518985 | -3.1103790568679397 |\n",
            "|           4           |          2          |         4          |         0          |          6          |\n",
            "|      debo decirl      |   quiero indicar    | aspecto important  | sistema proteccion |    risa aplauso     |\n",
            "|   1.956069887026024   | 2.2420169309785165  | 2.257097656659685  | 2.4107082840854543 |  2.812200924017989  |\n",
            "|           7           |          2          |         9          |         2          |          8          |\n",
            "+-----------------------+---------------------+--------------------+--------------------+---------------------+\n",
            "Año: 1992\n",
            "+--------------------+-------------------------+---------------------+---------------------+---------------------+\n",
            "| solicita separada  |    solicito separada    |    pido alusion     |   cuestion rumor    |  autovia leizaran   |\n",
            "| -3.738459828966165 |   -3.604450262015602    | -3.4321865102050775 | -3.3242749919698547 | -3.2591670237810124 |\n",
            "|         2          |            6            |          5          |          4          |          8          |\n",
            "|   creo important   | conjunto administracion | momento determinado |    vall lersundi    |   autopista peaj    |\n",
            "| 1.986235761417279  |   2.1160429925285635    | 2.1549719179808955  |  2.160428952940715  |  2.424901961111113  |\n",
            "|         7          |            2            |          0          |          4          |          5          |\n",
            "+--------------------+-------------------------+---------------------+---------------------+---------------------+\n",
            "Año: 1993\n",
            "+--------------------+---------------------+---------------------+----------------------+---------------------+\n",
            "| termino recordando |  solicito separada  |     resto bloqu     |    separada bloqu    |   concluyo minuto   |\n",
            "| -4.020452718083154 | -3.5463378571934117 | -3.3843822837936344 | -3.0790724901098643  | -2.9737112280787876 |\n",
            "|         8          |          6          |          4          |          2           |          7          |\n",
            "|    venta activo    |    desean fijar     |    dije comision    | esfuerzo solidaridad |  congreso formula   |\n",
            "| 2.052258942033283  | 2.0956067938720175  | 2.2526927827029146  |  2.5599075668878037  |  2.696936371334524  |\n",
            "|         5          |          2          |          2          |          3           |          8          |\n",
            "+--------------------+---------------------+---------------------+----------------------+---------------------+\n",
            "Año: 1994\n",
            "+--------------------+--------------------+---------------------+---------------------+--------------------+\n",
            "| solicito separada  |    da sensacion    |    sido aludido     |   pagar impuesto    |      van dar       |\n",
            "| -3.593686814274653 | -3.426860952738477 | -3.2396186106783773 | -3.2067310239274387 | -3.132924948426675 |\n",
            "|         6          |         7          |          5          |          3          |         8          |\n",
            "|   numero pueden    |  gasto electoral   |  vaya concluyendo   |   publica empresa   |  congreso formula  |\n",
            "| 1.8863685726368948 | 1.9488193323282634 |  2.170550561629562  |  2.261377127436983  | 3.962034933754646  |\n",
            "|         2          |         8          |          5          |          5          |         8          |\n",
            "+--------------------+--------------------+---------------------+---------------------+--------------------+\n",
            "Año: 1995\n",
            "+-----------------------+--------------------+--------------------+--------------------------+---------------------+\n",
            "| desgravacion impuesto |  resolucion hace   |  antecesor cargo   | departamento ministerial |   pequeño mediano   |\n",
            "|  -3.774032035642702   | -3.495133263647015 | -3.400376801633724 |    -3.358200109669436    | -3.2376081146363314 |\n",
            "|           3           |         3          |         7          |            6             |          3          |\n",
            "|   vaya concluyendo    |    desean fijar    |   capit privado    |    objetivo fundament    |  congreso formula   |\n",
            "|  1.9447452716681153   | 2.081841379303621  | 2.9511081448160574 |     3.13837515943258     |  4.164057631029411  |\n",
            "|           5           |         2          |         3          |            2             |          8          |\n",
            "+-----------------------+--------------------+--------------------+--------------------------+---------------------+\n",
            "Año: 1996\n",
            "+--------------------+----------------------+----------------------+--------------------+----------------------+\n",
            "|   numero formula   |   congreso formula   | interpelacion urgent |    fijar nombr     | defensa proposicion  |\n",
            "| -3.664543870418259 |  -3.528533889229583  |  -2.385858527218846  | -1.985691716397261 | -1.7940358241277927  |\n",
            "|         1          |          8           |          7           |         3          |          0           |\n",
            "|   agua residual    | verdad comparecencia |   presentado part    |   indicar acepta   | convalidacion desean |\n",
            "| 2.4686229973896396 |  2.5815331219661894  |  2.693092161783499   | 2.979691462131822  |  3.7654703938455896  |\n",
            "|         9          |          8           |          6           |         2          |          2           |\n",
            "+--------------------+----------------------+----------------------+--------------------+----------------------+\n",
            "Año: 1997\n",
            "+-------------------+---------------------+----------------------+--------------------+---------------------+\n",
            "|  numero formula   |     debat part      | presentacion defensa | termino resultant  |    cuya defensa     |\n",
            "| -4.42998177900471 | -3.2857322906778377 | -2.6708084523965563  | -2.342893950183218 | -2.2521054759451173 |\n",
            "|         1         |          7          |          9           |         4          |          4          |\n",
            "|  falta argumento  |   indicar acepta    |     da defendida     |  presentado part   |     fijar debat     |\n",
            "| 2.610683247048543 |  2.637872499912667  |  2.7953543986638683  | 3.037093561463837  |  4.740047846488765  |\n",
            "|         7         |          2          |          1           |         6          |          4          |\n",
            "+-------------------+---------------------+----------------------+--------------------+---------------------+\n",
            "Año: 1998\n",
            "+--------------------+--------------------+-------------------------+---------------------+---------------------+\n",
            "| presentacion nombr |   numero formula   |     resto dictamen      | expresar aceptacion | naturaleza organica |\n",
            "| -2.290126320485884 | -2.181231647799739 |   -1.972443470314726    | -1.9694210616008163 | -1.9578901725942788 |\n",
            "|         2          |         1          |            5            |          4          |          0          |\n",
            "|  salud trabajador  |   indicar acepta   | construccion aeropuerto |     pasar debat     |     fijar debat     |\n",
            "| 2.9280914228658155 | 3.034184566730832  |   3.2083360960058145    | 3.4100341049004768  |  4.591848807858962  |\n",
            "|         7          |         2          |            5            |          6          |          4          |\n",
            "+--------------------+--------------------+-------------------------+---------------------+---------------------+\n",
            "Año: 1999\n",
            "+---------------------+--------------------+--------------------+--------------------+--------------------+\n",
            "| texto interpelacion |  congreso formula  |    nombr feder     |    fijar nombr     | termino resultant  |\n",
            "| -3.7803546969285198 | -3.13886345632168  |  -3.0448392676202  | -2.89097665595281  | -2.528958103092619 |\n",
            "|          7          |         8          |         7          |         3          |         4          |\n",
            "|  intervenir debat   |  vaya terminando   |   indicar acepta   |     deberia ir     |    fijar debat     |\n",
            "| 3.1042214145627396  | 3.1944115411131557 | 3.2537103624448984 | 3.5577728819211107 | 5.130259397454354  |\n",
            "|          4          |         8          |         2          |         8          |         4          |\n",
            "+---------------------+--------------------+--------------------+--------------------+--------------------+\n",
            "Año: 2000\n",
            "+---------------------+---------------------+---------------------+--------------------+----------------------+\n",
            "|   numero formula    |  congreso formula   | pesca alimentacion  |  vaya concluyendo  | interpelacion urgent |\n",
            "| -2.8847448410116048 | -2.4374349987493398 | -2.1233708957774735 | -2.020708588498252 | -1.8892594137384175  |\n",
            "|          1          |          8          |          6          |         5          |          7           |\n",
            "|  situacion dificil  |   escuela publica   |    ahora resulta    |    quier fijar     |   presentada bloqu   |\n",
            "|  2.660142374516727  | 2.8959063320347935  | 3.0659989513603514  | 3.2875635259124167 |  3.361342447622061   |\n",
            "|          7          |          6          |          8          |         5          |          4           |\n",
            "+---------------------+---------------------+---------------------+--------------------+----------------------+\n",
            "Año: 2001\n",
            "+--------------------+---------------------+---------------------+-----------------------+--------------------+\n",
            "|   numero formula   |  congreso formula   |   cultura deport    | formula vicepresident |   algun portavoz   |\n",
            "| -3.559544318504215 | -2.9355745938800246 | -2.4747011394388423 |  -2.117623656425179   | -1.93175467286057  |\n",
            "|         1          |          8          |          6          |           6           |         4          |\n",
            "|     dar apoyo      |   mile ciudadano    |    siempr mejor     |     pasamo debat      | señalar aceptacion |\n",
            "| 3.242963300342111  | 3.2511935102264213  | 3.4178508915281522  |   3.543546954213839   | 3.646853734087348  |\n",
            "|         7          |          8          |          8          |           6           |         9          |\n",
            "+--------------------+---------------------+---------------------+-----------------------+--------------------+\n",
            "Año: 2002\n",
            "+---------------------+--------------------+--------------------+---------------------+----------------------+\n",
            "|   numero formula    | afiliado seguridad |  programa elector  |   trabajo asunto    | comision seguimiento |\n",
            "| -3.5831127205843276 | -2.271717763053411 | -2.181293090005686 | -2.0167929142744976 |  -2.01131642801871   |\n",
            "|          1          |         7          |         2          |          7          |          5           |\n",
            "|    cambio rumbo     |   cuenta secreta   |  leo textualment   |  quiero preguntar   |    recort derecho    |\n",
            "| 3.0970101620791275  | 3.2081895103697144 |  3.33774851954827  | 3.5253270314443577  |  3.8534199326905694  |\n",
            "|          8          |         8          |         5          |          7          |          7           |\n",
            "+---------------------+--------------------+--------------------+---------------------+----------------------+\n",
            "Año: 2003\n",
            "+------------------------+---------------------+---------------------+--------------------+--------------------+\n",
            "|     numero formula     |     nombr feder     |   quiero agradec    |  toda informacion  |   ocupen escaño    |\n",
            "|  -3.6522300611586127   | -2.3791721156927195 | -2.1523823223866447 | -2.138113783153195 | -2.124253886129296 |\n",
            "|           1            |          7          |          2          |         5          |         9          |\n",
            "| señalizacion seguridad |    medio despue     |  seguridad publica  |      debe ir       |   acabo diciendo   |\n",
            "|   3.0262144269981563   | 3.0294079613765232  | 3.0414842138085705  | 3.227155191994073  | 3.2900322296536664 |\n",
            "|           5            |          5          |          2          |         7          |         2          |\n",
            "+------------------------+---------------------+---------------------+--------------------+--------------------+\n",
            "Año: 2004\n",
            "+--------------------+--------------------+-------------------------+---------------------+---------------------+\n",
            "|   doy formulada    |  doy reproducida   | consecuencia proclamado |  cuanto conflicto   |  inform diputacion  |\n",
            "| -3.739129561920448 | -3.541867706783904 |   -3.0989410059505467   | -3.0637764130186493 | -2.9984030074266586 |\n",
            "|         6          |         1          |            4            |          1          |          5          |\n",
            "|  grado ejecucion   |   texto dictamen   |      ninguna duda       | pesca alimentacion  | conjunto ciudadano  |\n",
            "| 1.6527809824182735 | 1.691850485449266  |    2.082732090289414    |  2.130847328655161  |  2.22962913525492   |\n",
            "|         5          |         4          |            9            |          6          |          8          |\n",
            "+--------------------+--------------------+-------------------------+---------------------+---------------------+\n",
            "Año: 2005\n",
            "+-----------------------+--------------------+--------------------+--------------------+---------------------+\n",
            "| respond interpelacion |  doy reproducida   |   doy formulada    |  defensa seccion   |    pido articulo    |\n",
            "|  -4.938155281166449   | -4.911051822515714 | -4.380442551528126 | -3.708065343385872 | -3.5934225750851048 |\n",
            "|           4           |         1          |         6          |         5          |          4          |\n",
            "|    ningun problema    | organica politico  |  seccion relativo  |     asi hecho      |  turismo comercio   |\n",
            "|   1.728283321555418   | 1.733955645254343  | 1.7455229248114903 | 1.8963913157345442 |  2.073298270135767  |\n",
            "|           8           |         0          |         6          |         0          |          5          |\n",
            "+-----------------------+--------------------+--------------------+--------------------+---------------------+\n",
            "Año: 2006\n",
            "+---------------------+---------------------+---------------------+-----------------------+-----------------------+\n",
            "|   doy reproducida   |    gran utilidad    | hecho manifestacion |     sido aludido      | regularizacion masiva |\n",
            "|  -4.4291944646321   | -3.6740323326811075 | -3.434598755517598  |  -3.2878594501702834  |  -3.129083714763574   |\n",
            "|          1          |          5          |          7          |           5           |           7           |\n",
            "| mensaj tranquilidad | acuerd celebracion  |     merec pena      | integracion inmigrant |   turismo comercio    |\n",
            "|  1.82902776457277   | 1.9152477079493082  |  2.363303863688376  |  2.5307940563447935   |   3.179082384850157   |\n",
            "|          8          |          5          |          7          |           7           |           5           |\n",
            "+---------------------+---------------------+---------------------+-----------------------+-----------------------+\n",
            "Año: 2007\n",
            "+--------------------+------------------------+--------------------+--------------------+--------------------+\n",
            "|  doy reproducida   |        van dar         |  cuestion puesto   |    negociar eta    |  finalment fijar   |\n",
            "| -3.717969284886959 |  -3.5824293923355115   | -3.435884569919824 | -3.170299551236528 | -3.07949157813209  |\n",
            "|         1          |           8            |         5          |         8          |         4          |\n",
            "|     partir ahi     | presentada proposicion | presentada mocion  |  conjunto medida   |  tiempo concluido  |\n",
            "| 1.7612404445011631 |   1.8243533429351304   | 1.8360132119997237 | 1.8547755631345355 | 2.2650682477954844 |\n",
            "|         9          |           6            |         7          |         5          |         4          |\n",
            "+--------------------+------------------------+--------------------+--------------------+--------------------+\n",
            "Año: 2008\n",
            "+---------------------+---------------------+---------------------+--------------------+---------------------+\n",
            "|      doce mese      |   familia miembro   |    creo momento     |   termino ahora    |     ciento mile     |\n",
            "| -3.2821777346271723 |  -3.14469006256798  | -3.1309018776839843 | -3.082110710112456 | -3.0615813996985803 |\n",
            "|          7          |          0          |          7          |         6          |          7          |\n",
            "|     ir acabando     | sector inmobiliario | actividad economica |  mercado trabajo   |  turismo comercio   |\n",
            "| 1.6657633186680543  | 1.7613380663838871  |  1.924162838822714  | 1.9633245914817878 | 3.4002898787304066  |\n",
            "|          8          |          3          |          3          |         7          |          5          |\n",
            "+---------------------+---------------------+---------------------+--------------------+---------------------+\n",
            "Año: 2009\n",
            "+--------------------+--------------------+--------------------+-----------------------+----------------------+\n",
            "|   doy formulada    |     brote verd     |  doy reproducida   |      pido retir       | financiacion permita |\n",
            "| -4.191985502067591 | -3.592558446763844 | -3.546662380339273 |  -3.4988383217096177  | -3.4808919375519007  |\n",
            "|         6          |         3          |         1          |           6           |          6           |\n",
            "|  turismo comercio  | persona situacion  |   puesto marcha    | comunidad internacion |    sector publico    |\n",
            "| 1.7306799028397766 | 1.8890033736877403 | 1.892983452616342  |  2.1048699493165053   |  2.1095533211287085  |\n",
            "|         5          |         2          |         2          |           9           |          2           |\n",
            "+--------------------+--------------------+--------------------+-----------------------+----------------------+\n"
          ]
        }
      ]
    }
  ]
}