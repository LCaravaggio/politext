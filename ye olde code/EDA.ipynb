{
 "cells": [
  {
   "cell_type": "code",
   "execution_count": 1,
   "metadata": {},
   "outputs": [],
   "source": [
    "import pandas as pd"
   ]
  },
  {
   "cell_type": "code",
   "execution_count": 2,
   "metadata": {},
   "outputs": [],
   "source": [
    "base=pd.read_csv('par_esp_interventions.csv')"
   ]
  },
  {
   "cell_type": "code",
   "execution_count": 3,
   "metadata": {},
   "outputs": [
    {
     "data": {
      "text/html": [
       "<div>\n",
       "<style scoped>\n",
       "    .dataframe tbody tr th:only-of-type {\n",
       "        vertical-align: middle;\n",
       "    }\n",
       "\n",
       "    .dataframe tbody tr th {\n",
       "        vertical-align: top;\n",
       "    }\n",
       "\n",
       "    .dataframe thead th {\n",
       "        text-align: right;\n",
       "    }\n",
       "</style>\n",
       "<table border=\"1\" class=\"dataframe\">\n",
       "  <thead>\n",
       "    <tr style=\"text-align: right;\">\n",
       "      <th></th>\n",
       "      <th>orden</th>\n",
       "      <th>name.x</th>\n",
       "      <th>intervention</th>\n",
       "      <th>fecha</th>\n",
       "      <th>legislatura</th>\n",
       "      <th>pleno</th>\n",
       "      <th>cataluna</th>\n",
       "      <th>estatut</th>\n",
       "      <th>inter_raw</th>\n",
       "      <th>orador.x</th>\n",
       "      <th>role</th>\n",
       "      <th>name.y</th>\n",
       "      <th>party</th>\n",
       "      <th>province</th>\n",
       "      <th>congreso</th>\n",
       "      <th>senado</th>\n",
       "      <th>total</th>\n",
       "      <th>orador.y</th>\n",
       "    </tr>\n",
       "  </thead>\n",
       "  <tbody>\n",
       "    <tr>\n",
       "      <td>0</td>\n",
       "      <td>REAL DECRETO DE CONVOCATORIA DE ELECCIONES.</td>\n",
       "      <td>SECRETARIA DE LA MESA DE EDAD (Muñoz Resta)</td>\n",
       "      <td>Artículo 5.º del Real Decreto 33/2008, de 14 d...</td>\n",
       "      <td>01/04/2008</td>\n",
       "      <td>IX</td>\n",
       "      <td>1</td>\n",
       "      <td>0</td>\n",
       "      <td>0</td>\n",
       "      <td>La señora SECRETARIA DE LA MESA DE EDAD (Muñoz...</td>\n",
       "      <td>MUÑOZ RESTA</td>\n",
       "      <td>SECRETARIA DE LA MESA DE EDAD</td>\n",
       "      <td>Muñoz Resta, Miriam</td>\n",
       "      <td>PSOE</td>\n",
       "      <td>Baleares</td>\n",
       "      <td>2 (VIII, IX)</td>\n",
       "      <td>–</td>\n",
       "      <td>2.0</td>\n",
       "      <td>MUÑOZ RESTA</td>\n",
       "    </tr>\n",
       "    <tr>\n",
       "      <td>1</td>\n",
       "      <td>RECURSOS CONTENCIOSO-ELECTORALES INTERPUESTOS.</td>\n",
       "      <td>SECRETARIA DE LA MESA DE EDAD (Muñoz Resta)</td>\n",
       "      <td>El señor presidente de la Junta Electoral Cent...</td>\n",
       "      <td>01/04/2008</td>\n",
       "      <td>IX</td>\n",
       "      <td>1</td>\n",
       "      <td>0</td>\n",
       "      <td>0</td>\n",
       "      <td>La señora SECRETARIA DE LA MESA DE EDAD (Muñoz...</td>\n",
       "      <td>MUÑOZ RESTA</td>\n",
       "      <td>SECRETARIA DE LA MESA DE EDAD</td>\n",
       "      <td>Muñoz Resta, Miriam</td>\n",
       "      <td>PSOE</td>\n",
       "      <td>Baleares</td>\n",
       "      <td>2 (VIII, IX)</td>\n",
       "      <td>–</td>\n",
       "      <td>2.0</td>\n",
       "      <td>MUÑOZ RESTA</td>\n",
       "    </tr>\n",
       "    <tr>\n",
       "      <td>2</td>\n",
       "      <td>ELECCIÓN DE LA MESA DEL CONGRESO DE LOS DIPUTA...</td>\n",
       "      <td>PRESIDENTE DE LA MESA DE EDAD (Albendea Pabón)</td>\n",
       "      <td>De acuerdo con el procedimiento previsto en el...</td>\n",
       "      <td>01/04/2008</td>\n",
       "      <td>IX</td>\n",
       "      <td>1</td>\n",
       "      <td>0</td>\n",
       "      <td>0</td>\n",
       "      <td>El señor PRESIDENTE DE LA MESA DE EDAD (Albend...</td>\n",
       "      <td>ALBENDEA PABÓN</td>\n",
       "      <td>PRESIDENTE DE LA MESA DE EDAD</td>\n",
       "      <td>Albendea Pabón, Juan Manuel</td>\n",
       "      <td>PP</td>\n",
       "      <td>Sevilla</td>\n",
       "      <td>5 (VI, VII, VIII, IX, X)</td>\n",
       "      <td>–</td>\n",
       "      <td>5.0</td>\n",
       "      <td>ALBENDEA PABÓN</td>\n",
       "    </tr>\n",
       "    <tr>\n",
       "      <td>3</td>\n",
       "      <td>ELECCIÓN DE LA MESA DEL CONGRESO DE LOS DIPUTA...</td>\n",
       "      <td>PRESIDENTE DE LA MESA DE EDAD (Albendea Pabón)</td>\n",
       "      <td>Por favor, un momento de silencio. ¿Hay alguna...</td>\n",
       "      <td>01/04/2008</td>\n",
       "      <td>IX</td>\n",
       "      <td>1</td>\n",
       "      <td>0</td>\n",
       "      <td>0</td>\n",
       "      <td>El señor PRESIDENTE DE LA MESA DE EDAD (Albend...</td>\n",
       "      <td>ALBENDEA PABÓN</td>\n",
       "      <td>PRESIDENTE DE LA MESA DE EDAD</td>\n",
       "      <td>Albendea Pabón, Juan Manuel</td>\n",
       "      <td>PP</td>\n",
       "      <td>Sevilla</td>\n",
       "      <td>5 (VI, VII, VIII, IX, X)</td>\n",
       "      <td>–</td>\n",
       "      <td>5.0</td>\n",
       "      <td>ALBENDEA PABÓN</td>\n",
       "    </tr>\n",
       "    <tr>\n",
       "      <td>4</td>\n",
       "      <td>ELECCIÓN DE LA MESA DEL CONGRESO DE LOS DIPUTA...</td>\n",
       "      <td>PRESIDENTE DE LA MESA DE EDAD (Albendea Pabón)</td>\n",
       "      <td>Señorías, ruego atención. Los votos emitidos h...</td>\n",
       "      <td>01/04/2008</td>\n",
       "      <td>IX</td>\n",
       "      <td>1</td>\n",
       "      <td>0</td>\n",
       "      <td>0</td>\n",
       "      <td>El señor PRESIDENTE DE LA MESA DE EDAD (Albend...</td>\n",
       "      <td>ALBENDEA PABÓN</td>\n",
       "      <td>PRESIDENTE DE LA MESA DE EDAD</td>\n",
       "      <td>Albendea Pabón, Juan Manuel</td>\n",
       "      <td>PP</td>\n",
       "      <td>Sevilla</td>\n",
       "      <td>5 (VI, VII, VIII, IX, X)</td>\n",
       "      <td>–</td>\n",
       "      <td>5.0</td>\n",
       "      <td>ALBENDEA PABÓN</td>\n",
       "    </tr>\n",
       "  </tbody>\n",
       "</table>\n",
       "</div>"
      ],
      "text/plain": [
       "                                               orden  \\\n",
       "0        REAL DECRETO DE CONVOCATORIA DE ELECCIONES.   \n",
       "1     RECURSOS CONTENCIOSO-ELECTORALES INTERPUESTOS.   \n",
       "2  ELECCIÓN DE LA MESA DEL CONGRESO DE LOS DIPUTA...   \n",
       "3  ELECCIÓN DE LA MESA DEL CONGRESO DE LOS DIPUTA...   \n",
       "4  ELECCIÓN DE LA MESA DEL CONGRESO DE LOS DIPUTA...   \n",
       "\n",
       "                                           name.x  \\\n",
       "0     SECRETARIA DE LA MESA DE EDAD (Muñoz Resta)   \n",
       "1     SECRETARIA DE LA MESA DE EDAD (Muñoz Resta)   \n",
       "2  PRESIDENTE DE LA MESA DE EDAD (Albendea Pabón)   \n",
       "3  PRESIDENTE DE LA MESA DE EDAD (Albendea Pabón)   \n",
       "4  PRESIDENTE DE LA MESA DE EDAD (Albendea Pabón)   \n",
       "\n",
       "                                        intervention       fecha legislatura  \\\n",
       "0  Artículo 5.º del Real Decreto 33/2008, de 14 d...  01/04/2008          IX   \n",
       "1  El señor presidente de la Junta Electoral Cent...  01/04/2008          IX   \n",
       "2  De acuerdo con el procedimiento previsto en el...  01/04/2008          IX   \n",
       "3  Por favor, un momento de silencio. ¿Hay alguna...  01/04/2008          IX   \n",
       "4  Señorías, ruego atención. Los votos emitidos h...  01/04/2008          IX   \n",
       "\n",
       "   pleno  cataluna  estatut  \\\n",
       "0      1         0        0   \n",
       "1      1         0        0   \n",
       "2      1         0        0   \n",
       "3      1         0        0   \n",
       "4      1         0        0   \n",
       "\n",
       "                                           inter_raw        orador.x  \\\n",
       "0  La señora SECRETARIA DE LA MESA DE EDAD (Muñoz...     MUÑOZ RESTA   \n",
       "1  La señora SECRETARIA DE LA MESA DE EDAD (Muñoz...     MUÑOZ RESTA   \n",
       "2  El señor PRESIDENTE DE LA MESA DE EDAD (Albend...  ALBENDEA PABÓN   \n",
       "3  El señor PRESIDENTE DE LA MESA DE EDAD (Albend...  ALBENDEA PABÓN   \n",
       "4  El señor PRESIDENTE DE LA MESA DE EDAD (Albend...  ALBENDEA PABÓN   \n",
       "\n",
       "                            role                       name.y party  province  \\\n",
       "0  SECRETARIA DE LA MESA DE EDAD          Muñoz Resta, Miriam  PSOE  Baleares   \n",
       "1  SECRETARIA DE LA MESA DE EDAD          Muñoz Resta, Miriam  PSOE  Baleares   \n",
       "2  PRESIDENTE DE LA MESA DE EDAD  Albendea Pabón, Juan Manuel    PP   Sevilla   \n",
       "3  PRESIDENTE DE LA MESA DE EDAD  Albendea Pabón, Juan Manuel    PP   Sevilla   \n",
       "4  PRESIDENTE DE LA MESA DE EDAD  Albendea Pabón, Juan Manuel    PP   Sevilla   \n",
       "\n",
       "                   congreso senado  total        orador.y  \n",
       "0              2 (VIII, IX)      –    2.0     MUÑOZ RESTA  \n",
       "1              2 (VIII, IX)      –    2.0     MUÑOZ RESTA  \n",
       "2  5 (VI, VII, VIII, IX, X)      –    5.0  ALBENDEA PABÓN  \n",
       "3  5 (VI, VII, VIII, IX, X)      –    5.0  ALBENDEA PABÓN  \n",
       "4  5 (VI, VII, VIII, IX, X)      –    5.0  ALBENDEA PABÓN  "
      ]
     },
     "execution_count": 3,
     "metadata": {},
     "output_type": "execute_result"
    }
   ],
   "source": [
    "base.head()"
   ]
  },
  {
   "cell_type": "code",
   "execution_count": 4,
   "metadata": {},
   "outputs": [
    {
     "data": {
      "text/plain": [
       "(122847, 18)"
      ]
     },
     "execution_count": 4,
     "metadata": {},
     "output_type": "execute_result"
    }
   ],
   "source": [
    "base.shape"
   ]
  },
  {
   "cell_type": "code",
   "execution_count": 5,
   "metadata": {},
   "outputs": [
    {
     "data": {
      "text/plain": [
       "array(['PSOE', 'PP', 'PSC-PSOE', 'CiU', 'PNV', 'AP-PDP-UV, CP, PP, Vox',\n",
       "       'CP, PP', 'ERC', 'IU', 'ICV-EUiA', 'BNG', 'CC, CC-PNC', 'UPyD',\n",
       "       'NaBai, GBai', 'PSdeG-PSOE', 'CC (API-AIC), CC-PNC', 'PP, PP-EU',\n",
       "       'CiU, DL, CDC', nan, 'UV, PP', 'AP-PDP, CP, PP',\n",
       "       'EE, PSE-EE (PSOE)', 'UPN-PP, PP', 'PSE-EE (PSOE)', 'PP, Vox',\n",
       "       'UPN-PP', 'PP-PAR, PP', 'PP, PP-PAR', 'AP-PDP, PP', 'UCD, PP',\n",
       "       'JxCat', 'PSE-PSOE, PSE-EE', 'CC', 'IU, IU-UPeC, UP', 'Amaiur',\n",
       "       'ICV', 'CHA', 'FORO', 'Compromís, Podemos-C., Més C.', 'PP-EU',\n",
       "       'UPyD, PSOE', 'CC-NC, PSOE-NCa', 'IU-EUPV, Podemos-Compromís',\n",
       "       'EUiA, ERC (Sobiranistes)', 'PP[7]', \"UPyD, C's\", 'PP-PAR',\n",
       "       'UCD, CP, PP', 'CiU, PDeCAT', 'Amaiur, EH Bildu', 'IU, PSOE',\n",
       "       'PSOE, PSOE-NCa', 'PP-EU, PP', 'EH Bildu', 'En Marea (EU), UP',\n",
       "       'NA+ (UPN)', 'DL', 'Podemos, UP', \"C's\", 'ECP', 'En Marea (Anova)',\n",
       "       'DL, CDC', 'PP, FORO', 'IU-UPeC', 'Podemos-Compromís',\n",
       "       'Podemos, UP, Más País', 'CiU, DL, CDC, JxCat', 'DL, CDC, JxCat',\n",
       "       'PP-FORO', \"PSOE, C's\", 'Podemos (Equo), UP', 'UP (IU)',\n",
       "       'ECP (ICV)', 'En Marea (Podemos)', 'En Marea (Podemos), UP',\n",
       "       'CDC, JxCat', 'Podemos-Compromís, UP', 'ECP (EUiA)', 'UP', 'Vox',\n",
       "       'PRC'], dtype=object)"
      ]
     },
     "execution_count": 5,
     "metadata": {},
     "output_type": "execute_result"
    }
   ],
   "source": [
    "base.party.unique()"
   ]
  },
  {
   "cell_type": "code",
   "execution_count": 6,
   "metadata": {},
   "outputs": [
    {
     "data": {
      "text/plain": [
       "'La señora SECRETARIA DE LA MESA DE EDAD (Muñoz Resta): El señor presidente de la Junta Electoral Central, mediante oficio de 31 de marzo de 2008, notifica que la Junta Electoral Central ha tomado conocimiento de la comunicación remitida por todas las juntas electorales provinciales y por las de Ceuta y Melilla de que no se ha interpuesto recurso contencioso-electoral contra la proclamación de electos realizada por las mismas en relación con las elecciones al Congreso de los Diputados y al Senado convocadas por el Real Decreto 33/2008, de 14 de enero, celebradas el 9 de marzo de 2008.'"
      ]
     },
     "execution_count": 6,
     "metadata": {},
     "output_type": "execute_result"
    }
   ],
   "source": [
    "base.inter_raw[1]"
   ]
  },
  {
   "cell_type": "code",
   "execution_count": 7,
   "metadata": {},
   "outputs": [
    {
     "data": {
      "text/plain": [
       "'El señor presidente de la Junta Electoral Central, mediante oficio de 31 de marzo de 2008, notifica que la Junta Electoral Central ha tomado conocimiento de la comunicación remitida por todas las juntas electorales provinciales y por las de Ceuta y Melilla de que no se ha interpuesto recurso contencioso-electoral contra la proclamación de electos realizada por las mismas en relación con las elecciones al Congreso de los Diputados y al Senado convocadas por el Real Decreto 33/2008, de 14 de enero, celebradas el 9 de marzo de 2008.'"
      ]
     },
     "execution_count": 7,
     "metadata": {},
     "output_type": "execute_result"
    }
   ],
   "source": [
    "base.intervention[1]"
   ]
  },
  {
   "cell_type": "code",
   "execution_count": 8,
   "metadata": {},
   "outputs": [],
   "source": [
    "# Pre-processing"
   ]
  },
  {
   "cell_type": "code",
   "execution_count": 11,
   "metadata": {},
   "outputs": [
    {
     "name": "stderr",
     "output_type": "stream",
     "text": [
      "[nltk_data] Downloading package stopwords to\n",
      "[nltk_data]     C:\\Users\\lcaravaggio_mecon\\AppData\\Roaming\\nltk_data..\n",
      "[nltk_data]     .\n",
      "[nltk_data]   Package stopwords is already up-to-date!\n"
     ]
    }
   ],
   "source": [
    "import nltk\n",
    "nltk.download('stopwords')\n",
    "from nltk.corpus import stopwords\n",
    "stopwords=stopwords.words('spanish')"
   ]
  },
  {
   "cell_type": "code",
   "execution_count": 19,
   "metadata": {},
   "outputs": [
    {
     "name": "stderr",
     "output_type": "stream",
     "text": [
      "[nltk_data] Downloading package punkt to\n",
      "[nltk_data]     C:\\Users\\lcaravaggio_mecon\\AppData\\Roaming\\nltk_data..\n",
      "[nltk_data]     .\n",
      "[nltk_data]   Package punkt is already up-to-date!\n"
     ]
    }
   ],
   "source": [
    "nltk.download('punkt')\n",
    "from nltk.tokenize import word_tokenize\n",
    "import string\n",
    "from nltk.stem.porter import PorterStemmer"
   ]
  },
  {
   "cell_type": "code",
   "execution_count": 34,
   "metadata": {},
   "outputs": [],
   "source": [
    "base['tokens']=\"\""
   ]
  },
  {
   "cell_type": "code",
   "execution_count": 35,
   "metadata": {},
   "outputs": [
    {
     "name": "stderr",
     "output_type": "stream",
     "text": [
      "C:\\ProgramData\\Anaconda3\\lib\\site-packages\\ipykernel_launcher.py:12: SettingWithCopyWarning: \n",
      "A value is trying to be set on a copy of a slice from a DataFrame\n",
      "\n",
      "See the caveats in the documentation: http://pandas.pydata.org/pandas-docs/stable/user_guide/indexing.html#returning-a-view-versus-a-copy\n",
      "  if sys.path[0] == '':\n"
     ]
    }
   ],
   "source": [
    "for ind in base.index:\n",
    "    #elimino puntuación\n",
    "    non_punctuation = base['intervention'][ind].translate(str.maketrans('', '', string.punctuation))\n",
    "    word_tokens = word_tokenize(non_punctuation)\n",
    "\n",
    "    #elimino stopwords\n",
    "    tokens=[w for w in word_tokens if not w.lower() in stopwords]\n",
    "\n",
    "    #stemming\n",
    "    porter_stemmer = PorterStemmer()\n",
    "    stemmers = [porter_stemmer.stem(word) for word in tokens]\n",
    "    base['tokens'][ind] = [stem for stem in stemmers if stem.isalpha() and len(stem) > 1]"
   ]
  },
  {
   "cell_type": "code",
   "execution_count": 42,
   "metadata": {},
   "outputs": [
    {
     "name": "stderr",
     "output_type": "stream",
     "text": [
      "C:\\ProgramData\\Anaconda3\\lib\\site-packages\\ipykernel_launcher.py:3: SettingWithCopyWarning: \n",
      "A value is trying to be set on a copy of a slice from a DataFrame\n",
      "\n",
      "See the caveats in the documentation: http://pandas.pydata.org/pandas-docs/stable/user_guide/indexing.html#returning-a-view-versus-a-copy\n",
      "  This is separate from the ipykernel package so we can avoid doing imports until\n"
     ]
    }
   ],
   "source": [
    "base['bigramas']=\"\"\n",
    "for ind in base.index:\n",
    "    base['bigramas'][ind]=list(nltk.bigrams(base['tokens'][ind]))"
   ]
  },
  {
   "cell_type": "code",
   "execution_count": 45,
   "metadata": {},
   "outputs": [],
   "source": [
    "base.to_csv('par_esp_interventions_2.csv')"
   ]
  }
 ],
 "metadata": {
  "kernelspec": {
   "display_name": "Python 3",
   "language": "python",
   "name": "python3"
  },
  "language_info": {
   "codemirror_mode": {
    "name": "ipython",
    "version": 3
   },
   "file_extension": ".py",
   "mimetype": "text/x-python",
   "name": "python",
   "nbconvert_exporter": "python",
   "pygments_lexer": "ipython3",
   "version": "3.7.4"
  }
 },
 "nbformat": 4,
 "nbformat_minor": 2
}
