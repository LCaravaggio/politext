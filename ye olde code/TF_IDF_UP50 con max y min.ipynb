{
  "nbformat": 4,
  "nbformat_minor": 0,
  "metadata": {
    "colab": {
      "provenance": [],
      "authorship_tag": "ABX9TyPeydRrJXgPnhCBmpXXXLMd",
      "include_colab_link": true
    },
    "kernelspec": {
      "name": "python3",
      "display_name": "Python 3"
    },
    "language_info": {
      "name": "python"
    }
  },
  "cells": [
    {
      "cell_type": "markdown",
      "metadata": {
        "id": "view-in-github",
        "colab_type": "text"
      },
      "source": [
        "<a href=\"https://colab.research.google.com/github/LCaravaggio/politext/blob/main/TF_IDF_UP50%20con%20max%20y%20min.ipynb\" target=\"_parent\"><img src=\"https://colab.research.google.com/assets/colab-badge.svg\" alt=\"Open In Colab\"/></a>"
      ]
    },
    {
      "cell_type": "markdown",
      "source": [
        "# Cargar la base"
      ],
      "metadata": {
        "id": "3bR6IbjGTqyw"
      }
    },
    {
      "cell_type": "code",
      "source": [
        "from google.colab import drive\n",
        "drive.mount('/content/drive')"
      ],
      "metadata": {
        "colab": {
          "base_uri": "https://localhost:8080/"
        },
        "id": "1d3u68qTTy95",
        "outputId": "3844207f-ad5c-471b-bab1-10b0ad5d88a6"
      },
      "execution_count": 1,
      "outputs": [
        {
          "output_type": "stream",
          "name": "stdout",
          "text": [
            "Mounted at /content/drive\n"
          ]
        }
      ]
    },
    {
      "cell_type": "code",
      "source": [
        "import pandas as pd\n",
        "base=pd.read_csv('/content/drive/MyDrive/base_formateada.csv')"
      ],
      "metadata": {
        "id": "a4Y2nh_NT6vv",
        "colab": {
          "base_uri": "https://localhost:8080/"
        },
        "outputId": "264e6b79-034d-402b-8993-9fbfc0ce3850"
      },
      "execution_count": 2,
      "outputs": [
        {
          "output_type": "stream",
          "name": "stderr",
          "text": [
            "/usr/local/lib/python3.8/dist-packages/IPython/core/interactiveshell.py:3326: DtypeWarning: Columns (18) have mixed types.Specify dtype option on import or set low_memory=False.\n",
            "  exec(code_obj, self.user_global_ns, self.user_ns)\n"
          ]
        }
      ]
    },
    {
      "cell_type": "code",
      "source": [
        "import nltk\n",
        "nltk.download('stopwords')\n",
        "from nltk.corpus import stopwords\n",
        "stopwords=stopwords.words('spanish')"
      ],
      "metadata": {
        "colab": {
          "base_uri": "https://localhost:8080/"
        },
        "id": "vG2Zxxq3UvyZ",
        "outputId": "3215bdf8-eb46-466f-a1b7-ddcccd9c0d06"
      },
      "execution_count": 3,
      "outputs": [
        {
          "output_type": "stream",
          "name": "stderr",
          "text": [
            "[nltk_data] Downloading package stopwords to /root/nltk_data...\n",
            "[nltk_data]   Unzipping corpora/stopwords.zip.\n"
          ]
        }
      ]
    },
    {
      "cell_type": "code",
      "source": [
        "# Se incorporan las stopwords sugeridas por Federico\n",
        "stopwords.extend(['señor', 'señora', 'mucha', 'gracia', 'año', 'pasado', 'cada', 'vez', 'uno', 'dos', 'tres', 'cuatro', 'cinco', 'seis' ,'siete', 'ocho', 'nueve', 'diez'])\n",
        "stopwords.extend(['hoy', 'aquí', 'primer', 'lugar', 'primera', 'segunda', 'primero', 'segundo', 'siguiente', 'tercer'])\n",
        "stopwords.extend(['convergencia', 'esquerra', 'republicana', 'grupo', 'parlamentaria', 'parlamentario', 'partido'])\n",
        "stopwords.extend(['enmienda', 'votación', 'favor', 'abstención', 'ley', 'real', 'decreto', 'decretoley', 'resultado', 'voto', 'sé' ,'sí', 'silencio' ,'favor'])\n",
        "stopwords.extend(['usted', 'señoría', 'presidente', 'presidenta', 'ministro', 'orden' , 'día', 'palabra', 'petición', 'posición', 'punto', 'vista', 'sesión', 'baldoví', 'duran', 'turno'])\n",
        "stopwords.extend(['hacer', 'frente', 'puede' ,'ser', 'va', 'voy', 'decir'])\n",
        "stopwords.extend(['millón', 'euro', 'emitido', 'efectuada', 'dio', 'comienzo', 'partido', 'queda', 'quedan', 'rechazada', 'aceptada', 'comienza', 'usted', 'sabe', 'abstención', 'diputado', 'gobierno'])\n",
        "stopwords.extend(['continuación', 'votamos', 'telemático', 'republicanaizquierda', 'unidainiciativa', 'puede', 'bien', 'propuesta' ,'abstencion', 'mayoría', 'absoluta', 'pregunta', 'don', 'vamos', 'votar', 'llevar', 'cabo', 'millón', 'muchas', 'gracias'])\n",
        "stopwords.extend(['podemosen', 'podemen', 'ministro', 'ministra', 'ss', 'ruego', 'aprobado', 'aprobada'])"
      ],
      "metadata": {
        "id": "D34MOjAhUx_a"
      },
      "execution_count": 4,
      "outputs": []
    },
    {
      "cell_type": "code",
      "source": [
        "# Se incorporan los nombres de los oradores como stopwords\n",
        "from collections import Counter\n",
        "nombres=[]\n",
        "for i in base.namey.unique().tolist(): nombres.extend(str(i).split(' '))\n",
        "nombres = [x.strip(' ') for x in nombres]\n",
        "nombres = [x.strip(' †') for x in nombres]\n",
        "nombres = [x.strip(',') for x in nombres]\n",
        "nombres=list(Counter(nombres))\n",
        "nombres.remove('')"
      ],
      "metadata": {
        "id": "yRV1LnZ51Z8_"
      },
      "execution_count": 5,
      "outputs": []
    },
    {
      "cell_type": "code",
      "source": [
        "stopwords.extend(nombres)"
      ],
      "metadata": {
        "id": "h_aUXBkoJTLY"
      },
      "execution_count": 6,
      "outputs": []
    },
    {
      "cell_type": "code",
      "source": [
        "partidos=pd.read_csv('/content/drive/MyDrive/partidos.csv', encoding='latin1', sep=';')"
      ],
      "metadata": {
        "id": "gVO9-cRc2C2h"
      },
      "execution_count": 7,
      "outputs": []
    },
    {
      "cell_type": "code",
      "source": [
        "stopwords.extend(partidos['nombre'].unique())\n",
        "stopwords.extend(partidos['1'].unique())\n",
        "stopwords.extend(partidos['2'].unique())\n",
        "stopwords.extend(partidos['3'].unique())"
      ],
      "metadata": {
        "id": "JRe_Lrv02rRQ"
      },
      "execution_count": 8,
      "outputs": []
    },
    {
      "cell_type": "code",
      "source": [
        "len(stopwords)"
      ],
      "metadata": {
        "id": "PcvgCNO-OI4Z",
        "outputId": "7e63115a-20d0-43e9-cce6-379be86e30bc",
        "colab": {
          "base_uri": "https://localhost:8080/"
        }
      },
      "execution_count": 9,
      "outputs": [
        {
          "output_type": "execute_result",
          "data": {
            "text/plain": [
              "2491"
            ]
          },
          "metadata": {},
          "execution_count": 9
        }
      ]
    },
    {
      "cell_type": "code",
      "source": [
        "# elimino acentos de los tokens\n",
        "a,b = 'áéèíóúü','aeeiouu'\n",
        "trans = str.maketrans(a,b)\n",
        "list = []\n",
        "for row in base.values:\n",
        "    row[20]=row[20].translate(trans)\n",
        "    list.append(row)\n",
        "\n",
        "base = pd.DataFrame(list, columns=base.columns)"
      ],
      "metadata": {
        "id": "B3stQ7owk1t3"
      },
      "execution_count": 10,
      "outputs": []
    },
    {
      "cell_type": "code",
      "source": [
        "# llevo las stopwords a minúsculas y elimino acentos\n",
        "stopwords=[x.lower() for x in stopwords if type(x)==str]\n",
        "stopwords=[x.translate(trans) for x in stopwords if type(x)==str]"
      ],
      "metadata": {
        "id": "Fj5ihOsYk3ng"
      },
      "execution_count": 11,
      "outputs": []
    },
    {
      "cell_type": "markdown",
      "source": [
        "# TF-IDF"
      ],
      "metadata": {
        "id": "6-0E1R8iJtL7"
      }
    },
    {
      "cell_type": "code",
      "source": [
        "# El hiperparámetro min_df del TF-IDF elimina las palabras con menor frecuencia. Por ejemplo, las palabras que aparecen en menos que el 0.001% de los discursos. \n",
        "# El hiperparámetro max_df del TF-IDF elimina las palabras con mayor frecuencia. Esto hace las veces de stopword específico. Por ejemplo, las palabras que aparecen en más que el que el 98% de los discursos. \n",
        "# En este ejercicio se eliminan estas palabras y luego se elimina el 50% con menor TF-IDF. \n",
        "\n",
        "from sklearn.feature_extraction.text import TfidfVectorizer\n",
        "vect = TfidfVectorizer(ngram_range=[2,2], stop_words=stopwords , max_df=0.98, min_df=0.00001)\n",
        "bow = vect.fit_transform(base['tokens'])\n",
        "total_features = len(vect.vocabulary_)"
      ],
      "metadata": {
        "id": "EZeRCYHmJuqL",
        "outputId": "8e98d67e-c96c-4bec-cc0e-2545ac7c548a",
        "colab": {
          "base_uri": "https://localhost:8080/"
        }
      },
      "execution_count": 12,
      "outputs": [
        {
          "output_type": "stream",
          "name": "stderr",
          "text": [
            "/usr/local/lib/python3.8/dist-packages/sklearn/feature_extraction/text.py:396: UserWarning: Your stop_words may be inconsistent with your preprocessing. Tokenizing the stop words generated tokens ['accion', 'ahuja', 'alcañiz', 'alderdi', 'alianza', 'alkartasuna', 'alternativa', 'amor', 'aragonesista', 'arreciado', 'asturias', 'barcena', 'barnuevo', 'bloque', 'canaria', 'canarias', 'canario', 'cantabria', 'capel', 'capitan', 'caralunya', 'cascos', 'castejon', 'catalunya', 'cataluña', 'centristas', 'centro', 'chunta', 'cienfuegos', 'ciudadana', 'ciudadania', 'ciudadanos', 'coalicion', 'compromis', 'comu', 'comun', 'comunista', 'congr', 'cristiana', 'democracia', 'democrata', 'democratas', 'democratica', 'democratico', 'democràtica', 'demòcrates', 'escandon', 'español', 'española', 'estefani', 'euskadi', 'euskadiko', 'euskal', 'eusko', 'euzko', 'existe', 'ezkerra', 'figueroa', 'foro', 'fortun', 'galego', 'galicia', 'geroa', 'herreria', 'hickman', 'huarte', 'independentista', 'iniciativa', 'izquierda', 'jeltzalea', 'jovellanos', 'junts', 'lasquetty', 'latorre', 'legaz', 'lersundi', 'liberal', 'llin', 'machuca', 'maillo', 'mancisidor', 'marea', 'margallo', 'maribona', 'marlaska', 'medel', 'menchero', 'mendicoa', 'na', 'nacionalista', 'navarra', 'nueva', 'obrero', 'olivares', 'pais', 'partit', 'patxi', 'peces', 'pedrero', 'per', 'pinilla', 'piñero', 'poble', 'podem', 'ponga', 'popular', 'progreso', 'pueblo', 'pujalte', 'reagrupament', 'regionalista', 'salmones', 'santesmases', 'sito', 'social', 'socialista', 'socialistas', 'socialverdes', 'soro', 'sotelo', 'suma', 'tagle', 'taldea', 'teruel', 'tesorero', 'tizon', 'toledano', 'torrecilla', 'trevijano', 'unida', 'unidad', 'unificado', 'unio', 'union', 'valdecasas', 'valdes', 'valenciana', 'valencià', 'vargas', 'vasco', 'verdes', 'verds', 'villaseñor', 'ximo', 'yañez'] not in stop_words.\n",
            "  warnings.warn(\n"
          ]
        }
      ]
    },
    {
      "cell_type": "code",
      "source": [
        "total_features"
      ],
      "metadata": {
        "id": "9kQ1WdWHLUln",
        "colab": {
          "base_uri": "https://localhost:8080/"
        },
        "outputId": "da54301a-4180-452c-cb44-b22c124fa783"
      },
      "execution_count": 13,
      "outputs": [
        {
          "output_type": "execute_result",
          "data": {
            "text/plain": [
              "877129"
            ]
          },
          "metadata": {},
          "execution_count": 13
        }
      ]
    },
    {
      "cell_type": "code",
      "source": [
        "sum_words = bow.sum(axis=0) \n",
        "words_freq = [(word, sum_words[0, idx]) for word, idx in vect.vocabulary_.items()]\n",
        "words_freq = sorted(words_freq, key = lambda x: x[1])\n",
        "vocabulary, _ = zip(*words_freq[:int(total_features * 0.5)])\n",
        "less_vocabulary = vocabulary"
      ],
      "metadata": {
        "id": "u2zudaJdLHAH"
      },
      "execution_count": 15,
      "outputs": []
    },
    {
      "cell_type": "code",
      "source": [
        "voc=vect.vocabulary_.keys()-less_vocabulary"
      ],
      "metadata": {
        "id": "VnN5dupSLLgB"
      },
      "execution_count": 16,
      "outputs": []
    },
    {
      "cell_type": "code",
      "source": [
        "len(voc)"
      ],
      "metadata": {
        "id": "e41pUb63LRQo",
        "colab": {
          "base_uri": "https://localhost:8080/"
        },
        "outputId": "0b1a7706-e601-4689-ccac-148e27664fa7"
      },
      "execution_count": 17,
      "outputs": [
        {
          "output_type": "execute_result",
          "data": {
            "text/plain": [
              "438565"
            ]
          },
          "metadata": {},
          "execution_count": 17
        }
      ]
    },
    {
      "cell_type": "code",
      "source": [
        "cv=TfidfVectorizer(ngram_range=[2,2], vocabulary=voc , stop_words=stopwords)\n",
        "vec = cv.fit(base['tokens'])"
      ],
      "metadata": {
        "id": "dKJ3erurMhJQ"
      },
      "execution_count": 18,
      "outputs": []
    },
    {
      "cell_type": "code",
      "source": [
        "matrix = vec.transform(base['tokens'])"
      ],
      "metadata": {
        "id": "iv1xCHcAMjGc"
      },
      "execution_count": 19,
      "outputs": []
    },
    {
      "cell_type": "code",
      "source": [
        "matrix.shape"
      ],
      "metadata": {
        "id": "90gruQRLMoeN",
        "colab": {
          "base_uri": "https://localhost:8080/"
        },
        "outputId": "aea9acd3-697b-4e3e-c9a7-036b1a0d0f1a"
      },
      "execution_count": 20,
      "outputs": [
        {
          "output_type": "execute_result",
          "data": {
            "text/plain": [
              "(334421, 438565)"
            ]
          },
          "metadata": {},
          "execution_count": 20
        }
      ]
    },
    {
      "cell_type": "markdown",
      "source": [
        "# Número óptimo de clusters"
      ],
      "metadata": {
        "id": "YKNUCBRCNrn0"
      }
    },
    {
      "cell_type": "code",
      "source": [
        "# LDA en Sklearn tiene un resultado de score correspondiente al log-likelihood. En base a ese criterio se identifica el número óptimo de clusters. \n",
        "\n",
        "from sklearn.decomposition import LatentDirichletAllocation\n",
        "from sklearn.model_selection import GridSearchCV\n",
        "\n",
        "search_params = {'n_components': [20, 40, 60, 80]}\n",
        "model = LatentDirichletAllocation(max_iter=500, learning_method='online', learning_offset=50.,random_state=0, cv=2)\n",
        "gridsearch = GridSearchCV(model,\n",
        "                          param_grid=search_params,\n",
        "                          n_jobs=-1,\n",
        "                          verbose=1)\n",
        "gridsearch.fit(matrix)\n",
        "best_lda = gridsearch.best_estimator_"
      ],
      "metadata": {
        "id": "61lRDRE9G5PU"
      },
      "execution_count": null,
      "outputs": []
    },
    {
      "cell_type": "code",
      "source": [
        "cv_results_df = pd.DataFrame(gridsearch.cv_results_)\n",
        "cv_results_df"
      ],
      "metadata": {
        "id": "aJ78liUUgoQk"
      },
      "execution_count": null,
      "outputs": []
    },
    {
      "cell_type": "code",
      "source": [
        "import seaborn as sns\n",
        "sns.set(rc={\"figure.dpi\":150, 'savefig.dpi':150})\n",
        "sns.pointplot(x=\"param_n_components\",\n",
        "              y=\"mean_test_score\",\n",
        "              data=cv_results_df)"
      ],
      "metadata": {
        "id": "EEgLuZlPgjlO"
      },
      "execution_count": null,
      "outputs": []
    },
    {
      "cell_type": "markdown",
      "source": [
        "# LDA con 10 clusters"
      ],
      "metadata": {
        "id": "cUPM4dCzG-lY"
      }
    },
    {
      "cell_type": "code",
      "source": [
        "from sklearn.decomposition import LatentDirichletAllocation"
      ],
      "metadata": {
        "id": "nrX8JFA8HNjg"
      },
      "execution_count": 21,
      "outputs": []
    },
    {
      "cell_type": "code",
      "source": [
        "# Acá hay un problema porque se sigue usando 10 clusters cuando en realidad habría que chequear el número óptimo de clusters una vez definida la cantidad de bigramas a utilizar. \n",
        "# Sin embargo, Text as data dice que el número de clústers es generalmente arbitrario, y recomienda arrancar probando con 10. \n",
        "lda = LatentDirichletAllocation(n_components=10, max_iter=5, learning_method='online', learning_offset=50.,random_state=0)     "
      ],
      "metadata": {
        "id": "F-6Mmsh8HQLm"
      },
      "execution_count": 22,
      "outputs": []
    },
    {
      "cell_type": "code",
      "source": [
        "lda.fit(matrix)"
      ],
      "metadata": {
        "id": "KMXpBy7-Hn0m",
        "colab": {
          "base_uri": "https://localhost:8080/"
        },
        "outputId": "a9615744-a7b3-4a5d-ae19-b12b58e2fb37"
      },
      "execution_count": 23,
      "outputs": [
        {
          "output_type": "execute_result",
          "data": {
            "text/plain": [
              "LatentDirichletAllocation(learning_method='online', learning_offset=50.0,\n",
              "                          max_iter=5, random_state=0)"
            ]
          },
          "metadata": {},
          "execution_count": 23
        }
      ]
    },
    {
      "cell_type": "code",
      "source": [
        "def display_topics(model, feature_names, no_top_words):\n",
        "    for topic_idx, topic in enumerate(model.components_):\n",
        "        print(\"Topic %d:\" % (topic_idx + 1))\n",
        "        print(\" , \".join([feature_names[i] for i in topic.argsort()[:-no_top_words - 1:-1]]))"
      ],
      "metadata": {
        "id": "b3BMGoEaHrEt"
      },
      "execution_count": 24,
      "outputs": []
    },
    {
      "cell_type": "code",
      "source": [
        "display_topics(lda, feature_names=cv.get_feature_names_out(), no_top_words=20)"
      ],
      "metadata": {
        "id": "cJxdkzWzHsWi",
        "colab": {
          "base_uri": "https://localhost:8080/"
        },
        "outputId": "e6ecd14d-dc55-49d7-d309-29bdcf3bf475"
      },
      "execution_count": 25,
      "outputs": [
        {
          "output_type": "stream",
          "name": "stdout",
          "text": [
            "Topic 1:\n",
            "vaya concluyendo , izquierda unida , feder izquierda , doña socialista , legarda uriart , acuerd celebracion , celebracion extraordinaria , tardà coma , beitialarrangoitia lizarrald , acepta alguna , suficient miembro , permanent pertenecient , mixto orama , capella farre , agirretxea urresti , mixto accensi , ciuro buldo , llamazar vasco , mixto quevedo , nueva formularla\n",
            "Topic 2:\n",
            "nombr socialista , mixto campuzano , diputada vicepresidenta , vicepresidenta adelant , campuzano canade , contestar interpelacion , vasco barandiaran , mixto roda , campuzano socialista , siento tiempo , reanudara mañana , interpelacion nombr , fijar popular , tiempo terminado , socialista simanca , diputada acabar , ciudadano girauta , exterior convenio , pleno reanudara , aitor vasco\n",
            "Topic 3:\n",
            "confeder unido , unido comu , vaya terminando , canaria mardon , momento guarden , seccion relativo , mañana hora , fijar nombr , nombr mixto , marea adelant , intervien mixto , jane popular , terminado tiempo , fijar vasco , unio campuzano , fijacion intervien , vergencia unio , vasco erkoreka , coalicion canarianueva , canarianueva canaria\n",
            "Topic 4:\n",
            "union europea , comunidad autonoma , administracion publica , seguridad social , medio ambient , servicio social , ir terminando , hacienda administracion , social igualdad , mocion consecuencia , cultura deport , presupuesto general , servicio publico , congreso formula , acabo tiempo , debe acabar , educacion cultura , consecuencia interpelacion , sanidad servicio , economia española\n",
            "Topic 5:\n",
            "catalunya verd , vasco legarda , vasco agirretxea , dirigida hacienda , llibr popular , nombr vasco , pasamo numero , verd llamazar , izquierda verdeizquierda , jane socialista , verdeizquierda per , adquirido condicion , ciudadano torr , izquierda verd , verd ridao , referido senado , xuclà popular , ahora dirigida , verd tardà , nombr fomento\n",
            "Topic 6:\n",
            "fijacion mixto , per catalunya , izquierda per , desean fijar , pasamo fijacion , rechazado numero , texto dictamen , dictamen seccion , disposicion final , disposicion adicion , dictamen comision , articulo apartado , articulo unico , resto izquierda , senado proyecto , unico apartado , disposicion transitoria , seccion dictamen , articulo disposicion , resto articulo\n",
            "Topic 7:\n",
            "diputada doña , numero formula , interpelacion urgent , toma consideracion , formula diputada , defensa formulada , asunto exterior , consideracion proposicion , socialista adelant , convalidacion derogacion , dirigida justicia , dirigida interior , nacion salud , dirigida educacion , sanidad consumo , doña popular , dirigida sanidad , socialista doña , deseen fijar , unio jane\n",
            "Topic 8:\n",
            "nombr popular , tiempo concluido , aceptacion rechazo , llibr socialista , procedimiento urgencia , tramitacion proyecto , matut jalon , industria energia , ciudadano mone , dirigida industria , minuto tard , unio pico , pico socialista , plena enhorabuena , margal sastr , sixto unio , oir orador , continuamo nombr , nombr economia , resto jordà\n",
            "Topic 9:\n",
            "union progreso , progreso democracia , popular congreso , coalicion canaria , comunidad autonoma , ir acabando , toma consideracion , extraordinaria comision , defensa presentada , poder judici , consideracion proposicion , diputacion permanent , tribun constitucion , proposicion popular , violencia genero , suspend mañana , resto socialista , guardia civil , democracia gorriaran , proposicion socialista\n",
            "Topic 10:\n",
            "izquierda plural , comu marea , vasco olabarria , icveuia izquierda , vasco azpiazu , fijacion vasco , acabado tiempo , diputada terminar , plural coscubiela , fijar mixto , acatar constitucion , defensa mixto , plural llamazar , promet acatar , ocupen escaño , vasco beloki , vasco sagastizab , vasco uria , campuzano popular , sagastizab unzetabarrenetxea\n"
          ]
        }
      ]
    }
  ]
}
