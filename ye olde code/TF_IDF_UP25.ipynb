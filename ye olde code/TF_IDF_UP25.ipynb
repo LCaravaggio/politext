{
  "nbformat": 4,
  "nbformat_minor": 0,
  "metadata": {
    "colab": {
      "provenance": [],
      "include_colab_link": true
    },
    "kernelspec": {
      "name": "python3",
      "display_name": "Python 3"
    },
    "language_info": {
      "name": "python"
    }
  },
  "cells": [
    {
      "cell_type": "markdown",
      "metadata": {
        "id": "view-in-github",
        "colab_type": "text"
      },
      "source": [
        "<a href=\"https://colab.research.google.com/github/LCaravaggio/politext/blob/main/TF_IDF_UP25.ipynb\" target=\"_parent\"><img src=\"https://colab.research.google.com/assets/colab-badge.svg\" alt=\"Open In Colab\"/></a>"
      ]
    },
    {
      "cell_type": "markdown",
      "source": [
        "# Cargar la base"
      ],
      "metadata": {
        "id": "3bR6IbjGTqyw"
      }
    },
    {
      "cell_type": "code",
      "source": [
        "from google.colab import drive\n",
        "drive.mount('/content/drive')"
      ],
      "metadata": {
        "colab": {
          "base_uri": "https://localhost:8080/"
        },
        "id": "1d3u68qTTy95",
        "outputId": "2d506bb5-a23c-4e3b-e01d-3b2e8fab1481"
      },
      "execution_count": 1,
      "outputs": [
        {
          "output_type": "stream",
          "name": "stdout",
          "text": [
            "Mounted at /content/drive\n"
          ]
        }
      ]
    },
    {
      "cell_type": "code",
      "source": [
        "import pandas as pd\n",
        "base=pd.read_csv('/content/drive/MyDrive/base_formateada.csv')"
      ],
      "metadata": {
        "id": "a4Y2nh_NT6vv",
        "outputId": "d168e0e3-fe47-47c1-b01f-dd7d468efa41",
        "colab": {
          "base_uri": "https://localhost:8080/"
        }
      },
      "execution_count": 2,
      "outputs": [
        {
          "output_type": "stream",
          "name": "stderr",
          "text": [
            "/usr/local/lib/python3.8/dist-packages/IPython/core/interactiveshell.py:3326: DtypeWarning: Columns (18) have mixed types.Specify dtype option on import or set low_memory=False.\n",
            "  exec(code_obj, self.user_global_ns, self.user_ns)\n"
          ]
        }
      ]
    },
    {
      "cell_type": "code",
      "source": [
        "import nltk\n",
        "nltk.download('stopwords')\n",
        "from nltk.corpus import stopwords\n",
        "stopwords=stopwords.words('spanish')"
      ],
      "metadata": {
        "id": "vG2Zxxq3UvyZ",
        "outputId": "84b97fbc-2f91-42d9-91f3-19c022d30dda",
        "colab": {
          "base_uri": "https://localhost:8080/"
        }
      },
      "execution_count": 3,
      "outputs": [
        {
          "output_type": "stream",
          "name": "stderr",
          "text": [
            "[nltk_data] Downloading package stopwords to /root/nltk_data...\n",
            "[nltk_data]   Unzipping corpora/stopwords.zip.\n"
          ]
        }
      ]
    },
    {
      "cell_type": "code",
      "source": [
        "# Se incorporan las stopwords sugeridas por Federico\n",
        "stopwords.extend(['señor', 'señora', 'mucha', 'gracia', 'año', 'pasado', 'cada', 'vez', 'uno', 'dos', 'tres', 'cuatro', 'cinco', 'seis' ,'siete', 'ocho', 'nueve', 'diez'])\n",
        "stopwords.extend(['hoy', 'aquí', 'primer', 'lugar', 'primera', 'segunda', 'primero', 'segundo', 'siguiente', 'tercer'])\n",
        "stopwords.extend(['convergencia', 'esquerra', 'republicana', 'grupo', 'parlamentaria', 'parlamentario', 'partido'])\n",
        "stopwords.extend(['enmienda', 'votación', 'favor', 'abstención', 'ley', 'real', 'decreto', 'decretoley', 'resultado', 'voto', 'sé' ,'sí', 'silencio' ,'favor'])\n",
        "stopwords.extend(['usted', 'señoría', 'presidente', 'presidenta', 'ministro', 'orden' , 'día', 'palabra', 'petición', 'posición', 'punto', 'vista', 'sesión', 'baldoví', 'duran', 'turno'])\n",
        "stopwords.extend(['hacer', 'frente', 'puede' ,'ser', 'va', 'voy', 'decir'])\n",
        "stopwords.extend(['millón', 'euro', 'emitido', 'efectuada', 'dio', 'comienzo', 'partido', 'queda', 'quedan', 'rechazada', 'aceptada', 'comienza', 'usted', 'sabe', 'abstención', 'diputado', 'gobierno'])\n",
        "stopwords.extend(['continuación', 'votamos', 'telemático', 'republicanaizquierda', 'unidainiciativa', 'puede', 'bien', 'propuesta' ,'abstencion', 'mayoría', 'absoluta', 'pregunta', 'don', 'vamos', 'votar', 'llevar', 'cabo', 'millón', 'muchas', 'gracias'])\n",
        "stopwords.extend(['podemosen', 'podemen', 'ministro', 'ministra', 'ss', 'ruego', 'aprobado', 'aprobada'])\n",
        "stopwords.extend(['escaño','senado','vicepresidenta','concluyendo','diputada','doña','beitialarrangoitia','carlo','girauta','rechazado','escrutinio','vicepresident','jane','mardon','continu'])"
      ],
      "metadata": {
        "id": "D34MOjAhUx_a"
      },
      "execution_count": 4,
      "outputs": []
    },
    {
      "cell_type": "code",
      "source": [
        "# Se incorporan los nombres de los oradores como stopwords\n",
        "from collections import Counter\n",
        "nombres=[]\n",
        "for i in base.namey.unique().tolist(): nombres.extend(str(i).split(' '))\n",
        "nombres = [x.strip(' ') for x in nombres]\n",
        "nombres = [x.strip(' †') for x in nombres]\n",
        "nombres = [x.strip(',') for x in nombres]\n",
        "nombres=list(Counter(nombres))\n",
        "nombres.remove('')"
      ],
      "metadata": {
        "id": "yRV1LnZ51Z8_"
      },
      "execution_count": 5,
      "outputs": []
    },
    {
      "cell_type": "code",
      "source": [
        "stopwords.extend(nombres)"
      ],
      "metadata": {
        "id": "h_aUXBkoJTLY"
      },
      "execution_count": 6,
      "outputs": []
    },
    {
      "cell_type": "code",
      "source": [
        "partidos=pd.read_csv('/content/drive/MyDrive/partidos.csv', encoding='latin1', sep=';')"
      ],
      "metadata": {
        "id": "gVO9-cRc2C2h"
      },
      "execution_count": 7,
      "outputs": []
    },
    {
      "cell_type": "code",
      "source": [
        "stopwords.extend(partidos['nombre'].unique())\n",
        "stopwords.extend(partidos['1'].unique())\n",
        "stopwords.extend(partidos['2'].unique())\n",
        "stopwords.extend(partidos['3'].unique())"
      ],
      "metadata": {
        "id": "JRe_Lrv02rRQ"
      },
      "execution_count": 8,
      "outputs": []
    },
    {
      "cell_type": "code",
      "source": [
        "len(stopwords)"
      ],
      "metadata": {
        "id": "PcvgCNO-OI4Z",
        "outputId": "ceb4118e-bc3b-4a46-ca4d-00f8f0769730",
        "colab": {
          "base_uri": "https://localhost:8080/"
        }
      },
      "execution_count": 9,
      "outputs": [
        {
          "output_type": "execute_result",
          "data": {
            "text/plain": [
              "2506"
            ]
          },
          "metadata": {},
          "execution_count": 9
        }
      ]
    },
    {
      "cell_type": "code",
      "source": [
        "# elimino acentos de los tokens\n",
        "a,b = 'áàéèíóúü','aaeeiouu'\n",
        "trans = str.maketrans(a,b)\n",
        "list = []\n",
        "for row in base.values:\n",
        "    row[20]=row[20].translate(trans)\n",
        "    list.append(row)\n",
        "\n",
        "base = pd.DataFrame(list, columns=base.columns)"
      ],
      "metadata": {
        "id": "kbZaRs-Pf9Nc"
      },
      "execution_count": 10,
      "outputs": []
    },
    {
      "cell_type": "code",
      "source": [
        "# llevo las stopwords a minúsculas y elimino acentos\n",
        "stopwords=[x.lower() for x in stopwords if type(x)==str]\n",
        "stopwords=[x.translate(trans) for x in stopwords if type(x)==str]"
      ],
      "metadata": {
        "id": "FY9WcdyJf_F9"
      },
      "execution_count": 11,
      "outputs": []
    },
    {
      "cell_type": "markdown",
      "source": [
        "# TF-IDF"
      ],
      "metadata": {
        "id": "6-0E1R8iJtL7"
      }
    },
    {
      "cell_type": "code",
      "source": [
        "# El hiperparámetro min_df del TF-IDF elimina las palabras con menor frecuencia. Por ejemplo, las palabras que aparecen en menos que el 75% de los discursos. \n",
        "# A continuación se adopta un enfoque distinto: Se genera un vocabulario con todos los bigramas, y luego se elimina el 75% de los bigramas con menor TF-IDF. \n",
        "# Es decir que entre los 8 millones de bigramas se seleccionan los 2 millones de mayor TF-IDF. \n",
        "\n",
        "from sklearn.feature_extraction.text import TfidfVectorizer\n",
        "vect = TfidfVectorizer(ngram_range=[2,2], stop_words=stopwords)\n",
        "bow = vect.fit_transform(base['tokens'])\n",
        "total_features = len(vect.vocabulary_)"
      ],
      "metadata": {
        "id": "EZeRCYHmJuqL",
        "outputId": "69cd18e8-bbd7-4625-b6ce-997c1b740a29",
        "colab": {
          "base_uri": "https://localhost:8080/"
        }
      },
      "execution_count": 12,
      "outputs": [
        {
          "output_type": "stream",
          "name": "stderr",
          "text": [
            "/usr/local/lib/python3.8/dist-packages/sklearn/feature_extraction/text.py:396: UserWarning: Your stop_words may be inconsistent with your preprocessing. Tokenizing the stop words generated tokens ['accion', 'ahuja', 'alcañiz', 'alderdi', 'alianza', 'alkartasuna', 'alternativa', 'amor', 'aragonesista', 'arreciado', 'asturias', 'barcena', 'barnuevo', 'bloque', 'canaria', 'canarias', 'canario', 'cantabria', 'capel', 'capitan', 'caralunya', 'cascos', 'castejon', 'catalunya', 'cataluña', 'centristas', 'centro', 'chunta', 'cienfuegos', 'ciudadana', 'ciudadania', 'ciudadanos', 'coalicion', 'compromis', 'comu', 'comun', 'comunista', 'congr', 'cristiana', 'democracia', 'democrata', 'democratas', 'democratica', 'democratico', 'demòcrates', 'escandon', 'español', 'española', 'estefani', 'euskadi', 'euskadiko', 'euskal', 'eusko', 'euzko', 'existe', 'ezkerra', 'figueroa', 'foro', 'fortun', 'galego', 'galicia', 'geroa', 'herreria', 'hickman', 'huarte', 'independentista', 'iniciativa', 'izquierda', 'jeltzalea', 'jovellanos', 'junts', 'lasquetty', 'latorre', 'legaz', 'lersundi', 'liberal', 'llin', 'machuca', 'maillo', 'mancisidor', 'marea', 'margallo', 'maribona', 'marlaska', 'medel', 'menchero', 'mendicoa', 'na', 'nacionalista', 'navarra', 'nueva', 'obrero', 'olivares', 'pais', 'partit', 'patxi', 'peces', 'pedrero', 'per', 'pinilla', 'piñero', 'poble', 'podem', 'ponga', 'popular', 'progreso', 'pueblo', 'pujalte', 'reagrupament', 'regionalista', 'salmones', 'santesmases', 'sito', 'social', 'socialista', 'socialistas', 'socialverdes', 'soro', 'sotelo', 'suma', 'tagle', 'taldea', 'teruel', 'tesorero', 'tizon', 'toledano', 'torrecilla', 'trevijano', 'unida', 'unidad', 'unificado', 'unio', 'union', 'valdecasas', 'valdes', 'valencia', 'valenciana', 'vargas', 'vasco', 'verdes', 'verds', 'villaseñor', 'ximo', 'yañez'] not in stop_words.\n",
            "  warnings.warn(\n"
          ]
        }
      ]
    },
    {
      "cell_type": "code",
      "source": [
        "total_features"
      ],
      "metadata": {
        "id": "9kQ1WdWHLUln",
        "outputId": "ea1f0c8d-9874-4910-b25b-8d29354e93d4",
        "colab": {
          "base_uri": "https://localhost:8080/"
        }
      },
      "execution_count": 13,
      "outputs": [
        {
          "output_type": "execute_result",
          "data": {
            "text/plain": [
              "7775776"
            ]
          },
          "metadata": {},
          "execution_count": 13
        }
      ]
    },
    {
      "cell_type": "code",
      "source": [
        "sum_words = bow.sum(axis=0) \n",
        "words_freq = [(word, sum_words[0, idx]) for word, idx in vect.vocabulary_.items()]\n",
        "words_freq = sorted(words_freq, key = lambda x: x[1])\n",
        "vocabulary, _ = zip(*words_freq[:int(total_features * 0.75)])\n",
        "less_vocabulary = vocabulary"
      ],
      "metadata": {
        "id": "u2zudaJdLHAH"
      },
      "execution_count": 14,
      "outputs": []
    },
    {
      "cell_type": "code",
      "source": [
        "voc=vect.vocabulary_.keys()-less_vocabulary"
      ],
      "metadata": {
        "id": "VnN5dupSLLgB"
      },
      "execution_count": 15,
      "outputs": []
    },
    {
      "cell_type": "code",
      "source": [
        "len(voc)"
      ],
      "metadata": {
        "id": "e41pUb63LRQo",
        "outputId": "98c2120c-77e2-44d9-a4b7-6196524cc63e",
        "colab": {
          "base_uri": "https://localhost:8080/"
        }
      },
      "execution_count": 16,
      "outputs": [
        {
          "output_type": "execute_result",
          "data": {
            "text/plain": [
              "1943944"
            ]
          },
          "metadata": {},
          "execution_count": 16
        }
      ]
    },
    {
      "cell_type": "code",
      "source": [
        "cv=TfidfVectorizer(ngram_range=[2,2], vocabulary=voc)\n",
        "vec = cv.fit(base['tokens'])"
      ],
      "metadata": {
        "id": "dKJ3erurMhJQ"
      },
      "execution_count": 17,
      "outputs": []
    },
    {
      "cell_type": "code",
      "source": [
        "matrix = vec.transform(base['tokens'])"
      ],
      "metadata": {
        "id": "iv1xCHcAMjGc"
      },
      "execution_count": 18,
      "outputs": []
    },
    {
      "cell_type": "code",
      "source": [
        "matrix.shape"
      ],
      "metadata": {
        "id": "90gruQRLMoeN",
        "outputId": "977068e5-675f-4ca4-a87c-dd685de28723",
        "colab": {
          "base_uri": "https://localhost:8080/"
        }
      },
      "execution_count": 19,
      "outputs": [
        {
          "output_type": "execute_result",
          "data": {
            "text/plain": [
              "(334421, 1943944)"
            ]
          },
          "metadata": {},
          "execution_count": 19
        }
      ]
    },
    {
      "cell_type": "markdown",
      "source": [
        "# Número óptimo de clusters"
      ],
      "metadata": {
        "id": "YKNUCBRCNrn0"
      }
    },
    {
      "cell_type": "code",
      "source": [
        "# LDA en Sklearn tiene un resultado de score correspondiente al log-likelihood. En base a ese criterio se identifica el número óptimo de clusters. \n",
        "\n",
        "from sklearn.decomposition import LatentDirichletAllocation\n",
        "from sklearn.model_selection import GridSearchCV\n",
        "\n",
        "search_params = {'n_components': [20, 40, 60, 80]}\n",
        "model = LatentDirichletAllocation(max_iter=500, learning_method='online', learning_offset=50.,random_state=0)\n",
        "gridsearch = GridSearchCV(model,\n",
        "                          param_grid=search_params,\n",
        "                          n_jobs=-1,\n",
        "                          verbose=1, \n",
        "                          cv=2)\n",
        "gridsearch.fit(matrix)\n",
        "best_lda = gridsearch.best_estimator_"
      ],
      "metadata": {
        "id": "61lRDRE9G5PU",
        "outputId": "345de53c-c0f5-4de7-fceb-5e5b149456d3",
        "colab": {
          "base_uri": "https://localhost:8080/"
        }
      },
      "execution_count": null,
      "outputs": [
        {
          "output_type": "stream",
          "name": "stdout",
          "text": [
            "Fitting 2 folds for each of 4 candidates, totalling 8 fits\n"
          ]
        }
      ]
    },
    {
      "cell_type": "code",
      "source": [
        "cv_results_df = pd.DataFrame(gridsearch.cv_results_)\n",
        "cv_results_df"
      ],
      "metadata": {
        "id": "83CB1f82sEZ3"
      },
      "execution_count": null,
      "outputs": []
    },
    {
      "cell_type": "code",
      "source": [
        "import seaborn as sns\n",
        "sns.set(rc={\"figure.dpi\":150, 'savefig.dpi':150})\n",
        "sns.pointplot(x=\"param_n_components\",\n",
        "              y=\"mean_test_score\",\n",
        "              data=cv_results_df)"
      ],
      "metadata": {
        "id": "EEgLuZlPgjlO"
      },
      "execution_count": null,
      "outputs": []
    },
    {
      "cell_type": "markdown",
      "source": [
        "# LDA con 10 clusters"
      ],
      "metadata": {
        "id": "cUPM4dCzG-lY"
      }
    },
    {
      "cell_type": "code",
      "source": [
        "from sklearn.decomposition import LatentDirichletAllocation"
      ],
      "metadata": {
        "id": "nrX8JFA8HNjg"
      },
      "execution_count": null,
      "outputs": []
    },
    {
      "cell_type": "code",
      "source": [
        "# Acá hay un problema porque se sigue usando 10 clusters cuando en realidad habría que chequear el número óptimo de clusters una vez definida la cantidad de bigramas a utilizar. \n",
        "# Sin embargo, Text as data dice que el número de clústers es generalmente arbitrario, y recomienda arrancar probando con 10. \n",
        "lda = LatentDirichletAllocation(n_components=10, max_iter=5, learning_method='online', learning_offset=50.,random_state=0)     "
      ],
      "metadata": {
        "id": "F-6Mmsh8HQLm"
      },
      "execution_count": null,
      "outputs": []
    },
    {
      "cell_type": "code",
      "source": [
        "lda.fit(matrix)"
      ],
      "metadata": {
        "id": "KMXpBy7-Hn0m",
        "outputId": "09d175e5-47c4-4823-ca26-98e7b8efbb51",
        "colab": {
          "base_uri": "https://localhost:8080/"
        }
      },
      "execution_count": null,
      "outputs": [
        {
          "output_type": "execute_result",
          "data": {
            "text/plain": [
              "LatentDirichletAllocation(learning_method='online', learning_offset=50.0,\n",
              "                          max_iter=5, random_state=0)"
            ]
          },
          "metadata": {},
          "execution_count": 24
        }
      ]
    },
    {
      "cell_type": "code",
      "source": [
        "def display_topics(model, feature_names, no_top_words):\n",
        "    for topic_idx, topic in enumerate(model.components_):\n",
        "        print(\"Topic %d:\" % (topic_idx + 1))\n",
        "        print(\" , \".join([feature_names[i] for i in topic.argsort()[:-no_top_words - 1:-1]]))"
      ],
      "metadata": {
        "id": "b3BMGoEaHrEt"
      },
      "execution_count": null,
      "outputs": []
    },
    {
      "cell_type": "code",
      "source": [
        "display_topics(lda, feature_names=cv.get_feature_names_out(), no_top_words=20)"
      ],
      "metadata": {
        "id": "cJxdkzWzHsWi",
        "outputId": "233d9756-02c5-4bed-839d-bab7c2e53aeb",
        "colab": {
          "base_uri": "https://localhost:8080/"
        }
      },
      "execution_count": null,
      "outputs": [
        {
          "output_type": "stream",
          "name": "stdout",
          "text": [
            "Topic 1:\n",
            "ocupen escaño , referido senado , orama mismo , seccion referido , guillaum socialista , unio tarruella , mismo jorquera , abandonen hemiciclo , tarruella popular , guarden ocupen , popular rodriguezsalmon , barko mismo , finalizado tiempo , reanuda iv , simanca popular , olabarria acabar , aguirr vicepresidenta , escaño guarden , socialista lasart , quevedo mismo\n",
            "Topic 2:\n",
            "seccion relativo , mixto orama , nombr vasco , dirigida educacion , vasco agirretxea , mixto quevedo , ciudadano girauta , xuclà popular , jordà vasco , mocion mixto , conform remitido , ridao mismo , dirigida conform , remitido mismo , minuto comenzaran , guarden quiera , tria be , barko socialista , debe finalizar , popular montesino\n",
            "Topic 3:\n",
            "union progreso , progreso democracia , comunidad autonoma , numero formula , toma consideracion , union europea , popular congreso , coalicion canaria , seguridad social , administracion publica , interpelacion urgent , consideracion proposicion , medio ambient , asunto exterior , disposicion adicion , dictamen comision , servicio social , texto dictamen , nombr popular , rechazado numero\n",
            "Topic 4:\n",
            "congreso formula , acepta alguna , vicepresidenta adelant , llibr popular , terminado tiempo , formularla doña , unio xuclà , cuadra vasco , acepta presentada , olabarria terminar , escuchar orador , socialista jesu , mismo orama , vicepresident formularla , efecto indicar , minuto procederemo , surroca popular , girauta adelant , simanca socialista , fomento formularla\n",
            "Topic 5:\n",
            "per catalunya , izquierda per , desean fijar , tiempo concluido , mixto roda , nombr mixto , mixto jorquera , ciudadano adelant , izquierda verd , fijar coalicion , nombr izquierda , fijar pausa , mixto larreina , votan bloqu , pico popular , coscubiela terminar , olabarria finalizar , escrutinio dijo , ciuro socialista , mismo jordà\n",
            "Topic 6:\n",
            "catalunya verd , izquierda unida , pasamo fijacion , feder izquierda , acuerd celebracion , celebracion extraordinaria , diputada vicepresidenta , llibr socialista , vasco legarda , permanent pertenecient , socialista acuerd , jane socialista , izquierda verdeizquierda , verdeizquierda per , mixto acuerd , unio pico , nombr feder , mardon izquierda , verd llamazar , siento tiempo\n",
            "Topic 7:\n",
            "izquierda plural , acabado tiempo , vaya terminando , diputada terminar , plural coscubiela , plural llamazar , orama gonzalezmoro , promet acatar , sagastizab unzetabarrenetxea , tardà vasco , plural centella , llamazar vasco , jura promet , gorriaran izquierda , jane popular , fijar vasco , plural sixto , campuzano socialista , plural nuet , tiempo minuto\n",
            "Topic 8:\n",
            "vaya concluyendo , diputada doña , formula diputada , mixto campuzano , socialista adelant , intervien mixto , contestar interpelacion , dirigida justicia , pasamo numero , dirigida vicepresidenta , deseen fijar , guarden adelant , mixto tardà , pasamo interpelacion , ciudadano torr , vicepresidenta diputada , larreina vasco , ahora dirigida , minuto tard , justicia diputada\n",
            "Topic 9:\n",
            "confeder unido , legarda uriart , canaria mardon , vasco azpiazu , tardà coma , fijar mixto , beitialarrangoitia lizarrald , agirretxea urresti , marea adelant , campuzano popular , capella farre , vasco uria , ciuro buldo , unio jane , iglesia turrion , mardon vasco , eritja ciuro , quevedo iturb , sorli fresquet , guarden continu\n",
            "Topic 10:\n",
            "dirigida hacienda , unio campuzano , fijar nombr , acatar constitucion , nueva formularla , surroca socialista , tramitacion directa , directa lectura , ridao vasco , fomento formula , llamazar socialista , justicia formula , marea iglesia , minuto comenzara , perdon momento , carlo girauta , presidencia formula , orador continu , fielment obligacion , ciudadano garaulet\n"
          ]
        }
      ]
    }
  ]
}
