{
  "nbformat": 4,
  "nbformat_minor": 0,
  "metadata": {
    "colab": {
      "provenance": [],
      "include_colab_link": true
    },
    "kernelspec": {
      "name": "python3",
      "display_name": "Python 3"
    },
    "language_info": {
      "name": "python"
    },
    "gpuClass": "standard"
  },
  "cells": [
    {
      "cell_type": "markdown",
      "metadata": {
        "id": "view-in-github",
        "colab_type": "text"
      },
      "source": [
        "<a href=\"https://colab.research.google.com/github/LCaravaggio/politext/blob/snowball/GS%20-%20Guardar%20Vocabulario%20-%20Senado.ipynb\" target=\"_parent\"><img src=\"https://colab.research.google.com/assets/colab-badge.svg\" alt=\"Open In Colab\"/></a>"
      ]
    },
    {
      "cell_type": "markdown",
      "source": [
        "# Cargar la base"
      ],
      "metadata": {
        "id": "3bR6IbjGTqyw"
      }
    },
    {
      "cell_type": "code",
      "source": [
        "from google.colab import drive\n",
        "drive.mount('/content/drive')"
      ],
      "metadata": {
        "colab": {
          "base_uri": "https://localhost:8080/"
        },
        "id": "1d3u68qTTy95",
        "outputId": "f1a16bf4-2253-41ef-b803-e3f2acae4f54"
      },
      "execution_count": 1,
      "outputs": [
        {
          "output_type": "stream",
          "name": "stdout",
          "text": [
            "Mounted at /content/drive\n"
          ]
        }
      ]
    },
    {
      "cell_type": "code",
      "source": [
        "import json\n",
        "from google.colab import drive\n",
        "\n",
        "!mkdir ~/.kaggle\n",
        "!touch ~/.kaggle/kaggle.json\n",
        "\n",
        "drive.mount('/content/drive', force_remount=True)\n",
        "with open(\"/content/drive/My Drive/kaggle.json\", 'r') as f:\n",
        "    api_token= json.load(f)\n",
        "\n",
        "with open('/root/.kaggle/kaggle.json', 'w') as file:\n",
        "    json.dump(api_token, file)\n",
        "\n",
        "!chmod 600 ~/.kaggle/kaggle.json\n",
        "\n",
        "!kaggle datasets download -d leonardocaravaggio/scraps-pdfs -f base_formateada_senado_snowball.csv\n",
        "!kaggle datasets download -d leonardocaravaggio/scraps-pdfs -f partidos.csv"
      ],
      "metadata": {
        "id": "j7BXA1hjIEKy",
        "outputId": "95b9fc7f-caf1-4761-cc35-89448a0ac30e",
        "colab": {
          "base_uri": "https://localhost:8080/"
        }
      },
      "execution_count": 14,
      "outputs": [
        {
          "output_type": "stream",
          "name": "stdout",
          "text": [
            "mkdir: cannot create directory ‘/root/.kaggle’: File exists\n",
            "Mounted at /content/drive\n",
            "base_formateada_senado_snowball.csv.zip: Skipping, found more recently modified local copy (use --force to force download)\n",
            "Downloading partidos.csv to /content\n",
            "  0% 0.00/2.55k [00:00<?, ?B/s]\n",
            "100% 2.55k/2.55k [00:00<00:00, 6.37MB/s]\n"
          ]
        }
      ]
    },
    {
      "cell_type": "code",
      "source": [
        "import zipfile\n",
        "import os\n",
        "\n",
        "os.listdir()\n",
        "\n",
        "for file in os.listdir():\n",
        "    if file.endswith('.zip'):\n",
        "      zip_ref = zipfile.ZipFile(file, 'r')\n",
        "      zip_ref.extractall()\n",
        "      zip_ref.close()"
      ],
      "metadata": {
        "id": "LS0PPxD2JT1V"
      },
      "execution_count": 4,
      "outputs": []
    },
    {
      "cell_type": "code",
      "source": [
        "import pandas as pd\n",
        "base=pd.read_csv('/content/base_formateada_senado_snowball.csv')"
      ],
      "metadata": {
        "id": "a4Y2nh_NT6vv",
        "colab": {
          "base_uri": "https://localhost:8080/"
        },
        "outputId": "770062b7-ea79-4858-87e2-6d3294e8541e"
      },
      "execution_count": 8,
      "outputs": [
        {
          "output_type": "stream",
          "name": "stderr",
          "text": [
            "<ipython-input-8-ae912bff9a98>:2: DtypeWarning: Columns (7) have mixed types. Specify dtype option on import or set low_memory=False.\n",
            "  base=pd.read_csv('/content/base_formateada_senado_snowball.csv')\n"
          ]
        }
      ]
    },
    {
      "cell_type": "code",
      "source": [
        "import nltk\n",
        "nltk.download('stopwords')\n",
        "from nltk.corpus import stopwords\n",
        "stopwords=stopwords.words('spanish')"
      ],
      "metadata": {
        "colab": {
          "base_uri": "https://localhost:8080/"
        },
        "id": "vG2Zxxq3UvyZ",
        "outputId": "9b5fff1c-4899-4bbd-ce0d-3c1c5db378d8"
      },
      "execution_count": 9,
      "outputs": [
        {
          "output_type": "stream",
          "name": "stderr",
          "text": [
            "[nltk_data] Downloading package stopwords to /root/nltk_data...\n",
            "[nltk_data]   Unzipping corpora/stopwords.zip.\n"
          ]
        }
      ]
    },
    {
      "cell_type": "code",
      "source": [
        "base.head(2)"
      ],
      "metadata": {
        "id": "uLjYVZf1KGmw",
        "outputId": "a6a489c0-811e-4f06-90de-633b54643b14",
        "colab": {
          "base_uri": "https://localhost:8080/",
          "height": 288
        }
      },
      "execution_count": 10,
      "outputs": [
        {
          "output_type": "execute_result",
          "data": {
            "text/plain": [
              "   Unnamed: 0.1  Unnamed: 0  \\\n",
              "0             0           0   \n",
              "1             1           1   \n",
              "\n",
              "                                        Nombre/Cargo  \\\n",
              "0  El señor PRESIDENTE DE LA JUNTA PREPARATORIA (...   \n",
              "1  EL señor PRESIDENTE DE LA JUNTA PREPARATORIA (...   \n",
              "\n",
              "                                            Discurso  \\\n",
              "0                                 Se abre la sesión.   \n",
              "1  En cumplimiento de lo establecido en el aparta...   \n",
              "\n",
              "                                    Cargo           Nombre  \\\n",
              "0     PRESIDENTE DE LA JUNTA PREPARATORIA  Alcalde Sánchez   \n",
              "1  EL PRESIDENTE DE LA JUNTA PREPARATORIA  Alcalde Sánchez   \n",
              "\n",
              "                                                Link Legislatura  \\\n",
              "0  https://www.senado.es/legis10/publicaciones/pd...          10   \n",
              "1  https://www.senado.es/legis10/publicaciones/pd...          10   \n",
              "\n",
              "                                                tipo                    fecha  \\\n",
              "0  JUNTA PREPARATORIA Y SESIÓN CONSTITUTIVACORTES...  13 de diciembre de 2011   \n",
              "1  JUNTA PREPARATORIA Y SESIÓN CONSTITUTIVACORTES...  13 de diciembre de 2011   \n",
              "\n",
              "  fecha_formato   nombre        apellidos procedLiteral  \\\n",
              "0    2011-12-13  GUSTAVO  ALCALDE SÁNCHEZ     Designado   \n",
              "1    2011-12-13  GUSTAVO  ALCALDE SÁNCHEZ     Designado   \n",
              "\n",
              "                   procedLugar grupoNombre  \\\n",
              "0  Designado: Cortes de Aragón         GPP   \n",
              "1  Designado: Cortes de Aragón         GPP   \n",
              "\n",
              "                                              tokens  \n",
              "0                                           ['abre']  \n",
              "1  ['cumplimient', 'establec', 'apart', '2', 'art...  "
            ],
            "text/html": [
              "\n",
              "  <div id=\"df-956a329d-652b-4238-b98c-1e036bd0f4d3\" class=\"colab-df-container\">\n",
              "    <div>\n",
              "<style scoped>\n",
              "    .dataframe tbody tr th:only-of-type {\n",
              "        vertical-align: middle;\n",
              "    }\n",
              "\n",
              "    .dataframe tbody tr th {\n",
              "        vertical-align: top;\n",
              "    }\n",
              "\n",
              "    .dataframe thead th {\n",
              "        text-align: right;\n",
              "    }\n",
              "</style>\n",
              "<table border=\"1\" class=\"dataframe\">\n",
              "  <thead>\n",
              "    <tr style=\"text-align: right;\">\n",
              "      <th></th>\n",
              "      <th>Unnamed: 0.1</th>\n",
              "      <th>Unnamed: 0</th>\n",
              "      <th>Nombre/Cargo</th>\n",
              "      <th>Discurso</th>\n",
              "      <th>Cargo</th>\n",
              "      <th>Nombre</th>\n",
              "      <th>Link</th>\n",
              "      <th>Legislatura</th>\n",
              "      <th>tipo</th>\n",
              "      <th>fecha</th>\n",
              "      <th>fecha_formato</th>\n",
              "      <th>nombre</th>\n",
              "      <th>apellidos</th>\n",
              "      <th>procedLiteral</th>\n",
              "      <th>procedLugar</th>\n",
              "      <th>grupoNombre</th>\n",
              "      <th>tokens</th>\n",
              "    </tr>\n",
              "  </thead>\n",
              "  <tbody>\n",
              "    <tr>\n",
              "      <th>0</th>\n",
              "      <td>0</td>\n",
              "      <td>0</td>\n",
              "      <td>El señor PRESIDENTE DE LA JUNTA PREPARATORIA (...</td>\n",
              "      <td>Se abre la sesión.</td>\n",
              "      <td>PRESIDENTE DE LA JUNTA PREPARATORIA</td>\n",
              "      <td>Alcalde Sánchez</td>\n",
              "      <td>https://www.senado.es/legis10/publicaciones/pd...</td>\n",
              "      <td>10</td>\n",
              "      <td>JUNTA PREPARATORIA Y SESIÓN CONSTITUTIVACORTES...</td>\n",
              "      <td>13 de diciembre de 2011</td>\n",
              "      <td>2011-12-13</td>\n",
              "      <td>GUSTAVO</td>\n",
              "      <td>ALCALDE SÁNCHEZ</td>\n",
              "      <td>Designado</td>\n",
              "      <td>Designado: Cortes de Aragón</td>\n",
              "      <td>GPP</td>\n",
              "      <td>['abre']</td>\n",
              "    </tr>\n",
              "    <tr>\n",
              "      <th>1</th>\n",
              "      <td>1</td>\n",
              "      <td>1</td>\n",
              "      <td>EL señor PRESIDENTE DE LA JUNTA PREPARATORIA (...</td>\n",
              "      <td>En cumplimiento de lo establecido en el aparta...</td>\n",
              "      <td>EL PRESIDENTE DE LA JUNTA PREPARATORIA</td>\n",
              "      <td>Alcalde Sánchez</td>\n",
              "      <td>https://www.senado.es/legis10/publicaciones/pd...</td>\n",
              "      <td>10</td>\n",
              "      <td>JUNTA PREPARATORIA Y SESIÓN CONSTITUTIVACORTES...</td>\n",
              "      <td>13 de diciembre de 2011</td>\n",
              "      <td>2011-12-13</td>\n",
              "      <td>GUSTAVO</td>\n",
              "      <td>ALCALDE SÁNCHEZ</td>\n",
              "      <td>Designado</td>\n",
              "      <td>Designado: Cortes de Aragón</td>\n",
              "      <td>GPP</td>\n",
              "      <td>['cumplimient', 'establec', 'apart', '2', 'art...</td>\n",
              "    </tr>\n",
              "  </tbody>\n",
              "</table>\n",
              "</div>\n",
              "    <div class=\"colab-df-buttons\">\n",
              "\n",
              "  <div class=\"colab-df-container\">\n",
              "    <button class=\"colab-df-convert\" onclick=\"convertToInteractive('df-956a329d-652b-4238-b98c-1e036bd0f4d3')\"\n",
              "            title=\"Convert this dataframe to an interactive table.\"\n",
              "            style=\"display:none;\">\n",
              "\n",
              "  <svg xmlns=\"http://www.w3.org/2000/svg\" height=\"24px\" viewBox=\"0 -960 960 960\">\n",
              "    <path d=\"M120-120v-720h720v720H120Zm60-500h600v-160H180v160Zm220 220h160v-160H400v160Zm0 220h160v-160H400v160ZM180-400h160v-160H180v160Zm440 0h160v-160H620v160ZM180-180h160v-160H180v160Zm440 0h160v-160H620v160Z\"/>\n",
              "  </svg>\n",
              "    </button>\n",
              "\n",
              "  <style>\n",
              "    .colab-df-container {\n",
              "      display:flex;\n",
              "      gap: 12px;\n",
              "    }\n",
              "\n",
              "    .colab-df-convert {\n",
              "      background-color: #E8F0FE;\n",
              "      border: none;\n",
              "      border-radius: 50%;\n",
              "      cursor: pointer;\n",
              "      display: none;\n",
              "      fill: #1967D2;\n",
              "      height: 32px;\n",
              "      padding: 0 0 0 0;\n",
              "      width: 32px;\n",
              "    }\n",
              "\n",
              "    .colab-df-convert:hover {\n",
              "      background-color: #E2EBFA;\n",
              "      box-shadow: 0px 1px 2px rgba(60, 64, 67, 0.3), 0px 1px 3px 1px rgba(60, 64, 67, 0.15);\n",
              "      fill: #174EA6;\n",
              "    }\n",
              "\n",
              "    .colab-df-buttons div {\n",
              "      margin-bottom: 4px;\n",
              "    }\n",
              "\n",
              "    [theme=dark] .colab-df-convert {\n",
              "      background-color: #3B4455;\n",
              "      fill: #D2E3FC;\n",
              "    }\n",
              "\n",
              "    [theme=dark] .colab-df-convert:hover {\n",
              "      background-color: #434B5C;\n",
              "      box-shadow: 0px 1px 3px 1px rgba(0, 0, 0, 0.15);\n",
              "      filter: drop-shadow(0px 1px 2px rgba(0, 0, 0, 0.3));\n",
              "      fill: #FFFFFF;\n",
              "    }\n",
              "  </style>\n",
              "\n",
              "    <script>\n",
              "      const buttonEl =\n",
              "        document.querySelector('#df-956a329d-652b-4238-b98c-1e036bd0f4d3 button.colab-df-convert');\n",
              "      buttonEl.style.display =\n",
              "        google.colab.kernel.accessAllowed ? 'block' : 'none';\n",
              "\n",
              "      async function convertToInteractive(key) {\n",
              "        const element = document.querySelector('#df-956a329d-652b-4238-b98c-1e036bd0f4d3');\n",
              "        const dataTable =\n",
              "          await google.colab.kernel.invokeFunction('convertToInteractive',\n",
              "                                                    [key], {});\n",
              "        if (!dataTable) return;\n",
              "\n",
              "        const docLinkHtml = 'Like what you see? Visit the ' +\n",
              "          '<a target=\"_blank\" href=https://colab.research.google.com/notebooks/data_table.ipynb>data table notebook</a>'\n",
              "          + ' to learn more about interactive tables.';\n",
              "        element.innerHTML = '';\n",
              "        dataTable['output_type'] = 'display_data';\n",
              "        await google.colab.output.renderOutput(dataTable, element);\n",
              "        const docLink = document.createElement('div');\n",
              "        docLink.innerHTML = docLinkHtml;\n",
              "        element.appendChild(docLink);\n",
              "      }\n",
              "    </script>\n",
              "  </div>\n",
              "\n",
              "\n",
              "<div id=\"df-e763a41b-a521-42f5-8535-a42ec97b462b\">\n",
              "  <button class=\"colab-df-quickchart\" onclick=\"quickchart('df-e763a41b-a521-42f5-8535-a42ec97b462b')\"\n",
              "            title=\"Suggest charts.\"\n",
              "            style=\"display:none;\">\n",
              "\n",
              "<svg xmlns=\"http://www.w3.org/2000/svg\" height=\"24px\"viewBox=\"0 0 24 24\"\n",
              "     width=\"24px\">\n",
              "    <g>\n",
              "        <path d=\"M19 3H5c-1.1 0-2 .9-2 2v14c0 1.1.9 2 2 2h14c1.1 0 2-.9 2-2V5c0-1.1-.9-2-2-2zM9 17H7v-7h2v7zm4 0h-2V7h2v10zm4 0h-2v-4h2v4z\"/>\n",
              "    </g>\n",
              "</svg>\n",
              "  </button>\n",
              "\n",
              "<style>\n",
              "  .colab-df-quickchart {\n",
              "      --bg-color: #E8F0FE;\n",
              "      --fill-color: #1967D2;\n",
              "      --hover-bg-color: #E2EBFA;\n",
              "      --hover-fill-color: #174EA6;\n",
              "      --disabled-fill-color: #AAA;\n",
              "      --disabled-bg-color: #DDD;\n",
              "  }\n",
              "\n",
              "  [theme=dark] .colab-df-quickchart {\n",
              "      --bg-color: #3B4455;\n",
              "      --fill-color: #D2E3FC;\n",
              "      --hover-bg-color: #434B5C;\n",
              "      --hover-fill-color: #FFFFFF;\n",
              "      --disabled-bg-color: #3B4455;\n",
              "      --disabled-fill-color: #666;\n",
              "  }\n",
              "\n",
              "  .colab-df-quickchart {\n",
              "    background-color: var(--bg-color);\n",
              "    border: none;\n",
              "    border-radius: 50%;\n",
              "    cursor: pointer;\n",
              "    display: none;\n",
              "    fill: var(--fill-color);\n",
              "    height: 32px;\n",
              "    padding: 0;\n",
              "    width: 32px;\n",
              "  }\n",
              "\n",
              "  .colab-df-quickchart:hover {\n",
              "    background-color: var(--hover-bg-color);\n",
              "    box-shadow: 0 1px 2px rgba(60, 64, 67, 0.3), 0 1px 3px 1px rgba(60, 64, 67, 0.15);\n",
              "    fill: var(--button-hover-fill-color);\n",
              "  }\n",
              "\n",
              "  .colab-df-quickchart-complete:disabled,\n",
              "  .colab-df-quickchart-complete:disabled:hover {\n",
              "    background-color: var(--disabled-bg-color);\n",
              "    fill: var(--disabled-fill-color);\n",
              "    box-shadow: none;\n",
              "  }\n",
              "\n",
              "  .colab-df-spinner {\n",
              "    border: 2px solid var(--fill-color);\n",
              "    border-color: transparent;\n",
              "    border-bottom-color: var(--fill-color);\n",
              "    animation:\n",
              "      spin 1s steps(1) infinite;\n",
              "  }\n",
              "\n",
              "  @keyframes spin {\n",
              "    0% {\n",
              "      border-color: transparent;\n",
              "      border-bottom-color: var(--fill-color);\n",
              "      border-left-color: var(--fill-color);\n",
              "    }\n",
              "    20% {\n",
              "      border-color: transparent;\n",
              "      border-left-color: var(--fill-color);\n",
              "      border-top-color: var(--fill-color);\n",
              "    }\n",
              "    30% {\n",
              "      border-color: transparent;\n",
              "      border-left-color: var(--fill-color);\n",
              "      border-top-color: var(--fill-color);\n",
              "      border-right-color: var(--fill-color);\n",
              "    }\n",
              "    40% {\n",
              "      border-color: transparent;\n",
              "      border-right-color: var(--fill-color);\n",
              "      border-top-color: var(--fill-color);\n",
              "    }\n",
              "    60% {\n",
              "      border-color: transparent;\n",
              "      border-right-color: var(--fill-color);\n",
              "    }\n",
              "    80% {\n",
              "      border-color: transparent;\n",
              "      border-right-color: var(--fill-color);\n",
              "      border-bottom-color: var(--fill-color);\n",
              "    }\n",
              "    90% {\n",
              "      border-color: transparent;\n",
              "      border-bottom-color: var(--fill-color);\n",
              "    }\n",
              "  }\n",
              "</style>\n",
              "\n",
              "  <script>\n",
              "    async function quickchart(key) {\n",
              "      const quickchartButtonEl =\n",
              "        document.querySelector('#' + key + ' button');\n",
              "      quickchartButtonEl.disabled = true;  // To prevent multiple clicks.\n",
              "      quickchartButtonEl.classList.add('colab-df-spinner');\n",
              "      try {\n",
              "        const charts = await google.colab.kernel.invokeFunction(\n",
              "            'suggestCharts', [key], {});\n",
              "      } catch (error) {\n",
              "        console.error('Error during call to suggestCharts:', error);\n",
              "      }\n",
              "      quickchartButtonEl.classList.remove('colab-df-spinner');\n",
              "      quickchartButtonEl.classList.add('colab-df-quickchart-complete');\n",
              "    }\n",
              "    (() => {\n",
              "      let quickchartButtonEl =\n",
              "        document.querySelector('#df-e763a41b-a521-42f5-8535-a42ec97b462b button');\n",
              "      quickchartButtonEl.style.display =\n",
              "        google.colab.kernel.accessAllowed ? 'block' : 'none';\n",
              "    })();\n",
              "  </script>\n",
              "</div>\n",
              "    </div>\n",
              "  </div>\n"
            ]
          },
          "metadata": {},
          "execution_count": 10
        }
      ]
    },
    {
      "cell_type": "code",
      "source": [
        "# Se incorporan las stopwords sugeridas por Federico\n",
        "stopwords.extend(['señor', 'señora', 'mucha', 'gracia', 'año', 'pasado', 'cada', 'vez', 'uno', 'dos', 'tres', 'cuatro', 'cinco', 'seis' ,'siete', 'ocho', 'nueve', 'diez'])\n",
        "stopwords.extend(['hoy', 'aquí', 'primer', 'lugar', 'primera', 'segunda', 'primero', 'segundo', 'siguiente', 'tercer'])\n",
        "stopwords.extend(['convergencia', 'esquerra', 'republicana', 'grupo', 'parlamentaria', 'parlamentario', 'partido'])\n",
        "stopwords.extend(['enmienda', 'votación', 'favor', 'abstención', 'ley', 'real', 'decreto', 'decretoley', 'resultado', 'voto', 'sé' ,'sí', 'silencio' ,'favor'])\n",
        "stopwords.extend(['usted', 'señoría', 'presidente', 'presidenta', 'ministro', 'orden' , 'día', 'palabra', 'petición', 'posición', 'punto', 'vista', 'sesión', 'baldoví', 'duran', 'turno'])\n",
        "stopwords.extend(['hacer', 'frente', 'puede' ,'ser', 'va', 'voy', 'decir'])\n",
        "stopwords.extend(['millón', 'euro', 'emitido', 'efectuada', 'dio', 'comienzo', 'partido', 'queda', 'quedan', 'rechazada', 'aceptada', 'comienza', 'usted', 'sabe', 'abstención', 'diputado', 'gobierno'])\n",
        "stopwords.extend(['continuación', 'votamos', 'telemático', 'republicanaizquierda', 'unidainiciativa', 'puede', 'bien', 'propuesta' ,'abstencion', 'mayoría', 'absoluta', 'pregunta', 'don', 'vamos', 'votar', 'llevar', 'cabo', 'millón', 'muchas', 'gracias'])\n",
        "stopwords.extend(['podemosen', 'podemen', 'ministro', 'ministra', 'ss', 'ruego', 'aprobado', 'aprobada'])\n",
        "stopwords.extend(['diputado', 'diputada', 'don', 'doña', 'vicepresidenta', 'sagastizab', 'unzetabarrenetxea', 'agirretxea', 'urresti', 'escrutinio', 'dijo', 'dice', 'quevedo'])\n",
        "stopwords.extend(['campuzano', 'beitialarrangoitia', 'gonzalezmoro', 'mixto'])"
      ],
      "metadata": {
        "id": "D34MOjAhUx_a"
      },
      "execution_count": 11,
      "outputs": []
    },
    {
      "cell_type": "code",
      "source": [
        "# Se incorporan los nombres de los oradores como stopwords\n",
        "from collections import Counter\n",
        "nombres=[]\n",
        "for i in base.Nombre.unique().tolist(): nombres.extend(str(i).split(' '))\n",
        "nombres = [x.strip(' ') for x in nombres]\n",
        "nombres = [x.strip(' †') for x in nombres]\n",
        "nombres = [x.strip(',') for x in nombres]\n",
        "nombres=list(Counter(nombres))"
      ],
      "metadata": {
        "id": "yRV1LnZ51Z8_"
      },
      "execution_count": 12,
      "outputs": []
    },
    {
      "cell_type": "code",
      "source": [
        "stopwords.extend(nombres)"
      ],
      "metadata": {
        "id": "h_aUXBkoJTLY"
      },
      "execution_count": 13,
      "outputs": []
    },
    {
      "cell_type": "code",
      "source": [
        "partidos=pd.read_csv('/content/partidos.csv', encoding='latin1', sep=';')"
      ],
      "metadata": {
        "id": "gVO9-cRc2C2h"
      },
      "execution_count": 15,
      "outputs": []
    },
    {
      "cell_type": "code",
      "source": [
        "for x in partidos['nombre'].unique():\n",
        "  a=str(x).rstrip(' ')\n",
        "  stopwords.extend(str(a).split())\n",
        "  stopwords.extend(a)\n",
        "\n",
        "for x in partidos['1'].unique():\n",
        "  a=str(x).rstrip(' ')\n",
        "  stopwords.extend(a.split())\n",
        "  stopwords.extend(a)\n",
        "\n",
        "for x in partidos['2'].unique():\n",
        "  a=str(x).rstrip(' ')\n",
        "  stopwords.extend(a.split())\n",
        "  stopwords.extend(a)\n",
        "\n",
        "for x in partidos['3'].unique():\n",
        "  a=str(x).rstrip(' ')\n",
        "  stopwords.extend(a.split())\n",
        "  stopwords.extend(a)"
      ],
      "metadata": {
        "id": "JRe_Lrv02rRQ"
      },
      "execution_count": 16,
      "outputs": []
    },
    {
      "cell_type": "code",
      "source": [
        "len(stopwords)"
      ],
      "metadata": {
        "id": "PcvgCNO-OI4Z",
        "outputId": "db4090f7-f502-488a-f481-6efa37e5a0a8",
        "colab": {
          "base_uri": "https://localhost:8080/"
        }
      },
      "execution_count": 17,
      "outputs": [
        {
          "output_type": "execute_result",
          "data": {
            "text/plain": [
              "2829"
            ]
          },
          "metadata": {},
          "execution_count": 17
        }
      ]
    },
    {
      "cell_type": "code",
      "source": [
        "base.columns"
      ],
      "metadata": {
        "id": "G4dq7EoaMKI1",
        "outputId": "0602498f-0b8a-4e9e-eef6-ab7495c600fe",
        "colab": {
          "base_uri": "https://localhost:8080/"
        }
      },
      "execution_count": 18,
      "outputs": [
        {
          "output_type": "execute_result",
          "data": {
            "text/plain": [
              "Index(['Unnamed: 0.1', 'Unnamed: 0', 'Nombre/Cargo', 'Discurso', 'Cargo',\n",
              "       'Nombre', 'Link', 'Legislatura', 'tipo', 'fecha', 'fecha_formato',\n",
              "       'nombre', 'apellidos', 'procedLiteral', 'procedLugar', 'grupoNombre',\n",
              "       'tokens'],\n",
              "      dtype='object')"
            ]
          },
          "metadata": {},
          "execution_count": 18
        }
      ]
    },
    {
      "cell_type": "code",
      "source": [
        "# elimino acentos de los tokens\n",
        "a,b = 'áàéèíóúü','aaeeiouu'\n",
        "trans = str.maketrans(a,b)\n",
        "lista = []\n",
        "for row in base.tokens:\n",
        "    row=row.translate(trans)\n",
        "    lista.append(row)\n",
        "\n",
        "base['tokens']=lista"
      ],
      "metadata": {
        "id": "6oEIOU9opvUN"
      },
      "execution_count": 19,
      "outputs": []
    },
    {
      "cell_type": "code",
      "source": [
        "# llevo las stopwords a minúsculas y elimino acentos\n",
        "stopwords=[x.lower() for x in stopwords if type(x)==str]\n",
        "stopwords=[x.translate(trans) for x in stopwords if type(x)==str]"
      ],
      "metadata": {
        "id": "wMKKiWt5oZnO"
      },
      "execution_count": 20,
      "outputs": []
    },
    {
      "cell_type": "markdown",
      "source": [
        "# Mencionadas en al menos 10 discursos\n",
        "(spoken in at least 10 unique speaker-session)"
      ],
      "metadata": {
        "id": "niQ8Yz2kYfL8"
      }
    },
    {
      "cell_type": "code",
      "source": [
        "base['tokens']"
      ],
      "metadata": {
        "colab": {
          "base_uri": "https://localhost:8080/"
        },
        "id": "3qwZq3E37WxF",
        "outputId": "508cc01e-d74e-4044-a52f-301ef9f4e6cf"
      },
      "execution_count": 21,
      "outputs": [
        {
          "output_type": "execute_result",
          "data": {
            "text/plain": [
              "0                                                  ['abre']\n",
              "1         ['cumplimient', 'establec', 'apart', '2', 'art...\n",
              "2         ['letr', 'mayor', 'formacion', 'mes', 'edad', ...\n",
              "3         ['acuerd', 'articul', '3', 'reglament', 'sen',...\n",
              "4         ['señor', 'proced', 'constitu', 'sen', 'acuerd...\n",
              "                                ...                        \n",
              "156501    ['bo', 'dia', 'tod', 'senador', 'nacional', 'm...\n",
              "156502    ['molt', 'bon', 'dia', 'bon', 'dia', 'senyor',...\n",
              "156503    ['buen', 'dias', 'señoriassin', 'dud', 'encont...\n",
              "156504    ['v', 'oy', 'termin', 'potenci', 'merc', 'post...\n",
              "156505    ['señor', 'interveng', 'nombr', 'popul', 'fij'...\n",
              "Name: tokens, Length: 156506, dtype: object"
            ]
          },
          "metadata": {},
          "execution_count": 21
        }
      ]
    },
    {
      "cell_type": "code",
      "source": [
        "from sklearn.feature_extraction.text import CountVectorizer\n",
        "\n",
        "vect = CountVectorizer(ngram_range=(2,2), stop_words=stopwords , min_df=10)\n",
        "bow = vect.fit_transform(base['tokens'])"
      ],
      "metadata": {
        "id": "wIkH9CBhZE6m",
        "outputId": "5686a07f-5217-4e49-c213-b114ddaec4b4",
        "colab": {
          "base_uri": "https://localhost:8080/"
        }
      },
      "execution_count": 22,
      "outputs": [
        {
          "output_type": "stream",
          "name": "stderr",
          "text": [
            "/usr/local/lib/python3.10/dist-packages/sklearn/feature_extraction/text.py:409: UserWarning: Your stop_words may be inconsistent with your preprocessing. Tokenizing the stop words generated tokens ['000001', '000018', '000260', '000261', '000284', '000285', '000289', '000293', '000294', '000296', '000297', '000298', '000301', '000302', '000303', '000305', '000306', '000307', '000308', '000311', '000314', '500', '542', '5oo', 'alvarez', 'azul', 'bo', 'cascos', 'compromis', 'congr', 'escudero', 'expediente504', 'gallardon', 'generales', 'hernandez', 'jeltzalea', 'letin', 'llorca', 'muñoz', 'na', 'oliva', 'ooo279', 'protestas', 'puirsir', 'soro'] not in stop_words.\n",
            "  warnings.warn(\n"
          ]
        }
      ]
    },
    {
      "cell_type": "code",
      "source": [
        "total_features = len(vect.vocabulary_)"
      ],
      "metadata": {
        "id": "mckvFlWih2bu"
      },
      "execution_count": 23,
      "outputs": []
    },
    {
      "cell_type": "markdown",
      "source": [
        "# Mencionadas al menos 100 veces en total\n",
        "(spoken at least 100 times across al sessions)"
      ],
      "metadata": {
        "id": "7hQBT61Eh3Lw"
      }
    },
    {
      "cell_type": "code",
      "source": [
        "new_voc={}\n",
        "for token in vect.vocabulary_:\n",
        "  if vect.vocabulary_[token]>100:\n",
        "    new_voc[token]=vect.vocabulary_[token]"
      ],
      "metadata": {
        "id": "GVsuZbfyd8OJ"
      },
      "execution_count": 24,
      "outputs": []
    },
    {
      "cell_type": "code",
      "source": [
        "len(new_voc)"
      ],
      "metadata": {
        "id": "r2-2-d6_hr-_",
        "outputId": "c781f9b3-b211-43c7-8bec-9039b370aadb",
        "colab": {
          "base_uri": "https://localhost:8080/"
        }
      },
      "execution_count": 25,
      "outputs": [
        {
          "output_type": "execute_result",
          "data": {
            "text/plain": [
              "244179"
            ]
          },
          "metadata": {},
          "execution_count": 25
        }
      ]
    },
    {
      "cell_type": "markdown",
      "source": [
        "# Mencionadas al menos 10 veces en un día\n",
        "(spoken at least 10 times in at least one session)"
      ],
      "metadata": {
        "id": "q5idatwOQz8B"
      }
    },
    {
      "cell_type": "code",
      "source": [
        "# Gentzkow et.al. usan mencionadas al menos 10 veces en una \"sesión\". Acá se usa mencionadas al menos 10 veces en un \"día\".\n",
        "\n",
        "new_voc2={}\n",
        "vect = CountVectorizer(ngram_range=(2,2), stop_words=stopwords)\n",
        "for x in base.fecha_formato.unique():\n",
        "  base_dia=base[pd.DatetimeIndex(base.fecha_formato)==x]\n",
        "  try:\n",
        "    bow = vect.fit_transform(base_dia['tokens'])\n",
        "    for token in vect.vocabulary_:\n",
        "      if vect.vocabulary_[token]>10:\n",
        "        new_voc2[token]=vect.vocabulary_[token]\n",
        "  except: pass"
      ],
      "metadata": {
        "id": "t99_S7tOQ1QB"
      },
      "execution_count": 26,
      "outputs": []
    },
    {
      "cell_type": "code",
      "source": [
        "len(new_voc2)"
      ],
      "metadata": {
        "id": "ag7htFVFmJl4",
        "outputId": "aad74680-7558-4e10-c7fa-0ac4bb01831a",
        "colab": {
          "base_uri": "https://localhost:8080/"
        }
      },
      "execution_count": 27,
      "outputs": [
        {
          "output_type": "execute_result",
          "data": {
            "text/plain": [
              "5595823"
            ]
          },
          "metadata": {},
          "execution_count": 27
        }
      ]
    },
    {
      "cell_type": "markdown",
      "source": [
        "# Combinación"
      ],
      "metadata": {
        "id": "lT1yqy_YZv_r"
      }
    },
    {
      "cell_type": "code",
      "source": [
        "inter=set(new_voc2).intersection(new_voc)"
      ],
      "metadata": {
        "id": "EOKJYrc1b538"
      },
      "execution_count": 28,
      "outputs": []
    },
    {
      "cell_type": "code",
      "source": [
        "vect = CountVectorizer(ngram_range=(2,2), stop_words=stopwords ,vocabulary=inter)\n",
        "bow = vect.fit_transform(base['tokens'])\n",
        "total_features = len(vect.vocabulary_)"
      ],
      "metadata": {
        "id": "pWPzVsZqZyuZ"
      },
      "execution_count": 29,
      "outputs": []
    },
    {
      "cell_type": "code",
      "source": [
        "# La intersección genera un vocabulario de apenas 270230 bigramas.\n",
        "total_features"
      ],
      "metadata": {
        "id": "2Xdq8tNmah0y",
        "outputId": "00125952-4c18-4bef-bf6f-e9b101549fd0",
        "colab": {
          "base_uri": "https://localhost:8080/"
        }
      },
      "execution_count": 30,
      "outputs": [
        {
          "output_type": "execute_result",
          "data": {
            "text/plain": [
              "244167"
            ]
          },
          "metadata": {},
          "execution_count": 30
        }
      ]
    },
    {
      "cell_type": "code",
      "source": [
        "matrix = bow"
      ],
      "metadata": {
        "id": "x63AW_utluu4"
      },
      "execution_count": 31,
      "outputs": []
    },
    {
      "cell_type": "code",
      "source": [
        "import pickle\n",
        "\n",
        "with open('vocabulary_senado_snowball.voc','wb') as f:\n",
        "   pickle.dump(inter, f)"
      ],
      "metadata": {
        "id": "Vph3tVGucphO"
      },
      "execution_count": 33,
      "outputs": []
    }
  ]
}