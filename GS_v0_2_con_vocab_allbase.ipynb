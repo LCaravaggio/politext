{
  "nbformat": 4,
  "nbformat_minor": 0,
  "metadata": {
    "colab": {
      "provenance": [],
      "authorship_tag": "ABX9TyOeRCamAu9PC9qEr2dZCIz5",
      "include_colab_link": true
    },
    "kernelspec": {
      "name": "python3",
      "display_name": "Python 3"
    },
    "language_info": {
      "name": "python"
    }
  },
  "cells": [
    {
      "cell_type": "markdown",
      "metadata": {
        "id": "view-in-github",
        "colab_type": "text"
      },
      "source": [
        "<a href=\"https://colab.research.google.com/github/LCaravaggio/politext/blob/main/GS_v0_2_con_vocab_allbase.ipynb\" target=\"_parent\"><img src=\"https://colab.research.google.com/assets/colab-badge.svg\" alt=\"Open In Colab\"/></a>"
      ]
    },
    {
      "cell_type": "markdown",
      "source": [
        "# Carga datos"
      ],
      "metadata": {
        "id": "KU6Q7p7hSHuR"
      }
    },
    {
      "cell_type": "code",
      "execution_count": 1,
      "metadata": {
        "colab": {
          "base_uri": "https://localhost:8080/"
        },
        "id": "2wMpUVogkYoT",
        "outputId": "1ea113dd-f01f-4541-dd9c-def6a461c315"
      },
      "outputs": [
        {
          "output_type": "stream",
          "name": "stdout",
          "text": [
            "Mounted at /content/drive\n"
          ]
        }
      ],
      "source": [
        "from google.colab import drive\n",
        "drive.mount('/content/drive')"
      ]
    },
    {
      "cell_type": "code",
      "source": [
        "import pandas as pd\n",
        "base=pd.read_csv('/content/drive/MyDrive/par_esp_interventions_l1_l13.csv')"
      ],
      "metadata": {
        "colab": {
          "base_uri": "https://localhost:8080/"
        },
        "id": "p2WuTUfwknZK",
        "outputId": "39e26b5b-e724-4d69-bb91-02be27c30f4e"
      },
      "execution_count": 2,
      "outputs": [
        {
          "output_type": "stream",
          "name": "stderr",
          "text": [
            "<ipython-input-2-f7788a307fca>:2: DtypeWarning: Columns (17) have mixed types. Specify dtype option on import or set low_memory=False.\n",
            "  base=pd.read_csv('/content/drive/MyDrive/par_esp_interventions_l1_l13.csv')\n"
          ]
        }
      ]
    },
    {
      "cell_type": "code",
      "source": [
        "import pickle\n",
        "\n",
        "with open('/content/drive/MyDrive/vocabulary.voc', 'rb') as f:\n",
        "    inter = pickle.load(f)"
      ],
      "metadata": {
        "id": "MODaGiLjkpSF"
      },
      "execution_count": 3,
      "outputs": []
    },
    {
      "cell_type": "code",
      "source": [
        "base=base.rename(columns={\"party\": \"partido\"})"
      ],
      "metadata": {
        "id": "AH5JNoZbGCzx"
      },
      "execution_count": 4,
      "outputs": []
    },
    {
      "cell_type": "code",
      "source": [
        "import nltk\n",
        "\n",
        "nltk.download('punkt')\n",
        "from nltk.tokenize import word_tokenize\n",
        "import string\n",
        "from nltk.stem.porter import PorterStemmer"
      ],
      "metadata": {
        "colab": {
          "base_uri": "https://localhost:8080/"
        },
        "id": "Qdwf2h4iGrTh",
        "outputId": "ead88360-dda1-4b25-fa8e-79484a3d31dc"
      },
      "execution_count": 5,
      "outputs": [
        {
          "output_type": "stream",
          "name": "stderr",
          "text": [
            "[nltk_data] Downloading package punkt to /root/nltk_data...\n",
            "[nltk_data]   Unzipping tokenizers/punkt.zip.\n"
          ]
        }
      ]
    },
    {
      "cell_type": "code",
      "source": [
        "nltk.download('stopwords')\n",
        "from nltk.corpus import stopwords\n",
        "stopwords=stopwords.words('spanish')\n",
        "\n",
        "# Se incorporan las stopwords sugeridas por Federico\n",
        "stopwords.extend(['señor', 'señora', 'mucha', 'gracia', 'año', 'pasado', 'cada', 'vez', 'uno', 'dos', 'tres', 'cuatro', 'cinco', 'seis' ,'siete', 'ocho', 'nueve', 'diez'])\n",
        "stopwords.extend(['hoy', 'aquí', 'primer', 'lugar', 'primera', 'segunda', 'primero', 'segundo', 'siguiente', 'tercer'])\n",
        "stopwords.extend(['convergencia', 'esquerra', 'republicana', 'grupo', 'parlamentaria', 'parlamentario', 'partido'])\n",
        "stopwords.extend(['enmienda', 'votación', 'favor', 'abstención', 'ley', 'real', 'decreto', 'decretoley', 'resultado', 'voto', 'sé' ,'sí', 'silencio' ,'favor'])\n",
        "stopwords.extend(['usted', 'señoría', 'presidente', 'presidenta', 'ministro', 'orden' , 'día', 'palabra', 'petición', 'posición', 'punto', 'vista', 'sesión', 'baldoví', 'duran', 'turno'])\n",
        "stopwords.extend(['hacer', 'frente', 'puede' ,'ser', 'va', 'voy', 'decir'])\n",
        "stopwords.extend(['millón', 'euro', 'emitido', 'efectuada', 'dio', 'comienzo', 'partido', 'queda', 'quedan', 'rechazada', 'aceptada', 'comienza', 'usted', 'sabe', 'abstención', 'diputado', 'gobierno'])\n",
        "stopwords.extend(['continuación', 'votamos', 'telemático', 'republicanaizquierda', 'unidainiciativa', 'puede', 'bien', 'propuesta' ,'abstencion', 'mayoría', 'absoluta', 'pregunta', 'don', 'vamos', 'votar', 'llevar', 'cabo', 'millón', 'muchas', 'gracias'])\n",
        "     "
      ],
      "metadata": {
        "colab": {
          "base_uri": "https://localhost:8080/"
        },
        "id": "R_VO6fLhHYsq",
        "outputId": "d413d4ba-a21f-41ef-9807-ad43f0ea2fa5"
      },
      "execution_count": 6,
      "outputs": [
        {
          "output_type": "stream",
          "name": "stderr",
          "text": [
            "[nltk_data] Downloading package stopwords to /root/nltk_data...\n",
            "[nltk_data]   Unzipping corpora/stopwords.zip.\n"
          ]
        }
      ]
    },
    {
      "cell_type": "code",
      "source": [
        "# Elimino de la base las intervenciones del Presidente de la cámara\n",
        "base=base[(base['role'] != 'PRESIDENTE, PRESIDENTA') | (base['role'] != 'PRESIDENTE DEL CONGRESO DE LOS DIPUTADOS')]  "
      ],
      "metadata": {
        "id": "Uio6rWDah75W"
      },
      "execution_count": 7,
      "outputs": []
    },
    {
      "cell_type": "code",
      "source": [
        "# Eliminos nans de la base\n",
        "base=base[base['intervention'].notna()]"
      ],
      "metadata": {
        "id": "xjoKG0kFvxdq"
      },
      "execution_count": 8,
      "outputs": []
    },
    {
      "cell_type": "code",
      "source": [
        "# Esta celda tarda unos 30 minutos en correr\n",
        "porter_stemmer = PorterStemmer()\n",
        "\n",
        "lista = []\n",
        "base['tokens']=\"\"\n",
        "for row in base.values:\n",
        "    #elimino puntuación\n",
        "    non_punctuation = row[2].replace('-',' ')\n",
        "    non_punctuation = non_punctuation.translate(str.maketrans('', '', string.punctuation))\n",
        "    word_tokens = word_tokenize(non_punctuation)\n",
        "\n",
        "    #elimino stopwords\n",
        "    tokens=[w for w in word_tokens if not w.lower() in stopwords]\n",
        "\n",
        "    #stemming\n",
        "    stemmers = [porter_stemmer.stem(word) for word in tokens]\n",
        "    row[18] = [stem for stem in stemmers if stem.isalpha() and len(stem) > 1]\n",
        "    lista.append(row)"
      ],
      "metadata": {
        "id": "tDhhKhQOvOUF",
        "outputId": "7abc2dd7-a000-4db7-8867-84b3ec4b6bd8",
        "colab": {
          "base_uri": "https://localhost:8080/"
        }
      },
      "execution_count": 9,
      "outputs": [
        {
          "output_type": "stream",
          "name": "stderr",
          "text": [
            "<ipython-input-9-fb6ca65ec766>:5: SettingWithCopyWarning: \n",
            "A value is trying to be set on a copy of a slice from a DataFrame.\n",
            "Try using .loc[row_indexer,col_indexer] = value instead\n",
            "\n",
            "See the caveats in the documentation: https://pandas.pydata.org/pandas-docs/stable/user_guide/indexing.html#returning-a-view-versus-a-copy\n",
            "  base['tokens']=\"\"\n"
          ]
        }
      ]
    },
    {
      "cell_type": "code",
      "source": [
        "base = pd.DataFrame(lista, columns=base.columns)"
      ],
      "metadata": {
        "id": "FZ6e2JDLhXl9"
      },
      "execution_count": 10,
      "outputs": []
    },
    {
      "cell_type": "code",
      "source": [
        "base['tokens'] = [str(token) for token in base['tokens']]"
      ],
      "metadata": {
        "id": "aErmnSW97i9F"
      },
      "execution_count": 11,
      "outputs": []
    },
    {
      "cell_type": "code",
      "source": [
        "from sklearn.feature_extraction.text import CountVectorizer\n",
        "vect = CountVectorizer(ngram_range=(2,2) ,vocabulary=inter)\n",
        "matrix = vect.fit_transform(base['tokens'])"
      ],
      "metadata": {
        "id": "j4kIpxNJk555"
      },
      "execution_count": 12,
      "outputs": []
    },
    {
      "cell_type": "code",
      "source": [
        "len(vect.vocabulary_)"
      ],
      "metadata": {
        "colab": {
          "base_uri": "https://localhost:8080/"
        },
        "id": "o1yWjac_lrJv",
        "outputId": "0973fb07-a696-4444-b453-60c1da820427"
      },
      "execution_count": 13,
      "outputs": [
        {
          "output_type": "execute_result",
          "data": {
            "text/plain": [
              "270230"
            ]
          },
          "metadata": {},
          "execution_count": 13
        }
      ]
    },
    {
      "cell_type": "code",
      "source": [
        "base.columns"
      ],
      "metadata": {
        "id": "1Qp5EtzYUT0D",
        "outputId": "b69ea742-9a8d-4d1d-9803-b308eed73e9a",
        "colab": {
          "base_uri": "https://localhost:8080/"
        }
      },
      "execution_count": 14,
      "outputs": [
        {
          "output_type": "execute_result",
          "data": {
            "text/plain": [
              "Index(['orden', 'namex', 'intervention', 'fecha', 'legislatura', 'pleno',\n",
              "       'role', 'oradorx', 'namey', 'partido', 'province', 'congreso', 'senado',\n",
              "       'total', 'oradory', 'cataluna', 'estatut', 'inter_raw', 'tokens'],\n",
              "      dtype='object')"
            ]
          },
          "metadata": {},
          "execution_count": 14
        }
      ]
    },
    {
      "cell_type": "code",
      "source": [
        "# Esta celda tarda unos 70 minutos en correr\n",
        "from sklearn.decomposition import LatentDirichletAllocation\n",
        "lda = LatentDirichletAllocation(n_components=30, max_iter=50, learning_method='batch', learning_offset=50.,random_state=0)  \n",
        "lda.fit(matrix)"
      ],
      "metadata": {
        "id": "_WewtbEPkyOS",
        "outputId": "f614bb3b-e0d0-4c86-c37d-23e3fd14386f",
        "colab": {
          "base_uri": "https://localhost:8080/",
          "height": 92
        }
      },
      "execution_count": 15,
      "outputs": [
        {
          "output_type": "execute_result",
          "data": {
            "text/plain": [
              "LatentDirichletAllocation(learning_offset=50.0, max_iter=50, n_components=30,\n",
              "                          random_state=0)"
            ],
            "text/html": [
              "<style>#sk-container-id-1 {color: black;background-color: white;}#sk-container-id-1 pre{padding: 0;}#sk-container-id-1 div.sk-toggleable {background-color: white;}#sk-container-id-1 label.sk-toggleable__label {cursor: pointer;display: block;width: 100%;margin-bottom: 0;padding: 0.3em;box-sizing: border-box;text-align: center;}#sk-container-id-1 label.sk-toggleable__label-arrow:before {content: \"▸\";float: left;margin-right: 0.25em;color: #696969;}#sk-container-id-1 label.sk-toggleable__label-arrow:hover:before {color: black;}#sk-container-id-1 div.sk-estimator:hover label.sk-toggleable__label-arrow:before {color: black;}#sk-container-id-1 div.sk-toggleable__content {max-height: 0;max-width: 0;overflow: hidden;text-align: left;background-color: #f0f8ff;}#sk-container-id-1 div.sk-toggleable__content pre {margin: 0.2em;color: black;border-radius: 0.25em;background-color: #f0f8ff;}#sk-container-id-1 input.sk-toggleable__control:checked~div.sk-toggleable__content {max-height: 200px;max-width: 100%;overflow: auto;}#sk-container-id-1 input.sk-toggleable__control:checked~label.sk-toggleable__label-arrow:before {content: \"▾\";}#sk-container-id-1 div.sk-estimator input.sk-toggleable__control:checked~label.sk-toggleable__label {background-color: #d4ebff;}#sk-container-id-1 div.sk-label input.sk-toggleable__control:checked~label.sk-toggleable__label {background-color: #d4ebff;}#sk-container-id-1 input.sk-hidden--visually {border: 0;clip: rect(1px 1px 1px 1px);clip: rect(1px, 1px, 1px, 1px);height: 1px;margin: -1px;overflow: hidden;padding: 0;position: absolute;width: 1px;}#sk-container-id-1 div.sk-estimator {font-family: monospace;background-color: #f0f8ff;border: 1px dotted black;border-radius: 0.25em;box-sizing: border-box;margin-bottom: 0.5em;}#sk-container-id-1 div.sk-estimator:hover {background-color: #d4ebff;}#sk-container-id-1 div.sk-parallel-item::after {content: \"\";width: 100%;border-bottom: 1px solid gray;flex-grow: 1;}#sk-container-id-1 div.sk-label:hover label.sk-toggleable__label {background-color: #d4ebff;}#sk-container-id-1 div.sk-serial::before {content: \"\";position: absolute;border-left: 1px solid gray;box-sizing: border-box;top: 0;bottom: 0;left: 50%;z-index: 0;}#sk-container-id-1 div.sk-serial {display: flex;flex-direction: column;align-items: center;background-color: white;padding-right: 0.2em;padding-left: 0.2em;position: relative;}#sk-container-id-1 div.sk-item {position: relative;z-index: 1;}#sk-container-id-1 div.sk-parallel {display: flex;align-items: stretch;justify-content: center;background-color: white;position: relative;}#sk-container-id-1 div.sk-item::before, #sk-container-id-1 div.sk-parallel-item::before {content: \"\";position: absolute;border-left: 1px solid gray;box-sizing: border-box;top: 0;bottom: 0;left: 50%;z-index: -1;}#sk-container-id-1 div.sk-parallel-item {display: flex;flex-direction: column;z-index: 1;position: relative;background-color: white;}#sk-container-id-1 div.sk-parallel-item:first-child::after {align-self: flex-end;width: 50%;}#sk-container-id-1 div.sk-parallel-item:last-child::after {align-self: flex-start;width: 50%;}#sk-container-id-1 div.sk-parallel-item:only-child::after {width: 0;}#sk-container-id-1 div.sk-dashed-wrapped {border: 1px dashed gray;margin: 0 0.4em 0.5em 0.4em;box-sizing: border-box;padding-bottom: 0.4em;background-color: white;}#sk-container-id-1 div.sk-label label {font-family: monospace;font-weight: bold;display: inline-block;line-height: 1.2em;}#sk-container-id-1 div.sk-label-container {text-align: center;}#sk-container-id-1 div.sk-container {/* jupyter's `normalize.less` sets `[hidden] { display: none; }` but bootstrap.min.css set `[hidden] { display: none !important; }` so we also need the `!important` here to be able to override the default hidden behavior on the sphinx rendered scikit-learn.org. See: https://github.com/scikit-learn/scikit-learn/issues/21755 */display: inline-block !important;position: relative;}#sk-container-id-1 div.sk-text-repr-fallback {display: none;}</style><div id=\"sk-container-id-1\" class=\"sk-top-container\"><div class=\"sk-text-repr-fallback\"><pre>LatentDirichletAllocation(learning_offset=50.0, max_iter=50, n_components=30,\n",
              "                          random_state=0)</pre><b>In a Jupyter environment, please rerun this cell to show the HTML representation or trust the notebook. <br />On GitHub, the HTML representation is unable to render, please try loading this page with nbviewer.org.</b></div><div class=\"sk-container\" hidden><div class=\"sk-item\"><div class=\"sk-estimator sk-toggleable\"><input class=\"sk-toggleable__control sk-hidden--visually\" id=\"sk-estimator-id-1\" type=\"checkbox\" checked><label for=\"sk-estimator-id-1\" class=\"sk-toggleable__label sk-toggleable__label-arrow\">LatentDirichletAllocation</label><div class=\"sk-toggleable__content\"><pre>LatentDirichletAllocation(learning_offset=50.0, max_iter=50, n_components=30,\n",
              "                          random_state=0)</pre></div></div></div></div></div>"
            ]
          },
          "metadata": {},
          "execution_count": 15
        }
      ]
    },
    {
      "cell_type": "code",
      "source": [
        "import numpy as np\n",
        "from numpy import argsort\n",
        "import statistics\n",
        "from statistics import mode\n",
        "from scipy.special import logsumexp\n",
        "import scipy as sp"
      ],
      "metadata": {
        "id": "Ka3t_6Rt4ns3"
      },
      "execution_count": 16,
      "outputs": []
    },
    {
      "cell_type": "markdown",
      "source": [
        "# Bases nuevas"
      ],
      "metadata": {
        "id": "cpQy_8QjSgvz"
      }
    },
    {
      "cell_type": "code",
      "source": [
        "disc_weights=matrix*lda.components_.transpose()\n",
        "disc_weights.shape"
      ],
      "metadata": {
        "id": "CyL84LHbSiGT",
        "outputId": "88a9ea86-2033-4f4d-ff2c-7ac84d451ad9",
        "colab": {
          "base_uri": "https://localhost:8080/"
        }
      },
      "execution_count": 17,
      "outputs": [
        {
          "output_type": "execute_result",
          "data": {
            "text/plain": [
              "(447525, 30)"
            ]
          },
          "metadata": {},
          "execution_count": 17
        }
      ]
    },
    {
      "cell_type": "code",
      "source": [
        "column_names = [str(i) for i in range(1, 31)]\n",
        "\n",
        "df_weights = pd.DataFrame(disc_weights, columns=column_names)\n",
        "\n",
        "select=[ 'intervention'\t, 'fecha' , 'partido', 'namex']\n",
        "df_weights = pd.concat([base[select], df_weights], axis=1)"
      ],
      "metadata": {
        "id": "Y3nOw3opSjjU"
      },
      "execution_count": 18,
      "outputs": []
    },
    {
      "cell_type": "code",
      "source": [
        "df_weights.to_csv('df_weights.csv')"
      ],
      "metadata": {
        "id": "UdfQR9URSl1Z"
      },
      "execution_count": 19,
      "outputs": []
    },
    {
      "cell_type": "code",
      "source": [
        "import scipy as sp\n",
        "from scipy.special import logsumexp\n",
        "\n",
        "def frex(mod, w=0.7):\n",
        "    log_beta = np.log(mod.components_)\n",
        "    log_exclusivity = log_beta - logsumexp(log_beta, axis=0)\n",
        "    exclusivity_ecdf = np.apply_along_axis(ecdf, 1, log_exclusivity)\n",
        "    freq_ecdf = np.apply_along_axis(ecdf, 1, log_beta)\n",
        "    out = 1. / (w / exclusivity_ecdf + (1 - w) / freq_ecdf)\n",
        "    return out\n",
        "  \n",
        "def ecdf(arr):\n",
        "    return sp.stats.rankdata(arr, method='max') / arr.size"
      ],
      "metadata": {
        "id": "FVcXsvhPSm8v"
      },
      "execution_count": 20,
      "outputs": []
    },
    {
      "cell_type": "code",
      "source": [
        "frex_df=pd.DataFrame(frex(lda))\n",
        "disc_frex=matrix*frex_df.transpose()"
      ],
      "metadata": {
        "id": "unyOzNNxSpnS"
      },
      "execution_count": 21,
      "outputs": []
    },
    {
      "cell_type": "code",
      "source": [
        "df_frex = pd.DataFrame(disc_weights, columns=column_names)\n",
        "\n",
        "select=[ 'intervention'\t, 'fecha' , 'partido', 'namex']\n",
        "df_frex = pd.concat([base[select], df_frex], axis=1)\n",
        "     \n",
        "\n",
        "df_frex.to_csv('df_frex.csv')"
      ],
      "metadata": {
        "id": "1wGjWkerSq3w"
      },
      "execution_count": 23,
      "outputs": []
    },
    {
      "cell_type": "markdown",
      "source": [
        "# Topics por weights"
      ],
      "metadata": {
        "id": "pPi0u9Vs2__N"
      }
    },
    {
      "cell_type": "code",
      "source": [
        "disc_weights=matrix*lda.components_.transpose()"
      ],
      "metadata": {
        "id": "wuZwn2t22_S3"
      },
      "execution_count": null,
      "outputs": []
    },
    {
      "cell_type": "code",
      "source": [
        "base['Topic_weight']=disc_weights.argmax(axis=1)+1"
      ],
      "metadata": {
        "id": "v5olK9E54dWs"
      },
      "execution_count": null,
      "outputs": []
    },
    {
      "cell_type": "code",
      "source": [
        "base.fecha=pd.to_datetime(base.fecha, infer_datetime_format=True)"
      ],
      "metadata": {
        "id": "xFWRKyXb-9PI"
      },
      "execution_count": null,
      "outputs": []
    },
    {
      "cell_type": "code",
      "source": [
        "# Por LEGISLATURA por WEIGHTS\n",
        "legislaturas=['I', 'II', 'III', 'IV', 'V', 'VI', 'VII','VIII', 'IX', 'X', 'XI', 'XII','XIII']\n",
        "topics_por_legislatura=pd.DataFrame()\n",
        "for x in legislaturas: \n",
        "  base_legislatura=base[base.legislatura==x]\n",
        "  topics_por_legislatura[x]=base_legislatura['Topic_weight'].value_counts().sort_index()/base_legislatura['Topic_weight'].value_counts().sort_index().sum()\n",
        "topics_por_legislatura.to_csv('topics_por_legislatura_por_weights.csv')"
      ],
      "metadata": {
        "id": "ibnmT6C08Aio"
      },
      "execution_count": null,
      "outputs": []
    },
    {
      "cell_type": "code",
      "source": [
        "# Por AÑO por weights\n",
        "topics_por_año=pd.DataFrame()\n",
        "for x in range (1979, 2020): \n",
        "  base_year=base[pd.DatetimeIndex(base.fecha).year==x]\n",
        "  topics_por_año[x]=base_year['Topic_weight'].value_counts().sort_index()/base_year['Topic_weight'].value_counts().sort_index().sum()\n",
        "topics_por_año.to_csv('topics_por_año_por_weights.csv')"
      ],
      "metadata": {
        "id": "FP85kg4w8TD7"
      },
      "execution_count": null,
      "outputs": []
    },
    {
      "cell_type": "markdown",
      "source": [
        "# FREX"
      ],
      "metadata": {
        "id": "nqYeg_ip6kKW"
      }
    },
    {
      "cell_type": "code",
      "source": [
        "def frex(mod, w=0.7):\n",
        "    log_beta = np.log(mod.components_)\n",
        "    log_exclusivity = log_beta - logsumexp(log_beta, axis=0)\n",
        "    exclusivity_ecdf = np.apply_along_axis(ecdf, 1, log_exclusivity)\n",
        "    freq_ecdf = np.apply_along_axis(ecdf, 1, log_beta)\n",
        "    out = 1. / (w / exclusivity_ecdf + (1 - w) / freq_ecdf)\n",
        "    return out\n",
        "\n",
        "def ecdf(arr):\n",
        "    return sp.stats.rankdata(arr, method='max') / arr.size\n",
        "\n",
        "def t_FREX(row):\n",
        "  return frex_df[matrix[row['id']].argmax()].argsort()[9]"
      ],
      "metadata": {
        "id": "opW4qtxs4jwI"
      },
      "execution_count": null,
      "outputs": []
    },
    {
      "cell_type": "code",
      "source": [
        "frex_df=pd.DataFrame(frex(lda))"
      ],
      "metadata": {
        "id": "nCdMHn7m7TR_"
      },
      "execution_count": null,
      "outputs": []
    },
    {
      "cell_type": "code",
      "source": [
        "# Se crea una columna con el topic que se asigna por frex a cada discurso de la base\n",
        "base['id']=range(0,len(base))\n",
        "base['Topic_FREX']=base.apply (lambda row: t_FREX(row), axis=1)+1"
      ],
      "metadata": {
        "id": "39ai_N8J7YHb"
      },
      "execution_count": null,
      "outputs": []
    },
    {
      "cell_type": "code",
      "source": [
        "# Por LEGISLATURA por FREX\n",
        "legislaturas=['I', 'II', 'III', 'IV', 'V', 'VI', 'VII','VIII', 'IX', 'X', 'XI', 'XII','XIII']\n",
        "topics_por_legislatura=pd.DataFrame()\n",
        "for x in legislaturas: \n",
        "  base_legislatura=base[base.legislatura==x]\n",
        "  topics_por_legislatura[x]=base_legislatura['Topic_FREX'].value_counts().sort_index()/base_legislatura['Topic_FREX'].value_counts().sort_index().sum()\n",
        "topics_por_legislatura.to_csv('topics_por_legislatura_por_frex.csv')"
      ],
      "metadata": {
        "id": "LxIdy9yS_hmD"
      },
      "execution_count": null,
      "outputs": []
    },
    {
      "cell_type": "code",
      "source": [
        "# Por AÑO por FREX\n",
        "topics_por_año=pd.DataFrame()\n",
        "for x in range (1979, 2020): \n",
        "  base_year=base[pd.DatetimeIndex(base.fecha).year==x]\n",
        "  topics_por_año[x]=base_year['Topic_FREX'].value_counts().sort_index()/base_year['Topic_FREX'].value_counts().sort_index().sum()\n",
        "topics_por_año.to_csv('topics_por_año_por_frex.csv')"
      ],
      "metadata": {
        "id": "2Y7uEKEL_qCo",
        "outputId": "cedab4a4-d3a4-47fa-8121-d3bac2493807",
        "colab": {
          "base_uri": "https://localhost:8080/"
        }
      },
      "execution_count": null,
      "outputs": [
        {
          "output_type": "stream",
          "name": "stderr",
          "text": [
            "<ipython-input-20-70637a8bf3e9>:4: UserWarning: Parsing dates in DD/MM/YYYY format when dayfirst=False (the default) was specified. This may lead to inconsistently parsed dates! Specify a format to ensure consistent parsing.\n",
            "  base_year=base[pd.DatetimeIndex(base.fecha).year==x]\n",
            "<ipython-input-20-70637a8bf3e9>:4: UserWarning: Parsing dates in DD/MM/YYYY format when dayfirst=False (the default) was specified. This may lead to inconsistently parsed dates! Specify a format to ensure consistent parsing.\n",
            "  base_year=base[pd.DatetimeIndex(base.fecha).year==x]\n",
            "<ipython-input-20-70637a8bf3e9>:4: UserWarning: Parsing dates in DD/MM/YYYY format when dayfirst=False (the default) was specified. This may lead to inconsistently parsed dates! Specify a format to ensure consistent parsing.\n",
            "  base_year=base[pd.DatetimeIndex(base.fecha).year==x]\n",
            "<ipython-input-20-70637a8bf3e9>:4: UserWarning: Parsing dates in DD/MM/YYYY format when dayfirst=False (the default) was specified. This may lead to inconsistently parsed dates! Specify a format to ensure consistent parsing.\n",
            "  base_year=base[pd.DatetimeIndex(base.fecha).year==x]\n",
            "<ipython-input-20-70637a8bf3e9>:4: UserWarning: Parsing dates in DD/MM/YYYY format when dayfirst=False (the default) was specified. This may lead to inconsistently parsed dates! Specify a format to ensure consistent parsing.\n",
            "  base_year=base[pd.DatetimeIndex(base.fecha).year==x]\n",
            "<ipython-input-20-70637a8bf3e9>:4: UserWarning: Parsing dates in DD/MM/YYYY format when dayfirst=False (the default) was specified. This may lead to inconsistently parsed dates! Specify a format to ensure consistent parsing.\n",
            "  base_year=base[pd.DatetimeIndex(base.fecha).year==x]\n",
            "<ipython-input-20-70637a8bf3e9>:4: UserWarning: Parsing dates in DD/MM/YYYY format when dayfirst=False (the default) was specified. This may lead to inconsistently parsed dates! Specify a format to ensure consistent parsing.\n",
            "  base_year=base[pd.DatetimeIndex(base.fecha).year==x]\n",
            "<ipython-input-20-70637a8bf3e9>:4: UserWarning: Parsing dates in DD/MM/YYYY format when dayfirst=False (the default) was specified. This may lead to inconsistently parsed dates! Specify a format to ensure consistent parsing.\n",
            "  base_year=base[pd.DatetimeIndex(base.fecha).year==x]\n",
            "<ipython-input-20-70637a8bf3e9>:4: UserWarning: Parsing dates in DD/MM/YYYY format when dayfirst=False (the default) was specified. This may lead to inconsistently parsed dates! Specify a format to ensure consistent parsing.\n",
            "  base_year=base[pd.DatetimeIndex(base.fecha).year==x]\n",
            "<ipython-input-20-70637a8bf3e9>:4: UserWarning: Parsing dates in DD/MM/YYYY format when dayfirst=False (the default) was specified. This may lead to inconsistently parsed dates! Specify a format to ensure consistent parsing.\n",
            "  base_year=base[pd.DatetimeIndex(base.fecha).year==x]\n",
            "<ipython-input-20-70637a8bf3e9>:4: UserWarning: Parsing dates in DD/MM/YYYY format when dayfirst=False (the default) was specified. This may lead to inconsistently parsed dates! Specify a format to ensure consistent parsing.\n",
            "  base_year=base[pd.DatetimeIndex(base.fecha).year==x]\n",
            "<ipython-input-20-70637a8bf3e9>:4: UserWarning: Parsing dates in DD/MM/YYYY format when dayfirst=False (the default) was specified. This may lead to inconsistently parsed dates! Specify a format to ensure consistent parsing.\n",
            "  base_year=base[pd.DatetimeIndex(base.fecha).year==x]\n",
            "<ipython-input-20-70637a8bf3e9>:4: UserWarning: Parsing dates in DD/MM/YYYY format when dayfirst=False (the default) was specified. This may lead to inconsistently parsed dates! Specify a format to ensure consistent parsing.\n",
            "  base_year=base[pd.DatetimeIndex(base.fecha).year==x]\n",
            "<ipython-input-20-70637a8bf3e9>:4: UserWarning: Parsing dates in DD/MM/YYYY format when dayfirst=False (the default) was specified. This may lead to inconsistently parsed dates! Specify a format to ensure consistent parsing.\n",
            "  base_year=base[pd.DatetimeIndex(base.fecha).year==x]\n",
            "<ipython-input-20-70637a8bf3e9>:4: UserWarning: Parsing dates in DD/MM/YYYY format when dayfirst=False (the default) was specified. This may lead to inconsistently parsed dates! Specify a format to ensure consistent parsing.\n",
            "  base_year=base[pd.DatetimeIndex(base.fecha).year==x]\n",
            "<ipython-input-20-70637a8bf3e9>:4: UserWarning: Parsing dates in DD/MM/YYYY format when dayfirst=False (the default) was specified. This may lead to inconsistently parsed dates! Specify a format to ensure consistent parsing.\n",
            "  base_year=base[pd.DatetimeIndex(base.fecha).year==x]\n",
            "<ipython-input-20-70637a8bf3e9>:4: UserWarning: Parsing dates in DD/MM/YYYY format when dayfirst=False (the default) was specified. This may lead to inconsistently parsed dates! Specify a format to ensure consistent parsing.\n",
            "  base_year=base[pd.DatetimeIndex(base.fecha).year==x]\n",
            "<ipython-input-20-70637a8bf3e9>:4: UserWarning: Parsing dates in DD/MM/YYYY format when dayfirst=False (the default) was specified. This may lead to inconsistently parsed dates! Specify a format to ensure consistent parsing.\n",
            "  base_year=base[pd.DatetimeIndex(base.fecha).year==x]\n",
            "<ipython-input-20-70637a8bf3e9>:4: UserWarning: Parsing dates in DD/MM/YYYY format when dayfirst=False (the default) was specified. This may lead to inconsistently parsed dates! Specify a format to ensure consistent parsing.\n",
            "  base_year=base[pd.DatetimeIndex(base.fecha).year==x]\n",
            "<ipython-input-20-70637a8bf3e9>:4: UserWarning: Parsing dates in DD/MM/YYYY format when dayfirst=False (the default) was specified. This may lead to inconsistently parsed dates! Specify a format to ensure consistent parsing.\n",
            "  base_year=base[pd.DatetimeIndex(base.fecha).year==x]\n",
            "<ipython-input-20-70637a8bf3e9>:4: UserWarning: Parsing dates in DD/MM/YYYY format when dayfirst=False (the default) was specified. This may lead to inconsistently parsed dates! Specify a format to ensure consistent parsing.\n",
            "  base_year=base[pd.DatetimeIndex(base.fecha).year==x]\n",
            "<ipython-input-20-70637a8bf3e9>:4: UserWarning: Parsing dates in DD/MM/YYYY format when dayfirst=False (the default) was specified. This may lead to inconsistently parsed dates! Specify a format to ensure consistent parsing.\n",
            "  base_year=base[pd.DatetimeIndex(base.fecha).year==x]\n",
            "<ipython-input-20-70637a8bf3e9>:4: UserWarning: Parsing dates in DD/MM/YYYY format when dayfirst=False (the default) was specified. This may lead to inconsistently parsed dates! Specify a format to ensure consistent parsing.\n",
            "  base_year=base[pd.DatetimeIndex(base.fecha).year==x]\n",
            "<ipython-input-20-70637a8bf3e9>:4: UserWarning: Parsing dates in DD/MM/YYYY format when dayfirst=False (the default) was specified. This may lead to inconsistently parsed dates! Specify a format to ensure consistent parsing.\n",
            "  base_year=base[pd.DatetimeIndex(base.fecha).year==x]\n",
            "<ipython-input-20-70637a8bf3e9>:4: UserWarning: Parsing dates in DD/MM/YYYY format when dayfirst=False (the default) was specified. This may lead to inconsistently parsed dates! Specify a format to ensure consistent parsing.\n",
            "  base_year=base[pd.DatetimeIndex(base.fecha).year==x]\n",
            "<ipython-input-20-70637a8bf3e9>:4: UserWarning: Parsing dates in DD/MM/YYYY format when dayfirst=False (the default) was specified. This may lead to inconsistently parsed dates! Specify a format to ensure consistent parsing.\n",
            "  base_year=base[pd.DatetimeIndex(base.fecha).year==x]\n",
            "<ipython-input-20-70637a8bf3e9>:4: UserWarning: Parsing dates in DD/MM/YYYY format when dayfirst=False (the default) was specified. This may lead to inconsistently parsed dates! Specify a format to ensure consistent parsing.\n",
            "  base_year=base[pd.DatetimeIndex(base.fecha).year==x]\n",
            "<ipython-input-20-70637a8bf3e9>:4: UserWarning: Parsing dates in DD/MM/YYYY format when dayfirst=False (the default) was specified. This may lead to inconsistently parsed dates! Specify a format to ensure consistent parsing.\n",
            "  base_year=base[pd.DatetimeIndex(base.fecha).year==x]\n",
            "<ipython-input-20-70637a8bf3e9>:4: UserWarning: Parsing dates in DD/MM/YYYY format when dayfirst=False (the default) was specified. This may lead to inconsistently parsed dates! Specify a format to ensure consistent parsing.\n",
            "  base_year=base[pd.DatetimeIndex(base.fecha).year==x]\n",
            "<ipython-input-20-70637a8bf3e9>:4: UserWarning: Parsing dates in DD/MM/YYYY format when dayfirst=False (the default) was specified. This may lead to inconsistently parsed dates! Specify a format to ensure consistent parsing.\n",
            "  base_year=base[pd.DatetimeIndex(base.fecha).year==x]\n",
            "<ipython-input-20-70637a8bf3e9>:4: UserWarning: Parsing dates in DD/MM/YYYY format when dayfirst=False (the default) was specified. This may lead to inconsistently parsed dates! Specify a format to ensure consistent parsing.\n",
            "  base_year=base[pd.DatetimeIndex(base.fecha).year==x]\n",
            "<ipython-input-20-70637a8bf3e9>:4: UserWarning: Parsing dates in DD/MM/YYYY format when dayfirst=False (the default) was specified. This may lead to inconsistently parsed dates! Specify a format to ensure consistent parsing.\n",
            "  base_year=base[pd.DatetimeIndex(base.fecha).year==x]\n",
            "<ipython-input-20-70637a8bf3e9>:4: UserWarning: Parsing dates in DD/MM/YYYY format when dayfirst=False (the default) was specified. This may lead to inconsistently parsed dates! Specify a format to ensure consistent parsing.\n",
            "  base_year=base[pd.DatetimeIndex(base.fecha).year==x]\n",
            "<ipython-input-20-70637a8bf3e9>:4: UserWarning: Parsing dates in DD/MM/YYYY format when dayfirst=False (the default) was specified. This may lead to inconsistently parsed dates! Specify a format to ensure consistent parsing.\n",
            "  base_year=base[pd.DatetimeIndex(base.fecha).year==x]\n",
            "<ipython-input-20-70637a8bf3e9>:4: UserWarning: Parsing dates in DD/MM/YYYY format when dayfirst=False (the default) was specified. This may lead to inconsistently parsed dates! Specify a format to ensure consistent parsing.\n",
            "  base_year=base[pd.DatetimeIndex(base.fecha).year==x]\n",
            "<ipython-input-20-70637a8bf3e9>:4: UserWarning: Parsing dates in DD/MM/YYYY format when dayfirst=False (the default) was specified. This may lead to inconsistently parsed dates! Specify a format to ensure consistent parsing.\n",
            "  base_year=base[pd.DatetimeIndex(base.fecha).year==x]\n",
            "<ipython-input-20-70637a8bf3e9>:4: UserWarning: Parsing dates in DD/MM/YYYY format when dayfirst=False (the default) was specified. This may lead to inconsistently parsed dates! Specify a format to ensure consistent parsing.\n",
            "  base_year=base[pd.DatetimeIndex(base.fecha).year==x]\n",
            "<ipython-input-20-70637a8bf3e9>:4: UserWarning: Parsing dates in DD/MM/YYYY format when dayfirst=False (the default) was specified. This may lead to inconsistently parsed dates! Specify a format to ensure consistent parsing.\n",
            "  base_year=base[pd.DatetimeIndex(base.fecha).year==x]\n",
            "<ipython-input-20-70637a8bf3e9>:4: UserWarning: Parsing dates in DD/MM/YYYY format when dayfirst=False (the default) was specified. This may lead to inconsistently parsed dates! Specify a format to ensure consistent parsing.\n",
            "  base_year=base[pd.DatetimeIndex(base.fecha).year==x]\n",
            "<ipython-input-20-70637a8bf3e9>:4: UserWarning: Parsing dates in DD/MM/YYYY format when dayfirst=False (the default) was specified. This may lead to inconsistently parsed dates! Specify a format to ensure consistent parsing.\n",
            "  base_year=base[pd.DatetimeIndex(base.fecha).year==x]\n",
            "<ipython-input-20-70637a8bf3e9>:4: UserWarning: Parsing dates in DD/MM/YYYY format when dayfirst=False (the default) was specified. This may lead to inconsistently parsed dates! Specify a format to ensure consistent parsing.\n",
            "  base_year=base[pd.DatetimeIndex(base.fecha).year==x]\n"
          ]
        }
      ]
    },
    {
      "cell_type": "markdown",
      "source": [
        "# Bigramas por weights"
      ],
      "metadata": {
        "id": "P0GTL-2pWXmF"
      }
    },
    {
      "cell_type": "code",
      "source": [
        "bigramas=pd.DataFrame()\n",
        "feature_names=vect.get_feature_names_out()\n",
        "no_top_words=20\n",
        "for topic_idx, topic in enumerate(lda.components_):\n",
        "  bigramas[\"Topic %d:\" % (topic_idx + 1)]=[feature_names[i] for i in topic.argsort()[:-no_top_words - 1:-1]]"
      ],
      "metadata": {
        "id": "p0seVyONXtTG"
      },
      "execution_count": null,
      "outputs": []
    },
    {
      "cell_type": "code",
      "source": [
        "bigramas.to_csv('bigramas_por_weights_30topics.csv')"
      ],
      "metadata": {
        "id": "_ZWDdtUaYf79"
      },
      "execution_count": null,
      "outputs": []
    },
    {
      "cell_type": "markdown",
      "source": [
        "# Bigramas por frex"
      ],
      "metadata": {
        "id": "GK1BTUXxm047"
      }
    },
    {
      "cell_type": "code",
      "source": [
        "\"Topic %d:\" % (topic_idx + 1)\n",
        "for topic_idx, topic in enumerate(frex(lda)):\n",
        "  bigramas[\"Topic %d:\" % (topic_idx + 1)]=[feature_names[i] for i in topic.argsort()[:-no_top_words - 1:-1]]"
      ],
      "metadata": {
        "id": "ahCMverxaAay"
      },
      "execution_count": null,
      "outputs": []
    },
    {
      "cell_type": "code",
      "source": [
        "bigramas.to_csv('bigramas_por_frex_30topics.csv')"
      ],
      "metadata": {
        "id": "bHwC8aO2eO-R"
      },
      "execution_count": null,
      "outputs": []
    },
    {
      "cell_type": "markdown",
      "source": [
        "# Bigramas para 10 Topics"
      ],
      "metadata": {
        "id": "jPBncuy4ecm9"
      }
    },
    {
      "cell_type": "code",
      "source": [
        "# Esta celda tarda unos 25 minutos en correr\n",
        "from sklearn.decomposition import LatentDirichletAllocation\n",
        "lda = LatentDirichletAllocation(n_components=10, max_iter=50, learning_method='batch', learning_offset=50.,random_state=0)  \n",
        "lda.fit(matrix)"
      ],
      "metadata": {
        "colab": {
          "base_uri": "https://localhost:8080/",
          "height": 75
        },
        "id": "vV7CmRnrecDR",
        "outputId": "a41bdcad-d291-4754-99c4-3587e331a6cf"
      },
      "execution_count": null,
      "outputs": [
        {
          "output_type": "execute_result",
          "data": {
            "text/plain": [
              "LatentDirichletAllocation(learning_offset=50.0, max_iter=50, random_state=0)"
            ],
            "text/html": [
              "<style>#sk-container-id-2 {color: black;background-color: white;}#sk-container-id-2 pre{padding: 0;}#sk-container-id-2 div.sk-toggleable {background-color: white;}#sk-container-id-2 label.sk-toggleable__label {cursor: pointer;display: block;width: 100%;margin-bottom: 0;padding: 0.3em;box-sizing: border-box;text-align: center;}#sk-container-id-2 label.sk-toggleable__label-arrow:before {content: \"▸\";float: left;margin-right: 0.25em;color: #696969;}#sk-container-id-2 label.sk-toggleable__label-arrow:hover:before {color: black;}#sk-container-id-2 div.sk-estimator:hover label.sk-toggleable__label-arrow:before {color: black;}#sk-container-id-2 div.sk-toggleable__content {max-height: 0;max-width: 0;overflow: hidden;text-align: left;background-color: #f0f8ff;}#sk-container-id-2 div.sk-toggleable__content pre {margin: 0.2em;color: black;border-radius: 0.25em;background-color: #f0f8ff;}#sk-container-id-2 input.sk-toggleable__control:checked~div.sk-toggleable__content {max-height: 200px;max-width: 100%;overflow: auto;}#sk-container-id-2 input.sk-toggleable__control:checked~label.sk-toggleable__label-arrow:before {content: \"▾\";}#sk-container-id-2 div.sk-estimator input.sk-toggleable__control:checked~label.sk-toggleable__label {background-color: #d4ebff;}#sk-container-id-2 div.sk-label input.sk-toggleable__control:checked~label.sk-toggleable__label {background-color: #d4ebff;}#sk-container-id-2 input.sk-hidden--visually {border: 0;clip: rect(1px 1px 1px 1px);clip: rect(1px, 1px, 1px, 1px);height: 1px;margin: -1px;overflow: hidden;padding: 0;position: absolute;width: 1px;}#sk-container-id-2 div.sk-estimator {font-family: monospace;background-color: #f0f8ff;border: 1px dotted black;border-radius: 0.25em;box-sizing: border-box;margin-bottom: 0.5em;}#sk-container-id-2 div.sk-estimator:hover {background-color: #d4ebff;}#sk-container-id-2 div.sk-parallel-item::after {content: \"\";width: 100%;border-bottom: 1px solid gray;flex-grow: 1;}#sk-container-id-2 div.sk-label:hover label.sk-toggleable__label {background-color: #d4ebff;}#sk-container-id-2 div.sk-serial::before {content: \"\";position: absolute;border-left: 1px solid gray;box-sizing: border-box;top: 0;bottom: 0;left: 50%;z-index: 0;}#sk-container-id-2 div.sk-serial {display: flex;flex-direction: column;align-items: center;background-color: white;padding-right: 0.2em;padding-left: 0.2em;position: relative;}#sk-container-id-2 div.sk-item {position: relative;z-index: 1;}#sk-container-id-2 div.sk-parallel {display: flex;align-items: stretch;justify-content: center;background-color: white;position: relative;}#sk-container-id-2 div.sk-item::before, #sk-container-id-2 div.sk-parallel-item::before {content: \"\";position: absolute;border-left: 1px solid gray;box-sizing: border-box;top: 0;bottom: 0;left: 50%;z-index: -1;}#sk-container-id-2 div.sk-parallel-item {display: flex;flex-direction: column;z-index: 1;position: relative;background-color: white;}#sk-container-id-2 div.sk-parallel-item:first-child::after {align-self: flex-end;width: 50%;}#sk-container-id-2 div.sk-parallel-item:last-child::after {align-self: flex-start;width: 50%;}#sk-container-id-2 div.sk-parallel-item:only-child::after {width: 0;}#sk-container-id-2 div.sk-dashed-wrapped {border: 1px dashed gray;margin: 0 0.4em 0.5em 0.4em;box-sizing: border-box;padding-bottom: 0.4em;background-color: white;}#sk-container-id-2 div.sk-label label {font-family: monospace;font-weight: bold;display: inline-block;line-height: 1.2em;}#sk-container-id-2 div.sk-label-container {text-align: center;}#sk-container-id-2 div.sk-container {/* jupyter's `normalize.less` sets `[hidden] { display: none; }` but bootstrap.min.css set `[hidden] { display: none !important; }` so we also need the `!important` here to be able to override the default hidden behavior on the sphinx rendered scikit-learn.org. See: https://github.com/scikit-learn/scikit-learn/issues/21755 */display: inline-block !important;position: relative;}#sk-container-id-2 div.sk-text-repr-fallback {display: none;}</style><div id=\"sk-container-id-2\" class=\"sk-top-container\"><div class=\"sk-text-repr-fallback\"><pre>LatentDirichletAllocation(learning_offset=50.0, max_iter=50, random_state=0)</pre><b>In a Jupyter environment, please rerun this cell to show the HTML representation or trust the notebook. <br />On GitHub, the HTML representation is unable to render, please try loading this page with nbviewer.org.</b></div><div class=\"sk-container\" hidden><div class=\"sk-item\"><div class=\"sk-estimator sk-toggleable\"><input class=\"sk-toggleable__control sk-hidden--visually\" id=\"sk-estimator-id-2\" type=\"checkbox\" checked><label for=\"sk-estimator-id-2\" class=\"sk-toggleable__label sk-toggleable__label-arrow\">LatentDirichletAllocation</label><div class=\"sk-toggleable__content\"><pre>LatentDirichletAllocation(learning_offset=50.0, max_iter=50, random_state=0)</pre></div></div></div></div></div>"
            ]
          },
          "metadata": {},
          "execution_count": 25
        }
      ]
    },
    {
      "cell_type": "code",
      "source": [
        "bigramas=pd.DataFrame()\n",
        "feature_names=vect.get_feature_names_out()\n",
        "no_top_words=20\n",
        "for topic_idx, topic in enumerate(lda.components_):\n",
        "  bigramas[\"Topic %d:\" % (topic_idx + 1)]=[feature_names[i] for i in topic.argsort()[:-no_top_words - 1:-1]]"
      ],
      "metadata": {
        "id": "J6uh66frehCF"
      },
      "execution_count": null,
      "outputs": []
    },
    {
      "cell_type": "code",
      "source": [
        "bigramas.to_csv('bigramas_por_weights_10topics.csv')"
      ],
      "metadata": {
        "id": "4mPdtNjUehCF"
      },
      "execution_count": null,
      "outputs": []
    },
    {
      "cell_type": "code",
      "source": [
        "\"Topic %d:\" % (topic_idx + 1)\n",
        "for topic_idx, topic in enumerate(frex(lda)):\n",
        "  bigramas[\"Topic %d:\" % (topic_idx + 1)]=[feature_names[i] for i in topic.argsort()[:-no_top_words - 1:-1]]"
      ],
      "metadata": {
        "id": "v3rfzoYfehCF"
      },
      "execution_count": null,
      "outputs": []
    },
    {
      "cell_type": "code",
      "source": [
        "bigramas.to_csv('bigramas_por_frex_10topics.csv')"
      ],
      "metadata": {
        "id": "bZOM9hVhehCG"
      },
      "execution_count": null,
      "outputs": []
    }
  ]
}