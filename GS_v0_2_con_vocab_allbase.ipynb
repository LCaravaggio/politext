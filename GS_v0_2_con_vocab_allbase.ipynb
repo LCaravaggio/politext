{
  "nbformat": 4,
  "nbformat_minor": 0,
  "metadata": {
    "colab": {
      "provenance": [],
      "include_colab_link": true
    },
    "kernelspec": {
      "name": "python3",
      "display_name": "Python 3"
    },
    "language_info": {
      "name": "python"
    }
  },
  "cells": [
    {
      "cell_type": "markdown",
      "metadata": {
        "id": "view-in-github",
        "colab_type": "text"
      },
      "source": [
        "<a href=\"https://colab.research.google.com/github/LCaravaggio/politext/blob/snowball/GS_v0_2_con_vocab_allbase.ipynb\" target=\"_parent\"><img src=\"https://colab.research.google.com/assets/colab-badge.svg\" alt=\"Open In Colab\"/></a>"
      ]
    },
    {
      "cell_type": "markdown",
      "source": [
        "# Carga datos"
      ],
      "metadata": {
        "id": "KU6Q7p7hSHuR"
      }
    },
    {
      "cell_type": "code",
      "execution_count": 1,
      "metadata": {
        "id": "2wMpUVogkYoT",
        "outputId": "a33aafe3-d8be-44fb-e241-c9285528b914",
        "colab": {
          "base_uri": "https://localhost:8080/"
        }
      },
      "outputs": [
        {
          "output_type": "stream",
          "name": "stdout",
          "text": [
            "Mounted at /content/drive\n"
          ]
        }
      ],
      "source": [
        "from google.colab import drive\n",
        "drive.mount('/content/drive')"
      ]
    },
    {
      "cell_type": "code",
      "source": [
        "import pandas as pd\n",
        "import json\n",
        "\n",
        "!mkdir ~/.kaggle\n",
        "!touch ~/.kaggle/kaggle.json\n",
        "\n",
        "drive.mount('/content/drive', force_remount=True)\n",
        "with open(\"/content/drive/My Drive/kaggle.json\", 'r') as f:\n",
        "    api_token= json.load(f)\n",
        "\n",
        "with open('/root/.kaggle/kaggle.json', 'w') as file:\n",
        "    json.dump(api_token, file)\n",
        "\n",
        "!chmod 600 ~/.kaggle/kaggle.json\n",
        "\n",
        "!kaggle datasets download -d leonardocaravaggio/base-diputados"
      ],
      "metadata": {
        "id": "p2WuTUfwknZK",
        "outputId": "f06c19e1-aa2a-43f6-ee3c-11493ad82da1",
        "colab": {
          "base_uri": "https://localhost:8080/"
        }
      },
      "execution_count": 2,
      "outputs": [
        {
          "output_type": "stream",
          "name": "stdout",
          "text": [
            "Mounted at /content/drive\n",
            "Downloading base-diputados.zip to /content\n",
            " 97% 673M/696M [00:13<00:00, 78.0MB/s]\n",
            "100% 696M/696M [00:13<00:00, 53.2MB/s]\n"
          ]
        }
      ]
    },
    {
      "cell_type": "code",
      "source": [
        "import zipfile\n",
        "import os\n",
        "\n",
        "os.listdir()\n",
        "\n",
        "for file in os.listdir():\n",
        "    if file.endswith('.zip'):\n",
        "      zip_ref = zipfile.ZipFile(file, 'r')\n",
        "      zip_ref.extractall()\n",
        "      zip_ref.close()"
      ],
      "metadata": {
        "id": "lS4hNbmTvJS6"
      },
      "execution_count": 3,
      "outputs": []
    },
    {
      "cell_type": "code",
      "source": [
        "\n",
        "# Se lee la base original\n",
        "base=pd.read_csv('/content/par_esp_interventions_l1_l13.csv')"
      ],
      "metadata": {
        "id": "kdxSf18TvMK3",
        "outputId": "aadd77f9-39d8-47cb-9a68-bdf4e30c412c",
        "colab": {
          "base_uri": "https://localhost:8080/"
        }
      },
      "execution_count": 4,
      "outputs": [
        {
          "output_type": "stream",
          "name": "stderr",
          "text": [
            "<ipython-input-4-5462a4a332af>:2: DtypeWarning: Columns (17) have mixed types. Specify dtype option on import or set low_memory=False.\n",
            "  base=pd.read_csv('/content/par_esp_interventions_l1_l13.csv')\n"
          ]
        }
      ]
    },
    {
      "cell_type": "code",
      "source": [
        "import pickle\n",
        "\n",
        "with open('/content/vocabulary_snowball.voc', 'rb') as f:\n",
        "    inter = pickle.load(f)"
      ],
      "metadata": {
        "id": "MODaGiLjkpSF"
      },
      "execution_count": 6,
      "outputs": []
    },
    {
      "cell_type": "code",
      "source": [
        "base=base.rename(columns={\"party\": \"partido\"})"
      ],
      "metadata": {
        "id": "AH5JNoZbGCzx"
      },
      "execution_count": 7,
      "outputs": []
    },
    {
      "cell_type": "code",
      "source": [
        "import nltk\n",
        "\n",
        "nltk.download('punkt')\n",
        "from nltk.tokenize import word_tokenize\n",
        "import string\n",
        "from nltk.stem.snowball import SpanishStemmer"
      ],
      "metadata": {
        "id": "Qdwf2h4iGrTh",
        "outputId": "d7496629-c202-469e-f8ed-8246742d42b8",
        "colab": {
          "base_uri": "https://localhost:8080/"
        }
      },
      "execution_count": 8,
      "outputs": [
        {
          "output_type": "stream",
          "name": "stderr",
          "text": [
            "[nltk_data] Downloading package punkt to /root/nltk_data...\n",
            "[nltk_data]   Unzipping tokenizers/punkt.zip.\n"
          ]
        }
      ]
    },
    {
      "cell_type": "code",
      "source": [
        "nltk.download('stopwords')\n",
        "from nltk.corpus import stopwords\n",
        "stopwords=stopwords.words('spanish')\n",
        "\n",
        "# Se incorporan las stopwords sugeridas por Federico\n",
        "stopwords.extend(['señor', 'señora', 'mucha', 'gracia', 'año', 'pasado', 'cada', 'vez', 'uno', 'dos', 'tres', 'cuatro', 'cinco', 'seis' ,'siete', 'ocho', 'nueve', 'diez'])\n",
        "stopwords.extend(['hoy', 'aquí', 'primer', 'lugar', 'primera', 'segunda', 'primero', 'segundo', 'siguiente', 'tercer'])\n",
        "stopwords.extend(['convergencia', 'esquerra', 'republicana', 'grupo', 'parlamentaria', 'parlamentario', 'partido'])\n",
        "stopwords.extend(['enmienda', 'votación', 'favor', 'abstención', 'ley', 'real', 'decreto', 'decretoley', 'resultado', 'voto', 'sé' ,'sí', 'silencio' ,'favor'])\n",
        "stopwords.extend(['usted', 'señoría', 'presidente', 'presidenta', 'ministro', 'orden' , 'día', 'palabra', 'petición', 'posición', 'punto', 'vista', 'sesión', 'baldoví', 'duran', 'turno'])\n",
        "stopwords.extend(['hacer', 'frente', 'puede' ,'ser', 'va', 'voy', 'decir'])\n",
        "stopwords.extend(['millón', 'euro', 'emitido', 'efectuada', 'dio', 'comienzo', 'partido', 'queda', 'quedan', 'rechazada', 'aceptada', 'comienza', 'usted', 'sabe', 'abstención', 'diputado', 'gobierno'])\n",
        "stopwords.extend(['continuación', 'votamos', 'telemático', 'republicanaizquierda', 'unidainiciativa', 'puede', 'bien', 'propuesta' ,'abstencion', 'mayoría', 'absoluta', 'pregunta', 'don', 'vamos', 'votar', 'llevar', 'cabo', 'millón', 'muchas', 'gracias'])\n",
        ""
      ],
      "metadata": {
        "id": "R_VO6fLhHYsq",
        "outputId": "1f5a3549-f24e-4cfa-e7bf-cc01e1cd295e",
        "colab": {
          "base_uri": "https://localhost:8080/"
        }
      },
      "execution_count": 9,
      "outputs": [
        {
          "output_type": "stream",
          "name": "stderr",
          "text": [
            "[nltk_data] Downloading package stopwords to /root/nltk_data...\n",
            "[nltk_data]   Unzipping corpora/stopwords.zip.\n"
          ]
        }
      ]
    },
    {
      "cell_type": "code",
      "source": [
        "# Elimino de la base las intervenciones del Presidente de la cámara\n",
        "base=base[(base['role'] != 'PRESIDENTE, PRESIDENTA') | (base['role'] != 'PRESIDENTE DEL CONGRESO DE LOS DIPUTADOS')]"
      ],
      "metadata": {
        "id": "Uio6rWDah75W"
      },
      "execution_count": 10,
      "outputs": []
    },
    {
      "cell_type": "code",
      "source": [
        "# Eliminos nans de la base\n",
        "base=base[base['intervention'].notna()]"
      ],
      "metadata": {
        "id": "xjoKG0kFvxdq"
      },
      "execution_count": 11,
      "outputs": []
    },
    {
      "cell_type": "code",
      "source": [
        "# Esta celda tarda unos 30 minutos en correr\n",
        "porter_stemmer = SpanishStemmer()\n",
        "\n",
        "lista = []\n",
        "base['tokens']=\"\"\n",
        "for row in base.values:\n",
        "    #elimino puntuación\n",
        "    non_punctuation = row[2].replace('-',' ')\n",
        "    non_punctuation = non_punctuation.translate(str.maketrans('', '', string.punctuation))\n",
        "    word_tokens = word_tokenize(non_punctuation)\n",
        "\n",
        "    #elimino stopwords\n",
        "    tokens=[w for w in word_tokens if not w.lower() in stopwords]\n",
        "\n",
        "    #stemming\n",
        "    stemmers = [porter_stemmer.stem(word) for word in tokens]\n",
        "    row[18] = [stem for stem in stemmers if stem.isalpha() and len(stem) > 1]\n",
        "    lista.append(row)"
      ],
      "metadata": {
        "id": "tDhhKhQOvOUF"
      },
      "execution_count": 12,
      "outputs": []
    },
    {
      "cell_type": "code",
      "source": [
        "base = pd.DataFrame(lista, columns=base.columns)"
      ],
      "metadata": {
        "id": "FZ6e2JDLhXl9"
      },
      "execution_count": 13,
      "outputs": []
    },
    {
      "cell_type": "code",
      "source": [
        "base['tokens'] = [str(token) for token in base['tokens']]"
      ],
      "metadata": {
        "id": "aErmnSW97i9F"
      },
      "execution_count": 14,
      "outputs": []
    },
    {
      "cell_type": "code",
      "source": [
        "from sklearn.feature_extraction.text import CountVectorizer\n",
        "vect = CountVectorizer(ngram_range=(2,2) ,vocabulary=inter)\n",
        "matrix = vect.fit_transform(base['tokens'])"
      ],
      "metadata": {
        "id": "j4kIpxNJk555"
      },
      "execution_count": 15,
      "outputs": []
    },
    {
      "cell_type": "code",
      "source": [
        "len(vect.vocabulary_)"
      ],
      "metadata": {
        "id": "o1yWjac_lrJv",
        "outputId": "334ae050-4adb-41d6-de12-cfadd0d3ecb3",
        "colab": {
          "base_uri": "https://localhost:8080/"
        }
      },
      "execution_count": 16,
      "outputs": [
        {
          "output_type": "execute_result",
          "data": {
            "text/plain": [
              "357780"
            ]
          },
          "metadata": {},
          "execution_count": 16
        }
      ]
    },
    {
      "cell_type": "code",
      "source": [
        "base.columns"
      ],
      "metadata": {
        "id": "1Qp5EtzYUT0D",
        "outputId": "df8585bb-6c19-444c-9df0-2d6c62ab8864",
        "colab": {
          "base_uri": "https://localhost:8080/"
        }
      },
      "execution_count": 17,
      "outputs": [
        {
          "output_type": "execute_result",
          "data": {
            "text/plain": [
              "Index(['orden', 'namex', 'intervention', 'fecha', 'legislatura', 'pleno',\n",
              "       'role', 'oradorx', 'namey', 'partido', 'province', 'congreso', 'senado',\n",
              "       'total', 'oradory', 'cataluna', 'estatut', 'inter_raw', 'tokens'],\n",
              "      dtype='object')"
            ]
          },
          "metadata": {},
          "execution_count": 17
        }
      ]
    },
    {
      "cell_type": "code",
      "source": [
        "# Esta celda tarda unos 70 minutos en correr\n",
        "from sklearn.decomposition import LatentDirichletAllocation\n",
        "lda = LatentDirichletAllocation(n_components=30, max_iter=50, learning_method='batch', learning_offset=50.,random_state=0)\n",
        "lda.fit(matrix)"
      ],
      "metadata": {
        "id": "_WewtbEPkyOS",
        "outputId": "e8c577ca-5d99-4753-cac8-f44c050534e8",
        "colab": {
          "base_uri": "https://localhost:8080/",
          "height": 92
        }
      },
      "execution_count": 18,
      "outputs": [
        {
          "output_type": "execute_result",
          "data": {
            "text/plain": [
              "LatentDirichletAllocation(learning_offset=50.0, max_iter=50, n_components=30,\n",
              "                          random_state=0)"
            ],
            "text/html": [
              "<style>#sk-container-id-1 {color: black;background-color: white;}#sk-container-id-1 pre{padding: 0;}#sk-container-id-1 div.sk-toggleable {background-color: white;}#sk-container-id-1 label.sk-toggleable__label {cursor: pointer;display: block;width: 100%;margin-bottom: 0;padding: 0.3em;box-sizing: border-box;text-align: center;}#sk-container-id-1 label.sk-toggleable__label-arrow:before {content: \"▸\";float: left;margin-right: 0.25em;color: #696969;}#sk-container-id-1 label.sk-toggleable__label-arrow:hover:before {color: black;}#sk-container-id-1 div.sk-estimator:hover label.sk-toggleable__label-arrow:before {color: black;}#sk-container-id-1 div.sk-toggleable__content {max-height: 0;max-width: 0;overflow: hidden;text-align: left;background-color: #f0f8ff;}#sk-container-id-1 div.sk-toggleable__content pre {margin: 0.2em;color: black;border-radius: 0.25em;background-color: #f0f8ff;}#sk-container-id-1 input.sk-toggleable__control:checked~div.sk-toggleable__content {max-height: 200px;max-width: 100%;overflow: auto;}#sk-container-id-1 input.sk-toggleable__control:checked~label.sk-toggleable__label-arrow:before {content: \"▾\";}#sk-container-id-1 div.sk-estimator input.sk-toggleable__control:checked~label.sk-toggleable__label {background-color: #d4ebff;}#sk-container-id-1 div.sk-label input.sk-toggleable__control:checked~label.sk-toggleable__label {background-color: #d4ebff;}#sk-container-id-1 input.sk-hidden--visually {border: 0;clip: rect(1px 1px 1px 1px);clip: rect(1px, 1px, 1px, 1px);height: 1px;margin: -1px;overflow: hidden;padding: 0;position: absolute;width: 1px;}#sk-container-id-1 div.sk-estimator {font-family: monospace;background-color: #f0f8ff;border: 1px dotted black;border-radius: 0.25em;box-sizing: border-box;margin-bottom: 0.5em;}#sk-container-id-1 div.sk-estimator:hover {background-color: #d4ebff;}#sk-container-id-1 div.sk-parallel-item::after {content: \"\";width: 100%;border-bottom: 1px solid gray;flex-grow: 1;}#sk-container-id-1 div.sk-label:hover label.sk-toggleable__label {background-color: #d4ebff;}#sk-container-id-1 div.sk-serial::before {content: \"\";position: absolute;border-left: 1px solid gray;box-sizing: border-box;top: 0;bottom: 0;left: 50%;z-index: 0;}#sk-container-id-1 div.sk-serial {display: flex;flex-direction: column;align-items: center;background-color: white;padding-right: 0.2em;padding-left: 0.2em;position: relative;}#sk-container-id-1 div.sk-item {position: relative;z-index: 1;}#sk-container-id-1 div.sk-parallel {display: flex;align-items: stretch;justify-content: center;background-color: white;position: relative;}#sk-container-id-1 div.sk-item::before, #sk-container-id-1 div.sk-parallel-item::before {content: \"\";position: absolute;border-left: 1px solid gray;box-sizing: border-box;top: 0;bottom: 0;left: 50%;z-index: -1;}#sk-container-id-1 div.sk-parallel-item {display: flex;flex-direction: column;z-index: 1;position: relative;background-color: white;}#sk-container-id-1 div.sk-parallel-item:first-child::after {align-self: flex-end;width: 50%;}#sk-container-id-1 div.sk-parallel-item:last-child::after {align-self: flex-start;width: 50%;}#sk-container-id-1 div.sk-parallel-item:only-child::after {width: 0;}#sk-container-id-1 div.sk-dashed-wrapped {border: 1px dashed gray;margin: 0 0.4em 0.5em 0.4em;box-sizing: border-box;padding-bottom: 0.4em;background-color: white;}#sk-container-id-1 div.sk-label label {font-family: monospace;font-weight: bold;display: inline-block;line-height: 1.2em;}#sk-container-id-1 div.sk-label-container {text-align: center;}#sk-container-id-1 div.sk-container {/* jupyter's `normalize.less` sets `[hidden] { display: none; }` but bootstrap.min.css set `[hidden] { display: none !important; }` so we also need the `!important` here to be able to override the default hidden behavior on the sphinx rendered scikit-learn.org. See: https://github.com/scikit-learn/scikit-learn/issues/21755 */display: inline-block !important;position: relative;}#sk-container-id-1 div.sk-text-repr-fallback {display: none;}</style><div id=\"sk-container-id-1\" class=\"sk-top-container\"><div class=\"sk-text-repr-fallback\"><pre>LatentDirichletAllocation(learning_offset=50.0, max_iter=50, n_components=30,\n",
              "                          random_state=0)</pre><b>In a Jupyter environment, please rerun this cell to show the HTML representation or trust the notebook. <br />On GitHub, the HTML representation is unable to render, please try loading this page with nbviewer.org.</b></div><div class=\"sk-container\" hidden><div class=\"sk-item\"><div class=\"sk-estimator sk-toggleable\"><input class=\"sk-toggleable__control sk-hidden--visually\" id=\"sk-estimator-id-1\" type=\"checkbox\" checked><label for=\"sk-estimator-id-1\" class=\"sk-toggleable__label sk-toggleable__label-arrow\">LatentDirichletAllocation</label><div class=\"sk-toggleable__content\"><pre>LatentDirichletAllocation(learning_offset=50.0, max_iter=50, n_components=30,\n",
              "                          random_state=0)</pre></div></div></div></div></div>"
            ]
          },
          "metadata": {},
          "execution_count": 18
        }
      ]
    },
    {
      "cell_type": "code",
      "source": [
        "import numpy as np\n",
        "from numpy import argsort\n",
        "import statistics\n",
        "from statistics import mode\n",
        "from scipy.special import logsumexp\n",
        "import scipy as sp"
      ],
      "metadata": {
        "id": "Ka3t_6Rt4ns3"
      },
      "execution_count": 19,
      "outputs": []
    },
    {
      "cell_type": "markdown",
      "source": [
        "# Bases nuevas"
      ],
      "metadata": {
        "id": "cpQy_8QjSgvz"
      }
    },
    {
      "cell_type": "code",
      "source": [
        "disc_weights=matrix*lda.components_.transpose()\n",
        "disc_weights.shape"
      ],
      "metadata": {
        "id": "CyL84LHbSiGT",
        "outputId": "cebe4af9-f54e-4efc-d8e8-ca5a68072529",
        "colab": {
          "base_uri": "https://localhost:8080/"
        }
      },
      "execution_count": 20,
      "outputs": [
        {
          "output_type": "execute_result",
          "data": {
            "text/plain": [
              "(447525, 30)"
            ]
          },
          "metadata": {},
          "execution_count": 20
        }
      ]
    },
    {
      "cell_type": "code",
      "source": [
        "base[['apellido', 'nombre']] =base.namey.str.split(', ', expand=True)"
      ],
      "metadata": {
        "id": "IaKWbg5uDrUu"
      },
      "execution_count": 21,
      "outputs": []
    },
    {
      "cell_type": "code",
      "source": [
        "column_names = [str(i) for i in range(1, 31)]\n",
        "\n",
        "df_weights = pd.DataFrame(disc_weights, columns=column_names)\n",
        "\n",
        "select=[ 'fecha', 'apellido', 'nombre' , 'intervention'\t, 'partido', 'role']\n",
        "df_weights = pd.concat([base[select], df_weights], axis=1)"
      ],
      "metadata": {
        "id": "Y3nOw3opSjjU"
      },
      "execution_count": 22,
      "outputs": []
    },
    {
      "cell_type": "code",
      "source": [
        "df_weights.to_csv('df_weights.csv')"
      ],
      "metadata": {
        "id": "UdfQR9URSl1Z"
      },
      "execution_count": 23,
      "outputs": []
    },
    {
      "cell_type": "code",
      "source": [
        "import scipy as sp\n",
        "from scipy.special import logsumexp\n",
        "\n",
        "def frex(mod, w=0.7):\n",
        "    log_beta = np.log(mod.components_)\n",
        "    log_exclusivity = log_beta - logsumexp(log_beta, axis=0)\n",
        "    exclusivity_ecdf = np.apply_along_axis(ecdf, 1, log_exclusivity)\n",
        "    freq_ecdf = np.apply_along_axis(ecdf, 1, log_beta)\n",
        "    out = 1. / (w / exclusivity_ecdf + (1 - w) / freq_ecdf)\n",
        "    return out\n",
        "\n",
        "def ecdf(arr):\n",
        "    return sp.stats.rankdata(arr, method='max') / arr.size"
      ],
      "metadata": {
        "id": "FVcXsvhPSm8v"
      },
      "execution_count": 24,
      "outputs": []
    },
    {
      "cell_type": "code",
      "source": [
        "frex_df=pd.DataFrame(frex(lda))\n",
        "disc_frex=matrix*frex_df.transpose()"
      ],
      "metadata": {
        "id": "unyOzNNxSpnS"
      },
      "execution_count": 25,
      "outputs": []
    },
    {
      "cell_type": "code",
      "source": [
        "df_frex = pd.DataFrame(disc_weights, columns=column_names)\n",
        "\n",
        "select=[ 'fecha', 'apellido', 'nombre' , 'intervention'\t, 'partido', 'role']\n",
        "df_frex = pd.concat([base[select], df_frex], axis=1)\n",
        "\n",
        "\n",
        "df_frex.to_csv('df_frex.csv')"
      ],
      "metadata": {
        "id": "1wGjWkerSq3w"
      },
      "execution_count": 26,
      "outputs": []
    },
    {
      "cell_type": "markdown",
      "source": [
        "# Topics por weights"
      ],
      "metadata": {
        "id": "pPi0u9Vs2__N"
      }
    },
    {
      "cell_type": "code",
      "source": [
        "disc_weights=matrix*lda.components_.transpose()"
      ],
      "metadata": {
        "id": "wuZwn2t22_S3"
      },
      "execution_count": 27,
      "outputs": []
    },
    {
      "cell_type": "code",
      "source": [
        "base['Topic_weight']=disc_weights.argmax(axis=1)+1"
      ],
      "metadata": {
        "id": "v5olK9E54dWs"
      },
      "execution_count": 28,
      "outputs": []
    },
    {
      "cell_type": "code",
      "source": [
        "base.fecha=pd.to_datetime(base.fecha, infer_datetime_format=True)"
      ],
      "metadata": {
        "id": "xFWRKyXb-9PI"
      },
      "execution_count": 29,
      "outputs": []
    },
    {
      "cell_type": "code",
      "source": [
        "# Por LEGISLATURA por WEIGHTS\n",
        "legislaturas=['I', 'II', 'III', 'IV', 'V', 'VI', 'VII','VIII', 'IX', 'X', 'XI', 'XII','XIII']\n",
        "topics_por_legislatura=pd.DataFrame()\n",
        "for x in legislaturas:\n",
        "  base_legislatura=base[base.legislatura==x]\n",
        "  topics_por_legislatura[x]=base_legislatura['Topic_weight'].value_counts().sort_index()/base_legislatura['Topic_weight'].value_counts().sort_index().sum()\n",
        "topics_por_legislatura.to_csv('topics_por_legislatura_por_weights.csv')"
      ],
      "metadata": {
        "id": "ibnmT6C08Aio"
      },
      "execution_count": 30,
      "outputs": []
    },
    {
      "cell_type": "code",
      "source": [
        "# Por AÑO por weights\n",
        "topics_por_año=pd.DataFrame()\n",
        "for x in range (1979, 2020):\n",
        "  base_year=base[pd.DatetimeIndex(base.fecha).year==x]\n",
        "  topics_por_año[x]=base_year['Topic_weight'].value_counts().sort_index()/base_year['Topic_weight'].value_counts().sort_index().sum()\n",
        "topics_por_año.to_csv('topics_por_año_por_weights.csv')"
      ],
      "metadata": {
        "id": "FP85kg4w8TD7"
      },
      "execution_count": 31,
      "outputs": []
    },
    {
      "cell_type": "markdown",
      "source": [
        "# FREX"
      ],
      "metadata": {
        "id": "nqYeg_ip6kKW"
      }
    },
    {
      "cell_type": "code",
      "source": [
        "def frex(mod, w=0.7):\n",
        "    log_beta = np.log(mod.components_)\n",
        "    log_exclusivity = log_beta - logsumexp(log_beta, axis=0)\n",
        "    exclusivity_ecdf = np.apply_along_axis(ecdf, 1, log_exclusivity)\n",
        "    freq_ecdf = np.apply_along_axis(ecdf, 1, log_beta)\n",
        "    out = 1. / (w / exclusivity_ecdf + (1 - w) / freq_ecdf)\n",
        "    return out\n",
        "\n",
        "def ecdf(arr):\n",
        "    return sp.stats.rankdata(arr, method='max') / arr.size\n",
        "\n",
        "def t_FREX(row):\n",
        "  return frex_df[matrix[row['id']].argmax()].argsort()[9]"
      ],
      "metadata": {
        "id": "opW4qtxs4jwI"
      },
      "execution_count": 32,
      "outputs": []
    },
    {
      "cell_type": "code",
      "source": [
        "frex_df=pd.DataFrame(frex(lda))"
      ],
      "metadata": {
        "id": "nCdMHn7m7TR_"
      },
      "execution_count": 33,
      "outputs": []
    },
    {
      "cell_type": "code",
      "source": [
        "# Se crea una columna con el topic que se asigna por frex a cada discurso de la base\n",
        "base['id']=range(0,len(base))\n",
        "base['Topic_FREX']=base.apply (lambda row: t_FREX(row), axis=1)+1"
      ],
      "metadata": {
        "id": "39ai_N8J7YHb"
      },
      "execution_count": 34,
      "outputs": []
    },
    {
      "cell_type": "code",
      "source": [
        "# Por LEGISLATURA por FREX\n",
        "legislaturas=['I', 'II', 'III', 'IV', 'V', 'VI', 'VII','VIII', 'IX', 'X', 'XI', 'XII','XIII']\n",
        "topics_por_legislatura=pd.DataFrame()\n",
        "for x in legislaturas:\n",
        "  base_legislatura=base[base.legislatura==x]\n",
        "  topics_por_legislatura[x]=base_legislatura['Topic_FREX'].value_counts().sort_index()/base_legislatura['Topic_FREX'].value_counts().sort_index().sum()\n",
        "topics_por_legislatura.to_csv('topics_por_legislatura_por_frex.csv')"
      ],
      "metadata": {
        "id": "LxIdy9yS_hmD"
      },
      "execution_count": 35,
      "outputs": []
    },
    {
      "cell_type": "code",
      "source": [
        "# Por AÑO por FREX\n",
        "topics_por_año=pd.DataFrame()\n",
        "for x in range (1979, 2020):\n",
        "  base_year=base[pd.DatetimeIndex(base.fecha).year==x]\n",
        "  topics_por_año[x]=base_year['Topic_FREX'].value_counts().sort_index()/base_year['Topic_FREX'].value_counts().sort_index().sum()\n",
        "topics_por_año.to_csv('topics_por_año_por_frex.csv')"
      ],
      "metadata": {
        "id": "2Y7uEKEL_qCo"
      },
      "execution_count": 36,
      "outputs": []
    },
    {
      "cell_type": "markdown",
      "source": [
        "# Bigramas por weights"
      ],
      "metadata": {
        "id": "P0GTL-2pWXmF"
      }
    },
    {
      "cell_type": "code",
      "source": [
        "bigramas=pd.DataFrame()\n",
        "feature_names=vect.get_feature_names_out()\n",
        "no_top_words=20\n",
        "for topic_idx, topic in enumerate(lda.components_):\n",
        "  bigramas[\"Topic %d:\" % (topic_idx + 1)]=[feature_names[i] for i in topic.argsort()[:-no_top_words - 1:-1]]"
      ],
      "metadata": {
        "id": "p0seVyONXtTG"
      },
      "execution_count": 37,
      "outputs": []
    },
    {
      "cell_type": "code",
      "source": [
        "bigramas.to_csv('bigramas_por_weights_30topics.csv')"
      ],
      "metadata": {
        "id": "_ZWDdtUaYf79"
      },
      "execution_count": 38,
      "outputs": []
    },
    {
      "cell_type": "markdown",
      "source": [
        "# Bigramas por frex"
      ],
      "metadata": {
        "id": "GK1BTUXxm047"
      }
    },
    {
      "cell_type": "code",
      "source": [
        "\"Topic %d:\" % (topic_idx + 1)\n",
        "for topic_idx, topic in enumerate(frex(lda)):\n",
        "  bigramas[\"Topic %d:\" % (topic_idx + 1)]=[feature_names[i] for i in topic.argsort()[:-no_top_words - 1:-1]]"
      ],
      "metadata": {
        "id": "ahCMverxaAay"
      },
      "execution_count": 39,
      "outputs": []
    },
    {
      "cell_type": "code",
      "source": [
        "bigramas.to_csv('bigramas_por_frex_30topics.csv')"
      ],
      "metadata": {
        "id": "bHwC8aO2eO-R"
      },
      "execution_count": 40,
      "outputs": []
    },
    {
      "cell_type": "markdown",
      "source": [
        "# Bigramas para 10 Topics"
      ],
      "metadata": {
        "id": "jPBncuy4ecm9"
      }
    },
    {
      "cell_type": "code",
      "source": [
        "# Esta celda tarda unos 25 minutos en correr\n",
        "from sklearn.decomposition import LatentDirichletAllocation\n",
        "lda = LatentDirichletAllocation(n_components=10, max_iter=50, learning_method='batch', learning_offset=50.,random_state=0)\n",
        "lda.fit(matrix)"
      ],
      "metadata": {
        "colab": {
          "base_uri": "https://localhost:8080/",
          "height": 75
        },
        "id": "vV7CmRnrecDR",
        "outputId": "b09862dc-7c23-454d-8eef-a56d6ac48e26"
      },
      "execution_count": 41,
      "outputs": [
        {
          "output_type": "execute_result",
          "data": {
            "text/plain": [
              "LatentDirichletAllocation(learning_offset=50.0, max_iter=50, random_state=0)"
            ],
            "text/html": [
              "<style>#sk-container-id-2 {color: black;background-color: white;}#sk-container-id-2 pre{padding: 0;}#sk-container-id-2 div.sk-toggleable {background-color: white;}#sk-container-id-2 label.sk-toggleable__label {cursor: pointer;display: block;width: 100%;margin-bottom: 0;padding: 0.3em;box-sizing: border-box;text-align: center;}#sk-container-id-2 label.sk-toggleable__label-arrow:before {content: \"▸\";float: left;margin-right: 0.25em;color: #696969;}#sk-container-id-2 label.sk-toggleable__label-arrow:hover:before {color: black;}#sk-container-id-2 div.sk-estimator:hover label.sk-toggleable__label-arrow:before {color: black;}#sk-container-id-2 div.sk-toggleable__content {max-height: 0;max-width: 0;overflow: hidden;text-align: left;background-color: #f0f8ff;}#sk-container-id-2 div.sk-toggleable__content pre {margin: 0.2em;color: black;border-radius: 0.25em;background-color: #f0f8ff;}#sk-container-id-2 input.sk-toggleable__control:checked~div.sk-toggleable__content {max-height: 200px;max-width: 100%;overflow: auto;}#sk-container-id-2 input.sk-toggleable__control:checked~label.sk-toggleable__label-arrow:before {content: \"▾\";}#sk-container-id-2 div.sk-estimator input.sk-toggleable__control:checked~label.sk-toggleable__label {background-color: #d4ebff;}#sk-container-id-2 div.sk-label input.sk-toggleable__control:checked~label.sk-toggleable__label {background-color: #d4ebff;}#sk-container-id-2 input.sk-hidden--visually {border: 0;clip: rect(1px 1px 1px 1px);clip: rect(1px, 1px, 1px, 1px);height: 1px;margin: -1px;overflow: hidden;padding: 0;position: absolute;width: 1px;}#sk-container-id-2 div.sk-estimator {font-family: monospace;background-color: #f0f8ff;border: 1px dotted black;border-radius: 0.25em;box-sizing: border-box;margin-bottom: 0.5em;}#sk-container-id-2 div.sk-estimator:hover {background-color: #d4ebff;}#sk-container-id-2 div.sk-parallel-item::after {content: \"\";width: 100%;border-bottom: 1px solid gray;flex-grow: 1;}#sk-container-id-2 div.sk-label:hover label.sk-toggleable__label {background-color: #d4ebff;}#sk-container-id-2 div.sk-serial::before {content: \"\";position: absolute;border-left: 1px solid gray;box-sizing: border-box;top: 0;bottom: 0;left: 50%;z-index: 0;}#sk-container-id-2 div.sk-serial {display: flex;flex-direction: column;align-items: center;background-color: white;padding-right: 0.2em;padding-left: 0.2em;position: relative;}#sk-container-id-2 div.sk-item {position: relative;z-index: 1;}#sk-container-id-2 div.sk-parallel {display: flex;align-items: stretch;justify-content: center;background-color: white;position: relative;}#sk-container-id-2 div.sk-item::before, #sk-container-id-2 div.sk-parallel-item::before {content: \"\";position: absolute;border-left: 1px solid gray;box-sizing: border-box;top: 0;bottom: 0;left: 50%;z-index: -1;}#sk-container-id-2 div.sk-parallel-item {display: flex;flex-direction: column;z-index: 1;position: relative;background-color: white;}#sk-container-id-2 div.sk-parallel-item:first-child::after {align-self: flex-end;width: 50%;}#sk-container-id-2 div.sk-parallel-item:last-child::after {align-self: flex-start;width: 50%;}#sk-container-id-2 div.sk-parallel-item:only-child::after {width: 0;}#sk-container-id-2 div.sk-dashed-wrapped {border: 1px dashed gray;margin: 0 0.4em 0.5em 0.4em;box-sizing: border-box;padding-bottom: 0.4em;background-color: white;}#sk-container-id-2 div.sk-label label {font-family: monospace;font-weight: bold;display: inline-block;line-height: 1.2em;}#sk-container-id-2 div.sk-label-container {text-align: center;}#sk-container-id-2 div.sk-container {/* jupyter's `normalize.less` sets `[hidden] { display: none; }` but bootstrap.min.css set `[hidden] { display: none !important; }` so we also need the `!important` here to be able to override the default hidden behavior on the sphinx rendered scikit-learn.org. See: https://github.com/scikit-learn/scikit-learn/issues/21755 */display: inline-block !important;position: relative;}#sk-container-id-2 div.sk-text-repr-fallback {display: none;}</style><div id=\"sk-container-id-2\" class=\"sk-top-container\"><div class=\"sk-text-repr-fallback\"><pre>LatentDirichletAllocation(learning_offset=50.0, max_iter=50, random_state=0)</pre><b>In a Jupyter environment, please rerun this cell to show the HTML representation or trust the notebook. <br />On GitHub, the HTML representation is unable to render, please try loading this page with nbviewer.org.</b></div><div class=\"sk-container\" hidden><div class=\"sk-item\"><div class=\"sk-estimator sk-toggleable\"><input class=\"sk-toggleable__control sk-hidden--visually\" id=\"sk-estimator-id-2\" type=\"checkbox\" checked><label for=\"sk-estimator-id-2\" class=\"sk-toggleable__label sk-toggleable__label-arrow\">LatentDirichletAllocation</label><div class=\"sk-toggleable__content\"><pre>LatentDirichletAllocation(learning_offset=50.0, max_iter=50, random_state=0)</pre></div></div></div></div></div>"
            ]
          },
          "metadata": {},
          "execution_count": 41
        }
      ]
    },
    {
      "cell_type": "code",
      "source": [
        "bigramas=pd.DataFrame()\n",
        "feature_names=vect.get_feature_names_out()\n",
        "no_top_words=20\n",
        "for topic_idx, topic in enumerate(lda.components_):\n",
        "  bigramas[\"Topic %d:\" % (topic_idx + 1)]=[feature_names[i] for i in topic.argsort()[:-no_top_words - 1:-1]]"
      ],
      "metadata": {
        "id": "J6uh66frehCF"
      },
      "execution_count": 42,
      "outputs": []
    },
    {
      "cell_type": "code",
      "source": [
        "bigramas.to_csv('bigramas_por_weights_10topics.csv')"
      ],
      "metadata": {
        "id": "4mPdtNjUehCF"
      },
      "execution_count": 43,
      "outputs": []
    },
    {
      "cell_type": "code",
      "source": [
        "\"Topic %d:\" % (topic_idx + 1)\n",
        "for topic_idx, topic in enumerate(frex(lda)):\n",
        "  bigramas[\"Topic %d:\" % (topic_idx + 1)]=[feature_names[i] for i in topic.argsort()[:-no_top_words - 1:-1]]"
      ],
      "metadata": {
        "id": "v3rfzoYfehCF"
      },
      "execution_count": 44,
      "outputs": []
    },
    {
      "cell_type": "code",
      "source": [
        "bigramas.to_csv('bigramas_por_frex_10topics.csv')"
      ],
      "metadata": {
        "id": "bZOM9hVhehCG"
      },
      "execution_count": 45,
      "outputs": []
    },
    {
      "cell_type": "markdown",
      "source": [
        "# Bajada"
      ],
      "metadata": {
        "id": "oFAa9YeIGUt6"
      }
    },
    {
      "cell_type": "code",
      "source": [
        "from google.colab import files\n",
        "files.download('df_weights.csv')\n",
        "files.download('df_frex.csv')\n",
        "files.download('topics_por_año_por_weights.csv')\n",
        "files.download('topics_por_legislatura_por_weights.csv')\n",
        "files.download('topics_por_año_por_frex.csv')\n",
        "files.download('topics_por_legislatura_por_frex.csv')\n",
        "files.download('bigramas_por_weights_30topics.csv')\n",
        "files.download('bigramas_por_frex_30topics.csv')\n",
        "files.download('bigramas_por_frex_10topics.csv')"
      ],
      "metadata": {
        "id": "IDj3M-LKIav_"
      },
      "execution_count": null,
      "outputs": []
    }
  ]
}