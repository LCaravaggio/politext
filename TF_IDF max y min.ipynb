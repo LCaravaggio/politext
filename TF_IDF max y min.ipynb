{
  "nbformat": 4,
  "nbformat_minor": 0,
  "metadata": {
    "colab": {
      "provenance": [],
      "authorship_tag": "ABX9TyMmyRdrikb6d0gZgzPH5XdS",
      "include_colab_link": true
    },
    "kernelspec": {
      "name": "python3",
      "display_name": "Python 3"
    },
    "language_info": {
      "name": "python"
    }
  },
  "cells": [
    {
      "cell_type": "markdown",
      "metadata": {
        "id": "view-in-github",
        "colab_type": "text"
      },
      "source": [
        "<a href=\"https://colab.research.google.com/github/LCaravaggio/politext/blob/main/TF_IDF%20max%20y%20min.ipynb\" target=\"_parent\"><img src=\"https://colab.research.google.com/assets/colab-badge.svg\" alt=\"Open In Colab\"/></a>"
      ]
    },
    {
      "cell_type": "markdown",
      "source": [
        "# Cargar la base"
      ],
      "metadata": {
        "id": "3bR6IbjGTqyw"
      }
    },
    {
      "cell_type": "code",
      "source": [
        "from google.colab import drive\n",
        "drive.mount('/content/drive')"
      ],
      "metadata": {
        "colab": {
          "base_uri": "https://localhost:8080/"
        },
        "id": "1d3u68qTTy95",
        "outputId": "ea3d25e1-e07f-4005-d583-700ece31e91a"
      },
      "execution_count": 1,
      "outputs": [
        {
          "output_type": "stream",
          "name": "stdout",
          "text": [
            "Mounted at /content/drive\n"
          ]
        }
      ]
    },
    {
      "cell_type": "code",
      "source": [
        "import pandas as pd\n",
        "base=pd.read_csv('/content/drive/MyDrive/base_formateada.csv')"
      ],
      "metadata": {
        "id": "a4Y2nh_NT6vv",
        "colab": {
          "base_uri": "https://localhost:8080/"
        },
        "outputId": "860c7f5d-e2bd-496c-9b68-ca849c3bd384"
      },
      "execution_count": 2,
      "outputs": [
        {
          "output_type": "stream",
          "name": "stderr",
          "text": [
            "/usr/local/lib/python3.8/dist-packages/IPython/core/interactiveshell.py:3326: DtypeWarning: Columns (18) have mixed types.Specify dtype option on import or set low_memory=False.\n",
            "  exec(code_obj, self.user_global_ns, self.user_ns)\n"
          ]
        }
      ]
    },
    {
      "cell_type": "code",
      "source": [
        "import nltk\n",
        "nltk.download('stopwords')\n",
        "from nltk.corpus import stopwords\n",
        "stopwords=stopwords.words('spanish')"
      ],
      "metadata": {
        "colab": {
          "base_uri": "https://localhost:8080/"
        },
        "id": "vG2Zxxq3UvyZ",
        "outputId": "26ab4430-aec2-409c-d970-9213ffd8bf94"
      },
      "execution_count": 3,
      "outputs": [
        {
          "output_type": "stream",
          "name": "stderr",
          "text": [
            "[nltk_data] Downloading package stopwords to /root/nltk_data...\n",
            "[nltk_data]   Unzipping corpora/stopwords.zip.\n"
          ]
        }
      ]
    },
    {
      "cell_type": "code",
      "source": [
        "# Se incorporan las stopwords sugeridas por Federico\n",
        "stopwords.extend(['señor', 'señora', 'mucha', 'gracia', 'año', 'pasado', 'cada', 'vez', 'uno', 'dos', 'tres', 'cuatro', 'cinco', 'seis' ,'siete', 'ocho', 'nueve', 'diez'])\n",
        "stopwords.extend(['hoy', 'aquí', 'primer', 'lugar', 'primera', 'segunda', 'primero', 'segundo', 'siguiente', 'tercer'])\n",
        "stopwords.extend(['convergencia', 'esquerra', 'republicana', 'grupo', 'parlamentaria', 'parlamentario', 'partido'])\n",
        "stopwords.extend(['enmienda', 'votación', 'favor', 'abstención', 'ley', 'real', 'decreto', 'decretoley', 'resultado', 'voto', 'sé' ,'sí', 'silencio' ,'favor'])\n",
        "stopwords.extend(['usted', 'señoría', 'presidente', 'presidenta', 'ministro', 'orden' , 'día', 'palabra', 'petición', 'posición', 'punto', 'vista', 'sesión', 'baldoví', 'duran', 'turno'])\n",
        "stopwords.extend(['hacer', 'frente', 'puede' ,'ser', 'va', 'voy', 'decir'])\n",
        "stopwords.extend(['millón', 'euro', 'emitido', 'efectuada', 'dio', 'comienzo', 'partido', 'queda', 'quedan', 'rechazada', 'aceptada', 'comienza', 'usted', 'sabe', 'abstención', 'diputado', 'gobierno'])\n",
        "stopwords.extend(['continuación', 'votamos', 'telemático', 'republicanaizquierda', 'unidainiciativa', 'puede', 'bien', 'propuesta' ,'abstencion', 'mayoría', 'absoluta', 'pregunta', 'don', 'vamos', 'votar', 'llevar', 'cabo', 'millón', 'muchas', 'gracias'])"
      ],
      "metadata": {
        "id": "D34MOjAhUx_a"
      },
      "execution_count": 4,
      "outputs": []
    },
    {
      "cell_type": "code",
      "source": [
        "# Se incorporan los nombres de los oradores como stopwords\n",
        "from collections import Counter\n",
        "nombres=[]\n",
        "for i in base.namey.unique().tolist(): nombres.extend(str(i).split(' '))\n",
        "nombres = [x.strip(' ') for x in nombres]\n",
        "nombres = [x.strip(' †') for x in nombres]\n",
        "nombres = [x.strip(',') for x in nombres]\n",
        "nombres=list(Counter(nombres))\n",
        "nombres.remove('')"
      ],
      "metadata": {
        "id": "yRV1LnZ51Z8_"
      },
      "execution_count": 5,
      "outputs": []
    },
    {
      "cell_type": "code",
      "source": [
        "stopwords.extend(nombres)"
      ],
      "metadata": {
        "id": "h_aUXBkoJTLY"
      },
      "execution_count": 6,
      "outputs": []
    },
    {
      "cell_type": "code",
      "source": [
        "partidos=pd.read_csv('/content/drive/MyDrive/partidos.csv', encoding='latin1', sep=';')"
      ],
      "metadata": {
        "id": "gVO9-cRc2C2h"
      },
      "execution_count": 7,
      "outputs": []
    },
    {
      "cell_type": "code",
      "source": [
        "stopwords.extend(partidos['nombre'].unique())\n",
        "stopwords.extend(partidos['1'].unique())\n",
        "stopwords.extend(partidos['2'].unique())\n",
        "stopwords.extend(partidos['3'].unique())"
      ],
      "metadata": {
        "id": "JRe_Lrv02rRQ"
      },
      "execution_count": 8,
      "outputs": []
    },
    {
      "cell_type": "code",
      "source": [
        "len(stopwords)"
      ],
      "metadata": {
        "id": "PcvgCNO-OI4Z",
        "outputId": "4ad2139e-4e02-43f0-b01c-5b7d7324f987",
        "colab": {
          "base_uri": "https://localhost:8080/"
        }
      },
      "execution_count": 9,
      "outputs": [
        {
          "output_type": "execute_result",
          "data": {
            "text/plain": [
              "2483"
            ]
          },
          "metadata": {},
          "execution_count": 9
        }
      ]
    },
    {
      "cell_type": "code",
      "source": [
        "# elimino acentos de los tokens\n",
        "a,b = 'áéèíóúü','aeeiouu'\n",
        "trans = str.maketrans(a,b)\n",
        "list = []\n",
        "for row in base.values:\n",
        "    row[20]=row[20].translate(trans)\n",
        "    list.append(row)\n",
        "\n",
        "base = pd.DataFrame(list, columns=base.columns)"
      ],
      "metadata": {
        "id": "GK3XARpY5oxs"
      },
      "execution_count": 20,
      "outputs": []
    },
    {
      "cell_type": "code",
      "source": [
        "# llevo las stopwords a minúsculas y elimino acentos\n",
        "stopwords=[x.lower() for x in stopwords if type(x)==str]\n",
        "stopwords=[x.translate(trans) for x in stopwords if type(x)==str]"
      ],
      "metadata": {
        "id": "v7Y9F24w5q_f"
      },
      "execution_count": 21,
      "outputs": []
    },
    {
      "cell_type": "markdown",
      "source": [
        "# TF-IDF"
      ],
      "metadata": {
        "id": "6-0E1R8iJtL7"
      }
    },
    {
      "cell_type": "code",
      "source": [
        "# Oldstyle\n",
        "# Recorta los bigramas que aparecen en más que el 90% de los discursos y en menos que 0.001% de los discursos. \n",
        "# Esto genera un vocabulario de 900mil bigramas\n",
        "\n",
        "from sklearn.feature_extraction.text import TfidfVectorizer\n",
        "vect = TfidfVectorizer(ngram_range=[2,2], stop_words=stopwords , max_df=0.90, min_df=0.00001)\n",
        "bow = vect.fit_transform(base['tokens'])\n",
        "total_features = len(vect.vocabulary_)"
      ],
      "metadata": {
        "id": "EZeRCYHmJuqL",
        "outputId": "1ff9b184-b293-4773-c830-a64f0fe5e225",
        "colab": {
          "base_uri": "https://localhost:8080/"
        }
      },
      "execution_count": 22,
      "outputs": [
        {
          "output_type": "stream",
          "name": "stderr",
          "text": [
            "/usr/local/lib/python3.8/dist-packages/sklearn/feature_extraction/text.py:396: UserWarning: Your stop_words may be inconsistent with your preprocessing. Tokenizing the stop words generated tokens ['accion', 'ahuja', 'alcañiz', 'alderdi', 'alianza', 'alkartasuna', 'alternativa', 'amor', 'aragonesista', 'arreciado', 'asturias', 'barcena', 'barnuevo', 'bloque', 'canaria', 'canarias', 'canario', 'cantabria', 'capel', 'capitan', 'caralunya', 'cascos', 'castejon', 'catalunya', 'cataluña', 'centristas', 'centro', 'chunta', 'cienfuegos', 'ciudadana', 'ciudadania', 'ciudadanos', 'coalicion', 'compromis', 'comu', 'comun', 'comunista', 'congr', 'cristiana', 'democracia', 'democrata', 'democratas', 'democratica', 'democratico', 'democràtica', 'demòcrates', 'escandon', 'español', 'española', 'estefani', 'euskadi', 'euskadiko', 'euskal', 'eusko', 'euzko', 'existe', 'ezkerra', 'figueroa', 'foro', 'fortun', 'galego', 'galicia', 'geroa', 'herreria', 'hickman', 'huarte', 'independentista', 'iniciativa', 'izquierda', 'jeltzalea', 'jovellanos', 'junts', 'lasquetty', 'latorre', 'legaz', 'lersundi', 'liberal', 'llin', 'machuca', 'maillo', 'mancisidor', 'marea', 'margallo', 'maribona', 'marlaska', 'medel', 'menchero', 'mendicoa', 'na', 'nacionalista', 'navarra', 'nueva', 'obrero', 'olivares', 'pais', 'partit', 'patxi', 'peces', 'pedrero', 'per', 'pinilla', 'piñero', 'poble', 'podem', 'ponga', 'popular', 'progreso', 'pueblo', 'pujalte', 'reagrupament', 'regionalista', 'salmones', 'santesmases', 'sito', 'social', 'socialista', 'socialistas', 'socialverdes', 'soro', 'sotelo', 'suma', 'tagle', 'taldea', 'teruel', 'tesorero', 'tizon', 'toledano', 'torrecilla', 'trevijano', 'unida', 'unidad', 'unificado', 'unio', 'union', 'valdecasas', 'valdes', 'valenciana', 'valencià', 'vargas', 'vasco', 'verdes', 'verds', 'villaseñor', 'ximo', 'yañez'] not in stop_words.\n",
            "  warnings.warn(\n"
          ]
        }
      ]
    },
    {
      "cell_type": "code",
      "source": [
        "total_features"
      ],
      "metadata": {
        "id": "9kQ1WdWHLUln",
        "colab": {
          "base_uri": "https://localhost:8080/"
        },
        "outputId": "428c28b4-d83b-4ae0-9918-c3da968c3f54"
      },
      "execution_count": 23,
      "outputs": [
        {
          "output_type": "execute_result",
          "data": {
            "text/plain": [
              "880540"
            ]
          },
          "metadata": {},
          "execution_count": 23
        }
      ]
    },
    {
      "cell_type": "code",
      "source": [
        "matrix = vect.transform(base['tokens'])"
      ],
      "metadata": {
        "id": "iv1xCHcAMjGc"
      },
      "execution_count": 24,
      "outputs": []
    },
    {
      "cell_type": "code",
      "source": [
        "matrix.shape"
      ],
      "metadata": {
        "id": "90gruQRLMoeN",
        "colab": {
          "base_uri": "https://localhost:8080/"
        },
        "outputId": "a7cb6d81-7739-430e-db4c-21e2f20d72a2"
      },
      "execution_count": 25,
      "outputs": [
        {
          "output_type": "execute_result",
          "data": {
            "text/plain": [
              "(334421, 880540)"
            ]
          },
          "metadata": {},
          "execution_count": 25
        }
      ]
    },
    {
      "cell_type": "markdown",
      "source": [
        "# LDA con 10 clusters"
      ],
      "metadata": {
        "id": "cUPM4dCzG-lY"
      }
    },
    {
      "cell_type": "code",
      "source": [
        "from sklearn.decomposition import LatentDirichletAllocation"
      ],
      "metadata": {
        "id": "nrX8JFA8HNjg"
      },
      "execution_count": 26,
      "outputs": []
    },
    {
      "cell_type": "code",
      "source": [
        "# Acá hay un problema porque se sigue usando 10 clusters cuando en realidad habría que chequear el número óptimo de clusters una vez definida la cantidad de bigramas a utilizar. \n",
        "# Sin embargo, Text as data dice que el número de clústers es generalmente arbitrario, y recomienda arrancar probando con 10. \n",
        "lda = LatentDirichletAllocation(n_components=10, max_iter=5, learning_method='online', learning_offset=50.,random_state=0)     "
      ],
      "metadata": {
        "id": "F-6Mmsh8HQLm"
      },
      "execution_count": 27,
      "outputs": []
    },
    {
      "cell_type": "code",
      "source": [
        "lda.fit(matrix)"
      ],
      "metadata": {
        "id": "KMXpBy7-Hn0m",
        "outputId": "65a69a63-e85e-41db-9162-343d171669fd",
        "colab": {
          "base_uri": "https://localhost:8080/"
        }
      },
      "execution_count": 28,
      "outputs": [
        {
          "output_type": "execute_result",
          "data": {
            "text/plain": [
              "LatentDirichletAllocation(learning_method='online', learning_offset=50.0,\n",
              "                          max_iter=5, random_state=0)"
            ]
          },
          "metadata": {},
          "execution_count": 28
        }
      ]
    },
    {
      "cell_type": "code",
      "source": [
        "def display_topics(model, feature_names, no_top_words):\n",
        "    for topic_idx, topic in enumerate(model.components_):\n",
        "        print(\"Topic %d:\" % (topic_idx + 1))\n",
        "        print(\" , \".join([feature_names[i] for i in topic.argsort()[:-no_top_words - 1:-1]]))"
      ],
      "metadata": {
        "id": "b3BMGoEaHrEt"
      },
      "execution_count": 29,
      "outputs": []
    },
    {
      "cell_type": "code",
      "source": [
        "display_topics(lda, feature_names=vect.get_feature_names_out(), no_top_words=20)"
      ],
      "metadata": {
        "id": "cJxdkzWzHsWi",
        "outputId": "e0515fb4-7a48-4fb5-8e95-7bc8fa500be6",
        "colab": {
          "base_uri": "https://localhost:8080/"
        }
      },
      "execution_count": 30,
      "outputs": [
        {
          "output_type": "stream",
          "name": "stdout",
          "text": [
            "Topic 1:\n",
            "fijacion mixto , unido podemosen , confeder unido , llibr popular , seccion relativo , vasco beloki , jane popular , tardà vasco , fijar vasco , ruego continu , jane socialista , guarden adelant , mixto tardà , vasco erkoreka , ciudadano girauta , mixto beitialarrangoitia , llamazar socialista , sixto unio , pesca alimentacion , mixto larreina\n",
            "Topic 2:\n",
            "per catalunya , catalunya verd , izquierda per , vasco azpiazu , fijacion vasco , acabado tiempo , pasamo fijacion , vasco legarda , diputada terminar , fijar mixto , defensa mixto , vasco barandiaran , vasco uria , pasamo numero , mixto jorquera , verd llamazar , izquierda verdeizquierda , vasco robl , verdeizquierda per , mardon vasco\n",
            "Topic 3:\n",
            "diputada doña , toma consideracion , ministra sanidad , formula diputada , sanidad servicio , asunto exterior , defensa formulada , mixto campuzano , ministra defensa , consideracion proposicion , sanidad consumo , vasco sagastizab , sagastizab unzetabarrenetxea , mixto accensi , intervien mixto , dirigida justicia , doña popular , adquirido condicion , condicion plena , pasamo debat\n",
            "Topic 4:\n",
            "ministra adelant , izquierda unida , feder izquierda , acuerd celebracion , celebracion extraordinaria , diputada vicepresidenta , suficient miembro , proyecto procedimiento , permanent pertenecient , campuzano popular , socialista acuerd , mixto acuerd , matut jalon , mardon izquierda , nombr feder , momento guarden , ciudadano mone , ruego termin , ciudadano adelant , tramitacion directa\n",
            "Topic 5:\n",
            "numero formula , vasco olabarria , dirigida ministra , vasco agirretxea , ruego guarden , nombr vasco , dirigida interior , aprobado seccion , unio campuzano , nueva formularla , vergencia unio , socialista simanca , formula doña , ciudadano viva , llamazar unio , acepta presentada , coscubiela unio , ministra replica , xuclà popular , ministra ruego\n",
            "Topic 6:\n",
            "union progreso , progreso democracia , comunidad autonoma , union europea , popular congreso , diputada ministra , seguridad social , administracion publica , aprobada articulo , interpelacion urgent , aprobada resto , medio ambient , ir terminando , servicio social , disposicion adicion , texto dictamen , aprobada numero , hacienda administracion , consecuencia interpelacion , mocion consecuencia\n",
            "Topic 7:\n",
            "vaya concluyendo , podemosen comu , podemen marea , comu podemen , ruego vaya , desean fijar , vaya terminando , momento ruego , vicepresidenta adelant , llibr socialista , fijar nombr , llamazar vasco , marea adelant , mixto roda , mixto quevedo , ciudadano torr , ministra expedient , unio pico , pico socialista , ministra agricultura\n",
            "Topic 8:\n",
            "ruego concluya , coalicion canaria , ir acabando , canaria mardon , tiempo concluido , turismo comercio , deficit publico , economia española , crecimiento economico , economia competitividad , dirigida hacienda , deuda publica , creacion empleo , terminado tiempo , alta velocidad , perdon ruego , deseen fijar , politica economica , fijacion intervien , estabilidad presupuestaria\n",
            "Topic 9:\n",
            "nombr popular , suspend mañana , candidato presidencia , acatar constitucion , nombr ministra , contestar interpelacion , promet acatar , jura promet , dirigida educacion , pasamo interpelacion , trabajo asunto , asunto social , juramento promesa , coalicion canaria , vicepresident tercero , nombr izquierda , pregunto doña , prend prend , aprobada suspend , publica formula\n",
            "Topic 10:\n",
            "izquierda plural , icveuia izquierda , rechazado numero , legarda uriart , aprobado dictamen , tardà coma , plural coscubiela , orama gonzalezmoro , plural llamazar , beitialarrangoitia lizarrald , mixto orama , capella farre , agirretxea urresti , ocupen escaño , consecuencia aprobada , plural centella , gorriaran izquierda , ciuro buldo , adelant ministra , eritja ciuro\n"
          ]
        }
      ]
    }
  ]
}