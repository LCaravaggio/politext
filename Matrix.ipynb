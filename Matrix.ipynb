{
 "cells": [
  {
   "cell_type": "code",
   "execution_count": 1,
   "metadata": {},
   "outputs": [],
   "source": [
    "import pandas as pd\n",
    "import numpy as np\n",
    "import nltk"
   ]
  },
  {
   "cell_type": "code",
   "execution_count": 2,
   "metadata": {},
   "outputs": [],
   "source": [
    "base=pd.read_csv('par_esp_interventions_2.csv')"
   ]
  },
  {
   "cell_type": "code",
   "execution_count": 3,
   "metadata": {},
   "outputs": [
    {
     "data": {
      "text/plain": [
       "817"
      ]
     },
     "execution_count": 3,
     "metadata": {},
     "output_type": "execute_result"
    }
   ],
   "source": [
    "# Cantidad de oradores total\n",
    "len(base['orador.y'].unique())"
   ]
  },
  {
   "cell_type": "code",
   "execution_count": 4,
   "metadata": {},
   "outputs": [
    {
     "name": "stdout",
     "output_type": "stream",
     "text": [
      "94285\n"
     ]
    }
   ],
   "source": [
    "print(np.unique(base.tokens).shape[0])"
   ]
  },
  {
   "cell_type": "code",
   "execution_count": 5,
   "metadata": {},
   "outputs": [
    {
     "data": {
      "text/plain": [
       "\"[('señor', 'president'), ('president', 'junta'), ('junta', 'elector'), ('elector', 'central'), ('central', 'mediant'), ('mediant', 'oficio'), ('oficio', 'marzo'), ('marzo', 'notifica'), ('notifica', 'junta'), ('junta', 'elector'), ('elector', 'central'), ('central', 'tomado'), ('tomado', 'conocimiento'), ('conocimiento', 'comunicación'), ('comunicación', 'remitida'), ('remitida', 'toda'), ('toda', 'junta'), ('junta', 'electoral'), ('electoral', 'provincial'), ('provincial', 'ceuta'), ('ceuta', 'melilla'), ('melilla', 'interpuesto'), ('interpuesto', 'recurso'), ('recurso', 'contenciosoelector'), ('contenciosoelector', 'proclamación'), ('proclamación', 'electo'), ('electo', 'realizada'), ('realizada', 'misma'), ('misma', 'relación'), ('relación', 'eleccion'), ('eleccion', 'congreso'), ('congreso', 'diputado'), ('diputado', 'senado'), ('senado', 'convocada'), ('convocada', 'real'), ('real', 'decreto'), ('decreto', 'enero'), ('enero', 'celebrada'), ('celebrada', 'marzo')]\""
      ]
     },
     "execution_count": 5,
     "metadata": {},
     "output_type": "execute_result"
    }
   ],
   "source": [
    "base['bigramas'][1]"
   ]
  },
  {
   "cell_type": "code",
   "execution_count": 44,
   "metadata": {},
   "outputs": [],
   "source": [
    "import ast"
   ]
  },
  {
   "cell_type": "code",
   "execution_count": 46,
   "metadata": {},
   "outputs": [
    {
     "data": {
      "text/plain": [
       "39"
      ]
     },
     "execution_count": 46,
     "metadata": {},
     "output_type": "execute_result"
    }
   ],
   "source": [
    "# Cantidad de bigramas en el discurso 1\n",
    "len(ast.literal_eval(base['bigramas'][1]))"
   ]
  },
  {
   "cell_type": "code",
   "execution_count": 55,
   "metadata": {},
   "outputs": [],
   "source": [
    "bigramas_total=[]\n",
    "for ind in base.index:\n",
    "    bigramas_total+=ast.literal_eval(base['bigramas'][ind])"
   ]
  },
  {
   "cell_type": "code",
   "execution_count": 56,
   "metadata": {},
   "outputs": [
    {
     "data": {
      "text/plain": [
       "14272068"
      ]
     },
     "execution_count": 56,
     "metadata": {},
     "output_type": "execute_result"
    }
   ],
   "source": [
    "# bigramas pronunciados en total\n",
    "len(bigramas_total)"
   ]
  },
  {
   "cell_type": "code",
   "execution_count": 59,
   "metadata": {},
   "outputs": [
    {
     "data": {
      "text/plain": [
       "4798798"
      ]
     },
     "execution_count": 59,
     "metadata": {},
     "output_type": "execute_result"
    }
   ],
   "source": [
    "# cantidad de bigramas únicos\n",
    "len(pd.Series(bigramas_total).unique())"
   ]
  },
  {
   "cell_type": "code",
   "execution_count": 60,
   "metadata": {},
   "outputs": [
    {
     "data": {
      "text/plain": [
       "122847"
      ]
     },
     "execution_count": 60,
     "metadata": {},
     "output_type": "execute_result"
    }
   ],
   "source": [
    "# discursos total\n",
    "len(base)"
   ]
  }
 ],
 "metadata": {
  "kernelspec": {
   "display_name": "Python 3",
   "language": "python",
   "name": "python3"
  },
  "language_info": {
   "codemirror_mode": {
    "name": "ipython",
    "version": 3
   },
   "file_extension": ".py",
   "mimetype": "text/x-python",
   "name": "python",
   "nbconvert_exporter": "python",
   "pygments_lexer": "ipython3",
   "version": "3.7.4"
  }
 },
 "nbformat": 4,
 "nbformat_minor": 2
}
