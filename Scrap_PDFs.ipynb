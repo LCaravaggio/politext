{
  "nbformat": 4,
  "nbformat_minor": 0,
  "metadata": {
    "colab": {
      "provenance": [],
      "authorship_tag": "ABX9TyMRCg1uZfVg+xFdLw/0+J7V",
      "include_colab_link": true
    },
    "kernelspec": {
      "name": "python3",
      "display_name": "Python 3"
    },
    "language_info": {
      "name": "python"
    }
  },
  "cells": [
    {
      "cell_type": "markdown",
      "metadata": {
        "id": "view-in-github",
        "colab_type": "text"
      },
      "source": [
        "<a href=\"https://colab.research.google.com/github/LCaravaggio/politext/blob/main/Scrap_PDFs.ipynb\" target=\"_parent\"><img src=\"https://colab.research.google.com/assets/colab-badge.svg\" alt=\"Open In Colab\"/></a>"
      ]
    },
    {
      "cell_type": "code",
      "source": [
        "import pandas as pd\n",
        "import requests\n",
        "from bs4 import BeautifulSoup"
      ],
      "metadata": {
        "id": "31MBORDSlhHO"
      },
      "execution_count": 1,
      "outputs": []
    },
    {
      "cell_type": "code",
      "source": [
        "base=pd.DataFrame(columns=['link', 'text', 'type'])"
      ],
      "metadata": {
        "id": "hcTLjBSYn6DW"
      },
      "execution_count": 2,
      "outputs": []
    },
    {
      "cell_type": "code",
      "source": [
        "!pip install PyPDF2"
      ],
      "metadata": {
        "colab": {
          "base_uri": "https://localhost:8080/"
        },
        "id": "fnRCRBenpn2O",
        "outputId": "0b2fa709-e6a2-4624-9a7e-23d752d2d91c"
      },
      "execution_count": 3,
      "outputs": [
        {
          "output_type": "stream",
          "name": "stdout",
          "text": [
            "Collecting PyPDF2\n",
            "  Downloading pypdf2-3.0.1-py3-none-any.whl (232 kB)\n",
            "\u001b[2K     \u001b[90m━━━━━━━━━━━━━━━━━━━━━━━━━━━━━━━━━━━━━━━\u001b[0m \u001b[32m232.6/232.6 kB\u001b[0m \u001b[31m2.6 MB/s\u001b[0m eta \u001b[36m0:00:00\u001b[0m\n",
            "\u001b[?25hInstalling collected packages: PyPDF2\n",
            "Successfully installed PyPDF2-3.0.1\n"
          ]
        }
      ]
    },
    {
      "cell_type": "code",
      "source": [
        "!pip install pytesseract"
      ],
      "metadata": {
        "id": "7Jy_zcOoB-J9",
        "outputId": "df347b2a-9dfc-474a-dd53-be2c4cf7f12a",
        "colab": {
          "base_uri": "https://localhost:8080/"
        }
      },
      "execution_count": 10,
      "outputs": [
        {
          "output_type": "stream",
          "name": "stdout",
          "text": [
            "Collecting pytesseract\n",
            "  Downloading pytesseract-0.3.10-py3-none-any.whl (14 kB)\n",
            "Requirement already satisfied: packaging>=21.3 in /usr/local/lib/python3.10/dist-packages (from pytesseract) (23.1)\n",
            "Requirement already satisfied: Pillow>=8.0.0 in /usr/local/lib/python3.10/dist-packages (from pytesseract) (9.4.0)\n",
            "Installing collected packages: pytesseract\n",
            "Successfully installed pytesseract-0.3.10\n"
          ]
        }
      ]
    },
    {
      "cell_type": "code",
      "source": [
        "!pip install pdf2image"
      ],
      "metadata": {
        "colab": {
          "base_uri": "https://localhost:8080/"
        },
        "id": "EMdEHjMGY2by",
        "outputId": "36e8df13-f634-4bd1-b00e-9ec8bd2d05e1"
      },
      "execution_count": 4,
      "outputs": [
        {
          "output_type": "stream",
          "name": "stdout",
          "text": [
            "Collecting pdf2image\n",
            "  Downloading pdf2image-1.16.3-py3-none-any.whl (11 kB)\n",
            "Requirement already satisfied: pillow in /usr/local/lib/python3.10/dist-packages (from pdf2image) (9.4.0)\n",
            "Installing collected packages: pdf2image\n",
            "Successfully installed pdf2image-1.16.3\n"
          ]
        }
      ]
    },
    {
      "cell_type": "code",
      "source": [
        "!apt-get install poppler-utils"
      ],
      "metadata": {
        "colab": {
          "base_uri": "https://localhost:8080/"
        },
        "id": "wlYgeEAXZI3k",
        "outputId": "9467dd6b-34d7-4c0c-9cca-2d0354adeedb"
      },
      "execution_count": 5,
      "outputs": [
        {
          "output_type": "stream",
          "name": "stdout",
          "text": [
            "Reading package lists... Done\n",
            "Building dependency tree... Done\n",
            "Reading state information... Done\n",
            "The following NEW packages will be installed:\n",
            "  poppler-utils\n",
            "0 upgraded, 1 newly installed, 0 to remove and 15 not upgraded.\n",
            "Need to get 186 kB of archives.\n",
            "After this operation, 696 kB of additional disk space will be used.\n",
            "Ign:1 http://archive.ubuntu.com/ubuntu jammy-updates/main amd64 poppler-utils amd64 22.02.0-2ubuntu0.1\n",
            "Err:1 http://security.ubuntu.com/ubuntu jammy-updates/main amd64 poppler-utils amd64 22.02.0-2ubuntu0.1\n",
            "  404  Not Found [IP: 185.125.190.36 80]\n",
            "E: Failed to fetch http://security.ubuntu.com/ubuntu/pool/main/p/poppler/poppler-utils_22.02.0-2ubuntu0.1_amd64.deb  404  Not Found [IP: 185.125.190.36 80]\n",
            "E: Unable to fetch some archives, maybe run apt-get update or try with --fix-missing?\n"
          ]
        }
      ]
    },
    {
      "cell_type": "code",
      "source": [
        "!sudo apt install tesseract-ocr"
      ],
      "metadata": {
        "id": "reTIvzHsCBrN",
        "outputId": "4ac0c1f2-6d4d-4220-8899-3644d37c7736",
        "colab": {
          "base_uri": "https://localhost:8080/"
        }
      },
      "execution_count": 11,
      "outputs": [
        {
          "output_type": "stream",
          "name": "stdout",
          "text": [
            "Reading package lists... Done\n",
            "Building dependency tree... Done\n",
            "Reading state information... Done\n",
            "The following additional packages will be installed:\n",
            "  tesseract-ocr-eng tesseract-ocr-osd\n",
            "The following NEW packages will be installed:\n",
            "  tesseract-ocr tesseract-ocr-eng tesseract-ocr-osd\n",
            "0 upgraded, 3 newly installed, 0 to remove and 15 not upgraded.\n",
            "Need to get 4,816 kB of archives.\n",
            "After this operation, 15.6 MB of additional disk space will be used.\n",
            "Get:1 http://archive.ubuntu.com/ubuntu jammy/universe amd64 tesseract-ocr-eng all 1:4.00~git30-7274cfa-1.1 [1,591 kB]\n",
            "Get:2 http://archive.ubuntu.com/ubuntu jammy/universe amd64 tesseract-ocr-osd all 1:4.00~git30-7274cfa-1.1 [2,990 kB]\n",
            "Get:3 http://archive.ubuntu.com/ubuntu jammy/universe amd64 tesseract-ocr amd64 4.1.1-2.1build1 [236 kB]\n",
            "Fetched 4,816 kB in 0s (12.1 MB/s)\n",
            "debconf: unable to initialize frontend: Dialog\n",
            "debconf: (No usable dialog-like program is installed, so the dialog based frontend cannot be used. at /usr/share/perl5/Debconf/FrontEnd/Dialog.pm line 78, <> line 3.)\n",
            "debconf: falling back to frontend: Readline\n",
            "debconf: unable to initialize frontend: Readline\n",
            "debconf: (This frontend requires a controlling tty.)\n",
            "debconf: falling back to frontend: Teletype\n",
            "dpkg-preconfigure: unable to re-open stdin: \n",
            "Selecting previously unselected package tesseract-ocr-eng.\n",
            "(Reading database ... 120500 files and directories currently installed.)\n",
            "Preparing to unpack .../tesseract-ocr-eng_1%3a4.00~git30-7274cfa-1.1_all.deb ...\n",
            "Unpacking tesseract-ocr-eng (1:4.00~git30-7274cfa-1.1) ...\n",
            "Selecting previously unselected package tesseract-ocr-osd.\n",
            "Preparing to unpack .../tesseract-ocr-osd_1%3a4.00~git30-7274cfa-1.1_all.deb ...\n",
            "Unpacking tesseract-ocr-osd (1:4.00~git30-7274cfa-1.1) ...\n",
            "Selecting previously unselected package tesseract-ocr.\n",
            "Preparing to unpack .../tesseract-ocr_4.1.1-2.1build1_amd64.deb ...\n",
            "Unpacking tesseract-ocr (4.1.1-2.1build1) ...\n",
            "Setting up tesseract-ocr-eng (1:4.00~git30-7274cfa-1.1) ...\n",
            "Setting up tesseract-ocr-osd (1:4.00~git30-7274cfa-1.1) ...\n",
            "Setting up tesseract-ocr (4.1.1-2.1build1) ...\n",
            "Processing triggers for man-db (2.10.2-1) ...\n"
          ]
        }
      ]
    },
    {
      "cell_type": "code",
      "execution_count": 13,
      "metadata": {
        "id": "6aByIY0Rjam1"
      },
      "outputs": [],
      "source": [
        "# Este es el listado a scrapear\n",
        "# https://www.senado.es/web/actividadparlamentaria/publicacionesoficiales/senado/diariossesiones/index.html\n",
        "\n",
        "# Esta celda tarda unos 40 minutos en correr\n",
        "\n",
        "base=pd.DataFrame(columns=['link', 'text', 'type'])\n",
        "\n",
        "from io import BytesIO\n",
        "import PyPDF2\n",
        "from pdf2image import convert_from_bytes\n",
        "for legs in range(9,15):\n",
        "   for b in range(1,400):\n",
        "     link='https://www.senado.es/legis'+str(legs)+'/publicaciones/pdf/senado/ds/DS_P_'+str(legs)+'_'+str(b)+'.PDF'\n",
        "     lista = []\n",
        "     raw=\"\"\n",
        "     ty=\"PdfReader\"\n",
        "     pdf = requests.get(link)\n",
        "     my_raw_data = pdf.content\n",
        "\n",
        "     if pdf.status_code==200:\n",
        "       with BytesIO(my_raw_data) as data:\n",
        "         read_pdf = PyPDF2.PdfReader(data)\n",
        "         for page in range(len(read_pdf.pages)):\n",
        "           raw+=read_pdf.pages[page].extract_text()\n",
        "       if raw==\"\":\n",
        "         pil_images = convert_from_bytes(my_raw_data)\n",
        "         extracted_text = \"\"\n",
        "         ty='pytesseract'\n",
        "         for image in pil_images:\n",
        "           raw += pytesseract.image_to_string(image)\n",
        "\n",
        "       base.loc[len(base.index)] = [link, raw, ty]"
      ]
    },
    {
      "cell_type": "code",
      "source": [
        "base.shape"
      ],
      "metadata": {
        "id": "kvkQSJuKprOA",
        "colab": {
          "base_uri": "https://localhost:8080/"
        },
        "outputId": "0d6a530a-06ee-430a-f948-c243b94aee5b"
      },
      "execution_count": 14,
      "outputs": [
        {
          "output_type": "execute_result",
          "data": {
            "text/plain": [
              "(425, 3)"
            ]
          },
          "metadata": {},
          "execution_count": 14
        }
      ]
    },
    {
      "cell_type": "code",
      "source": [
        "#Libraries to be installed\n",
        "!sudo apt-get update\n",
        "!apt-get install poppler-utils"
      ],
      "metadata": {
        "id": "2bE6oYixacdc",
        "outputId": "fe5c96a4-6536-405c-de6b-3df5b500678c",
        "colab": {
          "base_uri": "https://localhost:8080/"
        }
      },
      "execution_count": 20,
      "outputs": [
        {
          "output_type": "stream",
          "name": "stdout",
          "text": [
            "\r0% [Working]\r            \rHit:1 http://archive.ubuntu.com/ubuntu jammy InRelease\n",
            "\r0% [Waiting for headers] [Waiting for headers] [Connected to cloud.r-project.or\r                                                                               \rGet:2 http://security.ubuntu.com/ubuntu jammy-security InRelease [110 kB]\n",
            "\r0% [Waiting for headers] [2 InRelease 14.2 kB/110 kB 13%] [Waiting for headers]\r                                                                               \rGet:3 http://archive.ubuntu.com/ubuntu jammy-updates InRelease [119 kB]\n",
            "\r0% [3 InRelease 12.7 kB/119 kB 11%] [2 InRelease 14.2 kB/110 kB 13%] [Waiting f\r                                                                               \rGet:4 https://cloud.r-project.org/bin/linux/ubuntu jammy-cran40/ InRelease [3,626 B]\n",
            "Get:5 https://developer.download.nvidia.com/compute/cuda/repos/ubuntu2204/x86_64  InRelease [1,581 B]\n",
            "Get:6 http://archive.ubuntu.com/ubuntu jammy-backports InRelease [109 kB]\n",
            "Hit:7 https://ppa.launchpadcontent.net/c2d4u.team/c2d4u4.0+/ubuntu jammy InRelease\n",
            "Get:8 https://cloud.r-project.org/bin/linux/ubuntu jammy-cran40/ Packages [43.3 kB]\n",
            "Get:9 https://developer.download.nvidia.com/compute/cuda/repos/ubuntu2204/x86_64  Packages [456 kB]\n",
            "Get:10 http://security.ubuntu.com/ubuntu jammy-security/universe amd64 Packages [979 kB]\n",
            "Get:11 https://ppa.launchpadcontent.net/deadsnakes/ppa/ubuntu jammy InRelease [18.1 kB]\n",
            "Get:12 http://security.ubuntu.com/ubuntu jammy-security/restricted amd64 Packages [850 kB]\n",
            "Get:13 http://archive.ubuntu.com/ubuntu jammy-updates/universe amd64 Packages [1,235 kB]\n",
            "Get:14 http://security.ubuntu.com/ubuntu jammy-security/main amd64 Packages [833 kB]\n",
            "Get:15 http://archive.ubuntu.com/ubuntu jammy-updates/main amd64 Packages [1,103 kB]\n",
            "Hit:16 https://ppa.launchpadcontent.net/graphics-drivers/ppa/ubuntu jammy InRelease\n",
            "Get:17 http://archive.ubuntu.com/ubuntu jammy-backports/main amd64 Packages [49.2 kB]\n",
            "Get:18 http://archive.ubuntu.com/ubuntu jammy-backports/universe amd64 Packages [25.6 kB]\n",
            "Hit:19 https://ppa.launchpadcontent.net/ubuntugis/ppa/ubuntu jammy InRelease\n",
            "Get:20 https://ppa.launchpadcontent.net/deadsnakes/ppa/ubuntu jammy/main amd64 Packages [21.7 kB]\n",
            "Fetched 5,956 kB in 2s (2,405 kB/s)\n",
            "Reading package lists... Done\n",
            "Reading package lists... Done\n",
            "Building dependency tree... Done\n",
            "Reading state information... Done\n",
            "The following additional packages will be installed:\n",
            "  libpoppler-dev libpoppler-private-dev libpoppler118\n",
            "Recommended packages:\n",
            "  poppler-data\n",
            "The following NEW packages will be installed:\n",
            "  poppler-utils\n",
            "The following packages will be upgraded:\n",
            "  libpoppler-dev libpoppler-private-dev libpoppler118\n",
            "3 upgraded, 1 newly installed, 0 to remove and 27 not upgraded.\n",
            "Need to get 1,463 kB of archives.\n",
            "After this operation, 705 kB of additional disk space will be used.\n",
            "Get:1 http://archive.ubuntu.com/ubuntu jammy-updates/main amd64 libpoppler-private-dev amd64 22.02.0-2ubuntu0.2 [198 kB]\n",
            "Get:2 http://archive.ubuntu.com/ubuntu jammy-updates/main amd64 libpoppler-dev amd64 22.02.0-2ubuntu0.2 [5,184 B]\n",
            "Get:3 http://archive.ubuntu.com/ubuntu jammy-updates/main amd64 libpoppler118 amd64 22.02.0-2ubuntu0.2 [1,074 kB]\n",
            "Get:4 http://archive.ubuntu.com/ubuntu jammy-updates/main amd64 poppler-utils amd64 22.02.0-2ubuntu0.2 [186 kB]\n",
            "Fetched 1,463 kB in 0s (4,608 kB/s)\n",
            "(Reading database ... 120547 files and directories currently installed.)\n",
            "Preparing to unpack .../libpoppler-private-dev_22.02.0-2ubuntu0.2_amd64.deb ...\n",
            "Unpacking libpoppler-private-dev:amd64 (22.02.0-2ubuntu0.2) over (22.02.0-2ubuntu0.1) ...\n",
            "Preparing to unpack .../libpoppler-dev_22.02.0-2ubuntu0.2_amd64.deb ...\n",
            "Unpacking libpoppler-dev:amd64 (22.02.0-2ubuntu0.2) over (22.02.0-2ubuntu0.1) ...\n",
            "Preparing to unpack .../libpoppler118_22.02.0-2ubuntu0.2_amd64.deb ...\n",
            "Unpacking libpoppler118:amd64 (22.02.0-2ubuntu0.2) over (22.02.0-2ubuntu0.1) ...\n",
            "Selecting previously unselected package poppler-utils.\n",
            "Preparing to unpack .../poppler-utils_22.02.0-2ubuntu0.2_amd64.deb ...\n",
            "Unpacking poppler-utils (22.02.0-2ubuntu0.2) ...\n",
            "Setting up libpoppler118:amd64 (22.02.0-2ubuntu0.2) ...\n",
            "Setting up poppler-utils (22.02.0-2ubuntu0.2) ...\n",
            "Setting up libpoppler-dev:amd64 (22.02.0-2ubuntu0.2) ...\n",
            "Setting up libpoppler-private-dev:amd64 (22.02.0-2ubuntu0.2) ...\n",
            "Processing triggers for man-db (2.10.2-1) ...\n",
            "Processing triggers for libc-bin (2.35-0ubuntu3.1) ...\n"
          ]
        }
      ]
    },
    {
      "cell_type": "code",
      "source": [
        "import pytesseract\n",
        "\n",
        "for legs in range(1,10):\n",
        "   for b in range(1,400):\n",
        "     link='https://www.senado.es/legis'+str(legs)+'/publicaciones/pdf/senado/ds/PS'+str(b).zfill(4)+'.PDF'\n",
        "     lista = []\n",
        "     raw=\"\"\n",
        "     ty=\"PdfReader\"\n",
        "     pdf = requests.get(link)\n",
        "     my_raw_data = pdf.content\n",
        "\n",
        "     if pdf.status_code==200:\n",
        "       with BytesIO(my_raw_data) as data:\n",
        "         read_pdf = PyPDF2.PdfReader(data)\n",
        "         for page in range(len(read_pdf.pages)):\n",
        "           raw+=read_pdf.pages[page].extract_text()\n",
        "       if raw==\"\":\n",
        "         pil_images = convert_from_bytes(my_raw_data)\n",
        "         extracted_text = \"\"\n",
        "         ty='pytesseract'\n",
        "         for image in pil_images:\n",
        "           raw += pytesseract.image_to_string(image)\n",
        "\n",
        "       base.loc[len(base.index)] = [link, raw, ty]"
      ],
      "metadata": {
        "id": "IHFy27Fchn5T"
      },
      "execution_count": null,
      "outputs": []
    },
    {
      "cell_type": "code",
      "source": [
        "base.shape"
      ],
      "metadata": {
        "id": "M5jsq8V9ib-l"
      },
      "execution_count": null,
      "outputs": []
    },
    {
      "cell_type": "code",
      "source": [
        "from google.colab import files\n",
        "base.to_csv('base.csv', escapechar='\\\\')\n",
        "files.download('base.csv')"
      ],
      "metadata": {
        "id": "3BcjEKniy0wY"
      },
      "execution_count": null,
      "outputs": []
    }
  ]
}