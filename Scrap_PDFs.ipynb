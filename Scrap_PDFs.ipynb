{
  "nbformat": 4,
  "nbformat_minor": 0,
  "metadata": {
    "colab": {
      "provenance": [],
      "authorship_tag": "ABX9TyMvtdQdklXb57DbdCQ8gfgD",
      "include_colab_link": true
    },
    "kernelspec": {
      "name": "python3",
      "display_name": "Python 3"
    },
    "language_info": {
      "name": "python"
    }
  },
  "cells": [
    {
      "cell_type": "markdown",
      "metadata": {
        "id": "view-in-github",
        "colab_type": "text"
      },
      "source": [
        "<a href=\"https://colab.research.google.com/github/LCaravaggio/politext/blob/main/Scrap_PDFs.ipynb\" target=\"_parent\"><img src=\"https://colab.research.google.com/assets/colab-badge.svg\" alt=\"Open In Colab\"/></a>"
      ]
    },
    {
      "cell_type": "code",
      "source": [
        "import pandas as pd\n",
        "import requests\n",
        "from bs4 import BeautifulSoup"
      ],
      "metadata": {
        "id": "31MBORDSlhHO"
      },
      "execution_count": 1,
      "outputs": []
    },
    {
      "cell_type": "code",
      "source": [
        "base=pd.DataFrame(columns=['link', 'text', 'type'])"
      ],
      "metadata": {
        "id": "hcTLjBSYn6DW"
      },
      "execution_count": 17,
      "outputs": []
    },
    {
      "cell_type": "code",
      "source": [
        "!pip install PyPDF2"
      ],
      "metadata": {
        "colab": {
          "base_uri": "https://localhost:8080/"
        },
        "id": "fnRCRBenpn2O",
        "outputId": "cd1a6ec3-1f28-4958-81de-a7ad6cda063d"
      },
      "execution_count": 3,
      "outputs": [
        {
          "output_type": "stream",
          "name": "stdout",
          "text": [
            "Looking in indexes: https://pypi.org/simple, https://us-python.pkg.dev/colab-wheels/public/simple/\n",
            "Collecting PyPDF2\n",
            "  Downloading pypdf2-3.0.1-py3-none-any.whl (232 kB)\n",
            "\u001b[2K     \u001b[90m━━━━━━━━━━━━━━━━━━━━━━━━━━━━━━━━━━━━━━━\u001b[0m \u001b[32m232.6/232.6 kB\u001b[0m \u001b[31m8.1 MB/s\u001b[0m eta \u001b[36m0:00:00\u001b[0m\n",
            "\u001b[?25hInstalling collected packages: PyPDF2\n",
            "Successfully installed PyPDF2-3.0.1\n"
          ]
        }
      ]
    },
    {
      "cell_type": "code",
      "source": [
        "!pip install pdf2image"
      ],
      "metadata": {
        "colab": {
          "base_uri": "https://localhost:8080/"
        },
        "id": "EMdEHjMGY2by",
        "outputId": "731dbfbe-fb16-49a6-c49c-584fb7796f49"
      },
      "execution_count": 8,
      "outputs": [
        {
          "output_type": "stream",
          "name": "stdout",
          "text": [
            "Looking in indexes: https://pypi.org/simple, https://us-python.pkg.dev/colab-wheels/public/simple/\n",
            "Collecting pdf2image\n",
            "  Downloading pdf2image-1.16.3-py3-none-any.whl (11 kB)\n",
            "Requirement already satisfied: pillow in /usr/local/lib/python3.10/dist-packages (from pdf2image) (8.4.0)\n",
            "Installing collected packages: pdf2image\n",
            "Successfully installed pdf2image-1.16.3\n"
          ]
        }
      ]
    },
    {
      "cell_type": "code",
      "source": [
        "!apt-get install poppler-utils"
      ],
      "metadata": {
        "colab": {
          "base_uri": "https://localhost:8080/"
        },
        "id": "wlYgeEAXZI3k",
        "outputId": "42fe635b-b35c-4658-9262-cc47fa241006"
      },
      "execution_count": 11,
      "outputs": [
        {
          "output_type": "stream",
          "name": "stdout",
          "text": [
            "Reading package lists... Done\n",
            "Building dependency tree       \n",
            "Reading state information... Done\n",
            "The following NEW packages will be installed:\n",
            "  poppler-utils\n",
            "0 upgraded, 1 newly installed, 0 to remove and 15 not upgraded.\n",
            "Need to get 174 kB of archives.\n",
            "After this operation, 754 kB of additional disk space will be used.\n",
            "Get:1 http://archive.ubuntu.com/ubuntu focal-updates/main amd64 poppler-utils amd64 0.86.1-0ubuntu1.1 [174 kB]\n",
            "Fetched 174 kB in 1s (211 kB/s)\n",
            "Selecting previously unselected package poppler-utils.\n",
            "(Reading database ... 123069 files and directories currently installed.)\n",
            "Preparing to unpack .../poppler-utils_0.86.1-0ubuntu1.1_amd64.deb ...\n",
            "Unpacking poppler-utils (0.86.1-0ubuntu1.1) ...\n",
            "Setting up poppler-utils (0.86.1-0ubuntu1.1) ...\n",
            "Processing triggers for man-db (2.9.1-1) ...\n"
          ]
        }
      ]
    },
    {
      "cell_type": "code",
      "execution_count": null,
      "metadata": {
        "id": "6aByIY0Rjam1"
      },
      "outputs": [],
      "source": [
        "from io import BytesIO\n",
        "import PyPDF2\n",
        "from pdf2image import convert_from_bytes\n",
        "\n",
        "for a in range(1,15):\n",
        "  for b in range(1,500):\n",
        "    link='https://www.senado.es/legis14/publicaciones/pdf/senado/ds/DS_P_'+str(a)+'_'+str(b)+'.PDF'\n",
        "    lista = []\n",
        "    raw=\"\"\n",
        "    ty=\"PdfReader\"\n",
        "    pdf = requests.get(link)\n",
        "    my_raw_data = pdf.content\n",
        "\n",
        "    if pdf.status_code==200:\n",
        "      with BytesIO(my_raw_data) as data:\n",
        "        read_pdf = PyPDF2.PdfReader(data)\n",
        "        for page in range(len(read_pdf.pages)):\n",
        "          raw+=read_pdf.pages[page].extract_text()\n",
        "      if raw==\"\":\n",
        "        pil_images = convert_from_bytes(my_raw_data)\n",
        "        extracted_text = \"\"\n",
        "        ty='pytesseract'\n",
        "        for image in pil_images:\n",
        "          raw += pytesseract.image_to_string(image)\n",
        "\n",
        "      base.loc[len(base.index)] = [link, raw, ty]"
      ]
    },
    {
      "cell_type": "code",
      "source": [
        "base.shape"
      ],
      "metadata": {
        "colab": {
          "base_uri": "https://localhost:8080/"
        },
        "id": "kvkQSJuKprOA",
        "outputId": "837e41d9-ff1f-45c1-d93c-f41cebebbf01"
      },
      "execution_count": 20,
      "outputs": [
        {
          "output_type": "execute_result",
          "data": {
            "text/plain": [
              "(1, 3)"
            ]
          },
          "metadata": {},
          "execution_count": 20
        }
      ]
    },
    {
      "cell_type": "code",
      "source": [
        "from google.colab import files\n",
        "base.to_csv('base.csv', escapechar='\\')\n",
        "files.download('base.csv')"
      ],
      "metadata": {
        "id": "3BcjEKniy0wY"
      },
      "execution_count": null,
      "outputs": []
    }
  ]
}