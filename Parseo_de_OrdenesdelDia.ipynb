{
  "nbformat": 4,
  "nbformat_minor": 0,
  "metadata": {
    "colab": {
      "provenance": [],
      "authorship_tag": "ABX9TyOE/oB25363vbK0EJPZFtjL",
      "include_colab_link": true
    },
    "kernelspec": {
      "name": "python3",
      "display_name": "Python 3"
    },
    "language_info": {
      "name": "python"
    }
  },
  "cells": [
    {
      "cell_type": "markdown",
      "metadata": {
        "id": "view-in-github",
        "colab_type": "text"
      },
      "source": [
        "<a href=\"https://colab.research.google.com/github/LCaravaggio/politext/blob/snowball/Parseo_de_OrdenesdelDia.ipynb\" target=\"_parent\"><img src=\"https://colab.research.google.com/assets/colab-badge.svg\" alt=\"Open In Colab\"/></a>"
      ]
    },
    {
      "cell_type": "code",
      "execution_count": 11,
      "metadata": {
        "colab": {
          "base_uri": "https://localhost:8080/"
        },
        "id": "9S_UEBLg81wW",
        "outputId": "1f0edaaa-2df4-4d2b-b0c9-694eb1e50812"
      },
      "outputs": [
        {
          "output_type": "stream",
          "name": "stdout",
          "text": [
            "mkdir: cannot create directory ‘/root/.kaggle’: File exists\n",
            "Mounted at /content/drive\n",
            "Scraps%20PDFs.csv.zip: Skipping, found more recently modified local copy (use --force to force download)\n",
            "Downloading base_formateada_senado_snowball.csv.zip to /content\n",
            " 96% 137M/143M [00:02<00:00, 97.0MB/s]\n",
            "100% 143M/143M [00:02<00:00, 62.9MB/s]\n"
          ]
        }
      ],
      "source": [
        "import pandas as pd\n",
        "import numpy as np\n",
        "\n",
        "\n",
        "import json\n",
        "from google.colab import drive\n",
        "\n",
        "!mkdir ~/.kaggle\n",
        "!touch ~/.kaggle/kaggle.json\n",
        "\n",
        "drive.mount('/content/drive', force_remount=True)\n",
        "with open(\"/content/drive/My Drive/kaggle.json\", 'r') as f:\n",
        "    api_token= json.load(f)\n",
        "\n",
        "with open('/root/.kaggle/kaggle.json', 'w') as file:\n",
        "    json.dump(api_token, file)\n",
        "\n",
        "!chmod 600 ~/.kaggle/kaggle.json\n",
        "\n",
        "!kaggle datasets download -d leonardocaravaggio/scraps-pdfs -f \"Scraps PDFs.csv\"\n",
        "!kaggle datasets download -d leonardocaravaggio/scraps-pdfs -f \"base_formateada_senado_snowball.csv\""
      ]
    },
    {
      "cell_type": "code",
      "source": [
        "import zipfile\n",
        "import os\n",
        "\n",
        "os.listdir()\n",
        "\n",
        "for file in os.listdir():\n",
        "    if file.endswith('.zip'):\n",
        "      zip_ref = zipfile.ZipFile(file, 'r')\n",
        "      zip_ref.extractall()\n",
        "      zip_ref.close()"
      ],
      "metadata": {
        "id": "gwJL1yMZ9zbE"
      },
      "execution_count": 12,
      "outputs": []
    },
    {
      "cell_type": "code",
      "source": [
        "# Cargamos la base\n",
        "base = pd.read_csv('/content/Scraps PDFs.csv')\n",
        "base_parseada = pd.read_csv('/content/base_formateada_senado_snowball.csv')"
      ],
      "metadata": {
        "id": "IHPR981-91Ps",
        "outputId": "7bd3894b-abe2-495c-95b4-c83f582486e4",
        "colab": {
          "base_uri": "https://localhost:8080/"
        }
      },
      "execution_count": 13,
      "outputs": [
        {
          "output_type": "stream",
          "name": "stderr",
          "text": [
            "<ipython-input-13-e0eeee1141a8>:3: DtypeWarning: Columns (7) have mixed types. Specify dtype option on import or set low_memory=False.\n",
            "  base_parseada = pd.read_csv('/content/base_formateada_senado_snowball.csv')\n"
          ]
        }
      ]
    },
    {
      "cell_type": "code",
      "source": [
        "base.link[10]"
      ],
      "metadata": {
        "id": "fgmr3HKFmJeV",
        "outputId": "55cbc725-a788-47a0-ce5a-f9ef4e2bfd4f",
        "colab": {
          "base_uri": "https://localhost:8080/",
          "height": 35
        }
      },
      "execution_count": 14,
      "outputs": [
        {
          "output_type": "execute_result",
          "data": {
            "text/plain": [
              "'https://www.senado.es/legis10/publicaciones/pdf/senado/ds/DS_P_10_11.PDF'"
            ],
            "application/vnd.google.colaboratory.intrinsic+json": {
              "type": "string"
            }
          },
          "metadata": {},
          "execution_count": 14
        }
      ]
    },
    {
      "cell_type": "code",
      "source": [
        "def generar(l):\n",
        "  df=pd.DataFrame()\n",
        "\n",
        "\n",
        "  return df"
      ],
      "metadata": {
        "id": "CzfD-9U7rQLj"
      },
      "execution_count": null,
      "outputs": []
    },
    {
      "cell_type": "code",
      "source": [
        "for row in base_parseada.values:\n",
        "  base2 = pd.concat([base2, generar(row)], axis=0)"
      ],
      "metadata": {
        "id": "ivCarVUHoA1b"
      },
      "execution_count": null,
      "outputs": []
    },
    {
      "cell_type": "code",
      "source": [
        "base2=base2.reset_index(drop=True)"
      ],
      "metadata": {
        "id": "eqo1NUGkq_-Z"
      },
      "execution_count": null,
      "outputs": []
    },
    {
      "cell_type": "code",
      "source": [
        "base2['fecha_formato'] = pd.to_datetime(base2['fecha_formato'], errors='coerce')"
      ],
      "metadata": {
        "id": "5a7C0jzjjWdX"
      },
      "execution_count": null,
      "outputs": []
    },
    {
      "cell_type": "code",
      "source": [
        "grupos=pd.read_xml('/content/openData2023731165138.xml')"
      ],
      "metadata": {
        "id": "SpAGt--fa8Nf"
      },
      "execution_count": null,
      "outputs": []
    },
    {
      "cell_type": "code",
      "source": [
        "base2['nombre']=\"\"\n",
        "base2['apellidos']=\"\"\n",
        "base2['procedLiteral']=\"\"\n",
        "base2['procedLugar']=\"\"\n",
        "base2['grupoNombre']=\"\"\n",
        "\n",
        "\n",
        "lista = []\n",
        "\n",
        "for linea in base2.values:\n",
        "\n",
        "    nombres = grupos.loc[grupos['apellidos'] == linea[3].upper()].nombre.tolist()\n",
        "\n",
        "    if next(iter(nombres or []), None)==None:\n",
        "      nombres = grupos.loc[grupos['apellidos'] == linea[2].upper()].nombre.tolist()\n",
        "      linea[9]=next(iter(nombres or []), None)\n",
        "\n",
        "      apellidos = grupos.loc[grupos['apellidos'] == linea[2].upper()].apellidos.tolist()\n",
        "      linea[10]=next(iter(apellidos or []), None)\n",
        "\n",
        "      procedLiteral\t = grupos.loc[grupos['apellidos'] == linea[2].upper()].procedLiteral.tolist()\n",
        "      linea[11]=next(iter(procedLiteral or []), None)\n",
        "\n",
        "      procedLugar\t = grupos.loc[grupos['apellidos'] == linea[2].upper()].procedLugar.tolist()\n",
        "      linea[12]=next(iter(procedLugar or []), None)\n",
        "\n",
        "      grupoNombre\t= grupos.loc[grupos['apellidos'] == linea[2].upper()].grupoNombre.tolist()\n",
        "      linea[13]=next(iter(grupoNombre or []), None)\n",
        "\n",
        "    else:\n",
        "\n",
        "      linea[9]=next(iter(nombres or []), None)\n",
        "\n",
        "      apellidos = grupos.loc[grupos['apellidos'] == linea[3].upper()].apellidos.tolist()\n",
        "      linea[10]=next(iter(apellidos or []), None)\n",
        "\n",
        "      procedLiteral\t = grupos.loc[grupos['apellidos'] == linea[3].upper()].procedLiteral.tolist()\n",
        "      linea[11]=next(iter(procedLiteral or []), None)\n",
        "\n",
        "      procedLugar\t = grupos.loc[grupos['apellidos'] == linea[3].upper()].procedLugar.tolist()\n",
        "      linea[12]=next(iter(procedLugar or []), None)\n",
        "\n",
        "      grupoNombre\t= grupos.loc[grupos['apellidos'] == linea[3].upper()].grupoNombre.tolist()\n",
        "      linea[13]=next(iter(grupoNombre or []), None)\n",
        "\n",
        "    lista.append(linea)"
      ],
      "metadata": {
        "id": "CnBhHjPhkfe9"
      },
      "execution_count": null,
      "outputs": []
    },
    {
      "cell_type": "code",
      "source": [
        "base2=pd.DataFrame(lista, columns=base2.columns)"
      ],
      "metadata": {
        "id": "bECGMYuRqQv-"
      },
      "execution_count": null,
      "outputs": []
    },
    {
      "cell_type": "code",
      "source": [
        "column_name = 'apellidos'\n",
        "null_count = base2[column_name].isnull().sum()"
      ],
      "metadata": {
        "id": "0q27AMsLMvhK"
      },
      "execution_count": null,
      "outputs": []
    },
    {
      "cell_type": "code",
      "source": [
        "null_count"
      ],
      "metadata": {
        "id": "hNz1FJqJdOI7",
        "outputId": "7434e4b4-ee09-491a-ae69-389897db1817",
        "colab": {
          "base_uri": "https://localhost:8080/"
        }
      },
      "execution_count": null,
      "outputs": [
        {
          "output_type": "execute_result",
          "data": {
            "text/plain": [
              "410091"
            ]
          },
          "metadata": {},
          "execution_count": 13
        }
      ]
    },
    {
      "cell_type": "code",
      "source": [
        "base2[base2[column_name].isnull()].Cargo.value_counts()[:20]"
      ],
      "metadata": {
        "id": "A_miI9BgOxOI",
        "outputId": "c924a539-2471-4647-b74a-e75da9d871b6",
        "colab": {
          "base_uri": "https://localhost:8080/"
        }
      },
      "execution_count": null,
      "outputs": [
        {
          "output_type": "execute_result",
          "data": {
            "text/plain": [
              "PRESIDENTE                 176707\n",
              "VICEPRESIDENTE              70766\n",
              "PRESIDENTA                  12928\n",
              "PRESIDENT                    5619\n",
              "VICEPRESIDENTA               4916\n",
              "AUTOR                        2527\n",
              "DORREGO GONZALEZ             2335\n",
              "                             1916\n",
              "MINISTRO DEL INTERIOR        1903\n",
              "GARCIA ROYO                  1776\n",
              "CERCOS PEREZ                 1439\n",
              "MINISTRO DE JUSTICIA         1296\n",
              "FUENTES NAVARRO              1144\n",
              "EAJ-PNV                      1016\n",
              "LABORDA MARTIN               1008\n",
              "PRESIDENTE DEL GOBIERNO       959\n",
              "MINISTRO DE FOMENTO           903\n",
              "AUTORA                        880\n",
              "SECRETARIO                    871\n",
              "BASELGA GARCIA-ESCUDERO       850\n",
              "Name: Cargo, dtype: int64"
            ]
          },
          "metadata": {},
          "execution_count": 14
        }
      ]
    },
    {
      "cell_type": "code",
      "source": [
        "from google.colab import files\n",
        "base2.to_csv('base_parseada.csv', escapechar='\\\\')\n",
        "files.download('base_parseada.csv')"
      ],
      "metadata": {
        "id": "MddIYTC4BIJs",
        "outputId": "706ca794-7914-48a2-eece-01cf0e2494d4",
        "colab": {
          "base_uri": "https://localhost:8080/",
          "height": 17
        }
      },
      "execution_count": null,
      "outputs": [
        {
          "output_type": "display_data",
          "data": {
            "text/plain": [
              "<IPython.core.display.Javascript object>"
            ],
            "application/javascript": [
              "\n",
              "    async function download(id, filename, size) {\n",
              "      if (!google.colab.kernel.accessAllowed) {\n",
              "        return;\n",
              "      }\n",
              "      const div = document.createElement('div');\n",
              "      const label = document.createElement('label');\n",
              "      label.textContent = `Downloading \"${filename}\": `;\n",
              "      div.appendChild(label);\n",
              "      const progress = document.createElement('progress');\n",
              "      progress.max = size;\n",
              "      div.appendChild(progress);\n",
              "      document.body.appendChild(div);\n",
              "\n",
              "      const buffers = [];\n",
              "      let downloaded = 0;\n",
              "\n",
              "      const channel = await google.colab.kernel.comms.open(id);\n",
              "      // Send a message to notify the kernel that we're ready.\n",
              "      channel.send({})\n",
              "\n",
              "      for await (const message of channel.messages) {\n",
              "        // Send a message to notify the kernel that we're ready.\n",
              "        channel.send({})\n",
              "        if (message.buffers) {\n",
              "          for (const buffer of message.buffers) {\n",
              "            buffers.push(buffer);\n",
              "            downloaded += buffer.byteLength;\n",
              "            progress.value = downloaded;\n",
              "          }\n",
              "        }\n",
              "      }\n",
              "      const blob = new Blob(buffers, {type: 'application/binary'});\n",
              "      const a = document.createElement('a');\n",
              "      a.href = window.URL.createObjectURL(blob);\n",
              "      a.download = filename;\n",
              "      div.appendChild(a);\n",
              "      a.click();\n",
              "      div.remove();\n",
              "    }\n",
              "  "
            ]
          },
          "metadata": {}
        },
        {
          "output_type": "display_data",
          "data": {
            "text/plain": [
              "<IPython.core.display.Javascript object>"
            ],
            "application/javascript": [
              "download(\"download_7f3eb919-4408-4c5e-b8b5-1385c8766f52\", \"base_parseada.csv\", 669919534)"
            ]
          },
          "metadata": {}
        }
      ]
    }
  ]
}