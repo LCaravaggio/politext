{
  "nbformat": 4,
  "nbformat_minor": 0,
  "metadata": {
    "colab": {
      "provenance": [],
      "authorship_tag": "ABX9TyNs5GszOBQtgY22LejQvh0o",
      "include_colab_link": true
    },
    "kernelspec": {
      "name": "python3",
      "display_name": "Python 3"
    },
    "language_info": {
      "name": "python"
    }
  },
  "cells": [
    {
      "cell_type": "markdown",
      "metadata": {
        "id": "view-in-github",
        "colab_type": "text"
      },
      "source": [
        "<a href=\"https://colab.research.google.com/github/LCaravaggio/politext/blob/snowball/Parseo_de_OrdenesdelDia.ipynb\" target=\"_parent\"><img src=\"https://colab.research.google.com/assets/colab-badge.svg\" alt=\"Open In Colab\"/></a>"
      ]
    },
    {
      "cell_type": "code",
      "execution_count": 1,
      "metadata": {
        "colab": {
          "base_uri": "https://localhost:8080/"
        },
        "id": "9S_UEBLg81wW",
        "outputId": "5dc3de56-4447-49cd-923a-9954fba4aa3f"
      },
      "outputs": [
        {
          "output_type": "stream",
          "name": "stdout",
          "text": [
            "Mounted at /content/drive\n",
            "Downloading Scraps%20PDFs.csv.zip to /content\n",
            " 97% 227M/234M [00:03<00:00, 65.1MB/s]\n",
            "100% 234M/234M [00:03<00:00, 69.9MB/s]\n",
            "Downloading base_formateada_senado_snowball.csv.zip to /content\n",
            " 90% 129M/143M [00:01<00:00, 90.9MB/s]\n",
            "100% 143M/143M [00:01<00:00, 80.4MB/s]\n"
          ]
        }
      ],
      "source": [
        "import pandas as pd\n",
        "import numpy as np\n",
        "\n",
        "\n",
        "import json\n",
        "from google.colab import drive\n",
        "\n",
        "!mkdir ~/.kaggle\n",
        "!touch ~/.kaggle/kaggle.json\n",
        "\n",
        "drive.mount('/content/drive', force_remount=True)\n",
        "with open(\"/content/drive/My Drive/kaggle.json\", 'r') as f:\n",
        "    api_token= json.load(f)\n",
        "\n",
        "with open('/root/.kaggle/kaggle.json', 'w') as file:\n",
        "    json.dump(api_token, file)\n",
        "\n",
        "!chmod 600 ~/.kaggle/kaggle.json\n",
        "\n",
        "!kaggle datasets download -d leonardocaravaggio/scraps-pdfs -f \"Scraps PDFs.csv\"\n",
        "!kaggle datasets download -d leonardocaravaggio/scraps-pdfs -f \"base_formateada_senado_snowball.csv\""
      ]
    },
    {
      "cell_type": "code",
      "source": [
        "import zipfile\n",
        "import os\n",
        "\n",
        "os.listdir()\n",
        "\n",
        "for file in os.listdir():\n",
        "    if file.endswith('.zip'):\n",
        "      zip_ref = zipfile.ZipFile(file, 'r')\n",
        "      zip_ref.extractall()\n",
        "      zip_ref.close()"
      ],
      "metadata": {
        "id": "gwJL1yMZ9zbE"
      },
      "execution_count": 2,
      "outputs": []
    },
    {
      "cell_type": "code",
      "source": [
        "# Cargamos la base\n",
        "base = pd.read_csv('/content/Scraps PDFs.csv')\n",
        "base_parseada = pd.read_csv('/content/base_formateada_senado_snowball.csv')"
      ],
      "metadata": {
        "id": "IHPR981-91Ps",
        "outputId": "d84b0d58-9b60-4f34-cc09-f23ea19588a9",
        "colab": {
          "base_uri": "https://localhost:8080/"
        }
      },
      "execution_count": 3,
      "outputs": [
        {
          "output_type": "stream",
          "name": "stderr",
          "text": [
            "<ipython-input-3-e0eeee1141a8>:3: DtypeWarning: Columns (7) have mixed types. Specify dtype option on import or set low_memory=False.\n",
            "  base_parseada = pd.read_csv('/content/base_formateada_senado_snowball.csv')\n"
          ]
        }
      ]
    },
    {
      "cell_type": "code",
      "source": [
        "base_parseada.columns"
      ],
      "metadata": {
        "id": "fgmr3HKFmJeV",
        "outputId": "e78785f3-c9e4-4007-dae7-f511f5de5adc",
        "colab": {
          "base_uri": "https://localhost:8080/"
        }
      },
      "execution_count": 212,
      "outputs": [
        {
          "output_type": "execute_result",
          "data": {
            "text/plain": [
              "Index(['Unnamed: 0.1', 'Unnamed: 0', 'Nombre/Cargo', 'Discurso', 'Cargo',\n",
              "       'Nombre', 'Link', 'Legislatura', 'tipo', 'fecha', 'fecha_formato',\n",
              "       'nombre', 'apellidos', 'procedLiteral', 'procedLugar', 'grupoNombre',\n",
              "       'tokens'],\n",
              "      dtype='object')"
            ]
          },
          "metadata": {},
          "execution_count": 212
        }
      ]
    },
    {
      "cell_type": "code",
      "source": [
        "import re\n",
        "\n",
        "def generar(l):\n",
        "  df=pd.DataFrame(columns=['Nombre/Cargo', 'Discurso', 'Cargo',\n",
        "       'Nombre', 'Link', 'Legislatura', 'tipo', 'fecha', 'fecha_formato',\n",
        "       'nombre', 'apellidos', 'procedLiteral', 'procedLugar', 'grupoNombre',\n",
        "       'tokens', 'Orden'])\n",
        "  fila=base['link'][base['link'] == l[6]].index[0]\n",
        "  texto=str(base.loc[fila].text)\n",
        "  discurso=str(l[3])\n",
        "\n",
        "  patron = r'\\b[A-Z][a-z][^.!?]*[.!?]'\n",
        "  ordenes = re.findall(patron, texto[texto.find('ORDEN DEL DÍA'):texto.find('SUMARIO')].replace('\\n',''))\n",
        "\n",
        "\n",
        "  o=0\n",
        "  for orden in ordenes:\n",
        "    if texto[texto.find('SUMARIO'):].find(discurso[:25])>texto[texto.find('SUMARIO'):].find(orden.upper()): o+=1\n",
        "\n",
        "  df['Nombre/Cargo']=[l[2]]\n",
        "  df['Discurso']=[l[3]]\n",
        "  df['Cargo']=[l[4]]\n",
        "  df['Nombre']=[l[5]]\n",
        "  df['Link']=[l[6]]\n",
        "  df['Legislatura']=[l[7]]\n",
        "  df['tipo']=[l[8]]\n",
        "  df['fecha']=[l[9]]\n",
        "  df['fecha_formato']=[l[10]]\n",
        "  df['nombre']=[l[11]]\n",
        "  df['apellidos']=[l[12]]\n",
        "  df['procedLiteral']=[l[13]]\n",
        "  df['procedLugar']=[l[14]]\n",
        "  df['grupoNombre']=[l[15]]\n",
        "  df['tokens']=[l[16]]\n",
        "  try:\n",
        "    df['orden']=[ordenes[o-1]]\n",
        "  except:\n",
        "    df['orden']=[\"\"]\n",
        "\n",
        "\n",
        "  return df"
      ],
      "metadata": {
        "id": "CzfD-9U7rQLj"
      },
      "execution_count": 260,
      "outputs": []
    },
    {
      "cell_type": "code",
      "source": [
        "base2=pd.DataFrame(columns=['Nombre/Cargo', 'Discurso', 'Cargo',\n",
        "       'Nombre', 'Link', 'Legislatura', 'tipo', 'fecha', 'fecha_formato',\n",
        "       'nombre', 'apellidos', 'procedLiteral', 'procedLugar', 'grupoNombre',\n",
        "       'tokens', 'Orden'])"
      ],
      "metadata": {
        "id": "44C0UxVP4gjK"
      },
      "execution_count": 261,
      "outputs": []
    },
    {
      "cell_type": "code",
      "source": [
        "for row in base_parseada.values:\n",
        "  base2 = pd.concat([base2, generar(row)], axis=0)"
      ],
      "metadata": {
        "id": "ivCarVUHoA1b"
      },
      "execution_count": null,
      "outputs": []
    },
    {
      "cell_type": "code",
      "source": [
        "base2=base2.reset_index(drop=True)"
      ],
      "metadata": {
        "id": "eqo1NUGkq_-Z"
      },
      "execution_count": null,
      "outputs": []
    },
    {
      "cell_type": "code",
      "source": [
        "base2['fecha_formato'] = pd.to_datetime(base2['fecha_formato'], errors='coerce')"
      ],
      "metadata": {
        "id": "5a7C0jzjjWdX"
      },
      "execution_count": null,
      "outputs": []
    },
    {
      "cell_type": "code",
      "source": [
        "from google.colab import files\n",
        "base2.to_csv('base_formateada_senado_snowball_conorden.csv', escapechar='\\\\')\n",
        "files.download('base_formateada_senado_snowball_conorden.csv')"
      ],
      "metadata": {
        "id": "MddIYTC4BIJs"
      },
      "execution_count": null,
      "outputs": []
    }
  ]
}