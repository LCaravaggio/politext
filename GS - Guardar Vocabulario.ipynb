{
  "nbformat": 4,
  "nbformat_minor": 0,
  "metadata": {
    "colab": {
      "provenance": [],
      "include_colab_link": true
    },
    "kernelspec": {
      "name": "python3",
      "display_name": "Python 3"
    },
    "language_info": {
      "name": "python"
    },
    "gpuClass": "standard"
  },
  "cells": [
    {
      "cell_type": "markdown",
      "metadata": {
        "id": "view-in-github",
        "colab_type": "text"
      },
      "source": [
        "<a href=\"https://colab.research.google.com/github/LCaravaggio/politext/blob/snowball/GS%20-%20Guardar%20Vocabulario.ipynb\" target=\"_parent\"><img src=\"https://colab.research.google.com/assets/colab-badge.svg\" alt=\"Open In Colab\"/></a>"
      ]
    },
    {
      "cell_type": "markdown",
      "source": [
        "# Cargar la base"
      ],
      "metadata": {
        "id": "3bR6IbjGTqyw"
      }
    },
    {
      "cell_type": "code",
      "source": [
        "import pandas as pd\n",
        "import numpy as np\n",
        "\n",
        "\n",
        "import json\n",
        "from google.colab import drive\n",
        "\n",
        "!mkdir ~/.kaggle\n",
        "!touch ~/.kaggle/kaggle.json\n",
        "\n",
        "drive.mount('/content/drive', force_remount=True)\n",
        "with open(\"/content/drive/My Drive/kaggle.json\", 'r') as f:\n",
        "    api_token= json.load(f)\n",
        "\n",
        "with open('/root/.kaggle/kaggle.json', 'w') as file:\n",
        "    json.dump(api_token, file)\n",
        "\n",
        "!chmod 600 ~/.kaggle/kaggle.json\n",
        "\n",
        "!kaggle datasets download -d leonardocaravaggio/base-diputados -f base_formateada_snowball.csv\n",
        "!kaggle datasets download -d leonardocaravaggio/scraps-pdfs -f partidos.csv"
      ],
      "metadata": {
        "colab": {
          "base_uri": "https://localhost:8080/"
        },
        "id": "1d3u68qTTy95",
        "outputId": "816f1b92-13c3-4a64-f7b3-f9297cf75a37"
      },
      "execution_count": 12,
      "outputs": [
        {
          "output_type": "stream",
          "name": "stdout",
          "text": [
            "mkdir: cannot create directory ‘/root/.kaggle’: File exists\n",
            "Mounted at /content/drive\n",
            "Downloading base_formateada_snowball.csv.zip to /content\n",
            " 99% 211M/214M [00:03<00:00, 86.8MB/s]\n",
            "100% 214M/214M [00:03<00:00, 73.9MB/s]\n",
            "Downloading partidos.csv to /content\n",
            "  0% 0.00/2.55k [00:00<?, ?B/s]\n",
            "100% 2.55k/2.55k [00:00<00:00, 5.90MB/s]\n"
          ]
        }
      ]
    },
    {
      "cell_type": "code",
      "source": [
        "import pandas as pd\n",
        "base=pd.read_csv('base_formateada_snowball.csv')"
      ],
      "metadata": {
        "id": "a4Y2nh_NT6vv",
        "colab": {
          "base_uri": "https://localhost:8080/"
        },
        "outputId": "e8d8d79a-4b4f-4ef5-bf78-8aafd9ec81bd"
      },
      "execution_count": 13,
      "outputs": [
        {
          "output_type": "stream",
          "name": "stderr",
          "text": [
            "<ipython-input-13-9ac41a69d66e>:2: DtypeWarning: Columns (18) have mixed types. Specify dtype option on import or set low_memory=False.\n",
            "  base=pd.read_csv('base_formateada_snowball.csv')\n"
          ]
        }
      ]
    },
    {
      "cell_type": "code",
      "source": [
        "import nltk\n",
        "nltk.download('stopwords')\n",
        "from nltk.corpus import stopwords\n",
        "stopwords=stopwords.words('spanish')"
      ],
      "metadata": {
        "colab": {
          "base_uri": "https://localhost:8080/"
        },
        "id": "vG2Zxxq3UvyZ",
        "outputId": "2d0d92ba-08c0-4c93-9c3e-4ad38c1af03e"
      },
      "execution_count": 14,
      "outputs": [
        {
          "output_type": "stream",
          "name": "stderr",
          "text": [
            "[nltk_data] Downloading package stopwords to /root/nltk_data...\n",
            "[nltk_data]   Package stopwords is already up-to-date!\n"
          ]
        }
      ]
    },
    {
      "cell_type": "code",
      "source": [
        "# Se incorporan las stopwords sugeridas por Federico\n",
        "stopwords.extend(['señor', 'señora', 'mucha', 'gracia', 'año', 'pasado', 'cada', 'vez', 'uno', 'dos', 'tres', 'cuatro', 'cinco', 'seis' ,'siete', 'ocho', 'nueve', 'diez'])\n",
        "stopwords.extend(['hoy', 'aquí', 'primer', 'lugar', 'primera', 'segunda', 'primero', 'segundo', 'siguiente', 'tercer'])\n",
        "stopwords.extend(['convergencia', 'esquerra', 'republicana', 'grupo', 'parlamentaria', 'parlamentario', 'partido'])\n",
        "stopwords.extend(['enmienda', 'votación', 'favor', 'abstención', 'ley', 'real', 'decreto', 'decretoley', 'resultado', 'voto', 'sé' ,'sí', 'silencio' ,'favor'])\n",
        "stopwords.extend(['usted', 'señoría', 'presidente', 'presidenta', 'ministro', 'orden' , 'día', 'palabra', 'petición', 'posición', 'punto', 'vista', 'sesión', 'baldoví', 'duran', 'turno'])\n",
        "stopwords.extend(['hacer', 'frente', 'puede' ,'ser', 'va', 'voy', 'decir'])\n",
        "stopwords.extend(['millón', 'euro', 'emitido', 'efectuada', 'dio', 'comienzo', 'partido', 'queda', 'quedan', 'rechazada', 'aceptada', 'comienza', 'usted', 'sabe', 'abstención', 'diputado', 'gobierno'])\n",
        "stopwords.extend(['continuación', 'votamos', 'telemático', 'republicanaizquierda', 'unidainiciativa', 'puede', 'bien', 'propuesta' ,'abstencion', 'mayoría', 'absoluta', 'pregunta', 'don', 'vamos', 'votar', 'llevar', 'cabo', 'millón', 'muchas', 'gracias'])\n",
        "stopwords.extend(['podemosen', 'podemen', 'ministro', 'ministra', 'ss', 'ruego', 'aprobado', 'aprobada'])\n",
        "stopwords.extend(['diputado', 'diputada', 'don', 'doña', 'vicepresidenta', 'sagastizab', 'unzetabarrenetxea', 'agirretxea', 'urresti', 'escrutinio', 'dijo', 'dice', 'quevedo'])\n",
        "stopwords.extend(['campuzano', 'beitialarrangoitia', 'gonzalezmoro', 'mixto'])"
      ],
      "metadata": {
        "id": "D34MOjAhUx_a"
      },
      "execution_count": 15,
      "outputs": []
    },
    {
      "cell_type": "code",
      "source": [
        "# Se incorporan los nombres de los oradores como stopwords\n",
        "from collections import Counter\n",
        "nombres=[]\n",
        "for i in base.namey.unique().tolist(): nombres.extend(str(i).split(' '))\n",
        "nombres = [x.strip(' ') for x in nombres]\n",
        "nombres = [x.strip(' †') for x in nombres]\n",
        "nombres = [x.strip(',') for x in nombres]\n",
        "nombres=list(Counter(nombres))\n",
        "nombres.remove('')"
      ],
      "metadata": {
        "id": "yRV1LnZ51Z8_"
      },
      "execution_count": 16,
      "outputs": []
    },
    {
      "cell_type": "code",
      "source": [
        "stopwords.extend(nombres)"
      ],
      "metadata": {
        "id": "h_aUXBkoJTLY"
      },
      "execution_count": 17,
      "outputs": []
    },
    {
      "cell_type": "code",
      "source": [
        "partidos=pd.read_csv('partidos.csv', encoding='latin1', sep=';')"
      ],
      "metadata": {
        "id": "gVO9-cRc2C2h"
      },
      "execution_count": 19,
      "outputs": []
    },
    {
      "cell_type": "code",
      "source": [
        "for x in partidos['nombre'].unique():\n",
        "  a=str(x).rstrip(' ')\n",
        "  stopwords.extend(str(a).split())\n",
        "  stopwords.extend(a)\n",
        "\n",
        "for x in partidos['1'].unique():\n",
        "  a=str(x).rstrip(' ')\n",
        "  stopwords.extend(a.split())\n",
        "  stopwords.extend(a)\n",
        "\n",
        "for x in partidos['2'].unique():\n",
        "  a=str(x).rstrip(' ')\n",
        "  stopwords.extend(a.split())\n",
        "  stopwords.extend(a)\n",
        "\n",
        "for x in partidos['3'].unique():\n",
        "  a=str(x).rstrip(' ')\n",
        "  stopwords.extend(a.split())\n",
        "  stopwords.extend(a)"
      ],
      "metadata": {
        "id": "JRe_Lrv02rRQ"
      },
      "execution_count": 20,
      "outputs": []
    },
    {
      "cell_type": "code",
      "source": [
        "len(stopwords)"
      ],
      "metadata": {
        "id": "PcvgCNO-OI4Z",
        "outputId": "a2d68c48-fbbf-4546-927f-206d84e86b45",
        "colab": {
          "base_uri": "https://localhost:8080/"
        }
      },
      "execution_count": 21,
      "outputs": [
        {
          "output_type": "execute_result",
          "data": {
            "text/plain": [
              "4481"
            ]
          },
          "metadata": {},
          "execution_count": 21
        }
      ]
    },
    {
      "cell_type": "code",
      "source": [
        "# elimino acentos de los tokens\n",
        "a,b = 'áàéèíóúü','aaeeiouu'\n",
        "trans = str.maketrans(a,b)\n",
        "lista = []\n",
        "for row in base.values:\n",
        "    row[20]=row[20].translate(trans)\n",
        "    lista.append(row)\n",
        "\n",
        "base = pd.DataFrame(lista, columns=base.columns)"
      ],
      "metadata": {
        "id": "6oEIOU9opvUN"
      },
      "execution_count": 22,
      "outputs": []
    },
    {
      "cell_type": "code",
      "source": [
        "# llevo las stopwords a minúsculas y elimino acentos\n",
        "stopwords=[x.lower() for x in stopwords if type(x)==str]\n",
        "stopwords=[x.translate(trans) for x in stopwords if type(x)==str]"
      ],
      "metadata": {
        "id": "wMKKiWt5oZnO"
      },
      "execution_count": 23,
      "outputs": []
    },
    {
      "cell_type": "markdown",
      "source": [
        "# Mencionadas en al menos 10 discursos\n",
        "(spoken in at least 10 unique speaker-session)"
      ],
      "metadata": {
        "id": "niQ8Yz2kYfL8"
      }
    },
    {
      "cell_type": "code",
      "source": [
        "base['tokens']"
      ],
      "metadata": {
        "colab": {
          "base_uri": "https://localhost:8080/"
        },
        "id": "3qwZq3E37WxF",
        "outputId": "01096b81-4048-4947-b351-8ff2a08ec1ee"
      },
      "execution_count": 24,
      "outputs": [
        {
          "output_type": "execute_result",
          "data": {
            "text/plain": [
              "0         ['señor', 'señor', 'diput', 'abre', 'junt', 'p...\n",
              "1         ['frail', 'poujad', 'segun', 'relacion', 'cons...\n",
              "2         ['sigu', 'rueg', 'esperab', 'arteag', 'tom', '...\n",
              "3         ['reanud', 'proced', 'dar', 'lectur', 'relacio...\n",
              "4         ['leid', 'inform', 'junt', 'electoral', 'centr...\n",
              "                                ...                        \n",
              "334416                                         ['convalid']\n",
              "334417    ['final', 'noviembr', 'adopt', 'med', 'urgent'...\n",
              "334418          ['convalid', 'muchisim', 'señor', 'levant']\n",
              "334419    ['buen', 'tard', 'señor', 'abre', 'comenz', 'c...\n",
              "334420    ['continu', 'relat', 'deleg', 'president', 'ca...\n",
              "Name: tokens, Length: 334421, dtype: object"
            ]
          },
          "metadata": {},
          "execution_count": 24
        }
      ]
    },
    {
      "cell_type": "code",
      "source": [
        "from sklearn.feature_extraction.text import CountVectorizer\n",
        "\n",
        "vect = CountVectorizer(ngram_range=(2,2), stop_words=stopwords , min_df=10)\n",
        "bow = vect.fit_transform(base['tokens'])"
      ],
      "metadata": {
        "id": "wIkH9CBhZE6m",
        "outputId": "b7d86c17-f947-4845-d427-c81d2da716bc",
        "colab": {
          "base_uri": "https://localhost:8080/"
        }
      },
      "execution_count": 25,
      "outputs": [
        {
          "output_type": "stream",
          "name": "stderr",
          "text": [
            "/usr/local/lib/python3.10/dist-packages/sklearn/feature_extraction/text.py:409: UserWarning: Your stop_words may be inconsistent with your preprocessing. Tokenizing the stop words generated tokens ['ahuja', 'alcañiz', 'amor', 'arreciado', 'barcena', 'barnuevo', 'capel', 'capitan', 'cascos', 'castejon', 'cienfuegos', 'compromis', 'congr', 'escandon', 'estefani', 'figueroa', 'fortun', 'hickman', 'huarte', 'jeltzalea', 'jovellanos', 'lasquetty', 'latorre', 'legaz', 'lersundi', 'llin', 'machuca', 'maillo', 'mancisidor', 'margallo', 'maribona', 'marlaska', 'medel', 'menchero', 'mendicoa', 'na', 'olivares', 'patxi', 'peces', 'pedrero', 'pinilla', 'piñero', 'ponga', 'pujalte', 'salmones', 'santesmases', 'sito', 'soro', 'sotelo', 'tagle', 'tesorero', 'tizon', 'toledano', 'torrecilla', 'trevijano', 'valdecasas', 'valdes', 'vargas', 'villaseñor', 'ximo', 'yañez'] not in stop_words.\n",
            "  warnings.warn(\n"
          ]
        }
      ]
    },
    {
      "cell_type": "code",
      "source": [
        "total_features = len(vect.vocabulary_)"
      ],
      "metadata": {
        "id": "mckvFlWih2bu"
      },
      "execution_count": 26,
      "outputs": []
    },
    {
      "cell_type": "markdown",
      "source": [
        "# Mencionadas al menos 100 veces en total\n",
        "(spoken at least 100 times across al sessions)"
      ],
      "metadata": {
        "id": "7hQBT61Eh3Lw"
      }
    },
    {
      "cell_type": "code",
      "source": [
        "new_voc={}\n",
        "for token in vect.vocabulary_:\n",
        "  if vect.vocabulary_[token]>100:\n",
        "    new_voc[token]=vect.vocabulary_[token]"
      ],
      "metadata": {
        "id": "GVsuZbfyd8OJ"
      },
      "execution_count": 27,
      "outputs": []
    },
    {
      "cell_type": "code",
      "source": [
        "len(new_voc)"
      ],
      "metadata": {
        "id": "r2-2-d6_hr-_",
        "outputId": "d6697278-1e8c-4f60-c09f-2a90d0350cf2",
        "colab": {
          "base_uri": "https://localhost:8080/"
        }
      },
      "execution_count": 28,
      "outputs": [
        {
          "output_type": "execute_result",
          "data": {
            "text/plain": [
              "357817"
            ]
          },
          "metadata": {},
          "execution_count": 28
        }
      ]
    },
    {
      "cell_type": "markdown",
      "source": [
        "# Mencionadas al menos 10 veces en un día\n",
        "(spoken at least 10 times in at least one session)"
      ],
      "metadata": {
        "id": "q5idatwOQz8B"
      }
    },
    {
      "cell_type": "code",
      "source": [
        "base['fecha'] = pd.to_datetime(base['fecha'], format='%d/%m/%Y')"
      ],
      "metadata": {
        "id": "Coa4hdlJYmH1"
      },
      "execution_count": 29,
      "outputs": []
    },
    {
      "cell_type": "code",
      "source": [
        "# Gentzkow et.al. usan mencionadas al menos 10 veces en una \"sesión\". Acá se usa mencionadas al menos 10 veces en un \"día\".\n",
        "\n",
        "new_voc2={}\n",
        "vect = CountVectorizer(ngram_range=(2,2), stop_words=stopwords)\n",
        "for x in base.fecha.unique():\n",
        "  base_dia=base[pd.DatetimeIndex(base.fecha)==x]\n",
        "  try:\n",
        "    bow = vect.fit_transform(base_dia['tokens'])\n",
        "    for token in vect.vocabulary_:\n",
        "      if vect.vocabulary_[token]>10:\n",
        "        new_voc2[token]=vect.vocabulary_[token]\n",
        "  except: pass"
      ],
      "metadata": {
        "id": "t99_S7tOQ1QB",
        "outputId": "25e69d50-7461-432b-fa7f-88acf96363d7",
        "colab": {
          "base_uri": "https://localhost:8080/"
        }
      },
      "execution_count": 30,
      "outputs": [
        {
          "output_type": "stream",
          "name": "stderr",
          "text": [
            "/usr/local/lib/python3.10/dist-packages/sklearn/feature_extraction/text.py:409: UserWarning: Your stop_words may be inconsistent with your preprocessing. Tokenizing the stop words generated tokens ['ahuja', 'alcañiz', 'amor', 'arreciado', 'barcena', 'barnuevo', 'capel', 'capitan', 'cascos', 'castejon', 'cienfuegos', 'compromis', 'congr', 'escandon', 'estefani', 'figueroa', 'fortun', 'hickman', 'huarte', 'jeltzalea', 'jovellanos', 'lasquetty', 'latorre', 'legaz', 'lersundi', 'llin', 'machuca', 'maillo', 'mancisidor', 'margallo', 'maribona', 'marlaska', 'medel', 'menchero', 'mendicoa', 'na', 'olivares', 'patxi', 'peces', 'pedrero', 'pinilla', 'piñero', 'ponga', 'pujalte', 'salmones', 'santesmases', 'sito', 'soro', 'sotelo', 'tagle', 'tesorero', 'tizon', 'toledano', 'torrecilla', 'trevijano', 'valdecasas', 'valdes', 'vargas', 'villaseñor', 'ximo', 'yañez'] not in stop_words.\n",
            "  warnings.warn(\n"
          ]
        }
      ]
    },
    {
      "cell_type": "code",
      "source": [
        "len(new_voc2)"
      ],
      "metadata": {
        "id": "ag7htFVFmJl4",
        "outputId": "2870a9a1-d249-47e2-b879-8c9574ddc194",
        "colab": {
          "base_uri": "https://localhost:8080/"
        }
      },
      "execution_count": 31,
      "outputs": [
        {
          "output_type": "execute_result",
          "data": {
            "text/plain": [
              "4704874"
            ]
          },
          "metadata": {},
          "execution_count": 31
        }
      ]
    },
    {
      "cell_type": "markdown",
      "source": [
        "# Combinación"
      ],
      "metadata": {
        "id": "lT1yqy_YZv_r"
      }
    },
    {
      "cell_type": "code",
      "source": [
        "inter=set(new_voc2).intersection(new_voc)"
      ],
      "metadata": {
        "id": "EOKJYrc1b538"
      },
      "execution_count": 32,
      "outputs": []
    },
    {
      "cell_type": "code",
      "source": [
        "vect = CountVectorizer(ngram_range=(2,2), stop_words=stopwords ,vocabulary=inter)\n",
        "bow = vect.fit_transform(base['tokens'])\n",
        "total_features = len(vect.vocabulary_)"
      ],
      "metadata": {
        "id": "pWPzVsZqZyuZ"
      },
      "execution_count": 33,
      "outputs": []
    },
    {
      "cell_type": "code",
      "source": [
        "# La intersección genera un vocabulario de apenas 270230 bigramas.\n",
        "total_features"
      ],
      "metadata": {
        "id": "2Xdq8tNmah0y",
        "outputId": "f2de3358-5610-4e15-82b9-80b6002abeb2",
        "colab": {
          "base_uri": "https://localhost:8080/"
        }
      },
      "execution_count": 34,
      "outputs": [
        {
          "output_type": "execute_result",
          "data": {
            "text/plain": [
              "357780"
            ]
          },
          "metadata": {},
          "execution_count": 34
        }
      ]
    },
    {
      "cell_type": "code",
      "source": [
        "matrix = bow"
      ],
      "metadata": {
        "id": "x63AW_utluu4"
      },
      "execution_count": 35,
      "outputs": []
    },
    {
      "cell_type": "code",
      "source": [
        "import pickle\n",
        "\n",
        "with open('vocabulary_snowball.voc','wb') as f:\n",
        "   pickle.dump(inter, f)"
      ],
      "metadata": {
        "id": "M8jwgAufAcZk"
      },
      "execution_count": 38,
      "outputs": []
    }
  ]
}