{
  "nbformat": 4,
  "nbformat_minor": 0,
  "metadata": {
    "colab": {
      "provenance": [],
      "authorship_tag": "ABX9TyPO+b2tX0tEpkYD8pac0mu2",
      "include_colab_link": true
    },
    "kernelspec": {
      "name": "python3",
      "display_name": "Python 3"
    },
    "language_info": {
      "name": "python"
    }
  },
  "cells": [
    {
      "cell_type": "markdown",
      "metadata": {
        "id": "view-in-github",
        "colab_type": "text"
      },
      "source": [
        "<a href=\"https://colab.research.google.com/github/LCaravaggio/politext/blob/main/TF_IDF_UP25.ipynb\" target=\"_parent\"><img src=\"https://colab.research.google.com/assets/colab-badge.svg\" alt=\"Open In Colab\"/></a>"
      ]
    },
    {
      "cell_type": "markdown",
      "source": [
        "# Cargar la base"
      ],
      "metadata": {
        "id": "3bR6IbjGTqyw"
      }
    },
    {
      "cell_type": "code",
      "source": [
        "from google.colab import drive\n",
        "drive.mount('/content/drive')"
      ],
      "metadata": {
        "colab": {
          "base_uri": "https://localhost:8080/"
        },
        "id": "1d3u68qTTy95",
        "outputId": "b1304bb6-631a-4888-b9c6-6e1e0281bf31"
      },
      "execution_count": 1,
      "outputs": [
        {
          "output_type": "stream",
          "name": "stdout",
          "text": [
            "Mounted at /content/drive\n"
          ]
        }
      ]
    },
    {
      "cell_type": "code",
      "source": [
        "import pandas as pd\n",
        "base=pd.read_csv('/content/drive/MyDrive/base_formateada.csv')"
      ],
      "metadata": {
        "id": "a4Y2nh_NT6vv",
        "colab": {
          "base_uri": "https://localhost:8080/"
        },
        "outputId": "f8e14cc0-3de4-428c-c4e3-4255ee418540"
      },
      "execution_count": 2,
      "outputs": [
        {
          "output_type": "stream",
          "name": "stderr",
          "text": [
            "/usr/local/lib/python3.8/dist-packages/IPython/core/interactiveshell.py:3326: DtypeWarning: Columns (18) have mixed types.Specify dtype option on import or set low_memory=False.\n",
            "  exec(code_obj, self.user_global_ns, self.user_ns)\n"
          ]
        }
      ]
    },
    {
      "cell_type": "code",
      "source": [
        "import nltk\n",
        "nltk.download('stopwords')\n",
        "from nltk.corpus import stopwords\n",
        "stopwords=stopwords.words('spanish')"
      ],
      "metadata": {
        "colab": {
          "base_uri": "https://localhost:8080/"
        },
        "id": "vG2Zxxq3UvyZ",
        "outputId": "a8c6d775-429f-4602-c3b9-26a9abc0a40f"
      },
      "execution_count": 3,
      "outputs": [
        {
          "output_type": "stream",
          "name": "stderr",
          "text": [
            "[nltk_data] Downloading package stopwords to /root/nltk_data...\n",
            "[nltk_data]   Unzipping corpora/stopwords.zip.\n"
          ]
        }
      ]
    },
    {
      "cell_type": "code",
      "source": [
        "# Se incorporan las stopwords sugeridas por Federico\n",
        "stopwords.extend(['señor', 'señora', 'mucha', 'gracia', 'año', 'pasado', 'cada', 'vez', 'uno', 'dos', 'tres', 'cuatro', 'cinco', 'seis' ,'siete', 'ocho', 'nueve', 'diez'])\n",
        "stopwords.extend(['hoy', 'aquí', 'primer', 'lugar', 'primera', 'segunda', 'primero', 'segundo', 'siguiente', 'tercer'])\n",
        "stopwords.extend(['convergencia', 'esquerra', 'republicana', 'grupo', 'parlamentaria', 'parlamentario', 'partido'])\n",
        "stopwords.extend(['enmienda', 'votación', 'favor', 'abstención', 'ley', 'real', 'decreto', 'decretoley', 'resultado', 'voto', 'sé' ,'sí', 'silencio' ,'favor'])\n",
        "stopwords.extend(['usted', 'señoría', 'presidente', 'presidenta', 'ministro', 'orden' , 'día', 'palabra', 'petición', 'posición', 'punto', 'vista', 'sesión', 'baldoví', 'duran', 'turno'])\n",
        "stopwords.extend(['hacer', 'frente', 'puede' ,'ser', 'va', 'voy', 'decir'])\n",
        "stopwords.extend(['millón', 'euro', 'emitido', 'efectuada', 'dio', 'comienzo', 'partido', 'queda', 'quedan', 'rechazada', 'aceptada', 'comienza', 'usted', 'sabe', 'abstención', 'diputado', 'gobierno'])\n",
        "stopwords.extend(['continuación', 'votamos', 'telemático', 'republicanaizquierda', 'unidainiciativa', 'puede', 'bien', 'propuesta' ,'abstencion', 'mayoría', 'absoluta', 'pregunta', 'don', 'vamos', 'votar', 'llevar', 'cabo', 'millón', 'muchas', 'gracias'])"
      ],
      "metadata": {
        "id": "D34MOjAhUx_a"
      },
      "execution_count": 4,
      "outputs": []
    },
    {
      "cell_type": "code",
      "source": [
        "# Se incorporan los nombres de los oradores como stopwords\n",
        "from collections import Counter\n",
        "nombres=[]\n",
        "for i in base.namey.unique().tolist(): nombres.extend(str(i).split(' '))\n",
        "nombres = [x.strip(' ') for x in nombres]\n",
        "nombres = [x.strip(' †') for x in nombres]\n",
        "nombres = [x.strip(',') for x in nombres]\n",
        "nombres=list(Counter(nombres))\n",
        "nombres.remove('')"
      ],
      "metadata": {
        "id": "yRV1LnZ51Z8_"
      },
      "execution_count": 5,
      "outputs": []
    },
    {
      "cell_type": "code",
      "source": [
        "stopwords.extend(nombres)"
      ],
      "metadata": {
        "id": "h_aUXBkoJTLY"
      },
      "execution_count": 6,
      "outputs": []
    },
    {
      "cell_type": "markdown",
      "source": [
        "# TF-IDF"
      ],
      "metadata": {
        "id": "6-0E1R8iJtL7"
      }
    },
    {
      "cell_type": "code",
      "source": [
        "# El hiperparámetro min_df del TF-IDF elimina las palabras con menor frecuencia. Por ejemplo, las palabras que aparecen en menos que el 75% de los discursos. \n",
        "# A continuación se adopta un enfoque distinto: Se genera un vocabulario con todos los bigramas, y luego se elimina el 75% de los bigramas con menor TF-IDF. \n",
        "# Es decir que entre los 8 millones de bigramas se seleccionan los 2 millones de mayor TF-IDF. \n",
        "\n",
        "from sklearn.feature_extraction.text import TfidfVectorizer\n",
        "vect = TfidfVectorizer(ngram_range=[2,2], stop_words=stopwords)\n",
        "bow = vect.fit_transform(base['tokens'])\n",
        "total_features = len(vect.vocabulary_)"
      ],
      "metadata": {
        "colab": {
          "base_uri": "https://localhost:8080/"
        },
        "id": "EZeRCYHmJuqL",
        "outputId": "e7a743dd-f92b-40e8-882f-5e295f21cce1"
      },
      "execution_count": 7,
      "outputs": [
        {
          "output_type": "stream",
          "name": "stderr",
          "text": [
            "/usr/local/lib/python3.8/dist-packages/sklearn/feature_extraction/text.py:396: UserWarning: Your stop_words may be inconsistent with your preprocessing. Tokenizing the stop words generated tokens ['abad', 'abascal', 'abeilhe', 'abejón', 'abel', 'aburto', 'acebes', 'acedo', 'acevedo', 'achutegui', 'acosta', 'acín', 'acítores', 'adela', 'adelaida', 'adolfo', 'adriana', 'adriano', 'adrover', 'adsuar', 'adámez', 'adán', 'agius', 'agramunt', 'aguado', 'aguerri', 'aguilar', 'aguilera', 'aguiriano', 'aguirre', 'agustín', 'ahuja', 'aizpún', 'aja', 'alarcón', 'alba', 'albaladejo', 'albendea', 'alberdi', 'albero', 'alberto', 'albiach', 'albiñana', 'alborch', 'albéniz', 'alcalde', 'alcaraz', 'alcañiz', 'alconchel', 'alcover', 'alcázar', 'aldea', 'aledo', 'alegre', 'alegría', 'alejandro', 'alfonso', 'alfred', 'alfredo', 'alférez', 'alicia', 'alierta', 'alique', 'allende', 'almagro', 'almaraz', 'almunia', 'alonso', 'alvear', 'alzaga', 'alén', 'alós', 'amador', 'amann', 'amarillo', 'amate', 'amelia', 'amigo', 'amilivia', 'amor', 'amparo', 'amuedo', 'ana', 'anastasio', 'anaya', 'andrea', 'andré', 'andrés', 'andréu', 'angelina', 'anguita', 'angulo', 'angustias', 'aniceto', 'anna', 'antich', 'antoliano', 'anton', 'antonaya', 'antoni', 'antonia', 'antonio', 'antón', 'aparicio', 'ara', 'aragonés', 'aranda', 'aranegui', 'arantza', 'aranzábal', 'araya', 'araújo', 'arbat', 'arboledas', 'arca', 'arce', 'arenales', 'arenas', 'ares', 'argany', 'argüello', 'arias', 'arija', 'ariño', 'armando', 'armas', 'armengol', 'arnaez', 'arnau', 'arnáiz', 'arola', 'aroz', 'arqueros', 'arreciado', 'arriola', 'arritokieta', 'arrúe', 'arsenio', 'artemi', 'arteseros', 'arturo', 'arza', 'aránzazu', 'arévalo', 'arístegui', 'ascensión', 'asenjo', 'asensio', 'asian', 'asperilla', 'astarloa', 'asunción', 'asís', 'atanasio', 'atencia', 'atienza', 'atondo', 'augusto', 'aurelio', 'avelino', 'ayala', 'ayllón', 'aymerich', 'ayuso', 'aznar', 'azorín', 'azpiroz', 'azuaga', 'azuara', 'babiano', 'baena', 'baeza', 'bajo', 'bajén', 'balada', 'balaguer', 'balbás', 'baldeón', 'baldomero', 'ballestero', 'ballesteros', 'ballesté', 'balletbò', 'balmaseda', 'bar', 'barahona', 'barba', 'barbadillo', 'barbanoj', 'barber', 'barberán', 'barceló', 'barciela', 'bardisa', 'barnuevo', 'barquero', 'barrachina', 'barragán', 'barranco', 'barreda', 'barreiro', 'barrera', 'barrero', 'barrio', 'barrionuevo', 'barrios', 'barros', 'barrueco', 'barrufet', 'bartolomé', 'bartret', 'barón', 'basagoiti', 'basarte', 'baselga', 'bassets', 'bastarreche', 'bastidas', 'bataller', 'batanero', 'batet', 'batista', 'batlles', 'bausela', 'bautista', 'bayona', 'baños', 'bañuls', 'baón', 'beatriz', 'becana', 'beccaría', 'becerril', 'bedera', 'begoña', 'bel', 'belarmina', 'belda', 'belinchón', 'bella', 'bellido', 'belloch', 'beltrán', 'belén', 'benegas', 'beneyto', 'benito', 'bento', 'benzal', 'benítez', 'berbel', 'berenguer', 'bergareche', 'bergasa', 'berlanga', 'bermejo', 'bermúdez', 'bernabeu', 'bernabé', 'bernal', 'bernarda', 'bernardo', 'bernat', 'berruezo', 'berta', 'bertomeu', 'bertrand', 'berzal', 'bes', 'betancort', 'beviá', 'bibiano', 'biscarolasaga', 'blanc', 'blanca', 'blancas', 'blanch', 'blanco', 'blanquer', 'blanquet', 'blas', 'blasco', 'blázquez', 'boada', 'bocanegra', 'bofill', 'boix', 'bolarín', 'bolaños', 'bolea', 'bombín', 'boned', 'bonilla', 'bonmatí', 'bono', 'boronat', 'borrego', 'borrell', 'bosch', 'bosó', 'botana', 'botella', 'boursault', 'boyer', 'bragulat', 'bravo', 'breva', 'brey', 'brito', 'bru', 'buen', 'bueno', 'bueso', 'buitrón', 'bureta', 'burgo', 'burgos', 'burillo', 'busqueta', 'busquets', 'bustamante', 'bustillo', 'busto', 'bustos', 'buyolo', 'bárcena', 'báscones', 'báñez', 'caamaño', 'caballero', 'cabaña', 'cabañes', 'cabello', 'cabeza', 'cabezas', 'cabezón', 'cabrer', 'cabrera', 'cacho', 'cadenas', 'calabuig', 'calahorro', 'calatayud', 'caldera', 'calderón', 'calero', 'callao', 'calleja', 'callejón', 'calomarde', 'calpe', 'calurano', 'calvache', 'calvo', 'calvín', 'cama', 'camacho', 'camarero', 'camilleri', 'camisón', 'campo', 'campos', 'campoy', 'camps', 'campí', 'camuñas', 'candelas', 'candón', 'caneda', 'cano', 'canongia', 'cantarero', 'cantera', 'canóniga', 'capdevila', 'capel', 'capitán', 'caraballo', 'carabel', 'caracuel', 'carballada', 'carballedo', 'carbonell', 'carbó', 'carcedo', 'cardalliaguet', 'carlos', 'carlota', 'carme', 'carmela', 'carmelo', 'carmen', 'carner', 'carnicer', 'carod', 'carolina', 'carrascal', 'carrasco', 'carrascosa', 'carrera', 'carretero', 'carreño', 'carriegas', 'carrillo', 'carrió', 'cartagena', 'carvajal', 'casabán', 'casadevall', 'casado', 'casares', 'casaseca', 'casaus', 'casañ', 'cascallana', 'cascos', 'casero', 'castallo', 'castany', 'castejón', 'castell', 'castellano', 'castellanos', 'castellarnau', 'castells', 'castelló', 'castilla', 'castillejo', 'castillo', 'castrillo', 'castro', 'catalá', 'catalán', 'cava', 'cayetana', 'cañellas', 'cañete', 'cañizares', 'cebrián', 'cediel', 'cedrés', 'cejas', 'celaá', 'celeste', 'celestino', 'celia', 'celinda', 'celis', 'celso', 'cendón', 'cercas', 'cereto', 'cerezo', 'cervera', 'chacón', 'chamosa', 'chapela', 'chaves', 'checa', 'chiquillo', 'chisbert', 'chivite', 'cholbi', 'cienfuegos', 'cierco', 'cipriano', 'ciprià', 'ciriaco', 'cisneros', 'clara', 'clavell', 'clavijo', 'clemencia', 'clementina', 'climent', 'clofent', 'clotas', 'cobacho', 'cobaleda', 'cobo', 'cobos', 'codesal', 'coello', 'colino', 'coll', 'collado', 'collarte', 'colldeforns', 'colom', 'compte', 'concepció', 'concepción', 'conde', 'conesa', 'conillas', 'conrado', 'consuegra', 'consuelo', 'continente', 'contreras', 'coquillat', 'corbella', 'corcuera', 'cordero', 'cordón', 'corgos', 'cornago', 'corominas', 'coronado', 'corral', 'corrales', 'correas', 'corredor', 'corres', 'corsanego', 'cortajarena', 'corte', 'cortijo', 'cortés', 'cosculluela', 'cosidó', 'costa', 'costas', 'cotelo', 'cotillas', 'cotoner', 'cravioto', 'cremades', 'crespo', 'crevillén', 'criado', 'cristina', 'cristóbal', 'croft', 'croissier', 'cruañes', 'cruellas', 'cruz', 'cruzate', 'cuadrado', 'cubero', 'cuello', 'cuenca', 'cuesta', 'cueto', 'cuevas', 'cunillera', 'curbelo', 'curiel', 'cuyaubé', 'cáceres', 'cámara', 'cándida', 'cándido', 'cánovas', 'cárceles', 'cárdenas', 'césar', 'císcar', 'damborenea', 'damián', 'daniel', 'darmendrail', 'david', 'delgado', 'delia', 'demetrio', 'devesa', 'devis', 'diego', 'dioh', 'dionisio', 'dios', 'diouf', 'diéguez', 'doblado', 'dolores', 'dolors', 'domingo', 'domínguez', 'donato', 'dueñas', 'duque', 'durá', 'durán', 'dárias', 'dávila', 'díaz', 'díez', 'echeverría', 'echániz', 'echávarri', 'edo', 'eduardo', 'efrén', 'egea', 'eguiagaray', 'eiris', 'elena', 'elio', 'elisenda', 'elola', 'elorriaga', 'elorza', 'eloy', 'eloísa', 'elvira', 'elviro', 'elías', 'elío', 'emiliano', 'emilio', 'encabo', 'encarnación', 'encina', 'enedina', 'enric', 'enrique', 'enriqueta', 'enríquez', 'erasmo', 'erias', 'ernest', 'ernesto', 'escalera', 'escandón', 'escartí', 'escobar', 'escoms', 'escribano', 'escrita', 'escuder', 'escudero', 'escuredo', 'escuza', 'espasa', 'españa', 'esperança', 'espinar', 'espinosa', 'esquiva', 'estañol', 'esteban', 'estela', 'esteller', 'esteo', 'estevan', 'esteve', 'esther', 'estrada', 'estrella', 'estéfani', 'eugenia', 'eugenio', 'eulate', 'eusebio', 'eva', 'expósito', 'fabra', 'fajardo', 'fajarnés', 'faneca', 'faraldo', 'fariñas', 'farrera', 'fausto', 'fayos', 'febrer', 'federico', 'felgueroso', 'feliciano', 'felipe', 'feliu', 'fernanda', 'fernando', 'fernández', 'ferragut', 'ferran', 'ferrando', 'ferrer', 'ferro', 'ferrándiz', 'ferré', 'fierro', 'figaredo', 'figueras', 'figueres', 'figueroa', 'florencia', 'florencio', 'florentina', 'flores', 'floriano', 'folgado', 'fons', 'font', 'fontagne', 'fontal', 'fontana', 'fontelles', 'fontes', 'fontán', 'forniés', 'fortún', 'fraga', 'fraile', 'francesc', 'francesca', 'francia', 'francisca', 'francisco', 'franco', 'franquis', 'freire', 'froilán', 'frías', 'fuejo', 'fuente', 'fuentes', 'fuertes', 'fumero', 'fuster', 'fátima', 'fèlix', 'félix', 'gabino', 'gabriel', 'galache', 'galeano', 'galeote', 'galilea', 'gallardo', 'gallardón', 'gallego', 'gallizo', 'galloso', 'galván', 'galán', 'gamazo', 'gamero', 'gante', 'garcés', 'garcía', 'garre', 'garrido', 'garriga', 'garzón', 'gasco', 'gasol', 'gaspar', 'gastón', 'gasulla', 'gaviña', 'gayol', 'gema', 'gener', 'gerardo', 'germà', 'germán', 'gerona', 'gervasio', 'gil', 'gilet', 'gimeno', 'giménez', 'giner', 'girart', 'girela', 'girón', 'gisbert', 'gloria', 'goicoechea', 'gomila', 'gonzaga', 'gonzalo', 'gonzález', 'gordillo', 'gordo', 'gorostiaga', 'gortázar', 'goyeneche', 'gozalbes', 'gramage', 'granada', 'granado', 'granados', 'grande', 'grandes', 'granell', 'granja', 'grau', 'gravalos', 'gregori', 'gregorio', 'grenzner', 'grijalba', 'griñán', 'grosso', 'gràcia', 'guadalupe', 'guaita', 'guardiola', 'guarinos', 'guarné', 'guasch', 'guerra', 'guerrero', 'guillem', 'guillermo', 'guillén', 'guinart', 'guinda', 'guinea', 'guirao', 'gustavo', 'gutiez', 'gutiérrez', 'guzmán', 'gálvez', 'gámir', 'gómara', 'gómez', 'górriz', 'haddad', 'haro', 'helena', 'heras', 'heredia', 'herick', 'hermosín', 'hernando', 'hernansanz', 'hernanz', 'hernández', 'herranz', 'herrer', 'herrera', 'herrero', 'herrán', 'herzog', 'hickman', 'hidalgo', 'hierro', 'higinio', 'higueras', 'hijano', 'hilario', 'hipólito', 'holgado', 'horacio', 'hormiga', 'hoyo', 'hoyos', 'huarte', 'huertas', 'hugo', 'huidobro', 'hurtado', 'héctor', 'ibarra', 'ibarz', 'ibáñez', 'iglesias', 'ignacio', 'ignasi', 'illana', 'inmaculada', 'insua', 'inés', 'iraola', 'iratxe', 'irazazábal', 'irene', 'iribarne', 'iribarren', 'irma', 'iruela', 'isabel', 'isasi', 'isaías', 'isidoro', 'isidro', 'ismael', 'istúriz', 'iturrioz', 'izquierdo', 'izuel', 'iñiguez', 'jaime', 'jar', 'jara', 'jarabo', 'jasanada', 'jaume', 'javier', 'jaén', 'jenaro', 'jerez', 'jerónimo', 'jesús', 'jiménez', 'joan', 'joaquim', 'joaquín', 'jordano', 'jordi', 'jordá', 'jordán', 'jorge', 'josefa', 'josep', 'josu', 'josé', 'jovellanos', 'jover', 'juan', 'juana', 'juaneda', 'juanes', 'jubero', 'julbe', 'juli', 'julia', 'julio', 'juliá', 'julián', 'juncal', 'juncá', 'jurado', 'juste', 'justo', 'juárez', 'jáuregui', 'jódar', 'kirkpátric', 'laborda', 'lacalle', 'lacambra', 'lacoba', 'lago', 'laguna', 'lagunilla', 'lamata', 'lamaña', 'lamuà', 'landaluce', 'landero', 'landeta', 'lanuza', 'lapeña', 'lapuerta', 'lara', 'larroque', 'larrosa', 'lasarte', 'laseca', 'laserna', 'lasquetty', 'lassalle', 'lastra', 'lasuén', 'latorre', 'lavilla', 'lazo', 'ledesma', 'ledo', 'ledro', 'legaz', 'leguina', 'leire', 'leiva', 'leocadio', 'leopoldo', 'lerma', 'lersundi', 'león', 'liliano', 'limones', 'limón', 'linares', 'lissavetzky', 'lizarraga', 'llamas', 'llano', 'llin', 'llohis', 'llopis', 'llorca', 'llorens', 'llorente', 'lloret', 'lluch', 'llusà', 'lluís', 'lluïsa', 'lombarte', 'lombilla', 'lombán', 'lomeña', 'lope', 'lorenzo', 'lourdes', 'loyola', 'lozana', 'lozano', 'luc', 'lucas', 'luciano', 'lucila', 'lucio', 'lucita', 'lucía', 'ludivina', 'luena', 'lugo', 'luis', 'luisa', 'luna', 'luque', 'luquero', 'luz', 'lázaro', 'lídia', 'lópez', 'macarena', 'macarro', 'machuca', 'maciá', 'macías', 'madariaga', 'madero', 'madina', 'madrazo', 'madrid', 'madurell', 'maeso', 'magallanes', 'magdalena', 'majó', 'malaret', 'mancha', 'mancisidor', 'maniega', 'manso', 'mantilla', 'manuel', 'manuela', 'manzanares', 'manén', 'maorad', 'mar', 'maravall', 'marañón', 'marc', 'marcelo', 'marcet', 'marcial', 'marco', 'marcos', 'marfil', 'margallo', 'margarita', 'maria', 'mariano', 'maribona', 'mario', 'marisa', 'mariscal', 'mariño', 'marlaska', 'maroto', 'marques', 'marquínez', 'marraco', 'marsal', 'marta', 'martel', 'martinón', 'martorell', 'martí', 'martín', 'martínez', 'marugán', 'marzal', 'marí', 'maría', 'marín', 'mas', 'masa', 'masaveu', 'mascareño', 'masip', 'masiá', 'massanet', 'mata', 'matador', 'matarí', 'mateo', 'mateos', 'mateu', 'matilde', 'mato', 'matos', 'maturana', 'mauro', 'maya', 'mayol', 'mayor', 'mayoral', 'mazarrasa', 'maíllo', 'mañueco', 'meco', 'medel', 'mediavilla', 'medina', 'medrano', 'melgarejo', 'membrado', 'menal', 'menchero', 'mendaro', 'mendicoa', 'mendizábal', 'mendoza', 'menéndez', 'mera', 'mercedes', 'merchán', 'mercè', 'merino', 'meritxell', 'mesa', 'mestre', 'mestres', 'mesón', 'meño', 'micaela', 'michavila', 'micó', 'mier', 'miguel', 'miguélez', 'milagros', 'milanés', 'milián', 'milla', 'millet', 'millán', 'mingo', 'miquel', 'mir', 'mira', 'miralles', 'miranda', 'miriam', 'mirón', 'miyares', 'miñón', 'modesto', 'modrego', 'mohedano', 'molina', 'molinero', 'molino', 'molins', 'mollar', 'moltó', 'moneo', 'monforte', 'monrové', 'montalbán', 'montelongo', 'montero', 'montes', 'montesdeoca', 'monteserín', 'montesinos', 'montojo', 'montoro', 'montseny', 'montserrat', 'montón', 'monzó', 'mora', 'moraga', 'moragas', 'moragues', 'moral', 'moraleda', 'moraleja', 'morales', 'morano', 'moratalla', 'moratinos', 'morcillo', 'moreno', 'morera', 'morillo', 'morlán', 'moro', 'morán', 'moscoso', 'movellán', 'moya', 'moyano', 'mullor', 'muntalà', 'murcia', 'murillo', 'murria', 'muñoz', 'mármol', 'márquez', 'máximo', 'máñez', 'méndez', 'mínguez', 'mòdol', 'múgica', 'nadal', 'naharro', 'naranjo', 'narbona', 'narciso', 'narcís', 'nasarre', 'nava', 'naval', 'navarrete', 'navarro', 'navas', 'nazaria', 'neftalí', 'neira', 'nestares', 'nicolás', 'nieto', 'niño', 'nobel', 'noda', 'noguera', 'norniella', 'noval', 'novas', 'novella', 'nuevo', 'néstor', 'núñez', 'obiols', 'oblanca', 'obón', 'ochaita', 'ochoa', 'odón', 'ofelia', 'oficialdegui', 'ojeda', 'olano', 'olea', 'olga', 'oliart', 'olid', 'oliva', 'olivares', 'olivencia', 'oliver', 'olivia', 'olivé', 'ollero', 'olmedo', 'olmo', 'olmos', 'oltra', 'omaechevarría', 'oms', 'onís', 'oramas', 'orbegozo', 'ordóñez', 'oreiro', 'oreja', 'oria', 'orozco', 'ortega', 'ortiz', 'otazo', 'oteo', 'otero', 'oñate', 'pablo', 'pabón', 'pacheco', 'padilla', 'padrón', 'pagán', 'paiz', 'pajares', 'pajín', 'palacio', 'palacios', 'palacín', 'palanques', 'palma', 'palmer', 'paloma', 'palomares', 'palomo', 'pan', 'paniagua', 'parada', 'pardo', 'paredes', 'pareja', 'pariente', 'parralejo', 'parras', 'pascual', 'pastor', 'pastora', 'patricia', 'patxi', 'pau', 'paulino', 'paz', 'paños', 'peces', 'pedregosa', 'pedreira', 'pedrero', 'pedret', 'pedro', 'pedrola', 'pedrosa', 'peinado', 'pelayo', 'pellicer', 'penagos', 'penco', 'perales', 'peralta', 'perdomo', 'pere', 'perea', 'pereira', 'perinat', 'peris', 'pernau', 'pertierra', 'peré', 'pesquero', 'pezzi', 'peña', 'peñalosa', 'peñalver', 'peñarrubia', 'peón', 'piazuelo', 'picón', 'piedra', 'pifarré', 'pilar', 'pillado', 'pin', 'pineda', 'pinedo', 'pinilla', 'pinillos', 'pino', 'pintado', 'pinto', 'piquer', 'piqueras', 'piqué', 'pisarik', 'pisonero', 'pizarro', 'piñero', 'pla', 'plana', 'planas', 'plaza', 'pleguezuelos', 'pliego', 'plou', 'pol', 'polledo', 'polo', 'polonio', 'ponce', 'ponga', 'pons', 'porras', 'posada', 'postigo', 'poujade', 'povedano', 'poyato', 'pozas', 'pozo', 'pozuelo', 'prada', 'pradas', 'prado', 'prados', 'prats', 'presa', 'prieto', 'prim', 'pró', 'puchades', 'puche', 'puente', 'puerto', 'puig', 'pujalte', 'pulgar', 'purón', 'párraga', 'pérez', 'pía', 'pío', 'píriz', 'quer', 'queralt', 'quijano', 'quintana', 'quintanilla', 'quintero', 'quintilla', 'quirós', 'quílez', 'rabanera', 'rafael', 'raga', 'raimon', 'raimundo', 'rajoy', 'rallo', 'ramallo', 'rami', 'ramiro', 'ramis', 'ramon', 'ramos', 'ramírez', 'ramón', 'rangel', 'raquel', 'rascón', 'raso', 'rato', 'raya', 'recio', 'redondo', 'rego', 'reguera', 'reina', 'reinares', 'reinosa', 'reinés', 'reixach', 'remedios', 'renau', 'renedo', 'resta', 'revenga', 'reventós', 'revilla', 'revuelta', 'rey', 'reyes', 'reynés', 'riaño', 'ribas', 'ribelles', 'ribera', 'ricard', 'ricardo', 'rico', 'ricomá', 'riembau', 'riera', 'riesco', 'rincón', 'ripa', 'ripoll', 'rita', 'rivacoba', 'rivas', 'rivera', 'rivero', 'roa', 'roberto', 'robledo', 'robles', 'roca', 'roces', 'rocha', 'rocío', 'rodolf', 'rodolfo', 'rodrigo', 'rodriguez', 'rodríguez', 'rogado', 'rogelio', 'rojas', 'rojo', 'roldán', 'roldós', 'rollán', 'romacho', 'romay', 'romero', 'romeu', 'rominguera', 'román', 'roncero', 'ronda', 'roque', 'ros', 'rosa', 'rosalía', 'rosario', 'roselló', 'royo', 'rozada', 'rozas', 'ruano', 'rubalcaba', 'rubia', 'rubiales', 'rubio', 'rubén', 'rudi', 'rueda', 'ruedas', 'rufino', 'ruiz', 'rull', 'rumí', 'rutllant', 'río', 'ríos', 'saavedra', 'sabando', 'sabaté', 'sacramento', 'saera', 'saez', 'sagarna', 'sagnier', 'sagredo', 'sagreras', 'sahuquillo', 'sainz', 'saiz', 'sala', 'salamanca', 'salamero', 'salazar', 'salgado', 'salinas', 'salmones', 'salom', 'salvador', 'salvà', 'sampedro', 'sampietro', 'samuel', 'san', 'sanabria', 'sanagustín', 'sanahuja', 'sancho', 'sanchís', 'sandra', 'sandín', 'sanfeliu', 'sanjuán', 'santa', 'santaella', 'santamaría', 'santana', 'santandreu', 'santesmases', 'santiago', 'santos', 'santín', 'sanus', 'sanz', 'sapena', 'sara', 'sarmiento', 'saura', 'saval', 'schwartz', 'sebastiana', 'sebastián', 'seco', 'segovia', 'segura', 'segurado', 'seijo', 'seller', 'sellés', 'selva', 'sempere', 'sena', 'sendra', 'sergio', 'serna', 'serra', 'serrada', 'serrano', 'sevilla', 'sicilia', 'sierra', 'sieso', 'silla', 'silva', 'silvestre', 'silvia', 'silván', 'simancas', 'simarro', 'simón', 'siquier', 'siro', 'sirodey', 'sisó', 'sito', 'sixte', 'siñol', 'sobrino', 'socias', 'sofía', 'sol', 'sola', 'solana', 'solano', 'solbes', 'solchaga', 'soledad', 'solera', 'solé', 'solís', 'sonia', 'soravilla', 'soraya', 'soria', 'soriano', 'soro', 'sotelo', 'sotero', 'sotillo', 'soto', 'sotomayor', 'souvirón', 'spínola', 'squella', 'such', 'sumelzo', 'susana', 'susinos', 'suárez', 'sáenz', 'sáez', 'sáiz', 'sánchez', 'tagle', 'tainta', 'tajadura', 'talero', 'tamara', 'tapias', 'tarno', 'tarragona', 'tarrero', 'tarrés', 'tassara', 'taulet', 'teixeira', 'tejada', 'tejero', 'teodoro', 'terciado', 'teresa', 'terol', 'terreros', 'terán', 'tesorero', 'tesoro', 'teva', 'teófila', 'teófilo', 'tierno', 'tirado', 'tizón', 'tocino', 'togores', 'toledano', 'toledo', 'tomás', 'toribio', 'torme', 'tormo', 'tornay', 'toro', 'torrado', 'torralba', 'torre', 'torrecilla', 'torrejón', 'torres', 'torreño', 'tortosa', 'tous', 'toval', 'trallero', 'travesedo', 'tremiño', 'trevijano', 'trevín', 'triana', 'trias', 'triay', 'triginer', 'trillo', 'trinidad', 'tristana', 'trocóniz', 'trujillo', 'trías', 'tudanca', 'tudela', 'tuero', 'tundidor', 'tura', 'turiel', 'tárrega', 'téllez', 'ucelay', 'unzalu', 'unzurrunzaga', 'urbano', 'urbieta', 'uriarte', 'uribarri', 'uriol', 'urquizu', 'urralburu', 'urrea', 'utrabo', 'utrera', 'vadillo', 'vaello', 'valcarce', 'valdecasas', 'valdenebro', 'valdivielso', 'valdés', 'valenciano', 'valentina', 'valentín', 'valenzuela', 'valeriano', 'valerio', 'valle', 'vallejo', 'vallina', 'valls', 'vallès', 'vallés', 'valmaña', 'valverde', 'vaquero', 'varela', 'vargas', 'vañó', 'vega', 'vegara', 'vela', 'velarde', 'velasco', 'vera', 'veracruz', 'veray', 'verde', 'verdú', 'verger', 'verstrynge', 'verónica', 'viana', 'viar', 'vicent', 'vicenta', 'vicente', 'victoria', 'victoriano', 'victorino', 'vida', 'vidal', 'vigil', 'vigo', 'vila', 'vilafranca', 'vilella', 'villa', 'villaamil', 'villagrasa', 'villalba', 'villalobos', 'villamayor', 'villanova', 'villanueva', 'villaplana', 'villar', 'villarrubia', 'villaseñor', 'villazán', 'villegas', 'villena', 'vinué', 'virgilio', 'virginio', 'virtudes', 'visiedo', 'visitación', 'viso', 'vitoria', 'vivas', 'vives', 'vizcaíno', 'viñes', 'vázquez', 'víctor', 'xavier', 'ximo', 'ybarra', 'yolanda', 'yuste', 'yáñez', 'zaera', 'zaida', 'zamarrón', 'zambrana', 'zambrano', 'zamora', 'zancada', 'zapatero', 'zapico', 'zaplana', 'zaragoza', 'zarazaga', 'zarrías', 'zoido', 'zurera', 'zurita', 'àlex', 'àngel', 'àngela', 'àngels', 'ábalos', 'águeda', 'álamo', 'álvarez', 'álvaro', 'ángel', 'ángeles', 'ávalos', 'ávila', 'íñigo', 'óscar', 'úbeda'] not in stop_words.\n",
            "  warnings.warn(\n"
          ]
        }
      ]
    },
    {
      "cell_type": "code",
      "source": [
        "total_features"
      ],
      "metadata": {
        "colab": {
          "base_uri": "https://localhost:8080/"
        },
        "id": "9kQ1WdWHLUln",
        "outputId": "1b94fe24-cb0a-4464-8a2d-6a17e74824bc"
      },
      "execution_count": 13,
      "outputs": [
        {
          "output_type": "execute_result",
          "data": {
            "text/plain": [
              "8228192"
            ]
          },
          "metadata": {},
          "execution_count": 13
        }
      ]
    },
    {
      "cell_type": "code",
      "source": [
        "sum_words = bow.sum(axis=0) \n",
        "words_freq = [(word, sum_words[0, idx]) for word, idx in vect.vocabulary_.items()]\n",
        "words_freq = sorted(words_freq, key = lambda x: x[1])\n",
        "vocabulary, _ = zip(*words_freq[:int(total_features * 0.75)])\n",
        "less_vocabulary = list(vocabulary)"
      ],
      "metadata": {
        "id": "u2zudaJdLHAH"
      },
      "execution_count": 10,
      "outputs": []
    },
    {
      "cell_type": "code",
      "source": [
        "voc=vect.vocabulary_.keys()-less_vocabulary"
      ],
      "metadata": {
        "id": "VnN5dupSLLgB"
      },
      "execution_count": 11,
      "outputs": []
    },
    {
      "cell_type": "code",
      "source": [
        "len(voc)"
      ],
      "metadata": {
        "colab": {
          "base_uri": "https://localhost:8080/"
        },
        "id": "e41pUb63LRQo",
        "outputId": "36787b3c-0f50-4534-9675-384926528e59"
      },
      "execution_count": 12,
      "outputs": [
        {
          "output_type": "execute_result",
          "data": {
            "text/plain": [
              "2057048"
            ]
          },
          "metadata": {},
          "execution_count": 12
        }
      ]
    },
    {
      "cell_type": "code",
      "source": [
        "cv=TfidfVectorizer(ngram_range=[2,2], vocabulary=voc)\n",
        "vec = cv.fit(base['tokens'])"
      ],
      "metadata": {
        "id": "dKJ3erurMhJQ"
      },
      "execution_count": 14,
      "outputs": []
    },
    {
      "cell_type": "code",
      "source": [
        "matrix = vec.transform(base['tokens'])"
      ],
      "metadata": {
        "id": "iv1xCHcAMjGc"
      },
      "execution_count": 15,
      "outputs": []
    },
    {
      "cell_type": "code",
      "source": [
        "matrix.shape"
      ],
      "metadata": {
        "colab": {
          "base_uri": "https://localhost:8080/"
        },
        "id": "90gruQRLMoeN",
        "outputId": "ed75ec8a-879e-422c-b33b-c208c99c1289"
      },
      "execution_count": 16,
      "outputs": [
        {
          "output_type": "execute_result",
          "data": {
            "text/plain": [
              "(334421, 2057048)"
            ]
          },
          "metadata": {},
          "execution_count": 16
        }
      ]
    },
    {
      "cell_type": "markdown",
      "source": [
        "# Número óptimo de clustes"
      ],
      "metadata": {
        "id": "YKNUCBRCNrn0"
      }
    },
    {
      "cell_type": "code",
      "source": [
        "# LDA en Sklearn tiene un resultado de score correspondiente al log-likelihood. En base a ese criterio se identifica el número óptimo de clusters. \n",
        "\n",
        "from sklearn.decomposition import LatentDirichletAllocation\n",
        "from sklearn.model_selection import GridSearchCV\n",
        "\n",
        "search_params = {'n_components': [20, 40, 60, 80]}\n",
        "model = LatentDirichletAllocation(max_iter=500, learning_method='online', learning_offset=50.,random_state=0)\n",
        "gridsearch = GridSearchCV(model,\n",
        "                          param_grid=search_params,\n",
        "                          n_jobs=-1,\n",
        "                          verbose=1)\n",
        "gridsearch.fit(matrix)\n",
        "best_lda = gridsearch.best_estimator_"
      ],
      "metadata": {
        "id": "BojhBDq-NthZ"
      },
      "execution_count": null,
      "outputs": []
    }
  ]
}