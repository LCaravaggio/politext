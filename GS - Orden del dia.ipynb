{
  "nbformat": 4,
  "nbformat_minor": 0,
  "metadata": {
    "colab": {
      "provenance": [],
      "authorship_tag": "ABX9TyNHvTatC3zGCbtrVYCEug3U",
      "include_colab_link": true
    },
    "kernelspec": {
      "name": "python3",
      "display_name": "Python 3"
    },
    "language_info": {
      "name": "python"
    },
    "gpuClass": "standard"
  },
  "cells": [
    {
      "cell_type": "markdown",
      "metadata": {
        "id": "view-in-github",
        "colab_type": "text"
      },
      "source": [
        "<a href=\"https://colab.research.google.com/github/LCaravaggio/politext/blob/main/GS%20-%20Orden%20del%20dia.ipynb\" target=\"_parent\"><img src=\"https://colab.research.google.com/assets/colab-badge.svg\" alt=\"Open In Colab\"/></a>"
      ]
    },
    {
      "cell_type": "markdown",
      "source": [
        "# Cargar la base"
      ],
      "metadata": {
        "id": "3bR6IbjGTqyw"
      }
    },
    {
      "cell_type": "code",
      "source": [
        "from google.colab import drive\n",
        "drive.mount('/content/drive')"
      ],
      "metadata": {
        "colab": {
          "base_uri": "https://localhost:8080/"
        },
        "id": "1d3u68qTTy95",
        "outputId": "15d1fc3a-7625-4e59-8dcc-a5f4241d049a"
      },
      "execution_count": 1,
      "outputs": [
        {
          "output_type": "stream",
          "name": "stdout",
          "text": [
            "Mounted at /content/drive\n"
          ]
        }
      ]
    },
    {
      "cell_type": "code",
      "source": [
        "import pandas as pd\n",
        "base=pd.read_csv('/content/drive/MyDrive/base_formateada.csv')"
      ],
      "metadata": {
        "id": "a4Y2nh_NT6vv",
        "colab": {
          "base_uri": "https://localhost:8080/"
        },
        "outputId": "69400a5e-866c-4c5f-9ee2-4ebdd7338e27"
      },
      "execution_count": 2,
      "outputs": [
        {
          "output_type": "stream",
          "name": "stderr",
          "text": [
            "/usr/local/lib/python3.9/dist-packages/IPython/core/interactiveshell.py:3326: DtypeWarning: Columns (18) have mixed types.Specify dtype option on import or set low_memory=False.\n",
            "  exec(code_obj, self.user_global_ns, self.user_ns)\n"
          ]
        }
      ]
    },
    {
      "cell_type": "code",
      "source": [
        "import nltk\n",
        "nltk.download('stopwords')\n",
        "from nltk.corpus import stopwords\n",
        "stopwords=stopwords.words('spanish')"
      ],
      "metadata": {
        "colab": {
          "base_uri": "https://localhost:8080/"
        },
        "id": "vG2Zxxq3UvyZ",
        "outputId": "c0fcd7f2-8142-4389-90cf-313c411753e4"
      },
      "execution_count": 3,
      "outputs": [
        {
          "output_type": "stream",
          "name": "stderr",
          "text": [
            "[nltk_data] Downloading package stopwords to /root/nltk_data...\n",
            "[nltk_data]   Unzipping corpora/stopwords.zip.\n"
          ]
        }
      ]
    },
    {
      "cell_type": "code",
      "source": [
        "# Se incorporan las stopwords sugeridas por Federico\n",
        "stopwords.extend(['señor', 'señora', 'mucha', 'gracia', 'año', 'pasado', 'cada', 'vez', 'uno', 'dos', 'tres', 'cuatro', 'cinco', 'seis' ,'siete', 'ocho', 'nueve', 'diez'])\n",
        "stopwords.extend(['hoy', 'aquí', 'primer', 'lugar', 'primera', 'segunda', 'primero', 'segundo', 'siguiente', 'tercer'])\n",
        "stopwords.extend(['convergencia', 'esquerra', 'republicana', 'grupo', 'parlamentaria', 'parlamentario', 'partido'])\n",
        "stopwords.extend(['enmienda', 'votación', 'favor', 'abstención', 'ley', 'real', 'decreto', 'decretoley', 'resultado', 'voto', 'sé' ,'sí', 'silencio' ,'favor'])\n",
        "stopwords.extend(['usted', 'señoría', 'presidente', 'presidenta', 'ministro', 'orden' , 'día', 'palabra', 'petición', 'posición', 'punto', 'vista', 'sesión', 'baldoví', 'duran', 'turno'])\n",
        "stopwords.extend(['hacer', 'frente', 'puede' ,'ser', 'va', 'voy', 'decir'])\n",
        "stopwords.extend(['millón', 'euro', 'emitido', 'efectuada', 'dio', 'comienzo', 'partido', 'queda', 'quedan', 'rechazada', 'aceptada', 'comienza', 'usted', 'sabe', 'abstención', 'diputado', 'gobierno'])\n",
        "stopwords.extend(['continuación', 'votamos', 'telemático', 'republicanaizquierda', 'unidainiciativa', 'puede', 'bien', 'propuesta' ,'abstencion', 'mayoría', 'absoluta', 'pregunta', 'don', 'vamos', 'votar', 'llevar', 'cabo', 'millón', 'muchas', 'gracias'])\n",
        "stopwords.extend(['podemosen', 'podemen', 'ministro', 'ministra', 'ss', 'ruego', 'aprobado', 'aprobada'])\n",
        "stopwords.extend(['diputado', 'diputada', 'don', 'doña', 'vicepresidenta', 'sagastizab', 'unzetabarrenetxea', 'agirretxea', 'urresti', 'escrutinio', 'dijo', 'dice', 'quevedo'])\n",
        "stopwords.extend(['campuzano', 'beitialarrangoitia', 'gonzalezmoro', 'mixto'])"
      ],
      "metadata": {
        "id": "D34MOjAhUx_a"
      },
      "execution_count": 4,
      "outputs": []
    },
    {
      "cell_type": "code",
      "source": [
        "# Se incorporan los nombres de los oradores como stopwords\n",
        "from collections import Counter\n",
        "nombres=[]\n",
        "for i in base.namey.unique().tolist(): nombres.extend(str(i).split(' '))\n",
        "nombres = [x.strip(' ') for x in nombres]\n",
        "nombres = [x.strip(' †') for x in nombres]\n",
        "nombres = [x.strip(',') for x in nombres]\n",
        "nombres=list(Counter(nombres))\n",
        "nombres.remove('')"
      ],
      "metadata": {
        "id": "yRV1LnZ51Z8_"
      },
      "execution_count": 5,
      "outputs": []
    },
    {
      "cell_type": "code",
      "source": [
        "stopwords.extend(nombres)"
      ],
      "metadata": {
        "id": "h_aUXBkoJTLY"
      },
      "execution_count": 6,
      "outputs": []
    },
    {
      "cell_type": "code",
      "source": [
        "partidos=pd.read_csv('/content/drive/MyDrive/partidos.csv', encoding='latin1', sep=';')"
      ],
      "metadata": {
        "id": "gVO9-cRc2C2h"
      },
      "execution_count": 7,
      "outputs": []
    },
    {
      "cell_type": "code",
      "source": [
        "for x in partidos['nombre'].unique(): \n",
        "  a=str(x).rstrip(' ')\n",
        "  stopwords.extend(str(a).split())\n",
        "  stopwords.extend(a)\n",
        "\n",
        "for x in partidos['1'].unique():\n",
        "  a=str(x).rstrip(' ')\n",
        "  stopwords.extend(a.split())\n",
        "  stopwords.extend(a)\n",
        "\n",
        "for x in partidos['2'].unique(): \n",
        "  a=str(x).rstrip(' ')\n",
        "  stopwords.extend(a.split())\n",
        "  stopwords.extend(a)\n",
        "\n",
        "for x in partidos['3'].unique(): \n",
        "  a=str(x).rstrip(' ')\n",
        "  stopwords.extend(a.split())\n",
        "  stopwords.extend(a)"
      ],
      "metadata": {
        "id": "JRe_Lrv02rRQ"
      },
      "execution_count": 8,
      "outputs": []
    },
    {
      "cell_type": "code",
      "source": [
        "len(stopwords)"
      ],
      "metadata": {
        "id": "PcvgCNO-OI4Z",
        "outputId": "b758e73b-bf77-403e-d8f0-93ce66d34389",
        "colab": {
          "base_uri": "https://localhost:8080/"
        }
      },
      "execution_count": 9,
      "outputs": [
        {
          "output_type": "execute_result",
          "data": {
            "text/plain": [
              "4481"
            ]
          },
          "metadata": {},
          "execution_count": 9
        }
      ]
    },
    {
      "cell_type": "code",
      "source": [
        "# elimino acentos de los tokens\n",
        "a,b = 'áàéèíóúü','aaeeiouu'\n",
        "trans = str.maketrans(a,b)\n",
        "list = []\n",
        "for row in base.values:\n",
        "    row[20]=row[20].translate(trans)\n",
        "    list.append(row)\n",
        "\n",
        "base = pd.DataFrame(list, columns=base.columns)"
      ],
      "metadata": {
        "id": "6oEIOU9opvUN"
      },
      "execution_count": 10,
      "outputs": []
    },
    {
      "cell_type": "code",
      "source": [
        "# llevo las stopwords a minúsculas y elimino acentos\n",
        "stopwords=[x.lower() for x in stopwords if type(x)==str]\n",
        "stopwords=[x.translate(trans) for x in stopwords if type(x)==str]"
      ],
      "metadata": {
        "id": "wMKKiWt5oZnO"
      },
      "execution_count": 11,
      "outputs": []
    },
    {
      "cell_type": "markdown",
      "source": [
        "# Mencionadas en al menos 10 discursos\n",
        "(spoken in at least 10 unique speaker-session)"
      ],
      "metadata": {
        "id": "niQ8Yz2kYfL8"
      }
    },
    {
      "cell_type": "code",
      "source": [
        "from sklearn.feature_extraction.text import CountVectorizer\n",
        "\n",
        "vect = CountVectorizer(ngram_range=(2,2), stop_words=stopwords , min_df=10)\n",
        "bow = vect.fit_transform(base['tokens'])"
      ],
      "metadata": {
        "id": "wIkH9CBhZE6m",
        "outputId": "d8d573ec-aa54-403b-8439-c76ce096944e",
        "colab": {
          "base_uri": "https://localhost:8080/"
        }
      },
      "execution_count": 12,
      "outputs": [
        {
          "output_type": "stream",
          "name": "stderr",
          "text": [
            "/usr/local/lib/python3.9/dist-packages/sklearn/feature_extraction/text.py:409: UserWarning: Your stop_words may be inconsistent with your preprocessing. Tokenizing the stop words generated tokens ['ahuja', 'alcañiz', 'amor', 'arreciado', 'barcena', 'barnuevo', 'capel', 'capitan', 'cascos', 'castejon', 'cienfuegos', 'compromis', 'congr', 'escandon', 'estefani', 'figueroa', 'fortun', 'hickman', 'huarte', 'jeltzalea', 'jovellanos', 'lasquetty', 'latorre', 'legaz', 'lersundi', 'llin', 'machuca', 'maillo', 'mancisidor', 'margallo', 'maribona', 'marlaska', 'medel', 'menchero', 'mendicoa', 'na', 'olivares', 'patxi', 'peces', 'pedrero', 'pinilla', 'piñero', 'ponga', 'pujalte', 'salmones', 'santesmases', 'sito', 'soro', 'sotelo', 'tagle', 'tesorero', 'tizon', 'toledano', 'torrecilla', 'trevijano', 'valdecasas', 'valdes', 'vargas', 'villaseñor', 'ximo', 'yañez'] not in stop_words.\n",
            "  warnings.warn(\n"
          ]
        }
      ]
    },
    {
      "cell_type": "code",
      "source": [
        "total_features = len(vect.vocabulary_)"
      ],
      "metadata": {
        "id": "mckvFlWih2bu"
      },
      "execution_count": 13,
      "outputs": []
    },
    {
      "cell_type": "markdown",
      "source": [
        "# Mencionadas al menos 100 veces en total\n",
        "(spoken at least 100 times across al sessions)"
      ],
      "metadata": {
        "id": "7hQBT61Eh3Lw"
      }
    },
    {
      "cell_type": "code",
      "source": [
        "new_voc={}\n",
        "for token in vect.vocabulary_: \n",
        "  if vect.vocabulary_[token]>100:\n",
        "    new_voc[token]=vect.vocabulary_[token]"
      ],
      "metadata": {
        "id": "GVsuZbfyd8OJ"
      },
      "execution_count": 14,
      "outputs": []
    },
    {
      "cell_type": "code",
      "source": [
        "len(new_voc)"
      ],
      "metadata": {
        "id": "r2-2-d6_hr-_",
        "outputId": "103c2f71-9899-421c-f8a7-cdc3c2d6bb07",
        "colab": {
          "base_uri": "https://localhost:8080/"
        }
      },
      "execution_count": 15,
      "outputs": [
        {
          "output_type": "execute_result",
          "data": {
            "text/plain": [
              "270231"
            ]
          },
          "metadata": {},
          "execution_count": 15
        }
      ]
    },
    {
      "cell_type": "markdown",
      "source": [
        "# Mencionadas al menos 10 veces en un día\n",
        "(spoken at least 10 times in at least one session)"
      ],
      "metadata": {
        "id": "q5idatwOQz8B"
      }
    },
    {
      "cell_type": "code",
      "source": [
        "# Gentzkow et.al. usan mencionadas al menos 10 veces en una \"sesión\". Acá se usa mencionadas al menos 10 veces en un \"día\". \n",
        "\n",
        "new_voc2={}\n",
        "vect = CountVectorizer(ngram_range=(2,2), stop_words=stopwords)\n",
        "for x in base.fecha.unique(): \n",
        "  base_dia=base[pd.DatetimeIndex(base.fecha)==x]\n",
        "  try: \n",
        "    bow = vect.fit_transform(base_dia['tokens'])\n",
        "    for token in vect.vocabulary_: \n",
        "      if vect.vocabulary_[token]>10:\n",
        "        new_voc2[token]=vect.vocabulary_[token]\n",
        "  except: pass"
      ],
      "metadata": {
        "id": "t99_S7tOQ1QB"
      },
      "execution_count": 16,
      "outputs": []
    },
    {
      "cell_type": "code",
      "source": [
        "len(new_voc2)"
      ],
      "metadata": {
        "id": "ag7htFVFmJl4",
        "outputId": "724948d5-6fb7-4974-e5cf-1442355cc755",
        "colab": {
          "base_uri": "https://localhost:8080/"
        }
      },
      "execution_count": 17,
      "outputs": [
        {
          "output_type": "execute_result",
          "data": {
            "text/plain": [
              "7719234"
            ]
          },
          "metadata": {},
          "execution_count": 17
        }
      ]
    },
    {
      "cell_type": "markdown",
      "source": [
        "# Combinación"
      ],
      "metadata": {
        "id": "lT1yqy_YZv_r"
      }
    },
    {
      "cell_type": "code",
      "source": [
        "inter=set(new_voc2).intersection(new_voc)"
      ],
      "metadata": {
        "id": "EOKJYrc1b538"
      },
      "execution_count": 18,
      "outputs": []
    },
    {
      "cell_type": "code",
      "source": [
        "vect = CountVectorizer(ngram_range=(2,2), stop_words=stopwords ,vocabulary=inter)\n",
        "bow = vect.fit_transform(base['tokens'])\n",
        "total_features = len(vect.vocabulary_)"
      ],
      "metadata": {
        "id": "pWPzVsZqZyuZ"
      },
      "execution_count": 19,
      "outputs": []
    },
    {
      "cell_type": "code",
      "source": [
        "# La intersección genera un vocabulario de apenas 814 bigramas. \n",
        "total_features"
      ],
      "metadata": {
        "id": "2Xdq8tNmah0y",
        "outputId": "eb59388f-d598-43cd-bcbd-f6e85f8f9d2b",
        "colab": {
          "base_uri": "https://localhost:8080/"
        }
      },
      "execution_count": 20,
      "outputs": [
        {
          "output_type": "execute_result",
          "data": {
            "text/plain": [
              "270230"
            ]
          },
          "metadata": {},
          "execution_count": 20
        }
      ]
    },
    {
      "cell_type": "code",
      "source": [
        "matrix = bow"
      ],
      "metadata": {
        "id": "x63AW_utluu4"
      },
      "execution_count": 21,
      "outputs": []
    },
    {
      "cell_type": "markdown",
      "source": [
        "# Ordenes del día"
      ],
      "metadata": {
        "id": "JYOOGZBrh1iG"
      }
    },
    {
      "cell_type": "code",
      "source": [
        "# Hay 28mil órdenes del día únicas\n",
        "len(base.orden.unique())"
      ],
      "metadata": {
        "id": "vOFQIhooh536",
        "outputId": "d754e954-923d-46c5-9436-8ca80ecfeac5",
        "colab": {
          "base_uri": "https://localhost:8080/"
        }
      },
      "execution_count": 24,
      "outputs": [
        {
          "output_type": "execute_result",
          "data": {
            "text/plain": [
              "28566"
            ]
          },
          "metadata": {},
          "execution_count": 24
        }
      ]
    },
    {
      "cell_type": "code",
      "source": [
        "# Para un total de 334mil discursos\n",
        "len(base)"
      ],
      "metadata": {
        "id": "VL5-i0S0iKlH",
        "outputId": "ece385a4-0561-4d50-ab0b-d9c944670ae4",
        "colab": {
          "base_uri": "https://localhost:8080/"
        }
      },
      "execution_count": 25,
      "outputs": [
        {
          "output_type": "execute_result",
          "data": {
            "text/plain": [
              "334421"
            ]
          },
          "metadata": {},
          "execution_count": 25
        }
      ]
    },
    {
      "cell_type": "code",
      "source": [
        "# Este es el listado de las 40 ordenes del día con más discursos, y su número de discursos.\n",
        "base['orden'].value_counts()[:40]"
      ],
      "metadata": {
        "id": "ExaYaFQLkmiV",
        "outputId": "16914478-c488-4f44-9a92-c18a930b131a",
        "colab": {
          "base_uri": "https://localhost:8080/"
        }
      },
      "execution_count": 31,
      "outputs": [
        {
          "output_type": "execute_result",
          "data": {
            "text/plain": [
              "VOTACIONES:                                                                                                                                                                             939\n",
              "DICTAMENES DE COMISION SOBRE INICIATIVAS LEGISLATIVAS:  — PROYECTO DE LEY DE PRESUPUESTOS GENERALES DEL ESTADO PARA 1989                                                                838\n",
              "PROYECTO DE LEY DE PRESUPUESTOS GENERALES DEL ESTADO PARA 1983                                                                                                                          738\n",
              "-- PROYECTO DE LEY DE PRESUPUESTOS GENERALES DEL ESTADO PARA 1998 (Número                                                                                                               738\n",
              "DICTÁMENES DE COMISIONES SOBRE INICIATIVAS LEGISLATIVAS. -PROYECTO DE LEY DE PRESUPUESTOS GENERALES DEL ESTADO PARA EL AÑO 2006.                                                        701\n",
              "DICTÁMENES DE COMISIONES SOBRE INICIATIVAS LEGISLATIVAS. (CONTINUACIÓN): - PROYECTO DE LEY DE PRESUPUESTOS GENERALES DEL ESTADO PARA EL AÑO 2016. (Número de expediente 121/000163).    646\n",
              "DICTAMENES DE COMISION SOBRE INICIATIVAS LEGISLATIVAS:  — PROYECTO DE LEY DE PRESUPUESTOS GENERALES DEL ESTADO PARA 1993                                                                611\n",
              "DICTÁMENES DE COMISIONES SOBRE INICIATIVAS LEGISLATIVAS. - PROYECTO DE LEY DE PRESUPUESTOS GENERALES DEL ESTADO PARA EL AÑO 2009. (CONTINUACIÓN.) (Número de expediente 121/000009.)    611\n",
              "DICTAMENES DE COMISIONES SOBRE INICIATIVAS LEGISLATIVAS:  — PROYECTO DE LEY ORGANICA DEL PODER JUDICIAL, DE LA COMISION DE JUSTICIA E INTERIOR                                          601\n",
              "PROYECTO DE LEY DE PRESUPUESTOS GENERALES DEL ESTADO PARA 1984                                                                                                                          572\n",
              "--PROYECTO DE LEY DE PRESUPUESTOS GENERALES DEL ESTADO PARA 1997 (Número                                                                                                                560\n",
              "PROYECTO DE LEY ORGANICA DE REFORMA UNIVERSITARIA                                                                                                                                       524\n",
              "- PROYECTO DE LEY DE PRESUPUESTOS GENERALES DEL ESTADO PARA EL AÑO 2004. (Número de expediente 121/000173.) (CONTINUACIÓN.)                                                             505\n",
              "- COMUNICACIÓN DEL GOBIERNO PARA EL DEBATE DE POLÍTICA GENERAL EN TORNO AL ESTADO DE LA NACIÓN. (Número de expediente 200/000004.)                                                      502\n",
              "JURAMENTO O PROMESA DE ACATAMIENTO DE LA CONSTITUCIÓN POR NUEVOS SEÑORES DIPUTADOS.                                                                                                     490\n",
              "de 20 de octubre de 2010). (Número de expediente 121/000098.) ...                                                                                                                       449\n",
              "--COMUNICACION DEL GOBIERNO SOBRE DEBATE DE POLITICA GENERAL EN TORNO AL ESTADO DE LA NACION (Número de expediente                                                                      444\n",
              "- PROYECTO DE LEY DE MEDIDAS FISCALES, ADMINISTRATIVAS Y DEL ORDEN                                                                                                                      435\n",
              "- PROYECTO DE LEY DE PRESUPUESTOS GENERALES DEL ESTADO PARA EL AÑO 2001. (Continuación.) (Número de expediente 121/000016.)                                                             421\n",
              "DICTÁMENES DE COMISIONES SOBRE INICIATIVAS LEGISLATIVAS. (CONTINUACIÓN) - PROYECTO DE LEY DE PRESUPUESTOS GENERALES DEL ESTADO PARA EL AÑO 2005.                                        413\n",
              "- PROYECTO DE LEY DE PRESUPUESTOS GENERALES DEL ESTADO PARA EL AÑO 2002. (Número de expediente 121/000047.) (Continuación.)                                                             400\n",
              "DICTÁMENES DE COMISIONES SOBRE INICIATIVAS LEGISLATIVAS: - PROYECTO DE LEY DE PRESUPUESTOS GENERALES DEL ESTADO PARA EL AÑO 2010. (CONTINUACIÓN.) (Número de expediente 121/000042.)    399\n",
              "- COMUNICACIÓN DEL GOBIERNO PARA EL DEBATE DE POLÍTICA GENERAL EN TORNO AL ESTADO DE LA NACIÓN. (Número de expediente 200/000002.)                                                      393\n",
              "DICTÁMENES DE COMISIONES SOBRE INICIATIVAS LEGISLATIVAS. (CONTINUACIÓN). - PROYECTO DE LEY DE PRESUPUESTOS GENERALES DEL ESTADO PARA EL AÑO 2015. (Número de expediente 121/000118).    381\n",
              "DICTÁMENES DE COMISIONES SOBRE INICIATIVAS LEGISLATIVAS. (CONTINUACIÓN): - PROYECTO DE LEY DE PRESUPUESTOS GENERALES DEL ESTADO PARA EL AÑO 2014. (Número de expediente 121/000069).    368\n",
              "DICTÁMENES DE COMISIONES SOBRE INICIATIVAS LEGISLATIVAS. - PROYECTO DE LEY DE PRESUPUESTOS GENERALES DEL ESTADO PARA EL AÑO 2008. (CONTINUACIÓN.) (Número de expediente 121/000149.)    367\n",
              "DEBATE SOBRE LA INVESTIDURA DEL CANDIDATO A LA PRESIDENCIA DEL GOBIERNO. (CONTINUACIÓN). (Número de expediente 080/000001).                                                             365\n",
              "DICTÁMENES DE COMISIONES SOBRE INCIATIVAS LEGISLATIVAS. (CONTINUACIÓN). - PROYECTO DE LEY DE PRESUPUESTOS GENERALES DEL ESTADO PARA EL AÑO 2013. (Número de expediente 121/000027).     362\n",
              "- COMUNICACIÓN DEL GOBIERNO PARA EL DEBATE DE POLÍTICA GENERAL EN TORNO AL ESTADO DE LA NACIÓN. (Número de expediente 200/000001.)                                                      341\n",
              "DICTÁMENES DE COMISIONES SOBRE INICIATIVAS LEGISLATIVAS. (CONTINUACIÓN). - PROYECTO DE LEY DE PRESUPUESTOS GENERALES DEL ESTADO PARA EL AÑO 2012. (Número de expediente 121/000008).    334\n",
              "DICTAMENES DE COMISION SOBRE INICIATIVAS LEGISLATIVAS:  — PROYECTO DE LEY DE PRESUPUESTOS GENE RALES DEL ESTADO PARA 1988                                                               322\n",
              "- PROYECTO DE LEY DE PRESUPUESTOS GENERALES DEL ESTADO PARA 1999 (Número de expediente 121/000141) (Continuación).                                                                      318\n",
              "JURAMENTO O PROMESA DE ACATAMIENTO A LA CONSTITUCION POR NUEVOS SEÑORES DIPUTADOS                                                                                                       310\n",
              "CUESTIONES DE ORDEN                                                                                                                                                                     307\n",
              "- PROYECTO DE LEY DE PRESUPUESTOS GENERALES DEL ESTADO PARA 1999.                                                                                                                       306\n",
              "DICTAMENES DE COMISION SOBRE INICIATIVAS LEGISLATIVAS:  -— PROYECTO DE LEY DE PRESUPUESTOS GENEÉRALES DEL ESTADO PARA 1991                                                              305\n",
              "DICTAMENES DE COMISION:  — DE JUSTICIA E INTERIOR, SOBRE EL PROYECTO DE LEY ORGANICA DE RE. FORMA URGENTE Y PARCIAL DEL CODI. GO PENAL (CONTINUACION)                                   293\n",
              "DICTAMENES DE COMISION SOBRE INICIATIVAS LEGISLATIVAS  — PROYECTO DE LEY SOBRE PRESUPUESTOS GENERALES DEL ESTADO PARA 1985                                                              292\n",
              "--PROYECTO DE LEY DE PRESUPUESTOS GENERALES DEL ESTADO PARA                                                                                                                             288\n",
              "DICTÁMENES DE COMISIONES SOBRE INICIATIVAS LEGISLATIVAS: - PROYECTO DE LEY DE PRESUPUESTOS GENERALES DEL ESTADO PARA EL AÑO 2008. (CONTINUACIÓN.) (Número de expediente 121/000149.)    287\n",
              "Name: orden, dtype: int64"
            ]
          },
          "metadata": {},
          "execution_count": 31
        }
      ]
    },
    {
      "cell_type": "markdown",
      "source": [
        "# Un LDA con más iterations y 30 topics"
      ],
      "metadata": {
        "id": "rjYi2byYq8JF"
      }
    },
    {
      "cell_type": "code",
      "source": [
        "from sklearn.decomposition import LatentDirichletAllocation\n",
        "lda = LatentDirichletAllocation(n_components=30, max_iter=50, learning_method='batch', learning_offset=50.,random_state=0)   "
      ],
      "metadata": {
        "id": "hWj7phsBrAOr"
      },
      "execution_count": null,
      "outputs": []
    },
    {
      "cell_type": "code",
      "source": [
        "lda.fit(matrix)"
      ],
      "metadata": {
        "id": "G_3Ul7MXrLwD",
        "outputId": "e61c035e-c506-4be6-fea2-12bb42bd175a",
        "colab": {
          "base_uri": "https://localhost:8080/",
          "height": 92
        }
      },
      "execution_count": null,
      "outputs": [
        {
          "output_type": "execute_result",
          "data": {
            "text/plain": [
              "LatentDirichletAllocation(learning_offset=50.0, max_iter=50, n_components=30,\n",
              "                          random_state=0)"
            ],
            "text/html": [
              "<style>#sk-container-id-1 {color: black;background-color: white;}#sk-container-id-1 pre{padding: 0;}#sk-container-id-1 div.sk-toggleable {background-color: white;}#sk-container-id-1 label.sk-toggleable__label {cursor: pointer;display: block;width: 100%;margin-bottom: 0;padding: 0.3em;box-sizing: border-box;text-align: center;}#sk-container-id-1 label.sk-toggleable__label-arrow:before {content: \"▸\";float: left;margin-right: 0.25em;color: #696969;}#sk-container-id-1 label.sk-toggleable__label-arrow:hover:before {color: black;}#sk-container-id-1 div.sk-estimator:hover label.sk-toggleable__label-arrow:before {color: black;}#sk-container-id-1 div.sk-toggleable__content {max-height: 0;max-width: 0;overflow: hidden;text-align: left;background-color: #f0f8ff;}#sk-container-id-1 div.sk-toggleable__content pre {margin: 0.2em;color: black;border-radius: 0.25em;background-color: #f0f8ff;}#sk-container-id-1 input.sk-toggleable__control:checked~div.sk-toggleable__content {max-height: 200px;max-width: 100%;overflow: auto;}#sk-container-id-1 input.sk-toggleable__control:checked~label.sk-toggleable__label-arrow:before {content: \"▾\";}#sk-container-id-1 div.sk-estimator input.sk-toggleable__control:checked~label.sk-toggleable__label {background-color: #d4ebff;}#sk-container-id-1 div.sk-label input.sk-toggleable__control:checked~label.sk-toggleable__label {background-color: #d4ebff;}#sk-container-id-1 input.sk-hidden--visually {border: 0;clip: rect(1px 1px 1px 1px);clip: rect(1px, 1px, 1px, 1px);height: 1px;margin: -1px;overflow: hidden;padding: 0;position: absolute;width: 1px;}#sk-container-id-1 div.sk-estimator {font-family: monospace;background-color: #f0f8ff;border: 1px dotted black;border-radius: 0.25em;box-sizing: border-box;margin-bottom: 0.5em;}#sk-container-id-1 div.sk-estimator:hover {background-color: #d4ebff;}#sk-container-id-1 div.sk-parallel-item::after {content: \"\";width: 100%;border-bottom: 1px solid gray;flex-grow: 1;}#sk-container-id-1 div.sk-label:hover label.sk-toggleable__label {background-color: #d4ebff;}#sk-container-id-1 div.sk-serial::before {content: \"\";position: absolute;border-left: 1px solid gray;box-sizing: border-box;top: 0;bottom: 0;left: 50%;z-index: 0;}#sk-container-id-1 div.sk-serial {display: flex;flex-direction: column;align-items: center;background-color: white;padding-right: 0.2em;padding-left: 0.2em;position: relative;}#sk-container-id-1 div.sk-item {position: relative;z-index: 1;}#sk-container-id-1 div.sk-parallel {display: flex;align-items: stretch;justify-content: center;background-color: white;position: relative;}#sk-container-id-1 div.sk-item::before, #sk-container-id-1 div.sk-parallel-item::before {content: \"\";position: absolute;border-left: 1px solid gray;box-sizing: border-box;top: 0;bottom: 0;left: 50%;z-index: -1;}#sk-container-id-1 div.sk-parallel-item {display: flex;flex-direction: column;z-index: 1;position: relative;background-color: white;}#sk-container-id-1 div.sk-parallel-item:first-child::after {align-self: flex-end;width: 50%;}#sk-container-id-1 div.sk-parallel-item:last-child::after {align-self: flex-start;width: 50%;}#sk-container-id-1 div.sk-parallel-item:only-child::after {width: 0;}#sk-container-id-1 div.sk-dashed-wrapped {border: 1px dashed gray;margin: 0 0.4em 0.5em 0.4em;box-sizing: border-box;padding-bottom: 0.4em;background-color: white;}#sk-container-id-1 div.sk-label label {font-family: monospace;font-weight: bold;display: inline-block;line-height: 1.2em;}#sk-container-id-1 div.sk-label-container {text-align: center;}#sk-container-id-1 div.sk-container {/* jupyter's `normalize.less` sets `[hidden] { display: none; }` but bootstrap.min.css set `[hidden] { display: none !important; }` so we also need the `!important` here to be able to override the default hidden behavior on the sphinx rendered scikit-learn.org. See: https://github.com/scikit-learn/scikit-learn/issues/21755 */display: inline-block !important;position: relative;}#sk-container-id-1 div.sk-text-repr-fallback {display: none;}</style><div id=\"sk-container-id-1\" class=\"sk-top-container\"><div class=\"sk-text-repr-fallback\"><pre>LatentDirichletAllocation(learning_offset=50.0, max_iter=50, n_components=30,\n",
              "                          random_state=0)</pre><b>In a Jupyter environment, please rerun this cell to show the HTML representation or trust the notebook. <br />On GitHub, the HTML representation is unable to render, please try loading this page with nbviewer.org.</b></div><div class=\"sk-container\" hidden><div class=\"sk-item\"><div class=\"sk-estimator sk-toggleable\"><input class=\"sk-toggleable__control sk-hidden--visually\" id=\"sk-estimator-id-1\" type=\"checkbox\" checked><label for=\"sk-estimator-id-1\" class=\"sk-toggleable__label sk-toggleable__label-arrow\">LatentDirichletAllocation</label><div class=\"sk-toggleable__content\"><pre>LatentDirichletAllocation(learning_offset=50.0, max_iter=50, n_components=30,\n",
              "                          random_state=0)</pre></div></div></div></div></div>"
            ]
          },
          "metadata": {},
          "execution_count": 26
        }
      ]
    },
    {
      "cell_type": "code",
      "source": [
        "def display_topics(model, feature_names, no_top_words):\n",
        "    for topic_idx, topic in enumerate(model.components_):\n",
        "        print(\"Topic %d:\" % (topic_idx + 1))\n",
        "        print(\" , \".join([feature_names[i] for i in topic.argsort()[:-no_top_words - 1:-1]]))"
      ],
      "metadata": {
        "id": "WmJZUbzt4Xwu"
      },
      "execution_count": null,
      "outputs": []
    },
    {
      "cell_type": "code",
      "source": [
        "display_topics(lda, feature_names=vect.get_feature_names_out(), no_top_words=20)"
      ],
      "metadata": {
        "id": "hjdYqBM4rO2Z",
        "outputId": "04a3cd4c-f96d-4d67-d968-42dc522206f6",
        "colab": {
          "base_uri": "https://localhost:8080/"
        }
      },
      "execution_count": null,
      "outputs": [
        {
          "output_type": "stream",
          "name": "stdout",
          "text": [
            "Topic 1:\n",
            "guardia civil , cuerpo seguridad , fuerza cuerpo , ministerio interior , fuerza seguridad , medio comunicacion , policia guardia , policia nacion , cuerpo nacion , nacion policia , relacion cort , policia judici , seguridad vial , censo elector , cuerpo fuerza , junta elector , consumo droga , trafico droga , seguridad publica , proteccion civil\n",
            "Topic 2:\n",
            "codigo penal , derecho humano , derecho libertad , derecho fundamental , articulo constitucion , ordenamiento juridico , codigo civil , articulo codigo , libertad expresion , medio comunicacion , enjuiciamiento crimin , ejercicio derecho , reforma codigo , seguridad vial , consejo europa , derecho fundament , derecho penal , audiencia nacion , defensa derecho , responsabilidad penal\n",
            "Topic 3:\n",
            "presupuesto general , proyecto presupuesto , presupuesto ministerio , organismo autonomo , gasto publico , incremento ciento , gasto corrient , administracion publica , ciento respecto , partida presupuestaria , economia hacienda , ciento presupuesto , dotacion presupuestaria , ministerio economia , billon peseta , ejercicio anterior , gasto person , comision presupuesto , debat presupuesto , presupuesto seccion\n",
            "Topic 4:\n",
            "alto cargo , salario minimo , minimo interprofesion , terminado tiempo , opon tramitacion , cargo administracion , medio comunicacion , semana pasada , junta andalucia , presentado transaccion , acepta alguna , alguna presentada , hace falta , transaccion opon , incompatibilidad alto , falta respeto , salario medio , formula vicepresident , pedimo separada , hace tiempo\n",
            "Topic 5:\n",
            "pequeña mediana , mediana empresa , servicio publico , politica industri , energia renov , ministerio industria , turismo comercio , television publica , investigacion desarrollo , ent publico , sector electrico , politica energetica , television privada , sector turistico , consejo administracion , sector industri , sistema electrico , eficiencia energetica , sector energetico , radio television\n",
            "Topic 6:\n",
            "vaya concluyendo , ministerio agricultura , pesca alimentacion , sector agrario , agricultura pesca , politica agraria , credito extraordinario , ciencia tecnologia , agricultor ganadero , organizacion agraria , investigacion cientifica , comunidad economica , seguro agrario , economica europea , explotacion agraria , organizacion profesional , deseen fijar , fruta hortaliza , comision agricultura , fijar debat\n",
            "Topic 7:\n",
            "empresa publica , sector publico , empresa privada , seguridad nuclear , central nuclear , credito extraordinario , consejo seguridad , plan energetico , energia nuclear , contrato programa , publico empresari , proceso privatizacion , cualquier caso , sector privado , opinion publica , ministerio industria , energetico nacion , consejo administracion , instituto nacion , aquel momento\n",
            "Topic 8:\n",
            "interpelacion urgent , consecuencia interpelacion , mocion consecuencia , diputacion permanent , extraordinaria comision , celebracion extraordinaria , acuerd celebracion , economia hacienda , piensa adoptar , numero suficient , medida piensa , formulada numero , mocion presentada , miembro diputacion , suficient miembro , permanent pertenecient , mocion presentado , contestar interpelacion , administracion publica , medida politica\n",
            "Topic 9:\n",
            "toma consideracion , consideracion proposicion , minoria catalana , desean fijar , numero formula , junta portavoc , articulo reglamento , defensa presentada , tiempo minuto , fijar pausa , proposicion congreso , proposicion proposicion , fijar nombr , dispuesto articulo , proposicion relativa , proposicion modificacion , agrupacion liber , defensa proposicion , desean intervenir , conformidad dispuesto\n",
            "Topic 10:\n",
            "politica exterior , fuerza politica , comunidad internacion , consejo seguridad , asunto exterior , opinion publica , lucha terrorismo , seguridad nacion , acatar constitucion , toda fuerza , quiero decirl , derecho humano , llegar acuerdo , debat nacion , duda alguna , legalidad internacion , juramento promesa , seguridad defensa , sadam husein , regla juego\n",
            "Topic 11:\n",
            "medio ambient , comunidad autonoma , obra publica , plan hidrologico , ministerio medio , plan nacion , cambio climatico , hidrologico nacion , ministerio fomento , medio rural , dominio publico , ministerio obra , parqu nacion , incendio forestal , impacto ambient , desarrollo sosten , parqu nacional , plan carretera , confederacion hidrografica , hectometro cubico\n",
            "Topic 12:\n",
            "comunidad autonoma , corporacion local , estabilidad presupuestaria , servicio publico , presupuesto general , administracion publica , sistema financiacion , financiacion autonomica , deficit publico , politica fiscal , crisi economica , entidad local , modelo financiacion , toda comunidad , fiscal financiera , deuda publica , gasto publico , cuenta publica , hacienda local , consejo politica\n",
            "Topic 13:\n",
            "dictamen comision , congreso formula , texto dictamen , numero articulo , articulo articulo , acuerdo dictamen , ocupen escaño , aceptacion rechazo , pausa nulo , articulo pausa , articulo acuerdo , disposicion adicional , comision pausa , conform dictamen , senado articulo , articulo numero , sido retirada , numero numero , reanudara mañana , pleno reanudara\n",
            "Topic 14:\n",
            "servicio militar , convalidacion derogacion , tramitacion proyecto , objecion conciencia , aplauso banco , medida urgent , prestacion sustitutoria , procedimiento urgencia , banco derecha , administracion publica , rumor protesta , proyecto procedimiento , medio comunicacion , militar obligatorio , adoptan medida , objetor conciencia , cualquier caso , libr designacion , daño causado , fuert rumor\n",
            "Topic 15:\n",
            "asunto exterior , comision asunto , quiero decirl , hecho referencia , medio comunicacion , opinion publica , convenio internacional , responsabilidad politica , cualquier caso , hace falta , reino republica , exterior cooperacion , exterior convenio , fondo reservado , cosa dicho , ministerio asunto , comision investigacion , gobernador banco , dicho dicho , dicho cosa\n",
            "Topic 16:\n",
            "comunidad autonoma , sistema educativo , formacion profesion , ministerio educacion , educacion ciencia , cultura deport , igualdad oportunidad , consejo universidad , calidad enseñanza , derecho educacion , consejo escolar , politica educativa , comunidad educativa , libertad enseñanza , reforma universitaria , beca ayuda , fondo publico , interrupcion voluntaria , voluntaria embarazo , mejora calidad\n",
            "Topic 17:\n",
            "alta velocidad , comision investigacion , responsabilidad politica , politica inmigracion , opinion publica , derecho humano , mocion censura , gobernador civil , medio comunicacion , semana pasada , cooperacion desarrollo , ceuta melilla , cooperacion internacion , inmigracion ileg , creacion comision , politica cooperacion , linea alta , tren alta , ahora mismo , flujo migratorio\n",
            "Topic 18:\n",
            "politica vivienda , plan vivienda , vivienda protegida , vivienda alquil , economico fiscal , regimen economico , precio vivienda , acceso vivienda , proteccion ofici , vivienda proteccion , comunidad autonoma , materia vivienda , ministerio vivienda , ministerio fomento , transport aereo , construccion vivienda , acced vivienda , adquisicion vivienda , mercado alquil , prestamo hipotecario\n",
            "Topic 19:\n",
            "impuesto renta , nacion salud , sistema nacion , persona fisica , impuesto sociedad , renta persona , fraud fiscal , agencia tributaria , ministerio sanidad , sanidad consumo , asistencia sanitaria , lucha fraud , sistema sanitario , valor añadido , impuesto valor , sanidad publica , reforma fiscal , base impon , sistema tributario , sistema fiscal\n",
            "Topic 20:\n",
            "consejo europeo , parlamento europeo , comision europea , comunidad europea , economica europea , comunidad economica , reino unido , construccion europea , politica europea , mercado interior , conferencia intergubernament , comision mixta , economica monetaria , asunto exterior , institucion europea , fondo estructural , fondo cohesion , perspectiva financiera , constitucion europea , presidencia europea\n",
            "Topic 21:\n",
            "comunidad autonoma , administracion publica , articulo constitucion , estatuto autonomia , funcion publica , tribun constitucion , cort general , servicio publico , competencia comunidad , poder publico , competencia exclusiva , reforma estatuto , regimen juridico , administracion central , funcionario publico , exposicion motivo , regimen local , ordenamiento juridico , competencia materia , sector publico\n",
            "Topic 22:\n",
            "politica economica , tipo intere , deficit publico , producto interior , interior bruto , crecimiento economico , gasto publico , creacion empleo , sistema financiero , sector publico , deuda publica , economica europea , comunidad economica , mismo tiempo , presion fiscal , politica monetaria , situacion economica , pequeña mediana , crisi economica , media europea\n",
            "Topic 23:\n",
            "disposicion adicion , texto alternativo , disposicion transitoria , disposicion final , proyecto organica , senado proyecto , debat totalidad , unido podemo , confeder unido , totalidad devolucion , lectura unica , numero formula , totalidad proyecto , numero pausa , totalidad texto , articulo disposicion , resolucion numero , devolucion proyecto , caracter organico , tramitacion directa\n",
            "Topic 24:\n",
            "comision nacion , mercado valor , defensa competencia , sociedad anonima , nacion mercado , prestacion servicio , consumidor usuario , directiva comunitaria , entidad financiera , seguridad juridica , ordenamiento juridico , entidad credito , entrada vigor , minuto tard , trasposicion directiva , directiva europea , tribun defensa , ministerio economia , consejo superior , proteccion consumidor\n",
            "Topic 25:\n",
            "poder judici , tribun constitucion , consejo poder , administracion justicia , tribun supremo , sentencia tribun , organica poder , ministerio justicia , ministerio fiscal , apartado articulo , juec magistrado , articulo constitucion , articulo apartado , enjuiciamiento civil , superior justicia , articulo proyecto , numero articulo , tiempo concluido , articulo articulo , hace referencia\n",
            "Topic 26:\n",
            "cualquier caso , estatuto trabajador , alguna manera , central sindical , libertad sindic , minoria catalana , resolv problema , ningun tipo , derecho huelga , solucion problema , convenio colectivo , tan important , aquel momento , negociacion colectiva , organizacion sindical , tener cuenta , ocupa presidencia , exposicion motivo , mismo tiempo , comite empresa\n",
            "Topic 27:\n",
            "puesto trabajo , reforma labor , mercado trabajo , creacion empleo , poder adquisitivo , politica activa , mercado labor , sistema seguridad , ministerio trabajo , prestacion desempleo , pension minima , negociacion colectiva , salario minimo , sistema proteccion , politica empleo , proteccion desempleo , tiempo parcial , trabajador autonomo , formacion profesion , sistema pension\n",
            "Topic 28:\n",
            "violencia genero , persona discapacidad , hombr mujer , igualdad oportunidad , vaya terminando , victima violencia , sociedad informacion , tria be , lucha violencia , aviacion civil , victima terrorismo , politica igualdad , mujer hombr , violencia domestica , derecho mujer , malo trato , servicio igualdad , pobreza infantil , ciencia tecnologia , violencia mujer\n",
            "Topic 29:\n",
            "tribun cuenta , ministerio cultura , educacion cultura , comision mixta , cultura deport , patrimonio historico , hombr mujer , iglesia catolica , libertad religiosa , congreso senado , programa elector , inform tribun , politica cultur , cualquier caso , memoria historica , empleo seguridad , dirigida educacion , poder publico , cort general , tropa marineria\n",
            "Topic 30:\n",
            "fuerza armada , ministerio defensa , caja ahorro , defensa nacion , pasamo fijacion , ejercito tierra , consejo administracion , comision defensa , ejercito air , carga trabajo , banco credito , politica defensa , empresa nacion , plan estrategico , debe acabar , cualquier caso , ningun caso , puesto trabajo , industria defensa , opinion publica\n"
          ]
        }
      ]
    },
    {
      "cell_type": "code",
      "source": [
        "import numpy as np\n",
        "from numpy import argsort\n",
        "import statistics\n",
        "from statistics import mode\n",
        "from scipy.special import logsumexp\n",
        "import scipy as sp"
      ],
      "metadata": {
        "id": "Ka3t_6Rt4ns3"
      },
      "execution_count": null,
      "outputs": []
    },
    {
      "cell_type": "code",
      "source": [
        "def display_topics_frex(model, feature_names, no_top_words):\n",
        "    for topic_idx, topic in enumerate(frex(model)):\n",
        "        print(\"Topic %d:\" % (topic_idx + 1))\n",
        "        print(\" , \".join([feature_names[i] for i in topic.argsort()[:-no_top_words - 1:-1]]))"
      ],
      "metadata": {
        "id": "4uTLj3GE4fbj"
      },
      "execution_count": null,
      "outputs": []
    },
    {
      "cell_type": "code",
      "source": [
        "def frex(mod, w=0.7):\n",
        "    log_beta = np.log(mod.components_)\n",
        "    log_exclusivity = log_beta - logsumexp(log_beta, axis=0)\n",
        "    exclusivity_ecdf = np.apply_along_axis(ecdf, 1, log_exclusivity)\n",
        "    freq_ecdf = np.apply_along_axis(ecdf, 1, log_beta)\n",
        "    out = 1. / (w / exclusivity_ecdf + (1 - w) / freq_ecdf)\n",
        "    return out\n",
        "\n",
        "def ecdf(arr):\n",
        "    return sp.stats.rankdata(arr, method='max') / arr.size"
      ],
      "metadata": {
        "id": "opW4qtxs4jwI"
      },
      "execution_count": null,
      "outputs": []
    },
    {
      "cell_type": "code",
      "source": [
        "display_topics_frex(lda, feature_names=vect.get_feature_names_out(), no_top_words=20)"
      ],
      "metadata": {
        "id": "wswSOsnFrP9l",
        "outputId": "f4025f9c-6baf-4774-b60d-9710b5e47207",
        "colab": {
          "base_uri": "https://localhost:8080/"
        }
      },
      "execution_count": null,
      "outputs": [
        {
          "output_type": "stream",
          "name": "stdout",
          "text": [
            "Topic 1:\n",
            "guardia civil , cuerpo seguridad , fuerza cuerpo , policia guardia , policia nacion , cuerpo nacion , nacion policia , cuerpo fuerza , consumo droga , civil policia , turismo comunicacion , vigilancia aduanera , problema droga , director guardia , direccion policia , modelo polici , cuerpo policia , cuerpo guardia , policia local , funcionario policia\n",
            "Topic 2:\n",
            "codigo penal , reforma codigo , derecho penal , prision provision , pena muert , penal militar , justicia militar , tipo penal , privativa libertad , proyecto codigo , pena privativa , pena prision , fundamental libertad , clausula conciencia , codigo justicia , sancion penal , declaracion univers , penal materia , patria potestad , permanent revis\n",
            "Topic 3:\n",
            "gasto person , presupuesto seccion , presupuesto programa , transferencia corrient , presupuesto inici , presupuesto consolidado , conjunto presupuesto , urgent interpelacion , capitulo inversion , gasto funcionamiento , corrient servicio , capitulo gasto , presupuesto presenta , tecnica presupuestaria , presupuesto departamento , transferencia capit , cd rebollo , devolucion seccion , imprim rivadeneyra , presupuesto organismo\n",
            "Topic 4:\n",
            "terminado tiempo , acepta alguna , transaccion opon , opon tramitacion , tramitacion transaccion , opon admision , compartir tiempo , vicepresident asunto , vicepresident formula , incompatibilidad alto , pregunto acepta , alguna presentada , mundial antidopaj , ex alto , llibr defensa , rejon defensa , lectura declaracion , mocion vota , vicepresident replica , codigo mundial\n",
            "Topic 5:\n",
            "television publica , publico radiotelevision , deficit tarifario , radiotelevision publica , debe concluir , sector automovil , industria turismo , comarca minera , seccion relativo , sector automocion , vehiculo electrico , television autonomica , sistema electrico , turismo comercio , gorriaran plural , estatuto radiotelevision , proced ocupa , television privada , cost transicion , economia digit\n",
            "Topic 6:\n",
            "vaya concluyendo , sector agrario , agricultor ganadero , seguro agrario , deseen fijar , explotacion agraria , profesional agraria , organizacion agraria , politica cientifica , agricultura pesca , concluido tiempo , sector vitivinicola , sanidad anim , organizacion productor , feder numero , sector ganadero , modernizacion explotacion , ganaderia pesca , agricultura ganaderia , coordinacion investigacion\n",
            "Topic 7:\n",
            "seguridad nuclear , plan energetico , energetico nacion , compañia trasmediterranea , central nuclear , deficit explotacion , mardon uria , consultivo privatizacion , instalacion nuclear , moratoria nuclear , nacion hidrocarburo , grand astillero , energia nuclear , corporacion bancaria , nuclear garoña , seguridad central , proteccion radiologica , contrato regulador , cierr central , urgent reindustrializacion\n",
            "Topic 8:\n",
            "interpelacion urgent , consecuencia interpelacion , mocion consecuencia , diputacion permanent , extraordinaria comision , celebracion extraordinaria , acuerd celebracion , piensa adoptar , numero suficient , medida piensa , formulada numero , miembro diputacion , suficient miembro , permanent pertenecient , interpelacion nombr , pertenecient acuerd , defensa mocion , pasamo interpelacion , mocion medida , formulada plural\n",
            "Topic 9:\n",
            "consideracion proposicion , desean fijar , defensa presentada , fijar pausa , proposicion congreso , fijar nombr , proposicion relativa , desean intervenir , acuerda asi , pasamo numero , agrupacion catalana , numero minoria , somet pleno , catalana pausa , debat pausa , proced proposicion , adquirido condicion , pausa agrupacion , proposicion feder , congreso relativa\n",
            "Topic 10:\n",
            "comunidad internacion , legalidad internacion , juramento promesa , sadam husein , resolucion nacion , promesa acatamiento , arma destruccion , acatamiento constitucion , intervenir pausa , pausa cd , prometei acatar , jura promet , proced juramento , arma nuclear , atengas cuestion , proclamado electo , alto fuego , ajuria enea , politica antiterrorista , seguridad nacion\n",
            "Topic 11:\n",
            "plan hidrologico , ministerio medio , hidrologico nacion , parqu nacion , incendio forestal , impacto ambient , parqu nacional , confederacion hidrografica , hectometro cubico , alimentacion medio , politica agua , calidad agua , declaracion impacto , maritimo terrestr , publica transport , espacio natural , trasvas ebro , publica urbanismo , metro cubico , politica ambient\n",
            "Topic 12:\n",
            "financiacion autonomica , fiscal financiera , consejo politica , financiacion comunidad , compensacion interterritori , objetivo estabilidad , estabilidad presupuestaria , techo gasto , modelo financiacion , financiacion local , fondo compensacion , corresponsabilidad fiscal , hacienda local , participacion ingreso , sistema financiacion , regla gasto , pacto local , fondo liquidez , entrega cuenta , reforma financiacion\n",
            "Topic 13:\n",
            "dictamen comision , congreso formula , texto dictamen , acuerdo dictamen , aceptacion rechazo , articulo pausa , comision pausa , conform dictamen , sido retirada , reanudara mañana , pleno reanudara , dictamen seccion , suspend mañana , comision articulo , guarden ocupen , numero centrista , dictamen titulo , expresar aceptacion , tard suspend , mardon nombr\n",
            "Topic 14:\n",
            "servicio militar , convalidacion derogacion , objecion conciencia , prestacion sustitutoria , rumor protesta , proyecto procedimiento , militar obligatorio , objetor conciencia , fuert rumor , solicita separada , proyecto convalidado , protesta banco , rumor banco , derogacion diciembr , proced convalidacion , derecho replica , derecho objecion , exclusion referencia , conciencia prestacion , razon obligado\n",
            "Topic 15:\n",
            "exterior convenio , termino tiempo , convenio reino , pido cuestion , dirigida asunto , reino republica , reciproca inversion , proteccion reciproca , reproduccion humana , plural nuet , humana asistida , imposicion prevenir , prevenir evasion , legarda uriart , firmado ad , dictamen convenio , nacion reproduccion , acuerdo promocion , ad hominem , republica portuguesa\n",
            "Topic 16:\n",
            "sistema educativo , consejo universidad , calidad enseñanza , consejo escolar , comunidad educativa , libertad enseñanza , interrupcion voluntaria , voluntaria embarazo , autonomia universitaria , administracion educativa , puesto escolar , educacion superior , educacion secundaria , sistema universitario , ayuda estudio , enseñanza universitaria , enseñanza media , celula madr , modelo educativo , secundaria obligatoria\n",
            "Topic 17:\n",
            "politica inmigracion , tren alta , efecto llamada , materia inmigracion , politica migratoria , inmigracion irregular , ancho via , paso nivel , inmigrant irregular , lucha inmigracion , flujo migratorio , kilometro hora , cercania barcelona , fenomeno inmigracion , inmigracion ileg , frontera francesa , figura gobernador , inmigracion legal , ancho europeo , regularizacion masiva\n",
            "Topic 18:\n",
            "politica vivienda , plan vivienda , vivienda protegida , vivienda alquil , precio vivienda , acceso vivienda , proteccion ofici , vivienda proteccion , materia vivienda , ministerio vivienda , acced vivienda , mercado alquil , alquil vivienda , publica alquil , dacion pago , vivienda libr , suelo publico , deudor hipotecario , parqu vivienda , mercado vivienda\n",
            "Topic 19:\n",
            "nacion salud , sistema sanitario , sanitario publico , impuesto sucesion , acabo tiempo , atencion primaria , reforma sanitaria , racion medicamento , prestacion farmaceutica , transmision patrimonial , obligacion tributaria , producto sanitario , base impon , sucesion donacion , modificacion impuesto , proyecto impuesto , asistencia primaria , interterritori sistema , eleccion medico , rendimiento trabajo\n",
            "Topic 20:\n",
            "consejo europeo , construccion europea , conferencia intergubernament , perspectiva financiera , conclusion consejo , tratado constitucion , parlamento nacional , cohesion economica , tratado lisboa , rechazado numero , ciudadano europeo , tratado amsterdam , acta unica , ampliacion europea , cooperacion reforzada , futuro europa , europeo celebrado , acervo comunitario , reforma tratado , negociacion adhesion\n",
            "Topic 21:\n",
            "proceso autonomico , lengua ofici , asamblea legislativa , juridico administracion , estatuto comunidad , publica procedimiento , legislativa comunidad , estatuto basico , constitucion competencia , parlamento isla , aceptar rechazar , lengua propia , autonoma lengua , regimen estatutario , reforma funcion , bloqu constitucionalidad , carta municip , estatuto funcion , organo comunidad , titulo competenci\n",
            "Topic 22:\n",
            "politica monetaria , fondo monetario , monetario internacion , balanza pago , sector exterior , tipo cambio , demanda interna , cuadro macroeconomico , monetario europeo , sistema monetario , tasa crecimiento , deficit exterior , crecimiento producto , diferenci inflacion , comercio mundial , economia internacion , precio petroleo , deficit balanza , lucha inflacion , ciento producto\n",
            "Topic 23:\n",
            "senado proyecto , unido podemo , confeder unido , lectura unica , numero pausa , totalidad texto , resolucion numero , tramitacion directa , directa lectura , totalidad legislativa , transitoria tercera , final conjunto , formula lui , proced totalidad , tiempo terminado , apartado disposicion , unica proyecto , adicion disposicion , transitoria sexta , proyecto nombr\n",
            "Topic 24:\n",
            "nacion mercado , consumidor usuario , tribun defensa , tard reanuda , servicio postal , servicio univers , comision mercado , formula medida , defensa consumidor , asociacion consumidor , registro mercantil , responsabilidad limitada , defensa competencia , sociedad cooperativa , postal univers , reanuda tard , reanudara tard , derecho consumidor , servicio portuario , reanuda minuto\n",
            "Topic 25:\n",
            "poder judici , consejo poder , juec magistrado , superior justicia , tiempo concluido , oficina judici , recurso previo , tribunal superior , magistrado tribun , tribun superior , juzgado tribunal , consejo fiscal , demarcacion planta , estatuto organico , vocal consejo , secretario judicial , planta judici , independencia judici , organico ministerio , verd llamazar\n",
            "Topic 26:\n",
            "libertad sindic , derecho huelga , eleccion sindical , sindicato representativo , efecto solicita , delegado person , ro expedient , seccion sindical , conflicto colectivo , resto plural , huelga derecho , censo promocion , quieren fijar , catalana hinojosa , formula agricultura , vicepresident carro , jornada reducida , concluya definitivament , organizacion sindic , carro ocupa\n",
            "Topic 27:\n",
            "pension minima , proteccion desempleo , pension contributiva , contrato indefinido , tiempo parcial , complemento minimo , parado larga , subsidio desempleo , situacion dependencia , contrato temporal , accident trabajo , contratacion indefinida , reduccion jornada , contrato tiempo , contratacion tempor , prestacion contributiva , subida pension , revalorizacion pension , prestacion desempleo , contrato aprendizaj\n",
            "Topic 28:\n",
            "violencia genero , vaya terminando , victima violencia , derecho mujer , violencia mujer , plan igualdad , instituto mujer , mujer victima , contestar nombr , igualdad mujer , integr violencia , infancia adolescencia , aviacion civil , replica pausa , mujer asesinada , mujer mundo , violencia machista , direccion aviacion , mujer maltratada , pacto violencia\n",
            "Topic 29:\n",
            "tribun cuenta , ministerio cultura , iglesia catolica , relacion tribun , mixta relacion , intere cultur , dirigida educacion , ciento cultur , continuamo nombr , mismo sexo , dirigida empleo , museo titularidad , nacion art , organo fiscalizador , declaracion definitiva , correspondient caracter , declaracion cuenta , escala especi , museo art , formula educacion\n",
            "Topic 30:\n",
            "pasamo fijacion , ejercito tierra , reserva activa , asamblea region , debe acabar , horno vizcaya , desea ejerc , nacion bazan , necesidad defensa , carro combat , situacion reserva , base moron , disciplina intervencion , directiva defensa , tarda olabarria , azpiazu gorriaran , fijacion comenzamo , cuadro mando , nacion barbara , fundacion bancaria\n"
          ]
        }
      ]
    },
    {
      "cell_type": "markdown",
      "source": [
        "# LASSO por legislatura"
      ],
      "metadata": {
        "id": "8-gb-mEnBIzT"
      }
    },
    {
      "cell_type": "code",
      "source": [
        "from tabulate import tabulate\n",
        "from sklearn.linear_model import LogisticRegression\n",
        "from sklearn.metrics import confusion_matrix,classification_report"
      ],
      "metadata": {
        "id": "vhDOUIZfBKmy"
      },
      "execution_count": null,
      "outputs": []
    },
    {
      "cell_type": "code",
      "source": [
        "frex_df=pd.DataFrame(frex(lda))"
      ],
      "metadata": {
        "id": "ULyGkadGCBjd"
      },
      "execution_count": null,
      "outputs": []
    },
    {
      "cell_type": "code",
      "source": [
        "# Topic que presenta mayor FREX para cada bigrama\n",
        "d = []\n",
        "feature_names=vect.get_feature_names_out()\n",
        "for n in enumerate(feature_names):\n",
        "    d.append(\n",
        "        {\n",
        "            'N': n[0],\n",
        "            'Bigrama': n[1],\n",
        "            'Topic':  frex_df[n[0]].argsort()[9]\n",
        "        }\n",
        "    )\n",
        "\n",
        "bi_topic_frex=pd.DataFrame(d)\n",
        "bi_topic_frex.head(20)"
      ],
      "metadata": {
        "id": "bxUhi6ifBuiB",
        "outputId": "209d952b-3dd0-4a8b-d59c-ada94f6baceb",
        "colab": {
          "base_uri": "https://localhost:8080/"
        }
      },
      "execution_count": null,
      "outputs": [
        {
          "output_type": "execute_result",
          "data": {
            "text/plain": [
              "     N              Bigrama  Topic\n",
              "0    0  abierto competitivo     22\n",
              "1    1    abierto comunidad      1\n",
              "2    2     abierto consenso     18\n",
              "3    3   abierto considerar      3\n",
              "4    4    abierto cualquier      4\n",
              "5    5        abierto debat      2\n",
              "6    6     abierto dialogar     26\n",
              "7    7      abierto dialogo      0\n",
              "8    8        abierto dicho     11\n",
              "9    9    abierto discusion     20\n",
              "10  10     abierto discutir     14\n",
              "11  11         abierto ello      6\n",
              "12  12     abierto estudiar     20\n",
              "13  13        abierto etapa     24\n",
              "14  14      abierto europea     16\n",
              "15  15    abierto expedient     25\n",
              "16  16     abierto exterior     12\n",
              "17  17        abierto firma     21\n",
              "18  18      abierto flexibl      1\n",
              "19  19         abierto gran     14"
            ],
            "text/html": [
              "\n",
              "  <div id=\"df-c55e57ab-9e31-4a2d-a0a5-ccfd1551d238\">\n",
              "    <div class=\"colab-df-container\">\n",
              "      <div>\n",
              "<style scoped>\n",
              "    .dataframe tbody tr th:only-of-type {\n",
              "        vertical-align: middle;\n",
              "    }\n",
              "\n",
              "    .dataframe tbody tr th {\n",
              "        vertical-align: top;\n",
              "    }\n",
              "\n",
              "    .dataframe thead th {\n",
              "        text-align: right;\n",
              "    }\n",
              "</style>\n",
              "<table border=\"1\" class=\"dataframe\">\n",
              "  <thead>\n",
              "    <tr style=\"text-align: right;\">\n",
              "      <th></th>\n",
              "      <th>N</th>\n",
              "      <th>Bigrama</th>\n",
              "      <th>Topic</th>\n",
              "    </tr>\n",
              "  </thead>\n",
              "  <tbody>\n",
              "    <tr>\n",
              "      <th>0</th>\n",
              "      <td>0</td>\n",
              "      <td>abierto competitivo</td>\n",
              "      <td>22</td>\n",
              "    </tr>\n",
              "    <tr>\n",
              "      <th>1</th>\n",
              "      <td>1</td>\n",
              "      <td>abierto comunidad</td>\n",
              "      <td>1</td>\n",
              "    </tr>\n",
              "    <tr>\n",
              "      <th>2</th>\n",
              "      <td>2</td>\n",
              "      <td>abierto consenso</td>\n",
              "      <td>18</td>\n",
              "    </tr>\n",
              "    <tr>\n",
              "      <th>3</th>\n",
              "      <td>3</td>\n",
              "      <td>abierto considerar</td>\n",
              "      <td>3</td>\n",
              "    </tr>\n",
              "    <tr>\n",
              "      <th>4</th>\n",
              "      <td>4</td>\n",
              "      <td>abierto cualquier</td>\n",
              "      <td>4</td>\n",
              "    </tr>\n",
              "    <tr>\n",
              "      <th>5</th>\n",
              "      <td>5</td>\n",
              "      <td>abierto debat</td>\n",
              "      <td>2</td>\n",
              "    </tr>\n",
              "    <tr>\n",
              "      <th>6</th>\n",
              "      <td>6</td>\n",
              "      <td>abierto dialogar</td>\n",
              "      <td>26</td>\n",
              "    </tr>\n",
              "    <tr>\n",
              "      <th>7</th>\n",
              "      <td>7</td>\n",
              "      <td>abierto dialogo</td>\n",
              "      <td>0</td>\n",
              "    </tr>\n",
              "    <tr>\n",
              "      <th>8</th>\n",
              "      <td>8</td>\n",
              "      <td>abierto dicho</td>\n",
              "      <td>11</td>\n",
              "    </tr>\n",
              "    <tr>\n",
              "      <th>9</th>\n",
              "      <td>9</td>\n",
              "      <td>abierto discusion</td>\n",
              "      <td>20</td>\n",
              "    </tr>\n",
              "    <tr>\n",
              "      <th>10</th>\n",
              "      <td>10</td>\n",
              "      <td>abierto discutir</td>\n",
              "      <td>14</td>\n",
              "    </tr>\n",
              "    <tr>\n",
              "      <th>11</th>\n",
              "      <td>11</td>\n",
              "      <td>abierto ello</td>\n",
              "      <td>6</td>\n",
              "    </tr>\n",
              "    <tr>\n",
              "      <th>12</th>\n",
              "      <td>12</td>\n",
              "      <td>abierto estudiar</td>\n",
              "      <td>20</td>\n",
              "    </tr>\n",
              "    <tr>\n",
              "      <th>13</th>\n",
              "      <td>13</td>\n",
              "      <td>abierto etapa</td>\n",
              "      <td>24</td>\n",
              "    </tr>\n",
              "    <tr>\n",
              "      <th>14</th>\n",
              "      <td>14</td>\n",
              "      <td>abierto europea</td>\n",
              "      <td>16</td>\n",
              "    </tr>\n",
              "    <tr>\n",
              "      <th>15</th>\n",
              "      <td>15</td>\n",
              "      <td>abierto expedient</td>\n",
              "      <td>25</td>\n",
              "    </tr>\n",
              "    <tr>\n",
              "      <th>16</th>\n",
              "      <td>16</td>\n",
              "      <td>abierto exterior</td>\n",
              "      <td>12</td>\n",
              "    </tr>\n",
              "    <tr>\n",
              "      <th>17</th>\n",
              "      <td>17</td>\n",
              "      <td>abierto firma</td>\n",
              "      <td>21</td>\n",
              "    </tr>\n",
              "    <tr>\n",
              "      <th>18</th>\n",
              "      <td>18</td>\n",
              "      <td>abierto flexibl</td>\n",
              "      <td>1</td>\n",
              "    </tr>\n",
              "    <tr>\n",
              "      <th>19</th>\n",
              "      <td>19</td>\n",
              "      <td>abierto gran</td>\n",
              "      <td>14</td>\n",
              "    </tr>\n",
              "  </tbody>\n",
              "</table>\n",
              "</div>\n",
              "      <button class=\"colab-df-convert\" onclick=\"convertToInteractive('df-c55e57ab-9e31-4a2d-a0a5-ccfd1551d238')\"\n",
              "              title=\"Convert this dataframe to an interactive table.\"\n",
              "              style=\"display:none;\">\n",
              "        \n",
              "  <svg xmlns=\"http://www.w3.org/2000/svg\" height=\"24px\"viewBox=\"0 0 24 24\"\n",
              "       width=\"24px\">\n",
              "    <path d=\"M0 0h24v24H0V0z\" fill=\"none\"/>\n",
              "    <path d=\"M18.56 5.44l.94 2.06.94-2.06 2.06-.94-2.06-.94-.94-2.06-.94 2.06-2.06.94zm-11 1L8.5 8.5l.94-2.06 2.06-.94-2.06-.94L8.5 2.5l-.94 2.06-2.06.94zm10 10l.94 2.06.94-2.06 2.06-.94-2.06-.94-.94-2.06-.94 2.06-2.06.94z\"/><path d=\"M17.41 7.96l-1.37-1.37c-.4-.4-.92-.59-1.43-.59-.52 0-1.04.2-1.43.59L10.3 9.45l-7.72 7.72c-.78.78-.78 2.05 0 2.83L4 21.41c.39.39.9.59 1.41.59.51 0 1.02-.2 1.41-.59l7.78-7.78 2.81-2.81c.8-.78.8-2.07 0-2.86zM5.41 20L4 18.59l7.72-7.72 1.47 1.35L5.41 20z\"/>\n",
              "  </svg>\n",
              "      </button>\n",
              "      \n",
              "  <style>\n",
              "    .colab-df-container {\n",
              "      display:flex;\n",
              "      flex-wrap:wrap;\n",
              "      gap: 12px;\n",
              "    }\n",
              "\n",
              "    .colab-df-convert {\n",
              "      background-color: #E8F0FE;\n",
              "      border: none;\n",
              "      border-radius: 50%;\n",
              "      cursor: pointer;\n",
              "      display: none;\n",
              "      fill: #1967D2;\n",
              "      height: 32px;\n",
              "      padding: 0 0 0 0;\n",
              "      width: 32px;\n",
              "    }\n",
              "\n",
              "    .colab-df-convert:hover {\n",
              "      background-color: #E2EBFA;\n",
              "      box-shadow: 0px 1px 2px rgba(60, 64, 67, 0.3), 0px 1px 3px 1px rgba(60, 64, 67, 0.15);\n",
              "      fill: #174EA6;\n",
              "    }\n",
              "\n",
              "    [theme=dark] .colab-df-convert {\n",
              "      background-color: #3B4455;\n",
              "      fill: #D2E3FC;\n",
              "    }\n",
              "\n",
              "    [theme=dark] .colab-df-convert:hover {\n",
              "      background-color: #434B5C;\n",
              "      box-shadow: 0px 1px 3px 1px rgba(0, 0, 0, 0.15);\n",
              "      filter: drop-shadow(0px 1px 2px rgba(0, 0, 0, 0.3));\n",
              "      fill: #FFFFFF;\n",
              "    }\n",
              "  </style>\n",
              "\n",
              "      <script>\n",
              "        const buttonEl =\n",
              "          document.querySelector('#df-c55e57ab-9e31-4a2d-a0a5-ccfd1551d238 button.colab-df-convert');\n",
              "        buttonEl.style.display =\n",
              "          google.colab.kernel.accessAllowed ? 'block' : 'none';\n",
              "\n",
              "        async function convertToInteractive(key) {\n",
              "          const element = document.querySelector('#df-c55e57ab-9e31-4a2d-a0a5-ccfd1551d238');\n",
              "          const dataTable =\n",
              "            await google.colab.kernel.invokeFunction('convertToInteractive',\n",
              "                                                     [key], {});\n",
              "          if (!dataTable) return;\n",
              "\n",
              "          const docLinkHtml = 'Like what you see? Visit the ' +\n",
              "            '<a target=\"_blank\" href=https://colab.research.google.com/notebooks/data_table.ipynb>data table notebook</a>'\n",
              "            + ' to learn more about interactive tables.';\n",
              "          element.innerHTML = '';\n",
              "          dataTable['output_type'] = 'display_data';\n",
              "          await google.colab.output.renderOutput(dataTable, element);\n",
              "          const docLink = document.createElement('div');\n",
              "          docLink.innerHTML = docLinkHtml;\n",
              "          element.appendChild(docLink);\n",
              "        }\n",
              "      </script>\n",
              "    </div>\n",
              "  </div>\n",
              "  "
            ]
          },
          "metadata": {},
          "execution_count": 39
        }
      ]
    },
    {
      "cell_type": "code",
      "source": [
        "# Relevancia de bigramas en la predicción por legislatura\n",
        "from sklearn.model_selection import train_test_split\n",
        "from sklearn.metrics import f1_score\n",
        "\n",
        "tabla=[]\n",
        "legislaturas=['I', 'II', 'III', 'IV', 'V', 'VI', 'VII','VIII', 'IX', 'X', 'XI', 'XII','XIII']\n",
        "n=5\n",
        "\n",
        "macro=[]\n",
        "weighted=[]\n",
        "\n",
        "lr = LogisticRegression(penalty='l1', max_iter=50, solver='liblinear')\n",
        "cv=CountVectorizer(ngram_range=[2,2], stop_words=stopwords ,vocabulary=inter)\n",
        "\n",
        "for x in legislaturas: \n",
        "  try: \n",
        "    base_year=base[base.legislatura==x]\n",
        "    X_train, X_test, y_train, y_test = train_test_split(base_year.loc[:, base_year.columns != 'party'], base_year['party'], test_size=0.33, random_state=42)\n",
        "    train_matrix = vect.fit_transform(X_train['tokens'])\n",
        "    test_matrix = vect.transform(X_test['tokens'])  \n",
        "    lr.fit(train_matrix,y_train)\n",
        "    predictions = lr.predict(test_matrix )\n",
        "    macro.append(f1_score(predictions,y_test, average='macro'))\n",
        "    weighted.append(f1_score(predictions,y_test, average='weighted'))\n",
        "    s=lr.coef_[0]\n",
        "    print(f\"Legislatura: {x} - Most Frecuent Topic: {mode(bi_topic_frex['Topic'][argsort(s)])}\")\n",
        "    print(tabulate([cv.get_feature_names_out()[argsort(s)[:n]], sorted(s)[:n],bi_topic_frex['Topic'][argsort(s)[:n]],cv.get_feature_names_out()[argsort(s)[-n:]], sorted(s)[-n:],  bi_topic_frex['Topic'][argsort(s)[-n:]]], tablefmt='pretty'))\n",
        "  except: \n",
        "    macro.append(np.nan)\n",
        "    weighted.append(np.nan)    "
      ],
      "metadata": {
        "id": "M6Sh3m9EBRBW",
        "outputId": "8e8d2031-0070-4c37-85df-a1ea4531dea8",
        "colab": {
          "base_uri": "https://localhost:8080/"
        }
      },
      "execution_count": null,
      "outputs": [
        {
          "output_type": "stream",
          "name": "stdout",
          "text": [
            "Legislatura: I - Most Frecuent Topic: 25\n",
            "+---------------------+--------------------+---------------------+---------------------+--------------------+\n",
            "|   nombr centrista   |    duda ninguna    | articulo mantenida  |  libertad libertad  |   articulo pausa   |\n",
            "| -3.5490828581682665 | -3.529689873618588 | -2.890094806415368  | -2.8048361625156693 | -2.650019610952798 |\n",
            "|         19          |         13         |          4          |          4          |         16         |\n",
            "| formacion politica  |   cualquier caso   | solucionar problema |    reunion junta    |   pasamo examen    |\n",
            "|  2.173435654587356  | 2.187134722009388  |  2.261429000180524  |  2.57009079185584   | 2.7545625260807696 |\n",
            "|         19          |         16         |         20          |          4          |         6          |\n",
            "+---------------------+--------------------+---------------------+---------------------+--------------------+\n",
            "Legislatura: II - Most Frecuent Topic: 25\n",
            "+--------------------+--------------------+---------------------+----------------------------+--------------------+\n",
            "|   retirar numero   |   pido cuestion    |     pre sident      | consecuencia transferencia |  precio carburant  |\n",
            "| -3.860065781181828 | -3.413848077492228 | -3.0821544287028653 |    -2.9556584982089773     | -2.638880209363188 |\n",
            "|         17         |         6          |         19          |             6              |         18         |\n",
            "|  atengas cuestion  |  acuerdo dictamen  |   articulo pausa    |       tiempo minuto        |  vaya terminando   |\n",
            "| 2.5878518636343744 | 2.6112934603070115 |   2.7690662376148   |     2.892900845235328      | 3.5045151194905717 |\n",
            "|         19         |         1          |         16          |             1              |         4          |\n",
            "+--------------------+--------------------+---------------------+----------------------------+--------------------+\n",
            "Legislatura: III - Most Frecuent Topic: 25\n",
            "+---------------------+---------------------+--------------------+-------------------------+--------------------+\n",
            "|   terminar refier   | rogaria presidencia |  pedimo separada   | funcionario pensionista | solicito separada  |\n",
            "| -3.5114463226640695 | -3.375294326552614  | -3.296071363962181 |   -3.2437849390500126   | -3.238396541523745 |\n",
            "|          6          |          9          |         2          |            4            |         19         |\n",
            "|  dictamen comision  |    sube tribuna     |    duda alguna     |   agrupacion catalana   |   puesto marcha    |\n",
            "|  2.053520198422635  |  2.22339786624925   | 2.225222123901252  |   2.2840039330160313    | 2.3164826132251006 |\n",
            "|         17          |         19          |         3          |           18            |         22         |\n",
            "+---------------------+---------------------+--------------------+-------------------------+--------------------+\n",
            "Legislatura: IV - Most Frecuent Topic: 25\n",
            "+--------------------+----------------------+---------------------+-------------------------+--------------------+\n",
            "|   pedir separada   | solicitaria separada | hecho absolutament  |    solicito separada    | solicita separada  |\n",
            "| -4.341091991743591 |  -4.296765705378927  | -3.8177040657494596 |   -3.783830231549157    | -3.752622584068503 |\n",
            "|         15         |          1           |         29          |           19            |         15         |\n",
            "|   quiero indicar   | apartado disposicion |   mejor condicion   | conjunto administracion |  linea actuacion   |\n",
            "| 2.477998461542951  |  2.5532688482411543  |  2.685154714337561  |    2.728579949081841    | 2.745370745599363  |\n",
            "|         4          |          6           |         12          |            0            |         14         |\n",
            "+--------------------+----------------------+---------------------+-------------------------+--------------------+\n",
            "Legislatura: V - Most Frecuent Topic: 25\n",
            "+--------------------+--------------------+---------------------+---------------------+-----------------------+\n",
            "|  convenir conmigo  | solicito separada  | planteando cuestion |      hace casi      | termino inmediatament |\n",
            "| -4.081242805486913 | -3.532826099570893 | -3.450987987459097  | -3.3681289237465495 |  -3.324233012089578   |\n",
            "|         0          |         19         |         23          |         22          |          17           |\n",
            "|    deseen fijar    | politico economico |  vaya concluyendo   |    recordar ssss    |   congreso formula    |\n",
            "|  2.20327262480345  | 2.287482746823141  | 2.4865596655046414  | 2.5227412078282954  |   4.301221945528072   |\n",
            "|         4          |         27         |         19          |         13          |          19           |\n",
            "+--------------------+--------------------+---------------------+---------------------+-----------------------+\n",
            "Legislatura: VI - Most Frecuent Topic: 25\n",
            "+---------------------+---------------------+---------------------+---------------------+--------------------+\n",
            "|  termino resultant  | presentacion nombr  |     nombr feder     | texto interpelacion |   numero formula   |\n",
            "| -3.3772231313913434 | -3.1649132357346836 | -2.9186011348072003 | -2.6903318167606183 | -2.621681198747325 |\n",
            "|         18          |         18          |         23          |          2          |         19         |\n",
            "|     pasar debat     | lasagabast defensa  |     deberia ir      |   indicar acepta    |    fijar debat     |\n",
            "| 3.1501908568984764  |  3.220197179575044  |  3.572857019999739  |  4.257721498585699  | 4.753156110360595  |\n",
            "|          6          |         11          |         19          |          4          |         4          |\n",
            "+---------------------+---------------------+---------------------+---------------------+--------------------+\n",
            "Legislatura: VII - Most Frecuent Topic: 25\n",
            "+--------------------+--------------------+---------------------+---------------------+----------------------+\n",
            "|   numero formula   |  congreso formula  |   quiero agradec    | acuerd celebracion  | interpelacion urgent |\n",
            "| -4.431181937238691 | -2.896942556857272 | -2.6772932789958266 | -2.5577698272298703 |  -2.547501939084004  |\n",
            "|         19         |         19         |         12          |          4          |          24          |\n",
            "| presentada mocion  |   recort derecho   |  tiempo inspector   |   ir concluyendo    |    cuenta secreta    |\n",
            "| 3.4013272447565788 | 3.5030663530524717 | 3.8753085625778736  | 3.9541184784373717  |  4.374042814015636   |\n",
            "|         9          |         23         |         21          |         18          |          15          |\n",
            "+--------------------+--------------------+---------------------+---------------------+----------------------+\n",
            "Legislatura: VIII - Most Frecuent Topic: 25\n",
            "+--------------------+-----------------------+---------------------+--------------------+-----------------------+\n",
            "|  doy reproducida   |     doy formulada     | ilegalment militant |   pido articulo    | solucion habitacional |\n",
            "| -5.013907415271775 |  -4.453271695033144   | -3.9514226083099895 | -3.486313484548854 |  -3.355492028940835   |\n",
            "|         23         |          29           |         20          |         19         |          12           |\n",
            "|  tiempo concluido  | integracion inmigrant |     aria cañet      |  batallon elector  |   turismo comercio    |\n",
            "| 2.2876484879904977 |   2.336187041728054   |  2.646947049020301  | 2.737707568891567  |   2.78698226785177    |\n",
            "|         18         |          23           |          4          |         25         |           6           |\n",
            "+--------------------+-----------------------+---------------------+--------------------+-----------------------+\n",
            "Legislatura: IX - Most Frecuent Topic: 25\n",
            "+--------------------+---------------------+--------------------------+---------------------+---------------------+\n",
            "|   doy formulada    |    derecho saber    | continuamo interpelacion |   subir impuesto    | subvencion empresa  |\n",
            "| -4.41658254142341  | -3.9233193661711834 |   -3.7196013373762185    | -3.6109867345557785 | -3.2915973476388856 |\n",
            "|         29         |         24          |            1             |         24          |         19          |\n",
            "| autonoma gobiernan |  turismo comercio   |     poner manifiesto     |   alli gobiernan    |  dato criminalidad  |\n",
            "| 2.4506208601417887 | 2.4979750837018138  |    2.6511121205890342    |  3.012607177148936  |  4.238202781962439  |\n",
            "|         19         |          6          |            21            |          6          |         21          |\n",
            "+--------------------+---------------------+--------------------------+---------------------+---------------------+\n",
            "Legislatura: X - Most Frecuent Topic: 25\n",
            "+---------------------+------------------------+---------------------+---------------------+---------------------+\n",
            "| reforma estructural | declaracion tributaria |  periodo ordinario  |   energia turismo   |  servicio igualdad  |\n",
            "| -3.8763645422418356 |   -3.740312444000675   | -2.6648582856915013 | -2.6482063643792304 | -2.6282058555611956 |\n",
            "|          0          |           16           |          2          |         16          |         24          |\n",
            "|   valoracion hace   |     inform dispon      |    excusa crisi     |    doy formulada    |    debe concluir    |\n",
            "| 3.4733103141048205  |    3.65415937831463    |  3.867607922946043  |  5.243797913687663  |  5.351404853890439  |\n",
            "|         29          |           21           |         19          |         29          |          6          |\n",
            "+---------------------+------------------------+---------------------+---------------------+---------------------+\n",
            "Legislatura: XI - Most Frecuent Topic: 25\n",
            "+---------------------+--------------------+---------------------+--------------------+--------------------+\n",
            "|    cort general     |   puesto trabajo   |   secretaria edad   |   hecho alusion    |    alguna sido     |\n",
            "| -2.2188103194601783 | -2.081296501008022 | -1.7669295401994847 | -1.587948931410391 | -1.587948931410391 |\n",
            "|          0          |         18         |         24          |         5          |         2          |\n",
            "|      dar paso       |    vota termino    |   directiva agua    | toma consideracion | sociedad catalana  |\n",
            "| 0.7129868906137322  | 0.8204554863793867 |  0.984600236995946  | 1.112846869374725  | 1.1202845405613873 |\n",
            "|          8          |         23         |          1          |         27         |         19         |\n",
            "+---------------------+--------------------+---------------------+--------------------+--------------------+\n",
            "Legislatura: XII - Most Frecuent Topic: 25\n",
            "+---------------------+--------------------+-----------------------+---------------------+---------------------+\n",
            "|   quieren romper    |  creacion empleo   |   servicio igualdad   | mantenimiento poder | alimentacion medio  |\n",
            "| -3.6034932609736887 | -3.223175776496232 |  -2.7430962629266995  | -2.5976843235148737 | -2.379254497632608  |\n",
            "|         29          |         14         |          24           |         18          |         23          |\n",
            "|    ciudadano pai    |  comercio turismo  | universalidad sanidad |    efecto acepta    | europea cooperacion |\n",
            "| 3.1823489715837088  |  3.19332826319753  |  3.2304382968505614   |  3.447716227852885  | 3.7215382315123025  |\n",
            "|         21          |         18         |          25           |         25          |         15          |\n",
            "+---------------------+--------------------+-----------------------+---------------------+---------------------+\n",
            "Legislatura: XIII - Most Frecuent Topic: 25\n",
            "+---------------------+---------------------+---------------------+--------------------+---------------------+\n",
            "|     forma part      |  haber demostrado   |    adema podemo     |     digo creo      |      hace mese      |\n",
            "| -3.3707049950392776 | -2.2120192244227366 | -2.1797177587609466 | -1.994232911474268 | -1.9873544165201291 |\n",
            "|         20          |         18          |          4          |         2          |         21          |\n",
            "|  empresa afectada   | politica migratoria |     duda alguna     |   medida urgent    |   confeder podemo   |\n",
            "| 0.35400749899292133 | 0.3945638414122159  |  0.566277408246738  | 0.7129868426909026 | 0.7502931692551342  |\n",
            "|          6          |         18          |          3          |         29         |         24          |\n",
            "+---------------------+---------------------+---------------------+--------------------+---------------------+\n"
          ]
        }
      ]
    },
    {
      "cell_type": "code",
      "source": [
        "# Yo entiendo que el resultado relevante es el macro, porque considera el desbalance de clases\n",
        "import matplotlib.pyplot as plt\n",
        "plt.plot(legislaturas, macro, marker='o')\n",
        "plt.plot(legislaturas, weighted, marker='+')"
      ],
      "metadata": {
        "id": "Iw40i86R9JeP",
        "outputId": "8439ba96-5da0-4dbb-a9e1-abb8010f3d98",
        "colab": {
          "base_uri": "https://localhost:8080/"
        }
      },
      "execution_count": null,
      "outputs": [
        {
          "output_type": "execute_result",
          "data": {
            "text/plain": [
              "[<matplotlib.lines.Line2D at 0x7f7970689cd0>]"
            ]
          },
          "metadata": {},
          "execution_count": 41
        },
        {
          "output_type": "display_data",
          "data": {
            "text/plain": [
              "<Figure size 432x288 with 1 Axes>"
            ],
            "image/png": "[encoded data removed]"
          },
          "metadata": {
            "needs_background": "light"
          }
        }
      ]
    },
    {
      "cell_type": "markdown",
      "source": [
        "# LASSO por año"
      ],
      "metadata": {
        "id": "OFeJludNFKDc"
      }
    },
    {
      "cell_type": "code",
      "source": [
        "# Relevancia de bigramas en la predicción por año\n",
        "macro=[]\n",
        "weighted=[]\n",
        "tabla=[]\n",
        "\n",
        "nombres=cv.get_feature_names_out()\n",
        "componentes=lda.components_.transpose()\n",
        "n = 5\n",
        "lr = LogisticRegression(penalty='l1', max_iter=1000, solver='liblinear')\n",
        "\n",
        "for x in range (1979, 2020): \n",
        "  try: \n",
        "    base_year=base[pd.DatetimeIndex(base.fecha).year==x]\n",
        "    X_train, X_test, y_train, y_test = train_test_split(base_year.loc[:, base_year.columns != 'party'], base_year['party'], test_size=0.33, random_state=42)\n",
        "    train_matrix = vect.fit_transform(X_train['tokens'])\n",
        "    test_matrix = vect.transform(X_test['tokens'])  \n",
        "    lr.fit(train_matrix,y_train)\n",
        "    predictions = lr.predict(test_matrix )\n",
        "    macro.append(f1_score(predictions,y_test, average='macro'))\n",
        "    weighted.append(f1_score(predictions,y_test, average='weighted'))\n",
        "    s = lr.coef_[0]\n",
        "    print(f\"Año: {x}\")\n",
        "    print(tabulate([cv.get_feature_names_out()[argsort(s)[:n]], sorted(s)[:n],bi_topic_frex['Topic'][argsort(s)[:n]],cv.get_feature_names_out()[argsort(s)[-n:]], sorted(s)[-n:],  bi_topic_frex['Topic'][argsort(s)[-n:]]], tablefmt='pretty'))\n",
        "  except: \n",
        "    macro.append(np.nan)\n",
        "    weighted.append(np.nan)  "
      ],
      "metadata": {
        "id": "iwoTUMp8FMHE",
        "outputId": "fd62b14d-d43b-4443-c44d-570d7a689b35",
        "colab": {
          "base_uri": "https://localhost:8080/"
        }
      },
      "execution_count": null,
      "outputs": [
        {
          "output_type": "stream",
          "name": "stdout",
          "text": [
            "Año: 1979\n",
            "+----------------------+--------------------+--------------------+---------------------+---------------------+\n",
            "|  publicada boletin   |  correspond ahora  |    misma razon     |      quier uso      | ultima intervencion |\n",
            "| -2.5218990738169986  | -2.484730768320344 | -1.927122454354577 | -1.7392070088156875 | -1.7292375766944237 |\n",
            "|          2           |         18         |         22         |         26          |         27          |\n",
            "| ministerio educacion |  orador precedido  |    ningun tipo     | ministerio hacienda | formacion politica  |\n",
            "|  0.9631667923531337  | 1.0052004720859211 | 1.0454232467083464 | 1.1904020253778183  | 1.9685194611315822  |\n",
            "|          1           |         4          |         10         |         16          |         19          |\n",
            "+----------------------+--------------------+--------------------+---------------------+---------------------+\n",
            "Año: 1980\n",
            "+---------------------+----------------------+---------------------+---------------------+---------------------+\n",
            "|   articulo pausa    |  publicada boletin   | constitucion cuanto |   senado proyecto   | articulo mantenida  |\n",
            "| -2.2826866313482714 | -2.2702767540624764  | -2.258260772205733  | -2.1753143011936635 | -2.0478117030268446 |\n",
            "|         16          |          2           |         18          |         24          |          4          |\n",
            "| solucionar problema | expresar conformidad |    respond nombr    |   congreso senado   |    pasamo examen    |\n",
            "| 1.6721410748292656  |  1.7819425429443654  |  1.916869280001596  | 2.0770975279783825  | 2.2138877436516973  |\n",
            "|         20          |          15          |         29          |         12          |          6          |\n",
            "+---------------------+----------------------+---------------------+---------------------+---------------------+\n",
            "Año: 1981\n",
            "+--------------------+--------------------+-------------------------+-------------------------+---------------------+\n",
            "|  contestar nombr   |     desea uso      | interpelacion formulada | contestar interpelacion |    podemo seguir    |\n",
            "| -2.120459298634286 | -1.953344976117931 |   -1.826112451226998    |   -1.7798368014150545   | -1.7635262128934754 |\n",
            "|         23         |         16         |           18            |            6            |          5          |\n",
            "|   alguna manera    |    ningun tipo     |   presupuesto general   |         asi pue         |   pedimo separada   |\n",
            "| 1.0196119878466232 |  1.17680453056579  |    1.207993310392602    |   1.2437149031035757    |  1.804265703570324  |\n",
            "|         4          |         10         |           13            |           15            |          2          |\n",
            "+--------------------+--------------------+-------------------------+-------------------------+---------------------+\n",
            "Año: 1982\n",
            "+--------------------+---------------------------+----------------------+-----------------------+--------------------------+\n",
            "|    duda ninguna    | procedimiento legislativo | desarrollo economico | funcion fiscalizadora | interpelacion correspond |\n",
            "| -2.024529160640476 |    -1.9947779457692745    | -1.9723543232459275  |  -1.7622062711372035  |   -1.6823367048475821    |\n",
            "|         13         |            23             |          5           |          10           |            23            |\n",
            "|   cualquier caso   |   jurisdiccion contabl    |      plazo mese      |   separada articulo   |     resolv problema      |\n",
            "| 0.7538196532802263 |    0.8363181072685253     |  0.9526248390080065  |  1.1018357003160633   |    1.3728442756809105    |\n",
            "|         16         |            11             |          12          |          19           |            1             |\n",
            "+--------------------+---------------------------+----------------------+-----------------------+--------------------------+\n",
            "Año: 1983\n",
            "+--------------------+---------------------+--------------------+--------------------+---------------------+\n",
            "|   pido cuestion    | separadament numero |   banco derecha    |     hace caso      |  pido explicacion   |\n",
            "| -3.129913780536861 | -3.056971609028961  | -2.844196339315157 | -2.735969305332398 | -2.7244480978299124 |\n",
            "|         6          |         19          |         6          |         12         |          4          |\n",
            "| respecto anterior  |   vaya terminando   |    numero pausa    |   tiempo minuto    |    buena medida     |\n",
            "| 2.050425085573489  | 2.1330410493911067  | 2.257218639067064  | 2.724832521272294  | 3.1869974068086653  |\n",
            "|         14         |          4          |         16         |         1          |          8          |\n",
            "+--------------------+---------------------+--------------------+--------------------+---------------------+\n",
            "Año: 1984\n",
            "+---------------------+---------------------+---------------------+--------------------+---------------------+\n",
            "|  separada articulo  |    banco derecha    |  opinion respecto   |   pido cuestion    |     grave error     |\n",
            "| -4.2260629162791625 | -3.6789757633829363 | -3.1011394380466335 | -2.852506399539605 | -2.8255515588990514 |\n",
            "|         19          |          6          |         13          |         6          |         13          |\n",
            "|  terminado tiempo   |   articulo pausa    |     pausa nulo      |    entrar tema     |   vaya terminando   |\n",
            "| 1.9950074359508811  | 2.1605611870360173  | 2.2252912130324294  | 2.310642135402377  | 2.4440110790183427  |\n",
            "|         23          |         16          |          4          |         3          |          4          |\n",
            "+---------------------+---------------------+---------------------+--------------------+---------------------+\n",
            "Año: 1985\n",
            "+--------------------+---------------------+---------------------+---------------------+--------------------+\n",
            "|    misma forma     | votars conjuntament |   pedimo separada   |   maxima brevedad   |   pido cuestion    |\n",
            "| -3.414301302397305 | -3.3855913471915144 | -3.1459293128186645 | -3.1080807167689595 | -3.033129442356382 |\n",
            "|         11         |         14          |          2          |          4          |         6          |\n",
            "|   articulo pausa   |     rumor banco     |   senado articulo   |   vaya terminando   | articulo apartado  |\n",
            "| 2.091762240866683  | 2.1634093594124093  | 2.1838559693607915  | 2.2994578599968793  | 2.844083814264882  |\n",
            "|         16         |         18          |         16          |          4          |         6          |\n",
            "+--------------------+---------------------+---------------------+---------------------+--------------------+\n",
            "Año: 1986\n",
            "+---------------------+---------------------+---------------------+---------------------+---------------------+\n",
            "|  portavoz minoria   |   feder alemania    |  pension viudedad   |   conoc prevision   |   separada numero   |\n",
            "| -3.251983300680014  | -2.7529302150347634 | -2.7084410877481546 | -2.6605425595512067 | -2.6398758111895306 |\n",
            "|         23          |         24          |          4          |         16          |         15          |\n",
            "| agrupacion catalana |  dictamen comision  | organismo autonomo  |     sido objeto     |  estructura mando   |\n",
            "| 1.3057645316725626  | 1.4483435833882374  | 1.4831728244158344  | 1.5051904925369484  |  1.584411608989751  |\n",
            "|         18          |         17          |         19          |         20          |         15          |\n",
            "+---------------------+---------------------+---------------------+---------------------+---------------------+\n",
            "Año: 1987\n",
            "+------------------------+---------------------+---------------------+---------------------+-----------------------+\n",
            "|     base articulo      |   despue tramite    |   debat entendemo   |  director general   | agrupacion represento |\n",
            "|  -3.6820377918236553   | -2.9469113667798363 | -2.9346200864610035 | -2.8551383850313936 |  -2.742629369960721   |\n",
            "|           19           |         18          |          2          |          9          |           2           |\n",
            "| presupuesto ministerio |  central sindical   | agrupacion catalana |    creado puesto    |      duda alguna      |\n",
            "|   1.7296488972814152   | 1.8279783989503928  | 1.8905414112606378  | 2.1783175334352998  |  2.3557774675991348   |\n",
            "|           1            |          0          |         18          |         18          |           3           |\n",
            "+------------------------+---------------------+---------------------+---------------------+-----------------------+\n",
            "Año: 1988\n",
            "+------------------------+---------------------+---------------------+---------------------+--------------------+\n",
            "|     pido separada      |    pide separada    |  apoyo proposicion  |   propio termino    |     segun dato     |\n",
            "|   -3.297306938986231   | -3.2953755694424256 | -3.1586134595539517 | -3.0150923341573916 | -2.955747031637384 |\n",
            "|           11           |         20          |          4          |         29          |         22         |\n",
            "| administracion central |   ningun problema   |    linea general    |  dictamen comision  |    puedo decirl    |\n",
            "|   1.4823700470967613   | 1.4928105885229097  |  2.320203204585873  |  2.81217122540833   | 3.5015919700367273 |\n",
            "|           25           |         21          |          8          |         17          |         12         |\n",
            "+------------------------+---------------------+---------------------+---------------------+--------------------+\n",
            "Año: 1989\n",
            "+---------------------+-----------------------+--------------------+---------------------+--------------------+\n",
            "|    medida piensa    |       toda luce       |  sido contradicho  |   pedir separada    |  cuerpo mutilado   |\n",
            "| -3.6123258731706973 |  -3.221205798341993   | -3.093043837548398 | -3.0255949990913367 | -2.781514445471893 |\n",
            "|         16          |          13           |         4          |         15          |         16         |\n",
            "|  atencion primaria  | reforma universitaria |    mismo tiempo    |  haciendo esfuerzo  |    norma legal     |\n",
            "| 1.2207203203831718  |   1.249959618429186   | 1.342126139430818  | 1.6011429906078776  | 1.7933678497585366 |\n",
            "|          4          |          23           |         7          |         12          |         27         |\n",
            "+---------------------+-----------------------+--------------------+---------------------+--------------------+\n",
            "Año: 1990\n",
            "+------------------------+--------------------+---------------------+---------------------+---------------------+\n",
            "|     banco derecha      | solicita separada  |     dado razon      |   ello presentado   |  solicito separada  |\n",
            "|  -3.8220671734988505   | -3.650355526546083 | -3.3276573173162576 | -3.3232498686566228 | -3.3023150655686813 |\n",
            "|           6            |         15         |         13          |         11          |         19          |\n",
            "| administracion central |   texto dictamen   |     hace tiempo     |  ponencia comision  |   rumor protesta    |\n",
            "|   1.494312465858268    | 1.6257007433032606 |  1.699690344088704  | 2.1925885067445057  |  4.302120129774041  |\n",
            "|           25           |         24         |         25          |         14          |         23          |\n",
            "+------------------------+--------------------+---------------------+---------------------+---------------------+\n",
            "Año: 1991\n",
            "+---------------------+--------------------+-------------------------+---------------------+-----------------------+\n",
            "|  solicito separada  | solicita separada  |    sido contradicho     |     razon mismo     |      tal derecho      |\n",
            "| -3.8182664720320694 | -3.555245182217942 |    -3.11364822546433    | -2.9938226692613967 |  -2.9530545716691092  |\n",
            "|         19          |         15         |            4            |          4          |           2           |\n",
            "| sistema proteccion  | subsidio desempleo | producto hortofruticola |  aspecto important  | cuadro macroeconomico |\n",
            "| 1.5840942251679515  | 1.8000924931704958 |   1.8443990789371123    |  2.017064200330488  |  2.6106760465416468   |\n",
            "|         17          |         23         |           23            |          5          |           4           |\n",
            "+---------------------+--------------------+-------------------------+---------------------+-----------------------+\n",
            "Año: 1992\n",
            "+-----------------------+---------------------+---------------------+--------------------+---------------------+\n",
            "|    tribuna defend     |  solicita separada  |    medida piensa    |   cuestion rumor   |  alegro reconozca   |\n",
            "|  -3.728429460160962   | -3.5680513694527614 | -3.5021160048837174 | -3.388499930265738 | -3.2991844309284932 |\n",
            "|           5           |         15          |         16          |         7          |         22          |\n",
            "| organo administracion |     partir ahi      |   persona fisica    |   lersundi pide    | momento determinado |\n",
            "|  1.9879648884342263   | 2.0583199632124565  |  2.074833951913926  | 2.4323870944556756 |  2.435740579459425  |\n",
            "|           4           |          1          |         15          |         2          |         22          |\n",
            "+-----------------------+---------------------+---------------------+--------------------+---------------------+\n",
            "Año: 1993\n",
            "+--------------------+---------------------+--------------------+--------------------+-----------------------+\n",
            "|   separada bloqu   |     resto bloqu     |  concluyo minuto   | solicito separada  |     aplauso banco     |\n",
            "| -3.436570484460083 | -3.1019590397303785 | -3.033039249891181 | -2.992924386107006 |   -2.98163766673422   |\n",
            "|         18         |         10          |         23         |         19         |          16           |\n",
            "|    desean fijar    | formacion politica  | publica transport  |  congreso formula  | crecimiento economico |\n",
            "| 1.7138298629604323 | 1.7826410865272115  | 1.8034566216385082 | 1.9836218484347647 |   2.331976008861669   |\n",
            "|         19         |         19          |         6          |         19         |           7           |\n",
            "+--------------------+---------------------+--------------------+--------------------+-----------------------+\n",
            "Año: 1994\n",
            "+--------------------+--------------------+----------------------+-----------------------+----------------------+\n",
            "| solicito separada  |  ello solicitamo   |       van dar        | justificar injustific | legislatura anterior |\n",
            "| -3.618328041692346 | -3.407157874026551 | -3.2702192118671762  |  -3.252796934240115   | -3.1926649768646134  |\n",
            "|         19         |         24         |          5           |          24           |          15          |\n",
            "|    da impresion    |   recurso humano   | institucion familiar |   vaya concluyendo    |   congreso formula   |\n",
            "| 1.5255494434987114 | 1.5709631882660717 |  1.7358130565851473  |  1.9137771161728636   |  3.0225792642916742  |\n",
            "|         12         |         28         |          2           |          19           |          19          |\n",
            "+--------------------+--------------------+----------------------+-----------------------+----------------------+\n",
            "Año: 1995\n",
            "+-----------------------+--------------------+--------------------+----------------------+--------------------------+\n",
            "| desgravacion impuesto | termino rapidament |  postura respecto  | celebracion eleccion | verdaderament preocupant |\n",
            "|  -4.025838720348691   | -3.16692470421782  | -3.076076959893465 | -3.0241982914248435  |   -2.9809988885246046    |\n",
            "|          10           |         19         |         14         |          2           |            24            |\n",
            "|   vaya concluyendo    |    desean fijar    |   capit privado    |  objetivo fundament  |     congreso formula     |\n",
            "|  1.6408275379863502   | 1.687872733253999  | 2.114907318730834  |  3.225892135826627   |    3.459044148527729     |\n",
            "|          19           |         19         |         19         |          5           |            19            |\n",
            "+-----------------------+--------------------+--------------------+----------------------+--------------------------+\n",
            "Año: 1996\n",
            "+---------------------+----------------------+---------------------+----------------------+----------------------+\n",
            "|   numero formula    |   congreso formula   |   mediana empresa   |     tipo intere      |   ultima eleccion    |\n",
            "| -3.251642924051052  | -2.9605493211193634  | -1.512944160625052  | -1.4996477793013614  |  -1.475825882394409  |\n",
            "|         19          |          19          |         24          |          1           |          28          |\n",
            "| presentado proyecto | verdad comparecencia | propio representant | convalidacion desean | modificacion regimen |\n",
            "| 2.2736498499800226  |  2.304594499856997   | 2.3062306039641483  |  2.576822291291746   |  2.735754963979641   |\n",
            "|         13          |          26          |         19          |          24          |          24          |\n",
            "+---------------------+----------------------+---------------------+----------------------+----------------------+\n",
            "Año: 1997\n",
            "+--------------------+----------------------+---------------------+---------------------+---------------------+\n",
            "|   numero formula   | presentacion defensa |     debat part      |    mardon nombr     |  termino resultant  |\n",
            "| -4.039003064074947 |  -2.262704209085254  | -1.8767108193706339 | -1.8519122656627311 | -1.8503379188932447 |\n",
            "|         19         |          16          |          0          |          9          |         18          |\n",
            "|  intervenir debat  |     texto texto      | vicepresident nombr |     dejeme diga     |     fijar debat     |\n",
            "| 2.2698920282591564 |  2.3205601049263582  | 2.4468410832945575  | 2.5125313239902423  |  4.266365118652557  |\n",
            "|         4          |          19          |         20          |         25          |          4          |\n",
            "+--------------------+----------------------+---------------------+---------------------+---------------------+\n",
            "Año: 1998\n",
            "+----------------------+---------------------+----------------------+----------------------+---------------------+\n",
            "| resultant aceptacion |   numero formula    | presentacion defensa | medicamento generico | naturaleza organica |\n",
            "|  -2.105739560247266  | -2.0749137031564207 | -1.9168197788090517  |  -1.765016231891748  | -1.7632309949364853 |\n",
            "|          19          |         19          |          16          |          24          |         15          |\n",
            "| aceptamo transaccion |   indicar acepta    |    ciudadano pai     |  defensa presentada  |     fijar debat     |\n",
            "|  2.590821476791735   |  2.963081620737291  |  3.0286675595864234  |  3.883098157329313   |  4.503620486431721  |\n",
            "|          9           |          4          |          21          |          4           |          4          |\n",
            "+----------------------+---------------------+----------------------+----------------------+---------------------+\n",
            "Año: 1999\n",
            "+--------------------+---------------------+---------------------+--------------------+--------------------+\n",
            "|  congreso formula  |     fijar nombr     |   adopcion medida   |    nombr feder     |  creacion empleo   |\n",
            "| -3.076535491925621 | -2.6789495520224222 | -2.4537360267824786 | -2.447399041755943 | -2.390854290807052 |\n",
            "|         19         |         16          |         14          |         23         |         14         |\n",
            "|  intervenir debat  |   indicar acepta    |     deberia ir      |  vaya terminando   |    fijar debat     |\n",
            "| 3.0144992098129157 |  3.017452628452678  |  3.078362904214322  | 3.3744454437977534 | 3.944738327610678  |\n",
            "|         4          |          4          |         19          |         4          |         4          |\n",
            "+--------------------+---------------------+---------------------+--------------------+--------------------+\n",
            "Año: 2000\n",
            "+---------------------+--------------------+---------------------------+-----------------------+----------------------+\n",
            "|   numero formula    |  congreso formula  | equilibrio presupuestario |  pesca alimentacion   |     mismo tiempo     |\n",
            "| -2.5255057889763495 | -2.412826552108192 |    -1.9736901807479945    |  -1.9337486115174172  |  -1.758294692732825  |\n",
            "|         19          |         19         |             6             |          24           |          7           |\n",
            "|    debe concluir    |    quier fijar     |        mismo nivel        | gestion aeroportuaria | recaudacion impuesto |\n",
            "| 2.5707274664027113  | 2.5707299139364657 |    2.7512419700818262     |   2.800242871381786   |  2.9667446403123994  |\n",
            "|          6          |         6          |             7             |          25           |          23          |\n",
            "+---------------------+--------------------+---------------------------+-----------------------+----------------------+\n",
            "Año: 2001\n",
            "+---------------------+--------------------+--------------------+--------------------+---------------------+\n",
            "|   numero formula    |  congreso formula  | pesca alimentacion |   cultura deport   |    ocupen escaño    |\n",
            "| -3.1149876465573403 | -2.604518008963758 | -2.260949161350487 | -1.912351692350236 | -1.7439105388037484 |\n",
            "|         19          |         19         |         24         |         6          |          1          |\n",
            "|  quiero preguntar   |     vaca loca      |  concluido tiempo  | señalar aceptacion |    pasamo debat     |\n",
            "| 2.9566701304701186  | 2.9977320605956908 |  3.22800797673975  | 3.6748567978449107 |  3.764216358486943  |\n",
            "|          4          |         24         |         25         |         2          |          4          |\n",
            "+---------------------+--------------------+--------------------+--------------------+---------------------+\n",
            "Año: 2002\n",
            "+--------------------+--------------------+-----------------------+---------------------+---------------------+\n",
            "|   numero formula   |   cultura deport   | interpelacion urgent  |    tener cuenta     |   trabajo asunto    |\n",
            "| -3.299099653002356 | -2.420939099082442 |  -2.090710412947987   | -1.7152349510088254 | -1.6795144556152128 |\n",
            "|         19         |         6          |          24           |          6          |          6          |\n",
            "|    efecto pide     |   debe concluir    | intervencion anterior |   leo textualment   |   recort derecho    |\n",
            "| 3.3076274763300506 | 3.3474504209546634 |   3.386625743914876   | 3.3963938521935995  |  3.631640829091911  |\n",
            "|         19         |         6          |          21           |         21          |         23          |\n",
            "+--------------------+--------------------+-----------------------+---------------------+---------------------+\n",
            "Año: 2003\n",
            "+--------------------+-----------------------+---------------------+---------------------+---------------------+\n",
            "|   numero formula   |      nombr feder      |    ocupen escaño    |   toda comunidad    |   texto dictamen    |\n",
            "| -3.30839749838206  |  -2.093168180743737   | -1.9740322080194734 | -1.6562910958637136 | -1.5928997709792316 |\n",
            "|         19         |          23           |          1          |         29          |         24          |\n",
            "| seguridad publica  | termino inmediatament |     hago figura     | campaña publicidad  |   acabo diciendo    |\n",
            "| 2.9180305888093465 |  2.9512040226687772   | 3.3552172524687345  |  3.450568341528462  |  3.530751596047974  |\n",
            "|         2          |          17           |         11          |         19          |         23          |\n",
            "+--------------------+-----------------------+---------------------+---------------------+---------------------+\n",
            "Año: 2004\n",
            "+--------------------+--------------------+--------------------+--------------------+-----------------------+\n",
            "| plantear cuestion  |   alemania reino   |   doy formulada    | intervencion breve |      solo nombr       |\n",
            "| -3.070939138695235 | -3.054976950548282 | -3.035187145657345 | -3.035174467614535 |  -3.0351744676145347  |\n",
            "|         29         |         24         |         29         |         24         |          19           |\n",
            "|    tener cuenta    |  vaya concluyendo  | pesca alimentacion |   texto dictamen   | legalidad internacion |\n",
            "| 1.2746451250126152 | 1.2834395837954484 | 1.3135368899707782 | 1.3762262123668487 |  1.5167818566022797   |\n",
            "|         6          |         19         |         24         |         24         |          23           |\n",
            "+--------------------+--------------------+--------------------+--------------------+-----------------------+\n",
            "Año: 2005\n",
            "+-------------------+-----------------------+---------------------+---------------------+---------------------+\n",
            "|  doy reproducida  | respond interpelacion |    doy formulada    |    pido articulo    |  articulo alusion   |\n",
            "| -4.53280055892117 |   -4.47315263969663   | -3.7672574386769244 | -3.6641514551847068 | -3.4632431750355863 |\n",
            "|        23         |          25           |         29          |         19          |          0          |\n",
            "|     verd verd     |   seccion relativo    |  turismo comercio   |   lider oposicion   |  organica politico  |\n",
            "| 1.21367406694174  |  1.2626727691017265   | 1.6824971033337617  |  2.098750917974544  |  2.284424780854557  |\n",
            "|        23         |          18           |          6          |         24          |         17          |\n",
            "+-------------------+-----------------------+---------------------+---------------------+---------------------+\n",
            "Año: 2006\n",
            "+--------------------+---------------------+---------------------+----------------------+-----------------------+\n",
            "|  doy reproducida   | ilegalment militant |  defensa igualdad   | eficiencia economica |     doy formulada     |\n",
            "| -4.475958440984507 | -3.6700699132326005 | -3.0580879475887848 |  -2.963550439256318  |  -2.9549893347714327  |\n",
            "|         23         |         20          |          1          |          19          |          29           |\n",
            "|     merec pena     |   policia guardia   | acuerd celebracion  |   turismo comercio   | integracion inmigrant |\n",
            "| 1.6061748670392477 |  1.909053081813084  |  2.002224264414345  |  2.298678846469654   |  2.5609714140727373   |\n",
            "|         20         |         16          |          4          |          6           |          23           |\n",
            "+--------------------+---------------------+---------------------+----------------------+-----------------------+\n",
            "Año: 2007\n",
            "+---------------------+-------------------------+--------------------+--------------------+---------------------+\n",
            "|   formulo figura    |     finalment fijar     |    decirl cosa     |  doy reproducida   |       van dar       |\n",
            "| -3.2324928326797253 |   -3.076919933222404    | -3.021992362973098 | -2.880571426545273 | -2.8655126206435333 |\n",
            "|         14          |           29            |         7          |         23         |          5          |\n",
            "|  presentada mocion  | administracion justicia |    lengua signo    |  tiempo concluido  |     partir ahi      |\n",
            "| 1.4467926555010322  |   1.4520756253566491    | 1.7223716778843843 | 2.0269774247628325 |  2.212244250785587  |\n",
            "|          9          |           23            |         29         |         18         |          1          |\n",
            "+---------------------+-------------------------+--------------------+--------------------+---------------------+\n",
            "Año: 2008\n",
            "+---------------------+---------------------+---------------------+---------------------+--------------------+\n",
            "|   umbral pobreza    |   sistema pension   |    pasada semana    | sindicato policial  |  familia miembro   |\n",
            "| -3.2833333226791828 | -3.2710651269365583 | -3.2263107015883516 | -3.1690928043368043 | -3.104435519478992 |\n",
            "|         23          |         16          |          5          |         15          |         18         |\n",
            "|     ir acabando     | actividad economica |   mercado trabajo   |   puedo asegurar    |  turismo comercio  |\n",
            "| 1.2977034369617122  | 1.6429461795730638  |  2.005494135546586  | 2.0058069929903466  | 2.161469541916187  |\n",
            "|         23          |         15          |         23          |         21          |         6          |\n",
            "+---------------------+---------------------+---------------------+---------------------+--------------------+\n",
            "Año: 2009\n",
            "+--------------------+---------------------+--------------------+--------------------+---------------------+\n",
            "|  doy reproducida   |    doy formulada    |     pido retir     |     tasa paro      | chave vicepresident |\n",
            "| -3.583762544928635 | -3.5009457887408746 | -3.500941657485383 | -3.234200616638005 | -3.0163182511253246 |\n",
            "|         23         |         29          |         25         |         1          |         21          |\n",
            "|  turismo comercio  |  persona situacion  |   puesto marcha    | modelo productivo  |    puesta marcha    |\n",
            "| 1.542659118894952  | 1.6646138637843522  | 1.7191770744339687 | 1.7338374066617175 | 1.9504995016212348  |\n",
            "|         6          |         24          |         22         |         6          |         12          |\n",
            "+--------------------+---------------------+--------------------+--------------------+---------------------+\n",
            "Año: 2010\n",
            "+--------------------+--------------------+-----------------------+----------------------+-------------------------+\n",
            "|    pacto hecho     |   podemo seguir    | recort presupuestario |   falta prevision    | expedient disciplinario |\n",
            "| -3.404627697499076 | -3.109970946145616 |  -3.088548466384706   | -2.9477184125910103  |   -2.8977926244468866   |\n",
            "|         9          |         5          |          23           |          29          |           25            |\n",
            "|  transport aereo   |  mercado trabajo   |   turismo comercio    | consolidacion fiscal |        buena fe         |\n",
            "| 1.889074582941814  | 1.9189962092273907 |  1.9270867607655877   |  2.3004609893451144  |    2.386387914345935    |\n",
            "|         0          |         23         |           6           |          4           |           13            |\n",
            "+--------------------+--------------------+-----------------------+----------------------+-------------------------+\n",
            "Año: 2011\n",
            "+--------------------+-------------------------+---------------------+----------------------+---------------------+\n",
            "|    casi parado     | fiscalia anticorrupcion |  empleo destruido   |   trama corrupcion   | sentencia audiencia |\n",
            "| -3.78239949297142  |   -3.0609037245768014   | -3.0274440680931476 |  -2.628101032422484  | -2.6191248552661044 |\n",
            "|         17         |           18            |         23          |          1           |         23          |\n",
            "| dato criminalidad  |    turismo comercio     |  politica igualdad  | consolidacion fiscal |   quiero agradec    |\n",
            "| 1.2772076254114724 |   1.3162962272525727    |  1.827953330453838  |  1.8463134246261814  | 1.9045660917478782  |\n",
            "|         21         |            6            |          6          |          4           |         12          |\n",
            "+--------------------+-------------------------+---------------------+----------------------+---------------------+\n",
            "Año: 2012\n",
            "+-------------------------+---------------------+---------------------+---------------------+---------------------+\n",
            "| economia competitividad | reforma estructural |   deficit publico   |  reforma necesaria  |   toda comunidad    |\n",
            "|   -1.9469934912797655   | -1.703412486811098  | -1.4830777149543695 | -1.3040589882367248 | -1.2794499062404552 |\n",
            "|            9            |          0          |         15          |         27          |         29          |\n",
            "|       mese despue       |  consenso politico  | apoyar proposicion  |      van poder      |    debe concluir    |\n",
            "|   3.1191794460446407    | 3.1379767064120285  | 3.1744224532974266  | 3.1858507227917934  | 4.8097352564538784  |\n",
            "|           11            |          5          |         18          |         20          |          6          |\n",
            "+-------------------------+---------------------+---------------------+---------------------+---------------------+\n",
            "Año: 2013\n",
            "+---------------------+---------------------+--------------------+------------------------+---------------------+\n",
            "|  servicio igualdad  |   cultura deport    |  energia turismo   | sostenibilidad sistema |   deficit publico   |\n",
            "| -3.1978046814175736 | -2.2838848218833037 | -2.111573451184513 |   -2.019634874856709   | -1.9296789436976922 |\n",
            "|         24          |          6          |         16         |           25           |         15          |\n",
            "| formulada distinto  |    doy formulada    |  recort politica   |    nombr industria     |    debe concluir    |\n",
            "| 3.2596527244685602  | 3.2827635258932597  | 3.4490590907303593 |   3.731988990543947    |  4.175943456342713  |\n",
            "|         13          |         29          |         24         |           18           |          6          |\n",
            "+---------------------+---------------------+--------------------+------------------------+---------------------+\n",
            "Año: 2014\n",
            "+----------------------+--------------------+---------------------+---------------------+---------------------+\n",
            "|  servicio igualdad   |   quiero decirl    |  seguir trabajando  |   energia turismo   | mundo desarrollado  |\n",
            "| -4.0030667462415375  | -2.894898905737084 | -2.3349121246876217 | -2.1042864614653376 | -1.8770644443543003 |\n",
            "|          24          |         16         |          5          |         16          |         25          |\n",
            "| proteccion desempleo |   hecho alusion    |    tan siquiera     |    debe concluir    |    doy formulada    |\n",
            "|  2.9748193966666614  | 2.980496897857469  |  3.226173580822694  | 4.1640683539760674  |  4.226620478769973  |\n",
            "|          16          |         5          |          2          |          6          |         29          |\n",
            "+----------------------+--------------------+---------------------+---------------------+---------------------+\n",
            "Año: 2015\n",
            "+--------------------+--------------------+--------------------+---------------------+---------------------+\n",
            "|  creacion empleo   |  respuesta penal   |   quiero decirl    |   recurso propio    | situacion economica |\n",
            "| -2.330256854917632 | -2.130929529440301 | -2.027560942704982 | -1.7327355461546168 | -1.5329337955976678 |\n",
            "|         14         |         16         |         16         |          9          |         22          |\n",
            "|   perder empleo    | seguridad privada  |    toman medida    | intencion relacion  |    debe concluir    |\n",
            "| 2.5896079512620673 | 2.6279305119845553 | 2.847769040904854  | 2.8777317337734654  |  3.504957181603927  |\n",
            "|         9          |         18         |         14         |         20          |          6          |\n",
            "+--------------------+--------------------+--------------------+---------------------+---------------------+\n",
            "Año: 2016\n",
            "+---------------------+---------------------+--------------------+---------------------+---------------------+\n",
            "|   confeder unido    |   creacion empleo   | servicio igualdad  |  reforma organica   |   cualquier caso    |\n",
            "| -2.4019111444555947 | -1.5976448768676563 | -1.594616373533975 | -1.4586088253919283 | -1.1135961623942965 |\n",
            "|          1          |         14          |         24         |          2          |         16          |\n",
            "|   trabajador pobr   |  correspond ahora   |      lui ramo      |   podemo creacion   |  vaya concluyendo   |\n",
            "| 1.7011501871128145  | 1.7071876045663035  | 2.353890910565179  | 2.5363317752853067  | 3.0125458545756945  |\n",
            "|         24          |         18          |         27         |          4          |         19          |\n",
            "+---------------------+---------------------+--------------------+---------------------+---------------------+\n",
            "Año: 2017\n",
            "+--------------------+---------------------+--------------------------+---------------------+---------------------+\n",
            "|     partir ahi     |  servicio igualdad  | industria competitividad |   creacion empleo   |     duda alguna     |\n",
            "| -2.495507144920214 | -2.1431195967605015 |   -2.0916581000177152    | -2.0062556215846605 | -1.7750673320441515 |\n",
            "|         1          |         24          |            18            |         14          |          3          |\n",
            "| corrupcion afectan |    medida tomar     |    sensibilidad hacia    |   amnistia fiscal   |  acogida refugiado  |\n",
            "| 2.670993668906469  | 2.9094232306158037  |    2.9278373871624517    | 3.2083989297934945  |  3.488922291756611  |\n",
            "|         17         |         25          |            17            |         16          |         24          |\n",
            "+--------------------+---------------------+--------------------------+---------------------+---------------------+\n",
            "Año: 2018\n",
            "+-----------------------+---------------------+---------------------+---------------------+---------------------+\n",
            "|    asunto exterior    |   creacion empleo   |   quieren romper    |    pasamo ahora     |   podemo adelant    |\n",
            "|  -2.9661614332168114  | -2.4635203619204877 | -2.1067629889978656 | -1.9091902860378867 | -1.8673138088694505 |\n",
            "|          27           |         14          |         29          |         18          |         15          |\n",
            "| universalidad sanidad |     solo efecto     |      dire cosa      |  senda estabilidad  | europea cooperacion |\n",
            "|  2.5861657339810176   |  2.631076908722342  |  2.727967630088459  |  2.914123041569154  |  3.843305486364354  |\n",
            "|          25           |         19          |         29          |         23          |         15          |\n",
            "+-----------------------+---------------------+---------------------+---------------------+---------------------+\n",
            "Año: 2019\n",
            "+---------------------+---------------------+----------------------+-----------------------+---------------------+\n",
            "|   confeder unido    | fijacion intervien  | presidencia relacion |     pasamo ahora      |    mismo canade     |\n",
            "| -3.0142488411723654 | -2.3583595858813413 | -1.9056243077773283  |  -1.8113135719594957  | -1.6969361949534272 |\n",
            "|          1          |         14          |          6           |          18           |          1          |\n",
            "|  hacienda funcion   |  interior funcion   |   aizpurua arzallu   | candidato presidencia |   confeder podemo   |\n",
            "| 1.9672581175975952  |  2.166600505576374  |  2.171977688343464   |   2.248139910141197   |  3.485231434348455  |\n",
            "|         18          |         18          |          18          |           2           |         24          |\n",
            "+---------------------+---------------------+----------------------+-----------------------+---------------------+\n"
          ]
        }
      ]
    },
    {
      "cell_type": "code",
      "source": [
        "# Yo entiendo que el resultado relevante es el macro, porque considera el desbalance de clases\n",
        "import matplotlib.pyplot as plt\n",
        "plt.plot(range(1979,2020), macro, marker='o')\n",
        "plt.plot(range(1979,2020), weighted, marker='+')"
      ],
      "metadata": {
        "id": "kCX2FWEx_a9B",
        "outputId": "f7851327-591e-4370-a8e4-02954067fb4a",
        "colab": {
          "base_uri": "https://localhost:8080/"
        }
      },
      "execution_count": null,
      "outputs": [
        {
          "output_type": "execute_result",
          "data": {
            "text/plain": [
              "[<matplotlib.lines.Line2D at 0x7f796fdb5520>]"
            ]
          },
          "metadata": {},
          "execution_count": 43
        },
        {
          "output_type": "display_data",
          "data": {
            "text/plain": [
              "<Figure size 432x288 with 1 Axes>"
            ],
            "image/png": "[encoded data removed]"
          },
          "metadata": {
            "needs_background": "light"
          }
        }
      ]
    },
    {
      "cell_type": "markdown",
      "source": [
        "# LASSO overall"
      ],
      "metadata": {
        "id": "Li7nh_9i5-qJ"
      }
    },
    {
      "cell_type": "code",
      "source": [
        "X_train, X_test, y_train, y_test = train_test_split(base.loc[:, base_year.columns != 'party'], base['party'], test_size=0.33, random_state=42)\n",
        "train_matrix = vect.fit_transform(X_train['tokens'])\n",
        "test_matrix = vect.transform(X_test['tokens'])  \n",
        "lr.fit(train_matrix,y_train)\n",
        "predictions = lr.predict(test_matrix )\n",
        "print(f1_score(predictions,y_test, average='macro'))\n",
        "print(f1_score(predictions,y_test, average='weighted'))\n",
        "s = lr.coef_[0]\n",
        "print(tabulate([cv.get_feature_names_out()[argsort(s)[:n]], sorted(s)[:n],bi_topic_frex['Topic'][argsort(s)[:n]],cv.get_feature_names_out()[argsort(s)[-n:]], sorted(s)[-n:],  bi_topic_frex['Topic'][argsort(s)[-n:]]], tablefmt='pretty'))"
      ],
      "metadata": {
        "id": "UY1-qXOP6GSp",
        "outputId": "803ab904-6334-4b8c-88ab-bfa378779add",
        "colab": {
          "base_uri": "https://localhost:8080/"
        }
      },
      "execution_count": null,
      "outputs": [
        {
          "output_type": "stream",
          "name": "stdout",
          "text": [
            "0.6475387217556144\n",
            "0.7020823929685404\n",
            "+--------------------+--------------------+--------------------+--------------------+--------------------+\n",
            "|  dirigida conform  |  termino derivado  |  pausa procedemo   |   numero formula   |  referido senado   |\n",
            "| -4.563681677054712 | -4.495718308321066 | -4.467618083910903 | -4.313275449741695 | -4.286983575562812 |\n",
            "|         1          |         10         |         6          |         19         |         1          |\n",
            "|   seccion pausa    |    fijar pausa     |  turismo comercio  |      cd pausa      |  confeder podemo   |\n",
            "|  4.33726717396521  |  4.52381138588459  | 4.564551166688844  | 4.824276187524637  | 4.919688887474812  |\n",
            "|         25         |         4          |         6          |         18         |         24         |\n",
            "+--------------------+--------------------+--------------------+--------------------+--------------------+\n"
          ]
        }
      ]
    },
    {
      "cell_type": "markdown",
      "source": [
        "# Topic por discurso por weight"
      ],
      "metadata": {
        "id": "7EDRq21VmrQl"
      }
    },
    {
      "cell_type": "code",
      "source": [
        "base.shape"
      ],
      "metadata": {
        "colab": {
          "base_uri": "https://localhost:8080/"
        },
        "id": "fSl-C57Imw9a",
        "outputId": "3823122e-1d5d-45b8-db47-312ebefda5ed"
      },
      "execution_count": null,
      "outputs": [
        {
          "output_type": "execute_result",
          "data": {
            "text/plain": [
              "(334421, 21)"
            ]
          },
          "metadata": {},
          "execution_count": 45
        }
      ]
    },
    {
      "cell_type": "code",
      "source": [
        "matrix"
      ],
      "metadata": {
        "colab": {
          "base_uri": "https://localhost:8080/"
        },
        "id": "SCr_e_4y5VNe",
        "outputId": "1560db23-e3f7-4231-aec1-073723a91a04"
      },
      "execution_count": null,
      "outputs": [
        {
          "output_type": "execute_result",
          "data": {
            "text/plain": [
              "<334421x270230 sparse matrix of type '<class 'numpy.int64'>'\n",
              "\twith 8479733 stored elements in Compressed Sparse Row format>"
            ]
          },
          "metadata": {},
          "execution_count": 46
        }
      ]
    },
    {
      "cell_type": "code",
      "source": [
        "lda.components_.shape"
      ],
      "metadata": {
        "colab": {
          "base_uri": "https://localhost:8080/"
        },
        "id": "v0dtCVHbnQx5",
        "outputId": "3fc568d6-db16-4b54-fb8b-e393223bb324"
      },
      "execution_count": null,
      "outputs": [
        {
          "output_type": "execute_result",
          "data": {
            "text/plain": [
              "(30, 270230)"
            ]
          },
          "metadata": {},
          "execution_count": 47
        }
      ]
    },
    {
      "cell_type": "code",
      "source": [
        "disc_weights=matrix*lda.components_.transpose()"
      ],
      "metadata": {
        "id": "b6HVfaocDn3o"
      },
      "execution_count": null,
      "outputs": []
    },
    {
      "cell_type": "code",
      "source": [
        "base['Topic_weight']=disc_weights.argmax(axis=1)+1"
      ],
      "metadata": {
        "id": "o0LrXTjDC_I6"
      },
      "execution_count": null,
      "outputs": []
    },
    {
      "cell_type": "code",
      "source": [
        "base.head()"
      ],
      "metadata": {
        "colab": {
          "base_uri": "https://localhost:8080/",
          "height": 629
        },
        "id": "tEOQVwIODwCV",
        "outputId": "3a3b48df-6385-45c9-d8c2-938bc3e26d57"
      },
      "execution_count": null,
      "outputs": [
        {
          "output_type": "execute_result",
          "data": {
            "text/plain": [
              "   Unnamed: 0                                              orden  \\\n",
              "0           0  LECTURA DEL REAL DECRETO. DE CONVOCATORIA, DE ...   \n",
              "1           1                     DESIGNACION DE LA MESA DE EDAD   \n",
              "2           2                     DESIGNACION DE LA MESA DE EDAD   \n",
              "3           3  CONSTITUCION INTERINA DE LA CAMA. RA Y ELECCIO...   \n",
              "4           4  CONSTITUCION INTERINA DE LA CAMA. RA Y ELECCIO...   \n",
              "\n",
              "                                          namex  \\\n",
              "0       PRESIDENTE PROVISIONAL (Fraile Poujade)   \n",
              "1                        PRESIDENTE PROVISIONAL   \n",
              "2   PRESIDENTE PROVISIONAL (Rodríguez Valverde)   \n",
              "3  PRESIDENTE PROVISIONAL (Ro.dríguez Valverde)   \n",
              "4   PRESIDENTE PROVISIONAL (Rodríguez Valverde)   \n",
              "\n",
              "                                        intervention       fecha legislatura  \\\n",
              "0   Señoras y señores Diputados, se abre la sesió...  23/03/1979           I   \n",
              "1   (Fraile Poujade): Según la relación que cons....  23/03/1979           I   \n",
              "2   Siguiendo el orden del día, ruego al señor Es...  23/03/1979           I   \n",
              "3   Al reanudarse la sesión, procedería dar lectu...  23/03/1979           I   \n",
              "4   Una vez leído el informe de la Junta Electora...  23/03/1979           I   \n",
              "\n",
              "   pleno                    role              oradorx  \\\n",
              "0    1.0  PRESIDENTE PROVISIONAL       FRAILE POUJADE   \n",
              "1    1.0  PRESIDENTE PROVISIONAL       FRAILE POUJADE   \n",
              "2    1.0  PRESIDENTE PROVISIONAL   RODRIGUEZ VALVERDE   \n",
              "3    1.0  PRESIDENTE PROVISIONAL  RO.DRIGUEZ VALVERDE   \n",
              "4    1.0  PRESIDENTE PROVISIONAL   RODRIGUEZ VALVERDE   \n",
              "\n",
              "                               namey  ...                  congreso senado  \\\n",
              "0          Fraile Poujade, Modesto †  ...         4 (C, I, II, III)      –   \n",
              "1          Fraile Poujade, Modesto †  ...         4 (C, I, II, III)      –   \n",
              "2  Rodríguez Valverde, León Máximo †  ...  6 (C, I, II, III, IV, V)      –   \n",
              "3  Rodríguez Valverde, León Máximo †  ...  6 (C, I, II, III, IV, V)      –   \n",
              "4  Rodríguez Valverde, León Máximo †  ...  6 (C, I, II, III, IV, V)      –   \n",
              "\n",
              "  total             oradory  cataluna estatut  inter_raw          partido  \\\n",
              "0   4.0      FRAILE POUJADE       0.0     0.0        NaN  UCD, AP-PDP, CP   \n",
              "1   4.0      FRAILE POUJADE       0.0     0.0        NaN  UCD, AP-PDP, CP   \n",
              "2   6.0  RODRIGUEZ VALVERDE       0.0     0.0        NaN             PSOE   \n",
              "3   6.0  RODRIGUEZ VALVERDE       0.0     0.0        NaN             PSOE   \n",
              "4   6.0  RODRIGUEZ VALVERDE       0.0     0.0        NaN             PSOE   \n",
              "\n",
              "                                              tokens Topic_weight  \n",
              "0  ['señora', 'señor', 'diputado', 'abr', 'junta'...            9  \n",
              "1  ['frail', 'poujad', 'segun', 'relacion', 'con'...           26  \n",
              "2  ['siguiendo', 'ruego', 'esperabe', 'arteaga', ...           13  \n",
              "3  ['reanudars', 'procederia', 'dar', 'lectura', ...            1  \n",
              "4  ['leido', 'inform', 'junta', 'elector', 'centr...            1  \n",
              "\n",
              "[5 rows x 22 columns]"
            ],
            "text/html": [
              "\n",
              "  <div id=\"df-a8d00c39-f526-4892-b2e4-8cfa4ad60b1a\">\n",
              "    <div class=\"colab-df-container\">\n",
              "      <div>\n",
              "<style scoped>\n",
              "    .dataframe tbody tr th:only-of-type {\n",
              "        vertical-align: middle;\n",
              "    }\n",
              "\n",
              "    .dataframe tbody tr th {\n",
              "        vertical-align: top;\n",
              "    }\n",
              "\n",
              "    .dataframe thead th {\n",
              "        text-align: right;\n",
              "    }\n",
              "</style>\n",
              "<table border=\"1\" class=\"dataframe\">\n",
              "  <thead>\n",
              "    <tr style=\"text-align: right;\">\n",
              "      <th></th>\n",
              "      <th>Unnamed: 0</th>\n",
              "      <th>orden</th>\n",
              "      <th>namex</th>\n",
              "      <th>intervention</th>\n",
              "      <th>fecha</th>\n",
              "      <th>legislatura</th>\n",
              "      <th>pleno</th>\n",
              "      <th>role</th>\n",
              "      <th>oradorx</th>\n",
              "      <th>namey</th>\n",
              "      <th>...</th>\n",
              "      <th>congreso</th>\n",
              "      <th>senado</th>\n",
              "      <th>total</th>\n",
              "      <th>oradory</th>\n",
              "      <th>cataluna</th>\n",
              "      <th>estatut</th>\n",
              "      <th>inter_raw</th>\n",
              "      <th>partido</th>\n",
              "      <th>tokens</th>\n",
              "      <th>Topic_weight</th>\n",
              "    </tr>\n",
              "  </thead>\n",
              "  <tbody>\n",
              "    <tr>\n",
              "      <th>0</th>\n",
              "      <td>0</td>\n",
              "      <td>LECTURA DEL REAL DECRETO. DE CONVOCATORIA, DE ...</td>\n",
              "      <td>PRESIDENTE PROVISIONAL (Fraile Poujade)</td>\n",
              "      <td>Señoras y señores Diputados, se abre la sesió...</td>\n",
              "      <td>23/03/1979</td>\n",
              "      <td>I</td>\n",
              "      <td>1.0</td>\n",
              "      <td>PRESIDENTE PROVISIONAL</td>\n",
              "      <td>FRAILE POUJADE</td>\n",
              "      <td>Fraile Poujade, Modesto †</td>\n",
              "      <td>...</td>\n",
              "      <td>4 (C, I, II, III)</td>\n",
              "      <td>–</td>\n",
              "      <td>4.0</td>\n",
              "      <td>FRAILE POUJADE</td>\n",
              "      <td>0.0</td>\n",
              "      <td>0.0</td>\n",
              "      <td>NaN</td>\n",
              "      <td>UCD, AP-PDP, CP</td>\n",
              "      <td>['señora', 'señor', 'diputado', 'abr', 'junta'...</td>\n",
              "      <td>9</td>\n",
              "    </tr>\n",
              "    <tr>\n",
              "      <th>1</th>\n",
              "      <td>1</td>\n",
              "      <td>DESIGNACION DE LA MESA DE EDAD</td>\n",
              "      <td>PRESIDENTE PROVISIONAL</td>\n",
              "      <td>(Fraile Poujade): Según la relación que cons....</td>\n",
              "      <td>23/03/1979</td>\n",
              "      <td>I</td>\n",
              "      <td>1.0</td>\n",
              "      <td>PRESIDENTE PROVISIONAL</td>\n",
              "      <td>FRAILE POUJADE</td>\n",
              "      <td>Fraile Poujade, Modesto †</td>\n",
              "      <td>...</td>\n",
              "      <td>4 (C, I, II, III)</td>\n",
              "      <td>–</td>\n",
              "      <td>4.0</td>\n",
              "      <td>FRAILE POUJADE</td>\n",
              "      <td>0.0</td>\n",
              "      <td>0.0</td>\n",
              "      <td>NaN</td>\n",
              "      <td>UCD, AP-PDP, CP</td>\n",
              "      <td>['frail', 'poujad', 'segun', 'relacion', 'con'...</td>\n",
              "      <td>26</td>\n",
              "    </tr>\n",
              "    <tr>\n",
              "      <th>2</th>\n",
              "      <td>2</td>\n",
              "      <td>DESIGNACION DE LA MESA DE EDAD</td>\n",
              "      <td>PRESIDENTE PROVISIONAL (Rodríguez Valverde)</td>\n",
              "      <td>Siguiendo el orden del día, ruego al señor Es...</td>\n",
              "      <td>23/03/1979</td>\n",
              "      <td>I</td>\n",
              "      <td>1.0</td>\n",
              "      <td>PRESIDENTE PROVISIONAL</td>\n",
              "      <td>RODRIGUEZ VALVERDE</td>\n",
              "      <td>Rodríguez Valverde, León Máximo †</td>\n",
              "      <td>...</td>\n",
              "      <td>6 (C, I, II, III, IV, V)</td>\n",
              "      <td>–</td>\n",
              "      <td>6.0</td>\n",
              "      <td>RODRIGUEZ VALVERDE</td>\n",
              "      <td>0.0</td>\n",
              "      <td>0.0</td>\n",
              "      <td>NaN</td>\n",
              "      <td>PSOE</td>\n",
              "      <td>['siguiendo', 'ruego', 'esperabe', 'arteaga', ...</td>\n",
              "      <td>13</td>\n",
              "    </tr>\n",
              "    <tr>\n",
              "      <th>3</th>\n",
              "      <td>3</td>\n",
              "      <td>CONSTITUCION INTERINA DE LA CAMA. RA Y ELECCIO...</td>\n",
              "      <td>PRESIDENTE PROVISIONAL (Ro.dríguez Valverde)</td>\n",
              "      <td>Al reanudarse la sesión, procedería dar lectu...</td>\n",
              "      <td>23/03/1979</td>\n",
              "      <td>I</td>\n",
              "      <td>1.0</td>\n",
              "      <td>PRESIDENTE PROVISIONAL</td>\n",
              "      <td>RO.DRIGUEZ VALVERDE</td>\n",
              "      <td>Rodríguez Valverde, León Máximo †</td>\n",
              "      <td>...</td>\n",
              "      <td>6 (C, I, II, III, IV, V)</td>\n",
              "      <td>–</td>\n",
              "      <td>6.0</td>\n",
              "      <td>RODRIGUEZ VALVERDE</td>\n",
              "      <td>0.0</td>\n",
              "      <td>0.0</td>\n",
              "      <td>NaN</td>\n",
              "      <td>PSOE</td>\n",
              "      <td>['reanudars', 'procederia', 'dar', 'lectura', ...</td>\n",
              "      <td>1</td>\n",
              "    </tr>\n",
              "    <tr>\n",
              "      <th>4</th>\n",
              "      <td>4</td>\n",
              "      <td>CONSTITUCION INTERINA DE LA CAMA. RA Y ELECCIO...</td>\n",
              "      <td>PRESIDENTE PROVISIONAL (Rodríguez Valverde)</td>\n",
              "      <td>Una vez leído el informe de la Junta Electora...</td>\n",
              "      <td>23/03/1979</td>\n",
              "      <td>I</td>\n",
              "      <td>1.0</td>\n",
              "      <td>PRESIDENTE PROVISIONAL</td>\n",
              "      <td>RODRIGUEZ VALVERDE</td>\n",
              "      <td>Rodríguez Valverde, León Máximo †</td>\n",
              "      <td>...</td>\n",
              "      <td>6 (C, I, II, III, IV, V)</td>\n",
              "      <td>–</td>\n",
              "      <td>6.0</td>\n",
              "      <td>RODRIGUEZ VALVERDE</td>\n",
              "      <td>0.0</td>\n",
              "      <td>0.0</td>\n",
              "      <td>NaN</td>\n",
              "      <td>PSOE</td>\n",
              "      <td>['leido', 'inform', 'junta', 'elector', 'centr...</td>\n",
              "      <td>1</td>\n",
              "    </tr>\n",
              "  </tbody>\n",
              "</table>\n",
              "<p>5 rows × 22 columns</p>\n",
              "</div>\n",
              "      <button class=\"colab-df-convert\" onclick=\"convertToInteractive('df-a8d00c39-f526-4892-b2e4-8cfa4ad60b1a')\"\n",
              "              title=\"Convert this dataframe to an interactive table.\"\n",
              "              style=\"display:none;\">\n",
              "        \n",
              "  <svg xmlns=\"http://www.w3.org/2000/svg\" height=\"24px\"viewBox=\"0 0 24 24\"\n",
              "       width=\"24px\">\n",
              "    <path d=\"M0 0h24v24H0V0z\" fill=\"none\"/>\n",
              "    <path d=\"M18.56 5.44l.94 2.06.94-2.06 2.06-.94-2.06-.94-.94-2.06-.94 2.06-2.06.94zm-11 1L8.5 8.5l.94-2.06 2.06-.94-2.06-.94L8.5 2.5l-.94 2.06-2.06.94zm10 10l.94 2.06.94-2.06 2.06-.94-2.06-.94-.94-2.06-.94 2.06-2.06.94z\"/><path d=\"M17.41 7.96l-1.37-1.37c-.4-.4-.92-.59-1.43-.59-.52 0-1.04.2-1.43.59L10.3 9.45l-7.72 7.72c-.78.78-.78 2.05 0 2.83L4 21.41c.39.39.9.59 1.41.59.51 0 1.02-.2 1.41-.59l7.78-7.78 2.81-2.81c.8-.78.8-2.07 0-2.86zM5.41 20L4 18.59l7.72-7.72 1.47 1.35L5.41 20z\"/>\n",
              "  </svg>\n",
              "      </button>\n",
              "      \n",
              "  <style>\n",
              "    .colab-df-container {\n",
              "      display:flex;\n",
              "      flex-wrap:wrap;\n",
              "      gap: 12px;\n",
              "    }\n",
              "\n",
              "    .colab-df-convert {\n",
              "      background-color: #E8F0FE;\n",
              "      border: none;\n",
              "      border-radius: 50%;\n",
              "      cursor: pointer;\n",
              "      display: none;\n",
              "      fill: #1967D2;\n",
              "      height: 32px;\n",
              "      padding: 0 0 0 0;\n",
              "      width: 32px;\n",
              "    }\n",
              "\n",
              "    .colab-df-convert:hover {\n",
              "      background-color: #E2EBFA;\n",
              "      box-shadow: 0px 1px 2px rgba(60, 64, 67, 0.3), 0px 1px 3px 1px rgba(60, 64, 67, 0.15);\n",
              "      fill: #174EA6;\n",
              "    }\n",
              "\n",
              "    [theme=dark] .colab-df-convert {\n",
              "      background-color: #3B4455;\n",
              "      fill: #D2E3FC;\n",
              "    }\n",
              "\n",
              "    [theme=dark] .colab-df-convert:hover {\n",
              "      background-color: #434B5C;\n",
              "      box-shadow: 0px 1px 3px 1px rgba(0, 0, 0, 0.15);\n",
              "      filter: drop-shadow(0px 1px 2px rgba(0, 0, 0, 0.3));\n",
              "      fill: #FFFFFF;\n",
              "    }\n",
              "  </style>\n",
              "\n",
              "      <script>\n",
              "        const buttonEl =\n",
              "          document.querySelector('#df-a8d00c39-f526-4892-b2e4-8cfa4ad60b1a button.colab-df-convert');\n",
              "        buttonEl.style.display =\n",
              "          google.colab.kernel.accessAllowed ? 'block' : 'none';\n",
              "\n",
              "        async function convertToInteractive(key) {\n",
              "          const element = document.querySelector('#df-a8d00c39-f526-4892-b2e4-8cfa4ad60b1a');\n",
              "          const dataTable =\n",
              "            await google.colab.kernel.invokeFunction('convertToInteractive',\n",
              "                                                     [key], {});\n",
              "          if (!dataTable) return;\n",
              "\n",
              "          const docLinkHtml = 'Like what you see? Visit the ' +\n",
              "            '<a target=\"_blank\" href=https://colab.research.google.com/notebooks/data_table.ipynb>data table notebook</a>'\n",
              "            + ' to learn more about interactive tables.';\n",
              "          element.innerHTML = '';\n",
              "          dataTable['output_type'] = 'display_data';\n",
              "          await google.colab.output.renderOutput(dataTable, element);\n",
              "          const docLink = document.createElement('div');\n",
              "          docLink.innerHTML = docLinkHtml;\n",
              "          element.appendChild(docLink);\n",
              "        }\n",
              "      </script>\n",
              "    </div>\n",
              "  </div>\n",
              "  "
            ]
          },
          "metadata": {},
          "execution_count": 51
        }
      ]
    },
    {
      "cell_type": "markdown",
      "source": [
        "# Topic por discurso por frex"
      ],
      "metadata": {
        "id": "oDvio7lcD34N"
      }
    },
    {
      "cell_type": "code",
      "source": [
        "import scipy as sp\n",
        "from scipy.special import logsumexp\n",
        "import numpy as np"
      ],
      "metadata": {
        "id": "SlXWtwvAEWLu"
      },
      "execution_count": null,
      "outputs": []
    },
    {
      "cell_type": "code",
      "source": [
        "def frex(mod, w=0.7):\n",
        "    log_beta = np.log(mod.components_)\n",
        "    log_exclusivity = log_beta - logsumexp(log_beta, axis=0)\n",
        "    exclusivity_ecdf = np.apply_along_axis(ecdf, 1, log_exclusivity)\n",
        "    freq_ecdf = np.apply_along_axis(ecdf, 1, log_beta)\n",
        "    out = 1. / (w / exclusivity_ecdf + (1 - w) / freq_ecdf)\n",
        "    return out"
      ],
      "metadata": {
        "id": "2CA1z1h4EQVA"
      },
      "execution_count": null,
      "outputs": []
    },
    {
      "cell_type": "code",
      "source": [
        "def ecdf(arr):\n",
        "    return sp.stats.rankdata(arr, method='max') / arr.size"
      ],
      "metadata": {
        "id": "r3fvAqCoESaO"
      },
      "execution_count": null,
      "outputs": []
    },
    {
      "cell_type": "code",
      "source": [
        "def t_FREX(row):\n",
        "  return frex_df[matrix[row['id']].argmax()].argsort()[9]"
      ],
      "metadata": {
        "id": "Zmao9yM8EKD3"
      },
      "execution_count": null,
      "outputs": []
    },
    {
      "cell_type": "code",
      "source": [
        "frex_df=pd.DataFrame(frex(lda))\n",
        "frex_df"
      ],
      "metadata": {
        "colab": {
          "base_uri": "https://localhost:8080/",
          "height": 1000
        },
        "id": "mHiNOBTiEUsT",
        "outputId": "4bde7849-36f1-4613-a395-89020848b7b6"
      },
      "execution_count": null,
      "outputs": [
        {
          "output_type": "execute_result",
          "data": {
            "text/plain": [
              "      0         1         2         3         4         5         6       \\\n",
              "0   0.275483  0.345724  0.206564  0.658635  0.899360  0.891731  0.971789   \n",
              "1   0.300888  0.329460  0.884580  0.688151  0.088364  0.852247  0.453233   \n",
              "2   0.414714  0.342419  0.816985  0.883048  0.095125  0.030727  0.076493   \n",
              "3   0.469961  0.871315  0.715757  0.687774  0.867703  0.032845  0.554341   \n",
              "4   0.515911  0.277615  0.824956  0.410478  0.100914  0.901711  0.575290   \n",
              "5   0.514778  0.331672  0.445994  0.624910  0.906802  0.033552  0.552651   \n",
              "6   0.496112  0.318009  0.764132  0.709056  0.888339  0.029230  0.307687   \n",
              "7   0.538622  0.355725  0.294084  0.949782  0.115763  0.039999  0.719308   \n",
              "8   0.304022  0.393918  0.913984  0.780596  0.127008  0.041165  0.754833   \n",
              "9   0.468573  0.381117  0.748996  0.707653  0.953442  0.028739  0.668701   \n",
              "10  0.395555  0.855572  0.349314  0.611003  0.088713  0.025925  0.501227   \n",
              "11  0.368863  0.898606  0.735412  0.946281  0.078205  0.023807  0.925323   \n",
              "12  0.524759  0.383553  0.814279  0.766334  0.121362  0.041156  0.762723   \n",
              "13  0.895169  0.394063  0.530283  0.718691  0.102242  0.985731  0.909187   \n",
              "14  0.852065  0.205325  0.830946  0.660643  0.101236  0.031868  0.624707   \n",
              "15  0.433730  0.385520  0.566588  0.717513  0.096929  0.028674  0.929833   \n",
              "16  0.441499  0.366829  0.717591  0.922081  0.091523  0.908989  0.597542   \n",
              "17  0.915441  0.387658  0.828675  0.699597  0.104143  0.032127  0.499121   \n",
              "18  0.209334  0.206557  0.655801  0.715053  0.901798  0.029908  0.280348   \n",
              "19  0.487647  0.387255  0.624555  0.722024  0.101495  0.930457  0.666220   \n",
              "20  0.377545  0.957055  0.943898  0.666555  0.083200  0.885529  0.459493   \n",
              "21  0.430612  0.253286  0.727639  0.639627  0.074784  0.874357  0.528823   \n",
              "22  0.395629  0.339742  0.904716  0.806653  0.124043  0.955352  0.598847   \n",
              "23  0.990992  0.375091  0.721994  0.731306  0.916126  0.030623  0.646305   \n",
              "24  0.448352  0.219772  0.683572  0.742948  0.100643  0.879794  0.555776   \n",
              "25  0.245203  0.316419  0.613013  0.714651  0.960264  0.030651  0.303602   \n",
              "26  0.446805  0.223019  0.760909  0.688980  0.838687  0.026365  0.532608   \n",
              "27  0.458394  0.268617  0.649860  0.195360  0.107966  0.033021  0.600882   \n",
              "28  0.273506  0.356090  0.801777  0.711572  0.103512  0.032390  0.532942   \n",
              "29  0.510960  0.920137  0.945281  0.610587  0.895107  0.031696  0.544344   \n",
              "\n",
              "      7         8         9       ...    270220    270221    270222    270223  \\\n",
              "0   0.024197  0.631680  0.547323  ...  0.025866  0.111093  0.506719  0.302579   \n",
              "1   0.904944  0.925541  0.949515  ...  0.832966  0.095614  0.358676  0.211537   \n",
              "2   0.023249  0.095684  0.520689  ...  0.025076  0.107918  0.492307  0.239795   \n",
              "3   0.024987  0.170870  0.332812  ...  0.026591  0.090689  0.407468  0.285464   \n",
              "4   0.896632  0.558111  0.941889  ...  0.024760  0.119408  0.356533  0.258994   \n",
              "5   0.901005  0.537783  0.369751  ...  0.027266  0.127532  0.532515  0.263554   \n",
              "6   0.022011  0.208280  0.206808  ...  0.023547  0.999533  0.393789  0.286031   \n",
              "7   0.030329  0.732306  0.592235  ...  0.032240  0.152017  0.528641  0.332085   \n",
              "8   0.031487  0.627969  0.313602  ...  0.033368  0.130185  0.540668  0.244426   \n",
              "9   0.021870  0.673533  0.496200  ...  0.022393  0.854011  0.466984  0.074515   \n",
              "10  0.913593  0.123662  0.444061  ...  0.995455  0.104280  0.982617  0.989739   \n",
              "11  0.944820  0.424225  0.865730  ...  0.018876  0.090612  0.136525  0.201299   \n",
              "12  0.964679  0.635269  0.362666  ...  0.033441  0.149051  0.402200  0.302815   \n",
              "13  0.896187  0.305779  0.546058  ...  0.026181  0.112463  0.369960  0.875702   \n",
              "14  0.024321  0.354902  0.512687  ...  0.025880  0.126262  0.412622  0.271292   \n",
              "15  0.916862  0.983541  0.483849  ...  0.935965  0.103063  0.338396  0.186070   \n",
              "16  0.915329  0.499844  0.377227  ...  0.816718  0.089393  0.950845  0.156918   \n",
              "17  0.024247  0.600626  0.960538  ...  0.025714  0.131222  0.331068  0.291568   \n",
              "18  0.022484  0.408349  0.518277  ...  0.023905  0.093864  0.427313  0.088251   \n",
              "19  0.023027  0.548342  0.526471  ...  0.023994  0.111603  0.419356  0.085539   \n",
              "20  0.828168  0.559083  0.466913  ...  0.019826  0.090470  0.175582  0.202794   \n",
              "21  0.017702  0.183763  0.458999  ...  0.018186  0.091220  0.381090  0.166599   \n",
              "22  0.031467  0.954018  0.553322  ...  0.031210  0.125660  0.480944  0.335076   \n",
              "23  0.023271  0.625633  0.510329  ...  0.872385  0.101218  0.300104  0.163790   \n",
              "24  0.023670  0.646599  0.500417  ...  0.024645  0.101251  0.100493  0.158486   \n",
              "25  0.023394  0.466482  0.511035  ...  0.024614  0.109693  0.382759  0.849703   \n",
              "26  0.904100  0.851828  0.503899  ...  0.020370  0.102232  0.431806  0.076300   \n",
              "27  0.025111  0.313963  0.523485  ...  0.026716  0.103566  0.446232  0.143168   \n",
              "28  0.863882  0.561952  0.460856  ...  0.025667  0.104828  0.141746  0.269513   \n",
              "29  0.024351  0.470867  0.529595  ...  0.025736  0.120587  0.492846  0.949255   \n",
              "\n",
              "      270224    270225    270226    270227    270228    270229  \n",
              "0   0.191886  0.203724  0.168960  0.191470  0.179568  0.151339  \n",
              "1   0.169771  0.116603  0.092187  0.101396  0.097477  0.086859  \n",
              "2   0.152835  0.986836  0.070886  0.243422  0.073627  0.131443  \n",
              "3   0.196215  0.176282  0.146127  0.166966  0.157815  0.135057  \n",
              "4   0.194542  0.146470  0.118073  0.131474  0.125700  0.110610  \n",
              "5   0.213505  0.231762  0.977785  0.216210  0.201415  0.167361  \n",
              "6   0.199356  0.122348  0.106360  0.117611  0.112785  0.242674  \n",
              "7   0.243557  0.288892  0.223022  0.267360  0.247345  0.234180  \n",
              "8   0.243661  0.451899  0.452234  0.997020  0.997589  0.341689  \n",
              "9   0.203013  0.119381  0.860812  0.151404  0.083525  0.082650  \n",
              "10  0.989612  0.126744  0.108646  0.121389  0.115930  0.101443  \n",
              "11  0.135429  0.070218  0.063631  0.068356  0.066374  0.060806  \n",
              "12  0.226860  0.561706  0.991545  0.392957  0.352211  0.332275  \n",
              "13  0.212399  0.213719  0.170689  0.200168  0.187098  0.155645  \n",
              "14  0.207655  0.072134  0.056033  0.058950  0.057726  0.054263  \n",
              "15  0.857592  0.154178  0.129599  0.146733  0.139279  0.120244  \n",
              "16  0.182381  0.083238  0.072145  0.077472  0.075230  0.068976  \n",
              "17  0.198471  0.175927  0.159939  0.166623  0.157474  0.135833  \n",
              "18  0.202826  0.108467  0.095792  0.104753  0.100937  0.091095  \n",
              "19  0.192881  0.103887  0.092430  0.100541  0.097085  0.087718  \n",
              "20  0.152245  0.049134  0.045959  0.048256  0.047311  0.044526  \n",
              "21  0.903059  0.075469  0.067682  0.073266  0.070913  0.064363  \n",
              "22  0.159391  0.275092  0.331202  0.255483  0.237075  0.307691  \n",
              "23  0.170812  0.108896  0.235737  0.105231  0.101452  0.091237  \n",
              "24  0.143561  0.107548  0.112267  0.103979  0.100293  0.094303  \n",
              "25  0.177258  0.063774  0.059124  0.062450  0.061058  0.057117  \n",
              "26  0.171280  0.092139  0.082339  0.089319  0.086373  0.078225  \n",
              "27  0.164083  0.199188  0.162278  0.422284  0.424599  0.148994  \n",
              "28  0.163895  0.193862  0.981283  0.148717  0.141332  0.999140  \n",
              "29  0.203580  0.166741  0.139113  0.158269  0.149879  0.221813  \n",
              "\n",
              "[30 rows x 270230 columns]"
            ],
            "text/html": [
              "\n",
              "  <div id=\"df-4a9b8176-40af-4125-92b1-f11046ffd837\">\n",
              "    <div class=\"colab-df-container\">\n",
              "      <div>\n",
              "<style scoped>\n",
              "    .dataframe tbody tr th:only-of-type {\n",
              "        vertical-align: middle;\n",
              "    }\n",
              "\n",
              "    .dataframe tbody tr th {\n",
              "        vertical-align: top;\n",
              "    }\n",
              "\n",
              "    .dataframe thead th {\n",
              "        text-align: right;\n",
              "    }\n",
              "</style>\n",
              "<table border=\"1\" class=\"dataframe\">\n",
              "  <thead>\n",
              "    <tr style=\"text-align: right;\">\n",
              "      <th></th>\n",
              "      <th>0</th>\n",
              "      <th>1</th>\n",
              "      <th>2</th>\n",
              "      <th>3</th>\n",
              "      <th>4</th>\n",
              "      <th>5</th>\n",
              "      <th>6</th>\n",
              "      <th>7</th>\n",
              "      <th>8</th>\n",
              "      <th>9</th>\n",
              "      <th>...</th>\n",
              "      <th>270220</th>\n",
              "      <th>270221</th>\n",
              "      <th>270222</th>\n",
              "      <th>270223</th>\n",
              "      <th>270224</th>\n",
              "      <th>270225</th>\n",
              "      <th>270226</th>\n",
              "      <th>270227</th>\n",
              "      <th>270228</th>\n",
              "      <th>270229</th>\n",
              "    </tr>\n",
              "  </thead>\n",
              "  <tbody>\n",
              "    <tr>\n",
              "      <th>0</th>\n",
              "      <td>0.275483</td>\n",
              "      <td>0.345724</td>\n",
              "      <td>0.206564</td>\n",
              "      <td>0.658635</td>\n",
              "      <td>0.899360</td>\n",
              "      <td>0.891731</td>\n",
              "      <td>0.971789</td>\n",
              "      <td>0.024197</td>\n",
              "      <td>0.631680</td>\n",
              "      <td>0.547323</td>\n",
              "      <td>...</td>\n",
              "      <td>0.025866</td>\n",
              "      <td>0.111093</td>\n",
              "      <td>0.506719</td>\n",
              "      <td>0.302579</td>\n",
              "      <td>0.191886</td>\n",
              "      <td>0.203724</td>\n",
              "      <td>0.168960</td>\n",
              "      <td>0.191470</td>\n",
              "      <td>0.179568</td>\n",
              "      <td>0.151339</td>\n",
              "    </tr>\n",
              "    <tr>\n",
              "      <th>1</th>\n",
              "      <td>0.300888</td>\n",
              "      <td>0.329460</td>\n",
              "      <td>0.884580</td>\n",
              "      <td>0.688151</td>\n",
              "      <td>0.088364</td>\n",
              "      <td>0.852247</td>\n",
              "      <td>0.453233</td>\n",
              "      <td>0.904944</td>\n",
              "      <td>0.925541</td>\n",
              "      <td>0.949515</td>\n",
              "      <td>...</td>\n",
              "      <td>0.832966</td>\n",
              "      <td>0.095614</td>\n",
              "      <td>0.358676</td>\n",
              "      <td>0.211537</td>\n",
              "      <td>0.169771</td>\n",
              "      <td>0.116603</td>\n",
              "      <td>0.092187</td>\n",
              "      <td>0.101396</td>\n",
              "      <td>0.097477</td>\n",
              "      <td>0.086859</td>\n",
              "    </tr>\n",
              "    <tr>\n",
              "      <th>2</th>\n",
              "      <td>0.414714</td>\n",
              "      <td>0.342419</td>\n",
              "      <td>0.816985</td>\n",
              "      <td>0.883048</td>\n",
              "      <td>0.095125</td>\n",
              "      <td>0.030727</td>\n",
              "      <td>0.076493</td>\n",
              "      <td>0.023249</td>\n",
              "      <td>0.095684</td>\n",
              "      <td>0.520689</td>\n",
              "      <td>...</td>\n",
              "      <td>0.025076</td>\n",
              "      <td>0.107918</td>\n",
              "      <td>0.492307</td>\n",
              "      <td>0.239795</td>\n",
              "      <td>0.152835</td>\n",
              "      <td>0.986836</td>\n",
              "      <td>0.070886</td>\n",
              "      <td>0.243422</td>\n",
              "      <td>0.073627</td>\n",
              "      <td>0.131443</td>\n",
              "    </tr>\n",
              "    <tr>\n",
              "      <th>3</th>\n",
              "      <td>0.469961</td>\n",
              "      <td>0.871315</td>\n",
              "      <td>0.715757</td>\n",
              "      <td>0.687774</td>\n",
              "      <td>0.867703</td>\n",
              "      <td>0.032845</td>\n",
              "      <td>0.554341</td>\n",
              "      <td>0.024987</td>\n",
              "      <td>0.170870</td>\n",
              "      <td>0.332812</td>\n",
              "      <td>...</td>\n",
              "      <td>0.026591</td>\n",
              "      <td>0.090689</td>\n",
              "      <td>0.407468</td>\n",
              "      <td>0.285464</td>\n",
              "      <td>0.196215</td>\n",
              "      <td>0.176282</td>\n",
              "      <td>0.146127</td>\n",
              "      <td>0.166966</td>\n",
              "      <td>0.157815</td>\n",
              "      <td>0.135057</td>\n",
              "    </tr>\n",
              "    <tr>\n",
              "      <th>4</th>\n",
              "      <td>0.515911</td>\n",
              "      <td>0.277615</td>\n",
              "      <td>0.824956</td>\n",
              "      <td>0.410478</td>\n",
              "      <td>0.100914</td>\n",
              "      <td>0.901711</td>\n",
              "      <td>0.575290</td>\n",
              "      <td>0.896632</td>\n",
              "      <td>0.558111</td>\n",
              "      <td>0.941889</td>\n",
              "      <td>...</td>\n",
              "      <td>0.024760</td>\n",
              "      <td>0.119408</td>\n",
              "      <td>0.356533</td>\n",
              "      <td>0.258994</td>\n",
              "      <td>0.194542</td>\n",
              "      <td>0.146470</td>\n",
              "      <td>0.118073</td>\n",
              "      <td>0.131474</td>\n",
              "      <td>0.125700</td>\n",
              "      <td>0.110610</td>\n",
              "    </tr>\n",
              "    <tr>\n",
              "      <th>5</th>\n",
              "      <td>0.514778</td>\n",
              "      <td>0.331672</td>\n",
              "      <td>0.445994</td>\n",
              "      <td>0.624910</td>\n",
              "      <td>0.906802</td>\n",
              "      <td>0.033552</td>\n",
              "      <td>0.552651</td>\n",
              "      <td>0.901005</td>\n",
              "      <td>0.537783</td>\n",
              "      <td>0.369751</td>\n",
              "      <td>...</td>\n",
              "      <td>0.027266</td>\n",
              "      <td>0.127532</td>\n",
              "      <td>0.532515</td>\n",
              "      <td>0.263554</td>\n",
              "      <td>0.213505</td>\n",
              "      <td>0.231762</td>\n",
              "      <td>0.977785</td>\n",
              "      <td>0.216210</td>\n",
              "      <td>0.201415</td>\n",
              "      <td>0.167361</td>\n",
              "    </tr>\n",
              "    <tr>\n",
              "      <th>6</th>\n",
              "      <td>0.496112</td>\n",
              "      <td>0.318009</td>\n",
              "      <td>0.764132</td>\n",
              "      <td>0.709056</td>\n",
              "      <td>0.888339</td>\n",
              "      <td>0.029230</td>\n",
              "      <td>0.307687</td>\n",
              "      <td>0.022011</td>\n",
              "      <td>0.208280</td>\n",
              "      <td>0.206808</td>\n",
              "      <td>...</td>\n",
              "      <td>0.023547</td>\n",
              "      <td>0.999533</td>\n",
              "      <td>0.393789</td>\n",
              "      <td>0.286031</td>\n",
              "      <td>0.199356</td>\n",
              "      <td>0.122348</td>\n",
              "      <td>0.106360</td>\n",
              "      <td>0.117611</td>\n",
              "      <td>0.112785</td>\n",
              "      <td>0.242674</td>\n",
              "    </tr>\n",
              "    <tr>\n",
              "      <th>7</th>\n",
              "      <td>0.538622</td>\n",
              "      <td>0.355725</td>\n",
              "      <td>0.294084</td>\n",
              "      <td>0.949782</td>\n",
              "      <td>0.115763</td>\n",
              "      <td>0.039999</td>\n",
              "      <td>0.719308</td>\n",
              "      <td>0.030329</td>\n",
              "      <td>0.732306</td>\n",
              "      <td>0.592235</td>\n",
              "      <td>...</td>\n",
              "      <td>0.032240</td>\n",
              "      <td>0.152017</td>\n",
              "      <td>0.528641</td>\n",
              "      <td>0.332085</td>\n",
              "      <td>0.243557</td>\n",
              "      <td>0.288892</td>\n",
              "      <td>0.223022</td>\n",
              "      <td>0.267360</td>\n",
              "      <td>0.247345</td>\n",
              "      <td>0.234180</td>\n",
              "    </tr>\n",
              "    <tr>\n",
              "      <th>8</th>\n",
              "      <td>0.304022</td>\n",
              "      <td>0.393918</td>\n",
              "      <td>0.913984</td>\n",
              "      <td>0.780596</td>\n",
              "      <td>0.127008</td>\n",
              "      <td>0.041165</td>\n",
              "      <td>0.754833</td>\n",
              "      <td>0.031487</td>\n",
              "      <td>0.627969</td>\n",
              "      <td>0.313602</td>\n",
              "      <td>...</td>\n",
              "      <td>0.033368</td>\n",
              "      <td>0.130185</td>\n",
              "      <td>0.540668</td>\n",
              "      <td>0.244426</td>\n",
              "      <td>0.243661</td>\n",
              "      <td>0.451899</td>\n",
              "      <td>0.452234</td>\n",
              "      <td>0.997020</td>\n",
              "      <td>0.997589</td>\n",
              "      <td>0.341689</td>\n",
              "    </tr>\n",
              "    <tr>\n",
              "      <th>9</th>\n",
              "      <td>0.468573</td>\n",
              "      <td>0.381117</td>\n",
              "      <td>0.748996</td>\n",
              "      <td>0.707653</td>\n",
              "      <td>0.953442</td>\n",
              "      <td>0.028739</td>\n",
              "      <td>0.668701</td>\n",
              "      <td>0.021870</td>\n",
              "      <td>0.673533</td>\n",
              "      <td>0.496200</td>\n",
              "      <td>...</td>\n",
              "      <td>0.022393</td>\n",
              "      <td>0.854011</td>\n",
              "      <td>0.466984</td>\n",
              "      <td>0.074515</td>\n",
              "      <td>0.203013</td>\n",
              "      <td>0.119381</td>\n",
              "      <td>0.860812</td>\n",
              "      <td>0.151404</td>\n",
              "      <td>0.083525</td>\n",
              "      <td>0.082650</td>\n",
              "    </tr>\n",
              "    <tr>\n",
              "      <th>10</th>\n",
              "      <td>0.395555</td>\n",
              "      <td>0.855572</td>\n",
              "      <td>0.349314</td>\n",
              "      <td>0.611003</td>\n",
              "      <td>0.088713</td>\n",
              "      <td>0.025925</td>\n",
              "      <td>0.501227</td>\n",
              "      <td>0.913593</td>\n",
              "      <td>0.123662</td>\n",
              "      <td>0.444061</td>\n",
              "      <td>...</td>\n",
              "      <td>0.995455</td>\n",
              "      <td>0.104280</td>\n",
              "      <td>0.982617</td>\n",
              "      <td>0.989739</td>\n",
              "      <td>0.989612</td>\n",
              "      <td>0.126744</td>\n",
              "      <td>0.108646</td>\n",
              "      <td>0.121389</td>\n",
              "      <td>0.115930</td>\n",
              "      <td>0.101443</td>\n",
              "    </tr>\n",
              "    <tr>\n",
              "      <th>11</th>\n",
              "      <td>0.368863</td>\n",
              "      <td>0.898606</td>\n",
              "      <td>0.735412</td>\n",
              "      <td>0.946281</td>\n",
              "      <td>0.078205</td>\n",
              "      <td>0.023807</td>\n",
              "      <td>0.925323</td>\n",
              "      <td>0.944820</td>\n",
              "      <td>0.424225</td>\n",
              "      <td>0.865730</td>\n",
              "      <td>...</td>\n",
              "      <td>0.018876</td>\n",
              "      <td>0.090612</td>\n",
              "      <td>0.136525</td>\n",
              "      <td>0.201299</td>\n",
              "      <td>0.135429</td>\n",
              "      <td>0.070218</td>\n",
              "      <td>0.063631</td>\n",
              "      <td>0.068356</td>\n",
              "      <td>0.066374</td>\n",
              "      <td>0.060806</td>\n",
              "    </tr>\n",
              "    <tr>\n",
              "      <th>12</th>\n",
              "      <td>0.524759</td>\n",
              "      <td>0.383553</td>\n",
              "      <td>0.814279</td>\n",
              "      <td>0.766334</td>\n",
              "      <td>0.121362</td>\n",
              "      <td>0.041156</td>\n",
              "      <td>0.762723</td>\n",
              "      <td>0.964679</td>\n",
              "      <td>0.635269</td>\n",
              "      <td>0.362666</td>\n",
              "      <td>...</td>\n",
              "      <td>0.033441</td>\n",
              "      <td>0.149051</td>\n",
              "      <td>0.402200</td>\n",
              "      <td>0.302815</td>\n",
              "      <td>0.226860</td>\n",
              "      <td>0.561706</td>\n",
              "      <td>0.991545</td>\n",
              "      <td>0.392957</td>\n",
              "      <td>0.352211</td>\n",
              "      <td>0.332275</td>\n",
              "    </tr>\n",
              "    <tr>\n",
              "      <th>13</th>\n",
              "      <td>0.895169</td>\n",
              "      <td>0.394063</td>\n",
              "      <td>0.530283</td>\n",
              "      <td>0.718691</td>\n",
              "      <td>0.102242</td>\n",
              "      <td>0.985731</td>\n",
              "      <td>0.909187</td>\n",
              "      <td>0.896187</td>\n",
              "      <td>0.305779</td>\n",
              "      <td>0.546058</td>\n",
              "      <td>...</td>\n",
              "      <td>0.026181</td>\n",
              "      <td>0.112463</td>\n",
              "      <td>0.369960</td>\n",
              "      <td>0.875702</td>\n",
              "      <td>0.212399</td>\n",
              "      <td>0.213719</td>\n",
              "      <td>0.170689</td>\n",
              "      <td>0.200168</td>\n",
              "      <td>0.187098</td>\n",
              "      <td>0.155645</td>\n",
              "    </tr>\n",
              "    <tr>\n",
              "      <th>14</th>\n",
              "      <td>0.852065</td>\n",
              "      <td>0.205325</td>\n",
              "      <td>0.830946</td>\n",
              "      <td>0.660643</td>\n",
              "      <td>0.101236</td>\n",
              "      <td>0.031868</td>\n",
              "      <td>0.624707</td>\n",
              "      <td>0.024321</td>\n",
              "      <td>0.354902</td>\n",
              "      <td>0.512687</td>\n",
              "      <td>...</td>\n",
              "      <td>0.025880</td>\n",
              "      <td>0.126262</td>\n",
              "      <td>0.412622</td>\n",
              "      <td>0.271292</td>\n",
              "      <td>0.207655</td>\n",
              "      <td>0.072134</td>\n",
              "      <td>0.056033</td>\n",
              "      <td>0.058950</td>\n",
              "      <td>0.057726</td>\n",
              "      <td>0.054263</td>\n",
              "    </tr>\n",
              "    <tr>\n",
              "      <th>15</th>\n",
              "      <td>0.433730</td>\n",
              "      <td>0.385520</td>\n",
              "      <td>0.566588</td>\n",
              "      <td>0.717513</td>\n",
              "      <td>0.096929</td>\n",
              "      <td>0.028674</td>\n",
              "      <td>0.929833</td>\n",
              "      <td>0.916862</td>\n",
              "      <td>0.983541</td>\n",
              "      <td>0.483849</td>\n",
              "      <td>...</td>\n",
              "      <td>0.935965</td>\n",
              "      <td>0.103063</td>\n",
              "      <td>0.338396</td>\n",
              "      <td>0.186070</td>\n",
              "      <td>0.857592</td>\n",
              "      <td>0.154178</td>\n",
              "      <td>0.129599</td>\n",
              "      <td>0.146733</td>\n",
              "      <td>0.139279</td>\n",
              "      <td>0.120244</td>\n",
              "    </tr>\n",
              "    <tr>\n",
              "      <th>16</th>\n",
              "      <td>0.441499</td>\n",
              "      <td>0.366829</td>\n",
              "      <td>0.717591</td>\n",
              "      <td>0.922081</td>\n",
              "      <td>0.091523</td>\n",
              "      <td>0.908989</td>\n",
              "      <td>0.597542</td>\n",
              "      <td>0.915329</td>\n",
              "      <td>0.499844</td>\n",
              "      <td>0.377227</td>\n",
              "      <td>...</td>\n",
              "      <td>0.816718</td>\n",
              "      <td>0.089393</td>\n",
              "      <td>0.950845</td>\n",
              "      <td>0.156918</td>\n",
              "      <td>0.182381</td>\n",
              "      <td>0.083238</td>\n",
              "      <td>0.072145</td>\n",
              "      <td>0.077472</td>\n",
              "      <td>0.075230</td>\n",
              "      <td>0.068976</td>\n",
              "    </tr>\n",
              "    <tr>\n",
              "      <th>17</th>\n",
              "      <td>0.915441</td>\n",
              "      <td>0.387658</td>\n",
              "      <td>0.828675</td>\n",
              "      <td>0.699597</td>\n",
              "      <td>0.104143</td>\n",
              "      <td>0.032127</td>\n",
              "      <td>0.499121</td>\n",
              "      <td>0.024247</td>\n",
              "      <td>0.600626</td>\n",
              "      <td>0.960538</td>\n",
              "      <td>...</td>\n",
              "      <td>0.025714</td>\n",
              "      <td>0.131222</td>\n",
              "      <td>0.331068</td>\n",
              "      <td>0.291568</td>\n",
              "      <td>0.198471</td>\n",
              "      <td>0.175927</td>\n",
              "      <td>0.159939</td>\n",
              "      <td>0.166623</td>\n",
              "      <td>0.157474</td>\n",
              "      <td>0.135833</td>\n",
              "    </tr>\n",
              "    <tr>\n",
              "      <th>18</th>\n",
              "      <td>0.209334</td>\n",
              "      <td>0.206557</td>\n",
              "      <td>0.655801</td>\n",
              "      <td>0.715053</td>\n",
              "      <td>0.901798</td>\n",
              "      <td>0.029908</td>\n",
              "      <td>0.280348</td>\n",
              "      <td>0.022484</td>\n",
              "      <td>0.408349</td>\n",
              "      <td>0.518277</td>\n",
              "      <td>...</td>\n",
              "      <td>0.023905</td>\n",
              "      <td>0.093864</td>\n",
              "      <td>0.427313</td>\n",
              "      <td>0.088251</td>\n",
              "      <td>0.202826</td>\n",
              "      <td>0.108467</td>\n",
              "      <td>0.095792</td>\n",
              "      <td>0.104753</td>\n",
              "      <td>0.100937</td>\n",
              "      <td>0.091095</td>\n",
              "    </tr>\n",
              "    <tr>\n",
              "      <th>19</th>\n",
              "      <td>0.487647</td>\n",
              "      <td>0.387255</td>\n",
              "      <td>0.624555</td>\n",
              "      <td>0.722024</td>\n",
              "      <td>0.101495</td>\n",
              "      <td>0.930457</td>\n",
              "      <td>0.666220</td>\n",
              "      <td>0.023027</td>\n",
              "      <td>0.548342</td>\n",
              "      <td>0.526471</td>\n",
              "      <td>...</td>\n",
              "      <td>0.023994</td>\n",
              "      <td>0.111603</td>\n",
              "      <td>0.419356</td>\n",
              "      <td>0.085539</td>\n",
              "      <td>0.192881</td>\n",
              "      <td>0.103887</td>\n",
              "      <td>0.092430</td>\n",
              "      <td>0.100541</td>\n",
              "      <td>0.097085</td>\n",
              "      <td>0.087718</td>\n",
              "    </tr>\n",
              "    <tr>\n",
              "      <th>20</th>\n",
              "      <td>0.377545</td>\n",
              "      <td>0.957055</td>\n",
              "      <td>0.943898</td>\n",
              "      <td>0.666555</td>\n",
              "      <td>0.083200</td>\n",
              "      <td>0.885529</td>\n",
              "      <td>0.459493</td>\n",
              "      <td>0.828168</td>\n",
              "      <td>0.559083</td>\n",
              "      <td>0.466913</td>\n",
              "      <td>...</td>\n",
              "      <td>0.019826</td>\n",
              "      <td>0.090470</td>\n",
              "      <td>0.175582</td>\n",
              "      <td>0.202794</td>\n",
              "      <td>0.152245</td>\n",
              "      <td>0.049134</td>\n",
              "      <td>0.045959</td>\n",
              "      <td>0.048256</td>\n",
              "      <td>0.047311</td>\n",
              "      <td>0.044526</td>\n",
              "    </tr>\n",
              "    <tr>\n",
              "      <th>21</th>\n",
              "      <td>0.430612</td>\n",
              "      <td>0.253286</td>\n",
              "      <td>0.727639</td>\n",
              "      <td>0.639627</td>\n",
              "      <td>0.074784</td>\n",
              "      <td>0.874357</td>\n",
              "      <td>0.528823</td>\n",
              "      <td>0.017702</td>\n",
              "      <td>0.183763</td>\n",
              "      <td>0.458999</td>\n",
              "      <td>...</td>\n",
              "      <td>0.018186</td>\n",
              "      <td>0.091220</td>\n",
              "      <td>0.381090</td>\n",
              "      <td>0.166599</td>\n",
              "      <td>0.903059</td>\n",
              "      <td>0.075469</td>\n",
              "      <td>0.067682</td>\n",
              "      <td>0.073266</td>\n",
              "      <td>0.070913</td>\n",
              "      <td>0.064363</td>\n",
              "    </tr>\n",
              "    <tr>\n",
              "      <th>22</th>\n",
              "      <td>0.395629</td>\n",
              "      <td>0.339742</td>\n",
              "      <td>0.904716</td>\n",
              "      <td>0.806653</td>\n",
              "      <td>0.124043</td>\n",
              "      <td>0.955352</td>\n",
              "      <td>0.598847</td>\n",
              "      <td>0.031467</td>\n",
              "      <td>0.954018</td>\n",
              "      <td>0.553322</td>\n",
              "      <td>...</td>\n",
              "      <td>0.031210</td>\n",
              "      <td>0.125660</td>\n",
              "      <td>0.480944</td>\n",
              "      <td>0.335076</td>\n",
              "      <td>0.159391</td>\n",
              "      <td>0.275092</td>\n",
              "      <td>0.331202</td>\n",
              "      <td>0.255483</td>\n",
              "      <td>0.237075</td>\n",
              "      <td>0.307691</td>\n",
              "    </tr>\n",
              "    <tr>\n",
              "      <th>23</th>\n",
              "      <td>0.990992</td>\n",
              "      <td>0.375091</td>\n",
              "      <td>0.721994</td>\n",
              "      <td>0.731306</td>\n",
              "      <td>0.916126</td>\n",
              "      <td>0.030623</td>\n",
              "      <td>0.646305</td>\n",
              "      <td>0.023271</td>\n",
              "      <td>0.625633</td>\n",
              "      <td>0.510329</td>\n",
              "      <td>...</td>\n",
              "      <td>0.872385</td>\n",
              "      <td>0.101218</td>\n",
              "      <td>0.300104</td>\n",
              "      <td>0.163790</td>\n",
              "      <td>0.170812</td>\n",
              "      <td>0.108896</td>\n",
              "      <td>0.235737</td>\n",
              "      <td>0.105231</td>\n",
              "      <td>0.101452</td>\n",
              "      <td>0.091237</td>\n",
              "    </tr>\n",
              "    <tr>\n",
              "      <th>24</th>\n",
              "      <td>0.448352</td>\n",
              "      <td>0.219772</td>\n",
              "      <td>0.683572</td>\n",
              "      <td>0.742948</td>\n",
              "      <td>0.100643</td>\n",
              "      <td>0.879794</td>\n",
              "      <td>0.555776</td>\n",
              "      <td>0.023670</td>\n",
              "      <td>0.646599</td>\n",
              "      <td>0.500417</td>\n",
              "      <td>...</td>\n",
              "      <td>0.024645</td>\n",
              "      <td>0.101251</td>\n",
              "      <td>0.100493</td>\n",
              "      <td>0.158486</td>\n",
              "      <td>0.143561</td>\n",
              "      <td>0.107548</td>\n",
              "      <td>0.112267</td>\n",
              "      <td>0.103979</td>\n",
              "      <td>0.100293</td>\n",
              "      <td>0.094303</td>\n",
              "    </tr>\n",
              "    <tr>\n",
              "      <th>25</th>\n",
              "      <td>0.245203</td>\n",
              "      <td>0.316419</td>\n",
              "      <td>0.613013</td>\n",
              "      <td>0.714651</td>\n",
              "      <td>0.960264</td>\n",
              "      <td>0.030651</td>\n",
              "      <td>0.303602</td>\n",
              "      <td>0.023394</td>\n",
              "      <td>0.466482</td>\n",
              "      <td>0.511035</td>\n",
              "      <td>...</td>\n",
              "      <td>0.024614</td>\n",
              "      <td>0.109693</td>\n",
              "      <td>0.382759</td>\n",
              "      <td>0.849703</td>\n",
              "      <td>0.177258</td>\n",
              "      <td>0.063774</td>\n",
              "      <td>0.059124</td>\n",
              "      <td>0.062450</td>\n",
              "      <td>0.061058</td>\n",
              "      <td>0.057117</td>\n",
              "    </tr>\n",
              "    <tr>\n",
              "      <th>26</th>\n",
              "      <td>0.446805</td>\n",
              "      <td>0.223019</td>\n",
              "      <td>0.760909</td>\n",
              "      <td>0.688980</td>\n",
              "      <td>0.838687</td>\n",
              "      <td>0.026365</td>\n",
              "      <td>0.532608</td>\n",
              "      <td>0.904100</td>\n",
              "      <td>0.851828</td>\n",
              "      <td>0.503899</td>\n",
              "      <td>...</td>\n",
              "      <td>0.020370</td>\n",
              "      <td>0.102232</td>\n",
              "      <td>0.431806</td>\n",
              "      <td>0.076300</td>\n",
              "      <td>0.171280</td>\n",
              "      <td>0.092139</td>\n",
              "      <td>0.082339</td>\n",
              "      <td>0.089319</td>\n",
              "      <td>0.086373</td>\n",
              "      <td>0.078225</td>\n",
              "    </tr>\n",
              "    <tr>\n",
              "      <th>27</th>\n",
              "      <td>0.458394</td>\n",
              "      <td>0.268617</td>\n",
              "      <td>0.649860</td>\n",
              "      <td>0.195360</td>\n",
              "      <td>0.107966</td>\n",
              "      <td>0.033021</td>\n",
              "      <td>0.600882</td>\n",
              "      <td>0.025111</td>\n",
              "      <td>0.313963</td>\n",
              "      <td>0.523485</td>\n",
              "      <td>...</td>\n",
              "      <td>0.026716</td>\n",
              "      <td>0.103566</td>\n",
              "      <td>0.446232</td>\n",
              "      <td>0.143168</td>\n",
              "      <td>0.164083</td>\n",
              "      <td>0.199188</td>\n",
              "      <td>0.162278</td>\n",
              "      <td>0.422284</td>\n",
              "      <td>0.424599</td>\n",
              "      <td>0.148994</td>\n",
              "    </tr>\n",
              "    <tr>\n",
              "      <th>28</th>\n",
              "      <td>0.273506</td>\n",
              "      <td>0.356090</td>\n",
              "      <td>0.801777</td>\n",
              "      <td>0.711572</td>\n",
              "      <td>0.103512</td>\n",
              "      <td>0.032390</td>\n",
              "      <td>0.532942</td>\n",
              "      <td>0.863882</td>\n",
              "      <td>0.561952</td>\n",
              "      <td>0.460856</td>\n",
              "      <td>...</td>\n",
              "      <td>0.025667</td>\n",
              "      <td>0.104828</td>\n",
              "      <td>0.141746</td>\n",
              "      <td>0.269513</td>\n",
              "      <td>0.163895</td>\n",
              "      <td>0.193862</td>\n",
              "      <td>0.981283</td>\n",
              "      <td>0.148717</td>\n",
              "      <td>0.141332</td>\n",
              "      <td>0.999140</td>\n",
              "    </tr>\n",
              "    <tr>\n",
              "      <th>29</th>\n",
              "      <td>0.510960</td>\n",
              "      <td>0.920137</td>\n",
              "      <td>0.945281</td>\n",
              "      <td>0.610587</td>\n",
              "      <td>0.895107</td>\n",
              "      <td>0.031696</td>\n",
              "      <td>0.544344</td>\n",
              "      <td>0.024351</td>\n",
              "      <td>0.470867</td>\n",
              "      <td>0.529595</td>\n",
              "      <td>...</td>\n",
              "      <td>0.025736</td>\n",
              "      <td>0.120587</td>\n",
              "      <td>0.492846</td>\n",
              "      <td>0.949255</td>\n",
              "      <td>0.203580</td>\n",
              "      <td>0.166741</td>\n",
              "      <td>0.139113</td>\n",
              "      <td>0.158269</td>\n",
              "      <td>0.149879</td>\n",
              "      <td>0.221813</td>\n",
              "    </tr>\n",
              "  </tbody>\n",
              "</table>\n",
              "<p>30 rows × 270230 columns</p>\n",
              "</div>\n",
              "      <button class=\"colab-df-convert\" onclick=\"convertToInteractive('df-4a9b8176-40af-4125-92b1-f11046ffd837')\"\n",
              "              title=\"Convert this dataframe to an interactive table.\"\n",
              "              style=\"display:none;\">\n",
              "        \n",
              "  <svg xmlns=\"http://www.w3.org/2000/svg\" height=\"24px\"viewBox=\"0 0 24 24\"\n",
              "       width=\"24px\">\n",
              "    <path d=\"M0 0h24v24H0V0z\" fill=\"none\"/>\n",
              "    <path d=\"M18.56 5.44l.94 2.06.94-2.06 2.06-.94-2.06-.94-.94-2.06-.94 2.06-2.06.94zm-11 1L8.5 8.5l.94-2.06 2.06-.94-2.06-.94L8.5 2.5l-.94 2.06-2.06.94zm10 10l.94 2.06.94-2.06 2.06-.94-2.06-.94-.94-2.06-.94 2.06-2.06.94z\"/><path d=\"M17.41 7.96l-1.37-1.37c-.4-.4-.92-.59-1.43-.59-.52 0-1.04.2-1.43.59L10.3 9.45l-7.72 7.72c-.78.78-.78 2.05 0 2.83L4 21.41c.39.39.9.59 1.41.59.51 0 1.02-.2 1.41-.59l7.78-7.78 2.81-2.81c.8-.78.8-2.07 0-2.86zM5.41 20L4 18.59l7.72-7.72 1.47 1.35L5.41 20z\"/>\n",
              "  </svg>\n",
              "      </button>\n",
              "      \n",
              "  <style>\n",
              "    .colab-df-container {\n",
              "      display:flex;\n",
              "      flex-wrap:wrap;\n",
              "      gap: 12px;\n",
              "    }\n",
              "\n",
              "    .colab-df-convert {\n",
              "      background-color: #E8F0FE;\n",
              "      border: none;\n",
              "      border-radius: 50%;\n",
              "      cursor: pointer;\n",
              "      display: none;\n",
              "      fill: #1967D2;\n",
              "      height: 32px;\n",
              "      padding: 0 0 0 0;\n",
              "      width: 32px;\n",
              "    }\n",
              "\n",
              "    .colab-df-convert:hover {\n",
              "      background-color: #E2EBFA;\n",
              "      box-shadow: 0px 1px 2px rgba(60, 64, 67, 0.3), 0px 1px 3px 1px rgba(60, 64, 67, 0.15);\n",
              "      fill: #174EA6;\n",
              "    }\n",
              "\n",
              "    [theme=dark] .colab-df-convert {\n",
              "      background-color: #3B4455;\n",
              "      fill: #D2E3FC;\n",
              "    }\n",
              "\n",
              "    [theme=dark] .colab-df-convert:hover {\n",
              "      background-color: #434B5C;\n",
              "      box-shadow: 0px 1px 3px 1px rgba(0, 0, 0, 0.15);\n",
              "      filter: drop-shadow(0px 1px 2px rgba(0, 0, 0, 0.3));\n",
              "      fill: #FFFFFF;\n",
              "    }\n",
              "  </style>\n",
              "\n",
              "      <script>\n",
              "        const buttonEl =\n",
              "          document.querySelector('#df-4a9b8176-40af-4125-92b1-f11046ffd837 button.colab-df-convert');\n",
              "        buttonEl.style.display =\n",
              "          google.colab.kernel.accessAllowed ? 'block' : 'none';\n",
              "\n",
              "        async function convertToInteractive(key) {\n",
              "          const element = document.querySelector('#df-4a9b8176-40af-4125-92b1-f11046ffd837');\n",
              "          const dataTable =\n",
              "            await google.colab.kernel.invokeFunction('convertToInteractive',\n",
              "                                                     [key], {});\n",
              "          if (!dataTable) return;\n",
              "\n",
              "          const docLinkHtml = 'Like what you see? Visit the ' +\n",
              "            '<a target=\"_blank\" href=https://colab.research.google.com/notebooks/data_table.ipynb>data table notebook</a>'\n",
              "            + ' to learn more about interactive tables.';\n",
              "          element.innerHTML = '';\n",
              "          dataTable['output_type'] = 'display_data';\n",
              "          await google.colab.output.renderOutput(dataTable, element);\n",
              "          const docLink = document.createElement('div');\n",
              "          docLink.innerHTML = docLinkHtml;\n",
              "          element.appendChild(docLink);\n",
              "        }\n",
              "      </script>\n",
              "    </div>\n",
              "  </div>\n",
              "  "
            ]
          },
          "metadata": {},
          "execution_count": 56
        }
      ]
    },
    {
      "cell_type": "code",
      "source": [
        "# Ejemplo de Topic por FREX de acuerdo al bigrama más presente en ese discurso\n",
        "discurso=2\n",
        "print(f\"Bigrama más usado: {matrix[discurso].argmax()}\")\n",
        "print(f\"Topic: {frex_df[matrix[discurso].argmax()].argsort()[9]}\")"
      ],
      "metadata": {
        "colab": {
          "base_uri": "https://localhost:8080/"
        },
        "id": "8XRoJIpcD5rl",
        "outputId": "2ead8616-80fd-4cae-ef6e-64266ba82ca1"
      },
      "execution_count": null,
      "outputs": [
        {
          "output_type": "stream",
          "name": "stdout",
          "text": [
            "Bigrama más usado: 3547\n",
            "Topic: 11\n"
          ]
        }
      ]
    },
    {
      "cell_type": "code",
      "source": [
        "base['id']=range(0,334421)"
      ],
      "metadata": {
        "id": "jMI1KKd8Eo4X"
      },
      "execution_count": null,
      "outputs": []
    },
    {
      "cell_type": "code",
      "source": [
        "# Se crea una columna con el topic que se asigna por frex a cada discurso de la base\n",
        "base['Topic_FREX']=base.apply (lambda row: t_FREX(row), axis=1)+1"
      ],
      "metadata": {
        "id": "efCGbY1tEk4k"
      },
      "execution_count": null,
      "outputs": []
    },
    {
      "cell_type": "code",
      "source": [
        "base.head(5)"
      ],
      "metadata": {
        "colab": {
          "base_uri": "https://localhost:8080/",
          "height": 629
        },
        "id": "RmlOb_8dEwpZ",
        "outputId": "d19579ae-8ec2-46f7-b81d-626874094017"
      },
      "execution_count": null,
      "outputs": [
        {
          "output_type": "execute_result",
          "data": {
            "text/plain": [
              "   Unnamed: 0                                              orden  \\\n",
              "0           0  LECTURA DEL REAL DECRETO. DE CONVOCATORIA, DE ...   \n",
              "1           1                     DESIGNACION DE LA MESA DE EDAD   \n",
              "2           2                     DESIGNACION DE LA MESA DE EDAD   \n",
              "3           3  CONSTITUCION INTERINA DE LA CAMA. RA Y ELECCIO...   \n",
              "4           4  CONSTITUCION INTERINA DE LA CAMA. RA Y ELECCIO...   \n",
              "\n",
              "                                          namex  \\\n",
              "0       PRESIDENTE PROVISIONAL (Fraile Poujade)   \n",
              "1                        PRESIDENTE PROVISIONAL   \n",
              "2   PRESIDENTE PROVISIONAL (Rodríguez Valverde)   \n",
              "3  PRESIDENTE PROVISIONAL (Ro.dríguez Valverde)   \n",
              "4   PRESIDENTE PROVISIONAL (Rodríguez Valverde)   \n",
              "\n",
              "                                        intervention       fecha legislatura  \\\n",
              "0   Señoras y señores Diputados, se abre la sesió...  23/03/1979           I   \n",
              "1   (Fraile Poujade): Según la relación que cons....  23/03/1979           I   \n",
              "2   Siguiendo el orden del día, ruego al señor Es...  23/03/1979           I   \n",
              "3   Al reanudarse la sesión, procedería dar lectu...  23/03/1979           I   \n",
              "4   Una vez leído el informe de la Junta Electora...  23/03/1979           I   \n",
              "\n",
              "   pleno                    role              oradorx  \\\n",
              "0    1.0  PRESIDENTE PROVISIONAL       FRAILE POUJADE   \n",
              "1    1.0  PRESIDENTE PROVISIONAL       FRAILE POUJADE   \n",
              "2    1.0  PRESIDENTE PROVISIONAL   RODRIGUEZ VALVERDE   \n",
              "3    1.0  PRESIDENTE PROVISIONAL  RO.DRIGUEZ VALVERDE   \n",
              "4    1.0  PRESIDENTE PROVISIONAL   RODRIGUEZ VALVERDE   \n",
              "\n",
              "                               namey  ... total             oradory cataluna  \\\n",
              "0          Fraile Poujade, Modesto †  ...   4.0      FRAILE POUJADE      0.0   \n",
              "1          Fraile Poujade, Modesto †  ...   4.0      FRAILE POUJADE      0.0   \n",
              "2  Rodríguez Valverde, León Máximo †  ...   6.0  RODRIGUEZ VALVERDE      0.0   \n",
              "3  Rodríguez Valverde, León Máximo †  ...   6.0  RODRIGUEZ VALVERDE      0.0   \n",
              "4  Rodríguez Valverde, León Máximo †  ...   6.0  RODRIGUEZ VALVERDE      0.0   \n",
              "\n",
              "  estatut  inter_raw          partido  \\\n",
              "0     0.0        NaN  UCD, AP-PDP, CP   \n",
              "1     0.0        NaN  UCD, AP-PDP, CP   \n",
              "2     0.0        NaN             PSOE   \n",
              "3     0.0        NaN             PSOE   \n",
              "4     0.0        NaN             PSOE   \n",
              "\n",
              "                                              tokens  Topic_weight id  \\\n",
              "0  ['señora', 'señor', 'diputado', 'abr', 'junta'...             9  0   \n",
              "1  ['frail', 'poujad', 'segun', 'relacion', 'con'...            26  1   \n",
              "2  ['siguiendo', 'ruego', 'esperabe', 'arteaga', ...            13  2   \n",
              "3  ['reanudars', 'procederia', 'dar', 'lectura', ...             1  3   \n",
              "4  ['leido', 'inform', 'junta', 'elector', 'centr...             1  4   \n",
              "\n",
              "  Topic_FREX  \n",
              "0          7  \n",
              "1         19  \n",
              "2         12  \n",
              "3         24  \n",
              "4         27  \n",
              "\n",
              "[5 rows x 24 columns]"
            ],
            "text/html": [
              "\n",
              "  <div id=\"df-d571a6fb-b67f-46e8-b9ad-1cc3b913bd80\">\n",
              "    <div class=\"colab-df-container\">\n",
              "      <div>\n",
              "<style scoped>\n",
              "    .dataframe tbody tr th:only-of-type {\n",
              "        vertical-align: middle;\n",
              "    }\n",
              "\n",
              "    .dataframe tbody tr th {\n",
              "        vertical-align: top;\n",
              "    }\n",
              "\n",
              "    .dataframe thead th {\n",
              "        text-align: right;\n",
              "    }\n",
              "</style>\n",
              "<table border=\"1\" class=\"dataframe\">\n",
              "  <thead>\n",
              "    <tr style=\"text-align: right;\">\n",
              "      <th></th>\n",
              "      <th>Unnamed: 0</th>\n",
              "      <th>orden</th>\n",
              "      <th>namex</th>\n",
              "      <th>intervention</th>\n",
              "      <th>fecha</th>\n",
              "      <th>legislatura</th>\n",
              "      <th>pleno</th>\n",
              "      <th>role</th>\n",
              "      <th>oradorx</th>\n",
              "      <th>namey</th>\n",
              "      <th>...</th>\n",
              "      <th>total</th>\n",
              "      <th>oradory</th>\n",
              "      <th>cataluna</th>\n",
              "      <th>estatut</th>\n",
              "      <th>inter_raw</th>\n",
              "      <th>partido</th>\n",
              "      <th>tokens</th>\n",
              "      <th>Topic_weight</th>\n",
              "      <th>id</th>\n",
              "      <th>Topic_FREX</th>\n",
              "    </tr>\n",
              "  </thead>\n",
              "  <tbody>\n",
              "    <tr>\n",
              "      <th>0</th>\n",
              "      <td>0</td>\n",
              "      <td>LECTURA DEL REAL DECRETO. DE CONVOCATORIA, DE ...</td>\n",
              "      <td>PRESIDENTE PROVISIONAL (Fraile Poujade)</td>\n",
              "      <td>Señoras y señores Diputados, se abre la sesió...</td>\n",
              "      <td>23/03/1979</td>\n",
              "      <td>I</td>\n",
              "      <td>1.0</td>\n",
              "      <td>PRESIDENTE PROVISIONAL</td>\n",
              "      <td>FRAILE POUJADE</td>\n",
              "      <td>Fraile Poujade, Modesto †</td>\n",
              "      <td>...</td>\n",
              "      <td>4.0</td>\n",
              "      <td>FRAILE POUJADE</td>\n",
              "      <td>0.0</td>\n",
              "      <td>0.0</td>\n",
              "      <td>NaN</td>\n",
              "      <td>UCD, AP-PDP, CP</td>\n",
              "      <td>['señora', 'señor', 'diputado', 'abr', 'junta'...</td>\n",
              "      <td>9</td>\n",
              "      <td>0</td>\n",
              "      <td>7</td>\n",
              "    </tr>\n",
              "    <tr>\n",
              "      <th>1</th>\n",
              "      <td>1</td>\n",
              "      <td>DESIGNACION DE LA MESA DE EDAD</td>\n",
              "      <td>PRESIDENTE PROVISIONAL</td>\n",
              "      <td>(Fraile Poujade): Según la relación que cons....</td>\n",
              "      <td>23/03/1979</td>\n",
              "      <td>I</td>\n",
              "      <td>1.0</td>\n",
              "      <td>PRESIDENTE PROVISIONAL</td>\n",
              "      <td>FRAILE POUJADE</td>\n",
              "      <td>Fraile Poujade, Modesto †</td>\n",
              "      <td>...</td>\n",
              "      <td>4.0</td>\n",
              "      <td>FRAILE POUJADE</td>\n",
              "      <td>0.0</td>\n",
              "      <td>0.0</td>\n",
              "      <td>NaN</td>\n",
              "      <td>UCD, AP-PDP, CP</td>\n",
              "      <td>['frail', 'poujad', 'segun', 'relacion', 'con'...</td>\n",
              "      <td>26</td>\n",
              "      <td>1</td>\n",
              "      <td>19</td>\n",
              "    </tr>\n",
              "    <tr>\n",
              "      <th>2</th>\n",
              "      <td>2</td>\n",
              "      <td>DESIGNACION DE LA MESA DE EDAD</td>\n",
              "      <td>PRESIDENTE PROVISIONAL (Rodríguez Valverde)</td>\n",
              "      <td>Siguiendo el orden del día, ruego al señor Es...</td>\n",
              "      <td>23/03/1979</td>\n",
              "      <td>I</td>\n",
              "      <td>1.0</td>\n",
              "      <td>PRESIDENTE PROVISIONAL</td>\n",
              "      <td>RODRIGUEZ VALVERDE</td>\n",
              "      <td>Rodríguez Valverde, León Máximo †</td>\n",
              "      <td>...</td>\n",
              "      <td>6.0</td>\n",
              "      <td>RODRIGUEZ VALVERDE</td>\n",
              "      <td>0.0</td>\n",
              "      <td>0.0</td>\n",
              "      <td>NaN</td>\n",
              "      <td>PSOE</td>\n",
              "      <td>['siguiendo', 'ruego', 'esperabe', 'arteaga', ...</td>\n",
              "      <td>13</td>\n",
              "      <td>2</td>\n",
              "      <td>12</td>\n",
              "    </tr>\n",
              "    <tr>\n",
              "      <th>3</th>\n",
              "      <td>3</td>\n",
              "      <td>CONSTITUCION INTERINA DE LA CAMA. RA Y ELECCIO...</td>\n",
              "      <td>PRESIDENTE PROVISIONAL (Ro.dríguez Valverde)</td>\n",
              "      <td>Al reanudarse la sesión, procedería dar lectu...</td>\n",
              "      <td>23/03/1979</td>\n",
              "      <td>I</td>\n",
              "      <td>1.0</td>\n",
              "      <td>PRESIDENTE PROVISIONAL</td>\n",
              "      <td>RO.DRIGUEZ VALVERDE</td>\n",
              "      <td>Rodríguez Valverde, León Máximo †</td>\n",
              "      <td>...</td>\n",
              "      <td>6.0</td>\n",
              "      <td>RODRIGUEZ VALVERDE</td>\n",
              "      <td>0.0</td>\n",
              "      <td>0.0</td>\n",
              "      <td>NaN</td>\n",
              "      <td>PSOE</td>\n",
              "      <td>['reanudars', 'procederia', 'dar', 'lectura', ...</td>\n",
              "      <td>1</td>\n",
              "      <td>3</td>\n",
              "      <td>24</td>\n",
              "    </tr>\n",
              "    <tr>\n",
              "      <th>4</th>\n",
              "      <td>4</td>\n",
              "      <td>CONSTITUCION INTERINA DE LA CAMA. RA Y ELECCIO...</td>\n",
              "      <td>PRESIDENTE PROVISIONAL (Rodríguez Valverde)</td>\n",
              "      <td>Una vez leído el informe de la Junta Electora...</td>\n",
              "      <td>23/03/1979</td>\n",
              "      <td>I</td>\n",
              "      <td>1.0</td>\n",
              "      <td>PRESIDENTE PROVISIONAL</td>\n",
              "      <td>RODRIGUEZ VALVERDE</td>\n",
              "      <td>Rodríguez Valverde, León Máximo †</td>\n",
              "      <td>...</td>\n",
              "      <td>6.0</td>\n",
              "      <td>RODRIGUEZ VALVERDE</td>\n",
              "      <td>0.0</td>\n",
              "      <td>0.0</td>\n",
              "      <td>NaN</td>\n",
              "      <td>PSOE</td>\n",
              "      <td>['leido', 'inform', 'junta', 'elector', 'centr...</td>\n",
              "      <td>1</td>\n",
              "      <td>4</td>\n",
              "      <td>27</td>\n",
              "    </tr>\n",
              "  </tbody>\n",
              "</table>\n",
              "<p>5 rows × 24 columns</p>\n",
              "</div>\n",
              "      <button class=\"colab-df-convert\" onclick=\"convertToInteractive('df-d571a6fb-b67f-46e8-b9ad-1cc3b913bd80')\"\n",
              "              title=\"Convert this dataframe to an interactive table.\"\n",
              "              style=\"display:none;\">\n",
              "        \n",
              "  <svg xmlns=\"http://www.w3.org/2000/svg\" height=\"24px\"viewBox=\"0 0 24 24\"\n",
              "       width=\"24px\">\n",
              "    <path d=\"M0 0h24v24H0V0z\" fill=\"none\"/>\n",
              "    <path d=\"M18.56 5.44l.94 2.06.94-2.06 2.06-.94-2.06-.94-.94-2.06-.94 2.06-2.06.94zm-11 1L8.5 8.5l.94-2.06 2.06-.94-2.06-.94L8.5 2.5l-.94 2.06-2.06.94zm10 10l.94 2.06.94-2.06 2.06-.94-2.06-.94-.94-2.06-.94 2.06-2.06.94z\"/><path d=\"M17.41 7.96l-1.37-1.37c-.4-.4-.92-.59-1.43-.59-.52 0-1.04.2-1.43.59L10.3 9.45l-7.72 7.72c-.78.78-.78 2.05 0 2.83L4 21.41c.39.39.9.59 1.41.59.51 0 1.02-.2 1.41-.59l7.78-7.78 2.81-2.81c.8-.78.8-2.07 0-2.86zM5.41 20L4 18.59l7.72-7.72 1.47 1.35L5.41 20z\"/>\n",
              "  </svg>\n",
              "      </button>\n",
              "      \n",
              "  <style>\n",
              "    .colab-df-container {\n",
              "      display:flex;\n",
              "      flex-wrap:wrap;\n",
              "      gap: 12px;\n",
              "    }\n",
              "\n",
              "    .colab-df-convert {\n",
              "      background-color: #E8F0FE;\n",
              "      border: none;\n",
              "      border-radius: 50%;\n",
              "      cursor: pointer;\n",
              "      display: none;\n",
              "      fill: #1967D2;\n",
              "      height: 32px;\n",
              "      padding: 0 0 0 0;\n",
              "      width: 32px;\n",
              "    }\n",
              "\n",
              "    .colab-df-convert:hover {\n",
              "      background-color: #E2EBFA;\n",
              "      box-shadow: 0px 1px 2px rgba(60, 64, 67, 0.3), 0px 1px 3px 1px rgba(60, 64, 67, 0.15);\n",
              "      fill: #174EA6;\n",
              "    }\n",
              "\n",
              "    [theme=dark] .colab-df-convert {\n",
              "      background-color: #3B4455;\n",
              "      fill: #D2E3FC;\n",
              "    }\n",
              "\n",
              "    [theme=dark] .colab-df-convert:hover {\n",
              "      background-color: #434B5C;\n",
              "      box-shadow: 0px 1px 3px 1px rgba(0, 0, 0, 0.15);\n",
              "      filter: drop-shadow(0px 1px 2px rgba(0, 0, 0, 0.3));\n",
              "      fill: #FFFFFF;\n",
              "    }\n",
              "  </style>\n",
              "\n",
              "      <script>\n",
              "        const buttonEl =\n",
              "          document.querySelector('#df-d571a6fb-b67f-46e8-b9ad-1cc3b913bd80 button.colab-df-convert');\n",
              "        buttonEl.style.display =\n",
              "          google.colab.kernel.accessAllowed ? 'block' : 'none';\n",
              "\n",
              "        async function convertToInteractive(key) {\n",
              "          const element = document.querySelector('#df-d571a6fb-b67f-46e8-b9ad-1cc3b913bd80');\n",
              "          const dataTable =\n",
              "            await google.colab.kernel.invokeFunction('convertToInteractive',\n",
              "                                                     [key], {});\n",
              "          if (!dataTable) return;\n",
              "\n",
              "          const docLinkHtml = 'Like what you see? Visit the ' +\n",
              "            '<a target=\"_blank\" href=https://colab.research.google.com/notebooks/data_table.ipynb>data table notebook</a>'\n",
              "            + ' to learn more about interactive tables.';\n",
              "          element.innerHTML = '';\n",
              "          dataTable['output_type'] = 'display_data';\n",
              "          await google.colab.output.renderOutput(dataTable, element);\n",
              "          const docLink = document.createElement('div');\n",
              "          docLink.innerHTML = docLinkHtml;\n",
              "          element.appendChild(docLink);\n",
              "        }\n",
              "      </script>\n",
              "    </div>\n",
              "  </div>\n",
              "  "
            ]
          },
          "metadata": {},
          "execution_count": 60
        }
      ]
    },
    {
      "cell_type": "code",
      "source": [
        "# Promedio general de bigramas únicos por discurso\n",
        "(matrix != 0).sum(1).mean()"
      ],
      "metadata": {
        "colab": {
          "base_uri": "https://localhost:8080/"
        },
        "id": "Rz6ACA4QFhi3",
        "outputId": "f3dccaec-6e03-46c5-d03b-62e4a31d74b1"
      },
      "execution_count": null,
      "outputs": [
        {
          "output_type": "execute_result",
          "data": {
            "text/plain": [
              "25.356460868187106"
            ]
          },
          "metadata": {},
          "execution_count": 61
        }
      ]
    },
    {
      "cell_type": "markdown",
      "source": [
        "# Gráficos"
      ],
      "metadata": {
        "id": "ACFUCUxXFekz"
      }
    },
    {
      "cell_type": "code",
      "source": [
        "base['Topic_FREX'].unique()"
      ],
      "metadata": {
        "colab": {
          "base_uri": "https://localhost:8080/"
        },
        "id": "g2csnpOhKeUu",
        "outputId": "8f0e2568-b31d-40eb-f6a6-790b3774e10d"
      },
      "execution_count": null,
      "outputs": [
        {
          "output_type": "execute_result",
          "data": {
            "text/plain": [
              "array([ 7, 19, 12, 24, 27, 23, 18,  2, 20, 11, 13, 26,  9, 17,  5, 28,  3,\n",
              "       16, 25, 21,  1,  6, 10,  4, 29, 22, 30, 15,  8, 14])"
            ]
          },
          "metadata": {},
          "execution_count": 62
        }
      ]
    },
    {
      "cell_type": "code",
      "source": [
        "base['Year']=pd.DatetimeIndex(base.fecha).year\n",
        "base['Month']=pd.DatetimeIndex(base.fecha).month"
      ],
      "metadata": {
        "id": "TEPDzv9XB0D4"
      },
      "execution_count": null,
      "outputs": []
    },
    {
      "cell_type": "code",
      "source": [
        "import datetime\n",
        "def get_mode_list(x):\n",
        "    mode = pd.Series.mode(x)\n",
        "    return mode[0] if isinstance(mode, pd.Series) else [mode]\n",
        "\n",
        "graf=base.groupby(['Year', 'Month'], as_index=False)['Topic_FREX'].agg(get_mode_list)"
      ],
      "metadata": {
        "id": "cBftJMN6DK2u"
      },
      "execution_count": null,
      "outputs": []
    },
    {
      "cell_type": "code",
      "source": [
        "graf['date'] = graf.apply(lambda x: datetime.datetime(x['Year'], x['Month'], 1), axis=1)"
      ],
      "metadata": {
        "id": "HWV-ZFkLEiI5"
      },
      "execution_count": null,
      "outputs": []
    },
    {
      "cell_type": "code",
      "source": [
        "import matplotlib.pyplot as plt"
      ],
      "metadata": {
        "id": "AlRGLl0xIMzm"
      },
      "execution_count": null,
      "outputs": []
    },
    {
      "cell_type": "code",
      "source": [
        "# By Month\n",
        "plt.plot(graf.date, graf.Topic_FREX, linewidth=0, markersize=5, marker='o')"
      ],
      "metadata": {
        "colab": {
          "base_uri": "https://localhost:8080/",
          "height": 282
        },
        "id": "yGCPFWYDDnEj",
        "outputId": "72601e73-1a75-4872-c983-79abc2f88d8d"
      },
      "execution_count": null,
      "outputs": [
        {
          "output_type": "execute_result",
          "data": {
            "text/plain": [
              "[<matplotlib.lines.Line2D at 0x7f797bfccca0>]"
            ]
          },
          "metadata": {},
          "execution_count": 67
        },
        {
          "output_type": "display_data",
          "data": {
            "text/plain": [
              "<Figure size 432x288 with 1 Axes>"
            ],
            "image/png": "[encoded data removed]"
          },
          "metadata": {
            "needs_background": "light"
          }
        }
      ]
    },
    {
      "cell_type": "code",
      "source": [
        "# By Year\n",
        "graf=base.groupby(['Year'], as_index=False)['Topic_FREX'].agg(get_mode_list)\n",
        "plt.plot(graf.Year, graf.Topic_FREX, linewidth=0, markersize=5, marker='o')"
      ],
      "metadata": {
        "colab": {
          "base_uri": "https://localhost:8080/",
          "height": 282
        },
        "id": "euHNjBSBTVBa",
        "outputId": "c0a95b5f-7d5a-4d34-bb42-9ed7e252e6e5"
      },
      "execution_count": null,
      "outputs": [
        {
          "output_type": "execute_result",
          "data": {
            "text/plain": [
              "[<matplotlib.lines.Line2D at 0x7f79b260d1c0>]"
            ]
          },
          "metadata": {},
          "execution_count": 68
        },
        {
          "output_type": "display_data",
          "data": {
            "text/plain": [
              "<Figure size 432x288 with 1 Axes>"
            ],
            "image/png": "[encoded data removed]"
          },
          "metadata": {
            "needs_background": "light"
          }
        }
      ]
    },
    {
      "cell_type": "code",
      "source": [
        "# By Legislatura\n",
        "graf=base.groupby(['legislatura'], as_index=False)['Topic_FREX'].agg(get_mode_list)\n",
        "graf['id']=[1,2,3,4,9,5,6,7,8,10,11,12,13]\n",
        "graf=graf.sort_values('id')\n",
        "plt.plot(graf.legislatura, graf.Topic_FREX, linewidth=0, markersize=5, marker='o')"
      ],
      "metadata": {
        "colab": {
          "base_uri": "https://localhost:8080/",
          "height": 282
        },
        "id": "Flt4TSSwTtoQ",
        "outputId": "8b366218-947f-4bef-83cb-c33cb39d9823"
      },
      "execution_count": null,
      "outputs": [
        {
          "output_type": "execute_result",
          "data": {
            "text/plain": [
              "[<matplotlib.lines.Line2D at 0x7f797b0294f0>]"
            ]
          },
          "metadata": {},
          "execution_count": 69
        },
        {
          "output_type": "display_data",
          "data": {
            "text/plain": [
              "<Figure size 432x288 with 1 Axes>"
            ],
            "image/png": "[encoded data removed]"
          },
          "metadata": {
            "needs_background": "light"
          }
        }
      ]
    },
    {
      "cell_type": "markdown",
      "source": [
        "Ahora para weights"
      ],
      "metadata": {
        "id": "BOEHXbWKF7YJ"
      }
    },
    {
      "cell_type": "code",
      "source": [
        "base['Topic_weight'].unique()"
      ],
      "metadata": {
        "colab": {
          "base_uri": "https://localhost:8080/"
        },
        "id": "eQWmKLVDKjRB",
        "outputId": "2687e3d0-933e-45b0-957b-a6c2bbc8f3dc"
      },
      "execution_count": null,
      "outputs": [
        {
          "output_type": "execute_result",
          "data": {
            "text/plain": [
              "array([ 9, 26, 13,  1, 24,  8, 23, 15, 21, 22, 20, 14, 28, 10, 30,  4, 29,\n",
              "        7, 25, 11,  2,  5,  3, 17, 27, 12, 19,  6, 16, 18])"
            ]
          },
          "metadata": {},
          "execution_count": 70
        }
      ]
    },
    {
      "cell_type": "code",
      "source": [
        "graf=base.groupby(['Year', 'Month'], as_index=False)['Topic_weight'].agg(get_mode_list)\n",
        "graf['date'] = graf.apply(lambda x: datetime.datetime(x['Year'], x['Month'], 1), axis=1)"
      ],
      "metadata": {
        "id": "YLe8TEq1Fj9J"
      },
      "execution_count": null,
      "outputs": []
    },
    {
      "cell_type": "code",
      "source": [
        "# By Month\n",
        "plt.plot(graf.date, graf.Topic_weight, linewidth=0, markersize=5, marker='o')"
      ],
      "metadata": {
        "colab": {
          "base_uri": "https://localhost:8080/",
          "height": 282
        },
        "id": "WdcGFs2BFwb0",
        "outputId": "163d7e30-f435-44cf-ba5e-82ad45e8b559"
      },
      "execution_count": null,
      "outputs": [
        {
          "output_type": "execute_result",
          "data": {
            "text/plain": [
              "[<matplotlib.lines.Line2D at 0x7f797af2c310>]"
            ]
          },
          "metadata": {},
          "execution_count": 72
        },
        {
          "output_type": "display_data",
          "data": {
            "text/plain": [
              "<Figure size 432x288 with 1 Axes>"
            ],
            "image/png": "[encoded data removed]"
          },
          "metadata": {
            "needs_background": "light"
          }
        }
      ]
    },
    {
      "cell_type": "code",
      "source": [
        "# By Year\n",
        "graf=base.groupby(['Year'], as_index=False)['Topic_weight'].agg(get_mode_list)\n",
        "plt.plot(graf.Year, graf.Topic_weight, linewidth=0, markersize=5, marker='o')"
      ],
      "metadata": {
        "colab": {
          "base_uri": "https://localhost:8080/",
          "height": 282
        },
        "id": "PNg-pADJU1sw",
        "outputId": "c9a54a12-aacf-4640-b58b-b59ef3222378"
      },
      "execution_count": null,
      "outputs": [
        {
          "output_type": "execute_result",
          "data": {
            "text/plain": [
              "[<matplotlib.lines.Line2D at 0x7f797aa02bb0>]"
            ]
          },
          "metadata": {},
          "execution_count": 73
        },
        {
          "output_type": "display_data",
          "data": {
            "text/plain": [
              "<Figure size 432x288 with 1 Axes>"
            ],
            "image/png": "[encoded data removed]"
          },
          "metadata": {
            "needs_background": "light"
          }
        }
      ]
    },
    {
      "cell_type": "code",
      "source": [
        "# By Legislatura\n",
        "graf=base.groupby(['legislatura'], as_index=False)['Topic_weight'].agg(get_mode_list)\n",
        "graf['id']=[1,2,3,4,9,5,6,7,8,10,11,12,13]\n",
        "graf=graf.sort_values('id')\n",
        "plt.plot(graf.legislatura, graf.Topic_weight, linewidth=0, markersize=5, marker='o')"
      ],
      "metadata": {
        "colab": {
          "base_uri": "https://localhost:8080/",
          "height": 282
        },
        "id": "MkgOCD0qU60K",
        "outputId": "c15700c8-5d2a-4442-b48e-1f309b72e7cd"
      },
      "execution_count": null,
      "outputs": [
        {
          "output_type": "execute_result",
          "data": {
            "text/plain": [
              "[<matplotlib.lines.Line2D at 0x7f796fd4bf70>]"
            ]
          },
          "metadata": {},
          "execution_count": 74
        },
        {
          "output_type": "display_data",
          "data": {
            "text/plain": [
              "<Figure size 432x288 with 1 Axes>"
            ],
            "image/png": "[encoded data removed]"
          },
          "metadata": {
            "needs_background": "light"
          }
        }
      ]
    }
  ]
}