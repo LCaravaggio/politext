{
  "nbformat": 4,
  "nbformat_minor": 0,
  "metadata": {
    "colab": {
      "provenance": []
    },
    "kernelspec": {
      "name": "python3",
      "display_name": "Python 3"
    },
    "language_info": {
      "name": "python"
    },
    "gpuClass": "standard"
  },
  "cells": [
    {
      "cell_type": "markdown",
      "source": [
        "# Cargar la base"
      ],
      "metadata": {
        "id": "3bR6IbjGTqyw"
      }
    },
    {
      "cell_type": "code",
      "source": [
        "from google.colab import drive\n",
        "drive.mount('/content/drive')"
      ],
      "metadata": {
        "colab": {
          "base_uri": "https://localhost:8080/"
        },
        "id": "1d3u68qTTy95",
        "outputId": "df71b7a1-f308-4427-f320-3f80e017bf1a"
      },
      "execution_count": 1,
      "outputs": [
        {
          "output_type": "stream",
          "name": "stdout",
          "text": [
            "Mounted at /content/drive\n"
          ]
        }
      ]
    },
    {
      "cell_type": "code",
      "source": [
        "import pandas as pd\n",
        "base=pd.read_csv('/content/drive/MyDrive/base_formateada.csv')"
      ],
      "metadata": {
        "id": "a4Y2nh_NT6vv",
        "colab": {
          "base_uri": "https://localhost:8080/"
        },
        "outputId": "f6f5b42d-2b38-4d85-8747-da06f2e309a9"
      },
      "execution_count": 2,
      "outputs": [
        {
          "output_type": "stream",
          "name": "stderr",
          "text": [
            "<ipython-input-2-dc6dd172c19c>:2: DtypeWarning: Columns (18) have mixed types. Specify dtype option on import or set low_memory=False.\n",
            "  base=pd.read_csv('/content/drive/MyDrive/base_formateada.csv')\n"
          ]
        }
      ]
    },
    {
      "cell_type": "code",
      "source": [
        "import nltk\n",
        "nltk.download('stopwords')\n",
        "from nltk.corpus import stopwords\n",
        "stopwords=stopwords.words('spanish')"
      ],
      "metadata": {
        "colab": {
          "base_uri": "https://localhost:8080/"
        },
        "id": "vG2Zxxq3UvyZ",
        "outputId": "468b39af-8ebc-4743-cb20-c0e9e355f7db"
      },
      "execution_count": 3,
      "outputs": [
        {
          "output_type": "stream",
          "name": "stderr",
          "text": [
            "[nltk_data] Downloading package stopwords to /root/nltk_data...\n",
            "[nltk_data]   Unzipping corpora/stopwords.zip.\n"
          ]
        }
      ]
    },
    {
      "cell_type": "code",
      "source": [
        "# Se incorporan las stopwords sugeridas por Federico\n",
        "stopwords.extend(['señor', 'señora', 'mucha', 'gracia', 'año', 'pasado', 'cada', 'vez', 'uno', 'dos', 'tres', 'cuatro', 'cinco', 'seis' ,'siete', 'ocho', 'nueve', 'diez'])\n",
        "stopwords.extend(['hoy', 'aquí', 'primer', 'lugar', 'primera', 'segunda', 'primero', 'segundo', 'siguiente', 'tercer'])\n",
        "stopwords.extend(['convergencia', 'esquerra', 'republicana', 'grupo', 'parlamentaria', 'parlamentario', 'partido'])\n",
        "stopwords.extend(['enmienda', 'votación', 'favor', 'abstención', 'ley', 'real', 'decreto', 'decretoley', 'resultado', 'voto', 'sé' ,'sí', 'silencio' ,'favor'])\n",
        "stopwords.extend(['usted', 'señoría', 'presidente', 'presidenta', 'ministro', 'orden' , 'día', 'palabra', 'petición', 'posición', 'punto', 'vista', 'sesión', 'baldoví', 'duran', 'turno'])\n",
        "stopwords.extend(['hacer', 'frente', 'puede' ,'ser', 'va', 'voy', 'decir'])\n",
        "stopwords.extend(['millón', 'euro', 'emitido', 'efectuada', 'dio', 'comienzo', 'partido', 'queda', 'quedan', 'rechazada', 'aceptada', 'comienza', 'usted', 'sabe', 'abstención', 'diputado', 'gobierno'])\n",
        "stopwords.extend(['continuación', 'votamos', 'telemático', 'republicanaizquierda', 'unidainiciativa', 'puede', 'bien', 'propuesta' ,'abstencion', 'mayoría', 'absoluta', 'pregunta', 'don', 'vamos', 'votar', 'llevar', 'cabo', 'millón', 'muchas', 'gracias'])\n",
        "stopwords.extend(['podemosen', 'podemen', 'ministro', 'ministra', 'ss', 'ruego', 'aprobado', 'aprobada'])\n",
        "stopwords.extend(['diputado', 'diputada', 'don', 'doña', 'vicepresidenta', 'sagastizab', 'unzetabarrenetxea', 'agirretxea', 'urresti', 'escrutinio', 'dijo', 'dice', 'quevedo'])\n",
        "stopwords.extend(['campuzano', 'beitialarrangoitia', 'gonzalezmoro', 'mixto'])"
      ],
      "metadata": {
        "id": "D34MOjAhUx_a"
      },
      "execution_count": 4,
      "outputs": []
    },
    {
      "cell_type": "code",
      "source": [
        "# Se incorporan los nombres de los oradores como stopwords\n",
        "from collections import Counter\n",
        "nombres=[]\n",
        "for i in base.namey.unique().tolist(): nombres.extend(str(i).split(' '))\n",
        "nombres = [x.strip(' ') for x in nombres]\n",
        "nombres = [x.strip(' †') for x in nombres]\n",
        "nombres = [x.strip(',') for x in nombres]\n",
        "nombres=list(Counter(nombres))\n",
        "nombres.remove('')"
      ],
      "metadata": {
        "id": "yRV1LnZ51Z8_"
      },
      "execution_count": 5,
      "outputs": []
    },
    {
      "cell_type": "code",
      "source": [
        "stopwords.extend(nombres)"
      ],
      "metadata": {
        "id": "h_aUXBkoJTLY"
      },
      "execution_count": 6,
      "outputs": []
    },
    {
      "cell_type": "code",
      "source": [
        "partidos=pd.read_csv('/content/drive/MyDrive/partidos.csv', encoding='latin1', sep=';')"
      ],
      "metadata": {
        "id": "gVO9-cRc2C2h"
      },
      "execution_count": 7,
      "outputs": []
    },
    {
      "cell_type": "code",
      "source": [
        "for x in partidos['nombre'].unique(): \n",
        "  a=str(x).rstrip(' ')\n",
        "  stopwords.extend(str(a).split())\n",
        "  stopwords.extend(a)\n",
        "\n",
        "for x in partidos['1'].unique():\n",
        "  a=str(x).rstrip(' ')\n",
        "  stopwords.extend(a.split())\n",
        "  stopwords.extend(a)\n",
        "\n",
        "for x in partidos['2'].unique(): \n",
        "  a=str(x).rstrip(' ')\n",
        "  stopwords.extend(a.split())\n",
        "  stopwords.extend(a)\n",
        "\n",
        "for x in partidos['3'].unique(): \n",
        "  a=str(x).rstrip(' ')\n",
        "  stopwords.extend(a.split())\n",
        "  stopwords.extend(a)"
      ],
      "metadata": {
        "id": "JRe_Lrv02rRQ"
      },
      "execution_count": 8,
      "outputs": []
    },
    {
      "cell_type": "code",
      "source": [
        "len(stopwords)"
      ],
      "metadata": {
        "id": "PcvgCNO-OI4Z",
        "outputId": "d2112ed1-3095-4805-95f4-59ade46ae801",
        "colab": {
          "base_uri": "https://localhost:8080/"
        }
      },
      "execution_count": 9,
      "outputs": [
        {
          "output_type": "execute_result",
          "data": {
            "text/plain": [
              "4481"
            ]
          },
          "metadata": {},
          "execution_count": 9
        }
      ]
    },
    {
      "cell_type": "code",
      "source": [
        "# elimino acentos de los tokens\n",
        "a,b = 'áàéèíóúü','aaeeiouu'\n",
        "trans = str.maketrans(a,b)\n",
        "lista = []\n",
        "for row in base.values:\n",
        "    row[20]=row[20].translate(trans)\n",
        "    lista.append(row)\n",
        "\n",
        "base = pd.DataFrame(lista, columns=base.columns)"
      ],
      "metadata": {
        "id": "6oEIOU9opvUN"
      },
      "execution_count": 10,
      "outputs": []
    },
    {
      "cell_type": "code",
      "source": [
        "# llevo las stopwords a minúsculas y elimino acentos\n",
        "stopwords=[x.lower() for x in stopwords if type(x)==str]\n",
        "stopwords=[x.translate(trans) for x in stopwords if type(x)==str]"
      ],
      "metadata": {
        "id": "wMKKiWt5oZnO"
      },
      "execution_count": 11,
      "outputs": []
    },
    {
      "cell_type": "markdown",
      "source": [
        "# Ordenes del día"
      ],
      "metadata": {
        "id": "JYOOGZBrh1iG"
      }
    },
    {
      "cell_type": "code",
      "source": [
        "# Hay 28mil órdenes del día únicas\n",
        "len(base.orden.unique())"
      ],
      "metadata": {
        "id": "vOFQIhooh536",
        "outputId": "c2843cd1-7c9b-4ce5-f9a3-0d02d9adeb30",
        "colab": {
          "base_uri": "https://localhost:8080/"
        }
      },
      "execution_count": 12,
      "outputs": [
        {
          "output_type": "execute_result",
          "data": {
            "text/plain": [
              "28566"
            ]
          },
          "metadata": {},
          "execution_count": 12
        }
      ]
    },
    {
      "cell_type": "code",
      "source": [
        "# Para un total de 334mil discursos\n",
        "len(base)"
      ],
      "metadata": {
        "id": "VL5-i0S0iKlH",
        "outputId": "d1039faf-725a-4a54-d366-433fd5f2d7b4",
        "colab": {
          "base_uri": "https://localhost:8080/"
        }
      },
      "execution_count": 13,
      "outputs": [
        {
          "output_type": "execute_result",
          "data": {
            "text/plain": [
              "334421"
            ]
          },
          "metadata": {},
          "execution_count": 13
        }
      ]
    },
    {
      "cell_type": "code",
      "source": [
        "# Este es el listado de las 40 ordenes del día con más discursos, y su número de discursos.\n",
        "base['orden'].value_counts()[:40]"
      ],
      "metadata": {
        "id": "ExaYaFQLkmiV",
        "outputId": "41631fd6-a6bb-4a0c-cc68-85f63f029227",
        "colab": {
          "base_uri": "https://localhost:8080/"
        }
      },
      "execution_count": 14,
      "outputs": [
        {
          "output_type": "execute_result",
          "data": {
            "text/plain": [
              "VOTACIONES:                                                                                                                                                                             939\n",
              "DICTAMENES DE COMISION SOBRE INICIATIVAS LEGISLATIVAS:  — PROYECTO DE LEY DE PRESUPUESTOS GENERALES DEL ESTADO PARA 1989                                                                838\n",
              "PROYECTO DE LEY DE PRESUPUESTOS GENERALES DEL ESTADO PARA 1983                                                                                                                          738\n",
              "-- PROYECTO DE LEY DE PRESUPUESTOS GENERALES DEL ESTADO PARA 1998 (Número                                                                                                               738\n",
              "DICTÁMENES DE COMISIONES SOBRE INICIATIVAS LEGISLATIVAS. -PROYECTO DE LEY DE PRESUPUESTOS GENERALES DEL ESTADO PARA EL AÑO 2006.                                                        701\n",
              "DICTÁMENES DE COMISIONES SOBRE INICIATIVAS LEGISLATIVAS. (CONTINUACIÓN): - PROYECTO DE LEY DE PRESUPUESTOS GENERALES DEL ESTADO PARA EL AÑO 2016. (Número de expediente 121/000163).    646\n",
              "DICTAMENES DE COMISION SOBRE INICIATIVAS LEGISLATIVAS:  — PROYECTO DE LEY DE PRESUPUESTOS GENERALES DEL ESTADO PARA 1993                                                                611\n",
              "DICTÁMENES DE COMISIONES SOBRE INICIATIVAS LEGISLATIVAS. - PROYECTO DE LEY DE PRESUPUESTOS GENERALES DEL ESTADO PARA EL AÑO 2009. (CONTINUACIÓN.) (Número de expediente 121/000009.)    611\n",
              "DICTAMENES DE COMISIONES SOBRE INICIATIVAS LEGISLATIVAS:  — PROYECTO DE LEY ORGANICA DEL PODER JUDICIAL, DE LA COMISION DE JUSTICIA E INTERIOR                                          601\n",
              "PROYECTO DE LEY DE PRESUPUESTOS GENERALES DEL ESTADO PARA 1984                                                                                                                          572\n",
              "--PROYECTO DE LEY DE PRESUPUESTOS GENERALES DEL ESTADO PARA 1997 (Número                                                                                                                560\n",
              "PROYECTO DE LEY ORGANICA DE REFORMA UNIVERSITARIA                                                                                                                                       524\n",
              "- PROYECTO DE LEY DE PRESUPUESTOS GENERALES DEL ESTADO PARA EL AÑO 2004. (Número de expediente 121/000173.) (CONTINUACIÓN.)                                                             505\n",
              "- COMUNICACIÓN DEL GOBIERNO PARA EL DEBATE DE POLÍTICA GENERAL EN TORNO AL ESTADO DE LA NACIÓN. (Número de expediente 200/000004.)                                                      502\n",
              "JURAMENTO O PROMESA DE ACATAMIENTO DE LA CONSTITUCIÓN POR NUEVOS SEÑORES DIPUTADOS.                                                                                                     490\n",
              "de 20 de octubre de 2010). (Número de expediente 121/000098.) ...                                                                                                                       449\n",
              "--COMUNICACION DEL GOBIERNO SOBRE DEBATE DE POLITICA GENERAL EN TORNO AL ESTADO DE LA NACION (Número de expediente                                                                      444\n",
              "- PROYECTO DE LEY DE MEDIDAS FISCALES, ADMINISTRATIVAS Y DEL ORDEN                                                                                                                      435\n",
              "- PROYECTO DE LEY DE PRESUPUESTOS GENERALES DEL ESTADO PARA EL AÑO 2001. (Continuación.) (Número de expediente 121/000016.)                                                             421\n",
              "DICTÁMENES DE COMISIONES SOBRE INICIATIVAS LEGISLATIVAS. (CONTINUACIÓN) - PROYECTO DE LEY DE PRESUPUESTOS GENERALES DEL ESTADO PARA EL AÑO 2005.                                        413\n",
              "- PROYECTO DE LEY DE PRESUPUESTOS GENERALES DEL ESTADO PARA EL AÑO 2002. (Número de expediente 121/000047.) (Continuación.)                                                             400\n",
              "DICTÁMENES DE COMISIONES SOBRE INICIATIVAS LEGISLATIVAS: - PROYECTO DE LEY DE PRESUPUESTOS GENERALES DEL ESTADO PARA EL AÑO 2010. (CONTINUACIÓN.) (Número de expediente 121/000042.)    399\n",
              "- COMUNICACIÓN DEL GOBIERNO PARA EL DEBATE DE POLÍTICA GENERAL EN TORNO AL ESTADO DE LA NACIÓN. (Número de expediente 200/000002.)                                                      393\n",
              "DICTÁMENES DE COMISIONES SOBRE INICIATIVAS LEGISLATIVAS. (CONTINUACIÓN). - PROYECTO DE LEY DE PRESUPUESTOS GENERALES DEL ESTADO PARA EL AÑO 2015. (Número de expediente 121/000118).    381\n",
              "DICTÁMENES DE COMISIONES SOBRE INICIATIVAS LEGISLATIVAS. (CONTINUACIÓN): - PROYECTO DE LEY DE PRESUPUESTOS GENERALES DEL ESTADO PARA EL AÑO 2014. (Número de expediente 121/000069).    368\n",
              "DICTÁMENES DE COMISIONES SOBRE INICIATIVAS LEGISLATIVAS. - PROYECTO DE LEY DE PRESUPUESTOS GENERALES DEL ESTADO PARA EL AÑO 2008. (CONTINUACIÓN.) (Número de expediente 121/000149.)    367\n",
              "DEBATE SOBRE LA INVESTIDURA DEL CANDIDATO A LA PRESIDENCIA DEL GOBIERNO. (CONTINUACIÓN). (Número de expediente 080/000001).                                                             365\n",
              "DICTÁMENES DE COMISIONES SOBRE INCIATIVAS LEGISLATIVAS. (CONTINUACIÓN). - PROYECTO DE LEY DE PRESUPUESTOS GENERALES DEL ESTADO PARA EL AÑO 2013. (Número de expediente 121/000027).     362\n",
              "- COMUNICACIÓN DEL GOBIERNO PARA EL DEBATE DE POLÍTICA GENERAL EN TORNO AL ESTADO DE LA NACIÓN. (Número de expediente 200/000001.)                                                      341\n",
              "DICTÁMENES DE COMISIONES SOBRE INICIATIVAS LEGISLATIVAS. (CONTINUACIÓN). - PROYECTO DE LEY DE PRESUPUESTOS GENERALES DEL ESTADO PARA EL AÑO 2012. (Número de expediente 121/000008).    334\n",
              "DICTAMENES DE COMISION SOBRE INICIATIVAS LEGISLATIVAS:  — PROYECTO DE LEY DE PRESUPUESTOS GENE RALES DEL ESTADO PARA 1988                                                               322\n",
              "- PROYECTO DE LEY DE PRESUPUESTOS GENERALES DEL ESTADO PARA 1999 (Número de expediente 121/000141) (Continuación).                                                                      318\n",
              "JURAMENTO O PROMESA DE ACATAMIENTO A LA CONSTITUCION POR NUEVOS SEÑORES DIPUTADOS                                                                                                       310\n",
              "CUESTIONES DE ORDEN                                                                                                                                                                     307\n",
              "- PROYECTO DE LEY DE PRESUPUESTOS GENERALES DEL ESTADO PARA 1999.                                                                                                                       306\n",
              "DICTAMENES DE COMISION SOBRE INICIATIVAS LEGISLATIVAS:  -— PROYECTO DE LEY DE PRESUPUESTOS GENEÉRALES DEL ESTADO PARA 1991                                                              305\n",
              "DICTAMENES DE COMISION:  — DE JUSTICIA E INTERIOR, SOBRE EL PROYECTO DE LEY ORGANICA DE RE. FORMA URGENTE Y PARCIAL DEL CODI. GO PENAL (CONTINUACION)                                   293\n",
              "DICTAMENES DE COMISION SOBRE INICIATIVAS LEGISLATIVAS  — PROYECTO DE LEY SOBRE PRESUPUESTOS GENERALES DEL ESTADO PARA 1985                                                              292\n",
              "--PROYECTO DE LEY DE PRESUPUESTOS GENERALES DEL ESTADO PARA                                                                                                                             288\n",
              "DICTÁMENES DE COMISIONES SOBRE INICIATIVAS LEGISLATIVAS: - PROYECTO DE LEY DE PRESUPUESTOS GENERALES DEL ESTADO PARA EL AÑO 2008. (CONTINUACIÓN.) (Número de expediente 121/000149.)    287\n",
              "Name: orden, dtype: int64"
            ]
          },
          "metadata": {},
          "execution_count": 14
        }
      ]
    },
    {
      "cell_type": "code",
      "source": [
        "base['orden'].value_counts()[:20].plot(kind='barh')"
      ],
      "metadata": {
        "colab": {
          "base_uri": "https://localhost:8080/",
          "height": 0
        },
        "id": "uAp32V_Syqmg",
        "outputId": "a7e0408f-c0f5-4430-ae42-48c2aa15637d"
      },
      "execution_count": 15,
      "outputs": [
        {
          "output_type": "execute_result",
          "data": {
            "text/plain": [
              "<AxesSubplot:>"
            ]
          },
          "metadata": {},
          "execution_count": 15
        },
        {
          "output_type": "display_data",
          "data": {
            "text/plain": [
              "<Figure size 432x288 with 1 Axes>"
            ],
            "image/png": "[encoded data removed]"
          },
          "metadata": {
            "needs_background": "light"
          }
        }
      ]
    },
    {
      "cell_type": "code",
      "source": [
        "import numpy as np\n",
        "\n",
        "for e in (5,10, 25, 50, 80, 95):\n",
        "  print(f\"Percentil \" +str(e)+ \": \"+ str(np.percentile(base['orden'].value_counts(), e)))"
      ],
      "metadata": {
        "colab": {
          "base_uri": "https://localhost:8080/"
        },
        "id": "xtuq8rOs1ArN",
        "outputId": "a5204032-0712-4d80-c4a1-68ad5b9ef352"
      },
      "execution_count": 16,
      "outputs": [
        {
          "output_type": "stream",
          "name": "stdout",
          "text": [
            "Percentil 5: 2.0\n",
            "Percentil 10: 2.0\n",
            "Percentil 25: 5.0\n",
            "Percentil 50: 7.0\n",
            "Percentil 80: 14.0\n",
            "Percentil 95: 30.0\n"
          ]
        }
      ]
    },
    {
      "cell_type": "code",
      "source": [
        "import seaborn\n",
        "from scipy.stats import binom\n",
        "ax=seaborn.distplot(base['orden'].value_counts(),\n",
        "                kde=True,\n",
        "                color='blue',\n",
        "                hist_kws={\"linewidth\": 22})"
      ],
      "metadata": {
        "colab": {
          "base_uri": "https://localhost:8080/",
          "height": 0
        },
        "id": "LXKp3hUW1rRj",
        "outputId": "fc611b77-291b-4bda-b7bf-d7a9f2c5f959"
      },
      "execution_count": 17,
      "outputs": [
        {
          "output_type": "stream",
          "name": "stderr",
          "text": [
            "/usr/local/lib/python3.9/dist-packages/seaborn/distributions.py:2619: FutureWarning: `distplot` is a deprecated function and will be removed in a future version. Please adapt your code to use either `displot` (a figure-level function with similar flexibility) or `histplot` (an axes-level function for histograms).\n",
            "  warnings.warn(msg, FutureWarning)\n"
          ]
        },
        {
          "output_type": "display_data",
          "data": {
            "text/plain": [
              "<Figure size 432x288 with 1 Axes>"
            ],
            "image/png": "[encoded data removed]"
          },
          "metadata": {
            "needs_background": "light"
          }
        }
      ]
    },
    {
      "cell_type": "code",
      "source": [
        "# Se genera una base corta que contiene solo los discursos que pertenecen en alguna de las 100 ordenes del día más frecuentes\n",
        "base_corta=base.loc[base['orden'].isin(base['orden'].value_counts()[:100].keys())]"
      ],
      "metadata": {
        "id": "e6Jzhtia-zg7"
      },
      "execution_count": 18,
      "outputs": []
    },
    {
      "cell_type": "code",
      "source": [
        "# elimino acentos de las ordenes del día y las convierto a minúscula\n",
        "a,b = 'áàéèíóúü','aaeeiouu'\n",
        "trans = str.maketrans(a,b)\n",
        "lista = []\n",
        "for row in base.values:\n",
        "    row[1]=str(row[1]).translate(trans)\n",
        "    row[1]=row[1].lower()\n",
        "    lista.append(row)\n",
        "\n",
        "base = pd.DataFrame(lista, columns=base.columns)"
      ],
      "metadata": {
        "id": "rvjZzLlnDY0b"
      },
      "execution_count": 19,
      "outputs": []
    },
    {
      "cell_type": "markdown",
      "source": [
        "# LDA sobre ordenes del día"
      ],
      "metadata": {
        "id": "jgIEKxoMDAkY"
      }
    },
    {
      "cell_type": "code",
      "source": [
        "from sklearn.decomposition import LatentDirichletAllocation\n",
        "from sklearn.feature_extraction.text import CountVectorizer\n",
        "vect = CountVectorizer(ngram_range=(1,1), stop_words=stopwords, max_df=0.995 , min_df=0.005)\n",
        "bow_ordenes = vect.fit_transform(base['orden'])\n",
        "lda = LatentDirichletAllocation(n_components=15, max_iter=50, learning_method='batch', learning_offset=50.,random_state=0)     \n",
        "lda.fit(bow_ordenes)"
      ],
      "metadata": {
        "colab": {
          "base_uri": "https://localhost:8080/",
          "height": 92
        },
        "id": "ZwbwwpjZDCcl",
        "outputId": "51236e6d-0147-42ba-d694-e2225d0d8f4c"
      },
      "execution_count": null,
      "outputs": [
        {
          "output_type": "execute_result",
          "data": {
            "text/plain": [
              "LatentDirichletAllocation(learning_offset=50.0, max_iter=50, n_components=15,\n",
              "                          random_state=0)"
            ],
            "text/html": [
              "<style>#sk-container-id-4 {color: black;background-color: white;}#sk-container-id-4 pre{padding: 0;}#sk-container-id-4 div.sk-toggleable {background-color: white;}#sk-container-id-4 label.sk-toggleable__label {cursor: pointer;display: block;width: 100%;margin-bottom: 0;padding: 0.3em;box-sizing: border-box;text-align: center;}#sk-container-id-4 label.sk-toggleable__label-arrow:before {content: \"▸\";float: left;margin-right: 0.25em;color: #696969;}#sk-container-id-4 label.sk-toggleable__label-arrow:hover:before {color: black;}#sk-container-id-4 div.sk-estimator:hover label.sk-toggleable__label-arrow:before {color: black;}#sk-container-id-4 div.sk-toggleable__content {max-height: 0;max-width: 0;overflow: hidden;text-align: left;background-color: #f0f8ff;}#sk-container-id-4 div.sk-toggleable__content pre {margin: 0.2em;color: black;border-radius: 0.25em;background-color: #f0f8ff;}#sk-container-id-4 input.sk-toggleable__control:checked~div.sk-toggleable__content {max-height: 200px;max-width: 100%;overflow: auto;}#sk-container-id-4 input.sk-toggleable__control:checked~label.sk-toggleable__label-arrow:before {content: \"▾\";}#sk-container-id-4 div.sk-estimator input.sk-toggleable__control:checked~label.sk-toggleable__label {background-color: #d4ebff;}#sk-container-id-4 div.sk-label input.sk-toggleable__control:checked~label.sk-toggleable__label {background-color: #d4ebff;}#sk-container-id-4 input.sk-hidden--visually {border: 0;clip: rect(1px 1px 1px 1px);clip: rect(1px, 1px, 1px, 1px);height: 1px;margin: -1px;overflow: hidden;padding: 0;position: absolute;width: 1px;}#sk-container-id-4 div.sk-estimator {font-family: monospace;background-color: #f0f8ff;border: 1px dotted black;border-radius: 0.25em;box-sizing: border-box;margin-bottom: 0.5em;}#sk-container-id-4 div.sk-estimator:hover {background-color: #d4ebff;}#sk-container-id-4 div.sk-parallel-item::after {content: \"\";width: 100%;border-bottom: 1px solid gray;flex-grow: 1;}#sk-container-id-4 div.sk-label:hover label.sk-toggleable__label {background-color: #d4ebff;}#sk-container-id-4 div.sk-serial::before {content: \"\";position: absolute;border-left: 1px solid gray;box-sizing: border-box;top: 0;bottom: 0;left: 50%;z-index: 0;}#sk-container-id-4 div.sk-serial {display: flex;flex-direction: column;align-items: center;background-color: white;padding-right: 0.2em;padding-left: 0.2em;position: relative;}#sk-container-id-4 div.sk-item {position: relative;z-index: 1;}#sk-container-id-4 div.sk-parallel {display: flex;align-items: stretch;justify-content: center;background-color: white;position: relative;}#sk-container-id-4 div.sk-item::before, #sk-container-id-4 div.sk-parallel-item::before {content: \"\";position: absolute;border-left: 1px solid gray;box-sizing: border-box;top: 0;bottom: 0;left: 50%;z-index: -1;}#sk-container-id-4 div.sk-parallel-item {display: flex;flex-direction: column;z-index: 1;position: relative;background-color: white;}#sk-container-id-4 div.sk-parallel-item:first-child::after {align-self: flex-end;width: 50%;}#sk-container-id-4 div.sk-parallel-item:last-child::after {align-self: flex-start;width: 50%;}#sk-container-id-4 div.sk-parallel-item:only-child::after {width: 0;}#sk-container-id-4 div.sk-dashed-wrapped {border: 1px dashed gray;margin: 0 0.4em 0.5em 0.4em;box-sizing: border-box;padding-bottom: 0.4em;background-color: white;}#sk-container-id-4 div.sk-label label {font-family: monospace;font-weight: bold;display: inline-block;line-height: 1.2em;}#sk-container-id-4 div.sk-label-container {text-align: center;}#sk-container-id-4 div.sk-container {/* jupyter's `normalize.less` sets `[hidden] { display: none; }` but bootstrap.min.css set `[hidden] { display: none !important; }` so we also need the `!important` here to be able to override the default hidden behavior on the sphinx rendered scikit-learn.org. See: https://github.com/scikit-learn/scikit-learn/issues/21755 */display: inline-block !important;position: relative;}#sk-container-id-4 div.sk-text-repr-fallback {display: none;}</style><div id=\"sk-container-id-4\" class=\"sk-top-container\"><div class=\"sk-text-repr-fallback\"><pre>LatentDirichletAllocation(learning_offset=50.0, max_iter=50, n_components=15,\n",
              "                          random_state=0)</pre><b>In a Jupyter environment, please rerun this cell to show the HTML representation or trust the notebook. <br />On GitHub, the HTML representation is unable to render, please try loading this page with nbviewer.org.</b></div><div class=\"sk-container\" hidden><div class=\"sk-item\"><div class=\"sk-estimator sk-toggleable\"><input class=\"sk-toggleable__control sk-hidden--visually\" id=\"sk-estimator-id-4\" type=\"checkbox\" checked><label for=\"sk-estimator-id-4\" class=\"sk-toggleable__label sk-toggleable__label-arrow\">LatentDirichletAllocation</label><div class=\"sk-toggleable__content\"><pre>LatentDirichletAllocation(learning_offset=50.0, max_iter=50, n_components=15,\n",
              "                          random_state=0)</pre></div></div></div></div></div>"
            ]
          },
          "metadata": {},
          "execution_count": 36
        }
      ]
    },
    {
      "cell_type": "code",
      "source": [
        "bow_ordenes.shape"
      ],
      "metadata": {
        "colab": {
          "base_uri": "https://localhost:8080/"
        },
        "id": "Tkb0Tn9IfP3c",
        "outputId": "a1a6b839-e752-4b0d-eb69-496cf78d749a"
      },
      "execution_count": null,
      "outputs": [
        {
          "data": {
            "text/plain": [
              "(334421, 477)"
            ]
          },
          "execution_count": 37,
          "metadata": {},
          "output_type": "execute_result"
        }
      ]
    },
    {
      "cell_type": "code",
      "source": [
        "def display_topics(model, feature_names, no_top_words):\n",
        "    for topic_idx, topic in enumerate(model.components_):\n",
        "        print(\"Topic %d:\" % (topic_idx + 1))\n",
        "        print(\" , \".join([feature_names[i] for i in topic.argsort()[:-no_top_words - 1:-1]]))"
      ],
      "metadata": {
        "id": "L_UtUeDRIZ9d"
      },
      "execution_count": null,
      "outputs": []
    },
    {
      "cell_type": "code",
      "source": [
        "# Topics by weights\n",
        "display_topics(lda, feature_names=vect.get_feature_names_out(), no_top_words=20)"
      ],
      "metadata": {
        "colab": {
          "base_uri": "https://localhost:8080/"
        },
        "id": "j_i_mI0LIbzY",
        "outputId": "9f37d4f8-6c40-4cf1-ef2f-138035ada1f2"
      },
      "execution_count": null,
      "outputs": [
        {
          "output_type": "stream",
          "name": "stdout",
          "text": [
            "Topic 1:\n",
            "numero , expediente , acuerdo , diciembre , 130 , hecho , convenio , reino , 110 , presupuestaria , noviembre , junio , modifica , mayo , abril , octubre , reforma , estabilidad , marzo , relativo\n",
            "Topic 2:\n",
            "nacional , judicial , poder , justicia , general , consejo , plan , 000 , control , tribunal , ejercicio , pesetas , cuentas , actividades , motivo , propuestas , 1985 , importe , millones , fondos\n",
            "Topic 3:\n",
            "presupuestos , generales , proyecto , numero , expediente , 121 , legislativas , iniciativas , comisiones , dictámenes , continuación , 1983 , 1984 , 2006 , 2010 , 000009 , 000013 , 2009 , votación , 2013\n",
            "Topic 4:\n",
            "numero , expediente , comparecencia , informar , pleno , cámara , reales , 210 , leyes , decretos , día , convalidación , derogación , petición , consejo , europeo , reglamento , 213 , propia , 130\n",
            "Topic 5:\n",
            "numero , expediente , congreso , 162 , 173 , 172 , relativa , catalán , unió , federal , convergència , medidas , política , proposiciones , creación , relación , adoptar , unión , situación , sector\n",
            "Topic 6:\n",
            "122 , numero , expediente , proposiciones , toma , orgánica , consideración , modificación , cultura , educación , congreso , proposición , comunidades , autónomas , deporte , agricultura , reforma , pesca , consideracion , parlamento\n",
            "Topic 7:\n",
            "grupos , europea , parte , comparecencia , comision , politica , situacion , parlamentarios , respecto , relacion , defensa , hecho , sido , diputados , formulada , trabajo , ministerio , caso , debate , presidencia\n",
            "Topic 8:\n",
            "debate , numero , expediente , general , comunicación , torno , diputados , 200 , política , nación , unidos , comunicacion , 000001 , comú , confederal , presidencia , promesa , nuevos , nacion , juramento\n",
            "Topic 9:\n",
            "urgentes , interpelaciones , consecuencia , medidas , mociones , numero , expediente , 173 , agrupacion , seguridad , materia , paliar , adoptar , votación , plural , conjunto , tributaria , efectos , diputados , relación\n",
            "Topic 10:\n",
            "formula , numero , expediente , 180 , congreso , asuntos , seguridad , trabajo , sanidad , sociales , igualdad , servicios , exteriores , consumo , empleo , qué , cuales , ministerio , sr , cooperación\n",
            "Topic 11:\n",
            "proyecto , comision , iniciativas , legislativas , dictamenes , totalidad , organica , debates , presupuestos , generales , comisiones , dictamen , regimen , justicia , comisión , reforma , constitucional , general , reguladora , interior\n",
            "Topic 12:\n",
            "formula , numero , expediente , 180 , congreso , qué , interior , maría , vicepresidente , economía , medio , ministerio , considera , industria , turismo , ambiente , cómo , josé , fomento , justicia\n",
            "Topic 13:\n",
            "estatuto , reforma , impuesto , trabajadores , articulo , proposicion , locales , seguridad , comunidades , autonomas , laboral , forma , empleo , trabajo , comunidad , hecho , enmiendas , autonomia , acuerdo , educacion\n",
            "Topic 14:\n",
            "proyecto , numero , expediente , 121 , orgánica , medidas , senado , fiscales , enmiendas , penal , civil , organica , reforma , administrativas , codigo , reguladora , modifica , votaciones , código , renta\n",
            "Topic 15:\n",
            "medidas , formula , piensa , adoptar , congreso , politica , general , administraciones , públicas , hacienda , publicas , economia , relacion , publica , obras , excelentisimo , sector , previsto , publico , transportes\n"
          ]
        }
      ]
    },
    {
      "cell_type": "code",
      "source": [
        "from numpy import argsort\n",
        "import statistics\n",
        "from statistics import mode\n",
        "from scipy.special import logsumexp\n",
        "import scipy as sp\n",
        "     \n",
        "\n",
        "def frex(mod, w=0.7):\n",
        "    log_beta = np.log(mod.components_)\n",
        "    log_exclusivity = log_beta - logsumexp(log_beta, axis=0)\n",
        "    exclusivity_ecdf = np.apply_along_axis(ecdf, 1, log_exclusivity)\n",
        "    freq_ecdf = np.apply_along_axis(ecdf, 1, log_beta)\n",
        "    out = 1. / (w / exclusivity_ecdf + (1 - w) / freq_ecdf)\n",
        "    return out\n",
        "\n",
        "def ecdf(arr):\n",
        "    return sp.stats.rankdata(arr, method='max') / arr.size\n",
        "     \n",
        "\n",
        "def display_topics_frex(model, feature_names, no_top_words):\n",
        "    for topic_idx, topic in enumerate(frex(model)):\n",
        "        print(\"Topic %d:\" % (topic_idx + 1))\n",
        "        print(\" , \".join([feature_names[i] for i in topic.argsort()[:-no_top_words - 1:-1]]))"
      ],
      "metadata": {
        "id": "OcgKYtsnKMI-"
      },
      "execution_count": null,
      "outputs": []
    },
    {
      "cell_type": "code",
      "source": [
        "# Topics by frex\n",
        "display_topics_frex(lda, feature_names=vect.get_feature_names_out(), no_top_words=20)"
      ],
      "metadata": {
        "colab": {
          "base_uri": "https://localhost:8080/"
        },
        "id": "-rafDH_uKQAv",
        "outputId": "8a0b7e89-3160-4243-e54d-ded444a71eb5"
      },
      "execution_count": null,
      "outputs": [
        {
          "output_type": "stream",
          "name": "stdout",
          "text": [
            "Topic 1:\n",
            "presupuestaria , 110 , estabilidad , convenio , mayo , reino , abril , 26 , noviembre , diciembre , 24 , 17 , relativo , autonomía , 13 , 22 , octubre , 27 , acuerdo , 28\n",
            "Topic 2:\n",
            "judicial , nacional , pesetas , cuentas , importe , poder , motivo , ejercicio , control , fondos , actividades , 000 , tribunal , plan , millones , resolución , extraordinario , correspondiente , propuestas , justicia\n",
            "Topic 3:\n",
            "generales , dictámenes , presupuestos , 1983 , 1984 , continuación , comisiones , 000013 , 000009 , 2006 , 121 , 2010 , 2009 , legislativas , 2015 , 2013 , 1998 , iniciativas , 1997 , 2003\n",
            "Topic 4:\n",
            "cámara , convalidación , derogación , 210 , informar , días , decretos , reales , 203 , día , conformidad , pleno , adoptan , petición , celebrado , comparecencia , 213 , leyes , 062 , dispuesto\n",
            "Topic 5:\n",
            "catalán , unió , 172 , 162 , convergència , relativa , 173 , creación , federal , políticas , insta , posición , política , unión , investigación , situación , relación , impulsar , ayudas , violencia\n",
            "Topic 6:\n",
            "122 , consideración , toma , proposición , deporte , autónomas , cultura , educación , modificación , proposiciones , consideracion , minoria , catalana , alimentacion , pesca , orgánica , agricultura , electoral , constitucional , parlamento\n",
            "Topic 7:\n",
            "grupos , parlamentarios , formulada , parte , situacion , irak , solicitud , europea , ministros , respecto , sido , proceso , caso , mismo , miembros , van , parlamento , relacion , defensa , dar\n",
            "Topic 8:\n",
            "comunicación , comú , confederal , promesa , 200 , nación , torno , juramento , acatamiento , candidato , constitución , comunicacion , debate , nacion , 000001 , nuevos , unidos , 000002 , diputados , general\n",
            "Topic 9:\n",
            "interpelaciones , urgentes , mociones , consecuencia , agrupacion , paliar , tributaria , plural , conjunto , 173 , medidas , votación , efectos , financiera , mejora , coalición , urgente , materia , relación , presupuestaria\n",
            "Topic 10:\n",
            "igualdad , sr , sanidad , excmo , asuntos , consumo , sociales , inmigración , cooperación , exteriores , trabajo , servicios , seguridad , mujeres , relaciones , cuales , empleo , formula , razones , pensiones\n",
            "Topic 11:\n",
            "dictamenes , dictamen , comision , debates , totalidad , legislativas , iniciativas , rales , gene , organica , regimen , proyecto , constitucional , bases , 1989 , 1990 , 1988 , comisiones , comisión , reguladora\n",
            "Topic 12:\n",
            "turismo , preguntas , maría , josé , qué , sánchez , ambiente , 180 , pérez , garcía , rodríguez , alimentación , economía , jesús , cuál , considera , cuáles , senor , está , cómo\n",
            "Topic 13:\n",
            "locales , proposicion , estatuto , trabajadores , autonomia , impuesto , articulos , recursos , profesional , laboral , articulo , educacion , forma , determinados , autonomas , aplicacion , texto , especial , competencias , asi\n",
            "Topic 14:\n",
            "administrativas , fiscales , código , votaciones , senado , penal , 121 , renta , civil , codigo , enmiendas , procedente , orgánica , proyecto , reguladora , enjuiciamiento , 1995 , modifica , parcial , régimen\n",
            "Topic 15:\n",
            "públicas , administraciones , adoptar , piensa , economia , transportes , excelentisimo , obras , publica , politica , publicas , tomar , hacienda , publico , empresa , medidas , evitar , administracion , relacion , previsto\n"
          ]
        }
      ]
    },
    {
      "cell_type": "markdown",
      "source": [
        "# A mano"
      ],
      "metadata": {
        "id": "vo6p_pNQYRY0"
      }
    },
    {
      "cell_type": "code",
      "source": [
        "base.shape"
      ],
      "metadata": {
        "colab": {
          "base_uri": "https://localhost:8080/"
        },
        "id": "mtar4-7uYd5t",
        "outputId": "8fb47c1e-40e0-4d27-b865-4ba103c54be0"
      },
      "execution_count": 20,
      "outputs": [
        {
          "output_type": "execute_result",
          "data": {
            "text/plain": [
              "(334421, 21)"
            ]
          },
          "metadata": {},
          "execution_count": 20
        }
      ]
    },
    {
      "cell_type": "code",
      "source": [
        "'convenio' in 'convenio hispano chileno de  seguridad social entre el gobier no de la republica de chile y el gobierno de españa'"
      ],
      "metadata": {
        "colab": {
          "base_uri": "https://localhost:8080/"
        },
        "id": "Rgm3m5yCcTv-",
        "outputId": "3820a820-bd17-4dba-df8e-589c728d7fc7"
      },
      "execution_count": 21,
      "outputs": [
        {
          "output_type": "execute_result",
          "data": {
            "text/plain": [
              "True"
            ]
          },
          "metadata": {},
          "execution_count": 21
        }
      ]
    },
    {
      "cell_type": "code",
      "source": [
        "base['reglas y procedemientos']=0\n",
        "base['Administración']=0\n",
        "base['Economía']=0\n",
        "base['Energía']=0\n",
        "base['Seguridad']=0\n",
        "base['Política Laboral']=0\n",
        "base['Transporte']=0\n",
        "base['Comunicaciones']=0\n",
        "base['Social']=0\n",
        "base['Educación']=0\n",
        "base['Seguridad Social']=0\n",
        "base['Justicia']=0\n",
        "base['Internacionales']=0\n",
        "base['Política Interna']=0\n",
        "base['Otros']=0\n",
        "\n",
        "lista=[]\n",
        "for row in base.values:\n",
        "  \n",
        "  # Reglas y Procedimientos\n",
        "    if 'dictamen' in row[1]: row[21]=1\n",
        "    if 'designacion' in row[1]: row[21]=1\n",
        "    if 'decreto' in row[1]: row[21]=1\n",
        "    if 'ley' in row[1]: row[21]=1\n",
        "    if 'constitucion' in row[1]: row[21]=1\n",
        "    if 'decisiones' in row[1]: row[21]=1\n",
        "    if 'orden' in row[1]: row[21]=1\n",
        "    if 'votacion' in row[1]: row[21]=1\n",
        "    if 'intervencion' in row[1]: row[21]=1\n",
        "    if 'nuevo gobierno' in row[1]: row[21]=1\n",
        "    if 'resolucion' in row[1]: row[21]=1\n",
        "    if 'modificacion' in row[1]: row[21]=1\n",
        "    if 'comision' in row[1]: row[21]=1\n",
        "    if 'comisión' in row[1]: row[21]=1\n",
        "    if 'comi sion' in row[1]: row[21]=1\n",
        "    if 'parlamentario' in row[1]: row[21]=1\n",
        "    if 'presidencia' in row[1]: row[21]=1\n",
        "    if 'presupuestos generales' in row[1]: row[21]=1\n",
        "    if 'comunicacion del gobierno' in row[1]: row[21]=1\n",
        "    if 'referendum' in row[1]: row[21]=1\n",
        "    if 'eleccion' in row[1]: row[21]=1\n",
        "    if 'miembros de la mesa' in row[1]: row[21]=1\n",
        "    if 'diputa' in row[1]: row[21]=1\n",
        "    if 'institucional' in row[1]: row[21]=1\n",
        "    if 'legislativ' in row[1]: row[21]=1\n",
        "    if 'mocion de censura' in row[1]: row[21]=1\n",
        "    if 'constitución' in row[1]: row[21]=1\n",
        "    if 'juramento' in row[1]: row[21]=1\n",
        "    if 'extraordinaria' in row[1]: row[21]=1\n",
        "    if 'extraorinaria' in row[1]: row[21]=1\n",
        "    if 'votación de conjunto' in row[1]: row[21]=1\n",
        "    if 'reglamento del congreso' in row[1]: row[21]=1\n",
        "    if 'prórroga de plazo' in row[1]: row[21]=1\n",
        "    if 'autoprotección de la cámara' in row[1]: row[21]=1\n",
        "    if 'avocación por el pleno' in row[1]: row[21]=1\n",
        "    if 'minuto de silencio' in row[1]: row[21]=1\n",
        "    if 'prórrogas de plazo' in row[1]: row[21]=1\n",
        "    if 'exclusión de los puntos' in row[1]: row[21]=1\n",
        "    if 'canje de notas' in row[1]: row[21]=1\n",
        "    if 'tramitación directa y en lectura única' in row[1]: row[21]=1\n",
        "    if 'votación final' in row[1]: row[21]=1\n",
        "    \n",
        "\n",
        "  # Administración\n",
        "    if 'gobierno' in row[1]: row[22]=1\n",
        "    if 'administra' in row[1]: row[22]=1\n",
        "    if 'funcionarios' in row[1]: row[22]=1\n",
        "    if 'acuerdo' in row[1]: row[22]=1\n",
        "    if 'ejecutivo' in row[1]: row[22]=1\n",
        "    if 'publica' in row[1]: row[22]=1\n",
        "    if 'minist' in row[1]: row[22]=1\n",
        "    if 'el rey' in row[1]: row[22]=1\n",
        "    if 'president' in row[1]: row[22]=1\n",
        "    if 'secretari' in row[1]: row[22]=1\n",
        "  \n",
        "  # Economía\n",
        "    if 'economi' in row[1]: row[23]=1\n",
        "    if 'empresa' in row[1]: row[23]=1\n",
        "    if 'desequilibrios territoriales' in row[1]: row[23]=1\n",
        "    if 'presupuesto' in row[1]: row[23]=1\n",
        "    if 'industria' in row[1]: row[23]=1\n",
        "    if 'agricultura' in row[1]: row[23]=1\n",
        "    if 'import' in row[1]: row[23]=1\n",
        "    if 'export' in row[1]: row[23]=1\n",
        "    if 'miner' in row[1]: row[23]=1\n",
        "    if 'olivare' in row[1]: row[23]=1\n",
        "    if 'pesca' in row[1]: row[23]=1\n",
        "    if 'garbanzo' in row[1]: row[23]=1\n",
        "    if 'sector' in row[1]: row[23]=1\n",
        "    if 'precio' in row[1]: row[23]=1\n",
        "    if 'siderurg' in row[1]: row[23]=1\n",
        "    if 'financiac' in row[1]: row[23]=1\n",
        "    if 'agraria' in row[1]: row[23]=1\n",
        "    if 'impuesto' in row[1]: row[23]=1\n",
        "    if 'salario' in row[1]: row[23]=1\n",
        "    if 'zona franca' in row[1]: row[23]=1\n",
        "    if 'plan informatico' in row[1]: row[23]=1\n",
        "    if 'arrendamiento' in row[1]: row[23]=1\n",
        "    if 'financier' in row[1]: row[23]=1\n",
        "    if 'pesquer' in row[1]: row[23]=1\n",
        "    if 'deuda' in row[1]: row[23]=1\n",
        "    if 'comercio' in row[1]: row[23]=1\n",
        "    if 'tribunal de cuentas' in row[1]: row[23]=1\n",
        "    if 'forppa' in row[1]: row[23]=1\n",
        "    if 'sociedades de garantia reciproca' in row[1]: row[23]=1\n",
        "    if 'feoga' in row[1]: row[23]=1\n",
        "    if 'competencia' in row[1]: row[23]=1\n",
        "    if 'caucho' in row[1]: row[23]=1\n",
        "    if 'fondo monetario' in row[1]: row[23]=1\n",
        "    if 'inversion' in row[1]: row[23]=1\n",
        "    if 'bankia' in row[1]: row[23]=1\n",
        "    if 'icac' in row[1]: row[23]=1\n",
        "\n",
        "  #Energía\n",
        "    if 'politica energetica' in row[1]: row[24]=1\n",
        "    if 'energetic' in row[1]: row[24]=1\n",
        "    if 'central nuclear' in row[1]: row[24]=1\n",
        "    if 'petrol' in row[1]: row[24]=1\n",
        "    if 'hunosa' in row[1]: row[24]=1\n",
        "    if 'embalse de jánovas' in row[1]: row[24]=1\n",
        "    if 'energia' in row[1]: row[24]=1\n",
        "  \n",
        "  # Seguridad\n",
        "    if 'seguridad' in row[1]: row[25]=1\n",
        "    if 'proteccion' in row[1]: row[25]=1\n",
        "    if 'ejercito' in row[1]: row[25]=1\n",
        "    if 'policia' in row[1]: row[25]=1\n",
        "    if 'carceles' in row[1]: row[25]=1\n",
        "    if 'avion' in row[1]: row[25]=1\n",
        "    if 'servicio civil' in row[1]: row[25]=1\n",
        "    if 'arma' in row[1]: row[25]=1\n",
        "    if 'atentado' in row[1]: row[25]=1\n",
        "    if 'militar' in row[1]: row[25]=1\n",
        "    if 'incidentes' in row[1]: row[25]=1\n",
        "    if 'terroris' in row[1]: row[25]=1\n",
        "    if 'misil' in row[1]: row[25]=1\n",
        "    if 'tortura' in row[1]: row[25]=1\n",
        "    if 'fuerzas españolas' in row[1]: row[25]=1\n",
        "    if 'numero de llamada de emergencia' in row[1]: row[25]=1\n",
        "    \n",
        "\n",
        "  # Política laboral\n",
        "    if 'politica laboral' in row[1]: row[26]=1\n",
        "    if 'laboral' in row[1]: row[26]=1\n",
        "    if 'patrimonio sindical' in row[1]: row[26]=1  \n",
        "    if 'trabaj' in row[1]: row[26]=1\n",
        "    if 'empleo' in row[1]: row[26]=1\n",
        "    if 'oit' in row[1]: row[26]=1\n",
        "\n",
        "  # Transporte\n",
        "    if 'aereo' in row[1]: row[27]=1\n",
        "    if 'aviacion' in row[1]: row[27]=1\n",
        "    if 'aeronaval' in row[1]: row[27]=1\n",
        "    if 'ferrocarril' in row[1]: row[27]=1\n",
        "    if 'carretera' in row[1]: row[27]=1\n",
        "    if 'flota mercante' in row[1]: row[27]=1\n",
        "    if 'grupo iberia' in row[1]: row[27]=1\n",
        "    if 'arrastrero' in row[1]: row[27]=1\n",
        "    if 'seitt' in row[1]: row[27]=1\n",
        "  \n",
        "  # Comunicaciones  \n",
        "    if 'televisi' in row[1]: row[28]=1\n",
        "    if 'periodico' in row[1]: row[28]=1\n",
        "    if 'comunicacion' in row[1]: row[28]=1\n",
        "    if 'cinematog' in row[1]: row[28]=1\n",
        "    if 'no-do' in row[1]: row[28]=1\n",
        "    if 'tve' in row[1]: row[28]=1\n",
        "    if 'telefon' in row[1]: row[28]=1\n",
        "\n",
        "  # Sociedad\n",
        "    if 'divorcio' in row[1]: row[29]=1\n",
        "    if 'futbol' in row[1]: row[29]=1\n",
        "    if 'dia de la' in row[1]: row[29]=1\n",
        "    if 'censo' in row[1]: row[29]=1\n",
        "    if 'mujer' in row[1]: row[29]=1\n",
        "    if 'jornada maxima' in row[1]: row[29]=1\n",
        "    if 'codigo civil' in row[1]: row[29]=1\n",
        "    if 'parque nacional' in row[1]: row[29]=1\n",
        "\n",
        "  # Educación, Ciencia y Tecnología\n",
        "    if 'colegio' in row[1]: row[30]=1\n",
        "    if 'enseñanza' in row[1]: row[30]=1\n",
        "    if 'escolar' in row[1]: row[30]=1\n",
        "    if 'educacion' in row[1]: row[30]=1\n",
        "    if 'educación' in row[1]: row[30]=1\n",
        "    if 'alumno' in row[1]: row[30]=1\n",
        "    if 'bachillerato' in row[1]: row[30]=1\n",
        "    if 'escuela' in row[1]: row[30]=1\n",
        "    if 'cientifica' in row[1]: row[30]=1\n",
        "    if 'educativo' in row[1]: row[30]=1\n",
        "    if 'technological' in row[1]: row[30]=1\n",
        "    \n",
        "\n",
        "  # Seguridad Social y Ambiental\n",
        "    if 'seguridad social' in row[1]: row[31]=1\n",
        "    if 'inundacion' in row[1]: row[31]=1\n",
        "    if 'avenidas de la cuenca' in row[1]: row[31]=1\n",
        "    if 'invalidez' in row[1]: row[31]=1\n",
        "    if 'situacion sanitaria' in row[1]: row[31]=1\n",
        "    if 'tercera edad' in row[1]: row[31]=1\n",
        "    if 'pension' in row[1]: row[31]=1\n",
        "    if 'desempleo' in row[1]: row[31]=1\n",
        "    if 'evacuado' in row[1]: row[31]=1\n",
        "    if 'minusvalido' in row[1]: row[31]=1\n",
        "    if 'droga' in row[1]: row[31]=1\n",
        "    if 'emigra' in row[1]: row[31]=1\n",
        "    if 'inmigra' in row[1]: row[31]=1\n",
        "    if 'vivienda' in row[1]: row[31]=1\n",
        "    if 'matrimoni' in row[1]: row[31]=1\n",
        "    if 'salud' in row[1]: row[31]=1\n",
        "    if 'alimentari' in row[1]: row[31]=1\n",
        "    if 'toxico' in row[1]: row[31]=1\n",
        "    if 'contaminacion' in row[1]: row[31]=1\n",
        "    if 'recursos vivos' in row[1]: row[31]=1\n",
        "    if 'diversidad biologica' in row[1]: row[31]=1\n",
        "    if 'zonas especialmente protegidas' in row[1]: row[31]=1\n",
        "    if 'protocolo de montreal' in row[1]: row[31]=1\n",
        "    if 'medio ambiente' in row[1]: row[31]=1\n",
        "    if 'derechos humanos' in row[1]: row[31]=1\n",
        "    if 'protección' in row[1]: row[31]=1\n",
        "    \n",
        "        \n",
        "  # Justicia\n",
        "    if 'justicia' in row[1]: row[32]=1\n",
        "    if 'escuchas telefonicas' in row[1]: row[32]=1\n",
        "    if 'defensor del pueblo' in row[1]: row[32]=1\n",
        "    if 'fiscal' in row[1]: row[32]=1\n",
        "    if 'judicial' in row[1]: row[32]=1\n",
        "    if 'juridico' in row[1]: row[32]=1\n",
        "    if 'jurídico' in row[1]: row[32]=1\n",
        "    if 'amparo' in row[1]: row[32]=1\n",
        "\n",
        "  # Internacionales\n",
        "    if 'internacional' in row[1]: row[33]=1\n",
        "    if 'europ' in row[1]: row[33]=1\n",
        "    if 'estados unidos' in row[1]: row[33]=1\n",
        "    if 'atlantico norte' in row[1]: row[33]=1\n",
        "    if 'norteamerica' in row[1]: row[33]=1\n",
        "    if 'la cee' in row[1]: row[33]=1\n",
        "    if 'jordania' in row[1]: row[33]=1\n",
        "    if 'naciones unidas' in row[1]: row[33]=1\n",
        "    if 'interamericana' in row[1]: row[33]=1\n",
        "    if 'extranjero' in row[1]: row[33]=1\n",
        "    if 'islandia' in row[1]: row[33]=1\n",
        "    if 'holand' in row[1]: row[33]=1\n",
        "    if 'multinacional' in row[1]: row[33]=1\n",
        "    if 'australia' in row[1]: row[33]=1\n",
        "    if 'israel' in row[1]: row[33]=1\n",
        "    if 'artículo k.3' in row[1]: row[33]=1\n",
        "    if 'artículo k. 3' in row[1]: row[33]=1\n",
        "    if 'copenhague' in row[1]: row[33]=1\n",
        "    if 'ocde' in row[1]: row[33]=1\n",
        "    if 'austria' in row[1]: row[33]=1\n",
        "    \n",
        "\n",
        "  # Política Interna\n",
        "    if 'vasco' in row[1]: row[34]=1\n",
        "    if 'electoral' in row[1]: row[34]=1\n",
        "    if 'cataluña' in row[1]: row[34]=1\n",
        "    if 'andalucia' in row[1]: row[34]=1\n",
        "    if 'ciudad' in row[1]: row[34]=1\n",
        "    if 'españa' in row[1]: row[34]=1\n",
        "    if 'albacete' in row[1]: row[34]=1\n",
        "    if 'cadiz' in row[1]: row[34]=1\n",
        "    if 'asturia' in row[1]: row[34]=1\n",
        "    if 'palmas' in row[1]: row[34]=1\n",
        "    if 'navarra' in row[1]: row[34]=1\n",
        "    if 'maspalomas' in row[1]: row[34]=1\n",
        "    if 'barcelona' in row[1]: row[34]=1\n",
        "    if 'canaria' in row[1]: row[34]=1\n",
        "    if 'gibraltar' in row[1]: row[34]=1\n",
        "    if 'aragon' in row[1]: row[34]=1\n",
        "    if 'extremadura' in row[1]: row[34]=1\n",
        "    if 'ibiza' in row[1]: row[34]=1\n",
        "    if 'castilla' in row[1]: row[34]=1\n",
        "    if 'autonomia' in row[1]: row[34]=1\n",
        "    if 'segovia' in row[1]: row[34]=1\n",
        "    if 'catalana' in row[1]: row[34]=1\n",
        "    if 'islas baleares' in row[1]: row[34]=1\n",
        "    if 'illes balears' in row[1]: row[34]=1\n",
        "    if 'madrid' in row[1]: row[34]=1\n",
        "    if 'murcia' in row[1]: row[34]=1\n",
        "    if 'ayuntamiento' in row[1]: row[34]=1\n",
        "    if 'estatuto de autonomía' in row[1]: row[34]=1\n",
        "    if 'estatutos de autonomía' in row[1]: row[34]=1\n",
        "    if 'torremolinos' in row[1]: row[34]=1\n",
        "    if 'la misión a la luz de su extensión hacia el oeste y el sur del país' in row[1]: row[34]=1\n",
        "    if 'cuenca' in row[1]: row[34]=1\n",
        "    if 'autoridades locales' in row[1]: row[34]=1\n",
        "    if 'comunidades autonomas' in row[1]: row[34]=1\n",
        "    \n",
        "\n",
        "  # Otros\n",
        "    if 'derecho de asilo' in row[1]: row[35]=1\n",
        "    if 'montes vecinales' in row[1]: row[35]=1\n",
        "    if 'hechos acaecidos' in row[1]: row[35]=1\n",
        "    if 'akáa' in row[1]: row[35]=1\n",
        "    if 'sanitaria' in row[1]: row[35]=1\n",
        "    if 'picasso' in row[1]: row[35]=1\n",
        "    if 'muerte' in row[1]: row[35]=1\n",
        "    if 'denominaciones de origen' in row[1]: row[35]=1\n",
        "    if 'del señor' in row[1]: row[35]=1\n",
        "    if '1981' in row[1]: row[35]=1\n",
        "    if 'preguntas' in row[1]: row[35]=1\n",
        "    if 'diputad' in row[1]: row[35]=1\n",
        "    if 'convivencia' in row[1]: row[35]=1\n",
        "    if 'simon bolivar' in row[1]: row[35]=1\n",
        "    if 'interpelaciones urgentes' in row[1]: row[35]=1\n",
        "    if 'recomendaciones' in row[1]: row[35]=1\n",
        "    if 'screto profesional' in row[1]: row[35]=1\n",
        "    if 'octubre de 1986' in row[1]: row[35]=1\n",
        "    if 'sucesivos.' in row[1]: row[35]=1\n",
        "    if 'debate sobre el estado de la nacion' in row[1]: row[35]=1\n",
        "    if '30 de noviembre de 1999' in row[1]: row[35]=1\n",
        "    if 'septiembre de 2000' in row[1]: row[35]=1\n",
        "    if 'expedi' in row[1]: row[35]=1\n",
        "    if 'propuestas de resolución' in row[1]: row[35]=1\n",
        "    if 'nan' in row[1]: row[35]=1\n",
        "    if 'recuperacion automatica' in row[1]: row[35]=1\n",
        "    if 'del grupo socialista del' in row[1]: row[35]=1\n",
        "    if 'del grupo pa' in row[1]: row[35]=1\n",
        "    if 'coag y upa' in row[1]: row[35]=1\n",
        "    if 'rumores' in row[1]: row[35]=1\n",
        "    if 'psoe que provoca' in row[1]: row[35]=1\n",
        "    if 'viii legislatura' in row[1]: row[35]=1\n",
        "    if 'públicos y privados' in row[1]: row[35]=1\n",
        "    if 'modificación' in row[1]: row[35]=1\n",
        "    if 'públicas' in row[1]: row[35]=1\n",
        "    if 'acudir estos' in row[1]: row[35]=1\n",
        "    if 'públicas' in row[1]: row[35]=1\n",
        "    if 'swd (2013) 472 final' in row[1]: row[35]=1\n",
        "    if 'zoido álvarez' in row[1]: row[35]=1\n",
        "    if 'zurita expósito' in row[1]: row[35]=1\n",
        "    if 'condolencia' in row[1]: row[35]=1\n",
        "    if 'convención de la haya de 1954' in row[1]: row[35]=1\n",
        "    if 'xviii, yo creo que hay que irse a los siglos xix o xx' in row[1]: row[35]=1\n",
        "    \n",
        "\n",
        "    lista.append(row)\n",
        "\n",
        "base = pd.DataFrame(lista, columns=base.columns)"
      ],
      "metadata": {
        "id": "fwwMN7zcYSfC"
      },
      "execution_count": 84,
      "outputs": []
    },
    {
      "cell_type": "code",
      "source": [
        "base['topic_a_mano']=base['reglas y procedemientos']+base['Administración']+base['Economía']+base['Energía']+base['Seguridad']+base['Política Laboral']+base['Transporte']+base['Comunicaciones']+base['Social']+base['Educación']+base['Seguridad Social']+base['Justicia']+base['Internacionales']+base['Política Interna']+base['Otros']"
      ],
      "metadata": {
        "id": "P8f_ddjpLgoo"
      },
      "execution_count": 85,
      "outputs": []
    },
    {
      "cell_type": "code",
      "source": [
        "base.loc[base['topic_a_mano']==0].shape"
      ],
      "metadata": {
        "colab": {
          "base_uri": "https://localhost:8080/"
        },
        "id": "8gULZxIoehhR",
        "outputId": "88532ac4-0bea-47ed-ea4a-98f0cd004ac4"
      },
      "execution_count": 86,
      "outputs": [
        {
          "output_type": "execute_result",
          "data": {
            "text/plain": [
              "(0, 37)"
            ]
          },
          "metadata": {},
          "execution_count": 86
        }
      ]
    },
    {
      "cell_type": "code",
      "source": [
        "base.loc[base['topic_a_mano']==0].head(50)['orden']"
      ],
      "metadata": {
        "colab": {
          "base_uri": "https://localhost:8080/"
        },
        "id": "1UG553moaHTR",
        "outputId": "5a3784a8-03e8-404d-ea93-1b9903ed0a53"
      },
      "execution_count": 87,
      "outputs": [
        {
          "output_type": "execute_result",
          "data": {
            "text/plain": [
              "Series([], Name: orden, dtype: object)"
            ]
          },
          "metadata": {},
          "execution_count": 87
        }
      ]
    },
    {
      "cell_type": "code",
      "source": [
        "import matplotlib.pyplot as plt\n",
        "base['topic_a_mano'].value_counts().plot(kind='bar')"
      ],
      "metadata": {
        "colab": {
          "base_uri": "https://localhost:8080/",
          "height": 285
        },
        "id": "0wDDny94AXgr",
        "outputId": "fbe4ac0f-467c-44d7-97b1-51ac0647dff1"
      },
      "execution_count": 89,
      "outputs": [
        {
          "output_type": "execute_result",
          "data": {
            "text/plain": [
              "<AxesSubplot:>"
            ]
          },
          "metadata": {},
          "execution_count": 89
        },
        {
          "output_type": "display_data",
          "data": {
            "text/plain": [
              "<Figure size 432x288 with 1 Axes>"
            ],
            "image/png": "[encoded data removed]"
          },
          "metadata": {
            "needs_background": "light"
          }
        }
      ]
    },
    {
      "cell_type": "code",
      "source": [
        "portopic=(base['reglas y procedemientos'].sum(),\n",
        "base['Administración'].sum(),\n",
        "base['Economía'].sum(),\n",
        "base['Energía'].sum(),\n",
        "base['Seguridad'].sum(),\n",
        "base['Política Laboral'].sum(),\n",
        "base['Transporte'].sum(),\n",
        "base['Comunicaciones'].sum(),\n",
        "base['Social'].sum(),\n",
        "base['Educación'].sum(),\n",
        "base['Seguridad Social'].sum(),\n",
        "base['Justicia'].sum(),\n",
        "base['Internacionales'].sum(),\n",
        "base['Política Interna'].sum(),\n",
        "base['Otros'].sum())\n",
        "\n",
        "nombres=['reglas y procedemientos', 'Administración', 'Economía', 'Energía', 'Seguridad', 'Política Laboral', 'Transporte', 'Comunicaciones', 'Social', 'Educación', 'Seguridad Social', 'Justicia', 'Internacionales', 'Política Interna', 'Otros']"
      ],
      "metadata": {
        "id": "UM3FoST6BTgf"
      },
      "execution_count": 110,
      "outputs": []
    },
    {
      "cell_type": "code",
      "source": [
        "def addlabels(x,y):\n",
        "    for i in range(len(x)):\n",
        "        plt.text(i,y[i],y[i], rotation='vertical', horizontalalignment='center')\n",
        "        \n",
        "\n",
        "plt.xticks(rotation='vertical')\n",
        "addlabels(nombres, portopic)\n",
        "plt.bar(nombres, portopic)"
      ],
      "metadata": {
        "id": "t0v9COXBJ9gi",
        "outputId": "7fe6b99c-4bb4-4af7-9c4e-c92cc5062651",
        "colab": {
          "base_uri": "https://localhost:8080/",
          "height": 421
        }
      },
      "execution_count": 120,
      "outputs": [
        {
          "output_type": "execute_result",
          "data": {
            "text/plain": [
              "<BarContainer object of 15 artists>"
            ]
          },
          "metadata": {},
          "execution_count": 120
        },
        {
          "output_type": "display_data",
          "data": {
            "text/plain": [
              "<Figure size 432x288 with 1 Axes>"
            ],
            "image/png": "[encoded data removed]"
          },
          "metadata": {
            "needs_background": "light"
          }
        }
      ]
    }
  ]
}