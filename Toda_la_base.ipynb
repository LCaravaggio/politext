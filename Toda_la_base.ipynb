{
  "nbformat": 4,
  "nbformat_minor": 0,
  "metadata": {
    "colab": {
      "provenance": [],
      "authorship_tag": "ABX9TyMTjPod5MLBM7/ogfHpJaiI",
      "include_colab_link": true
    },
    "kernelspec": {
      "name": "python3",
      "display_name": "Python 3"
    },
    "language_info": {
      "name": "python"
    }
  },
  "cells": [
    {
      "cell_type": "markdown",
      "metadata": {
        "id": "view-in-github",
        "colab_type": "text"
      },
      "source": [
        "<a href=\"https://colab.research.google.com/github/LCaravaggio/politext/blob/main/Toda_la_base.ipynb\" target=\"_parent\"><img src=\"https://colab.research.google.com/assets/colab-badge.svg\" alt=\"Open In Colab\"/></a>"
      ]
    },
    {
      "cell_type": "code",
      "execution_count": 22,
      "metadata": {
        "id": "L5ZNEGEF0aRa"
      },
      "outputs": [],
      "source": [
        "import pandas as pd\n",
        "import numpy as np\n",
        "from collections import Counter\n",
        "import ast"
      ]
    },
    {
      "cell_type": "code",
      "source": [
        "from google.colab import drive\n",
        "drive.mount('/content/drive')"
      ],
      "metadata": {
        "colab": {
          "base_uri": "https://localhost:8080/"
        },
        "id": "bkOUGBwH1bYL",
        "outputId": "dd41e4e1-96dc-4e54-9022-0ac984e9fcc9"
      },
      "execution_count": 23,
      "outputs": [
        {
          "output_type": "stream",
          "name": "stdout",
          "text": [
            "Drive already mounted at /content/drive; to attempt to forcibly remount, call drive.mount(\"/content/drive\", force_remount=True).\n"
          ]
        }
      ]
    },
    {
      "cell_type": "code",
      "source": [
        "# Se lee la base original\n",
        "base=pd.read_csv('/content/drive/MyDrive/par_esp_interventions_l1_l13.csv')"
      ],
      "metadata": {
        "colab": {
          "base_uri": "https://localhost:8080/"
        },
        "id": "v8kZsj9_1dyL",
        "outputId": "e35ece7e-98a5-450c-c30c-28643b4241b1"
      },
      "execution_count": 24,
      "outputs": [
        {
          "output_type": "stream",
          "name": "stderr",
          "text": [
            "/usr/local/lib/python3.7/dist-packages/IPython/core/interactiveshell.py:3326: DtypeWarning: Columns (17) have mixed types.Specify dtype option on import or set low_memory=False.\n",
            "  exec(code_obj, self.user_global_ns, self.user_ns)\n"
          ]
        }
      ]
    },
    {
      "cell_type": "code",
      "source": [
        "# Se conservan solamente las intervenciones de los partidos PSOE y PP\n",
        "base=base[(base['party'] == 'PSOE') | (base['party'] == 'PP')]"
      ],
      "metadata": {
        "id": "dgovIufl1oJq"
      },
      "execution_count": 25,
      "outputs": []
    },
    {
      "cell_type": "code",
      "source": [
        "# Faltan años en la base (2001, 2002, 2003) y PP aparece desde 1986 cuando se fundó en 1989\n",
        "a=pd.DatetimeIndex(base.fecha).year.unique().tolist()\n",
        "a.sort()\n",
        "for x in a: \n",
        "  print(f\"{x}: {base[pd.DatetimeIndex(base.fecha).year==x].party.unique()}\")"
      ],
      "metadata": {
        "id": "XG8WXqQ_x114",
        "outputId": "3df2cbf8-1d88-415a-a7f4-630a87162676",
        "colab": {
          "base_uri": "https://localhost:8080/"
        }
      },
      "execution_count": 92,
      "outputs": [
        {
          "output_type": "stream",
          "name": "stdout",
          "text": [
            "1979: ['PSOE']\n",
            "1980: ['PSOE']\n",
            "1981: ['PSOE']\n",
            "1982: ['PSOE']\n",
            "1983: ['PSOE']\n",
            "1984: ['PSOE']\n",
            "1985: ['PSOE']\n",
            "1986: ['PSOE' 'PP']\n",
            "1987: ['PSOE' 'PP']\n",
            "1988: ['PSOE' 'PP']\n",
            "1989: ['PSOE' 'PP']\n",
            "1990: ['PSOE' 'PP']\n",
            "1991: ['PSOE' 'PP']\n",
            "1992: ['PSOE' 'PP']\n",
            "1993: ['PSOE' 'PP']\n",
            "1994: ['PSOE' 'PP']\n",
            "1995: ['PSOE' 'PP']\n",
            "1996: ['PSOE' 'PP']\n",
            "1997: ['PP' 'PSOE']\n",
            "1998: ['PP' 'PSOE']\n",
            "1999: ['PP' 'PSOE']\n",
            "2000: ['PP' 'PSOE']\n",
            "2004: ['PSOE' 'PP']\n",
            "2005: ['PSOE' 'PP']\n",
            "2006: ['PSOE' 'PP']\n",
            "2007: ['PSOE' 'PP']\n",
            "2008: ['PSOE' 'PP']\n",
            "2009: ['PSOE' 'PP']\n",
            "2010: ['PSOE' 'PP']\n",
            "2011: ['PSOE' 'PP']\n",
            "2012: ['PP' 'PSOE']\n",
            "2013: ['PP' 'PSOE']\n",
            "2014: ['PP' 'PSOE']\n",
            "2015: ['PP' 'PSOE']\n",
            "2016: ['PP' 'PSOE']\n",
            "2017: ['PP' 'PSOE']\n",
            "2018: ['PP' 'PSOE']\n",
            "2019: ['PP' 'PSOE']\n"
          ]
        }
      ]
    },
    {
      "cell_type": "code",
      "source": [
        "# Elimino de la base las intervenciones del Presidente de la cámara\n",
        "base=base[(base['role'] != 'PRESIDENTE, PRESIDENTA') | (base['role'] != 'PRESIDENTE DEL CONGRESO DE LOS DIPUTADOS')]"
      ],
      "metadata": {
        "id": "dhbKq8uX1t_4"
      },
      "execution_count": 27,
      "outputs": []
    },
    {
      "cell_type": "code",
      "source": [
        "import nltk\n",
        "nltk.download('stopwords')\n",
        "from nltk.corpus import stopwords\n",
        "stopwords=stopwords.words('spanish')\n",
        "nltk.download('punkt')\n",
        "from nltk.tokenize import word_tokenize\n",
        "import string\n",
        "from nltk.stem.porter import PorterStemmer"
      ],
      "metadata": {
        "colab": {
          "base_uri": "https://localhost:8080/"
        },
        "id": "RNVsu84Y16U5",
        "outputId": "68652273-8751-43c6-e101-268eeccace33"
      },
      "execution_count": 28,
      "outputs": [
        {
          "output_type": "stream",
          "name": "stderr",
          "text": [
            "[nltk_data] Downloading package stopwords to /root/nltk_data...\n",
            "[nltk_data]   Unzipping corpora/stopwords.zip.\n",
            "[nltk_data] Downloading package punkt to /root/nltk_data...\n",
            "[nltk_data]   Unzipping tokenizers/punkt.zip.\n"
          ]
        }
      ]
    },
    {
      "cell_type": "code",
      "source": [
        "# Se incorporan las stopwords sugeridas por Federico\n",
        "stopwords.extend(['señor', 'señora', 'mucha', 'gracia', 'año', 'pasado', 'cada', 'vez', 'uno', 'dos', 'tres', 'cuatro', 'cinco', 'seis' ,'siete', 'ocho', 'nueve', 'diez'])\n",
        "stopwords.extend(['hoy', 'aquí', 'primer', 'lugar', 'primera', 'segunda', 'primero', 'segundo', 'siguiente', 'tercer'])\n",
        "stopwords.extend(['convergencia', 'esquerra', 'republicana', 'grupo', 'parlamentaria', 'parlamentario', 'partido'])\n",
        "stopwords.extend(['enmienda', 'votación', 'favor', 'abstención', 'ley', 'real', 'decreto', 'decretoley', 'resultado', 'voto', 'sé' ,'sí', 'silencio' ,'favor'])\n",
        "stopwords.extend(['usted', 'señoría', 'presidente', 'presidenta', 'ministro', 'orden' , 'día', 'palabra', 'petición', 'posición', 'punto', 'vista', 'sesión', 'baldoví', 'duran', 'turno'])\n",
        "stopwords.extend(['hacer', 'frente', 'puede' ,'ser', 'va', 'voy', 'decir'])\n",
        "stopwords.extend(['millón', 'euro', 'emitido', 'efectuada', 'dio', 'comienzo', 'partido', 'queda', 'quedan', 'rechazada', 'aceptada', 'comienza', 'usted', 'sabe', 'abstención', 'diputado', 'gobierno'])\n",
        "stopwords.extend(['continuación', 'votamos', 'telemático', 'republicanaizquierda', 'unidainiciativa', 'puede', 'bien', 'propuesta' ,'abstencion', 'mayoría', 'absoluta', 'pregunta', 'don', 'vamos', 'votar', 'llevar', 'cabo', 'millón', 'muchas', 'gracias'])"
      ],
      "metadata": {
        "id": "RALkdTYF2AGT"
      },
      "execution_count": 29,
      "outputs": []
    },
    {
      "cell_type": "code",
      "source": [
        "# Esta celda tarda unos 17 minutos en correr\n",
        "\n",
        "base['tokens']=\"\"\n",
        "for ind in base.index:\n",
        "    #elimino puntuación\n",
        "    non_punctuation = base['intervention'][ind].translate(str.maketrans('', '', string.punctuation))\n",
        "    word_tokens = word_tokenize(non_punctuation)\n",
        "\n",
        "    #elimino stopwords\n",
        "    tokens=[w for w in word_tokens if not w.lower() in stopwords]\n",
        "\n",
        "    #stemming\n",
        "    porter_stemmer = PorterStemmer()\n",
        "    stemmers = [porter_stemmer.stem(word) for word in tokens]\n",
        "    base['tokens'][ind] = [stem for stem in stemmers if stem.isalpha() and len(stem) > 1]"
      ],
      "metadata": {
        "colab": {
          "base_uri": "https://localhost:8080/"
        },
        "id": "3MOXEmLa4bJq",
        "outputId": "9eebb8f8-bbfe-4df2-dd42-c42981cb443a"
      },
      "execution_count": 30,
      "outputs": [
        {
          "output_type": "stream",
          "name": "stderr",
          "text": [
            "/usr/local/lib/python3.7/dist-packages/ipykernel_launcher.py:15: SettingWithCopyWarning: \n",
            "A value is trying to be set on a copy of a slice from a DataFrame\n",
            "\n",
            "See the caveats in the documentation: https://pandas.pydata.org/pandas-docs/stable/user_guide/indexing.html#returning-a-view-versus-a-copy\n",
            "  from ipykernel import kernelapp as app\n"
          ]
        }
      ]
    },
    {
      "cell_type": "markdown",
      "source": [
        "# CV"
      ],
      "metadata": {
        "id": "DGXL1PFubO1X"
      }
    },
    {
      "cell_type": "code",
      "source": [
        "from sklearn.model_selection import train_test_split\n",
        "base['tokens']=base[\"tokens\"].map(' '.join)\n",
        "X_train, X_test, y_train, y_test = train_test_split(base.loc[:, base.columns != 'party'], base['party'], test_size=0.33, random_state=42)"
      ],
      "metadata": {
        "id": "K97ay8J3F60U"
      },
      "execution_count": 31,
      "outputs": []
    },
    {
      "cell_type": "code",
      "source": [
        "# Balance de clase\n",
        "y_train.value_counts()"
      ],
      "metadata": {
        "colab": {
          "base_uri": "https://localhost:8080/"
        },
        "id": "3bTAet19F-IX",
        "outputId": "9484b5d8-314d-48ad-c40f-a3b23df172c1"
      },
      "execution_count": 32,
      "outputs": [
        {
          "output_type": "execute_result",
          "data": {
            "text/plain": [
              "PSOE    100658\n",
              "PP       53320\n",
              "Name: party, dtype: int64"
            ]
          },
          "metadata": {},
          "execution_count": 32
        }
      ]
    },
    {
      "cell_type": "code",
      "source": [
        "from sklearn.feature_extraction.text import CountVectorizer\n",
        "cv=CountVectorizer(ngram_range=[2,2], max_features=200, stop_words=stopwords, max_df=0.95, min_df=0.001)\n",
        "vec = cv.fit(X_train['tokens'])"
      ],
      "metadata": {
        "id": "4DJ5xDWCGAnk"
      },
      "execution_count": 33,
      "outputs": []
    },
    {
      "cell_type": "code",
      "source": [
        "train_matrix = vec.fit_transform(X_train['tokens'])\n",
        "test_matrix = vec.transform(X_test['tokens'])"
      ],
      "metadata": {
        "id": "egJ2P5OvOXwm"
      },
      "execution_count": 34,
      "outputs": []
    },
    {
      "cell_type": "markdown",
      "source": [
        "# LASSO"
      ],
      "metadata": {
        "id": "he5iXGwabZZj"
      }
    },
    {
      "cell_type": "code",
      "source": [
        "from sklearn.linear_model import LogisticRegression\n",
        "lr = LogisticRegression(penalty='l1', max_iter=1000, solver='liblinear')"
      ],
      "metadata": {
        "id": "tRJkiHV4OaNW"
      },
      "execution_count": 35,
      "outputs": []
    },
    {
      "cell_type": "code",
      "source": [
        "lr.fit(train_matrix,y_train)"
      ],
      "metadata": {
        "colab": {
          "base_uri": "https://localhost:8080/"
        },
        "id": "4e5xEAYfOcKP",
        "outputId": "d47b4191-3e2d-406b-b7a9-95812cd475b0"
      },
      "execution_count": 36,
      "outputs": [
        {
          "output_type": "execute_result",
          "data": {
            "text/plain": [
              "LogisticRegression(max_iter=1000, penalty='l1', solver='liblinear')"
            ]
          },
          "metadata": {},
          "execution_count": 36
        }
      ]
    },
    {
      "cell_type": "code",
      "source": [
        "predictions = lr.predict(test_matrix)"
      ],
      "metadata": {
        "id": "UQcg6iZ6Od8x"
      },
      "execution_count": 37,
      "outputs": []
    },
    {
      "cell_type": "code",
      "source": [
        "from sklearn.metrics import confusion_matrix,classification_report\n",
        "new = np.asarray(y_test)\n",
        "confusion_matrix(predictions,y_test)"
      ],
      "metadata": {
        "colab": {
          "base_uri": "https://localhost:8080/"
        },
        "id": "MTitT84vOfsh",
        "outputId": "e0a274e6-b3ff-43e3-8e7b-9554a290a5b8"
      },
      "execution_count": 38,
      "outputs": [
        {
          "output_type": "execute_result",
          "data": {
            "text/plain": [
              "array([[ 3825,  1410],\n",
              "       [22557, 48048]])"
            ]
          },
          "metadata": {},
          "execution_count": 38
        }
      ]
    },
    {
      "cell_type": "code",
      "source": [
        "print(classification_report(predictions,y_test))"
      ],
      "metadata": {
        "colab": {
          "base_uri": "https://localhost:8080/"
        },
        "id": "yE2hFlZvOhRW",
        "outputId": "bf6066d7-7a6d-4144-97c8-2f420c2e24f7"
      },
      "execution_count": 39,
      "outputs": [
        {
          "output_type": "stream",
          "name": "stdout",
          "text": [
            "              precision    recall  f1-score   support\n",
            "\n",
            "          PP       0.14      0.73      0.24      5235\n",
            "        PSOE       0.97      0.68      0.80     70605\n",
            "\n",
            "    accuracy                           0.68     75840\n",
            "   macro avg       0.56      0.71      0.52     75840\n",
            "weighted avg       0.91      0.68      0.76     75840\n",
            "\n"
          ]
        }
      ]
    },
    {
      "cell_type": "code",
      "source": [
        "# Relevancia de bigramas en la predicción\n",
        "features=[]\n",
        "for i,v in enumerate(lr.coef_[0]):\n",
        "  features.append([vec.get_feature_names_out()[i],v ])"
      ],
      "metadata": {
        "id": "aWUa5xpiOjmD"
      },
      "execution_count": 40,
      "outputs": []
    },
    {
      "cell_type": "code",
      "source": [
        "sorted(features, key = lambda x: x[1])"
      ],
      "metadata": {
        "colab": {
          "base_uri": "https://localhost:8080/"
        },
        "id": "Q0bwziNOOlbQ",
        "outputId": "88596e1f-defe-4910-85a2-71847bf206b3"
      },
      "execution_count": 41,
      "outputs": [
        {
          "output_type": "execute_result",
          "data": {
            "text/plain": [
              "[['número formula', -4.737266657835918],\n",
              " ['feder izquierda', -2.5290668097397098],\n",
              " ['izquierda plural', -2.3424885436579355],\n",
              " ['portavoz socialista', -1.7296993292676017],\n",
              " ['vaya concluyendo', -1.72347355694031],\n",
              " ['congreso formula', -1.2442827138999684],\n",
              " ['diputada doña', -0.9540813761655207],\n",
              " ['fijación posicion', -0.7066765926955612],\n",
              " ['convergència unió', -0.6768119518198753],\n",
              " ['creación empleo', -0.6047970374502429],\n",
              " ['servicio social', -0.5668332449579576],\n",
              " ['comunidad económica', -0.4508605902645761],\n",
              " ['consecuencia interpelación', -0.4456184724518495],\n",
              " ['coalición canaria', -0.40110693916089696],\n",
              " ['tramitación proyecto', -0.34010962613175433],\n",
              " ['administracion pública', -0.3350891019837808],\n",
              " ['recuperación económica', -0.32561267766010976],\n",
              " ['gener poder', -0.31220119695270065],\n",
              " ['ciudadano español', -0.31044166773614473],\n",
              " ['diputación permanent', -0.3087229720589562],\n",
              " ['consideración proposición', -0.3041513469623868],\n",
              " ['izquierda unida', -0.2971326041815716],\n",
              " ['déficit público', -0.28655318847376177],\n",
              " ['constitución española', -0.26231856777858376],\n",
              " ['crisi económica', -0.2604332707705327],\n",
              " ['vasco pnv', -0.25946594129576794],\n",
              " ['sociedad española', -0.25149992368565616],\n",
              " ['tan important', -0.23544078899794166],\n",
              " ['seguridad jurídica', -0.23121610504778914],\n",
              " ['ordenamiento jurídico', -0.19775164614197827],\n",
              " ['mediana empresa', -0.18151182496577914],\n",
              " ['fuerza cuerpo', -0.17240105108967063],\n",
              " ['pacto toledo', -0.17228631368199132],\n",
              " ['economía española', -0.1704843948098964],\n",
              " ['persona física', -0.1667874213604158],\n",
              " ['medida urgent', -0.13790120182790047],\n",
              " ['hace mese', -0.13358883287992854],\n",
              " ['medio comunicación', -0.1255842013450944],\n",
              " ['semana pasada', -0.12351538768664218],\n",
              " ['desean fijar', -0.1225930806626738],\n",
              " ['hace falta', -0.12211366977149454],\n",
              " ['interé gener', -0.12128800472469425],\n",
              " ['igualdad oportunidad', -0.11758490476131102],\n",
              " ['paí vasco', -0.11224035885163984],\n",
              " ['radiotelevisión española', -0.10913188782684208],\n",
              " ['tribun supremo', -0.10803600708560548],\n",
              " ['crédito extraordinario', -0.10762060080156366],\n",
              " ['lucha fraud', -0.10615530854320425],\n",
              " ['presupuesto general', -0.10190156602147613],\n",
              " ['exposición motivo', -0.10055114173485155],\n",
              " ['derecho humano', -0.09615484844109419],\n",
              " ['sánchez llibr', -0.09032317334771327],\n",
              " ['medio ambient', -0.08806931656819059],\n",
              " ['sistema nacion', -0.0869354164852407],\n",
              " ['sistema educativo', -0.08561898659279983],\n",
              " ['cualquier caso', -0.07344884044115176],\n",
              " ['unión europea', -0.06857886436637022],\n",
              " ['persona discapacidad', -0.06158710942323114],\n",
              " ['prestación servicio', -0.05570894042389249],\n",
              " ['senado proyecto', -0.053280009849225894],\n",
              " ['estabilidad presupuestaria', -0.05125513419332926],\n",
              " ['formación profesion', -0.047536219392188855],\n",
              " ['sentencia tribun', -0.04671972155151297],\n",
              " ['ahora mismo', -0.04670894751473048],\n",
              " ['fuerza armada', -0.04441489385060686],\n",
              " ['violencia género', -0.04210270519031798],\n",
              " ['alto cargo', -0.04070056020001589],\n",
              " ['crecimiento económico', -0.039176222512925046],\n",
              " ['guardia civil', -0.03530826565481112],\n",
              " ['agencia tributaria', -0.03400013267432407],\n",
              " ['quiero recordar', -0.029985281535869057],\n",
              " ['quiero decirl', -0.029380227932601408],\n",
              " ['política económica', -0.02909731555043927],\n",
              " ['ningún caso', -0.026210895701213984],\n",
              " ['puesto trabajo', -0.0245979883158905],\n",
              " ['proyecto presupuesto', -0.023283070739861488],\n",
              " ['derecho libertad', -0.022087827295651685],\n",
              " ['corporacion local', -0.01847199426759909],\n",
              " ['toma consideración', -0.013945580460275586],\n",
              " ['si quier', -0.007971716040342233],\n",
              " ['gasto público', -0.003510080402331393],\n",
              " ['llegar acuerdo', -0.0033423792763618773],\n",
              " ['toda comunidad', -0.0031680523908127443],\n",
              " ['comunidad autónoma', -0.0017937638978478261],\n",
              " ['parlamento europeo', -9.330536377000217e-05],\n",
              " ['nombr socialista', 0.0],\n",
              " ['producto interior', 0.0],\n",
              " ['situación económica', 0.0],\n",
              " ['banco españa', 0.0009867092705198967],\n",
              " ['impuesto sociedad', 0.0015312565492896248],\n",
              " ['programa elector', 0.0025269873784266434],\n",
              " ['código penal', 0.005259445608542127],\n",
              " ['disposición final', 0.011313251270409495],\n",
              " ['iniciativa legislativa', 0.011537871128490255],\n",
              " ['entidad local', 0.01389334266657164],\n",
              " ['ningún tipo', 0.015115862633117228],\n",
              " ['texto alternativo', 0.017118820182761237],\n",
              " ['artículo reglamento', 0.017796450589580248],\n",
              " ['actividad económica', 0.01859703403028767],\n",
              " ['ministerio sanidad', 0.02105479656230572],\n",
              " ['sector público', 0.021639935156145807],\n",
              " ['administración gener', 0.023832837709147837],\n",
              " ['cort general', 0.023938232337978694],\n",
              " ['diario sesion', 0.025168350594604125],\n",
              " ['poder judici', 0.02753475009194395],\n",
              " ['función pública', 0.028661737214139206],\n",
              " ['deuda pública', 0.031216135238149662],\n",
              " ['izquierda per', 0.032066443597233124],\n",
              " ['empresa pública', 0.03279020214213387],\n",
              " ['seguridad social', 0.03308364947366655],\n",
              " ['debat totalidad', 0.04125629585605209],\n",
              " ['estatuto autonomía', 0.04190027885879177],\n",
              " ['asunto exterior', 0.04227559775896482],\n",
              " ['nacion salud', 0.042741075868722105],\n",
              " ['alta velocidad', 0.045442081536514516],\n",
              " ['servicio público', 0.047152649661183946],\n",
              " ['defensor pueblo', 0.052319921592919816],\n",
              " ['sistema financiación', 0.052946990825179174],\n",
              " ['director gener', 0.05328988690885995],\n",
              " ['reino unido', 0.0555381334253657],\n",
              " ['comisión europea', 0.05616633064762517],\n",
              " ['proyecto orgánica', 0.060873165351768475],\n",
              " ['dirección gener', 0.06398370183526769],\n",
              " ['tribun constitucion', 0.06456472201036154],\n",
              " ['cuerpo seguridad', 0.06621329587006411],\n",
              " ['asunto social', 0.06707655571216893],\n",
              " ['presión fiscal', 0.07063404849335828],\n",
              " ['tener cuenta', 0.07840054780130826],\n",
              " ['administración justicia', 0.0786175628557476],\n",
              " ['sistema financiero', 0.07888974528834061],\n",
              " ['proposición popular', 0.07920848820040975],\n",
              " ['tipo interé', 0.08448795058493552],\n",
              " ['tribun cuenta', 0.08490583663924106],\n",
              " ['pequeña mediana', 0.08588434527112669],\n",
              " ['ministerio justicia', 0.09226723347565251],\n",
              " ['disposición adicion', 0.09501639533211369],\n",
              " ['interior bruto', 0.10049170793737501],\n",
              " ['diálogo social', 0.10245940249175958],\n",
              " ['impuesto renta', 0.1041476287062071],\n",
              " ['ver si', 0.10536175806428344],\n",
              " ['ministerio interior', 0.1087061295042753],\n",
              " ['plan nacion', 0.11107000080461038],\n",
              " ['millon peseta', 0.11382209809030049],\n",
              " ['ruego vaya', 0.12333194980542897],\n",
              " ['nacion unida', 0.1258645157186821],\n",
              " ['mayor part', 0.12900339140220632],\n",
              " ['política exterior', 0.1362290861482836],\n",
              " ['protección social', 0.13812080700048335],\n",
              " ['comunidad europea', 0.14040387197114845],\n",
              " ['largo plazo', 0.14814256259995506],\n",
              " ['opinión pública', 0.14866772529140504],\n",
              " ['ninguna duda', 0.1601978087044335],\n",
              " ['último mese', 0.16782248332298683],\n",
              " ['alguna manera', 0.17092350276781101],\n",
              " ['poder público', 0.17107156284727823],\n",
              " ['disposición transitoria', 0.1726334676139406],\n",
              " ['puesto marcha', 0.17743525982003186],\n",
              " ['consejo europeo', 0.18118697891262217],\n",
              " ['hace tiempo', 0.18274979958332685],\n",
              " ['poner marcha', 0.18328608589603868],\n",
              " ['junta portavoc', 0.1886324815988752],\n",
              " ['reforma labor', 0.19719739535469855],\n",
              " ['dar respuesta', 0.21809721095745804],\n",
              " ['popular congreso', 0.22748227879888058],\n",
              " ['instituto nacion', 0.2356800941774144],\n",
              " ['artículo constitución', 0.24196104478318745],\n",
              " ['consejo gener', 0.2535774570918434],\n",
              " ['puesta marcha', 0.25978025256473736],\n",
              " ['obra pública', 0.29013863716320115],\n",
              " ['administración pública', 0.2948973304235689],\n",
              " ['fuerza política', 0.2952453317851554],\n",
              " ['política fiscal', 0.2954448894180299],\n",
              " ['aquel momento', 0.2978800224981126],\n",
              " ['ministerio educación', 0.3021708417491828],\n",
              " ['política social', 0.32942829195985857],\n",
              " ['ruego concluya', 0.33145151630590874],\n",
              " ['mismo tiempo', 0.3399770128504381],\n",
              " ['hace referencia', 0.3403384591105694],\n",
              " ['mercado trabajo', 0.34514613749715223],\n",
              " ['sector privado', 0.3598023208887701],\n",
              " ['resolv problema', 0.36963830678045295],\n",
              " ['económico social', 0.38174578196578646],\n",
              " ['carácter gener', 0.40187131146208976],\n",
              " ['país europeo', 0.40698300310522945],\n",
              " ['salario mínimo', 0.40725662469877366],\n",
              " ['duda alguna', 0.41452551396358656],\n",
              " ['economía hacienda', 0.44115810116033793],\n",
              " ['aprobado dictamen', 0.47275777055609763],\n",
              " ['administración central', 0.4883540326640043],\n",
              " ['hecho referencia', 0.49463508733585587],\n",
              " ['ss ss', 0.587095956695015],\n",
              " ['per catalunya', 0.8128195519998491],\n",
              " ['económica europea', 0.9732208340971059],\n",
              " ['dictamen comisión', 1.1455978508230744],\n",
              " ['catalunya verd', 1.5395533114682747],\n",
              " ['portavoz popular', 1.5758125338888076],\n",
              " ['coalición popular', 3.2910702007154944],\n",
              " ['bravo laguna', 4.854258087781198],\n",
              " ['minoría catalana', 4.888882143552396],\n",
              " ['pérez royo', 5.5820019543695265]]"
            ]
          },
          "metadata": {},
          "execution_count": 41
        }
      ]
    },
    {
      "cell_type": "code",
      "source": [
        "# Entiendo que un número negativo en el coeficiente implica que el bigrama correlaciona bien con la clase 0, es decir PP. Por el otro lado, un coeficiente positivo implica que el bigrama correlaciona mejor con PSOE. \n",
        "lr.classes_"
      ],
      "metadata": {
        "colab": {
          "base_uri": "https://localhost:8080/"
        },
        "id": "miQgxc59jxZp",
        "outputId": "9f43951b-747b-4361-8cd2-f345d67fb47f"
      },
      "execution_count": 42,
      "outputs": [
        {
          "output_type": "execute_result",
          "data": {
            "text/plain": [
              "array(['PP', 'PSOE'], dtype=object)"
            ]
          },
          "metadata": {},
          "execution_count": 42
        }
      ]
    },
    {
      "cell_type": "code",
      "source": [
        "# LASOO por año\n",
        "from sklearn.metrics import f1_score\n",
        "\n",
        "macro=[]\n",
        "weighted=[]\n",
        "\n",
        "lr = LogisticRegression(penalty='l1', max_iter=1000, solver='liblinear')\n",
        "\n",
        "for x in range(1979,2019): \n",
        "  try: \n",
        "    base_year=base[pd.DatetimeIndex(base.fecha).year==x]\n",
        "    X_train, X_test, y_train, y_test = train_test_split(base_year.loc[:, base_year.columns != 'party'], base_year['party'], test_size=0.33, random_state=42)\n",
        "    train_matrix = vec.fit_transform(X_train['tokens'])\n",
        "    test_matrix = vec.transform(X_test['tokens'])  \n",
        "    lr.fit(train_matrix,y_train)\n",
        "    predictions = lr.predict(test_matrix )\n",
        "    macro.append(f1_score(predictions,y_test, average='macro'))\n",
        "    weighted.append(f1_score(predictions,y_test, average='weighted'))\n",
        "  except: \n",
        "    macro.append(np.nan)\n",
        "    weighted.append(np.nan)"
      ],
      "metadata": {
        "id": "vT5GTcSJPGT7"
      },
      "execution_count": 43,
      "outputs": []
    },
    {
      "cell_type": "code",
      "source": [
        "# Yo entiendo que el resultado relevante es el macro, porque considera el desbalance de clases\n",
        "import matplotlib.pyplot as plt\n",
        "plt.plot(range(1979,2019), macro, marker='o')\n",
        "plt.plot(range(1979,2019), weighted, marker='+')"
      ],
      "metadata": {
        "colab": {
          "base_uri": "https://localhost:8080/",
          "height": 282
        },
        "id": "7laI6FgJRSyr",
        "outputId": "6c110354-9fbb-428a-f467-5083793227c8"
      },
      "execution_count": 44,
      "outputs": [
        {
          "output_type": "execute_result",
          "data": {
            "text/plain": [
              "[<matplotlib.lines.Line2D at 0x7ffb8f200090>]"
            ]
          },
          "metadata": {},
          "execution_count": 44
        },
        {
          "output_type": "display_data",
          "data": {
            "text/plain": [
              "<Figure size 432x288 with 1 Axes>"
            ],
            "image/png": "[encoded data removed]"
          },
          "metadata": {
            "needs_background": "light"
          }
        }
      ]
    },
    {
      "cell_type": "code",
      "source": [
        "# LASOO por legislatura\n",
        "macro=[]\n",
        "weighted=[]\n",
        "\n",
        "lr = LogisticRegression(penalty='l1', max_iter=1000, solver='liblinear')\n",
        "legislaturas=['I', 'II', 'III', 'IV', 'V', 'VI', 'VII','VIII', 'IX', 'X', 'XI', 'XII','XIII']\n",
        "\n",
        "for x in legislaturas: \n",
        "  try: \n",
        "    base_year=base[base.legislatura==x]\n",
        "    X_train, X_test, y_train, y_test = train_test_split(base_year.loc[:, base_year.columns != 'party'], base_year['party'], test_size=0.33, random_state=42)\n",
        "    train_matrix = vec.fit_transform(X_train['tokens'])\n",
        "    test_matrix = vec.transform(X_test['tokens'])  \n",
        "    lr.fit(train_matrix,y_train)\n",
        "    predictions = lr.predict(test_matrix )\n",
        "    macro.append(f1_score(predictions,y_test, average='macro'))\n",
        "    weighted.append(f1_score(predictions,y_test, average='weighted'))\n",
        "  except: \n",
        "    macro.append(np.nan)\n",
        "    weighted.append(np.nan)"
      ],
      "metadata": {
        "id": "tdGW6WkIY2JD"
      },
      "execution_count": 45,
      "outputs": []
    },
    {
      "cell_type": "code",
      "source": [
        "# Yo entiendo que el resultado relevante es el macro, porque considera el desbalance de clases\n",
        "import matplotlib.pyplot as plt\n",
        "plt.plot(legislaturas, macro, marker='o')\n",
        "plt.plot(legislaturas, weighted, marker='+')"
      ],
      "metadata": {
        "colab": {
          "base_uri": "https://localhost:8080/",
          "height": 282
        },
        "id": "eyA7ffAeZQbN",
        "outputId": "fa4259eb-423c-4f8d-b8e7-3039eb067876"
      },
      "execution_count": 46,
      "outputs": [
        {
          "output_type": "execute_result",
          "data": {
            "text/plain": [
              "[<matplotlib.lines.Line2D at 0x7ffb81e91290>]"
            ]
          },
          "metadata": {},
          "execution_count": 46
        },
        {
          "output_type": "display_data",
          "data": {
            "text/plain": [
              "<Figure size 432x288 with 1 Axes>"
            ],
            "image/png": "[encoded data removed]"
          },
          "metadata": {
            "needs_background": "light"
          }
        }
      ]
    },
    {
      "cell_type": "markdown",
      "source": [
        "# Regresión lineal"
      ],
      "metadata": {
        "id": "W4gP8QOIbRyt"
      }
    },
    {
      "cell_type": "code",
      "source": [
        "X_train, X_test, y_train, y_test = train_test_split(base.loc[:, base.columns != 'party'], base['party'], test_size=0.33, random_state=42)"
      ],
      "metadata": {
        "id": "8dGWALnQb1Mn"
      },
      "execution_count": 62,
      "outputs": []
    },
    {
      "cell_type": "code",
      "source": [
        "vec = cv.fit(X_train['tokens'])"
      ],
      "metadata": {
        "id": "mJQVHbEKb1Mo"
      },
      "execution_count": 63,
      "outputs": []
    },
    {
      "cell_type": "code",
      "source": [
        "train_matrix = vec.fit_transform(X_train['tokens'])\n",
        "test_matrix = vec.transform(X_test['tokens'])"
      ],
      "metadata": {
        "id": "o_UYstuib1Mo"
      },
      "execution_count": 64,
      "outputs": []
    },
    {
      "cell_type": "code",
      "source": [
        "y_train.replace(['PSOE', 'PP'],[1, -1], inplace=True)\n",
        "y_test.replace(['PSOE', 'PP'],[1, -1], inplace=True)"
      ],
      "metadata": {
        "id": "24rbtPzhcfxy"
      },
      "execution_count": 65,
      "outputs": []
    },
    {
      "cell_type": "code",
      "source": [
        "from sklearn.linear_model import LinearRegression\n",
        "lr = LinearRegression()"
      ],
      "metadata": {
        "id": "yD0Hk7RzbnDG"
      },
      "execution_count": 66,
      "outputs": []
    },
    {
      "cell_type": "code",
      "source": [
        "lr.fit(train_matrix,y_train)"
      ],
      "metadata": {
        "colab": {
          "base_uri": "https://localhost:8080/"
        },
        "id": "ZdSt3ASFe3UD",
        "outputId": "93f6cf13-e648-4668-9b34-265b9230ab0b"
      },
      "execution_count": 67,
      "outputs": [
        {
          "output_type": "execute_result",
          "data": {
            "text/plain": [
              "LinearRegression()"
            ]
          },
          "metadata": {},
          "execution_count": 67
        }
      ]
    },
    {
      "cell_type": "code",
      "source": [
        "predictions = lr.predict(test_matrix)"
      ],
      "metadata": {
        "id": "TLLuNbJxeySx"
      },
      "execution_count": 68,
      "outputs": []
    },
    {
      "cell_type": "code",
      "source": [
        "print(lr.coef_)"
      ],
      "metadata": {
        "colab": {
          "base_uri": "https://localhost:8080/"
        },
        "id": "4W7M5BY6fVMR",
        "outputId": "7023f3a4-dd19-4f22-fc0f-d9934cd8cc6d"
      },
      "execution_count": 69,
      "outputs": [
        {
          "output_type": "stream",
          "name": "stdout",
          "text": [
            "[ 1.42339897e-02 -8.38460224e-02  9.34137208e-02  5.97418843e-03\n",
            "  2.29194117e-02  6.12946939e-02 -1.85130933e-02 -1.69101662e-02\n",
            "  1.32656830e-02  1.45212349e-02 -9.11933998e-03  1.95194728e-01\n",
            "  8.89306546e-02  4.74929645e-02  1.09383706e-02  8.35324681e-03\n",
            "  4.15522870e-02 -5.25902205e-03  2.77088597e-01  9.97319596e-02\n",
            "  3.15810647e-01 -1.06066574e-01 -1.55446370e-01  3.70666514e-01\n",
            "  1.56456626e-02 -2.03287644e-03 -1.39552035e-01  3.21925928e-02\n",
            " -4.90707986e-01 -1.68002443e-01  3.59824069e-02  8.61211901e-02\n",
            " -1.12162483e-01 -6.63643959e-02 -2.48360396e-01 -2.90864142e-03\n",
            "  1.15761995e-02 -1.50736606e-01  6.09766702e-03 -8.15751643e-02\n",
            " -3.18340754e-02 -2.99996883e-02  7.06066713e-02  4.38459925e-03\n",
            "  6.76565576e-02  3.40424920e-02  1.67436839e-02 -3.20399170e-02\n",
            " -8.82053109e-03 -6.14993085e-02  1.72077223e-02  1.69116123e-02\n",
            "  2.78054810e-01 -1.07772111e-01 -3.80301126e-01  3.08048767e-02\n",
            "  1.84324767e-02  3.86769150e-02  1.43864956e-02  6.31642075e-02\n",
            "  2.67073111e-02  8.58747156e-02 -5.40843732e-02 -7.05347378e-02\n",
            "  1.20200446e-01  1.74728318e-01  4.08107820e-02 -4.71728949e-05\n",
            "  3.15604641e-03 -1.89881476e-02  1.58240174e-02 -3.48390303e-02\n",
            " -8.91643275e-01 -3.34589193e-01 -1.51438054e-02 -9.15575342e-03\n",
            " -1.05836154e-01  7.67546791e-02 -1.01152813e-02 -4.07233793e-03\n",
            " -9.42395104e-02 -1.60281178e-02 -2.91919077e-02 -2.24520347e-02\n",
            "  8.47865849e-02  7.86458757e-02  1.08781701e-01 -3.56951977e-02\n",
            "  1.38705991e-02  1.88984113e-02  7.04563123e-03  3.58971245e-02\n",
            "  2.24361258e-01 -4.48417593e-02  1.44092250e-02 -7.44107341e-01\n",
            " -9.21714262e-02  8.28437551e-02  6.21479849e-02 -8.95771038e-03\n",
            " -3.09475485e-02  2.46767129e-02 -9.02380551e-02 -4.85654333e-02\n",
            " -2.62643337e-02 -4.18103883e-02  7.03511000e-02  2.15850924e-02\n",
            "  6.46887292e-02  3.84882290e-02  2.55123819e-02  1.19783936e-02\n",
            "  3.09680727e-01  4.24542807e-02 -4.14828599e-02  3.27180908e-02\n",
            "  5.73183621e-02 -7.78034559e-03  1.00206245e-02  1.34931908e-02\n",
            " -1.21128021e+00  7.30420283e-02  3.88869205e-02 -5.15415620e-02\n",
            " -5.46605778e-02 -1.45573000e-02 -3.74879177e-02  8.49768564e-02\n",
            "  7.50256159e-02  2.56307143e-01 -2.34715145e-02 -6.04046209e-02\n",
            "  2.27826974e-02 -3.72995318e-04  3.86167004e-02 -1.66528128e-02\n",
            "  1.03601330e-02  7.04590117e-02  8.47488665e-02  5.18966865e-02\n",
            "  7.04101878e-02  3.02792561e-01 -5.07328204e-01 -5.02914749e-03\n",
            " -2.24242553e-02 -2.73157084e-02 -1.91500231e-01 -9.79069985e-03\n",
            "  3.06071555e-02  4.70631871e-02  3.39809717e-02  5.28045546e-03\n",
            "  7.71283346e-02  4.78437415e-02 -6.96926788e-03  2.20759661e-01\n",
            " -1.42431501e-02 -2.68131307e-03 -3.74849177e-02 -6.18975990e-02\n",
            "  6.07284776e-02  1.13253406e-02  9.44882453e-02  1.34060294e-01\n",
            "  5.45240610e-02  4.08915507e-02  6.21601694e-02  2.30266527e-03\n",
            " -7.48446818e-02  6.86512563e-03 -4.05756024e-02 -3.04682305e-02\n",
            " -3.35151318e-02  1.92199728e-02 -1.75356504e-01 -4.15105061e-03\n",
            " -2.84591244e-02  2.26496877e-02  2.16312089e-02  2.68128102e-02\n",
            " -2.12384215e-02 -7.17367753e-02  6.32731145e-02 -4.83259469e-02\n",
            " -7.10989672e-02  2.54230964e-02 -9.31095192e-04  2.27103321e-02\n",
            " -6.00332607e-03  1.24977649e-03 -1.27069648e-01  1.90607408e-02\n",
            "  1.56232592e-02 -2.80543936e-02 -1.36382943e-02 -1.00991803e-01\n",
            " -8.15373221e-01  4.61526813e-02 -1.90326912e-02  5.49374745e-02]\n"
          ]
        }
      ]
    },
    {
      "cell_type": "code",
      "source": [
        "import sklearn.metrics as metrics\n",
        "def regression_results(y_true, y_pred):\n",
        "\n",
        "    explained_variance=metrics.explained_variance_score(y_true, y_pred)\n",
        "    mean_absolute_error=metrics.mean_absolute_error(y_true, y_pred) \n",
        "    mse=metrics.mean_squared_error(y_true, y_pred) \n",
        "    median_absolute_error=metrics.median_absolute_error(y_true, y_pred)\n",
        "    r2=metrics.r2_score(y_true, y_pred)\n",
        "\n",
        "    print('explained_variance: ', round(explained_variance,4))    \n",
        "    print('r2: ', round(r2,4))\n",
        "    print('MAE: ', round(mean_absolute_error,4))\n",
        "    print('MSE: ', round(mse,4))\n",
        "    print('RMSE: ', round(np.sqrt(mse),4))"
      ],
      "metadata": {
        "id": "v7QJrjCzeqtb"
      },
      "execution_count": 70,
      "outputs": []
    },
    {
      "cell_type": "code",
      "source": [
        "regression_results(y_test,predictions)"
      ],
      "metadata": {
        "colab": {
          "base_uri": "https://localhost:8080/"
        },
        "id": "ImFhAonne6h-",
        "outputId": "a02932f4-c371-41f9-b5f3-bdc10ad6a485"
      },
      "execution_count": 71,
      "outputs": [
        {
          "output_type": "stream",
          "name": "stdout",
          "text": [
            "explained_variance:  0.0647\n",
            "r2:  0.0647\n",
            "MAE:  0.8543\n",
            "MSE:  0.8487\n",
            "RMSE:  0.9213\n"
          ]
        }
      ]
    },
    {
      "cell_type": "code",
      "source": [
        "# Relevancia de bigramas en la predicción\n",
        "features=[]\n",
        "for i,v in enumerate(lr.coef_):\n",
        "  features.append([vec.get_feature_names_out()[i],v ])"
      ],
      "metadata": {
        "id": "DzFMtYNu3BAF"
      },
      "execution_count": 72,
      "outputs": []
    },
    {
      "cell_type": "code",
      "source": [
        "sorted(features, key = lambda x: x[1])"
      ],
      "metadata": {
        "colab": {
          "base_uri": "https://localhost:8080/"
        },
        "outputId": "5d3a569f-633e-48be-a4ff-e6efcf831add",
        "id": "5NBP6idq3BAH"
      },
      "execution_count": 73,
      "outputs": [
        {
          "output_type": "execute_result",
          "data": {
            "text/plain": [
              "[['número formula', -1.2112802097875632],\n",
              " ['feder izquierda', -0.891643274946114],\n",
              " ['vaya concluyendo', -0.8153732205640148],\n",
              " ['izquierda plural', -0.7441073409876309],\n",
              " ['portavoz socialista', -0.5073282043990159],\n",
              " ['congreso formula', -0.49070798582415],\n",
              " ['diputada doña', -0.38030112648709424],\n",
              " ['fijación posicion', -0.33458919259009173],\n",
              " ['convergència unió', -0.2483603963838855],\n",
              " ['producto interior', -0.19150023091640023],\n",
              " ['servicio social', -0.17535650418748797],\n",
              " ['consecuencia interpelación', -0.16800244279448492],\n",
              " ['coalición canaria', -0.15544637049336268],\n",
              " ['creación empleo', -0.1507366055798051],\n",
              " ['comunidad económica', -0.13955203527801824],\n",
              " ['tramitación proyecto', -0.1270696482210755],\n",
              " ['consideración proposición', -0.11216248300575998],\n",
              " ['diputación permanent', -0.10777211142885443],\n",
              " ['ciudadano español', -0.10606657353424453],\n",
              " ['fuerza cuerpo', -0.10583615423830812],\n",
              " ['vasco pnv', -0.1009918034982953],\n",
              " ['gener poder', -0.09423951042987211],\n",
              " ['izquierda unida', -0.0921714262487232],\n",
              " ['mediana empresa', -0.09023805511798373],\n",
              " ['administracion pública', -0.08384602243153569],\n",
              " ['crisi económica', -0.08157516430774746],\n",
              " ['seguridad jurídica', -0.0748446817590045],\n",
              " ['sociedad española', -0.07173677527570911],\n",
              " ['tan important', -0.07109896723834205],\n",
              " ['economía española', -0.07053473782182619],\n",
              " ['constitución española', -0.06636439587361508],\n",
              " ['recuperación económica', -0.06189759899870647],\n",
              " ['desean fijar', -0.061499308533675696],\n",
              " ['persona física', -0.06040462092197523],\n",
              " ['pacto toledo', -0.05466057783517801],\n",
              " ['déficit público', -0.054084373196691966],\n",
              " ['ordenamiento jurídico', -0.05154156201429915],\n",
              " ['medida urgent', -0.04856543332482392],\n",
              " ['sánchez llibr', -0.0483259469424154],\n",
              " ['interé gener', -0.04484175930988991],\n",
              " ['medio comunicación', -0.04181038829146277],\n",
              " ['nacion salud', -0.041482859853193145],\n",
              " ['semana pasada', -0.040575602437273005],\n",
              " ['paí vasco', -0.037487917658483964],\n",
              " ['radiotelevisión española', -0.03748491766479581],\n",
              " ['igualdad oportunidad', -0.03569519769658751],\n",
              " ['exposición motivo', -0.034839030316530996],\n",
              " ['sentencia tribun', -0.033515131841926685],\n",
              " ['derecho humano', -0.032039917032797245],\n",
              " ['crédito extraordinario', -0.03183407538740274],\n",
              " ['lucha fraud', -0.03094754853868664],\n",
              " ['senado proyecto', -0.030468230538200646],\n",
              " ['cualquier caso', -0.02999968833351012],\n",
              " ['hace falta', -0.02919190766712533],\n",
              " ['sistema educativo', -0.028459124405396885],\n",
              " ['tribun supremo', -0.028054393591173725],\n",
              " ['presupuesto general', -0.027315708446467746],\n",
              " ['medio ambient', -0.026264333693102635],\n",
              " ['persona discapacidad', -0.02347151450921187],\n",
              " ['hace mese', -0.022452034700428204],\n",
              " ['prestación servicio', -0.022424255251835352],\n",
              " ['situación económica', -0.02123842151331108],\n",
              " ['violencia género', -0.01903269122371783],\n",
              " ['estabilidad presupuestaria', -0.01898814758084797],\n",
              " ['agencia tributaria', -0.01851309334349794],\n",
              " ['ahora mismo', -0.01691016623434445],\n",
              " ['política económica', -0.016652812830011892],\n",
              " ['guardia civil', -0.016028117804066204],\n",
              " ['formación profesion', -0.01514380540699368],\n",
              " ['parlamento europeo', -0.01455730004649731],\n",
              " ['quiero decirl', -0.014243150097286503],\n",
              " ['unión europea', -0.013638294279707822],\n",
              " ['función pública', -0.010115281343282306],\n",
              " ['programa elector', -0.00979069985142506],\n",
              " ['fuerza armada', -0.009155753419840637],\n",
              " ['alto cargo', -0.009119339975850122],\n",
              " ['llegar acuerdo', -0.008957710382068742],\n",
              " ['derecho libertad', -0.008820531089790038],\n",
              " ['ningún caso', -0.007780345585378767],\n",
              " ['puesto trabajo', -0.006969267876144925],\n",
              " ['toda comunidad', -0.006003326067413294],\n",
              " ['banco españa', -0.005259022049611326],\n",
              " ['presión fiscal', -0.005029147494739687],\n",
              " ['si quier', -0.0041510506116844825],\n",
              " ['gasto público', -0.004072337930010701],\n",
              " ['corporacion local', -0.002908641423793455],\n",
              " ['quiero recordar', -0.0026813130708312136],\n",
              " ['comunidad autónoma', -0.0020328764435308413],\n",
              " ['texto alternativo', -0.0009310951919409307],\n",
              " ['poder judici', -0.00037299531772169074],\n",
              " ['empresa pública', -4.717289487195225e-05],\n",
              " ['toma consideración', 0.0012497764937326001],\n",
              " ['sector público', 0.0023026652686303326],\n",
              " ['entidad local', 0.003156046411172899],\n",
              " ['código penal', 0.00438459925137549],\n",
              " ['proyecto presupuesto', 0.005280455455429318],\n",
              " ['administración gener', 0.005974188434795018],\n",
              " ['crecimiento económico', 0.006097667021335166],\n",
              " ['seguridad social', 0.00686512563063018],\n",
              " ['iniciativa legislativa', 0.007045631233844506],\n",
              " ['asunto exterior', 0.008353246807086271],\n",
              " ['ningún tipo', 0.010020624531198188],\n",
              " ['política exterior', 0.010360133046838605],\n",
              " ['artículo reglamento', 0.010938370577679754],\n",
              " ['reino unido', 0.011325340637183472],\n",
              " ['cort general', 0.011576199546332457],\n",
              " ['ministerio sanidad', 0.011978393579761019],\n",
              " ['alguna manera', 0.013265682990340415],\n",
              " ['nombr socialista', 0.013493190822106088],\n",
              " ['impuesto renta', 0.01387059912834211],\n",
              " ['actividad económica', 0.014233989743871705],\n",
              " ['disposición final', 0.014386495578370913],\n",
              " ['izquierda per', 0.014409225033358142],\n",
              " ['alta velocidad', 0.014521234937093295],\n",
              " ['tribun cuenta', 0.01562325924511297],\n",
              " ['comisión europea', 0.01564566264783675],\n",
              " ['estatuto autonomía', 0.015824017433782624],\n",
              " ['defensor pueblo', 0.016743683856709077],\n",
              " ['diario sesion', 0.016911612307771953],\n",
              " ['deuda pública', 0.017207722348498853],\n",
              " ['director gener', 0.01843247672169876],\n",
              " ['impuesto sociedad', 0.018898411349416014],\n",
              " ['tribun constitucion', 0.019060740771890697],\n",
              " ['servicio público', 0.019219972837380472],\n",
              " ['millon peseta', 0.02158509235876889],\n",
              " ['sistema financiero', 0.021631208885360655],\n",
              " ['sistema financiación', 0.02264968772488713],\n",
              " ['tipo interé', 0.022710332069807736],\n",
              " ['plan nacion', 0.0227826973902617],\n",
              " ['administración justicia', 0.02291941169298397],\n",
              " ['mayor part', 0.024676712920649286],\n",
              " ['tener cuenta', 0.025423096362486998],\n",
              " ['ministerio justicia', 0.025512381853276377],\n",
              " ['diálogo social', 0.02670731109596381],\n",
              " ['sistema nacion', 0.026812810159792585],\n",
              " ['proposición popular', 0.03060715553397784],\n",
              " ['dirección gener', 0.03080487673108066],\n",
              " ['comunidad europea', 0.03219259282946785],\n",
              " ['nacion unida', 0.032718090760200595],\n",
              " ['proyecto orgánica', 0.03398097170922875],\n",
              " ['debat totalidad', 0.03404249196480477],\n",
              " ['instituto nacion', 0.03589712450494435],\n",
              " ['consejo europeo', 0.0359824069429083],\n",
              " ['ministerio interior', 0.038488229015910314],\n",
              " ['poder público', 0.03861670044889332],\n",
              " ['disposición adicion', 0.03867691497838276],\n",
              " ['opinión pública', 0.03888692053611614],\n",
              " ['económico social', 0.040810782042993175],\n",
              " ['salario mínimo', 0.0408915507253687],\n",
              " ['asunto social', 0.041552287045758876],\n",
              " ['mismo tiempo', 0.042454280731711244],\n",
              " ['ver si', 0.04615268125129428],\n",
              " ['protección social', 0.04706318706729444],\n",
              " ['artículo constitución', 0.047492964492684045],\n",
              " ['puesto marcha', 0.047843741452119025],\n",
              " ['poner marcha', 0.05189668653247806],\n",
              " ['ruego vaya', 0.05452406100432589],\n",
              " ['último mese', 0.05493747448140937],\n",
              " ['ninguna duda', 0.05731836214189892],\n",
              " ['reforma labor', 0.06072847756993428],\n",
              " ['administración pública', 0.06129469389741994],\n",
              " ['largo plazo', 0.06214798491170457],\n",
              " ['sector privado', 0.062160169436124825],\n",
              " ['disposición transitoria', 0.06316420748914042],\n",
              " ['ss ss', 0.06327311448615203],\n",
              " ['ministerio educación', 0.06468872922778016],\n",
              " ['dar respuesta', 0.06765655757517398],\n",
              " ['mercado trabajo', 0.07035109997627147],\n",
              " ['popular congreso', 0.07041018781764413],\n",
              " ['política fiscal', 0.07045901166794385],\n",
              " ['cuerpo seguridad', 0.07060667128452766],\n",
              " ['obra pública', 0.07304202826943598],\n",
              " ['pequeña mediana', 0.07502561588269516],\n",
              " ['fuerza política', 0.07675467913040979],\n",
              " ['puesta marcha', 0.0771283345952099],\n",
              " ['hace tiempo', 0.07864587570026225],\n",
              " ['junta portavoc', 0.0828437551398104],\n",
              " ['política social', 0.08474886645027611],\n",
              " ['hace referencia', 0.08478658489381719],\n",
              " ['país europeo', 0.08497685642644162],\n",
              " ['duda alguna', 0.08587471555834647],\n",
              " ['consejo gener', 0.08612119011343557],\n",
              " ['aquel momento', 0.08893065463866176],\n",
              " ['administración central', 0.09341372076933119],\n",
              " ['resolv problema', 0.09448824527991745],\n",
              " ['carácter gener', 0.09973195960749558],\n",
              " ['hecho referencia', 0.10878170118864021],\n",
              " ['economía hacienda', 0.12020044597386652],\n",
              " ['ruego concluya', 0.1340602943529222],\n",
              " ['económica europea', 0.17472831840624709],\n",
              " ['aprobado dictamen', 0.1951947281059512],\n",
              " ['pérez royo', 0.2207596614351678],\n",
              " ['interior bruto', 0.22436125798991102],\n",
              " ['per catalunya', 0.2563071429709835],\n",
              " ['bravo laguna', 0.27708859660646945],\n",
              " ['dictamen comisión', 0.27805480993282244],\n",
              " ['portavoz popular', 0.30279256148737693],\n",
              " ['minoría catalana', 0.30968072688238607],\n",
              " ['catalunya verd', 0.3158106466495988],\n",
              " ['coalición popular', 0.37066651430639463]]"
            ]
          },
          "metadata": {},
          "execution_count": 73
        }
      ]
    }
  ]
}