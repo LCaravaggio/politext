{
  "nbformat": 4,
  "nbformat_minor": 0,
  "metadata": {
    "colab": {
      "provenance": [],
      "include_colab_link": true
    },
    "kernelspec": {
      "name": "python3",
      "display_name": "Python 3"
    },
    "language_info": {
      "name": "python"
    }
  },
  "cells": [
    {
      "cell_type": "markdown",
      "metadata": {
        "id": "view-in-github",
        "colab_type": "text"
      },
      "source": [
        "<a href=\"https://colab.research.google.com/github/LCaravaggio/politext/blob/main/Toda_la_base.ipynb\" target=\"_parent\"><img src=\"https://colab.research.google.com/assets/colab-badge.svg\" alt=\"Open In Colab\"/></a>"
      ]
    },
    {
      "cell_type": "markdown",
      "source": [
        "# Cargar la base"
      ],
      "metadata": {
        "id": "3bR6IbjGTqyw"
      }
    },
    {
      "cell_type": "code",
      "source": [
        "from google.colab import drive\n",
        "drive.mount('/content/drive')"
      ],
      "metadata": {
        "colab": {
          "base_uri": "https://localhost:8080/"
        },
        "id": "1d3u68qTTy95",
        "outputId": "efc1f25f-3f8c-4f54-dfab-e29d0e6b24fd"
      },
      "execution_count": 1,
      "outputs": [
        {
          "output_type": "stream",
          "name": "stdout",
          "text": [
            "Mounted at /content/drive\n"
          ]
        }
      ]
    },
    {
      "cell_type": "code",
      "source": [
        "import pandas as pd\n",
        "base=pd.read_csv('/content/drive/MyDrive/base_formateada.csv')"
      ],
      "metadata": {
        "id": "a4Y2nh_NT6vv",
        "colab": {
          "base_uri": "https://localhost:8080/"
        },
        "outputId": "317390c1-4e5c-4857-eca6-18c32bb2416f"
      },
      "execution_count": 2,
      "outputs": [
        {
          "output_type": "stream",
          "name": "stderr",
          "text": [
            "/usr/local/lib/python3.7/dist-packages/IPython/core/interactiveshell.py:3326: DtypeWarning: Columns (18) have mixed types.Specify dtype option on import or set low_memory=False.\n",
            "  exec(code_obj, self.user_global_ns, self.user_ns)\n"
          ]
        }
      ]
    },
    {
      "cell_type": "markdown",
      "source": [
        "# CV"
      ],
      "metadata": {
        "id": "DGXL1PFubO1X"
      }
    },
    {
      "cell_type": "code",
      "source": [
        "base['party'].value_counts()"
      ],
      "metadata": {
        "id": "cmCxT85hEyXg",
        "outputId": "e1e1e0cc-2b09-4029-868d-1db64912f950",
        "colab": {
          "base_uri": "https://localhost:8080/"
        }
      },
      "execution_count": 3,
      "outputs": [
        {
          "output_type": "execute_result",
          "data": {
            "text/plain": [
              "PSOE    189526\n",
              "PP      144895\n",
              "Name: party, dtype: int64"
            ]
          },
          "metadata": {},
          "execution_count": 3
        }
      ]
    },
    {
      "cell_type": "code",
      "source": [
        "from sklearn.model_selection import train_test_split\n",
        "#base['tokens']=base[\"tokens\"].map(' '.join)\n",
        "X_train, X_test, y_train, y_test = train_test_split(base.loc[:, base.columns != 'party'], base['party'], test_size=0.33, random_state=42)"
      ],
      "metadata": {
        "id": "K97ay8J3F60U"
      },
      "execution_count": 4,
      "outputs": []
    },
    {
      "cell_type": "code",
      "source": [
        "# Balance de clase\n",
        "y_train.value_counts()"
      ],
      "metadata": {
        "colab": {
          "base_uri": "https://localhost:8080/"
        },
        "id": "3bTAet19F-IX",
        "outputId": "f02e52c0-52bd-4cb2-c71c-a02877ef5d0d"
      },
      "execution_count": 5,
      "outputs": [
        {
          "output_type": "execute_result",
          "data": {
            "text/plain": [
              "PSOE    127260\n",
              "PP       96802\n",
              "Name: party, dtype: int64"
            ]
          },
          "metadata": {},
          "execution_count": 5
        }
      ]
    },
    {
      "cell_type": "code",
      "source": [
        "import nltk\n",
        "nltk.download('stopwords')\n",
        "from nltk.corpus import stopwords\n",
        "stopwords=stopwords.words('spanish')"
      ],
      "metadata": {
        "colab": {
          "base_uri": "https://localhost:8080/"
        },
        "id": "vG2Zxxq3UvyZ",
        "outputId": "bc309e9f-757f-4239-f292-3446c4f5d6ed"
      },
      "execution_count": 6,
      "outputs": [
        {
          "output_type": "stream",
          "name": "stderr",
          "text": [
            "[nltk_data] Downloading package stopwords to /root/nltk_data...\n",
            "[nltk_data]   Unzipping corpora/stopwords.zip.\n"
          ]
        }
      ]
    },
    {
      "cell_type": "code",
      "source": [
        "# Se incorporan las stopwords sugeridas por Federico\n",
        "stopwords.extend(['señor', 'señora', 'mucha', 'gracia', 'año', 'pasado', 'cada', 'vez', 'uno', 'dos', 'tres', 'cuatro', 'cinco', 'seis' ,'siete', 'ocho', 'nueve', 'diez'])\n",
        "stopwords.extend(['hoy', 'aquí', 'primer', 'lugar', 'primera', 'segunda', 'primero', 'segundo', 'siguiente', 'tercer'])\n",
        "stopwords.extend(['convergencia', 'esquerra', 'republicana', 'grupo', 'parlamentaria', 'parlamentario', 'partido'])\n",
        "stopwords.extend(['enmienda', 'votación', 'favor', 'abstención', 'ley', 'real', 'decreto', 'decretoley', 'resultado', 'voto', 'sé' ,'sí', 'silencio' ,'favor'])\n",
        "stopwords.extend(['usted', 'señoría', 'presidente', 'presidenta', 'ministro', 'orden' , 'día', 'palabra', 'petición', 'posición', 'punto', 'vista', 'sesión', 'baldoví', 'duran', 'turno'])\n",
        "stopwords.extend(['hacer', 'frente', 'puede' ,'ser', 'va', 'voy', 'decir'])\n",
        "stopwords.extend(['millón', 'euro', 'emitido', 'efectuada', 'dio', 'comienzo', 'partido', 'queda', 'quedan', 'rechazada', 'aceptada', 'comienza', 'usted', 'sabe', 'abstención', 'diputado', 'gobierno'])\n",
        "stopwords.extend(['continuación', 'votamos', 'telemático', 'republicanaizquierda', 'unidainiciativa', 'puede', 'bien', 'propuesta' ,'abstencion', 'mayoría', 'absoluta', 'pregunta', 'don', 'vamos', 'votar', 'llevar', 'cabo', 'millón', 'muchas', 'gracias'])"
      ],
      "metadata": {
        "id": "D34MOjAhUx_a"
      },
      "execution_count": 7,
      "outputs": []
    },
    {
      "cell_type": "code",
      "source": [
        "from sklearn.feature_extraction.text import CountVectorizer\n",
        "cv=CountVectorizer(ngram_range=[2,2], max_features=200, stop_words=stopwords, max_df=0.95, min_df=0.001)\n",
        "vec = cv.fit(X_train['tokens'])"
      ],
      "metadata": {
        "id": "4DJ5xDWCGAnk"
      },
      "execution_count": 8,
      "outputs": []
    },
    {
      "cell_type": "code",
      "source": [
        "train_matrix = vec.fit_transform(X_train['tokens'])\n",
        "test_matrix = vec.transform(X_test['tokens'])"
      ],
      "metadata": {
        "id": "egJ2P5OvOXwm"
      },
      "execution_count": 9,
      "outputs": []
    },
    {
      "cell_type": "markdown",
      "source": [
        "# LASSO"
      ],
      "metadata": {
        "id": "he5iXGwabZZj"
      }
    },
    {
      "cell_type": "code",
      "source": [
        "from sklearn.linear_model import LogisticRegression\n",
        "from sklearn.metrics import confusion_matrix,classification_report\n",
        "import numpy as np"
      ],
      "metadata": {
        "id": "JTqJ61B0Yygk"
      },
      "execution_count": 10,
      "outputs": []
    },
    {
      "cell_type": "code",
      "source": [
        "lr = LogisticRegression(penalty='l1', max_iter=1000, solver='liblinear')"
      ],
      "metadata": {
        "id": "tRJkiHV4OaNW"
      },
      "execution_count": 11,
      "outputs": []
    },
    {
      "cell_type": "code",
      "source": [
        "lr.fit(train_matrix,y_train)"
      ],
      "metadata": {
        "colab": {
          "base_uri": "https://localhost:8080/"
        },
        "id": "4e5xEAYfOcKP",
        "outputId": "11ca6667-47bf-49d7-b2d6-eb2c40a0c183"
      },
      "execution_count": 12,
      "outputs": [
        {
          "output_type": "execute_result",
          "data": {
            "text/plain": [
              "LogisticRegression(max_iter=1000, penalty='l1', solver='liblinear')"
            ]
          },
          "metadata": {},
          "execution_count": 12
        }
      ]
    },
    {
      "cell_type": "code",
      "source": [
        "predictions = lr.predict(test_matrix)"
      ],
      "metadata": {
        "id": "UQcg6iZ6Od8x"
      },
      "execution_count": 13,
      "outputs": []
    },
    {
      "cell_type": "code",
      "source": [
        "new = np.asarray(y_test)\n",
        "confusion_matrix(predictions,y_test)"
      ],
      "metadata": {
        "colab": {
          "base_uri": "https://localhost:8080/"
        },
        "id": "MTitT84vOfsh",
        "outputId": "c9cd745c-d23d-459a-92c5-316370b301e9"
      },
      "execution_count": 14,
      "outputs": [
        {
          "output_type": "execute_result",
          "data": {
            "text/plain": [
              "array([[ 8010,  3204],\n",
              "       [40083, 59062]])"
            ]
          },
          "metadata": {},
          "execution_count": 14
        }
      ]
    },
    {
      "cell_type": "code",
      "source": [
        "print(classification_report(predictions,y_test))"
      ],
      "metadata": {
        "colab": {
          "base_uri": "https://localhost:8080/"
        },
        "id": "yE2hFlZvOhRW",
        "outputId": "dd1a00d8-aae7-475c-fcde-0207d551def8"
      },
      "execution_count": 15,
      "outputs": [
        {
          "output_type": "stream",
          "name": "stdout",
          "text": [
            "              precision    recall  f1-score   support\n",
            "\n",
            "          PP       0.17      0.71      0.27     11214\n",
            "        PSOE       0.95      0.60      0.73     99145\n",
            "\n",
            "    accuracy                           0.61    110359\n",
            "   macro avg       0.56      0.65      0.50    110359\n",
            "weighted avg       0.87      0.61      0.68    110359\n",
            "\n"
          ]
        }
      ]
    },
    {
      "cell_type": "code",
      "source": [
        "# Relevancia de bigramas en la predicción\n",
        "features=[]\n",
        "for i,v in enumerate(lr.coef_[0]):\n",
        "  features.append([vec.get_feature_names_out()[i],v ])"
      ],
      "metadata": {
        "id": "aWUa5xpiOjmD"
      },
      "execution_count": 16,
      "outputs": []
    },
    {
      "cell_type": "code",
      "source": [
        "from prettytable import PrettyTable"
      ],
      "metadata": {
        "id": "PDiH4nc-wXmz"
      },
      "execution_count": 17,
      "outputs": []
    },
    {
      "cell_type": "code",
      "source": [
        "pd.DataFrame(sorted(features, key = lambda x: x[1]), columns =['Bigrama','relevancia']).head(10)"
      ],
      "metadata": {
        "colab": {
          "base_uri": "https://localhost:8080/",
          "height": 363
        },
        "id": "Q0bwziNOOlbQ",
        "outputId": "76ffdabe-7516-4b63-d4f0-8effdd036862"
      },
      "execution_count": 18,
      "outputs": [
        {
          "output_type": "execute_result",
          "data": {
            "text/plain": [
              "                Bigrama  relevancia\n",
              "0        número formula   -4.386114\n",
              "1      izquierda plural   -2.246694\n",
              "2       feder izquierda   -2.027500\n",
              "3         nombr popular   -1.563585\n",
              "4   portavoz socialista   -1.419491\n",
              "5    rodríguez zapatero   -1.197709\n",
              "6      congreso formula   -1.007734\n",
              "7  interpelación urgent   -0.679360\n",
              "8      vaya concluyendo   -0.667503\n",
              "9         diputada doña   -0.645285"
            ],
            "text/html": [
              "\n",
              "  <div id=\"df-0eb3f2da-f3b6-4e50-9a4b-30a2c5964225\">\n",
              "    <div class=\"colab-df-container\">\n",
              "      <div>\n",
              "<style scoped>\n",
              "    .dataframe tbody tr th:only-of-type {\n",
              "        vertical-align: middle;\n",
              "    }\n",
              "\n",
              "    .dataframe tbody tr th {\n",
              "        vertical-align: top;\n",
              "    }\n",
              "\n",
              "    .dataframe thead th {\n",
              "        text-align: right;\n",
              "    }\n",
              "</style>\n",
              "<table border=\"1\" class=\"dataframe\">\n",
              "  <thead>\n",
              "    <tr style=\"text-align: right;\">\n",
              "      <th></th>\n",
              "      <th>Bigrama</th>\n",
              "      <th>relevancia</th>\n",
              "    </tr>\n",
              "  </thead>\n",
              "  <tbody>\n",
              "    <tr>\n",
              "      <th>0</th>\n",
              "      <td>número formula</td>\n",
              "      <td>-4.386114</td>\n",
              "    </tr>\n",
              "    <tr>\n",
              "      <th>1</th>\n",
              "      <td>izquierda plural</td>\n",
              "      <td>-2.246694</td>\n",
              "    </tr>\n",
              "    <tr>\n",
              "      <th>2</th>\n",
              "      <td>feder izquierda</td>\n",
              "      <td>-2.027500</td>\n",
              "    </tr>\n",
              "    <tr>\n",
              "      <th>3</th>\n",
              "      <td>nombr popular</td>\n",
              "      <td>-1.563585</td>\n",
              "    </tr>\n",
              "    <tr>\n",
              "      <th>4</th>\n",
              "      <td>portavoz socialista</td>\n",
              "      <td>-1.419491</td>\n",
              "    </tr>\n",
              "    <tr>\n",
              "      <th>5</th>\n",
              "      <td>rodríguez zapatero</td>\n",
              "      <td>-1.197709</td>\n",
              "    </tr>\n",
              "    <tr>\n",
              "      <th>6</th>\n",
              "      <td>congreso formula</td>\n",
              "      <td>-1.007734</td>\n",
              "    </tr>\n",
              "    <tr>\n",
              "      <th>7</th>\n",
              "      <td>interpelación urgent</td>\n",
              "      <td>-0.679360</td>\n",
              "    </tr>\n",
              "    <tr>\n",
              "      <th>8</th>\n",
              "      <td>vaya concluyendo</td>\n",
              "      <td>-0.667503</td>\n",
              "    </tr>\n",
              "    <tr>\n",
              "      <th>9</th>\n",
              "      <td>diputada doña</td>\n",
              "      <td>-0.645285</td>\n",
              "    </tr>\n",
              "  </tbody>\n",
              "</table>\n",
              "</div>\n",
              "      <button class=\"colab-df-convert\" onclick=\"convertToInteractive('df-0eb3f2da-f3b6-4e50-9a4b-30a2c5964225')\"\n",
              "              title=\"Convert this dataframe to an interactive table.\"\n",
              "              style=\"display:none;\">\n",
              "        \n",
              "  <svg xmlns=\"http://www.w3.org/2000/svg\" height=\"24px\"viewBox=\"0 0 24 24\"\n",
              "       width=\"24px\">\n",
              "    <path d=\"M0 0h24v24H0V0z\" fill=\"none\"/>\n",
              "    <path d=\"M18.56 5.44l.94 2.06.94-2.06 2.06-.94-2.06-.94-.94-2.06-.94 2.06-2.06.94zm-11 1L8.5 8.5l.94-2.06 2.06-.94-2.06-.94L8.5 2.5l-.94 2.06-2.06.94zm10 10l.94 2.06.94-2.06 2.06-.94-2.06-.94-.94-2.06-.94 2.06-2.06.94z\"/><path d=\"M17.41 7.96l-1.37-1.37c-.4-.4-.92-.59-1.43-.59-.52 0-1.04.2-1.43.59L10.3 9.45l-7.72 7.72c-.78.78-.78 2.05 0 2.83L4 21.41c.39.39.9.59 1.41.59.51 0 1.02-.2 1.41-.59l7.78-7.78 2.81-2.81c.8-.78.8-2.07 0-2.86zM5.41 20L4 18.59l7.72-7.72 1.47 1.35L5.41 20z\"/>\n",
              "  </svg>\n",
              "      </button>\n",
              "      \n",
              "  <style>\n",
              "    .colab-df-container {\n",
              "      display:flex;\n",
              "      flex-wrap:wrap;\n",
              "      gap: 12px;\n",
              "    }\n",
              "\n",
              "    .colab-df-convert {\n",
              "      background-color: #E8F0FE;\n",
              "      border: none;\n",
              "      border-radius: 50%;\n",
              "      cursor: pointer;\n",
              "      display: none;\n",
              "      fill: #1967D2;\n",
              "      height: 32px;\n",
              "      padding: 0 0 0 0;\n",
              "      width: 32px;\n",
              "    }\n",
              "\n",
              "    .colab-df-convert:hover {\n",
              "      background-color: #E2EBFA;\n",
              "      box-shadow: 0px 1px 2px rgba(60, 64, 67, 0.3), 0px 1px 3px 1px rgba(60, 64, 67, 0.15);\n",
              "      fill: #174EA6;\n",
              "    }\n",
              "\n",
              "    [theme=dark] .colab-df-convert {\n",
              "      background-color: #3B4455;\n",
              "      fill: #D2E3FC;\n",
              "    }\n",
              "\n",
              "    [theme=dark] .colab-df-convert:hover {\n",
              "      background-color: #434B5C;\n",
              "      box-shadow: 0px 1px 3px 1px rgba(0, 0, 0, 0.15);\n",
              "      filter: drop-shadow(0px 1px 2px rgba(0, 0, 0, 0.3));\n",
              "      fill: #FFFFFF;\n",
              "    }\n",
              "  </style>\n",
              "\n",
              "      <script>\n",
              "        const buttonEl =\n",
              "          document.querySelector('#df-0eb3f2da-f3b6-4e50-9a4b-30a2c5964225 button.colab-df-convert');\n",
              "        buttonEl.style.display =\n",
              "          google.colab.kernel.accessAllowed ? 'block' : 'none';\n",
              "\n",
              "        async function convertToInteractive(key) {\n",
              "          const element = document.querySelector('#df-0eb3f2da-f3b6-4e50-9a4b-30a2c5964225');\n",
              "          const dataTable =\n",
              "            await google.colab.kernel.invokeFunction('convertToInteractive',\n",
              "                                                     [key], {});\n",
              "          if (!dataTable) return;\n",
              "\n",
              "          const docLinkHtml = 'Like what you see? Visit the ' +\n",
              "            '<a target=\"_blank\" href=https://colab.research.google.com/notebooks/data_table.ipynb>data table notebook</a>'\n",
              "            + ' to learn more about interactive tables.';\n",
              "          element.innerHTML = '';\n",
              "          dataTable['output_type'] = 'display_data';\n",
              "          await google.colab.output.renderOutput(dataTable, element);\n",
              "          const docLink = document.createElement('div');\n",
              "          docLink.innerHTML = docLinkHtml;\n",
              "          element.appendChild(docLink);\n",
              "        }\n",
              "      </script>\n",
              "    </div>\n",
              "  </div>\n",
              "  "
            ]
          },
          "metadata": {},
          "execution_count": 18
        }
      ]
    },
    {
      "cell_type": "code",
      "source": [
        "pd.DataFrame(sorted(features, key = lambda x: x[1]), columns =['Bigrama','relevancia']).tail(10)"
      ],
      "metadata": {
        "id": "2owmfZxxyNFN",
        "outputId": "f4f44c7e-ea39-4dd8-fd28-354339aed299",
        "colab": {
          "base_uri": "https://localhost:8080/",
          "height": 363
        }
      },
      "execution_count": 19,
      "outputs": [
        {
          "output_type": "execute_result",
          "data": {
            "text/plain": [
              "               Bigrama  relevancia\n",
              "190      reforma labor    0.275013\n",
              "191    política social    0.281886\n",
              "192      izquierda per    0.286545\n",
              "193  económica europea    0.401246\n",
              "194   nombr socialista    0.420091\n",
              "195  dictamen comisión    0.801494\n",
              "196      per catalunya    1.020137\n",
              "197  coalición popular    1.081059\n",
              "198   minoría catalana    1.441939\n",
              "199     catalunya verd    1.593216"
            ],
            "text/html": [
              "\n",
              "  <div id=\"df-8264e4cc-0680-48a2-b517-bf32f87fbdb8\">\n",
              "    <div class=\"colab-df-container\">\n",
              "      <div>\n",
              "<style scoped>\n",
              "    .dataframe tbody tr th:only-of-type {\n",
              "        vertical-align: middle;\n",
              "    }\n",
              "\n",
              "    .dataframe tbody tr th {\n",
              "        vertical-align: top;\n",
              "    }\n",
              "\n",
              "    .dataframe thead th {\n",
              "        text-align: right;\n",
              "    }\n",
              "</style>\n",
              "<table border=\"1\" class=\"dataframe\">\n",
              "  <thead>\n",
              "    <tr style=\"text-align: right;\">\n",
              "      <th></th>\n",
              "      <th>Bigrama</th>\n",
              "      <th>relevancia</th>\n",
              "    </tr>\n",
              "  </thead>\n",
              "  <tbody>\n",
              "    <tr>\n",
              "      <th>190</th>\n",
              "      <td>reforma labor</td>\n",
              "      <td>0.275013</td>\n",
              "    </tr>\n",
              "    <tr>\n",
              "      <th>191</th>\n",
              "      <td>política social</td>\n",
              "      <td>0.281886</td>\n",
              "    </tr>\n",
              "    <tr>\n",
              "      <th>192</th>\n",
              "      <td>izquierda per</td>\n",
              "      <td>0.286545</td>\n",
              "    </tr>\n",
              "    <tr>\n",
              "      <th>193</th>\n",
              "      <td>económica europea</td>\n",
              "      <td>0.401246</td>\n",
              "    </tr>\n",
              "    <tr>\n",
              "      <th>194</th>\n",
              "      <td>nombr socialista</td>\n",
              "      <td>0.420091</td>\n",
              "    </tr>\n",
              "    <tr>\n",
              "      <th>195</th>\n",
              "      <td>dictamen comisión</td>\n",
              "      <td>0.801494</td>\n",
              "    </tr>\n",
              "    <tr>\n",
              "      <th>196</th>\n",
              "      <td>per catalunya</td>\n",
              "      <td>1.020137</td>\n",
              "    </tr>\n",
              "    <tr>\n",
              "      <th>197</th>\n",
              "      <td>coalición popular</td>\n",
              "      <td>1.081059</td>\n",
              "    </tr>\n",
              "    <tr>\n",
              "      <th>198</th>\n",
              "      <td>minoría catalana</td>\n",
              "      <td>1.441939</td>\n",
              "    </tr>\n",
              "    <tr>\n",
              "      <th>199</th>\n",
              "      <td>catalunya verd</td>\n",
              "      <td>1.593216</td>\n",
              "    </tr>\n",
              "  </tbody>\n",
              "</table>\n",
              "</div>\n",
              "      <button class=\"colab-df-convert\" onclick=\"convertToInteractive('df-8264e4cc-0680-48a2-b517-bf32f87fbdb8')\"\n",
              "              title=\"Convert this dataframe to an interactive table.\"\n",
              "              style=\"display:none;\">\n",
              "        \n",
              "  <svg xmlns=\"http://www.w3.org/2000/svg\" height=\"24px\"viewBox=\"0 0 24 24\"\n",
              "       width=\"24px\">\n",
              "    <path d=\"M0 0h24v24H0V0z\" fill=\"none\"/>\n",
              "    <path d=\"M18.56 5.44l.94 2.06.94-2.06 2.06-.94-2.06-.94-.94-2.06-.94 2.06-2.06.94zm-11 1L8.5 8.5l.94-2.06 2.06-.94-2.06-.94L8.5 2.5l-.94 2.06-2.06.94zm10 10l.94 2.06.94-2.06 2.06-.94-2.06-.94-.94-2.06-.94 2.06-2.06.94z\"/><path d=\"M17.41 7.96l-1.37-1.37c-.4-.4-.92-.59-1.43-.59-.52 0-1.04.2-1.43.59L10.3 9.45l-7.72 7.72c-.78.78-.78 2.05 0 2.83L4 21.41c.39.39.9.59 1.41.59.51 0 1.02-.2 1.41-.59l7.78-7.78 2.81-2.81c.8-.78.8-2.07 0-2.86zM5.41 20L4 18.59l7.72-7.72 1.47 1.35L5.41 20z\"/>\n",
              "  </svg>\n",
              "      </button>\n",
              "      \n",
              "  <style>\n",
              "    .colab-df-container {\n",
              "      display:flex;\n",
              "      flex-wrap:wrap;\n",
              "      gap: 12px;\n",
              "    }\n",
              "\n",
              "    .colab-df-convert {\n",
              "      background-color: #E8F0FE;\n",
              "      border: none;\n",
              "      border-radius: 50%;\n",
              "      cursor: pointer;\n",
              "      display: none;\n",
              "      fill: #1967D2;\n",
              "      height: 32px;\n",
              "      padding: 0 0 0 0;\n",
              "      width: 32px;\n",
              "    }\n",
              "\n",
              "    .colab-df-convert:hover {\n",
              "      background-color: #E2EBFA;\n",
              "      box-shadow: 0px 1px 2px rgba(60, 64, 67, 0.3), 0px 1px 3px 1px rgba(60, 64, 67, 0.15);\n",
              "      fill: #174EA6;\n",
              "    }\n",
              "\n",
              "    [theme=dark] .colab-df-convert {\n",
              "      background-color: #3B4455;\n",
              "      fill: #D2E3FC;\n",
              "    }\n",
              "\n",
              "    [theme=dark] .colab-df-convert:hover {\n",
              "      background-color: #434B5C;\n",
              "      box-shadow: 0px 1px 3px 1px rgba(0, 0, 0, 0.15);\n",
              "      filter: drop-shadow(0px 1px 2px rgba(0, 0, 0, 0.3));\n",
              "      fill: #FFFFFF;\n",
              "    }\n",
              "  </style>\n",
              "\n",
              "      <script>\n",
              "        const buttonEl =\n",
              "          document.querySelector('#df-8264e4cc-0680-48a2-b517-bf32f87fbdb8 button.colab-df-convert');\n",
              "        buttonEl.style.display =\n",
              "          google.colab.kernel.accessAllowed ? 'block' : 'none';\n",
              "\n",
              "        async function convertToInteractive(key) {\n",
              "          const element = document.querySelector('#df-8264e4cc-0680-48a2-b517-bf32f87fbdb8');\n",
              "          const dataTable =\n",
              "            await google.colab.kernel.invokeFunction('convertToInteractive',\n",
              "                                                     [key], {});\n",
              "          if (!dataTable) return;\n",
              "\n",
              "          const docLinkHtml = 'Like what you see? Visit the ' +\n",
              "            '<a target=\"_blank\" href=https://colab.research.google.com/notebooks/data_table.ipynb>data table notebook</a>'\n",
              "            + ' to learn more about interactive tables.';\n",
              "          element.innerHTML = '';\n",
              "          dataTable['output_type'] = 'display_data';\n",
              "          await google.colab.output.renderOutput(dataTable, element);\n",
              "          const docLink = document.createElement('div');\n",
              "          docLink.innerHTML = docLinkHtml;\n",
              "          element.appendChild(docLink);\n",
              "        }\n",
              "      </script>\n",
              "    </div>\n",
              "  </div>\n",
              "  "
            ]
          },
          "metadata": {},
          "execution_count": 19
        }
      ]
    },
    {
      "cell_type": "code",
      "source": [
        "# Entiendo que un número negativo en el coeficiente implica que el bigrama correlaciona bien con la clase 0, es decir PP. Por el otro lado, un coeficiente positivo implica que el bigrama correlaciona mejor con PSOE. \n",
        "lr.classes_"
      ],
      "metadata": {
        "colab": {
          "base_uri": "https://localhost:8080/"
        },
        "id": "miQgxc59jxZp",
        "outputId": "4d2a6821-b5cc-4de8-cf22-dbf92ef47379"
      },
      "execution_count": 20,
      "outputs": [
        {
          "output_type": "execute_result",
          "data": {
            "text/plain": [
              "array(['PP', 'PSOE'], dtype=object)"
            ]
          },
          "metadata": {},
          "execution_count": 20
        }
      ]
    },
    {
      "cell_type": "code",
      "source": [
        "# LASOO por año\n",
        "from sklearn.metrics import f1_score\n",
        "\n",
        "macro=[]\n",
        "weighted=[]\n",
        "\n",
        "lr = LogisticRegression(penalty='l1', max_iter=1000, solver='liblinear')\n",
        "\n",
        "for x in range(1979,2020): \n",
        "  try: \n",
        "    base_year=base[pd.DatetimeIndex(base.fecha).year==x]\n",
        "    X_train, X_test, y_train, y_test = train_test_split(base_year.loc[:, base_year.columns != 'party'], base_year['party'], test_size=0.33, random_state=42)\n",
        "    train_matrix = vec.fit_transform(X_train['tokens'])\n",
        "    test_matrix = vec.transform(X_test['tokens'])  \n",
        "    lr.fit(train_matrix,y_train)\n",
        "    predictions = lr.predict(test_matrix )\n",
        "    macro.append(f1_score(predictions,y_test, average='macro'))\n",
        "    weighted.append(f1_score(predictions,y_test, average='weighted'))\n",
        "  except: \n",
        "    macro.append(np.nan)\n",
        "    weighted.append(np.nan)"
      ],
      "metadata": {
        "id": "vT5GTcSJPGT7"
      },
      "execution_count": 21,
      "outputs": []
    },
    {
      "cell_type": "code",
      "source": [
        "# Yo entiendo que el resultado relevante es el macro, porque considera el desbalance de clases\n",
        "import matplotlib.pyplot as plt\n",
        "plt.plot(range(1979,2020), macro, marker='o')\n",
        "plt.plot(range(1979,2020), weighted, marker='+')"
      ],
      "metadata": {
        "colab": {
          "base_uri": "https://localhost:8080/",
          "height": 282
        },
        "id": "7laI6FgJRSyr",
        "outputId": "0b1a5c38-3402-40eb-974c-424514fb0d39"
      },
      "execution_count": 22,
      "outputs": [
        {
          "output_type": "execute_result",
          "data": {
            "text/plain": [
              "[<matplotlib.lines.Line2D at 0x7f08f49ed190>]"
            ]
          },
          "metadata": {},
          "execution_count": 22
        },
        {
          "output_type": "display_data",
          "data": {
            "text/plain": [
              "<Figure size 432x288 with 1 Axes>"
            ],
            "image/png": "[encoded data removed]"
          },
          "metadata": {
            "needs_background": "light"
          }
        }
      ]
    },
    {
      "cell_type": "code",
      "source": [
        "# LASOO por legislatura\n",
        "macro=[]\n",
        "weighted=[]\n",
        "\n",
        "lr = LogisticRegression(penalty='l1', max_iter=1000, solver='liblinear')\n",
        "legislaturas=['I', 'II', 'III', 'IV', 'V', 'VI', 'VII','VIII', 'IX', 'X', 'XI', 'XII','XIII']\n",
        "\n",
        "for x in legislaturas: \n",
        "  try: \n",
        "    base_year=base[base.legislatura==x]\n",
        "    X_train, X_test, y_train, y_test = train_test_split(base_year.loc[:, base_year.columns != 'party'], base_year['party'], test_size=0.33, random_state=42)\n",
        "    train_matrix = vec.fit_transform(X_train['tokens'])\n",
        "    test_matrix = vec.transform(X_test['tokens'])  \n",
        "    lr.fit(train_matrix,y_train)\n",
        "    predictions = lr.predict(test_matrix )\n",
        "    macro.append(f1_score(predictions,y_test, average='macro'))\n",
        "    weighted.append(f1_score(predictions,y_test, average='weighted'))\n",
        "  except: \n",
        "    macro.append(np.nan)\n",
        "    weighted.append(np.nan)"
      ],
      "metadata": {
        "id": "tdGW6WkIY2JD"
      },
      "execution_count": 23,
      "outputs": []
    },
    {
      "cell_type": "code",
      "source": [
        "# Yo entiendo que el resultado relevante es el macro, porque considera el desbalance de clases\n",
        "import matplotlib.pyplot as plt\n",
        "plt.plot(legislaturas, macro, marker='o')\n",
        "plt.plot(legislaturas, weighted, marker='+')"
      ],
      "metadata": {
        "colab": {
          "base_uri": "https://localhost:8080/",
          "height": 282
        },
        "id": "eyA7ffAeZQbN",
        "outputId": "9e5765a2-0a41-4caa-810d-30f9de9b737b"
      },
      "execution_count": 24,
      "outputs": [
        {
          "output_type": "execute_result",
          "data": {
            "text/plain": [
              "[<matplotlib.lines.Line2D at 0x7f08da313290>]"
            ]
          },
          "metadata": {},
          "execution_count": 24
        },
        {
          "output_type": "display_data",
          "data": {
            "text/plain": [
              "<Figure size 432x288 with 1 Axes>"
            ],
            "image/png": "[encoded data removed]"
          },
          "metadata": {
            "needs_background": "light"
          }
        }
      ]
    },
    {
      "cell_type": "code",
      "source": [
        "from tabulate import tabulate"
      ],
      "metadata": {
        "id": "rskCoMw_6Awx"
      },
      "execution_count": 25,
      "outputs": []
    },
    {
      "cell_type": "code",
      "source": [
        "# Relevancia de bigramas en la predicción por año\n",
        "tabla=[]\n",
        "for x in range (1979, 2020): \n",
        "  base_year=base[pd.DatetimeIndex(base.fecha).year==x]\n",
        "  X_train, X_test, y_train, y_test = train_test_split(base_year.loc[:, base_year.columns != 'party'], base_year['party'], test_size=0.33, random_state=42)\n",
        "  train_matrix = vec.fit_transform(X_train['tokens'])\n",
        "  test_matrix = vec.transform(X_test['tokens'])\n",
        "  lr = LogisticRegression(penalty='l1', max_iter=1000, solver='liblinear')\n",
        "  lr.fit(train_matrix,y_train)\n",
        "  predictions = lr.predict(test_matrix )\n",
        "  features=[]\n",
        "  for i,v in enumerate(lr.coef_[0]):\n",
        "    features.append([vec.get_feature_names_out()[i],v ])\n",
        "  sor=sorted(features, key = lambda x: x[1])\n",
        "  print(f\"Año: {x}\")\n",
        "  print(tabulate([sor[:3],sor[-3:]], tablefmt='pretty'))"
      ],
      "metadata": {
        "id": "zrM6LDzu-R-8",
        "outputId": "d0ed8978-6884-444d-ce49-ccb6fa8353a4",
        "colab": {
          "base_uri": "https://localhost:8080/"
        }
      },
      "execution_count": 26,
      "outputs": [
        {
          "output_type": "stream",
          "name": "stdout",
          "text": [
            "Año: 1979\n",
            "+-------------------------------------------+-------------------------------------------+-------------------------------------------+\n",
            "| ['publicada boletín', -2.401366897519209] |   ['precedido uso', -1.387663345723861]   | ['economía mercado', -1.3691801307275717] |\n",
            "|  ['sector eléctrico', 1.295984675871848]  | ['formacion política', 1.308957142130175] |  ['director gener', 1.3306086332830904]   |\n",
            "+-------------------------------------------+-------------------------------------------+-------------------------------------------+\n",
            "Año: 1980\n",
            "+--------------------------------------------+---------------------------------------------+-------------------------------------------+\n",
            "| ['aprobado artículo', -2.8309181682896183] |     ['pérez royo', -2.3056934060662244]     |  ['artículo pausa', -2.0542760425008004]  |\n",
            "|  ['justicia militar', 1.3937361594331468]  | ['formación profesion', 1.5164589370764923] | ['seguridad jurídica', 1.858318791729696] |\n",
            "+--------------------------------------------+---------------------------------------------+-------------------------------------------+\n",
            "Año: 1981\n",
            "+---------------------------------------------+---------------------------------------+--------------------------------------------+\n",
            "|     ['santa sede', -1.9489780415899374]     | ['quiero dejar', -1.0256434634723899] | ['derecho comparado', -0.9887598502224134] |\n",
            "| ['socialista cataluña', 1.2479336361942683] |  ['largo debat', 1.6051700468000538]  |   ['acuerdo santa', 2.4394999308610723]    |\n",
            "+---------------------------------------------+---------------------------------------+--------------------------------------------+\n",
            "Año: 1982\n",
            "+----------------------------------------+-------------------------------------------+-----------------------------------------+\n",
            "| ['duda ninguna', -2.5263170309595377]  |   ['ningún caso', -1.5004295088268342]    | ['pueblo español', -1.339501122969879]  |\n",
            "| ['recurso natural', 1.499473253124771] | ['proceso autonómico', 1.712978301816751] | ['resolv problema', 2.4231983472921392] |\n",
            "+----------------------------------------+-------------------------------------------+-----------------------------------------+\n",
            "Año: 1983\n",
            "+----------------------------------------+----------------------------------------+-----------------------------------------+\n",
            "| ['tan important', -1.3342942074352697] | ['aplauso banco', -1.0913206861733034] | ['texto artículo', -1.0067770418144093] |\n",
            "| ['tiempo máximo', 2.3686281905437254]  | ['vaya terminando', 2.479404585797905] |   ['pausa nulo', 2.5037573462865326]    |\n",
            "+----------------------------------------+----------------------------------------+-----------------------------------------+\n",
            "Año: 1984\n",
            "+----------------------------------------------+-----------------------------------+------------------------------------------+\n",
            "| ['portavoz socialista', -1.9404412632445651] | ['saber si', -1.5300193200077186] | ['déficit público', -1.2125884816531673] |\n",
            "|      ['pausa nulo', 2.4891959644411012]      | ['vasco pnv', 2.6228740233174577] |  ['garcía agudín', 3.3645889747117343]   |\n",
            "+----------------------------------------------+-----------------------------------+------------------------------------------+\n",
            "Año: 1985\n",
            "+----------------------------------------+-----------------------------------------+-----------------------------------------------+\n",
            "| ['banco derecha', -1.4831734541186974] | ['impuesto renta', -1.2047614282316583] | ['asistencia sanitaria', -1.1771762011308546] |\n",
            "| ['mixto suscrita', 2.3710007970070253] |   ['bravo laguna', 2.419818427155131]   |    ['conform dictamen', 2.852054848313223]    |\n",
            "+----------------------------------------+-----------------------------------------+-----------------------------------------------+\n",
            "Año: 1986\n",
            "+-----------------------------------------+----------------------------------------+---------------------------------------------+\n",
            "| ['mercado común', -1.6706675176022516]  | ['cámara local', -1.5258940036378137]  | ['portavoz socialista', -1.466752461718475] |\n",
            "| ['déficit público', 1.6400399477607113] | ['ruego concluya', 1.6651594475615838] |   ['garcía fonseca', 1.6849277789204167]    |\n",
            "+-----------------------------------------+----------------------------------------+---------------------------------------------+\n",
            "Año: 1987\n",
            "+----------------------------------------------+----------------------------------------+------------------------------------------+\n",
            "| ['portavoz socialista', -1.9570908560448927] | ['director gener', -1.453039235123781] | ['opinión pública', -1.4443898576391656] |\n",
            "|     ['bravo laguna', 3.536803189698876]      |   ['acta unica', 4.7638163341671405]   | ['nombr socialista', 5.153040403505491]  |\n",
            "+----------------------------------------------+----------------------------------------+------------------------------------------+\n",
            "Año: 1988\n",
            "+---------------------------------------------+----------------------------------------+-------------------------------------------+\n",
            "| ['portavoz socialista', -2.665223957813193] | ['tan important', -1.4028685890958996] |    ['hace tiempo', -1.286145438422631]    |\n",
            "|      ['vasco pnv', 2.2573022194318306]      | ['ruego concluya', 2.7089906841899047] | ['dictamen comisión', 3.5222000605129384] |\n",
            "+---------------------------------------------+----------------------------------------+-------------------------------------------+\n",
            "Año: 1989\n",
            "+---------------------------------------+-------------------------------------------+-----------------------------------------+\n",
            "| ['gran bretaña', -1.956050513471333]  | ['economía española', -1.913827199284835] | ['director gener', -1.5454102226754853] |\n",
            "| ['cumbr europea', 2.2084345965876286] |   ['ruego concluya', 2.247545810087957]   |   ['debo decirl', 2.6645257210208215]   |\n",
            "+---------------------------------------+-------------------------------------------+-----------------------------------------+\n",
            "Año: 1990\n",
            "+-----------------------------------------------+---------------------------------------+----------------------------------------+\n",
            "|  ['portavoz socialista', -2.968137165467739]  | ['banco derecha', -2.518459420624989] | ['nombr popular', -1.9450379137328588] |\n",
            "| ['presupuesto ministerio', 2.353974491704605] | ['renta persona', 3.2255256330201765] | ['ruego concluya', 3.465169332897681]  |\n",
            "+-----------------------------------------------+---------------------------------------+----------------------------------------+\n",
            "Año: 1991\n",
            "+-------------------------------------------+----------------------------------------------+----------------------------------------+\n",
            "|  ['director gener', -2.2892060884147636]  | ['portavoz socialista', -1.8641898510804265] | ['aplauso banco', -1.5031317314158725] |\n",
            "| ['aprobado dictamen', 1.6626756459641936] |   ['sanidad consumo', 2.2488123252733487]    | ['ruego concluya', 2.425213910212782]  |\n",
            "+-------------------------------------------+----------------------------------------------+----------------------------------------+\n",
            "Año: 1992\n",
            "+---------------------------------------------+----------------------------------------+----------------------------------------------+\n",
            "| ['portavoz socialista', -2.339903059932432] | ['aplauso banco', -1.7373864087728337] | ['vicepresident muñoz', -1.5132357429805372] |\n",
            "|    ['garcía fonseca', 2.148799352475671]    |    ['vasco pnv', 2.247870507227082]    |    ['ruego concluya', 3.4945627112595736]    |\n",
            "+---------------------------------------------+----------------------------------------+----------------------------------------------+\n",
            "Año: 1993\n",
            "+-------------------------------------------+----------------------------------------+----------------------------------------------+\n",
            "|  ['felip gonzález', -2.206800555403008]   | ['banco popular', -1.8740639918190838] | ['portavoz socialista', -1.7203968326407895] |\n",
            "| ['aprobado dictamen', 2.2087874752064613] | ['ruego concluya', 3.0336924755377863] | ['crecimiento económico', 3.59774295313398]  |\n",
            "+-------------------------------------------+----------------------------------------+----------------------------------------------+\n",
            "Año: 1994\n",
            "+---------------------------------------------+-------------------------------------------+----------------------------------------+\n",
            "| ['portavoz socialista', -2.738242214327968] | ['ciudadano español', -1.787771203056335] | ['nombr popular', -1.749816414116552]  |\n",
            "|    ['ciento ciento', 2.793537190967095]     |  ['feder izquierda', 2.9287703752630923]  | ['ruego concluya', 3.1503421499103816] |\n",
            "+---------------------------------------------+-------------------------------------------+----------------------------------------+\n",
            "Año: 1995\n",
            "+------------------------------------------+----------------------------------------+-----------------------------------------+\n",
            "| ['unión valenciana', -2.982731199180257] | ['nombr popular', -2.906297440359514]  | ['diario sesion', -1.5922430037438875]  |\n",
            "| ['congreso formula', 2.5880764153966993] | ['ruego concluya', 2.8000259254630815] | ['portavoz popular', 3.747414462174897] |\n",
            "+------------------------------------------+----------------------------------------+-----------------------------------------+\n",
            "Año: 1996\n",
            "+-----------------------------------------+------------------------------------------+------------------------------------------+\n",
            "|   ['ruego vaya', -3.5730062869116472]   |  ['número formula', -3.471504415985964]  | ['congreso formula', -2.787400599651517] |\n",
            "| ['resolv problema', 1.4857889125690606] | ['portavoz popular', 2.0979774195752503] |    ['último mese', 2.175624003296788]    |\n",
            "+-----------------------------------------+------------------------------------------+------------------------------------------+\n",
            "Año: 1997\n",
            "+----------------------------------------+-----------------------------------------+------------------------------------------------+\n",
            "| ['número formula', -4.225162131055327] |   ['ruego vaya', -2.4161328657773136]   | ['consecuencia aprobada', -2.3639153678729805] |\n",
            "| ['semana pasada', 1.1938496769159637]  | ['resolv problema', 1.2381814125107538] |    ['portavoz popular', 1.4275304968936553]    |\n",
            "+----------------------------------------+-----------------------------------------+------------------------------------------------+\n",
            "Año: 1998\n",
            "+-------------------------------------+--------------------------------------------+--------------------------------------+\n",
            "| ['ruego vaya', -2.9452517103805547] |  ['número formula', -2.3555133420118133]   | ['nombr feder', -2.0257102284095163] |\n",
            "|   ['ver si', 1.2653128515417784]    | ['medio comunicación', 1.4039427618393079] | ['hace tiempo', 1.5441390343016927]  |\n",
            "+-------------------------------------+--------------------------------------------+--------------------------------------+\n",
            "Año: 1999\n",
            "+-----------------------------------------+---------------------------------------------+---------------------------------------+\n",
            "|     ['si ss', -3.3066498633161516]      |     ['ruego vaya', -2.9339000973971805]     | ['nombr feder', -2.7681495598670947]  |\n",
            "| ['resolv problema', 1.4159905615589505] | ['compañía telefónica', 1.5435575234896783] | ['semana pasada', 1.5510132145367468] |\n",
            "+-----------------------------------------+---------------------------------------------+---------------------------------------+\n",
            "Año: 2000\n",
            "+------------------------------------------+---------------------------------------------+--------------------------------------------+\n",
            "|  ['número formula', -2.914086328513667]  | ['pesca alimentación', -2.3717254037685946] | ['socialista formula', -2.265982940770068] |\n",
            "| ['familia española', 1.2104998116685115] |    ['país europeo', 1.2187570372976415]     |    ['billon peseta', 1.816333826771479]    |\n",
            "+------------------------------------------+---------------------------------------------+--------------------------------------------+\n",
            "Año: 2001\n",
            "+----------------------------------------+---------------------------------------------+-------------------------------------------+\n",
            "| ['número formula', -3.571891635372207] | ['pesca alimentación', -3.0204524666866623] | ['congreso formula', -2.9885022981145566] |\n",
            "|  ['último mese', 1.3429820187898458]   | ['ministra educación', 1.7154328146686477]  |     ['vaca loca', 2.950910060733195]      |\n",
            "+----------------------------------------+---------------------------------------------+-------------------------------------------+\n",
            "Año: 2002\n",
            "+---------------------------------------+----------------------------------------+------------------------------------------------+\n",
            "| ['cultura deport', -4.06362036968346] | ['número formula', -3.742796911244168] |  ['portavoz socialista', -3.4759655691783835]  |\n",
            "|   ['hace mese', 1.7633268195096778]   | ['resolv problema', 1.783144019344691] | ['comisión investigación', 1.8689603767700345] |\n",
            "+---------------------------------------+----------------------------------------+------------------------------------------------+\n",
            "Año: 2003\n",
            "+--------------------------------------------+---------------------------------------------+-------------------------------------+\n",
            "| ['alianza atlántica', -5.5407848319456585] |   ['número formula', -3.7066413002250926]   | ['nombr popular', -3.4434295119648] |\n",
            "|    ['cort general', 1.2773485574303143]    | ['seguridad ciudadana', 1.2985981010827419] | ['guerra irak', 1.9239505334730391] |\n",
            "+--------------------------------------------+---------------------------------------------+-------------------------------------+\n",
            "Año: 2004\n",
            "+-----------------------------------------------+--------------------------------------------+----------------------------------------+\n",
            "|  ['portavoz socialista', -2.471065095892993]  | ['rodríguez zapatero', -2.204518733181558] |   ['saber si', -1.7091071957597959]    |\n",
            "| ['legalidad internacion', 1.8776542401152831] | ['derecho fundamental', 2.060575558162644] | ['precio petróleo', 2.593957952907056] |\n",
            "+-----------------------------------------------+--------------------------------------------+----------------------------------------+\n",
            "Año: 2005\n",
            "+---------------------------------------------+----------------------------------------------+-----------------------------------------------+\n",
            "| ['rodríguez zapatero', -2.3999650931553784] | ['portavoz socialista', -2.3327579643057628] | ['política inmigración', -1.3754297550766141] |\n",
            "|    ['diputada doña', 1.8562170686841504]    |    ['izquierda verd', 1.9756951345356806]    |    ['nombr socialista', 4.197527718915668]    |\n",
            "+---------------------------------------------+----------------------------------------------+-----------------------------------------------+\n",
            "Año: 2006\n",
            "+---------------------------------------------+---------------------------------------------+------------------------------------------+\n",
            "| ['rodríguez zapatero', -2.2364562126962886] | ['portavoz socialista', -2.197636488590087] |  ['fiscal gener', -1.9261791508852821]   |\n",
            "|  ['tiempo concluido', 1.8707491408852437]   |    ['diputada doña', 1.9116266000473643]    | ['portavoz popular', 3.6481322835763415] |\n",
            "+---------------------------------------------+---------------------------------------------+------------------------------------------+\n",
            "Año: 2007\n",
            "+--------------------------------------------+-----------------------------------------+------------------------------------------------+\n",
            "| ['rodríguez zapatero', -2.243173160303761] |   ['cien cien', -1.3480378274708913]    | ['constitución española', -1.3379428152352808] |\n",
            "|     ['partir ahí', 2.6922777090271253]     | ['nombr socialista', 2.843354433536237] | ['administración justicia', 4.354277005892053] |\n",
            "+--------------------------------------------+-----------------------------------------+------------------------------------------------+\n",
            "Año: 2008\n",
            "+--------------------------------------------+------------------------------------------+---------------------------------------------+\n",
            "| ['ciudadano español', -2.4292064364665875] |  ['tomar medida', -2.3385124612447443]   | ['rodríguez zapatero', -1.9683803604417516] |\n",
            "|   ['catalunya verd', 2.2291234729027294]   | ['turismo comercio', 2.6349730056150107] |    ['puedo asegurar', 3.148004648728203]    |\n",
            "+--------------------------------------------+------------------------------------------+---------------------------------------------+\n",
            "Año: 2009\n",
            "+-------------------------------------------------+--------------------------------------+--------------------------------------------+\n",
            "|     ['millon parado', -3.6284198593287758]      |   ['tan solo', -2.538336691706529]   | ['rodríguez zapatero', -2.471715413490652] |\n",
            "| ['organismo internacional', 2.4158011080911006] | ['puesta marcha', 2.671869401537379] | ['modelo crecimiento', 3.132324508285796]  |\n",
            "+-------------------------------------------------+--------------------------------------+--------------------------------------------+\n",
            "Año: 2010\n",
            "+----------------------------------------+---------------------------------------------+----------------------------------------------+\n",
            "| ['recort social', -3.9671087750147165] | ['rodríguez zapatero', -3.5234482033304606] | ['ministerio fomento', -1.6285645835836784]  |\n",
            "|    ['josé lui', 2.3902572791773298]    |   ['consejo europeo', 3.0452301258656376]   | ['consolidación fiscal', 3.8663999674536482] |\n",
            "+----------------------------------------+---------------------------------------------+----------------------------------------------+\n",
            "Año: 2011\n",
            "+-----------------------------------------+---------------------------------------------+---------------------------------------------------+\n",
            "|  ['millon parado', -3.776147793630035]  | ['rodríguez zapatero', -2.4893904203255213] | ['responsabilidad política', -1.5869647292372426] |\n",
            "| ['social igualdad', 1.8703809458271639] |   ['popular medida', 1.8962147537640415]    |    ['interlocutor social', 2.063082450795163]     |\n",
            "+-----------------------------------------+---------------------------------------------+---------------------------------------------------+\n",
            "Año: 2012\n",
            "+---------------------------------------------+-------------------------------------------------+---------------------------------------------+\n",
            "| ['económico creación', -4.2957794685363435] | ['economía competitividad', -2.687852878231136] | ['toda administracion', -2.609643729135394] |\n",
            "|    ['activa empleo', 2.2472144154100793]    |     ['cohesión social', 2.4913784204122975]     |   ['amnistía fiscal', 2.5576499773460335]   |\n",
            "+---------------------------------------------+-------------------------------------------------+---------------------------------------------+\n",
            "Año: 2013\n",
            "+-----------------------------------------+-------------------------------------------+-----------------------------------------+\n",
            "| ['pérez rubalcaba', -3.046782119126297] | ['proyecto orgánica', -2.788208109341825] | ['cultura deport', -2.2638856391900606] |\n",
            "| ['sistema público', 2.1248259380048786] | ['portavoz popular', 2.2144374367422883]  | ['amnistía fiscal', 2.273901861584718]  |\n",
            "+-----------------------------------------+-------------------------------------------+-----------------------------------------+\n",
            "Año: 2014\n",
            "+------------------------------------------+----------------------------------------+--------------------------------------------+\n",
            "| ['social igualdad', -3.9642645242324686] | ['quiero decirl', -3.6548284640159623] | ['seguir trabajando', -3.3747819396730443] |\n",
            "|  ['libertad mujer', 1.438673830230521]   |  ['dar respuesta', 1.655499805355128]  |  ['sanidad pública', 1.8433554821820266]   |\n",
            "+------------------------------------------+----------------------------------------+--------------------------------------------+\n",
            "Año: 2015\n",
            "+----------------------------------------+---------------------------------------------------+----------------------------------------+\n",
            "| ['quiero decirl', -3.1826885298239147] |      ['creando empleo', -2.055939329504992]       | ['creación empleo', -1.93348839817706] |\n",
            "|  ['clase media', 1.3401730565807284]   | ['consideración proposición', 1.3880658646497288] |  ['reforma labor', 1.686059076410517]  |\n",
            "+----------------------------------------+---------------------------------------------------+----------------------------------------+\n",
            "Año: 2016\n",
            "+------------------------------------------+------------------------------------------+------------------------------------------+\n",
            "| ['unido podemosen', -5.137213924827776]  | ['social igualdad', -1.9964912304352909] | ['creación empleo', -1.7716267250069022] |\n",
            "| ['debat investidura', 1.393473405078004] |   ['comú podemen', 1.519582237575722]    | ['español española', 2.8037485276313228] |\n",
            "+------------------------------------------+------------------------------------------+------------------------------------------+\n",
            "Año: 2017\n",
            "+------------------------------------------+---------------------------------------------+----------------------------------------+\n",
            "| ['creación empleo', -3.7851307464741604] | ['alimentación medio', -2.4508019566802917] |   ['partir ahí', -2.389235462835168]   |\n",
            "| ['caso corrupción', 1.7425277751460353]  |   ['larga duración', 1.8873904398824737]    | ['amnistía fiscal', 2.973844649688166] |\n",
            "+------------------------------------------+---------------------------------------------+----------------------------------------+\n",
            "Año: 2018\n",
            "+-------------------------------------------+---------------------------------------------+------------------------------------------------+\n",
            "| ['ministra adelant', -3.2915242948236316] |     ['vasco pnv', -2.9278857794910507]      | ['transaccion presentada', -2.676909671357075] |\n",
            "|  ['cohesión social', 1.8080340938950001]  | ['ciudadano ciudadana', 2.2835821308953914] |    ['senda estabilidad', 3.436657429801015]    |\n",
            "+-------------------------------------------+---------------------------------------------+------------------------------------------------+\n",
            "Año: 2019\n",
            "+-----------------------------------------------+----------------------------------------+---------------------------------------+\n",
            "|   ['ministra adelant', -2.8665590178836933]   | ['confeder unido', -2.174518119296312] | ['pasamo ahora', -2.090082226952041]  |\n",
            "| ['candidato presidencia', 2.2302261256321185] |  ['borrà castany', 2.624127063164867]  | ['confeder unida', 3.056354339410503] |\n",
            "+-----------------------------------------------+----------------------------------------+---------------------------------------+\n"
          ]
        }
      ]
    },
    {
      "cell_type": "code",
      "source": [
        "# Relevancia de bigramas en la predicción por legislatura\n",
        "tabla=[]\n",
        "for x in legislaturas: \n",
        "  base_year=base[base.legislatura==x]\n",
        "  X_train, X_test, y_train, y_test = train_test_split(base_year.loc[:, base_year.columns != 'party'], base_year['party'], test_size=0.33, random_state=42)\n",
        "  train_matrix = vec.fit_transform(X_train['tokens'])\n",
        "  test_matrix = vec.transform(X_test['tokens'])\n",
        "  lr = LogisticRegression(penalty='l1', max_iter=1000, solver='liblinear')\n",
        "  lr.fit(train_matrix,y_train)\n",
        "  predictions = lr.predict(test_matrix )\n",
        "  features=[]\n",
        "  for i,v in enumerate(lr.coef_[0]):\n",
        "    features.append([vec.get_feature_names_out()[i],v ])\n",
        "  sor=sorted(features, key = lambda x: x[1])\n",
        "  print(f\"Legislatura: {x}\")\n",
        "  print(tabulate([sor[:3],sor[-3:]], tablefmt='pretty'))"
      ],
      "metadata": {
        "id": "FvZS7CJZ9KcX",
        "outputId": "225757cc-e758-4376-b201-204eb1d1cf31",
        "colab": {
          "base_uri": "https://localhost:8080/"
        }
      },
      "execution_count": 27,
      "outputs": [
        {
          "output_type": "stream",
          "name": "stdout",
          "text": [
            "Legislatura: I\n",
            "+---------------------------------------------+--------------------------------------------+--------------------------------------------------+\n",
            "|     ['ofici cort', -1.407729225797029]      | ['sanidad seguridad', -1.2828416671895149] | ['representant socialista', -1.1084007029099696] |\n",
            "| ['presupuesto general', 1.3344885018297528] |   ['cualquier caso', 1.593194353400644]    |     ['relacion laboral', 1.8679676653097617]     |\n",
            "+---------------------------------------------+--------------------------------------------+--------------------------------------------------+\n",
            "Legislatura: II\n",
            "+----------------------------------------------+----------------------------------------+-----------------------------------------+\n",
            "| ['portavoz socialista', -2.0725553848176563] | ['banco derecha', -2.0685258544011957] | ['ninguna manera', -1.4027349241435054] |\n",
            "|   ['conform dictamen', 3.032463507650641]    | ['artículo pausa', 3.112505621180799]  |  ['número vasco', 3.6043560465597575]   |\n",
            "+----------------------------------------------+----------------------------------------+-----------------------------------------+\n",
            "Legislatura: III\n",
            "+----------------------------------------------+--------------------------------------+-----------------------------------------+\n",
            "| ['portavoz socialista', -1.6953793375743502] | ['sigu siendo', -1.1901016479717315] | ['pueblo español', -1.1340506166586926] |\n",
            "|       ['vasco pnv', 2.856290984173128]       | ['bravo laguna', 2.965400301189644]  |  ['ruego concluya', 3.202569296301171]  |\n",
            "+----------------------------------------------+--------------------------------------+-----------------------------------------+\n",
            "Legislatura: IV\n",
            "+----------------------------------------------+---------------------------------------+-----------------------------------------+\n",
            "| ['portavoz socialista', -2.5191125912460905] | ['aplauso banco', -1.33902318117304]  | ['director gener', -1.2210702756224938] |\n",
            "|  ['aprobado dictamen', 2.5528150923893986]   | ['popular pausa', 2.9446942810509857] | ['ruego concluya', 3.2686354292425213]  |\n",
            "+----------------------------------------------+---------------------------------------+-----------------------------------------+\n",
            "Legislatura: V\n",
            "+----------------------------------------------+------------------------------------------+----------------------------------------+\n",
            "| ['portavoz socialista', -2.2658589608607302] | ['felip gonzález', -1.8477249363343973]  | ['alguna manera', -1.5215247429149814] |\n",
            "|   ['congreso formula', 2.8135885256322726]   | ['aprobado dictamen', 3.538473744700143] | ['ruego concluya', 3.9904529644562756] |\n",
            "+----------------------------------------------+------------------------------------------+----------------------------------------+\n",
            "Legislatura: VI\n",
            "+--------------------------------------------------+----------------------------------------+------------------------------------------+\n",
            "|        ['ruego vaya', -3.081161059684953]        | ['número formula', -2.823636799830525] |  ['ruego guarden', -2.6013450180867124]  |\n",
            "| ['responsabilidad política', 1.1085312915472623] |     ['ver si', 1.520284515374047]      | ['portavoz popular', 1.6550459483944564] |\n",
            "+--------------------------------------------------+----------------------------------------+------------------------------------------+\n",
            "Legislatura: VII\n",
            "+-----------------------------------------+---------------------------------------------------+---------------------------------------------+\n",
            "| ['número formula', -4.726959561908285]  | ['consideración proposicion', -3.613542461859021] |    ['nombr popular', -3.525001913888899]    |\n",
            "| ['opinión pública', 1.0027196381919217] | ['consecuencia interpelación', 1.179621261099515] | ['seguridad ciudadana', 1.3686990612815595] |\n",
            "+-----------------------------------------+---------------------------------------------------+---------------------------------------------+\n",
            "Legislatura: VIII\n",
            "+----------------------------------------------+---------------------------------------------+-----------------------------------------+\n",
            "| ['portavoz socialista', -2.5672636126290165] | ['rodríguez zapatero', -1.9012365814974261] |     ['ver si', -1.2708549335954549]     |\n",
            "|   ['tiempo concluido', 3.0171500870745462]   |    ['diputada doña', 3.2898789907804185]    | ['nombr socialista', 4.208100239733502] |\n",
            "+----------------------------------------------+---------------------------------------------+-----------------------------------------+\n",
            "Legislatura: IX\n",
            "+---------------------------------------------+---------------------------------------+----------------------------------------------+\n",
            "| ['rodríguez zapatero', -2.8433539122603166] | ['ambient medio', -1.74844252397413]  |   ['subida impuesto', -1.5409023038821128]   |\n",
            "|   ['turismo comercio', 2.617060391905293]   | ['acabado tiempo', 2.919916243287843] | ['consolidación fiscal', 3.2605853631249673] |\n",
            "+---------------------------------------------+---------------------------------------+----------------------------------------------+\n",
            "Legislatura: X\n",
            "+-------------------------------------------+---------------------------------------------+------------------------------------------+\n",
            "| ['diputada ministra', -3.221206279795689] | ['reforma estructural', -2.690389444364179] | ['social igualdad', -2.5211155453331853] |\n",
            "| ['educación cultura', 1.5167356830583842] |  ['industria energía', 1.8272829075774841]  | ['amnistía fiscal', 1.8501879165874802]  |\n",
            "+-------------------------------------------+---------------------------------------------+------------------------------------------+\n",
            "Legislatura: XI\n",
            "+---------------------------------------+---------------------------------------------------+----------------------------------------------+\n",
            "| ['cort general', -2.1122857685053464] |        ['mesa edad', -1.7257416098587521]         |     ['nombr foro', -1.6091020566997711]      |\n",
            "|   ['dar paso', 1.0369430805088082]    | ['consideración proposición', 1.0742963972255049] | ['reforma constitucion', 1.0972111434378113] |\n",
            "+---------------------------------------+---------------------------------------------------+----------------------------------------------+\n",
            "Legislatura: XII\n",
            "+------------------------------------------+-------------------------------------------+-----------------------------------------+\n",
            "| ['ministra adelant', -3.378541485795827] |    ['vasco pnv', -2.9814412737198723]     |  ['pasamo ahora', -2.887012934024044]   |\n",
            "| ['política fiscal', 1.2332774417229728]  | ['popular ciudadano', 1.7322002774793575] | ['amnistía fiscal', 2.1817814037506715] |\n",
            "+------------------------------------------+-------------------------------------------+-----------------------------------------+\n",
            "Legislatura: XIII\n",
            "+------------------------------------------+----------------------------------------------+----------------------------------------------+\n",
            "| ['crisi económica', -2.1323583668704362] |    ['diario sesion', -1.7312268497450343]    | ['tribun constitucion', -1.3031260474728799] |\n",
            "|  ['medida urgent', 1.5040007771328796]   | ['administración gener', 1.5278317042832383] |     ['duda alguna', 1.5304762941372319]      |\n",
            "+------------------------------------------+----------------------------------------------+----------------------------------------------+\n"
          ]
        }
      ]
    },
    {
      "cell_type": "markdown",
      "source": [
        "# LASSO con TF-IDF"
      ],
      "metadata": {
        "id": "52mR8byGbdpo"
      }
    },
    {
      "cell_type": "code",
      "source": [
        "from sklearn.feature_extraction.text import TfidfVectorizer\n",
        "cv=TfidfVectorizer(ngram_range=[2,2], max_features=200, stop_words=stopwords, max_df=0.95, min_df=0.01)\n",
        "vec = cv.fit(X_train['tokens'])"
      ],
      "metadata": {
        "id": "rsMtQWjhbZzE"
      },
      "execution_count": 28,
      "outputs": []
    },
    {
      "cell_type": "code",
      "source": [
        "train_matrix = vec.fit_transform(X_train['tokens'])\n",
        "test_matrix = vec.transform(X_test['tokens'])"
      ],
      "metadata": {
        "id": "WrmzdT4FbZzG"
      },
      "execution_count": 29,
      "outputs": []
    },
    {
      "cell_type": "code",
      "source": [
        "from sklearn.linear_model import LogisticRegression\n",
        "from sklearn.metrics import confusion_matrix,classification_report\n",
        "import numpy as np"
      ],
      "metadata": {
        "id": "DenIM3DkbZzH"
      },
      "execution_count": 30,
      "outputs": []
    },
    {
      "cell_type": "code",
      "source": [
        "lr = LogisticRegression(penalty='l1', max_iter=1000, solver='liblinear')"
      ],
      "metadata": {
        "id": "9LTcGrHHbZzH"
      },
      "execution_count": 31,
      "outputs": []
    },
    {
      "cell_type": "code",
      "source": [
        "lr.fit(train_matrix,y_train)"
      ],
      "metadata": {
        "colab": {
          "base_uri": "https://localhost:8080/"
        },
        "outputId": "f108626f-f2b5-4962-edb1-50446d40efb4",
        "id": "ztYbiMdGbZzI"
      },
      "execution_count": 32,
      "outputs": [
        {
          "output_type": "execute_result",
          "data": {
            "text/plain": [
              "LogisticRegression(max_iter=1000, penalty='l1', solver='liblinear')"
            ]
          },
          "metadata": {},
          "execution_count": 32
        }
      ]
    },
    {
      "cell_type": "code",
      "source": [
        "predictions = lr.predict(test_matrix)"
      ],
      "metadata": {
        "id": "3jUmIHmLbZzJ"
      },
      "execution_count": 33,
      "outputs": []
    },
    {
      "cell_type": "code",
      "source": [
        "new = np.asarray(y_test)\n",
        "confusion_matrix(predictions,y_test)"
      ],
      "metadata": {
        "colab": {
          "base_uri": "https://localhost:8080/"
        },
        "outputId": "d1f87fd5-feea-48d1-c97d-776b414f1e10",
        "id": "W2vtgUPHbZzJ"
      },
      "execution_count": 34,
      "outputs": [
        {
          "output_type": "execute_result",
          "data": {
            "text/plain": [
              "array([[  2,   0],\n",
              "       [ 24, 389]])"
            ]
          },
          "metadata": {},
          "execution_count": 34
        }
      ]
    },
    {
      "cell_type": "code",
      "source": [
        "print(classification_report(predictions,y_test))"
      ],
      "metadata": {
        "colab": {
          "base_uri": "https://localhost:8080/"
        },
        "outputId": "8225e59c-c746-4624-c060-9403898de0bc",
        "id": "W8WPUhpXbZzK"
      },
      "execution_count": 35,
      "outputs": [
        {
          "output_type": "stream",
          "name": "stdout",
          "text": [
            "              precision    recall  f1-score   support\n",
            "\n",
            "          PP       0.08      1.00      0.14         2\n",
            "        PSOE       1.00      0.94      0.97       413\n",
            "\n",
            "    accuracy                           0.94       415\n",
            "   macro avg       0.54      0.97      0.56       415\n",
            "weighted avg       1.00      0.94      0.97       415\n",
            "\n"
          ]
        }
      ]
    },
    {
      "cell_type": "code",
      "source": [
        "# Relevancia de bigramas en la predicción\n",
        "features=[]\n",
        "for i,v in enumerate(lr.coef_[0]):\n",
        "  features.append([vec.get_feature_names_out()[i],v ])"
      ],
      "metadata": {
        "id": "7LE6JRLCbZzK"
      },
      "execution_count": 36,
      "outputs": []
    },
    {
      "cell_type": "code",
      "source": [
        "pd.DataFrame(sorted(features, key = lambda x: x[1]), columns =['Bigrama','relevancia']).head(15)"
      ],
      "metadata": {
        "colab": {
          "base_uri": "https://localhost:8080/",
          "height": 0
        },
        "outputId": "7a47deb8-6a31-4d37-82ac-a0e84efd15c9",
        "id": "Iwe2fbeabZzL"
      },
      "execution_count": 37,
      "outputs": [
        {
          "output_type": "execute_result",
          "data": {
            "text/plain": [
              "                       Bigrama  relevancia\n",
              "0                     open arm   -2.918464\n",
              "1                       ver si   -2.691838\n",
              "2           medio comunicación   -2.677379\n",
              "3   estabilidad presupuestaria   -2.504209\n",
              "4             cambio climático   -2.471621\n",
              "5               moción censura   -2.432334\n",
              "6          tribun constitucion   -2.312757\n",
              "7                guardia civil   -2.109637\n",
              "8                diario sesion   -2.007807\n",
              "9             seguridad social   -1.656107\n",
              "10        comunidad valenciana   -1.616503\n",
              "11          comunidad autónoma   -1.607457\n",
              "12                 ningún tipo   -1.551352\n",
              "13                  buena tard   -1.185305\n",
              "14            violencia género   -1.050985"
            ],
            "text/html": [
              "\n",
              "  <div id=\"df-14b40c3a-6eba-4ad9-bc48-78d135cba969\">\n",
              "    <div class=\"colab-df-container\">\n",
              "      <div>\n",
              "<style scoped>\n",
              "    .dataframe tbody tr th:only-of-type {\n",
              "        vertical-align: middle;\n",
              "    }\n",
              "\n",
              "    .dataframe tbody tr th {\n",
              "        vertical-align: top;\n",
              "    }\n",
              "\n",
              "    .dataframe thead th {\n",
              "        text-align: right;\n",
              "    }\n",
              "</style>\n",
              "<table border=\"1\" class=\"dataframe\">\n",
              "  <thead>\n",
              "    <tr style=\"text-align: right;\">\n",
              "      <th></th>\n",
              "      <th>Bigrama</th>\n",
              "      <th>relevancia</th>\n",
              "    </tr>\n",
              "  </thead>\n",
              "  <tbody>\n",
              "    <tr>\n",
              "      <th>0</th>\n",
              "      <td>open arm</td>\n",
              "      <td>-2.918464</td>\n",
              "    </tr>\n",
              "    <tr>\n",
              "      <th>1</th>\n",
              "      <td>ver si</td>\n",
              "      <td>-2.691838</td>\n",
              "    </tr>\n",
              "    <tr>\n",
              "      <th>2</th>\n",
              "      <td>medio comunicación</td>\n",
              "      <td>-2.677379</td>\n",
              "    </tr>\n",
              "    <tr>\n",
              "      <th>3</th>\n",
              "      <td>estabilidad presupuestaria</td>\n",
              "      <td>-2.504209</td>\n",
              "    </tr>\n",
              "    <tr>\n",
              "      <th>4</th>\n",
              "      <td>cambio climático</td>\n",
              "      <td>-2.471621</td>\n",
              "    </tr>\n",
              "    <tr>\n",
              "      <th>5</th>\n",
              "      <td>moción censura</td>\n",
              "      <td>-2.432334</td>\n",
              "    </tr>\n",
              "    <tr>\n",
              "      <th>6</th>\n",
              "      <td>tribun constitucion</td>\n",
              "      <td>-2.312757</td>\n",
              "    </tr>\n",
              "    <tr>\n",
              "      <th>7</th>\n",
              "      <td>guardia civil</td>\n",
              "      <td>-2.109637</td>\n",
              "    </tr>\n",
              "    <tr>\n",
              "      <th>8</th>\n",
              "      <td>diario sesion</td>\n",
              "      <td>-2.007807</td>\n",
              "    </tr>\n",
              "    <tr>\n",
              "      <th>9</th>\n",
              "      <td>seguridad social</td>\n",
              "      <td>-1.656107</td>\n",
              "    </tr>\n",
              "    <tr>\n",
              "      <th>10</th>\n",
              "      <td>comunidad valenciana</td>\n",
              "      <td>-1.616503</td>\n",
              "    </tr>\n",
              "    <tr>\n",
              "      <th>11</th>\n",
              "      <td>comunidad autónoma</td>\n",
              "      <td>-1.607457</td>\n",
              "    </tr>\n",
              "    <tr>\n",
              "      <th>12</th>\n",
              "      <td>ningún tipo</td>\n",
              "      <td>-1.551352</td>\n",
              "    </tr>\n",
              "    <tr>\n",
              "      <th>13</th>\n",
              "      <td>buena tard</td>\n",
              "      <td>-1.185305</td>\n",
              "    </tr>\n",
              "    <tr>\n",
              "      <th>14</th>\n",
              "      <td>violencia género</td>\n",
              "      <td>-1.050985</td>\n",
              "    </tr>\n",
              "  </tbody>\n",
              "</table>\n",
              "</div>\n",
              "      <button class=\"colab-df-convert\" onclick=\"convertToInteractive('df-14b40c3a-6eba-4ad9-bc48-78d135cba969')\"\n",
              "              title=\"Convert this dataframe to an interactive table.\"\n",
              "              style=\"display:none;\">\n",
              "        \n",
              "  <svg xmlns=\"http://www.w3.org/2000/svg\" height=\"24px\"viewBox=\"0 0 24 24\"\n",
              "       width=\"24px\">\n",
              "    <path d=\"M0 0h24v24H0V0z\" fill=\"none\"/>\n",
              "    <path d=\"M18.56 5.44l.94 2.06.94-2.06 2.06-.94-2.06-.94-.94-2.06-.94 2.06-2.06.94zm-11 1L8.5 8.5l.94-2.06 2.06-.94-2.06-.94L8.5 2.5l-.94 2.06-2.06.94zm10 10l.94 2.06.94-2.06 2.06-.94-2.06-.94-.94-2.06-.94 2.06-2.06.94z\"/><path d=\"M17.41 7.96l-1.37-1.37c-.4-.4-.92-.59-1.43-.59-.52 0-1.04.2-1.43.59L10.3 9.45l-7.72 7.72c-.78.78-.78 2.05 0 2.83L4 21.41c.39.39.9.59 1.41.59.51 0 1.02-.2 1.41-.59l7.78-7.78 2.81-2.81c.8-.78.8-2.07 0-2.86zM5.41 20L4 18.59l7.72-7.72 1.47 1.35L5.41 20z\"/>\n",
              "  </svg>\n",
              "      </button>\n",
              "      \n",
              "  <style>\n",
              "    .colab-df-container {\n",
              "      display:flex;\n",
              "      flex-wrap:wrap;\n",
              "      gap: 12px;\n",
              "    }\n",
              "\n",
              "    .colab-df-convert {\n",
              "      background-color: #E8F0FE;\n",
              "      border: none;\n",
              "      border-radius: 50%;\n",
              "      cursor: pointer;\n",
              "      display: none;\n",
              "      fill: #1967D2;\n",
              "      height: 32px;\n",
              "      padding: 0 0 0 0;\n",
              "      width: 32px;\n",
              "    }\n",
              "\n",
              "    .colab-df-convert:hover {\n",
              "      background-color: #E2EBFA;\n",
              "      box-shadow: 0px 1px 2px rgba(60, 64, 67, 0.3), 0px 1px 3px 1px rgba(60, 64, 67, 0.15);\n",
              "      fill: #174EA6;\n",
              "    }\n",
              "\n",
              "    [theme=dark] .colab-df-convert {\n",
              "      background-color: #3B4455;\n",
              "      fill: #D2E3FC;\n",
              "    }\n",
              "\n",
              "    [theme=dark] .colab-df-convert:hover {\n",
              "      background-color: #434B5C;\n",
              "      box-shadow: 0px 1px 3px 1px rgba(0, 0, 0, 0.15);\n",
              "      filter: drop-shadow(0px 1px 2px rgba(0, 0, 0, 0.3));\n",
              "      fill: #FFFFFF;\n",
              "    }\n",
              "  </style>\n",
              "\n",
              "      <script>\n",
              "        const buttonEl =\n",
              "          document.querySelector('#df-14b40c3a-6eba-4ad9-bc48-78d135cba969 button.colab-df-convert');\n",
              "        buttonEl.style.display =\n",
              "          google.colab.kernel.accessAllowed ? 'block' : 'none';\n",
              "\n",
              "        async function convertToInteractive(key) {\n",
              "          const element = document.querySelector('#df-14b40c3a-6eba-4ad9-bc48-78d135cba969');\n",
              "          const dataTable =\n",
              "            await google.colab.kernel.invokeFunction('convertToInteractive',\n",
              "                                                     [key], {});\n",
              "          if (!dataTable) return;\n",
              "\n",
              "          const docLinkHtml = 'Like what you see? Visit the ' +\n",
              "            '<a target=\"_blank\" href=https://colab.research.google.com/notebooks/data_table.ipynb>data table notebook</a>'\n",
              "            + ' to learn more about interactive tables.';\n",
              "          element.innerHTML = '';\n",
              "          dataTable['output_type'] = 'display_data';\n",
              "          await google.colab.output.renderOutput(dataTable, element);\n",
              "          const docLink = document.createElement('div');\n",
              "          docLink.innerHTML = docLinkHtml;\n",
              "          element.appendChild(docLink);\n",
              "        }\n",
              "      </script>\n",
              "    </div>\n",
              "  </div>\n",
              "  "
            ]
          },
          "metadata": {},
          "execution_count": 37
        }
      ]
    },
    {
      "cell_type": "code",
      "source": [
        "# Entiendo que un número negativo en el coeficiente implica que el bigrama correlaciona bien con la clase 0, es decir PP. Por el otro lado, un coeficiente positivo implica que el bigrama correlaciona mejor con PSOE. \n",
        "lr.classes_"
      ],
      "metadata": {
        "colab": {
          "base_uri": "https://localhost:8080/"
        },
        "outputId": "8ad42dcb-7067-4cc9-9b54-dfb9090ec7fd",
        "id": "O5HVbadYbZzL"
      },
      "execution_count": 38,
      "outputs": [
        {
          "output_type": "execute_result",
          "data": {
            "text/plain": [
              "array(['PP', 'PSOE'], dtype=object)"
            ]
          },
          "metadata": {},
          "execution_count": 38
        }
      ]
    },
    {
      "cell_type": "code",
      "source": [
        "# LASOO por año\n",
        "from sklearn.metrics import f1_score\n",
        "\n",
        "macro=[]\n",
        "weighted=[]\n",
        "\n",
        "lr = LogisticRegression(penalty='l1', max_iter=1000, solver='liblinear')\n",
        "\n",
        "for x in range(1979,2020): \n",
        "  try: \n",
        "    base_year=base[pd.DatetimeIndex(base.fecha).year==x]\n",
        "    X_train, X_test, y_train, y_test = train_test_split(base_year.loc[:, base_year.columns != 'party'], base_year['party'], test_size=0.33, random_state=42)\n",
        "    train_matrix = vec.fit_transform(X_train['tokens'])\n",
        "    test_matrix = vec.transform(X_test['tokens'])  \n",
        "    lr.fit(train_matrix,y_train)\n",
        "    predictions = lr.predict(test_matrix )\n",
        "    macro.append(f1_score(predictions,y_test, average='macro'))\n",
        "    weighted.append(f1_score(predictions,y_test, average='weighted'))\n",
        "  except: \n",
        "    macro.append(np.nan)\n",
        "    weighted.append(np.nan)"
      ],
      "metadata": {
        "id": "zT3jfb3PbZzM"
      },
      "execution_count": 39,
      "outputs": []
    },
    {
      "cell_type": "code",
      "source": [
        "# Yo entiendo que el resultado relevante es el macro, porque considera el desbalance de clases\n",
        "import matplotlib.pyplot as plt\n",
        "plt.plot(range(1979,2020), macro, marker='o')\n",
        "plt.plot(range(1979,2020), weighted, marker='+')"
      ],
      "metadata": {
        "colab": {
          "base_uri": "https://localhost:8080/",
          "height": 0
        },
        "outputId": "8477d481-9e93-4b81-a9bd-0aadc237884e",
        "id": "7wf8NOWbbZzM"
      },
      "execution_count": 40,
      "outputs": [
        {
          "output_type": "execute_result",
          "data": {
            "text/plain": [
              "[<matplotlib.lines.Line2D at 0x7f08a83329d0>]"
            ]
          },
          "metadata": {},
          "execution_count": 40
        },
        {
          "output_type": "display_data",
          "data": {
            "text/plain": [
              "<Figure size 432x288 with 1 Axes>"
            ],
            "image/png": "[encoded data removed]"
          },
          "metadata": {
            "needs_background": "light"
          }
        }
      ]
    },
    {
      "cell_type": "code",
      "source": [
        "# LASOO por legislatura\n",
        "macro=[]\n",
        "weighted=[]\n",
        "\n",
        "lr = LogisticRegression(penalty='l1', max_iter=1000, solver='liblinear')\n",
        "legislaturas=['I', 'II', 'III', 'IV', 'V', 'VI', 'VII','VIII', 'IX', 'X', 'XI', 'XII','XIII']\n",
        "\n",
        "for x in legislaturas: \n",
        "  try: \n",
        "    base_year=base[base.legislatura==x]\n",
        "    X_train, X_test, y_train, y_test = train_test_split(base_year.loc[:, base_year.columns != 'party'], base_year['party'], test_size=0.33, random_state=42)\n",
        "    train_matrix = vec.fit_transform(X_train['tokens'])\n",
        "    test_matrix = vec.transform(X_test['tokens'])  \n",
        "    lr.fit(train_matrix,y_train)\n",
        "    predictions = lr.predict(test_matrix )\n",
        "    macro.append(f1_score(predictions,y_test, average='macro'))\n",
        "    weighted.append(f1_score(predictions,y_test, average='weighted'))\n",
        "  except: \n",
        "    macro.append(np.nan)\n",
        "    weighted.append(np.nan)"
      ],
      "metadata": {
        "id": "lD5_-tTNbZzN"
      },
      "execution_count": 41,
      "outputs": []
    },
    {
      "cell_type": "code",
      "source": [
        "# Yo entiendo que el resultado relevante es el macro, porque considera el desbalance de clases\n",
        "import matplotlib.pyplot as plt\n",
        "plt.plot(legislaturas, macro, marker='o')\n",
        "plt.plot(legislaturas, weighted, marker='+')"
      ],
      "metadata": {
        "colab": {
          "base_uri": "https://localhost:8080/",
          "height": 0
        },
        "outputId": "df174956-c91d-4039-b73a-277011fdf613",
        "id": "N5aHbMQHbZzO"
      },
      "execution_count": 42,
      "outputs": [
        {
          "output_type": "execute_result",
          "data": {
            "text/plain": [
              "[<matplotlib.lines.Line2D at 0x7f08e5e8cd90>]"
            ]
          },
          "metadata": {},
          "execution_count": 42
        },
        {
          "output_type": "display_data",
          "data": {
            "text/plain": [
              "<Figure size 432x288 with 1 Axes>"
            ],
            "image/png": "[encoded data removed]"
          },
          "metadata": {
            "needs_background": "light"
          }
        }
      ]
    },
    {
      "cell_type": "code",
      "source": [
        "# Relevancia de bigramas en la predicción por año\n",
        "for x in range (1979, 2020): \n",
        "  base_year=base[pd.DatetimeIndex(base.fecha).year==x]\n",
        "  X_train, X_test, y_train, y_test = train_test_split(base_year.loc[:, base_year.columns != 'party'], base_year['party'], test_size=0.33, random_state=42)\n",
        "  train_matrix = vec.fit_transform(X_train['tokens'])\n",
        "  test_matrix = vec.transform(X_test['tokens'])\n",
        "  lr = LogisticRegression(penalty='l1', max_iter=1000, solver='liblinear')\n",
        "  lr.fit(train_matrix,y_train)\n",
        "  predictions = lr.predict(test_matrix )\n",
        "  features=[]\n",
        "  for i,v in enumerate(lr.coef_[0]):\n",
        "    features.append([vec.get_feature_names_out()[i],v ])\n",
        "  sor=sorted(features, key = lambda x: x[1])\n",
        "  print(f\"Año: {x}\")\n",
        "  print(sor[:5])\n",
        "  print(sor[-5:])"
      ],
      "metadata": {
        "outputId": "6cc3f783-5790-4f32-860b-99e7f85c3baa",
        "colab": {
          "base_uri": "https://localhost:8080/"
        },
        "id": "51NY-xeJbZzO"
      },
      "execution_count": 43,
      "outputs": [
        {
          "output_type": "stream",
          "name": "stdout",
          "text": [
            "Año: 1979\n",
            "[['publicada boletín', -4.064106991319182], ['coalición democrática', -2.50663260933744], ['hace falta', -1.2848661679206808], ['precedido uso', -1.2671970183950023], ['economía mercado', -1.2417859635628163]]\n",
            "[['formacion política', 1.5812018530142713], ['convenio colectivo', 1.6423725313840751], ['comité empresa', 1.655328347878644], ['estatuto trabajador', 1.7373682272529898], ['centro democrático', 1.9119908294120076]]\n",
            "Año: 1980\n",
            "[['aprobado artículo', -3.6363028932941073], ['senado artículo', -2.6244902224499675], ['artículo pausa', -2.3778596863487316], ['número socialista', -2.0511024588539106], ['figura dictamen', -1.583326427400662]]\n",
            "[['artículo dice', 2.2646909339906895], ['director gener', 2.4215102601281546], ['formación profesion', 2.506676865910815], ['tan sólo', 2.747733828142139], ['justicia militar', 3.2731896866487125]]\n",
            "Año: 1981\n",
            "[['impuesto renta', -1.9055769608368018], ['coalición democrática', -1.396796679044617], ['frail poujad', -1.247159548753126], ['redacción artículo', -0.8600685847672288], ['poder público', -0.6826677471210542]]\n",
            "[['pedimo separada', 1.8427741218604778], ['ministerio fiscal', 1.9198606527793851], ['unión centro', 2.0408106471415137], ['millon peseta', 2.210159231785508], ['ningún tipo', 2.447954875010447]]\n",
            "Año: 1982\n",
            "[['solé tura', -2.579188886577233], ['función fiscalizadora', -2.4808069795510086], ['castillala mancha', -2.1058488268807887], ['pueblo español', -1.7481272246248933], ['sector público', -1.7220642134553312]]\n",
            "[['código penal', 0.9875854720557434], ['nombr socialista', 0.9892529992812348], ['bravo laguna', 1.074513335005604], ['separada artículo', 1.1321584303411145], ['millon peseta', 1.2575529947688187]]\n",
            "Año: 1983\n",
            "[['puesto trabajo', -1.8104976676848483], ['banco españa', -1.6600540826593302], ['tribun constitucion', -1.5318703948525385], ['millon peseta', -1.4756244137236014], ['código penal', -1.4213200250691802]]\n",
            "[['ruiz gallardón', 2.7429871183846077], ['consiguient aprobado', 2.788813478524099], ['tiempo máximo', 3.0104055084218078], ['pausa nulo', 3.272902301061353], ['acuerdo dictamen', 3.3957083081174413]]\n",
            "Año: 1984\n",
            "[['puesto trabajo', -1.8984506153884628], ['presupuesto general', -1.6941504730509889], ['función pública', -1.6404435236149155], ['comunidad económica', -1.6387886661797775], ['alguna manera', -1.4594587918622872]]\n",
            "[['conform dictamen', 2.4965277372864048], ['artículo pausa', 2.7659933269446424], ['vaya terminando', 2.8287246247730744], ['vasco pnv', 3.0416567308069], ['pausa nulo', 3.3408875347711295]]\n",
            "Año: 1985\n",
            "[['económica europea', -2.24727846186742], ['artículo proyecto', -2.1959980514320314], ['opinión pública', -2.1249440573661484], ['artículo constitución', -1.8540494678207233], ['presupuesto general', -1.829435287058332]]\n",
            "[['tría be', 2.5008472039600047], ['bravo laguna', 2.736976309058777], ['mixto suscrita', 2.9888008628758125], ['senado artículo', 3.1637634176695797], ['conform dictamen', 4.181363076572855]]\n",
            "Año: 1986\n",
            "[['pueblo español', -2.6097662817082363], ['tan important', -2.5891781630285293], ['millon peseta', -2.204443078557805], ['cámara agraria', -2.1944658228345078], ['función pública', -2.1431968872950278]]\n",
            "[['coalición popular', 1.0226765122129349], ['vasco pnv', 1.2237977240274756], ['unidaesquerra catalana', 1.3993639388845087], ['ruego concluya', 1.6656459471663767], ['dictamen comisión', 1.7469811903792754]]\n",
            "Año: 1987\n",
            "[['portavoz socialista', -3.5386218912957315], ['sociedad española', -2.5170932839689426], ['pueblo español', -2.440569132757772], ['opinión pública', -2.2953548884305057], ['económica europea', -2.2152373538354104]]\n",
            "[['pérez dobón', 1.8231298756962784], ['pausa nulo', 2.1807526756555555], ['bravo laguna', 2.607919871282463], ['ruego concluya', 2.6167806621092264], ['agrupación izquierda', 3.4103835951667048]]\n",
            "Año: 1988\n",
            "[['tan important', -2.936216723216783], ['director gener', -2.5316454741616754], ['opinión pública', -2.371481594288398], ['sociedad española', -2.36250607673317], ['presupuesto general', -1.9792536540449837]]\n",
            "[['bravo laguna', 1.7547737591095431], ['pérez dobón', 2.143138147162691], ['vasco pnv', 2.3719155455878638], ['ruego concluya', 2.657602480077122], ['dictamen comisión', 3.2019625620870165]]\n",
            "Año: 1989\n",
            "[['sociedad española', -2.7488230817402868], ['opinión pública', -2.3910704957704336], ['tribun constitucion', -2.1580755815476276], ['comunidad europea', -1.7736784230460128], ['medio comunicación', -1.698457411855543]]\n",
            "[['vasco pnv', 1.0695561693363838], ['minoría catalana', 1.2545533849869046], ['desean fijar', 1.3127960805548917], ['agrupación izquierda', 1.600847123507252], ['ruego concluya', 2.3118569762359136]]\n",
            "Año: 1990\n",
            "[['banco derecha', -5.4241562853936305], ['comunidad económica', -2.7213667993143105], ['sociedad española', -2.2503964936609187], ['cualquier caso', -2.0749010978374125], ['millon peseta', -2.0109082075531073]]\n",
            "[['izquierda per', 1.601996423775558], ['popular pausa', 1.73923643318918], ['dictamen comisión', 1.8084005676328694], ['catalán vergencia', 2.254912863638703], ['ruego concluya', 3.360680340150373]]\n",
            "Año: 1991\n",
            "[['aplauso banco', -2.9092725236749457], ['artículo constitución', -2.3859064871642937], ['sector público', -2.2661917064340145], ['comunidad económica', -2.1484168447283705], ['medio comunicación', -2.109662432620298]]\n",
            "[['per catalunya', 1.4552144310853323], ['desean fijar', 1.5071388302527946], ['catalán vergencia', 1.6039770778178293], ['vasco pnv', 1.9647385287486145], ['ruego concluya', 2.3492993416927668]]\n",
            "Año: 1992\n",
            "[['aplauso banco', -2.7244626832905765], ['sociedad española', -2.417592234150286], ['comunidad económica', -2.382055012477384], ['hace falta', -2.239620130345854], ['medio comunicación', -2.1884649767137603]]\n",
            "[['aprobado dictamen', 2.0979068304873736], ['vasco pnv', 2.2132713179428225], ['garcía fonseca', 2.6243344416272922], ['per catalunya', 3.0995396965860182], ['ruego concluya', 3.4269427630823626]]\n",
            "Año: 1993\n",
            "[['sociedad española', -2.7565155931963807], ['puesto trabajo', -2.705095236304583], ['ningún tipo', -2.151828835995378], ['crisi económica', -2.0997131032884626], ['medio comunicación', -1.9651868618719581]]\n",
            "[['gonzález lizondo', 2.0775899281349655], ['desean fijar', 2.128497558996969], ['aprobado dictamen', 2.2388214247962814], ['per catalunya', 2.97475366623981], ['ruego concluya', 3.0132608525854585]]\n",
            "Año: 1994\n",
            "[['presupuesto general', -2.2298784444611113], ['millon peseta', -2.1582725424374543], ['medio comunicación', -2.0153069360075917], ['artículo constitución', -1.624038581302879], ['política económica', -1.586195070416844]]\n",
            "[['vaya concluyendo', 2.4432088905680884], ['aprobado dictamen', 2.997919272470674], ['per catalunya', 3.089743631733751], ['ruego concluya', 3.146331605617054], ['congreso formula', 3.4637696433992446]]\n",
            "Año: 1995\n",
            "[['sociedad española', -2.1054216895415188], ['unión europea', -1.9519835000438948], ['millon peseta', -1.7434318319533273], ['opinión pública', -1.6949278612182825], ['izquierda unida', -1.6752811782584054]]\n",
            "[['gil lázaro', 2.251383837746383], ['aprobado dictamen', 2.417802133902229], ['per catalunya', 2.7052525849406224], ['ruego concluya', 2.830657872183761], ['congreso formula', 3.6270234639514842]]\n",
            "Año: 1996\n",
            "[['ruego vaya', -4.6760596537006744], ['número formula', -3.5322773069603164], ['congreso formula', -3.276496619732085], ['ruego concluya', -2.073477818086069], ['tipo interé', -2.038288367396324]]\n",
            "[['medio comunicación', 1.3247044315710437], ['millon peseta', 1.393644533746488], ['política social', 1.4538888250688085], ['tribun constitucion', 1.4559667020628906], ['portavoz popular', 3.383749170445123]]\n",
            "Año: 1997\n",
            "[['número formula', -4.484289450703666], ['ruego vaya', -3.200861091177708], ['fijar nombr', -1.9026392118016482], ['feder izquierda', -1.1521578407801683], ['ruego concluya', -1.0455450224489042]]\n",
            "[['convergència unió', 1.0411507317313637], ['poder judici', 1.1398499091253342], ['tan important', 1.5380605470800472], ['medio comunicación', 1.698266721028128], ['artículo constitución', 1.734179417604041]]\n",
            "Año: 1998\n",
            "[['ruego vaya', -3.51985422408455], ['fijar nombr', -3.256611189495659], ['número formula', -2.406692230733324], ['congreso formula', -1.5813997059373566], ['portavoz socialista', -1.5124568230406896]]\n",
            "[['sociedad española', 1.1225220311640736], ['millon peseta', 1.1426171510204919], ['tan important', 1.6471549478112892], ['diario sesion', 1.9424380611061807], ['medio comunicación', 2.1747818222258752]]\n",
            "Año: 1999\n",
            "[['fijar nombr', -3.9089919813350305], ['ruego vaya', -3.4705484591399594], ['número formula', -2.8302022763671735], ['nombr popular', -2.696721127455218], ['congreso formula', -2.4587110067948306]]\n",
            "[['diario sesion', 0.8080592901620999], ['vaya concluyendo', 0.9651995653563964], ['millon peseta', 1.1680450933852418], ['servicio público', 1.3403387769014325], ['medio comunicación', 1.9457666331897558]]\n",
            "Año: 2000\n",
            "[['número formula', -3.3676299191514283], ['portavoz socialista', -2.7753378721511215], ['equilibrio presupuestario', -2.359262699162185], ['socialista formula', -2.223814060742644], ['popular congreso', -2.195424067768585]]\n",
            "[['comisión europea', 1.7119818586412727], ['medio comunicación', 1.7664442994350484], ['opinión pública', 1.8227242919472721], ['tan important', 1.84437870604574], ['consecuencia interpelación', 1.9472413026103397]]\n",
            "Año: 2001\n",
            "[['número formula', -4.1305034286057705], ['pesca alimentación', -4.030702310836851], ['congreso formula', -3.926576319968831], ['socialista formula', -2.8845019777755243], ['ruego concluya', -2.794692110253422]]\n",
            "[['presupuesto general', 1.3561649155765556], ['sociedad española', 1.3933444852994632], ['medio comunicación', 1.5021181620329795], ['opinión pública', 1.7609872947796619], ['ministra sanidad', 2.3899413167421724]]\n",
            "Año: 2002\n",
            "[['número formula', -4.427458646545742], ['cultura deport', -3.0464641576682308], ['presentación defensa', -2.696026495780166], ['feder izquierda', -2.4439412278895776], ['ocupen escaño', -2.3977204633160754]]\n",
            "[['unión europea', 1.2473608836757144], ['convergència unió', 1.459142109160283], ['millon peseta', 1.5183734109883782], ['izquierda unida', 1.6793068309003027], ['medio comunicación', 2.3047322147691798]]\n",
            "Año: 2003\n",
            "[['número formula', -4.570765415830331], ['nombr popular', -3.4863947747333186], ['nombr catalán', -3.055517818623741], ['ocupen escaño', -2.7544160393543056], ['interpelación urgent', -2.3114474836334327]]\n",
            "[['nacion unida', 1.4571384133328682], ['convergència unió', 1.5010949141667804], ['moción consecuencia', 1.5270030648021398], ['medio comunicación', 1.6474417667388512], ['opinión pública', 2.550194163144743]]\n",
            "Año: 2004\n",
            "[['rodríguez zapatero', -3.4527686735260903], ['política económica', -2.2746820886894255], ['programa elector', -2.1160505976905832], ['presupuesto general', -1.7016913182084885], ['medio comunicación', -1.5367841775898652]]\n",
            "[['fijación posicion', 1.348772852602952], ['texto dictamen', 1.7858822768787275], ['catalunya verd', 1.7947564299330232], ['diputada doña', 1.8664851333070833], ['popular congreso', 1.892035472859079]]\n",
            "Año: 2005\n",
            "[['rodríguez zapatero', -3.3514389429616562], ['medio comunicación', -2.506617011643455], ['ciudadano español', -2.023797780678212], ['diario sesion', -1.7760608381021334], ['cualquier caso', -1.615272334063423]]\n",
            "[['coalición canaria', 0.955391143440702], ['popular congreso', 1.2079032099402938], ['verdeizquierda per', 1.3211496709882338], ['fijación posicion', 1.4298093022843992], ['izquierda verd', 1.5213596777131304]]\n",
            "Año: 2006\n",
            "[['rodríguez zapatero', -3.7721415545304064], ['medio comunicación', -2.8533844945003106], ['programa elector', -1.9583637227962778], ['estatuto cataluña', -1.8976696986463104], ['diario sesion', -1.7808064635638117]]\n",
            "[['popular congreso', 1.7499528146765573], ['sección relativo', 1.7736954986453712], ['tiempo concluido', 1.8868393982102274], ['diputada doña', 1.9590689558222207], ['turismo comercio', 1.9611186157388871]]\n",
            "Año: 2007\n",
            "[['rodríguez zapatero', -3.754047148655091], ['diario sesion', -1.8197189678678474], ['izquierda unida', -1.216434670599979], ['sociedad española', -1.111221002697846], ['violencia género', -0.98992663281901]]\n",
            "[['turismo comercio', 0.4833887297751659], ['popular congreso', 1.248171537281317], ['catalunya verd', 1.4946340516686611], ['diputada doña', 2.118492281655071], ['tiempo concluido', 2.365479867144586]]\n",
            "Año: 2008\n",
            "[['crisi económica', -3.1943412353180842], ['tasa paro', -2.55794792578176], ['puesto trabajo', -2.4703656642018883], ['economía española', -2.1490839560408], ['sociedad española', -1.985289246147525]]\n",
            "[['hecho referencia', 1.560672245181871], ['ir acabando', 1.7277307315243429], ['actividad económica', 1.8816666149639885], ['turismo comercio', 2.6967649575167645], ['catalunya verd', 3.2107544677051423]]\n",
            "Año: 2009\n",
            "[['rodríguez zapatero', -4.623072253761568], ['política económica', -2.7041774730979107], ['banco españa', -2.2658776985707334], ['puesto trabajo', -2.1643447457782905], ['pequeña mediana', -2.1359557172181063]]\n",
            "[['sánchez llibr', 1.1537845167327214], ['turismo comercio', 1.2351647790799072], ['sistema financiero', 1.3397033642665732], ['puesto marcha', 1.3588786445450522], ['per catalunya', 1.772019747851028]]\n",
            "Año: 2010\n",
            "[['rodríguez zapatero', -3.907200574644946], ['puesto trabajo', -2.766211006654973], ['política económica', -2.654352695006023], ['economía española', -2.013438216256943], ['reforma labor', -1.9473473973581432]]\n",
            "[['fernández davila', 1.7465117742652798], ['vasco pnv', 1.888622005828712], ['sáenz santamaría', 1.901724238784598], ['catalunya verd', 2.619704506343042], ['reducción déficit', 3.0960385464269047]]\n",
            "Año: 2011\n",
            "[['rodríguez zapatero', -3.43291773127122], ['estabilidad presupuestaria', -2.60020889447252], ['puesto trabajo', -2.418567945171191], ['reforma labor', -2.134062657320575], ['unión europea', -1.501283770180092]]\n",
            "[['rural marino', 1.0026467625772577], ['sánchez llibr', 1.0362874144043983], ['sáenz santamaría', 1.10551354838516], ['turismo comercio', 1.8752553397980116], ['catalunya verd', 1.8867172287253413]]\n",
            "Año: 2012\n",
            "[['reforma estructural', -3.6018464508184938], ['economía competitividad', -3.497127271516939], ['social igualdad', -2.836670082439524], ['déficit público', -2.6878802944536857], ['hacienda administracion', -1.3862139045160786]]\n",
            "[['comunidad autónoma', 1.8518849191136388], ['economía española', 1.98867091226449], ['presupuesto general', 2.425820566850509], ['puesto trabajo', 2.667600347958126], ['reforma labor', 2.712181457630897]]\n",
            "Año: 2013\n",
            "[['déficit público', -3.5487925337985127], ['pérez rubalcaba', -3.1517738684295042], ['diputada doña', -2.5383168923863098], ['social igualdad', -2.358814376950306], ['extraordinaria comisión', -1.555241257544734]]\n",
            "[['presupuesto general', 1.7645350099116661], ['política económica', 2.3159238204740036], ['puesto trabajo', 2.553293766701576], ['deuda pública', 2.690558909382692], ['reforma labor', 2.7585317238942424]]\n",
            "Año: 2014\n",
            "[['social igualdad', -3.5339263789546425], ['acuerd celebración', -3.0181910933868363], ['diputada doña', -2.672671826320923], ['energía turismo', -2.6186443016047503], ['hacienda administracion', -2.6088733261742507]]\n",
            "[['comunidad autónoma', 1.5251747992112836], ['seguridad social', 1.581691556463895], ['tribun constitucion', 1.7403306425175276], ['comisión europea', 1.7574425489380023], ['puesto trabajo', 2.165138977030112]]\n",
            "Año: 2015\n",
            "[['creación empleo', -4.559095776713489], ['social igualdad', -2.8540600354026235], ['crecimiento económico', -1.809528060876579], ['catalán convergència', -0.9935379757138346], ['hacienda administracion', -0.938661238858997]]\n",
            "[['sociedad española', 1.677712645084504], ['comisión europea', 1.6911658758009716], ['servicio social', 1.7057738674273895], ['agencia tributaria', 1.7595747672015107], ['reforma labor', 3.970219561897129]]\n",
            "Año: 2016\n",
            "[['unido podemosen', -8.236995504455834], ['creación empleo', -3.1550367728292765], ['vasco pnv', -2.38745366550993], ['cualquier caso', -1.1739554230410452], ['popular congreso', -1.1402528612294658]]\n",
            "[['consideración proposición', 1.330063283837436], ['salario mínimo', 1.648676460002738], ['poner marcha', 1.886647184367324], ['reforma labor', 2.614354147027371], ['comú podemen', 3.882574915621538]]\n",
            "Año: 2017\n",
            "[['social igualdad', -4.133807152692734], ['creación empleo', -4.054695219964144], ['diputada doña', -2.351936664125395], ['vasco pnv', -1.9310397363181369], ['cultura deport', -1.5239277180537645]]\n",
            "[['ahora mismo', 1.554565848440322], ['comisión europea', 1.6916388233321467], ['tribun constitucion', 1.70234145234253], ['sociedad española', 2.1715596693750023], ['buena tard', 2.5367554058135764]]\n",
            "Año: 2018\n",
            "[['ministra adelant', -3.2486484528796713], ['creación empleo', -3.101464695159302], ['popular adelant', -2.7448314851551503], ['vasco pnv', -2.6959581679958458], ['diputada doña', -1.610890354547]]\n",
            "[['relacion cort', 1.6464430569005575], ['servicio público', 1.7653993117603988], ['comisión europea', 1.9099521629077902], ['fuerza política', 1.9241330207191996], ['ahora mismo', 2.2697372904353914]]\n",
            "Año: 2019\n",
            "[['confeder unido', -3.368407455693448], ['convalidación derogación', -2.492969410941971], ['unido podemosen', -2.291637922562965], ['procedimiento urgencia', -2.2576912247613476], ['popular congreso', -2.0702513065505563]]\n",
            "[['pesca alimentación', 1.8394713337249524], ['migracion seguridad', 1.8690262376225146], ['adoptan medida', 1.9110831851559402], ['popular ciudadano', 2.7863220438494496], ['confeder unida', 6.073563628786022]]\n"
          ]
        }
      ]
    },
    {
      "cell_type": "markdown",
      "source": [
        "# Regresión lineal"
      ],
      "metadata": {
        "id": "W4gP8QOIbRyt"
      }
    },
    {
      "cell_type": "code",
      "source": [
        "X_train, X_test, y_train, y_test = train_test_split(base.loc[:, base.columns != 'party'], base['party'], test_size=0.33, random_state=42)"
      ],
      "metadata": {
        "id": "8dGWALnQb1Mn"
      },
      "execution_count": 44,
      "outputs": []
    },
    {
      "cell_type": "code",
      "source": [
        "vec = cv.fit(X_train['tokens'])"
      ],
      "metadata": {
        "id": "mJQVHbEKb1Mo"
      },
      "execution_count": 45,
      "outputs": []
    },
    {
      "cell_type": "code",
      "source": [
        "train_matrix = vec.fit_transform(X_train['tokens'])\n",
        "test_matrix = vec.transform(X_test['tokens'])"
      ],
      "metadata": {
        "id": "o_UYstuib1Mo"
      },
      "execution_count": 46,
      "outputs": []
    },
    {
      "cell_type": "code",
      "source": [
        "y_train.replace(['PSOE', 'PP'],[1, -1], inplace=True)\n",
        "y_test.replace(['PSOE', 'PP'],[1, -1], inplace=True)"
      ],
      "metadata": {
        "id": "24rbtPzhcfxy"
      },
      "execution_count": 47,
      "outputs": []
    },
    {
      "cell_type": "code",
      "source": [
        "from sklearn.linear_model import LinearRegression\n",
        "lr = LinearRegression()"
      ],
      "metadata": {
        "id": "yD0Hk7RzbnDG"
      },
      "execution_count": 48,
      "outputs": []
    },
    {
      "cell_type": "code",
      "source": [
        "lr.fit(train_matrix,y_train)"
      ],
      "metadata": {
        "colab": {
          "base_uri": "https://localhost:8080/"
        },
        "id": "ZdSt3ASFe3UD",
        "outputId": "91d14f2c-a880-4c35-ee12-89fb653dc584"
      },
      "execution_count": 49,
      "outputs": [
        {
          "output_type": "execute_result",
          "data": {
            "text/plain": [
              "LinearRegression()"
            ]
          },
          "metadata": {},
          "execution_count": 49
        }
      ]
    },
    {
      "cell_type": "code",
      "source": [
        "predictions = lr.predict(test_matrix)"
      ],
      "metadata": {
        "id": "TLLuNbJxeySx"
      },
      "execution_count": 50,
      "outputs": []
    },
    {
      "cell_type": "code",
      "source": [
        "print(lr.coef_)"
      ],
      "metadata": {
        "colab": {
          "base_uri": "https://localhost:8080/"
        },
        "id": "4W7M5BY6fVMR",
        "outputId": "ecd4efb7-7fcb-4862-ee0b-419c3308d41e"
      },
      "execution_count": 51,
      "outputs": [
        {
          "output_type": "stream",
          "name": "stdout",
          "text": [
            "[-0.33804904 -0.05274399  0.02903043 -0.27104501 -0.05208874  0.50486513\n",
            " -1.16025729  0.10455079 -0.19398949 -0.20063203 -0.08980568 -0.04867194\n",
            "  0.73896995  0.15294982  0.81528503 -0.23139942 -0.16551829 -0.23952042\n",
            "  0.08024699 -0.03632334  0.0369103  -0.29147099  0.34662239 -0.15986918\n",
            " -0.11727466 -0.03426999 -0.20430329]\n"
          ]
        }
      ]
    },
    {
      "cell_type": "code",
      "source": [
        "import sklearn.metrics as metrics\n",
        "def regression_results(y_true, y_pred):\n",
        "\n",
        "    explained_variance=metrics.explained_variance_score(y_true, y_pred)\n",
        "    mean_absolute_error=metrics.mean_absolute_error(y_true, y_pred) \n",
        "    mse=metrics.mean_squared_error(y_true, y_pred) \n",
        "    median_absolute_error=metrics.median_absolute_error(y_true, y_pred)\n",
        "    r2=metrics.r2_score(y_true, y_pred)\n",
        "\n",
        "    print('explained_variance: ', round(explained_variance,4))    \n",
        "    print('r2: ', round(r2,4))\n",
        "    print('MAE: ', round(mean_absolute_error,4))\n",
        "    print('MSE: ', round(mse,4))\n",
        "    print('RMSE: ', round(np.sqrt(mse),4))"
      ],
      "metadata": {
        "id": "v7QJrjCzeqtb"
      },
      "execution_count": 52,
      "outputs": []
    },
    {
      "cell_type": "code",
      "source": [
        "regression_results(y_test,predictions)"
      ],
      "metadata": {
        "colab": {
          "base_uri": "https://localhost:8080/"
        },
        "id": "ImFhAonne6h-",
        "outputId": "c522585c-f2d4-4e54-df1c-5d1449eefd52"
      },
      "execution_count": 53,
      "outputs": [
        {
          "output_type": "stream",
          "name": "stdout",
          "text": [
            "explained_variance:  0.0278\n",
            "r2:  0.0277\n",
            "MAE:  0.9544\n",
            "MSE:  0.9562\n",
            "RMSE:  0.9779\n"
          ]
        }
      ]
    },
    {
      "cell_type": "code",
      "source": [
        "# Relevancia de bigramas en la predicción\n",
        "features=[]\n",
        "for i,v in enumerate(lr.coef_):\n",
        "  features.append([vec.get_feature_names_out()[i],v ])"
      ],
      "metadata": {
        "id": "DzFMtYNu3BAF"
      },
      "execution_count": 54,
      "outputs": []
    },
    {
      "cell_type": "code",
      "source": [
        "sorted(features, key = lambda x: x[1])"
      ],
      "metadata": {
        "colab": {
          "base_uri": "https://localhost:8080/"
        },
        "outputId": "42e40aff-7d95-4930-f512-ef8edb4bfaaa",
        "id": "5NBP6idq3BAH"
      },
      "execution_count": 55,
      "outputs": [
        {
          "output_type": "execute_result",
          "data": {
            "text/plain": [
              "[['feder izquierda', -1.160257293302511],\n",
              " ['administracion pública', -0.3380490359212398],\n",
              " ['sociedad española', -0.291470992122777],\n",
              " ['convergència unió', -0.27104500594604847],\n",
              " ['puesto trabajo', -0.23952042054360018],\n",
              " ['política económica', -0.23139942075040412],\n",
              " ['unión europea', -0.20430328833340825],\n",
              " ['medio ambient', -0.20063202982127845],\n",
              " ['izquierda unida', -0.19398948883078493],\n",
              " ['presupuesto general', -0.16551829349519845],\n",
              " ['tan important', -0.15986917985315252],\n",
              " ['toma consideración', -0.11727466010774378],\n",
              " ['medio comunicación', -0.08980568158262175],\n",
              " ['artículo constitución', -0.05274398664920319],\n",
              " ['cualquier caso', -0.052088738785977466],\n",
              " ['millon peseta', -0.048671940709840184],\n",
              " ['seguridad social', -0.03632333780045771],\n",
              " ['tribun constitucion', -0.034269992439611464],\n",
              " ['comunidad autónoma', 0.029030428016970627],\n",
              " ['servicio público', 0.03691029880686206],\n",
              " ['ruego concluya', 0.08024698790516914],\n",
              " ['izquierda per', 0.10455079288520995],\n",
              " ['mismo tiempo', 0.15294982390675413],\n",
              " ['ss ss', 0.34662239420394836],\n",
              " ['dictamen comisión', 0.5048651295647537],\n",
              " ['minoría catalana', 0.7389699452858487],\n",
              " ['per catalunya', 0.8152850320780375]]"
            ]
          },
          "metadata": {},
          "execution_count": 55
        }
      ]
    },
    {
      "cell_type": "markdown",
      "source": [
        "# LDA"
      ],
      "metadata": {
        "id": "CQJqS-DP6e9D"
      }
    },
    {
      "cell_type": "code",
      "source": [
        "from sklearn.decomposition import LatentDirichletAllocation"
      ],
      "metadata": {
        "id": "HRaT7XPi6d_P"
      },
      "execution_count": 56,
      "outputs": []
    },
    {
      "cell_type": "code",
      "source": [
        "vec = cv.fit(base['tokens'])"
      ],
      "metadata": {
        "id": "-2joPfEX7Do_"
      },
      "execution_count": 57,
      "outputs": []
    },
    {
      "cell_type": "code",
      "source": [
        "matrix = vec.transform(base['tokens'])"
      ],
      "metadata": {
        "id": "yTb5eqaI7M3g"
      },
      "execution_count": 58,
      "outputs": []
    },
    {
      "cell_type": "code",
      "source": [
        "lda = LatentDirichletAllocation(n_components=40, max_iter=5, learning_method='online', learning_offset=50.,random_state=0)"
      ],
      "metadata": {
        "id": "r0yF9atu6h1A"
      },
      "execution_count": 59,
      "outputs": []
    },
    {
      "cell_type": "code",
      "source": [
        "lda.fit(matrix)"
      ],
      "metadata": {
        "id": "_MZxKjLy6m_P",
        "outputId": "9f89b5d0-6807-49b7-db44-eb2c6a57ccf4",
        "colab": {
          "base_uri": "https://localhost:8080/"
        }
      },
      "execution_count": 60,
      "outputs": [
        {
          "output_type": "execute_result",
          "data": {
            "text/plain": [
              "LatentDirichletAllocation(learning_method='online', learning_offset=50.0,\n",
              "                          max_iter=5, n_components=40, random_state=0)"
            ]
          },
          "metadata": {},
          "execution_count": 60
        }
      ]
    },
    {
      "cell_type": "code",
      "source": [
        "def display_topics(model, feature_names, no_top_words):\n",
        "    for topic_idx, topic in enumerate(model.components_):\n",
        "        print(\"Topic %d:\" % (topic_idx + 1))\n",
        "        print(\" , \".join([feature_names[i] for i in topic.argsort()[:-no_top_words - 1:-1]]))"
      ],
      "metadata": {
        "id": "LrMKTuXb7m1c"
      },
      "execution_count": 61,
      "outputs": []
    },
    {
      "cell_type": "code",
      "source": [
        "display_topics(lda, feature_names=cv.get_feature_names_out(), no_top_words=20)"
      ],
      "metadata": {
        "id": "9erGzWR47jSC",
        "outputId": "0ab6f92a-94fe-441a-dfe6-9598917a774b",
        "colab": {
          "base_uri": "https://localhost:8080/"
        }
      },
      "execution_count": 62,
      "outputs": [
        {
          "output_type": "stream",
          "name": "stdout",
          "text": [
            "Topic 1:\n",
            "medio comunicación , convergència unió , puesto trabajo , ss ss , seguridad social , artículo constitución , millon peseta , sociedad española , mismo tiempo , política económica , presupuesto general , tan important , administracion pública , per catalunya , medio ambient , izquierda unida , izquierda per , feder izquierda , cualquier caso , servicio público\n",
            "Topic 2:\n",
            "convergència unió , unión europea , minoría catalana , artículo constitución , comunidad autónoma , cualquier caso , dictamen comisión , feder izquierda , izquierda per , izquierda unida , medio ambient , medio comunicación , millon peseta , mismo tiempo , tribun constitucion , per catalunya , política económica , presupuesto general , puesto trabajo , ruego concluya\n",
            "Topic 3:\n",
            "toma consideración , convergència unió , tan important , artículo constitución , sociedad española , seguridad social , feder izquierda , per catalunya , tribun constitucion , izquierda per , izquierda unida , unión europea , medio ambient , comunidad autónoma , cualquier caso , dictamen comisión , mismo tiempo , medio comunicación , millon peseta , minoría catalana\n",
            "Topic 4:\n",
            "comunidad autónoma , administracion pública , mismo tiempo , presupuesto general , artículo constitución , ss ss , cualquier caso , sociedad española , convergència unió , tribun constitucion , unión europea , política económica , medio ambient , puesto trabajo , tan important , servicio público , minoría catalana , medio comunicación , per catalunya , izquierda unida\n",
            "Topic 5:\n",
            "convergència unió , unión europea , minoría catalana , artículo constitución , comunidad autónoma , cualquier caso , dictamen comisión , feder izquierda , izquierda per , izquierda unida , medio ambient , medio comunicación , millon peseta , mismo tiempo , tribun constitucion , per catalunya , política económica , presupuesto general , puesto trabajo , ruego concluya\n",
            "Topic 6:\n",
            "dictamen comisión , seguridad social , convergència unió , toma consideración , izquierda unida , unión europea , millon peseta , artículo constitución , comunidad autónoma , cualquier caso , feder izquierda , izquierda per , medio ambient , medio comunicación , mismo tiempo , minoría catalana , tribun constitucion , per catalunya , política económica , presupuesto general\n",
            "Topic 7:\n",
            "ss ss , convergència unió , artículo constitución , unión europea , tribun constitucion , comunidad autónoma , dictamen comisión , izquierda per , izquierda unida , medio ambient , medio comunicación , millon peseta , minoría catalana , administracion pública , per catalunya , política económica , puesto trabajo , seguridad social , servicio público , tan important\n",
            "Topic 8:\n",
            "convergència unió , unión europea , minoría catalana , artículo constitución , comunidad autónoma , cualquier caso , dictamen comisión , feder izquierda , izquierda per , izquierda unida , medio ambient , medio comunicación , millon peseta , mismo tiempo , tribun constitucion , per catalunya , política económica , presupuesto general , puesto trabajo , ruego concluya\n",
            "Topic 9:\n",
            "ss ss , convergència unió , tribun constitucion , política económica , medio ambient , tan important , unión europea , artículo constitución , feder izquierda , izquierda per , izquierda unida , medio comunicación , millon peseta , mismo tiempo , per catalunya , puesto trabajo , seguridad social , servicio público , sociedad española , toma consideración\n",
            "Topic 10:\n",
            "convergència unió , unión europea , minoría catalana , artículo constitución , comunidad autónoma , cualquier caso , dictamen comisión , feder izquierda , izquierda per , izquierda unida , medio ambient , medio comunicación , millon peseta , mismo tiempo , tribun constitucion , per catalunya , política económica , presupuesto general , puesto trabajo , ruego concluya\n",
            "Topic 11:\n",
            "cualquier caso , convergència unió , seguridad social , tan important , presupuesto general , izquierda per , feder izquierda , tribun constitucion , per catalunya , mismo tiempo , puesto trabajo , izquierda unida , servicio público , comunidad autónoma , medio comunicación , dictamen comisión , artículo constitución , unión europea , medio ambient , millon peseta\n",
            "Topic 12:\n",
            "convergència unió , unión europea , minoría catalana , artículo constitución , comunidad autónoma , cualquier caso , dictamen comisión , feder izquierda , izquierda per , izquierda unida , medio ambient , medio comunicación , millon peseta , mismo tiempo , tribun constitucion , per catalunya , política económica , presupuesto general , puesto trabajo , ruego concluya\n",
            "Topic 13:\n",
            "dictamen comisión , convergència unió , administracion pública , ss ss , feder izquierda , izquierda per , izquierda unida , medio ambient , per catalunya , millon peseta , artículo constitución , comunidad autónoma , cualquier caso , medio comunicación , unión europea , minoría catalana , tribun constitucion , política económica , presupuesto general , puesto trabajo\n",
            "Topic 14:\n",
            "convergència unió , unión europea , minoría catalana , artículo constitución , comunidad autónoma , cualquier caso , dictamen comisión , feder izquierda , izquierda per , izquierda unida , medio ambient , medio comunicación , millon peseta , mismo tiempo , tribun constitucion , per catalunya , política económica , presupuesto general , puesto trabajo , ruego concluya\n",
            "Topic 15:\n",
            "convergència unió , unión europea , minoría catalana , artículo constitución , comunidad autónoma , cualquier caso , dictamen comisión , feder izquierda , izquierda per , izquierda unida , medio ambient , medio comunicación , millon peseta , mismo tiempo , tribun constitucion , per catalunya , política económica , presupuesto general , puesto trabajo , ruego concluya\n",
            "Topic 16:\n",
            "sociedad española , convergència unió , tribun constitucion , tan important , unión europea , artículo constitución , comunidad autónoma , feder izquierda , izquierda per , izquierda unida , medio ambient , medio comunicación , minoría catalana , mismo tiempo , per catalunya , presupuesto general , puesto trabajo , seguridad social , servicio público , ss ss\n",
            "Topic 17:\n",
            "presupuesto general , comunidad autónoma , convergència unió , administracion pública , ss ss , artículo constitución , tribun constitucion , unión europea , medio ambient , puesto trabajo , toma consideración , tan important , sociedad española , cualquier caso , feder izquierda , izquierda per , izquierda unida , mismo tiempo , medio comunicación , millon peseta\n",
            "Topic 18:\n",
            "convergència unió , unión europea , minoría catalana , artículo constitución , comunidad autónoma , cualquier caso , dictamen comisión , feder izquierda , izquierda per , izquierda unida , medio ambient , medio comunicación , millon peseta , mismo tiempo , tribun constitucion , per catalunya , política económica , presupuesto general , puesto trabajo , ruego concluya\n",
            "Topic 19:\n",
            "per catalunya , izquierda unida , izquierda per , feder izquierda , convergència unió , toma consideración , ss ss , unión europea , artículo constitución , comunidad autónoma , medio ambient , millon peseta , mismo tiempo , política económica , puesto trabajo , tan important , administracion pública , tribun constitucion , minoría catalana , medio comunicación\n",
            "Topic 20:\n",
            "convergència unió , unión europea , minoría catalana , artículo constitución , comunidad autónoma , cualquier caso , dictamen comisión , feder izquierda , izquierda per , izquierda unida , medio ambient , medio comunicación , millon peseta , mismo tiempo , tribun constitucion , per catalunya , política económica , presupuesto general , puesto trabajo , ruego concluya\n",
            "Topic 21:\n",
            "unión europea , mismo tiempo , seguridad social , convergència unió , tan important , izquierda unida , comunidad autónoma , servicio público , política económica , puesto trabajo , medio ambient , ss ss , medio comunicación , tribun constitucion , presupuesto general , toma consideración , cualquier caso , feder izquierda , artículo constitución , dictamen comisión\n",
            "Topic 22:\n",
            "ruego concluya , convergència unió , unión europea , minoría catalana , artículo constitución , comunidad autónoma , cualquier caso , dictamen comisión , feder izquierda , izquierda per , izquierda unida , medio ambient , medio comunicación , millon peseta , mismo tiempo , tribun constitucion , per catalunya , política económica , presupuesto general , puesto trabajo\n",
            "Topic 23:\n",
            "convergència unió , unión europea , minoría catalana , artículo constitución , comunidad autónoma , cualquier caso , dictamen comisión , feder izquierda , izquierda per , izquierda unida , medio ambient , medio comunicación , millon peseta , mismo tiempo , tribun constitucion , per catalunya , política económica , presupuesto general , puesto trabajo , ruego concluya\n",
            "Topic 24:\n",
            "puesto trabajo , mismo tiempo , seguridad social , presupuesto general , convergència unió , sociedad española , tan important , millon peseta , ss ss , artículo constitución , comunidad autónoma , medio ambient , cualquier caso , dictamen comisión , feder izquierda , izquierda per , izquierda unida , unión europea , medio comunicación , minoría catalana\n",
            "Topic 25:\n",
            "seguridad social , comunidad autónoma , sociedad española , millon peseta , ss ss , tan important , cualquier caso , artículo constitución , convergència unió , política económica , mismo tiempo , minoría catalana , administracion pública , presupuesto general , puesto trabajo , servicio público , medio comunicación , unión europea , izquierda unida , tribun constitucion\n",
            "Topic 26:\n",
            "convergència unió , unión europea , minoría catalana , artículo constitución , comunidad autónoma , cualquier caso , dictamen comisión , feder izquierda , izquierda per , izquierda unida , medio ambient , medio comunicación , millon peseta , mismo tiempo , tribun constitucion , per catalunya , política económica , presupuesto general , puesto trabajo , ruego concluya\n",
            "Topic 27:\n",
            "política económica , seguridad social , puesto trabajo , mismo tiempo , sociedad española , administracion pública , tan important , ss ss , millon peseta , convergència unió , tribun constitucion , comunidad autónoma , servicio público , artículo constitución , presupuesto general , medio comunicación , minoría catalana , medio ambient , izquierda unida , izquierda per\n",
            "Topic 28:\n",
            "convergència unió , unión europea , minoría catalana , artículo constitución , comunidad autónoma , cualquier caso , dictamen comisión , feder izquierda , izquierda per , izquierda unida , medio ambient , medio comunicación , millon peseta , mismo tiempo , tribun constitucion , per catalunya , política económica , presupuesto general , puesto trabajo , ruego concluya\n",
            "Topic 29:\n",
            "medio ambient , ss ss , convergència unió , artículo constitución , unión europea , millon peseta , medio comunicación , política económica , tan important , comunidad autónoma , cualquier caso , dictamen comisión , feder izquierda , izquierda per , izquierda unida , mismo tiempo , tribun constitucion , per catalunya , presupuesto general , puesto trabajo\n",
            "Topic 30:\n",
            "millon peseta , ss ss , comunidad autónoma , presupuesto general , mismo tiempo , seguridad social , política económica , cualquier caso , servicio público , convergència unió , sociedad española , puesto trabajo , tan important , artículo constitución , tribun constitucion , unión europea , administracion pública , medio comunicación , medio ambient , izquierda unida\n",
            "Topic 31:\n",
            "minoría catalana , convergència unió , ss ss , unión europea , artículo constitución , comunidad autónoma , cualquier caso , dictamen comisión , feder izquierda , izquierda per , izquierda unida , medio ambient , medio comunicación , millon peseta , mismo tiempo , tribun constitucion , per catalunya , política económica , presupuesto general , puesto trabajo\n",
            "Topic 32:\n",
            "convergència unió , unión europea , minoría catalana , artículo constitución , comunidad autónoma , cualquier caso , dictamen comisión , feder izquierda , izquierda per , izquierda unida , medio ambient , medio comunicación , millon peseta , mismo tiempo , tribun constitucion , per catalunya , política económica , presupuesto general , puesto trabajo , ruego concluya\n",
            "Topic 33:\n",
            "tan important , convergència unió , unión europea , presupuesto general , artículo constitución , feder izquierda , izquierda per , izquierda unida , millon peseta , per catalunya , mismo tiempo , ss ss , política económica , puesto trabajo , tribun constitucion , minoría catalana , ruego concluya , medio comunicación , medio ambient , seguridad social\n",
            "Topic 34:\n",
            "minoría catalana , convergència unió , mismo tiempo , ss ss , seguridad social , izquierda unida , tribun constitucion , medio comunicación , artículo constitución , comunidad autónoma , cualquier caso , dictamen comisión , feder izquierda , izquierda per , medio ambient , unión europea , millon peseta , per catalunya , política económica , presupuesto general\n",
            "Topic 35:\n",
            "artículo constitución , convergència unió , mismo tiempo , per catalunya , cualquier caso , feder izquierda , izquierda per , izquierda unida , medio ambient , millon peseta , tribun constitucion , administracion pública , política económica , puesto trabajo , seguridad social , servicio público , sociedad española , ss ss , tan important , toma consideración\n",
            "Topic 36:\n",
            "ss ss , convergència unió , mismo tiempo , tribun constitucion , comunidad autónoma , dictamen comisión , feder izquierda , izquierda per , izquierda unida , medio ambient , medio comunicación , millon peseta , administracion pública , per catalunya , política económica , seguridad social , servicio público , sociedad española , tan important , minoría catalana\n",
            "Topic 37:\n",
            "administracion pública , comunidad autónoma , tribun constitucion , convergència unió , ss ss , artículo constitución , política económica , millon peseta , cualquier caso , dictamen comisión , feder izquierda , izquierda per , izquierda unida , medio ambient , medio comunicación , unión europea , minoría catalana , per catalunya , presupuesto general , puesto trabajo\n",
            "Topic 38:\n",
            "convergència unió , unión europea , minoría catalana , artículo constitución , comunidad autónoma , cualquier caso , dictamen comisión , feder izquierda , izquierda per , izquierda unida , medio ambient , medio comunicación , millon peseta , mismo tiempo , tribun constitucion , per catalunya , política económica , presupuesto general , puesto trabajo , ruego concluya\n",
            "Topic 39:\n",
            "servicio público , convergència unió , administracion pública , tan important , política económica , millon peseta , artículo constitución , comunidad autónoma , cualquier caso , feder izquierda , izquierda per , izquierda unida , medio ambient , medio comunicación , unión europea , minoría catalana , tribun constitucion , per catalunya , presupuesto general , puesto trabajo\n",
            "Topic 40:\n",
            "tribun constitucion , comunidad autónoma , artículo constitución , ss ss , toma consideración , cualquier caso , convergència unió , tan important , administracion pública , medio comunicación , mismo tiempo , presupuesto general , puesto trabajo , dictamen comisión , unión europea , izquierda unida , política económica , per catalunya , minoría catalana , millon peseta\n"
          ]
        }
      ]
    },
    {
      "cell_type": "code",
      "source": [
        "# LDA genera una matríz en la que asigna a cada uno de los 200 bigramas una probabilidad de ocurrencia para cada uno de los 40 topics\n",
        "lda.components_.shape"
      ],
      "metadata": {
        "id": "RWahOK2KA1sZ",
        "outputId": "4f3e3d39-9524-4530-ba81-1ff445e8dc6d",
        "colab": {
          "base_uri": "https://localhost:8080/"
        }
      },
      "execution_count": 63,
      "outputs": [
        {
          "output_type": "execute_result",
          "data": {
            "text/plain": [
              "(40, 27)"
            ]
          },
          "metadata": {},
          "execution_count": 63
        }
      ]
    },
    {
      "cell_type": "markdown",
      "source": [
        "# Número óptimo de clusters"
      ],
      "metadata": {
        "id": "dyPxwlJ9meig"
      }
    },
    {
      "cell_type": "code",
      "source": [
        "# LDA en Sklearn tiene un resultado de score correspondiente al log-likelihood. En base a ese criterio se identifica el número óptimo de clusters. \n",
        "\n",
        "from sklearn.model_selection import GridSearchCV\n",
        "\n",
        "search_params = {'n_components': [5, 10, 20, 40, 60, 80]}\n",
        "\n",
        "model = LatentDirichletAllocation(n_components=40, max_iter=5, learning_method='online', learning_offset=50.,random_state=0)\n",
        "\n",
        "gridsearch = GridSearchCV(model,\n",
        "                          param_grid=search_params,\n",
        "                          n_jobs=-1,\n",
        "                          verbose=1)\n",
        "gridsearch.fit(matrix)\n",
        "\n",
        "## Save the best model\n",
        "best_lda = gridsearch.best_estimator_"
      ],
      "metadata": {
        "id": "XS4CHUw4uYWf",
        "outputId": "c4853504-53ed-47c5-a53e-5e4339514f73",
        "colab": {
          "base_uri": "https://localhost:8080/"
        }
      },
      "execution_count": 64,
      "outputs": [
        {
          "output_type": "stream",
          "name": "stdout",
          "text": [
            "Fitting 5 folds for each of 6 candidates, totalling 30 fits\n"
          ]
        },
        {
          "output_type": "stream",
          "name": "stderr",
          "text": [
            "/usr/local/lib/python3.7/dist-packages/joblib/externals/loky/process_executor.py:703: UserWarning: A worker stopped while some jobs were given to the executor. This can be caused by a too short worker timeout or by a memory leak.\n",
            "  \"timeout or by a memory leak.\", UserWarning\n"
          ]
        }
      ]
    },
    {
      "cell_type": "code",
      "source": [
        "cv_results_df = pd.DataFrame(gridsearch.cv_results_)\n",
        "cv_results_df"
      ],
      "metadata": {
        "id": "DA9TfhX-r4bX",
        "outputId": "0deb111c-af0d-4253-a6b5-8fd7e462c213",
        "colab": {
          "base_uri": "https://localhost:8080/",
          "height": 406
        }
      },
      "execution_count": 65,
      "outputs": [
        {
          "output_type": "execute_result",
          "data": {
            "text/plain": [
              "   mean_fit_time  std_fit_time  mean_score_time  std_score_time  \\\n",
              "0     141.960739      1.065958         8.516669        0.248591   \n",
              "1     148.094847      4.273811         8.639051        0.060640   \n",
              "2     154.504221      2.315521         9.271271        0.221929   \n",
              "3     170.500937      1.366142         9.250748        0.150197   \n",
              "4     184.711037      1.786021         9.782034        0.174319   \n",
              "5     189.327042     10.173789         9.201641        1.879018   \n",
              "\n",
              "  param_n_components                params  split0_test_score  \\\n",
              "0                  5   {'n_components': 5}      -94241.834431   \n",
              "1                 10  {'n_components': 10}      -96975.392873   \n",
              "2                 20  {'n_components': 20}     -100077.719126   \n",
              "3                 40  {'n_components': 40}     -101868.061441   \n",
              "4                 60  {'n_components': 60}     -115581.844752   \n",
              "5                 80  {'n_components': 80}     -130667.011874   \n",
              "\n",
              "   split1_test_score  split2_test_score  split3_test_score  split4_test_score  \\\n",
              "0      -77025.196843      -8.199954e+04      -55871.795723      -50286.477349   \n",
              "1      -80192.487786      -8.565397e+04      -61764.509765      -55994.067933   \n",
              "2      -89539.243545      -9.692765e+04      -71240.336741      -62239.141923   \n",
              "3     -449330.769811      -5.899491e+05     -338971.603909     -161430.587995   \n",
              "4     -637916.593233      -8.482195e+05     -482048.451629     -215911.766925   \n",
              "5     -825427.142328      -1.108293e+06     -624683.849717     -273364.698928   \n",
              "\n",
              "   mean_test_score  std_test_score  rank_test_score  \n",
              "0    -71884.968967    16440.635575                1  \n",
              "1    -76116.085766    15189.222011                2  \n",
              "2    -84004.818118    14782.721138                3  \n",
              "3   -328310.023122   180188.457407                4  \n",
              "4   -459935.634393   268722.068688                5  \n",
              "5   -592487.095358   356782.871771                6  "
            ],
            "text/html": [
              "\n",
              "  <div id=\"df-5fb51037-be6c-49da-8d9e-f385741a0e2c\">\n",
              "    <div class=\"colab-df-container\">\n",
              "      <div>\n",
              "<style scoped>\n",
              "    .dataframe tbody tr th:only-of-type {\n",
              "        vertical-align: middle;\n",
              "    }\n",
              "\n",
              "    .dataframe tbody tr th {\n",
              "        vertical-align: top;\n",
              "    }\n",
              "\n",
              "    .dataframe thead th {\n",
              "        text-align: right;\n",
              "    }\n",
              "</style>\n",
              "<table border=\"1\" class=\"dataframe\">\n",
              "  <thead>\n",
              "    <tr style=\"text-align: right;\">\n",
              "      <th></th>\n",
              "      <th>mean_fit_time</th>\n",
              "      <th>std_fit_time</th>\n",
              "      <th>mean_score_time</th>\n",
              "      <th>std_score_time</th>\n",
              "      <th>param_n_components</th>\n",
              "      <th>params</th>\n",
              "      <th>split0_test_score</th>\n",
              "      <th>split1_test_score</th>\n",
              "      <th>split2_test_score</th>\n",
              "      <th>split3_test_score</th>\n",
              "      <th>split4_test_score</th>\n",
              "      <th>mean_test_score</th>\n",
              "      <th>std_test_score</th>\n",
              "      <th>rank_test_score</th>\n",
              "    </tr>\n",
              "  </thead>\n",
              "  <tbody>\n",
              "    <tr>\n",
              "      <th>0</th>\n",
              "      <td>141.960739</td>\n",
              "      <td>1.065958</td>\n",
              "      <td>8.516669</td>\n",
              "      <td>0.248591</td>\n",
              "      <td>5</td>\n",
              "      <td>{'n_components': 5}</td>\n",
              "      <td>-94241.834431</td>\n",
              "      <td>-77025.196843</td>\n",
              "      <td>-8.199954e+04</td>\n",
              "      <td>-55871.795723</td>\n",
              "      <td>-50286.477349</td>\n",
              "      <td>-71884.968967</td>\n",
              "      <td>16440.635575</td>\n",
              "      <td>1</td>\n",
              "    </tr>\n",
              "    <tr>\n",
              "      <th>1</th>\n",
              "      <td>148.094847</td>\n",
              "      <td>4.273811</td>\n",
              "      <td>8.639051</td>\n",
              "      <td>0.060640</td>\n",
              "      <td>10</td>\n",
              "      <td>{'n_components': 10}</td>\n",
              "      <td>-96975.392873</td>\n",
              "      <td>-80192.487786</td>\n",
              "      <td>-8.565397e+04</td>\n",
              "      <td>-61764.509765</td>\n",
              "      <td>-55994.067933</td>\n",
              "      <td>-76116.085766</td>\n",
              "      <td>15189.222011</td>\n",
              "      <td>2</td>\n",
              "    </tr>\n",
              "    <tr>\n",
              "      <th>2</th>\n",
              "      <td>154.504221</td>\n",
              "      <td>2.315521</td>\n",
              "      <td>9.271271</td>\n",
              "      <td>0.221929</td>\n",
              "      <td>20</td>\n",
              "      <td>{'n_components': 20}</td>\n",
              "      <td>-100077.719126</td>\n",
              "      <td>-89539.243545</td>\n",
              "      <td>-9.692765e+04</td>\n",
              "      <td>-71240.336741</td>\n",
              "      <td>-62239.141923</td>\n",
              "      <td>-84004.818118</td>\n",
              "      <td>14782.721138</td>\n",
              "      <td>3</td>\n",
              "    </tr>\n",
              "    <tr>\n",
              "      <th>3</th>\n",
              "      <td>170.500937</td>\n",
              "      <td>1.366142</td>\n",
              "      <td>9.250748</td>\n",
              "      <td>0.150197</td>\n",
              "      <td>40</td>\n",
              "      <td>{'n_components': 40}</td>\n",
              "      <td>-101868.061441</td>\n",
              "      <td>-449330.769811</td>\n",
              "      <td>-5.899491e+05</td>\n",
              "      <td>-338971.603909</td>\n",
              "      <td>-161430.587995</td>\n",
              "      <td>-328310.023122</td>\n",
              "      <td>180188.457407</td>\n",
              "      <td>4</td>\n",
              "    </tr>\n",
              "    <tr>\n",
              "      <th>4</th>\n",
              "      <td>184.711037</td>\n",
              "      <td>1.786021</td>\n",
              "      <td>9.782034</td>\n",
              "      <td>0.174319</td>\n",
              "      <td>60</td>\n",
              "      <td>{'n_components': 60}</td>\n",
              "      <td>-115581.844752</td>\n",
              "      <td>-637916.593233</td>\n",
              "      <td>-8.482195e+05</td>\n",
              "      <td>-482048.451629</td>\n",
              "      <td>-215911.766925</td>\n",
              "      <td>-459935.634393</td>\n",
              "      <td>268722.068688</td>\n",
              "      <td>5</td>\n",
              "    </tr>\n",
              "    <tr>\n",
              "      <th>5</th>\n",
              "      <td>189.327042</td>\n",
              "      <td>10.173789</td>\n",
              "      <td>9.201641</td>\n",
              "      <td>1.879018</td>\n",
              "      <td>80</td>\n",
              "      <td>{'n_components': 80}</td>\n",
              "      <td>-130667.011874</td>\n",
              "      <td>-825427.142328</td>\n",
              "      <td>-1.108293e+06</td>\n",
              "      <td>-624683.849717</td>\n",
              "      <td>-273364.698928</td>\n",
              "      <td>-592487.095358</td>\n",
              "      <td>356782.871771</td>\n",
              "      <td>6</td>\n",
              "    </tr>\n",
              "  </tbody>\n",
              "</table>\n",
              "</div>\n",
              "      <button class=\"colab-df-convert\" onclick=\"convertToInteractive('df-5fb51037-be6c-49da-8d9e-f385741a0e2c')\"\n",
              "              title=\"Convert this dataframe to an interactive table.\"\n",
              "              style=\"display:none;\">\n",
              "        \n",
              "  <svg xmlns=\"http://www.w3.org/2000/svg\" height=\"24px\"viewBox=\"0 0 24 24\"\n",
              "       width=\"24px\">\n",
              "    <path d=\"M0 0h24v24H0V0z\" fill=\"none\"/>\n",
              "    <path d=\"M18.56 5.44l.94 2.06.94-2.06 2.06-.94-2.06-.94-.94-2.06-.94 2.06-2.06.94zm-11 1L8.5 8.5l.94-2.06 2.06-.94-2.06-.94L8.5 2.5l-.94 2.06-2.06.94zm10 10l.94 2.06.94-2.06 2.06-.94-2.06-.94-.94-2.06-.94 2.06-2.06.94z\"/><path d=\"M17.41 7.96l-1.37-1.37c-.4-.4-.92-.59-1.43-.59-.52 0-1.04.2-1.43.59L10.3 9.45l-7.72 7.72c-.78.78-.78 2.05 0 2.83L4 21.41c.39.39.9.59 1.41.59.51 0 1.02-.2 1.41-.59l7.78-7.78 2.81-2.81c.8-.78.8-2.07 0-2.86zM5.41 20L4 18.59l7.72-7.72 1.47 1.35L5.41 20z\"/>\n",
              "  </svg>\n",
              "      </button>\n",
              "      \n",
              "  <style>\n",
              "    .colab-df-container {\n",
              "      display:flex;\n",
              "      flex-wrap:wrap;\n",
              "      gap: 12px;\n",
              "    }\n",
              "\n",
              "    .colab-df-convert {\n",
              "      background-color: #E8F0FE;\n",
              "      border: none;\n",
              "      border-radius: 50%;\n",
              "      cursor: pointer;\n",
              "      display: none;\n",
              "      fill: #1967D2;\n",
              "      height: 32px;\n",
              "      padding: 0 0 0 0;\n",
              "      width: 32px;\n",
              "    }\n",
              "\n",
              "    .colab-df-convert:hover {\n",
              "      background-color: #E2EBFA;\n",
              "      box-shadow: 0px 1px 2px rgba(60, 64, 67, 0.3), 0px 1px 3px 1px rgba(60, 64, 67, 0.15);\n",
              "      fill: #174EA6;\n",
              "    }\n",
              "\n",
              "    [theme=dark] .colab-df-convert {\n",
              "      background-color: #3B4455;\n",
              "      fill: #D2E3FC;\n",
              "    }\n",
              "\n",
              "    [theme=dark] .colab-df-convert:hover {\n",
              "      background-color: #434B5C;\n",
              "      box-shadow: 0px 1px 3px 1px rgba(0, 0, 0, 0.15);\n",
              "      filter: drop-shadow(0px 1px 2px rgba(0, 0, 0, 0.3));\n",
              "      fill: #FFFFFF;\n",
              "    }\n",
              "  </style>\n",
              "\n",
              "      <script>\n",
              "        const buttonEl =\n",
              "          document.querySelector('#df-5fb51037-be6c-49da-8d9e-f385741a0e2c button.colab-df-convert');\n",
              "        buttonEl.style.display =\n",
              "          google.colab.kernel.accessAllowed ? 'block' : 'none';\n",
              "\n",
              "        async function convertToInteractive(key) {\n",
              "          const element = document.querySelector('#df-5fb51037-be6c-49da-8d9e-f385741a0e2c');\n",
              "          const dataTable =\n",
              "            await google.colab.kernel.invokeFunction('convertToInteractive',\n",
              "                                                     [key], {});\n",
              "          if (!dataTable) return;\n",
              "\n",
              "          const docLinkHtml = 'Like what you see? Visit the ' +\n",
              "            '<a target=\"_blank\" href=https://colab.research.google.com/notebooks/data_table.ipynb>data table notebook</a>'\n",
              "            + ' to learn more about interactive tables.';\n",
              "          element.innerHTML = '';\n",
              "          dataTable['output_type'] = 'display_data';\n",
              "          await google.colab.output.renderOutput(dataTable, element);\n",
              "          const docLink = document.createElement('div');\n",
              "          docLink.innerHTML = docLinkHtml;\n",
              "          element.appendChild(docLink);\n",
              "        }\n",
              "      </script>\n",
              "    </div>\n",
              "  </div>\n",
              "  "
            ]
          },
          "metadata": {},
          "execution_count": 65
        }
      ]
    },
    {
      "cell_type": "code",
      "source": [
        "import seaborn as sns\n",
        "sns.set(rc={\"figure.dpi\":150, 'savefig.dpi':150})\n",
        "sns.pointplot(x=\"param_n_components\",\n",
        "              y=\"mean_test_score\",\n",
        "              data=cv_results_df)"
      ],
      "metadata": {
        "id": "l8jUPczWsI5W",
        "outputId": "5ec45cb4-4a1d-49d0-81a6-9f0471e66996",
        "colab": {
          "base_uri": "https://localhost:8080/",
          "height": 592
        }
      },
      "execution_count": 66,
      "outputs": [
        {
          "output_type": "execute_result",
          "data": {
            "text/plain": [
              "<matplotlib.axes._subplots.AxesSubplot at 0x7f0900582210>"
            ]
          },
          "metadata": {},
          "execution_count": 66
        },
        {
          "output_type": "display_data",
          "data": {
            "text/plain": [
              "<Figure size 900x600 with 1 Axes>"
            ],
            "image/png": "[encoded data removed]"
          },
          "metadata": {}
        }
      ]
    },
    {
      "cell_type": "code",
      "source": [
        "from sklearn.model_selection import GridSearchCV\n",
        "\n",
        "search_params = {'n_components': [10, 13, 16, 20, 25]}\n",
        "\n",
        "model = LatentDirichletAllocation(n_components=40, max_iter=5, learning_method='online', learning_offset=50.,random_state=0)\n",
        "\n",
        "gridsearch = GridSearchCV(model,\n",
        "                          param_grid=search_params,\n",
        "                          n_jobs=-1,\n",
        "                          verbose=1)\n",
        "gridsearch.fit(matrix)\n",
        "\n",
        "## Save the best model\n",
        "best_lda = gridsearch.best_estimator_"
      ],
      "metadata": {
        "id": "5EAdoz4dM3vS",
        "outputId": "b891bed1-1aee-45c2-fddf-ec01f3c83e9d",
        "colab": {
          "base_uri": "https://localhost:8080/"
        }
      },
      "execution_count": 67,
      "outputs": [
        {
          "output_type": "stream",
          "name": "stdout",
          "text": [
            "Fitting 5 folds for each of 5 candidates, totalling 25 fits\n"
          ]
        }
      ]
    },
    {
      "cell_type": "code",
      "source": [
        "cv_results_df = pd.DataFrame(gridsearch.cv_results_)\n",
        "cv_results_df"
      ],
      "metadata": {
        "id": "Pcy8JhV9NBgm",
        "outputId": "2b35e6c7-3afa-4b28-fb0f-0ef187b80bc2",
        "colab": {
          "base_uri": "https://localhost:8080/",
          "height": 357
        }
      },
      "execution_count": 68,
      "outputs": [
        {
          "output_type": "execute_result",
          "data": {
            "text/plain": [
              "   mean_fit_time  std_fit_time  mean_score_time  std_score_time  \\\n",
              "0     147.897459      2.811619         8.603672        0.052433   \n",
              "1     150.577996      3.062748         8.621708        0.087660   \n",
              "2     150.646254      1.342274         8.758973        0.105409   \n",
              "3     155.597035      0.846981         9.491533        0.547302   \n",
              "4     144.733050     28.800269         8.175874        1.838230   \n",
              "\n",
              "  param_n_components                params  split0_test_score  \\\n",
              "0                 10  {'n_components': 10}      -96975.392873   \n",
              "1                 13  {'n_components': 13}      -94949.715504   \n",
              "2                 16  {'n_components': 16}      -98689.806682   \n",
              "3                 20  {'n_components': 20}     -100077.719126   \n",
              "4                 25  {'n_components': 25}      -92357.172904   \n",
              "\n",
              "   split1_test_score  split2_test_score  split3_test_score  split4_test_score  \\\n",
              "0      -80192.487786      -85653.970472      -61764.509765      -55994.067933   \n",
              "1      -83365.247809      -88952.075262      -63521.550207      -56896.957888   \n",
              "2      -86836.703394      -92976.984824      -66144.112871      -58583.227359   \n",
              "3      -89539.243545      -96927.649253      -71240.336741      -62239.141923   \n",
              "4      -96157.019598     -101160.850086      -71430.092307      -63501.501568   \n",
              "\n",
              "   mean_test_score  std_test_score  rank_test_score  \n",
              "0    -76116.085766    15189.222011                1  \n",
              "1    -77537.109334    14764.276130                2  \n",
              "2    -80646.167026    15575.799315                3  \n",
              "3    -84004.818118    14782.721138                4  \n",
              "4    -84921.327293    14738.229457                5  "
            ],
            "text/html": [
              "\n",
              "  <div id=\"df-0051dec8-b7f8-4628-aa51-6612088fca2c\">\n",
              "    <div class=\"colab-df-container\">\n",
              "      <div>\n",
              "<style scoped>\n",
              "    .dataframe tbody tr th:only-of-type {\n",
              "        vertical-align: middle;\n",
              "    }\n",
              "\n",
              "    .dataframe tbody tr th {\n",
              "        vertical-align: top;\n",
              "    }\n",
              "\n",
              "    .dataframe thead th {\n",
              "        text-align: right;\n",
              "    }\n",
              "</style>\n",
              "<table border=\"1\" class=\"dataframe\">\n",
              "  <thead>\n",
              "    <tr style=\"text-align: right;\">\n",
              "      <th></th>\n",
              "      <th>mean_fit_time</th>\n",
              "      <th>std_fit_time</th>\n",
              "      <th>mean_score_time</th>\n",
              "      <th>std_score_time</th>\n",
              "      <th>param_n_components</th>\n",
              "      <th>params</th>\n",
              "      <th>split0_test_score</th>\n",
              "      <th>split1_test_score</th>\n",
              "      <th>split2_test_score</th>\n",
              "      <th>split3_test_score</th>\n",
              "      <th>split4_test_score</th>\n",
              "      <th>mean_test_score</th>\n",
              "      <th>std_test_score</th>\n",
              "      <th>rank_test_score</th>\n",
              "    </tr>\n",
              "  </thead>\n",
              "  <tbody>\n",
              "    <tr>\n",
              "      <th>0</th>\n",
              "      <td>147.897459</td>\n",
              "      <td>2.811619</td>\n",
              "      <td>8.603672</td>\n",
              "      <td>0.052433</td>\n",
              "      <td>10</td>\n",
              "      <td>{'n_components': 10}</td>\n",
              "      <td>-96975.392873</td>\n",
              "      <td>-80192.487786</td>\n",
              "      <td>-85653.970472</td>\n",
              "      <td>-61764.509765</td>\n",
              "      <td>-55994.067933</td>\n",
              "      <td>-76116.085766</td>\n",
              "      <td>15189.222011</td>\n",
              "      <td>1</td>\n",
              "    </tr>\n",
              "    <tr>\n",
              "      <th>1</th>\n",
              "      <td>150.577996</td>\n",
              "      <td>3.062748</td>\n",
              "      <td>8.621708</td>\n",
              "      <td>0.087660</td>\n",
              "      <td>13</td>\n",
              "      <td>{'n_components': 13}</td>\n",
              "      <td>-94949.715504</td>\n",
              "      <td>-83365.247809</td>\n",
              "      <td>-88952.075262</td>\n",
              "      <td>-63521.550207</td>\n",
              "      <td>-56896.957888</td>\n",
              "      <td>-77537.109334</td>\n",
              "      <td>14764.276130</td>\n",
              "      <td>2</td>\n",
              "    </tr>\n",
              "    <tr>\n",
              "      <th>2</th>\n",
              "      <td>150.646254</td>\n",
              "      <td>1.342274</td>\n",
              "      <td>8.758973</td>\n",
              "      <td>0.105409</td>\n",
              "      <td>16</td>\n",
              "      <td>{'n_components': 16}</td>\n",
              "      <td>-98689.806682</td>\n",
              "      <td>-86836.703394</td>\n",
              "      <td>-92976.984824</td>\n",
              "      <td>-66144.112871</td>\n",
              "      <td>-58583.227359</td>\n",
              "      <td>-80646.167026</td>\n",
              "      <td>15575.799315</td>\n",
              "      <td>3</td>\n",
              "    </tr>\n",
              "    <tr>\n",
              "      <th>3</th>\n",
              "      <td>155.597035</td>\n",
              "      <td>0.846981</td>\n",
              "      <td>9.491533</td>\n",
              "      <td>0.547302</td>\n",
              "      <td>20</td>\n",
              "      <td>{'n_components': 20}</td>\n",
              "      <td>-100077.719126</td>\n",
              "      <td>-89539.243545</td>\n",
              "      <td>-96927.649253</td>\n",
              "      <td>-71240.336741</td>\n",
              "      <td>-62239.141923</td>\n",
              "      <td>-84004.818118</td>\n",
              "      <td>14782.721138</td>\n",
              "      <td>4</td>\n",
              "    </tr>\n",
              "    <tr>\n",
              "      <th>4</th>\n",
              "      <td>144.733050</td>\n",
              "      <td>28.800269</td>\n",
              "      <td>8.175874</td>\n",
              "      <td>1.838230</td>\n",
              "      <td>25</td>\n",
              "      <td>{'n_components': 25}</td>\n",
              "      <td>-92357.172904</td>\n",
              "      <td>-96157.019598</td>\n",
              "      <td>-101160.850086</td>\n",
              "      <td>-71430.092307</td>\n",
              "      <td>-63501.501568</td>\n",
              "      <td>-84921.327293</td>\n",
              "      <td>14738.229457</td>\n",
              "      <td>5</td>\n",
              "    </tr>\n",
              "  </tbody>\n",
              "</table>\n",
              "</div>\n",
              "      <button class=\"colab-df-convert\" onclick=\"convertToInteractive('df-0051dec8-b7f8-4628-aa51-6612088fca2c')\"\n",
              "              title=\"Convert this dataframe to an interactive table.\"\n",
              "              style=\"display:none;\">\n",
              "        \n",
              "  <svg xmlns=\"http://www.w3.org/2000/svg\" height=\"24px\"viewBox=\"0 0 24 24\"\n",
              "       width=\"24px\">\n",
              "    <path d=\"M0 0h24v24H0V0z\" fill=\"none\"/>\n",
              "    <path d=\"M18.56 5.44l.94 2.06.94-2.06 2.06-.94-2.06-.94-.94-2.06-.94 2.06-2.06.94zm-11 1L8.5 8.5l.94-2.06 2.06-.94-2.06-.94L8.5 2.5l-.94 2.06-2.06.94zm10 10l.94 2.06.94-2.06 2.06-.94-2.06-.94-.94-2.06-.94 2.06-2.06.94z\"/><path d=\"M17.41 7.96l-1.37-1.37c-.4-.4-.92-.59-1.43-.59-.52 0-1.04.2-1.43.59L10.3 9.45l-7.72 7.72c-.78.78-.78 2.05 0 2.83L4 21.41c.39.39.9.59 1.41.59.51 0 1.02-.2 1.41-.59l7.78-7.78 2.81-2.81c.8-.78.8-2.07 0-2.86zM5.41 20L4 18.59l7.72-7.72 1.47 1.35L5.41 20z\"/>\n",
              "  </svg>\n",
              "      </button>\n",
              "      \n",
              "  <style>\n",
              "    .colab-df-container {\n",
              "      display:flex;\n",
              "      flex-wrap:wrap;\n",
              "      gap: 12px;\n",
              "    }\n",
              "\n",
              "    .colab-df-convert {\n",
              "      background-color: #E8F0FE;\n",
              "      border: none;\n",
              "      border-radius: 50%;\n",
              "      cursor: pointer;\n",
              "      display: none;\n",
              "      fill: #1967D2;\n",
              "      height: 32px;\n",
              "      padding: 0 0 0 0;\n",
              "      width: 32px;\n",
              "    }\n",
              "\n",
              "    .colab-df-convert:hover {\n",
              "      background-color: #E2EBFA;\n",
              "      box-shadow: 0px 1px 2px rgba(60, 64, 67, 0.3), 0px 1px 3px 1px rgba(60, 64, 67, 0.15);\n",
              "      fill: #174EA6;\n",
              "    }\n",
              "\n",
              "    [theme=dark] .colab-df-convert {\n",
              "      background-color: #3B4455;\n",
              "      fill: #D2E3FC;\n",
              "    }\n",
              "\n",
              "    [theme=dark] .colab-df-convert:hover {\n",
              "      background-color: #434B5C;\n",
              "      box-shadow: 0px 1px 3px 1px rgba(0, 0, 0, 0.15);\n",
              "      filter: drop-shadow(0px 1px 2px rgba(0, 0, 0, 0.3));\n",
              "      fill: #FFFFFF;\n",
              "    }\n",
              "  </style>\n",
              "\n",
              "      <script>\n",
              "        const buttonEl =\n",
              "          document.querySelector('#df-0051dec8-b7f8-4628-aa51-6612088fca2c button.colab-df-convert');\n",
              "        buttonEl.style.display =\n",
              "          google.colab.kernel.accessAllowed ? 'block' : 'none';\n",
              "\n",
              "        async function convertToInteractive(key) {\n",
              "          const element = document.querySelector('#df-0051dec8-b7f8-4628-aa51-6612088fca2c');\n",
              "          const dataTable =\n",
              "            await google.colab.kernel.invokeFunction('convertToInteractive',\n",
              "                                                     [key], {});\n",
              "          if (!dataTable) return;\n",
              "\n",
              "          const docLinkHtml = 'Like what you see? Visit the ' +\n",
              "            '<a target=\"_blank\" href=https://colab.research.google.com/notebooks/data_table.ipynb>data table notebook</a>'\n",
              "            + ' to learn more about interactive tables.';\n",
              "          element.innerHTML = '';\n",
              "          dataTable['output_type'] = 'display_data';\n",
              "          await google.colab.output.renderOutput(dataTable, element);\n",
              "          const docLink = document.createElement('div');\n",
              "          docLink.innerHTML = docLinkHtml;\n",
              "          element.appendChild(docLink);\n",
              "        }\n",
              "      </script>\n",
              "    </div>\n",
              "  </div>\n",
              "  "
            ]
          },
          "metadata": {},
          "execution_count": 68
        }
      ]
    },
    {
      "cell_type": "code",
      "source": [
        "import seaborn as sns\n",
        "sns.set(rc={\"figure.dpi\":150, 'savefig.dpi':150})\n",
        "sns.pointplot(x=\"param_n_components\",\n",
        "              y=\"mean_test_score\",\n",
        "              data=cv_results_df)"
      ],
      "metadata": {
        "id": "q-snKcNFNDAc",
        "outputId": "fa9bcc02-394e-4605-9336-353cbe29466d",
        "colab": {
          "base_uri": "https://localhost:8080/",
          "height": 592
        }
      },
      "execution_count": 69,
      "outputs": [
        {
          "output_type": "execute_result",
          "data": {
            "text/plain": [
              "<matplotlib.axes._subplots.AxesSubplot at 0x7f08d6183750>"
            ]
          },
          "metadata": {},
          "execution_count": 69
        },
        {
          "output_type": "display_data",
          "data": {
            "text/plain": [
              "<Figure size 900x600 with 1 Axes>"
            ],
            "image/png": "[encoded data removed]"
          },
          "metadata": {}
        }
      ]
    },
    {
      "cell_type": "code",
      "source": [
        "from sklearn.model_selection import GridSearchCV\n",
        "\n",
        "search_params = {'n_components': [8, 10, 12, 14]}\n",
        "\n",
        "model = LatentDirichletAllocation(n_components=40, max_iter=5, learning_method='online', learning_offset=50.,random_state=0)\n",
        "\n",
        "gridsearch = GridSearchCV(model,\n",
        "                          param_grid=search_params,\n",
        "                          n_jobs=-1,\n",
        "                          verbose=1)\n",
        "gridsearch.fit(matrix)\n",
        "\n",
        "## Save the best model\n",
        "best_lda = gridsearch.best_estimator_"
      ],
      "metadata": {
        "id": "ELN36CyJUsY4",
        "outputId": "b27b5598-5035-4642-9cb0-16732a22764a",
        "colab": {
          "base_uri": "https://localhost:8080/"
        }
      },
      "execution_count": 82,
      "outputs": [
        {
          "output_type": "stream",
          "name": "stdout",
          "text": [
            "Fitting 5 folds for each of 4 candidates, totalling 20 fits\n"
          ]
        }
      ]
    },
    {
      "cell_type": "code",
      "source": [
        "cv_results_df = pd.DataFrame(gridsearch.cv_results_)\n",
        "cv_results_df"
      ],
      "metadata": {
        "id": "LPTkEjr-Uz1v",
        "outputId": "436f6368-32dd-4375-f3f9-910b135d33e9",
        "colab": {
          "base_uri": "https://localhost:8080/",
          "height": 308
        }
      },
      "execution_count": 83,
      "outputs": [
        {
          "output_type": "execute_result",
          "data": {
            "text/plain": [
              "   mean_fit_time  std_fit_time  mean_score_time  std_score_time  \\\n",
              "0     177.284524      0.933983         9.810323        0.084888   \n",
              "1     177.220908      2.058345        10.947987        1.278167   \n",
              "2     175.253087      1.646288         9.671688        0.116074   \n",
              "3     175.330359      1.688152         9.419399        0.536440   \n",
              "\n",
              "  param_n_components                params  split0_test_score  \\\n",
              "0                  8   {'n_components': 8}     -808736.599790   \n",
              "1                 10  {'n_components': 10}     -796149.559412   \n",
              "2                 12  {'n_components': 12}     -801635.673110   \n",
              "3                 14  {'n_components': 14}     -791987.349663   \n",
              "\n",
              "   split1_test_score  split2_test_score  split3_test_score  split4_test_score  \\\n",
              "0     -770230.689095     -748109.471359     -647906.270758     -656383.795094   \n",
              "1     -763472.794801     -740365.878543     -648269.643174     -656509.586891   \n",
              "2     -773731.826256     -752625.456545     -652100.762146     -662968.351374   \n",
              "3     -770805.421164     -748065.873647     -652802.600038     -660380.195376   \n",
              "\n",
              "   mean_test_score  std_test_score  rank_test_score  \n",
              "0   -726273.365219    63616.350754                3  \n",
              "1   -720953.492564    58779.484860                1  \n",
              "2   -728612.413886    60179.663963                4  \n",
              "3   -724808.287978    57455.158330                2  "
            ],
            "text/html": [
              "\n",
              "  <div id=\"df-bbca0180-b70d-4bbe-a47a-ced52f7b2574\">\n",
              "    <div class=\"colab-df-container\">\n",
              "      <div>\n",
              "<style scoped>\n",
              "    .dataframe tbody tr th:only-of-type {\n",
              "        vertical-align: middle;\n",
              "    }\n",
              "\n",
              "    .dataframe tbody tr th {\n",
              "        vertical-align: top;\n",
              "    }\n",
              "\n",
              "    .dataframe thead th {\n",
              "        text-align: right;\n",
              "    }\n",
              "</style>\n",
              "<table border=\"1\" class=\"dataframe\">\n",
              "  <thead>\n",
              "    <tr style=\"text-align: right;\">\n",
              "      <th></th>\n",
              "      <th>mean_fit_time</th>\n",
              "      <th>std_fit_time</th>\n",
              "      <th>mean_score_time</th>\n",
              "      <th>std_score_time</th>\n",
              "      <th>param_n_components</th>\n",
              "      <th>params</th>\n",
              "      <th>split0_test_score</th>\n",
              "      <th>split1_test_score</th>\n",
              "      <th>split2_test_score</th>\n",
              "      <th>split3_test_score</th>\n",
              "      <th>split4_test_score</th>\n",
              "      <th>mean_test_score</th>\n",
              "      <th>std_test_score</th>\n",
              "      <th>rank_test_score</th>\n",
              "    </tr>\n",
              "  </thead>\n",
              "  <tbody>\n",
              "    <tr>\n",
              "      <th>0</th>\n",
              "      <td>177.284524</td>\n",
              "      <td>0.933983</td>\n",
              "      <td>9.810323</td>\n",
              "      <td>0.084888</td>\n",
              "      <td>8</td>\n",
              "      <td>{'n_components': 8}</td>\n",
              "      <td>-808736.599790</td>\n",
              "      <td>-770230.689095</td>\n",
              "      <td>-748109.471359</td>\n",
              "      <td>-647906.270758</td>\n",
              "      <td>-656383.795094</td>\n",
              "      <td>-726273.365219</td>\n",
              "      <td>63616.350754</td>\n",
              "      <td>3</td>\n",
              "    </tr>\n",
              "    <tr>\n",
              "      <th>1</th>\n",
              "      <td>177.220908</td>\n",
              "      <td>2.058345</td>\n",
              "      <td>10.947987</td>\n",
              "      <td>1.278167</td>\n",
              "      <td>10</td>\n",
              "      <td>{'n_components': 10}</td>\n",
              "      <td>-796149.559412</td>\n",
              "      <td>-763472.794801</td>\n",
              "      <td>-740365.878543</td>\n",
              "      <td>-648269.643174</td>\n",
              "      <td>-656509.586891</td>\n",
              "      <td>-720953.492564</td>\n",
              "      <td>58779.484860</td>\n",
              "      <td>1</td>\n",
              "    </tr>\n",
              "    <tr>\n",
              "      <th>2</th>\n",
              "      <td>175.253087</td>\n",
              "      <td>1.646288</td>\n",
              "      <td>9.671688</td>\n",
              "      <td>0.116074</td>\n",
              "      <td>12</td>\n",
              "      <td>{'n_components': 12}</td>\n",
              "      <td>-801635.673110</td>\n",
              "      <td>-773731.826256</td>\n",
              "      <td>-752625.456545</td>\n",
              "      <td>-652100.762146</td>\n",
              "      <td>-662968.351374</td>\n",
              "      <td>-728612.413886</td>\n",
              "      <td>60179.663963</td>\n",
              "      <td>4</td>\n",
              "    </tr>\n",
              "    <tr>\n",
              "      <th>3</th>\n",
              "      <td>175.330359</td>\n",
              "      <td>1.688152</td>\n",
              "      <td>9.419399</td>\n",
              "      <td>0.536440</td>\n",
              "      <td>14</td>\n",
              "      <td>{'n_components': 14}</td>\n",
              "      <td>-791987.349663</td>\n",
              "      <td>-770805.421164</td>\n",
              "      <td>-748065.873647</td>\n",
              "      <td>-652802.600038</td>\n",
              "      <td>-660380.195376</td>\n",
              "      <td>-724808.287978</td>\n",
              "      <td>57455.158330</td>\n",
              "      <td>2</td>\n",
              "    </tr>\n",
              "  </tbody>\n",
              "</table>\n",
              "</div>\n",
              "      <button class=\"colab-df-convert\" onclick=\"convertToInteractive('df-bbca0180-b70d-4bbe-a47a-ced52f7b2574')\"\n",
              "              title=\"Convert this dataframe to an interactive table.\"\n",
              "              style=\"display:none;\">\n",
              "        \n",
              "  <svg xmlns=\"http://www.w3.org/2000/svg\" height=\"24px\"viewBox=\"0 0 24 24\"\n",
              "       width=\"24px\">\n",
              "    <path d=\"M0 0h24v24H0V0z\" fill=\"none\"/>\n",
              "    <path d=\"M18.56 5.44l.94 2.06.94-2.06 2.06-.94-2.06-.94-.94-2.06-.94 2.06-2.06.94zm-11 1L8.5 8.5l.94-2.06 2.06-.94-2.06-.94L8.5 2.5l-.94 2.06-2.06.94zm10 10l.94 2.06.94-2.06 2.06-.94-2.06-.94-.94-2.06-.94 2.06-2.06.94z\"/><path d=\"M17.41 7.96l-1.37-1.37c-.4-.4-.92-.59-1.43-.59-.52 0-1.04.2-1.43.59L10.3 9.45l-7.72 7.72c-.78.78-.78 2.05 0 2.83L4 21.41c.39.39.9.59 1.41.59.51 0 1.02-.2 1.41-.59l7.78-7.78 2.81-2.81c.8-.78.8-2.07 0-2.86zM5.41 20L4 18.59l7.72-7.72 1.47 1.35L5.41 20z\"/>\n",
              "  </svg>\n",
              "      </button>\n",
              "      \n",
              "  <style>\n",
              "    .colab-df-container {\n",
              "      display:flex;\n",
              "      flex-wrap:wrap;\n",
              "      gap: 12px;\n",
              "    }\n",
              "\n",
              "    .colab-df-convert {\n",
              "      background-color: #E8F0FE;\n",
              "      border: none;\n",
              "      border-radius: 50%;\n",
              "      cursor: pointer;\n",
              "      display: none;\n",
              "      fill: #1967D2;\n",
              "      height: 32px;\n",
              "      padding: 0 0 0 0;\n",
              "      width: 32px;\n",
              "    }\n",
              "\n",
              "    .colab-df-convert:hover {\n",
              "      background-color: #E2EBFA;\n",
              "      box-shadow: 0px 1px 2px rgba(60, 64, 67, 0.3), 0px 1px 3px 1px rgba(60, 64, 67, 0.15);\n",
              "      fill: #174EA6;\n",
              "    }\n",
              "\n",
              "    [theme=dark] .colab-df-convert {\n",
              "      background-color: #3B4455;\n",
              "      fill: #D2E3FC;\n",
              "    }\n",
              "\n",
              "    [theme=dark] .colab-df-convert:hover {\n",
              "      background-color: #434B5C;\n",
              "      box-shadow: 0px 1px 3px 1px rgba(0, 0, 0, 0.15);\n",
              "      filter: drop-shadow(0px 1px 2px rgba(0, 0, 0, 0.3));\n",
              "      fill: #FFFFFF;\n",
              "    }\n",
              "  </style>\n",
              "\n",
              "      <script>\n",
              "        const buttonEl =\n",
              "          document.querySelector('#df-bbca0180-b70d-4bbe-a47a-ced52f7b2574 button.colab-df-convert');\n",
              "        buttonEl.style.display =\n",
              "          google.colab.kernel.accessAllowed ? 'block' : 'none';\n",
              "\n",
              "        async function convertToInteractive(key) {\n",
              "          const element = document.querySelector('#df-bbca0180-b70d-4bbe-a47a-ced52f7b2574');\n",
              "          const dataTable =\n",
              "            await google.colab.kernel.invokeFunction('convertToInteractive',\n",
              "                                                     [key], {});\n",
              "          if (!dataTable) return;\n",
              "\n",
              "          const docLinkHtml = 'Like what you see? Visit the ' +\n",
              "            '<a target=\"_blank\" href=https://colab.research.google.com/notebooks/data_table.ipynb>data table notebook</a>'\n",
              "            + ' to learn more about interactive tables.';\n",
              "          element.innerHTML = '';\n",
              "          dataTable['output_type'] = 'display_data';\n",
              "          await google.colab.output.renderOutput(dataTable, element);\n",
              "          const docLink = document.createElement('div');\n",
              "          docLink.innerHTML = docLinkHtml;\n",
              "          element.appendChild(docLink);\n",
              "        }\n",
              "      </script>\n",
              "    </div>\n",
              "  </div>\n",
              "  "
            ]
          },
          "metadata": {},
          "execution_count": 83
        }
      ]
    },
    {
      "cell_type": "code",
      "source": [
        "import seaborn as sns\n",
        "sns.set(rc={\"figure.dpi\":150, 'savefig.dpi':150})\n",
        "sns.pointplot(x=\"param_n_components\",\n",
        "              y=\"mean_test_score\",\n",
        "              data=cv_results_df)"
      ],
      "metadata": {
        "id": "kipnK9BRU1QW",
        "outputId": "8b139e90-9d9c-4cf5-9d48-da5f0a471f99",
        "colab": {
          "base_uri": "https://localhost:8080/",
          "height": 592
        }
      },
      "execution_count": 84,
      "outputs": [
        {
          "output_type": "execute_result",
          "data": {
            "text/plain": [
              "<matplotlib.axes._subplots.AxesSubplot at 0x7f08f8294290>"
            ]
          },
          "metadata": {},
          "execution_count": 84
        },
        {
          "output_type": "display_data",
          "data": {
            "text/plain": [
              "<Figure size 900x600 with 1 Axes>"
            ],
            "image/png": "[encoded data removed]"
          },
          "metadata": {}
        }
      ]
    },
    {
      "cell_type": "markdown",
      "source": [
        "# NNMF"
      ],
      "metadata": {
        "id": "3MmcFXtZFBC-"
      }
    },
    {
      "cell_type": "code",
      "source": [
        "from sklearn.decomposition import NMF"
      ],
      "metadata": {
        "id": "h2qBPF8UFY0m"
      },
      "execution_count": 73,
      "outputs": []
    },
    {
      "cell_type": "code",
      "source": [
        "nmf = NMF(n_components=40, random_state=1).fit(matrix)"
      ],
      "metadata": {
        "id": "qd3p4CyEFAkJ",
        "outputId": "5528cc53-0cdc-4005-90c4-046132043df4",
        "colab": {
          "base_uri": "https://localhost:8080/"
        }
      },
      "execution_count": 74,
      "outputs": [
        {
          "output_type": "stream",
          "name": "stderr",
          "text": [
            "/usr/local/lib/python3.7/dist-packages/sklearn/decomposition/_nmf.py:294: FutureWarning: The 'init' value, when 'init=None' and n_components is less than n_samples and n_features, will be changed from 'nndsvd' to 'nndsvda' in 1.1 (renaming of 0.26).\n",
            "  FutureWarning,\n"
          ]
        }
      ]
    },
    {
      "cell_type": "code",
      "source": [
        "display_topics(nmf, feature_names=cv.get_feature_names_out(),  no_top_words=20)"
      ],
      "metadata": {
        "id": "2bMdP1QuFRO8",
        "outputId": "7bdf5002-2eec-47bc-eff2-31db160a6895",
        "colab": {
          "base_uri": "https://localhost:8080/"
        }
      },
      "execution_count": 75,
      "outputs": [
        {
          "output_type": "stream",
          "name": "stdout",
          "text": [
            "Topic 1:\n",
            "dictamen comisión , artículo constitución , cualquier caso , presupuesto general , convergència unió , unión europea , minoría catalana , comunidad autónoma , feder izquierda , izquierda per , izquierda unida , medio ambient , medio comunicación , millon peseta , mismo tiempo , tribun constitucion , per catalunya , política económica , puesto trabajo , ruego concluya\n",
            "Topic 2:\n",
            "presupuesto general , seguridad social , millon peseta , unión europea , artículo constitución , comunidad autónoma , convergència unió , cualquier caso , dictamen comisión , feder izquierda , izquierda per , izquierda unida , medio ambient , medio comunicación , mismo tiempo , minoría catalana , tribun constitucion , per catalunya , política económica , puesto trabajo\n",
            "Topic 3:\n",
            "per catalunya , izquierda per , servicio público , cualquier caso , unión europea , millon peseta , artículo constitución , comunidad autónoma , convergència unió , dictamen comisión , feder izquierda , izquierda unida , medio ambient , medio comunicación , mismo tiempo , minoría catalana , tribun constitucion , política económica , presupuesto general , puesto trabajo\n",
            "Topic 4:\n",
            "unión europea , izquierda per , per catalunya , medio ambient , mismo tiempo , cualquier caso , seguridad social , artículo constitución , sociedad española , tan important , comunidad autónoma , convergència unió , dictamen comisión , feder izquierda , toma consideración , izquierda unida , medio comunicación , servicio público , millon peseta , minoría catalana\n",
            "Topic 5:\n",
            "comunidad autónoma , medio ambient , servicio público , millon peseta , cualquier caso , artículo constitución , unión europea , minoría catalana , convergència unió , dictamen comisión , feder izquierda , izquierda per , izquierda unida , medio comunicación , mismo tiempo , tribun constitucion , per catalunya , política económica , presupuesto general , puesto trabajo\n",
            "Topic 6:\n",
            "ruego concluya , per catalunya , cualquier caso , tribun constitucion , dictamen comisión , unión europea , millon peseta , artículo constitución , comunidad autónoma , convergència unió , feder izquierda , izquierda per , izquierda unida , medio ambient , medio comunicación , mismo tiempo , minoría catalana , política económica , presupuesto general , puesto trabajo\n",
            "Topic 7:\n",
            "medio comunicación , per catalunya , medio ambient , tribun constitucion , unión europea , millon peseta , artículo constitución , comunidad autónoma , convergència unió , cualquier caso , dictamen comisión , feder izquierda , izquierda per , izquierda unida , mismo tiempo , minoría catalana , política económica , presupuesto general , puesto trabajo , ruego concluya\n",
            "Topic 8:\n",
            "convergència unió , comunidad autónoma , artículo constitución , unión europea , minoría catalana , cualquier caso , dictamen comisión , feder izquierda , izquierda per , izquierda unida , medio ambient , medio comunicación , millon peseta , mismo tiempo , tribun constitucion , per catalunya , política económica , presupuesto general , puesto trabajo , ruego concluya\n",
            "Topic 9:\n",
            "medio ambient , izquierda per , política económica , convergència unió , tribun constitucion , unión europea , millon peseta , artículo constitución , comunidad autónoma , cualquier caso , dictamen comisión , feder izquierda , izquierda unida , medio comunicación , mismo tiempo , minoría catalana , per catalunya , presupuesto general , puesto trabajo , ruego concluya\n",
            "Topic 10:\n",
            "izquierda per , feder izquierda , servicio público , seguridad social , política económica , artículo constitución , tribun constitucion , unión europea , medio comunicación , comunidad autónoma , convergència unió , cualquier caso , dictamen comisión , izquierda unida , medio ambient , mismo tiempo , millon peseta , minoría catalana , per catalunya , presupuesto general\n",
            "Topic 11:\n",
            "artículo constitución , servicio público , mismo tiempo , minoría catalana , comunidad autónoma , convergència unió , cualquier caso , dictamen comisión , feder izquierda , izquierda per , izquierda unida , medio ambient , medio comunicación , millon peseta , unión europea , tribun constitucion , per catalunya , política económica , presupuesto general , puesto trabajo\n",
            "Topic 12:\n",
            "puesto trabajo , per catalunya , artículo constitución , millon peseta , política económica , tribun constitucion , mismo tiempo , medio comunicación , comunidad autónoma , convergència unió , cualquier caso , dictamen comisión , feder izquierda , izquierda per , izquierda unida , medio ambient , unión europea , minoría catalana , presupuesto general , ruego concluya\n",
            "Topic 13:\n",
            "minoría catalana , artículo constitución , unión europea , comunidad autónoma , convergència unió , cualquier caso , dictamen comisión , feder izquierda , izquierda per , izquierda unida , medio ambient , medio comunicación , millon peseta , mismo tiempo , tribun constitucion , per catalunya , política económica , presupuesto general , puesto trabajo , ruego concluya\n",
            "Topic 14:\n",
            "millon peseta , artículo constitución , seguridad social , política económica , mismo tiempo , tribun constitucion , comunidad autónoma , convergència unió , cualquier caso , dictamen comisión , feder izquierda , izquierda per , izquierda unida , medio ambient , medio comunicación , unión europea , minoría catalana , per catalunya , presupuesto general , puesto trabajo\n",
            "Topic 15:\n",
            "sociedad española , per catalunya , artículo constitución , unión europea , millon peseta , comunidad autónoma , convergència unió , cualquier caso , dictamen comisión , feder izquierda , izquierda per , izquierda unida , medio ambient , medio comunicación , mismo tiempo , minoría catalana , tribun constitucion , política económica , presupuesto general , puesto trabajo\n",
            "Topic 16:\n",
            "seguridad social , artículo constitución , unión europea , minoría catalana , comunidad autónoma , convergència unió , cualquier caso , dictamen comisión , feder izquierda , izquierda per , izquierda unida , medio ambient , medio comunicación , millon peseta , mismo tiempo , tribun constitucion , per catalunya , política económica , presupuesto general , puesto trabajo\n",
            "Topic 17:\n",
            "millon peseta , ss ss , sociedad española , mismo tiempo , artículo constitución , comunidad autónoma , convergència unió , cualquier caso , dictamen comisión , feder izquierda , izquierda per , izquierda unida , medio ambient , medio comunicación , unión europea , minoría catalana , tribun constitucion , per catalunya , política económica , presupuesto general\n",
            "Topic 18:\n",
            "izquierda unida , artículo constitución , tribun constitucion , cualquier caso , política económica , unión europea , millon peseta , comunidad autónoma , convergència unió , dictamen comisión , feder izquierda , izquierda per , medio ambient , medio comunicación , mismo tiempo , minoría catalana , per catalunya , presupuesto general , puesto trabajo , ruego concluya\n",
            "Topic 19:\n",
            "toma consideración , per catalunya , artículo constitución , tribun constitucion , unión europea , millon peseta , comunidad autónoma , convergència unió , cualquier caso , dictamen comisión , feder izquierda , izquierda per , izquierda unida , medio ambient , medio comunicación , mismo tiempo , minoría catalana , política económica , presupuesto general , puesto trabajo\n",
            "Topic 20:\n",
            "tribun constitucion , ss ss , artículo constitución , unión europea , millon peseta , comunidad autónoma , convergència unió , cualquier caso , dictamen comisión , feder izquierda , izquierda per , izquierda unida , medio ambient , medio comunicación , mismo tiempo , minoría catalana , per catalunya , política económica , presupuesto general , puesto trabajo\n",
            "Topic 21:\n",
            "tribun constitucion , artículo constitución , unión europea , minoría catalana , comunidad autónoma , convergència unió , cualquier caso , dictamen comisión , feder izquierda , izquierda per , izquierda unida , medio ambient , medio comunicación , millon peseta , mismo tiempo , per catalunya , política económica , presupuesto general , puesto trabajo , ruego concluya\n",
            "Topic 22:\n",
            "ss ss , comunidad autónoma , servicio público , artículo constitución , millon peseta , unión europea , convergència unió , cualquier caso , dictamen comisión , feder izquierda , izquierda per , izquierda unida , medio ambient , medio comunicación , mismo tiempo , minoría catalana , tribun constitucion , per catalunya , política económica , presupuesto general\n",
            "Topic 23:\n",
            "servicio público , artículo constitución , ss ss , tribun constitucion , unión europea , millon peseta , comunidad autónoma , convergència unió , cualquier caso , dictamen comisión , feder izquierda , izquierda per , izquierda unida , medio ambient , medio comunicación , mismo tiempo , minoría catalana , per catalunya , política económica , presupuesto general\n",
            "Topic 24:\n",
            "administracion pública , per catalunya , ss ss , artículo constitución , política económica , millon peseta , comunidad autónoma , convergència unió , cualquier caso , dictamen comisión , feder izquierda , izquierda per , izquierda unida , medio ambient , medio comunicación , unión europea , minoría catalana , tribun constitucion , presupuesto general , puesto trabajo\n",
            "Topic 25:\n",
            "mismo tiempo , ss ss , artículo constitución , política económica , millon peseta , comunidad autónoma , convergència unió , cualquier caso , dictamen comisión , feder izquierda , izquierda per , izquierda unida , medio ambient , medio comunicación , unión europea , minoría catalana , tribun constitucion , per catalunya , presupuesto general , puesto trabajo\n",
            "Topic 26:\n",
            "izquierda unida , feder izquierda , unión europea , minoría catalana , artículo constitución , comunidad autónoma , convergència unió , cualquier caso , dictamen comisión , izquierda per , medio ambient , medio comunicación , millon peseta , mismo tiempo , tribun constitucion , per catalunya , política económica , presupuesto general , puesto trabajo , ruego concluya\n",
            "Topic 27:\n",
            "dictamen comisión , per catalunya , artículo constitución , unión europea , minoría catalana , comunidad autónoma , convergència unió , cualquier caso , feder izquierda , izquierda per , izquierda unida , medio ambient , medio comunicación , millon peseta , mismo tiempo , tribun constitucion , política económica , presupuesto general , puesto trabajo , ruego concluya\n",
            "Topic 28:\n",
            "convergència unió , medio ambient , artículo constitución , política económica , unión europea , minoría catalana , comunidad autónoma , cualquier caso , dictamen comisión , feder izquierda , izquierda per , izquierda unida , medio comunicación , millon peseta , mismo tiempo , tribun constitucion , per catalunya , presupuesto general , puesto trabajo , ruego concluya\n",
            "Topic 29:\n",
            "dictamen comisión , artículo constitución , unión europea , minoría catalana , comunidad autónoma , convergència unió , cualquier caso , feder izquierda , izquierda per , izquierda unida , medio ambient , medio comunicación , millon peseta , mismo tiempo , tribun constitucion , per catalunya , política económica , presupuesto general , puesto trabajo , ruego concluya\n",
            "Topic 30:\n",
            "comunidad autónoma , artículo constitución , unión europea , minoría catalana , convergència unió , cualquier caso , dictamen comisión , feder izquierda , izquierda per , izquierda unida , medio ambient , medio comunicación , millon peseta , mismo tiempo , tribun constitucion , per catalunya , política económica , presupuesto general , puesto trabajo , ruego concluya\n",
            "Topic 31:\n",
            "cualquier caso , medio ambient , servicio público , artículo constitución , unión europea , minoría catalana , comunidad autónoma , convergència unió , dictamen comisión , feder izquierda , izquierda per , izquierda unida , medio comunicación , millon peseta , mismo tiempo , tribun constitucion , per catalunya , política económica , presupuesto general , puesto trabajo\n",
            "Topic 32:\n",
            "feder izquierda , izquierda unida , comunidad autónoma , servicio público , unión europea , minoría catalana , artículo constitución , convergència unió , cualquier caso , dictamen comisión , izquierda per , medio ambient , medio comunicación , millon peseta , mismo tiempo , tribun constitucion , per catalunya , política económica , presupuesto general , puesto trabajo\n",
            "Topic 33:\n",
            "tan important , servicio público , artículo constitución , política económica , tribun constitucion , unión europea , medio comunicación , comunidad autónoma , convergència unió , cualquier caso , dictamen comisión , feder izquierda , izquierda per , izquierda unida , medio ambient , mismo tiempo , millon peseta , minoría catalana , per catalunya , presupuesto general\n",
            "Topic 34:\n",
            "política económica , tan important , millon peseta , unión europea , artículo constitución , comunidad autónoma , convergència unió , cualquier caso , dictamen comisión , feder izquierda , izquierda per , izquierda unida , medio ambient , medio comunicación , mismo tiempo , minoría catalana , tribun constitucion , per catalunya , presupuesto general , puesto trabajo\n",
            "Topic 35:\n",
            "minoría catalana , tan important , artículo constitución , sociedad española , unión europea , millon peseta , comunidad autónoma , convergència unió , cualquier caso , dictamen comisión , feder izquierda , izquierda per , izquierda unida , medio ambient , medio comunicación , mismo tiempo , tribun constitucion , per catalunya , política económica , presupuesto general\n",
            "Topic 36:\n",
            "per catalunya , medio ambient , tan important , unión europea , millon peseta , artículo constitución , comunidad autónoma , convergència unió , cualquier caso , dictamen comisión , feder izquierda , izquierda per , izquierda unida , medio comunicación , mismo tiempo , minoría catalana , tribun constitucion , política económica , presupuesto general , puesto trabajo\n",
            "Topic 37:\n",
            "toma consideración , artículo constitución , tan important , unión europea , millon peseta , comunidad autónoma , convergència unió , cualquier caso , dictamen comisión , feder izquierda , izquierda per , izquierda unida , medio ambient , medio comunicación , mismo tiempo , minoría catalana , tribun constitucion , per catalunya , política económica , presupuesto general\n",
            "Topic 38:\n",
            "comunidad autónoma , izquierda unida , tan important , política económica , unión europea , millon peseta , artículo constitución , convergència unió , cualquier caso , dictamen comisión , feder izquierda , izquierda per , medio ambient , medio comunicación , mismo tiempo , minoría catalana , tribun constitucion , per catalunya , presupuesto general , puesto trabajo\n",
            "Topic 39:\n",
            "unión europea , tan important , artículo constitución , política económica , tribun constitucion , millon peseta , comunidad autónoma , convergència unió , cualquier caso , dictamen comisión , feder izquierda , izquierda per , izquierda unida , medio ambient , medio comunicación , mismo tiempo , minoría catalana , per catalunya , presupuesto general , puesto trabajo\n",
            "Topic 40:\n",
            "servicio público , izquierda unida , comunidad autónoma , tan important , unión europea , millon peseta , artículo constitución , convergència unió , cualquier caso , dictamen comisión , feder izquierda , izquierda per , medio ambient , medio comunicación , mismo tiempo , minoría catalana , tribun constitucion , per catalunya , política económica , presupuesto general\n"
          ]
        }
      ]
    },
    {
      "cell_type": "markdown",
      "source": [
        "# LDA con 10 clusters"
      ],
      "metadata": {
        "id": "vT9NG_jia8oQ"
      }
    },
    {
      "cell_type": "code",
      "source": [
        "from sklearn.decomposition import LatentDirichletAllocation"
      ],
      "metadata": {
        "id": "4J5_IRgRwNvp"
      },
      "execution_count": 76,
      "outputs": []
    },
    {
      "cell_type": "code",
      "source": [
        "cv=CountVectorizer(ngram_range=[2,2], max_features=200, stop_words=stopwords, max_df=0.95, min_df=0.001)\n",
        "vec = cv.fit(base['tokens'])"
      ],
      "metadata": {
        "id": "upd3elB9a7lG"
      },
      "execution_count": 77,
      "outputs": []
    },
    {
      "cell_type": "code",
      "source": [
        "matrix = vec.transform(base['tokens'])"
      ],
      "metadata": {
        "id": "iNbbgMlWa7lG"
      },
      "execution_count": 78,
      "outputs": []
    },
    {
      "cell_type": "code",
      "source": [
        "lda = LatentDirichletAllocation(n_components=10, max_iter=5, learning_method='online', learning_offset=50.,random_state=0)"
      ],
      "metadata": {
        "id": "cDGSvLLza7lH"
      },
      "execution_count": 85,
      "outputs": []
    },
    {
      "cell_type": "code",
      "source": [
        "lda.fit(matrix)"
      ],
      "metadata": {
        "outputId": "640ffd63-92b6-490d-f81f-4d6d97c5876f",
        "colab": {
          "base_uri": "https://localhost:8080/"
        },
        "id": "op60kaNMa7lH"
      },
      "execution_count": 86,
      "outputs": [
        {
          "output_type": "execute_result",
          "data": {
            "text/plain": [
              "LatentDirichletAllocation(learning_method='online', learning_offset=50.0,\n",
              "                          max_iter=5, random_state=0)"
            ]
          },
          "metadata": {},
          "execution_count": 86
        }
      ]
    },
    {
      "cell_type": "code",
      "source": [
        "display_topics(lda, feature_names=cv.get_feature_names_out(), no_top_words=20)"
      ],
      "metadata": {
        "outputId": "151ad62c-978e-4fe4-c466-38a971f53eac",
        "colab": {
          "base_uri": "https://localhost:8080/"
        },
        "id": "hioRw_62a7lI"
      },
      "execution_count": 87,
      "outputs": [
        {
          "output_type": "stream",
          "name": "stdout",
          "text": [
            "Topic 1:\n",
            "poder judici , violencia género , disposición adicion , asunto exterior , consejo gener , gener poder , comisión europea , administración justicia , cort general , consecuencia interpelación , tribun cuenta , ministerio justicia , moción consecuencia , nombr socialista , entrada vigor , tribun supremo , hace referencia , derecho humano , llegar acuerdo , pueblo español\n",
            "Topic 2:\n",
            "popular congreso , interé gener , si quier , exposición motivo , ver si , proyecto orgánica , crédito extraordinario , alguna manera , desean fijar , coalición popular , proposición popular , llegar acuerdo , ahora mismo , si así , aquel momento , hace falta , diputación permanent , hace tiempo , dar respuesta , carácter gener\n",
            "Topic 3:\n",
            "izquierda unida , per catalunya , sánchez llibr , rodríguez zapatero , izquierda per , parlamento europeo , portavoz socialista , comisión nacion , proposición popular , feder izquierda , nombr popular , número formula , defensor pueblo , vaya concluyendo , obra pública , disposición transitoria , hace tiempo , catalunya verd , llegar acuerdo , ciudadano español\n",
            "Topic 4:\n",
            "comunidad autónoma , seguridad social , política social , pacto toledo , formación profesion , vasco pnv , quiero decirl , sistema nacion , puesto marcha , nacion salud , puesta marcha , poner marcha , salario mínimo , semana pasada , dar respuesta , agent social , tener cuenta , comisión europea , programa elector , económico social\n",
            "Topic 5:\n",
            "administracion pública , presupuesto general , servicio público , comunidad autónoma , servicio social , gasto público , estabilidad presupuestaria , política fiscal , proyecto presupuesto , toda comunidad , impuesto sociedad , financiación autonómica , corporacion local , protección social , impuesto renta , sistema financiación , función pública , responsabilidad política , persona física , actividad económica\n",
            "Topic 6:\n",
            "unión europea , guardia civil , consejo europeo , nacion unida , derecho humano , fuerza armada , sociedad española , diputación permanent , diario sesion , cuerpo seguridad , fuerza cuerpo , política exterior , reino unido , alto cargo , ministerio interior , opinión pública , ahora mismo , ss ss , fuerza política , hace falta\n",
            "Topic 7:\n",
            "toma consideración , código penal , radiotelevisión española , consideración proposición , diputada doña , coalición canaria , interpelación urgent , iniciativa legislativa , artículo reglamento , comisión investigación , dictamen comisión , texto alternativo , congreso formula , asunto social , dar respuesta , aquel momento , último mese , medio comunicación , llegar acuerdo , tener cuenta\n",
            "Topic 8:\n",
            "tribun constitucion , comunidad autónoma , fijación posicion , artículo constitución , cualquier caso , estatuto autonomía , sistema educativo , catalunya verd , ordenamiento jurídico , constitución española , seguridad jurídica , derecho libertad , sentencia tribun , administración gener , tribun supremo , poder público , hecho referencia , ningún caso , hace referencia , ministerio educación\n",
            "Topic 9:\n",
            "política económica , economía española , millon peseta , creación empleo , crecimiento económico , déficit público , crisi económica , puesto trabajo , reforma labor , medio comunicación , deuda pública , sector público , sistema financiero , banco españa , pequeña mediana , interior bruto , producto interior , mediana empresa , llegar acuerdo , alta velocidad\n",
            "Topic 10:\n",
            "medio ambient , convergència unió , izquierda plural , paí vasco , comunidad valenciana , poder adquisitivo , ruego concluya , comisión mixta , debat totalidad , resolv problema , agent social , llegar acuerdo , administración gener , forma part , comisión europea , ahora mismo , organismo autónomo , carácter gener , tan important , entrada vigor\n"
          ]
        }
      ]
    },
    {
      "cell_type": "code",
      "source": [
        "lda.components_.shape"
      ],
      "metadata": {
        "id": "yo2ODVANaUgh",
        "outputId": "aec2c0b8-e7a3-40df-e4ee-b2091239f874",
        "colab": {
          "base_uri": "https://localhost:8080/"
        }
      },
      "execution_count": 91,
      "outputs": [
        {
          "output_type": "execute_result",
          "data": {
            "text/plain": [
              "(10, 200)"
            ]
          },
          "metadata": {},
          "execution_count": 91
        }
      ]
    },
    {
      "cell_type": "code",
      "source": [
        "import scipy as sp\n",
        "from scipy.special import logsumexp"
      ],
      "metadata": {
        "id": "z58ydse8a5TB"
      },
      "execution_count": 103,
      "outputs": []
    },
    {
      "cell_type": "code",
      "source": [
        "def frex(mod, w=0.7):\n",
        "    log_beta = np.log(mod.components_)\n",
        "    log_exclusivity = log_beta - logsumexp(log_beta, axis=0)\n",
        "    exclusivity_ecdf = np.apply_along_axis(ecdf, 1, log_exclusivity)\n",
        "    freq_ecdf = np.apply_along_axis(ecdf, 1, log_beta)\n",
        "    out = 1. / (w / exclusivity_ecdf + (1 - w) / freq_ecdf)\n",
        "    return out"
      ],
      "metadata": {
        "id": "tD0vW_qYarQx"
      },
      "execution_count": 99,
      "outputs": []
    },
    {
      "cell_type": "code",
      "source": [
        "def ecdf(arr):\n",
        "    return sp.stats.rankdata(arr, method='max') / arr.size"
      ],
      "metadata": {
        "id": "M17JC_febRhX"
      },
      "execution_count": 101,
      "outputs": []
    },
    {
      "cell_type": "code",
      "source": [
        "frex_df=pd.DataFrame(frex(lda))\n",
        "frex_df"
      ],
      "metadata": {
        "id": "oksP_MfmatFH",
        "outputId": "0376493e-87c9-46e3-f1c9-9261a0016bfa",
        "colab": {
          "base_uri": "https://localhost:8080/",
          "height": 456
        }
      },
      "execution_count": 112,
      "outputs": [
        {
          "output_type": "execute_result",
          "data": {
            "text/plain": [
              "        0         1         2         3         4         5         6    \\\n",
              "0  0.303927  0.028060  0.310219  0.338462  0.968495  0.676271  0.519675   \n",
              "1  0.359577  0.028080  0.535135  0.378515  0.290769  0.637798  0.544355   \n",
              "2  0.344758  0.028172  0.716087  0.364225  0.445254  0.623881  0.597099   \n",
              "3  0.423007  0.014148  0.611444  0.731493  0.280761  0.498159  0.938910   \n",
              "4  0.894448  1.000000  0.901977  0.314251  0.454397  0.906977  0.548845   \n",
              "5  0.310797  0.021098  0.534483  0.325724  0.327273  0.551266  0.569037   \n",
              "6  0.345468  0.027957  0.462185  0.355450  0.427770  0.744267  0.432787   \n",
              "7  0.311853  0.021183  0.657825  0.924449  0.450234  0.646557  0.538816   \n",
              "8  0.834444  0.028112  0.570677  0.799441  0.328421  0.541948  0.534062   \n",
              "9  0.356250  0.028137  0.759019  0.371467  0.352764  0.604878  0.730769   \n",
              "\n",
              "        7         8         9    ...       190       191       192       193  \\\n",
              "0  0.503384  0.589808  0.370462  ...  0.048780  0.953494  0.925000  0.014164   \n",
              "1  0.548088  0.965000  0.489362  ...  0.048148  0.506148  0.392086  0.014177   \n",
              "2  0.532639  0.653846  0.416558  ...  0.046053  0.325000  0.354822  0.014191   \n",
              "3  0.841494  0.498750  0.349367  ...  0.034463  0.477823  0.253755  0.007119   \n",
              "4  0.489796  0.539073  0.378796  ...  0.020921  0.455414  0.240876  0.007119   \n",
              "5  0.912977  0.670025  0.369828  ...  0.041202  0.309783  0.329032  1.000000   \n",
              "6  0.517986  0.570954  0.321389  ...  0.048558  0.614484  0.404832  0.014134   \n",
              "7  0.473808  0.672913  0.365817  ...  1.000000  0.352235  0.926494  0.007116   \n",
              "8  0.394030  0.539773  0.918908  ...  0.046512  0.417308  0.261980  0.014188   \n",
              "9  0.536830  0.555556  0.516070  ...  0.048125  0.491052  0.345000  0.014203   \n",
              "\n",
              "        194       195       196       197       198       199  \n",
              "0  0.234123  0.032411  0.478548  0.995000  0.800441  0.728307  \n",
              "1  0.201770  0.032472  0.980000  0.156759  0.846081  0.768385  \n",
              "2  0.273481  0.935000  0.531387  0.144503  0.790419  0.744828  \n",
              "3  0.978495  0.047445  0.453760  0.133106  0.876976  0.808895  \n",
              "4  0.153654  0.032294  0.442579  0.117000  0.685391  0.587379  \n",
              "5  0.166250  0.047756  0.477302  0.145695  0.853901  0.675803  \n",
              "6  0.334241  0.032438  0.490385  0.154839  0.844393  0.778216  \n",
              "7  0.293023  0.047840  0.473939  0.148069  0.762973  0.679505  \n",
              "8  0.101538  0.062233  0.405053  0.107667  0.608195  0.850000  \n",
              "9  0.319695  0.016444  0.507317  0.135491  0.858783  0.756000  \n",
              "\n",
              "[10 rows x 200 columns]"
            ],
            "text/html": [
              "\n",
              "  <div id=\"df-9cb635d5-6d94-4e83-bbf2-78d5a16253d0\">\n",
              "    <div class=\"colab-df-container\">\n",
              "      <div>\n",
              "<style scoped>\n",
              "    .dataframe tbody tr th:only-of-type {\n",
              "        vertical-align: middle;\n",
              "    }\n",
              "\n",
              "    .dataframe tbody tr th {\n",
              "        vertical-align: top;\n",
              "    }\n",
              "\n",
              "    .dataframe thead th {\n",
              "        text-align: right;\n",
              "    }\n",
              "</style>\n",
              "<table border=\"1\" class=\"dataframe\">\n",
              "  <thead>\n",
              "    <tr style=\"text-align: right;\">\n",
              "      <th></th>\n",
              "      <th>0</th>\n",
              "      <th>1</th>\n",
              "      <th>2</th>\n",
              "      <th>3</th>\n",
              "      <th>4</th>\n",
              "      <th>5</th>\n",
              "      <th>6</th>\n",
              "      <th>7</th>\n",
              "      <th>8</th>\n",
              "      <th>9</th>\n",
              "      <th>...</th>\n",
              "      <th>190</th>\n",
              "      <th>191</th>\n",
              "      <th>192</th>\n",
              "      <th>193</th>\n",
              "      <th>194</th>\n",
              "      <th>195</th>\n",
              "      <th>196</th>\n",
              "      <th>197</th>\n",
              "      <th>198</th>\n",
              "      <th>199</th>\n",
              "    </tr>\n",
              "  </thead>\n",
              "  <tbody>\n",
              "    <tr>\n",
              "      <th>0</th>\n",
              "      <td>0.303927</td>\n",
              "      <td>0.028060</td>\n",
              "      <td>0.310219</td>\n",
              "      <td>0.338462</td>\n",
              "      <td>0.968495</td>\n",
              "      <td>0.676271</td>\n",
              "      <td>0.519675</td>\n",
              "      <td>0.503384</td>\n",
              "      <td>0.589808</td>\n",
              "      <td>0.370462</td>\n",
              "      <td>...</td>\n",
              "      <td>0.048780</td>\n",
              "      <td>0.953494</td>\n",
              "      <td>0.925000</td>\n",
              "      <td>0.014164</td>\n",
              "      <td>0.234123</td>\n",
              "      <td>0.032411</td>\n",
              "      <td>0.478548</td>\n",
              "      <td>0.995000</td>\n",
              "      <td>0.800441</td>\n",
              "      <td>0.728307</td>\n",
              "    </tr>\n",
              "    <tr>\n",
              "      <th>1</th>\n",
              "      <td>0.359577</td>\n",
              "      <td>0.028080</td>\n",
              "      <td>0.535135</td>\n",
              "      <td>0.378515</td>\n",
              "      <td>0.290769</td>\n",
              "      <td>0.637798</td>\n",
              "      <td>0.544355</td>\n",
              "      <td>0.548088</td>\n",
              "      <td>0.965000</td>\n",
              "      <td>0.489362</td>\n",
              "      <td>...</td>\n",
              "      <td>0.048148</td>\n",
              "      <td>0.506148</td>\n",
              "      <td>0.392086</td>\n",
              "      <td>0.014177</td>\n",
              "      <td>0.201770</td>\n",
              "      <td>0.032472</td>\n",
              "      <td>0.980000</td>\n",
              "      <td>0.156759</td>\n",
              "      <td>0.846081</td>\n",
              "      <td>0.768385</td>\n",
              "    </tr>\n",
              "    <tr>\n",
              "      <th>2</th>\n",
              "      <td>0.344758</td>\n",
              "      <td>0.028172</td>\n",
              "      <td>0.716087</td>\n",
              "      <td>0.364225</td>\n",
              "      <td>0.445254</td>\n",
              "      <td>0.623881</td>\n",
              "      <td>0.597099</td>\n",
              "      <td>0.532639</td>\n",
              "      <td>0.653846</td>\n",
              "      <td>0.416558</td>\n",
              "      <td>...</td>\n",
              "      <td>0.046053</td>\n",
              "      <td>0.325000</td>\n",
              "      <td>0.354822</td>\n",
              "      <td>0.014191</td>\n",
              "      <td>0.273481</td>\n",
              "      <td>0.935000</td>\n",
              "      <td>0.531387</td>\n",
              "      <td>0.144503</td>\n",
              "      <td>0.790419</td>\n",
              "      <td>0.744828</td>\n",
              "    </tr>\n",
              "    <tr>\n",
              "      <th>3</th>\n",
              "      <td>0.423007</td>\n",
              "      <td>0.014148</td>\n",
              "      <td>0.611444</td>\n",
              "      <td>0.731493</td>\n",
              "      <td>0.280761</td>\n",
              "      <td>0.498159</td>\n",
              "      <td>0.938910</td>\n",
              "      <td>0.841494</td>\n",
              "      <td>0.498750</td>\n",
              "      <td>0.349367</td>\n",
              "      <td>...</td>\n",
              "      <td>0.034463</td>\n",
              "      <td>0.477823</td>\n",
              "      <td>0.253755</td>\n",
              "      <td>0.007119</td>\n",
              "      <td>0.978495</td>\n",
              "      <td>0.047445</td>\n",
              "      <td>0.453760</td>\n",
              "      <td>0.133106</td>\n",
              "      <td>0.876976</td>\n",
              "      <td>0.808895</td>\n",
              "    </tr>\n",
              "    <tr>\n",
              "      <th>4</th>\n",
              "      <td>0.894448</td>\n",
              "      <td>1.000000</td>\n",
              "      <td>0.901977</td>\n",
              "      <td>0.314251</td>\n",
              "      <td>0.454397</td>\n",
              "      <td>0.906977</td>\n",
              "      <td>0.548845</td>\n",
              "      <td>0.489796</td>\n",
              "      <td>0.539073</td>\n",
              "      <td>0.378796</td>\n",
              "      <td>...</td>\n",
              "      <td>0.020921</td>\n",
              "      <td>0.455414</td>\n",
              "      <td>0.240876</td>\n",
              "      <td>0.007119</td>\n",
              "      <td>0.153654</td>\n",
              "      <td>0.032294</td>\n",
              "      <td>0.442579</td>\n",
              "      <td>0.117000</td>\n",
              "      <td>0.685391</td>\n",
              "      <td>0.587379</td>\n",
              "    </tr>\n",
              "    <tr>\n",
              "      <th>5</th>\n",
              "      <td>0.310797</td>\n",
              "      <td>0.021098</td>\n",
              "      <td>0.534483</td>\n",
              "      <td>0.325724</td>\n",
              "      <td>0.327273</td>\n",
              "      <td>0.551266</td>\n",
              "      <td>0.569037</td>\n",
              "      <td>0.912977</td>\n",
              "      <td>0.670025</td>\n",
              "      <td>0.369828</td>\n",
              "      <td>...</td>\n",
              "      <td>0.041202</td>\n",
              "      <td>0.309783</td>\n",
              "      <td>0.329032</td>\n",
              "      <td>1.000000</td>\n",
              "      <td>0.166250</td>\n",
              "      <td>0.047756</td>\n",
              "      <td>0.477302</td>\n",
              "      <td>0.145695</td>\n",
              "      <td>0.853901</td>\n",
              "      <td>0.675803</td>\n",
              "    </tr>\n",
              "    <tr>\n",
              "      <th>6</th>\n",
              "      <td>0.345468</td>\n",
              "      <td>0.027957</td>\n",
              "      <td>0.462185</td>\n",
              "      <td>0.355450</td>\n",
              "      <td>0.427770</td>\n",
              "      <td>0.744267</td>\n",
              "      <td>0.432787</td>\n",
              "      <td>0.517986</td>\n",
              "      <td>0.570954</td>\n",
              "      <td>0.321389</td>\n",
              "      <td>...</td>\n",
              "      <td>0.048558</td>\n",
              "      <td>0.614484</td>\n",
              "      <td>0.404832</td>\n",
              "      <td>0.014134</td>\n",
              "      <td>0.334241</td>\n",
              "      <td>0.032438</td>\n",
              "      <td>0.490385</td>\n",
              "      <td>0.154839</td>\n",
              "      <td>0.844393</td>\n",
              "      <td>0.778216</td>\n",
              "    </tr>\n",
              "    <tr>\n",
              "      <th>7</th>\n",
              "      <td>0.311853</td>\n",
              "      <td>0.021183</td>\n",
              "      <td>0.657825</td>\n",
              "      <td>0.924449</td>\n",
              "      <td>0.450234</td>\n",
              "      <td>0.646557</td>\n",
              "      <td>0.538816</td>\n",
              "      <td>0.473808</td>\n",
              "      <td>0.672913</td>\n",
              "      <td>0.365817</td>\n",
              "      <td>...</td>\n",
              "      <td>1.000000</td>\n",
              "      <td>0.352235</td>\n",
              "      <td>0.926494</td>\n",
              "      <td>0.007116</td>\n",
              "      <td>0.293023</td>\n",
              "      <td>0.047840</td>\n",
              "      <td>0.473939</td>\n",
              "      <td>0.148069</td>\n",
              "      <td>0.762973</td>\n",
              "      <td>0.679505</td>\n",
              "    </tr>\n",
              "    <tr>\n",
              "      <th>8</th>\n",
              "      <td>0.834444</td>\n",
              "      <td>0.028112</td>\n",
              "      <td>0.570677</td>\n",
              "      <td>0.799441</td>\n",
              "      <td>0.328421</td>\n",
              "      <td>0.541948</td>\n",
              "      <td>0.534062</td>\n",
              "      <td>0.394030</td>\n",
              "      <td>0.539773</td>\n",
              "      <td>0.918908</td>\n",
              "      <td>...</td>\n",
              "      <td>0.046512</td>\n",
              "      <td>0.417308</td>\n",
              "      <td>0.261980</td>\n",
              "      <td>0.014188</td>\n",
              "      <td>0.101538</td>\n",
              "      <td>0.062233</td>\n",
              "      <td>0.405053</td>\n",
              "      <td>0.107667</td>\n",
              "      <td>0.608195</td>\n",
              "      <td>0.850000</td>\n",
              "    </tr>\n",
              "    <tr>\n",
              "      <th>9</th>\n",
              "      <td>0.356250</td>\n",
              "      <td>0.028137</td>\n",
              "      <td>0.759019</td>\n",
              "      <td>0.371467</td>\n",
              "      <td>0.352764</td>\n",
              "      <td>0.604878</td>\n",
              "      <td>0.730769</td>\n",
              "      <td>0.536830</td>\n",
              "      <td>0.555556</td>\n",
              "      <td>0.516070</td>\n",
              "      <td>...</td>\n",
              "      <td>0.048125</td>\n",
              "      <td>0.491052</td>\n",
              "      <td>0.345000</td>\n",
              "      <td>0.014203</td>\n",
              "      <td>0.319695</td>\n",
              "      <td>0.016444</td>\n",
              "      <td>0.507317</td>\n",
              "      <td>0.135491</td>\n",
              "      <td>0.858783</td>\n",
              "      <td>0.756000</td>\n",
              "    </tr>\n",
              "  </tbody>\n",
              "</table>\n",
              "<p>10 rows × 200 columns</p>\n",
              "</div>\n",
              "      <button class=\"colab-df-convert\" onclick=\"convertToInteractive('df-9cb635d5-6d94-4e83-bbf2-78d5a16253d0')\"\n",
              "              title=\"Convert this dataframe to an interactive table.\"\n",
              "              style=\"display:none;\">\n",
              "        \n",
              "  <svg xmlns=\"http://www.w3.org/2000/svg\" height=\"24px\"viewBox=\"0 0 24 24\"\n",
              "       width=\"24px\">\n",
              "    <path d=\"M0 0h24v24H0V0z\" fill=\"none\"/>\n",
              "    <path d=\"M18.56 5.44l.94 2.06.94-2.06 2.06-.94-2.06-.94-.94-2.06-.94 2.06-2.06.94zm-11 1L8.5 8.5l.94-2.06 2.06-.94-2.06-.94L8.5 2.5l-.94 2.06-2.06.94zm10 10l.94 2.06.94-2.06 2.06-.94-2.06-.94-.94-2.06-.94 2.06-2.06.94z\"/><path d=\"M17.41 7.96l-1.37-1.37c-.4-.4-.92-.59-1.43-.59-.52 0-1.04.2-1.43.59L10.3 9.45l-7.72 7.72c-.78.78-.78 2.05 0 2.83L4 21.41c.39.39.9.59 1.41.59.51 0 1.02-.2 1.41-.59l7.78-7.78 2.81-2.81c.8-.78.8-2.07 0-2.86zM5.41 20L4 18.59l7.72-7.72 1.47 1.35L5.41 20z\"/>\n",
              "  </svg>\n",
              "      </button>\n",
              "      \n",
              "  <style>\n",
              "    .colab-df-container {\n",
              "      display:flex;\n",
              "      flex-wrap:wrap;\n",
              "      gap: 12px;\n",
              "    }\n",
              "\n",
              "    .colab-df-convert {\n",
              "      background-color: #E8F0FE;\n",
              "      border: none;\n",
              "      border-radius: 50%;\n",
              "      cursor: pointer;\n",
              "      display: none;\n",
              "      fill: #1967D2;\n",
              "      height: 32px;\n",
              "      padding: 0 0 0 0;\n",
              "      width: 32px;\n",
              "    }\n",
              "\n",
              "    .colab-df-convert:hover {\n",
              "      background-color: #E2EBFA;\n",
              "      box-shadow: 0px 1px 2px rgba(60, 64, 67, 0.3), 0px 1px 3px 1px rgba(60, 64, 67, 0.15);\n",
              "      fill: #174EA6;\n",
              "    }\n",
              "\n",
              "    [theme=dark] .colab-df-convert {\n",
              "      background-color: #3B4455;\n",
              "      fill: #D2E3FC;\n",
              "    }\n",
              "\n",
              "    [theme=dark] .colab-df-convert:hover {\n",
              "      background-color: #434B5C;\n",
              "      box-shadow: 0px 1px 3px 1px rgba(0, 0, 0, 0.15);\n",
              "      filter: drop-shadow(0px 1px 2px rgba(0, 0, 0, 0.3));\n",
              "      fill: #FFFFFF;\n",
              "    }\n",
              "  </style>\n",
              "\n",
              "      <script>\n",
              "        const buttonEl =\n",
              "          document.querySelector('#df-9cb635d5-6d94-4e83-bbf2-78d5a16253d0 button.colab-df-convert');\n",
              "        buttonEl.style.display =\n",
              "          google.colab.kernel.accessAllowed ? 'block' : 'none';\n",
              "\n",
              "        async function convertToInteractive(key) {\n",
              "          const element = document.querySelector('#df-9cb635d5-6d94-4e83-bbf2-78d5a16253d0');\n",
              "          const dataTable =\n",
              "            await google.colab.kernel.invokeFunction('convertToInteractive',\n",
              "                                                     [key], {});\n",
              "          if (!dataTable) return;\n",
              "\n",
              "          const docLinkHtml = 'Like what you see? Visit the ' +\n",
              "            '<a target=\"_blank\" href=https://colab.research.google.com/notebooks/data_table.ipynb>data table notebook</a>'\n",
              "            + ' to learn more about interactive tables.';\n",
              "          element.innerHTML = '';\n",
              "          dataTable['output_type'] = 'display_data';\n",
              "          await google.colab.output.renderOutput(dataTable, element);\n",
              "          const docLink = document.createElement('div');\n",
              "          docLink.innerHTML = docLinkHtml;\n",
              "          element.appendChild(docLink);\n",
              "        }\n",
              "      </script>\n",
              "    </div>\n",
              "  </div>\n",
              "  "
            ]
          },
          "metadata": {},
          "execution_count": 112
        }
      ]
    }
  ]
}