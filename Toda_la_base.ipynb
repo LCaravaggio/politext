{
  "nbformat": 4,
  "nbformat_minor": 0,
  "metadata": {
    "colab": {
      "provenance": [],
      "authorship_tag": "ABX9TyN/8fISD789Z1blhWQnD9Rp",
      "include_colab_link": true
    },
    "kernelspec": {
      "name": "python3",
      "display_name": "Python 3"
    },
    "language_info": {
      "name": "python"
    }
  },
  "cells": [
    {
      "cell_type": "markdown",
      "metadata": {
        "id": "view-in-github",
        "colab_type": "text"
      },
      "source": [
        "<a href=\"https://colab.research.google.com/github/LCaravaggio/politext/blob/main/Toda_la_base.ipynb\" target=\"_parent\"><img src=\"https://colab.research.google.com/assets/colab-badge.svg\" alt=\"Open In Colab\"/></a>"
      ]
    },
    {
      "cell_type": "code",
      "execution_count": 1,
      "metadata": {
        "id": "L5ZNEGEF0aRa"
      },
      "outputs": [],
      "source": [
        "import pandas as pd\n",
        "import numpy as np\n",
        "from collections import Counter\n",
        "import ast"
      ]
    },
    {
      "cell_type": "code",
      "source": [
        "from google.colab import drive\n",
        "drive.mount('/content/drive')"
      ],
      "metadata": {
        "colab": {
          "base_uri": "https://localhost:8080/"
        },
        "id": "bkOUGBwH1bYL",
        "outputId": "d362f26d-e0a0-4824-e8b6-68c292d04a37"
      },
      "execution_count": 2,
      "outputs": [
        {
          "output_type": "stream",
          "name": "stdout",
          "text": [
            "Mounted at /content/drive\n"
          ]
        }
      ]
    },
    {
      "cell_type": "code",
      "source": [
        "# Se lee la base original\n",
        "base=pd.read_csv('/content/drive/MyDrive/par_esp_interventions_l1_l13.csv')"
      ],
      "metadata": {
        "colab": {
          "base_uri": "https://localhost:8080/"
        },
        "id": "v8kZsj9_1dyL",
        "outputId": "d5510122-1ac1-4dc1-8522-645aba913cf5"
      },
      "execution_count": 3,
      "outputs": [
        {
          "output_type": "stream",
          "name": "stderr",
          "text": [
            "/usr/local/lib/python3.7/dist-packages/IPython/core/interactiveshell.py:3326: DtypeWarning: Columns (17) have mixed types.Specify dtype option on import or set low_memory=False.\n",
            "  exec(code_obj, self.user_global_ns, self.user_ns)\n"
          ]
        }
      ]
    },
    {
      "cell_type": "code",
      "source": [
        "# Se conservan solamente las intervenciones de los partidos PSOE y PP\n",
        "base=base[(base['party'] == 'PSOE') | (base['party'] == 'PP')]"
      ],
      "metadata": {
        "id": "dgovIufl1oJq"
      },
      "execution_count": 4,
      "outputs": []
    },
    {
      "cell_type": "code",
      "source": [
        "base[pd.DatetimeIndex(base.fecha).year==1986].party.unique()\n"
      ],
      "metadata": {
        "id": "XG8WXqQ_x114",
        "outputId": "cc682ee0-05cc-458c-c696-7c6948c8add8",
        "colab": {
          "base_uri": "https://localhost:8080/"
        }
      },
      "execution_count": 21,
      "outputs": [
        {
          "output_type": "execute_result",
          "data": {
            "text/plain": [
              "array(['PSOE', 'PP'], dtype=object)"
            ]
          },
          "metadata": {},
          "execution_count": 21
        }
      ]
    },
    {
      "cell_type": "code",
      "source": [
        "# Elimino de la base las intervenciones del Presidente de la cámara\n",
        "base=base[(base['role'] != 'PRESIDENTE, PRESIDENTA') | (base['role'] != 'PRESIDENTE DEL CONGRESO DE LOS DIPUTADOS')]"
      ],
      "metadata": {
        "id": "dhbKq8uX1t_4"
      },
      "execution_count": null,
      "outputs": []
    },
    {
      "cell_type": "code",
      "source": [
        "import nltk\n",
        "nltk.download('stopwords')\n",
        "from nltk.corpus import stopwords\n",
        "stopwords=stopwords.words('spanish')\n",
        "nltk.download('punkt')\n",
        "from nltk.tokenize import word_tokenize\n",
        "import string\n",
        "from nltk.stem.porter import PorterStemmer"
      ],
      "metadata": {
        "colab": {
          "base_uri": "https://localhost:8080/"
        },
        "id": "RNVsu84Y16U5",
        "outputId": "f6f8b772-b523-4285-8d7f-c8b9814e25cb"
      },
      "execution_count": null,
      "outputs": [
        {
          "output_type": "stream",
          "name": "stderr",
          "text": [
            "[nltk_data] Downloading package stopwords to /root/nltk_data...\n",
            "[nltk_data]   Package stopwords is already up-to-date!\n",
            "[nltk_data] Downloading package punkt to /root/nltk_data...\n",
            "[nltk_data]   Package punkt is already up-to-date!\n"
          ]
        }
      ]
    },
    {
      "cell_type": "code",
      "source": [
        "# Se incorporan las stopwords sugeridas por Federico\n",
        "stopwords.extend(['señor', 'señora', 'mucha', 'gracia', 'año', 'pasado', 'cada', 'vez', 'uno', 'dos', 'tres', 'cuatro', 'cinco', 'seis' ,'siete', 'ocho', 'nueve', 'diez'])\n",
        "stopwords.extend(['hoy', 'aquí', 'primer', 'lugar', 'primera', 'segunda', 'primero', 'segundo', 'siguiente', 'tercer'])\n",
        "stopwords.extend(['convergencia', 'esquerra', 'republicana', 'grupo', 'parlamentaria', 'parlamentario', 'partido'])\n",
        "stopwords.extend(['enmienda', 'votación', 'favor', 'abstención', 'ley', 'real', 'decreto', 'decretoley', 'resultado', 'voto', 'sé' ,'sí', 'silencio' ,'favor'])\n",
        "stopwords.extend(['usted', 'señoría', 'presidente', 'presidenta', 'ministro', 'orden' , 'día', 'palabra', 'petición', 'posición', 'punto', 'vista', 'sesión', 'baldoví', 'duran', 'turno'])\n",
        "stopwords.extend(['hacer', 'frente', 'puede' ,'ser', 'va', 'voy', 'decir'])\n",
        "stopwords.extend(['millón', 'euro', 'emitido', 'efectuada', 'dio', 'comienzo', 'partido', 'queda', 'quedan', 'rechazada', 'aceptada', 'comienza', 'usted', 'sabe', 'abstención', 'diputado', 'gobierno'])\n",
        "stopwords.extend(['continuación', 'votamos', 'telemático', 'republicanaizquierda', 'unidainiciativa', 'puede', 'bien', 'propuesta' ,'abstencion', 'mayoría', 'absoluta', 'pregunta', 'don', 'vamos', 'votar', 'llevar', 'cabo', 'millón', 'muchas', 'gracias'])"
      ],
      "metadata": {
        "id": "RALkdTYF2AGT"
      },
      "execution_count": null,
      "outputs": []
    },
    {
      "cell_type": "code",
      "source": [
        "# Esta celda tarda unos 17 minutos en correr\n",
        "\n",
        "base['tokens']=\"\"\n",
        "for ind in base.index:\n",
        "    #elimino puntuación\n",
        "    non_punctuation = base['intervention'][ind].translate(str.maketrans('', '', string.punctuation))\n",
        "    word_tokens = word_tokenize(non_punctuation)\n",
        "\n",
        "    #elimino stopwords\n",
        "    tokens=[w for w in word_tokens if not w.lower() in stopwords]\n",
        "\n",
        "    #stemming\n",
        "    porter_stemmer = PorterStemmer()\n",
        "    stemmers = [porter_stemmer.stem(word) for word in tokens]\n",
        "    base['tokens'][ind] = [stem for stem in stemmers if stem.isalpha() and len(stem) > 1]"
      ],
      "metadata": {
        "colab": {
          "base_uri": "https://localhost:8080/"
        },
        "id": "3MOXEmLa4bJq",
        "outputId": "82cea85a-3d6c-409b-95e2-ff5e634450a1"
      },
      "execution_count": null,
      "outputs": [
        {
          "output_type": "stream",
          "name": "stderr",
          "text": [
            "/usr/local/lib/python3.7/dist-packages/ipykernel_launcher.py:15: SettingWithCopyWarning: \n",
            "A value is trying to be set on a copy of a slice from a DataFrame\n",
            "\n",
            "See the caveats in the documentation: https://pandas.pydata.org/pandas-docs/stable/user_guide/indexing.html#returning-a-view-versus-a-copy\n",
            "  from ipykernel import kernelapp as app\n"
          ]
        }
      ]
    },
    {
      "cell_type": "markdown",
      "source": [
        "# CV"
      ],
      "metadata": {
        "id": "DGXL1PFubO1X"
      }
    },
    {
      "cell_type": "code",
      "source": [
        "from sklearn.model_selection import train_test_split\n",
        "base['tokens']=base[\"tokens\"].map(' '.join)\n",
        "X_train, X_test, y_train, y_test = train_test_split(base.loc[:, base.columns != 'party'], base['party'], test_size=0.33, random_state=42)"
      ],
      "metadata": {
        "id": "K97ay8J3F60U"
      },
      "execution_count": null,
      "outputs": []
    },
    {
      "cell_type": "code",
      "source": [
        "# Balance de clase\n",
        "y_train.value_counts()"
      ],
      "metadata": {
        "colab": {
          "base_uri": "https://localhost:8080/"
        },
        "id": "3bTAet19F-IX",
        "outputId": "bf590906-d6a7-4631-a5a5-c8efd9421182"
      },
      "execution_count": null,
      "outputs": [
        {
          "output_type": "execute_result",
          "data": {
            "text/plain": [
              "PSOE    100658\n",
              "PP       53320\n",
              "Name: party, dtype: int64"
            ]
          },
          "metadata": {},
          "execution_count": 29
        }
      ]
    },
    {
      "cell_type": "code",
      "source": [
        "from sklearn.feature_extraction.text import CountVectorizer\n",
        "cv=CountVectorizer(ngram_range=[2,2], max_features=200, stop_words=stopwords, max_df=0.95, min_df=0.001)\n",
        "vec = cv.fit(X_train['tokens'])"
      ],
      "metadata": {
        "id": "4DJ5xDWCGAnk"
      },
      "execution_count": null,
      "outputs": []
    },
    {
      "cell_type": "code",
      "source": [
        "train_matrix = vec.fit_transform(X_train['tokens'])\n",
        "test_matrix = vec.transform(X_test['tokens'])"
      ],
      "metadata": {
        "id": "egJ2P5OvOXwm"
      },
      "execution_count": null,
      "outputs": []
    },
    {
      "cell_type": "markdown",
      "source": [
        "# LASSO"
      ],
      "metadata": {
        "id": "he5iXGwabZZj"
      }
    },
    {
      "cell_type": "code",
      "source": [
        "from sklearn.linear_model import LogisticRegression\n",
        "lr = LogisticRegression(penalty='l1', max_iter=1000, solver='liblinear')"
      ],
      "metadata": {
        "id": "tRJkiHV4OaNW"
      },
      "execution_count": null,
      "outputs": []
    },
    {
      "cell_type": "code",
      "source": [
        "lr.fit(train_matrix,y_train)"
      ],
      "metadata": {
        "colab": {
          "base_uri": "https://localhost:8080/"
        },
        "id": "4e5xEAYfOcKP",
        "outputId": "f5ed193c-749f-400f-b173-4f3b14d98f15"
      },
      "execution_count": null,
      "outputs": [
        {
          "output_type": "execute_result",
          "data": {
            "text/plain": [
              "LogisticRegression(max_iter=1000, penalty='l1', solver='liblinear')"
            ]
          },
          "metadata": {},
          "execution_count": 207
        }
      ]
    },
    {
      "cell_type": "code",
      "source": [
        "predictions = lr.predict(test_matrix)"
      ],
      "metadata": {
        "id": "UQcg6iZ6Od8x"
      },
      "execution_count": null,
      "outputs": []
    },
    {
      "cell_type": "code",
      "source": [
        "from sklearn.metrics import confusion_matrix,classification_report\n",
        "new = np.asarray(y_test)\n",
        "confusion_matrix(predictions,y_test)"
      ],
      "metadata": {
        "colab": {
          "base_uri": "https://localhost:8080/"
        },
        "id": "MTitT84vOfsh",
        "outputId": "cd644d01-798e-4e8a-f87b-303ce8ed2dd0"
      },
      "execution_count": null,
      "outputs": [
        {
          "output_type": "execute_result",
          "data": {
            "text/plain": [
              "array([[ 4,  2],\n",
              "       [28, 87]])"
            ]
          },
          "metadata": {},
          "execution_count": 209
        }
      ]
    },
    {
      "cell_type": "code",
      "source": [
        "print(classification_report(predictions,y_test))"
      ],
      "metadata": {
        "colab": {
          "base_uri": "https://localhost:8080/"
        },
        "id": "yE2hFlZvOhRW",
        "outputId": "57171fa7-bc58-44bc-90e6-9e636ea29497"
      },
      "execution_count": null,
      "outputs": [
        {
          "output_type": "stream",
          "name": "stdout",
          "text": [
            "              precision    recall  f1-score   support\n",
            "\n",
            "          PP       0.14      0.73      0.24      5235\n",
            "        PSOE       0.97      0.68      0.80     70605\n",
            "\n",
            "    accuracy                           0.68     75840\n",
            "   macro avg       0.56      0.71      0.52     75840\n",
            "weighted avg       0.91      0.68      0.76     75840\n",
            "\n"
          ]
        }
      ]
    },
    {
      "cell_type": "code",
      "source": [
        "# Relevancia de bigramas en la predicción\n",
        "features=[]\n",
        "for i,v in enumerate(lr.coef_[0]):\n",
        "  features.append([vec.get_feature_names_out()[i],v ])"
      ],
      "metadata": {
        "id": "aWUa5xpiOjmD"
      },
      "execution_count": null,
      "outputs": []
    },
    {
      "cell_type": "code",
      "source": [
        "sorted(features, key = lambda x: x[1])"
      ],
      "metadata": {
        "colab": {
          "base_uri": "https://localhost:8080/"
        },
        "id": "Q0bwziNOOlbQ",
        "outputId": "6cfeb025-9e61-49c2-b538-fbe1287f7bbe"
      },
      "execution_count": null,
      "outputs": [
        {
          "output_type": "execute_result",
          "data": {
            "text/plain": [
              "[['número formula', -4.737266156801609],\n",
              " ['feder izquierda', -2.5290680372150236],\n",
              " ['izquierda plural', -2.3424874590286286],\n",
              " ['portavoz socialista', -1.7296840156270725],\n",
              " ['vaya concluyendo', -1.7234743685757994],\n",
              " ['congreso formula', -1.2442769694922804],\n",
              " ['diputada doña', -0.9540807816435677],\n",
              " ['fijación posicion', -0.7066754320572302],\n",
              " ['convergència unió', -0.6768100578615651],\n",
              " ['creación empleo', -0.6047821850613734],\n",
              " ['servicio social', -0.5668287759466515],\n",
              " ['comunidad económica', -0.44759874340843636],\n",
              " ['consecuencia interpelación', -0.4455932673463677],\n",
              " ['coalición canaria', -0.401124324833532],\n",
              " ['tramitación proyecto', -0.34009783691001766],\n",
              " ['administracion pública', -0.33508609800539474],\n",
              " ['recuperación económica', -0.32562916771397665],\n",
              " ['gener poder', -0.311385488748349],\n",
              " ['ciudadano español', -0.31046013994033383],\n",
              " ['diputación permanent', -0.3087128314603304],\n",
              " ['consideración proposición', -0.3041363718809443],\n",
              " ['izquierda unida', -0.29712927612466583],\n",
              " ['déficit público', -0.28654655441325544],\n",
              " ['constitución española', -0.2623171065213084],\n",
              " ['crisi económica', -0.2603846776989105],\n",
              " ['vasco pnv', -0.2594650967054509],\n",
              " ['sociedad española', -0.2515005529026209],\n",
              " ['tan important', -0.2354231406124352],\n",
              " ['seguridad jurídica', -0.23122832269504548],\n",
              " ['ordenamiento jurídico', -0.1977607866223055],\n",
              " ['mediana empresa', -0.18638344675948068],\n",
              " ['pacto toledo', -0.17227933055623668],\n",
              " ['economía española', -0.17048285528985296],\n",
              " ['fuerza cuerpo', -0.17002548603447834],\n",
              " ['persona física', -0.1667989567481597],\n",
              " ['medida urgent', -0.1379029373603381],\n",
              " ['hace mese', -0.1335783553363074],\n",
              " ['medio comunicación', -0.12559005585400998],\n",
              " ['semana pasada', -0.12350613638505252],\n",
              " ['desean fijar', -0.12259049545744047],\n",
              " ['hace falta', -0.1221527880085277],\n",
              " ['interé gener', -0.12130042196475818],\n",
              " ['igualdad oportunidad', -0.117567577406454],\n",
              " ['paí vasco', -0.11224399136289817],\n",
              " ['radiotelevisión española', -0.10913001204648538],\n",
              " ['tribun supremo', -0.10801686153453925],\n",
              " ['crédito extraordinario', -0.10762770193165239],\n",
              " ['lucha fraud', -0.10614541206433553],\n",
              " ['presupuesto general', -0.10189384831110226],\n",
              " ['exposición motivo', -0.10053305127665675],\n",
              " ['derecho humano', -0.09615064333129399],\n",
              " ['sánchez llibr', -0.0903066396553873],\n",
              " ['medio ambient', -0.08806735431631756],\n",
              " ['sistema nacion', -0.08698590755687549],\n",
              " ['sistema educativo', -0.08562105843995556],\n",
              " ['cualquier caso', -0.07344964114689552],\n",
              " ['unión europea', -0.0685927937004328],\n",
              " ['persona discapacidad', -0.06158703320038726],\n",
              " ['prestación servicio', -0.05570400437589567],\n",
              " ['senado proyecto', -0.05328555384805825],\n",
              " ['estabilidad presupuestaria', -0.051250465306254815],\n",
              " ['formación profesion', -0.04751591744631654],\n",
              " ['ahora mismo', -0.0467096731623956],\n",
              " ['sentencia tribun', -0.04670392193494016],\n",
              " ['fuerza armada', -0.04441566664025646],\n",
              " ['violencia género', -0.04210743427121031],\n",
              " ['alto cargo', -0.040699762540255514],\n",
              " ['crecimiento económico', -0.039170382605212085],\n",
              " ['guardia civil', -0.03528203167376593],\n",
              " ['agencia tributaria', -0.03399645914138226],\n",
              " ['quiero recordar', -0.03001527039944127],\n",
              " ['quiero decirl', -0.029379374961895646],\n",
              " ['política económica', -0.029095158404013676],\n",
              " ['ningún caso', -0.026174341877980737],\n",
              " ['puesto trabajo', -0.024608619364799956],\n",
              " ['proyecto presupuesto', -0.023289745674256724],\n",
              " ['derecho libertad', -0.022100068560292774],\n",
              " ['corporacion local', -0.018474285833447585],\n",
              " ['toma consideración', -0.013941449017843147],\n",
              " ['si quier', -0.007969213450640618],\n",
              " ['gasto público', -0.0035088566257104824],\n",
              " ['llegar acuerdo', -0.0033110116316187447],\n",
              " ['toda comunidad', -0.003156201261359562],\n",
              " ['comunidad autónoma', -0.0017958246608378592],\n",
              " ['nombr socialista', 0.0],\n",
              " ['parlamento europeo', 0.0],\n",
              " ['producto interior', 0.0],\n",
              " ['situación económica', 0.0],\n",
              " ['banco españa', 0.0009673422165887535],\n",
              " ['impuesto sociedad', 0.0015648936177784121],\n",
              " ['programa elector', 0.0025220653668507126],\n",
              " ['código penal', 0.005250134592410525],\n",
              " ['disposición final', 0.011307782559979275],\n",
              " ['iniciativa legislativa', 0.011537994753724704],\n",
              " ['entidad local', 0.013875101323728056],\n",
              " ['ningún tipo', 0.01512226131031674],\n",
              " ['texto alternativo', 0.017122063957969114],\n",
              " ['artículo reglamento', 0.017798967306962656],\n",
              " ['actividad económica', 0.018636035265867015],\n",
              " ['ministerio sanidad', 0.021068094625864443],\n",
              " ['sector público', 0.021636093480377854],\n",
              " ['administración gener', 0.023852263581487704],\n",
              " ['cort general', 0.023941281780700496],\n",
              " ['diario sesion', 0.025182022029622813],\n",
              " ['poder judici', 0.027495170640648395],\n",
              " ['función pública', 0.02867019936016622],\n",
              " ['deuda pública', 0.031227739488450257],\n",
              " ['izquierda per', 0.03205877314335637],\n",
              " ['empresa pública', 0.03279367487368643],\n",
              " ['seguridad social', 0.03308050119977809],\n",
              " ['debat totalidad', 0.04124402904295711],\n",
              " ['estatuto autonomía', 0.04190796778265637],\n",
              " ['asunto exterior', 0.04228697668934225],\n",
              " ['nacion salud', 0.04279262534286952],\n",
              " ['alta velocidad', 0.04543878416873892],\n",
              " ['servicio público', 0.047143650073568036],\n",
              " ['defensor pueblo', 0.05231517884104219],\n",
              " ['sistema financiación', 0.052957612901106225],\n",
              " ['director gener', 0.05328874884599427],\n",
              " ['reino unido', 0.05558022809666064],\n",
              " ['comisión europea', 0.056179012195912655],\n",
              " ['proyecto orgánica', 0.060902175440173394],\n",
              " ['cuerpo seguridad', 0.06375709164884148],\n",
              " ['dirección gener', 0.06399636230513987],\n",
              " ['tribun constitucion', 0.06455642487525472],\n",
              " ['asunto social', 0.06709093736178541],\n",
              " ['presión fiscal', 0.07061703160589322],\n",
              " ['tener cuenta', 0.0783805933778486],\n",
              " ['administración justicia', 0.07865040163305151],\n",
              " ['sistema financiero', 0.07889742261253063],\n",
              " ['proposición popular', 0.07920773156860822],\n",
              " ['tipo interé', 0.08446422991833799],\n",
              " ['tribun cuenta', 0.08490491186043801],\n",
              " ['pequeña mediana', 0.09029684085377603],\n",
              " ['ministerio justicia', 0.09227384877883667],\n",
              " ['disposición adicion', 0.09501497385815409],\n",
              " ['interior bruto', 0.10048619575508881],\n",
              " ['diálogo social', 0.102473167701998],\n",
              " ['impuesto renta', 0.10415325268013934],\n",
              " ['ver si', 0.10540591967892965],\n",
              " ['ministerio interior', 0.10863836414045525],\n",
              " ['plan nacion', 0.11105704097552847],\n",
              " ['millon peseta', 0.11382288527566496],\n",
              " ['ruego vaya', 0.12333254494692406],\n",
              " ['nacion unida', 0.12583468541929776],\n",
              " ['mayor part', 0.12899180424823647],\n",
              " ['política exterior', 0.13621648617199344],\n",
              " ['protección social', 0.1381378676278204],\n",
              " ['comunidad europea', 0.14035565611455653],\n",
              " ['largo plazo', 0.1481890481714751],\n",
              " ['opinión pública', 0.14865281073910241],\n",
              " ['ninguna duda', 0.16019389217584493],\n",
              " ['último mese', 0.16782048002155817],\n",
              " ['alguna manera', 0.17093517658561988],\n",
              " ['poder público', 0.1710519790894742],\n",
              " ['disposición transitoria', 0.17262170643794794],\n",
              " ['puesto marcha', 0.17745966218178982],\n",
              " ['consejo europeo', 0.18121727397066484],\n",
              " ['hace tiempo', 0.1827421555160909],\n",
              " ['poner marcha', 0.18328364757526922],\n",
              " ['junta portavoc', 0.18863182192614114],\n",
              " ['reforma labor', 0.19719215774209284],\n",
              " ['dar respuesta', 0.2181032626928877],\n",
              " ['popular congreso', 0.22747660312208148],\n",
              " ['instituto nacion', 0.2356842563097751],\n",
              " ['artículo constitución', 0.2419918962304372],\n",
              " ['consejo gener', 0.2528278712222139],\n",
              " ['puesta marcha', 0.2597886428536905],\n",
              " ['obra pública', 0.2901407387013578],\n",
              " ['administración pública', 0.29492581363567605],\n",
              " ['fuerza política', 0.29524055966965007],\n",
              " ['política fiscal', 0.295394352532214],\n",
              " ['aquel momento', 0.2978945109331301],\n",
              " ['ministerio educación', 0.30215585100985914],\n",
              " ['política social', 0.3294258350558604],\n",
              " ['ruego concluya', 0.3314520808352763],\n",
              " ['mismo tiempo', 0.34001309148061865],\n",
              " ['hace referencia', 0.3403228804940595],\n",
              " ['mercado trabajo', 0.34513554398929874],\n",
              " ['sector privado', 0.3598187698521495],\n",
              " ['resolv problema', 0.3696445200960459],\n",
              " ['económico social', 0.38176244230991213],\n",
              " ['carácter gener', 0.401853261793526],\n",
              " ['país europeo', 0.4069670773427225],\n",
              " ['salario mínimo', 0.40726522946022836],\n",
              " ['duda alguna', 0.4145213096553126],\n",
              " ['economía hacienda', 0.44111863851246813],\n",
              " ['aprobado dictamen', 0.47275875004168993],\n",
              " ['administración central', 0.4883525591185532],\n",
              " ['hecho referencia', 0.49467099519483143],\n",
              " ['ss ss', 0.5870982120972587],\n",
              " ['per catalunya', 0.8128273162667468],\n",
              " ['económica europea', 0.969720951447913],\n",
              " ['dictamen comisión', 1.1455997823199078],\n",
              " ['catalunya verd', 1.539547531604286],\n",
              " ['portavoz popular', 1.5758264775596031],\n",
              " ['coalición popular', 3.291068739973251],\n",
              " ['bravo laguna', 4.8542595586734505],\n",
              " ['minoría catalana', 4.888882395402717],\n",
              " ['pérez royo', 5.582013402532748]]"
            ]
          },
          "metadata": {},
          "execution_count": 38
        }
      ]
    },
    {
      "cell_type": "code",
      "source": [
        "# Entiendo que un número negativo en el coeficiente implica que el bigrama correlaciona bien con la clase 0, es decir PP. Por el otro lado, un coeficiente positivo implica que el bigrama correlaciona mejor con PSOE. \n",
        "lr.classes_"
      ],
      "metadata": {
        "colab": {
          "base_uri": "https://localhost:8080/"
        },
        "id": "miQgxc59jxZp",
        "outputId": "562d54ab-7247-4127-fd7e-a6704af26bc3"
      },
      "execution_count": null,
      "outputs": [
        {
          "output_type": "execute_result",
          "data": {
            "text/plain": [
              "array(['PP', 'PSOE'], dtype=object)"
            ]
          },
          "metadata": {},
          "execution_count": 213
        }
      ]
    },
    {
      "cell_type": "code",
      "source": [
        "# LASOO por año\n",
        "from sklearn.metrics import f1_score\n",
        "\n",
        "macro=[]\n",
        "weighted=[]\n",
        "\n",
        "lr = LogisticRegression(penalty='l1', max_iter=1000, solver='liblinear')\n",
        "\n",
        "for x in range(1979,2019): \n",
        "  try: \n",
        "    base_year=base[pd.DatetimeIndex(base.fecha).year==x]\n",
        "    X_train, X_test, y_train, y_test = train_test_split(base_year.loc[:, base_year.columns != 'party'], base_year['party'], test_size=0.33, random_state=42)\n",
        "    train_matrix = vec.fit_transform(X_train['tokens'])\n",
        "    test_matrix = vec.transform(X_test['tokens'])  \n",
        "    lr.fit(train_matrix,y_train)\n",
        "    predictions = lr.predict(test_matrix )\n",
        "    macro.append(f1_score(predictions,y_test, average='macro'))\n",
        "    weighted.append(f1_score(predictions,y_test, average='weighted'))\n",
        "  except: \n",
        "    macro.append(np.nan)\n",
        "    weighted.append(np.nan)"
      ],
      "metadata": {
        "id": "vT5GTcSJPGT7"
      },
      "execution_count": null,
      "outputs": []
    },
    {
      "cell_type": "code",
      "source": [
        "# Yo entiendo que el resultado relevante es el macro, porque considera el desbalance de clases\n",
        "import matplotlib.pyplot as plt\n",
        "plt.plot(range(1979,2019), macro, marker='o')\n",
        "plt.plot(range(1979,2019), weighted, marker='+')"
      ],
      "metadata": {
        "colab": {
          "base_uri": "https://localhost:8080/",
          "height": 282
        },
        "id": "7laI6FgJRSyr",
        "outputId": "f21d999b-3f09-46bc-a613-fe60454634c8"
      },
      "execution_count": null,
      "outputs": [
        {
          "output_type": "execute_result",
          "data": {
            "text/plain": [
              "[<matplotlib.lines.Line2D at 0x7f35a33c1cd0>]"
            ]
          },
          "metadata": {},
          "execution_count": 198
        },
        {
          "output_type": "display_data",
          "data": {
            "text/plain": [
              "<Figure size 432x288 with 1 Axes>"
            ],
            "image/png": "[encoded data removed]"
          },
          "metadata": {
            "needs_background": "light"
          }
        }
      ]
    },
    {
      "cell_type": "code",
      "source": [
        "# LASOO por legislatura\n",
        "macro=[]\n",
        "weighted=[]\n",
        "\n",
        "lr = LogisticRegression(penalty='l1', max_iter=1000, solver='liblinear')\n",
        "legislaturas=['I', 'II', 'III', 'IV', 'V', 'VI', 'VII','VIII', 'IX', 'X', 'XI', 'XII','XIII']\n",
        "\n",
        "for x in legislaturas: \n",
        "  try: \n",
        "    base_year=base[base.legislatura==x]\n",
        "    X_train, X_test, y_train, y_test = train_test_split(base_year.loc[:, base_year.columns != 'party'], base_year['party'], test_size=0.33, random_state=42)\n",
        "    train_matrix = vec.fit_transform(X_train['tokens'])\n",
        "    test_matrix = vec.transform(X_test['tokens'])  \n",
        "    lr.fit(train_matrix,y_train)\n",
        "    predictions = lr.predict(test_matrix )\n",
        "    macro.append(f1_score(predictions,y_test, average='macro'))\n",
        "    weighted.append(f1_score(predictions,y_test, average='weighted'))\n",
        "  except: \n",
        "    macro.append(np.nan)\n",
        "    weighted.append(np.nan)"
      ],
      "metadata": {
        "id": "tdGW6WkIY2JD"
      },
      "execution_count": null,
      "outputs": []
    },
    {
      "cell_type": "code",
      "source": [
        "# Yo entiendo que el resultado relevante es el macro, porque considera el desbalance de clases\n",
        "import matplotlib.pyplot as plt\n",
        "plt.plot(legislaturas, macro, marker='o')\n",
        "plt.plot(legislaturas, weighted, marker='+')"
      ],
      "metadata": {
        "colab": {
          "base_uri": "https://localhost:8080/",
          "height": 282
        },
        "id": "eyA7ffAeZQbN",
        "outputId": "5d9b6d4d-3c62-4350-ebe0-ba1f4b0e2e06"
      },
      "execution_count": null,
      "outputs": [
        {
          "output_type": "execute_result",
          "data": {
            "text/plain": [
              "[<matplotlib.lines.Line2D at 0x7f3588654190>]"
            ]
          },
          "metadata": {},
          "execution_count": 200
        },
        {
          "output_type": "display_data",
          "data": {
            "text/plain": [
              "<Figure size 432x288 with 1 Axes>"
            ],
            "image/png": "[encoded data removed]"
          },
          "metadata": {
            "needs_background": "light"
          }
        }
      ]
    },
    {
      "cell_type": "markdown",
      "source": [
        "# Regresión lineal"
      ],
      "metadata": {
        "id": "W4gP8QOIbRyt"
      }
    },
    {
      "cell_type": "code",
      "source": [
        "X_train, X_test, y_train, y_test = train_test_split(base.loc[:, base.columns != 'party'], base['party'], test_size=0.33, random_state=42)"
      ],
      "metadata": {
        "id": "8dGWALnQb1Mn"
      },
      "execution_count": null,
      "outputs": []
    },
    {
      "cell_type": "code",
      "source": [
        "vec = cv.fit(X_train['tokens'])"
      ],
      "metadata": {
        "id": "mJQVHbEKb1Mo"
      },
      "execution_count": null,
      "outputs": []
    },
    {
      "cell_type": "code",
      "source": [
        "train_matrix = vec.fit_transform(X_train['tokens'])\n",
        "test_matrix = vec.transform(X_test['tokens'])"
      ],
      "metadata": {
        "id": "o_UYstuib1Mo"
      },
      "execution_count": null,
      "outputs": []
    },
    {
      "cell_type": "code",
      "source": [
        "y_train.replace(['PSOE', 'PP'],[0, 1], inplace=True)\n",
        "y_test.replace(['PSOE', 'PP'],[0, 1], inplace=True)"
      ],
      "metadata": {
        "id": "24rbtPzhcfxy"
      },
      "execution_count": null,
      "outputs": []
    },
    {
      "cell_type": "code",
      "source": [
        "from sklearn.linear_model import LinearRegression\n",
        "lr = LinearRegression()"
      ],
      "metadata": {
        "id": "yD0Hk7RzbnDG"
      },
      "execution_count": null,
      "outputs": []
    },
    {
      "cell_type": "code",
      "source": [
        "lr.fit(train_matrix,y_train)"
      ],
      "metadata": {
        "colab": {
          "base_uri": "https://localhost:8080/"
        },
        "id": "ZdSt3ASFe3UD",
        "outputId": "d197df46-1051-4481-a299-0907f5455e36"
      },
      "execution_count": null,
      "outputs": [
        {
          "output_type": "execute_result",
          "data": {
            "text/plain": [
              "LinearRegression()"
            ]
          },
          "metadata": {},
          "execution_count": 187
        }
      ]
    },
    {
      "cell_type": "code",
      "source": [
        "predictions = lr.predict(test_matrix)"
      ],
      "metadata": {
        "id": "TLLuNbJxeySx"
      },
      "execution_count": null,
      "outputs": []
    },
    {
      "cell_type": "code",
      "source": [
        "print(lr.coef_)"
      ],
      "metadata": {
        "colab": {
          "base_uri": "https://localhost:8080/"
        },
        "id": "4W7M5BY6fVMR",
        "outputId": "8236defa-67ad-491e-a9d3-24971ff99b87"
      },
      "execution_count": null,
      "outputs": [
        {
          "output_type": "stream",
          "name": "stdout",
          "text": [
            "[-7.11699487e-03  4.19230112e-02 -4.67068604e-02 -2.98709422e-03\n",
            " -1.14597058e-02 -3.06473469e-02  9.25654667e-03  8.45508312e-03\n",
            " -6.63284150e-03 -7.26061747e-03  4.55966999e-03 -9.75973641e-02\n",
            " -4.44653273e-02 -2.37464822e-02 -5.46918529e-03 -4.17662340e-03\n",
            " -2.07761435e-02  2.62951102e-03 -1.38544298e-01 -4.98659798e-02\n",
            " -1.57905323e-01  5.30332868e-02  7.77231852e-02 -1.85333257e-01\n",
            " -7.82283132e-03  1.01643822e-03  6.97760176e-02 -1.60962964e-02\n",
            "  2.45353993e-01  8.40012214e-02 -1.79912035e-02 -4.30605951e-02\n",
            "  5.60812415e-02  3.31821979e-02  1.24180198e-01  1.45432071e-03\n",
            " -5.78809977e-03  7.53683028e-02 -3.04883351e-03  4.07875822e-02\n",
            "  1.59170377e-02  1.49998442e-02 -3.53033356e-02 -2.19229963e-03\n",
            " -3.38282788e-02 -1.70212460e-02 -8.37184193e-03  1.60199585e-02\n",
            "  4.41026554e-03  3.07496543e-02 -8.60386117e-03 -8.45580615e-03\n",
            " -1.39027405e-01  5.38860557e-02  1.90150563e-01 -1.54024384e-02\n",
            " -9.21623836e-03 -1.93384575e-02 -7.19324779e-03 -3.15821037e-02\n",
            " -1.33536555e-02 -4.29373578e-02  2.70421866e-02  3.52673689e-02\n",
            " -6.01002230e-02 -8.73641592e-02 -2.04053910e-02  2.35864474e-05\n",
            " -1.57802321e-03  9.49407379e-03 -7.91200872e-03  1.74195152e-02\n",
            "  4.45821637e-01  1.67294596e-01  7.57190270e-03  4.57787671e-03\n",
            "  5.29180771e-02 -3.83773396e-02  5.05764067e-03  2.03616897e-03\n",
            "  4.71197552e-02  8.01405890e-03  1.45959538e-02  1.12260174e-02\n",
            " -4.23932924e-02 -3.93229379e-02 -5.43908506e-02  1.78475988e-02\n",
            " -6.93529956e-03 -9.44920567e-03 -3.52281562e-03 -1.79485623e-02\n",
            " -1.12180629e-01  2.24208797e-02 -7.20461252e-03  3.72053670e-01\n",
            "  4.60857131e-02 -4.14218776e-02 -3.10739925e-02  4.47885519e-03\n",
            "  1.54737743e-02 -1.23383565e-02  4.51190276e-02  2.42827167e-02\n",
            "  1.31321668e-02  2.09051941e-02 -3.51755500e-02 -1.07925462e-02\n",
            " -3.23443646e-02 -1.92441145e-02 -1.27561909e-02 -5.98919679e-03\n",
            " -1.54840363e-01 -2.12271404e-02  2.07414299e-02 -1.63590454e-02\n",
            " -2.86591811e-02  3.89017279e-03 -5.01031227e-03 -6.74659541e-03\n",
            "  6.05640105e-01 -3.65210141e-02 -1.94434603e-02  2.57707810e-02\n",
            "  2.73302889e-02  7.27865002e-03  1.87439588e-02 -4.24884282e-02\n",
            " -3.75128079e-02 -1.28153571e-01  1.17357573e-02  3.02023105e-02\n",
            " -1.13913487e-02  1.86497659e-04 -1.93083502e-02  8.32640642e-03\n",
            " -5.18006652e-03 -3.52295058e-02 -4.23744332e-02 -2.59483433e-02\n",
            " -3.52050939e-02 -1.51396281e-01  2.53664102e-01  2.51457375e-03\n",
            "  1.12121276e-02  1.36578542e-02  9.57501155e-02  4.89534993e-03\n",
            " -1.53035778e-02 -2.35315935e-02 -1.69904859e-02 -2.64022773e-03\n",
            " -3.85641673e-02 -2.39218707e-02  3.48463394e-03 -1.10379831e-01\n",
            "  7.12157505e-03  1.34065654e-03  1.87424588e-02  3.09487995e-02\n",
            " -3.03642388e-02 -5.66267032e-03 -4.72441226e-02 -6.70301472e-02\n",
            " -2.72620305e-02 -2.04457754e-02 -3.10800847e-02 -1.15133263e-03\n",
            "  3.74223409e-02 -3.43256282e-03  2.02878012e-02  1.52341153e-02\n",
            "  1.67575659e-02 -9.60998642e-03  8.76782521e-02  2.07552531e-03\n",
            "  1.42295622e-02 -1.13248439e-02 -1.08156044e-02 -1.34064051e-02\n",
            "  1.06192108e-02  3.58683876e-02 -3.16365572e-02  2.41629735e-02\n",
            "  3.55494836e-02 -1.27115482e-02  4.65547596e-04 -1.13551660e-02\n",
            "  3.00166303e-03 -6.24888247e-04  6.35348241e-02 -9.53037039e-03\n",
            " -7.81162962e-03  1.40271968e-02  6.81914714e-03  5.04959017e-02\n",
            "  4.07686610e-01 -2.30763406e-02  9.51634561e-03 -2.74687372e-02]\n"
          ]
        }
      ]
    },
    {
      "cell_type": "code",
      "source": [
        "import sklearn.metrics as metrics\n",
        "def regression_results(y_true, y_pred):\n",
        "\n",
        "    explained_variance=metrics.explained_variance_score(y_true, y_pred)\n",
        "    mean_absolute_error=metrics.mean_absolute_error(y_true, y_pred) \n",
        "    mse=metrics.mean_squared_error(y_true, y_pred) \n",
        "    median_absolute_error=metrics.median_absolute_error(y_true, y_pred)\n",
        "    r2=metrics.r2_score(y_true, y_pred)\n",
        "\n",
        "    print('explained_variance: ', round(explained_variance,4))    \n",
        "    print('r2: ', round(r2,4))\n",
        "    print('MAE: ', round(mean_absolute_error,4))\n",
        "    print('MSE: ', round(mse,4))\n",
        "    print('RMSE: ', round(np.sqrt(mse),4))"
      ],
      "metadata": {
        "id": "v7QJrjCzeqtb"
      },
      "execution_count": null,
      "outputs": []
    },
    {
      "cell_type": "code",
      "source": [
        "regression_results(y_test,predictions)"
      ],
      "metadata": {
        "colab": {
          "base_uri": "https://localhost:8080/"
        },
        "id": "ImFhAonne6h-",
        "outputId": "fd124931-324d-4944-a2af-1daf3eb5541b"
      },
      "execution_count": null,
      "outputs": [
        {
          "output_type": "stream",
          "name": "stdout",
          "text": [
            "explained_variance:  0.0647\n",
            "r2:  0.0647\n",
            "MAE:  0.4271\n",
            "MSE:  0.2122\n",
            "RMSE:  0.4606\n"
          ]
        }
      ]
    }
  ]
}