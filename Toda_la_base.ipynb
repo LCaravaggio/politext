{
  "nbformat": 4,
  "nbformat_minor": 0,
  "metadata": {
    "colab": {
      "provenance": [],
      "include_colab_link": true
    },
    "kernelspec": {
      "name": "python3",
      "display_name": "Python 3"
    },
    "language_info": {
      "name": "python"
    }
  },
  "cells": [
    {
      "cell_type": "markdown",
      "metadata": {
        "id": "view-in-github",
        "colab_type": "text"
      },
      "source": [
        "<a href=\"https://colab.research.google.com/github/LCaravaggio/politext/blob/main/Toda_la_base.ipynb\" target=\"_parent\"><img src=\"https://colab.research.google.com/assets/colab-badge.svg\" alt=\"Open In Colab\"/></a>"
      ]
    },
    {
      "cell_type": "markdown",
      "source": [
        "# Cargar la base"
      ],
      "metadata": {
        "id": "3bR6IbjGTqyw"
      }
    },
    {
      "cell_type": "code",
      "source": [
        "from google.colab import drive\n",
        "drive.mount('/content/drive')"
      ],
      "metadata": {
        "colab": {
          "base_uri": "https://localhost:8080/"
        },
        "id": "1d3u68qTTy95",
        "outputId": "dd68daf7-d607-43e1-fc1f-30a98c4828d3"
      },
      "execution_count": 1,
      "outputs": [
        {
          "output_type": "stream",
          "name": "stdout",
          "text": [
            "Mounted at /content/drive\n"
          ]
        }
      ]
    },
    {
      "cell_type": "code",
      "source": [
        "import pandas as pd\n",
        "base=pd.read_csv('/content/drive/MyDrive/base_formateada.csv')"
      ],
      "metadata": {
        "id": "a4Y2nh_NT6vv",
        "outputId": "24919f41-77cd-4716-a6ce-035cb64c523f",
        "colab": {
          "base_uri": "https://localhost:8080/"
        }
      },
      "execution_count": 12,
      "outputs": [
        {
          "output_type": "stream",
          "name": "stderr",
          "text": [
            "/usr/local/lib/python3.7/dist-packages/IPython/core/interactiveshell.py:3326: DtypeWarning: Columns (18) have mixed types.Specify dtype option on import or set low_memory=False.\n",
            "  exec(code_obj, self.user_global_ns, self.user_ns)\n"
          ]
        }
      ]
    },
    {
      "cell_type": "markdown",
      "source": [
        "# CV"
      ],
      "metadata": {
        "id": "DGXL1PFubO1X"
      }
    },
    {
      "cell_type": "code",
      "source": [
        "base['party'].value_counts()"
      ],
      "metadata": {
        "id": "cmCxT85hEyXg",
        "outputId": "e3114a1a-67d3-4f06-e515-85d8c5d85d4d",
        "colab": {
          "base_uri": "https://localhost:8080/"
        }
      },
      "execution_count": 15,
      "outputs": [
        {
          "output_type": "execute_result",
          "data": {
            "text/plain": [
              "PSOE    189526\n",
              "PP      144895\n",
              "Name: party, dtype: int64"
            ]
          },
          "metadata": {},
          "execution_count": 15
        }
      ]
    },
    {
      "cell_type": "code",
      "source": [
        "from sklearn.model_selection import train_test_split\n",
        "#base['tokens']=base[\"tokens\"].map(' '.join)\n",
        "X_train, X_test, y_train, y_test = train_test_split(base.loc[:, base.columns != 'party'], base['party'], test_size=0.33, random_state=42)"
      ],
      "metadata": {
        "id": "K97ay8J3F60U"
      },
      "execution_count": 17,
      "outputs": []
    },
    {
      "cell_type": "code",
      "source": [
        "# Balance de clase\n",
        "y_train.value_counts()"
      ],
      "metadata": {
        "colab": {
          "base_uri": "https://localhost:8080/"
        },
        "id": "3bTAet19F-IX",
        "outputId": "21dd1c12-6887-4387-cf79-c168eea20b8d"
      },
      "execution_count": 18,
      "outputs": [
        {
          "output_type": "execute_result",
          "data": {
            "text/plain": [
              "PSOE    127260\n",
              "PP       96802\n",
              "Name: party, dtype: int64"
            ]
          },
          "metadata": {},
          "execution_count": 18
        }
      ]
    },
    {
      "cell_type": "code",
      "source": [
        "import nltk\n",
        "nltk.download('stopwords')\n",
        "from nltk.corpus import stopwords\n",
        "stopwords=stopwords.words('spanish')"
      ],
      "metadata": {
        "id": "vG2Zxxq3UvyZ",
        "outputId": "d07e73fd-2740-4429-87c2-b5173c23e4a1",
        "colab": {
          "base_uri": "https://localhost:8080/"
        }
      },
      "execution_count": 19,
      "outputs": [
        {
          "output_type": "stream",
          "name": "stderr",
          "text": [
            "[nltk_data] Downloading package stopwords to /root/nltk_data...\n",
            "[nltk_data]   Package stopwords is already up-to-date!\n"
          ]
        }
      ]
    },
    {
      "cell_type": "code",
      "source": [
        "# Se incorporan las stopwords sugeridas por Federico\n",
        "stopwords.extend(['señor', 'señora', 'mucha', 'gracia', 'año', 'pasado', 'cada', 'vez', 'uno', 'dos', 'tres', 'cuatro', 'cinco', 'seis' ,'siete', 'ocho', 'nueve', 'diez'])\n",
        "stopwords.extend(['hoy', 'aquí', 'primer', 'lugar', 'primera', 'segunda', 'primero', 'segundo', 'siguiente', 'tercer'])\n",
        "stopwords.extend(['convergencia', 'esquerra', 'republicana', 'grupo', 'parlamentaria', 'parlamentario', 'partido'])\n",
        "stopwords.extend(['enmienda', 'votación', 'favor', 'abstención', 'ley', 'real', 'decreto', 'decretoley', 'resultado', 'voto', 'sé' ,'sí', 'silencio' ,'favor'])\n",
        "stopwords.extend(['usted', 'señoría', 'presidente', 'presidenta', 'ministro', 'orden' , 'día', 'palabra', 'petición', 'posición', 'punto', 'vista', 'sesión', 'baldoví', 'duran', 'turno'])\n",
        "stopwords.extend(['hacer', 'frente', 'puede' ,'ser', 'va', 'voy', 'decir'])\n",
        "stopwords.extend(['millón', 'euro', 'emitido', 'efectuada', 'dio', 'comienzo', 'partido', 'queda', 'quedan', 'rechazada', 'aceptada', 'comienza', 'usted', 'sabe', 'abstención', 'diputado', 'gobierno'])\n",
        "stopwords.extend(['continuación', 'votamos', 'telemático', 'republicanaizquierda', 'unidainiciativa', 'puede', 'bien', 'propuesta' ,'abstencion', 'mayoría', 'absoluta', 'pregunta', 'don', 'vamos', 'votar', 'llevar', 'cabo', 'millón', 'muchas', 'gracias'])"
      ],
      "metadata": {
        "id": "D34MOjAhUx_a"
      },
      "execution_count": 20,
      "outputs": []
    },
    {
      "cell_type": "code",
      "source": [
        "from sklearn.feature_extraction.text import CountVectorizer\n",
        "cv=CountVectorizer(ngram_range=[2,2], max_features=200, stop_words=stopwords, max_df=0.95, min_df=0.001)\n",
        "vec = cv.fit(X_train['tokens'])"
      ],
      "metadata": {
        "id": "4DJ5xDWCGAnk"
      },
      "execution_count": 22,
      "outputs": []
    },
    {
      "cell_type": "code",
      "source": [
        "train_matrix = vec.fit_transform(X_train['tokens'])\n",
        "test_matrix = vec.transform(X_test['tokens'])"
      ],
      "metadata": {
        "id": "egJ2P5OvOXwm"
      },
      "execution_count": 23,
      "outputs": []
    },
    {
      "cell_type": "markdown",
      "source": [
        "# LASSO"
      ],
      "metadata": {
        "id": "he5iXGwabZZj"
      }
    },
    {
      "cell_type": "code",
      "source": [
        "from sklearn.linear_model import LogisticRegression\n",
        "from sklearn.metrics import confusion_matrix,classification_report\n",
        "import numpy as np"
      ],
      "metadata": {
        "id": "JTqJ61B0Yygk"
      },
      "execution_count": 28,
      "outputs": []
    },
    {
      "cell_type": "code",
      "source": [
        "lr = LogisticRegression(penalty='l1', max_iter=1000, solver='liblinear')"
      ],
      "metadata": {
        "id": "tRJkiHV4OaNW"
      },
      "execution_count": 24,
      "outputs": []
    },
    {
      "cell_type": "code",
      "source": [
        "lr.fit(train_matrix,y_train)"
      ],
      "metadata": {
        "colab": {
          "base_uri": "https://localhost:8080/"
        },
        "id": "4e5xEAYfOcKP",
        "outputId": "89e06f91-15f8-4c78-914f-b0825bba8762"
      },
      "execution_count": 25,
      "outputs": [
        {
          "output_type": "execute_result",
          "data": {
            "text/plain": [
              "LogisticRegression(max_iter=1000, penalty='l1', solver='liblinear')"
            ]
          },
          "metadata": {},
          "execution_count": 25
        }
      ]
    },
    {
      "cell_type": "code",
      "source": [
        "predictions = lr.predict(test_matrix)"
      ],
      "metadata": {
        "id": "UQcg6iZ6Od8x"
      },
      "execution_count": 26,
      "outputs": []
    },
    {
      "cell_type": "code",
      "source": [
        "new = np.asarray(y_test)\n",
        "confusion_matrix(predictions,y_test)"
      ],
      "metadata": {
        "colab": {
          "base_uri": "https://localhost:8080/"
        },
        "id": "MTitT84vOfsh",
        "outputId": "58656f51-d44c-4663-fc5b-374ed36647b0"
      },
      "execution_count": 29,
      "outputs": [
        {
          "output_type": "execute_result",
          "data": {
            "text/plain": [
              "array([[ 8010,  3205],\n",
              "       [40083, 59061]])"
            ]
          },
          "metadata": {},
          "execution_count": 29
        }
      ]
    },
    {
      "cell_type": "code",
      "source": [
        "print(classification_report(predictions,y_test))"
      ],
      "metadata": {
        "colab": {
          "base_uri": "https://localhost:8080/"
        },
        "id": "yE2hFlZvOhRW",
        "outputId": "49e122d7-bf59-4b6f-ef7a-8a6b2fdb4fe8"
      },
      "execution_count": 30,
      "outputs": [
        {
          "output_type": "stream",
          "name": "stdout",
          "text": [
            "              precision    recall  f1-score   support\n",
            "\n",
            "          PP       0.17      0.71      0.27     11215\n",
            "        PSOE       0.95      0.60      0.73     99144\n",
            "\n",
            "    accuracy                           0.61    110359\n",
            "   macro avg       0.56      0.65      0.50    110359\n",
            "weighted avg       0.87      0.61      0.68    110359\n",
            "\n"
          ]
        }
      ]
    },
    {
      "cell_type": "code",
      "source": [
        "# Relevancia de bigramas en la predicción\n",
        "features=[]\n",
        "for i,v in enumerate(lr.coef_[0]):\n",
        "  features.append([vec.get_feature_names_out()[i],v ])"
      ],
      "metadata": {
        "id": "aWUa5xpiOjmD"
      },
      "execution_count": 31,
      "outputs": []
    },
    {
      "cell_type": "code",
      "source": [
        "sorted(features, key = lambda x: x[1])"
      ],
      "metadata": {
        "colab": {
          "base_uri": "https://localhost:8080/"
        },
        "id": "Q0bwziNOOlbQ",
        "outputId": "dda40807-9a85-4aeb-de36-3d0a8527f711"
      },
      "execution_count": 32,
      "outputs": [
        {
          "output_type": "execute_result",
          "data": {
            "text/plain": [
              "[['número formula', -4.386113333342695],\n",
              " ['izquierda plural', -2.2466864461302567],\n",
              " ['feder izquierda', -2.0274857782550204],\n",
              " ['nombr popular', -1.5635773056368019],\n",
              " ['portavoz socialista', -1.4195372496738141],\n",
              " ['rodríguez zapatero', -1.1977047202094733],\n",
              " ['congreso formula', -1.007739710427991],\n",
              " ['interpelación urgent', -0.6793567256594198],\n",
              " ['vaya concluyendo', -0.6675015607842653],\n",
              " ['diputada doña', -0.6452836968058073],\n",
              " ['creación empleo', -0.5258078766539187],\n",
              " ['comunidad económica', -0.5123287053994943],\n",
              " ['coalición canaria', -0.3739253062434879],\n",
              " ['fijación posicion', -0.3365935444522609],\n",
              " ['ministerio economía', -0.31799362824830496],\n",
              " ['déficit público', -0.2656601238415698],\n",
              " ['pueblo español', -0.256781181780051],\n",
              " ['desean fijar', -0.2565654963949963],\n",
              " ['servicio social', -0.24088213052891982],\n",
              " ['sociedad española', -0.23415699268295162],\n",
              " ['si quier', -0.2018547938055878],\n",
              " ['seguridad jurídica', -0.19703925362036304],\n",
              " ['convergència unió', -0.17823427071978515],\n",
              " ['fuerza cuerpo', -0.16302691550281895],\n",
              " ['ordenamiento jurídico', -0.16100002551961726],\n",
              " ['impuesto renta', -0.1558293486274231],\n",
              " ['quiero decirl', -0.15195545943287686],\n",
              " ['moción consecuencia', -0.14927365925723726],\n",
              " ['ningún caso', -0.14767144410951513],\n",
              " ['tan important', -0.14196079255277572],\n",
              " ['toda comunidad', -0.14178616254653928],\n",
              " ['izquierda unida', -0.13968380516500867],\n",
              " ['administracion pública', -0.1308316188648449],\n",
              " ['economía española', -0.12718560959795014],\n",
              " ['hace falta', -0.12387772876712966],\n",
              " ['constitución española', -0.12381656875294032],\n",
              " ['comunidad valenciana', -0.12046419846602079],\n",
              " ['exposición motivo', -0.1186711860410602],\n",
              " ['crecimiento económico', -0.1147965964358949],\n",
              " ['consideración proposición', -0.11125244692258852],\n",
              " ['diputación permanent', -0.10677103680323169],\n",
              " ['quiero recordar', -0.10655482206448526],\n",
              " ['diario sesion', -0.10597671781024441],\n",
              " ['puesto trabajo', -0.10355727204770791],\n",
              " ['consejo seguridad', -0.09715368906424135],\n",
              " ['función pública', -0.09206714594433252],\n",
              " ['artículo reglamento', -0.0920246555333833],\n",
              " ['disposición final', -0.09146146236260409],\n",
              " ['director gener', -0.08851776913086518],\n",
              " ['opinión pública', -0.08572405970820667],\n",
              " ['ciudadano español', -0.08347128396929826],\n",
              " ['agent social', -0.07952998988331712],\n",
              " ['cualquier caso', -0.07903452282270258],\n",
              " ['presupuesto general', -0.07222046589612423],\n",
              " ['toma consideración', -0.07185092051610456],\n",
              " ['crisi económica', -0.06834385787197872],\n",
              " ['interior bruto', -0.06636692888353721],\n",
              " ['interé gener', -0.06386830943589669],\n",
              " ['consecuencia interpelación', -0.06284629846881723],\n",
              " ['medio ambient', -0.061456497912026814],\n",
              " ['empresa pública', -0.061161628007311425],\n",
              " ['mediana empresa', -0.05949729500226532],\n",
              " ['unión europea', -0.05927603170293176],\n",
              " ['medio comunicación', -0.05856302446244321],\n",
              " ['crédito extraordinario', -0.04956984502813694],\n",
              " ['tribun supremo', -0.048108223257895454],\n",
              " ['millon peseta', -0.04131135178925486],\n",
              " ['persona física', -0.03967185011234787],\n",
              " ['gener poder', -0.03953675714376548],\n",
              " ['paí vasco', -0.03949899438022811],\n",
              " ['política económica', -0.03650603464796095],\n",
              " ['consejo europeo', -0.035746955464125596],\n",
              " ['formación profesion', -0.03558752885453476],\n",
              " ['alto cargo', -0.03294498351393777],\n",
              " ['alta velocidad', -0.03287107038923186],\n",
              " ['asunto social', -0.028948658726970923],\n",
              " ['sistema nacion', -0.028768603089455],\n",
              " ['pequeña mediana', -0.026785119921059856],\n",
              " ['estabilidad presupuestaria', -0.023775659386303317],\n",
              " ['poder adquisitivo', -0.022328933676645627],\n",
              " ['corporacion local', -0.022020156095785438],\n",
              " ['proyecto orgánica', -0.021257862598851266],\n",
              " ['administración gener', -0.0206392124267026],\n",
              " ['tribun cuenta', -0.02027093143423249],\n",
              " ['artículo constitución', -0.01939803021389407],\n",
              " ['banco españa', -0.014942724326473058],\n",
              " ['comisión nacion', -0.011856234271509903],\n",
              " ['derecho libertad', -0.011850843362984052],\n",
              " ['parlamento europeo', -0.011374915949427331],\n",
              " ['iniciativa legislativa', -0.010752268058224173],\n",
              " ['administración pública', -0.008309604446626914],\n",
              " ['sistema educativo', -0.007802003733792212],\n",
              " ['gasto público', -0.007476580197259211],\n",
              " ['fuerza armada', -0.004859743809969878],\n",
              " ['derecho humano', -0.003432083654499312],\n",
              " ['responsabilidad política', -0.0026827034096613264],\n",
              " ['tribun constitucion', -0.0025545598145971745],\n",
              " ['asunto exterior', -0.0014236504177170212],\n",
              " ['ministerio interior', -0.0003902977131035479],\n",
              " ['violencia género', -0.00036245401462234116],\n",
              " ['agencia tributaria', 0.0],\n",
              " ['consejo gener', 0.0],\n",
              " ['disposición transitoria', 0.00018469497351634127],\n",
              " ['comisión investigación', 0.0008103930396182742],\n",
              " ['debat totalidad', 0.0010608492236677833],\n",
              " ['tipo interé', 0.0010676119345248338],\n",
              " ['administración justicia', 0.0038045963255424445],\n",
              " ['texto alternativo', 0.004002159052240733],\n",
              " ['comunidad europea', 0.00400897434042685],\n",
              " ['radiotelevisión española', 0.004013585003562698],\n",
              " ['guardia civil', 0.0048434493518300205],\n",
              " ['comunidad autónoma', 0.006592608448969148],\n",
              " ['cort general', 0.006829752765656667],\n",
              " ['pacto toledo', 0.00719846223452808],\n",
              " ['entrada vigor', 0.00740489898258557],\n",
              " ['programa elector', 0.007474886394681181],\n",
              " ['defensor pueblo', 0.008573380196369329],\n",
              " ['sentencia tribun', 0.010167091499005179],\n",
              " ['sistema financiación', 0.010495816496396328],\n",
              " ['impuesto sociedad', 0.010675737501288161],\n",
              " ['nacion salud', 0.011292962839273137],\n",
              " ['seguridad social', 0.011628564037186173],\n",
              " ['vasco pnv', 0.015198281488176387],\n",
              " ['ministerio justicia', 0.01606991487842526],\n",
              " ['código penal', 0.016265939755849307],\n",
              " ['dirección gener', 0.017625026709600273],\n",
              " ['plan nacion', 0.020034463807895517],\n",
              " ['poder judici', 0.023452330733103027],\n",
              " ['sánchez llibr', 0.026441686326224765],\n",
              " ['semana pasada', 0.028437053729949084],\n",
              " ['presión fiscal', 0.030478004782395048],\n",
              " ['deuda pública', 0.031761625787562524],\n",
              " ['sector público', 0.03415946768111261],\n",
              " ['obra pública', 0.03845012542004194],\n",
              " ['actividad económica', 0.03856511278379325],\n",
              " ['proyecto presupuesto', 0.04382607831065498],\n",
              " ['protección social', 0.046650856710820296],\n",
              " ['tener cuenta', 0.047035411351114345],\n",
              " ['hace mese', 0.049013026063496744],\n",
              " ['comisión mixta', 0.05120529757274258],\n",
              " ['reino unido', 0.051820286579956375],\n",
              " ['ningún tipo', 0.051846723090953444],\n",
              " ['puesto marcha', 0.05202889555663205],\n",
              " ['nacion unida', 0.05312457813357433],\n",
              " ['sistema financiero', 0.055282869678690894],\n",
              " ['política exterior', 0.05711792091024005],\n",
              " ['ahora mismo', 0.059279390205016096],\n",
              " ['servicio público', 0.06170413402633838],\n",
              " ['disposición adicion', 0.06619168902392682],\n",
              " ['estatuto autonomía', 0.06785246530516548],\n",
              " ['llegar acuerdo', 0.07145143008513598],\n",
              " ['administración central', 0.0723064080365928],\n",
              " ['sector privado', 0.07903231321336152],\n",
              " ['carácter gener', 0.08306525441891927],\n",
              " ['ver si', 0.0852086503472164],\n",
              " ['organismo autónomo', 0.08841854001559761],\n",
              " ['puesta marcha', 0.08878574511782412],\n",
              " ['hace tiempo', 0.08900063444838516],\n",
              " ['poner marcha', 0.1000533452756701],\n",
              " ['país europeo', 0.11139198462471181],\n",
              " ['situación económica', 0.11192647027061496],\n",
              " ['último mese', 0.11289692095547993],\n",
              " ['comisión europea', 0.11292462458436676],\n",
              " ['ruego concluya', 0.11655667050182307],\n",
              " ['ministerio educación', 0.12104783261015323],\n",
              " ['largo plazo', 0.12261530919013348],\n",
              " ['mismo tiempo', 0.13350423851641138],\n",
              " ['poder público', 0.13614118467969963],\n",
              " ['política fiscal', 0.1367208727060635],\n",
              " ['fuerza política', 0.13945068714332445],\n",
              " ['resolv problema', 0.14090156708238358],\n",
              " ['proposición popular', 0.14243487321391163],\n",
              " ['cuerpo seguridad', 0.15252538230984997],\n",
              " ['mercado trabajo', 0.15318751018846644],\n",
              " ['mayor part', 0.1586767911351739],\n",
              " ['voluntad política', 0.17656686219895598],\n",
              " ['economía hacienda', 0.1802322526080043],\n",
              " ['si así', 0.18034172460625797],\n",
              " ['hace referencia', 0.18456141340145366],\n",
              " ['alguna manera', 0.19176689133963484],\n",
              " ['duda alguna', 0.19672525088973342],\n",
              " ['forma part', 0.2037467978070493],\n",
              " ['popular congreso', 0.2201870114304487],\n",
              " ['salario mínimo', 0.23387698617379696],\n",
              " ['producto interior', 0.2409314495633858],\n",
              " ['aquel momento', 0.24746647391306698],\n",
              " ['económico social', 0.24908450086451453],\n",
              " ['ss ss', 0.2581100653211762],\n",
              " ['hecho referencia', 0.2638131640741518],\n",
              " ['dar respuesta', 0.271752692453035],\n",
              " ['reforma labor', 0.27493888003578754],\n",
              " ['política social', 0.28190006134253803],\n",
              " ['izquierda per', 0.28655595883198626],\n",
              " ['económica europea', 0.41175542496009904],\n",
              " ['nombr socialista', 0.42008204764124385],\n",
              " ['dictamen comisión', 0.8014935780618612],\n",
              " ['per catalunya', 1.0201300444043446],\n",
              " ['coalición popular', 1.081073172858963],\n",
              " ['minoría catalana', 1.4419636792821073],\n",
              " ['catalunya verd', 1.593221689169528]]"
            ]
          },
          "metadata": {},
          "execution_count": 32
        }
      ]
    },
    {
      "cell_type": "code",
      "source": [
        "# Entiendo que un número negativo en el coeficiente implica que el bigrama correlaciona bien con la clase 0, es decir PP. Por el otro lado, un coeficiente positivo implica que el bigrama correlaciona mejor con PSOE. \n",
        "lr.classes_"
      ],
      "metadata": {
        "colab": {
          "base_uri": "https://localhost:8080/"
        },
        "id": "miQgxc59jxZp",
        "outputId": "7c6a898f-c31e-49e9-f9bb-a417ef216129"
      },
      "execution_count": 33,
      "outputs": [
        {
          "output_type": "execute_result",
          "data": {
            "text/plain": [
              "array(['PP', 'PSOE'], dtype=object)"
            ]
          },
          "metadata": {},
          "execution_count": 33
        }
      ]
    },
    {
      "cell_type": "code",
      "source": [
        "# LASOO por año\n",
        "from sklearn.metrics import f1_score\n",
        "\n",
        "macro=[]\n",
        "weighted=[]\n",
        "\n",
        "lr = LogisticRegression(penalty='l1', max_iter=1000, solver='liblinear')\n",
        "\n",
        "for x in range(1979,2019): \n",
        "  try: \n",
        "    base_year=base[pd.DatetimeIndex(base.fecha).year==x]\n",
        "    X_train, X_test, y_train, y_test = train_test_split(base_year.loc[:, base_year.columns != 'party'], base_year['party'], test_size=0.33, random_state=42)\n",
        "    train_matrix = vec.fit_transform(X_train['tokens'])\n",
        "    test_matrix = vec.transform(X_test['tokens'])  \n",
        "    lr.fit(train_matrix,y_train)\n",
        "    predictions = lr.predict(test_matrix )\n",
        "    macro.append(f1_score(predictions,y_test, average='macro'))\n",
        "    weighted.append(f1_score(predictions,y_test, average='weighted'))\n",
        "  except: \n",
        "    macro.append(np.nan)\n",
        "    weighted.append(np.nan)"
      ],
      "metadata": {
        "id": "vT5GTcSJPGT7"
      },
      "execution_count": 34,
      "outputs": []
    },
    {
      "cell_type": "code",
      "source": [
        "# Yo entiendo que el resultado relevante es el macro, porque considera el desbalance de clases\n",
        "import matplotlib.pyplot as plt\n",
        "plt.plot(range(1979,2019), macro, marker='o')\n",
        "plt.plot(range(1979,2019), weighted, marker='+')"
      ],
      "metadata": {
        "colab": {
          "base_uri": "https://localhost:8080/",
          "height": 282
        },
        "id": "7laI6FgJRSyr",
        "outputId": "c1406e36-86a2-49d2-bf9d-21be0eb4b44e"
      },
      "execution_count": 35,
      "outputs": [
        {
          "output_type": "execute_result",
          "data": {
            "text/plain": [
              "[<matplotlib.lines.Line2D at 0x7f636e0747d0>]"
            ]
          },
          "metadata": {},
          "execution_count": 35
        },
        {
          "output_type": "display_data",
          "data": {
            "text/plain": [
              "<Figure size 432x288 with 1 Axes>"
            ],
            "image/png": "[encoded data removed]"
          },
          "metadata": {
            "needs_background": "light"
          }
        }
      ]
    },
    {
      "cell_type": "code",
      "source": [
        "# LASOO por legislatura\n",
        "macro=[]\n",
        "weighted=[]\n",
        "\n",
        "lr = LogisticRegression(penalty='l1', max_iter=1000, solver='liblinear')\n",
        "legislaturas=['I', 'II', 'III', 'IV', 'V', 'VI', 'VII','VIII', 'IX', 'X', 'XI', 'XII','XIII']\n",
        "\n",
        "for x in legislaturas: \n",
        "  try: \n",
        "    base_year=base[base.legislatura==x]\n",
        "    X_train, X_test, y_train, y_test = train_test_split(base_year.loc[:, base_year.columns != 'party'], base_year['party'], test_size=0.33, random_state=42)\n",
        "    train_matrix = vec.fit_transform(X_train['tokens'])\n",
        "    test_matrix = vec.transform(X_test['tokens'])  \n",
        "    lr.fit(train_matrix,y_train)\n",
        "    predictions = lr.predict(test_matrix )\n",
        "    macro.append(f1_score(predictions,y_test, average='macro'))\n",
        "    weighted.append(f1_score(predictions,y_test, average='weighted'))\n",
        "  except: \n",
        "    macro.append(np.nan)\n",
        "    weighted.append(np.nan)"
      ],
      "metadata": {
        "id": "tdGW6WkIY2JD"
      },
      "execution_count": 36,
      "outputs": []
    },
    {
      "cell_type": "code",
      "source": [
        "# Yo entiendo que el resultado relevante es el macro, porque considera el desbalance de clases\n",
        "import matplotlib.pyplot as plt\n",
        "plt.plot(legislaturas, macro, marker='o')\n",
        "plt.plot(legislaturas, weighted, marker='+')"
      ],
      "metadata": {
        "colab": {
          "base_uri": "https://localhost:8080/",
          "height": 282
        },
        "id": "eyA7ffAeZQbN",
        "outputId": "c0e81f41-dc10-4b6a-87f1-2a996c6ee137"
      },
      "execution_count": 37,
      "outputs": [
        {
          "output_type": "execute_result",
          "data": {
            "text/plain": [
              "[<matplotlib.lines.Line2D at 0x7f636f62dfd0>]"
            ]
          },
          "metadata": {},
          "execution_count": 37
        },
        {
          "output_type": "display_data",
          "data": {
            "text/plain": [
              "<Figure size 432x288 with 1 Axes>"
            ],
            "image/png": "[encoded data removed]"
          },
          "metadata": {
            "needs_background": "light"
          }
        }
      ]
    },
    {
      "cell_type": "code",
      "source": [
        "# Relevancia de bigramas en la predicción por año\n",
        "for x in range (1979, 2020): \n",
        "  base_year=base[pd.DatetimeIndex(base.fecha).year==x]\n",
        "  X_train, X_test, y_train, y_test = train_test_split(base_year.loc[:, base_year.columns != 'party'], base_year['party'], test_size=0.33, random_state=42)\n",
        "  train_matrix = vec.fit_transform(X_train['tokens'])\n",
        "  test_matrix = vec.transform(X_test['tokens'])\n",
        "  lr = LogisticRegression(penalty='l1', max_iter=1000, solver='liblinear')\n",
        "  lr.fit(train_matrix,y_train)\n",
        "  predictions = lr.predict(test_matrix )\n",
        "  features=[]\n",
        "  for i,v in enumerate(lr.coef_[0]):\n",
        "    features.append([vec.get_feature_names_out()[i],v ])\n",
        "  sor=sorted(features, key = lambda x: x[1])\n",
        "  print(f\"Año: {x}\")\n",
        "  print(sor[:5])\n",
        "  print(sor[-5:])"
      ],
      "metadata": {
        "id": "zrM6LDzu-R-8",
        "outputId": "83c20886-6eff-4a24-f79b-f8060aafafa5",
        "colab": {
          "base_uri": "https://localhost:8080/"
        }
      },
      "execution_count": 38,
      "outputs": [
        {
          "output_type": "stream",
          "name": "stdout",
          "text": [
            "Año: 1979\n",
            "[['publicada boletín', -2.401711998135644], ['precedido uso', -1.3870367419491212], ['economía mercado', -1.367076514830645], ['coalición democrática', -1.1135379261941791], ['derecho huelga', -0.9212153915776332]]\n",
            "[['convenio colectivo', 1.167133715914794], ['ministerio interior', 1.20139028813458], ['sector eléctrico', 1.294088048342641], ['formacion política', 1.309199449082428], ['director gener', 1.3299666467774118]]\n",
            "Año: 1980\n",
            "[['aprobado artículo', -2.8308437219835914], ['pérez royo', -2.3054633195186844], ['artículo pausa', -2.054234202402469], ['senado artículo', -2.0073085108093665], ['número socialista', -1.5494348753539544]]\n",
            "[['plan urgencia', 1.362380532056409], ['unión centro', 1.3687122468075994], ['justicia militar', 1.3935163938059387], ['formación profesion', 1.5164441614877484], ['seguridad jurídica', 1.8578459821501605]]\n",
            "Año: 1981\n",
            "[['santa sede', -1.9493575972350903], ['quiero dejar', -1.025760295023986], ['derecho comparado', -0.9886597271646484], ['portavoz socialista', -0.9425234992090927], ['poder público', -0.84060410458071]]\n",
            "[['relación tema', 1.1667340239652113], ['saber si', 1.1741472997488371], ['socialista cataluña', 1.2479975036349502], ['largo debat', 1.6055127115903052], ['acuerdo santa', 2.440094565186568]]\n",
            "Año: 1982\n",
            "[['duda ninguna', -2.5263454259830858], ['ningún caso', -1.5004505257102354], ['pueblo español', -1.339571238281622], ['consignacion presupuestaria', -1.3385144532957767], ['solé tura', -1.3164700245695768]]\n",
            "[['económica europea', 0.851666908790222], ['texto alternativo', 0.8933007831629451], ['recurso natural', 1.4989668661030802], ['proceso autonómico', 1.7131682480958714], ['resolv problema', 2.423215750215967]]\n",
            "Año: 1983\n",
            "[['tan important', -1.334303726462086], ['aplauso banco', -1.0913547404412374], ['texto artículo', -1.006712416833265], ['libertad enseñanza', -0.8265014487429687], ['opinión pública', -0.8036190374496702]]\n",
            "[['consiguient aprobada', 2.2862066283031766], ['tiempo máximo', 2.368633417731323], ['lópez lerma', 2.368648210701962], ['vaya terminando', 2.479411757473192], ['pausa nulo', 2.5037671575684817]]\n",
            "Año: 1984\n",
            "[['portavoz socialista', -1.9404504465516215], ['saber si', -1.5300218113936708], ['déficit público', -1.2125601526832226], ['política exterior', -1.1898538645321077], ['ent público', -1.099879815107531]]\n",
            "[['tiempo máximo', 2.3411484134787104], ['terminado tiempo', 2.454788095898701], ['pausa nulo', 2.4891934367191713], ['vasco pnv', 2.6228779678044956], ['garcía agudín', 3.3646588167399685]]\n",
            "Año: 1985\n",
            "[['banco derecha', -1.4831349662771998], ['impuesto renta', -1.2046964186127687], ['asistencia sanitaria', -1.177082456300323], ['opinión pública', -1.0464136004537345], ['administración pública', -1.0383874117504854]]\n",
            "[['fernández inguanzo', 2.0526029482558354], ['acuerdo dictamen', 2.197384558450296], ['mixto suscrita', 2.3710013492967956], ['bravo laguna', 2.4198096334041486], ['conform dictamen', 2.8520682413664744]]\n",
            "Año: 1986\n",
            "[['mercado común', -1.670570452426263], ['cámara local', -1.5259486662360584], ['portavoz socialista', -1.4667208807609238], ['tan important', -1.463980574495096], ['pueblo español', -1.3393111287128543]]\n",
            "[['sentencia tribun', 1.4440972551822795], ['dictamen comisión', 1.6137577790056628], ['déficit público', 1.6398010045957105], ['ruego concluya', 1.665171609775096], ['garcía fonseca', 1.6847808524047634]]\n",
            "Año: 1987\n",
            "[['portavoz socialista', -1.9570908173505686], ['director gener', -1.453065986665118], ['opinión pública', -1.4443497996171881], ['pueblo español', -1.3587052561936805], ['hace falta', -1.3071707143216895]]\n",
            "[['pausa nulo', 2.4546092910505313], ['última instancia', 2.574594945363941], ['bravo laguna', 3.536846442132158], ['acta unica', 4.763920945632876], ['nombr socialista', 5.153082557906596]]\n",
            "Año: 1988\n",
            "[['portavoz socialista', -2.6652076766271873], ['tan important', -1.4029137460825574], ['hace tiempo', -1.2860474093061884], ['consideración proposición', -1.2789013238650753], ['seguridad ciudadana', -1.2160106931372228]]\n",
            "[['unidaesquerra catalana', 2.005020852409469], ['pérez dobón', 2.089213592248286], ['vasco pnv', 2.257398507776441], ['ruego concluya', 2.7089843581193214], ['dictamen comisión', 3.521749728576467]]\n",
            "Año: 1989\n",
            "[['gran bretaña', -1.9561436148203384], ['economía española', -1.913697259206699], ['director gener', -1.5453204790518889], ['comunidad europea', -1.5155520716084643], ['portavoz socialista', -1.4749376750134684]]\n",
            "[['vasco pnv', 1.7263375140976303], ['política gener', 2.1794805049369566], ['cumbr europea', 2.2086384602759583], ['ruego concluya', 2.2475547679980767], ['debo decirl', 2.6646868084888866]]\n",
            "Año: 1990\n",
            "[['portavoz socialista', -2.968133483427607], ['banco derecha', -2.5184691663236283], ['nombr popular', -1.9451417241616547], ['ministerio agricultura', -1.8350145297259546], ['ahora mismo', -1.5725196783081403]]\n",
            "[['llegar acuerdo', 1.8515540839761082], ['hace tiempo', 2.0193061146462212], ['presupuesto ministerio', 2.353579561927437], ['renta persona', 3.2270897443489623], ['ruego concluya', 3.4651958608321327]]\n",
            "Año: 1991\n",
            "[['director gener', -2.2892548763995495], ['portavoz socialista', -1.864224443179434], ['aplauso banco', -1.503170589321387], ['banco derecha', -1.407369259978164], ['ministerio sanidad', -1.2763762711171485]]\n",
            "[['palacio vallelersundi', 1.3533982516619132], ['vasco pnv', 1.4148578493030592], ['aprobado dictamen', 1.6626927417321762], ['sanidad consumo', 2.249241849224721], ['ruego concluya', 2.4252057391985726]]\n",
            "Año: 1992\n",
            "[['portavoz socialista', -2.339930501167376], ['aplauso banco', -1.7373919984284185], ['vicepresident muñoz', -1.5131980041807278], ['aplauso escaño', -1.1052430296651972], ['exposición motivo', -1.0343282208023583]]\n",
            "[['gonzález lizondo', 2.048928126415985], ['aprobado dictamen', 2.070459598907056], ['garcía fonseca', 2.1487843272205067], ['vasco pnv', 2.2478814757077794], ['ruego concluya', 3.4945714581710625]]\n",
            "Año: 1993\n",
            "[['felip gonzález', -2.2068003571816757], ['banco popular', -1.8740048053303022], ['portavoz socialista', -1.720380967621813], ['boletín ofici', -1.5121113684158538], ['si así', -1.4739493572659914]]\n",
            "[['desean fijar', 2.0465176427330376], ['gonzález lizondo', 2.1452520648009576], ['aprobado dictamen', 2.208808216137616], ['ruego concluya', 3.033694388173438], ['crecimiento económico', 3.597691323958818]]\n",
            "Año: 1994\n",
            "[['portavoz socialista', -2.7381895153502755], ['ciudadano español', -1.7878069461976183], ['nombr popular', -1.749321630328151], ['obra pública', -1.2844141075825568], ['sociedad española', -1.2033622041142682]]\n",
            "[['fernández trocóniz', 2.6126997703207717], ['aprobado dictamen', 2.754091437550186], ['ciento ciento', 2.7933860518748452], ['feder izquierda', 2.9286308774232217], ['ruego concluya', 3.1503347767265493]]\n",
            "Año: 1995\n",
            "[['unión valenciana', -2.9826994941247227], ['nombr popular', -2.9059920271751793], ['diario sesion', -1.5923021997773883], ['portavoz socialista', -1.5864081472319855], ['déficit público', -1.5809474062806221]]\n",
            "[['secreto oficial', 2.1446066661783987], ['aprobado dictamen', 2.2096988569338145], ['congreso formula', 2.5880479770244675], ['ruego concluya', 2.8000292819582797], ['portavoz popular', 3.747452959923415]]\n",
            "Año: 1996\n",
            "[['ruego vaya', -3.573019793700353], ['número formula', -3.4715011675584355], ['congreso formula', -2.787399260727704], ['maría aznar', -2.5542658777078433], ['unión valenciana', -2.303910959707043]]\n",
            "[['anterior legislatura', 1.2356718149305081], ['programa elector', 1.2626146399518146], ['resolv problema', 1.4856357918224916], ['portavoz popular', 2.0979990897586047], ['último mese', 2.1755979732760347]]\n",
            "Año: 1997\n",
            "[['número formula', -4.225169576747717], ['ruego vaya', -2.416131563030171], ['consecuencia aprobada', -2.3638892120716353], ['presentación defensa', -2.3174601143844655], ['nombr catalán', -1.6536409861078882]]\n",
            "[['comisión europea', 1.1269298417376736], ['hace mese', 1.1748915686270165], ['semana pasada', 1.193801184018592], ['resolv problema', 1.238426308406825], ['portavoz popular', 1.427608797777784]]\n",
            "Año: 1998\n",
            "[['ruego vaya', -2.9452511757194366], ['número formula', -2.355511211545584], ['nombr feder', -2.025716365479394], ['portavoz socialista', -1.9775286413903552], ['nombr vasco', -1.826434881504036]]\n",
            "[['diario sesion', 1.1827003363226456], ['portavoz popular', 1.23879587867126], ['ver si', 1.2653211057572125], ['medio comunicación', 1.4039581238348793], ['hace tiempo', 1.544136176888795]]\n",
            "Año: 1999\n",
            "[['si ss', -3.307046491920478], ['ruego vaya', -2.9338987324314774], ['nombr feder', -2.768156013507562], ['martínez noval', -2.7355289928485655], ['fijar nombr', -2.6318622974266206]]\n",
            "[['secretario gener', 1.0138859441746992], ['responsabilidad política', 1.2085703964234895], ['resolv problema', 1.4159592312138722], ['compañía telefónica', 1.5435450586140915], ['semana pasada', 1.5509572480040419]]\n",
            "Año: 2000\n",
            "[['número formula', -2.914080777168411], ['pesca alimentación', -2.3721190065299678], ['socialista formula', -2.2661792715207603], ['si ss', -2.1383999088831467], ['equilibrio presupuestario', -2.132387707140306]]\n",
            "[['moción consecuencia', 0.9665711146359951], ['diario sesion', 1.091266875999447], ['familia española', 1.2105125295038053], ['país europeo', 1.2187488245407365], ['billon peseta', 1.8163978509455831]]\n",
            "Año: 2001\n",
            "[['número formula', -3.571835150618477], ['pesca alimentación', -3.0204387919314786], ['congreso formula', -2.9885347937879265], ['si ss', -2.841457490941685], ['ruego concluya', -2.78543151458405]]\n",
            "[['responsabilidad política', 1.1844532957117901], ['ciudadano español', 1.21613185698124], ['último mese', 1.3430847142656712], ['ministra educación', 1.7160209523403087], ['vaca loca', 2.9505923822110747]]\n",
            "Año: 2002\n",
            "[['cultura deport', -4.064690223465376], ['número formula', -3.742774290826331], ['portavoz socialista', -3.4754278042470377], ['ocupen escaño', -2.3476128225662563], ['creación empleo', -2.266984207715994]]\n",
            "[['huelga gener', 1.3584611703664224], ['medio comunicación', 1.5096981247117078], ['hace mese', 1.76309400822958], ['resolv problema', 1.7830941745017754], ['comisión investigación', 1.868875940248627]]\n",
            "Año: 2003\n",
            "[['alianza atlántica', -5.540043798830704], ['número formula', -3.706496671443028], ['nombr popular', -3.44354721656353], ['ocupen escaño', -3.0039575800452023], ['nombr catalán', -2.7098421378890474]]\n",
            "[['millon peseta', 1.1353194929587012], ['poder público', 1.2125652538846727], ['cort general', 1.277142332090057], ['seguridad ciudadana', 1.2986519569925814], ['guerra irak', 1.923952313469125]]\n",
            "Año: 2004\n",
            "[['portavoz socialista', -2.4711701558915964], ['rodríguez zapatero', -2.204461656329654], ['saber si', -1.708935597231745], ['pasada legislatura', -1.592257101821616], ['quiero recordar', -0.9532150521154802]]\n",
            "[['texto dictamen', 1.6729224395891273], ['diputada doña', 1.8462614954144914], ['legalidad internacion', 1.8771918672287027], ['derecho fundamental', 2.0602603816524963], ['precio petróleo', 2.5939100335435255]]\n",
            "Año: 2005\n",
            "[['rodríguez zapatero', -2.399952064390412], ['portavoz socialista', -2.33273119885419], ['política inmigración', -1.3754200053037091], ['digit terrestr', -1.3011858520530541], ['ministra fomento', -1.293776757539787]]\n",
            "[['portavoz popular', 1.711719541366415], ['hombr mujer', 1.8076422208223517], ['diputada doña', 1.8562185795638038], ['izquierda verd', 1.975733435926584], ['nombr socialista', 4.1975314974352305]]\n",
            "Año: 2006\n",
            "[['rodríguez zapatero', -2.236488750076896], ['portavoz socialista', -2.1976718200035874], ['fiscal gener', -1.9262127348651388], ['toda españa', -1.3952255577587498], ['medio comunicación', -1.3749440763241783]]\n",
            "[['turismo comercio', 1.6088219653375146], ['sección relativo', 1.7107140581452496], ['tiempo concluido', 1.87074260147572], ['diputada doña', 1.9116129121219332], ['portavoz popular', 3.649032586651834]]\n",
            "Año: 2007\n",
            "[['rodríguez zapatero', -2.242842850534168], ['cien cien', -1.3481078345558681], ['constitución española', -1.3381342243194914], ['consejo gener', -1.326764525930047], ['poder adquisitivo', -1.1316099556794648]]\n",
            "[['diputada doña', 2.040940389838966], ['tiempo concluido', 2.25756289613947], ['partir ahí', 2.6924339272801987], ['nombr socialista', 2.8423696744273044], ['administración justicia', 4.353731102267483]]\n",
            "Año: 2008\n",
            "[['ciudadano español', -2.4290149632215647], ['tomar medida', -2.3385928313634854], ['rodríguez zapatero', -1.968421979534646], ['crisi económica', -1.6990806457357561], ['política inmigración', -1.5479074767069687]]\n",
            "[['ir acabando', 1.7528364691772098], ['cohesión social', 2.1833646388558217], ['catalunya verd', 2.2290962855268495], ['turismo comercio', 2.6350324118842456], ['puedo asegurar', 3.148437288475546]]\n",
            "Año: 2009\n",
            "[['millon parado', -3.6284237623703337], ['tan solo', -2.5382753864854855], ['rodríguez zapatero', -2.4717984910842845], ['tasa paro', -2.382408753135779], ['subida impuesto', -2.188423471360853]]\n",
            "[['ciento pib', 1.8522896244148728], ['entidad local', 2.237661038244353], ['organismo internacional', 2.4156871373108717], ['puesta marcha', 2.671914574101682], ['modelo crecimiento', 3.1325511617528328]]\n",
            "Año: 2010\n",
            "[['recort social', -3.966912263541546], ['rodríguez zapatero', -3.5233290112439866], ['ministerio fomento', -1.628628467326199], ['derecho social', -1.5810304937528896], ['medio plazo', -1.5397300641085359]]\n",
            "[['turismo comercio', 1.9636185043770804], ['reducción déficit', 2.091405987380229], ['josé lui', 2.390170711419905], ['consejo europeo', 3.04474656766577], ['consolidación fiscal', 3.865898820470725]]\n",
            "Año: 2011\n",
            "[['millon parado', -3.7760925228627404], ['rodríguez zapatero', -2.489414132102213], ['responsabilidad política', -1.5869968230066183], ['junta andalucía', -1.5281376867767584], ['estabilidad presupuestaria', -1.4426962304111106]]\n",
            "[['acabado tiempo', 1.500228733410491], ['económico social', 1.5397581820491044], ['social igualdad', 1.8691617583456712], ['popular medida', 1.8961724466572416], ['interlocutor social', 2.0629716875600663]]\n",
            "Año: 2012\n",
            "[['económico creación', -4.297558020656472], ['economía competitividad', -2.6873296439056364], ['toda administracion', -2.6078355217668974], ['reforma estructural', -2.4036173065172672], ['partir ahí', -2.184156145886761]]\n",
            "[['política crecimiento', 1.5028918993447895], ['ministerio hacienda', 1.7199995952598435], ['activa empleo', 2.243421904829679], ['cohesión social', 2.491389726792683], ['amnistía fiscal', 2.557871826003578]]\n",
            "Año: 2013\n",
            "[['pérez rubalcaba', -3.046573946501659], ['proyecto orgánica', -2.7900200627648752], ['cultura deport', -2.2640471300678953], ['social igualdad', -2.229769639189495], ['diputada doña', -2.137088814237234]]\n",
            "[['deuda pública', 1.4762975469882396], ['sanidad pública', 1.7646700399806396], ['sistema público', 2.124371191058846], ['portavoz popular', 2.2143249800343856], ['amnistía fiscal', 2.2738214326934583]]\n",
            "Año: 2014\n",
            "[['social igualdad', -3.964292427579708], ['quiero decirl', -3.6548910758904807], ['seguir trabajando', -3.375185933422114], ['reforma estructural', -3.0177014906864237], ['energía turismo', -2.6657918984306614]]\n",
            "[['ministra sanidad', 1.236676243612145], ['casi millon', 1.3857673044171563], ['libertad mujer', 1.4386540686414613], ['dar respuesta', 1.6556247685856462], ['sanidad pública', 1.8434849222807304]]\n",
            "Año: 2015\n",
            "[['quiero decirl', -3.182982875383652], ['creando empleo', -2.0562973133313833], ['creación empleo', -1.933666457576294], ['situación económica', -1.7301801167953184], ['aprobada artículo', -1.724943270386638]]\n",
            "[['comunidad valenciana', 1.2169169463236342], ['medio comunicación', 1.2473885912187053], ['clase media', 1.3407624043033821], ['consideración proposición', 1.390544080383], ['reforma labor', 1.6860298728847893]]\n",
            "Año: 2016\n",
            "[['unido podemosen', -5.137382695429211], ['social igualdad', -1.9964608252309635], ['creación empleo', -1.77160022883992], ['vasco pnv', -1.719412770353], ['millon español', -1.4477167667050668]]\n",
            "[['van tener', 1.160311379617093], ['fernández díaz', 1.3653637665786624], ['debat investidura', 1.393484569757788], ['comú podemen', 1.5725118670406912], ['español española', 2.8037628286052603]]\n",
            "Año: 2017\n",
            "[['creación empleo', -3.784429935089158], ['alimentación medio', -2.4508925971194735], ['partir ahí', -2.3893333973441497], ['social igualdad', -2.081963698426089], ['duda alguna', -1.930546339920556]]\n",
            "[['dar respuesta', 1.454915624238631], ['buena tard', 1.5633754304018688], ['caso corrupción', 1.7426572740775867], ['larga duración', 1.8872390957385792], ['amnistía fiscal', 2.9741100542843926]]\n",
            "Año: 2018\n",
            "[['ministra adelant', -3.2915361259877223], ['vasco pnv', -2.927945144001029], ['transaccion presentada', -2.677528695566255], ['acuerd convocatoria', -2.5209104908728674], ['popular adelant', -2.494287551450224]]\n",
            "[['política fiscal', 1.7288979225295928], ['popular ciudadano', 1.7582323063531404], ['cohesión social', 1.8079030367912814], ['ciudadano ciudadana', 2.2834846370021653], ['senda estabilidad', 3.4371839513807485]]\n",
            "Año: 2019\n",
            "[['ministra adelant', -2.8665569222416685], ['confeder unido', -2.1722202589538866], ['pasamo ahora', -2.0902540895845423], ['popular congreso', -1.7693088621380426], ['crisi económica', -1.6815679395731402]]\n",
            "[['popular ciudadano', 1.9198428772498528], ['pesca alimentación', 2.0200344358658535], ['candidato presidencia', 2.2302902504915734], ['borrà castany', 2.6241767704782517], ['confeder unida', 3.0212946792599786]]\n"
          ]
        }
      ]
    },
    {
      "cell_type": "code",
      "source": [],
      "metadata": {
        "id": "Bg9_zWOIbYHC"
      },
      "execution_count": null,
      "outputs": []
    },
    {
      "cell_type": "markdown",
      "source": [
        "# LASSO con TF-IDF"
      ],
      "metadata": {
        "id": "52mR8byGbdpo"
      }
    },
    {
      "cell_type": "code",
      "source": [
        "from sklearn.feature_extraction.text import TfidfVectorizer\n",
        "cv=TfidfVectorizer(ngram_range=[2,2], max_features=200, stop_words=stopwords, max_df=0.95, min_df=0.01)\n",
        "vec = cv.fit(X_train['tokens'])"
      ],
      "metadata": {
        "id": "rsMtQWjhbZzE"
      },
      "execution_count": 58,
      "outputs": []
    },
    {
      "cell_type": "code",
      "source": [
        "train_matrix = vec.fit_transform(X_train['tokens'])\n",
        "test_matrix = vec.transform(X_test['tokens'])"
      ],
      "metadata": {
        "id": "WrmzdT4FbZzG"
      },
      "execution_count": 59,
      "outputs": []
    },
    {
      "cell_type": "code",
      "source": [
        "from sklearn.linear_model import LogisticRegression\n",
        "from sklearn.metrics import confusion_matrix,classification_report\n",
        "import numpy as np"
      ],
      "metadata": {
        "id": "DenIM3DkbZzH"
      },
      "execution_count": 60,
      "outputs": []
    },
    {
      "cell_type": "code",
      "source": [
        "lr = LogisticRegression(penalty='l1', max_iter=1000, solver='liblinear')"
      ],
      "metadata": {
        "id": "9LTcGrHHbZzH"
      },
      "execution_count": 61,
      "outputs": []
    },
    {
      "cell_type": "code",
      "source": [
        "lr.fit(train_matrix,y_train)"
      ],
      "metadata": {
        "colab": {
          "base_uri": "https://localhost:8080/"
        },
        "outputId": "97349937-46f8-4275-c377-2a30d4433c11",
        "id": "ztYbiMdGbZzI"
      },
      "execution_count": 62,
      "outputs": [
        {
          "output_type": "execute_result",
          "data": {
            "text/plain": [
              "LogisticRegression(max_iter=1000, penalty='l1', solver='liblinear')"
            ]
          },
          "metadata": {},
          "execution_count": 62
        }
      ]
    },
    {
      "cell_type": "code",
      "source": [
        "predictions = lr.predict(test_matrix)"
      ],
      "metadata": {
        "id": "3jUmIHmLbZzJ"
      },
      "execution_count": 63,
      "outputs": []
    },
    {
      "cell_type": "code",
      "source": [
        "new = np.asarray(y_test)\n",
        "confusion_matrix(predictions,y_test)"
      ],
      "metadata": {
        "colab": {
          "base_uri": "https://localhost:8080/"
        },
        "outputId": "ddb554e0-f215-4670-b0b4-62363604edc9",
        "id": "W2vtgUPHbZzJ"
      },
      "execution_count": 64,
      "outputs": [
        {
          "output_type": "execute_result",
          "data": {
            "text/plain": [
              "array([[ 86,  25],\n",
              "       [348, 498]])"
            ]
          },
          "metadata": {},
          "execution_count": 64
        }
      ]
    },
    {
      "cell_type": "code",
      "source": [
        "print(classification_report(predictions,y_test))"
      ],
      "metadata": {
        "colab": {
          "base_uri": "https://localhost:8080/"
        },
        "outputId": "90d1529a-e19c-4790-e8da-86d1e19aed4e",
        "id": "W8WPUhpXbZzK"
      },
      "execution_count": 65,
      "outputs": [
        {
          "output_type": "stream",
          "name": "stdout",
          "text": [
            "              precision    recall  f1-score   support\n",
            "\n",
            "          PP       0.20      0.77      0.32       111\n",
            "        PSOE       0.95      0.59      0.73       846\n",
            "\n",
            "    accuracy                           0.61       957\n",
            "   macro avg       0.58      0.68      0.52       957\n",
            "weighted avg       0.86      0.61      0.68       957\n",
            "\n"
          ]
        }
      ]
    },
    {
      "cell_type": "code",
      "source": [
        "# Relevancia de bigramas en la predicción\n",
        "features=[]\n",
        "for i,v in enumerate(lr.coef_[0]):\n",
        "  features.append([vec.get_feature_names_out()[i],v ])"
      ],
      "metadata": {
        "id": "7LE6JRLCbZzK"
      },
      "execution_count": 66,
      "outputs": []
    },
    {
      "cell_type": "code",
      "source": [
        "sorted(features, key = lambda x: x[1])"
      ],
      "metadata": {
        "colab": {
          "base_uri": "https://localhost:8080/"
        },
        "outputId": "2e205cdd-3802-428d-c56e-053b00e2fe7b",
        "id": "Iwe2fbeabZzL"
      },
      "execution_count": 67,
      "outputs": [
        {
          "output_type": "execute_result",
          "data": {
            "text/plain": [
              "[['confeder unido', -3.36855297337473],\n",
              " ['unido podemosen', -2.883868201313834],\n",
              " ['convalidación derogación', -2.4930200101548263],\n",
              " ['procedimiento urgencia', -2.257112017990388],\n",
              " ['popular congreso', -2.070312897303674],\n",
              " ['miembro diputación', -1.6573268043803395],\n",
              " ['pedro sánchez', -0.9160940175881511],\n",
              " ['extraordinaria comisión', -0.845742643625791],\n",
              " ['fijación posicion', -0.6803056848013024],\n",
              " ['moción censura', -0.6661584214044626],\n",
              " ['hace mese', -0.664424303795903],\n",
              " ['medio comunicación', -0.05475345972033599],\n",
              " ['comú podemen', -0.012575975965843568],\n",
              " ['podemen marea', -0.007872898902254712],\n",
              " ['acuerd convocatoria', 0.0],\n",
              " ['ahora mismo', 0.0],\n",
              " ['artículo constitución', 0.0],\n",
              " ['buena tard', 0.0],\n",
              " ['cambio climático', 0.0],\n",
              " ['comisión europea', 0.0],\n",
              " ['comunidad autónoma', 0.0],\n",
              " ['comú podemgalicia', 0.0],\n",
              " ['convocatoria extraordinaria', 0.0],\n",
              " ['cuerpo seguridad', 0.0],\n",
              " ['derecho libertad', 0.0],\n",
              " ['fuerza cuerpo', 0.0],\n",
              " ['legarda uriart', 0.0],\n",
              " ['llegar acuerdo', 0.0],\n",
              " ['medida urgent', 0.0],\n",
              " ['ministra hacienda', 0.0],\n",
              " ['podemgalicia común', 0.0],\n",
              " ['podemosen comú', 0.0],\n",
              " ['política social', 0.0],\n",
              " ['proyecto procedimiento', 0.0],\n",
              " ['reino unido', 0.0],\n",
              " ['salario mínimo', 0.0],\n",
              " ['seguridad social', 0.0],\n",
              " ['sociedad española', 0.0],\n",
              " ['tan important', 0.0],\n",
              " ['tribun constitucion', 0.0],\n",
              " ['violencia género', 0.0],\n",
              " ['último mese', 0.0],\n",
              " ['relacion cort', 0.0005074572507534116],\n",
              " ['crecimiento económico', 0.02775043713731169],\n",
              " ['presupuesto general', 0.09380559700172472],\n",
              " ['unida podemosen', 0.26086708946208237],\n",
              " ['constitución española', 0.27254197502521116],\n",
              " ['estatuto autonomía', 0.34267925112853087],\n",
              " ['unión europea', 0.41044233409608966],\n",
              " ['transición ecológica', 0.41338694150899336],\n",
              " ['diputación permanent', 0.7240303772564071],\n",
              " ['interé gener', 0.8396679799970788],\n",
              " ['vasco legarda', 0.8698013217595276],\n",
              " ['mínimo interprofesion', 1.3056873769243038],\n",
              " ['cualquier caso', 1.328874039792875],\n",
              " ['dar respuesta', 1.3583638856469082],\n",
              " ['servicio público', 1.47377414566205],\n",
              " ['cort igualdad', 1.5823602138887307],\n",
              " ['fuerza política', 1.6434631150891938],\n",
              " ['unida podemo', 1.7398230113976347],\n",
              " ['pesca alimentación', 1.8393994267182945],\n",
              " ['migracion seguridad', 1.8690756509277462],\n",
              " ['adoptan medida', 1.9110917816970037],\n",
              " ['popular ciudadano', 2.786172299000936],\n",
              " ['confeder unida', 5.799628711914779]]"
            ]
          },
          "metadata": {},
          "execution_count": 67
        }
      ]
    },
    {
      "cell_type": "code",
      "source": [
        "# Entiendo que un número negativo en el coeficiente implica que el bigrama correlaciona bien con la clase 0, es decir PP. Por el otro lado, un coeficiente positivo implica que el bigrama correlaciona mejor con PSOE. \n",
        "lr.classes_"
      ],
      "metadata": {
        "colab": {
          "base_uri": "https://localhost:8080/"
        },
        "outputId": "c50434ed-5ac9-41ee-8a9e-761c09ecf8b2",
        "id": "O5HVbadYbZzL"
      },
      "execution_count": 68,
      "outputs": [
        {
          "output_type": "execute_result",
          "data": {
            "text/plain": [
              "array(['PP', 'PSOE'], dtype=object)"
            ]
          },
          "metadata": {},
          "execution_count": 68
        }
      ]
    },
    {
      "cell_type": "code",
      "source": [
        "# LASOO por año\n",
        "from sklearn.metrics import f1_score\n",
        "\n",
        "macro=[]\n",
        "weighted=[]\n",
        "\n",
        "lr = LogisticRegression(penalty='l1', max_iter=1000, solver='liblinear')\n",
        "\n",
        "for x in range(1979,2019): \n",
        "  try: \n",
        "    base_year=base[pd.DatetimeIndex(base.fecha).year==x]\n",
        "    X_train, X_test, y_train, y_test = train_test_split(base_year.loc[:, base_year.columns != 'party'], base_year['party'], test_size=0.33, random_state=42)\n",
        "    train_matrix = vec.fit_transform(X_train['tokens'])\n",
        "    test_matrix = vec.transform(X_test['tokens'])  \n",
        "    lr.fit(train_matrix,y_train)\n",
        "    predictions = lr.predict(test_matrix )\n",
        "    macro.append(f1_score(predictions,y_test, average='macro'))\n",
        "    weighted.append(f1_score(predictions,y_test, average='weighted'))\n",
        "  except: \n",
        "    macro.append(np.nan)\n",
        "    weighted.append(np.nan)"
      ],
      "metadata": {
        "id": "zT3jfb3PbZzM"
      },
      "execution_count": 69,
      "outputs": []
    },
    {
      "cell_type": "code",
      "source": [
        "# Yo entiendo que el resultado relevante es el macro, porque considera el desbalance de clases\n",
        "import matplotlib.pyplot as plt\n",
        "plt.plot(range(1979,2019), macro, marker='o')\n",
        "plt.plot(range(1979,2019), weighted, marker='+')"
      ],
      "metadata": {
        "colab": {
          "base_uri": "https://localhost:8080/",
          "height": 282
        },
        "outputId": "0c30d8f7-9054-4a59-c409-a28637cf9125",
        "id": "7wf8NOWbbZzM"
      },
      "execution_count": 70,
      "outputs": [
        {
          "output_type": "execute_result",
          "data": {
            "text/plain": [
              "[<matplotlib.lines.Line2D at 0x7f6397995e50>]"
            ]
          },
          "metadata": {},
          "execution_count": 70
        },
        {
          "output_type": "display_data",
          "data": {
            "text/plain": [
              "<Figure size 432x288 with 1 Axes>"
            ],
            "image/png": "[encoded data removed]"
          },
          "metadata": {
            "needs_background": "light"
          }
        }
      ]
    },
    {
      "cell_type": "code",
      "source": [
        "# LASOO por legislatura\n",
        "macro=[]\n",
        "weighted=[]\n",
        "\n",
        "lr = LogisticRegression(penalty='l1', max_iter=1000, solver='liblinear')\n",
        "legislaturas=['I', 'II', 'III', 'IV', 'V', 'VI', 'VII','VIII', 'IX', 'X', 'XI', 'XII','XIII']\n",
        "\n",
        "for x in legislaturas: \n",
        "  try: \n",
        "    base_year=base[base.legislatura==x]\n",
        "    X_train, X_test, y_train, y_test = train_test_split(base_year.loc[:, base_year.columns != 'party'], base_year['party'], test_size=0.33, random_state=42)\n",
        "    train_matrix = vec.fit_transform(X_train['tokens'])\n",
        "    test_matrix = vec.transform(X_test['tokens'])  \n",
        "    lr.fit(train_matrix,y_train)\n",
        "    predictions = lr.predict(test_matrix )\n",
        "    macro.append(f1_score(predictions,y_test, average='macro'))\n",
        "    weighted.append(f1_score(predictions,y_test, average='weighted'))\n",
        "  except: \n",
        "    macro.append(np.nan)\n",
        "    weighted.append(np.nan)"
      ],
      "metadata": {
        "id": "lD5_-tTNbZzN"
      },
      "execution_count": 71,
      "outputs": []
    },
    {
      "cell_type": "code",
      "source": [
        "# Yo entiendo que el resultado relevante es el macro, porque considera el desbalance de clases\n",
        "import matplotlib.pyplot as plt\n",
        "plt.plot(legislaturas, macro, marker='o')\n",
        "plt.plot(legislaturas, weighted, marker='+')"
      ],
      "metadata": {
        "colab": {
          "base_uri": "https://localhost:8080/",
          "height": 282
        },
        "outputId": "c99a0356-1b35-4d49-da4b-4274ebd85ddd",
        "id": "N5aHbMQHbZzO"
      },
      "execution_count": 72,
      "outputs": [
        {
          "output_type": "execute_result",
          "data": {
            "text/plain": [
              "[<matplotlib.lines.Line2D at 0x7f6377efd050>]"
            ]
          },
          "metadata": {},
          "execution_count": 72
        },
        {
          "output_type": "display_data",
          "data": {
            "text/plain": [
              "<Figure size 432x288 with 1 Axes>"
            ],
            "image/png": "[encoded data removed]"
          },
          "metadata": {
            "needs_background": "light"
          }
        }
      ]
    },
    {
      "cell_type": "code",
      "source": [
        "# Relevancia de bigramas en la predicción por año\n",
        "for x in range (1979, 2020): \n",
        "  base_year=base[pd.DatetimeIndex(base.fecha).year==x]\n",
        "  X_train, X_test, y_train, y_test = train_test_split(base_year.loc[:, base_year.columns != 'party'], base_year['party'], test_size=0.33, random_state=42)\n",
        "  train_matrix = vec.fit_transform(X_train['tokens'])\n",
        "  test_matrix = vec.transform(X_test['tokens'])\n",
        "  lr = LogisticRegression(penalty='l1', max_iter=1000, solver='liblinear')\n",
        "  lr.fit(train_matrix,y_train)\n",
        "  predictions = lr.predict(test_matrix )\n",
        "  features=[]\n",
        "  for i,v in enumerate(lr.coef_[0]):\n",
        "    features.append([vec.get_feature_names_out()[i],v ])\n",
        "  sor=sorted(features, key = lambda x: x[1])\n",
        "  print(f\"Año: {x}\")\n",
        "  print(sor[:5])\n",
        "  print(sor[-5:])"
      ],
      "metadata": {
        "outputId": "db586458-dcb5-44cd-80a4-1cbcf7d6ad3f",
        "colab": {
          "base_uri": "https://localhost:8080/"
        },
        "id": "51NY-xeJbZzO"
      },
      "execution_count": 73,
      "outputs": [
        {
          "output_type": "stream",
          "name": "stdout",
          "text": [
            "Año: 1979\n",
            "[['publicada boletín', -4.064068832330456], ['coalición democrática', -2.5065289082281965], ['hace falta', -1.2848037333025737], ['precedido uso', -1.2670423586128625], ['economía mercado', -1.2416589608540307]]\n",
            "[['formacion política', 1.5817231536018392], ['convenio colectivo', 1.6424360393530724], ['comité empresa', 1.6553630906046206], ['estatuto trabajador', 1.7372926374421216], ['centro democrático', 1.940902323007217]]\n",
            "Año: 1980\n",
            "[['aprobado artículo', -3.636391918940333], ['senado artículo', -2.624519608525235], ['artículo pausa', -2.3777958808006567], ['número socialista', -2.051087711690793], ['figura dictamen', -1.5831316671075268]]\n",
            "[['artículo dice', 2.2646581577276126], ['director gener', 2.421075678771681], ['formación profesion', 2.5059505677588043], ['tan sólo', 2.747291974565159], ['justicia militar', 3.2732037962158906]]\n",
            "Año: 1981\n",
            "[['impuesto renta', -1.9055718074892594], ['coalición democrática', -1.3968376298296612], ['frail poujad', -1.2470003802818257], ['redacción artículo', -0.8597285996511063], ['poder público', -0.6825282223928713]]\n",
            "[['pedimo separada', 1.842845990587849], ['ministerio fiscal', 1.919953856507981], ['unión centro', 2.041325897263733], ['millon peseta', 2.210331171122577], ['ningún tipo', 2.448216178731083]]\n",
            "Año: 1982\n",
            "[['solé tura', -2.579232641321742], ['función fiscalizadora', -2.4808951154741528], ['castillala mancha', -2.1059042449943535], ['pueblo español', -1.7482039580171445], ['sector público', -1.7220607836063617]]\n",
            "[['código penal', 0.9876191064267945], ['nombr socialista', 0.989287771442557], ['bravo laguna', 1.0745905504158373], ['separada artículo', 1.1321794324234025], ['millon peseta', 1.2575923461359262]]\n",
            "Año: 1983\n",
            "[['puesto trabajo', -1.8104731159684686], ['banco españa', -1.659966334844182], ['tribun constitucion', -1.5318047239277301], ['millon peseta', -1.4756092050376384], ['código penal', -1.4212930546209355]]\n",
            "[['ruiz gallardón', 2.743024427261098], ['consiguient aprobado', 2.788820691564429], ['tiempo máximo', 3.011041830252362], ['pausa nulo', 3.2728887239412856], ['acuerdo dictamen', 3.395533928241807]]\n",
            "Año: 1984\n",
            "[['puesto trabajo', -1.8985751550822814], ['presupuesto general', -1.6944034186689982], ['función pública', -1.640528952260832], ['comunidad económica', -1.6388356855366522], ['alguna manera', -1.459455731411787]]\n",
            "[['conform dictamen', 2.5004200234033997], ['artículo pausa', 2.7657162236807995], ['vaya terminando', 2.828674686135777], ['vasco pnv', 3.0413658125115863], ['pausa nulo', 3.3403423670116132]]\n",
            "Año: 1985\n",
            "[['económica europea', -2.247342959772601], ['artículo proyecto', -2.1959455331842945], ['opinión pública', -2.1248615827992103], ['artículo constitución', -1.8540333966053137], ['presupuesto general', -1.8294953948128168]]\n",
            "[['tría be', 2.5007831131343217], ['bravo laguna', 2.73705412799407], ['mixto suscrita', 2.988855922146813], ['senado artículo', 3.1639852498636034], ['conform dictamen', 4.181218998809698]]\n",
            "Año: 1986\n",
            "[['pueblo español', -2.609803587322363], ['tan important', -2.5890553903496283], ['millon peseta', -2.2040843549665214], ['cámara agraria', -2.1944680075162752], ['función pública', -2.1432856296015776]]\n",
            "[['coalición popular', 1.0221953160031902], ['vasco pnv', 1.2237614793871787], ['unidaesquerra catalana', 1.3993662123300337], ['ruego concluya', 1.6655811108064347], ['dictamen comisión', 1.7469671099946809]]\n",
            "Año: 1987\n",
            "[['portavoz socialista', -3.5386434151222383], ['sociedad española', -2.5170668008330823], ['pueblo español', -2.4405572075910467], ['opinión pública', -2.2953401717691326], ['económica europea', -2.2152557726098028]]\n",
            "[['pérez dobón', 1.8231505786778788], ['pausa nulo', 2.18076879988678], ['bravo laguna', 2.607936540432632], ['ruego concluya', 2.6167853967645676], ['agrupación izquierda', 3.410410293412527]]\n",
            "Año: 1988\n",
            "[['tan important', -2.936198713617105], ['director gener', -2.5316403975270205], ['opinión pública', -2.3713951320345616], ['sociedad española', -2.3624781358640536], ['presupuesto general', -1.9792456941837946]]\n",
            "[['bravo laguna', 1.7550450232592556], ['pérez dobón', 2.1431830180585405], ['vasco pnv', 2.371949554869973], ['ruego concluya', 2.6576582501269823], ['dictamen comisión', 3.201986245097025]]\n",
            "Año: 1989\n",
            "[['sociedad española', -2.748761130109988], ['opinión pública', -2.3910999062632037], ['tribun constitucion', -2.1575728792962305], ['comunidad europea', -1.773627037319281], ['medio comunicación', -1.6983193579485072]]\n",
            "[['vasco pnv', 1.0695347184983501], ['minoría catalana', 1.2544028795865767], ['desean fijar', 1.31413429845256], ['agrupación izquierda', 1.6004275572968993], ['ruego concluya', 2.3118303244938456]]\n",
            "Año: 1990\n",
            "[['banco derecha', -5.424031587179387], ['comunidad económica', -2.7212686007730533], ['sociedad española', -2.2503867230776033], ['cualquier caso', -2.074833479039252], ['millon peseta', -2.010932460772751]]\n",
            "[['izquierda per', 1.6022568106121737], ['popular pausa', 1.7394380522616473], ['dictamen comisión', 1.8085093145839406], ['catalán vergencia', 2.595495212384879], ['ruego concluya', 3.360766060915426]]\n",
            "Año: 1991\n",
            "[['aplauso banco', -2.90927775733268], ['artículo constitución', -2.3859450045478763], ['sector público', -2.2661976980445937], ['comunidad económica', -2.1484150593722084], ['medio comunicación', -2.109673649075945]]\n",
            "[['per catalunya', 1.4401108256313984], ['desean fijar', 1.5071283229346952], ['catalán vergencia', 1.6040682718923776], ['vasco pnv', 1.9646878757445385], ['ruego concluya', 2.349292475197744]]\n",
            "Año: 1992\n",
            "[['aplauso banco', -2.724500196452746], ['sociedad española', -2.4176997857515357], ['comunidad económica', -2.382170330131683], ['hace falta', -2.239633737203282], ['medio comunicación', -2.188845581935806]]\n",
            "[['aprobado dictamen', 2.0978987776600877], ['vasco pnv', 2.213384096755126], ['garcía fonseca', 2.6241896450219775], ['per catalunya', 3.15969387808822], ['ruego concluya', 3.4269691783514933]]\n",
            "Año: 1993\n",
            "[['sociedad española', -2.7564855240871635], ['puesto trabajo', -2.7050775378570284], ['ningún tipo', -2.1518262395905676], ['crisi económica', -2.0997065769719945], ['medio comunicación', -1.9652191104095826]]\n",
            "[['gonzález lizondo', 2.077550236378456], ['desean fijar', 2.128477912041591], ['aprobado dictamen', 2.238805639019238], ['per catalunya', 2.939878690982616], ['ruego concluya', 3.0132618043143604]]\n",
            "Año: 1994\n",
            "[['presupuesto general', -2.2299310613334375], ['millon peseta', -2.158302568066847], ['medio comunicación', -2.015279834354002], ['artículo constitución', -1.6240093209639066], ['política económica', -1.5862474081024727]]\n",
            "[['vaya concluyendo', 2.4431980110125955], ['aprobado dictamen', 2.997890026321159], ['per catalunya', 3.1428453479097316], ['ruego concluya', 3.146349603304918], ['congreso formula', 3.463710116302694]]\n",
            "Año: 1995\n",
            "[['sociedad española', -2.1054067982704456], ['unión europea', -1.9520084475802906], ['millon peseta', -1.7434001812036837], ['opinión pública', -1.6949666159547983], ['izquierda unida', -1.6753151193413542]]\n",
            "[['gil lázaro', 2.2513959492651208], ['aprobado dictamen', 2.4178493773588707], ['per catalunya', 2.699721194744012], ['ruego concluya', 2.8306944770907525], ['congreso formula', 3.6270925690487417]]\n",
            "Año: 1996\n",
            "[['ruego vaya', -4.676767185442703], ['número formula', -3.532264597060593], ['congreso formula', -3.276504093086816], ['ruego concluya', -2.0734862719441876], ['tipo interé', -2.0385036345609877]]\n",
            "[['medio comunicación', 1.324684405404277], ['millon peseta', 1.3936306588921281], ['política social', 1.453867379615178], ['tribun constitucion', 1.4559391253856284], ['portavoz popular', 3.3837200718667173]]\n",
            "Año: 1997\n",
            "[['número formula', -4.4843298005174095], ['ruego vaya', -3.200819600656926], ['fijar nombr', -1.902642276548152], ['feder izquierda', -1.1520855746544412], ['ruego concluya', -1.0455988726499614]]\n",
            "[['convergència unió', 1.0411399926998066], ['poder judici', 1.1398155376302375], ['tan important', 1.538077394649085], ['medio comunicación', 1.6981136252616018], ['artículo constitución', 1.7341787620864952]]\n",
            "Año: 1998\n",
            "[['ruego vaya', -3.5197100630488483], ['fijar nombr', -3.2567354994140674], ['número formula', -2.4068275311398653], ['congreso formula', -1.5816664490986236], ['portavoz socialista', -1.5126148988886274]]\n",
            "[['sociedad española', 1.122378683740704], ['millon peseta', 1.1426053353315895], ['tan important', 1.6470024195132045], ['diario sesion', 1.9423000815695448], ['medio comunicación', 2.1746454393554044]]\n",
            "Año: 1999\n",
            "[['fijar nombr', -3.908972196434599], ['ruego vaya', -3.4705653884447822], ['número formula', -2.8301891862523405], ['nombr popular', -2.6968415242226795], ['congreso formula', -2.4594472447400246]]\n",
            "[['diario sesion', 0.8080584849659155], ['vaya concluyendo', 0.9651299557756278], ['millon peseta', 1.1678755773536387], ['servicio público', 1.3403617951783], ['medio comunicación', 1.9456655008370451]]\n",
            "Año: 2000\n",
            "[['número formula', -3.3676295943314574], ['portavoz socialista', -2.775359943394474], ['equilibrio presupuestario', -2.3592692037944705], ['socialista formula', -2.2238125155597963], ['popular congreso', -2.194934118820414]]\n",
            "[['comisión europea', 1.7119737123926826], ['medio comunicación', 1.7664007551879808], ['opinión pública', 1.8227265261782253], ['tan important', 1.8443814206506233], ['consecuencia interpelación', 1.9472868764636644]]\n",
            "Año: 2001\n",
            "[['número formula', -4.130525985699085], ['pesca alimentación', -4.03065537155386], ['congreso formula', -3.926539236177516], ['socialista formula', -2.884508346321844], ['ruego concluya', -2.7947101737734834]]\n",
            "[['presupuesto general', 1.3561755497465304], ['sociedad española', 1.3933394426787937], ['medio comunicación', 1.5021021744762808], ['opinión pública', 1.7609712110594335], ['ministra sanidad', 2.389960932243216]]\n",
            "Año: 2002\n",
            "[['número formula', -4.427364671623736], ['cultura deport', -3.0464701055247225], ['presentación defensa', -2.695417999122856], ['feder izquierda', -2.4432414332786982], ['ocupen escaño', -2.3976989571599194]]\n",
            "[['unión europea', 1.2472825566259942], ['convergència unió', 1.4591672822543555], ['millon peseta', 1.5182775841393734], ['izquierda unida', 1.6785892756783019], ['medio comunicación', 2.304746146864678]]\n",
            "Año: 2003\n",
            "[['número formula', -4.57126974281612], ['nombr popular', -3.486389090752659], ['nombr catalán', -3.0554820258572777], ['ocupen escaño', -2.7544027206372617], ['interpelación urgent', -2.3122630649504754]]\n",
            "[['nacion unida', 1.4571383986996465], ['convergència unió', 1.5009599584336297], ['moción consecuencia', 1.5274516832406277], ['medio comunicación', 1.6474452870501912], ['opinión pública', 2.5501754437788398]]\n",
            "Año: 2004\n",
            "[['rodríguez zapatero', -3.45275243989002], ['política económica', -2.2746143732440336], ['programa elector', -2.1159567322602695], ['presupuesto general', -1.7016294994164276], ['medio comunicación', -1.5368351663418243]]\n",
            "[['fijación posicion', 1.3487798395894346], ['texto dictamen', 1.7858344967186721], ['catalunya verd', 1.7948331109687172], ['diputada doña', 1.8664606903859668], ['popular congreso', 1.8920765440684537]]\n",
            "Año: 2005\n",
            "[['rodríguez zapatero', -3.351482729284996], ['medio comunicación', -2.506667566367105], ['ciudadano español', -2.0238070753077237], ['diario sesion', -1.776463892549656], ['cualquier caso', -1.6153065823910098]]\n",
            "[['coalición canaria', 0.9554226283222419], ['popular congreso', 1.2078367245554842], ['verdeizquierda per', 1.3210435785985757], ['fijación posicion', 1.4297497245084012], ['izquierda verd', 1.5211340280816872]]\n",
            "Año: 2006\n",
            "[['rodríguez zapatero', -3.7721506347334706], ['medio comunicación', -2.8532536060827147], ['programa elector', -1.9581889675761144], ['estatuto cataluña', -1.8975738651979543], ['diario sesion', -1.7806468593254046]]\n",
            "[['popular congreso', 1.7500229097188789], ['sección relativo', 1.773747925092153], ['tiempo concluido', 1.8868710324585924], ['diputada doña', 1.9591467407735466], ['turismo comercio', 1.9610432118635897]]\n",
            "Año: 2007\n",
            "[['rodríguez zapatero', -3.75407736481793], ['diario sesion', -1.8199070981581342], ['izquierda unida', -1.2163380473874923], ['sociedad española', -1.1112226256617712], ['violencia género', -0.9898943614184176]]\n",
            "[['turismo comercio', 0.4833970534213994], ['popular congreso', 1.2481679943267474], ['catalunya verd', 1.47728727572308], ['diputada doña', 2.118516766710189], ['tiempo concluido', 2.365495221189771]]\n",
            "Año: 2008\n",
            "[['crisi económica', -3.1944284507463876], ['tasa paro', -2.557909544465603], ['puesto trabajo', -2.4703020525339223], ['economía española', -2.1489751982087477], ['sociedad española', -1.9852378641452655]]\n",
            "[['hecho referencia', 1.5607304883349586], ['ir acabando', 1.7277089636656044], ['actividad económica', 1.8819789830430633], ['turismo comercio', 2.6968442105888886], ['catalunya verd', 3.2098253706515254]]\n",
            "Año: 2009\n",
            "[['rodríguez zapatero', -4.62304956621469], ['política económica', -2.7041153682052967], ['banco españa', -2.265841311710795], ['puesto trabajo', -2.164307538104848], ['pequeña mediana', -2.13560476907734]]\n",
            "[['sánchez llibr', 1.1538801427156975], ['turismo comercio', 1.2351883392004392], ['sistema financiero', 1.3397701184674595], ['puesto marcha', 1.3590035048541318], ['per catalunya', 1.7720375579213274]]\n",
            "Año: 2010\n",
            "[['rodríguez zapatero', -3.907174527288564], ['puesto trabajo', -2.76620253455472], ['política económica', -2.654333002194275], ['economía española', -2.0135066113533755], ['reforma labor', -1.947384110039859]]\n",
            "[['fernández davila', 1.7464788772399091], ['vasco pnv', 1.888629292499467], ['sáenz santamaría', 1.901702218111684], ['catalunya verd', 2.6196641217748855], ['reducción déficit', 3.095685380554636]]\n",
            "Año: 2011\n",
            "[['rodríguez zapatero', -3.432882805762805], ['estabilidad presupuestaria', -2.60023293695348], ['puesto trabajo', -2.4186376614359197], ['reforma labor', -2.134227064855766], ['unión europea', -1.5012452132111824]]\n",
            "[['rural marino', 1.0025205056717839], ['sánchez llibr', 1.0362603549345983], ['sáenz santamaría', 1.1054928755965332], ['per catalunya', 1.8686125990000468], ['turismo comercio', 1.8753830601069037]]\n",
            "Año: 2012\n",
            "[['reforma estructural', -3.6017426722306496], ['economía competitividad', -3.4971914853037545], ['social igualdad', -2.8301600648383394], ['déficit público', -2.6879775044319785], ['hacienda administracion', -1.3866365701668568]]\n",
            "[['comunidad autónoma', 1.852061357062005], ['economía española', 1.9887125697308237], ['presupuesto general', 2.425917152921425], ['puesto trabajo', 2.6675698835648727], ['reforma labor', 2.7121434412626484]]\n",
            "Año: 2013\n",
            "[['déficit público', -3.5494996938966934], ['pérez rubalcaba', -3.151525226052421], ['diputada doña', -2.538390342256297], ['social igualdad', -2.3579391660573568], ['extraordinaria comisión', -1.5476718851801496]]\n",
            "[['presupuesto general', 1.7645350831378779], ['política económica', 2.3158314209946633], ['puesto trabajo', 2.553364854904504], ['deuda pública', 2.6905807448727415], ['reforma labor', 2.758306419639667]]\n",
            "Año: 2014\n",
            "[['social igualdad', -3.5336888028116786], ['acuerd celebración', -3.0168389399404223], ['diputada doña', -2.672339066871928], ['energía turismo', -2.6189474802376083], ['hacienda administracion', -2.609222057703574]]\n",
            "[['comunidad autónoma', 1.5252539545403871], ['seguridad social', 1.581693339824593], ['tribun constitucion', 1.7401186163855336], ['comisión europea', 1.7574416382134455], ['puesto trabajo', 2.1652158092389326]]\n",
            "Año: 2015\n",
            "[['creación empleo', -4.559596780086557], ['social igualdad', -2.8575218873131005], ['crecimiento económico', -1.8095889208730835], ['catalán convergència', -0.9933907102779113], ['hacienda administracion', -0.9384902370206132]]\n",
            "[['sociedad española', 1.6778103735298893], ['comisión europea', 1.6910012095047782], ['servicio social', 1.7078245036317228], ['agencia tributaria', 1.7597133197810702], ['reforma labor', 3.970322164597639]]\n",
            "Año: 2016\n",
            "[['unido podemosen', -8.232558763383711], ['creación empleo', -3.155065082154049], ['vasco pnv', -2.3874714994738655], ['cualquier caso', -1.1739494661913026], ['popular congreso', -1.14028283344306]]\n",
            "[['consideración proposición', 1.3300893859278713], ['salario mínimo', 1.6486363698189375], ['poner marcha', 1.8866660588388], ['reforma labor', 2.614299989228696], ['comú podemen', 2.929242213097739]]\n",
            "Año: 2017\n",
            "[['social igualdad', -4.133706333700806], ['creación empleo', -4.054662113993518], ['diputada doña', -2.352087137881327], ['vasco pnv', -1.9310784058743653], ['cultura deport', -1.5237952894600078]]\n",
            "[['ahora mismo', 1.5545864759398467], ['comisión europea', 1.6916671967987356], ['tribun constitucion', 1.7023883814193927], ['sociedad española', 2.171550554132188], ['buena tard', 2.5368379187645074]]\n",
            "Año: 2018\n",
            "[['ministra adelant', -3.248637678798425], ['creación empleo', -3.1014084799763695], ['popular adelant', -2.7448107557381736], ['vasco pnv', -2.6959581877050183], ['diputada doña', -1.6109124163962756]]\n",
            "[['relacion cort', 1.6464444069279551], ['servicio público', 1.7654184003704776], ['comisión europea', 1.909974005458951], ['fuerza política', 1.9241288886982215], ['ahora mismo', 2.269716653709204]]\n",
            "Año: 2019\n",
            "[['confeder unido', -3.368372071955602], ['podemen marea', -2.90399520333236], ['convalidación derogación', -2.493011304427979], ['procedimiento urgencia', -2.2577238468668033], ['popular congreso', -2.0702347691721505]]\n",
            "[['pesca alimentación', 1.8392032185629361], ['migracion seguridad', 1.8690439004899697], ['adoptan medida', 1.911097520596932], ['popular ciudadano', 2.7852470586884146], ['confeder unida', 5.564465991148015]]\n"
          ]
        }
      ]
    },
    {
      "cell_type": "markdown",
      "source": [
        "# Regresión lineal"
      ],
      "metadata": {
        "id": "W4gP8QOIbRyt"
      }
    },
    {
      "cell_type": "code",
      "source": [
        "X_train, X_test, y_train, y_test = train_test_split(base.loc[:, base.columns != 'party'], base['party'], test_size=0.33, random_state=42)"
      ],
      "metadata": {
        "id": "8dGWALnQb1Mn"
      },
      "execution_count": null,
      "outputs": []
    },
    {
      "cell_type": "code",
      "source": [
        "vec = cv.fit(X_train['tokens'])"
      ],
      "metadata": {
        "id": "mJQVHbEKb1Mo"
      },
      "execution_count": null,
      "outputs": []
    },
    {
      "cell_type": "code",
      "source": [
        "train_matrix = vec.fit_transform(X_train['tokens'])\n",
        "test_matrix = vec.transform(X_test['tokens'])"
      ],
      "metadata": {
        "id": "o_UYstuib1Mo"
      },
      "execution_count": null,
      "outputs": []
    },
    {
      "cell_type": "code",
      "source": [
        "y_train.replace(['PSOE', 'PP'],[1, -1], inplace=True)\n",
        "y_test.replace(['PSOE', 'PP'],[1, -1], inplace=True)"
      ],
      "metadata": {
        "id": "24rbtPzhcfxy"
      },
      "execution_count": null,
      "outputs": []
    },
    {
      "cell_type": "code",
      "source": [
        "from sklearn.linear_model import LinearRegression\n",
        "lr = LinearRegression()"
      ],
      "metadata": {
        "id": "yD0Hk7RzbnDG"
      },
      "execution_count": null,
      "outputs": []
    },
    {
      "cell_type": "code",
      "source": [
        "lr.fit(train_matrix,y_train)"
      ],
      "metadata": {
        "colab": {
          "base_uri": "https://localhost:8080/"
        },
        "id": "ZdSt3ASFe3UD",
        "outputId": "111bc43a-04b1-4930-a9ec-a509dab59a22"
      },
      "execution_count": null,
      "outputs": [
        {
          "output_type": "execute_result",
          "data": {
            "text/plain": [
              "LinearRegression()"
            ]
          },
          "metadata": {},
          "execution_count": 69
        }
      ]
    },
    {
      "cell_type": "code",
      "source": [
        "predictions = lr.predict(test_matrix)"
      ],
      "metadata": {
        "id": "TLLuNbJxeySx"
      },
      "execution_count": null,
      "outputs": []
    },
    {
      "cell_type": "code",
      "source": [
        "print(lr.coef_)"
      ],
      "metadata": {
        "colab": {
          "base_uri": "https://localhost:8080/"
        },
        "id": "4W7M5BY6fVMR",
        "outputId": "a08adafa-c3a6-43d4-c4f5-6568b5ec1e50"
      },
      "execution_count": null,
      "outputs": [
        {
          "output_type": "stream",
          "name": "stdout",
          "text": [
            "[ 1.38768308e-02 -4.39994256e-02  3.56696247e-02 -8.29825508e-03\n",
            "  1.57151298e-03 -7.85540491e-03 -3.23142645e-03 -4.40968595e-02\n",
            "  2.14397479e-02  5.74665507e-02 -1.63184990e-02 -1.71336802e-02\n",
            "  1.02833375e-01 -5.80723141e-03 -4.02914875e-02 -1.05560105e-04\n",
            " -8.30037164e-03 -1.09689607e-02  3.71741742e-02  3.41639061e-01\n",
            " -4.34374509e-02 -1.53689475e-01  3.04306431e-01  4.25574623e-02\n",
            "  5.03749011e-03  2.06173310e-02 -3.03322363e-03  1.95382159e-03\n",
            " -2.09326231e-01  3.65867682e-03 -4.97124573e-02 -4.25538536e-01\n",
            " -2.32619423e-02 -1.50333955e-02  1.86045828e-03 -4.34666241e-02\n",
            " -3.90259776e-02 -4.74963011e-02 -8.09511793e-02 -5.67225205e-03\n",
            "  5.76872399e-03 -1.41923235e-01  2.35927774e-03 -3.25742086e-02\n",
            " -2.62342492e-02 -3.86139617e-02  6.44498190e-02  6.27149525e-03\n",
            "  1.12319250e-01  2.74908638e-03  3.16282231e-03 -2.69087887e-03\n",
            "  1.95166730e-04 -1.27770007e-01  9.41115214e-03 -4.50776301e-02\n",
            "  2.73850819e-01 -2.84312872e-02 -2.42699970e-01  1.35537392e-02\n",
            " -3.85995950e-02  2.16723150e-02 -3.26258966e-02  4.40971095e-03\n",
            "  6.54517283e-02 -7.26175699e-02 -4.76255553e-02  6.82630491e-02\n",
            "  1.65745158e-01  7.16795844e-02 -2.18423325e-02 -1.98470404e-04\n",
            " -1.05280133e-02  2.41568376e-02 -4.70354116e-02 -6.54330206e-01\n",
            " -1.59493621e-01  7.83410561e-02 -1.65186536e-02 -1.26966780e-03\n",
            " -6.94982118e-02  4.97941824e-02 -3.29507607e-02 -1.14884763e-02\n",
            " -1.48871887e-02  1.17237944e-03 -5.47411558e-02  2.13006807e-02\n",
            "  6.17749494e-02  3.68979834e-02  9.20952066e-02 -5.06629309e-02\n",
            "  6.93705544e-03 -6.57733327e-03 -5.36611965e-02 -2.96766999e-01\n",
            " -2.65510481e-02  4.41131379e-02 -7.15233334e-01 -5.14191595e-02\n",
            "  5.49576923e-02  2.08025686e-02  5.98244884e-02 -2.60488502e-02\n",
            " -2.63916207e-02 -2.92550177e-02  4.68134632e-02 -1.50149045e-02\n",
            " -1.12228402e-01  4.70671053e-02 -5.47643505e-03  6.64410775e-03\n",
            "  2.88164434e-01  4.49718468e-02 -6.46075014e-02  1.61047364e-02\n",
            "  2.16368864e-02 -6.79649223e-02  2.33852124e-02 -6.21382844e-01\n",
            "  1.63135088e-01 -1.06569035e+00  1.49849894e-02 -3.59981811e-02\n",
            " -6.10214678e-02  1.96441135e-02  1.68781021e-03 -6.29747032e-03\n",
            " -1.83404858e-02  4.08913997e-02 -2.56493545e-03  3.74043838e-01\n",
            " -1.86493168e-02  5.62961673e-03 -3.62869712e-03  1.11776609e-02\n",
            "  4.53657085e-02 -1.27687060e-02  1.73244640e-02  4.78172118e-02\n",
            "  8.52374078e-02  3.08653532e-02  7.40613984e-02 -4.06415868e-01\n",
            "  8.69232858e-03 -2.99356341e-02  1.23761630e-01 -6.20195950e-03\n",
            "  6.75342665e-02  2.05287496e-02 -7.00498153e-03  2.90172251e-02\n",
            " -8.20102252e-02  3.91013496e-02  2.75228435e-02 -3.80066873e-02\n",
            " -6.03036695e-02 -4.07103009e-02  1.29966954e-03  9.11492189e-02\n",
            "  1.89938853e-02  4.99352755e-02 -3.20791221e-03 -1.53618542e-01\n",
            "  5.56200270e-02  4.64945589e-02  3.64194732e-02  1.32696379e-02\n",
            " -8.48077360e-02  4.37691561e-03  1.12591676e-02  1.93282255e-03\n",
            "  2.32347605e-02 -9.25768846e-02  7.53992618e-02 -8.62857462e-02\n",
            " -3.40897394e-03  8.14340507e-03  1.59310275e-02 -2.30406406e-02\n",
            "  3.95026665e-02 -8.27507297e-02  7.72521998e-02  6.51891454e-03\n",
            " -6.23682278e-02  2.07936463e-02 -5.00444883e-03 -1.81536819e-03\n",
            " -5.61604426e-02 -3.18702507e-02 -1.72486117e-03 -5.98432052e-03\n",
            " -1.97770065e-02 -2.39131511e-02  1.71197950e-02 -3.31275130e-01\n",
            "  3.85851402e-02 -5.95544015e-03  6.76063779e-02  4.09469158e-02]\n"
          ]
        }
      ]
    },
    {
      "cell_type": "code",
      "source": [
        "import sklearn.metrics as metrics\n",
        "def regression_results(y_true, y_pred):\n",
        "\n",
        "    explained_variance=metrics.explained_variance_score(y_true, y_pred)\n",
        "    mean_absolute_error=metrics.mean_absolute_error(y_true, y_pred) \n",
        "    mse=metrics.mean_squared_error(y_true, y_pred) \n",
        "    median_absolute_error=metrics.median_absolute_error(y_true, y_pred)\n",
        "    r2=metrics.r2_score(y_true, y_pred)\n",
        "\n",
        "    print('explained_variance: ', round(explained_variance,4))    \n",
        "    print('r2: ', round(r2,4))\n",
        "    print('MAE: ', round(mean_absolute_error,4))\n",
        "    print('MSE: ', round(mse,4))\n",
        "    print('RMSE: ', round(np.sqrt(mse),4))"
      ],
      "metadata": {
        "id": "v7QJrjCzeqtb"
      },
      "execution_count": null,
      "outputs": []
    },
    {
      "cell_type": "code",
      "source": [
        "regression_results(y_test,predictions)"
      ],
      "metadata": {
        "colab": {
          "base_uri": "https://localhost:8080/"
        },
        "id": "ImFhAonne6h-",
        "outputId": "d6f6db17-7a3c-4ba1-ec60-25a2ff895c38"
      },
      "execution_count": null,
      "outputs": [
        {
          "output_type": "stream",
          "name": "stdout",
          "text": [
            "explained_variance:  0.0537\n",
            "r2:  0.0537\n",
            "MAE:  0.9339\n",
            "MSE:  0.9307\n",
            "RMSE:  0.9647\n"
          ]
        }
      ]
    },
    {
      "cell_type": "code",
      "source": [
        "# Relevancia de bigramas en la predicción\n",
        "features=[]\n",
        "for i,v in enumerate(lr.coef_):\n",
        "  features.append([vec.get_feature_names_out()[i],v ])"
      ],
      "metadata": {
        "id": "DzFMtYNu3BAF"
      },
      "execution_count": null,
      "outputs": []
    },
    {
      "cell_type": "code",
      "source": [
        "sorted(features, key = lambda x: x[1])"
      ],
      "metadata": {
        "colab": {
          "base_uri": "https://localhost:8080/"
        },
        "outputId": "cd4c529c-b976-4d8f-be61-eddd6bdb524f",
        "id": "5NBP6idq3BAH"
      },
      "execution_count": null,
      "outputs": [
        {
          "output_type": "execute_result",
          "data": {
            "text/plain": [
              "[['número formula', -1.0656903510044415],\n",
              " ['izquierda plural', -0.7152333335625045],\n",
              " ['feder izquierda', -0.6543302055763213],\n",
              " ['nombr popular', -0.621382843785031],\n",
              " ['congreso formula', -0.4255385364292636],\n",
              " ['portavoz socialista', -0.40641586761526366],\n",
              " ['vaya concluyendo', -0.33127513006740095],\n",
              " ['interpelación urgent', -0.2967669989986075],\n",
              " ['diputada doña', -0.2426999704636011],\n",
              " ['comunidad económica', -0.20932623090924984],\n",
              " ['fijación posicion', -0.15949362051134258],\n",
              " ['coalición canaria', -0.153689474701157],\n",
              " ['rodríguez zapatero', -0.153618541653032],\n",
              " ['creación empleo', -0.14192323489373368],\n",
              " ['desean fijar', -0.1277700074832435],\n",
              " ['ministerio economía', -0.11222840156271131],\n",
              " ['servicio social', -0.09257688459177937],\n",
              " ['si quier', -0.08628574624652137],\n",
              " ['seguridad jurídica', -0.08480773595711359],\n",
              " ['sociedad española', -0.08275072970473989],\n",
              " ['pueblo español', -0.08201022517100749],\n",
              " ['convergència unió', -0.08095117934714666],\n",
              " ['déficit público', -0.07261756985522552],\n",
              " ['fuerza cuerpo', -0.06949821182308757],\n",
              " ['ningún caso', -0.06796492234504375],\n",
              " ['moción consecuencia', -0.06460750142065373],\n",
              " ['tan important', -0.06236822781631531],\n",
              " ['ordenamiento jurídico', -0.061021467844057084],\n",
              " ['quiero decirl', -0.0603036694906769],\n",
              " ['toda comunidad', -0.05616044261500598],\n",
              " ['hace falta', -0.05474115584497718],\n",
              " ['interior bruto', -0.05366119653846494],\n",
              " ['izquierda unida', -0.05141915947181689],\n",
              " ['impuesto renta', -0.050662930910088284],\n",
              " ['comunidad valenciana', -0.049712457319783784],\n",
              " ['economía española', -0.047625555305404334],\n",
              " ['constitución española', -0.04749630107408478],\n",
              " ['exposición motivo', -0.047035411630788455],\n",
              " ['diario sesion', -0.045077630061963636],\n",
              " ['agent social', -0.04409685953027027],\n",
              " ['administracion pública', -0.04399942556612421],\n",
              " ['consejo seguridad', -0.04346662410122757],\n",
              " ['ciudadano español', -0.0434374508833049],\n",
              " ['quiero recordar', -0.040710300858136206],\n",
              " ['artículo reglamento', -0.04029148750510193],\n",
              " ['consideración proposición', -0.03902597755470964],\n",
              " ['cualquier caso', -0.038613961700134924],\n",
              " ['director gener', -0.038599594977474026],\n",
              " ['puesto trabajo', -0.038006687304317166],\n",
              " ['opinión pública', -0.03599818109319056],\n",
              " ['función pública', -0.0329507606831682],\n",
              " ['disposición final', -0.03262589660944645],\n",
              " ['crisi económica', -0.03257420855530768],\n",
              " ['toma consideración', -0.03187025070712173],\n",
              " ['presupuesto general', -0.029935634052664514],\n",
              " ['medio comunicación', -0.029255017718609434],\n",
              " ['diputación permanent', -0.02843128716733758],\n",
              " ['interé gener', -0.02655104814892341],\n",
              " ['medio ambient', -0.026391620732585032],\n",
              " ['crédito extraordinario', -0.026234249197690376],\n",
              " ['mediana empresa', -0.02604885021154885],\n",
              " ['unión europea', -0.023913151061399653],\n",
              " ['consecuencia interpelación', -0.023261942313891563],\n",
              " ['sistema nacion', -0.02304064057140272],\n",
              " ['empresa pública', -0.02184233250099195],\n",
              " ['tribun supremo', -0.019777006455229104],\n",
              " ['persona física', -0.018649316815034036],\n",
              " ['paí vasco', -0.01834048579253929],\n",
              " ['alto cargo', -0.017133680218889228],\n",
              " ['formación profesion', -0.016518653616542502],\n",
              " ['alta velocidad', -0.01631849902286014],\n",
              " ['consejo europeo', -0.015033395533672013],\n",
              " ['millon peseta', -0.015014904536777902],\n",
              " ['gener poder', -0.0148871886570785],\n",
              " ['política económica', -0.012768706019572982],\n",
              " ['gasto público', -0.0114884762666705],\n",
              " ['banco españa', -0.010968960665775448],\n",
              " ['estabilidad presupuestaria', -0.010528013339732599],\n",
              " ['asunto social', -0.008300371635014122],\n",
              " ['administración gener', -0.008298255080731603],\n",
              " ['administración pública', -0.007855404910131831],\n",
              " ['proyecto orgánica', -0.007004981528133157],\n",
              " ['iniciativa legislativa', -0.00657733327466117],\n",
              " ['parlamento europeo', -0.006297470321980979],\n",
              " ['programa elector', -0.006201959495713965],\n",
              " ['tribun cuenta', -0.005984320518411399],\n",
              " ['violencia género', -0.005955440146644911],\n",
              " ['artículo constitución', -0.00580723141211472],\n",
              " ['corporacion local', -0.005672252048737636],\n",
              " ['ministerio interior', -0.005476435046201931],\n",
              " ['texto alternativo', -0.005004448833643796],\n",
              " ['poder adquisitivo', -0.0036286971158007286],\n",
              " ['sistema educativo', -0.00340897393869355],\n",
              " ['agencia tributaria', -0.0032314264538071606],\n",
              " ['responsabilidad política', -0.003207912209696069],\n",
              " ['comisión nacion', -0.0030332236295875156],\n",
              " ['derecho humano', -0.002690878868356063],\n",
              " ['pequeña mediana', -0.0025649354481619277],\n",
              " ['tipo interé', -0.0018153681932114108],\n",
              " ['tribun constitucion', -0.0017248611736991302],\n",
              " ['fuerza armada', -0.0012696678005655162],\n",
              " ['entrada vigor', -0.00019847040387234804],\n",
              " ['asunto exterior', -0.00010556010543947536],\n",
              " ['derecho libertad', 0.00019516672990155674],\n",
              " ['guardia civil', 0.0011723794407883055],\n",
              " ['radiotelevisión española', 0.0012996695423556502],\n",
              " ['administración justicia', 0.0015715129804765363],\n",
              " ['pacto toledo', 0.0016878102113091072],\n",
              " ['consejo gener', 0.0018604582823451908],\n",
              " ['sentencia tribun', 0.0019328225540148234],\n",
              " ['comunidad autónoma', 0.0019538215894245397],\n",
              " ['crecimiento económico', 0.0023592777446255282],\n",
              " ['debat totalidad', 0.0027490863786289754],\n",
              " ['defensor pueblo', 0.0031628223067829433],\n",
              " ['comunidad europea', 0.0036586768198883903],\n",
              " ['seguridad social', 0.004376915606626948],\n",
              " ['disposición transitoria', 0.004409710948559042],\n",
              " ['comisión investigación', 0.005037490112850225],\n",
              " ['plan nacion', 0.0056296167287859175],\n",
              " ['cort general', 0.005768723992398157],\n",
              " ['código penal', 0.006271495247104039],\n",
              " ['sánchez llibr', 0.006518914542046012],\n",
              " ['ministerio justicia', 0.006644107753018971],\n",
              " ['impuesto sociedad', 0.006937055444270149],\n",
              " ['sistema financiación', 0.008143405074119564],\n",
              " ['presión fiscal', 0.008692328583528343],\n",
              " ['deuda pública', 0.009411152142759605],\n",
              " ['poder judici', 0.011177660858650205],\n",
              " ['semana pasada', 0.011259167554363868],\n",
              " ['sector público', 0.013269637921312348],\n",
              " ['dirección gener', 0.013553739185998628],\n",
              " ['actividad económica', 0.013876830788448513],\n",
              " ['obra pública', 0.014984989362321188],\n",
              " ['sistema financiero', 0.01593102748437229],\n",
              " ['nacion salud', 0.016104736381863875],\n",
              " ['vasco pnv', 0.017119795010361885],\n",
              " ['política exterior', 0.017324463992782323],\n",
              " ['reino unido', 0.018993885256213098],\n",
              " ['organismo autónomo', 0.019644113528005266],\n",
              " ['protección social', 0.020528749569053463],\n",
              " ['comisión mixta', 0.02061733096466622],\n",
              " ['tener cuenta', 0.020793646297101825],\n",
              " ['llegar acuerdo', 0.020802568586210504],\n",
              " ['hace mese', 0.021300680698825687],\n",
              " ['ahora mismo', 0.021439747858209027],\n",
              " ['nacion unida', 0.021636886423321924],\n",
              " ['disposición adicion', 0.02167231502599602],\n",
              " ['servicio público', 0.02323476046150527],\n",
              " ['ningún tipo', 0.02338521236380091],\n",
              " ['estatuto autonomía', 0.024156837615858663],\n",
              " ['puesto marcha', 0.02752284345251363],\n",
              " ['proyecto presupuesto', 0.02901722507264758],\n",
              " ['poner marcha', 0.030865353197917857],\n",
              " ['administración central', 0.03566962468454607],\n",
              " ['sector privado', 0.036419473194576425],\n",
              " ['hace tiempo', 0.036897983359845524],\n",
              " ['carácter gener', 0.037174174193689805],\n",
              " ['ver si', 0.03858514023932212],\n",
              " ['puesta marcha', 0.039101349558181626],\n",
              " ['situación económica', 0.03950266645886888],\n",
              " ['país europeo', 0.040891399714980264],\n",
              " ['último mese', 0.040946915768532405],\n",
              " ['comisión europea', 0.04255746230337722],\n",
              " ['izquierda per', 0.044113137937955973],\n",
              " ['mismo tiempo', 0.04497184684709139],\n",
              " ['poder público', 0.045365708509433104],\n",
              " ['salario mínimo', 0.04649455891754891],\n",
              " ['mercado trabajo', 0.04681346319429308],\n",
              " ['ministerio educación', 0.047067105250686324],\n",
              " ['política fiscal', 0.04781721184844434],\n",
              " ['fuerza política', 0.049794182365178866],\n",
              " ['resolv problema', 0.04993527546139199],\n",
              " ['largo plazo', 0.05495769226680119],\n",
              " ['ruego concluya', 0.05562002701979573],\n",
              " ['alguna manera', 0.05746655066816087],\n",
              " ['mayor part', 0.05982448841550029],\n",
              " ['hace referencia', 0.06177494936969499],\n",
              " ['cuerpo seguridad', 0.06444981903174665],\n",
              " ['duda alguna', 0.06545172826590788],\n",
              " ['proposición popular', 0.06753426651979441],\n",
              " ['voluntad política', 0.06760637788512032],\n",
              " ['economía hacienda', 0.06826304914432403],\n",
              " ['económico social', 0.07167958438407804],\n",
              " ['popular congreso', 0.07406139843423587],\n",
              " ['si así', 0.07539926177717633],\n",
              " ['ss ss', 0.07725219976995683],\n",
              " ['forma part', 0.07834105611684224],\n",
              " ['política social', 0.08523740778010876],\n",
              " ['reforma labor', 0.09114921894951633],\n",
              " ['hecho referencia', 0.092095206571918],\n",
              " ['aquel momento', 0.10283337529349666],\n",
              " ['dar respuesta', 0.11231925035354198],\n",
              " ['producto interior', 0.1237616303781991],\n",
              " ['nombr socialista', 0.16313508819174904],\n",
              " ['económica europea', 0.1657451581082136],\n",
              " ['dictamen comisión', 0.2738508193120451],\n",
              " ['minoría catalana', 0.28816443362313904],\n",
              " ['coalición popular', 0.30430643083175335],\n",
              " ['catalunya verd', 0.34163906096850494],\n",
              " ['per catalunya', 0.3740438377892261]]"
            ]
          },
          "metadata": {},
          "execution_count": 75
        }
      ]
    },
    {
      "cell_type": "markdown",
      "source": [
        "# LDA"
      ],
      "metadata": {
        "id": "CQJqS-DP6e9D"
      }
    },
    {
      "cell_type": "code",
      "source": [
        "from sklearn.decomposition import LatentDirichletAllocation"
      ],
      "metadata": {
        "id": "HRaT7XPi6d_P"
      },
      "execution_count": null,
      "outputs": []
    },
    {
      "cell_type": "code",
      "source": [
        "vec = cv.fit(base['tokens'])"
      ],
      "metadata": {
        "id": "-2joPfEX7Do_"
      },
      "execution_count": null,
      "outputs": []
    },
    {
      "cell_type": "code",
      "source": [
        "matrix = vec.transform(base['tokens'])"
      ],
      "metadata": {
        "id": "yTb5eqaI7M3g"
      },
      "execution_count": null,
      "outputs": []
    },
    {
      "cell_type": "code",
      "source": [
        "lda = LatentDirichletAllocation(n_components=40, max_iter=5, learning_method='online', learning_offset=50.,random_state=0)"
      ],
      "metadata": {
        "id": "r0yF9atu6h1A"
      },
      "execution_count": null,
      "outputs": []
    },
    {
      "cell_type": "code",
      "source": [
        "lda.fit(matrix)"
      ],
      "metadata": {
        "id": "_MZxKjLy6m_P",
        "outputId": "98bbce85-a4bb-4efd-ed50-c2c63c2b7327",
        "colab": {
          "base_uri": "https://localhost:8080/"
        }
      },
      "execution_count": null,
      "outputs": [
        {
          "output_type": "execute_result",
          "data": {
            "text/plain": [
              "LatentDirichletAllocation(learning_method='online', learning_offset=50.0,\n",
              "                          max_iter=5, n_components=40, random_state=0)"
            ]
          },
          "metadata": {},
          "execution_count": 91
        }
      ]
    },
    {
      "cell_type": "code",
      "source": [
        "def display_topics(model, feature_names, no_top_words):\n",
        "    for topic_idx, topic in enumerate(model.components_):\n",
        "        print(\"Topic %d:\" % (topic_idx + 1))\n",
        "        print(\" , \".join([feature_names[i] for i in topic.argsort()[:-no_top_words - 1:-1]]))"
      ],
      "metadata": {
        "id": "LrMKTuXb7m1c"
      },
      "execution_count": null,
      "outputs": []
    },
    {
      "cell_type": "code",
      "source": [
        "display_topics(lda, feature_names=cv.get_feature_names_out(), no_top_words=20)"
      ],
      "metadata": {
        "id": "9erGzWR47jSC",
        "outputId": "bcec3a46-c73a-4fd3-99f3-044f69211023",
        "colab": {
          "base_uri": "https://localhost:8080/"
        }
      },
      "execution_count": null,
      "outputs": [
        {
          "output_type": "stream",
          "name": "stdout",
          "text": [
            "Topic 1:\n",
            "extraordinaria comisión , seguridad social , convocatoria extraordinaria , poder judici , mayor cincuenta , ahora mismo , zona afectada , salida reino , campo gibraltar , medida urgent , estatuto gernika , transición energética , comú podemgalicia , transición ecológica , presupuesto general , nacion unida , permanent pertenecient , comú podemen , diputada doña , pesca alimentación\n",
            "Topic 2:\n",
            "toda medida , fuerza cuerpo , tribun supremo , espinosa montero , estabilidad presupuestaria , trabajador trabajadora , salida reino , convocatoria extraordinaria , estatuto gernika , ahora mismo , seguridad social , medida urgent , zona afectada , transición energética , poder judici , mayor cincuenta , campo gibraltar , hecho referencia , crecimiento económico , si quier\n",
            "Topic 3:\n",
            "consejo europeo , hombr mujer , pasamo ahora , zona afectada , convocatoria extraordinaria , seguridad social , salida reino , medida urgent , estatuto gernika , ahora mismo , poder judici , transición energética , mayor cincuenta , campo gibraltar , transición ecológica , podemen marea , podemosen comú , pesca alimentación , medio comunicación , política española\n",
            "Topic 4:\n",
            "número suficient , pedro sánchez , último mese , legarda uriart , zona afectada , seguridad social , salida reino , convocatoria extraordinaria , medida urgent , ahora mismo , estatuto gernika , poder judici , mayor cincuenta , transición energética , campo gibraltar , sistema público , relacion cort , ministra trabajo , comisión europea , administración gener\n",
            "Topic 5:\n",
            "cuidado paliativo , función pública , reino unido , ordenamiento jurídico , constitución española , zona afectada , convocatoria extraordinaria , ahora mismo , seguridad social , medida urgent , salida reino , poder judici , estatuto gernika , mayor cincuenta , campo gibraltar , transición energética , igualdad oportunidad , diputación permanent , pacto toledo , crisi económica\n",
            "Topic 6:\n",
            "crecimiento económico , crisi económica , cualquier caso , popular ciudadano , si quier , podemosen comú , migracion seguridad , toda españa , servicio público , energía renov , hecho sido , salida reino , estatuto gernika , convocatoria extraordinaria , seguridad social , ahora mismo , transición energética , zona afectada , medida urgent , poder judici\n",
            "Topic 7:\n",
            "energía renov , guardia civil , diálogo social , cambio climático , posicion mixto , unida podemosen , próxima legislatura , popular ciudadano , trabajador trabajadora , proyecto europeo , hecho sido , mejor dicho , estatuto gernika , salida reino , seguridad social , convocatoria extraordinaria , transición energética , zona afectada , ahora mismo , medida urgent\n",
            "Topic 8:\n",
            "política social , hace falta , radiotelevisión española , pasamo fijación , zona afectada , convocatoria extraordinaria , medida urgent , poder judici , estatuto gernika , seguridad social , mayor cincuenta , campo gibraltar , salida reino , transición energética , ahora mismo , diputada doña , rentabilidad razon , consejo europeo , hoja ruta , convocar eleccion\n",
            "Topic 9:\n",
            "ministra trabajo , igualdad oportunidad , hecho sido , ahora mismo , zona afectada , convocatoria extraordinaria , salida reino , estatuto gernika , seguridad social , poder judici , mayor cincuenta , transición energética , medida urgent , campo gibraltar , cualquier caso , economía española , energía renov , presupuesto general , dar respuesta , cuenta pública\n",
            "Topic 10:\n",
            "borrà castany , relacion cort , sistema educativo , zona afectada , medida urgent , ahora mismo , salida reino , convocatoria extraordinaria , poder judici , seguridad social , campo gibraltar , estatuto gernika , mayor cincuenta , transición energética , transición ecológica , paí vasco , empleado público , próxima legislatura , pesca alimentación , ministra hacienda\n",
            "Topic 11:\n",
            "suficient miembro , quiero decirl , seguridad jurídica , ningún tipo , poner marcha , zona afectada , medida urgent , salida reino , convocatoria extraordinaria , estatuto gernika , poder judici , mayor cincuenta , seguridad social , ahora mismo , campo gibraltar , transición energética , espinosa montero , guardia civil , último doce , lucha cambio\n",
            "Topic 12:\n",
            "open arm , ministra adelant , gasto público , candidato presidencia , buena tard , hecho sido , zona afectada , seguridad social , convocatoria extraordinaria , salida reino , poder judici , ahora mismo , estatuto gernika , mayor cincuenta , medida urgent , campo gibraltar , transición energética , cualquier caso , mínimo interprofesion , moción censura\n",
            "Topic 13:\n",
            "protección civil , víctima terrorismo , acuerd convocatoria , estatuto gernika , convocatoria extraordinaria , seguridad social , zona afectada , salida reino , medida urgent , poder judici , transición energética , ahora mismo , mayor cincuenta , campo gibraltar , igualdad oportunidad , proyecto presupuesto , resolv problema , rodríguez hernández , presentar nombr , popular congreso\n",
            "Topic 14:\n",
            "subida salario , thoma cook , violencia género , salario mínimo , toda persona , lucha cambio , sere humano , entrega cuenta , comunidad valenciana , hecho sido , salida reino , zona afectada , convocatoria extraordinaria , estatuto gernika , poder judici , medida urgent , ahora mismo , seguridad social , campo gibraltar , mayor cincuenta\n",
            "Topic 15:\n",
            "sistema público , eleccion general , pesca alimentación , salida reino , convocatoria extraordinaria , estatuto gernika , zona afectada , medida urgent , seguridad social , transición energética , poder judici , mayor cincuenta , ahora mismo , campo gibraltar , crecimiento económico , administración gener , suficient miembro , trabajador trabajadora , guardia civil , reforma labor\n",
            "Topic 16:\n",
            "marco financiero , acuerdo retirada , interé gener , ill balear , adoptan medida , política económica , convocatoria extraordinaria , salida reino , estatuto gernika , transición energética , ahora mismo , seguridad social , zona afectada , poder judici , medida urgent , campo gibraltar , mayor cincuenta , sociedad española , política española , justicia social\n",
            "Topic 17:\n",
            "formacion política , asunto exterior , rodríguez hernández , diputación permanent , poder judici , convocatoria extraordinaria , campo gibraltar , medida urgent , zona afectada , estatuto gernika , salida reino , transición energética , mayor cincuenta , seguridad social , ahora mismo , igualdad oportunidad , transición ecológica , permanent pertenecient , pesca alimentación , derecho libertad\n",
            "Topic 18:\n",
            "unido unión , cuerpo seguridad , pacto toledo , sociedad española , mismo tiempo , convocatoria extraordinaria , salida reino , zona afectada , seguridad social , medida urgent , ahora mismo , poder judici , estatuto gernika , mayor cincuenta , transición energética , campo gibraltar , thoma cook , proyecto presupuesto , asunto exterior , pasamo fijación\n",
            "Topic 19:\n",
            "pleno cámara , unión europea , zona afectada , seguridad social , medida urgent , estatuto gernika , convocatoria extraordinaria , ahora mismo , poder judici , salida reino , campo gibraltar , mayor cincuenta , transición energética , extraordinaria urgent , justicia social , fijación posicion , formulada número , gasto público , hace falta , hecho sido\n",
            "Topic 20:\n",
            "hace mese , urgent necesidad , adoptar medida , víctima violencia , moción censura , mínimo interprofesion , confeder unida , efecto llamada , zona afectada , salida reino , convocatoria extraordinaria , seguridad social , medida urgent , ahora mismo , estatuto gernika , poder judici , mayor cincuenta , transición energética , campo gibraltar , dar respuesta\n",
            "Topic 21:\n",
            "millon persona , procedimiento urgencia , comú podemgalicia , ahora mismo , medida urgent , convocatoria extraordinaria , poder judici , zona afectada , seguridad social , campo gibraltar , estatuto gernika , mayor cincuenta , transición energética , salida reino , pedro sánchez , último doce , hoja ruta , posicion mixto , política migratoria , justicia social\n",
            "Topic 22:\n",
            "proyecto presupuesto , reforma labor , cort igualdad , justicia social , zona afectada , estatuto gernika , ahora mismo , salida reino , seguridad social , convocatoria extraordinaria , medida urgent , poder judici , mayor cincuenta , campo gibraltar , transición energética , igualdad oportunidad , administración gener , actividad económica , paí vasco , mejor dicho\n",
            "Topic 23:\n",
            "unido podemosen , código penal , derecho libertad , trabajador trabajadora , resolv problema , convalidación derogación , política española , hecho sido , zona afectada , convocatoria extraordinaria , poder judici , medida urgent , salida reino , seguridad social , mayor cincuenta , campo gibraltar , ahora mismo , estatuto gernika , transición energética , igualdad oportunidad\n",
            "Topic 24:\n",
            "rentabilidad razon , doña maría , doce mese , mercado labor , alta velocidad , defensa iniciativa , salida reino , medida urgent , zona afectada , convocatoria extraordinaria , seguridad social , ahora mismo , estatuto gernika , poder judici , campo gibraltar , transición energética , mayor cincuenta , techo gasto , pacto toledo , igualdad oportunidad\n",
            "Topic 25:\n",
            "dominio público , convocatoria extraordinaria , poder judici , mayor cincuenta , ahora mismo , estatuto gernika , campo gibraltar , zona afectada , transición energética , salida reino , medida urgent , seguridad social , último mese , hoja ruta , justicia social , mejor dicho , millon persona , mercado labor , migracion seguridad , hace falta\n",
            "Topic 26:\n",
            "unida podemo , cuenta pública , regeneración democrática , medida urgent , poder judici , mayor cincuenta , estatuto gernika , convocatoria extraordinaria , salida reino , seguridad social , zona afectada , campo gibraltar , ahora mismo , transición energética , energía renov , moción censura , mismo tiempo , formulada número , comú podemgalicia , mercado labor\n",
            "Topic 27:\n",
            "comunidad madrid , formación profesion , pertenecient popular , estatuto gernika , zona afectada , convocatoria extraordinaria , seguridad social , ahora mismo , salida reino , poder judici , medida urgent , transición energética , mayor cincuenta , campo gibraltar , pacto toledo , presupuesto general , cuidado paliativo , pedro sánchez , cuenta pública , medio comunicación\n",
            "Topic 28:\n",
            "techo gasto , extraordinaria urgent , semana pasada , agricultura pesca , cohesión social , salida reino , convocatoria extraordinaria , zona afectada , seguridad social , ahora mismo , estatuto gernika , medida urgent , poder judici , transición energética , mayor cincuenta , campo gibraltar , guardia civil , víctima violencia , economía española , cuerpo seguridad\n",
            "Topic 29:\n",
            "hoja ruta , entrada vigor , pasamo formulada , paí vasco , convocatoria extraordinaria , ahora mismo , seguridad social , poder judici , mayor cincuenta , campo gibraltar , estatuto gernika , salida reino , zona afectada , medida urgent , transición energética , encima mesa , servicio público , comunidad autónoma , hecho sido , comú podemen\n",
            "Topic 30:\n",
            "acatar constitución , sistema seguridad , unido podemo , dar respuesta , confeder unido , miembro diputación , campaña elector , convocatoria extraordinaria , zona afectada , ahora mismo , salida reino , seguridad social , estatuto gernika , medida urgent , poder judici , transición energética , mayor cincuenta , campo gibraltar , igualdad oportunidad , toma consideración\n",
            "Topic 31:\n",
            "nacion mercado , poder judici , mayor cincuenta , convocatoria extraordinaria , ahora mismo , seguridad social , próxima legislatura , cort igualdad , pertenecient popular , estatuto autonomía , cohesión social , proyecto presupuesto , igualdad oportunidad , hecho referencia , entrega cuenta , ill balear , entidad local , interé gener , justicia social , legarda uriart\n",
            "Topic 32:\n",
            "banco españa , poder judici , medida urgent , zona afectada , estatuto gernika , campo gibraltar , convocatoria extraordinaria , mayor cincuenta , seguridad social , transición energética , salida reino , ahora mismo , paí vasco , presentar nombr , defensa iniciativa , popular ciudadano , proyecto presupuesto , puesto trabajo , creación empleo , política económica\n",
            "Topic 33:\n",
            "comisión europea , conjunto sociedad , duda alguna , permanent pertenecient , economía española , creación empleo , comunidad autónoma , comisión nacion , estatuto autonomía , derecho humano , hecho sido , seguridad social , estatuto gernika , zona afectada , salida reino , convocatoria extraordinaria , medida urgent , ahora mismo , poder judici , mayor cincuenta\n",
            "Topic 34:\n",
            "medio comunicación , ciudadano ciudadana , política migratoria , formulada número , fijación posicion , diputada doña , poder judici , mayor cincuenta , convocatoria extraordinaria , salida reino , medida urgent , seguridad social , estatuto gernika , ahora mismo , zona afectada , transición energética , campo gibraltar , cualquier caso , procedimiento urgencia , hecho sido\n",
            "Topic 35:\n",
            "fuerza política , encima mesa , hecho referencia , popular congreso , salvamento marítimo , artículo constitución , comú podemen , hecho sido , pacto toledo , convocatoria extraordinaria , seguridad social , salida reino , zona afectada , estatuto gernika , ahora mismo , poder judici , medida urgent , mayor cincuenta , transición energética , campo gibraltar\n",
            "Topic 36:\n",
            "entidad local , presentar nombr , llegar acuerdo , proyecto procedimiento , toma consideración , ministra hacienda , mejor dicho , ministra transición , último doce , popular ciudadano , rentabilidad razon , cualquier caso , hecho sido , salida reino , estatuto gernika , seguridad social , convocatoria extraordinaria , zona afectada , ahora mismo , poder judici\n",
            "Topic 37:\n",
            "actividad económica , transición ecológica , gran canaria , administración gener , podemgalicia común , estatuto gernika , convocatoria extraordinaria , salida reino , medida urgent , zona afectada , seguridad social , ahora mismo , poder judici , transición energética , mayor cincuenta , campo gibraltar , pertenecient popular , justicia social , fijación posicion , formación profesion\n",
            "Topic 38:\n",
            "podemen marea , convocar eleccion , sector público , comparecencia ministra , ahora mismo , seguridad social , estatuto gernika , zona afectada , convocatoria extraordinaria , salida reino , poder judici , mayor cincuenta , medida urgent , transición energética , campo gibraltar , cualquier caso , pacto toledo , popular ciudadano , mercado labor , justicia social\n",
            "Topic 39:\n",
            "tribun constitucion , administracion pública , puesto trabajo , empleado público , zona afectada , ahora mismo , convocatoria extraordinaria , poder judici , salida reino , seguridad social , estatuto gernika , medida urgent , mayor cincuenta , transición energética , campo gibraltar , mínimo interprofesion , política social , pesca alimentación , miembro diputación , pertenecient popular\n",
            "Topic 40:\n",
            "vasco legarda , nacion unida , presupuesto general , tan important , seguridad social , salida reino , zona afectada , convocatoria extraordinaria , ahora mismo , estatuto gernika , medida urgent , poder judici , transición energética , mayor cincuenta , campo gibraltar , millon persona , último doce , mejor dicho , justicia social , mercado labor\n"
          ]
        }
      ]
    },
    {
      "cell_type": "code",
      "source": [
        "# LDA genera una matríz en la que asigna a cada uno de los 200 bigramas una probabilidad de ocurrencia para cada uno de los 40 topics\n",
        "lda.components_.shape"
      ],
      "metadata": {
        "id": "RWahOK2KA1sZ",
        "outputId": "692865d2-90cd-4e9f-dcfc-a57091916a80",
        "colab": {
          "base_uri": "https://localhost:8080/"
        }
      },
      "execution_count": null,
      "outputs": [
        {
          "output_type": "execute_result",
          "data": {
            "text/plain": [
              "(40, 200)"
            ]
          },
          "metadata": {},
          "execution_count": 105
        }
      ]
    },
    {
      "cell_type": "markdown",
      "source": [
        "# NNMF"
      ],
      "metadata": {
        "id": "3MmcFXtZFBC-"
      }
    },
    {
      "cell_type": "code",
      "source": [
        "from sklearn.decomposition import NMF"
      ],
      "metadata": {
        "id": "h2qBPF8UFY0m"
      },
      "execution_count": null,
      "outputs": []
    },
    {
      "cell_type": "code",
      "source": [
        "nmf = NMF(n_components=40, random_state=1).fit(matrix)"
      ],
      "metadata": {
        "id": "qd3p4CyEFAkJ",
        "outputId": "e7cc9f5e-2767-4c93-8ca1-680716382769",
        "colab": {
          "base_uri": "https://localhost:8080/"
        }
      },
      "execution_count": null,
      "outputs": [
        {
          "output_type": "stream",
          "name": "stderr",
          "text": [
            "/usr/local/lib/python3.7/dist-packages/sklearn/decomposition/_nmf.py:294: FutureWarning: The 'init' value, when 'init=None' and n_components is less than n_samples and n_features, will be changed from 'nndsvd' to 'nndsvda' in 1.1 (renaming of 0.26).\n",
            "  FutureWarning,\n"
          ]
        }
      ]
    },
    {
      "cell_type": "code",
      "source": [
        "display_topics(nmf, feature_names=cv.get_feature_names_out(),  no_top_words=20)"
      ],
      "metadata": {
        "id": "2bMdP1QuFRO8",
        "outputId": "0bda653d-1468-4f9a-b9ef-240573ff97c1",
        "colab": {
          "base_uri": "https://localhost:8080/"
        }
      },
      "execution_count": null,
      "outputs": [
        {
          "output_type": "stream",
          "name": "stdout",
          "text": [
            "Topic 1:\n",
            "comunidad madrid , unido podemo , toda españa , formación profesion , acuerd convocatoria , posicion mixto , acuerdo retirada , suficient miembro , estatuto gernika , política española , convocatoria extraordinaria , presentar nombr , gasto público , relacion cort , tribun supremo , resolv problema , marco financiero , buena tard , mercado labor , comú podemgalicia\n",
            "Topic 2:\n",
            "vasco legarda , comisión europea , salvamento marítimo , encima mesa , pleno cámara , derecho libertad , comparecencia ministra , igualdad oportunidad , cuerpo seguridad , rodríguez hernández , crisi económica , tribun constitucion , presupuesto general , adoptar medida , tribun supremo , relacion cort , podemgalicia común , hombr mujer , resolv problema , estatuto autonomía\n",
            "Topic 3:\n",
            "sistema público , pesca alimentación , quiero decirl , política migratoria , suficient miembro , presentar nombr , legarda uriart , ministra hacienda , crecimiento económico , salida reino , llegar acuerdo , proyecto procedimiento , adoptan medida , trabajador trabajadora , buena tard , rentabilidad razon , cuerpo seguridad , tribun supremo , techo gasto , resolv problema\n",
            "Topic 4:\n",
            "ministra trabajo , economía española , pertenecient popular , cuenta pública , paí vasco , moción censura , legarda uriart , reforma labor , ministra transición , entrada vigor , mismo tiempo , miembro diputación , tribun supremo , nacion unida , efecto llamada , política española , alta velocidad , llegar acuerdo , proyecto procedimiento , protección civil\n",
            "Topic 5:\n",
            "política social , consejo europeo , hace falta , administracion pública , urgent necesidad , mínimo interprofesion , radiotelevisión española , permanent pertenecient , justicia social , tribun constitucion , doce mese , regeneración democrática , creación empleo , hecho referencia , seguridad jurídica , convocatoria extraordinaria , nacion unida , unida podemo , trabajador trabajadora , pedro sánchez\n",
            "Topic 6:\n",
            "entidad local , crecimiento económico , trabajador trabajadora , proyecto procedimiento , llegar acuerdo , crisi económica , ministra hacienda , toda medida , unida podemosen , acatar constitución , rentabilidad razon , mejor dicho , presentar nombr , seguridad social , último mese , toma consideración , comisión europea , quiero decirl , nacion unida , salida reino\n",
            "Topic 7:\n",
            "hace mese , cuidado paliativo , función pública , moción censura , efecto llamada , economía española , diputación permanent , seguridad jurídica , comisión nacion , próxima legislatura , unida podemo , mayor cincuenta , poder judici , formulada número , acuerdo retirada , candidato presidencia , tribun constitucion , pedro sánchez , alta velocidad , tribun supremo\n",
            "Topic 8:\n",
            "unido unión , sociedad española , urgent necesidad , convocar eleccion , permanent pertenecient , sistema educativo , igualdad oportunidad , diputación permanent , ordenamiento jurídico , extraordinaria urgent , encima mesa , salida reino , cuerpo seguridad , derecho libertad , resolv problema , techo gasto , dar respuesta , sector público , mercado labor , toda medida\n",
            "Topic 9:\n",
            "código penal , permanent pertenecient , trabajador trabajadora , diputación permanent , función pública , cuidado paliativo , urgent necesidad , radiotelevisión española , mínimo interprofesion , dar respuesta , extraordinaria urgent , derecho libertad , unido podemosen , gasto público , tribun supremo , sistema educativo , pedro sánchez , hecho referencia , justicia social , alta velocidad\n",
            "Topic 10:\n",
            "transición ecológica , nacion unida , nacion mercado , pedro sánchez , comú podemen , miembro diputación , ministra adelant , hoja ruta , agricultura pesca , pertenecient popular , mismo tiempo , gasto público , comparecencia ministra , igualdad oportunidad , dominio público , proyecto procedimiento , campaña elector , unida podemosen , entrada vigor , trabajador trabajadora\n",
            "Topic 11:\n",
            "actividad económica , administración gener , acuerdo retirada , estatuto gernika , si quier , alta velocidad , comunidad autónoma , acatar constitución , permanent pertenecient , reino unido , acuerd convocatoria , paí vasco , cualquier caso , servicio público , política migratoria , sistema educativo , tribun supremo , campaña elector , justicia social , radiotelevisión española\n",
            "Topic 12:\n",
            "millon persona , política española , economía española , paí vasco , marco financiero , pertenecient popular , acatar constitución , comú podemen , acuerd convocatoria , ministra adelant , acuerdo retirada , mejor dicho , comú podemgalicia , comisión europea , presupuesto general , reforma labor , reino unido , campaña elector , espinosa montero , resolv problema\n",
            "Topic 13:\n",
            "salario mínimo , efecto llamada , ministra adelant , próxima legislatura , cuerpo seguridad , economía española , comisión nacion , gasto público , protección civil , alta velocidad , toda españa , toma consideración , pedro sánchez , techo gasto , víctima violencia , trabajador trabajadora , nacion unida , seguridad jurídica , sistema seguridad , pacto toledo\n",
            "Topic 14:\n",
            "open arm , constitución española , derecho libertad , pedro sánchez , borrà castany , nacion unida , ministra adelant , seguridad social , salvamento marítimo , candidato presidencia , rodríguez hernández , podemgalicia común , sistema seguridad , trabajador trabajadora , resolv problema , tan important , tribun supremo , unido podemo , hecho referencia , doña maría\n",
            "Topic 15:\n",
            "si quier , estabilidad presupuestaria , servicio público , legarda uriart , nacion unida , alta velocidad , hecho referencia , diálogo social , administración gener , acatar constitución , tribun supremo , campaña elector , miembro diputación , formulada número , sistema seguridad , mejor dicho , pedro sánchez , encima mesa , techo gasto , doce mese\n",
            "Topic 16:\n",
            "número suficient , toda persona , suficient miembro , presentar nombr , legarda uriart , nacion unida , política española , candidato presidencia , servicio público , unido podemo , reino unido , trabajador trabajadora , relacion cort , unida podemo , presupuesto general , dar respuesta , miembro diputación , procedimiento urgencia , sector público , cualquier caso\n",
            "Topic 17:\n",
            "medio comunicación , fijación posicion , poder judici , mayor cincuenta , convocatoria extraordinaria , unido podemosen , unida podemo , protección civil , ciudadano ciudadana , cuerpo seguridad , extraordinaria urgent , convalidación derogación , comisión nacion , seguridad jurídica , confeder unido , ningún tipo , doce mese , gasto público , lucha cambio , hoja ruta\n",
            "Topic 18:\n",
            "podemosen comú , migracion seguridad , crecimiento económico , acatar constitución , interé gener , rentabilidad razon , cualquier caso , ministra transición , crisi económica , convocatoria extraordinaria , ministra hacienda , unida podemosen , transición energética , nacion unida , toda medida , miembro diputación , entrada vigor , relacion cort , mejor dicho , encima mesa\n",
            "Topic 19:\n",
            "fuerza cuerpo , thoma cook , ministra hacienda , mismo tiempo , adoptan medida , rentabilidad razon , trabajador trabajadora , crecimiento económico , legarda uriart , presentar nombr , quiero decirl , presupuesto general , política española , consejo europeo , nacion unida , podemgalicia común , buena tard , salida reino , poner marcha , dar respuesta\n",
            "Topic 20:\n",
            "derecho humano , diputación permanent , creación empleo , administracion pública , comparecencia ministra , derecho libertad , acuerd convocatoria , sector público , candidato presidencia , moción censura , mínimo interprofesion , poner marcha , economía española , encima mesa , trabajador trabajadora , doce mese , nacion unida , presentar nombr , víctima violencia , tribun supremo\n",
            "Topic 21:\n",
            "fuerza política , trabajador trabajadora , convocatoria extraordinaria , comparecencia ministra , agricultura pesca , nacion unida , cuerpo seguridad , igualdad oportunidad , tribun supremo , gasto público , techo gasto , mejor dicho , pacto toledo , resolv problema , diputación permanent , ordenamiento jurídico , extraordinaria urgent , artículo constitución , formulada número , creación empleo\n",
            "Topic 22:\n",
            "conjunto sociedad , pleno cámara , salvamento marítimo , toda medida , reino unido , crecimiento económico , comisión europea , mercado labor , seguridad social , nacion unida , podemgalicia común , encima mesa , cualquier caso , comú podemen , crisi económica , presupuesto general , rodríguez hernández , cuerpo seguridad , sector público , ministra hacienda\n",
            "Topic 23:\n",
            "unión europea , comparecencia ministra , pertenecient popular , creación empleo , comisión nacion , si quier , dominio público , doce mese , seguridad jurídica , ministra transición , entrada vigor , guardia civil , alta velocidad , ministra adelant , pedro sánchez , acatar constitución , economía española , cuenta pública , cuerpo seguridad , tribun constitucion\n",
            "Topic 24:\n",
            "extraordinaria comisión , creación empleo , comú podemgalicia , seguridad social , unido podemosen , gasto público , convocar eleccion , regeneración democrática , marco financiero , política social , próxima legislatura , ciudadano ciudadana , comparecencia ministra , convalidación derogación , artículo constitución , pacto toledo , justicia social , eleccion general , adoptar medida , poner marcha\n",
            "Topic 25:\n",
            "cambio climático , toda medida , unida podemosen , comunidad autónoma , entrada vigor , diálogo social , ministra transición , comisión nacion , seguridad jurídica , efecto llamada , mejor dicho , nacion unida , pedro sánchez , miembro diputación , servicio público , ministra adelant , cuerpo seguridad , economía española , extraordinaria urgent , igualdad oportunidad\n",
            "Topic 26:\n",
            "subida salario , administracion pública , trabajador trabajadora , marco financiero , cualquier caso , ministra adelant , mínimo interprofesion , presentar nombr , administración gener , acuerdo retirada , poner marcha , toda españa , formación profesion , suficient miembro , candidato presidencia , crecimiento económico , tribun constitucion , acatar constitución , encima mesa , thoma cook\n",
            "Topic 27:\n",
            "comunidad valenciana , entrega cuenta , comú podemen , nacion unida , proyecto europeo , espinosa montero , proyecto procedimiento , llegar acuerdo , tribun supremo , podemgalicia común , miembro diputación , rentabilidad razon , salvamento marítimo , unida podemo , pedro sánchez , servicio público , hecho referencia , resolv problema , igualdad oportunidad , acuerd convocatoria\n",
            "Topic 28:\n",
            "gran canaria , rentabilidad razon , administración gener , alta velocidad , agricultura pesca , política migratoria , eleccion general , ministra hacienda , último doce , extraordinaria urgent , crecimiento económico , sociedad española , servicio público , entrada vigor , cuerpo seguridad , cualquier caso , efecto llamada , empleado público , pertenecient popular , ordenamiento jurídico\n",
            "Topic 29:\n",
            "proyecto presupuesto , reforma labor , cuenta pública , eleccion general , crisi económica , entrada vigor , seguridad social , mismo tiempo , comú podemgalicia , ministra transición , crecimiento económico , administracion pública , pertenecient popular , política migratoria , formación profesion , mínimo interprofesion , creación empleo , defensa iniciativa , legarda uriart , cualquier caso\n",
            "Topic 30:\n",
            "podemen marea , gasto público , función pública , cuidado paliativo , trabajador trabajadora , hecho referencia , resolv problema , convocar eleccion , crisi económica , techo gasto , pacto toledo , nacion unida , comparecencia ministra , mercado labor , sector público , consejo europeo , eleccion general , hombr mujer , regeneración democrática , último doce\n",
            "Topic 31:\n",
            "guardia civil , proyecto europeo , proyecto procedimiento , llegar acuerdo , unida podemosen , posicion mixto , pertenecient popular , si quier , nacion unida , servicio público , mejor dicho , toma consideración , acuerd convocatoria , diálogo social , miembro diputación , entrada vigor , pedro sánchez , techo gasto , salvamento marítimo , cuenta pública\n",
            "Topic 32:\n",
            "popular ciudadano , unida podemosen , posicion mixto , presentar nombr , toma consideración , encima mesa , rentabilidad razon , trabajador trabajadora , nacion unida , estatuto gernika , espinosa montero , pedro sánchez , proyecto europeo , techo gasto , ministra hacienda , política migratoria , hecho referencia , adoptan medida , igualdad oportunidad , hecho sido\n",
            "Topic 33:\n",
            "ill balear , política económica , interé gener , proyecto europeo , posicion mixto , acatar constitución , nacion unida , proyecto procedimiento , llegar acuerdo , toda españa , crecimiento económico , formación profesion , trabajador trabajadora , convocatoria extraordinaria , mejor dicho , unida podemosen , crisi económica , candidato presidencia , sistema educativo , entrada vigor\n",
            "Topic 34:\n",
            "energía renov , diálogo social , crisi económica , crecimiento económico , estatuto gernika , cualquier caso , llegar acuerdo , proyecto procedimiento , salida reino , rentabilidad razon , trabajador trabajadora , unida podemosen , cuerpo seguridad , encima mesa , acatar constitución , comisión europea , interé gener , quiero decirl , posicion mixto , formación profesion\n",
            "Topic 35:\n",
            "ahora mismo , comú podemgalicia , relacion cort , marco financiero , paí vasco , resolv problema , igualdad oportunidad , tribun constitucion , crisi económica , convocatoria extraordinaria , crecimiento económico , mercado labor , dar respuesta , encima mesa , ministra adelant , economía española , seguridad jurídica , miembro diputación , presupuesto general , doce mese\n",
            "Topic 36:\n",
            "popular congreso , borrà castany , derecho libertad , gasto público , comú podemen , trabajador trabajadora , pedro sánchez , nacion unida , pleno cámara , encima mesa , candidato presidencia , regeneración democrática , igualdad oportunidad , ministra adelant , comparecencia ministra , techo gasto , presentar nombr , hecho referencia , podemgalicia común , cualquier caso\n",
            "Topic 37:\n",
            "cort igualdad , acatar constitución , toda españa , formación profesion , acuerd convocatoria , estatuto gernika , suficient miembro , posicion mixto , entrada vigor , hoja ruta , eleccion general , poder judici , agricultura pesca , cuerpo seguridad , mayor cincuenta , presentar nombr , ministra transición , si quier , proyecto europeo , comunidad autónoma\n",
            "Topic 38:\n",
            "sere humano , política migratoria , presentar nombr , pesca alimentación , crisi económica , ministra hacienda , salida reino , adoptan medida , quiero decirl , tribun supremo , crecimiento económico , próxima legislatura , gasto público , cualquier caso , nacion unida , espinosa montero , trabajador trabajadora , podemgalicia común , rodríguez hernández , mercado labor\n",
            "Topic 39:\n",
            "zona afectada , suficient miembro , cuidado paliativo , función pública , ministra adelant , trabajador trabajadora , presentar nombr , derecho libertad , moción censura , relacion cort , mínimo interprofesion , presupuesto general , seguridad social , buena tard , política española , reino unido , mercado labor , gasto público , diputación permanent , dar respuesta\n",
            "Topic 40:\n",
            "asunto exterior , eleccion general , poner marcha , unido podemosen , unida podemo , convocar eleccion , ministra adelant , extraordinaria urgent , diputación permanent , permanent pertenecient , convalidación derogación , thoma cook , creación empleo , marco financiero , espinosa montero , urgent necesidad , justicia social , trabajador trabajadora , sistema educativo , hoja ruta\n"
          ]
        }
      ]
    }
  ]
}