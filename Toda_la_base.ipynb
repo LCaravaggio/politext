{
  "nbformat": 4,
  "nbformat_minor": 0,
  "metadata": {
    "colab": {
      "provenance": [],
      "authorship_tag": "ABX9TyNahsHMurZ3asT1wN1LbJHB",
      "include_colab_link": true
    },
    "kernelspec": {
      "name": "python3",
      "display_name": "Python 3"
    },
    "language_info": {
      "name": "python"
    }
  },
  "cells": [
    {
      "cell_type": "markdown",
      "metadata": {
        "id": "view-in-github",
        "colab_type": "text"
      },
      "source": [
        "<a href=\"https://colab.research.google.com/github/LCaravaggio/politext/blob/main/Toda_la_base.ipynb\" target=\"_parent\"><img src=\"https://colab.research.google.com/assets/colab-badge.svg\" alt=\"Open In Colab\"/></a>"
      ]
    },
    {
      "cell_type": "markdown",
      "source": [
        "# Carga"
      ],
      "metadata": {
        "id": "IZB2PyNbGUSI"
      }
    },
    {
      "cell_type": "code",
      "execution_count": 1,
      "metadata": {
        "id": "L5ZNEGEF0aRa"
      },
      "outputs": [],
      "source": [
        "import pandas as pd\n",
        "import numpy as np\n",
        "from collections import Counter\n",
        "import ast"
      ]
    },
    {
      "cell_type": "code",
      "source": [
        "from google.colab import drive\n",
        "drive.mount('/content/drive')"
      ],
      "metadata": {
        "colab": {
          "base_uri": "https://localhost:8080/"
        },
        "id": "bkOUGBwH1bYL",
        "outputId": "bf8486f8-2b5d-4a49-db1f-6ea42437fd46"
      },
      "execution_count": 2,
      "outputs": [
        {
          "output_type": "stream",
          "name": "stdout",
          "text": [
            "Mounted at /content/drive\n"
          ]
        }
      ]
    },
    {
      "cell_type": "code",
      "source": [
        "# Se lee la base original\n",
        "base=pd.read_csv('/content/drive/MyDrive/par_esp_interventions_l1_l13.csv')"
      ],
      "metadata": {
        "colab": {
          "base_uri": "https://localhost:8080/"
        },
        "id": "v8kZsj9_1dyL",
        "outputId": "a03540b2-47a8-45a4-e5a7-1271e062a5ad"
      },
      "execution_count": 33,
      "outputs": [
        {
          "output_type": "stream",
          "name": "stderr",
          "text": [
            "/usr/local/lib/python3.7/dist-packages/IPython/core/interactiveshell.py:3326: DtypeWarning: Columns (17) have mixed types.Specify dtype option on import or set low_memory=False.\n",
            "  exec(code_obj, self.user_global_ns, self.user_ns)\n"
          ]
        }
      ]
    },
    {
      "cell_type": "code",
      "source": [
        "base.party.unique()"
      ],
      "metadata": {
        "id": "QRXafhqcTMPQ",
        "outputId": "f38294b5-8a0d-468e-90f5-4b185be57eeb",
        "colab": {
          "base_uri": "https://localhost:8080/"
        }
      },
      "execution_count": 34,
      "outputs": [
        {
          "output_type": "execute_result",
          "data": {
            "text/plain": [
              "array(['UCD, AP-PDP, CP', 'PSOE', 'UCD', 'PNV', 'PDC, CiU',\n",
              "       'AP, CD, AP-PDP, CP, PP', 'PCE', 'PSA', 'UPC', 'PSC-PSOE', 'ERC',\n",
              "       'EE', 'PSE-PSOE, PSE-EE', 'PSUC-PCE', 'UCD, CDS', 'PSdeG-PSOE',\n",
              "       'CAIC, PAR, AP-PDP', 'UN', 'UCD, UPN, AP-PDP, CP, UPN-PP',\n",
              "       'PSA, PA', 'UCD, CC-UCD', 'CD', 'UCD, CP', 'PSE-PSOE', 'PCE, IU',\n",
              "       'UCD, CP, PP', 'Independiente, CD, AP-PDP, CP', nan, 'UCD, PP',\n",
              "       'CC-UCD, CiU', 'CiU', 'UCD, CD, AP-PDP, CP, PP', 'CD, AP-PDP',\n",
              "       'PDC, PSC-PSOE', 'UCD, CC', 'UCD, AP-PDP, CP, PP', 'US-PSP, PSOE',\n",
              "       'UCD, AP-PDP', 'AP, CD, AP-PDP, CP', 'UCD, PSOE (PAD), PSOE',\n",
              "       'UC-DCC, CC-UCD', 'UCD, PSOE (PAD)', 'PSP, PSOE', 'DC, CiU',\n",
              "       'CC-UCD', 'UCD, PSOE', 'PSUC-PCE, PSC-PSOE[1]<U+200B>',\n",
              "       'PCE, PSOE', 'PSOE, IU', 'AL, UCD', 'AP, CD, AP-PDP',\n",
              "       'PSC-PSOE[1]<U+200B>', 'PSC-PSOE (PSA)', 'CiU, PP',\n",
              "       'PNV[3]<U+200B>, EA', 'UCD, CDS, PP', 'AP-PDP, CP',\n",
              "       'AP-PDP, CP, PP', 'AP-PDP', 'UCD, AP-PDP, CP, CDS', 'UCD, AIC, CC',\n",
              "       'AP-PDP-UV, CP, PP', 'AP-PDP-UV, CP', 'UCD, AP-PDP, PP',\n",
              "       'AP-PDP-UV', 'CAIC, AP-PDP, PAR', 'AP-PDP-UV, CP, PP, Vox',\n",
              "       'AP, AP-PDP, CP, PP', 'UPN-AP-PDP', 'AP-PDP-UV, UV', 'CDS', 'IU',\n",
              "       'UEC (PSUC), IC, PSC-PSOE', 'UCD, CG', 'AIC', 'CP',\n",
              "       'IU, PSdeG-PSOE', 'CP, PP', 'PP', 'CP, CDS',\n",
              "       'Independiente[5]<U+200B>, CP', 'UPN-CP', 'CP, CiU', 'CP, PP-CG',\n",
              "       'PNV, EA', 'HB', 'UV', 'PAR', 'IU-EUPV', 'PA', 'IC', 'IU, PDNI',\n",
              "       'UCD, CP, UPN-PP', 'PP-CG, PP', 'UPN-PP', 'PP, PP-PAR', 'EA',\n",
              "       'EE, PSE-EE (PSOE)', 'CC', 'BNG', 'ICV', 'CHA', 'CiU, DL, CDC',\n",
              "       'PP-PAR, PP', 'PSE-EE (PSOE)', 'IU, PDNI, PSOE', 'PP[7]<U+200B>',\n",
              "       'PP, PP-EU', 'UV, PP', 'IU, PSOE', 'IC, ICV', 'PP-PAR',\n",
              "       'PP, PP-FORO', 'IU, Más País', 'IU-EB', 'PSUC-PCE, PSC-PSOE',\n",
              "       'EA, PNV', 'CiU, PDeCAT', 'ICV-EUiA', 'NaBai, GBai', 'ERC-ERPV',\n",
              "       'AP-PDP, PP', 'CC, NC', 'PSOE (Los Verdes)', 'PP, Vox',\n",
              "       'CC, CC-PNC', 'UPyD', 'CC (API-AIC), CC-PNC', 'UPN-PP, PP',\n",
              "       'JxCat', 'IU, IU-UPeC, UP', 'Amaiur', 'FORO',\n",
              "       'Compromís, Podemos-C., Més C.', 'PP-EU', 'UPyD, PSOE',\n",
              "       'CC-NC, PSOE-NCa', 'IU-EUPV, Podemos-Compromís',\n",
              "       'EUiA, ERC (Sobiranistes)', 'PP[7]', \"UPyD, C's\",\n",
              "       'Amaiur, EH Bildu', 'PSOE, PSOE-NCa', 'PP-EU, PP', 'EH Bildu',\n",
              "       'En Marea (EU), UP', 'NA+ (UPN)', 'DL', 'Podemos, UP', \"C's\",\n",
              "       'ECP', 'En Marea (Anova)', 'DL, CDC', 'PP, FORO', 'IU-UPeC',\n",
              "       'Podemos-Compromís', 'Podemos, UP, Más País',\n",
              "       'CiU, DL, CDC, JxCat', 'DL, CDC, JxCat', 'PP-FORO', \"PSOE, C's\",\n",
              "       'Podemos (Equo), UP', 'UP (IU)', 'ECP (ICV)', 'En Marea (Podemos)',\n",
              "       'En Marea (Podemos), UP', 'CDC, JxCat', 'Podemos-Compromís, UP',\n",
              "       'ECP (EUiA)', 'UP', 'Vox', 'PRC'], dtype=object)"
            ]
          },
          "metadata": {},
          "execution_count": 34
        }
      ]
    },
    {
      "cell_type": "code",
      "source": [
        "base['partido']=base['party']\n",
        "base.party.replace(dict.fromkeys(['PSC-PSOE', 'PSE-PSOE, PSE-EE', 'PSE-EE', 'PSE-PSOE', 'PDC, PSC-PSOE', 'US-PSP, PSOE', 'UCD, PSOE (PAD), PSOE', \n",
        "                    'PSP, PSOE', 'UCD, PSOE', 'UCD, PSOE', 'PSUC-PCE, PSC-PSOE[1]<U+200B>', 'PCE, PSOE', 'PSOE, IU', 'PSOE, IU', 'PSC-PSOE[1]<U+200B>', 'PSC-PSOE (PSA)', \n",
        "                    'UEC (PSUC), IC, PSC-PSOE', 'IU, PSdeG-PSOE', 'EE, PSE-EE (PSOE)', 'PSE-EE (PSOE)', 'IU, PDNI, PSOE', 'IU, PSOE', 'PSUC-PCE, PSC-PSOE', 'PSOE (Los Verdes)', \n",
        "                    'UPyD, PSOE', 'PSOE, PSOE-NCa', \"PSOE, C's\"],['PSOE']), inplace=True)\n",
        "base.party.replace(dict.fromkeys(['AP, CD, AP-PDP, CP, PP', 'UCD, UPN, AP-PDP, CP, UPN-PP', 'UCD, CP, PP', 'UCD, PP', 'UCD, CD, AP-PDP, CP, PP', 'CD, AP-PDP', 'UCD, AP-PDP, CP', 'UCD, AP-PDP, CP, PP'\n",
        "                    'AP-PDP-UV', 'CAIC, AP-PDP, PAR', 'AP, AP-PDP, CP, PP', 'UPN-AP-PDP', 'AP-PDP-UV, UV', 'CP, PP', 'CP, PP-CG','UCD, CP, UPN-PP', 'PP-CG, PP', 'UPN-PP'\n",
        "                    'PP, PP-PAR', 'PP-PAR, PP', 'PP, PP-EU', 'UV, PP', 'PP-PAR', 'PP, PP-FORO', 'AP-PDP, PP', 'UPN-PP, PP', 'PP-EU', 'PP-EU, PP', 'PP, FORO','AP-PDP-UV, CP'\n",
        "                    'UCD, CDS, PP', 'AP-PDP, CP', 'AP-PDP, CP, PP', 'AP-PDP', 'UCD, AP-PDP, CP, CDS'],['PP']), inplace=True)"
      ],
      "metadata": {
        "id": "Bm_1JmYsUE8r"
      },
      "execution_count": 40,
      "outputs": []
    },
    {
      "cell_type": "code",
      "source": [
        "base.party.unique()"
      ],
      "metadata": {
        "id": "nz9-HyLjbGk6",
        "outputId": "b0a46457-e33d-4ac9-a36f-babca20ab6ff",
        "colab": {
          "base_uri": "https://localhost:8080/"
        }
      },
      "execution_count": 41,
      "outputs": [
        {
          "output_type": "execute_result",
          "data": {
            "text/plain": [
              "array(['PP', 'PSOE', 'UCD', 'PNV', 'PDC, CiU', 'PCE', 'PSA', 'UPC', 'ERC',\n",
              "       'EE', 'PSUC-PCE', 'UCD, CDS', 'PSdeG-PSOE', 'CAIC, PAR, AP-PDP',\n",
              "       'UN', 'PSA, PA', 'UCD, CC-UCD', 'CD', 'UCD, CP', 'PCE, IU',\n",
              "       'Independiente, CD, AP-PDP, CP', nan, 'CC-UCD, CiU', 'CiU',\n",
              "       'UCD, CC', 'UCD, AP-PDP, CP, PP', 'UCD, AP-PDP',\n",
              "       'AP, CD, AP-PDP, CP', 'UC-DCC, CC-UCD', 'UCD, PSOE (PAD)',\n",
              "       'DC, CiU', 'CC-UCD', 'AL, UCD', 'AP, CD, AP-PDP', 'CiU, PP',\n",
              "       'PNV[3]<U+200B>, EA', 'UCD, CDS, PP', 'UCD, AIC, CC',\n",
              "       'AP-PDP-UV, CP, PP', 'AP-PDP-UV, CP', 'UCD, AP-PDP, PP',\n",
              "       'AP-PDP-UV', 'AP-PDP-UV, CP, PP, Vox', 'CDS', 'IU', 'UCD, CG',\n",
              "       'AIC', 'CP', 'CP, CDS', 'Independiente[5]<U+200B>, CP', 'UPN-CP',\n",
              "       'CP, CiU', 'PNV, EA', 'HB', 'UV', 'PAR', 'IU-EUPV', 'PA', 'IC',\n",
              "       'IU, PDNI', 'UPN-PP', 'PP, PP-PAR', 'EA', 'CC', 'BNG', 'ICV',\n",
              "       'CHA', 'CiU, DL, CDC', 'PP[7]<U+200B>', 'IC, ICV', 'IU, Más País',\n",
              "       'IU-EB', 'EA, PNV', 'CiU, PDeCAT', 'ICV-EUiA', 'NaBai, GBai',\n",
              "       'ERC-ERPV', 'CC, NC', 'PP, Vox', 'CC, CC-PNC', 'UPyD',\n",
              "       'CC (API-AIC), CC-PNC', 'JxCat', 'IU, IU-UPeC, UP', 'Amaiur',\n",
              "       'FORO', 'Compromís, Podemos-C., Més C.', 'CC-NC, PSOE-NCa',\n",
              "       'IU-EUPV, Podemos-Compromís', 'EUiA, ERC (Sobiranistes)', 'PP[7]',\n",
              "       \"UPyD, C's\", 'Amaiur, EH Bildu', 'EH Bildu', 'En Marea (EU), UP',\n",
              "       'NA+ (UPN)', 'DL', 'Podemos, UP', \"C's\", 'ECP', 'En Marea (Anova)',\n",
              "       'DL, CDC', 'IU-UPeC', 'Podemos-Compromís', 'Podemos, UP, Más País',\n",
              "       'CiU, DL, CDC, JxCat', 'DL, CDC, JxCat', 'PP-FORO',\n",
              "       'Podemos (Equo), UP', 'UP (IU)', 'ECP (ICV)', 'En Marea (Podemos)',\n",
              "       'En Marea (Podemos), UP', 'CDC, JxCat', 'Podemos-Compromís, UP',\n",
              "       'ECP (EUiA)', 'UP', 'Vox', 'PRC'], dtype=object)"
            ]
          },
          "metadata": {},
          "execution_count": 41
        }
      ]
    },
    {
      "cell_type": "code",
      "source": [
        "# Se conservan solamente las intervenciones de los partidos PSOE y PP\n",
        "base=base[(base['party'] == 'PSOE') | (base['party'] == 'PP')]"
      ],
      "metadata": {
        "id": "dgovIufl1oJq"
      },
      "execution_count": 42,
      "outputs": []
    },
    {
      "cell_type": "code",
      "source": [
        "# La base está completa 1979-2019 !!\n",
        "a=pd.DatetimeIndex(base.fecha).year.unique().tolist()\n",
        "a.sort()\n",
        "for x in a: \n",
        "  print(f\"{x}: {base[pd.DatetimeIndex(base.fecha).year==x].party.unique()}\")"
      ],
      "metadata": {
        "id": "XG8WXqQ_x114",
        "outputId": "1e0ddbb0-a7cb-4b9e-a504-d6245a6e201d",
        "colab": {
          "base_uri": "https://localhost:8080/"
        }
      },
      "execution_count": 43,
      "outputs": [
        {
          "output_type": "stream",
          "name": "stdout",
          "text": [
            "1979: ['PP' 'PSOE']\n",
            "1980: ['PSOE' 'PP']\n",
            "1981: ['PSOE' 'PP']\n",
            "1982: ['PSOE' 'PP']\n",
            "1983: ['PSOE' 'PP']\n",
            "1984: ['PSOE' 'PP']\n",
            "1985: ['PSOE' 'PP']\n",
            "1986: ['PSOE' 'PP']\n",
            "1987: ['PSOE' 'PP']\n",
            "1988: ['PSOE' 'PP']\n",
            "1989: ['PSOE' 'PP']\n",
            "1990: ['PSOE' 'PP']\n",
            "1991: ['PSOE' 'PP']\n",
            "1992: ['PSOE' 'PP']\n",
            "1993: ['PSOE' 'PP']\n",
            "1994: ['PSOE' 'PP']\n",
            "1995: ['PSOE' 'PP']\n",
            "1996: ['PSOE' 'PP']\n",
            "1997: ['PP' 'PSOE']\n",
            "1998: ['PP' 'PSOE']\n",
            "1999: ['PP' 'PSOE']\n",
            "2000: ['PP' 'PSOE']\n",
            "2001: ['PP' 'PSOE']\n",
            "2002: ['PP' 'PSOE']\n",
            "2003: ['PP' 'PSOE']\n",
            "2004: ['PP' 'PSOE']\n",
            "2005: ['PSOE' 'PP']\n",
            "2006: ['PSOE' 'PP']\n",
            "2007: ['PSOE' 'PP']\n",
            "2008: ['PSOE' 'PP']\n",
            "2009: ['PSOE' 'PP']\n",
            "2010: ['PSOE' 'PP']\n",
            "2011: ['PSOE' 'PP']\n",
            "2012: ['PP' 'PSOE']\n",
            "2013: ['PP' 'PSOE']\n",
            "2014: ['PP' 'PSOE']\n",
            "2015: ['PP' 'PSOE']\n",
            "2016: ['PP' 'PSOE']\n",
            "2017: ['PP' 'PSOE']\n",
            "2018: ['PP' 'PSOE']\n",
            "2019: ['PP' 'PSOE']\n"
          ]
        }
      ]
    },
    {
      "cell_type": "code",
      "source": [
        "# Elimino de la base las intervenciones del Presidente de la cámara\n",
        "base=base[(base['role'] != 'PRESIDENTE, PRESIDENTA') | (base['role'] != 'PRESIDENTE DEL CONGRESO DE LOS DIPUTADOS')]"
      ],
      "metadata": {
        "id": "dhbKq8uX1t_4"
      },
      "execution_count": 44,
      "outputs": []
    },
    {
      "cell_type": "code",
      "source": [
        "import nltk\n",
        "nltk.download('stopwords')\n",
        "from nltk.corpus import stopwords\n",
        "stopwords=stopwords.words('spanish')\n",
        "nltk.download('punkt')\n",
        "from nltk.tokenize import word_tokenize\n",
        "import string\n",
        "from nltk.stem.porter import PorterStemmer"
      ],
      "metadata": {
        "colab": {
          "base_uri": "https://localhost:8080/"
        },
        "id": "RNVsu84Y16U5",
        "outputId": "85040b18-fe2e-4afb-a11f-1a311134b97b"
      },
      "execution_count": 45,
      "outputs": [
        {
          "output_type": "stream",
          "name": "stderr",
          "text": [
            "[nltk_data] Downloading package stopwords to /root/nltk_data...\n",
            "[nltk_data]   Unzipping corpora/stopwords.zip.\n",
            "[nltk_data] Downloading package punkt to /root/nltk_data...\n",
            "[nltk_data]   Unzipping tokenizers/punkt.zip.\n"
          ]
        }
      ]
    },
    {
      "cell_type": "code",
      "source": [
        "# Se incorporan las stopwords sugeridas por Federico\n",
        "stopwords.extend(['señor', 'señora', 'mucha', 'gracia', 'año', 'pasado', 'cada', 'vez', 'uno', 'dos', 'tres', 'cuatro', 'cinco', 'seis' ,'siete', 'ocho', 'nueve', 'diez'])\n",
        "stopwords.extend(['hoy', 'aquí', 'primer', 'lugar', 'primera', 'segunda', 'primero', 'segundo', 'siguiente', 'tercer'])\n",
        "stopwords.extend(['convergencia', 'esquerra', 'republicana', 'grupo', 'parlamentaria', 'parlamentario', 'partido'])\n",
        "stopwords.extend(['enmienda', 'votación', 'favor', 'abstención', 'ley', 'real', 'decreto', 'decretoley', 'resultado', 'voto', 'sé' ,'sí', 'silencio' ,'favor'])\n",
        "stopwords.extend(['usted', 'señoría', 'presidente', 'presidenta', 'ministro', 'orden' , 'día', 'palabra', 'petición', 'posición', 'punto', 'vista', 'sesión', 'baldoví', 'duran', 'turno'])\n",
        "stopwords.extend(['hacer', 'frente', 'puede' ,'ser', 'va', 'voy', 'decir'])\n",
        "stopwords.extend(['millón', 'euro', 'emitido', 'efectuada', 'dio', 'comienzo', 'partido', 'queda', 'quedan', 'rechazada', 'aceptada', 'comienza', 'usted', 'sabe', 'abstención', 'diputado', 'gobierno'])\n",
        "stopwords.extend(['continuación', 'votamos', 'telemático', 'republicanaizquierda', 'unidainiciativa', 'puede', 'bien', 'propuesta' ,'abstencion', 'mayoría', 'absoluta', 'pregunta', 'don', 'vamos', 'votar', 'llevar', 'cabo', 'millón', 'muchas', 'gracias'])"
      ],
      "metadata": {
        "id": "RALkdTYF2AGT"
      },
      "execution_count": 46,
      "outputs": []
    },
    {
      "cell_type": "code",
      "source": [
        "# Esta celda tarda unos 45 minutos en correr\n",
        "porter_stemmer = PorterStemmer()\n",
        "\n",
        "base['tokens']=\"\"\n",
        "for ind in base.index:\n",
        "    #elimino puntuación\n",
        "    non_punctuation = base['intervention'][ind].translate(str.maketrans('', '', string.punctuation))\n",
        "    word_tokens = word_tokenize(non_punctuation)\n",
        "\n",
        "    #elimino stopwords\n",
        "    tokens=[w for w in word_tokens if not w.lower() in stopwords]\n",
        "\n",
        "    #stemming\n",
        "    stemmers = [porter_stemmer.stem(word) for word in tokens]\n",
        "    base['tokens'][ind] = [stem for stem in stemmers if stem.isalpha() and len(stem) > 1]"
      ],
      "metadata": {
        "colab": {
          "base_uri": "https://localhost:8080/"
        },
        "id": "3MOXEmLa4bJq",
        "outputId": "6db7188a-5086-48ec-e412-99b588c2a7fb"
      },
      "execution_count": 47,
      "outputs": [
        {
          "output_type": "stream",
          "name": "stderr",
          "text": [
            "/usr/local/lib/python3.7/dist-packages/ipykernel_launcher.py:15: SettingWithCopyWarning: \n",
            "A value is trying to be set on a copy of a slice from a DataFrame\n",
            "\n",
            "See the caveats in the documentation: https://pandas.pydata.org/pandas-docs/stable/user_guide/indexing.html#returning-a-view-versus-a-copy\n",
            "  from ipykernel import kernelapp as app\n"
          ]
        }
      ]
    },
    {
      "cell_type": "markdown",
      "source": [
        "# CV"
      ],
      "metadata": {
        "id": "DGXL1PFubO1X"
      }
    },
    {
      "cell_type": "code",
      "source": [
        "base['party'].value_counts()"
      ],
      "metadata": {
        "id": "cmCxT85hEyXg",
        "outputId": "04c7b019-12f4-4aa2-95e8-f6bb96757f6a",
        "colab": {
          "base_uri": "https://localhost:8080/"
        }
      },
      "execution_count": 107,
      "outputs": [
        {
          "output_type": "execute_result",
          "data": {
            "text/plain": [
              "PSOE    189526\n",
              "PP      144895\n",
              "Name: party, dtype: int64"
            ]
          },
          "metadata": {},
          "execution_count": 107
        }
      ]
    },
    {
      "cell_type": "code",
      "source": [
        "from sklearn.model_selection import train_test_split\n",
        "base['tokens']=base[\"tokens\"].map(' '.join)\n",
        "X_train, X_test, y_train, y_test = train_test_split(base.loc[:, base.columns != 'party'], base['party'], test_size=0.33, random_state=42)"
      ],
      "metadata": {
        "id": "K97ay8J3F60U"
      },
      "execution_count": 48,
      "outputs": []
    },
    {
      "cell_type": "code",
      "source": [
        "# Balance de clase\n",
        "y_train.value_counts()"
      ],
      "metadata": {
        "colab": {
          "base_uri": "https://localhost:8080/"
        },
        "id": "3bTAet19F-IX",
        "outputId": "230c354f-6895-45a4-8921-6f86e18fb3e7"
      },
      "execution_count": 49,
      "outputs": [
        {
          "output_type": "execute_result",
          "data": {
            "text/plain": [
              "PSOE    127260\n",
              "PP       96802\n",
              "Name: party, dtype: int64"
            ]
          },
          "metadata": {},
          "execution_count": 49
        }
      ]
    },
    {
      "cell_type": "code",
      "source": [
        "from sklearn.feature_extraction.text import CountVectorizer\n",
        "cv=CountVectorizer(ngram_range=[2,2], max_features=200, stop_words=stopwords, max_df=0.95, min_df=0.001)\n",
        "vec = cv.fit(X_train['tokens'])"
      ],
      "metadata": {
        "id": "4DJ5xDWCGAnk"
      },
      "execution_count": 50,
      "outputs": []
    },
    {
      "cell_type": "code",
      "source": [
        "train_matrix = vec.fit_transform(X_train['tokens'])\n",
        "test_matrix = vec.transform(X_test['tokens'])"
      ],
      "metadata": {
        "id": "egJ2P5OvOXwm"
      },
      "execution_count": 51,
      "outputs": []
    },
    {
      "cell_type": "markdown",
      "source": [
        "# LASSO"
      ],
      "metadata": {
        "id": "he5iXGwabZZj"
      }
    },
    {
      "cell_type": "code",
      "source": [
        "from sklearn.linear_model import LogisticRegression\n",
        "lr = LogisticRegression(penalty='l1', max_iter=1000, solver='liblinear')"
      ],
      "metadata": {
        "id": "tRJkiHV4OaNW"
      },
      "execution_count": 52,
      "outputs": []
    },
    {
      "cell_type": "code",
      "source": [
        "lr.fit(train_matrix,y_train)"
      ],
      "metadata": {
        "colab": {
          "base_uri": "https://localhost:8080/"
        },
        "id": "4e5xEAYfOcKP",
        "outputId": "05e2227e-e787-4fe6-bfe0-376339178869"
      },
      "execution_count": 53,
      "outputs": [
        {
          "output_type": "execute_result",
          "data": {
            "text/plain": [
              "LogisticRegression(max_iter=1000, penalty='l1', solver='liblinear')"
            ]
          },
          "metadata": {},
          "execution_count": 53
        }
      ]
    },
    {
      "cell_type": "code",
      "source": [
        "predictions = lr.predict(test_matrix)"
      ],
      "metadata": {
        "id": "UQcg6iZ6Od8x"
      },
      "execution_count": 54,
      "outputs": []
    },
    {
      "cell_type": "code",
      "source": [
        "from sklearn.metrics import confusion_matrix,classification_report\n",
        "new = np.asarray(y_test)\n",
        "confusion_matrix(predictions,y_test)"
      ],
      "metadata": {
        "colab": {
          "base_uri": "https://localhost:8080/"
        },
        "id": "MTitT84vOfsh",
        "outputId": "7b9c47aa-1be4-4e05-a202-8e6b0faa5de6"
      },
      "execution_count": 55,
      "outputs": [
        {
          "output_type": "execute_result",
          "data": {
            "text/plain": [
              "array([[ 8010,  3205],\n",
              "       [40083, 59061]])"
            ]
          },
          "metadata": {},
          "execution_count": 55
        }
      ]
    },
    {
      "cell_type": "code",
      "source": [
        "print(classification_report(predictions,y_test))"
      ],
      "metadata": {
        "colab": {
          "base_uri": "https://localhost:8080/"
        },
        "id": "yE2hFlZvOhRW",
        "outputId": "f96befc4-0ac8-4e43-b885-10a46c75e716"
      },
      "execution_count": 56,
      "outputs": [
        {
          "output_type": "stream",
          "name": "stdout",
          "text": [
            "              precision    recall  f1-score   support\n",
            "\n",
            "          PP       0.17      0.71      0.27     11215\n",
            "        PSOE       0.95      0.60      0.73     99144\n",
            "\n",
            "    accuracy                           0.61    110359\n",
            "   macro avg       0.56      0.65      0.50    110359\n",
            "weighted avg       0.87      0.61      0.68    110359\n",
            "\n"
          ]
        }
      ]
    },
    {
      "cell_type": "code",
      "source": [
        "# Relevancia de bigramas en la predicción\n",
        "features=[]\n",
        "for i,v in enumerate(lr.coef_[0]):\n",
        "  features.append([vec.get_feature_names_out()[i],v ])"
      ],
      "metadata": {
        "id": "aWUa5xpiOjmD"
      },
      "execution_count": 57,
      "outputs": []
    },
    {
      "cell_type": "code",
      "source": [
        "sorted(features, key = lambda x: x[1])"
      ],
      "metadata": {
        "colab": {
          "base_uri": "https://localhost:8080/"
        },
        "id": "Q0bwziNOOlbQ",
        "outputId": "13237131-b68d-40fd-9ae5-f15feb34c761"
      },
      "execution_count": 58,
      "outputs": [
        {
          "output_type": "execute_result",
          "data": {
            "text/plain": [
              "[['número formula', -4.3861130658792575],\n",
              " ['izquierda plural', -2.2466874318493795],\n",
              " ['feder izquierda', -2.027487247108514],\n",
              " ['nombr popular', -1.5635775312802238],\n",
              " ['portavoz socialista', -1.4195382839989956],\n",
              " ['rodríguez zapatero', -1.197704298595716],\n",
              " ['congreso formula', -1.0077398993664552],\n",
              " ['interpelación urgent', -0.6793571894987039],\n",
              " ['vaya concluyendo', -0.6675018181584642],\n",
              " ['diputada doña', -0.6452845245924306],\n",
              " ['creación empleo', -0.5258121883415662],\n",
              " ['comunidad económica', -0.5122350504096251],\n",
              " ['coalición canaria', -0.3739256124037703],\n",
              " ['fijación posicion', -0.3365938626354865],\n",
              " ['ministerio economía', -0.31799172497580475],\n",
              " ['déficit público', -0.26565683790452255],\n",
              " ['pueblo español', -0.256783261686082],\n",
              " ['desean fijar', -0.2565650511060583],\n",
              " ['servicio social', -0.2408817724246959],\n",
              " ['sociedad española', -0.23415783491958303],\n",
              " ['si quier', -0.20185058056055788],\n",
              " ['seguridad jurídica', -0.19703847748453032],\n",
              " ['convergència unió', -0.17823444661861557],\n",
              " ['fuerza cuerpo', -0.16302619123859785],\n",
              " ['ordenamiento jurídico', -0.16100033613862613],\n",
              " ['impuesto renta', -0.1558335049217787],\n",
              " ['quiero decirl', -0.15195518274097353],\n",
              " ['moción consecuencia', -0.14926691366042608],\n",
              " ['ningún caso', -0.14767077370423018],\n",
              " ['tan important', -0.14196311029836847],\n",
              " ['toda comunidad', -0.1417842088462473],\n",
              " ['izquierda unida', -0.1396830164891251],\n",
              " ['administracion pública', -0.13083107456914828],\n",
              " ['economía española', -0.1271603208883864],\n",
              " ['hace falta', -0.1238754109011664],\n",
              " ['constitución española', -0.1238150826677104],\n",
              " ['comunidad valenciana', -0.12046472759531114],\n",
              " ['exposición motivo', -0.11867303198280552],\n",
              " ['crecimiento económico', -0.11479555426856704],\n",
              " ['consideración proposición', -0.11125346158772419],\n",
              " ['diputación permanent', -0.10677161923017452],\n",
              " ['quiero recordar', -0.10655260830023035],\n",
              " ['diario sesion', -0.10597708947525734],\n",
              " ['puesto trabajo', -0.10357049348802436],\n",
              " ['consejo seguridad', -0.0971535860857462],\n",
              " ['función pública', -0.09206613645817345],\n",
              " ['artículo reglamento', -0.09202613937249642],\n",
              " ['disposición final', -0.0914615227627709],\n",
              " ['director gener', -0.08851925077123285],\n",
              " ['opinión pública', -0.0857247172825917],\n",
              " ['ciudadano español', -0.08347053330157622],\n",
              " ['agent social', -0.07952679628531498],\n",
              " ['cualquier caso', -0.07903835500267724],\n",
              " ['presupuesto general', -0.07221993564168731],\n",
              " ['toma consideración', -0.07185048792713358],\n",
              " ['crisi económica', -0.06834213924086911],\n",
              " ['interior bruto', -0.06645107153651449],\n",
              " ['interé gener', -0.06387022899274579],\n",
              " ['consecuencia interpelación', -0.06285217415511898],\n",
              " ['medio ambient', -0.06145686122955691],\n",
              " ['empresa pública', -0.061160062796879404],\n",
              " ['mediana empresa', -0.05952921879164292],\n",
              " ['unión europea', -0.05927747138189845],\n",
              " ['medio comunicación', -0.058560672015495585],\n",
              " ['crédito extraordinario', -0.04957050522927377],\n",
              " ['tribun supremo', -0.04810813985835256],\n",
              " ['millon peseta', -0.041307615856158934],\n",
              " ['persona física', -0.03966416262269651],\n",
              " ['gener poder', -0.0395369391249456],\n",
              " ['paí vasco', -0.03949933796864846],\n",
              " ['política económica', -0.036517344067924166],\n",
              " ['consejo europeo', -0.03574587570979026],\n",
              " ['formación profesion', -0.03558764239865563],\n",
              " ['alto cargo', -0.03294378958219652],\n",
              " ['alta velocidad', -0.03287112713550447],\n",
              " ['asunto social', -0.028948076758894027],\n",
              " ['sistema nacion', -0.02876471926217786],\n",
              " ['pequeña mediana', -0.026756241470574153],\n",
              " ['estabilidad presupuestaria', -0.02377509286402604],\n",
              " ['poder adquisitivo', -0.02232460532018628],\n",
              " ['corporacion local', -0.02202009145544514],\n",
              " ['proyecto orgánica', -0.021257885597123532],\n",
              " ['administración gener', -0.020640533968971538],\n",
              " ['tribun cuenta', -0.020270014561200058],\n",
              " ['artículo constitución', -0.019399097674695855],\n",
              " ['banco españa', -0.01494282768608306],\n",
              " ['comisión nacion', -0.011855619870516183],\n",
              " ['derecho libertad', -0.011848263566795204],\n",
              " ['parlamento europeo', -0.011376196530232432],\n",
              " ['iniciativa legislativa', -0.010753563788784995],\n",
              " ['administración pública', -0.008304413048451509],\n",
              " ['sistema educativo', -0.007801399061884952],\n",
              " ['gasto público', -0.007499401318629798],\n",
              " ['fuerza armada', -0.004858812972832289],\n",
              " ['derecho humano', -0.003432026113890412],\n",
              " ['responsabilidad política', -0.002683128017279469],\n",
              " ['tribun constitucion', -0.0025548239056145845],\n",
              " ['asunto exterior', -0.001420414891387451],\n",
              " ['ministerio interior', -0.000389622683846859],\n",
              " ['violencia género', -0.00036233896023294294],\n",
              " ['agencia tributaria', 0.0],\n",
              " ['consejo gener', 0.0],\n",
              " ['disposición transitoria', 0.00018558186459812948],\n",
              " ['comisión investigación', 0.0008112227885169683],\n",
              " ['tipo interé', 0.0010600343879015172],\n",
              " ['debat totalidad', 0.0010665492860938437],\n",
              " ['administración justicia', 0.003804344090454767],\n",
              " ['texto alternativo', 0.004001822056818597],\n",
              " ['radiotelevisión española', 0.004013266098498985],\n",
              " ['comunidad europea', 0.004018063633656285],\n",
              " ['guardia civil', 0.00484325597246763],\n",
              " ['comunidad autónoma', 0.00659338515365071],\n",
              " ['cort general', 0.00682815992560535],\n",
              " ['pacto toledo', 0.007196453030636608],\n",
              " ['entrada vigor', 0.007404700160974369],\n",
              " ['programa elector', 0.0074696692133336875],\n",
              " ['defensor pueblo', 0.008573909259561635],\n",
              " ['sentencia tribun', 0.010168137019379977],\n",
              " ['sistema financiación', 0.010495834408086954],\n",
              " ['impuesto sociedad', 0.010673247616623811],\n",
              " ['nacion salud', 0.011290761005817345],\n",
              " ['seguridad social', 0.011629034039684375],\n",
              " ['vasco pnv', 0.015198369277017933],\n",
              " ['ministerio justicia', 0.016071748967265227],\n",
              " ['código penal', 0.016266620201466842],\n",
              " ['dirección gener', 0.01762354918535154],\n",
              " ['plan nacion', 0.020036641965567786],\n",
              " ['poder judici', 0.023452532073623345],\n",
              " ['sánchez llibr', 0.026440929033097124],\n",
              " ['semana pasada', 0.0284372849516308],\n",
              " ['presión fiscal', 0.030478366969559374],\n",
              " ['deuda pública', 0.03177876652457132],\n",
              " ['sector público', 0.034157541949660766],\n",
              " ['obra pública', 0.038454714597228046],\n",
              " ['actividad económica', 0.03856384740307261],\n",
              " ['proyecto presupuesto', 0.043838408949825304],\n",
              " ['protección social', 0.04664918607464506],\n",
              " ['tener cuenta', 0.0470302104400922],\n",
              " ['hace mese', 0.04901052667906887],\n",
              " ['comisión mixta', 0.05120276759966587],\n",
              " ['reino unido', 0.05181894268396995],\n",
              " ['ningún tipo', 0.051844726028874265],\n",
              " ['puesto marcha', 0.05202974864685814],\n",
              " ['nacion unida', 0.05312406455399435],\n",
              " ['sistema financiero', 0.05528249711993729],\n",
              " ['política exterior', 0.05711905168390549],\n",
              " ['ahora mismo', 0.059276664623201844],\n",
              " ['servicio público', 0.06170546999389111],\n",
              " ['disposición adicion', 0.06619352992089905],\n",
              " ['estatuto autonomía', 0.0678521378144169],\n",
              " ['llegar acuerdo', 0.07145144077522109],\n",
              " ['administración central', 0.07231674845877936],\n",
              " ['sector privado', 0.07903740912543852],\n",
              " ['carácter gener', 0.083064591970165],\n",
              " ['ver si', 0.08520898944089368],\n",
              " ['organismo autónomo', 0.08842220989112286],\n",
              " ['puesta marcha', 0.08878126267070194],\n",
              " ['hace tiempo', 0.08899994221398787],\n",
              " ['poner marcha', 0.1000537935907893],\n",
              " ['país europeo', 0.11140024769098206],\n",
              " ['situación económica', 0.11192953451704478],\n",
              " ['último mese', 0.11289006388378936],\n",
              " ['comisión europea', 0.11292884581915055],\n",
              " ['ruego concluya', 0.11655623216352037],\n",
              " ['ministerio educación', 0.12104717414134465],\n",
              " ['largo plazo', 0.12261533572193765],\n",
              " ['mismo tiempo', 0.13349843945339496],\n",
              " ['poder público', 0.13614269309617877],\n",
              " ['política fiscal', 0.13669996170611082],\n",
              " ['fuerza política', 0.13945150338221857],\n",
              " ['resolv problema', 0.14090403511114175],\n",
              " ['proposición popular', 0.14243396935740443],\n",
              " ['cuerpo seguridad', 0.15252540243376783],\n",
              " ['mercado trabajo', 0.15319225871882172],\n",
              " ['mayor part', 0.15867574848674465],\n",
              " ['voluntad política', 0.17656830786972755],\n",
              " ['economía hacienda', 0.18023084037964837],\n",
              " ['si así', 0.1803413699753263],\n",
              " ['hace referencia', 0.1845670333820506],\n",
              " ['alguna manera', 0.19176703691968067],\n",
              " ['duda alguna', 0.1967255466205252],\n",
              " ['forma part', 0.20374484062847148],\n",
              " ['popular congreso', 0.2201865095731273],\n",
              " ['salario mínimo', 0.23387603213819957],\n",
              " ['producto interior', 0.2410152304048654],\n",
              " ['aquel momento', 0.24746345615603393],\n",
              " ['económico social', 0.24907481168531964],\n",
              " ['ss ss', 0.25810213062423576],\n",
              " ['hecho referencia', 0.26381528649608793],\n",
              " ['dar respuesta', 0.2717519827058619],\n",
              " ['reforma labor', 0.2749422486117906],\n",
              " ['política social', 0.28189957792628845],\n",
              " ['izquierda per', 0.2865565397464096],\n",
              " ['económica europea', 0.411658508065003],\n",
              " ['nombr socialista', 0.4200806793996523],\n",
              " ['dictamen comisión', 0.8014916116500084],\n",
              " ['per catalunya', 1.020132406089342],\n",
              " ['coalición popular', 1.0810763039704983],\n",
              " ['minoría catalana', 1.4419658861753482],\n",
              " ['catalunya verd', 1.5932203809513623]]"
            ]
          },
          "metadata": {},
          "execution_count": 58
        }
      ]
    },
    {
      "cell_type": "code",
      "source": [
        "# Entiendo que un número negativo en el coeficiente implica que el bigrama correlaciona bien con la clase 0, es decir PP. Por el otro lado, un coeficiente positivo implica que el bigrama correlaciona mejor con PSOE. \n",
        "lr.classes_"
      ],
      "metadata": {
        "colab": {
          "base_uri": "https://localhost:8080/"
        },
        "id": "miQgxc59jxZp",
        "outputId": "80130b84-091b-4b78-acdd-ac9d7d8cac6c"
      },
      "execution_count": 59,
      "outputs": [
        {
          "output_type": "execute_result",
          "data": {
            "text/plain": [
              "array(['PP', 'PSOE'], dtype=object)"
            ]
          },
          "metadata": {},
          "execution_count": 59
        }
      ]
    },
    {
      "cell_type": "code",
      "source": [
        "# LASOO por año\n",
        "from sklearn.metrics import f1_score\n",
        "\n",
        "macro=[]\n",
        "weighted=[]\n",
        "\n",
        "lr = LogisticRegression(penalty='l1', max_iter=1000, solver='liblinear')\n",
        "\n",
        "for x in range(1979,2019): \n",
        "  try: \n",
        "    base_year=base[pd.DatetimeIndex(base.fecha).year==x]\n",
        "    X_train, X_test, y_train, y_test = train_test_split(base_year.loc[:, base_year.columns != 'party'], base_year['party'], test_size=0.33, random_state=42)\n",
        "    train_matrix = vec.fit_transform(X_train['tokens'])\n",
        "    test_matrix = vec.transform(X_test['tokens'])  \n",
        "    lr.fit(train_matrix,y_train)\n",
        "    predictions = lr.predict(test_matrix )\n",
        "    macro.append(f1_score(predictions,y_test, average='macro'))\n",
        "    weighted.append(f1_score(predictions,y_test, average='weighted'))\n",
        "  except: \n",
        "    macro.append(np.nan)\n",
        "    weighted.append(np.nan)"
      ],
      "metadata": {
        "id": "vT5GTcSJPGT7"
      },
      "execution_count": 60,
      "outputs": []
    },
    {
      "cell_type": "code",
      "source": [
        "# Yo entiendo que el resultado relevante es el macro, porque considera el desbalance de clases\n",
        "import matplotlib.pyplot as plt\n",
        "plt.plot(range(1979,2019), macro, marker='o')\n",
        "plt.plot(range(1979,2019), weighted, marker='+')"
      ],
      "metadata": {
        "colab": {
          "base_uri": "https://localhost:8080/",
          "height": 282
        },
        "id": "7laI6FgJRSyr",
        "outputId": "83553df7-5ce5-47cc-c962-d2784e5c03d2"
      },
      "execution_count": 61,
      "outputs": [
        {
          "output_type": "execute_result",
          "data": {
            "text/plain": [
              "[<matplotlib.lines.Line2D at 0x7ffb4da63cd0>]"
            ]
          },
          "metadata": {},
          "execution_count": 61
        },
        {
          "output_type": "display_data",
          "data": {
            "text/plain": [
              "<Figure size 432x288 with 1 Axes>"
            ],
            "image/png": "[encoded data removed]"
          },
          "metadata": {
            "needs_background": "light"
          }
        }
      ]
    },
    {
      "cell_type": "code",
      "source": [
        "# LASOO por legislatura\n",
        "macro=[]\n",
        "weighted=[]\n",
        "\n",
        "lr = LogisticRegression(penalty='l1', max_iter=1000, solver='liblinear')\n",
        "legislaturas=['I', 'II', 'III', 'IV', 'V', 'VI', 'VII','VIII', 'IX', 'X', 'XI', 'XII','XIII']\n",
        "\n",
        "for x in legislaturas: \n",
        "  try: \n",
        "    base_year=base[base.legislatura==x]\n",
        "    X_train, X_test, y_train, y_test = train_test_split(base_year.loc[:, base_year.columns != 'party'], base_year['party'], test_size=0.33, random_state=42)\n",
        "    train_matrix = vec.fit_transform(X_train['tokens'])\n",
        "    test_matrix = vec.transform(X_test['tokens'])  \n",
        "    lr.fit(train_matrix,y_train)\n",
        "    predictions = lr.predict(test_matrix )\n",
        "    macro.append(f1_score(predictions,y_test, average='macro'))\n",
        "    weighted.append(f1_score(predictions,y_test, average='weighted'))\n",
        "  except: \n",
        "    macro.append(np.nan)\n",
        "    weighted.append(np.nan)"
      ],
      "metadata": {
        "id": "tdGW6WkIY2JD"
      },
      "execution_count": 62,
      "outputs": []
    },
    {
      "cell_type": "code",
      "source": [
        "# Yo entiendo que el resultado relevante es el macro, porque considera el desbalance de clases\n",
        "import matplotlib.pyplot as plt\n",
        "plt.plot(legislaturas, macro, marker='o')\n",
        "plt.plot(legislaturas, weighted, marker='+')"
      ],
      "metadata": {
        "colab": {
          "base_uri": "https://localhost:8080/",
          "height": 282
        },
        "id": "eyA7ffAeZQbN",
        "outputId": "924d40cf-572b-4f21-e18f-b1373b754a6a"
      },
      "execution_count": 63,
      "outputs": [
        {
          "output_type": "execute_result",
          "data": {
            "text/plain": [
              "[<matplotlib.lines.Line2D at 0x7ffb5f813fd0>]"
            ]
          },
          "metadata": {},
          "execution_count": 63
        },
        {
          "output_type": "display_data",
          "data": {
            "text/plain": [
              "<Figure size 432x288 with 1 Axes>"
            ],
            "image/png": "[encoded data removed]"
          },
          "metadata": {
            "needs_background": "light"
          }
        }
      ]
    },
    {
      "cell_type": "code",
      "source": [
        "# Relevancia de bigramas en la predicción por año\n",
        "for x in range (1979, 2020): \n",
        "  base_year=base[pd.DatetimeIndex(base.fecha).year==x]\n",
        "  X_train, X_test, y_train, y_test = train_test_split(base_year.loc[:, base_year.columns != 'party'], base_year['party'], test_size=0.33, random_state=42)\n",
        "  train_matrix = vec.fit_transform(X_train['tokens'])\n",
        "  test_matrix = vec.transform(X_test['tokens'])\n",
        "  lr = LogisticRegression(penalty='l1', max_iter=1000, solver='liblinear')\n",
        "  lr.fit(train_matrix,y_train)\n",
        "  predictions = lr.predict(test_matrix )\n",
        "  features=[]\n",
        "  for i,v in enumerate(lr.coef_[0]):\n",
        "    features.append([vec.get_feature_names_out()[i],v ])\n",
        "  sor=sorted(features, key = lambda x: x[1])\n",
        "  print(f\"Año: {x}\")\n",
        "  print(sor[:5])\n",
        "  print(sor[-5:])"
      ],
      "metadata": {
        "id": "zrM6LDzu-R-8",
        "outputId": "9c5bd8c5-9be9-45da-bc89-a4ee22f325fa",
        "colab": {
          "base_uri": "https://localhost:8080/"
        }
      },
      "execution_count": 97,
      "outputs": [
        {
          "output_type": "stream",
          "name": "stdout",
          "text": [
            "Año: 1979\n",
            "[['publicada boletín', -2.4014092397624025], ['precedido uso', -1.3877652315007014], ['economía mercado', -1.368743669716857], ['coalición democrática', -1.1137081976910643], ['derecho huelga', -0.9212623017273052]]\n",
            "[['convenio colectivo', 1.1671273523081962], ['ministerio interior', 1.2020891331698724], ['sector eléctrico', 1.295579410326265], ['formacion política', 1.3089210483762828], ['director gener', 1.330368898395301]]\n",
            "Año: 1980\n",
            "[['aprobado artículo', -2.8306572378052026], ['pérez royo', -2.3055710926962556], ['artículo pausa', -2.0542056995009594], ['senado artículo', -2.007267628933476], ['número socialista', -1.5494447716828346]]\n",
            "[['plan urgencia', 1.3619121009176105], ['unión centro', 1.3672023231835395], ['justicia militar', 1.3935027789433985], ['formación profesion', 1.516075528657475], ['seguridad jurídica', 1.858434335104462]]\n",
            "Año: 1981\n",
            "[['santa sede', -1.9494441316825946], ['quiero dejar', -1.0255288691540982], ['derecho comparado', -0.9889046119629769], ['portavoz socialista', -0.9424340810457957], ['poder público', -0.8403823023315374]]\n",
            "[['relación tema', 1.1668009125535301], ['saber si', 1.1741745027480683], ['socialista cataluña', 1.2480539343483579], ['largo debat', 1.6055057504510757], ['acuerdo santa', 2.440334286410068]]\n",
            "Año: 1982\n",
            "[['duda ninguna', -2.526228811694654], ['ningún caso', -1.5005686771621936], ['pueblo español', -1.3397044453070879], ['consignacion presupuestaria', -1.337879617790379], ['solé tura', -1.3161354527963405]]\n",
            "[['económica europea', 0.8517062054354368], ['texto alternativo', 0.8927695259578023], ['recurso natural', 1.4963635626782124], ['proceso autonómico', 1.713247360505726], ['resolv problema', 2.4233238362774503]]\n",
            "Año: 1983\n",
            "[['tan important', -1.3343813933900142], ['aplauso banco', -1.0913280742484313], ['texto artículo', -1.0067461864270277], ['libertad enseñanza', -0.8266700777327102], ['opinión pública', -0.8035520925064995]]\n",
            "[['consiguient aprobada', 2.28621763603997], ['tiempo máximo', 2.368616743806026], ['lópez lerma', 2.368631103575098], ['vaya terminando', 2.4793926815150673], ['pausa nulo', 2.503758242407625]]\n",
            "Año: 1984\n",
            "[['portavoz socialista', -1.9404465519758385], ['saber si', -1.5300372406031133], ['déficit público', -1.2125232671367678], ['política exterior', -1.1898215285349298], ['ent público', -1.0998716656110992]]\n",
            "[['tiempo máximo', 2.3411496058791905], ['terminado tiempo', 2.4547986917630205], ['pausa nulo', 2.489202421067164], ['vasco pnv', 2.6228734499831496], ['garcía agudín', 3.364654108669786]]\n",
            "Año: 1985\n",
            "[['banco derecha', -1.483153173183959], ['impuesto renta', -1.2047206483090303], ['asistencia sanitaria', -1.1772083583890454], ['opinión pública', -1.0464400601965604], ['administración pública', -1.0383737183658817]]\n",
            "[['fernández inguanzo', 2.0525935126349903], ['acuerdo dictamen', 2.197376469944782], ['mixto suscrita', 2.370994623242786], ['bravo laguna', 2.4197896613501864], ['conform dictamen', 2.852059308892546]]\n",
            "Año: 1986\n",
            "[['mercado común', -1.6706372642202238], ['cámara local', -1.5259990029845267], ['portavoz socialista', -1.4667608212789178], ['tan important', -1.4640114831529143], ['pueblo español', -1.3392920733555032]]\n",
            "[['sentencia tribun', 1.4437383227676783], ['dictamen comisión', 1.613718296660882], ['déficit público', 1.640025477432382], ['ruego concluya', 1.6651817849173507], ['garcía fonseca', 1.6848962649535442]]\n",
            "Año: 1987\n",
            "[['portavoz socialista', -1.957088758809892], ['director gener', -1.4530745147639057], ['opinión pública', -1.4443800545261827], ['pueblo español', -1.3586935011718426], ['hace falta', -1.3071319293787615]]\n",
            "[['pausa nulo', 2.4545818696307884], ['última instancia', 2.5747444518356692], ['bravo laguna', 3.5368913367656067], ['acta unica', 4.764284846702114], ['nombr socialista', 5.152588227437606]]\n",
            "Año: 1988\n",
            "[['portavoz socialista', -2.665207236266982], ['tan important', -1.402868874160097], ['hace tiempo', -1.286223566342249], ['consideración proposición', -1.2790751397986448], ['seguridad ciudadana', -1.215887507387197]]\n",
            "[['bravo laguna', 1.939493681403827], ['pérez dobón', 2.089229634020401], ['vasco pnv', 2.2572713645926448], ['ruego concluya', 2.7089632040602383], ['dictamen comisión', 3.522349008177509]]\n",
            "Año: 1989\n",
            "[['gran bretaña', -1.9562060609439746], ['economía española', -1.9138596611293759], ['director gener', -1.545322993436723], ['comunidad europea', -1.5154243548393094], ['portavoz socialista', -1.4748968372863853]]\n",
            "[['vasco pnv', 1.7263998353602448], ['política gener', 2.1795250525832723], ['cumbr europea', 2.208457409130615], ['ruego concluya', 2.2475480200489484], ['debo decirl', 2.664588895790783]]\n",
            "Año: 1990\n",
            "[['portavoz socialista', -2.96812793966253], ['banco derecha', -2.518446739856022], ['nombr popular', -1.9451466106107596], ['ministerio agricultura', -1.8350214905589262], ['ahora mismo', -1.572460155259359]]\n",
            "[['llegar acuerdo', 1.8515489395351978], ['hace tiempo', 2.0193724851423958], ['presupuesto ministerio', 2.3535818690562174], ['renta persona', 3.2270411009774356], ['ruego concluya', 3.465211395312646]]\n",
            "Año: 1991\n",
            "[['director gener', -2.2892177631564192], ['portavoz socialista', -1.8642224894380026], ['aplauso banco', -1.5031906939430837], ['banco derecha', -1.4073255280781531], ['ministerio sanidad', -1.2759129246062098]]\n",
            "[['palacio vallelersundi', 1.3534106321782267], ['vasco pnv', 1.4148763271201872], ['aprobado dictamen', 1.6626181896402423], ['sanidad consumo', 2.248745998466124], ['ruego concluya', 2.4252154122799365]]\n",
            "Año: 1992\n",
            "[['portavoz socialista', -2.339905430996911], ['aplauso banco', -1.737384837374178], ['vicepresident muñoz', -1.5131990589566984], ['aplauso escaño', -1.1052455086628536], ['exposición motivo', -1.0343449054654508]]\n",
            "[['gonzález lizondo', 2.0489440601149314], ['aprobado dictamen', 2.0704684108603804], ['garcía fonseca', 2.148768832915495], ['vasco pnv', 2.2478812806603212], ['ruego concluya', 3.494570592081691]]\n",
            "Año: 1993\n",
            "[['felip gonzález', -2.206783788893998], ['banco popular', -1.8739605465901055], ['portavoz socialista', -1.7205168099855155], ['boletín ofici', -1.5120856818979986], ['si así', -1.473822535068469]]\n",
            "[['desean fijar', 2.0465177733290645], ['gonzález lizondo', 2.145207403458644], ['aprobado dictamen', 2.2088007029320678], ['ruego concluya', 3.0337003949298675], ['crecimiento económico', 3.597648360519928]]\n",
            "Año: 1994\n",
            "[['portavoz socialista', -2.7382470345121015], ['ciudadano español', -1.7877268590529585], ['nombr popular', -1.7492072944910029], ['obra pública', -1.2843829921017733], ['sociedad española', -1.2033571065594917]]\n",
            "[['fernández trocóniz', 2.61275986768497], ['aprobado dictamen', 2.754090885959147], ['ciento ciento', 2.7932696977557345], ['feder izquierda', 2.9287073751332517], ['ruego concluya', 3.1503331420532072]]\n",
            "Año: 1995\n",
            "[['unión valenciana', -2.9827297524518777], ['nombr popular', -2.9059641560976854], ['diario sesion', -1.59228902899357], ['portavoz socialista', -1.586405633487019], ['déficit público', -1.5809691307890288]]\n",
            "[['secreto oficial', 2.1446103298667865], ['aprobado dictamen', 2.2096955959425673], ['congreso formula', 2.5880231685655937], ['ruego concluya', 2.8000287809789004], ['portavoz popular', 3.74735822388154]]\n",
            "Año: 1996\n",
            "[['ruego vaya', -3.5730131299856778], ['número formula', -3.4714986928545284], ['congreso formula', -2.7873876073105106], ['maría aznar', -2.5539970069092655], ['unión valenciana', -2.3038477086520146]]\n",
            "[['anterior legislatura', 1.2356074179522964], ['programa elector', 1.2626456601278335], ['resolv problema', 1.4858400265748881], ['portavoz popular', 2.0980188081949867], ['último mese', 2.1755495218553826]]\n",
            "Año: 1997\n",
            "[['número formula', -4.225163453904082], ['ruego vaya', -2.4161278391338326], ['consecuencia aprobada', -2.363908740402261], ['presentación defensa', -2.317471548752896], ['nombr catalán', -1.653760527373331]]\n",
            "[['comisión europea', 1.126982780306976], ['hace mese', 1.1748234197884821], ['semana pasada', 1.193839669557832], ['resolv problema', 1.2380859010178316], ['portavoz popular', 1.4274926963857393]]\n",
            "Año: 1998\n",
            "[['ruego vaya', -2.945251794505184], ['número formula', -2.3555128558800815], ['nombr feder', -2.025709509762688], ['portavoz socialista', -1.9775598437987172], ['nombr vasco', -1.8264384369414222]]\n",
            "[['diario sesion', 1.1826687520996995], ['portavoz popular', 1.238805558704594], ['ver si', 1.265285193669238], ['medio comunicación', 1.403945678781386], ['hace tiempo', 1.5441535682562553]]\n",
            "Año: 1999\n",
            "[['si ss', -3.306811874041937], ['ruego vaya', -2.9338989849323465], ['nombr feder', -2.76815127730427], ['martínez noval', -2.735538463072395], ['fijar nombr', -2.6318586032749267]]\n",
            "[['secretario gener', 1.01356788412083], ['responsabilidad política', 1.2086761799513819], ['resolv problema', 1.4158818871399783], ['compañía telefónica', 1.5435548451461], ['semana pasada', 1.5509878916648372]]\n",
            "Año: 2000\n",
            "[['número formula', -2.9140737312585494], ['pesca alimentación', -2.372141072815062], ['socialista formula', -2.266200986935685], ['si ss', -2.138483100306387], ['equilibrio presupuestario', -2.1321808666527344]]\n",
            "[['moción consecuencia', 0.9666801295838892], ['diario sesion', 1.0912860084384104], ['familia española', 1.2106265468154458], ['país europeo', 1.2187114535534644], ['billon peseta', 1.816370613303819]]\n",
            "Año: 2001\n",
            "[['número formula', -3.571900180645847], ['pesca alimentación', -3.0204508349223165], ['congreso formula', -2.988510157628261], ['si ss', -2.841359475988679], ['ruego concluya', -2.7854723015059784]]\n",
            "[['responsabilidad política', 1.1844358015614636], ['ciudadano español', 1.2157357233811779], ['último mese', 1.3429991965053607], ['ministra educación', 1.7152676084619518], ['vaca loca', 2.9508785651142944]]\n",
            "Año: 2002\n",
            "[['cultura deport', -4.0633287668819], ['número formula', -3.7428027374331707], ['portavoz socialista', -3.4749281645272476], ['ocupen escaño', -2.3477583719923616], ['creación empleo', -2.2687937209948497]]\n",
            "[['huelga gener', 1.358473653866731], ['medio comunicación', 1.5097684205041992], ['hace mese', 1.7633585259656885], ['resolv problema', 1.7831471335190003], ['comisión investigación', 1.8688441339365676]]\n",
            "Año: 2003\n",
            "[['alianza atlántica', -5.539922920007541], ['número formula', -3.7064507556012973], ['nombr popular', -3.4434654783989846], ['ocupen escaño', -3.0039622719217403], ['nombr catalán', -2.7098503190309002]]\n",
            "[['millon peseta', 1.1353369273279912], ['poder público', 1.2125086061969144], ['cort general', 1.2769969547861306], ['seguridad ciudadana', 1.2986673168091827], ['guerra irak', 1.9239584207174372]]\n",
            "Año: 2004\n",
            "[['portavoz socialista', -2.471148483155819], ['rodríguez zapatero', -2.2045483589923656], ['saber si', -1.7089130188271975], ['pasada legislatura', -1.5922172712006712], ['quiero recordar', -0.9532085265020404]]\n",
            "[['texto dictamen', 1.6729138921294024], ['diputada doña', 1.8462556695784385], ['legalidad internacion', 1.8772203301998942], ['derecho fundamental', 2.0601848983457973], ['precio petróleo', 2.5938411076515924]]\n",
            "Año: 2005\n",
            "[['rodríguez zapatero', -2.3999220957094334], ['portavoz socialista', -2.3327784357999395], ['política inmigración', -1.3754709371693319], ['digit terrestr', -1.2975979158867512], ['ministra fomento', -1.29375985821028]]\n",
            "[['portavoz popular', 1.7116977578589494], ['hombr mujer', 1.807603174129555], ['diputada doña', 1.856218134296408], ['izquierda verd', 1.9757094225104694], ['nombr socialista', 4.197427182657448]]\n",
            "Año: 2006\n",
            "[['rodríguez zapatero', -2.2365811230495245], ['portavoz socialista', -2.1976113419871006], ['fiscal gener', -1.92619204302536], ['toda españa', -1.3952424037758127], ['medio comunicación', -1.375052342686604]]\n",
            "[['turismo comercio', 1.609030477648871], ['sección relativo', 1.7107182514547123], ['tiempo concluido', 1.8707570751180627], ['diputada doña', 1.9116463164932858], ['portavoz popular', 3.651456235691991]]\n",
            "Año: 2007\n",
            "[['rodríguez zapatero', -2.2431579305793523], ['cien cien', -1.3480432213845905], ['constitución española', -1.3379109591215816], ['consejo gener', -1.3255228319942347], ['poder adquisitivo', -1.1317253956032087]]\n",
            "[['diputada doña', 2.0410018084777257], ['tiempo concluido', 2.257559911454702], ['partir ahí', 2.69227340099999], ['nombr socialista', 2.8433358486222073], ['administración justicia', 4.354324642152962]]\n",
            "Año: 2008\n",
            "[['ciudadano español', -2.4290129640495084], ['tomar medida', -2.3386211671563486], ['rodríguez zapatero', -1.968433730412617], ['crisi económica', -1.6991784860771295], ['política inmigración', -1.5478695752487628]]\n",
            "[['ir acabando', 1.7528367210751268], ['cohesión social', 2.183304141968516], ['catalunya verd', 2.229107742624246], ['turismo comercio', 2.6347202294513092], ['puedo asegurar', 3.1483837417389227]]\n",
            "Año: 2009\n",
            "[['millon parado', -3.6284361708638873], ['tan solo', -2.53833655621213], ['rodríguez zapatero', -2.4717582028328473], ['tasa paro', -2.3824534054705766], ['subida impuesto', -2.1884088748539656]]\n",
            "[['ciento pib', 1.8521038399082024], ['entidad local', 2.2373061018938576], ['organismo internacional', 2.415650116124707], ['puesta marcha', 2.67187263772851], ['modelo crecimiento', 3.132527757007644]]\n",
            "Año: 2010\n",
            "[['recort social', -3.966879268517203], ['rodríguez zapatero', -3.5232645153882367], ['ministerio fomento', -1.6287286007774748], ['derecho social', -1.5809091782395936], ['medio plazo', -1.5395301782525512]]\n",
            "[['turismo comercio', 1.963583846895185], ['reducción déficit', 2.091401786113756], ['josé lui', 2.390080478905886], ['consejo europeo', 3.0443038548672003], ['consolidación fiscal', 3.8653323526456873]]\n",
            "Año: 2011\n",
            "[['millon parado', -3.7761800302807056], ['rodríguez zapatero', -2.4893830859284893], ['responsabilidad política', -1.5870062105465226], ['junta andalucía', -1.52812423626812], ['estabilidad presupuestaria', -1.4426391246135397]]\n",
            "[['acabado tiempo', 1.500216917130855], ['económico social', 1.539834313427079], ['social igualdad', 1.8686342855731606], ['popular medida', 1.8961646303109516], ['interlocutor social', 2.063024071977345]]\n",
            "Año: 2012\n",
            "[['económico creación', -4.295978852757763], ['economía competitividad', -2.688007680939755], ['toda administracion', -2.60889071947587], ['reforma estructural', -2.403000110352023], ['partir ahí', -2.183902762567188]]\n",
            "[['política crecimiento', 1.503750839902377], ['ministerio hacienda', 1.720262909046504], ['activa empleo', 2.2471848971807424], ['cohesión social', 2.4913705654240843], ['amnistía fiscal', 2.5575788213361337]]\n",
            "Año: 2013\n",
            "[['pérez rubalcaba', -3.046488027739609], ['proyecto orgánica', -2.7902718234827963], ['cultura deport', -2.26408762561672], ['social igualdad', -2.2297348192406528], ['diputada doña', -2.1370935615277564]]\n",
            "[['deuda pública', 1.4762677251699572], ['sanidad pública', 1.7645846490737522], ['sistema público', 2.124275363691708], ['portavoz popular', 2.2143270381217546], ['amnistía fiscal', 2.273808859914368]]\n",
            "Año: 2014\n",
            "[['social igualdad', -3.9644268753333036], ['quiero decirl', -3.654062669862983], ['seguir trabajando', -3.374664557632319], ['reforma estructural', -3.0176913573447344], ['energía turismo', -2.6658647781313514]]\n",
            "[['ministra sanidad', 1.23665716533238], ['casi millon', 1.385808276139401], ['libertad mujer', 1.4386625232182282], ['dar respuesta', 1.6556439733903352], ['sanidad pública', 1.843475489425354]]\n",
            "Año: 2015\n",
            "[['quiero decirl', -3.1830601332120576], ['creando empleo', -2.056505702803165], ['creación empleo', -1.9337478544069622], ['situación económica', -1.7300699504452415], ['aprobada artículo', -1.7249466586570095]]\n",
            "[['comunidad valenciana', 1.2169856915006545], ['medio comunicación', 1.2474056085927174], ['clase media', 1.3411905226574625], ['consideración proposición', 1.393978883563966], ['reforma labor', 1.6860121104839776]]\n",
            "Año: 2016\n",
            "[['unido podemosen', -5.1386518432484], ['social igualdad', -1.9964820779688193], ['creación empleo', -1.7716010161606732], ['vasco pnv', -1.7193178791850388], ['millon español', -1.44773506253174]]\n",
            "[['van tener', 1.1603173557925341], ['fernández díaz', 1.3653562557975778], ['debat investidura', 1.393501819496671], ['podemosen comú', 1.5659653781461678], ['español española', 2.8036764726617434]]\n",
            "Año: 2017\n",
            "[['creación empleo', -3.7848852409823066], ['alimentación medio', -2.450899853955752], ['partir ahí', -2.3893544492989816], ['social igualdad', -2.081763696044444], ['duda alguna', -1.9307014540353533]]\n",
            "[['dar respuesta', 1.4550269830898652], ['buena tard', 1.5632262018630996], ['caso corrupción', 1.7427783597034698], ['larga duración', 1.8871361903853663], ['amnistía fiscal', 2.9739061243273732]]\n",
            "Año: 2018\n",
            "[['ministra adelant', -3.2915224727131207], ['vasco pnv', -2.9279516398787027], ['transaccion presentada', -2.677385403850676], ['acuerd convocatoria', -2.5207991080123042], ['popular adelant', -2.494378952747619]]\n",
            "[['política fiscal', 1.7288022929032414], ['popular ciudadano', 1.7580701616641359], ['cohesión social', 1.8080925873673444], ['ciudadano ciudadana', 2.283481325248599], ['senda estabilidad', 3.4364646785247546]]\n",
            "Año: 2019\n",
            "[['ministra adelant', -2.8664450142177262], ['confeder unido', -2.1776161785979165], ['pasamo ahora', -2.0894725148342266], ['popular congreso', -1.7692030507433494], ['crisi económica', -1.6803419235383623]]\n",
            "[['popular ciudadano', 1.9211582464864876], ['pesca alimentación', 2.021014166511155], ['candidato presidencia', 2.2300605855279985], ['borrà castany', 2.6244085160187263], ['confeder unida', 3.38434870953076]]\n"
          ]
        }
      ]
    },
    {
      "cell_type": "markdown",
      "source": [
        "# Regresión lineal"
      ],
      "metadata": {
        "id": "W4gP8QOIbRyt"
      }
    },
    {
      "cell_type": "code",
      "source": [
        "X_train, X_test, y_train, y_test = train_test_split(base.loc[:, base.columns != 'party'], base['party'], test_size=0.33, random_state=42)"
      ],
      "metadata": {
        "id": "8dGWALnQb1Mn"
      },
      "execution_count": 64,
      "outputs": []
    },
    {
      "cell_type": "code",
      "source": [
        "vec = cv.fit(X_train['tokens'])"
      ],
      "metadata": {
        "id": "mJQVHbEKb1Mo"
      },
      "execution_count": 65,
      "outputs": []
    },
    {
      "cell_type": "code",
      "source": [
        "train_matrix = vec.fit_transform(X_train['tokens'])\n",
        "test_matrix = vec.transform(X_test['tokens'])"
      ],
      "metadata": {
        "id": "o_UYstuib1Mo"
      },
      "execution_count": 66,
      "outputs": []
    },
    {
      "cell_type": "code",
      "source": [
        "y_train.replace(['PSOE', 'PP'],[1, -1], inplace=True)\n",
        "y_test.replace(['PSOE', 'PP'],[1, -1], inplace=True)"
      ],
      "metadata": {
        "id": "24rbtPzhcfxy"
      },
      "execution_count": 67,
      "outputs": []
    },
    {
      "cell_type": "code",
      "source": [
        "from sklearn.linear_model import LinearRegression\n",
        "lr = LinearRegression()"
      ],
      "metadata": {
        "id": "yD0Hk7RzbnDG"
      },
      "execution_count": 68,
      "outputs": []
    },
    {
      "cell_type": "code",
      "source": [
        "lr.fit(train_matrix,y_train)"
      ],
      "metadata": {
        "colab": {
          "base_uri": "https://localhost:8080/"
        },
        "id": "ZdSt3ASFe3UD",
        "outputId": "111bc43a-04b1-4930-a9ec-a509dab59a22"
      },
      "execution_count": 69,
      "outputs": [
        {
          "output_type": "execute_result",
          "data": {
            "text/plain": [
              "LinearRegression()"
            ]
          },
          "metadata": {},
          "execution_count": 69
        }
      ]
    },
    {
      "cell_type": "code",
      "source": [
        "predictions = lr.predict(test_matrix)"
      ],
      "metadata": {
        "id": "TLLuNbJxeySx"
      },
      "execution_count": 70,
      "outputs": []
    },
    {
      "cell_type": "code",
      "source": [
        "print(lr.coef_)"
      ],
      "metadata": {
        "colab": {
          "base_uri": "https://localhost:8080/"
        },
        "id": "4W7M5BY6fVMR",
        "outputId": "a08adafa-c3a6-43d4-c4f5-6568b5ec1e50"
      },
      "execution_count": 71,
      "outputs": [
        {
          "output_type": "stream",
          "name": "stdout",
          "text": [
            "[ 1.38768308e-02 -4.39994256e-02  3.56696247e-02 -8.29825508e-03\n",
            "  1.57151298e-03 -7.85540491e-03 -3.23142645e-03 -4.40968595e-02\n",
            "  2.14397479e-02  5.74665507e-02 -1.63184990e-02 -1.71336802e-02\n",
            "  1.02833375e-01 -5.80723141e-03 -4.02914875e-02 -1.05560105e-04\n",
            " -8.30037164e-03 -1.09689607e-02  3.71741742e-02  3.41639061e-01\n",
            " -4.34374509e-02 -1.53689475e-01  3.04306431e-01  4.25574623e-02\n",
            "  5.03749011e-03  2.06173310e-02 -3.03322363e-03  1.95382159e-03\n",
            " -2.09326231e-01  3.65867682e-03 -4.97124573e-02 -4.25538536e-01\n",
            " -2.32619423e-02 -1.50333955e-02  1.86045828e-03 -4.34666241e-02\n",
            " -3.90259776e-02 -4.74963011e-02 -8.09511793e-02 -5.67225205e-03\n",
            "  5.76872399e-03 -1.41923235e-01  2.35927774e-03 -3.25742086e-02\n",
            " -2.62342492e-02 -3.86139617e-02  6.44498190e-02  6.27149525e-03\n",
            "  1.12319250e-01  2.74908638e-03  3.16282231e-03 -2.69087887e-03\n",
            "  1.95166730e-04 -1.27770007e-01  9.41115214e-03 -4.50776301e-02\n",
            "  2.73850819e-01 -2.84312872e-02 -2.42699970e-01  1.35537392e-02\n",
            " -3.85995950e-02  2.16723150e-02 -3.26258966e-02  4.40971095e-03\n",
            "  6.54517283e-02 -7.26175699e-02 -4.76255553e-02  6.82630491e-02\n",
            "  1.65745158e-01  7.16795844e-02 -2.18423325e-02 -1.98470404e-04\n",
            " -1.05280133e-02  2.41568376e-02 -4.70354116e-02 -6.54330206e-01\n",
            " -1.59493621e-01  7.83410561e-02 -1.65186536e-02 -1.26966780e-03\n",
            " -6.94982118e-02  4.97941824e-02 -3.29507607e-02 -1.14884763e-02\n",
            " -1.48871887e-02  1.17237944e-03 -5.47411558e-02  2.13006807e-02\n",
            "  6.17749494e-02  3.68979834e-02  9.20952066e-02 -5.06629309e-02\n",
            "  6.93705544e-03 -6.57733327e-03 -5.36611965e-02 -2.96766999e-01\n",
            " -2.65510481e-02  4.41131379e-02 -7.15233334e-01 -5.14191595e-02\n",
            "  5.49576923e-02  2.08025686e-02  5.98244884e-02 -2.60488502e-02\n",
            " -2.63916207e-02 -2.92550177e-02  4.68134632e-02 -1.50149045e-02\n",
            " -1.12228402e-01  4.70671053e-02 -5.47643505e-03  6.64410775e-03\n",
            "  2.88164434e-01  4.49718468e-02 -6.46075014e-02  1.61047364e-02\n",
            "  2.16368864e-02 -6.79649223e-02  2.33852124e-02 -6.21382844e-01\n",
            "  1.63135088e-01 -1.06569035e+00  1.49849894e-02 -3.59981811e-02\n",
            " -6.10214678e-02  1.96441135e-02  1.68781021e-03 -6.29747032e-03\n",
            " -1.83404858e-02  4.08913997e-02 -2.56493545e-03  3.74043838e-01\n",
            " -1.86493168e-02  5.62961673e-03 -3.62869712e-03  1.11776609e-02\n",
            "  4.53657085e-02 -1.27687060e-02  1.73244640e-02  4.78172118e-02\n",
            "  8.52374078e-02  3.08653532e-02  7.40613984e-02 -4.06415868e-01\n",
            "  8.69232858e-03 -2.99356341e-02  1.23761630e-01 -6.20195950e-03\n",
            "  6.75342665e-02  2.05287496e-02 -7.00498153e-03  2.90172251e-02\n",
            " -8.20102252e-02  3.91013496e-02  2.75228435e-02 -3.80066873e-02\n",
            " -6.03036695e-02 -4.07103009e-02  1.29966954e-03  9.11492189e-02\n",
            "  1.89938853e-02  4.99352755e-02 -3.20791221e-03 -1.53618542e-01\n",
            "  5.56200270e-02  4.64945589e-02  3.64194732e-02  1.32696379e-02\n",
            " -8.48077360e-02  4.37691561e-03  1.12591676e-02  1.93282255e-03\n",
            "  2.32347605e-02 -9.25768846e-02  7.53992618e-02 -8.62857462e-02\n",
            " -3.40897394e-03  8.14340507e-03  1.59310275e-02 -2.30406406e-02\n",
            "  3.95026665e-02 -8.27507297e-02  7.72521998e-02  6.51891454e-03\n",
            " -6.23682278e-02  2.07936463e-02 -5.00444883e-03 -1.81536819e-03\n",
            " -5.61604426e-02 -3.18702507e-02 -1.72486117e-03 -5.98432052e-03\n",
            " -1.97770065e-02 -2.39131511e-02  1.71197950e-02 -3.31275130e-01\n",
            "  3.85851402e-02 -5.95544015e-03  6.76063779e-02  4.09469158e-02]\n"
          ]
        }
      ]
    },
    {
      "cell_type": "code",
      "source": [
        "import sklearn.metrics as metrics\n",
        "def regression_results(y_true, y_pred):\n",
        "\n",
        "    explained_variance=metrics.explained_variance_score(y_true, y_pred)\n",
        "    mean_absolute_error=metrics.mean_absolute_error(y_true, y_pred) \n",
        "    mse=metrics.mean_squared_error(y_true, y_pred) \n",
        "    median_absolute_error=metrics.median_absolute_error(y_true, y_pred)\n",
        "    r2=metrics.r2_score(y_true, y_pred)\n",
        "\n",
        "    print('explained_variance: ', round(explained_variance,4))    \n",
        "    print('r2: ', round(r2,4))\n",
        "    print('MAE: ', round(mean_absolute_error,4))\n",
        "    print('MSE: ', round(mse,4))\n",
        "    print('RMSE: ', round(np.sqrt(mse),4))"
      ],
      "metadata": {
        "id": "v7QJrjCzeqtb"
      },
      "execution_count": 72,
      "outputs": []
    },
    {
      "cell_type": "code",
      "source": [
        "regression_results(y_test,predictions)"
      ],
      "metadata": {
        "colab": {
          "base_uri": "https://localhost:8080/"
        },
        "id": "ImFhAonne6h-",
        "outputId": "d6f6db17-7a3c-4ba1-ec60-25a2ff895c38"
      },
      "execution_count": 73,
      "outputs": [
        {
          "output_type": "stream",
          "name": "stdout",
          "text": [
            "explained_variance:  0.0537\n",
            "r2:  0.0537\n",
            "MAE:  0.9339\n",
            "MSE:  0.9307\n",
            "RMSE:  0.9647\n"
          ]
        }
      ]
    },
    {
      "cell_type": "code",
      "source": [
        "# Relevancia de bigramas en la predicción\n",
        "features=[]\n",
        "for i,v in enumerate(lr.coef_):\n",
        "  features.append([vec.get_feature_names_out()[i],v ])"
      ],
      "metadata": {
        "id": "DzFMtYNu3BAF"
      },
      "execution_count": 74,
      "outputs": []
    },
    {
      "cell_type": "code",
      "source": [
        "sorted(features, key = lambda x: x[1])"
      ],
      "metadata": {
        "colab": {
          "base_uri": "https://localhost:8080/"
        },
        "outputId": "cd4c529c-b976-4d8f-be61-eddd6bdb524f",
        "id": "5NBP6idq3BAH"
      },
      "execution_count": 75,
      "outputs": [
        {
          "output_type": "execute_result",
          "data": {
            "text/plain": [
              "[['número formula', -1.0656903510044415],\n",
              " ['izquierda plural', -0.7152333335625045],\n",
              " ['feder izquierda', -0.6543302055763213],\n",
              " ['nombr popular', -0.621382843785031],\n",
              " ['congreso formula', -0.4255385364292636],\n",
              " ['portavoz socialista', -0.40641586761526366],\n",
              " ['vaya concluyendo', -0.33127513006740095],\n",
              " ['interpelación urgent', -0.2967669989986075],\n",
              " ['diputada doña', -0.2426999704636011],\n",
              " ['comunidad económica', -0.20932623090924984],\n",
              " ['fijación posicion', -0.15949362051134258],\n",
              " ['coalición canaria', -0.153689474701157],\n",
              " ['rodríguez zapatero', -0.153618541653032],\n",
              " ['creación empleo', -0.14192323489373368],\n",
              " ['desean fijar', -0.1277700074832435],\n",
              " ['ministerio economía', -0.11222840156271131],\n",
              " ['servicio social', -0.09257688459177937],\n",
              " ['si quier', -0.08628574624652137],\n",
              " ['seguridad jurídica', -0.08480773595711359],\n",
              " ['sociedad española', -0.08275072970473989],\n",
              " ['pueblo español', -0.08201022517100749],\n",
              " ['convergència unió', -0.08095117934714666],\n",
              " ['déficit público', -0.07261756985522552],\n",
              " ['fuerza cuerpo', -0.06949821182308757],\n",
              " ['ningún caso', -0.06796492234504375],\n",
              " ['moción consecuencia', -0.06460750142065373],\n",
              " ['tan important', -0.06236822781631531],\n",
              " ['ordenamiento jurídico', -0.061021467844057084],\n",
              " ['quiero decirl', -0.0603036694906769],\n",
              " ['toda comunidad', -0.05616044261500598],\n",
              " ['hace falta', -0.05474115584497718],\n",
              " ['interior bruto', -0.05366119653846494],\n",
              " ['izquierda unida', -0.05141915947181689],\n",
              " ['impuesto renta', -0.050662930910088284],\n",
              " ['comunidad valenciana', -0.049712457319783784],\n",
              " ['economía española', -0.047625555305404334],\n",
              " ['constitución española', -0.04749630107408478],\n",
              " ['exposición motivo', -0.047035411630788455],\n",
              " ['diario sesion', -0.045077630061963636],\n",
              " ['agent social', -0.04409685953027027],\n",
              " ['administracion pública', -0.04399942556612421],\n",
              " ['consejo seguridad', -0.04346662410122757],\n",
              " ['ciudadano español', -0.0434374508833049],\n",
              " ['quiero recordar', -0.040710300858136206],\n",
              " ['artículo reglamento', -0.04029148750510193],\n",
              " ['consideración proposición', -0.03902597755470964],\n",
              " ['cualquier caso', -0.038613961700134924],\n",
              " ['director gener', -0.038599594977474026],\n",
              " ['puesto trabajo', -0.038006687304317166],\n",
              " ['opinión pública', -0.03599818109319056],\n",
              " ['función pública', -0.0329507606831682],\n",
              " ['disposición final', -0.03262589660944645],\n",
              " ['crisi económica', -0.03257420855530768],\n",
              " ['toma consideración', -0.03187025070712173],\n",
              " ['presupuesto general', -0.029935634052664514],\n",
              " ['medio comunicación', -0.029255017718609434],\n",
              " ['diputación permanent', -0.02843128716733758],\n",
              " ['interé gener', -0.02655104814892341],\n",
              " ['medio ambient', -0.026391620732585032],\n",
              " ['crédito extraordinario', -0.026234249197690376],\n",
              " ['mediana empresa', -0.02604885021154885],\n",
              " ['unión europea', -0.023913151061399653],\n",
              " ['consecuencia interpelación', -0.023261942313891563],\n",
              " ['sistema nacion', -0.02304064057140272],\n",
              " ['empresa pública', -0.02184233250099195],\n",
              " ['tribun supremo', -0.019777006455229104],\n",
              " ['persona física', -0.018649316815034036],\n",
              " ['paí vasco', -0.01834048579253929],\n",
              " ['alto cargo', -0.017133680218889228],\n",
              " ['formación profesion', -0.016518653616542502],\n",
              " ['alta velocidad', -0.01631849902286014],\n",
              " ['consejo europeo', -0.015033395533672013],\n",
              " ['millon peseta', -0.015014904536777902],\n",
              " ['gener poder', -0.0148871886570785],\n",
              " ['política económica', -0.012768706019572982],\n",
              " ['gasto público', -0.0114884762666705],\n",
              " ['banco españa', -0.010968960665775448],\n",
              " ['estabilidad presupuestaria', -0.010528013339732599],\n",
              " ['asunto social', -0.008300371635014122],\n",
              " ['administración gener', -0.008298255080731603],\n",
              " ['administración pública', -0.007855404910131831],\n",
              " ['proyecto orgánica', -0.007004981528133157],\n",
              " ['iniciativa legislativa', -0.00657733327466117],\n",
              " ['parlamento europeo', -0.006297470321980979],\n",
              " ['programa elector', -0.006201959495713965],\n",
              " ['tribun cuenta', -0.005984320518411399],\n",
              " ['violencia género', -0.005955440146644911],\n",
              " ['artículo constitución', -0.00580723141211472],\n",
              " ['corporacion local', -0.005672252048737636],\n",
              " ['ministerio interior', -0.005476435046201931],\n",
              " ['texto alternativo', -0.005004448833643796],\n",
              " ['poder adquisitivo', -0.0036286971158007286],\n",
              " ['sistema educativo', -0.00340897393869355],\n",
              " ['agencia tributaria', -0.0032314264538071606],\n",
              " ['responsabilidad política', -0.003207912209696069],\n",
              " ['comisión nacion', -0.0030332236295875156],\n",
              " ['derecho humano', -0.002690878868356063],\n",
              " ['pequeña mediana', -0.0025649354481619277],\n",
              " ['tipo interé', -0.0018153681932114108],\n",
              " ['tribun constitucion', -0.0017248611736991302],\n",
              " ['fuerza armada', -0.0012696678005655162],\n",
              " ['entrada vigor', -0.00019847040387234804],\n",
              " ['asunto exterior', -0.00010556010543947536],\n",
              " ['derecho libertad', 0.00019516672990155674],\n",
              " ['guardia civil', 0.0011723794407883055],\n",
              " ['radiotelevisión española', 0.0012996695423556502],\n",
              " ['administración justicia', 0.0015715129804765363],\n",
              " ['pacto toledo', 0.0016878102113091072],\n",
              " ['consejo gener', 0.0018604582823451908],\n",
              " ['sentencia tribun', 0.0019328225540148234],\n",
              " ['comunidad autónoma', 0.0019538215894245397],\n",
              " ['crecimiento económico', 0.0023592777446255282],\n",
              " ['debat totalidad', 0.0027490863786289754],\n",
              " ['defensor pueblo', 0.0031628223067829433],\n",
              " ['comunidad europea', 0.0036586768198883903],\n",
              " ['seguridad social', 0.004376915606626948],\n",
              " ['disposición transitoria', 0.004409710948559042],\n",
              " ['comisión investigación', 0.005037490112850225],\n",
              " ['plan nacion', 0.0056296167287859175],\n",
              " ['cort general', 0.005768723992398157],\n",
              " ['código penal', 0.006271495247104039],\n",
              " ['sánchez llibr', 0.006518914542046012],\n",
              " ['ministerio justicia', 0.006644107753018971],\n",
              " ['impuesto sociedad', 0.006937055444270149],\n",
              " ['sistema financiación', 0.008143405074119564],\n",
              " ['presión fiscal', 0.008692328583528343],\n",
              " ['deuda pública', 0.009411152142759605],\n",
              " ['poder judici', 0.011177660858650205],\n",
              " ['semana pasada', 0.011259167554363868],\n",
              " ['sector público', 0.013269637921312348],\n",
              " ['dirección gener', 0.013553739185998628],\n",
              " ['actividad económica', 0.013876830788448513],\n",
              " ['obra pública', 0.014984989362321188],\n",
              " ['sistema financiero', 0.01593102748437229],\n",
              " ['nacion salud', 0.016104736381863875],\n",
              " ['vasco pnv', 0.017119795010361885],\n",
              " ['política exterior', 0.017324463992782323],\n",
              " ['reino unido', 0.018993885256213098],\n",
              " ['organismo autónomo', 0.019644113528005266],\n",
              " ['protección social', 0.020528749569053463],\n",
              " ['comisión mixta', 0.02061733096466622],\n",
              " ['tener cuenta', 0.020793646297101825],\n",
              " ['llegar acuerdo', 0.020802568586210504],\n",
              " ['hace mese', 0.021300680698825687],\n",
              " ['ahora mismo', 0.021439747858209027],\n",
              " ['nacion unida', 0.021636886423321924],\n",
              " ['disposición adicion', 0.02167231502599602],\n",
              " ['servicio público', 0.02323476046150527],\n",
              " ['ningún tipo', 0.02338521236380091],\n",
              " ['estatuto autonomía', 0.024156837615858663],\n",
              " ['puesto marcha', 0.02752284345251363],\n",
              " ['proyecto presupuesto', 0.02901722507264758],\n",
              " ['poner marcha', 0.030865353197917857],\n",
              " ['administración central', 0.03566962468454607],\n",
              " ['sector privado', 0.036419473194576425],\n",
              " ['hace tiempo', 0.036897983359845524],\n",
              " ['carácter gener', 0.037174174193689805],\n",
              " ['ver si', 0.03858514023932212],\n",
              " ['puesta marcha', 0.039101349558181626],\n",
              " ['situación económica', 0.03950266645886888],\n",
              " ['país europeo', 0.040891399714980264],\n",
              " ['último mese', 0.040946915768532405],\n",
              " ['comisión europea', 0.04255746230337722],\n",
              " ['izquierda per', 0.044113137937955973],\n",
              " ['mismo tiempo', 0.04497184684709139],\n",
              " ['poder público', 0.045365708509433104],\n",
              " ['salario mínimo', 0.04649455891754891],\n",
              " ['mercado trabajo', 0.04681346319429308],\n",
              " ['ministerio educación', 0.047067105250686324],\n",
              " ['política fiscal', 0.04781721184844434],\n",
              " ['fuerza política', 0.049794182365178866],\n",
              " ['resolv problema', 0.04993527546139199],\n",
              " ['largo plazo', 0.05495769226680119],\n",
              " ['ruego concluya', 0.05562002701979573],\n",
              " ['alguna manera', 0.05746655066816087],\n",
              " ['mayor part', 0.05982448841550029],\n",
              " ['hace referencia', 0.06177494936969499],\n",
              " ['cuerpo seguridad', 0.06444981903174665],\n",
              " ['duda alguna', 0.06545172826590788],\n",
              " ['proposición popular', 0.06753426651979441],\n",
              " ['voluntad política', 0.06760637788512032],\n",
              " ['economía hacienda', 0.06826304914432403],\n",
              " ['económico social', 0.07167958438407804],\n",
              " ['popular congreso', 0.07406139843423587],\n",
              " ['si así', 0.07539926177717633],\n",
              " ['ss ss', 0.07725219976995683],\n",
              " ['forma part', 0.07834105611684224],\n",
              " ['política social', 0.08523740778010876],\n",
              " ['reforma labor', 0.09114921894951633],\n",
              " ['hecho referencia', 0.092095206571918],\n",
              " ['aquel momento', 0.10283337529349666],\n",
              " ['dar respuesta', 0.11231925035354198],\n",
              " ['producto interior', 0.1237616303781991],\n",
              " ['nombr socialista', 0.16313508819174904],\n",
              " ['económica europea', 0.1657451581082136],\n",
              " ['dictamen comisión', 0.2738508193120451],\n",
              " ['minoría catalana', 0.28816443362313904],\n",
              " ['coalición popular', 0.30430643083175335],\n",
              " ['catalunya verd', 0.34163906096850494],\n",
              " ['per catalunya', 0.3740438377892261]]"
            ]
          },
          "metadata": {},
          "execution_count": 75
        }
      ]
    },
    {
      "cell_type": "markdown",
      "source": [
        "# LDA"
      ],
      "metadata": {
        "id": "CQJqS-DP6e9D"
      }
    },
    {
      "cell_type": "code",
      "source": [
        "from sklearn.decomposition import LatentDirichletAllocation"
      ],
      "metadata": {
        "id": "HRaT7XPi6d_P"
      },
      "execution_count": 76,
      "outputs": []
    },
    {
      "cell_type": "code",
      "source": [
        "vec = cv.fit(base['tokens'])"
      ],
      "metadata": {
        "id": "-2joPfEX7Do_"
      },
      "execution_count": 78,
      "outputs": []
    },
    {
      "cell_type": "code",
      "source": [
        "matrix = vec.transform(base['tokens'])"
      ],
      "metadata": {
        "id": "yTb5eqaI7M3g"
      },
      "execution_count": 79,
      "outputs": []
    },
    {
      "cell_type": "code",
      "source": [
        "lda = LatentDirichletAllocation(n_components=40, max_iter=5, learning_method='online', learning_offset=50.,random_state=0)"
      ],
      "metadata": {
        "id": "r0yF9atu6h1A"
      },
      "execution_count": 90,
      "outputs": []
    },
    {
      "cell_type": "code",
      "source": [
        "lda.fit(matrix)"
      ],
      "metadata": {
        "id": "_MZxKjLy6m_P",
        "outputId": "98bbce85-a4bb-4efd-ed50-c2c63c2b7327",
        "colab": {
          "base_uri": "https://localhost:8080/"
        }
      },
      "execution_count": 91,
      "outputs": [
        {
          "output_type": "execute_result",
          "data": {
            "text/plain": [
              "LatentDirichletAllocation(learning_method='online', learning_offset=50.0,\n",
              "                          max_iter=5, n_components=40, random_state=0)"
            ]
          },
          "metadata": {},
          "execution_count": 91
        }
      ]
    },
    {
      "cell_type": "code",
      "source": [
        "def display_topics(model, feature_names, no_top_words):\n",
        "    for topic_idx, topic in enumerate(model.components_):\n",
        "        print(\"Topic %d:\" % (topic_idx + 1))\n",
        "        print(\" , \".join([feature_names[i] for i in topic.argsort()[:-no_top_words - 1:-1]]))"
      ],
      "metadata": {
        "id": "LrMKTuXb7m1c"
      },
      "execution_count": 95,
      "outputs": []
    },
    {
      "cell_type": "code",
      "source": [
        "display_topics(lda, feature_names=cv.get_feature_names_out(), no_top_words=20)"
      ],
      "metadata": {
        "id": "9erGzWR47jSC",
        "outputId": "bcec3a46-c73a-4fd3-99f3-044f69211023",
        "colab": {
          "base_uri": "https://localhost:8080/"
        }
      },
      "execution_count": 96,
      "outputs": [
        {
          "output_type": "stream",
          "name": "stdout",
          "text": [
            "Topic 1:\n",
            "extraordinaria comisión , seguridad social , convocatoria extraordinaria , poder judici , mayor cincuenta , ahora mismo , zona afectada , salida reino , campo gibraltar , medida urgent , estatuto gernika , transición energética , comú podemgalicia , transición ecológica , presupuesto general , nacion unida , permanent pertenecient , comú podemen , diputada doña , pesca alimentación\n",
            "Topic 2:\n",
            "toda medida , fuerza cuerpo , tribun supremo , espinosa montero , estabilidad presupuestaria , trabajador trabajadora , salida reino , convocatoria extraordinaria , estatuto gernika , ahora mismo , seguridad social , medida urgent , zona afectada , transición energética , poder judici , mayor cincuenta , campo gibraltar , hecho referencia , crecimiento económico , si quier\n",
            "Topic 3:\n",
            "consejo europeo , hombr mujer , pasamo ahora , zona afectada , convocatoria extraordinaria , seguridad social , salida reino , medida urgent , estatuto gernika , ahora mismo , poder judici , transición energética , mayor cincuenta , campo gibraltar , transición ecológica , podemen marea , podemosen comú , pesca alimentación , medio comunicación , política española\n",
            "Topic 4:\n",
            "número suficient , pedro sánchez , último mese , legarda uriart , zona afectada , seguridad social , salida reino , convocatoria extraordinaria , medida urgent , ahora mismo , estatuto gernika , poder judici , mayor cincuenta , transición energética , campo gibraltar , sistema público , relacion cort , ministra trabajo , comisión europea , administración gener\n",
            "Topic 5:\n",
            "cuidado paliativo , función pública , reino unido , ordenamiento jurídico , constitución española , zona afectada , convocatoria extraordinaria , ahora mismo , seguridad social , medida urgent , salida reino , poder judici , estatuto gernika , mayor cincuenta , campo gibraltar , transición energética , igualdad oportunidad , diputación permanent , pacto toledo , crisi económica\n",
            "Topic 6:\n",
            "crecimiento económico , crisi económica , cualquier caso , popular ciudadano , si quier , podemosen comú , migracion seguridad , toda españa , servicio público , energía renov , hecho sido , salida reino , estatuto gernika , convocatoria extraordinaria , seguridad social , ahora mismo , transición energética , zona afectada , medida urgent , poder judici\n",
            "Topic 7:\n",
            "energía renov , guardia civil , diálogo social , cambio climático , posicion mixto , unida podemosen , próxima legislatura , popular ciudadano , trabajador trabajadora , proyecto europeo , hecho sido , mejor dicho , estatuto gernika , salida reino , seguridad social , convocatoria extraordinaria , transición energética , zona afectada , ahora mismo , medida urgent\n",
            "Topic 8:\n",
            "política social , hace falta , radiotelevisión española , pasamo fijación , zona afectada , convocatoria extraordinaria , medida urgent , poder judici , estatuto gernika , seguridad social , mayor cincuenta , campo gibraltar , salida reino , transición energética , ahora mismo , diputada doña , rentabilidad razon , consejo europeo , hoja ruta , convocar eleccion\n",
            "Topic 9:\n",
            "ministra trabajo , igualdad oportunidad , hecho sido , ahora mismo , zona afectada , convocatoria extraordinaria , salida reino , estatuto gernika , seguridad social , poder judici , mayor cincuenta , transición energética , medida urgent , campo gibraltar , cualquier caso , economía española , energía renov , presupuesto general , dar respuesta , cuenta pública\n",
            "Topic 10:\n",
            "borrà castany , relacion cort , sistema educativo , zona afectada , medida urgent , ahora mismo , salida reino , convocatoria extraordinaria , poder judici , seguridad social , campo gibraltar , estatuto gernika , mayor cincuenta , transición energética , transición ecológica , paí vasco , empleado público , próxima legislatura , pesca alimentación , ministra hacienda\n",
            "Topic 11:\n",
            "suficient miembro , quiero decirl , seguridad jurídica , ningún tipo , poner marcha , zona afectada , medida urgent , salida reino , convocatoria extraordinaria , estatuto gernika , poder judici , mayor cincuenta , seguridad social , ahora mismo , campo gibraltar , transición energética , espinosa montero , guardia civil , último doce , lucha cambio\n",
            "Topic 12:\n",
            "open arm , ministra adelant , gasto público , candidato presidencia , buena tard , hecho sido , zona afectada , seguridad social , convocatoria extraordinaria , salida reino , poder judici , ahora mismo , estatuto gernika , mayor cincuenta , medida urgent , campo gibraltar , transición energética , cualquier caso , mínimo interprofesion , moción censura\n",
            "Topic 13:\n",
            "protección civil , víctima terrorismo , acuerd convocatoria , estatuto gernika , convocatoria extraordinaria , seguridad social , zona afectada , salida reino , medida urgent , poder judici , transición energética , ahora mismo , mayor cincuenta , campo gibraltar , igualdad oportunidad , proyecto presupuesto , resolv problema , rodríguez hernández , presentar nombr , popular congreso\n",
            "Topic 14:\n",
            "subida salario , thoma cook , violencia género , salario mínimo , toda persona , lucha cambio , sere humano , entrega cuenta , comunidad valenciana , hecho sido , salida reino , zona afectada , convocatoria extraordinaria , estatuto gernika , poder judici , medida urgent , ahora mismo , seguridad social , campo gibraltar , mayor cincuenta\n",
            "Topic 15:\n",
            "sistema público , eleccion general , pesca alimentación , salida reino , convocatoria extraordinaria , estatuto gernika , zona afectada , medida urgent , seguridad social , transición energética , poder judici , mayor cincuenta , ahora mismo , campo gibraltar , crecimiento económico , administración gener , suficient miembro , trabajador trabajadora , guardia civil , reforma labor\n",
            "Topic 16:\n",
            "marco financiero , acuerdo retirada , interé gener , ill balear , adoptan medida , política económica , convocatoria extraordinaria , salida reino , estatuto gernika , transición energética , ahora mismo , seguridad social , zona afectada , poder judici , medida urgent , campo gibraltar , mayor cincuenta , sociedad española , política española , justicia social\n",
            "Topic 17:\n",
            "formacion política , asunto exterior , rodríguez hernández , diputación permanent , poder judici , convocatoria extraordinaria , campo gibraltar , medida urgent , zona afectada , estatuto gernika , salida reino , transición energética , mayor cincuenta , seguridad social , ahora mismo , igualdad oportunidad , transición ecológica , permanent pertenecient , pesca alimentación , derecho libertad\n",
            "Topic 18:\n",
            "unido unión , cuerpo seguridad , pacto toledo , sociedad española , mismo tiempo , convocatoria extraordinaria , salida reino , zona afectada , seguridad social , medida urgent , ahora mismo , poder judici , estatuto gernika , mayor cincuenta , transición energética , campo gibraltar , thoma cook , proyecto presupuesto , asunto exterior , pasamo fijación\n",
            "Topic 19:\n",
            "pleno cámara , unión europea , zona afectada , seguridad social , medida urgent , estatuto gernika , convocatoria extraordinaria , ahora mismo , poder judici , salida reino , campo gibraltar , mayor cincuenta , transición energética , extraordinaria urgent , justicia social , fijación posicion , formulada número , gasto público , hace falta , hecho sido\n",
            "Topic 20:\n",
            "hace mese , urgent necesidad , adoptar medida , víctima violencia , moción censura , mínimo interprofesion , confeder unida , efecto llamada , zona afectada , salida reino , convocatoria extraordinaria , seguridad social , medida urgent , ahora mismo , estatuto gernika , poder judici , mayor cincuenta , transición energética , campo gibraltar , dar respuesta\n",
            "Topic 21:\n",
            "millon persona , procedimiento urgencia , comú podemgalicia , ahora mismo , medida urgent , convocatoria extraordinaria , poder judici , zona afectada , seguridad social , campo gibraltar , estatuto gernika , mayor cincuenta , transición energética , salida reino , pedro sánchez , último doce , hoja ruta , posicion mixto , política migratoria , justicia social\n",
            "Topic 22:\n",
            "proyecto presupuesto , reforma labor , cort igualdad , justicia social , zona afectada , estatuto gernika , ahora mismo , salida reino , seguridad social , convocatoria extraordinaria , medida urgent , poder judici , mayor cincuenta , campo gibraltar , transición energética , igualdad oportunidad , administración gener , actividad económica , paí vasco , mejor dicho\n",
            "Topic 23:\n",
            "unido podemosen , código penal , derecho libertad , trabajador trabajadora , resolv problema , convalidación derogación , política española , hecho sido , zona afectada , convocatoria extraordinaria , poder judici , medida urgent , salida reino , seguridad social , mayor cincuenta , campo gibraltar , ahora mismo , estatuto gernika , transición energética , igualdad oportunidad\n",
            "Topic 24:\n",
            "rentabilidad razon , doña maría , doce mese , mercado labor , alta velocidad , defensa iniciativa , salida reino , medida urgent , zona afectada , convocatoria extraordinaria , seguridad social , ahora mismo , estatuto gernika , poder judici , campo gibraltar , transición energética , mayor cincuenta , techo gasto , pacto toledo , igualdad oportunidad\n",
            "Topic 25:\n",
            "dominio público , convocatoria extraordinaria , poder judici , mayor cincuenta , ahora mismo , estatuto gernika , campo gibraltar , zona afectada , transición energética , salida reino , medida urgent , seguridad social , último mese , hoja ruta , justicia social , mejor dicho , millon persona , mercado labor , migracion seguridad , hace falta\n",
            "Topic 26:\n",
            "unida podemo , cuenta pública , regeneración democrática , medida urgent , poder judici , mayor cincuenta , estatuto gernika , convocatoria extraordinaria , salida reino , seguridad social , zona afectada , campo gibraltar , ahora mismo , transición energética , energía renov , moción censura , mismo tiempo , formulada número , comú podemgalicia , mercado labor\n",
            "Topic 27:\n",
            "comunidad madrid , formación profesion , pertenecient popular , estatuto gernika , zona afectada , convocatoria extraordinaria , seguridad social , ahora mismo , salida reino , poder judici , medida urgent , transición energética , mayor cincuenta , campo gibraltar , pacto toledo , presupuesto general , cuidado paliativo , pedro sánchez , cuenta pública , medio comunicación\n",
            "Topic 28:\n",
            "techo gasto , extraordinaria urgent , semana pasada , agricultura pesca , cohesión social , salida reino , convocatoria extraordinaria , zona afectada , seguridad social , ahora mismo , estatuto gernika , medida urgent , poder judici , transición energética , mayor cincuenta , campo gibraltar , guardia civil , víctima violencia , economía española , cuerpo seguridad\n",
            "Topic 29:\n",
            "hoja ruta , entrada vigor , pasamo formulada , paí vasco , convocatoria extraordinaria , ahora mismo , seguridad social , poder judici , mayor cincuenta , campo gibraltar , estatuto gernika , salida reino , zona afectada , medida urgent , transición energética , encima mesa , servicio público , comunidad autónoma , hecho sido , comú podemen\n",
            "Topic 30:\n",
            "acatar constitución , sistema seguridad , unido podemo , dar respuesta , confeder unido , miembro diputación , campaña elector , convocatoria extraordinaria , zona afectada , ahora mismo , salida reino , seguridad social , estatuto gernika , medida urgent , poder judici , transición energética , mayor cincuenta , campo gibraltar , igualdad oportunidad , toma consideración\n",
            "Topic 31:\n",
            "nacion mercado , poder judici , mayor cincuenta , convocatoria extraordinaria , ahora mismo , seguridad social , próxima legislatura , cort igualdad , pertenecient popular , estatuto autonomía , cohesión social , proyecto presupuesto , igualdad oportunidad , hecho referencia , entrega cuenta , ill balear , entidad local , interé gener , justicia social , legarda uriart\n",
            "Topic 32:\n",
            "banco españa , poder judici , medida urgent , zona afectada , estatuto gernika , campo gibraltar , convocatoria extraordinaria , mayor cincuenta , seguridad social , transición energética , salida reino , ahora mismo , paí vasco , presentar nombr , defensa iniciativa , popular ciudadano , proyecto presupuesto , puesto trabajo , creación empleo , política económica\n",
            "Topic 33:\n",
            "comisión europea , conjunto sociedad , duda alguna , permanent pertenecient , economía española , creación empleo , comunidad autónoma , comisión nacion , estatuto autonomía , derecho humano , hecho sido , seguridad social , estatuto gernika , zona afectada , salida reino , convocatoria extraordinaria , medida urgent , ahora mismo , poder judici , mayor cincuenta\n",
            "Topic 34:\n",
            "medio comunicación , ciudadano ciudadana , política migratoria , formulada número , fijación posicion , diputada doña , poder judici , mayor cincuenta , convocatoria extraordinaria , salida reino , medida urgent , seguridad social , estatuto gernika , ahora mismo , zona afectada , transición energética , campo gibraltar , cualquier caso , procedimiento urgencia , hecho sido\n",
            "Topic 35:\n",
            "fuerza política , encima mesa , hecho referencia , popular congreso , salvamento marítimo , artículo constitución , comú podemen , hecho sido , pacto toledo , convocatoria extraordinaria , seguridad social , salida reino , zona afectada , estatuto gernika , ahora mismo , poder judici , medida urgent , mayor cincuenta , transición energética , campo gibraltar\n",
            "Topic 36:\n",
            "entidad local , presentar nombr , llegar acuerdo , proyecto procedimiento , toma consideración , ministra hacienda , mejor dicho , ministra transición , último doce , popular ciudadano , rentabilidad razon , cualquier caso , hecho sido , salida reino , estatuto gernika , seguridad social , convocatoria extraordinaria , zona afectada , ahora mismo , poder judici\n",
            "Topic 37:\n",
            "actividad económica , transición ecológica , gran canaria , administración gener , podemgalicia común , estatuto gernika , convocatoria extraordinaria , salida reino , medida urgent , zona afectada , seguridad social , ahora mismo , poder judici , transición energética , mayor cincuenta , campo gibraltar , pertenecient popular , justicia social , fijación posicion , formación profesion\n",
            "Topic 38:\n",
            "podemen marea , convocar eleccion , sector público , comparecencia ministra , ahora mismo , seguridad social , estatuto gernika , zona afectada , convocatoria extraordinaria , salida reino , poder judici , mayor cincuenta , medida urgent , transición energética , campo gibraltar , cualquier caso , pacto toledo , popular ciudadano , mercado labor , justicia social\n",
            "Topic 39:\n",
            "tribun constitucion , administracion pública , puesto trabajo , empleado público , zona afectada , ahora mismo , convocatoria extraordinaria , poder judici , salida reino , seguridad social , estatuto gernika , medida urgent , mayor cincuenta , transición energética , campo gibraltar , mínimo interprofesion , política social , pesca alimentación , miembro diputación , pertenecient popular\n",
            "Topic 40:\n",
            "vasco legarda , nacion unida , presupuesto general , tan important , seguridad social , salida reino , zona afectada , convocatoria extraordinaria , ahora mismo , estatuto gernika , medida urgent , poder judici , transición energética , mayor cincuenta , campo gibraltar , millon persona , último doce , mejor dicho , justicia social , mercado labor\n"
          ]
        }
      ]
    },
    {
      "cell_type": "code",
      "source": [
        "# LDA genera una matríz en la que asigna a cada uno de los 200 bigramas una probabilidad de ocurrencia para cada uno de los 40 topics\n",
        "lda.components_.shape"
      ],
      "metadata": {
        "id": "RWahOK2KA1sZ",
        "outputId": "692865d2-90cd-4e9f-dcfc-a57091916a80",
        "colab": {
          "base_uri": "https://localhost:8080/"
        }
      },
      "execution_count": 105,
      "outputs": [
        {
          "output_type": "execute_result",
          "data": {
            "text/plain": [
              "(40, 200)"
            ]
          },
          "metadata": {},
          "execution_count": 105
        }
      ]
    },
    {
      "cell_type": "markdown",
      "source": [
        "# NNMF"
      ],
      "metadata": {
        "id": "3MmcFXtZFBC-"
      }
    },
    {
      "cell_type": "code",
      "source": [
        "from sklearn.decomposition import NMF"
      ],
      "metadata": {
        "id": "h2qBPF8UFY0m"
      },
      "execution_count": 110,
      "outputs": []
    },
    {
      "cell_type": "code",
      "source": [
        "nmf = NMF(n_components=40, random_state=1).fit(matrix)"
      ],
      "metadata": {
        "id": "qd3p4CyEFAkJ",
        "outputId": "e7cc9f5e-2767-4c93-8ca1-680716382769",
        "colab": {
          "base_uri": "https://localhost:8080/"
        }
      },
      "execution_count": 111,
      "outputs": [
        {
          "output_type": "stream",
          "name": "stderr",
          "text": [
            "/usr/local/lib/python3.7/dist-packages/sklearn/decomposition/_nmf.py:294: FutureWarning: The 'init' value, when 'init=None' and n_components is less than n_samples and n_features, will be changed from 'nndsvd' to 'nndsvda' in 1.1 (renaming of 0.26).\n",
            "  FutureWarning,\n"
          ]
        }
      ]
    },
    {
      "cell_type": "code",
      "source": [
        "display_topics(nmf, feature_names=cv.get_feature_names_out(),  no_top_words=20)"
      ],
      "metadata": {
        "id": "2bMdP1QuFRO8",
        "outputId": "0bda653d-1468-4f9a-b9ef-240573ff97c1",
        "colab": {
          "base_uri": "https://localhost:8080/"
        }
      },
      "execution_count": 112,
      "outputs": [
        {
          "output_type": "stream",
          "name": "stdout",
          "text": [
            "Topic 1:\n",
            "comunidad madrid , unido podemo , toda españa , formación profesion , acuerd convocatoria , posicion mixto , acuerdo retirada , suficient miembro , estatuto gernika , política española , convocatoria extraordinaria , presentar nombr , gasto público , relacion cort , tribun supremo , resolv problema , marco financiero , buena tard , mercado labor , comú podemgalicia\n",
            "Topic 2:\n",
            "vasco legarda , comisión europea , salvamento marítimo , encima mesa , pleno cámara , derecho libertad , comparecencia ministra , igualdad oportunidad , cuerpo seguridad , rodríguez hernández , crisi económica , tribun constitucion , presupuesto general , adoptar medida , tribun supremo , relacion cort , podemgalicia común , hombr mujer , resolv problema , estatuto autonomía\n",
            "Topic 3:\n",
            "sistema público , pesca alimentación , quiero decirl , política migratoria , suficient miembro , presentar nombr , legarda uriart , ministra hacienda , crecimiento económico , salida reino , llegar acuerdo , proyecto procedimiento , adoptan medida , trabajador trabajadora , buena tard , rentabilidad razon , cuerpo seguridad , tribun supremo , techo gasto , resolv problema\n",
            "Topic 4:\n",
            "ministra trabajo , economía española , pertenecient popular , cuenta pública , paí vasco , moción censura , legarda uriart , reforma labor , ministra transición , entrada vigor , mismo tiempo , miembro diputación , tribun supremo , nacion unida , efecto llamada , política española , alta velocidad , llegar acuerdo , proyecto procedimiento , protección civil\n",
            "Topic 5:\n",
            "política social , consejo europeo , hace falta , administracion pública , urgent necesidad , mínimo interprofesion , radiotelevisión española , permanent pertenecient , justicia social , tribun constitucion , doce mese , regeneración democrática , creación empleo , hecho referencia , seguridad jurídica , convocatoria extraordinaria , nacion unida , unida podemo , trabajador trabajadora , pedro sánchez\n",
            "Topic 6:\n",
            "entidad local , crecimiento económico , trabajador trabajadora , proyecto procedimiento , llegar acuerdo , crisi económica , ministra hacienda , toda medida , unida podemosen , acatar constitución , rentabilidad razon , mejor dicho , presentar nombr , seguridad social , último mese , toma consideración , comisión europea , quiero decirl , nacion unida , salida reino\n",
            "Topic 7:\n",
            "hace mese , cuidado paliativo , función pública , moción censura , efecto llamada , economía española , diputación permanent , seguridad jurídica , comisión nacion , próxima legislatura , unida podemo , mayor cincuenta , poder judici , formulada número , acuerdo retirada , candidato presidencia , tribun constitucion , pedro sánchez , alta velocidad , tribun supremo\n",
            "Topic 8:\n",
            "unido unión , sociedad española , urgent necesidad , convocar eleccion , permanent pertenecient , sistema educativo , igualdad oportunidad , diputación permanent , ordenamiento jurídico , extraordinaria urgent , encima mesa , salida reino , cuerpo seguridad , derecho libertad , resolv problema , techo gasto , dar respuesta , sector público , mercado labor , toda medida\n",
            "Topic 9:\n",
            "código penal , permanent pertenecient , trabajador trabajadora , diputación permanent , función pública , cuidado paliativo , urgent necesidad , radiotelevisión española , mínimo interprofesion , dar respuesta , extraordinaria urgent , derecho libertad , unido podemosen , gasto público , tribun supremo , sistema educativo , pedro sánchez , hecho referencia , justicia social , alta velocidad\n",
            "Topic 10:\n",
            "transición ecológica , nacion unida , nacion mercado , pedro sánchez , comú podemen , miembro diputación , ministra adelant , hoja ruta , agricultura pesca , pertenecient popular , mismo tiempo , gasto público , comparecencia ministra , igualdad oportunidad , dominio público , proyecto procedimiento , campaña elector , unida podemosen , entrada vigor , trabajador trabajadora\n",
            "Topic 11:\n",
            "actividad económica , administración gener , acuerdo retirada , estatuto gernika , si quier , alta velocidad , comunidad autónoma , acatar constitución , permanent pertenecient , reino unido , acuerd convocatoria , paí vasco , cualquier caso , servicio público , política migratoria , sistema educativo , tribun supremo , campaña elector , justicia social , radiotelevisión española\n",
            "Topic 12:\n",
            "millon persona , política española , economía española , paí vasco , marco financiero , pertenecient popular , acatar constitución , comú podemen , acuerd convocatoria , ministra adelant , acuerdo retirada , mejor dicho , comú podemgalicia , comisión europea , presupuesto general , reforma labor , reino unido , campaña elector , espinosa montero , resolv problema\n",
            "Topic 13:\n",
            "salario mínimo , efecto llamada , ministra adelant , próxima legislatura , cuerpo seguridad , economía española , comisión nacion , gasto público , protección civil , alta velocidad , toda españa , toma consideración , pedro sánchez , techo gasto , víctima violencia , trabajador trabajadora , nacion unida , seguridad jurídica , sistema seguridad , pacto toledo\n",
            "Topic 14:\n",
            "open arm , constitución española , derecho libertad , pedro sánchez , borrà castany , nacion unida , ministra adelant , seguridad social , salvamento marítimo , candidato presidencia , rodríguez hernández , podemgalicia común , sistema seguridad , trabajador trabajadora , resolv problema , tan important , tribun supremo , unido podemo , hecho referencia , doña maría\n",
            "Topic 15:\n",
            "si quier , estabilidad presupuestaria , servicio público , legarda uriart , nacion unida , alta velocidad , hecho referencia , diálogo social , administración gener , acatar constitución , tribun supremo , campaña elector , miembro diputación , formulada número , sistema seguridad , mejor dicho , pedro sánchez , encima mesa , techo gasto , doce mese\n",
            "Topic 16:\n",
            "número suficient , toda persona , suficient miembro , presentar nombr , legarda uriart , nacion unida , política española , candidato presidencia , servicio público , unido podemo , reino unido , trabajador trabajadora , relacion cort , unida podemo , presupuesto general , dar respuesta , miembro diputación , procedimiento urgencia , sector público , cualquier caso\n",
            "Topic 17:\n",
            "medio comunicación , fijación posicion , poder judici , mayor cincuenta , convocatoria extraordinaria , unido podemosen , unida podemo , protección civil , ciudadano ciudadana , cuerpo seguridad , extraordinaria urgent , convalidación derogación , comisión nacion , seguridad jurídica , confeder unido , ningún tipo , doce mese , gasto público , lucha cambio , hoja ruta\n",
            "Topic 18:\n",
            "podemosen comú , migracion seguridad , crecimiento económico , acatar constitución , interé gener , rentabilidad razon , cualquier caso , ministra transición , crisi económica , convocatoria extraordinaria , ministra hacienda , unida podemosen , transición energética , nacion unida , toda medida , miembro diputación , entrada vigor , relacion cort , mejor dicho , encima mesa\n",
            "Topic 19:\n",
            "fuerza cuerpo , thoma cook , ministra hacienda , mismo tiempo , adoptan medida , rentabilidad razon , trabajador trabajadora , crecimiento económico , legarda uriart , presentar nombr , quiero decirl , presupuesto general , política española , consejo europeo , nacion unida , podemgalicia común , buena tard , salida reino , poner marcha , dar respuesta\n",
            "Topic 20:\n",
            "derecho humano , diputación permanent , creación empleo , administracion pública , comparecencia ministra , derecho libertad , acuerd convocatoria , sector público , candidato presidencia , moción censura , mínimo interprofesion , poner marcha , economía española , encima mesa , trabajador trabajadora , doce mese , nacion unida , presentar nombr , víctima violencia , tribun supremo\n",
            "Topic 21:\n",
            "fuerza política , trabajador trabajadora , convocatoria extraordinaria , comparecencia ministra , agricultura pesca , nacion unida , cuerpo seguridad , igualdad oportunidad , tribun supremo , gasto público , techo gasto , mejor dicho , pacto toledo , resolv problema , diputación permanent , ordenamiento jurídico , extraordinaria urgent , artículo constitución , formulada número , creación empleo\n",
            "Topic 22:\n",
            "conjunto sociedad , pleno cámara , salvamento marítimo , toda medida , reino unido , crecimiento económico , comisión europea , mercado labor , seguridad social , nacion unida , podemgalicia común , encima mesa , cualquier caso , comú podemen , crisi económica , presupuesto general , rodríguez hernández , cuerpo seguridad , sector público , ministra hacienda\n",
            "Topic 23:\n",
            "unión europea , comparecencia ministra , pertenecient popular , creación empleo , comisión nacion , si quier , dominio público , doce mese , seguridad jurídica , ministra transición , entrada vigor , guardia civil , alta velocidad , ministra adelant , pedro sánchez , acatar constitución , economía española , cuenta pública , cuerpo seguridad , tribun constitucion\n",
            "Topic 24:\n",
            "extraordinaria comisión , creación empleo , comú podemgalicia , seguridad social , unido podemosen , gasto público , convocar eleccion , regeneración democrática , marco financiero , política social , próxima legislatura , ciudadano ciudadana , comparecencia ministra , convalidación derogación , artículo constitución , pacto toledo , justicia social , eleccion general , adoptar medida , poner marcha\n",
            "Topic 25:\n",
            "cambio climático , toda medida , unida podemosen , comunidad autónoma , entrada vigor , diálogo social , ministra transición , comisión nacion , seguridad jurídica , efecto llamada , mejor dicho , nacion unida , pedro sánchez , miembro diputación , servicio público , ministra adelant , cuerpo seguridad , economía española , extraordinaria urgent , igualdad oportunidad\n",
            "Topic 26:\n",
            "subida salario , administracion pública , trabajador trabajadora , marco financiero , cualquier caso , ministra adelant , mínimo interprofesion , presentar nombr , administración gener , acuerdo retirada , poner marcha , toda españa , formación profesion , suficient miembro , candidato presidencia , crecimiento económico , tribun constitucion , acatar constitución , encima mesa , thoma cook\n",
            "Topic 27:\n",
            "comunidad valenciana , entrega cuenta , comú podemen , nacion unida , proyecto europeo , espinosa montero , proyecto procedimiento , llegar acuerdo , tribun supremo , podemgalicia común , miembro diputación , rentabilidad razon , salvamento marítimo , unida podemo , pedro sánchez , servicio público , hecho referencia , resolv problema , igualdad oportunidad , acuerd convocatoria\n",
            "Topic 28:\n",
            "gran canaria , rentabilidad razon , administración gener , alta velocidad , agricultura pesca , política migratoria , eleccion general , ministra hacienda , último doce , extraordinaria urgent , crecimiento económico , sociedad española , servicio público , entrada vigor , cuerpo seguridad , cualquier caso , efecto llamada , empleado público , pertenecient popular , ordenamiento jurídico\n",
            "Topic 29:\n",
            "proyecto presupuesto , reforma labor , cuenta pública , eleccion general , crisi económica , entrada vigor , seguridad social , mismo tiempo , comú podemgalicia , ministra transición , crecimiento económico , administracion pública , pertenecient popular , política migratoria , formación profesion , mínimo interprofesion , creación empleo , defensa iniciativa , legarda uriart , cualquier caso\n",
            "Topic 30:\n",
            "podemen marea , gasto público , función pública , cuidado paliativo , trabajador trabajadora , hecho referencia , resolv problema , convocar eleccion , crisi económica , techo gasto , pacto toledo , nacion unida , comparecencia ministra , mercado labor , sector público , consejo europeo , eleccion general , hombr mujer , regeneración democrática , último doce\n",
            "Topic 31:\n",
            "guardia civil , proyecto europeo , proyecto procedimiento , llegar acuerdo , unida podemosen , posicion mixto , pertenecient popular , si quier , nacion unida , servicio público , mejor dicho , toma consideración , acuerd convocatoria , diálogo social , miembro diputación , entrada vigor , pedro sánchez , techo gasto , salvamento marítimo , cuenta pública\n",
            "Topic 32:\n",
            "popular ciudadano , unida podemosen , posicion mixto , presentar nombr , toma consideración , encima mesa , rentabilidad razon , trabajador trabajadora , nacion unida , estatuto gernika , espinosa montero , pedro sánchez , proyecto europeo , techo gasto , ministra hacienda , política migratoria , hecho referencia , adoptan medida , igualdad oportunidad , hecho sido\n",
            "Topic 33:\n",
            "ill balear , política económica , interé gener , proyecto europeo , posicion mixto , acatar constitución , nacion unida , proyecto procedimiento , llegar acuerdo , toda españa , crecimiento económico , formación profesion , trabajador trabajadora , convocatoria extraordinaria , mejor dicho , unida podemosen , crisi económica , candidato presidencia , sistema educativo , entrada vigor\n",
            "Topic 34:\n",
            "energía renov , diálogo social , crisi económica , crecimiento económico , estatuto gernika , cualquier caso , llegar acuerdo , proyecto procedimiento , salida reino , rentabilidad razon , trabajador trabajadora , unida podemosen , cuerpo seguridad , encima mesa , acatar constitución , comisión europea , interé gener , quiero decirl , posicion mixto , formación profesion\n",
            "Topic 35:\n",
            "ahora mismo , comú podemgalicia , relacion cort , marco financiero , paí vasco , resolv problema , igualdad oportunidad , tribun constitucion , crisi económica , convocatoria extraordinaria , crecimiento económico , mercado labor , dar respuesta , encima mesa , ministra adelant , economía española , seguridad jurídica , miembro diputación , presupuesto general , doce mese\n",
            "Topic 36:\n",
            "popular congreso , borrà castany , derecho libertad , gasto público , comú podemen , trabajador trabajadora , pedro sánchez , nacion unida , pleno cámara , encima mesa , candidato presidencia , regeneración democrática , igualdad oportunidad , ministra adelant , comparecencia ministra , techo gasto , presentar nombr , hecho referencia , podemgalicia común , cualquier caso\n",
            "Topic 37:\n",
            "cort igualdad , acatar constitución , toda españa , formación profesion , acuerd convocatoria , estatuto gernika , suficient miembro , posicion mixto , entrada vigor , hoja ruta , eleccion general , poder judici , agricultura pesca , cuerpo seguridad , mayor cincuenta , presentar nombr , ministra transición , si quier , proyecto europeo , comunidad autónoma\n",
            "Topic 38:\n",
            "sere humano , política migratoria , presentar nombr , pesca alimentación , crisi económica , ministra hacienda , salida reino , adoptan medida , quiero decirl , tribun supremo , crecimiento económico , próxima legislatura , gasto público , cualquier caso , nacion unida , espinosa montero , trabajador trabajadora , podemgalicia común , rodríguez hernández , mercado labor\n",
            "Topic 39:\n",
            "zona afectada , suficient miembro , cuidado paliativo , función pública , ministra adelant , trabajador trabajadora , presentar nombr , derecho libertad , moción censura , relacion cort , mínimo interprofesion , presupuesto general , seguridad social , buena tard , política española , reino unido , mercado labor , gasto público , diputación permanent , dar respuesta\n",
            "Topic 40:\n",
            "asunto exterior , eleccion general , poner marcha , unido podemosen , unida podemo , convocar eleccion , ministra adelant , extraordinaria urgent , diputación permanent , permanent pertenecient , convalidación derogación , thoma cook , creación empleo , marco financiero , espinosa montero , urgent necesidad , justicia social , trabajador trabajadora , sistema educativo , hoja ruta\n"
          ]
        }
      ]
    },
    {
      "cell_type": "markdown",
      "source": [
        "# Guardar la base"
      ],
      "metadata": {
        "id": "zla-SqgeGJQE"
      }
    },
    {
      "cell_type": "code",
      "source": [
        "base.to_csv('/content/drive/MyDrive/base_formateada.csv')"
      ],
      "metadata": {
        "id": "Fg33RdzRECO3"
      },
      "execution_count": 106,
      "outputs": []
    }
  ]
}