{
  "nbformat": 4,
  "nbformat_minor": 0,
  "metadata": {
    "colab": {
      "provenance": [],
      "include_colab_link": true
    },
    "kernelspec": {
      "name": "python3",
      "display_name": "Python 3"
    },
    "language_info": {
      "name": "python"
    }
  },
  "cells": [
    {
      "cell_type": "markdown",
      "metadata": {
        "id": "view-in-github",
        "colab_type": "text"
      },
      "source": [
        "<a href=\"https://colab.research.google.com/github/LCaravaggio/politext/blob/main/Toda_la_base.ipynb\" target=\"_parent\"><img src=\"https://colab.research.google.com/assets/colab-badge.svg\" alt=\"Open In Colab\"/></a>"
      ]
    },
    {
      "cell_type": "markdown",
      "source": [
        "# Cargar la base"
      ],
      "metadata": {
        "id": "3bR6IbjGTqyw"
      }
    },
    {
      "cell_type": "code",
      "source": [
        "from google.colab import drive\n",
        "drive.mount('/content/drive')"
      ],
      "metadata": {
        "colab": {
          "base_uri": "https://localhost:8080/"
        },
        "id": "1d3u68qTTy95",
        "outputId": "eac9876e-8a43-4e9d-a15c-76c3d99a57bf"
      },
      "execution_count": 4,
      "outputs": [
        {
          "output_type": "stream",
          "name": "stdout",
          "text": [
            "Drive already mounted at /content/drive; to attempt to forcibly remount, call drive.mount(\"/content/drive\", force_remount=True).\n"
          ]
        }
      ]
    },
    {
      "cell_type": "code",
      "source": [
        "import pandas as pd\n",
        "base=pd.read_csv('/content/drive/MyDrive/base_formateada.csv')"
      ],
      "metadata": {
        "id": "a4Y2nh_NT6vv",
        "colab": {
          "base_uri": "https://localhost:8080/"
        },
        "outputId": "edf5cace-d9da-4773-8a3f-dd16637c4966"
      },
      "execution_count": 5,
      "outputs": [
        {
          "output_type": "stream",
          "name": "stderr",
          "text": [
            "/usr/local/lib/python3.7/dist-packages/IPython/core/interactiveshell.py:3058: DtypeWarning: Columns (18) have mixed types.Specify dtype option on import or set low_memory=False.\n",
            "  interactivity=interactivity, compiler=compiler, result=result)\n"
          ]
        }
      ]
    },
    {
      "cell_type": "markdown",
      "source": [
        "# CV"
      ],
      "metadata": {
        "id": "DGXL1PFubO1X"
      }
    },
    {
      "cell_type": "code",
      "source": [
        "base['party'].value_counts()"
      ],
      "metadata": {
        "id": "cmCxT85hEyXg",
        "outputId": "17c78d8c-6445-498c-8ac5-6432e48f238d",
        "colab": {
          "base_uri": "https://localhost:8080/"
        }
      },
      "execution_count": 6,
      "outputs": [
        {
          "output_type": "execute_result",
          "data": {
            "text/plain": [
              "PSOE    189526\n",
              "PP      144895\n",
              "Name: party, dtype: int64"
            ]
          },
          "metadata": {},
          "execution_count": 6
        }
      ]
    },
    {
      "cell_type": "code",
      "source": [
        "from sklearn.model_selection import train_test_split\n",
        "#base['tokens']=base[\"tokens\"].map(' '.join)\n",
        "X_train, X_test, y_train, y_test = train_test_split(base.loc[:, base.columns != 'party'], base['party'], test_size=0.33, random_state=42)"
      ],
      "metadata": {
        "id": "K97ay8J3F60U"
      },
      "execution_count": 7,
      "outputs": []
    },
    {
      "cell_type": "code",
      "source": [
        "# Balance de clase\n",
        "y_train.value_counts()"
      ],
      "metadata": {
        "colab": {
          "base_uri": "https://localhost:8080/"
        },
        "id": "3bTAet19F-IX",
        "outputId": "f5916bdb-29a3-4d85-faed-027c90355ead"
      },
      "execution_count": 8,
      "outputs": [
        {
          "output_type": "execute_result",
          "data": {
            "text/plain": [
              "PSOE    127260\n",
              "PP       96802\n",
              "Name: party, dtype: int64"
            ]
          },
          "metadata": {},
          "execution_count": 8
        }
      ]
    },
    {
      "cell_type": "code",
      "source": [
        "import nltk\n",
        "nltk.download('stopwords')\n",
        "from nltk.corpus import stopwords\n",
        "stopwords=stopwords.words('spanish')"
      ],
      "metadata": {
        "colab": {
          "base_uri": "https://localhost:8080/"
        },
        "id": "vG2Zxxq3UvyZ",
        "outputId": "24dcd30f-b8b7-48b8-b033-3856e6dc5e58"
      },
      "execution_count": 9,
      "outputs": [
        {
          "output_type": "stream",
          "name": "stderr",
          "text": [
            "[nltk_data] Downloading package stopwords to /root/nltk_data...\n",
            "[nltk_data]   Package stopwords is already up-to-date!\n"
          ]
        }
      ]
    },
    {
      "cell_type": "code",
      "source": [
        "# Se incorporan las stopwords sugeridas por Federico\n",
        "stopwords.extend(['señor', 'señora', 'mucha', 'gracia', 'año', 'pasado', 'cada', 'vez', 'uno', 'dos', 'tres', 'cuatro', 'cinco', 'seis' ,'siete', 'ocho', 'nueve', 'diez'])\n",
        "stopwords.extend(['hoy', 'aquí', 'primer', 'lugar', 'primera', 'segunda', 'primero', 'segundo', 'siguiente', 'tercer'])\n",
        "stopwords.extend(['convergencia', 'esquerra', 'republicana', 'grupo', 'parlamentaria', 'parlamentario', 'partido'])\n",
        "stopwords.extend(['enmienda', 'votación', 'favor', 'abstención', 'ley', 'real', 'decreto', 'decretoley', 'resultado', 'voto', 'sé' ,'sí', 'silencio' ,'favor'])\n",
        "stopwords.extend(['usted', 'señoría', 'presidente', 'presidenta', 'ministro', 'orden' , 'día', 'palabra', 'petición', 'posición', 'punto', 'vista', 'sesión', 'baldoví', 'duran', 'turno'])\n",
        "stopwords.extend(['hacer', 'frente', 'puede' ,'ser', 'va', 'voy', 'decir'])\n",
        "stopwords.extend(['millón', 'euro', 'emitido', 'efectuada', 'dio', 'comienzo', 'partido', 'queda', 'quedan', 'rechazada', 'aceptada', 'comienza', 'usted', 'sabe', 'abstención', 'diputado', 'gobierno'])\n",
        "stopwords.extend(['continuación', 'votamos', 'telemático', 'republicanaizquierda', 'unidainiciativa', 'puede', 'bien', 'propuesta' ,'abstencion', 'mayoría', 'absoluta', 'pregunta', 'don', 'vamos', 'votar', 'llevar', 'cabo', 'millón', 'muchas', 'gracias'])"
      ],
      "metadata": {
        "id": "D34MOjAhUx_a"
      },
      "execution_count": 10,
      "outputs": []
    },
    {
      "cell_type": "code",
      "source": [
        "from sklearn.feature_extraction.text import CountVectorizer\n",
        "cv=CountVectorizer(ngram_range=[2,2], max_features=200, stop_words=stopwords, max_df=0.95, min_df=0.001)\n",
        "vec = cv.fit(X_train['tokens'])"
      ],
      "metadata": {
        "id": "4DJ5xDWCGAnk"
      },
      "execution_count": 11,
      "outputs": []
    },
    {
      "cell_type": "code",
      "source": [
        "train_matrix = vec.fit_transform(X_train['tokens'])\n",
        "test_matrix = vec.transform(X_test['tokens'])"
      ],
      "metadata": {
        "id": "egJ2P5OvOXwm"
      },
      "execution_count": 12,
      "outputs": []
    },
    {
      "cell_type": "markdown",
      "source": [
        "# LASSO"
      ],
      "metadata": {
        "id": "he5iXGwabZZj"
      }
    },
    {
      "cell_type": "code",
      "source": [
        "from sklearn.linear_model import LogisticRegression\n",
        "from sklearn.metrics import confusion_matrix,classification_report\n",
        "import numpy as np"
      ],
      "metadata": {
        "id": "JTqJ61B0Yygk"
      },
      "execution_count": 10,
      "outputs": []
    },
    {
      "cell_type": "code",
      "source": [
        "lr = LogisticRegression(penalty='l1', max_iter=1000, solver='liblinear')"
      ],
      "metadata": {
        "id": "tRJkiHV4OaNW"
      },
      "execution_count": 11,
      "outputs": []
    },
    {
      "cell_type": "code",
      "source": [
        "lr.fit(train_matrix,y_train)"
      ],
      "metadata": {
        "colab": {
          "base_uri": "https://localhost:8080/"
        },
        "id": "4e5xEAYfOcKP",
        "outputId": "1af550a5-bc18-4c8e-aabb-53aefd9c1dde"
      },
      "execution_count": 12,
      "outputs": [
        {
          "output_type": "execute_result",
          "data": {
            "text/plain": [
              "LogisticRegression(max_iter=1000, penalty='l1', solver='liblinear')"
            ]
          },
          "metadata": {},
          "execution_count": 12
        }
      ]
    },
    {
      "cell_type": "code",
      "source": [
        "predictions = lr.predict(test_matrix)"
      ],
      "metadata": {
        "id": "UQcg6iZ6Od8x"
      },
      "execution_count": 13,
      "outputs": []
    },
    {
      "cell_type": "code",
      "source": [
        "new = np.asarray(y_test)\n",
        "confusion_matrix(predictions,y_test)"
      ],
      "metadata": {
        "colab": {
          "base_uri": "https://localhost:8080/"
        },
        "id": "MTitT84vOfsh",
        "outputId": "8ff5a445-226a-415c-f0bc-dcbf609c999c"
      },
      "execution_count": 14,
      "outputs": [
        {
          "output_type": "execute_result",
          "data": {
            "text/plain": [
              "array([[ 8010,  3205],\n",
              "       [40083, 59061]])"
            ]
          },
          "metadata": {},
          "execution_count": 14
        }
      ]
    },
    {
      "cell_type": "code",
      "source": [
        "print(classification_report(predictions,y_test))"
      ],
      "metadata": {
        "colab": {
          "base_uri": "https://localhost:8080/"
        },
        "id": "yE2hFlZvOhRW",
        "outputId": "081b6d36-3d10-4aef-c403-91b4b1278107"
      },
      "execution_count": 15,
      "outputs": [
        {
          "output_type": "stream",
          "name": "stdout",
          "text": [
            "              precision    recall  f1-score   support\n",
            "\n",
            "          PP       0.17      0.71      0.27     11215\n",
            "        PSOE       0.95      0.60      0.73     99144\n",
            "\n",
            "    accuracy                           0.61    110359\n",
            "   macro avg       0.56      0.65      0.50    110359\n",
            "weighted avg       0.87      0.61      0.68    110359\n",
            "\n"
          ]
        }
      ]
    },
    {
      "cell_type": "code",
      "source": [
        "# Relevancia de bigramas en la predicción\n",
        "features=[]\n",
        "for i,v in enumerate(lr.coef_[0]):\n",
        "  features.append([vec.get_feature_names_out()[i],v ])"
      ],
      "metadata": {
        "id": "aWUa5xpiOjmD"
      },
      "execution_count": 16,
      "outputs": []
    },
    {
      "cell_type": "code",
      "source": [
        "sorted(features, key = lambda x: x[1])"
      ],
      "metadata": {
        "colab": {
          "base_uri": "https://localhost:8080/"
        },
        "id": "Q0bwziNOOlbQ",
        "outputId": "6ecaa8b7-77b1-4c1f-b100-fb738375140f"
      },
      "execution_count": 17,
      "outputs": [
        {
          "output_type": "execute_result",
          "data": {
            "text/plain": [
              "[['número formula', -4.386112500818554],\n",
              " ['izquierda plural', -2.246687369413928],\n",
              " ['feder izquierda', -2.027482070187739],\n",
              " ['nombr popular', -1.563575304839118],\n",
              " ['portavoz socialista', -1.419536720368806],\n",
              " ['rodríguez zapatero', -1.1977051532104728],\n",
              " ['congreso formula', -1.0077379299204308],\n",
              " ['interpelación urgent', -0.6793555918603997],\n",
              " ['vaya concluyendo', -0.6675016257499847],\n",
              " ['diputada doña', -0.6452841956441253],\n",
              " ['creación empleo', -0.5258071354404413],\n",
              " ['comunidad económica', -0.5103822087129175],\n",
              " ['coalición canaria', -0.37392663986613417],\n",
              " ['fijación posicion', -0.33659395230602707],\n",
              " ['ministerio economía', -0.317999386209088],\n",
              " ['déficit público', -0.2656609920534798],\n",
              " ['pueblo español', -0.2567847831110033],\n",
              " ['desean fijar', -0.25656483055156654],\n",
              " ['servicio social', -0.24086835700322248],\n",
              " ['sociedad española', -0.23416109460323473],\n",
              " ['si quier', -0.20186358929017081],\n",
              " ['seguridad jurídica', -0.1970381419439392],\n",
              " ['convergència unió', -0.17823589575591772],\n",
              " ['fuerza cuerpo', -0.16301532154614892],\n",
              " ['ordenamiento jurídico', -0.16099983725170056],\n",
              " ['impuesto renta', -0.15584017527298163],\n",
              " ['quiero decirl', -0.15196054271306209],\n",
              " ['moción consecuencia', -0.149277668192037],\n",
              " ['ningún caso', -0.14767664806314376],\n",
              " ['tan important', -0.1419571431725289],\n",
              " ['toda comunidad', -0.14179084304140205],\n",
              " ['izquierda unida', -0.13968454060301996],\n",
              " ['administracion pública', -0.13084253345394134],\n",
              " ['economía española', -0.1271942854494304],\n",
              " ['hace falta', -0.12388439666771452],\n",
              " ['constitución española', -0.1238072355843364],\n",
              " ['comunidad valenciana', -0.1204597995713485],\n",
              " ['exposición motivo', -0.11867093271602315],\n",
              " ['crecimiento económico', -0.11477028152388037],\n",
              " ['consideración proposición', -0.11125799167979016],\n",
              " ['diputación permanent', -0.1067727274410699],\n",
              " ['quiero recordar', -0.10654604515685864],\n",
              " ['diario sesion', -0.10596954895820164],\n",
              " ['puesto trabajo', -0.10357940747400987],\n",
              " ['consejo seguridad', -0.09715332412974075],\n",
              " ['función pública', -0.09206309687171191],\n",
              " ['artículo reglamento', -0.09202265562636283],\n",
              " ['disposición final', -0.09145839026410228],\n",
              " ['director gener', -0.08852105956129176],\n",
              " ['opinión pública', -0.08572354682301753],\n",
              " ['ciudadano español', -0.08346707678795551],\n",
              " ['agent social', -0.07953109354403792],\n",
              " ['cualquier caso', -0.07903381711640789],\n",
              " ['interior bruto', -0.07367279638942914],\n",
              " ['presupuesto general', -0.07222645582047095],\n",
              " ['toma consideración', -0.07184822277352146],\n",
              " ['crisi económica', -0.0683352725318945],\n",
              " ['interé gener', -0.0638694550236503],\n",
              " ['consecuencia interpelación', -0.06283785840543249],\n",
              " ['medio ambient', -0.06145687688703335],\n",
              " ['empresa pública', -0.06115931510959384],\n",
              " ['mediana empresa', -0.059367912145451354],\n",
              " ['unión europea', -0.05927627961908925],\n",
              " ['medio comunicación', -0.0585591150553751],\n",
              " ['crédito extraordinario', -0.04957336854510204],\n",
              " ['tribun supremo', -0.048108753191129366],\n",
              " ['millon peseta', -0.04130993733005944],\n",
              " ['persona física', -0.03967628874766678],\n",
              " ['gener poder', -0.03953417486469393],\n",
              " ['paí vasco', -0.039503587644372735],\n",
              " ['política económica', -0.036500880211117234],\n",
              " ['consejo europeo', -0.03573249623944517],\n",
              " ['formación profesion', -0.03558970510866275],\n",
              " ['alto cargo', -0.032946600717695985],\n",
              " ['alta velocidad', -0.03287169923749958],\n",
              " ['asunto social', -0.028947566497379073],\n",
              " ['sistema nacion', -0.028764974293580423],\n",
              " ['pequeña mediana', -0.02691867258352319],\n",
              " ['estabilidad presupuestaria', -0.023779969139432935],\n",
              " ['poder adquisitivo', -0.02232330144100551],\n",
              " ['corporacion local', -0.02202109995501925],\n",
              " ['proyecto orgánica', -0.02125830187279212],\n",
              " ['administración gener', -0.020636112160956652],\n",
              " ['tribun cuenta', -0.02027130752757448],\n",
              " ['artículo constitución', -0.019402602786328604],\n",
              " ['banco españa', -0.01494438108829056],\n",
              " ['comisión nacion', -0.011855735241254137],\n",
              " ['derecho libertad', -0.011849753328746413],\n",
              " ['parlamento europeo', -0.011364424303946295],\n",
              " ['iniciativa legislativa', -0.010755758819042813],\n",
              " ['administración pública', -0.008300244838097487],\n",
              " ['sistema educativo', -0.007797443074337358],\n",
              " ['gasto público', -0.007496574188001383],\n",
              " ['fuerza armada', -0.004857867882579232],\n",
              " ['derecho humano', -0.00343249520135566],\n",
              " ['responsabilidad política', -0.0026809451004834255],\n",
              " ['tribun constitucion', -0.002555127880670787],\n",
              " ['asunto exterior', -0.0014239220485669697],\n",
              " ['ministerio interior', -0.0003901323696484916],\n",
              " ['violencia género', -0.0003634776700449081],\n",
              " ['agencia tributaria', 0.0],\n",
              " ['consejo gener', 0.0],\n",
              " ['disposición transitoria', 0.00018586372807757222],\n",
              " ['comisión investigación', 0.0008118587021060937],\n",
              " ['tipo interé', 0.0010587923113601775],\n",
              " ['debat totalidad', 0.0010607884953533551],\n",
              " ['administración justicia', 0.0038032148847319176],\n",
              " ['texto alternativo', 0.003999860485248042],\n",
              " ['comunidad europea', 0.004002225940199099],\n",
              " ['radiotelevisión española', 0.00401404854149297],\n",
              " ['guardia civil', 0.004843662883686186],\n",
              " ['comunidad autónoma', 0.006592934099779316],\n",
              " ['cort general', 0.0068309932629367935],\n",
              " ['pacto toledo', 0.0071939724809552165],\n",
              " ['entrada vigor', 0.007399877094277769],\n",
              " ['programa elector', 0.007478024012191604],\n",
              " ['defensor pueblo', 0.00857393745592292],\n",
              " ['sentencia tribun', 0.010171702579983396],\n",
              " ['sistema financiación', 0.010491725785802854],\n",
              " ['impuesto sociedad', 0.01068051588952586],\n",
              " ['nacion salud', 0.011290068298850235],\n",
              " ['seguridad social', 0.011629449082558283],\n",
              " ['vasco pnv', 0.015199648675486841],\n",
              " ['ministerio justicia', 0.01607060702756388],\n",
              " ['código penal', 0.01626581663354471],\n",
              " ['dirección gener', 0.017625603422092503],\n",
              " ['plan nacion', 0.020037952709299874],\n",
              " ['poder judici', 0.023451485062922186],\n",
              " ['sánchez llibr', 0.02644038199777229],\n",
              " ['semana pasada', 0.02842595198136898],\n",
              " ['presión fiscal', 0.030484440516082255],\n",
              " ['deuda pública', 0.03180877508488409],\n",
              " ['sector público', 0.03415560914350844],\n",
              " ['obra pública', 0.038453044321775286],\n",
              " ['actividad económica', 0.038575639698485056],\n",
              " ['proyecto presupuesto', 0.04383244464119074],\n",
              " ['protección social', 0.04665088399846108],\n",
              " ['tener cuenta', 0.04702964844507574],\n",
              " ['hace mese', 0.04902636311069121],\n",
              " ['comisión mixta', 0.051190357339006655],\n",
              " ['reino unido', 0.05181928976919839],\n",
              " ['ningún tipo', 0.05184174016807945],\n",
              " ['puesto marcha', 0.05202021920834276],\n",
              " ['nacion unida', 0.05311974605844941],\n",
              " ['sistema financiero', 0.055280958266678774],\n",
              " ['política exterior', 0.057114209073506825],\n",
              " ['ahora mismo', 0.05928332919732449],\n",
              " ['servicio público', 0.061705934880004726],\n",
              " ['disposición adicion', 0.06619639026668095],\n",
              " ['estatuto autonomía', 0.06785543553414225],\n",
              " ['llegar acuerdo', 0.07144867408284773],\n",
              " ['administración central', 0.07232204133308665],\n",
              " ['sector privado', 0.0790613771699619],\n",
              " ['carácter gener', 0.0830668628957798],\n",
              " ['ver si', 0.08520928812568451],\n",
              " ['organismo autónomo', 0.08843172543602408],\n",
              " ['puesta marcha', 0.0887808321213889],\n",
              " ['hace tiempo', 0.08899348285939067],\n",
              " ['poner marcha', 0.10005640702404328],\n",
              " ['país europeo', 0.11140100029780726],\n",
              " ['situación económica', 0.11194569980855912],\n",
              " ['último mese', 0.11286666690233696],\n",
              " ['comisión europea', 0.11291943091103282],\n",
              " ['ruego concluya', 0.11655667944208639],\n",
              " ['ministerio educación', 0.12104617652775557],\n",
              " ['largo plazo', 0.12261218746919306],\n",
              " ['mismo tiempo', 0.13351991398716354],\n",
              " ['poder público', 0.13614453074220903],\n",
              " ['política fiscal', 0.1367178281788397],\n",
              " ['fuerza política', 0.13944897632717393],\n",
              " ['resolv problema', 0.14090284364284186],\n",
              " ['proposición popular', 0.14243810738968024],\n",
              " ['cuerpo seguridad', 0.15251435887831546],\n",
              " ['mercado trabajo', 0.15318853537897584],\n",
              " ['mayor part', 0.1586898723936855],\n",
              " ['voluntad política', 0.17657329231298594],\n",
              " ['economía hacienda', 0.18023998437072444],\n",
              " ['si así', 0.1803464178604919],\n",
              " ['hace referencia', 0.18455762792748698],\n",
              " ['alguna manera', 0.19177691354690687],\n",
              " ['duda alguna', 0.19672574896425665],\n",
              " ['forma part', 0.20374652594276904],\n",
              " ['popular congreso', 0.22018625681638676],\n",
              " ['salario mínimo', 0.2338777726714796],\n",
              " ['aquel momento', 0.24745887719328913],\n",
              " ['producto interior', 0.24822275313874256],\n",
              " ['económico social', 0.24907233828571484],\n",
              " ['ss ss', 0.25809723778213395],\n",
              " ['hecho referencia', 0.2638223790879726],\n",
              " ['dar respuesta', 0.2717571374172705],\n",
              " ['reforma labor', 0.274962633740167],\n",
              " ['política social', 0.2819107566861731],\n",
              " ['izquierda per', 0.28656088393741835],\n",
              " ['económica europea', 0.40975909176959435],\n",
              " ['nombr socialista', 0.42007252994790734],\n",
              " ['dictamen comisión', 0.8014944938250369],\n",
              " ['per catalunya', 1.020126685334574],\n",
              " ['coalición popular', 1.0810562524997471],\n",
              " ['minoría catalana', 1.4419590248594063],\n",
              " ['catalunya verd', 1.5932233910798688]]"
            ]
          },
          "metadata": {},
          "execution_count": 17
        }
      ]
    },
    {
      "cell_type": "code",
      "source": [
        "# Entiendo que un número negativo en el coeficiente implica que el bigrama correlaciona bien con la clase 0, es decir PP. Por el otro lado, un coeficiente positivo implica que el bigrama correlaciona mejor con PSOE. \n",
        "lr.classes_"
      ],
      "metadata": {
        "colab": {
          "base_uri": "https://localhost:8080/"
        },
        "id": "miQgxc59jxZp",
        "outputId": "3631c239-4e20-4203-d9f3-f335df5050e1"
      },
      "execution_count": 18,
      "outputs": [
        {
          "output_type": "execute_result",
          "data": {
            "text/plain": [
              "array(['PP', 'PSOE'], dtype=object)"
            ]
          },
          "metadata": {},
          "execution_count": 18
        }
      ]
    },
    {
      "cell_type": "code",
      "source": [
        "# LASOO por año\n",
        "from sklearn.metrics import f1_score\n",
        "\n",
        "macro=[]\n",
        "weighted=[]\n",
        "\n",
        "lr = LogisticRegression(penalty='l1', max_iter=1000, solver='liblinear')\n",
        "\n",
        "for x in range(1979,2019): \n",
        "  try: \n",
        "    base_year=base[pd.DatetimeIndex(base.fecha).year==x]\n",
        "    X_train, X_test, y_train, y_test = train_test_split(base_year.loc[:, base_year.columns != 'party'], base_year['party'], test_size=0.33, random_state=42)\n",
        "    train_matrix = vec.fit_transform(X_train['tokens'])\n",
        "    test_matrix = vec.transform(X_test['tokens'])  \n",
        "    lr.fit(train_matrix,y_train)\n",
        "    predictions = lr.predict(test_matrix )\n",
        "    macro.append(f1_score(predictions,y_test, average='macro'))\n",
        "    weighted.append(f1_score(predictions,y_test, average='weighted'))\n",
        "  except: \n",
        "    macro.append(np.nan)\n",
        "    weighted.append(np.nan)"
      ],
      "metadata": {
        "id": "vT5GTcSJPGT7"
      },
      "execution_count": 19,
      "outputs": []
    },
    {
      "cell_type": "code",
      "source": [
        "# Yo entiendo que el resultado relevante es el macro, porque considera el desbalance de clases\n",
        "import matplotlib.pyplot as plt\n",
        "plt.plot(range(1979,2019), macro, marker='o')\n",
        "plt.plot(range(1979,2019), weighted, marker='+')"
      ],
      "metadata": {
        "colab": {
          "base_uri": "https://localhost:8080/",
          "height": 282
        },
        "id": "7laI6FgJRSyr",
        "outputId": "234d5d63-433b-4acf-adc6-89000c2f7a58"
      },
      "execution_count": 20,
      "outputs": [
        {
          "output_type": "execute_result",
          "data": {
            "text/plain": [
              "[<matplotlib.lines.Line2D at 0x7f7d41f127d0>]"
            ]
          },
          "metadata": {},
          "execution_count": 20
        },
        {
          "output_type": "display_data",
          "data": {
            "text/plain": [
              "<Figure size 432x288 with 1 Axes>"
            ],
            "image/png": "[encoded data removed]"
          },
          "metadata": {
            "needs_background": "light"
          }
        }
      ]
    },
    {
      "cell_type": "code",
      "source": [
        "# LASOO por legislatura\n",
        "macro=[]\n",
        "weighted=[]\n",
        "\n",
        "lr = LogisticRegression(penalty='l1', max_iter=1000, solver='liblinear')\n",
        "legislaturas=['I', 'II', 'III', 'IV', 'V', 'VI', 'VII','VIII', 'IX', 'X', 'XI', 'XII','XIII']\n",
        "\n",
        "for x in legislaturas: \n",
        "  try: \n",
        "    base_year=base[base.legislatura==x]\n",
        "    X_train, X_test, y_train, y_test = train_test_split(base_year.loc[:, base_year.columns != 'party'], base_year['party'], test_size=0.33, random_state=42)\n",
        "    train_matrix = vec.fit_transform(X_train['tokens'])\n",
        "    test_matrix = vec.transform(X_test['tokens'])  \n",
        "    lr.fit(train_matrix,y_train)\n",
        "    predictions = lr.predict(test_matrix )\n",
        "    macro.append(f1_score(predictions,y_test, average='macro'))\n",
        "    weighted.append(f1_score(predictions,y_test, average='weighted'))\n",
        "  except: \n",
        "    macro.append(np.nan)\n",
        "    weighted.append(np.nan)"
      ],
      "metadata": {
        "id": "tdGW6WkIY2JD"
      },
      "execution_count": 21,
      "outputs": []
    },
    {
      "cell_type": "code",
      "source": [
        "# Yo entiendo que el resultado relevante es el macro, porque considera el desbalance de clases\n",
        "import matplotlib.pyplot as plt\n",
        "plt.plot(legislaturas, macro, marker='o')\n",
        "plt.plot(legislaturas, weighted, marker='+')"
      ],
      "metadata": {
        "colab": {
          "base_uri": "https://localhost:8080/",
          "height": 282
        },
        "id": "eyA7ffAeZQbN",
        "outputId": "81d2b24f-4f7d-4a32-9ba4-1192d4dffd55"
      },
      "execution_count": 22,
      "outputs": [
        {
          "output_type": "execute_result",
          "data": {
            "text/plain": [
              "[<matplotlib.lines.Line2D at 0x7f7d6de7af90>]"
            ]
          },
          "metadata": {},
          "execution_count": 22
        },
        {
          "output_type": "display_data",
          "data": {
            "text/plain": [
              "<Figure size 432x288 with 1 Axes>"
            ],
            "image/png": "[encoded data removed]"
          },
          "metadata": {
            "needs_background": "light"
          }
        }
      ]
    },
    {
      "cell_type": "code",
      "source": [
        "# Relevancia de bigramas en la predicción por año\n",
        "for x in range (1979, 2020): \n",
        "  base_year=base[pd.DatetimeIndex(base.fecha).year==x]\n",
        "  X_train, X_test, y_train, y_test = train_test_split(base_year.loc[:, base_year.columns != 'party'], base_year['party'], test_size=0.33, random_state=42)\n",
        "  train_matrix = vec.fit_transform(X_train['tokens'])\n",
        "  test_matrix = vec.transform(X_test['tokens'])\n",
        "  lr = LogisticRegression(penalty='l1', max_iter=1000, solver='liblinear')\n",
        "  lr.fit(train_matrix,y_train)\n",
        "  predictions = lr.predict(test_matrix )\n",
        "  features=[]\n",
        "  for i,v in enumerate(lr.coef_[0]):\n",
        "    features.append([vec.get_feature_names_out()[i],v ])\n",
        "  sor=sorted(features, key = lambda x: x[1])\n",
        "  print(f\"Año: {x}\")\n",
        "  print(sor[:5])\n",
        "  print(sor[-5:])"
      ],
      "metadata": {
        "id": "zrM6LDzu-R-8",
        "outputId": "03a1513f-da70-4b34-835b-d469ce9cad22",
        "colab": {
          "base_uri": "https://localhost:8080/"
        }
      },
      "execution_count": 23,
      "outputs": [
        {
          "output_type": "stream",
          "name": "stdout",
          "text": [
            "Año: 1979\n",
            "[['publicada boletín', -2.4014323159135205], ['precedido uso', -1.3875972035350186], ['economía mercado', -1.3685275238528096], ['coalición democrática', -1.11362959425207], ['derecho huelga', -0.9211383404412553]]\n",
            "[['convenio colectivo', 1.167104661428014], ['ministerio interior', 1.2017865279420223], ['sector eléctrico', 1.2954085000687243], ['formacion política', 1.3089267752139657], ['director gener', 1.3303029617284206]]\n",
            "Año: 1980\n",
            "[['aprobado artículo', -2.830650770777357], ['pérez royo', -2.3055898774434853], ['artículo pausa', -2.054233436939095], ['senado artículo', -2.0072854105018902], ['número socialista', -1.5494571356011866]]\n",
            "[['plan urgencia', 1.3621038839942936], ['unión centro', 1.367040279564309], ['justicia militar', 1.3935035044523685], ['formación profesion', 1.516321540949703], ['seguridad jurídica', 1.8582007784604182]]\n",
            "Año: 1981\n",
            "[['santa sede', -1.9491474629048882], ['quiero dejar', -1.0255783560318497], ['derecho comparado', -0.9887642329991021], ['portavoz socialista', -0.9419846856997526], ['poder público', -0.8405686143432131]]\n",
            "[['relación tema', 1.166781494109838], ['saber si', 1.1741542938918232], ['socialista cataluña', 1.2480018070845136], ['largo debat', 1.6054859340030578], ['acuerdo santa', 2.4397617195706447]]\n",
            "Año: 1982\n",
            "[['duda ninguna', -2.5263800391698803], ['ningún caso', -1.5004781895411716], ['pueblo español', -1.3395881479355372], ['consignacion presupuestaria', -1.338547986439108], ['solé tura', -1.3164493460053464]]\n",
            "[['económica europea', 0.8516852703956959], ['texto alternativo', 0.8934222629714059], ['recurso natural', 1.4989464907053618], ['proceso autonómico', 1.7133425291902606], ['resolv problema', 2.42326475261929]]\n",
            "Año: 1983\n",
            "[['tan important', -1.3343671553294065], ['aplauso banco', -1.0913279611958155], ['texto artículo', -1.0067413473672038], ['libertad enseñanza', -0.8269464764203144], ['opinión pública', -0.8035238687454036]]\n",
            "[['consiguient aprobada', 2.2862203128252667], ['tiempo máximo', 2.3686198218294883], ['lópez lerma', 2.368630021475488], ['vaya terminando', 2.47940003346502], ['pausa nulo', 2.503754587112991]]\n",
            "Año: 1984\n",
            "[['portavoz socialista', -1.9404430127858037], ['saber si', -1.530013951656339], ['déficit público', -1.2126010738191646], ['política exterior', -1.189864642723669], ['ent público', -1.0998675076185145]]\n",
            "[['tiempo máximo', 2.3411487711923273], ['terminado tiempo', 2.4547792819506467], ['pausa nulo', 2.4891997394636083], ['vasco pnv', 2.6228875582871463], ['garcía agudín', 3.3646099901517097]]\n",
            "Año: 1985\n",
            "[['banco derecha', -1.483157708700057], ['impuesto renta', -1.2047987149758426], ['asistencia sanitaria', -1.177161318808961], ['opinión pública', -1.0464075255698029], ['administración pública', -1.0383170074689634]]\n",
            "[['fernández inguanzo', 2.0525826837185943], ['acuerdo dictamen', 2.197376924008769], ['mixto suscrita', 2.3709984107350595], ['bravo laguna', 2.419781887733362], ['conform dictamen', 2.8520743024999264]]\n",
            "Año: 1986\n",
            "[['mercado común', -1.6706571259836358], ['cámara local', -1.5259496423609316], ['portavoz socialista', -1.4667802064016915], ['tan important', -1.4640562215517516], ['pueblo español', -1.3392486401680395]]\n",
            "[['sentencia tribun', 1.4439883956074737], ['dictamen comisión', 1.61372626238358], ['déficit público', 1.64001804827616], ['ruego concluya', 1.6651779383306418], ['garcía fonseca', 1.6847791350558994]]\n",
            "Año: 1987\n",
            "[['portavoz socialista', -1.9571251618038743], ['director gener', -1.4530569724404347], ['opinión pública', -1.4444223923364155], ['pueblo español', -1.3586799784600023], ['hace falta', -1.3071193274744444]]\n",
            "[['pausa nulo', 2.454509006635547], ['última instancia', 2.5743397237205863], ['bravo laguna', 3.5364981951854904], ['acta unica', 4.764126457900305], ['nombr socialista', 5.152330289148324]]\n",
            "Año: 1988\n",
            "[['portavoz socialista', -2.665336626283537], ['tan important', -1.4031464290274829], ['hace tiempo', -1.2859239939332852], ['consideración proposición', -1.2786332948807577], ['seguridad ciudadana', -1.2160696804615194]]\n",
            "[['bravo laguna', 1.9375210342325033], ['pérez dobón', 2.0891923711328206], ['vasco pnv', 2.257478344030927], ['ruego concluya', 2.7089743922945213], ['dictamen comisión', 3.522017907441102]]\n",
            "Año: 1989\n",
            "[['gran bretaña', -1.9560982241394966], ['economía española', -1.913963532084254], ['director gener', -1.5452680401900172], ['comunidad europea', -1.5153207769965862], ['portavoz socialista', -1.474964366743397]]\n",
            "[['vasco pnv', 1.7263421696997283], ['política gener', 2.179705751945961], ['cumbr europea', 2.208523403045259], ['ruego concluya', 2.247537033670138], ['debo decirl', 2.66460744826856]]\n",
            "Año: 1990\n",
            "[['portavoz socialista', -2.968119975191505], ['banco derecha', -2.5184523928427303], ['nombr popular', -1.9451460919489216], ['ministerio agricultura', -1.8349742443042625], ['ahora mismo', -1.5725235006256568]]\n",
            "[['llegar acuerdo', 1.8515921927737415], ['hace tiempo', 2.019211737615213], ['presupuesto ministerio', 2.353653382138438], ['renta persona', 3.2269374382170657], ['ruego concluya', 3.465202299234858]]\n",
            "Año: 1991\n",
            "[['director gener', -2.2891783898425446], ['portavoz socialista', -1.8642176599263525], ['aplauso banco', -1.5031329602617085], ['banco derecha', -1.4073905892561134], ['ministerio sanidad', -1.2710690551577448]]\n",
            "[['palacio vallelersundi', 1.3534277663478314], ['vasco pnv', 1.4148734377536494], ['aprobado dictamen', 1.6627102493707213], ['sanidad consumo', 2.2432666207794645], ['ruego concluya', 2.425208703287183]]\n",
            "Año: 1992\n",
            "[['portavoz socialista', -2.3399132388959236], ['aplauso banco', -1.7373776931500322], ['vicepresident muñoz', -1.5132122178049376], ['aplauso escaño', -1.1052261709638491], ['exposición motivo', -1.034358315842425]]\n",
            "[['gonzález lizondo', 2.0489572340819526], ['aprobado dictamen', 2.0704729642902495], ['garcía fonseca', 2.1487197189293545], ['vasco pnv', 2.2478770173118297], ['ruego concluya', 3.494563673266282]]\n",
            "Año: 1993\n",
            "[['felip gonzález', -2.20674574771467], ['banco popular', -1.8740263403709845], ['portavoz socialista', -1.7203301688541994], ['boletín ofici', -1.512087542792916], ['si así', -1.4738841464899868]]\n",
            "[['desean fijar', 2.0465227062158315], ['gonzález lizondo', 2.14525077465678], ['aprobado dictamen', 2.2088109854610063], ['ruego concluya', 3.0337007852711513], ['crecimiento económico', 3.597426188794245]]\n",
            "Año: 1994\n",
            "[['portavoz socialista', -2.738264384532187], ['ciudadano español', -1.787779024338045], ['nombr popular', -1.749695146152514], ['obra pública', -1.2844284808626936], ['sociedad española', -1.2033576331890525]]\n",
            "[['fernández trocóniz', 2.6125775082621323], ['aprobado dictamen', 2.7540824554102645], ['ciento ciento', 2.793485199337994], ['feder izquierda', 2.9287959395522116], ['ruego concluya', 3.1503456216688113]]\n",
            "Año: 1995\n",
            "[['unión valenciana', -2.982747619464175], ['nombr popular', -2.905988729676294], ['diario sesion', -1.5922900174109142], ['portavoz socialista', -1.5864135522502478], ['déficit público', -1.5809303820875567]]\n",
            "[['secreto oficial', 2.1446183154973237], ['aprobado dictamen', 2.2096883467861232], ['congreso formula', 2.58802557727668], ['ruego concluya', 2.800022006987222], ['portavoz popular', 3.747466109039515]]\n",
            "Año: 1996\n",
            "[['ruego vaya', -3.5730143862943446], ['número formula', -3.4715068941320952], ['congreso formula', -2.7874163925007145], ['maría aznar', -2.554037692553238], ['unión valenciana', -2.3032737652202204]]\n",
            "[['anterior legislatura', 1.2356650377020413], ['programa elector', 1.2626322507746943], ['resolv problema', 1.485787841503885], ['portavoz popular', 2.09799647263048], ['último mese', 2.175580626618908]]\n",
            "Año: 1997\n",
            "[['número formula', -4.225170702893325], ['ruego vaya', -2.4161312702674835], ['consecuencia aprobada', -2.36388868764766], ['presentación defensa', -2.3174631290118355], ['nombr catalán', -1.6536398665935934]]\n",
            "[['comisión europea', 1.126919638706118], ['hace mese', 1.1748629374589865], ['semana pasada', 1.1937847741132133], ['resolv problema', 1.2384004157903306], ['portavoz popular', 1.427587104429508]]\n",
            "Año: 1998\n",
            "[['ruego vaya', -2.9452542705725917], ['número formula', -2.3555134794303765], ['nombr feder', -2.025708815482618], ['portavoz socialista', -1.9775276446156613], ['nombr vasco', -1.8264373491162884]]\n",
            "[['diario sesion', 1.1827023328602386], ['portavoz popular', 1.2388244478901773], ['ver si', 1.2652922788802468], ['medio comunicación', 1.4039470850770057], ['hace tiempo', 1.5441419468055626]]\n",
            "Año: 1999\n",
            "[['si ss', -3.3064849651999704], ['ruego vaya', -2.9338971637435494], ['nombr feder', -2.7681407251264067], ['martínez noval', -2.735534041353583], ['fijar nombr', -2.6318646523536193]]\n",
            "[['secretario gener', 1.0135990942046624], ['responsabilidad política', 1.2085751252487598], ['resolv problema', 1.4159331705487388], ['compañía telefónica', 1.5435566300712222], ['semana pasada', 1.5510166619888828]]\n",
            "Año: 2000\n",
            "[['número formula', -2.914051417104155], ['pesca alimentación', -2.3720500828976876], ['socialista formula', -2.266175240851679], ['si ss', -2.1384194725330556], ['equilibrio presupuestario', -2.1323838952691836]]\n",
            "[['moción consecuencia', 0.966693589942917], ['diario sesion', 1.0911509123070326], ['familia española', 1.2105462433196235], ['país europeo', 1.2187391484206043], ['billon peseta', 1.8164547013342403]]\n",
            "Año: 2001\n",
            "[['número formula', -3.5719277357484915], ['pesca alimentación', -3.020428814610909], ['congreso formula', -2.988507099447233], ['si ss', -2.8413283652917793], ['ruego concluya', -2.7854670904018524]]\n",
            "[['responsabilidad política', 1.184429631863063], ['ciudadano español', 1.215753201140533], ['último mese', 1.3429744509152366], ['ministra educación', 1.7153182389010568], ['vaca loca', 2.9509263087572504]]\n",
            "Año: 2002\n",
            "[['cultura deport', -4.064614343535373], ['número formula', -3.7427745098064573], ['portavoz socialista', -3.475660875554845], ['ocupen escaño', -2.3476536266658976], ['creación empleo', -2.2670212116421484]]\n",
            "[['huelga gener', 1.3584293979964628], ['medio comunicación', 1.5096954130004692], ['hace mese', 1.763084096222558], ['resolv problema', 1.7830912580945308], ['comisión investigación', 1.8689201254038252]]\n",
            "Año: 2003\n",
            "[['alianza atlántica', -5.540137711287515], ['número formula', -3.7064927821552187], ['nombr popular', -3.443507893255475], ['ocupen escaño', -3.0039584878010883], ['nombr catalán', -2.709851667568508]]\n",
            "[['millon peseta', 1.1353047697646212], ['poder público', 1.2125395297193455], ['cort general', 1.2771116576348476], ['seguridad ciudadana', 1.298653320404251], ['guerra irak', 1.9239500641626215]]\n",
            "Año: 2004\n",
            "[['portavoz socialista', -2.4711546019127266], ['rodríguez zapatero', -2.2044917300933933], ['saber si', -1.7090011888493428], ['pasada legislatura', -1.59214027503897], ['quiero recordar', -0.95323348477183]]\n",
            "[['texto dictamen', 1.6729206717435046], ['diputada doña', 1.8462480147219096], ['legalidad internacion', 1.8773434526811117], ['derecho fundamental', 2.0602891879471494], ['precio petróleo', 2.5938408924817487]]\n",
            "Año: 2005\n",
            "[['rodríguez zapatero', -2.399973302232348], ['portavoz socialista', -2.3327624869085266], ['política inmigración', -1.3754468270176872], ['digit terrestr', -1.3023866801297268], ['ministra fomento', -1.2937778048102828]]\n",
            "[['portavoz popular', 1.711657083263006], ['hombr mujer', 1.8076642354858237], ['diputada doña', 1.8562179993389836], ['izquierda verd', 1.9756760996882754], ['nombr socialista', 4.197141477176743]]\n",
            "Año: 2006\n",
            "[['rodríguez zapatero', -2.2365215308612107], ['portavoz socialista', -2.197636260843783], ['fiscal gener', -1.9261775477241558], ['toda españa', -1.3952447031341928], ['medio comunicación', -1.3750049783390468]]\n",
            "[['turismo comercio', 1.6090445313269741], ['sección relativo', 1.7107136242134813], ['tiempo concluido', 1.8707480744078036], ['diputada doña', 1.9116286062306105], ['portavoz popular', 3.649372555384228]]\n",
            "Año: 2007\n",
            "[['rodríguez zapatero', -2.2431790955483697], ['cien cien', -1.3480282188027861], ['constitución española', -1.3379177189284701], ['consejo gener', -1.325525412664499], ['poder adquisitivo', -1.1317332751587135]]\n",
            "[['diputada doña', 2.0410110500892045], ['tiempo concluido', 2.2575644637485786], ['partir ahí', 2.6922250245506394], ['nombr socialista', 2.843417541938255], ['administración justicia', 4.354272856779372]]\n",
            "Año: 2008\n",
            "[['ciudadano español', -2.4289699279031742], ['tomar medida', -2.3385695308486545], ['rodríguez zapatero', -1.9684046433899232], ['crisi económica', -1.6991227849047794], ['política inmigración', -1.5478702922252738]]\n",
            "[['ir acabando', 1.7528407019522265], ['cohesión social', 2.1832892556182837], ['catalunya verd', 2.229165492772845], ['turismo comercio', 2.6349893859401736], ['puedo asegurar', 3.148591118604663]]\n",
            "Año: 2009\n",
            "[['millon parado', -3.628348961561785], ['tan solo', -2.5382532046203554], ['rodríguez zapatero', -2.4718340036585027], ['tasa paro', -2.382432120689553], ['subida impuesto', -2.1883865916283955]]\n",
            "[['ciento pib', 1.8523448056258762], ['entidad local', 2.2377378373594996], ['organismo internacional', 2.415771623061292], ['puesta marcha', 2.6719295528866014], ['modelo crecimiento', 3.132406973394808]]\n",
            "Año: 2010\n",
            "[['recort social', -3.967023453003053], ['rodríguez zapatero', -3.5231839856339855], ['ministerio fomento', -1.62860233643313], ['derecho social', -1.5810157984125712], ['medio plazo', -1.5393028294568138]]\n",
            "[['turismo comercio', 1.9635060263781623], ['reducción déficit', 2.0913593128241152], ['josé lui', 2.3900538060824914], ['consejo europeo', 3.0444268081376498], ['consolidación fiscal', 3.865317666859347]]\n",
            "Año: 2011\n",
            "[['millon parado', -3.776176612000263], ['rodríguez zapatero', -2.4893800775700847], ['responsabilidad política', -1.5870002611587126], ['junta andalucía', -1.5281525429855056], ['estabilidad presupuestaria', -1.4426119101530217]]\n",
            "[['acabado tiempo', 1.500225684580326], ['económico social', 1.5397969242762317], ['social igualdad', 1.869187181441219], ['popular medida', 1.8962080518896296], ['interlocutor social', 2.0630238471187687]]\n",
            "Año: 2012\n",
            "[['económico creación', -4.295104284906783], ['economía competitividad', -2.687871555774215], ['toda administracion', -2.6104894258435323], ['reforma estructural', -2.4030875437245665], ['partir ahí', -2.1837005059783556]]\n",
            "[['política crecimiento', 1.5037965508080204], ['ministerio hacienda', 1.7205616716384107], ['activa empleo', 2.2468188161007903], ['cohesión social', 2.491358237265587], ['amnistía fiscal', 2.557698723601707]]\n",
            "Año: 2013\n",
            "[['pérez rubalcaba', -3.04677459362306], ['proyecto orgánica', -2.787802284638783], ['cultura deport', -2.263897420933363], ['social igualdad', -2.22956308869449], ['diputada doña', -2.137057997286094]]\n",
            "[['deuda pública', 1.4764348719260836], ['sanidad pública', 1.7650603995831928], ['sistema público', 2.1248389602388467], ['portavoz popular', 2.2144345083344703], ['amnistía fiscal', 2.2739059899626652]]\n",
            "Año: 2014\n",
            "[['social igualdad', -3.964232352948913], ['quiero decirl', -3.6546767311717554], ['seguir trabajando', -3.374945575292136], ['reforma estructural', -3.0179523536071255], ['energía turismo', -2.6658619270030046]]\n",
            "[['ministra sanidad', 1.236688045032479], ['casi millon', 1.3857853627186174], ['libertad mujer', 1.43865435778577], ['dar respuesta', 1.6555661816906309], ['sanidad pública', 1.8434092271974327]]\n",
            "Año: 2015\n",
            "[['quiero decirl', -3.183139554705374], ['creando empleo', -2.0567369191456875], ['creación empleo', -1.933805895714776], ['situación económica', -1.7299544734923935], ['aprobada artículo', -1.7249498699693782]]\n",
            "[['comunidad valenciana', 1.2170249785673586], ['medio comunicación', 1.2474303979678576], ['clase media', 1.341577364530942], ['consideración proposición', 1.3954288925821232], ['reforma labor', 1.6860181053282701]]\n",
            "Año: 2016\n",
            "[['unido podemosen', -5.1384058694367925], ['social igualdad', -1.9964609069159582], ['creación empleo', -1.7716658193581132], ['vasco pnv', -1.7192875299886115], ['millon español', -1.4477253798735277]]\n",
            "[['van tener', 1.160334815727935], ['fernández díaz', 1.3654236761067449], ['debat investidura', 1.3934902418474449], ['comú podemen', 1.6270404909465472], ['español española', 2.803812667256907]]\n",
            "Año: 2017\n",
            "[['creación empleo', -3.784325937171066], ['alimentación medio', -2.4508553694930177], ['partir ahí', -2.3893271983948705], ['social igualdad', -2.0819497594920082], ['duda alguna', -1.9304884724400906]]\n",
            "[['dar respuesta', 1.4549413994838252], ['buena tard', 1.5634380640536476], ['caso corrupción', 1.7424587615904887], ['larga duración', 1.8872522644225196], ['amnistía fiscal', 2.974034131617734]]\n",
            "Año: 2018\n",
            "[['ministra adelant', -3.2915293968354318], ['vasco pnv', -2.927931878751056], ['transaccion presentada', -2.677467668542372], ['acuerd convocatoria', -2.521499310924349], ['popular adelant', -2.4943324365557284]]\n",
            "[['política fiscal', 1.7288843496095792], ['popular ciudadano', 1.7579847736007164], ['cohesión social', 1.8080478610166888], ['ciudadano ciudadana', 2.283241942708691], ['senda estabilidad', 3.436685981151492]]\n",
            "Año: 2019\n",
            "[['ministra adelant', -2.8665741869304835], ['confeder unido', -2.174073278067166], ['pasamo ahora', -2.089433888984588], ['popular congreso', -1.7691951764272578], ['crisi económica', -1.6800251649933484]]\n",
            "[['popular ciudadano', 1.9201356651016552], ['pesca alimentación', 2.0202120874190075], ['candidato presidencia', 2.2300706602690297], ['borrà castany', 2.6242084967680492], ['confeder unida', 3.1093874130597854]]\n"
          ]
        }
      ]
    },
    {
      "cell_type": "code",
      "source": [],
      "metadata": {
        "id": "Bg9_zWOIbYHC"
      },
      "execution_count": 23,
      "outputs": []
    },
    {
      "cell_type": "markdown",
      "source": [
        "# LASSO con TF-IDF"
      ],
      "metadata": {
        "id": "52mR8byGbdpo"
      }
    },
    {
      "cell_type": "code",
      "source": [
        "from sklearn.feature_extraction.text import TfidfVectorizer\n",
        "cv=TfidfVectorizer(ngram_range=[2,2], max_features=200, stop_words=stopwords, max_df=0.95, min_df=0.01)\n",
        "vec = cv.fit(X_train['tokens'])"
      ],
      "metadata": {
        "id": "rsMtQWjhbZzE"
      },
      "execution_count": 24,
      "outputs": []
    },
    {
      "cell_type": "code",
      "source": [
        "train_matrix = vec.fit_transform(X_train['tokens'])\n",
        "test_matrix = vec.transform(X_test['tokens'])"
      ],
      "metadata": {
        "id": "WrmzdT4FbZzG"
      },
      "execution_count": 25,
      "outputs": []
    },
    {
      "cell_type": "code",
      "source": [
        "from sklearn.linear_model import LogisticRegression\n",
        "from sklearn.metrics import confusion_matrix,classification_report\n",
        "import numpy as np"
      ],
      "metadata": {
        "id": "DenIM3DkbZzH"
      },
      "execution_count": 26,
      "outputs": []
    },
    {
      "cell_type": "code",
      "source": [
        "lr = LogisticRegression(penalty='l1', max_iter=1000, solver='liblinear')"
      ],
      "metadata": {
        "id": "9LTcGrHHbZzH"
      },
      "execution_count": 27,
      "outputs": []
    },
    {
      "cell_type": "code",
      "source": [
        "lr.fit(train_matrix,y_train)"
      ],
      "metadata": {
        "colab": {
          "base_uri": "https://localhost:8080/"
        },
        "outputId": "b5997e57-92d7-483e-feac-6877a5c34e1c",
        "id": "ztYbiMdGbZzI"
      },
      "execution_count": 28,
      "outputs": [
        {
          "output_type": "execute_result",
          "data": {
            "text/plain": [
              "LogisticRegression(max_iter=1000, penalty='l1', solver='liblinear')"
            ]
          },
          "metadata": {},
          "execution_count": 28
        }
      ]
    },
    {
      "cell_type": "code",
      "source": [
        "predictions = lr.predict(test_matrix)"
      ],
      "metadata": {
        "id": "3jUmIHmLbZzJ"
      },
      "execution_count": 29,
      "outputs": []
    },
    {
      "cell_type": "code",
      "source": [
        "new = np.asarray(y_test)\n",
        "confusion_matrix(predictions,y_test)"
      ],
      "metadata": {
        "colab": {
          "base_uri": "https://localhost:8080/"
        },
        "outputId": "0f3d1618-fef5-413c-e747-5bfbefc488d9",
        "id": "W2vtgUPHbZzJ"
      },
      "execution_count": 30,
      "outputs": [
        {
          "output_type": "execute_result",
          "data": {
            "text/plain": [
              "array([[ 86,  24],\n",
              "       [348, 499]])"
            ]
          },
          "metadata": {},
          "execution_count": 30
        }
      ]
    },
    {
      "cell_type": "code",
      "source": [
        "print(classification_report(predictions,y_test))"
      ],
      "metadata": {
        "colab": {
          "base_uri": "https://localhost:8080/"
        },
        "outputId": "d4bd74ba-a090-4235-b88c-88b3dd826ef0",
        "id": "W8WPUhpXbZzK"
      },
      "execution_count": 31,
      "outputs": [
        {
          "output_type": "stream",
          "name": "stdout",
          "text": [
            "              precision    recall  f1-score   support\n",
            "\n",
            "          PP       0.20      0.78      0.32       110\n",
            "        PSOE       0.95      0.59      0.73       847\n",
            "\n",
            "    accuracy                           0.61       957\n",
            "   macro avg       0.58      0.69      0.52       957\n",
            "weighted avg       0.87      0.61      0.68       957\n",
            "\n"
          ]
        }
      ]
    },
    {
      "cell_type": "code",
      "source": [
        "# Relevancia de bigramas en la predicción\n",
        "features=[]\n",
        "for i,v in enumerate(lr.coef_[0]):\n",
        "  features.append([vec.get_feature_names_out()[i],v ])"
      ],
      "metadata": {
        "id": "7LE6JRLCbZzK"
      },
      "execution_count": 32,
      "outputs": []
    },
    {
      "cell_type": "code",
      "source": [
        "sorted(features, key = lambda x: x[1])"
      ],
      "metadata": {
        "colab": {
          "base_uri": "https://localhost:8080/"
        },
        "outputId": "cdd8dae8-f602-4ed3-8dc4-e0ae4ca0b6f7",
        "id": "Iwe2fbeabZzL"
      },
      "execution_count": 33,
      "outputs": [
        {
          "output_type": "execute_result",
          "data": {
            "text/plain": [
              "[['confeder unido', -3.3684715986824605],\n",
              " ['comú podemen', -2.893051883515266],\n",
              " ['convalidación derogación', -2.4929901899481637],\n",
              " ['procedimiento urgencia', -2.2274476758490627],\n",
              " ['popular congreso', -2.0702461044666753],\n",
              " ['miembro diputación', -1.6569717963873647],\n",
              " ['pedro sánchez', -0.9160464455108764],\n",
              " ['extraordinaria comisión', -0.8465284520674871],\n",
              " ['fijación posicion', -0.6802724118556946],\n",
              " ['moción censura', -0.6660972692821462],\n",
              " ['hace mese', -0.6643961376214127],\n",
              " ['medio comunicación', -0.054648047642245304],\n",
              " ['proyecto procedimiento', -0.030926814167999455],\n",
              " ['unido podemosen', -0.01100594579151438],\n",
              " ['podemen marea', -0.00022200814401515833],\n",
              " ['acuerd convocatoria', 0.0],\n",
              " ['ahora mismo', 0.0],\n",
              " ['artículo constitución', 0.0],\n",
              " ['buena tard', 0.0],\n",
              " ['cambio climático', 0.0],\n",
              " ['comisión europea', 0.0],\n",
              " ['comunidad autónoma', 0.0],\n",
              " ['comú podemgalicia', 0.0],\n",
              " ['convocatoria extraordinaria', 0.0],\n",
              " ['cuerpo seguridad', 0.0],\n",
              " ['derecho libertad', 0.0],\n",
              " ['fuerza cuerpo', 0.0],\n",
              " ['legarda uriart', 0.0],\n",
              " ['llegar acuerdo', 0.0],\n",
              " ['medida urgent', 0.0],\n",
              " ['ministra hacienda', 0.0],\n",
              " ['podemgalicia común', 0.0],\n",
              " ['podemosen comú', 0.0],\n",
              " ['política social', 0.0],\n",
              " ['reino unido', 0.0],\n",
              " ['salario mínimo', 0.0],\n",
              " ['seguridad social', 0.0],\n",
              " ['sociedad española', 0.0],\n",
              " ['tan important', 0.0],\n",
              " ['tribun constitucion', 0.0],\n",
              " ['unida podemosen', 0.0],\n",
              " ['violencia género', 0.0],\n",
              " ['último mese', 0.0],\n",
              " ['relacion cort', 0.011031581496969818],\n",
              " ['crecimiento económico', 0.027781634011848785],\n",
              " ['presupuesto general', 0.09384829409584994],\n",
              " ['constitución española', 0.2726063290126934],\n",
              " ['estatuto autonomía', 0.34280189916086035],\n",
              " ['unión europea', 0.41051690062987506],\n",
              " ['transición ecológica', 0.41330500976927764],\n",
              " ['diputación permanent', 0.724044532145228],\n",
              " ['interé gener', 0.839963890431319],\n",
              " ['vasco legarda', 0.8698307667162298],\n",
              " ['mínimo interprofesion', 1.3060678418934348],\n",
              " ['cualquier caso', 1.3281988891305567],\n",
              " ['dar respuesta', 1.358238291822244],\n",
              " ['servicio público', 1.4737987994355324],\n",
              " ['cort igualdad', 1.5718416748824862],\n",
              " ['fuerza política', 1.6434947155423567],\n",
              " ['unida podemo', 1.736655441456499],\n",
              " ['pesca alimentación', 1.8394741314282512],\n",
              " ['migracion seguridad', 1.86905722134184],\n",
              " ['adoptan medida', 1.9112075422121548],\n",
              " ['popular ciudadano', 2.786242165005161],\n",
              " ['confeder unida', 6.074171831531527]]"
            ]
          },
          "metadata": {},
          "execution_count": 33
        }
      ]
    },
    {
      "cell_type": "code",
      "source": [
        "# Entiendo que un número negativo en el coeficiente implica que el bigrama correlaciona bien con la clase 0, es decir PP. Por el otro lado, un coeficiente positivo implica que el bigrama correlaciona mejor con PSOE. \n",
        "lr.classes_"
      ],
      "metadata": {
        "colab": {
          "base_uri": "https://localhost:8080/"
        },
        "outputId": "17d4c602-fe90-4ba3-8eeb-a0c65b258096",
        "id": "O5HVbadYbZzL"
      },
      "execution_count": 34,
      "outputs": [
        {
          "output_type": "execute_result",
          "data": {
            "text/plain": [
              "array(['PP', 'PSOE'], dtype=object)"
            ]
          },
          "metadata": {},
          "execution_count": 34
        }
      ]
    },
    {
      "cell_type": "code",
      "source": [
        "# LASOO por año\n",
        "from sklearn.metrics import f1_score\n",
        "\n",
        "macro=[]\n",
        "weighted=[]\n",
        "\n",
        "lr = LogisticRegression(penalty='l1', max_iter=1000, solver='liblinear')\n",
        "\n",
        "for x in range(1979,2019): \n",
        "  try: \n",
        "    base_year=base[pd.DatetimeIndex(base.fecha).year==x]\n",
        "    X_train, X_test, y_train, y_test = train_test_split(base_year.loc[:, base_year.columns != 'party'], base_year['party'], test_size=0.33, random_state=42)\n",
        "    train_matrix = vec.fit_transform(X_train['tokens'])\n",
        "    test_matrix = vec.transform(X_test['tokens'])  \n",
        "    lr.fit(train_matrix,y_train)\n",
        "    predictions = lr.predict(test_matrix )\n",
        "    macro.append(f1_score(predictions,y_test, average='macro'))\n",
        "    weighted.append(f1_score(predictions,y_test, average='weighted'))\n",
        "  except: \n",
        "    macro.append(np.nan)\n",
        "    weighted.append(np.nan)"
      ],
      "metadata": {
        "id": "zT3jfb3PbZzM"
      },
      "execution_count": 35,
      "outputs": []
    },
    {
      "cell_type": "code",
      "source": [
        "# Yo entiendo que el resultado relevante es el macro, porque considera el desbalance de clases\n",
        "import matplotlib.pyplot as plt\n",
        "plt.plot(range(1979,2019), macro, marker='o')\n",
        "plt.plot(range(1979,2019), weighted, marker='+')"
      ],
      "metadata": {
        "colab": {
          "base_uri": "https://localhost:8080/",
          "height": 282
        },
        "outputId": "31d8cfe7-4aca-42b6-b1d1-565ab5e3b9c0",
        "id": "7wf8NOWbbZzM"
      },
      "execution_count": 36,
      "outputs": [
        {
          "output_type": "execute_result",
          "data": {
            "text/plain": [
              "[<matplotlib.lines.Line2D at 0x7f7d5c37f810>]"
            ]
          },
          "metadata": {},
          "execution_count": 36
        },
        {
          "output_type": "display_data",
          "data": {
            "text/plain": [
              "<Figure size 432x288 with 1 Axes>"
            ],
            "image/png": "[encoded data removed]"
          },
          "metadata": {
            "needs_background": "light"
          }
        }
      ]
    },
    {
      "cell_type": "code",
      "source": [
        "# LASOO por legislatura\n",
        "macro=[]\n",
        "weighted=[]\n",
        "\n",
        "lr = LogisticRegression(penalty='l1', max_iter=1000, solver='liblinear')\n",
        "legislaturas=['I', 'II', 'III', 'IV', 'V', 'VI', 'VII','VIII', 'IX', 'X', 'XI', 'XII','XIII']\n",
        "\n",
        "for x in legislaturas: \n",
        "  try: \n",
        "    base_year=base[base.legislatura==x]\n",
        "    X_train, X_test, y_train, y_test = train_test_split(base_year.loc[:, base_year.columns != 'party'], base_year['party'], test_size=0.33, random_state=42)\n",
        "    train_matrix = vec.fit_transform(X_train['tokens'])\n",
        "    test_matrix = vec.transform(X_test['tokens'])  \n",
        "    lr.fit(train_matrix,y_train)\n",
        "    predictions = lr.predict(test_matrix )\n",
        "    macro.append(f1_score(predictions,y_test, average='macro'))\n",
        "    weighted.append(f1_score(predictions,y_test, average='weighted'))\n",
        "  except: \n",
        "    macro.append(np.nan)\n",
        "    weighted.append(np.nan)"
      ],
      "metadata": {
        "id": "lD5_-tTNbZzN"
      },
      "execution_count": 37,
      "outputs": []
    },
    {
      "cell_type": "code",
      "source": [
        "# Yo entiendo que el resultado relevante es el macro, porque considera el desbalance de clases\n",
        "import matplotlib.pyplot as plt\n",
        "plt.plot(legislaturas, macro, marker='o')\n",
        "plt.plot(legislaturas, weighted, marker='+')"
      ],
      "metadata": {
        "colab": {
          "base_uri": "https://localhost:8080/",
          "height": 282
        },
        "outputId": "31a72ef9-6e0b-4ce7-ce7d-4cc82d009ff4",
        "id": "N5aHbMQHbZzO"
      },
      "execution_count": 38,
      "outputs": [
        {
          "output_type": "execute_result",
          "data": {
            "text/plain": [
              "[<matplotlib.lines.Line2D at 0x7f7d84689ed0>]"
            ]
          },
          "metadata": {},
          "execution_count": 38
        },
        {
          "output_type": "display_data",
          "data": {
            "text/plain": [
              "<Figure size 432x288 with 1 Axes>"
            ],
            "image/png": "[encoded data removed]"
          },
          "metadata": {
            "needs_background": "light"
          }
        }
      ]
    },
    {
      "cell_type": "code",
      "source": [
        "# Relevancia de bigramas en la predicción por año\n",
        "for x in range (1979, 2020): \n",
        "  base_year=base[pd.DatetimeIndex(base.fecha).year==x]\n",
        "  X_train, X_test, y_train, y_test = train_test_split(base_year.loc[:, base_year.columns != 'party'], base_year['party'], test_size=0.33, random_state=42)\n",
        "  train_matrix = vec.fit_transform(X_train['tokens'])\n",
        "  test_matrix = vec.transform(X_test['tokens'])\n",
        "  lr = LogisticRegression(penalty='l1', max_iter=1000, solver='liblinear')\n",
        "  lr.fit(train_matrix,y_train)\n",
        "  predictions = lr.predict(test_matrix )\n",
        "  features=[]\n",
        "  for i,v in enumerate(lr.coef_[0]):\n",
        "    features.append([vec.get_feature_names_out()[i],v ])\n",
        "  sor=sorted(features, key = lambda x: x[1])\n",
        "  print(f\"Año: {x}\")\n",
        "  print(sor[:5])\n",
        "  print(sor[-5:])"
      ],
      "metadata": {
        "outputId": "85418ff8-c65c-43ea-a995-408c02b73c5b",
        "colab": {
          "base_uri": "https://localhost:8080/"
        },
        "id": "51NY-xeJbZzO"
      },
      "execution_count": 39,
      "outputs": [
        {
          "output_type": "stream",
          "name": "stdout",
          "text": [
            "Año: 1979\n",
            "[['publicada boletín', -4.063523799281832], ['coalición democrática', -2.5075061266300205], ['hace falta', -1.2857829154393858], ['precedido uso', -1.2679698186637451], ['economía mercado', -1.2410702496200756]]\n",
            "[['dictamen comisión', 1.5417117602121064], ['formacion política', 1.5747339418183324], ['convenio colectivo', 1.6425493463706755], ['comité empresa', 1.6554301370650422], ['estatuto trabajador', 1.7373951778636847]]\n",
            "Año: 1980\n",
            "[['aprobado artículo', -3.6363482060947083], ['senado artículo', -2.6245428365090078], ['artículo pausa', -2.377891432931062], ['número socialista', -2.051141343157062], ['figura dictamen', -1.5833823817400556]]\n",
            "[['artículo dice', 2.2645804413037816], ['director gener', 2.4215125360664014], ['formación profesion', 2.5066526432141067], ['tan sólo', 2.7477072711318553], ['justicia militar', 3.2732748684770745]]\n",
            "Año: 1981\n",
            "[['impuesto renta', -1.9055018029717647], ['coalición democrática', -1.3968050735554187], ['frail poujad', -1.2472849427926653], ['redacción artículo', -0.8597634246745273], ['poder público', -0.6827478269645093]]\n",
            "[['pedimo separada', 1.84277373000919], ['ministerio fiscal', 1.919871046863658], ['unión centro', 2.0408246249739035], ['millon peseta', 2.2102989923933962], ['ningún tipo', 2.4480569600411655]]\n",
            "Año: 1982\n",
            "[['solé tura', -2.5791909061601244], ['función fiscalizadora', -2.4808861401559144], ['castillala mancha', -2.105853039538585], ['pueblo español', -1.7483056084853845], ['sector público', -1.7221456889051736]]\n",
            "[['código penal', 0.9875740195490407], ['nombr socialista', 0.9892950111120629], ['bravo laguna', 1.0745563364995452], ['separada artículo', 1.1321535094824524], ['millon peseta', 1.2575699854515847]]\n",
            "Año: 1983\n",
            "[['puesto trabajo', -1.8104040080694483], ['banco españa', -1.659945646937572], ['tribun constitucion', -1.5318569316187844], ['millon peseta', -1.4755240010267483], ['código penal', -1.4212051057561057]]\n",
            "[['ruiz gallardón', 2.7431057825430067], ['consiguient aprobado', 2.7888202750855284], ['tiempo máximo', 3.0111515164811293], ['pausa nulo', 3.273030500177293], ['acuerdo dictamen', 3.396654829290297]]\n",
            "Año: 1984\n",
            "[['puesto trabajo', -1.8984182003847239], ['presupuesto general', -1.694316253667687], ['función pública', -1.6405672852435658], ['comunidad económica', -1.6391857931871285], ['alguna manera', -1.4593859163415754]]\n",
            "[['conform dictamen', 2.499512777028231], ['artículo pausa', 2.765959868768077], ['vaya terminando', 2.8286885572292677], ['vasco pnv', 3.0415928243023695], ['pausa nulo', 3.3407869825151075]]\n",
            "Año: 1985\n",
            "[['económica europea', -2.2473177453669333], ['artículo proyecto', -2.196091847791173], ['opinión pública', -2.1248969826289144], ['artículo constitución', -1.8540211122450319], ['presupuesto general', -1.8294383435645265]]\n",
            "[['tría be', 2.5008775690285914], ['bravo laguna', 2.737038364181165], ['mixto suscrita', 2.988740382568238], ['senado artículo', 3.1638293871834002], ['conform dictamen', 4.181464140914036]]\n",
            "Año: 1986\n",
            "[['pueblo español', -2.609760289739241], ['tan important', -2.589157657187457], ['millon peseta', -2.204250071154218], ['cámara agraria', -2.194495504129443], ['función pública', -2.143157528804405]]\n",
            "[['coalición popular', 1.022219559553451], ['vasco pnv', 1.2237910250078718], ['unidaesquerra catalana', 1.399277749871354], ['ruego concluya', 1.6656576197901676], ['dictamen comisión', 1.7470053422842702]]\n",
            "Año: 1987\n",
            "[['portavoz socialista', -3.538636566450365], ['sociedad española', -2.517092188668517], ['pueblo español', -2.44057696999669], ['opinión pública', -2.2953644632345123], ['económica europea', -2.2152560791692517]]\n",
            "[['pérez dobón', 1.823128919041025], ['pausa nulo', 2.180742780516695], ['bravo laguna', 2.6079077944762337], ['ruego concluya', 2.6167680391550117], ['agrupación izquierda', 3.410372427079737]]\n",
            "Año: 1988\n",
            "[['tan important', -2.9361698414948423], ['director gener', -2.5316952902314545], ['opinión pública', -2.371295844339698], ['sociedad española', -2.3622440745937054], ['presupuesto general', -1.979332066297976]]\n",
            "[['bravo laguna', 1.753917030644137], ['pérez dobón', 2.1431078726938493], ['vasco pnv', 2.3718487582131664], ['ruego concluya', 2.6575439494038084], ['dictamen comisión', 3.2019255045697883]]\n",
            "Año: 1989\n",
            "[['sociedad española', -2.7488844668656265], ['opinión pública', -2.391311141358944], ['tribun constitucion', -2.1586270094046762], ['comunidad europea', -1.7736865081976518], ['medio comunicación', -1.6983576719983415]]\n",
            "[['vasco pnv', 1.0697110316742862], ['minoría catalana', 1.2544849730802656], ['desean fijar', 1.3120497347236821], ['agrupación izquierda', 1.6008617136139023], ['ruego concluya', 2.3118771400486664]]\n",
            "Año: 1990\n",
            "[['banco derecha', -5.4241196819623125], ['comunidad económica', -2.7213338697894742], ['sociedad española', -2.250431660738863], ['cualquier caso', -2.07482361026752], ['millon peseta', -2.010922402992119]]\n",
            "[['izquierda per', 1.602282826965236], ['popular pausa', 1.7396616931821873], ['dictamen comisión', 1.8083372510838127], ['catalán vergencia', 2.517650312682597], ['ruego concluya', 3.3607157225423108]]\n",
            "Año: 1991\n",
            "[['aplauso banco', -2.9092999252139506], ['artículo constitución', -2.385956300927569], ['sector público', -2.2662537242681164], ['comunidad económica', -2.148468177464188], ['medio comunicación', -2.1097238287807984]]\n",
            "[['per catalunya', 1.494009117996553], ['desean fijar', 1.5070927259191207], ['catalán vergencia', 1.6040747514831666], ['vasco pnv', 1.9648038036606463], ['ruego concluya', 2.349272288092569]]\n",
            "Año: 1992\n",
            "[['aplauso banco', -2.7243225530629127], ['sociedad española', -2.4175686942804298], ['comunidad económica', -2.381852080072448], ['hace falta', -2.2396499313249985], ['medio comunicación', -2.188283900317612]]\n",
            "[['aprobado dictamen', 2.097896968193366], ['vasco pnv', 2.2133470387413956], ['garcía fonseca', 2.6239956751063978], ['per catalunya', 3.08988015749573], ['ruego concluya', 3.4269523340098815]]\n",
            "Año: 1993\n",
            "[['sociedad española', -2.7564939640169155], ['puesto trabajo', -2.7050582429697587], ['ningún tipo', -2.151800664697301], ['crisi económica', -2.0996983176530497], ['medio comunicación', -1.965197288494117]]\n",
            "[['gonzález lizondo', 2.077567120478585], ['desean fijar', 2.1284437101792695], ['aprobado dictamen', 2.238780365243465], ['per catalunya', 2.897122292424632], ['ruego concluya', 3.013243600849328]]\n",
            "Año: 1994\n",
            "[['presupuesto general', -2.2298621142313815], ['millon peseta', -2.1582149856756128], ['medio comunicación', -2.0153463684061625], ['artículo constitución', -1.6242222612357105], ['política económica', -1.5861967582251866]]\n",
            "[['vaya concluyendo', 2.443199767561807], ['aprobado dictamen', 2.9979087646667306], ['per catalunya', 3.0653447648341787], ['ruego concluya', 3.1462803840317486], ['congreso formula', 3.463739413476823]]\n",
            "Año: 1995\n",
            "[['sociedad española', -2.10539059104724], ['unión europea', -1.9520021207944387], ['millon peseta', -1.7434036286872088], ['opinión pública', -1.694955460973291], ['izquierda unida', -1.6753609465475312]]\n",
            "[['gil lázaro', 2.251382192922985], ['aprobado dictamen', 2.417835290768524], ['per catalunya', 2.701485173147408], ['ruego concluya', 2.830650851658551], ['congreso formula', 3.62701611276068]]\n",
            "Año: 1996\n",
            "[['ruego vaya', -4.675416091391403], ['número formula', -3.5323350327634655], ['congreso formula', -3.276443687693709], ['ruego concluya', -2.0734359100309336], ['tipo interé', -2.0387188803250607]]\n",
            "[['medio comunicación', 1.3246433828567177], ['millon peseta', 1.3937187698720868], ['política social', 1.45380949643127], ['tribun constitucion', 1.4559977355114269], ['portavoz popular', 3.3836721860677264]]\n",
            "Año: 1997\n",
            "[['número formula', -4.484228296470844], ['ruego vaya', -3.200877136518062], ['fijar nombr', -1.9038456540677335], ['feder izquierda', -1.1522481278583652], ['ruego concluya', -1.0454619102135232]]\n",
            "[['convergència unió', 1.0411474516030768], ['poder judici', 1.1398578060618918], ['tan important', 1.5381396558632812], ['medio comunicación', 1.6983506401795114], ['artículo constitución', 1.7342148292353952]]\n",
            "Año: 1998\n",
            "[['ruego vaya', -3.519845575950983], ['fijar nombr', -3.256774891053306], ['número formula', -2.4067714559570197], ['congreso formula', -1.5811416372730194], ['portavoz socialista', -1.5125997460350333]]\n",
            "[['sociedad española', 1.1224319679149957], ['millon peseta', 1.142636663258669], ['tan important', 1.6470347249768855], ['diario sesion', 1.942458162447886], ['medio comunicación', 2.174690673269135]]\n",
            "Año: 1999\n",
            "[['fijar nombr', -3.9088140214502016], ['ruego vaya', -3.4703558362128284], ['número formula', -2.8301161931673278], ['nombr popular', -2.6967255830514345], ['congreso formula', -2.4586451036018766]]\n",
            "[['diario sesion', 0.8081756645331308], ['vaya concluyendo', 0.9653779476787009], ['millon peseta', 1.1679594392532024], ['servicio público', 1.3403398603046384], ['medio comunicación', 1.9457566196660607]]\n",
            "Año: 2000\n",
            "[['número formula', -3.3676051256741477], ['portavoz socialista', -2.775391665232575], ['equilibrio presupuestario', -2.35926530851252], ['socialista formula', -2.2237867021412034], ['popular congreso', -2.1945043559384048]]\n",
            "[['comisión europea', 1.7119892126095924], ['medio comunicación', 1.7663908768717627], ['opinión pública', 1.8227022853520738], ['tan important', 1.844417409619104], ['consecuencia interpelación', 1.9464760366698726]]\n",
            "Año: 2001\n",
            "[['número formula', -4.130542489112117], ['pesca alimentación', -4.030436384519018], ['congreso formula', -3.9267398668330262], ['socialista formula', -2.8845527594757288], ['ruego concluya', -2.794729979218996]]\n",
            "[['presupuesto general', 1.3562208161685991], ['sociedad española', 1.3933070280217201], ['medio comunicación', 1.5020348476696876], ['opinión pública', 1.7610042515204494], ['ministra sanidad', 2.3897577430939405]]\n",
            "Año: 2002\n",
            "[['número formula', -4.428424027625029], ['cultura deport', -3.0464499991836558], ['presentación defensa', -2.696500160563857], ['feder izquierda', -2.442618138874477], ['ocupen escaño', -2.3977514789540377]]\n",
            "[['unión europea', 1.2472826704996443], ['convergència unió', 1.4591634972401522], ['millon peseta', 1.5184546938317676], ['izquierda unida', 1.6779122732034848], ['medio comunicación', 2.30475410396731]]\n",
            "Año: 2003\n",
            "[['número formula', -4.565800109323382], ['nombr popular', -3.4866156724663795], ['nombr catalán', -3.055500718027464], ['ocupen escaño', -2.754374732788492], ['interpelación urgent', -2.317188364222071]]\n",
            "[['nacion unida', 1.4569923214854208], ['convergència unió', 1.50088458869225], ['moción consecuencia', 1.530085752571883], ['medio comunicación', 1.6474381122491728], ['opinión pública', 2.5501086247775806]]\n",
            "Año: 2004\n",
            "[['rodríguez zapatero', -3.45265426594277], ['política económica', -2.2746696367331896], ['programa elector', -2.116042378479464], ['presupuesto general', -1.7016588788599516], ['medio comunicación', -1.5367019793365768]]\n",
            "[['fijación posicion', 1.348860625118814], ['texto dictamen', 1.7861520167190483], ['catalunya verd', 1.7948952199921244], ['diputada doña', 1.8664966743670717], ['popular congreso', 1.892108306846671]]\n",
            "Año: 2005\n",
            "[['rodríguez zapatero', -3.351431989341338], ['medio comunicación', -2.506621160094032], ['ciudadano español', -2.023762736952549], ['diario sesion', -1.7760608951775425], ['cualquier caso', -1.6152595864001897]]\n",
            "[['coalición canaria', 0.9554652821525115], ['popular congreso', 1.2078965946821587], ['verdeizquierda per', 1.3212400029175262], ['fijación posicion', 1.429855185055505], ['izquierda verd', 1.5213666651197115]]\n",
            "Año: 2006\n",
            "[['rodríguez zapatero', -3.772183915359467], ['medio comunicación', -2.853200482084375], ['programa elector', -1.9581963866187044], ['estatuto cataluña', -1.8975657288570102], ['diario sesion', -1.7806258577931902]]\n",
            "[['popular congreso', 1.7499539776946147], ['sección relativo', 1.7737424269215012], ['tiempo concluido', 1.8868782860335527], ['diputada doña', 1.9591011919403067], ['turismo comercio', 1.9610776622997008]]\n",
            "Año: 2007\n",
            "[['rodríguez zapatero', -3.753981773815823], ['diario sesion', -1.8194595252542556], ['izquierda unida', -1.2164821342455998], ['sociedad española', -1.1113024790746049], ['violencia género', -0.9899617051326149]]\n",
            "[['turismo comercio', 0.4833678633222359], ['popular congreso', 1.248147446261528], ['catalunya verd', 1.5227123656842552], ['diputada doña', 2.118487191005513], ['tiempo concluido', 2.365467972443569]]\n",
            "Año: 2008\n",
            "[['crisi económica', -3.194407163149345], ['tasa paro', -2.55788966907698], ['puesto trabajo', -2.4702791936356916], ['economía española', -2.149003402078271], ['sociedad española', -1.9851634761408852]]\n",
            "[['hecho referencia', 1.5606234565278176], ['ir acabando', 1.7277783688663104], ['actividad económica', 1.881755737850618], ['turismo comercio', 2.696774616609951], ['catalunya verd', 3.210872388614819]]\n",
            "Año: 2009\n",
            "[['rodríguez zapatero', -4.623026285278432], ['política económica', -2.704211779793169], ['banco españa', -2.2655069497725018], ['puesto trabajo', -2.164235132989998], ['pequeña mediana', -2.1363496736762815]]\n",
            "[['sánchez llibr', 1.1535524758085436], ['turismo comercio', 1.2351612653024333], ['sistema financiero', 1.3394701343835758], ['puesto marcha', 1.358541634385839], ['per catalunya', 1.7720360195349623]]\n",
            "Año: 2010\n",
            "[['rodríguez zapatero', -3.907249145340146], ['puesto trabajo', -2.7662214837809924], ['política económica', -2.654341897197606], ['economía española', -2.013471279446309], ['reforma labor', -1.9473931610404176]]\n",
            "[['fernández davila', 1.7464634070239884], ['vasco pnv', 1.8885837449481337], ['sáenz santamaría', 1.9016877642234222], ['catalunya verd', 2.619648056015096], ['reducción déficit', 3.095917362368905]]\n",
            "Año: 2011\n",
            "[['rodríguez zapatero', -3.4327829132760868], ['estabilidad presupuestaria', -2.6002836631525006], ['puesto trabajo', -2.418636362203984], ['reforma labor', -2.134093859537611], ['unión europea', -1.5013287222009772]]\n",
            "[['rural marino', 1.0025532539409483], ['sánchez llibr', 1.0362877618857105], ['sáenz santamaría', 1.1054387841941402], ['turismo comercio', 1.8753811708077188], ['per catalunya', 1.8860598629822904]]\n",
            "Año: 2012\n",
            "[['reforma estructural', -3.601634011535826], ['economía competitividad', -3.4968180156181967], ['social igualdad', -2.834800851040184], ['déficit público', -2.687725879024787], ['hacienda administracion', -1.3850700363196748]]\n",
            "[['comunidad autónoma', 1.8519307151374265], ['economía española', 1.988608218455128], ['presupuesto general', 2.425911286463956], ['puesto trabajo', 2.6676219207336165], ['reforma labor', 2.71210021801206]]\n",
            "Año: 2013\n",
            "[['déficit público', -3.5495037040172055], ['pérez rubalcaba', -3.1515275299480208], ['diputada doña', -2.538390643846904], ['social igualdad', -2.358161488510136], ['extraordinaria comisión', -1.5430994958249287]]\n",
            "[['presupuesto general', 1.7645859382672147], ['política económica', 2.3158403511850696], ['puesto trabajo', 2.5533859078207937], ['deuda pública', 2.6906210049410424], ['reforma labor', 2.7582058033436323]]\n",
            "Año: 2014\n",
            "[['social igualdad', -3.533800796660703], ['acuerd celebración', -3.017957025368633], ['diputada doña', -2.672672734394877], ['energía turismo', -2.618683223412514], ['hacienda administracion', -2.608917260070071]]\n",
            "[['comunidad autónoma', 1.5251789036072878], ['seguridad social', 1.581626342448603], ['tribun constitucion', 1.7402440119779423], ['comisión europea', 1.757359371400515], ['puesto trabajo', 2.165127007961926]]\n",
            "Año: 2015\n",
            "[['creación empleo', -4.559507626931978], ['social igualdad', -2.855678777295758], ['crecimiento económico', -1.8094329084079666], ['catalán convergència', -0.993365381182309], ['hacienda administracion', -0.9385483228469145]]\n",
            "[['sociedad española', 1.6778547151318088], ['comisión europea', 1.691019813611596], ['servicio social', 1.7063360703254915], ['agencia tributaria', 1.7596794571318204], ['reforma labor', 3.97036136405582]]\n",
            "Año: 2016\n",
            "[['unido podemosen', -8.239940588656822], ['creación empleo', -3.1549226582639824], ['vasco pnv', -2.387333067714328], ['cualquier caso', -1.173958028957831], ['popular congreso', -1.140201605269761]]\n",
            "[['podemosen comú', 1.5426710883714023], ['salario mínimo', 1.6488530165856634], ['poner marcha', 1.8867352260682375], ['comú podemen', 2.204896033068808], ['reforma labor', 2.614316108916]]\n",
            "Año: 2017\n",
            "[['social igualdad', -4.133590222214906], ['creación empleo', -4.054737153790425], ['diputada doña', -2.351921620344648], ['vasco pnv', -1.9310411924711115], ['cultura deport', -1.52374110903672]]\n",
            "[['ahora mismo', 1.5545935017693215], ['comisión europea', 1.6917438648629513], ['tribun constitucion', 1.7024119073953308], ['sociedad española', 2.1715662466464534], ['buena tard', 2.536762202005047]]\n",
            "Año: 2018\n",
            "[['ministra adelant', -3.248635268082317], ['creación empleo', -3.1014809531024174], ['popular adelant', -2.7448119188381974], ['vasco pnv', -2.6959495350203135], ['diputada doña', -1.6111752424200143]]\n",
            "[['relacion cort', 1.6464537171655105], ['servicio público', 1.7654055846166539], ['comisión europea', 1.9099528485606327], ['fuerza política', 1.9241454832676228], ['ahora mismo', 2.2697395273676717]]\n",
            "Año: 2019\n",
            "[['confeder unido', -3.368474771517821], ['convalidación derogación', -2.492982925141158], ['procedimiento urgencia', -2.2576944459422825], ['popular congreso', -2.0703021927043492], ['miembro diputación', -1.6571115850847375]]\n",
            "[['pesca alimentación', 1.839533654760325], ['migracion seguridad', 1.8690067443303056], ['adoptan medida', 1.911080937084556], ['popular ciudadano', 2.7866830742452477], ['confeder unida', 6.0707352742346865]]\n"
          ]
        }
      ]
    },
    {
      "cell_type": "markdown",
      "source": [
        "# Regresión lineal"
      ],
      "metadata": {
        "id": "W4gP8QOIbRyt"
      }
    },
    {
      "cell_type": "code",
      "source": [
        "X_train, X_test, y_train, y_test = train_test_split(base.loc[:, base.columns != 'party'], base['party'], test_size=0.33, random_state=42)"
      ],
      "metadata": {
        "id": "8dGWALnQb1Mn"
      },
      "execution_count": 40,
      "outputs": []
    },
    {
      "cell_type": "code",
      "source": [
        "vec = cv.fit(X_train['tokens'])"
      ],
      "metadata": {
        "id": "mJQVHbEKb1Mo"
      },
      "execution_count": 41,
      "outputs": []
    },
    {
      "cell_type": "code",
      "source": [
        "train_matrix = vec.fit_transform(X_train['tokens'])\n",
        "test_matrix = vec.transform(X_test['tokens'])"
      ],
      "metadata": {
        "id": "o_UYstuib1Mo"
      },
      "execution_count": 42,
      "outputs": []
    },
    {
      "cell_type": "code",
      "source": [
        "y_train.replace(['PSOE', 'PP'],[1, -1], inplace=True)\n",
        "y_test.replace(['PSOE', 'PP'],[1, -1], inplace=True)"
      ],
      "metadata": {
        "id": "24rbtPzhcfxy"
      },
      "execution_count": 43,
      "outputs": []
    },
    {
      "cell_type": "code",
      "source": [
        "from sklearn.linear_model import LinearRegression\n",
        "lr = LinearRegression()"
      ],
      "metadata": {
        "id": "yD0Hk7RzbnDG"
      },
      "execution_count": 44,
      "outputs": []
    },
    {
      "cell_type": "code",
      "source": [
        "lr.fit(train_matrix,y_train)"
      ],
      "metadata": {
        "colab": {
          "base_uri": "https://localhost:8080/"
        },
        "id": "ZdSt3ASFe3UD",
        "outputId": "60647fc6-7518-42ab-c751-876a7dfe36f3"
      },
      "execution_count": 45,
      "outputs": [
        {
          "output_type": "execute_result",
          "data": {
            "text/plain": [
              "LinearRegression()"
            ]
          },
          "metadata": {},
          "execution_count": 45
        }
      ]
    },
    {
      "cell_type": "code",
      "source": [
        "predictions = lr.predict(test_matrix)"
      ],
      "metadata": {
        "id": "TLLuNbJxeySx"
      },
      "execution_count": 46,
      "outputs": []
    },
    {
      "cell_type": "code",
      "source": [
        "print(lr.coef_)"
      ],
      "metadata": {
        "colab": {
          "base_uri": "https://localhost:8080/"
        },
        "id": "4W7M5BY6fVMR",
        "outputId": "d1f4656e-a84b-4099-904a-f6c20632420d"
      },
      "execution_count": 47,
      "outputs": [
        {
          "output_type": "stream",
          "name": "stdout",
          "text": [
            "[-0.33804904 -0.05274399  0.02903043 -0.27104501 -0.05208874  0.50486513\n",
            " -1.16025729  0.10455079 -0.19398949 -0.20063203 -0.08980568 -0.04867194\n",
            "  0.73896995  0.15294982  0.81528503 -0.23139942 -0.16551829 -0.23952042\n",
            "  0.08024699 -0.03632334  0.0369103  -0.29147099  0.34662239 -0.15986918\n",
            " -0.11727466 -0.03426999 -0.20430329]\n"
          ]
        }
      ]
    },
    {
      "cell_type": "code",
      "source": [
        "import sklearn.metrics as metrics\n",
        "def regression_results(y_true, y_pred):\n",
        "\n",
        "    explained_variance=metrics.explained_variance_score(y_true, y_pred)\n",
        "    mean_absolute_error=metrics.mean_absolute_error(y_true, y_pred) \n",
        "    mse=metrics.mean_squared_error(y_true, y_pred) \n",
        "    median_absolute_error=metrics.median_absolute_error(y_true, y_pred)\n",
        "    r2=metrics.r2_score(y_true, y_pred)\n",
        "\n",
        "    print('explained_variance: ', round(explained_variance,4))    \n",
        "    print('r2: ', round(r2,4))\n",
        "    print('MAE: ', round(mean_absolute_error,4))\n",
        "    print('MSE: ', round(mse,4))\n",
        "    print('RMSE: ', round(np.sqrt(mse),4))"
      ],
      "metadata": {
        "id": "v7QJrjCzeqtb"
      },
      "execution_count": 48,
      "outputs": []
    },
    {
      "cell_type": "code",
      "source": [
        "regression_results(y_test,predictions)"
      ],
      "metadata": {
        "colab": {
          "base_uri": "https://localhost:8080/"
        },
        "id": "ImFhAonne6h-",
        "outputId": "8a99c9e6-3581-4650-d94a-ec80f60b337b"
      },
      "execution_count": 49,
      "outputs": [
        {
          "output_type": "stream",
          "name": "stdout",
          "text": [
            "explained_variance:  0.0278\n",
            "r2:  0.0277\n",
            "MAE:  0.9544\n",
            "MSE:  0.9562\n",
            "RMSE:  0.9779\n"
          ]
        }
      ]
    },
    {
      "cell_type": "code",
      "source": [
        "# Relevancia de bigramas en la predicción\n",
        "features=[]\n",
        "for i,v in enumerate(lr.coef_):\n",
        "  features.append([vec.get_feature_names_out()[i],v ])"
      ],
      "metadata": {
        "id": "DzFMtYNu3BAF"
      },
      "execution_count": 50,
      "outputs": []
    },
    {
      "cell_type": "code",
      "source": [
        "sorted(features, key = lambda x: x[1])"
      ],
      "metadata": {
        "colab": {
          "base_uri": "https://localhost:8080/"
        },
        "outputId": "eece0a9d-3f97-4162-d125-c5a2d6d34fa6",
        "id": "5NBP6idq3BAH"
      },
      "execution_count": 51,
      "outputs": [
        {
          "output_type": "execute_result",
          "data": {
            "text/plain": [
              "[['feder izquierda', -1.160257293302511],\n",
              " ['administracion pública', -0.3380490359212398],\n",
              " ['sociedad española', -0.291470992122777],\n",
              " ['convergència unió', -0.27104500594604847],\n",
              " ['puesto trabajo', -0.23952042054360018],\n",
              " ['política económica', -0.23139942075040412],\n",
              " ['unión europea', -0.20430328833340825],\n",
              " ['medio ambient', -0.20063202982127845],\n",
              " ['izquierda unida', -0.19398948883078493],\n",
              " ['presupuesto general', -0.16551829349519845],\n",
              " ['tan important', -0.15986917985315252],\n",
              " ['toma consideración', -0.11727466010774378],\n",
              " ['medio comunicación', -0.08980568158262175],\n",
              " ['artículo constitución', -0.05274398664920319],\n",
              " ['cualquier caso', -0.052088738785977466],\n",
              " ['millon peseta', -0.048671940709840184],\n",
              " ['seguridad social', -0.03632333780045771],\n",
              " ['tribun constitucion', -0.034269992439611464],\n",
              " ['comunidad autónoma', 0.029030428016970627],\n",
              " ['servicio público', 0.03691029880686206],\n",
              " ['ruego concluya', 0.08024698790516914],\n",
              " ['izquierda per', 0.10455079288520995],\n",
              " ['mismo tiempo', 0.15294982390675413],\n",
              " ['ss ss', 0.34662239420394836],\n",
              " ['dictamen comisión', 0.5048651295647537],\n",
              " ['minoría catalana', 0.7389699452858487],\n",
              " ['per catalunya', 0.8152850320780375]]"
            ]
          },
          "metadata": {},
          "execution_count": 51
        }
      ]
    },
    {
      "cell_type": "markdown",
      "source": [
        "# LDA"
      ],
      "metadata": {
        "id": "CQJqS-DP6e9D"
      }
    },
    {
      "cell_type": "code",
      "source": [
        "from sklearn.decomposition import LatentDirichletAllocation"
      ],
      "metadata": {
        "id": "HRaT7XPi6d_P"
      },
      "execution_count": 13,
      "outputs": []
    },
    {
      "cell_type": "code",
      "source": [
        "vec = cv.fit(base['tokens'])"
      ],
      "metadata": {
        "id": "-2joPfEX7Do_"
      },
      "execution_count": 53,
      "outputs": []
    },
    {
      "cell_type": "code",
      "source": [
        "matrix = vec.transform(base['tokens'])"
      ],
      "metadata": {
        "id": "yTb5eqaI7M3g"
      },
      "execution_count": 54,
      "outputs": []
    },
    {
      "cell_type": "code",
      "source": [
        "lda = LatentDirichletAllocation(n_components=40, max_iter=5, learning_method='online', learning_offset=50.,random_state=0)"
      ],
      "metadata": {
        "id": "r0yF9atu6h1A"
      },
      "execution_count": 55,
      "outputs": []
    },
    {
      "cell_type": "code",
      "source": [
        "lda.fit(matrix)"
      ],
      "metadata": {
        "id": "_MZxKjLy6m_P",
        "outputId": "94a4d76a-a0c9-45b7-8452-302f0239fc5f",
        "colab": {
          "base_uri": "https://localhost:8080/"
        }
      },
      "execution_count": 56,
      "outputs": [
        {
          "output_type": "execute_result",
          "data": {
            "text/plain": [
              "LatentDirichletAllocation(learning_method='online', learning_offset=50.0,\n",
              "                          max_iter=5, n_components=40, random_state=0)"
            ]
          },
          "metadata": {},
          "execution_count": 56
        }
      ]
    },
    {
      "cell_type": "code",
      "source": [
        "def display_topics(model, feature_names, no_top_words):\n",
        "    for topic_idx, topic in enumerate(model.components_):\n",
        "        print(\"Topic %d:\" % (topic_idx + 1))\n",
        "        print(\" , \".join([feature_names[i] for i in topic.argsort()[:-no_top_words - 1:-1]]))"
      ],
      "metadata": {
        "id": "LrMKTuXb7m1c"
      },
      "execution_count": 57,
      "outputs": []
    },
    {
      "cell_type": "code",
      "source": [
        "display_topics(lda, feature_names=cv.get_feature_names_out(), no_top_words=20)"
      ],
      "metadata": {
        "id": "9erGzWR47jSC",
        "outputId": "3eb1a2c8-fda2-4268-c144-5d1abef19a94",
        "colab": {
          "base_uri": "https://localhost:8080/"
        }
      },
      "execution_count": 58,
      "outputs": [
        {
          "output_type": "stream",
          "name": "stdout",
          "text": [
            "Topic 1:\n",
            "medio comunicación , convergència unió , puesto trabajo , ss ss , seguridad social , artículo constitución , millon peseta , sociedad española , mismo tiempo , política económica , presupuesto general , tan important , administracion pública , per catalunya , medio ambient , izquierda unida , izquierda per , feder izquierda , cualquier caso , servicio público\n",
            "Topic 2:\n",
            "convergència unió , unión europea , minoría catalana , artículo constitución , comunidad autónoma , cualquier caso , dictamen comisión , feder izquierda , izquierda per , izquierda unida , medio ambient , medio comunicación , millon peseta , mismo tiempo , tribun constitucion , per catalunya , política económica , presupuesto general , puesto trabajo , ruego concluya\n",
            "Topic 3:\n",
            "toma consideración , convergència unió , tan important , artículo constitución , sociedad española , seguridad social , feder izquierda , per catalunya , tribun constitucion , izquierda per , izquierda unida , unión europea , medio ambient , comunidad autónoma , cualquier caso , dictamen comisión , mismo tiempo , medio comunicación , millon peseta , minoría catalana\n",
            "Topic 4:\n",
            "comunidad autónoma , administracion pública , mismo tiempo , presupuesto general , artículo constitución , ss ss , cualquier caso , sociedad española , convergència unió , tribun constitucion , unión europea , política económica , medio ambient , puesto trabajo , tan important , servicio público , minoría catalana , medio comunicación , per catalunya , izquierda unida\n",
            "Topic 5:\n",
            "convergència unió , unión europea , minoría catalana , artículo constitución , comunidad autónoma , cualquier caso , dictamen comisión , feder izquierda , izquierda per , izquierda unida , medio ambient , medio comunicación , millon peseta , mismo tiempo , tribun constitucion , per catalunya , política económica , presupuesto general , puesto trabajo , ruego concluya\n",
            "Topic 6:\n",
            "dictamen comisión , seguridad social , convergència unió , toma consideración , izquierda unida , unión europea , millon peseta , artículo constitución , comunidad autónoma , cualquier caso , feder izquierda , izquierda per , medio ambient , medio comunicación , mismo tiempo , minoría catalana , tribun constitucion , per catalunya , política económica , presupuesto general\n",
            "Topic 7:\n",
            "ss ss , convergència unió , artículo constitución , unión europea , tribun constitucion , comunidad autónoma , dictamen comisión , izquierda per , izquierda unida , medio ambient , medio comunicación , millon peseta , minoría catalana , administracion pública , per catalunya , política económica , puesto trabajo , seguridad social , servicio público , tan important\n",
            "Topic 8:\n",
            "convergència unió , unión europea , minoría catalana , artículo constitución , comunidad autónoma , cualquier caso , dictamen comisión , feder izquierda , izquierda per , izquierda unida , medio ambient , medio comunicación , millon peseta , mismo tiempo , tribun constitucion , per catalunya , política económica , presupuesto general , puesto trabajo , ruego concluya\n",
            "Topic 9:\n",
            "ss ss , convergència unió , tribun constitucion , política económica , medio ambient , tan important , unión europea , artículo constitución , feder izquierda , izquierda per , izquierda unida , medio comunicación , millon peseta , mismo tiempo , per catalunya , puesto trabajo , seguridad social , servicio público , sociedad española , toma consideración\n",
            "Topic 10:\n",
            "convergència unió , unión europea , minoría catalana , artículo constitución , comunidad autónoma , cualquier caso , dictamen comisión , feder izquierda , izquierda per , izquierda unida , medio ambient , medio comunicación , millon peseta , mismo tiempo , tribun constitucion , per catalunya , política económica , presupuesto general , puesto trabajo , ruego concluya\n",
            "Topic 11:\n",
            "cualquier caso , convergència unió , seguridad social , tan important , presupuesto general , izquierda per , feder izquierda , tribun constitucion , per catalunya , mismo tiempo , puesto trabajo , izquierda unida , servicio público , comunidad autónoma , medio comunicación , dictamen comisión , artículo constitución , unión europea , medio ambient , millon peseta\n",
            "Topic 12:\n",
            "convergència unió , unión europea , minoría catalana , artículo constitución , comunidad autónoma , cualquier caso , dictamen comisión , feder izquierda , izquierda per , izquierda unida , medio ambient , medio comunicación , millon peseta , mismo tiempo , tribun constitucion , per catalunya , política económica , presupuesto general , puesto trabajo , ruego concluya\n",
            "Topic 13:\n",
            "dictamen comisión , convergència unió , administracion pública , ss ss , feder izquierda , izquierda per , izquierda unida , medio ambient , per catalunya , millon peseta , artículo constitución , comunidad autónoma , cualquier caso , medio comunicación , unión europea , minoría catalana , tribun constitucion , política económica , presupuesto general , puesto trabajo\n",
            "Topic 14:\n",
            "convergència unió , unión europea , minoría catalana , artículo constitución , comunidad autónoma , cualquier caso , dictamen comisión , feder izquierda , izquierda per , izquierda unida , medio ambient , medio comunicación , millon peseta , mismo tiempo , tribun constitucion , per catalunya , política económica , presupuesto general , puesto trabajo , ruego concluya\n",
            "Topic 15:\n",
            "convergència unió , unión europea , minoría catalana , artículo constitución , comunidad autónoma , cualquier caso , dictamen comisión , feder izquierda , izquierda per , izquierda unida , medio ambient , medio comunicación , millon peseta , mismo tiempo , tribun constitucion , per catalunya , política económica , presupuesto general , puesto trabajo , ruego concluya\n",
            "Topic 16:\n",
            "sociedad española , convergència unió , tribun constitucion , tan important , unión europea , artículo constitución , comunidad autónoma , feder izquierda , izquierda per , izquierda unida , medio ambient , medio comunicación , minoría catalana , mismo tiempo , per catalunya , presupuesto general , puesto trabajo , seguridad social , servicio público , ss ss\n",
            "Topic 17:\n",
            "presupuesto general , comunidad autónoma , convergència unió , administracion pública , ss ss , artículo constitución , tribun constitucion , unión europea , medio ambient , puesto trabajo , toma consideración , tan important , sociedad española , cualquier caso , feder izquierda , izquierda per , izquierda unida , mismo tiempo , medio comunicación , millon peseta\n",
            "Topic 18:\n",
            "convergència unió , unión europea , minoría catalana , artículo constitución , comunidad autónoma , cualquier caso , dictamen comisión , feder izquierda , izquierda per , izquierda unida , medio ambient , medio comunicación , millon peseta , mismo tiempo , tribun constitucion , per catalunya , política económica , presupuesto general , puesto trabajo , ruego concluya\n",
            "Topic 19:\n",
            "per catalunya , izquierda unida , izquierda per , feder izquierda , convergència unió , toma consideración , ss ss , unión europea , artículo constitución , comunidad autónoma , medio ambient , millon peseta , mismo tiempo , política económica , puesto trabajo , tan important , administracion pública , tribun constitucion , minoría catalana , medio comunicación\n",
            "Topic 20:\n",
            "convergència unió , unión europea , minoría catalana , artículo constitución , comunidad autónoma , cualquier caso , dictamen comisión , feder izquierda , izquierda per , izquierda unida , medio ambient , medio comunicación , millon peseta , mismo tiempo , tribun constitucion , per catalunya , política económica , presupuesto general , puesto trabajo , ruego concluya\n",
            "Topic 21:\n",
            "unión europea , mismo tiempo , seguridad social , convergència unió , tan important , izquierda unida , comunidad autónoma , servicio público , política económica , puesto trabajo , medio ambient , ss ss , medio comunicación , tribun constitucion , presupuesto general , toma consideración , cualquier caso , feder izquierda , artículo constitución , dictamen comisión\n",
            "Topic 22:\n",
            "ruego concluya , convergència unió , unión europea , minoría catalana , artículo constitución , comunidad autónoma , cualquier caso , dictamen comisión , feder izquierda , izquierda per , izquierda unida , medio ambient , medio comunicación , millon peseta , mismo tiempo , tribun constitucion , per catalunya , política económica , presupuesto general , puesto trabajo\n",
            "Topic 23:\n",
            "convergència unió , unión europea , minoría catalana , artículo constitución , comunidad autónoma , cualquier caso , dictamen comisión , feder izquierda , izquierda per , izquierda unida , medio ambient , medio comunicación , millon peseta , mismo tiempo , tribun constitucion , per catalunya , política económica , presupuesto general , puesto trabajo , ruego concluya\n",
            "Topic 24:\n",
            "puesto trabajo , mismo tiempo , seguridad social , presupuesto general , convergència unió , sociedad española , tan important , millon peseta , ss ss , artículo constitución , comunidad autónoma , medio ambient , cualquier caso , dictamen comisión , feder izquierda , izquierda per , izquierda unida , unión europea , medio comunicación , minoría catalana\n",
            "Topic 25:\n",
            "seguridad social , comunidad autónoma , sociedad española , millon peseta , ss ss , tan important , cualquier caso , artículo constitución , convergència unió , política económica , mismo tiempo , minoría catalana , administracion pública , presupuesto general , puesto trabajo , servicio público , medio comunicación , unión europea , izquierda unida , tribun constitucion\n",
            "Topic 26:\n",
            "convergència unió , unión europea , minoría catalana , artículo constitución , comunidad autónoma , cualquier caso , dictamen comisión , feder izquierda , izquierda per , izquierda unida , medio ambient , medio comunicación , millon peseta , mismo tiempo , tribun constitucion , per catalunya , política económica , presupuesto general , puesto trabajo , ruego concluya\n",
            "Topic 27:\n",
            "política económica , seguridad social , puesto trabajo , mismo tiempo , sociedad española , administracion pública , tan important , ss ss , millon peseta , convergència unió , tribun constitucion , comunidad autónoma , servicio público , artículo constitución , presupuesto general , medio comunicación , minoría catalana , medio ambient , izquierda unida , izquierda per\n",
            "Topic 28:\n",
            "convergència unió , unión europea , minoría catalana , artículo constitución , comunidad autónoma , cualquier caso , dictamen comisión , feder izquierda , izquierda per , izquierda unida , medio ambient , medio comunicación , millon peseta , mismo tiempo , tribun constitucion , per catalunya , política económica , presupuesto general , puesto trabajo , ruego concluya\n",
            "Topic 29:\n",
            "medio ambient , ss ss , convergència unió , artículo constitución , unión europea , millon peseta , medio comunicación , política económica , tan important , comunidad autónoma , cualquier caso , dictamen comisión , feder izquierda , izquierda per , izquierda unida , mismo tiempo , tribun constitucion , per catalunya , presupuesto general , puesto trabajo\n",
            "Topic 30:\n",
            "millon peseta , ss ss , comunidad autónoma , presupuesto general , mismo tiempo , seguridad social , política económica , cualquier caso , servicio público , convergència unió , sociedad española , puesto trabajo , tan important , artículo constitución , tribun constitucion , unión europea , administracion pública , medio comunicación , medio ambient , izquierda unida\n",
            "Topic 31:\n",
            "minoría catalana , convergència unió , ss ss , unión europea , artículo constitución , comunidad autónoma , cualquier caso , dictamen comisión , feder izquierda , izquierda per , izquierda unida , medio ambient , medio comunicación , millon peseta , mismo tiempo , tribun constitucion , per catalunya , política económica , presupuesto general , puesto trabajo\n",
            "Topic 32:\n",
            "convergència unió , unión europea , minoría catalana , artículo constitución , comunidad autónoma , cualquier caso , dictamen comisión , feder izquierda , izquierda per , izquierda unida , medio ambient , medio comunicación , millon peseta , mismo tiempo , tribun constitucion , per catalunya , política económica , presupuesto general , puesto trabajo , ruego concluya\n",
            "Topic 33:\n",
            "tan important , convergència unió , unión europea , presupuesto general , artículo constitución , feder izquierda , izquierda per , izquierda unida , millon peseta , per catalunya , mismo tiempo , ss ss , política económica , puesto trabajo , tribun constitucion , minoría catalana , ruego concluya , medio comunicación , medio ambient , seguridad social\n",
            "Topic 34:\n",
            "minoría catalana , convergència unió , mismo tiempo , ss ss , seguridad social , izquierda unida , tribun constitucion , medio comunicación , artículo constitución , comunidad autónoma , cualquier caso , dictamen comisión , feder izquierda , izquierda per , medio ambient , unión europea , millon peseta , per catalunya , política económica , presupuesto general\n",
            "Topic 35:\n",
            "artículo constitución , convergència unió , mismo tiempo , per catalunya , cualquier caso , feder izquierda , izquierda per , izquierda unida , medio ambient , millon peseta , tribun constitucion , administracion pública , política económica , puesto trabajo , seguridad social , servicio público , sociedad española , ss ss , tan important , toma consideración\n",
            "Topic 36:\n",
            "ss ss , convergència unió , mismo tiempo , tribun constitucion , comunidad autónoma , dictamen comisión , feder izquierda , izquierda per , izquierda unida , medio ambient , medio comunicación , millon peseta , administracion pública , per catalunya , política económica , seguridad social , servicio público , sociedad española , tan important , minoría catalana\n",
            "Topic 37:\n",
            "administracion pública , comunidad autónoma , tribun constitucion , convergència unió , ss ss , artículo constitución , política económica , millon peseta , cualquier caso , dictamen comisión , feder izquierda , izquierda per , izquierda unida , medio ambient , medio comunicación , unión europea , minoría catalana , per catalunya , presupuesto general , puesto trabajo\n",
            "Topic 38:\n",
            "convergència unió , unión europea , minoría catalana , artículo constitución , comunidad autónoma , cualquier caso , dictamen comisión , feder izquierda , izquierda per , izquierda unida , medio ambient , medio comunicación , millon peseta , mismo tiempo , tribun constitucion , per catalunya , política económica , presupuesto general , puesto trabajo , ruego concluya\n",
            "Topic 39:\n",
            "servicio público , convergència unió , administracion pública , tan important , política económica , millon peseta , artículo constitución , comunidad autónoma , cualquier caso , feder izquierda , izquierda per , izquierda unida , medio ambient , medio comunicación , unión europea , minoría catalana , tribun constitucion , per catalunya , presupuesto general , puesto trabajo\n",
            "Topic 40:\n",
            "tribun constitucion , comunidad autónoma , artículo constitución , ss ss , toma consideración , cualquier caso , convergència unió , tan important , administracion pública , medio comunicación , mismo tiempo , presupuesto general , puesto trabajo , dictamen comisión , unión europea , izquierda unida , política económica , per catalunya , minoría catalana , millon peseta\n"
          ]
        }
      ]
    },
    {
      "cell_type": "code",
      "source": [
        "# LDA genera una matríz en la que asigna a cada uno de los 200 bigramas una probabilidad de ocurrencia para cada uno de los 40 topics\n",
        "lda.components_.shape"
      ],
      "metadata": {
        "id": "RWahOK2KA1sZ",
        "outputId": "7c403a9d-0636-408a-ff96-089317ccb48b",
        "colab": {
          "base_uri": "https://localhost:8080/"
        }
      },
      "execution_count": 59,
      "outputs": [
        {
          "output_type": "execute_result",
          "data": {
            "text/plain": [
              "(40, 27)"
            ]
          },
          "metadata": {},
          "execution_count": 59
        }
      ]
    },
    {
      "cell_type": "markdown",
      "source": [
        "# Análisis de coherencia de los topics"
      ],
      "metadata": {
        "id": "dyPxwlJ9meig"
      }
    },
    {
      "cell_type": "code",
      "source": [
        "from sklearn.model_selection import GridSearchCV\n",
        "\n",
        "search_params = {'n_components': [5, 10, 20, 40, 60, 80]}\n",
        "\n",
        "model = LatentDirichletAllocation(n_components=40, max_iter=5, learning_method='online', learning_offset=50.,random_state=0)\n",
        "\n",
        "gridsearch = GridSearchCV(model,\n",
        "                          param_grid=search_params,\n",
        "                          n_jobs=-1,\n",
        "                          verbose=1)\n",
        "gridsearch.fit(matrix)\n",
        "\n",
        "## Save the best model\n",
        "best_lda = gridsearch.best_estimator_"
      ],
      "metadata": {
        "id": "XS4CHUw4uYWf",
        "outputId": "658e20b4-03fd-4eab-a4a0-14fbfe2c97fe",
        "colab": {
          "base_uri": "https://localhost:8080/"
        }
      },
      "execution_count": 52,
      "outputs": [
        {
          "output_type": "stream",
          "name": "stdout",
          "text": [
            "Fitting 5 folds for each of 5 candidates, totalling 25 fits\n"
          ]
        },
        {
          "output_type": "stream",
          "name": "stderr",
          "text": [
            "/usr/local/lib/python3.7/dist-packages/joblib/externals/loky/process_executor.py:703: UserWarning: A worker stopped while some jobs were given to the executor. This can be caused by a too short worker timeout or by a memory leak.\n",
            "  \"timeout or by a memory leak.\", UserWarning\n"
          ]
        }
      ]
    },
    {
      "cell_type": "code",
      "source": [
        "cv_results_df = pd.DataFrame(gridsearch.cv_results_)\n",
        "cv_results_df"
      ],
      "metadata": {
        "id": "DA9TfhX-r4bX",
        "outputId": "d5a3aaa6-e86b-4ed8-acc4-3b42e6729159",
        "colab": {
          "base_uri": "https://localhost:8080/",
          "height": 357
        }
      },
      "execution_count": 53,
      "outputs": [
        {
          "output_type": "execute_result",
          "data": {
            "text/plain": [
              "   mean_fit_time  std_fit_time  mean_score_time  std_score_time  \\\n",
              "0     249.052693     32.578148        11.980341        0.838963   \n",
              "1     277.798329     35.864818        14.125421        2.273873   \n",
              "2     275.270251      1.823028        13.590462        0.972290   \n",
              "3     316.872495     37.367340        15.280507        1.685737   \n",
              "4     309.584425     68.145277        15.086198        4.232081   \n",
              "\n",
              "  param_n_components                 params  split0_test_score  \\\n",
              "0                 60   {'n_components': 60}     -744030.815082   \n",
              "1                 80   {'n_components': 80}     -748655.452532   \n",
              "2                100  {'n_components': 100}     -772376.264201   \n",
              "3                120  {'n_components': 120}     -811247.726253   \n",
              "4                140  {'n_components': 140}     -836263.188794   \n",
              "\n",
              "   split1_test_score  split2_test_score  split3_test_score  split4_test_score  \\\n",
              "0      -1.963705e+06      -2.407715e+06      -2.044233e+06      -1.671276e+06   \n",
              "1      -2.770818e+06      -3.383716e+06      -3.017663e+06      -2.507264e+06   \n",
              "2      -3.267241e+06      -4.037386e+06      -3.594920e+06      -2.957313e+06   \n",
              "3      -3.774591e+06      -4.701272e+06      -4.191575e+06      -3.426793e+06   \n",
              "4      -4.271791e+06      -5.353030e+06      -4.765904e+06      -3.870801e+06   \n",
              "\n",
              "   mean_test_score  std_test_score  rank_test_score  \n",
              "0    -1.766192e+06    5.624398e+05                1  \n",
              "1    -2.485623e+06    9.152594e+05                2  \n",
              "2    -2.925847e+06    1.134738e+06                3  \n",
              "3    -3.381096e+06    1.353572e+06                4  \n",
              "4    -3.819558e+06    1.571897e+06                5  "
            ],
            "text/html": [
              "\n",
              "  <div id=\"df-4a13e2c0-bdec-4985-9314-2404b0cf31b7\">\n",
              "    <div class=\"colab-df-container\">\n",
              "      <div>\n",
              "<style scoped>\n",
              "    .dataframe tbody tr th:only-of-type {\n",
              "        vertical-align: middle;\n",
              "    }\n",
              "\n",
              "    .dataframe tbody tr th {\n",
              "        vertical-align: top;\n",
              "    }\n",
              "\n",
              "    .dataframe thead th {\n",
              "        text-align: right;\n",
              "    }\n",
              "</style>\n",
              "<table border=\"1\" class=\"dataframe\">\n",
              "  <thead>\n",
              "    <tr style=\"text-align: right;\">\n",
              "      <th></th>\n",
              "      <th>mean_fit_time</th>\n",
              "      <th>std_fit_time</th>\n",
              "      <th>mean_score_time</th>\n",
              "      <th>std_score_time</th>\n",
              "      <th>param_n_components</th>\n",
              "      <th>params</th>\n",
              "      <th>split0_test_score</th>\n",
              "      <th>split1_test_score</th>\n",
              "      <th>split2_test_score</th>\n",
              "      <th>split3_test_score</th>\n",
              "      <th>split4_test_score</th>\n",
              "      <th>mean_test_score</th>\n",
              "      <th>std_test_score</th>\n",
              "      <th>rank_test_score</th>\n",
              "    </tr>\n",
              "  </thead>\n",
              "  <tbody>\n",
              "    <tr>\n",
              "      <th>0</th>\n",
              "      <td>249.052693</td>\n",
              "      <td>32.578148</td>\n",
              "      <td>11.980341</td>\n",
              "      <td>0.838963</td>\n",
              "      <td>60</td>\n",
              "      <td>{'n_components': 60}</td>\n",
              "      <td>-744030.815082</td>\n",
              "      <td>-1.963705e+06</td>\n",
              "      <td>-2.407715e+06</td>\n",
              "      <td>-2.044233e+06</td>\n",
              "      <td>-1.671276e+06</td>\n",
              "      <td>-1.766192e+06</td>\n",
              "      <td>5.624398e+05</td>\n",
              "      <td>1</td>\n",
              "    </tr>\n",
              "    <tr>\n",
              "      <th>1</th>\n",
              "      <td>277.798329</td>\n",
              "      <td>35.864818</td>\n",
              "      <td>14.125421</td>\n",
              "      <td>2.273873</td>\n",
              "      <td>80</td>\n",
              "      <td>{'n_components': 80}</td>\n",
              "      <td>-748655.452532</td>\n",
              "      <td>-2.770818e+06</td>\n",
              "      <td>-3.383716e+06</td>\n",
              "      <td>-3.017663e+06</td>\n",
              "      <td>-2.507264e+06</td>\n",
              "      <td>-2.485623e+06</td>\n",
              "      <td>9.152594e+05</td>\n",
              "      <td>2</td>\n",
              "    </tr>\n",
              "    <tr>\n",
              "      <th>2</th>\n",
              "      <td>275.270251</td>\n",
              "      <td>1.823028</td>\n",
              "      <td>13.590462</td>\n",
              "      <td>0.972290</td>\n",
              "      <td>100</td>\n",
              "      <td>{'n_components': 100}</td>\n",
              "      <td>-772376.264201</td>\n",
              "      <td>-3.267241e+06</td>\n",
              "      <td>-4.037386e+06</td>\n",
              "      <td>-3.594920e+06</td>\n",
              "      <td>-2.957313e+06</td>\n",
              "      <td>-2.925847e+06</td>\n",
              "      <td>1.134738e+06</td>\n",
              "      <td>3</td>\n",
              "    </tr>\n",
              "    <tr>\n",
              "      <th>3</th>\n",
              "      <td>316.872495</td>\n",
              "      <td>37.367340</td>\n",
              "      <td>15.280507</td>\n",
              "      <td>1.685737</td>\n",
              "      <td>120</td>\n",
              "      <td>{'n_components': 120}</td>\n",
              "      <td>-811247.726253</td>\n",
              "      <td>-3.774591e+06</td>\n",
              "      <td>-4.701272e+06</td>\n",
              "      <td>-4.191575e+06</td>\n",
              "      <td>-3.426793e+06</td>\n",
              "      <td>-3.381096e+06</td>\n",
              "      <td>1.353572e+06</td>\n",
              "      <td>4</td>\n",
              "    </tr>\n",
              "    <tr>\n",
              "      <th>4</th>\n",
              "      <td>309.584425</td>\n",
              "      <td>68.145277</td>\n",
              "      <td>15.086198</td>\n",
              "      <td>4.232081</td>\n",
              "      <td>140</td>\n",
              "      <td>{'n_components': 140}</td>\n",
              "      <td>-836263.188794</td>\n",
              "      <td>-4.271791e+06</td>\n",
              "      <td>-5.353030e+06</td>\n",
              "      <td>-4.765904e+06</td>\n",
              "      <td>-3.870801e+06</td>\n",
              "      <td>-3.819558e+06</td>\n",
              "      <td>1.571897e+06</td>\n",
              "      <td>5</td>\n",
              "    </tr>\n",
              "  </tbody>\n",
              "</table>\n",
              "</div>\n",
              "      <button class=\"colab-df-convert\" onclick=\"convertToInteractive('df-4a13e2c0-bdec-4985-9314-2404b0cf31b7')\"\n",
              "              title=\"Convert this dataframe to an interactive table.\"\n",
              "              style=\"display:none;\">\n",
              "        \n",
              "  <svg xmlns=\"http://www.w3.org/2000/svg\" height=\"24px\"viewBox=\"0 0 24 24\"\n",
              "       width=\"24px\">\n",
              "    <path d=\"M0 0h24v24H0V0z\" fill=\"none\"/>\n",
              "    <path d=\"M18.56 5.44l.94 2.06.94-2.06 2.06-.94-2.06-.94-.94-2.06-.94 2.06-2.06.94zm-11 1L8.5 8.5l.94-2.06 2.06-.94-2.06-.94L8.5 2.5l-.94 2.06-2.06.94zm10 10l.94 2.06.94-2.06 2.06-.94-2.06-.94-.94-2.06-.94 2.06-2.06.94z\"/><path d=\"M17.41 7.96l-1.37-1.37c-.4-.4-.92-.59-1.43-.59-.52 0-1.04.2-1.43.59L10.3 9.45l-7.72 7.72c-.78.78-.78 2.05 0 2.83L4 21.41c.39.39.9.59 1.41.59.51 0 1.02-.2 1.41-.59l7.78-7.78 2.81-2.81c.8-.78.8-2.07 0-2.86zM5.41 20L4 18.59l7.72-7.72 1.47 1.35L5.41 20z\"/>\n",
              "  </svg>\n",
              "      </button>\n",
              "      \n",
              "  <style>\n",
              "    .colab-df-container {\n",
              "      display:flex;\n",
              "      flex-wrap:wrap;\n",
              "      gap: 12px;\n",
              "    }\n",
              "\n",
              "    .colab-df-convert {\n",
              "      background-color: #E8F0FE;\n",
              "      border: none;\n",
              "      border-radius: 50%;\n",
              "      cursor: pointer;\n",
              "      display: none;\n",
              "      fill: #1967D2;\n",
              "      height: 32px;\n",
              "      padding: 0 0 0 0;\n",
              "      width: 32px;\n",
              "    }\n",
              "\n",
              "    .colab-df-convert:hover {\n",
              "      background-color: #E2EBFA;\n",
              "      box-shadow: 0px 1px 2px rgba(60, 64, 67, 0.3), 0px 1px 3px 1px rgba(60, 64, 67, 0.15);\n",
              "      fill: #174EA6;\n",
              "    }\n",
              "\n",
              "    [theme=dark] .colab-df-convert {\n",
              "      background-color: #3B4455;\n",
              "      fill: #D2E3FC;\n",
              "    }\n",
              "\n",
              "    [theme=dark] .colab-df-convert:hover {\n",
              "      background-color: #434B5C;\n",
              "      box-shadow: 0px 1px 3px 1px rgba(0, 0, 0, 0.15);\n",
              "      filter: drop-shadow(0px 1px 2px rgba(0, 0, 0, 0.3));\n",
              "      fill: #FFFFFF;\n",
              "    }\n",
              "  </style>\n",
              "\n",
              "      <script>\n",
              "        const buttonEl =\n",
              "          document.querySelector('#df-4a13e2c0-bdec-4985-9314-2404b0cf31b7 button.colab-df-convert');\n",
              "        buttonEl.style.display =\n",
              "          google.colab.kernel.accessAllowed ? 'block' : 'none';\n",
              "\n",
              "        async function convertToInteractive(key) {\n",
              "          const element = document.querySelector('#df-4a13e2c0-bdec-4985-9314-2404b0cf31b7');\n",
              "          const dataTable =\n",
              "            await google.colab.kernel.invokeFunction('convertToInteractive',\n",
              "                                                     [key], {});\n",
              "          if (!dataTable) return;\n",
              "\n",
              "          const docLinkHtml = 'Like what you see? Visit the ' +\n",
              "            '<a target=\"_blank\" href=https://colab.research.google.com/notebooks/data_table.ipynb>data table notebook</a>'\n",
              "            + ' to learn more about interactive tables.';\n",
              "          element.innerHTML = '';\n",
              "          dataTable['output_type'] = 'display_data';\n",
              "          await google.colab.output.renderOutput(dataTable, element);\n",
              "          const docLink = document.createElement('div');\n",
              "          docLink.innerHTML = docLinkHtml;\n",
              "          element.appendChild(docLink);\n",
              "        }\n",
              "      </script>\n",
              "    </div>\n",
              "  </div>\n",
              "  "
            ]
          },
          "metadata": {},
          "execution_count": 53
        }
      ]
    },
    {
      "cell_type": "code",
      "source": [
        "import seaborn as sns\n",
        "sns.set(rc={\"figure.dpi\":150, 'savefig.dpi':150})\n",
        "sns.pointplot(x=\"param_n_components\",\n",
        "              y=\"mean_test_score\",\n",
        "              data=cv_results_df)"
      ],
      "metadata": {
        "id": "l8jUPczWsI5W",
        "outputId": "00b9da07-8a0b-4a58-eac5-0e1ec461a5ef",
        "colab": {
          "base_uri": "https://localhost:8080/",
          "height": 616
        }
      },
      "execution_count": 54,
      "outputs": [
        {
          "output_type": "execute_result",
          "data": {
            "text/plain": [
              "<AxesSubplot:xlabel='param_n_components', ylabel='mean_test_score'>"
            ]
          },
          "metadata": {},
          "execution_count": 54
        },
        {
          "output_type": "display_data",
          "data": {
            "text/plain": [
              "<Figure size 900x600 with 1 Axes>"
            ],
            "image/png": "[encoded data removed]"
          },
          "metadata": {}
        }
      ]
    },
    {
      "cell_type": "markdown",
      "source": [
        "# NNMF"
      ],
      "metadata": {
        "id": "3MmcFXtZFBC-"
      }
    },
    {
      "cell_type": "code",
      "source": [
        "from sklearn.decomposition import NMF"
      ],
      "metadata": {
        "id": "h2qBPF8UFY0m"
      },
      "execution_count": null,
      "outputs": []
    },
    {
      "cell_type": "code",
      "source": [
        "nmf = NMF(n_components=40, random_state=1).fit(matrix)"
      ],
      "metadata": {
        "id": "qd3p4CyEFAkJ",
        "outputId": "e7cc9f5e-2767-4c93-8ca1-680716382769",
        "colab": {
          "base_uri": "https://localhost:8080/"
        }
      },
      "execution_count": null,
      "outputs": [
        {
          "output_type": "stream",
          "name": "stderr",
          "text": [
            "/usr/local/lib/python3.7/dist-packages/sklearn/decomposition/_nmf.py:294: FutureWarning: The 'init' value, when 'init=None' and n_components is less than n_samples and n_features, will be changed from 'nndsvd' to 'nndsvda' in 1.1 (renaming of 0.26).\n",
            "  FutureWarning,\n"
          ]
        }
      ]
    },
    {
      "cell_type": "code",
      "source": [
        "display_topics(nmf, feature_names=cv.get_feature_names_out(),  no_top_words=20)"
      ],
      "metadata": {
        "id": "2bMdP1QuFRO8",
        "outputId": "0bda653d-1468-4f9a-b9ef-240573ff97c1",
        "colab": {
          "base_uri": "https://localhost:8080/"
        }
      },
      "execution_count": null,
      "outputs": [
        {
          "output_type": "stream",
          "name": "stdout",
          "text": [
            "Topic 1:\n",
            "comunidad madrid , unido podemo , toda españa , formación profesion , acuerd convocatoria , posicion mixto , acuerdo retirada , suficient miembro , estatuto gernika , política española , convocatoria extraordinaria , presentar nombr , gasto público , relacion cort , tribun supremo , resolv problema , marco financiero , buena tard , mercado labor , comú podemgalicia\n",
            "Topic 2:\n",
            "vasco legarda , comisión europea , salvamento marítimo , encima mesa , pleno cámara , derecho libertad , comparecencia ministra , igualdad oportunidad , cuerpo seguridad , rodríguez hernández , crisi económica , tribun constitucion , presupuesto general , adoptar medida , tribun supremo , relacion cort , podemgalicia común , hombr mujer , resolv problema , estatuto autonomía\n",
            "Topic 3:\n",
            "sistema público , pesca alimentación , quiero decirl , política migratoria , suficient miembro , presentar nombr , legarda uriart , ministra hacienda , crecimiento económico , salida reino , llegar acuerdo , proyecto procedimiento , adoptan medida , trabajador trabajadora , buena tard , rentabilidad razon , cuerpo seguridad , tribun supremo , techo gasto , resolv problema\n",
            "Topic 4:\n",
            "ministra trabajo , economía española , pertenecient popular , cuenta pública , paí vasco , moción censura , legarda uriart , reforma labor , ministra transición , entrada vigor , mismo tiempo , miembro diputación , tribun supremo , nacion unida , efecto llamada , política española , alta velocidad , llegar acuerdo , proyecto procedimiento , protección civil\n",
            "Topic 5:\n",
            "política social , consejo europeo , hace falta , administracion pública , urgent necesidad , mínimo interprofesion , radiotelevisión española , permanent pertenecient , justicia social , tribun constitucion , doce mese , regeneración democrática , creación empleo , hecho referencia , seguridad jurídica , convocatoria extraordinaria , nacion unida , unida podemo , trabajador trabajadora , pedro sánchez\n",
            "Topic 6:\n",
            "entidad local , crecimiento económico , trabajador trabajadora , proyecto procedimiento , llegar acuerdo , crisi económica , ministra hacienda , toda medida , unida podemosen , acatar constitución , rentabilidad razon , mejor dicho , presentar nombr , seguridad social , último mese , toma consideración , comisión europea , quiero decirl , nacion unida , salida reino\n",
            "Topic 7:\n",
            "hace mese , cuidado paliativo , función pública , moción censura , efecto llamada , economía española , diputación permanent , seguridad jurídica , comisión nacion , próxima legislatura , unida podemo , mayor cincuenta , poder judici , formulada número , acuerdo retirada , candidato presidencia , tribun constitucion , pedro sánchez , alta velocidad , tribun supremo\n",
            "Topic 8:\n",
            "unido unión , sociedad española , urgent necesidad , convocar eleccion , permanent pertenecient , sistema educativo , igualdad oportunidad , diputación permanent , ordenamiento jurídico , extraordinaria urgent , encima mesa , salida reino , cuerpo seguridad , derecho libertad , resolv problema , techo gasto , dar respuesta , sector público , mercado labor , toda medida\n",
            "Topic 9:\n",
            "código penal , permanent pertenecient , trabajador trabajadora , diputación permanent , función pública , cuidado paliativo , urgent necesidad , radiotelevisión española , mínimo interprofesion , dar respuesta , extraordinaria urgent , derecho libertad , unido podemosen , gasto público , tribun supremo , sistema educativo , pedro sánchez , hecho referencia , justicia social , alta velocidad\n",
            "Topic 10:\n",
            "transición ecológica , nacion unida , nacion mercado , pedro sánchez , comú podemen , miembro diputación , ministra adelant , hoja ruta , agricultura pesca , pertenecient popular , mismo tiempo , gasto público , comparecencia ministra , igualdad oportunidad , dominio público , proyecto procedimiento , campaña elector , unida podemosen , entrada vigor , trabajador trabajadora\n",
            "Topic 11:\n",
            "actividad económica , administración gener , acuerdo retirada , estatuto gernika , si quier , alta velocidad , comunidad autónoma , acatar constitución , permanent pertenecient , reino unido , acuerd convocatoria , paí vasco , cualquier caso , servicio público , política migratoria , sistema educativo , tribun supremo , campaña elector , justicia social , radiotelevisión española\n",
            "Topic 12:\n",
            "millon persona , política española , economía española , paí vasco , marco financiero , pertenecient popular , acatar constitución , comú podemen , acuerd convocatoria , ministra adelant , acuerdo retirada , mejor dicho , comú podemgalicia , comisión europea , presupuesto general , reforma labor , reino unido , campaña elector , espinosa montero , resolv problema\n",
            "Topic 13:\n",
            "salario mínimo , efecto llamada , ministra adelant , próxima legislatura , cuerpo seguridad , economía española , comisión nacion , gasto público , protección civil , alta velocidad , toda españa , toma consideración , pedro sánchez , techo gasto , víctima violencia , trabajador trabajadora , nacion unida , seguridad jurídica , sistema seguridad , pacto toledo\n",
            "Topic 14:\n",
            "open arm , constitución española , derecho libertad , pedro sánchez , borrà castany , nacion unida , ministra adelant , seguridad social , salvamento marítimo , candidato presidencia , rodríguez hernández , podemgalicia común , sistema seguridad , trabajador trabajadora , resolv problema , tan important , tribun supremo , unido podemo , hecho referencia , doña maría\n",
            "Topic 15:\n",
            "si quier , estabilidad presupuestaria , servicio público , legarda uriart , nacion unida , alta velocidad , hecho referencia , diálogo social , administración gener , acatar constitución , tribun supremo , campaña elector , miembro diputación , formulada número , sistema seguridad , mejor dicho , pedro sánchez , encima mesa , techo gasto , doce mese\n",
            "Topic 16:\n",
            "número suficient , toda persona , suficient miembro , presentar nombr , legarda uriart , nacion unida , política española , candidato presidencia , servicio público , unido podemo , reino unido , trabajador trabajadora , relacion cort , unida podemo , presupuesto general , dar respuesta , miembro diputación , procedimiento urgencia , sector público , cualquier caso\n",
            "Topic 17:\n",
            "medio comunicación , fijación posicion , poder judici , mayor cincuenta , convocatoria extraordinaria , unido podemosen , unida podemo , protección civil , ciudadano ciudadana , cuerpo seguridad , extraordinaria urgent , convalidación derogación , comisión nacion , seguridad jurídica , confeder unido , ningún tipo , doce mese , gasto público , lucha cambio , hoja ruta\n",
            "Topic 18:\n",
            "podemosen comú , migracion seguridad , crecimiento económico , acatar constitución , interé gener , rentabilidad razon , cualquier caso , ministra transición , crisi económica , convocatoria extraordinaria , ministra hacienda , unida podemosen , transición energética , nacion unida , toda medida , miembro diputación , entrada vigor , relacion cort , mejor dicho , encima mesa\n",
            "Topic 19:\n",
            "fuerza cuerpo , thoma cook , ministra hacienda , mismo tiempo , adoptan medida , rentabilidad razon , trabajador trabajadora , crecimiento económico , legarda uriart , presentar nombr , quiero decirl , presupuesto general , política española , consejo europeo , nacion unida , podemgalicia común , buena tard , salida reino , poner marcha , dar respuesta\n",
            "Topic 20:\n",
            "derecho humano , diputación permanent , creación empleo , administracion pública , comparecencia ministra , derecho libertad , acuerd convocatoria , sector público , candidato presidencia , moción censura , mínimo interprofesion , poner marcha , economía española , encima mesa , trabajador trabajadora , doce mese , nacion unida , presentar nombr , víctima violencia , tribun supremo\n",
            "Topic 21:\n",
            "fuerza política , trabajador trabajadora , convocatoria extraordinaria , comparecencia ministra , agricultura pesca , nacion unida , cuerpo seguridad , igualdad oportunidad , tribun supremo , gasto público , techo gasto , mejor dicho , pacto toledo , resolv problema , diputación permanent , ordenamiento jurídico , extraordinaria urgent , artículo constitución , formulada número , creación empleo\n",
            "Topic 22:\n",
            "conjunto sociedad , pleno cámara , salvamento marítimo , toda medida , reino unido , crecimiento económico , comisión europea , mercado labor , seguridad social , nacion unida , podemgalicia común , encima mesa , cualquier caso , comú podemen , crisi económica , presupuesto general , rodríguez hernández , cuerpo seguridad , sector público , ministra hacienda\n",
            "Topic 23:\n",
            "unión europea , comparecencia ministra , pertenecient popular , creación empleo , comisión nacion , si quier , dominio público , doce mese , seguridad jurídica , ministra transición , entrada vigor , guardia civil , alta velocidad , ministra adelant , pedro sánchez , acatar constitución , economía española , cuenta pública , cuerpo seguridad , tribun constitucion\n",
            "Topic 24:\n",
            "extraordinaria comisión , creación empleo , comú podemgalicia , seguridad social , unido podemosen , gasto público , convocar eleccion , regeneración democrática , marco financiero , política social , próxima legislatura , ciudadano ciudadana , comparecencia ministra , convalidación derogación , artículo constitución , pacto toledo , justicia social , eleccion general , adoptar medida , poner marcha\n",
            "Topic 25:\n",
            "cambio climático , toda medida , unida podemosen , comunidad autónoma , entrada vigor , diálogo social , ministra transición , comisión nacion , seguridad jurídica , efecto llamada , mejor dicho , nacion unida , pedro sánchez , miembro diputación , servicio público , ministra adelant , cuerpo seguridad , economía española , extraordinaria urgent , igualdad oportunidad\n",
            "Topic 26:\n",
            "subida salario , administracion pública , trabajador trabajadora , marco financiero , cualquier caso , ministra adelant , mínimo interprofesion , presentar nombr , administración gener , acuerdo retirada , poner marcha , toda españa , formación profesion , suficient miembro , candidato presidencia , crecimiento económico , tribun constitucion , acatar constitución , encima mesa , thoma cook\n",
            "Topic 27:\n",
            "comunidad valenciana , entrega cuenta , comú podemen , nacion unida , proyecto europeo , espinosa montero , proyecto procedimiento , llegar acuerdo , tribun supremo , podemgalicia común , miembro diputación , rentabilidad razon , salvamento marítimo , unida podemo , pedro sánchez , servicio público , hecho referencia , resolv problema , igualdad oportunidad , acuerd convocatoria\n",
            "Topic 28:\n",
            "gran canaria , rentabilidad razon , administración gener , alta velocidad , agricultura pesca , política migratoria , eleccion general , ministra hacienda , último doce , extraordinaria urgent , crecimiento económico , sociedad española , servicio público , entrada vigor , cuerpo seguridad , cualquier caso , efecto llamada , empleado público , pertenecient popular , ordenamiento jurídico\n",
            "Topic 29:\n",
            "proyecto presupuesto , reforma labor , cuenta pública , eleccion general , crisi económica , entrada vigor , seguridad social , mismo tiempo , comú podemgalicia , ministra transición , crecimiento económico , administracion pública , pertenecient popular , política migratoria , formación profesion , mínimo interprofesion , creación empleo , defensa iniciativa , legarda uriart , cualquier caso\n",
            "Topic 30:\n",
            "podemen marea , gasto público , función pública , cuidado paliativo , trabajador trabajadora , hecho referencia , resolv problema , convocar eleccion , crisi económica , techo gasto , pacto toledo , nacion unida , comparecencia ministra , mercado labor , sector público , consejo europeo , eleccion general , hombr mujer , regeneración democrática , último doce\n",
            "Topic 31:\n",
            "guardia civil , proyecto europeo , proyecto procedimiento , llegar acuerdo , unida podemosen , posicion mixto , pertenecient popular , si quier , nacion unida , servicio público , mejor dicho , toma consideración , acuerd convocatoria , diálogo social , miembro diputación , entrada vigor , pedro sánchez , techo gasto , salvamento marítimo , cuenta pública\n",
            "Topic 32:\n",
            "popular ciudadano , unida podemosen , posicion mixto , presentar nombr , toma consideración , encima mesa , rentabilidad razon , trabajador trabajadora , nacion unida , estatuto gernika , espinosa montero , pedro sánchez , proyecto europeo , techo gasto , ministra hacienda , política migratoria , hecho referencia , adoptan medida , igualdad oportunidad , hecho sido\n",
            "Topic 33:\n",
            "ill balear , política económica , interé gener , proyecto europeo , posicion mixto , acatar constitución , nacion unida , proyecto procedimiento , llegar acuerdo , toda españa , crecimiento económico , formación profesion , trabajador trabajadora , convocatoria extraordinaria , mejor dicho , unida podemosen , crisi económica , candidato presidencia , sistema educativo , entrada vigor\n",
            "Topic 34:\n",
            "energía renov , diálogo social , crisi económica , crecimiento económico , estatuto gernika , cualquier caso , llegar acuerdo , proyecto procedimiento , salida reino , rentabilidad razon , trabajador trabajadora , unida podemosen , cuerpo seguridad , encima mesa , acatar constitución , comisión europea , interé gener , quiero decirl , posicion mixto , formación profesion\n",
            "Topic 35:\n",
            "ahora mismo , comú podemgalicia , relacion cort , marco financiero , paí vasco , resolv problema , igualdad oportunidad , tribun constitucion , crisi económica , convocatoria extraordinaria , crecimiento económico , mercado labor , dar respuesta , encima mesa , ministra adelant , economía española , seguridad jurídica , miembro diputación , presupuesto general , doce mese\n",
            "Topic 36:\n",
            "popular congreso , borrà castany , derecho libertad , gasto público , comú podemen , trabajador trabajadora , pedro sánchez , nacion unida , pleno cámara , encima mesa , candidato presidencia , regeneración democrática , igualdad oportunidad , ministra adelant , comparecencia ministra , techo gasto , presentar nombr , hecho referencia , podemgalicia común , cualquier caso\n",
            "Topic 37:\n",
            "cort igualdad , acatar constitución , toda españa , formación profesion , acuerd convocatoria , estatuto gernika , suficient miembro , posicion mixto , entrada vigor , hoja ruta , eleccion general , poder judici , agricultura pesca , cuerpo seguridad , mayor cincuenta , presentar nombr , ministra transición , si quier , proyecto europeo , comunidad autónoma\n",
            "Topic 38:\n",
            "sere humano , política migratoria , presentar nombr , pesca alimentación , crisi económica , ministra hacienda , salida reino , adoptan medida , quiero decirl , tribun supremo , crecimiento económico , próxima legislatura , gasto público , cualquier caso , nacion unida , espinosa montero , trabajador trabajadora , podemgalicia común , rodríguez hernández , mercado labor\n",
            "Topic 39:\n",
            "zona afectada , suficient miembro , cuidado paliativo , función pública , ministra adelant , trabajador trabajadora , presentar nombr , derecho libertad , moción censura , relacion cort , mínimo interprofesion , presupuesto general , seguridad social , buena tard , política española , reino unido , mercado labor , gasto público , diputación permanent , dar respuesta\n",
            "Topic 40:\n",
            "asunto exterior , eleccion general , poner marcha , unido podemosen , unida podemo , convocar eleccion , ministra adelant , extraordinaria urgent , diputación permanent , permanent pertenecient , convalidación derogación , thoma cook , creación empleo , marco financiero , espinosa montero , urgent necesidad , justicia social , trabajador trabajadora , sistema educativo , hoja ruta\n"
          ]
        }
      ]
    }
  ]
}