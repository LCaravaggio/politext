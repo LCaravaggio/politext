{
  "nbformat": 4,
  "nbformat_minor": 0,
  "metadata": {
    "colab": {
      "provenance": [],
      "include_colab_link": true
    },
    "kernelspec": {
      "name": "python3",
      "display_name": "Python 3"
    },
    "language_info": {
      "name": "python"
    }
  },
  "cells": [
    {
      "cell_type": "markdown",
      "metadata": {
        "id": "view-in-github",
        "colab_type": "text"
      },
      "source": [
        "<a href=\"https://colab.research.google.com/github/LCaravaggio/politext/blob/main/Toda_la_base.ipynb\" target=\"_parent\"><img src=\"https://colab.research.google.com/assets/colab-badge.svg\" alt=\"Open In Colab\"/></a>"
      ]
    },
    {
      "cell_type": "markdown",
      "source": [
        "# Cargar la base"
      ],
      "metadata": {
        "id": "3bR6IbjGTqyw"
      }
    },
    {
      "cell_type": "code",
      "source": [
        "from google.colab import drive\n",
        "drive.mount('/content/drive')"
      ],
      "metadata": {
        "colab": {
          "base_uri": "https://localhost:8080/"
        },
        "id": "1d3u68qTTy95",
        "outputId": "ec86c710-4103-4607-8f2f-7fe84bc41fa0"
      },
      "execution_count": 1,
      "outputs": [
        {
          "output_type": "stream",
          "name": "stdout",
          "text": [
            "Mounted at /content/drive\n"
          ]
        }
      ]
    },
    {
      "cell_type": "code",
      "source": [
        "import pandas as pd\n",
        "base=pd.read_csv('/content/drive/MyDrive/base_formateada.csv')"
      ],
      "metadata": {
        "id": "a4Y2nh_NT6vv",
        "colab": {
          "base_uri": "https://localhost:8080/"
        },
        "outputId": "78bd35e0-6e3c-4cf2-d55f-5b66a5ef049c"
      },
      "execution_count": 2,
      "outputs": [
        {
          "output_type": "stream",
          "name": "stderr",
          "text": [
            "/usr/local/lib/python3.7/dist-packages/IPython/core/interactiveshell.py:3326: DtypeWarning: Columns (18) have mixed types.Specify dtype option on import or set low_memory=False.\n",
            "  exec(code_obj, self.user_global_ns, self.user_ns)\n"
          ]
        }
      ]
    },
    {
      "cell_type": "markdown",
      "source": [
        "# CV"
      ],
      "metadata": {
        "id": "DGXL1PFubO1X"
      }
    },
    {
      "cell_type": "code",
      "source": [
        "base['party'].value_counts()"
      ],
      "metadata": {
        "id": "cmCxT85hEyXg",
        "outputId": "658414ce-c170-4403-ccb9-9cb51bfe77e9",
        "colab": {
          "base_uri": "https://localhost:8080/"
        }
      },
      "execution_count": 3,
      "outputs": [
        {
          "output_type": "execute_result",
          "data": {
            "text/plain": [
              "PSOE    189526\n",
              "PP      144895\n",
              "Name: party, dtype: int64"
            ]
          },
          "metadata": {},
          "execution_count": 3
        }
      ]
    },
    {
      "cell_type": "code",
      "source": [
        "from sklearn.model_selection import train_test_split\n",
        "#base['tokens']=base[\"tokens\"].map(' '.join)\n",
        "X_train, X_test, y_train, y_test = train_test_split(base.loc[:, base.columns != 'party'], base['party'], test_size=0.33, random_state=42)"
      ],
      "metadata": {
        "id": "K97ay8J3F60U"
      },
      "execution_count": 4,
      "outputs": []
    },
    {
      "cell_type": "code",
      "source": [
        "# Balance de clase\n",
        "y_train.value_counts()"
      ],
      "metadata": {
        "colab": {
          "base_uri": "https://localhost:8080/"
        },
        "id": "3bTAet19F-IX",
        "outputId": "9fd2040d-340e-477a-9844-27f02cdbecd8"
      },
      "execution_count": 5,
      "outputs": [
        {
          "output_type": "execute_result",
          "data": {
            "text/plain": [
              "PSOE    127260\n",
              "PP       96802\n",
              "Name: party, dtype: int64"
            ]
          },
          "metadata": {},
          "execution_count": 5
        }
      ]
    },
    {
      "cell_type": "code",
      "source": [
        "import nltk\n",
        "nltk.download('stopwords')\n",
        "from nltk.corpus import stopwords\n",
        "stopwords=stopwords.words('spanish')"
      ],
      "metadata": {
        "colab": {
          "base_uri": "https://localhost:8080/"
        },
        "id": "vG2Zxxq3UvyZ",
        "outputId": "0ab8b952-7cea-420f-e669-db10d5619603"
      },
      "execution_count": 6,
      "outputs": [
        {
          "output_type": "stream",
          "name": "stderr",
          "text": [
            "[nltk_data] Downloading package stopwords to /root/nltk_data...\n",
            "[nltk_data]   Unzipping corpora/stopwords.zip.\n"
          ]
        }
      ]
    },
    {
      "cell_type": "code",
      "source": [
        "# Se incorporan las stopwords sugeridas por Federico\n",
        "stopwords.extend(['señor', 'señora', 'mucha', 'gracia', 'año', 'pasado', 'cada', 'vez', 'uno', 'dos', 'tres', 'cuatro', 'cinco', 'seis' ,'siete', 'ocho', 'nueve', 'diez'])\n",
        "stopwords.extend(['hoy', 'aquí', 'primer', 'lugar', 'primera', 'segunda', 'primero', 'segundo', 'siguiente', 'tercer'])\n",
        "stopwords.extend(['convergencia', 'esquerra', 'republicana', 'grupo', 'parlamentaria', 'parlamentario', 'partido'])\n",
        "stopwords.extend(['enmienda', 'votación', 'favor', 'abstención', 'ley', 'real', 'decreto', 'decretoley', 'resultado', 'voto', 'sé' ,'sí', 'silencio' ,'favor'])\n",
        "stopwords.extend(['usted', 'señoría', 'presidente', 'presidenta', 'ministro', 'orden' , 'día', 'palabra', 'petición', 'posición', 'punto', 'vista', 'sesión', 'baldoví', 'duran', 'turno'])\n",
        "stopwords.extend(['hacer', 'frente', 'puede' ,'ser', 'va', 'voy', 'decir'])\n",
        "stopwords.extend(['millón', 'euro', 'emitido', 'efectuada', 'dio', 'comienzo', 'partido', 'queda', 'quedan', 'rechazada', 'aceptada', 'comienza', 'usted', 'sabe', 'abstención', 'diputado', 'gobierno'])\n",
        "stopwords.extend(['continuación', 'votamos', 'telemático', 'republicanaizquierda', 'unidainiciativa', 'puede', 'bien', 'propuesta' ,'abstencion', 'mayoría', 'absoluta', 'pregunta', 'don', 'vamos', 'votar', 'llevar', 'cabo', 'millón', 'muchas', 'gracias'])"
      ],
      "metadata": {
        "id": "D34MOjAhUx_a"
      },
      "execution_count": 7,
      "outputs": []
    },
    {
      "cell_type": "code",
      "source": [
        "from sklearn.feature_extraction.text import CountVectorizer\n",
        "cv=CountVectorizer(ngram_range=[2,2], max_features=200, stop_words=stopwords, max_df=0.95, min_df=0.001)\n",
        "vec = cv.fit(X_train['tokens'])"
      ],
      "metadata": {
        "id": "4DJ5xDWCGAnk"
      },
      "execution_count": 8,
      "outputs": []
    },
    {
      "cell_type": "code",
      "source": [
        "train_matrix = vec.fit_transform(X_train['tokens'])\n",
        "test_matrix = vec.transform(X_test['tokens'])"
      ],
      "metadata": {
        "id": "egJ2P5OvOXwm"
      },
      "execution_count": 9,
      "outputs": []
    },
    {
      "cell_type": "markdown",
      "source": [
        "# LASSO"
      ],
      "metadata": {
        "id": "he5iXGwabZZj"
      }
    },
    {
      "cell_type": "code",
      "source": [
        "from sklearn.linear_model import LogisticRegression\n",
        "from sklearn.metrics import confusion_matrix,classification_report\n",
        "import numpy as np"
      ],
      "metadata": {
        "id": "JTqJ61B0Yygk"
      },
      "execution_count": 10,
      "outputs": []
    },
    {
      "cell_type": "code",
      "source": [
        "lr = LogisticRegression(penalty='l1', max_iter=1000, solver='liblinear')"
      ],
      "metadata": {
        "id": "tRJkiHV4OaNW"
      },
      "execution_count": 11,
      "outputs": []
    },
    {
      "cell_type": "code",
      "source": [
        "lr.fit(train_matrix,y_train)"
      ],
      "metadata": {
        "colab": {
          "base_uri": "https://localhost:8080/"
        },
        "id": "4e5xEAYfOcKP",
        "outputId": "d343a905-647e-4dbe-b560-abe2ed861271"
      },
      "execution_count": 12,
      "outputs": [
        {
          "output_type": "execute_result",
          "data": {
            "text/plain": [
              "LogisticRegression(max_iter=1000, penalty='l1', solver='liblinear')"
            ]
          },
          "metadata": {},
          "execution_count": 12
        }
      ]
    },
    {
      "cell_type": "code",
      "source": [
        "predictions = lr.predict(test_matrix)"
      ],
      "metadata": {
        "id": "UQcg6iZ6Od8x"
      },
      "execution_count": 13,
      "outputs": []
    },
    {
      "cell_type": "code",
      "source": [
        "new = np.asarray(y_test)\n",
        "confusion_matrix(predictions,y_test)"
      ],
      "metadata": {
        "colab": {
          "base_uri": "https://localhost:8080/"
        },
        "id": "MTitT84vOfsh",
        "outputId": "910cfef1-2a66-4543-fc20-d772218db1d1"
      },
      "execution_count": 14,
      "outputs": [
        {
          "output_type": "execute_result",
          "data": {
            "text/plain": [
              "array([[ 8010,  3205],\n",
              "       [40083, 59061]])"
            ]
          },
          "metadata": {},
          "execution_count": 14
        }
      ]
    },
    {
      "cell_type": "code",
      "source": [
        "print(classification_report(predictions,y_test))"
      ],
      "metadata": {
        "colab": {
          "base_uri": "https://localhost:8080/"
        },
        "id": "yE2hFlZvOhRW",
        "outputId": "dc27d076-1f7c-4c37-a91b-c6d4e6d84e04"
      },
      "execution_count": 15,
      "outputs": [
        {
          "output_type": "stream",
          "name": "stdout",
          "text": [
            "              precision    recall  f1-score   support\n",
            "\n",
            "          PP       0.17      0.71      0.27     11215\n",
            "        PSOE       0.95      0.60      0.73     99144\n",
            "\n",
            "    accuracy                           0.61    110359\n",
            "   macro avg       0.56      0.65      0.50    110359\n",
            "weighted avg       0.87      0.61      0.68    110359\n",
            "\n"
          ]
        }
      ]
    },
    {
      "cell_type": "code",
      "source": [
        "# Relevancia de bigramas en la predicción\n",
        "features=[]\n",
        "for i,v in enumerate(lr.coef_[0]):\n",
        "  features.append([vec.get_feature_names_out()[i],v ])"
      ],
      "metadata": {
        "id": "aWUa5xpiOjmD"
      },
      "execution_count": 16,
      "outputs": []
    },
    {
      "cell_type": "code",
      "source": [
        "from prettytable import PrettyTable"
      ],
      "metadata": {
        "id": "PDiH4nc-wXmz"
      },
      "execution_count": 17,
      "outputs": []
    },
    {
      "cell_type": "code",
      "source": [
        "pd.DataFrame(sorted(features, key = lambda x: x[1]), columns =['Bigrama','relevancia']).head(10)"
      ],
      "metadata": {
        "colab": {
          "base_uri": "https://localhost:8080/",
          "height": 363
        },
        "id": "Q0bwziNOOlbQ",
        "outputId": "c1bde655-34de-4073-d427-9b1e657f957f"
      },
      "execution_count": 18,
      "outputs": [
        {
          "output_type": "execute_result",
          "data": {
            "text/plain": [
              "                Bigrama  relevancia\n",
              "0        número formula   -4.386112\n",
              "1      izquierda plural   -2.246686\n",
              "2       feder izquierda   -2.027489\n",
              "3         nombr popular   -1.563579\n",
              "4   portavoz socialista   -1.419534\n",
              "5    rodríguez zapatero   -1.197705\n",
              "6      congreso formula   -1.007741\n",
              "7  interpelación urgent   -0.679354\n",
              "8      vaya concluyendo   -0.667502\n",
              "9         diputada doña   -0.645284"
            ],
            "text/html": [
              "\n",
              "  <div id=\"df-a8c32fc0-2c5f-4dc7-9ab1-c6aff6d8b045\">\n",
              "    <div class=\"colab-df-container\">\n",
              "      <div>\n",
              "<style scoped>\n",
              "    .dataframe tbody tr th:only-of-type {\n",
              "        vertical-align: middle;\n",
              "    }\n",
              "\n",
              "    .dataframe tbody tr th {\n",
              "        vertical-align: top;\n",
              "    }\n",
              "\n",
              "    .dataframe thead th {\n",
              "        text-align: right;\n",
              "    }\n",
              "</style>\n",
              "<table border=\"1\" class=\"dataframe\">\n",
              "  <thead>\n",
              "    <tr style=\"text-align: right;\">\n",
              "      <th></th>\n",
              "      <th>Bigrama</th>\n",
              "      <th>relevancia</th>\n",
              "    </tr>\n",
              "  </thead>\n",
              "  <tbody>\n",
              "    <tr>\n",
              "      <th>0</th>\n",
              "      <td>número formula</td>\n",
              "      <td>-4.386112</td>\n",
              "    </tr>\n",
              "    <tr>\n",
              "      <th>1</th>\n",
              "      <td>izquierda plural</td>\n",
              "      <td>-2.246686</td>\n",
              "    </tr>\n",
              "    <tr>\n",
              "      <th>2</th>\n",
              "      <td>feder izquierda</td>\n",
              "      <td>-2.027489</td>\n",
              "    </tr>\n",
              "    <tr>\n",
              "      <th>3</th>\n",
              "      <td>nombr popular</td>\n",
              "      <td>-1.563579</td>\n",
              "    </tr>\n",
              "    <tr>\n",
              "      <th>4</th>\n",
              "      <td>portavoz socialista</td>\n",
              "      <td>-1.419534</td>\n",
              "    </tr>\n",
              "    <tr>\n",
              "      <th>5</th>\n",
              "      <td>rodríguez zapatero</td>\n",
              "      <td>-1.197705</td>\n",
              "    </tr>\n",
              "    <tr>\n",
              "      <th>6</th>\n",
              "      <td>congreso formula</td>\n",
              "      <td>-1.007741</td>\n",
              "    </tr>\n",
              "    <tr>\n",
              "      <th>7</th>\n",
              "      <td>interpelación urgent</td>\n",
              "      <td>-0.679354</td>\n",
              "    </tr>\n",
              "    <tr>\n",
              "      <th>8</th>\n",
              "      <td>vaya concluyendo</td>\n",
              "      <td>-0.667502</td>\n",
              "    </tr>\n",
              "    <tr>\n",
              "      <th>9</th>\n",
              "      <td>diputada doña</td>\n",
              "      <td>-0.645284</td>\n",
              "    </tr>\n",
              "  </tbody>\n",
              "</table>\n",
              "</div>\n",
              "      <button class=\"colab-df-convert\" onclick=\"convertToInteractive('df-a8c32fc0-2c5f-4dc7-9ab1-c6aff6d8b045')\"\n",
              "              title=\"Convert this dataframe to an interactive table.\"\n",
              "              style=\"display:none;\">\n",
              "        \n",
              "  <svg xmlns=\"http://www.w3.org/2000/svg\" height=\"24px\"viewBox=\"0 0 24 24\"\n",
              "       width=\"24px\">\n",
              "    <path d=\"M0 0h24v24H0V0z\" fill=\"none\"/>\n",
              "    <path d=\"M18.56 5.44l.94 2.06.94-2.06 2.06-.94-2.06-.94-.94-2.06-.94 2.06-2.06.94zm-11 1L8.5 8.5l.94-2.06 2.06-.94-2.06-.94L8.5 2.5l-.94 2.06-2.06.94zm10 10l.94 2.06.94-2.06 2.06-.94-2.06-.94-.94-2.06-.94 2.06-2.06.94z\"/><path d=\"M17.41 7.96l-1.37-1.37c-.4-.4-.92-.59-1.43-.59-.52 0-1.04.2-1.43.59L10.3 9.45l-7.72 7.72c-.78.78-.78 2.05 0 2.83L4 21.41c.39.39.9.59 1.41.59.51 0 1.02-.2 1.41-.59l7.78-7.78 2.81-2.81c.8-.78.8-2.07 0-2.86zM5.41 20L4 18.59l7.72-7.72 1.47 1.35L5.41 20z\"/>\n",
              "  </svg>\n",
              "      </button>\n",
              "      \n",
              "  <style>\n",
              "    .colab-df-container {\n",
              "      display:flex;\n",
              "      flex-wrap:wrap;\n",
              "      gap: 12px;\n",
              "    }\n",
              "\n",
              "    .colab-df-convert {\n",
              "      background-color: #E8F0FE;\n",
              "      border: none;\n",
              "      border-radius: 50%;\n",
              "      cursor: pointer;\n",
              "      display: none;\n",
              "      fill: #1967D2;\n",
              "      height: 32px;\n",
              "      padding: 0 0 0 0;\n",
              "      width: 32px;\n",
              "    }\n",
              "\n",
              "    .colab-df-convert:hover {\n",
              "      background-color: #E2EBFA;\n",
              "      box-shadow: 0px 1px 2px rgba(60, 64, 67, 0.3), 0px 1px 3px 1px rgba(60, 64, 67, 0.15);\n",
              "      fill: #174EA6;\n",
              "    }\n",
              "\n",
              "    [theme=dark] .colab-df-convert {\n",
              "      background-color: #3B4455;\n",
              "      fill: #D2E3FC;\n",
              "    }\n",
              "\n",
              "    [theme=dark] .colab-df-convert:hover {\n",
              "      background-color: #434B5C;\n",
              "      box-shadow: 0px 1px 3px 1px rgba(0, 0, 0, 0.15);\n",
              "      filter: drop-shadow(0px 1px 2px rgba(0, 0, 0, 0.3));\n",
              "      fill: #FFFFFF;\n",
              "    }\n",
              "  </style>\n",
              "\n",
              "      <script>\n",
              "        const buttonEl =\n",
              "          document.querySelector('#df-a8c32fc0-2c5f-4dc7-9ab1-c6aff6d8b045 button.colab-df-convert');\n",
              "        buttonEl.style.display =\n",
              "          google.colab.kernel.accessAllowed ? 'block' : 'none';\n",
              "\n",
              "        async function convertToInteractive(key) {\n",
              "          const element = document.querySelector('#df-a8c32fc0-2c5f-4dc7-9ab1-c6aff6d8b045');\n",
              "          const dataTable =\n",
              "            await google.colab.kernel.invokeFunction('convertToInteractive',\n",
              "                                                     [key], {});\n",
              "          if (!dataTable) return;\n",
              "\n",
              "          const docLinkHtml = 'Like what you see? Visit the ' +\n",
              "            '<a target=\"_blank\" href=https://colab.research.google.com/notebooks/data_table.ipynb>data table notebook</a>'\n",
              "            + ' to learn more about interactive tables.';\n",
              "          element.innerHTML = '';\n",
              "          dataTable['output_type'] = 'display_data';\n",
              "          await google.colab.output.renderOutput(dataTable, element);\n",
              "          const docLink = document.createElement('div');\n",
              "          docLink.innerHTML = docLinkHtml;\n",
              "          element.appendChild(docLink);\n",
              "        }\n",
              "      </script>\n",
              "    </div>\n",
              "  </div>\n",
              "  "
            ]
          },
          "metadata": {},
          "execution_count": 18
        }
      ]
    },
    {
      "cell_type": "code",
      "source": [
        "pd.DataFrame(sorted(features, key = lambda x: x[1]), columns =['Bigrama','relevancia']).tail(10)"
      ],
      "metadata": {
        "id": "2owmfZxxyNFN",
        "outputId": "3803d945-06f5-41e5-8d10-cfc031c7dc10",
        "colab": {
          "base_uri": "https://localhost:8080/",
          "height": 363
        }
      },
      "execution_count": 19,
      "outputs": [
        {
          "output_type": "execute_result",
          "data": {
            "text/plain": [
              "               Bigrama  relevancia\n",
              "190      reforma labor    0.274933\n",
              "191    política social    0.281892\n",
              "192      izquierda per    0.286556\n",
              "193  económica europea    0.411938\n",
              "194   nombr socialista    0.420082\n",
              "195  dictamen comisión    0.801492\n",
              "196      per catalunya    1.020129\n",
              "197  coalición popular    1.081070\n",
              "198   minoría catalana    1.441962\n",
              "199     catalunya verd    1.593223"
            ],
            "text/html": [
              "\n",
              "  <div id=\"df-8e29c0a1-887d-47ed-8ddf-4c2a435a2bef\">\n",
              "    <div class=\"colab-df-container\">\n",
              "      <div>\n",
              "<style scoped>\n",
              "    .dataframe tbody tr th:only-of-type {\n",
              "        vertical-align: middle;\n",
              "    }\n",
              "\n",
              "    .dataframe tbody tr th {\n",
              "        vertical-align: top;\n",
              "    }\n",
              "\n",
              "    .dataframe thead th {\n",
              "        text-align: right;\n",
              "    }\n",
              "</style>\n",
              "<table border=\"1\" class=\"dataframe\">\n",
              "  <thead>\n",
              "    <tr style=\"text-align: right;\">\n",
              "      <th></th>\n",
              "      <th>Bigrama</th>\n",
              "      <th>relevancia</th>\n",
              "    </tr>\n",
              "  </thead>\n",
              "  <tbody>\n",
              "    <tr>\n",
              "      <th>190</th>\n",
              "      <td>reforma labor</td>\n",
              "      <td>0.274933</td>\n",
              "    </tr>\n",
              "    <tr>\n",
              "      <th>191</th>\n",
              "      <td>política social</td>\n",
              "      <td>0.281892</td>\n",
              "    </tr>\n",
              "    <tr>\n",
              "      <th>192</th>\n",
              "      <td>izquierda per</td>\n",
              "      <td>0.286556</td>\n",
              "    </tr>\n",
              "    <tr>\n",
              "      <th>193</th>\n",
              "      <td>económica europea</td>\n",
              "      <td>0.411938</td>\n",
              "    </tr>\n",
              "    <tr>\n",
              "      <th>194</th>\n",
              "      <td>nombr socialista</td>\n",
              "      <td>0.420082</td>\n",
              "    </tr>\n",
              "    <tr>\n",
              "      <th>195</th>\n",
              "      <td>dictamen comisión</td>\n",
              "      <td>0.801492</td>\n",
              "    </tr>\n",
              "    <tr>\n",
              "      <th>196</th>\n",
              "      <td>per catalunya</td>\n",
              "      <td>1.020129</td>\n",
              "    </tr>\n",
              "    <tr>\n",
              "      <th>197</th>\n",
              "      <td>coalición popular</td>\n",
              "      <td>1.081070</td>\n",
              "    </tr>\n",
              "    <tr>\n",
              "      <th>198</th>\n",
              "      <td>minoría catalana</td>\n",
              "      <td>1.441962</td>\n",
              "    </tr>\n",
              "    <tr>\n",
              "      <th>199</th>\n",
              "      <td>catalunya verd</td>\n",
              "      <td>1.593223</td>\n",
              "    </tr>\n",
              "  </tbody>\n",
              "</table>\n",
              "</div>\n",
              "      <button class=\"colab-df-convert\" onclick=\"convertToInteractive('df-8e29c0a1-887d-47ed-8ddf-4c2a435a2bef')\"\n",
              "              title=\"Convert this dataframe to an interactive table.\"\n",
              "              style=\"display:none;\">\n",
              "        \n",
              "  <svg xmlns=\"http://www.w3.org/2000/svg\" height=\"24px\"viewBox=\"0 0 24 24\"\n",
              "       width=\"24px\">\n",
              "    <path d=\"M0 0h24v24H0V0z\" fill=\"none\"/>\n",
              "    <path d=\"M18.56 5.44l.94 2.06.94-2.06 2.06-.94-2.06-.94-.94-2.06-.94 2.06-2.06.94zm-11 1L8.5 8.5l.94-2.06 2.06-.94-2.06-.94L8.5 2.5l-.94 2.06-2.06.94zm10 10l.94 2.06.94-2.06 2.06-.94-2.06-.94-.94-2.06-.94 2.06-2.06.94z\"/><path d=\"M17.41 7.96l-1.37-1.37c-.4-.4-.92-.59-1.43-.59-.52 0-1.04.2-1.43.59L10.3 9.45l-7.72 7.72c-.78.78-.78 2.05 0 2.83L4 21.41c.39.39.9.59 1.41.59.51 0 1.02-.2 1.41-.59l7.78-7.78 2.81-2.81c.8-.78.8-2.07 0-2.86zM5.41 20L4 18.59l7.72-7.72 1.47 1.35L5.41 20z\"/>\n",
              "  </svg>\n",
              "      </button>\n",
              "      \n",
              "  <style>\n",
              "    .colab-df-container {\n",
              "      display:flex;\n",
              "      flex-wrap:wrap;\n",
              "      gap: 12px;\n",
              "    }\n",
              "\n",
              "    .colab-df-convert {\n",
              "      background-color: #E8F0FE;\n",
              "      border: none;\n",
              "      border-radius: 50%;\n",
              "      cursor: pointer;\n",
              "      display: none;\n",
              "      fill: #1967D2;\n",
              "      height: 32px;\n",
              "      padding: 0 0 0 0;\n",
              "      width: 32px;\n",
              "    }\n",
              "\n",
              "    .colab-df-convert:hover {\n",
              "      background-color: #E2EBFA;\n",
              "      box-shadow: 0px 1px 2px rgba(60, 64, 67, 0.3), 0px 1px 3px 1px rgba(60, 64, 67, 0.15);\n",
              "      fill: #174EA6;\n",
              "    }\n",
              "\n",
              "    [theme=dark] .colab-df-convert {\n",
              "      background-color: #3B4455;\n",
              "      fill: #D2E3FC;\n",
              "    }\n",
              "\n",
              "    [theme=dark] .colab-df-convert:hover {\n",
              "      background-color: #434B5C;\n",
              "      box-shadow: 0px 1px 3px 1px rgba(0, 0, 0, 0.15);\n",
              "      filter: drop-shadow(0px 1px 2px rgba(0, 0, 0, 0.3));\n",
              "      fill: #FFFFFF;\n",
              "    }\n",
              "  </style>\n",
              "\n",
              "      <script>\n",
              "        const buttonEl =\n",
              "          document.querySelector('#df-8e29c0a1-887d-47ed-8ddf-4c2a435a2bef button.colab-df-convert');\n",
              "        buttonEl.style.display =\n",
              "          google.colab.kernel.accessAllowed ? 'block' : 'none';\n",
              "\n",
              "        async function convertToInteractive(key) {\n",
              "          const element = document.querySelector('#df-8e29c0a1-887d-47ed-8ddf-4c2a435a2bef');\n",
              "          const dataTable =\n",
              "            await google.colab.kernel.invokeFunction('convertToInteractive',\n",
              "                                                     [key], {});\n",
              "          if (!dataTable) return;\n",
              "\n",
              "          const docLinkHtml = 'Like what you see? Visit the ' +\n",
              "            '<a target=\"_blank\" href=https://colab.research.google.com/notebooks/data_table.ipynb>data table notebook</a>'\n",
              "            + ' to learn more about interactive tables.';\n",
              "          element.innerHTML = '';\n",
              "          dataTable['output_type'] = 'display_data';\n",
              "          await google.colab.output.renderOutput(dataTable, element);\n",
              "          const docLink = document.createElement('div');\n",
              "          docLink.innerHTML = docLinkHtml;\n",
              "          element.appendChild(docLink);\n",
              "        }\n",
              "      </script>\n",
              "    </div>\n",
              "  </div>\n",
              "  "
            ]
          },
          "metadata": {},
          "execution_count": 19
        }
      ]
    },
    {
      "cell_type": "code",
      "source": [
        "# Entiendo que un número negativo en el coeficiente implica que el bigrama correlaciona bien con la clase 0, es decir PP. Por el otro lado, un coeficiente positivo implica que el bigrama correlaciona mejor con PSOE. \n",
        "lr.classes_"
      ],
      "metadata": {
        "colab": {
          "base_uri": "https://localhost:8080/"
        },
        "id": "miQgxc59jxZp",
        "outputId": "b44ecd88-1f76-47ee-e2ad-1e1cde125436"
      },
      "execution_count": 20,
      "outputs": [
        {
          "output_type": "execute_result",
          "data": {
            "text/plain": [
              "array(['PP', 'PSOE'], dtype=object)"
            ]
          },
          "metadata": {},
          "execution_count": 20
        }
      ]
    },
    {
      "cell_type": "code",
      "source": [
        "# LASOO por año\n",
        "from sklearn.metrics import f1_score\n",
        "\n",
        "macro=[]\n",
        "weighted=[]\n",
        "\n",
        "lr = LogisticRegression(penalty='l1', max_iter=1000, solver='liblinear')\n",
        "\n",
        "for x in range(1979,2020): \n",
        "  try: \n",
        "    base_year=base[pd.DatetimeIndex(base.fecha).year==x]\n",
        "    X_train, X_test, y_train, y_test = train_test_split(base_year.loc[:, base_year.columns != 'party'], base_year['party'], test_size=0.33, random_state=42)\n",
        "    train_matrix = vec.fit_transform(X_train['tokens'])\n",
        "    test_matrix = vec.transform(X_test['tokens'])  \n",
        "    lr.fit(train_matrix,y_train)\n",
        "    predictions = lr.predict(test_matrix )\n",
        "    macro.append(f1_score(predictions,y_test, average='macro'))\n",
        "    weighted.append(f1_score(predictions,y_test, average='weighted'))\n",
        "  except: \n",
        "    macro.append(np.nan)\n",
        "    weighted.append(np.nan)"
      ],
      "metadata": {
        "id": "vT5GTcSJPGT7"
      },
      "execution_count": 21,
      "outputs": []
    },
    {
      "cell_type": "code",
      "source": [
        "# Yo entiendo que el resultado relevante es el macro, porque considera el desbalance de clases\n",
        "import matplotlib.pyplot as plt\n",
        "plt.plot(range(1979,2020), macro, marker='o')\n",
        "plt.plot(range(1979,2020), weighted, marker='+')"
      ],
      "metadata": {
        "colab": {
          "base_uri": "https://localhost:8080/",
          "height": 282
        },
        "id": "7laI6FgJRSyr",
        "outputId": "f8df3027-d14f-4406-ae04-becc11d40f1b"
      },
      "execution_count": 22,
      "outputs": [
        {
          "output_type": "execute_result",
          "data": {
            "text/plain": [
              "[<matplotlib.lines.Line2D at 0x7ff39eeaf550>]"
            ]
          },
          "metadata": {},
          "execution_count": 22
        },
        {
          "output_type": "display_data",
          "data": {
            "text/plain": [
              "<Figure size 432x288 with 1 Axes>"
            ],
            "image/png": "[encoded data removed]"
          },
          "metadata": {
            "needs_background": "light"
          }
        }
      ]
    },
    {
      "cell_type": "code",
      "source": [
        "# LASOO por legislatura\n",
        "macro=[]\n",
        "weighted=[]\n",
        "\n",
        "lr = LogisticRegression(penalty='l1', max_iter=1000, solver='liblinear')\n",
        "legislaturas=['I', 'II', 'III', 'IV', 'V', 'VI', 'VII','VIII', 'IX', 'X', 'XI', 'XII','XIII']\n",
        "\n",
        "for x in legislaturas: \n",
        "  try: \n",
        "    base_year=base[base.legislatura==x]\n",
        "    X_train, X_test, y_train, y_test = train_test_split(base_year.loc[:, base_year.columns != 'party'], base_year['party'], test_size=0.33, random_state=42)\n",
        "    train_matrix = vec.fit_transform(X_train['tokens'])\n",
        "    test_matrix = vec.transform(X_test['tokens'])  \n",
        "    lr.fit(train_matrix,y_train)\n",
        "    predictions = lr.predict(test_matrix )\n",
        "    macro.append(f1_score(predictions,y_test, average='macro'))\n",
        "    weighted.append(f1_score(predictions,y_test, average='weighted'))\n",
        "  except: \n",
        "    macro.append(np.nan)\n",
        "    weighted.append(np.nan)"
      ],
      "metadata": {
        "id": "tdGW6WkIY2JD"
      },
      "execution_count": 23,
      "outputs": []
    },
    {
      "cell_type": "code",
      "source": [
        "# Yo entiendo que el resultado relevante es el macro, porque considera el desbalance de clases\n",
        "import matplotlib.pyplot as plt\n",
        "plt.plot(legislaturas, macro, marker='o')\n",
        "plt.plot(legislaturas, weighted, marker='+')"
      ],
      "metadata": {
        "colab": {
          "base_uri": "https://localhost:8080/",
          "height": 282
        },
        "id": "eyA7ffAeZQbN",
        "outputId": "6666b3b4-73d8-4f10-d490-77f19d5a3248"
      },
      "execution_count": 24,
      "outputs": [
        {
          "output_type": "execute_result",
          "data": {
            "text/plain": [
              "[<matplotlib.lines.Line2D at 0x7ff3d4f17a90>]"
            ]
          },
          "metadata": {},
          "execution_count": 24
        },
        {
          "output_type": "display_data",
          "data": {
            "text/plain": [
              "<Figure size 432x288 with 1 Axes>"
            ],
            "image/png": "[encoded data removed]"
          },
          "metadata": {
            "needs_background": "light"
          }
        }
      ]
    },
    {
      "cell_type": "code",
      "source": [
        "from tabulate import tabulate"
      ],
      "metadata": {
        "id": "rskCoMw_6Awx"
      },
      "execution_count": 25,
      "outputs": []
    },
    {
      "cell_type": "code",
      "source": [
        "# Relevancia de bigramas en la predicción por año\n",
        "tabla=[]\n",
        "for x in range (1979, 2020): \n",
        "  base_year=base[pd.DatetimeIndex(base.fecha).year==x]\n",
        "  X_train, X_test, y_train, y_test = train_test_split(base_year.loc[:, base_year.columns != 'party'], base_year['party'], test_size=0.33, random_state=42)\n",
        "  train_matrix = vec.fit_transform(X_train['tokens'])\n",
        "  test_matrix = vec.transform(X_test['tokens'])\n",
        "  lr = LogisticRegression(penalty='l1', max_iter=1000, solver='liblinear')\n",
        "  lr.fit(train_matrix,y_train)\n",
        "  predictions = lr.predict(test_matrix )\n",
        "  features=[]\n",
        "  for i,v in enumerate(lr.coef_[0]):\n",
        "    features.append([vec.get_feature_names_out()[i],v ])\n",
        "  sor=sorted(features, key = lambda x: x[1])\n",
        "  print(f\"Año: {x}\")\n",
        "  print(tabulate([sor[:3],sor[-3:]], tablefmt='pretty'))"
      ],
      "metadata": {
        "id": "zrM6LDzu-R-8",
        "outputId": "2a6c6829-d78d-4860-f3fd-d38dbc334cff",
        "colab": {
          "base_uri": "https://localhost:8080/"
        }
      },
      "execution_count": 26,
      "outputs": [
        {
          "output_type": "stream",
          "name": "stdout",
          "text": [
            "Año: 1979\n",
            "+--------------------------------------------+--------------------------------------------+-------------------------------------------+\n",
            "| ['publicada boletín', -2.4014079098634404] |   ['precedido uso', -1.387756573710855]    | ['economía mercado', -1.3689556126738036] |\n",
            "|  ['sector eléctrico', 1.2957798840096304]  | ['formacion política', 1.3088868363690565] |  ['director gener', 1.3303998722156931]   |\n",
            "+--------------------------------------------+--------------------------------------------+-------------------------------------------+\n",
            "Año: 1980\n",
            "+-------------------------------------------+---------------------------------------------+--------------------------------------------+\n",
            "| ['aprobado artículo', -2.830677376496513] |     ['pérez royo', -2.305477418311066]      |  ['artículo pausa', -2.0542261257120304]   |\n",
            "| ['justicia militar', 1.3933817469806937]  | ['formación profesion', 1.5165871364773116] | ['seguridad jurídica', 1.8580471131565262] |\n",
            "+-------------------------------------------+---------------------------------------------+--------------------------------------------+\n",
            "Año: 1981\n",
            "+---------------------------------------------+---------------------------------------+--------------------------------------------+\n",
            "|     ['santa sede', -1.9492072339530917]     | ['quiero dejar', -1.0255671517981184] | ['derecho comparado', -0.9889203849102183] |\n",
            "| ['socialista cataluña', 1.2479288491551295] |  ['largo debat', 1.6052860540587932]  |   ['acuerdo santa', 2.4398619340044756]    |\n",
            "+---------------------------------------------+---------------------------------------+--------------------------------------------+\n",
            "Año: 1982\n",
            "+-----------------------------------------+--------------------------------------------+-----------------------------------------+\n",
            "|  ['duda ninguna', -2.526258694545133]   |     ['ningún caso', -1.50042007528302]     | ['pueblo español', -1.3397621420224912] |\n",
            "| ['recurso natural', 1.4971478994910652] | ['proceso autonómico', 1.7130670796712508] | ['resolv problema', 2.423569317091482]  |\n",
            "+-----------------------------------------+--------------------------------------------+-----------------------------------------+\n",
            "Año: 1983\n",
            "+----------------------------------------+----------------------------------------+----------------------------------------+\n",
            "| ['tan important', -1.3343239794613397] | ['aplauso banco', -1.0913527362464572] | ['texto artículo', -1.006744169274949] |\n",
            "|  ['lópez lerma', 2.3686327367547233]   | ['vaya terminando', 2.479402255240589] |   ['pausa nulo', 2.503755234105934]    |\n",
            "+----------------------------------------+----------------------------------------+----------------------------------------+\n",
            "Año: 1984\n",
            "+---------------------------------------------+-----------------------------------+-----------------------------------------+\n",
            "| ['portavoz socialista', -1.940461908710206] | ['saber si', -1.5300341083509243] | ['déficit público', -1.212518652960467] |\n",
            "|     ['pausa nulo', 2.4892112279908396]      | ['vasco pnv', 2.6228927576974885] |  ['garcía agudín', 3.364668557190348]   |\n",
            "+---------------------------------------------+-----------------------------------+-----------------------------------------+\n",
            "Año: 1985\n",
            "+----------------------------------------+-----------------------------------------+-----------------------------------------------+\n",
            "| ['banco derecha', -1.4831599534398572] | ['impuesto renta', -1.2048050013323617] | ['asistencia sanitaria', -1.1771832073655555] |\n",
            "| ['mixto suscrita', 2.370997425812583]  |   ['bravo laguna', 2.419834354829951]   |    ['conform dictamen', 2.852054705505383]    |\n",
            "+----------------------------------------+-----------------------------------------+-----------------------------------------------+\n",
            "Año: 1986\n",
            "+-----------------------------------------+---------------------------------------+---------------------------------------------+\n",
            "| ['mercado común', -1.6707501693299247]  | ['cámara local', -1.5259831708823839] | ['portavoz socialista', -1.466758786684005] |\n",
            "| ['déficit público', 1.6396973493367812] | ['ruego concluya', 1.665180507254362] |    ['garcía fonseca', 1.684739959401389]    |\n",
            "+-----------------------------------------+---------------------------------------+---------------------------------------------+\n",
            "Año: 1987\n",
            "+----------------------------------------------+-----------------------------------------+------------------------------------------+\n",
            "| ['portavoz socialista', -1.9571272900211445] | ['director gener', -1.4529635054644854] | ['opinión pública', -1.4445183747842303] |\n",
            "|     ['bravo laguna', 3.5358961722093847]     |    ['acta unica', 4.763400199551972]    | ['nombr socialista', 5.152236840771767]  |\n",
            "+----------------------------------------------+-----------------------------------------+------------------------------------------+\n",
            "Año: 1988\n",
            "+--------------------------------------------+----------------------------------------+------------------------------------------+\n",
            "| ['portavoz socialista', -2.66516251803684] | ['tan important', -1.4028099934958622] |   ['hace tiempo', -1.2861878241166547]   |\n",
            "|      ['vasco pnv', 2.257250817703899]      | ['ruego concluya', 2.7089474708676162] | ['dictamen comisión', 3.522336059332814] |\n",
            "+--------------------------------------------+----------------------------------------+------------------------------------------+\n",
            "Año: 1989\n",
            "+---------------------------------------+--------------------------------------------+-----------------------------------------+\n",
            "| ['gran bretaña', -1.956065993163297]  | ['economía española', -1.9137331841916774] | ['director gener', -1.5453802564156542] |\n",
            "| ['cumbr europea', 2.2084214427872504] |   ['ruego concluya', 2.2475420303119704]   |   ['debo decirl', 2.6644873146875905]   |\n",
            "+---------------------------------------+--------------------------------------------+-----------------------------------------+\n",
            "Año: 1990\n",
            "+-----------------------------------------------+----------------------------------------+----------------------------------------+\n",
            "|  ['portavoz socialista', -2.96811490551815]   | ['banco derecha', -2.5184697185382365] | ['nombr popular', -1.9451320753438495] |\n",
            "| ['presupuesto ministerio', 2.353695013439084] | ['renta persona', 3.2265583200608785]  | ['ruego concluya', 3.465211912610745]  |\n",
            "+-----------------------------------------------+----------------------------------------+----------------------------------------+\n",
            "Año: 1991\n",
            "+-------------------------------------------+---------------------------------------------+----------------------------------------+\n",
            "|  ['director gener', -2.289208779979967]   | ['portavoz socialista', -1.864227712615578] | ['aplauso banco', -1.5031636590005477] |\n",
            "| ['aprobado dictamen', 1.6625876020211037] |   ['sanidad consumo', 2.248537439757372]    | ['ruego concluya', 2.4252121340320554] |\n",
            "+-------------------------------------------+---------------------------------------------+----------------------------------------+\n",
            "Año: 1992\n",
            "+----------------------------------------------+----------------------------------------+---------------------------------------------+\n",
            "| ['portavoz socialista', -2.3399037790707182] | ['aplauso banco', -1.7373842065346863] | ['vicepresident muñoz', -1.513230158779889] |\n",
            "|    ['garcía fonseca', 2.148769514527444]     |   ['vasco pnv', 2.2478775376908953]    |   ['ruego concluya', 3.4945696728569327]    |\n",
            "+----------------------------------------------+----------------------------------------+---------------------------------------------+\n",
            "Año: 1993\n",
            "+-----------------------------------------+----------------------------------------+-----------------------------------------------+\n",
            "| ['felip gonzález', -2.2067731850460603] | ['banco popular', -1.8740172914817097] | ['portavoz socialista', -1.7203282123039192]  |\n",
            "| ['aprobado dictamen', 2.2088112623192]  | ['ruego concluya', 3.0337132480024858] | ['crecimiento económico', 3.5976369848887613] |\n",
            "+-----------------------------------------+----------------------------------------+-----------------------------------------------+\n",
            "Año: 1994\n",
            "+----------------------------------------------+--------------------------------------------+----------------------------------------+\n",
            "| ['portavoz socialista', -2.7382636200269177] | ['ciudadano español', -1.7877687959499302] | ['nombr popular', -1.7492838159706356] |\n",
            "|    ['ciento ciento', 2.7933158632472628]     |  ['feder izquierda', 2.9288014219733607]   | ['ruego concluya', 3.1503274568256825] |\n",
            "+----------------------------------------------+--------------------------------------------+----------------------------------------+\n",
            "Año: 1995\n",
            "+-------------------------------------------+----------------------------------------+-----------------------------------------+\n",
            "| ['unión valenciana', -2.9827207070892072] | ['nombr popular', -2.906210309357848]  | ['diario sesion', -1.5922777435578719]  |\n",
            "| ['congreso formula', 2.5880304857728698]  | ['ruego concluya', 2.8000256873392066] | ['portavoz popular', 3.747414176832489] |\n",
            "+-------------------------------------------+----------------------------------------+-----------------------------------------+\n",
            "Año: 1996\n",
            "+-----------------------------------------+------------------------------------------+------------------------------------------+\n",
            "|   ['ruego vaya', -3.5730084798820254]   |  ['número formula', -3.471504028849677]  | ['congreso formula', -2.787384068584163] |\n",
            "| ['resolv problema', 1.4858152828073912] | ['portavoz popular', 2.0979961280587265] |    ['último mese', 2.175655919367732]    |\n",
            "+-----------------------------------------+------------------------------------------+------------------------------------------+\n",
            "Año: 1997\n",
            "+----------------------------------------+---------------------------------------+-----------------------------------------------+\n",
            "| ['número formula', -4.225170464489559] |  ['ruego vaya', -2.4161310790660613]  | ['consecuencia aprobada', -2.363891452679451] |\n",
            "| ['semana pasada', 1.1938265121482707]  | ['resolv problema', 1.23831438954076] |   ['portavoz popular', 1.4275968438319924]    |\n",
            "+----------------------------------------+---------------------------------------+-----------------------------------------------+\n",
            "Año: 1998\n",
            "+-----------------------------------+--------------------------------------------+--------------------------------------+\n",
            "| ['ruego vaya', -2.94525223302026] |   ['número formula', -2.355514033579868]   | ['nombr feder', -2.0257259819931166] |\n",
            "|  ['ver si', 1.2653312435721804]   | ['medio comunicación', 1.4039515356711727] | ['hace tiempo', 1.5441709592741093]  |\n",
            "+-----------------------------------+--------------------------------------------+--------------------------------------+\n",
            "Año: 1999\n",
            "+-----------------------------------------+---------------------------------------------+---------------------------------------+\n",
            "|      ['si ss', -3.306566046710304]      |     ['ruego vaya', -2.9338998111082746]     |  ['nombr feder', -2.768149557619656]  |\n",
            "| ['resolv problema', 1.4158922764965942] | ['compañía telefónica', 1.5435553348936333] | ['semana pasada', 1.5509826788106056] |\n",
            "+-----------------------------------------+---------------------------------------------+---------------------------------------+\n",
            "Año: 2000\n",
            "+------------------------------------------+--------------------------------------------+---------------------------------------------+\n",
            "| ['número formula', -2.9140447931930678]  | ['pesca alimentación', -2.372191444074811] | ['socialista formula', -2.2662224986705684] |\n",
            "| ['familia española', 1.2106364870383919] |    ['país europeo', 1.2187239780140107]    |     ['billon peseta', 1.8164903661054]      |\n",
            "+------------------------------------------+--------------------------------------------+---------------------------------------------+\n",
            "Año: 2001\n",
            "+-----------------------------------------+--------------------------------------------+-------------------------------------------+\n",
            "| ['número formula', -3.5718931101155595] | ['pesca alimentación', -3.020472925915968] | ['congreso formula', -2.9885167077035635] |\n",
            "|   ['último mese', 1.343005204471134]    | ['ministra educación', 1.715334370364914]  |     ['vaca loca', 2.950903073624713]      |\n",
            "+-----------------------------------------+--------------------------------------------+-------------------------------------------+\n",
            "Año: 2002\n",
            "+---------------------------------------+-----------------------------------------+------------------------------------------------+\n",
            "| ['cultura deport', -4.06465572764512] | ['número formula', -3.7427772542399476] |  ['portavoz socialista', -3.4754104004439923]  |\n",
            "|   ['hace mese', 1.7630929593627194]   | ['resolv problema', 1.7830928542333846] | ['comisión investigación', 1.8688870931791826] |\n",
            "+---------------------------------------+-----------------------------------------+------------------------------------------------+\n",
            "Año: 2003\n",
            "+-------------------------------------------+---------------------------------------------+----------------------------------------+\n",
            "| ['alianza atlántica', -5.540165177557874] |   ['número formula', -3.706505822912149]    | ['nombr popular', -3.4434871087881023] |\n",
            "|   ['cort general', 1.2771094239471525]    | ['seguridad ciudadana', 1.2986570743768815] |   ['guerra irak', 1.923944075423586]   |\n",
            "+-------------------------------------------+---------------------------------------------+----------------------------------------+\n",
            "Año: 2004\n",
            "+-----------------------------------------------+--------------------------------------------+----------------------------------------+\n",
            "|  ['portavoz socialista', -2.471152427168643]  | ['rodríguez zapatero', -2.204461317948743] |   ['saber si', -1.7089325999739662]    |\n",
            "| ['legalidad internacion', 1.8771751999098338] | ['derecho fundamental', 2.06025739594632]  | ['precio petróleo', 2.593844055340828] |\n",
            "+-----------------------------------------------+--------------------------------------------+----------------------------------------+\n",
            "Año: 2005\n",
            "+--------------------------------------------+----------------------------------------------+-----------------------------------------------+\n",
            "| ['rodríguez zapatero', -2.399942163855721] | ['portavoz socialista', -2.3326910234293474] | ['política inmigración', -1.3754715181404844] |\n",
            "|   ['diputada doña', 1.8562098048154294]    |    ['izquierda verd', 1.9757353233097676]    |    ['nombr socialista', 4.197375712392332]    |\n",
            "+--------------------------------------------+----------------------------------------------+-----------------------------------------------+\n",
            "Año: 2006\n",
            "+---------------------------------------------+---------------------------------------------+-----------------------------------------+\n",
            "| ['rodríguez zapatero', -2.2365214056670464] | ['portavoz socialista', -2.197654977423165] |  ['fiscal gener', -1.9261485048732454]  |\n",
            "|  ['tiempo concluido', 1.8707566797554995]   |    ['diputada doña', 1.9116435625506936]    | ['portavoz popular', 3.649607240961239] |\n",
            "+---------------------------------------------+---------------------------------------------+-----------------------------------------+\n",
            "Año: 2007\n",
            "+---------------------------------------------+-----------------------------------------+------------------------------------------------+\n",
            "| ['rodríguez zapatero', -2.2428527758536694] |   ['cien cien', -1.3481027040958673]    | ['constitución española', -1.3381234244324471] |\n",
            "|     ['partir ahí', 2.6924319312624094]      | ['nombr socialista', 2.842432514762517] | ['administración justicia', 4.353756671186069] |\n",
            "+---------------------------------------------+-----------------------------------------+------------------------------------------------+\n",
            "Año: 2008\n",
            "+-------------------------------------------+------------------------------------------+--------------------------------------------+\n",
            "| ['ciudadano español', -2.428821280200233] |  ['tomar medida', -2.3386048780838213]   | ['rodríguez zapatero', -1.968420802566925] |\n",
            "|   ['catalunya verd', 2.229223031568555]   | ['turismo comercio', 2.6348389845531646] |   ['puedo asegurar', 3.1485351368325016]   |\n",
            "+-------------------------------------------+------------------------------------------+--------------------------------------------+\n",
            "Año: 2009\n",
            "+------------------------------------------------+--------------------------------------+---------------------------------------------+\n",
            "|     ['millon parado', -3.628435579245954]      |  ['tan solo', -2.5382805158721182]   | ['rodríguez zapatero', -2.4716915720861823] |\n",
            "| ['organismo internacional', 2.415589338302744] | ['puesta marcha', 2.671894550102909] | ['modelo crecimiento', 3.1324545118794482]  |\n",
            "+------------------------------------------------+--------------------------------------+---------------------------------------------+\n",
            "Año: 2010\n",
            "+---------------------------------------+---------------------------------------------+---------------------------------------------+\n",
            "| ['recort social', -3.966482906268003] | ['rodríguez zapatero', -3.5230148445878178] | ['ministerio fomento', -1.6285996620112058] |\n",
            "|    ['josé lui', 2.389755092335127]    |   ['consejo europeo', 3.0432687286444415]   | ['consolidación fiscal', 3.863879326322119] |\n",
            "+---------------------------------------+---------------------------------------------+---------------------------------------------+\n",
            "Año: 2011\n",
            "+-----------------------------------------+--------------------------------------------+---------------------------------------------------+\n",
            "| ['millon parado', -3.7761453716258226]  | ['rodríguez zapatero', -2.489370494677052] | ['responsabilidad política', -1.5869684330504692] |\n",
            "| ['social igualdad', 1.8698236975490472] |   ['popular medida', 1.8961736073066011]   |    ['interlocutor social', 2.062959014032744]     |\n",
            "+-----------------------------------------+--------------------------------------------+---------------------------------------------------+\n",
            "Año: 2012\n",
            "+--------------------------------------------+--------------------------------------------------+---------------------------------------------+\n",
            "| ['económico creación', -4.296797391440541] | ['economía competitividad', -2.6885857943066465] | ['toda administracion', -2.607326335429521] |\n",
            "|    ['activa empleo', 2.24977229308546]     |     ['cohesión social', 2.4913362433892234]      |   ['amnistía fiscal', 2.5574031007050544]   |\n",
            "+--------------------------------------------+--------------------------------------------------+---------------------------------------------+\n",
            "Año: 2013\n",
            "+-----------------------------------------+--------------------------------------------+-----------------------------------------+\n",
            "| ['pérez rubalcaba', -3.047200712993654] | ['proyecto orgánica', -2.7854946585827838] | ['cultura deport', -2.2635860592941115] |\n",
            "| ['sistema público', 2.1257225052049673] |   ['portavoz popular', 2.2145626680839]    | ['amnistía fiscal', 2.274066187036396]  |\n",
            "+-----------------------------------------+--------------------------------------------+-----------------------------------------+\n",
            "Año: 2014\n",
            "+-----------------------------------------+----------------------------------------+--------------------------------------------+\n",
            "| ['social igualdad', -3.964475300632537] | ['quiero decirl', -3.6544112124726706] | ['seguir trabajando', -3.3749074099267675] |\n",
            "| ['libertad mujer', 1.4386680663245108]  | ['dar respuesta', 1.6555078223290622]  |  ['sanidad pública', 1.8434608520193072]   |\n",
            "+-----------------------------------------+----------------------------------------+--------------------------------------------+\n",
            "Año: 2015\n",
            "+---------------------------------------+---------------------------------------------------+------------------------------------------+\n",
            "| ['quiero decirl', -3.183234324929026] |      ['creando empleo', -2.056449434391605]       | ['creación empleo', -1.9335670777226963] |\n",
            "|  ['clase media', 1.3411305459331726]  | ['consideración proposición', 1.3964810821090992] |   ['reforma labor', 1.685907204640469]   |\n",
            "+---------------------------------------+---------------------------------------------------+------------------------------------------+\n",
            "Año: 2016\n",
            "+-----------------------------------------+-------------------------------------------+------------------------------------------+\n",
            "| ['unido podemosen', -5.139122245462973] | ['social igualdad', -1.9964368285573342]  | ['creación empleo', -1.7715842639209645] |\n",
            "| ['fernández díaz', 1.3654201318575019]  | ['debat investidura', 1.3934994504544695] | ['español española', 2.8039261701433613] |\n",
            "+-----------------------------------------+-------------------------------------------+------------------------------------------+\n",
            "Año: 2017\n",
            "+------------------------------------------+--------------------------------------------+----------------------------------------+\n",
            "| ['creación empleo', -3.7845348944570834] | ['alimentación medio', -2.450836594954576] |  ['partir ahí', -2.3893282827940987]   |\n",
            "| ['caso corrupción', 1.7426568341334432]  |   ['larga duración', 1.8872304698204887]   | ['amnistía fiscal', 2.973945819403758] |\n",
            "+------------------------------------------+--------------------------------------------+----------------------------------------+\n",
            "Año: 2018\n",
            "+------------------------------------------+--------------------------------------------+------------------------------------------------+\n",
            "| ['ministra adelant', -3.291535712330235] |     ['vasco pnv', -2.9279139496979876]     | ['transaccion presentada', -2.676741992506573] |\n",
            "|  ['cohesión social', 1.808007708327571]  | ['ciudadano ciudadana', 2.283558121474419] |   ['senda estabilidad', 3.4367304648926877]    |\n",
            "+------------------------------------------+--------------------------------------------+------------------------------------------------+\n",
            "Año: 2019\n",
            "+-----------------------------------------------+----------------------------------------+---------------------------------------+\n",
            "|   ['ministra adelant', -2.866556138816836]    | ['confeder unido', -2.177582056278997] | ['pasamo ahora', -2.0898801393356856] |\n",
            "| ['candidato presidencia', 2.2301377648117486] |  ['borrà castany', 2.624270503766075]  | ['confeder unida', 3.230470255841285] |\n",
            "+-----------------------------------------------+----------------------------------------+---------------------------------------+\n"
          ]
        }
      ]
    },
    {
      "cell_type": "code",
      "source": [
        "# Relevancia de bigramas en la predicción por legislatura\n",
        "tabla=[]\n",
        "for x in legislaturas: \n",
        "  base_year=base[base.legislatura==x]\n",
        "  X_train, X_test, y_train, y_test = train_test_split(base_year.loc[:, base_year.columns != 'party'], base_year['party'], test_size=0.33, random_state=42)\n",
        "  train_matrix = vec.fit_transform(X_train['tokens'])\n",
        "  test_matrix = vec.transform(X_test['tokens'])\n",
        "  lr = LogisticRegression(penalty='l1', max_iter=1000, solver='liblinear')\n",
        "  lr.fit(train_matrix,y_train)\n",
        "  predictions = lr.predict(test_matrix )\n",
        "  features=[]\n",
        "  for i,v in enumerate(lr.coef_[0]):\n",
        "    features.append([vec.get_feature_names_out()[i],v ])\n",
        "  sor=sorted(features, key = lambda x: x[1])\n",
        "  print(f\"Legislatura: {x}\")\n",
        "  print(tabulate([sor[:3],sor[-3:]], tablefmt='pretty'))"
      ],
      "metadata": {
        "id": "FvZS7CJZ9KcX",
        "outputId": "003cb836-5ac9-489d-ee75-d5e077f33117",
        "colab": {
          "base_uri": "https://localhost:8080/"
        }
      },
      "execution_count": 27,
      "outputs": [
        {
          "output_type": "stream",
          "name": "stdout",
          "text": [
            "Legislatura: I\n",
            "+---------------------------------------------+--------------------------------------------+-------------------------------------------------+\n",
            "|     ['ofici cort', -1.4078351269555933]     | ['sanidad seguridad', -1.2828588365839682] | ['representant socialista', -1.108423289357115] |\n",
            "| ['presupuesto general', 1.3344826965822916] |   ['cualquier caso', 1.5931968183874237]   |     ['relacion laboral', 1.867984555330653]     |\n",
            "+---------------------------------------------+--------------------------------------------+-------------------------------------------------+\n",
            "Legislatura: II\n",
            "+----------------------------------------------+---------------------------------------+-----------------------------------------+\n",
            "| ['portavoz socialista', -2.0725498719174777] | ['banco derecha', -2.068529106915927] | ['ninguna manera', -1.4027303099420332] |\n",
            "|   ['conform dictamen', 3.0324647710839945]   | ['artículo pausa', 3.112513527280992] |   ['número vasco', 3.603975996331625]   |\n",
            "+----------------------------------------------+---------------------------------------+-----------------------------------------+\n",
            "Legislatura: III\n",
            "+----------------------------------------------+--------------------------------------+-----------------------------------------+\n",
            "| ['portavoz socialista', -1.6954531038121643] | ['sigu siendo', -1.190125412510514]  | ['pueblo español', -1.1340708764565746] |\n",
            "|       ['vasco pnv', 2.856325738638428]       | ['bravo laguna', 2.9647062323872784] | ['ruego concluya', 3.2025815958642325]  |\n",
            "+----------------------------------------------+--------------------------------------+-----------------------------------------+\n",
            "Legislatura: IV\n",
            "+----------------------------------------------+---------------------------------------+-----------------------------------------+\n",
            "| ['portavoz socialista', -2.5190875648017905] | ['aplauso banco', -1.339072574499601] | ['director gener', -1.2210462524332313] |\n",
            "|  ['aprobado dictamen', 2.5527817161028237]   | ['popular pausa', 2.9446737740441864] |  ['ruego concluya', 3.268624989160133]  |\n",
            "+----------------------------------------------+---------------------------------------+-----------------------------------------+\n",
            "Legislatura: V\n",
            "+----------------------------------------------+------------------------------------------+----------------------------------------+\n",
            "| ['portavoz socialista', -2.2659374269236423] | ['felip gonzález', -1.8477319716907161]  | ['alguna manera', -1.521837531202488]  |\n",
            "|   ['congreso formula', 2.8135644347477164]   | ['aprobado dictamen', 3.538508536562744] | ['ruego concluya', 3.9904885862328094] |\n",
            "+----------------------------------------------+------------------------------------------+----------------------------------------+\n",
            "Legislatura: VI\n",
            "+--------------------------------------------------+-----------------------------------------+------------------------------------------+\n",
            "|       ['ruego vaya', -3.0811617208342303]        | ['número formula', -2.8236459095004642] |  ['ruego guarden', -2.6013466052522998]  |\n",
            "| ['responsabilidad política', 1.1085591183013066] |     ['ver si', 1.5203412957204685]      | ['portavoz popular', 1.6550746531280374] |\n",
            "+--------------------------------------------------+-----------------------------------------+------------------------------------------+\n",
            "Legislatura: VII\n",
            "+-----------------------------------------+----------------------------------------------------+---------------------------------------------+\n",
            "| ['número formula', -4.726975233952896]  | ['consideración proposicion', -3.6140891576011036] |    ['nombr popular', -3.524931698946593]    |\n",
            "| ['opinión pública', 1.0027612879994245] | ['consecuencia interpelación', 1.1796220449208146] | ['seguridad ciudadana', 1.3686487896020778] |\n",
            "+-----------------------------------------+----------------------------------------------------+---------------------------------------------+\n",
            "Legislatura: VIII\n",
            "+----------------------------------------------+---------------------------------------------+-----------------------------------------+\n",
            "| ['portavoz socialista', -2.5672747502349003] | ['rodríguez zapatero', -1.9013834496137751] |     ['ver si', -1.270719339047791]      |\n",
            "|   ['tiempo concluido', 3.0171503319951114]   |    ['diputada doña', 3.2898825218388255]    | ['nombr socialista', 4.208733170139472] |\n",
            "+----------------------------------------------+---------------------------------------------+-----------------------------------------+\n",
            "Legislatura: IX\n",
            "+--------------------------------------------+----------------------------------------+---------------------------------------------+\n",
            "| ['rodríguez zapatero', -2.843353192375714] | ['ambient medio', -1.7483173753866967] |   ['subida impuesto', -1.540779147252654]   |\n",
            "|  ['turismo comercio', 2.616993918508505]   | ['acabado tiempo', 2.919915359467381]  | ['consolidación fiscal', 3.260483270209407] |\n",
            "+--------------------------------------------+----------------------------------------+---------------------------------------------+\n",
            "Legislatura: X\n",
            "+--------------------------------------------+----------------------------------------------+------------------------------------------+\n",
            "| ['diputada ministra', -3.2212166083030973] | ['reforma estructural', -2.6906715937714343] | ['social igualdad', -2.5210646946234965] |\n",
            "| ['educación cultura', 1.5166463560692083]  |  ['industria energía', 1.8273874743394782]   |   ['amnistía fiscal', 1.8501476934122]   |\n",
            "+--------------------------------------------+----------------------------------------------+------------------------------------------+\n",
            "Legislatura: XI\n",
            "+--------------------------------------+--------------------------------------------------+----------------------------------------------+\n",
            "| ['cort general', -2.112450442655715] |        ['mesa edad', -1.7257297811720052]        |      ['nombr foro', -1.608283797034319]      |\n",
            "|   ['dar paso', 1.0357134462174138]   | ['consideración proposición', 1.071625539271012] | ['reforma constitucion', 1.0982413756164873] |\n",
            "+--------------------------------------+--------------------------------------------------+----------------------------------------------+\n",
            "Legislatura: XII\n",
            "+-----------------------------------------+-------------------------------------------+-----------------------------------------+\n",
            "| ['ministra adelant', -3.37853045327617] |    ['vasco pnv', -2.9814700708201483]     |  ['pasamo ahora', -2.8868712203152884]  |\n",
            "| ['política fiscal', 1.2332474433027534] | ['popular ciudadano', 1.7322008540272762] | ['amnistía fiscal', 2.1816034836755116] |\n",
            "+-----------------------------------------+-------------------------------------------+-----------------------------------------+\n",
            "Legislatura: XIII\n",
            "+-----------------------------------------+----------------------------------------------+----------------------------------------------+\n",
            "| ['crisi económica', -2.132466358909495] |    ['diario sesion', -1.7312543924956845]    | ['tribun constitucion', -1.3029765890069729] |\n",
            "|  ['medida urgent', 1.5036781385859648]  | ['administración gener', 1.5281953095336402] |      ['duda alguna', 1.530762274179187]      |\n",
            "+-----------------------------------------+----------------------------------------------+----------------------------------------------+\n"
          ]
        }
      ]
    },
    {
      "cell_type": "markdown",
      "source": [
        "# LASSO con TF-IDF"
      ],
      "metadata": {
        "id": "52mR8byGbdpo"
      }
    },
    {
      "cell_type": "code",
      "source": [
        "from sklearn.feature_extraction.text import TfidfVectorizer\n",
        "cv=TfidfVectorizer(ngram_range=[2,2], max_features=200, stop_words=stopwords, max_df=0.95, min_df=0.01)\n",
        "vec = cv.fit(X_train['tokens'])"
      ],
      "metadata": {
        "id": "rsMtQWjhbZzE"
      },
      "execution_count": null,
      "outputs": []
    },
    {
      "cell_type": "code",
      "source": [
        "train_matrix = vec.fit_transform(X_train['tokens'])\n",
        "test_matrix = vec.transform(X_test['tokens'])"
      ],
      "metadata": {
        "id": "WrmzdT4FbZzG"
      },
      "execution_count": null,
      "outputs": []
    },
    {
      "cell_type": "code",
      "source": [
        "from sklearn.linear_model import LogisticRegression\n",
        "from sklearn.metrics import confusion_matrix,classification_report\n",
        "import numpy as np"
      ],
      "metadata": {
        "id": "DenIM3DkbZzH"
      },
      "execution_count": null,
      "outputs": []
    },
    {
      "cell_type": "code",
      "source": [
        "lr = LogisticRegression(penalty='l1', max_iter=1000, solver='liblinear')"
      ],
      "metadata": {
        "id": "9LTcGrHHbZzH"
      },
      "execution_count": null,
      "outputs": []
    },
    {
      "cell_type": "code",
      "source": [
        "lr.fit(train_matrix,y_train)"
      ],
      "metadata": {
        "colab": {
          "base_uri": "https://localhost:8080/"
        },
        "outputId": "0f3ed7d1-da40-4266-e08b-8d7b71d600aa",
        "id": "ztYbiMdGbZzI"
      },
      "execution_count": null,
      "outputs": [
        {
          "output_type": "execute_result",
          "data": {
            "text/plain": [
              "LogisticRegression(max_iter=1000, penalty='l1', solver='liblinear')"
            ]
          },
          "metadata": {},
          "execution_count": 146
        }
      ]
    },
    {
      "cell_type": "code",
      "source": [
        "predictions = lr.predict(test_matrix)"
      ],
      "metadata": {
        "id": "3jUmIHmLbZzJ"
      },
      "execution_count": null,
      "outputs": []
    },
    {
      "cell_type": "code",
      "source": [
        "new = np.asarray(y_test)\n",
        "confusion_matrix(predictions,y_test)"
      ],
      "metadata": {
        "colab": {
          "base_uri": "https://localhost:8080/"
        },
        "outputId": "26368c0d-fd99-4854-8f13-8b67ab589a86",
        "id": "W2vtgUPHbZzJ"
      },
      "execution_count": null,
      "outputs": [
        {
          "output_type": "execute_result",
          "data": {
            "text/plain": [
              "array([[  2,   0],\n",
              "       [ 24, 389]])"
            ]
          },
          "metadata": {},
          "execution_count": 148
        }
      ]
    },
    {
      "cell_type": "code",
      "source": [
        "print(classification_report(predictions,y_test))"
      ],
      "metadata": {
        "colab": {
          "base_uri": "https://localhost:8080/"
        },
        "outputId": "fb88a39a-c016-4f7c-a02f-5302a34cb13c",
        "id": "W8WPUhpXbZzK"
      },
      "execution_count": null,
      "outputs": [
        {
          "output_type": "stream",
          "name": "stdout",
          "text": [
            "              precision    recall  f1-score   support\n",
            "\n",
            "          PP       0.08      1.00      0.14         2\n",
            "        PSOE       1.00      0.94      0.97       413\n",
            "\n",
            "    accuracy                           0.94       415\n",
            "   macro avg       0.54      0.97      0.56       415\n",
            "weighted avg       1.00      0.94      0.97       415\n",
            "\n"
          ]
        }
      ]
    },
    {
      "cell_type": "code",
      "source": [
        "# Relevancia de bigramas en la predicción\n",
        "features=[]\n",
        "for i,v in enumerate(lr.coef_[0]):\n",
        "  features.append([vec.get_feature_names_out()[i],v ])"
      ],
      "metadata": {
        "id": "7LE6JRLCbZzK"
      },
      "execution_count": null,
      "outputs": []
    },
    {
      "cell_type": "code",
      "source": [
        "pd.DataFrame(sorted(features, key = lambda x: x[1]), columns =['Bigrama','relevancia']).head(15)"
      ],
      "metadata": {
        "colab": {
          "base_uri": "https://localhost:8080/",
          "height": 520
        },
        "outputId": "01a41579-a1dc-4a59-e98a-9a06fdd84bcd",
        "id": "Iwe2fbeabZzL"
      },
      "execution_count": null,
      "outputs": [
        {
          "output_type": "execute_result",
          "data": {
            "text/plain": [
              "                       Bigrama  relevancia\n",
              "0                     open arm   -2.918078\n",
              "1                       ver si   -2.691994\n",
              "2           medio comunicación   -2.677412\n",
              "3   estabilidad presupuestaria   -2.504203\n",
              "4             cambio climático   -2.471440\n",
              "5               moción censura   -2.431992\n",
              "6          tribun constitucion   -2.312807\n",
              "7                guardia civil   -2.109416\n",
              "8                diario sesion   -2.007758\n",
              "9             seguridad social   -1.655777\n",
              "10        comunidad valenciana   -1.616604\n",
              "11          comunidad autónoma   -1.607404\n",
              "12                 ningún tipo   -1.551370\n",
              "13                  buena tard   -1.185274\n",
              "14            violencia género   -1.051294"
            ],
            "text/html": [
              "\n",
              "  <div id=\"df-dac99a06-3ae4-423c-81d1-5accd857836b\">\n",
              "    <div class=\"colab-df-container\">\n",
              "      <div>\n",
              "<style scoped>\n",
              "    .dataframe tbody tr th:only-of-type {\n",
              "        vertical-align: middle;\n",
              "    }\n",
              "\n",
              "    .dataframe tbody tr th {\n",
              "        vertical-align: top;\n",
              "    }\n",
              "\n",
              "    .dataframe thead th {\n",
              "        text-align: right;\n",
              "    }\n",
              "</style>\n",
              "<table border=\"1\" class=\"dataframe\">\n",
              "  <thead>\n",
              "    <tr style=\"text-align: right;\">\n",
              "      <th></th>\n",
              "      <th>Bigrama</th>\n",
              "      <th>relevancia</th>\n",
              "    </tr>\n",
              "  </thead>\n",
              "  <tbody>\n",
              "    <tr>\n",
              "      <th>0</th>\n",
              "      <td>open arm</td>\n",
              "      <td>-2.918078</td>\n",
              "    </tr>\n",
              "    <tr>\n",
              "      <th>1</th>\n",
              "      <td>ver si</td>\n",
              "      <td>-2.691994</td>\n",
              "    </tr>\n",
              "    <tr>\n",
              "      <th>2</th>\n",
              "      <td>medio comunicación</td>\n",
              "      <td>-2.677412</td>\n",
              "    </tr>\n",
              "    <tr>\n",
              "      <th>3</th>\n",
              "      <td>estabilidad presupuestaria</td>\n",
              "      <td>-2.504203</td>\n",
              "    </tr>\n",
              "    <tr>\n",
              "      <th>4</th>\n",
              "      <td>cambio climático</td>\n",
              "      <td>-2.471440</td>\n",
              "    </tr>\n",
              "    <tr>\n",
              "      <th>5</th>\n",
              "      <td>moción censura</td>\n",
              "      <td>-2.431992</td>\n",
              "    </tr>\n",
              "    <tr>\n",
              "      <th>6</th>\n",
              "      <td>tribun constitucion</td>\n",
              "      <td>-2.312807</td>\n",
              "    </tr>\n",
              "    <tr>\n",
              "      <th>7</th>\n",
              "      <td>guardia civil</td>\n",
              "      <td>-2.109416</td>\n",
              "    </tr>\n",
              "    <tr>\n",
              "      <th>8</th>\n",
              "      <td>diario sesion</td>\n",
              "      <td>-2.007758</td>\n",
              "    </tr>\n",
              "    <tr>\n",
              "      <th>9</th>\n",
              "      <td>seguridad social</td>\n",
              "      <td>-1.655777</td>\n",
              "    </tr>\n",
              "    <tr>\n",
              "      <th>10</th>\n",
              "      <td>comunidad valenciana</td>\n",
              "      <td>-1.616604</td>\n",
              "    </tr>\n",
              "    <tr>\n",
              "      <th>11</th>\n",
              "      <td>comunidad autónoma</td>\n",
              "      <td>-1.607404</td>\n",
              "    </tr>\n",
              "    <tr>\n",
              "      <th>12</th>\n",
              "      <td>ningún tipo</td>\n",
              "      <td>-1.551370</td>\n",
              "    </tr>\n",
              "    <tr>\n",
              "      <th>13</th>\n",
              "      <td>buena tard</td>\n",
              "      <td>-1.185274</td>\n",
              "    </tr>\n",
              "    <tr>\n",
              "      <th>14</th>\n",
              "      <td>violencia género</td>\n",
              "      <td>-1.051294</td>\n",
              "    </tr>\n",
              "  </tbody>\n",
              "</table>\n",
              "</div>\n",
              "      <button class=\"colab-df-convert\" onclick=\"convertToInteractive('df-dac99a06-3ae4-423c-81d1-5accd857836b')\"\n",
              "              title=\"Convert this dataframe to an interactive table.\"\n",
              "              style=\"display:none;\">\n",
              "        \n",
              "  <svg xmlns=\"http://www.w3.org/2000/svg\" height=\"24px\"viewBox=\"0 0 24 24\"\n",
              "       width=\"24px\">\n",
              "    <path d=\"M0 0h24v24H0V0z\" fill=\"none\"/>\n",
              "    <path d=\"M18.56 5.44l.94 2.06.94-2.06 2.06-.94-2.06-.94-.94-2.06-.94 2.06-2.06.94zm-11 1L8.5 8.5l.94-2.06 2.06-.94-2.06-.94L8.5 2.5l-.94 2.06-2.06.94zm10 10l.94 2.06.94-2.06 2.06-.94-2.06-.94-.94-2.06-.94 2.06-2.06.94z\"/><path d=\"M17.41 7.96l-1.37-1.37c-.4-.4-.92-.59-1.43-.59-.52 0-1.04.2-1.43.59L10.3 9.45l-7.72 7.72c-.78.78-.78 2.05 0 2.83L4 21.41c.39.39.9.59 1.41.59.51 0 1.02-.2 1.41-.59l7.78-7.78 2.81-2.81c.8-.78.8-2.07 0-2.86zM5.41 20L4 18.59l7.72-7.72 1.47 1.35L5.41 20z\"/>\n",
              "  </svg>\n",
              "      </button>\n",
              "      \n",
              "  <style>\n",
              "    .colab-df-container {\n",
              "      display:flex;\n",
              "      flex-wrap:wrap;\n",
              "      gap: 12px;\n",
              "    }\n",
              "\n",
              "    .colab-df-convert {\n",
              "      background-color: #E8F0FE;\n",
              "      border: none;\n",
              "      border-radius: 50%;\n",
              "      cursor: pointer;\n",
              "      display: none;\n",
              "      fill: #1967D2;\n",
              "      height: 32px;\n",
              "      padding: 0 0 0 0;\n",
              "      width: 32px;\n",
              "    }\n",
              "\n",
              "    .colab-df-convert:hover {\n",
              "      background-color: #E2EBFA;\n",
              "      box-shadow: 0px 1px 2px rgba(60, 64, 67, 0.3), 0px 1px 3px 1px rgba(60, 64, 67, 0.15);\n",
              "      fill: #174EA6;\n",
              "    }\n",
              "\n",
              "    [theme=dark] .colab-df-convert {\n",
              "      background-color: #3B4455;\n",
              "      fill: #D2E3FC;\n",
              "    }\n",
              "\n",
              "    [theme=dark] .colab-df-convert:hover {\n",
              "      background-color: #434B5C;\n",
              "      box-shadow: 0px 1px 3px 1px rgba(0, 0, 0, 0.15);\n",
              "      filter: drop-shadow(0px 1px 2px rgba(0, 0, 0, 0.3));\n",
              "      fill: #FFFFFF;\n",
              "    }\n",
              "  </style>\n",
              "\n",
              "      <script>\n",
              "        const buttonEl =\n",
              "          document.querySelector('#df-dac99a06-3ae4-423c-81d1-5accd857836b button.colab-df-convert');\n",
              "        buttonEl.style.display =\n",
              "          google.colab.kernel.accessAllowed ? 'block' : 'none';\n",
              "\n",
              "        async function convertToInteractive(key) {\n",
              "          const element = document.querySelector('#df-dac99a06-3ae4-423c-81d1-5accd857836b');\n",
              "          const dataTable =\n",
              "            await google.colab.kernel.invokeFunction('convertToInteractive',\n",
              "                                                     [key], {});\n",
              "          if (!dataTable) return;\n",
              "\n",
              "          const docLinkHtml = 'Like what you see? Visit the ' +\n",
              "            '<a target=\"_blank\" href=https://colab.research.google.com/notebooks/data_table.ipynb>data table notebook</a>'\n",
              "            + ' to learn more about interactive tables.';\n",
              "          element.innerHTML = '';\n",
              "          dataTable['output_type'] = 'display_data';\n",
              "          await google.colab.output.renderOutput(dataTable, element);\n",
              "          const docLink = document.createElement('div');\n",
              "          docLink.innerHTML = docLinkHtml;\n",
              "          element.appendChild(docLink);\n",
              "        }\n",
              "      </script>\n",
              "    </div>\n",
              "  </div>\n",
              "  "
            ]
          },
          "metadata": {},
          "execution_count": 154
        }
      ]
    },
    {
      "cell_type": "code",
      "source": [
        "# Entiendo que un número negativo en el coeficiente implica que el bigrama correlaciona bien con la clase 0, es decir PP. Por el otro lado, un coeficiente positivo implica que el bigrama correlaciona mejor con PSOE. \n",
        "lr.classes_"
      ],
      "metadata": {
        "colab": {
          "base_uri": "https://localhost:8080/"
        },
        "outputId": "805cd787-32e9-4b33-8122-024ee6aa70f9",
        "id": "O5HVbadYbZzL"
      },
      "execution_count": null,
      "outputs": [
        {
          "output_type": "execute_result",
          "data": {
            "text/plain": [
              "array(['PP', 'PSOE'], dtype=object)"
            ]
          },
          "metadata": {},
          "execution_count": 155
        }
      ]
    },
    {
      "cell_type": "code",
      "source": [
        "# LASOO por año\n",
        "from sklearn.metrics import f1_score\n",
        "\n",
        "macro=[]\n",
        "weighted=[]\n",
        "\n",
        "lr = LogisticRegression(penalty='l1', max_iter=1000, solver='liblinear')\n",
        "\n",
        "for x in range(1979,2020): \n",
        "  try: \n",
        "    base_year=base[pd.DatetimeIndex(base.fecha).year==x]\n",
        "    X_train, X_test, y_train, y_test = train_test_split(base_year.loc[:, base_year.columns != 'party'], base_year['party'], test_size=0.33, random_state=42)\n",
        "    train_matrix = vec.fit_transform(X_train['tokens'])\n",
        "    test_matrix = vec.transform(X_test['tokens'])  \n",
        "    lr.fit(train_matrix,y_train)\n",
        "    predictions = lr.predict(test_matrix )\n",
        "    macro.append(f1_score(predictions,y_test, average='macro'))\n",
        "    weighted.append(f1_score(predictions,y_test, average='weighted'))\n",
        "  except: \n",
        "    macro.append(np.nan)\n",
        "    weighted.append(np.nan)"
      ],
      "metadata": {
        "id": "zT3jfb3PbZzM",
        "outputId": "5022bd8c-331f-4bfd-fe6b-0e6572eae255",
        "colab": {
          "base_uri": "https://localhost:8080/",
          "height": 236
        }
      },
      "execution_count": null,
      "outputs": [
        {
          "output_type": "error",
          "ename": "NameError",
          "evalue": "ignored",
          "traceback": [
            "\u001b[0;31m---------------------------------------------------------------------------\u001b[0m",
            "\u001b[0;31mNameError\u001b[0m                                 Traceback (most recent call last)",
            "\u001b[0;32m<ipython-input-1-3a2ccc1e42bd>\u001b[0m in \u001b[0;36m<module>\u001b[0;34m\u001b[0m\n\u001b[1;32m      5\u001b[0m \u001b[0mweighted\u001b[0m\u001b[0;34m=\u001b[0m\u001b[0;34m[\u001b[0m\u001b[0;34m]\u001b[0m\u001b[0;34m\u001b[0m\u001b[0;34m\u001b[0m\u001b[0m\n\u001b[1;32m      6\u001b[0m \u001b[0;34m\u001b[0m\u001b[0m\n\u001b[0;32m----> 7\u001b[0;31m \u001b[0mlr\u001b[0m \u001b[0;34m=\u001b[0m \u001b[0mLogisticRegression\u001b[0m\u001b[0;34m(\u001b[0m\u001b[0mpenalty\u001b[0m\u001b[0;34m=\u001b[0m\u001b[0;34m'l1'\u001b[0m\u001b[0;34m,\u001b[0m \u001b[0mmax_iter\u001b[0m\u001b[0;34m=\u001b[0m\u001b[0;36m1000\u001b[0m\u001b[0;34m,\u001b[0m \u001b[0msolver\u001b[0m\u001b[0;34m=\u001b[0m\u001b[0;34m'liblinear'\u001b[0m\u001b[0;34m)\u001b[0m\u001b[0;34m\u001b[0m\u001b[0;34m\u001b[0m\u001b[0m\n\u001b[0m\u001b[1;32m      8\u001b[0m \u001b[0;34m\u001b[0m\u001b[0m\n\u001b[1;32m      9\u001b[0m \u001b[0;32mfor\u001b[0m \u001b[0mx\u001b[0m \u001b[0;32min\u001b[0m \u001b[0mrange\u001b[0m\u001b[0;34m(\u001b[0m\u001b[0;36m1979\u001b[0m\u001b[0;34m,\u001b[0m\u001b[0;36m2020\u001b[0m\u001b[0;34m)\u001b[0m\u001b[0;34m:\u001b[0m\u001b[0;34m\u001b[0m\u001b[0;34m\u001b[0m\u001b[0m\n",
            "\u001b[0;31mNameError\u001b[0m: name 'LogisticRegression' is not defined"
          ]
        }
      ]
    },
    {
      "cell_type": "code",
      "source": [
        "# Yo entiendo que el resultado relevante es el macro, porque considera el desbalance de clases\n",
        "import matplotlib.pyplot as plt\n",
        "plt.plot(range(1979,2020), macro, marker='o')\n",
        "plt.plot(range(1979,2020), weighted, marker='+')"
      ],
      "metadata": {
        "colab": {
          "base_uri": "https://localhost:8080/",
          "height": 282
        },
        "outputId": "31d8cfe7-4aca-42b6-b1d1-565ab5e3b9c0",
        "id": "7wf8NOWbbZzM"
      },
      "execution_count": null,
      "outputs": [
        {
          "output_type": "execute_result",
          "data": {
            "text/plain": [
              "[<matplotlib.lines.Line2D at 0x7f7d5c37f810>]"
            ]
          },
          "metadata": {},
          "execution_count": 36
        },
        {
          "output_type": "display_data",
          "data": {
            "text/plain": [
              "<Figure size 432x288 with 1 Axes>"
            ],
            "image/png": "[encoded data removed]"
          },
          "metadata": {
            "needs_background": "light"
          }
        }
      ]
    },
    {
      "cell_type": "code",
      "source": [
        "# LASOO por legislatura\n",
        "macro=[]\n",
        "weighted=[]\n",
        "\n",
        "lr = LogisticRegression(penalty='l1', max_iter=1000, solver='liblinear')\n",
        "legislaturas=['I', 'II', 'III', 'IV', 'V', 'VI', 'VII','VIII', 'IX', 'X', 'XI', 'XII','XIII']\n",
        "\n",
        "for x in legislaturas: \n",
        "  try: \n",
        "    base_year=base[base.legislatura==x]\n",
        "    X_train, X_test, y_train, y_test = train_test_split(base_year.loc[:, base_year.columns != 'party'], base_year['party'], test_size=0.33, random_state=42)\n",
        "    train_matrix = vec.fit_transform(X_train['tokens'])\n",
        "    test_matrix = vec.transform(X_test['tokens'])  \n",
        "    lr.fit(train_matrix,y_train)\n",
        "    predictions = lr.predict(test_matrix )\n",
        "    macro.append(f1_score(predictions,y_test, average='macro'))\n",
        "    weighted.append(f1_score(predictions,y_test, average='weighted'))\n",
        "  except: \n",
        "    macro.append(np.nan)\n",
        "    weighted.append(np.nan)"
      ],
      "metadata": {
        "id": "lD5_-tTNbZzN"
      },
      "execution_count": null,
      "outputs": []
    },
    {
      "cell_type": "code",
      "source": [
        "# Yo entiendo que el resultado relevante es el macro, porque considera el desbalance de clases\n",
        "import matplotlib.pyplot as plt\n",
        "plt.plot(legislaturas, macro, marker='o')\n",
        "plt.plot(legislaturas, weighted, marker='+')"
      ],
      "metadata": {
        "colab": {
          "base_uri": "https://localhost:8080/",
          "height": 282
        },
        "outputId": "31a72ef9-6e0b-4ce7-ce7d-4cc82d009ff4",
        "id": "N5aHbMQHbZzO"
      },
      "execution_count": null,
      "outputs": [
        {
          "output_type": "execute_result",
          "data": {
            "text/plain": [
              "[<matplotlib.lines.Line2D at 0x7f7d84689ed0>]"
            ]
          },
          "metadata": {},
          "execution_count": 38
        },
        {
          "output_type": "display_data",
          "data": {
            "text/plain": [
              "<Figure size 432x288 with 1 Axes>"
            ],
            "image/png": "[encoded data removed]"
          },
          "metadata": {
            "needs_background": "light"
          }
        }
      ]
    },
    {
      "cell_type": "code",
      "source": [
        "# Relevancia de bigramas en la predicción por año\n",
        "for x in range (1979, 2020): \n",
        "  base_year=base[pd.DatetimeIndex(base.fecha).year==x]\n",
        "  X_train, X_test, y_train, y_test = train_test_split(base_year.loc[:, base_year.columns != 'party'], base_year['party'], test_size=0.33, random_state=42)\n",
        "  train_matrix = vec.fit_transform(X_train['tokens'])\n",
        "  test_matrix = vec.transform(X_test['tokens'])\n",
        "  lr = LogisticRegression(penalty='l1', max_iter=1000, solver='liblinear')\n",
        "  lr.fit(train_matrix,y_train)\n",
        "  predictions = lr.predict(test_matrix )\n",
        "  features=[]\n",
        "  for i,v in enumerate(lr.coef_[0]):\n",
        "    features.append([vec.get_feature_names_out()[i],v ])\n",
        "  sor=sorted(features, key = lambda x: x[1])\n",
        "  print(f\"Año: {x}\")\n",
        "  print(sor[:5])\n",
        "  print(sor[-5:])"
      ],
      "metadata": {
        "outputId": "85418ff8-c65c-43ea-a995-408c02b73c5b",
        "colab": {
          "base_uri": "https://localhost:8080/"
        },
        "id": "51NY-xeJbZzO"
      },
      "execution_count": null,
      "outputs": [
        {
          "output_type": "stream",
          "name": "stdout",
          "text": [
            "Año: 1979\n",
            "[['publicada boletín', -4.063523799281832], ['coalición democrática', -2.5075061266300205], ['hace falta', -1.2857829154393858], ['precedido uso', -1.2679698186637451], ['economía mercado', -1.2410702496200756]]\n",
            "[['dictamen comisión', 1.5417117602121064], ['formacion política', 1.5747339418183324], ['convenio colectivo', 1.6425493463706755], ['comité empresa', 1.6554301370650422], ['estatuto trabajador', 1.7373951778636847]]\n",
            "Año: 1980\n",
            "[['aprobado artículo', -3.6363482060947083], ['senado artículo', -2.6245428365090078], ['artículo pausa', -2.377891432931062], ['número socialista', -2.051141343157062], ['figura dictamen', -1.5833823817400556]]\n",
            "[['artículo dice', 2.2645804413037816], ['director gener', 2.4215125360664014], ['formación profesion', 2.5066526432141067], ['tan sólo', 2.7477072711318553], ['justicia militar', 3.2732748684770745]]\n",
            "Año: 1981\n",
            "[['impuesto renta', -1.9055018029717647], ['coalición democrática', -1.3968050735554187], ['frail poujad', -1.2472849427926653], ['redacción artículo', -0.8597634246745273], ['poder público', -0.6827478269645093]]\n",
            "[['pedimo separada', 1.84277373000919], ['ministerio fiscal', 1.919871046863658], ['unión centro', 2.0408246249739035], ['millon peseta', 2.2102989923933962], ['ningún tipo', 2.4480569600411655]]\n",
            "Año: 1982\n",
            "[['solé tura', -2.5791909061601244], ['función fiscalizadora', -2.4808861401559144], ['castillala mancha', -2.105853039538585], ['pueblo español', -1.7483056084853845], ['sector público', -1.7221456889051736]]\n",
            "[['código penal', 0.9875740195490407], ['nombr socialista', 0.9892950111120629], ['bravo laguna', 1.0745563364995452], ['separada artículo', 1.1321535094824524], ['millon peseta', 1.2575699854515847]]\n",
            "Año: 1983\n",
            "[['puesto trabajo', -1.8104040080694483], ['banco españa', -1.659945646937572], ['tribun constitucion', -1.5318569316187844], ['millon peseta', -1.4755240010267483], ['código penal', -1.4212051057561057]]\n",
            "[['ruiz gallardón', 2.7431057825430067], ['consiguient aprobado', 2.7888202750855284], ['tiempo máximo', 3.0111515164811293], ['pausa nulo', 3.273030500177293], ['acuerdo dictamen', 3.396654829290297]]\n",
            "Año: 1984\n",
            "[['puesto trabajo', -1.8984182003847239], ['presupuesto general', -1.694316253667687], ['función pública', -1.6405672852435658], ['comunidad económica', -1.6391857931871285], ['alguna manera', -1.4593859163415754]]\n",
            "[['conform dictamen', 2.499512777028231], ['artículo pausa', 2.765959868768077], ['vaya terminando', 2.8286885572292677], ['vasco pnv', 3.0415928243023695], ['pausa nulo', 3.3407869825151075]]\n",
            "Año: 1985\n",
            "[['económica europea', -2.2473177453669333], ['artículo proyecto', -2.196091847791173], ['opinión pública', -2.1248969826289144], ['artículo constitución', -1.8540211122450319], ['presupuesto general', -1.8294383435645265]]\n",
            "[['tría be', 2.5008775690285914], ['bravo laguna', 2.737038364181165], ['mixto suscrita', 2.988740382568238], ['senado artículo', 3.1638293871834002], ['conform dictamen', 4.181464140914036]]\n",
            "Año: 1986\n",
            "[['pueblo español', -2.609760289739241], ['tan important', -2.589157657187457], ['millon peseta', -2.204250071154218], ['cámara agraria', -2.194495504129443], ['función pública', -2.143157528804405]]\n",
            "[['coalición popular', 1.022219559553451], ['vasco pnv', 1.2237910250078718], ['unidaesquerra catalana', 1.399277749871354], ['ruego concluya', 1.6656576197901676], ['dictamen comisión', 1.7470053422842702]]\n",
            "Año: 1987\n",
            "[['portavoz socialista', -3.538636566450365], ['sociedad española', -2.517092188668517], ['pueblo español', -2.44057696999669], ['opinión pública', -2.2953644632345123], ['económica europea', -2.2152560791692517]]\n",
            "[['pérez dobón', 1.823128919041025], ['pausa nulo', 2.180742780516695], ['bravo laguna', 2.6079077944762337], ['ruego concluya', 2.6167680391550117], ['agrupación izquierda', 3.410372427079737]]\n",
            "Año: 1988\n",
            "[['tan important', -2.9361698414948423], ['director gener', -2.5316952902314545], ['opinión pública', -2.371295844339698], ['sociedad española', -2.3622440745937054], ['presupuesto general', -1.979332066297976]]\n",
            "[['bravo laguna', 1.753917030644137], ['pérez dobón', 2.1431078726938493], ['vasco pnv', 2.3718487582131664], ['ruego concluya', 2.6575439494038084], ['dictamen comisión', 3.2019255045697883]]\n",
            "Año: 1989\n",
            "[['sociedad española', -2.7488844668656265], ['opinión pública', -2.391311141358944], ['tribun constitucion', -2.1586270094046762], ['comunidad europea', -1.7736865081976518], ['medio comunicación', -1.6983576719983415]]\n",
            "[['vasco pnv', 1.0697110316742862], ['minoría catalana', 1.2544849730802656], ['desean fijar', 1.3120497347236821], ['agrupación izquierda', 1.6008617136139023], ['ruego concluya', 2.3118771400486664]]\n",
            "Año: 1990\n",
            "[['banco derecha', -5.4241196819623125], ['comunidad económica', -2.7213338697894742], ['sociedad española', -2.250431660738863], ['cualquier caso', -2.07482361026752], ['millon peseta', -2.010922402992119]]\n",
            "[['izquierda per', 1.602282826965236], ['popular pausa', 1.7396616931821873], ['dictamen comisión', 1.8083372510838127], ['catalán vergencia', 2.517650312682597], ['ruego concluya', 3.3607157225423108]]\n",
            "Año: 1991\n",
            "[['aplauso banco', -2.9092999252139506], ['artículo constitución', -2.385956300927569], ['sector público', -2.2662537242681164], ['comunidad económica', -2.148468177464188], ['medio comunicación', -2.1097238287807984]]\n",
            "[['per catalunya', 1.494009117996553], ['desean fijar', 1.5070927259191207], ['catalán vergencia', 1.6040747514831666], ['vasco pnv', 1.9648038036606463], ['ruego concluya', 2.349272288092569]]\n",
            "Año: 1992\n",
            "[['aplauso banco', -2.7243225530629127], ['sociedad española', -2.4175686942804298], ['comunidad económica', -2.381852080072448], ['hace falta', -2.2396499313249985], ['medio comunicación', -2.188283900317612]]\n",
            "[['aprobado dictamen', 2.097896968193366], ['vasco pnv', 2.2133470387413956], ['garcía fonseca', 2.6239956751063978], ['per catalunya', 3.08988015749573], ['ruego concluya', 3.4269523340098815]]\n",
            "Año: 1993\n",
            "[['sociedad española', -2.7564939640169155], ['puesto trabajo', -2.7050582429697587], ['ningún tipo', -2.151800664697301], ['crisi económica', -2.0996983176530497], ['medio comunicación', -1.965197288494117]]\n",
            "[['gonzález lizondo', 2.077567120478585], ['desean fijar', 2.1284437101792695], ['aprobado dictamen', 2.238780365243465], ['per catalunya', 2.897122292424632], ['ruego concluya', 3.013243600849328]]\n",
            "Año: 1994\n",
            "[['presupuesto general', -2.2298621142313815], ['millon peseta', -2.1582149856756128], ['medio comunicación', -2.0153463684061625], ['artículo constitución', -1.6242222612357105], ['política económica', -1.5861967582251866]]\n",
            "[['vaya concluyendo', 2.443199767561807], ['aprobado dictamen', 2.9979087646667306], ['per catalunya', 3.0653447648341787], ['ruego concluya', 3.1462803840317486], ['congreso formula', 3.463739413476823]]\n",
            "Año: 1995\n",
            "[['sociedad española', -2.10539059104724], ['unión europea', -1.9520021207944387], ['millon peseta', -1.7434036286872088], ['opinión pública', -1.694955460973291], ['izquierda unida', -1.6753609465475312]]\n",
            "[['gil lázaro', 2.251382192922985], ['aprobado dictamen', 2.417835290768524], ['per catalunya', 2.701485173147408], ['ruego concluya', 2.830650851658551], ['congreso formula', 3.62701611276068]]\n",
            "Año: 1996\n",
            "[['ruego vaya', -4.675416091391403], ['número formula', -3.5323350327634655], ['congreso formula', -3.276443687693709], ['ruego concluya', -2.0734359100309336], ['tipo interé', -2.0387188803250607]]\n",
            "[['medio comunicación', 1.3246433828567177], ['millon peseta', 1.3937187698720868], ['política social', 1.45380949643127], ['tribun constitucion', 1.4559977355114269], ['portavoz popular', 3.3836721860677264]]\n",
            "Año: 1997\n",
            "[['número formula', -4.484228296470844], ['ruego vaya', -3.200877136518062], ['fijar nombr', -1.9038456540677335], ['feder izquierda', -1.1522481278583652], ['ruego concluya', -1.0454619102135232]]\n",
            "[['convergència unió', 1.0411474516030768], ['poder judici', 1.1398578060618918], ['tan important', 1.5381396558632812], ['medio comunicación', 1.6983506401795114], ['artículo constitución', 1.7342148292353952]]\n",
            "Año: 1998\n",
            "[['ruego vaya', -3.519845575950983], ['fijar nombr', -3.256774891053306], ['número formula', -2.4067714559570197], ['congreso formula', -1.5811416372730194], ['portavoz socialista', -1.5125997460350333]]\n",
            "[['sociedad española', 1.1224319679149957], ['millon peseta', 1.142636663258669], ['tan important', 1.6470347249768855], ['diario sesion', 1.942458162447886], ['medio comunicación', 2.174690673269135]]\n",
            "Año: 1999\n",
            "[['fijar nombr', -3.9088140214502016], ['ruego vaya', -3.4703558362128284], ['número formula', -2.8301161931673278], ['nombr popular', -2.6967255830514345], ['congreso formula', -2.4586451036018766]]\n",
            "[['diario sesion', 0.8081756645331308], ['vaya concluyendo', 0.9653779476787009], ['millon peseta', 1.1679594392532024], ['servicio público', 1.3403398603046384], ['medio comunicación', 1.9457566196660607]]\n",
            "Año: 2000\n",
            "[['número formula', -3.3676051256741477], ['portavoz socialista', -2.775391665232575], ['equilibrio presupuestario', -2.35926530851252], ['socialista formula', -2.2237867021412034], ['popular congreso', -2.1945043559384048]]\n",
            "[['comisión europea', 1.7119892126095924], ['medio comunicación', 1.7663908768717627], ['opinión pública', 1.8227022853520738], ['tan important', 1.844417409619104], ['consecuencia interpelación', 1.9464760366698726]]\n",
            "Año: 2001\n",
            "[['número formula', -4.130542489112117], ['pesca alimentación', -4.030436384519018], ['congreso formula', -3.9267398668330262], ['socialista formula', -2.8845527594757288], ['ruego concluya', -2.794729979218996]]\n",
            "[['presupuesto general', 1.3562208161685991], ['sociedad española', 1.3933070280217201], ['medio comunicación', 1.5020348476696876], ['opinión pública', 1.7610042515204494], ['ministra sanidad', 2.3897577430939405]]\n",
            "Año: 2002\n",
            "[['número formula', -4.428424027625029], ['cultura deport', -3.0464499991836558], ['presentación defensa', -2.696500160563857], ['feder izquierda', -2.442618138874477], ['ocupen escaño', -2.3977514789540377]]\n",
            "[['unión europea', 1.2472826704996443], ['convergència unió', 1.4591634972401522], ['millon peseta', 1.5184546938317676], ['izquierda unida', 1.6779122732034848], ['medio comunicación', 2.30475410396731]]\n",
            "Año: 2003\n",
            "[['número formula', -4.565800109323382], ['nombr popular', -3.4866156724663795], ['nombr catalán', -3.055500718027464], ['ocupen escaño', -2.754374732788492], ['interpelación urgent', -2.317188364222071]]\n",
            "[['nacion unida', 1.4569923214854208], ['convergència unió', 1.50088458869225], ['moción consecuencia', 1.530085752571883], ['medio comunicación', 1.6474381122491728], ['opinión pública', 2.5501086247775806]]\n",
            "Año: 2004\n",
            "[['rodríguez zapatero', -3.45265426594277], ['política económica', -2.2746696367331896], ['programa elector', -2.116042378479464], ['presupuesto general', -1.7016588788599516], ['medio comunicación', -1.5367019793365768]]\n",
            "[['fijación posicion', 1.348860625118814], ['texto dictamen', 1.7861520167190483], ['catalunya verd', 1.7948952199921244], ['diputada doña', 1.8664966743670717], ['popular congreso', 1.892108306846671]]\n",
            "Año: 2005\n",
            "[['rodríguez zapatero', -3.351431989341338], ['medio comunicación', -2.506621160094032], ['ciudadano español', -2.023762736952549], ['diario sesion', -1.7760608951775425], ['cualquier caso', -1.6152595864001897]]\n",
            "[['coalición canaria', 0.9554652821525115], ['popular congreso', 1.2078965946821587], ['verdeizquierda per', 1.3212400029175262], ['fijación posicion', 1.429855185055505], ['izquierda verd', 1.5213666651197115]]\n",
            "Año: 2006\n",
            "[['rodríguez zapatero', -3.772183915359467], ['medio comunicación', -2.853200482084375], ['programa elector', -1.9581963866187044], ['estatuto cataluña', -1.8975657288570102], ['diario sesion', -1.7806258577931902]]\n",
            "[['popular congreso', 1.7499539776946147], ['sección relativo', 1.7737424269215012], ['tiempo concluido', 1.8868782860335527], ['diputada doña', 1.9591011919403067], ['turismo comercio', 1.9610776622997008]]\n",
            "Año: 2007\n",
            "[['rodríguez zapatero', -3.753981773815823], ['diario sesion', -1.8194595252542556], ['izquierda unida', -1.2164821342455998], ['sociedad española', -1.1113024790746049], ['violencia género', -0.9899617051326149]]\n",
            "[['turismo comercio', 0.4833678633222359], ['popular congreso', 1.248147446261528], ['catalunya verd', 1.5227123656842552], ['diputada doña', 2.118487191005513], ['tiempo concluido', 2.365467972443569]]\n",
            "Año: 2008\n",
            "[['crisi económica', -3.194407163149345], ['tasa paro', -2.55788966907698], ['puesto trabajo', -2.4702791936356916], ['economía española', -2.149003402078271], ['sociedad española', -1.9851634761408852]]\n",
            "[['hecho referencia', 1.5606234565278176], ['ir acabando', 1.7277783688663104], ['actividad económica', 1.881755737850618], ['turismo comercio', 2.696774616609951], ['catalunya verd', 3.210872388614819]]\n",
            "Año: 2009\n",
            "[['rodríguez zapatero', -4.623026285278432], ['política económica', -2.704211779793169], ['banco españa', -2.2655069497725018], ['puesto trabajo', -2.164235132989998], ['pequeña mediana', -2.1363496736762815]]\n",
            "[['sánchez llibr', 1.1535524758085436], ['turismo comercio', 1.2351612653024333], ['sistema financiero', 1.3394701343835758], ['puesto marcha', 1.358541634385839], ['per catalunya', 1.7720360195349623]]\n",
            "Año: 2010\n",
            "[['rodríguez zapatero', -3.907249145340146], ['puesto trabajo', -2.7662214837809924], ['política económica', -2.654341897197606], ['economía española', -2.013471279446309], ['reforma labor', -1.9473931610404176]]\n",
            "[['fernández davila', 1.7464634070239884], ['vasco pnv', 1.8885837449481337], ['sáenz santamaría', 1.9016877642234222], ['catalunya verd', 2.619648056015096], ['reducción déficit', 3.095917362368905]]\n",
            "Año: 2011\n",
            "[['rodríguez zapatero', -3.4327829132760868], ['estabilidad presupuestaria', -2.6002836631525006], ['puesto trabajo', -2.418636362203984], ['reforma labor', -2.134093859537611], ['unión europea', -1.5013287222009772]]\n",
            "[['rural marino', 1.0025532539409483], ['sánchez llibr', 1.0362877618857105], ['sáenz santamaría', 1.1054387841941402], ['turismo comercio', 1.8753811708077188], ['per catalunya', 1.8860598629822904]]\n",
            "Año: 2012\n",
            "[['reforma estructural', -3.601634011535826], ['economía competitividad', -3.4968180156181967], ['social igualdad', -2.834800851040184], ['déficit público', -2.687725879024787], ['hacienda administracion', -1.3850700363196748]]\n",
            "[['comunidad autónoma', 1.8519307151374265], ['economía española', 1.988608218455128], ['presupuesto general', 2.425911286463956], ['puesto trabajo', 2.6676219207336165], ['reforma labor', 2.71210021801206]]\n",
            "Año: 2013\n",
            "[['déficit público', -3.5495037040172055], ['pérez rubalcaba', -3.1515275299480208], ['diputada doña', -2.538390643846904], ['social igualdad', -2.358161488510136], ['extraordinaria comisión', -1.5430994958249287]]\n",
            "[['presupuesto general', 1.7645859382672147], ['política económica', 2.3158403511850696], ['puesto trabajo', 2.5533859078207937], ['deuda pública', 2.6906210049410424], ['reforma labor', 2.7582058033436323]]\n",
            "Año: 2014\n",
            "[['social igualdad', -3.533800796660703], ['acuerd celebración', -3.017957025368633], ['diputada doña', -2.672672734394877], ['energía turismo', -2.618683223412514], ['hacienda administracion', -2.608917260070071]]\n",
            "[['comunidad autónoma', 1.5251789036072878], ['seguridad social', 1.581626342448603], ['tribun constitucion', 1.7402440119779423], ['comisión europea', 1.757359371400515], ['puesto trabajo', 2.165127007961926]]\n",
            "Año: 2015\n",
            "[['creación empleo', -4.559507626931978], ['social igualdad', -2.855678777295758], ['crecimiento económico', -1.8094329084079666], ['catalán convergència', -0.993365381182309], ['hacienda administracion', -0.9385483228469145]]\n",
            "[['sociedad española', 1.6778547151318088], ['comisión europea', 1.691019813611596], ['servicio social', 1.7063360703254915], ['agencia tributaria', 1.7596794571318204], ['reforma labor', 3.97036136405582]]\n",
            "Año: 2016\n",
            "[['unido podemosen', -8.239940588656822], ['creación empleo', -3.1549226582639824], ['vasco pnv', -2.387333067714328], ['cualquier caso', -1.173958028957831], ['popular congreso', -1.140201605269761]]\n",
            "[['podemosen comú', 1.5426710883714023], ['salario mínimo', 1.6488530165856634], ['poner marcha', 1.8867352260682375], ['comú podemen', 2.204896033068808], ['reforma labor', 2.614316108916]]\n",
            "Año: 2017\n",
            "[['social igualdad', -4.133590222214906], ['creación empleo', -4.054737153790425], ['diputada doña', -2.351921620344648], ['vasco pnv', -1.9310411924711115], ['cultura deport', -1.52374110903672]]\n",
            "[['ahora mismo', 1.5545935017693215], ['comisión europea', 1.6917438648629513], ['tribun constitucion', 1.7024119073953308], ['sociedad española', 2.1715662466464534], ['buena tard', 2.536762202005047]]\n",
            "Año: 2018\n",
            "[['ministra adelant', -3.248635268082317], ['creación empleo', -3.1014809531024174], ['popular adelant', -2.7448119188381974], ['vasco pnv', -2.6959495350203135], ['diputada doña', -1.6111752424200143]]\n",
            "[['relacion cort', 1.6464537171655105], ['servicio público', 1.7654055846166539], ['comisión europea', 1.9099528485606327], ['fuerza política', 1.9241454832676228], ['ahora mismo', 2.2697395273676717]]\n",
            "Año: 2019\n",
            "[['confeder unido', -3.368474771517821], ['convalidación derogación', -2.492982925141158], ['procedimiento urgencia', -2.2576944459422825], ['popular congreso', -2.0703021927043492], ['miembro diputación', -1.6571115850847375]]\n",
            "[['pesca alimentación', 1.839533654760325], ['migracion seguridad', 1.8690067443303056], ['adoptan medida', 1.911080937084556], ['popular ciudadano', 2.7866830742452477], ['confeder unida', 6.0707352742346865]]\n"
          ]
        }
      ]
    },
    {
      "cell_type": "markdown",
      "source": [
        "# Regresión lineal"
      ],
      "metadata": {
        "id": "W4gP8QOIbRyt"
      }
    },
    {
      "cell_type": "code",
      "source": [
        "X_train, X_test, y_train, y_test = train_test_split(base.loc[:, base.columns != 'party'], base['party'], test_size=0.33, random_state=42)"
      ],
      "metadata": {
        "id": "8dGWALnQb1Mn"
      },
      "execution_count": null,
      "outputs": []
    },
    {
      "cell_type": "code",
      "source": [
        "vec = cv.fit(X_train['tokens'])"
      ],
      "metadata": {
        "id": "mJQVHbEKb1Mo"
      },
      "execution_count": null,
      "outputs": []
    },
    {
      "cell_type": "code",
      "source": [
        "train_matrix = vec.fit_transform(X_train['tokens'])\n",
        "test_matrix = vec.transform(X_test['tokens'])"
      ],
      "metadata": {
        "id": "o_UYstuib1Mo"
      },
      "execution_count": null,
      "outputs": []
    },
    {
      "cell_type": "code",
      "source": [
        "y_train.replace(['PSOE', 'PP'],[1, -1], inplace=True)\n",
        "y_test.replace(['PSOE', 'PP'],[1, -1], inplace=True)"
      ],
      "metadata": {
        "id": "24rbtPzhcfxy"
      },
      "execution_count": null,
      "outputs": []
    },
    {
      "cell_type": "code",
      "source": [
        "from sklearn.linear_model import LinearRegression\n",
        "lr = LinearRegression()"
      ],
      "metadata": {
        "id": "yD0Hk7RzbnDG"
      },
      "execution_count": null,
      "outputs": []
    },
    {
      "cell_type": "code",
      "source": [
        "lr.fit(train_matrix,y_train)"
      ],
      "metadata": {
        "colab": {
          "base_uri": "https://localhost:8080/"
        },
        "id": "ZdSt3ASFe3UD",
        "outputId": "60647fc6-7518-42ab-c751-876a7dfe36f3"
      },
      "execution_count": null,
      "outputs": [
        {
          "output_type": "execute_result",
          "data": {
            "text/plain": [
              "LinearRegression()"
            ]
          },
          "metadata": {},
          "execution_count": 45
        }
      ]
    },
    {
      "cell_type": "code",
      "source": [
        "predictions = lr.predict(test_matrix)"
      ],
      "metadata": {
        "id": "TLLuNbJxeySx"
      },
      "execution_count": null,
      "outputs": []
    },
    {
      "cell_type": "code",
      "source": [
        "print(lr.coef_)"
      ],
      "metadata": {
        "colab": {
          "base_uri": "https://localhost:8080/"
        },
        "id": "4W7M5BY6fVMR",
        "outputId": "d1f4656e-a84b-4099-904a-f6c20632420d"
      },
      "execution_count": null,
      "outputs": [
        {
          "output_type": "stream",
          "name": "stdout",
          "text": [
            "[-0.33804904 -0.05274399  0.02903043 -0.27104501 -0.05208874  0.50486513\n",
            " -1.16025729  0.10455079 -0.19398949 -0.20063203 -0.08980568 -0.04867194\n",
            "  0.73896995  0.15294982  0.81528503 -0.23139942 -0.16551829 -0.23952042\n",
            "  0.08024699 -0.03632334  0.0369103  -0.29147099  0.34662239 -0.15986918\n",
            " -0.11727466 -0.03426999 -0.20430329]\n"
          ]
        }
      ]
    },
    {
      "cell_type": "code",
      "source": [
        "import sklearn.metrics as metrics\n",
        "def regression_results(y_true, y_pred):\n",
        "\n",
        "    explained_variance=metrics.explained_variance_score(y_true, y_pred)\n",
        "    mean_absolute_error=metrics.mean_absolute_error(y_true, y_pred) \n",
        "    mse=metrics.mean_squared_error(y_true, y_pred) \n",
        "    median_absolute_error=metrics.median_absolute_error(y_true, y_pred)\n",
        "    r2=metrics.r2_score(y_true, y_pred)\n",
        "\n",
        "    print('explained_variance: ', round(explained_variance,4))    \n",
        "    print('r2: ', round(r2,4))\n",
        "    print('MAE: ', round(mean_absolute_error,4))\n",
        "    print('MSE: ', round(mse,4))\n",
        "    print('RMSE: ', round(np.sqrt(mse),4))"
      ],
      "metadata": {
        "id": "v7QJrjCzeqtb"
      },
      "execution_count": null,
      "outputs": []
    },
    {
      "cell_type": "code",
      "source": [
        "regression_results(y_test,predictions)"
      ],
      "metadata": {
        "colab": {
          "base_uri": "https://localhost:8080/"
        },
        "id": "ImFhAonne6h-",
        "outputId": "8a99c9e6-3581-4650-d94a-ec80f60b337b"
      },
      "execution_count": null,
      "outputs": [
        {
          "output_type": "stream",
          "name": "stdout",
          "text": [
            "explained_variance:  0.0278\n",
            "r2:  0.0277\n",
            "MAE:  0.9544\n",
            "MSE:  0.9562\n",
            "RMSE:  0.9779\n"
          ]
        }
      ]
    },
    {
      "cell_type": "code",
      "source": [
        "# Relevancia de bigramas en la predicción\n",
        "features=[]\n",
        "for i,v in enumerate(lr.coef_):\n",
        "  features.append([vec.get_feature_names_out()[i],v ])"
      ],
      "metadata": {
        "id": "DzFMtYNu3BAF"
      },
      "execution_count": null,
      "outputs": []
    },
    {
      "cell_type": "code",
      "source": [
        "sorted(features, key = lambda x: x[1])"
      ],
      "metadata": {
        "colab": {
          "base_uri": "https://localhost:8080/"
        },
        "outputId": "eece0a9d-3f97-4162-d125-c5a2d6d34fa6",
        "id": "5NBP6idq3BAH"
      },
      "execution_count": null,
      "outputs": [
        {
          "output_type": "execute_result",
          "data": {
            "text/plain": [
              "[['feder izquierda', -1.160257293302511],\n",
              " ['administracion pública', -0.3380490359212398],\n",
              " ['sociedad española', -0.291470992122777],\n",
              " ['convergència unió', -0.27104500594604847],\n",
              " ['puesto trabajo', -0.23952042054360018],\n",
              " ['política económica', -0.23139942075040412],\n",
              " ['unión europea', -0.20430328833340825],\n",
              " ['medio ambient', -0.20063202982127845],\n",
              " ['izquierda unida', -0.19398948883078493],\n",
              " ['presupuesto general', -0.16551829349519845],\n",
              " ['tan important', -0.15986917985315252],\n",
              " ['toma consideración', -0.11727466010774378],\n",
              " ['medio comunicación', -0.08980568158262175],\n",
              " ['artículo constitución', -0.05274398664920319],\n",
              " ['cualquier caso', -0.052088738785977466],\n",
              " ['millon peseta', -0.048671940709840184],\n",
              " ['seguridad social', -0.03632333780045771],\n",
              " ['tribun constitucion', -0.034269992439611464],\n",
              " ['comunidad autónoma', 0.029030428016970627],\n",
              " ['servicio público', 0.03691029880686206],\n",
              " ['ruego concluya', 0.08024698790516914],\n",
              " ['izquierda per', 0.10455079288520995],\n",
              " ['mismo tiempo', 0.15294982390675413],\n",
              " ['ss ss', 0.34662239420394836],\n",
              " ['dictamen comisión', 0.5048651295647537],\n",
              " ['minoría catalana', 0.7389699452858487],\n",
              " ['per catalunya', 0.8152850320780375]]"
            ]
          },
          "metadata": {},
          "execution_count": 51
        }
      ]
    },
    {
      "cell_type": "markdown",
      "source": [
        "# LDA"
      ],
      "metadata": {
        "id": "CQJqS-DP6e9D"
      }
    },
    {
      "cell_type": "code",
      "source": [
        "from sklearn.decomposition import LatentDirichletAllocation"
      ],
      "metadata": {
        "id": "HRaT7XPi6d_P"
      },
      "execution_count": 31,
      "outputs": []
    },
    {
      "cell_type": "code",
      "source": [
        "vec = cv.fit(base['tokens'])"
      ],
      "metadata": {
        "id": "-2joPfEX7Do_"
      },
      "execution_count": null,
      "outputs": []
    },
    {
      "cell_type": "code",
      "source": [
        "matrix = vec.transform(base['tokens'])"
      ],
      "metadata": {
        "id": "yTb5eqaI7M3g"
      },
      "execution_count": null,
      "outputs": []
    },
    {
      "cell_type": "code",
      "source": [
        "lda = LatentDirichletAllocation(n_components=40, max_iter=5, learning_method='online', learning_offset=50.,random_state=0)"
      ],
      "metadata": {
        "id": "r0yF9atu6h1A"
      },
      "execution_count": null,
      "outputs": []
    },
    {
      "cell_type": "code",
      "source": [
        "lda.fit(matrix)"
      ],
      "metadata": {
        "id": "_MZxKjLy6m_P",
        "outputId": "94a4d76a-a0c9-45b7-8452-302f0239fc5f",
        "colab": {
          "base_uri": "https://localhost:8080/"
        }
      },
      "execution_count": null,
      "outputs": [
        {
          "output_type": "execute_result",
          "data": {
            "text/plain": [
              "LatentDirichletAllocation(learning_method='online', learning_offset=50.0,\n",
              "                          max_iter=5, n_components=40, random_state=0)"
            ]
          },
          "metadata": {},
          "execution_count": 56
        }
      ]
    },
    {
      "cell_type": "code",
      "source": [
        "def display_topics(model, feature_names, no_top_words):\n",
        "    for topic_idx, topic in enumerate(model.components_):\n",
        "        print(\"Topic %d:\" % (topic_idx + 1))\n",
        "        print(\" , \".join([feature_names[i] for i in topic.argsort()[:-no_top_words - 1:-1]]))"
      ],
      "metadata": {
        "id": "LrMKTuXb7m1c"
      },
      "execution_count": 39,
      "outputs": []
    },
    {
      "cell_type": "code",
      "source": [
        "display_topics(lda, feature_names=cv.get_feature_names_out(), no_top_words=20)"
      ],
      "metadata": {
        "id": "9erGzWR47jSC",
        "outputId": "3eb1a2c8-fda2-4268-c144-5d1abef19a94",
        "colab": {
          "base_uri": "https://localhost:8080/"
        }
      },
      "execution_count": null,
      "outputs": [
        {
          "output_type": "stream",
          "name": "stdout",
          "text": [
            "Topic 1:\n",
            "medio comunicación , convergència unió , puesto trabajo , ss ss , seguridad social , artículo constitución , millon peseta , sociedad española , mismo tiempo , política económica , presupuesto general , tan important , administracion pública , per catalunya , medio ambient , izquierda unida , izquierda per , feder izquierda , cualquier caso , servicio público\n",
            "Topic 2:\n",
            "convergència unió , unión europea , minoría catalana , artículo constitución , comunidad autónoma , cualquier caso , dictamen comisión , feder izquierda , izquierda per , izquierda unida , medio ambient , medio comunicación , millon peseta , mismo tiempo , tribun constitucion , per catalunya , política económica , presupuesto general , puesto trabajo , ruego concluya\n",
            "Topic 3:\n",
            "toma consideración , convergència unió , tan important , artículo constitución , sociedad española , seguridad social , feder izquierda , per catalunya , tribun constitucion , izquierda per , izquierda unida , unión europea , medio ambient , comunidad autónoma , cualquier caso , dictamen comisión , mismo tiempo , medio comunicación , millon peseta , minoría catalana\n",
            "Topic 4:\n",
            "comunidad autónoma , administracion pública , mismo tiempo , presupuesto general , artículo constitución , ss ss , cualquier caso , sociedad española , convergència unió , tribun constitucion , unión europea , política económica , medio ambient , puesto trabajo , tan important , servicio público , minoría catalana , medio comunicación , per catalunya , izquierda unida\n",
            "Topic 5:\n",
            "convergència unió , unión europea , minoría catalana , artículo constitución , comunidad autónoma , cualquier caso , dictamen comisión , feder izquierda , izquierda per , izquierda unida , medio ambient , medio comunicación , millon peseta , mismo tiempo , tribun constitucion , per catalunya , política económica , presupuesto general , puesto trabajo , ruego concluya\n",
            "Topic 6:\n",
            "dictamen comisión , seguridad social , convergència unió , toma consideración , izquierda unida , unión europea , millon peseta , artículo constitución , comunidad autónoma , cualquier caso , feder izquierda , izquierda per , medio ambient , medio comunicación , mismo tiempo , minoría catalana , tribun constitucion , per catalunya , política económica , presupuesto general\n",
            "Topic 7:\n",
            "ss ss , convergència unió , artículo constitución , unión europea , tribun constitucion , comunidad autónoma , dictamen comisión , izquierda per , izquierda unida , medio ambient , medio comunicación , millon peseta , minoría catalana , administracion pública , per catalunya , política económica , puesto trabajo , seguridad social , servicio público , tan important\n",
            "Topic 8:\n",
            "convergència unió , unión europea , minoría catalana , artículo constitución , comunidad autónoma , cualquier caso , dictamen comisión , feder izquierda , izquierda per , izquierda unida , medio ambient , medio comunicación , millon peseta , mismo tiempo , tribun constitucion , per catalunya , política económica , presupuesto general , puesto trabajo , ruego concluya\n",
            "Topic 9:\n",
            "ss ss , convergència unió , tribun constitucion , política económica , medio ambient , tan important , unión europea , artículo constitución , feder izquierda , izquierda per , izquierda unida , medio comunicación , millon peseta , mismo tiempo , per catalunya , puesto trabajo , seguridad social , servicio público , sociedad española , toma consideración\n",
            "Topic 10:\n",
            "convergència unió , unión europea , minoría catalana , artículo constitución , comunidad autónoma , cualquier caso , dictamen comisión , feder izquierda , izquierda per , izquierda unida , medio ambient , medio comunicación , millon peseta , mismo tiempo , tribun constitucion , per catalunya , política económica , presupuesto general , puesto trabajo , ruego concluya\n",
            "Topic 11:\n",
            "cualquier caso , convergència unió , seguridad social , tan important , presupuesto general , izquierda per , feder izquierda , tribun constitucion , per catalunya , mismo tiempo , puesto trabajo , izquierda unida , servicio público , comunidad autónoma , medio comunicación , dictamen comisión , artículo constitución , unión europea , medio ambient , millon peseta\n",
            "Topic 12:\n",
            "convergència unió , unión europea , minoría catalana , artículo constitución , comunidad autónoma , cualquier caso , dictamen comisión , feder izquierda , izquierda per , izquierda unida , medio ambient , medio comunicación , millon peseta , mismo tiempo , tribun constitucion , per catalunya , política económica , presupuesto general , puesto trabajo , ruego concluya\n",
            "Topic 13:\n",
            "dictamen comisión , convergència unió , administracion pública , ss ss , feder izquierda , izquierda per , izquierda unida , medio ambient , per catalunya , millon peseta , artículo constitución , comunidad autónoma , cualquier caso , medio comunicación , unión europea , minoría catalana , tribun constitucion , política económica , presupuesto general , puesto trabajo\n",
            "Topic 14:\n",
            "convergència unió , unión europea , minoría catalana , artículo constitución , comunidad autónoma , cualquier caso , dictamen comisión , feder izquierda , izquierda per , izquierda unida , medio ambient , medio comunicación , millon peseta , mismo tiempo , tribun constitucion , per catalunya , política económica , presupuesto general , puesto trabajo , ruego concluya\n",
            "Topic 15:\n",
            "convergència unió , unión europea , minoría catalana , artículo constitución , comunidad autónoma , cualquier caso , dictamen comisión , feder izquierda , izquierda per , izquierda unida , medio ambient , medio comunicación , millon peseta , mismo tiempo , tribun constitucion , per catalunya , política económica , presupuesto general , puesto trabajo , ruego concluya\n",
            "Topic 16:\n",
            "sociedad española , convergència unió , tribun constitucion , tan important , unión europea , artículo constitución , comunidad autónoma , feder izquierda , izquierda per , izquierda unida , medio ambient , medio comunicación , minoría catalana , mismo tiempo , per catalunya , presupuesto general , puesto trabajo , seguridad social , servicio público , ss ss\n",
            "Topic 17:\n",
            "presupuesto general , comunidad autónoma , convergència unió , administracion pública , ss ss , artículo constitución , tribun constitucion , unión europea , medio ambient , puesto trabajo , toma consideración , tan important , sociedad española , cualquier caso , feder izquierda , izquierda per , izquierda unida , mismo tiempo , medio comunicación , millon peseta\n",
            "Topic 18:\n",
            "convergència unió , unión europea , minoría catalana , artículo constitución , comunidad autónoma , cualquier caso , dictamen comisión , feder izquierda , izquierda per , izquierda unida , medio ambient , medio comunicación , millon peseta , mismo tiempo , tribun constitucion , per catalunya , política económica , presupuesto general , puesto trabajo , ruego concluya\n",
            "Topic 19:\n",
            "per catalunya , izquierda unida , izquierda per , feder izquierda , convergència unió , toma consideración , ss ss , unión europea , artículo constitución , comunidad autónoma , medio ambient , millon peseta , mismo tiempo , política económica , puesto trabajo , tan important , administracion pública , tribun constitucion , minoría catalana , medio comunicación\n",
            "Topic 20:\n",
            "convergència unió , unión europea , minoría catalana , artículo constitución , comunidad autónoma , cualquier caso , dictamen comisión , feder izquierda , izquierda per , izquierda unida , medio ambient , medio comunicación , millon peseta , mismo tiempo , tribun constitucion , per catalunya , política económica , presupuesto general , puesto trabajo , ruego concluya\n",
            "Topic 21:\n",
            "unión europea , mismo tiempo , seguridad social , convergència unió , tan important , izquierda unida , comunidad autónoma , servicio público , política económica , puesto trabajo , medio ambient , ss ss , medio comunicación , tribun constitucion , presupuesto general , toma consideración , cualquier caso , feder izquierda , artículo constitución , dictamen comisión\n",
            "Topic 22:\n",
            "ruego concluya , convergència unió , unión europea , minoría catalana , artículo constitución , comunidad autónoma , cualquier caso , dictamen comisión , feder izquierda , izquierda per , izquierda unida , medio ambient , medio comunicación , millon peseta , mismo tiempo , tribun constitucion , per catalunya , política económica , presupuesto general , puesto trabajo\n",
            "Topic 23:\n",
            "convergència unió , unión europea , minoría catalana , artículo constitución , comunidad autónoma , cualquier caso , dictamen comisión , feder izquierda , izquierda per , izquierda unida , medio ambient , medio comunicación , millon peseta , mismo tiempo , tribun constitucion , per catalunya , política económica , presupuesto general , puesto trabajo , ruego concluya\n",
            "Topic 24:\n",
            "puesto trabajo , mismo tiempo , seguridad social , presupuesto general , convergència unió , sociedad española , tan important , millon peseta , ss ss , artículo constitución , comunidad autónoma , medio ambient , cualquier caso , dictamen comisión , feder izquierda , izquierda per , izquierda unida , unión europea , medio comunicación , minoría catalana\n",
            "Topic 25:\n",
            "seguridad social , comunidad autónoma , sociedad española , millon peseta , ss ss , tan important , cualquier caso , artículo constitución , convergència unió , política económica , mismo tiempo , minoría catalana , administracion pública , presupuesto general , puesto trabajo , servicio público , medio comunicación , unión europea , izquierda unida , tribun constitucion\n",
            "Topic 26:\n",
            "convergència unió , unión europea , minoría catalana , artículo constitución , comunidad autónoma , cualquier caso , dictamen comisión , feder izquierda , izquierda per , izquierda unida , medio ambient , medio comunicación , millon peseta , mismo tiempo , tribun constitucion , per catalunya , política económica , presupuesto general , puesto trabajo , ruego concluya\n",
            "Topic 27:\n",
            "política económica , seguridad social , puesto trabajo , mismo tiempo , sociedad española , administracion pública , tan important , ss ss , millon peseta , convergència unió , tribun constitucion , comunidad autónoma , servicio público , artículo constitución , presupuesto general , medio comunicación , minoría catalana , medio ambient , izquierda unida , izquierda per\n",
            "Topic 28:\n",
            "convergència unió , unión europea , minoría catalana , artículo constitución , comunidad autónoma , cualquier caso , dictamen comisión , feder izquierda , izquierda per , izquierda unida , medio ambient , medio comunicación , millon peseta , mismo tiempo , tribun constitucion , per catalunya , política económica , presupuesto general , puesto trabajo , ruego concluya\n",
            "Topic 29:\n",
            "medio ambient , ss ss , convergència unió , artículo constitución , unión europea , millon peseta , medio comunicación , política económica , tan important , comunidad autónoma , cualquier caso , dictamen comisión , feder izquierda , izquierda per , izquierda unida , mismo tiempo , tribun constitucion , per catalunya , presupuesto general , puesto trabajo\n",
            "Topic 30:\n",
            "millon peseta , ss ss , comunidad autónoma , presupuesto general , mismo tiempo , seguridad social , política económica , cualquier caso , servicio público , convergència unió , sociedad española , puesto trabajo , tan important , artículo constitución , tribun constitucion , unión europea , administracion pública , medio comunicación , medio ambient , izquierda unida\n",
            "Topic 31:\n",
            "minoría catalana , convergència unió , ss ss , unión europea , artículo constitución , comunidad autónoma , cualquier caso , dictamen comisión , feder izquierda , izquierda per , izquierda unida , medio ambient , medio comunicación , millon peseta , mismo tiempo , tribun constitucion , per catalunya , política económica , presupuesto general , puesto trabajo\n",
            "Topic 32:\n",
            "convergència unió , unión europea , minoría catalana , artículo constitución , comunidad autónoma , cualquier caso , dictamen comisión , feder izquierda , izquierda per , izquierda unida , medio ambient , medio comunicación , millon peseta , mismo tiempo , tribun constitucion , per catalunya , política económica , presupuesto general , puesto trabajo , ruego concluya\n",
            "Topic 33:\n",
            "tan important , convergència unió , unión europea , presupuesto general , artículo constitución , feder izquierda , izquierda per , izquierda unida , millon peseta , per catalunya , mismo tiempo , ss ss , política económica , puesto trabajo , tribun constitucion , minoría catalana , ruego concluya , medio comunicación , medio ambient , seguridad social\n",
            "Topic 34:\n",
            "minoría catalana , convergència unió , mismo tiempo , ss ss , seguridad social , izquierda unida , tribun constitucion , medio comunicación , artículo constitución , comunidad autónoma , cualquier caso , dictamen comisión , feder izquierda , izquierda per , medio ambient , unión europea , millon peseta , per catalunya , política económica , presupuesto general\n",
            "Topic 35:\n",
            "artículo constitución , convergència unió , mismo tiempo , per catalunya , cualquier caso , feder izquierda , izquierda per , izquierda unida , medio ambient , millon peseta , tribun constitucion , administracion pública , política económica , puesto trabajo , seguridad social , servicio público , sociedad española , ss ss , tan important , toma consideración\n",
            "Topic 36:\n",
            "ss ss , convergència unió , mismo tiempo , tribun constitucion , comunidad autónoma , dictamen comisión , feder izquierda , izquierda per , izquierda unida , medio ambient , medio comunicación , millon peseta , administracion pública , per catalunya , política económica , seguridad social , servicio público , sociedad española , tan important , minoría catalana\n",
            "Topic 37:\n",
            "administracion pública , comunidad autónoma , tribun constitucion , convergència unió , ss ss , artículo constitución , política económica , millon peseta , cualquier caso , dictamen comisión , feder izquierda , izquierda per , izquierda unida , medio ambient , medio comunicación , unión europea , minoría catalana , per catalunya , presupuesto general , puesto trabajo\n",
            "Topic 38:\n",
            "convergència unió , unión europea , minoría catalana , artículo constitución , comunidad autónoma , cualquier caso , dictamen comisión , feder izquierda , izquierda per , izquierda unida , medio ambient , medio comunicación , millon peseta , mismo tiempo , tribun constitucion , per catalunya , política económica , presupuesto general , puesto trabajo , ruego concluya\n",
            "Topic 39:\n",
            "servicio público , convergència unió , administracion pública , tan important , política económica , millon peseta , artículo constitución , comunidad autónoma , cualquier caso , feder izquierda , izquierda per , izquierda unida , medio ambient , medio comunicación , unión europea , minoría catalana , tribun constitucion , per catalunya , presupuesto general , puesto trabajo\n",
            "Topic 40:\n",
            "tribun constitucion , comunidad autónoma , artículo constitución , ss ss , toma consideración , cualquier caso , convergència unió , tan important , administracion pública , medio comunicación , mismo tiempo , presupuesto general , puesto trabajo , dictamen comisión , unión europea , izquierda unida , política económica , per catalunya , minoría catalana , millon peseta\n"
          ]
        }
      ]
    },
    {
      "cell_type": "code",
      "source": [
        "# LDA genera una matríz en la que asigna a cada uno de los 200 bigramas una probabilidad de ocurrencia para cada uno de los 40 topics\n",
        "lda.components_.shape"
      ],
      "metadata": {
        "id": "RWahOK2KA1sZ",
        "outputId": "7c403a9d-0636-408a-ff96-089317ccb48b",
        "colab": {
          "base_uri": "https://localhost:8080/"
        }
      },
      "execution_count": null,
      "outputs": [
        {
          "output_type": "execute_result",
          "data": {
            "text/plain": [
              "(40, 27)"
            ]
          },
          "metadata": {},
          "execution_count": 59
        }
      ]
    },
    {
      "cell_type": "markdown",
      "source": [
        "# Número óptimo de clusters"
      ],
      "metadata": {
        "id": "dyPxwlJ9meig"
      }
    },
    {
      "cell_type": "code",
      "source": [
        "# LDA en Sklearn tiene un resultado de score correspondiente al log-likelihood. En base a ese criterio se identifica el número óptimo de clusters. \n",
        "\n",
        "from sklearn.model_selection import GridSearchCV\n",
        "\n",
        "search_params = {'n_components': [5, 10, 20, 40, 60, 80]}\n",
        "\n",
        "model = LatentDirichletAllocation(n_components=40, max_iter=5, learning_method='online', learning_offset=50.,random_state=0)\n",
        "\n",
        "gridsearch = GridSearchCV(model,\n",
        "                          param_grid=search_params,\n",
        "                          n_jobs=-1,\n",
        "                          verbose=1)\n",
        "gridsearch.fit(matrix)\n",
        "\n",
        "## Save the best model\n",
        "best_lda = gridsearch.best_estimator_"
      ],
      "metadata": {
        "id": "XS4CHUw4uYWf",
        "outputId": "44a9ce5f-d36c-4f44-fafa-70e936195423",
        "colab": {
          "base_uri": "https://localhost:8080/"
        }
      },
      "execution_count": null,
      "outputs": [
        {
          "metadata": {
            "tags": null
          },
          "name": "stdout",
          "output_type": "stream",
          "text": [
            "Fitting 5 folds for each of 6 candidates, totalling 30 fits\n"
          ]
        },
        {
          "metadata": {
            "tags": null
          },
          "name": "stderr",
          "output_type": "stream",
          "text": [
            "/usr/local/lib/python3.7/dist-packages/joblib/externals/loky/process_executor.py:703: UserWarning: A worker stopped while some jobs were given to the executor. This can be caused by a too short worker timeout or by a memory leak.\n",
            "  \"timeout or by a memory leak.\", UserWarning\n"
          ]
        }
      ]
    },
    {
      "cell_type": "code",
      "source": [
        "cv_results_df = pd.DataFrame(gridsearch.cv_results_)\n",
        "cv_results_df"
      ],
      "metadata": {
        "id": "DA9TfhX-r4bX",
        "outputId": "e7b7360a-d7a0-49a5-94c3-b5ac022d1fbb",
        "colab": {
          "base_uri": "https://localhost:8080/",
          "height": 406
        }
      },
      "execution_count": null,
      "outputs": [
        {
          "output_type": "execute_result",
          "data": {
            "text/plain": [
              "   mean_fit_time  std_fit_time  mean_score_time  std_score_time  \\\n",
              "0     136.618700      0.592733         7.420801        0.163824   \n",
              "1     138.595119      6.237678         7.946729        0.492273   \n",
              "2     131.686863      0.898652         8.451974        1.240034   \n",
              "3     140.551131      1.683891         7.853699        0.521050   \n",
              "4     149.272831      1.179768         8.214815        0.592429   \n",
              "5     160.358622      5.047773         7.536364        1.657677   \n",
              "\n",
              "  param_n_components                params  split0_test_score  \\\n",
              "0                  5   {'n_components': 5}     -811031.922650   \n",
              "1                 10  {'n_components': 10}     -798261.670584   \n",
              "2                 20  {'n_components': 20}     -787584.715194   \n",
              "3                 40  {'n_components': 40}     -763159.197902   \n",
              "4                 60  {'n_components': 60}     -733374.479089   \n",
              "5                 80  {'n_components': 80}     -741529.664809   \n",
              "\n",
              "   split1_test_score  split2_test_score  split3_test_score  split4_test_score  \\\n",
              "0      -7.723718e+05      -7.529870e+05      -6.451140e+05      -6.624863e+05   \n",
              "1      -7.735911e+05      -7.472863e+05      -6.541962e+05      -6.667444e+05   \n",
              "2      -7.598659e+05      -7.342845e+05      -6.529819e+05      -6.652835e+05   \n",
              "3      -9.076660e+05      -1.646795e+06      -1.401849e+06      -1.249602e+06   \n",
              "4      -1.949118e+06      -2.392014e+06      -2.029778e+06      -1.699787e+06   \n",
              "5      -2.747349e+06      -3.362403e+06      -2.993788e+06      -2.542939e+06   \n",
              "\n",
              "   mean_test_score  std_test_score  rank_test_score  \n",
              "0    -7.287982e+05    64259.566423                3  \n",
              "1    -7.280159e+05    57595.936675                2  \n",
              "2    -7.200001e+05    52623.860831                1  \n",
              "3    -1.193814e+06   322157.348297                4  \n",
              "4    -1.760814e+06   559565.771464                5  \n",
              "5    -2.477602e+06   909978.149701                6  "
            ],
            "text/html": [
              "\n",
              "  <div id=\"df-07cf38c1-e717-4523-b185-694c6e81f22e\">\n",
              "    <div class=\"colab-df-container\">\n",
              "      <div>\n",
              "<style scoped>\n",
              "    .dataframe tbody tr th:only-of-type {\n",
              "        vertical-align: middle;\n",
              "    }\n",
              "\n",
              "    .dataframe tbody tr th {\n",
              "        vertical-align: top;\n",
              "    }\n",
              "\n",
              "    .dataframe thead th {\n",
              "        text-align: right;\n",
              "    }\n",
              "</style>\n",
              "<table border=\"1\" class=\"dataframe\">\n",
              "  <thead>\n",
              "    <tr style=\"text-align: right;\">\n",
              "      <th></th>\n",
              "      <th>mean_fit_time</th>\n",
              "      <th>std_fit_time</th>\n",
              "      <th>mean_score_time</th>\n",
              "      <th>std_score_time</th>\n",
              "      <th>param_n_components</th>\n",
              "      <th>params</th>\n",
              "      <th>split0_test_score</th>\n",
              "      <th>split1_test_score</th>\n",
              "      <th>split2_test_score</th>\n",
              "      <th>split3_test_score</th>\n",
              "      <th>split4_test_score</th>\n",
              "      <th>mean_test_score</th>\n",
              "      <th>std_test_score</th>\n",
              "      <th>rank_test_score</th>\n",
              "    </tr>\n",
              "  </thead>\n",
              "  <tbody>\n",
              "    <tr>\n",
              "      <th>0</th>\n",
              "      <td>136.618700</td>\n",
              "      <td>0.592733</td>\n",
              "      <td>7.420801</td>\n",
              "      <td>0.163824</td>\n",
              "      <td>5</td>\n",
              "      <td>{'n_components': 5}</td>\n",
              "      <td>-811031.922650</td>\n",
              "      <td>-7.723718e+05</td>\n",
              "      <td>-7.529870e+05</td>\n",
              "      <td>-6.451140e+05</td>\n",
              "      <td>-6.624863e+05</td>\n",
              "      <td>-7.287982e+05</td>\n",
              "      <td>64259.566423</td>\n",
              "      <td>3</td>\n",
              "    </tr>\n",
              "    <tr>\n",
              "      <th>1</th>\n",
              "      <td>138.595119</td>\n",
              "      <td>6.237678</td>\n",
              "      <td>7.946729</td>\n",
              "      <td>0.492273</td>\n",
              "      <td>10</td>\n",
              "      <td>{'n_components': 10}</td>\n",
              "      <td>-798261.670584</td>\n",
              "      <td>-7.735911e+05</td>\n",
              "      <td>-7.472863e+05</td>\n",
              "      <td>-6.541962e+05</td>\n",
              "      <td>-6.667444e+05</td>\n",
              "      <td>-7.280159e+05</td>\n",
              "      <td>57595.936675</td>\n",
              "      <td>2</td>\n",
              "    </tr>\n",
              "    <tr>\n",
              "      <th>2</th>\n",
              "      <td>131.686863</td>\n",
              "      <td>0.898652</td>\n",
              "      <td>8.451974</td>\n",
              "      <td>1.240034</td>\n",
              "      <td>20</td>\n",
              "      <td>{'n_components': 20}</td>\n",
              "      <td>-787584.715194</td>\n",
              "      <td>-7.598659e+05</td>\n",
              "      <td>-7.342845e+05</td>\n",
              "      <td>-6.529819e+05</td>\n",
              "      <td>-6.652835e+05</td>\n",
              "      <td>-7.200001e+05</td>\n",
              "      <td>52623.860831</td>\n",
              "      <td>1</td>\n",
              "    </tr>\n",
              "    <tr>\n",
              "      <th>3</th>\n",
              "      <td>140.551131</td>\n",
              "      <td>1.683891</td>\n",
              "      <td>7.853699</td>\n",
              "      <td>0.521050</td>\n",
              "      <td>40</td>\n",
              "      <td>{'n_components': 40}</td>\n",
              "      <td>-763159.197902</td>\n",
              "      <td>-9.076660e+05</td>\n",
              "      <td>-1.646795e+06</td>\n",
              "      <td>-1.401849e+06</td>\n",
              "      <td>-1.249602e+06</td>\n",
              "      <td>-1.193814e+06</td>\n",
              "      <td>322157.348297</td>\n",
              "      <td>4</td>\n",
              "    </tr>\n",
              "    <tr>\n",
              "      <th>4</th>\n",
              "      <td>149.272831</td>\n",
              "      <td>1.179768</td>\n",
              "      <td>8.214815</td>\n",
              "      <td>0.592429</td>\n",
              "      <td>60</td>\n",
              "      <td>{'n_components': 60}</td>\n",
              "      <td>-733374.479089</td>\n",
              "      <td>-1.949118e+06</td>\n",
              "      <td>-2.392014e+06</td>\n",
              "      <td>-2.029778e+06</td>\n",
              "      <td>-1.699787e+06</td>\n",
              "      <td>-1.760814e+06</td>\n",
              "      <td>559565.771464</td>\n",
              "      <td>5</td>\n",
              "    </tr>\n",
              "    <tr>\n",
              "      <th>5</th>\n",
              "      <td>160.358622</td>\n",
              "      <td>5.047773</td>\n",
              "      <td>7.536364</td>\n",
              "      <td>1.657677</td>\n",
              "      <td>80</td>\n",
              "      <td>{'n_components': 80}</td>\n",
              "      <td>-741529.664809</td>\n",
              "      <td>-2.747349e+06</td>\n",
              "      <td>-3.362403e+06</td>\n",
              "      <td>-2.993788e+06</td>\n",
              "      <td>-2.542939e+06</td>\n",
              "      <td>-2.477602e+06</td>\n",
              "      <td>909978.149701</td>\n",
              "      <td>6</td>\n",
              "    </tr>\n",
              "  </tbody>\n",
              "</table>\n",
              "</div>\n",
              "      <button class=\"colab-df-convert\" onclick=\"convertToInteractive('df-07cf38c1-e717-4523-b185-694c6e81f22e')\"\n",
              "              title=\"Convert this dataframe to an interactive table.\"\n",
              "              style=\"display:none;\">\n",
              "        \n",
              "  <svg xmlns=\"http://www.w3.org/2000/svg\" height=\"24px\"viewBox=\"0 0 24 24\"\n",
              "       width=\"24px\">\n",
              "    <path d=\"M0 0h24v24H0V0z\" fill=\"none\"/>\n",
              "    <path d=\"M18.56 5.44l.94 2.06.94-2.06 2.06-.94-2.06-.94-.94-2.06-.94 2.06-2.06.94zm-11 1L8.5 8.5l.94-2.06 2.06-.94-2.06-.94L8.5 2.5l-.94 2.06-2.06.94zm10 10l.94 2.06.94-2.06 2.06-.94-2.06-.94-.94-2.06-.94 2.06-2.06.94z\"/><path d=\"M17.41 7.96l-1.37-1.37c-.4-.4-.92-.59-1.43-.59-.52 0-1.04.2-1.43.59L10.3 9.45l-7.72 7.72c-.78.78-.78 2.05 0 2.83L4 21.41c.39.39.9.59 1.41.59.51 0 1.02-.2 1.41-.59l7.78-7.78 2.81-2.81c.8-.78.8-2.07 0-2.86zM5.41 20L4 18.59l7.72-7.72 1.47 1.35L5.41 20z\"/>\n",
              "  </svg>\n",
              "      </button>\n",
              "      \n",
              "  <style>\n",
              "    .colab-df-container {\n",
              "      display:flex;\n",
              "      flex-wrap:wrap;\n",
              "      gap: 12px;\n",
              "    }\n",
              "\n",
              "    .colab-df-convert {\n",
              "      background-color: #E8F0FE;\n",
              "      border: none;\n",
              "      border-radius: 50%;\n",
              "      cursor: pointer;\n",
              "      display: none;\n",
              "      fill: #1967D2;\n",
              "      height: 32px;\n",
              "      padding: 0 0 0 0;\n",
              "      width: 32px;\n",
              "    }\n",
              "\n",
              "    .colab-df-convert:hover {\n",
              "      background-color: #E2EBFA;\n",
              "      box-shadow: 0px 1px 2px rgba(60, 64, 67, 0.3), 0px 1px 3px 1px rgba(60, 64, 67, 0.15);\n",
              "      fill: #174EA6;\n",
              "    }\n",
              "\n",
              "    [theme=dark] .colab-df-convert {\n",
              "      background-color: #3B4455;\n",
              "      fill: #D2E3FC;\n",
              "    }\n",
              "\n",
              "    [theme=dark] .colab-df-convert:hover {\n",
              "      background-color: #434B5C;\n",
              "      box-shadow: 0px 1px 3px 1px rgba(0, 0, 0, 0.15);\n",
              "      filter: drop-shadow(0px 1px 2px rgba(0, 0, 0, 0.3));\n",
              "      fill: #FFFFFF;\n",
              "    }\n",
              "  </style>\n",
              "\n",
              "      <script>\n",
              "        const buttonEl =\n",
              "          document.querySelector('#df-07cf38c1-e717-4523-b185-694c6e81f22e button.colab-df-convert');\n",
              "        buttonEl.style.display =\n",
              "          google.colab.kernel.accessAllowed ? 'block' : 'none';\n",
              "\n",
              "        async function convertToInteractive(key) {\n",
              "          const element = document.querySelector('#df-07cf38c1-e717-4523-b185-694c6e81f22e');\n",
              "          const dataTable =\n",
              "            await google.colab.kernel.invokeFunction('convertToInteractive',\n",
              "                                                     [key], {});\n",
              "          if (!dataTable) return;\n",
              "\n",
              "          const docLinkHtml = 'Like what you see? Visit the ' +\n",
              "            '<a target=\"_blank\" href=https://colab.research.google.com/notebooks/data_table.ipynb>data table notebook</a>'\n",
              "            + ' to learn more about interactive tables.';\n",
              "          element.innerHTML = '';\n",
              "          dataTable['output_type'] = 'display_data';\n",
              "          await google.colab.output.renderOutput(dataTable, element);\n",
              "          const docLink = document.createElement('div');\n",
              "          docLink.innerHTML = docLinkHtml;\n",
              "          element.appendChild(docLink);\n",
              "        }\n",
              "      </script>\n",
              "    </div>\n",
              "  </div>\n",
              "  "
            ]
          },
          "metadata": {},
          "execution_count": 15
        }
      ]
    },
    {
      "cell_type": "code",
      "source": [
        "import seaborn as sns\n",
        "sns.set(rc={\"figure.dpi\":150, 'savefig.dpi':150})\n",
        "sns.pointplot(x=\"param_n_components\",\n",
        "              y=\"mean_test_score\",\n",
        "              data=cv_results_df)"
      ],
      "metadata": {
        "id": "l8jUPczWsI5W",
        "outputId": "98bc40b3-5df6-4444-fdd9-61cb51e35554",
        "colab": {
          "base_uri": "https://localhost:8080/",
          "height": 616
        }
      },
      "execution_count": null,
      "outputs": [
        {
          "output_type": "execute_result",
          "data": {
            "text/plain": [
              "<matplotlib.axes._subplots.AxesSubplot at 0x7fe5d1809190>"
            ]
          },
          "metadata": {},
          "execution_count": 16
        },
        {
          "output_type": "display_data",
          "data": {
            "text/plain": [
              "<Figure size 900x600 with 1 Axes>"
            ],
            "image/png": "[encoded data removed]"
          },
          "metadata": {}
        }
      ]
    },
    {
      "cell_type": "code",
      "source": [
        "from sklearn.model_selection import GridSearchCV\n",
        "\n",
        "search_params = {'n_components': [10, 13, 16, 20, 25]}\n",
        "\n",
        "model = LatentDirichletAllocation(n_components=40, max_iter=5, learning_method='online', learning_offset=50.,random_state=0)\n",
        "\n",
        "gridsearch = GridSearchCV(model,\n",
        "                          param_grid=search_params,\n",
        "                          n_jobs=-1,\n",
        "                          verbose=1)\n",
        "gridsearch.fit(matrix)\n",
        "\n",
        "## Save the best model\n",
        "best_lda = gridsearch.best_estimator_"
      ],
      "metadata": {
        "id": "5EAdoz4dM3vS",
        "outputId": "0ca0ad17-f96a-4468-d1ab-78e7e8ea051c",
        "colab": {
          "base_uri": "https://localhost:8080/"
        }
      },
      "execution_count": null,
      "outputs": [
        {
          "output_type": "stream",
          "name": "stdout",
          "text": [
            "Fitting 5 folds for each of 5 candidates, totalling 25 fits\n"
          ]
        }
      ]
    },
    {
      "cell_type": "code",
      "source": [
        "cv_results_df = pd.DataFrame(gridsearch.cv_results_)\n",
        "cv_results_df"
      ],
      "metadata": {
        "id": "Pcy8JhV9NBgm",
        "outputId": "10b9a363-a8b8-4e3f-ab99-57cf66cbf974",
        "colab": {
          "base_uri": "https://localhost:8080/",
          "height": 357
        }
      },
      "execution_count": null,
      "outputs": [
        {
          "output_type": "execute_result",
          "data": {
            "text/plain": [
              "   mean_fit_time  std_fit_time  mean_score_time  std_score_time  \\\n",
              "0     138.310487      6.740506         7.589074        0.363640   \n",
              "1     132.168049      0.781269         7.202725        0.071471   \n",
              "2     129.670389      1.437728         7.440769        0.589926   \n",
              "3     129.866488      1.490027         7.383760        0.307759   \n",
              "4     121.265784     23.351110         6.868114        1.652822   \n",
              "\n",
              "  param_n_components                params  split0_test_score  \\\n",
              "0                 10  {'n_components': 10}     -798261.670584   \n",
              "1                 13  {'n_components': 13}     -790685.285173   \n",
              "2                 16  {'n_components': 16}     -784743.553357   \n",
              "3                 20  {'n_components': 20}     -787584.715194   \n",
              "4                 25  {'n_components': 25}     -772228.684074   \n",
              "\n",
              "   split1_test_score  split2_test_score  split3_test_score  split4_test_score  \\\n",
              "0     -773591.100973     -747286.344781     -654196.182542     -666744.441302   \n",
              "1     -765957.323160     -740329.303618     -650178.503239     -663212.008922   \n",
              "2     -761340.035219     -739140.206595     -649034.075836     -662479.479368   \n",
              "3     -759865.929633     -734284.472318     -652981.860302     -665283.545687   \n",
              "4     -768742.541114     -743966.655889     -655152.586377     -667427.983815   \n",
              "\n",
              "   mean_test_score  std_test_score  rank_test_score  \n",
              "0   -728015.948036    57595.936675                5  \n",
              "1   -722072.484822    55857.330856                4  \n",
              "2   -719347.470075    54055.004267                1  \n",
              "3   -720000.104627    52623.860831                2  \n",
              "4   -721503.690254    50270.806371                3  "
            ],
            "text/html": [
              "\n",
              "  <div id=\"df-d8ca0dd9-bea1-4872-8fb3-04a977175c19\">\n",
              "    <div class=\"colab-df-container\">\n",
              "      <div>\n",
              "<style scoped>\n",
              "    .dataframe tbody tr th:only-of-type {\n",
              "        vertical-align: middle;\n",
              "    }\n",
              "\n",
              "    .dataframe tbody tr th {\n",
              "        vertical-align: top;\n",
              "    }\n",
              "\n",
              "    .dataframe thead th {\n",
              "        text-align: right;\n",
              "    }\n",
              "</style>\n",
              "<table border=\"1\" class=\"dataframe\">\n",
              "  <thead>\n",
              "    <tr style=\"text-align: right;\">\n",
              "      <th></th>\n",
              "      <th>mean_fit_time</th>\n",
              "      <th>std_fit_time</th>\n",
              "      <th>mean_score_time</th>\n",
              "      <th>std_score_time</th>\n",
              "      <th>param_n_components</th>\n",
              "      <th>params</th>\n",
              "      <th>split0_test_score</th>\n",
              "      <th>split1_test_score</th>\n",
              "      <th>split2_test_score</th>\n",
              "      <th>split3_test_score</th>\n",
              "      <th>split4_test_score</th>\n",
              "      <th>mean_test_score</th>\n",
              "      <th>std_test_score</th>\n",
              "      <th>rank_test_score</th>\n",
              "    </tr>\n",
              "  </thead>\n",
              "  <tbody>\n",
              "    <tr>\n",
              "      <th>0</th>\n",
              "      <td>138.310487</td>\n",
              "      <td>6.740506</td>\n",
              "      <td>7.589074</td>\n",
              "      <td>0.363640</td>\n",
              "      <td>10</td>\n",
              "      <td>{'n_components': 10}</td>\n",
              "      <td>-798261.670584</td>\n",
              "      <td>-773591.100973</td>\n",
              "      <td>-747286.344781</td>\n",
              "      <td>-654196.182542</td>\n",
              "      <td>-666744.441302</td>\n",
              "      <td>-728015.948036</td>\n",
              "      <td>57595.936675</td>\n",
              "      <td>5</td>\n",
              "    </tr>\n",
              "    <tr>\n",
              "      <th>1</th>\n",
              "      <td>132.168049</td>\n",
              "      <td>0.781269</td>\n",
              "      <td>7.202725</td>\n",
              "      <td>0.071471</td>\n",
              "      <td>13</td>\n",
              "      <td>{'n_components': 13}</td>\n",
              "      <td>-790685.285173</td>\n",
              "      <td>-765957.323160</td>\n",
              "      <td>-740329.303618</td>\n",
              "      <td>-650178.503239</td>\n",
              "      <td>-663212.008922</td>\n",
              "      <td>-722072.484822</td>\n",
              "      <td>55857.330856</td>\n",
              "      <td>4</td>\n",
              "    </tr>\n",
              "    <tr>\n",
              "      <th>2</th>\n",
              "      <td>129.670389</td>\n",
              "      <td>1.437728</td>\n",
              "      <td>7.440769</td>\n",
              "      <td>0.589926</td>\n",
              "      <td>16</td>\n",
              "      <td>{'n_components': 16}</td>\n",
              "      <td>-784743.553357</td>\n",
              "      <td>-761340.035219</td>\n",
              "      <td>-739140.206595</td>\n",
              "      <td>-649034.075836</td>\n",
              "      <td>-662479.479368</td>\n",
              "      <td>-719347.470075</td>\n",
              "      <td>54055.004267</td>\n",
              "      <td>1</td>\n",
              "    </tr>\n",
              "    <tr>\n",
              "      <th>3</th>\n",
              "      <td>129.866488</td>\n",
              "      <td>1.490027</td>\n",
              "      <td>7.383760</td>\n",
              "      <td>0.307759</td>\n",
              "      <td>20</td>\n",
              "      <td>{'n_components': 20}</td>\n",
              "      <td>-787584.715194</td>\n",
              "      <td>-759865.929633</td>\n",
              "      <td>-734284.472318</td>\n",
              "      <td>-652981.860302</td>\n",
              "      <td>-665283.545687</td>\n",
              "      <td>-720000.104627</td>\n",
              "      <td>52623.860831</td>\n",
              "      <td>2</td>\n",
              "    </tr>\n",
              "    <tr>\n",
              "      <th>4</th>\n",
              "      <td>121.265784</td>\n",
              "      <td>23.351110</td>\n",
              "      <td>6.868114</td>\n",
              "      <td>1.652822</td>\n",
              "      <td>25</td>\n",
              "      <td>{'n_components': 25}</td>\n",
              "      <td>-772228.684074</td>\n",
              "      <td>-768742.541114</td>\n",
              "      <td>-743966.655889</td>\n",
              "      <td>-655152.586377</td>\n",
              "      <td>-667427.983815</td>\n",
              "      <td>-721503.690254</td>\n",
              "      <td>50270.806371</td>\n",
              "      <td>3</td>\n",
              "    </tr>\n",
              "  </tbody>\n",
              "</table>\n",
              "</div>\n",
              "      <button class=\"colab-df-convert\" onclick=\"convertToInteractive('df-d8ca0dd9-bea1-4872-8fb3-04a977175c19')\"\n",
              "              title=\"Convert this dataframe to an interactive table.\"\n",
              "              style=\"display:none;\">\n",
              "        \n",
              "  <svg xmlns=\"http://www.w3.org/2000/svg\" height=\"24px\"viewBox=\"0 0 24 24\"\n",
              "       width=\"24px\">\n",
              "    <path d=\"M0 0h24v24H0V0z\" fill=\"none\"/>\n",
              "    <path d=\"M18.56 5.44l.94 2.06.94-2.06 2.06-.94-2.06-.94-.94-2.06-.94 2.06-2.06.94zm-11 1L8.5 8.5l.94-2.06 2.06-.94-2.06-.94L8.5 2.5l-.94 2.06-2.06.94zm10 10l.94 2.06.94-2.06 2.06-.94-2.06-.94-.94-2.06-.94 2.06-2.06.94z\"/><path d=\"M17.41 7.96l-1.37-1.37c-.4-.4-.92-.59-1.43-.59-.52 0-1.04.2-1.43.59L10.3 9.45l-7.72 7.72c-.78.78-.78 2.05 0 2.83L4 21.41c.39.39.9.59 1.41.59.51 0 1.02-.2 1.41-.59l7.78-7.78 2.81-2.81c.8-.78.8-2.07 0-2.86zM5.41 20L4 18.59l7.72-7.72 1.47 1.35L5.41 20z\"/>\n",
              "  </svg>\n",
              "      </button>\n",
              "      \n",
              "  <style>\n",
              "    .colab-df-container {\n",
              "      display:flex;\n",
              "      flex-wrap:wrap;\n",
              "      gap: 12px;\n",
              "    }\n",
              "\n",
              "    .colab-df-convert {\n",
              "      background-color: #E8F0FE;\n",
              "      border: none;\n",
              "      border-radius: 50%;\n",
              "      cursor: pointer;\n",
              "      display: none;\n",
              "      fill: #1967D2;\n",
              "      height: 32px;\n",
              "      padding: 0 0 0 0;\n",
              "      width: 32px;\n",
              "    }\n",
              "\n",
              "    .colab-df-convert:hover {\n",
              "      background-color: #E2EBFA;\n",
              "      box-shadow: 0px 1px 2px rgba(60, 64, 67, 0.3), 0px 1px 3px 1px rgba(60, 64, 67, 0.15);\n",
              "      fill: #174EA6;\n",
              "    }\n",
              "\n",
              "    [theme=dark] .colab-df-convert {\n",
              "      background-color: #3B4455;\n",
              "      fill: #D2E3FC;\n",
              "    }\n",
              "\n",
              "    [theme=dark] .colab-df-convert:hover {\n",
              "      background-color: #434B5C;\n",
              "      box-shadow: 0px 1px 3px 1px rgba(0, 0, 0, 0.15);\n",
              "      filter: drop-shadow(0px 1px 2px rgba(0, 0, 0, 0.3));\n",
              "      fill: #FFFFFF;\n",
              "    }\n",
              "  </style>\n",
              "\n",
              "      <script>\n",
              "        const buttonEl =\n",
              "          document.querySelector('#df-d8ca0dd9-bea1-4872-8fb3-04a977175c19 button.colab-df-convert');\n",
              "        buttonEl.style.display =\n",
              "          google.colab.kernel.accessAllowed ? 'block' : 'none';\n",
              "\n",
              "        async function convertToInteractive(key) {\n",
              "          const element = document.querySelector('#df-d8ca0dd9-bea1-4872-8fb3-04a977175c19');\n",
              "          const dataTable =\n",
              "            await google.colab.kernel.invokeFunction('convertToInteractive',\n",
              "                                                     [key], {});\n",
              "          if (!dataTable) return;\n",
              "\n",
              "          const docLinkHtml = 'Like what you see? Visit the ' +\n",
              "            '<a target=\"_blank\" href=https://colab.research.google.com/notebooks/data_table.ipynb>data table notebook</a>'\n",
              "            + ' to learn more about interactive tables.';\n",
              "          element.innerHTML = '';\n",
              "          dataTable['output_type'] = 'display_data';\n",
              "          await google.colab.output.renderOutput(dataTable, element);\n",
              "          const docLink = document.createElement('div');\n",
              "          docLink.innerHTML = docLinkHtml;\n",
              "          element.appendChild(docLink);\n",
              "        }\n",
              "      </script>\n",
              "    </div>\n",
              "  </div>\n",
              "  "
            ]
          },
          "metadata": {},
          "execution_count": 18
        }
      ]
    },
    {
      "cell_type": "code",
      "source": [
        "import seaborn as sns\n",
        "sns.set(rc={\"figure.dpi\":150, 'savefig.dpi':150})\n",
        "sns.pointplot(x=\"param_n_components\",\n",
        "              y=\"mean_test_score\",\n",
        "              data=cv_results_df)"
      ],
      "metadata": {
        "id": "q-snKcNFNDAc",
        "outputId": "a26afabc-e411-4de0-bc49-ee2610dc6a82",
        "colab": {
          "base_uri": "https://localhost:8080/",
          "height": 592
        }
      },
      "execution_count": null,
      "outputs": [
        {
          "output_type": "execute_result",
          "data": {
            "text/plain": [
              "<matplotlib.axes._subplots.AxesSubplot at 0x7fe61f53b590>"
            ]
          },
          "metadata": {},
          "execution_count": 19
        },
        {
          "output_type": "display_data",
          "data": {
            "text/plain": [
              "<Figure size 900x600 with 1 Axes>"
            ],
            "image/png": "[encoded data removed]"
          },
          "metadata": {}
        }
      ]
    },
    {
      "cell_type": "code",
      "source": [
        "from sklearn.model_selection import GridSearchCV\n",
        "\n",
        "search_params = {'n_components': [14, 15, 16, 17, 18]}\n",
        "\n",
        "model = LatentDirichletAllocation(n_components=40, max_iter=5, learning_method='online', learning_offset=50.,random_state=0)\n",
        "\n",
        "gridsearch = GridSearchCV(model,\n",
        "                          param_grid=search_params,\n",
        "                          n_jobs=-1,\n",
        "                          verbose=1)\n",
        "gridsearch.fit(matrix)\n",
        "\n",
        "## Save the best model\n",
        "best_lda = gridsearch.best_estimator_"
      ],
      "metadata": {
        "id": "ELN36CyJUsY4",
        "outputId": "0cc4dd67-d895-4b37-9898-449f47b071da",
        "colab": {
          "base_uri": "https://localhost:8080/"
        }
      },
      "execution_count": null,
      "outputs": [
        {
          "output_type": "stream",
          "name": "stdout",
          "text": [
            "Fitting 5 folds for each of 5 candidates, totalling 25 fits\n"
          ]
        }
      ]
    },
    {
      "cell_type": "code",
      "source": [
        "cv_results_df = pd.DataFrame(gridsearch.cv_results_)\n",
        "cv_results_df"
      ],
      "metadata": {
        "id": "LPTkEjr-Uz1v",
        "outputId": "966a2512-5de3-421b-9da6-a16906cd8c4f",
        "colab": {
          "base_uri": "https://localhost:8080/",
          "height": 357
        }
      },
      "execution_count": null,
      "outputs": [
        {
          "output_type": "execute_result",
          "data": {
            "text/plain": [
              "   mean_fit_time  std_fit_time  mean_score_time  std_score_time  \\\n",
              "0     134.450568      2.067986         7.412284        0.185386   \n",
              "1     130.142888      0.812999         7.357810        0.134568   \n",
              "2     129.888120      1.067569         7.950441        0.584335   \n",
              "3     130.346573      0.750975         7.492778        0.613476   \n",
              "4     117.695153     24.909264         6.852777        1.756366   \n",
              "\n",
              "  param_n_components                params  split0_test_score  \\\n",
              "0                 14  {'n_components': 14}     -794006.275907   \n",
              "1                 15  {'n_components': 15}     -783014.741642   \n",
              "2                 16  {'n_components': 16}     -784743.553357   \n",
              "3                 17  {'n_components': 17}     -791494.259509   \n",
              "4                 18  {'n_components': 18}     -799106.589712   \n",
              "\n",
              "   split1_test_score  split2_test_score  split3_test_score  split4_test_score  \\\n",
              "0     -763051.711800     -733363.132197     -645570.594135     -659765.158430   \n",
              "1     -771188.142902     -738364.171431     -655611.229479     -668149.764852   \n",
              "2     -761340.035219     -739140.206595     -649034.075836     -662479.479368   \n",
              "3     -770318.333219     -747040.753575     -650601.584670     -671024.160004   \n",
              "4     -766647.253070     -745815.449359     -649116.686028     -665527.743876   \n",
              "\n",
              "   mean_test_score  std_test_score  rank_test_score  \n",
              "0   -719151.374494    57746.556321                1  \n",
              "1   -723265.610061    52362.899154                3  \n",
              "2   -719347.470075    54055.004267                2  \n",
              "3   -726095.818196    55504.133379                5  \n",
              "4   -725242.744409    58231.426606                4  "
            ],
            "text/html": [
              "\n",
              "  <div id=\"df-8b719cf7-e870-4e6a-8523-83d5c15c8d88\">\n",
              "    <div class=\"colab-df-container\">\n",
              "      <div>\n",
              "<style scoped>\n",
              "    .dataframe tbody tr th:only-of-type {\n",
              "        vertical-align: middle;\n",
              "    }\n",
              "\n",
              "    .dataframe tbody tr th {\n",
              "        vertical-align: top;\n",
              "    }\n",
              "\n",
              "    .dataframe thead th {\n",
              "        text-align: right;\n",
              "    }\n",
              "</style>\n",
              "<table border=\"1\" class=\"dataframe\">\n",
              "  <thead>\n",
              "    <tr style=\"text-align: right;\">\n",
              "      <th></th>\n",
              "      <th>mean_fit_time</th>\n",
              "      <th>std_fit_time</th>\n",
              "      <th>mean_score_time</th>\n",
              "      <th>std_score_time</th>\n",
              "      <th>param_n_components</th>\n",
              "      <th>params</th>\n",
              "      <th>split0_test_score</th>\n",
              "      <th>split1_test_score</th>\n",
              "      <th>split2_test_score</th>\n",
              "      <th>split3_test_score</th>\n",
              "      <th>split4_test_score</th>\n",
              "      <th>mean_test_score</th>\n",
              "      <th>std_test_score</th>\n",
              "      <th>rank_test_score</th>\n",
              "    </tr>\n",
              "  </thead>\n",
              "  <tbody>\n",
              "    <tr>\n",
              "      <th>0</th>\n",
              "      <td>134.450568</td>\n",
              "      <td>2.067986</td>\n",
              "      <td>7.412284</td>\n",
              "      <td>0.185386</td>\n",
              "      <td>14</td>\n",
              "      <td>{'n_components': 14}</td>\n",
              "      <td>-794006.275907</td>\n",
              "      <td>-763051.711800</td>\n",
              "      <td>-733363.132197</td>\n",
              "      <td>-645570.594135</td>\n",
              "      <td>-659765.158430</td>\n",
              "      <td>-719151.374494</td>\n",
              "      <td>57746.556321</td>\n",
              "      <td>1</td>\n",
              "    </tr>\n",
              "    <tr>\n",
              "      <th>1</th>\n",
              "      <td>130.142888</td>\n",
              "      <td>0.812999</td>\n",
              "      <td>7.357810</td>\n",
              "      <td>0.134568</td>\n",
              "      <td>15</td>\n",
              "      <td>{'n_components': 15}</td>\n",
              "      <td>-783014.741642</td>\n",
              "      <td>-771188.142902</td>\n",
              "      <td>-738364.171431</td>\n",
              "      <td>-655611.229479</td>\n",
              "      <td>-668149.764852</td>\n",
              "      <td>-723265.610061</td>\n",
              "      <td>52362.899154</td>\n",
              "      <td>3</td>\n",
              "    </tr>\n",
              "    <tr>\n",
              "      <th>2</th>\n",
              "      <td>129.888120</td>\n",
              "      <td>1.067569</td>\n",
              "      <td>7.950441</td>\n",
              "      <td>0.584335</td>\n",
              "      <td>16</td>\n",
              "      <td>{'n_components': 16}</td>\n",
              "      <td>-784743.553357</td>\n",
              "      <td>-761340.035219</td>\n",
              "      <td>-739140.206595</td>\n",
              "      <td>-649034.075836</td>\n",
              "      <td>-662479.479368</td>\n",
              "      <td>-719347.470075</td>\n",
              "      <td>54055.004267</td>\n",
              "      <td>2</td>\n",
              "    </tr>\n",
              "    <tr>\n",
              "      <th>3</th>\n",
              "      <td>130.346573</td>\n",
              "      <td>0.750975</td>\n",
              "      <td>7.492778</td>\n",
              "      <td>0.613476</td>\n",
              "      <td>17</td>\n",
              "      <td>{'n_components': 17}</td>\n",
              "      <td>-791494.259509</td>\n",
              "      <td>-770318.333219</td>\n",
              "      <td>-747040.753575</td>\n",
              "      <td>-650601.584670</td>\n",
              "      <td>-671024.160004</td>\n",
              "      <td>-726095.818196</td>\n",
              "      <td>55504.133379</td>\n",
              "      <td>5</td>\n",
              "    </tr>\n",
              "    <tr>\n",
              "      <th>4</th>\n",
              "      <td>117.695153</td>\n",
              "      <td>24.909264</td>\n",
              "      <td>6.852777</td>\n",
              "      <td>1.756366</td>\n",
              "      <td>18</td>\n",
              "      <td>{'n_components': 18}</td>\n",
              "      <td>-799106.589712</td>\n",
              "      <td>-766647.253070</td>\n",
              "      <td>-745815.449359</td>\n",
              "      <td>-649116.686028</td>\n",
              "      <td>-665527.743876</td>\n",
              "      <td>-725242.744409</td>\n",
              "      <td>58231.426606</td>\n",
              "      <td>4</td>\n",
              "    </tr>\n",
              "  </tbody>\n",
              "</table>\n",
              "</div>\n",
              "      <button class=\"colab-df-convert\" onclick=\"convertToInteractive('df-8b719cf7-e870-4e6a-8523-83d5c15c8d88')\"\n",
              "              title=\"Convert this dataframe to an interactive table.\"\n",
              "              style=\"display:none;\">\n",
              "        \n",
              "  <svg xmlns=\"http://www.w3.org/2000/svg\" height=\"24px\"viewBox=\"0 0 24 24\"\n",
              "       width=\"24px\">\n",
              "    <path d=\"M0 0h24v24H0V0z\" fill=\"none\"/>\n",
              "    <path d=\"M18.56 5.44l.94 2.06.94-2.06 2.06-.94-2.06-.94-.94-2.06-.94 2.06-2.06.94zm-11 1L8.5 8.5l.94-2.06 2.06-.94-2.06-.94L8.5 2.5l-.94 2.06-2.06.94zm10 10l.94 2.06.94-2.06 2.06-.94-2.06-.94-.94-2.06-.94 2.06-2.06.94z\"/><path d=\"M17.41 7.96l-1.37-1.37c-.4-.4-.92-.59-1.43-.59-.52 0-1.04.2-1.43.59L10.3 9.45l-7.72 7.72c-.78.78-.78 2.05 0 2.83L4 21.41c.39.39.9.59 1.41.59.51 0 1.02-.2 1.41-.59l7.78-7.78 2.81-2.81c.8-.78.8-2.07 0-2.86zM5.41 20L4 18.59l7.72-7.72 1.47 1.35L5.41 20z\"/>\n",
              "  </svg>\n",
              "      </button>\n",
              "      \n",
              "  <style>\n",
              "    .colab-df-container {\n",
              "      display:flex;\n",
              "      flex-wrap:wrap;\n",
              "      gap: 12px;\n",
              "    }\n",
              "\n",
              "    .colab-df-convert {\n",
              "      background-color: #E8F0FE;\n",
              "      border: none;\n",
              "      border-radius: 50%;\n",
              "      cursor: pointer;\n",
              "      display: none;\n",
              "      fill: #1967D2;\n",
              "      height: 32px;\n",
              "      padding: 0 0 0 0;\n",
              "      width: 32px;\n",
              "    }\n",
              "\n",
              "    .colab-df-convert:hover {\n",
              "      background-color: #E2EBFA;\n",
              "      box-shadow: 0px 1px 2px rgba(60, 64, 67, 0.3), 0px 1px 3px 1px rgba(60, 64, 67, 0.15);\n",
              "      fill: #174EA6;\n",
              "    }\n",
              "\n",
              "    [theme=dark] .colab-df-convert {\n",
              "      background-color: #3B4455;\n",
              "      fill: #D2E3FC;\n",
              "    }\n",
              "\n",
              "    [theme=dark] .colab-df-convert:hover {\n",
              "      background-color: #434B5C;\n",
              "      box-shadow: 0px 1px 3px 1px rgba(0, 0, 0, 0.15);\n",
              "      filter: drop-shadow(0px 1px 2px rgba(0, 0, 0, 0.3));\n",
              "      fill: #FFFFFF;\n",
              "    }\n",
              "  </style>\n",
              "\n",
              "      <script>\n",
              "        const buttonEl =\n",
              "          document.querySelector('#df-8b719cf7-e870-4e6a-8523-83d5c15c8d88 button.colab-df-convert');\n",
              "        buttonEl.style.display =\n",
              "          google.colab.kernel.accessAllowed ? 'block' : 'none';\n",
              "\n",
              "        async function convertToInteractive(key) {\n",
              "          const element = document.querySelector('#df-8b719cf7-e870-4e6a-8523-83d5c15c8d88');\n",
              "          const dataTable =\n",
              "            await google.colab.kernel.invokeFunction('convertToInteractive',\n",
              "                                                     [key], {});\n",
              "          if (!dataTable) return;\n",
              "\n",
              "          const docLinkHtml = 'Like what you see? Visit the ' +\n",
              "            '<a target=\"_blank\" href=https://colab.research.google.com/notebooks/data_table.ipynb>data table notebook</a>'\n",
              "            + ' to learn more about interactive tables.';\n",
              "          element.innerHTML = '';\n",
              "          dataTable['output_type'] = 'display_data';\n",
              "          await google.colab.output.renderOutput(dataTable, element);\n",
              "          const docLink = document.createElement('div');\n",
              "          docLink.innerHTML = docLinkHtml;\n",
              "          element.appendChild(docLink);\n",
              "        }\n",
              "      </script>\n",
              "    </div>\n",
              "  </div>\n",
              "  "
            ]
          },
          "metadata": {},
          "execution_count": 21
        }
      ]
    },
    {
      "cell_type": "code",
      "source": [
        "import seaborn as sns\n",
        "sns.set(rc={\"figure.dpi\":150, 'savefig.dpi':150})\n",
        "sns.pointplot(x=\"param_n_components\",\n",
        "              y=\"mean_test_score\",\n",
        "              data=cv_results_df)"
      ],
      "metadata": {
        "id": "kipnK9BRU1QW",
        "outputId": "5206e414-3bb4-45c6-b171-b9a8babbcef7",
        "colab": {
          "base_uri": "https://localhost:8080/",
          "height": 592
        }
      },
      "execution_count": null,
      "outputs": [
        {
          "output_type": "execute_result",
          "data": {
            "text/plain": [
              "<matplotlib.axes._subplots.AxesSubplot at 0x7fe5bc43ba90>"
            ]
          },
          "metadata": {},
          "execution_count": 22
        },
        {
          "output_type": "display_data",
          "data": {
            "text/plain": [
              "<Figure size 900x600 with 1 Axes>"
            ],
            "image/png": "[encoded data removed]"
          },
          "metadata": {}
        }
      ]
    },
    {
      "cell_type": "markdown",
      "source": [
        "# NNMF"
      ],
      "metadata": {
        "id": "3MmcFXtZFBC-"
      }
    },
    {
      "cell_type": "code",
      "source": [
        "from sklearn.decomposition import NMF"
      ],
      "metadata": {
        "id": "h2qBPF8UFY0m"
      },
      "execution_count": null,
      "outputs": []
    },
    {
      "cell_type": "code",
      "source": [
        "nmf = NMF(n_components=40, random_state=1).fit(matrix)"
      ],
      "metadata": {
        "id": "qd3p4CyEFAkJ",
        "outputId": "e7cc9f5e-2767-4c93-8ca1-680716382769",
        "colab": {
          "base_uri": "https://localhost:8080/"
        }
      },
      "execution_count": null,
      "outputs": [
        {
          "output_type": "stream",
          "name": "stderr",
          "text": [
            "/usr/local/lib/python3.7/dist-packages/sklearn/decomposition/_nmf.py:294: FutureWarning: The 'init' value, when 'init=None' and n_components is less than n_samples and n_features, will be changed from 'nndsvd' to 'nndsvda' in 1.1 (renaming of 0.26).\n",
            "  FutureWarning,\n"
          ]
        }
      ]
    },
    {
      "cell_type": "code",
      "source": [
        "display_topics(nmf, feature_names=cv.get_feature_names_out(),  no_top_words=20)"
      ],
      "metadata": {
        "id": "2bMdP1QuFRO8",
        "outputId": "0bda653d-1468-4f9a-b9ef-240573ff97c1",
        "colab": {
          "base_uri": "https://localhost:8080/"
        }
      },
      "execution_count": null,
      "outputs": [
        {
          "output_type": "stream",
          "name": "stdout",
          "text": [
            "Topic 1:\n",
            "comunidad madrid , unido podemo , toda españa , formación profesion , acuerd convocatoria , posicion mixto , acuerdo retirada , suficient miembro , estatuto gernika , política española , convocatoria extraordinaria , presentar nombr , gasto público , relacion cort , tribun supremo , resolv problema , marco financiero , buena tard , mercado labor , comú podemgalicia\n",
            "Topic 2:\n",
            "vasco legarda , comisión europea , salvamento marítimo , encima mesa , pleno cámara , derecho libertad , comparecencia ministra , igualdad oportunidad , cuerpo seguridad , rodríguez hernández , crisi económica , tribun constitucion , presupuesto general , adoptar medida , tribun supremo , relacion cort , podemgalicia común , hombr mujer , resolv problema , estatuto autonomía\n",
            "Topic 3:\n",
            "sistema público , pesca alimentación , quiero decirl , política migratoria , suficient miembro , presentar nombr , legarda uriart , ministra hacienda , crecimiento económico , salida reino , llegar acuerdo , proyecto procedimiento , adoptan medida , trabajador trabajadora , buena tard , rentabilidad razon , cuerpo seguridad , tribun supremo , techo gasto , resolv problema\n",
            "Topic 4:\n",
            "ministra trabajo , economía española , pertenecient popular , cuenta pública , paí vasco , moción censura , legarda uriart , reforma labor , ministra transición , entrada vigor , mismo tiempo , miembro diputación , tribun supremo , nacion unida , efecto llamada , política española , alta velocidad , llegar acuerdo , proyecto procedimiento , protección civil\n",
            "Topic 5:\n",
            "política social , consejo europeo , hace falta , administracion pública , urgent necesidad , mínimo interprofesion , radiotelevisión española , permanent pertenecient , justicia social , tribun constitucion , doce mese , regeneración democrática , creación empleo , hecho referencia , seguridad jurídica , convocatoria extraordinaria , nacion unida , unida podemo , trabajador trabajadora , pedro sánchez\n",
            "Topic 6:\n",
            "entidad local , crecimiento económico , trabajador trabajadora , proyecto procedimiento , llegar acuerdo , crisi económica , ministra hacienda , toda medida , unida podemosen , acatar constitución , rentabilidad razon , mejor dicho , presentar nombr , seguridad social , último mese , toma consideración , comisión europea , quiero decirl , nacion unida , salida reino\n",
            "Topic 7:\n",
            "hace mese , cuidado paliativo , función pública , moción censura , efecto llamada , economía española , diputación permanent , seguridad jurídica , comisión nacion , próxima legislatura , unida podemo , mayor cincuenta , poder judici , formulada número , acuerdo retirada , candidato presidencia , tribun constitucion , pedro sánchez , alta velocidad , tribun supremo\n",
            "Topic 8:\n",
            "unido unión , sociedad española , urgent necesidad , convocar eleccion , permanent pertenecient , sistema educativo , igualdad oportunidad , diputación permanent , ordenamiento jurídico , extraordinaria urgent , encima mesa , salida reino , cuerpo seguridad , derecho libertad , resolv problema , techo gasto , dar respuesta , sector público , mercado labor , toda medida\n",
            "Topic 9:\n",
            "código penal , permanent pertenecient , trabajador trabajadora , diputación permanent , función pública , cuidado paliativo , urgent necesidad , radiotelevisión española , mínimo interprofesion , dar respuesta , extraordinaria urgent , derecho libertad , unido podemosen , gasto público , tribun supremo , sistema educativo , pedro sánchez , hecho referencia , justicia social , alta velocidad\n",
            "Topic 10:\n",
            "transición ecológica , nacion unida , nacion mercado , pedro sánchez , comú podemen , miembro diputación , ministra adelant , hoja ruta , agricultura pesca , pertenecient popular , mismo tiempo , gasto público , comparecencia ministra , igualdad oportunidad , dominio público , proyecto procedimiento , campaña elector , unida podemosen , entrada vigor , trabajador trabajadora\n",
            "Topic 11:\n",
            "actividad económica , administración gener , acuerdo retirada , estatuto gernika , si quier , alta velocidad , comunidad autónoma , acatar constitución , permanent pertenecient , reino unido , acuerd convocatoria , paí vasco , cualquier caso , servicio público , política migratoria , sistema educativo , tribun supremo , campaña elector , justicia social , radiotelevisión española\n",
            "Topic 12:\n",
            "millon persona , política española , economía española , paí vasco , marco financiero , pertenecient popular , acatar constitución , comú podemen , acuerd convocatoria , ministra adelant , acuerdo retirada , mejor dicho , comú podemgalicia , comisión europea , presupuesto general , reforma labor , reino unido , campaña elector , espinosa montero , resolv problema\n",
            "Topic 13:\n",
            "salario mínimo , efecto llamada , ministra adelant , próxima legislatura , cuerpo seguridad , economía española , comisión nacion , gasto público , protección civil , alta velocidad , toda españa , toma consideración , pedro sánchez , techo gasto , víctima violencia , trabajador trabajadora , nacion unida , seguridad jurídica , sistema seguridad , pacto toledo\n",
            "Topic 14:\n",
            "open arm , constitución española , derecho libertad , pedro sánchez , borrà castany , nacion unida , ministra adelant , seguridad social , salvamento marítimo , candidato presidencia , rodríguez hernández , podemgalicia común , sistema seguridad , trabajador trabajadora , resolv problema , tan important , tribun supremo , unido podemo , hecho referencia , doña maría\n",
            "Topic 15:\n",
            "si quier , estabilidad presupuestaria , servicio público , legarda uriart , nacion unida , alta velocidad , hecho referencia , diálogo social , administración gener , acatar constitución , tribun supremo , campaña elector , miembro diputación , formulada número , sistema seguridad , mejor dicho , pedro sánchez , encima mesa , techo gasto , doce mese\n",
            "Topic 16:\n",
            "número suficient , toda persona , suficient miembro , presentar nombr , legarda uriart , nacion unida , política española , candidato presidencia , servicio público , unido podemo , reino unido , trabajador trabajadora , relacion cort , unida podemo , presupuesto general , dar respuesta , miembro diputación , procedimiento urgencia , sector público , cualquier caso\n",
            "Topic 17:\n",
            "medio comunicación , fijación posicion , poder judici , mayor cincuenta , convocatoria extraordinaria , unido podemosen , unida podemo , protección civil , ciudadano ciudadana , cuerpo seguridad , extraordinaria urgent , convalidación derogación , comisión nacion , seguridad jurídica , confeder unido , ningún tipo , doce mese , gasto público , lucha cambio , hoja ruta\n",
            "Topic 18:\n",
            "podemosen comú , migracion seguridad , crecimiento económico , acatar constitución , interé gener , rentabilidad razon , cualquier caso , ministra transición , crisi económica , convocatoria extraordinaria , ministra hacienda , unida podemosen , transición energética , nacion unida , toda medida , miembro diputación , entrada vigor , relacion cort , mejor dicho , encima mesa\n",
            "Topic 19:\n",
            "fuerza cuerpo , thoma cook , ministra hacienda , mismo tiempo , adoptan medida , rentabilidad razon , trabajador trabajadora , crecimiento económico , legarda uriart , presentar nombr , quiero decirl , presupuesto general , política española , consejo europeo , nacion unida , podemgalicia común , buena tard , salida reino , poner marcha , dar respuesta\n",
            "Topic 20:\n",
            "derecho humano , diputación permanent , creación empleo , administracion pública , comparecencia ministra , derecho libertad , acuerd convocatoria , sector público , candidato presidencia , moción censura , mínimo interprofesion , poner marcha , economía española , encima mesa , trabajador trabajadora , doce mese , nacion unida , presentar nombr , víctima violencia , tribun supremo\n",
            "Topic 21:\n",
            "fuerza política , trabajador trabajadora , convocatoria extraordinaria , comparecencia ministra , agricultura pesca , nacion unida , cuerpo seguridad , igualdad oportunidad , tribun supremo , gasto público , techo gasto , mejor dicho , pacto toledo , resolv problema , diputación permanent , ordenamiento jurídico , extraordinaria urgent , artículo constitución , formulada número , creación empleo\n",
            "Topic 22:\n",
            "conjunto sociedad , pleno cámara , salvamento marítimo , toda medida , reino unido , crecimiento económico , comisión europea , mercado labor , seguridad social , nacion unida , podemgalicia común , encima mesa , cualquier caso , comú podemen , crisi económica , presupuesto general , rodríguez hernández , cuerpo seguridad , sector público , ministra hacienda\n",
            "Topic 23:\n",
            "unión europea , comparecencia ministra , pertenecient popular , creación empleo , comisión nacion , si quier , dominio público , doce mese , seguridad jurídica , ministra transición , entrada vigor , guardia civil , alta velocidad , ministra adelant , pedro sánchez , acatar constitución , economía española , cuenta pública , cuerpo seguridad , tribun constitucion\n",
            "Topic 24:\n",
            "extraordinaria comisión , creación empleo , comú podemgalicia , seguridad social , unido podemosen , gasto público , convocar eleccion , regeneración democrática , marco financiero , política social , próxima legislatura , ciudadano ciudadana , comparecencia ministra , convalidación derogación , artículo constitución , pacto toledo , justicia social , eleccion general , adoptar medida , poner marcha\n",
            "Topic 25:\n",
            "cambio climático , toda medida , unida podemosen , comunidad autónoma , entrada vigor , diálogo social , ministra transición , comisión nacion , seguridad jurídica , efecto llamada , mejor dicho , nacion unida , pedro sánchez , miembro diputación , servicio público , ministra adelant , cuerpo seguridad , economía española , extraordinaria urgent , igualdad oportunidad\n",
            "Topic 26:\n",
            "subida salario , administracion pública , trabajador trabajadora , marco financiero , cualquier caso , ministra adelant , mínimo interprofesion , presentar nombr , administración gener , acuerdo retirada , poner marcha , toda españa , formación profesion , suficient miembro , candidato presidencia , crecimiento económico , tribun constitucion , acatar constitución , encima mesa , thoma cook\n",
            "Topic 27:\n",
            "comunidad valenciana , entrega cuenta , comú podemen , nacion unida , proyecto europeo , espinosa montero , proyecto procedimiento , llegar acuerdo , tribun supremo , podemgalicia común , miembro diputación , rentabilidad razon , salvamento marítimo , unida podemo , pedro sánchez , servicio público , hecho referencia , resolv problema , igualdad oportunidad , acuerd convocatoria\n",
            "Topic 28:\n",
            "gran canaria , rentabilidad razon , administración gener , alta velocidad , agricultura pesca , política migratoria , eleccion general , ministra hacienda , último doce , extraordinaria urgent , crecimiento económico , sociedad española , servicio público , entrada vigor , cuerpo seguridad , cualquier caso , efecto llamada , empleado público , pertenecient popular , ordenamiento jurídico\n",
            "Topic 29:\n",
            "proyecto presupuesto , reforma labor , cuenta pública , eleccion general , crisi económica , entrada vigor , seguridad social , mismo tiempo , comú podemgalicia , ministra transición , crecimiento económico , administracion pública , pertenecient popular , política migratoria , formación profesion , mínimo interprofesion , creación empleo , defensa iniciativa , legarda uriart , cualquier caso\n",
            "Topic 30:\n",
            "podemen marea , gasto público , función pública , cuidado paliativo , trabajador trabajadora , hecho referencia , resolv problema , convocar eleccion , crisi económica , techo gasto , pacto toledo , nacion unida , comparecencia ministra , mercado labor , sector público , consejo europeo , eleccion general , hombr mujer , regeneración democrática , último doce\n",
            "Topic 31:\n",
            "guardia civil , proyecto europeo , proyecto procedimiento , llegar acuerdo , unida podemosen , posicion mixto , pertenecient popular , si quier , nacion unida , servicio público , mejor dicho , toma consideración , acuerd convocatoria , diálogo social , miembro diputación , entrada vigor , pedro sánchez , techo gasto , salvamento marítimo , cuenta pública\n",
            "Topic 32:\n",
            "popular ciudadano , unida podemosen , posicion mixto , presentar nombr , toma consideración , encima mesa , rentabilidad razon , trabajador trabajadora , nacion unida , estatuto gernika , espinosa montero , pedro sánchez , proyecto europeo , techo gasto , ministra hacienda , política migratoria , hecho referencia , adoptan medida , igualdad oportunidad , hecho sido\n",
            "Topic 33:\n",
            "ill balear , política económica , interé gener , proyecto europeo , posicion mixto , acatar constitución , nacion unida , proyecto procedimiento , llegar acuerdo , toda españa , crecimiento económico , formación profesion , trabajador trabajadora , convocatoria extraordinaria , mejor dicho , unida podemosen , crisi económica , candidato presidencia , sistema educativo , entrada vigor\n",
            "Topic 34:\n",
            "energía renov , diálogo social , crisi económica , crecimiento económico , estatuto gernika , cualquier caso , llegar acuerdo , proyecto procedimiento , salida reino , rentabilidad razon , trabajador trabajadora , unida podemosen , cuerpo seguridad , encima mesa , acatar constitución , comisión europea , interé gener , quiero decirl , posicion mixto , formación profesion\n",
            "Topic 35:\n",
            "ahora mismo , comú podemgalicia , relacion cort , marco financiero , paí vasco , resolv problema , igualdad oportunidad , tribun constitucion , crisi económica , convocatoria extraordinaria , crecimiento económico , mercado labor , dar respuesta , encima mesa , ministra adelant , economía española , seguridad jurídica , miembro diputación , presupuesto general , doce mese\n",
            "Topic 36:\n",
            "popular congreso , borrà castany , derecho libertad , gasto público , comú podemen , trabajador trabajadora , pedro sánchez , nacion unida , pleno cámara , encima mesa , candidato presidencia , regeneración democrática , igualdad oportunidad , ministra adelant , comparecencia ministra , techo gasto , presentar nombr , hecho referencia , podemgalicia común , cualquier caso\n",
            "Topic 37:\n",
            "cort igualdad , acatar constitución , toda españa , formación profesion , acuerd convocatoria , estatuto gernika , suficient miembro , posicion mixto , entrada vigor , hoja ruta , eleccion general , poder judici , agricultura pesca , cuerpo seguridad , mayor cincuenta , presentar nombr , ministra transición , si quier , proyecto europeo , comunidad autónoma\n",
            "Topic 38:\n",
            "sere humano , política migratoria , presentar nombr , pesca alimentación , crisi económica , ministra hacienda , salida reino , adoptan medida , quiero decirl , tribun supremo , crecimiento económico , próxima legislatura , gasto público , cualquier caso , nacion unida , espinosa montero , trabajador trabajadora , podemgalicia común , rodríguez hernández , mercado labor\n",
            "Topic 39:\n",
            "zona afectada , suficient miembro , cuidado paliativo , función pública , ministra adelant , trabajador trabajadora , presentar nombr , derecho libertad , moción censura , relacion cort , mínimo interprofesion , presupuesto general , seguridad social , buena tard , política española , reino unido , mercado labor , gasto público , diputación permanent , dar respuesta\n",
            "Topic 40:\n",
            "asunto exterior , eleccion general , poner marcha , unido podemosen , unida podemo , convocar eleccion , ministra adelant , extraordinaria urgent , diputación permanent , permanent pertenecient , convalidación derogación , thoma cook , creación empleo , marco financiero , espinosa montero , urgent necesidad , justicia social , trabajador trabajadora , sistema educativo , hoja ruta\n"
          ]
        }
      ]
    },
    {
      "cell_type": "code",
      "source": [],
      "metadata": {
        "id": "ue_ODnyma3UX"
      },
      "execution_count": null,
      "outputs": []
    },
    {
      "cell_type": "markdown",
      "source": [
        "# LDA con 14 clusters"
      ],
      "metadata": {
        "id": "vT9NG_jia8oQ"
      }
    },
    {
      "cell_type": "code",
      "source": [
        "from sklearn.decomposition import LatentDirichletAllocation"
      ],
      "metadata": {
        "id": "4J5_IRgRwNvp"
      },
      "execution_count": null,
      "outputs": []
    },
    {
      "cell_type": "code",
      "source": [
        "cv=CountVectorizer(ngram_range=[2,2], max_features=200, stop_words=stopwords, max_df=0.95, min_df=0.001)\n",
        "vec = cv.fit(base['tokens'])"
      ],
      "metadata": {
        "id": "upd3elB9a7lG"
      },
      "execution_count": 34,
      "outputs": []
    },
    {
      "cell_type": "code",
      "source": [
        "matrix = vec.transform(base['tokens'])"
      ],
      "metadata": {
        "id": "iNbbgMlWa7lG"
      },
      "execution_count": 35,
      "outputs": []
    },
    {
      "cell_type": "code",
      "source": [
        "lda = LatentDirichletAllocation(n_components=14, max_iter=5, learning_method='online', learning_offset=50.,random_state=0)"
      ],
      "metadata": {
        "id": "cDGSvLLza7lH"
      },
      "execution_count": 36,
      "outputs": []
    },
    {
      "cell_type": "code",
      "source": [
        "lda.fit(matrix)"
      ],
      "metadata": {
        "outputId": "e98ad853-ac7d-4f41-f976-e41d3fc4d6c0",
        "colab": {
          "base_uri": "https://localhost:8080/"
        },
        "id": "op60kaNMa7lH"
      },
      "execution_count": 37,
      "outputs": [
        {
          "output_type": "execute_result",
          "data": {
            "text/plain": [
              "LatentDirichletAllocation(learning_method='online', learning_offset=50.0,\n",
              "                          max_iter=5, n_components=14, random_state=0)"
            ]
          },
          "metadata": {},
          "execution_count": 37
        }
      ]
    },
    {
      "cell_type": "code",
      "source": [
        "display_topics(lda, feature_names=cv.get_feature_names_out(), no_top_words=20)"
      ],
      "metadata": {
        "outputId": "afbcc017-a796-43eb-d92d-550875d00040",
        "colab": {
          "base_uri": "https://localhost:8080/"
        },
        "id": "hioRw_62a7lI"
      },
      "execution_count": 40,
      "outputs": [
        {
          "output_type": "stream",
          "name": "stdout",
          "text": [
            "Topic 1:\n",
            "poder judici , disposición adicion , asunto exterior , consejo gener , gener poder , tribun supremo , catalunya verd , sentencia tribun , ministerio justicia , cort general , nombr socialista , ningún caso , entrada vigor , tribun constitucion , hace referencia , hecho referencia , administración justicia , dar respuesta , carácter gener , servicio público\n",
            "Topic 2:\n",
            "toma consideración , violencia género , consideración proposición , diputada doña , interpelación urgent , administración justicia , iniciativa legislativa , minoría catalana , tener cuenta , servicio social , poner marcha , dar respuesta , puesto marcha , consecuencia interpelación , código penal , puesta marcha , proposición popular , moción consecuencia , hace mese , forma part\n",
            "Topic 3:\n",
            "izquierda unida , estatuto autonomía , comunidad valenciana , proposición popular , feder izquierda , nombr popular , número formula , obra pública , hace tiempo , disposición transitoria , hace referencia , cort general , dar respuesta , financiación autonómica , ciudadano español , llegar acuerdo , ver si , hace mese , hecho referencia , programa elector\n",
            "Topic 4:\n",
            "comunidad autónoma , seguridad social , servicio social , pacto toledo , quiero decirl , sistema nacion , interior bruto , producto interior , nacion salud , toda comunidad , puesta marcha , salario mínimo , función pública , poner marcha , último mese , plan nacion , económico social , puesto trabajo , consejo seguridad , sociedad española\n",
            "Topic 5:\n",
            "tribun constitucion , fijación posicion , artículo constitución , exposición motivo , ordenamiento jurídico , constitución española , parlamento europeo , derecho libertad , tan important , agent social , poder público , texto alternativo , quiero recordar , ningún caso , forma part , dar respuesta , sentencia tribun , carácter gener , económico social , hace referencia\n",
            "Topic 6:\n",
            "comisión europea , reforma labor , fuerza armada , fuerza política , duda alguna , hace falta , política exterior , ahora mismo , ningún tipo , reino unido , mercado trabajo , aquel momento , entrada vigor , hace mese , forma part , voluntad política , comunidad europea , quiero recordar , opinión pública , dar respuesta\n",
            "Topic 7:\n",
            "guardia civil , código penal , nacion unida , derecho humano , medio comunicación , sociedad española , sistema financiero , formación profesion , vasco pnv , radiotelevisión española , cuerpo seguridad , banco españa , pequeña mediana , fuerza cuerpo , mediana empresa , ciudadano español , responsabilidad política , semana pasada , comisión investigación , tipo interé\n",
            "Topic 8:\n",
            "ss ss , protección social , defensor pueblo , debat totalidad , pueblo español , cort general , administracion pública , económico social , ciudadano español , dar respuesta , sociedad española , carácter gener , si así , hace referencia , poder adquisitivo , hace tiempo , hecho referencia , derecho libertad , forma part , ver si\n",
            "Topic 9:\n",
            "millon peseta , cualquier caso , puesto trabajo , sistema educativo , llegar acuerdo , dirección gener , comisión nacion , empresa pública , hecho referencia , ministerio economía , economía hacienda , crédito extraordinario , ministerio educación , tener cuenta , presupuesto general , dar respuesta , instituto nacion , largo plazo , mayor part , poner marcha\n",
            "Topic 10:\n",
            "unión europea , consejo europeo , mismo tiempo , sánchez llibr , rodríguez zapatero , puesto marcha , alta velocidad , poder adquisitivo , consecuencia interpelación , ruego concluya , moción consecuencia , si así , país europeo , vaya concluyendo , tener cuenta , parlamento europeo , puesta marcha , hace tiempo , largo plazo , poner marcha\n",
            "Topic 11:\n",
            "per catalunya , popular congreso , administración gener , izquierda per , portavoz socialista , artículo reglamento , dictamen comisión , desean fijar , asunto social , carácter gener , catalunya verd , congreso formula , proposición popular , dar respuesta , función pública , llegar acuerdo , ver si , ningún caso , diputación permanent , quiero recordar\n",
            "Topic 12:\n",
            "medio ambient , convergència unió , interé gener , diputación permanent , diario sesion , coalición canaria , seguridad jurídica , si quier , alto cargo , ministerio interior , proyecto orgánica , alguna manera , dar respuesta , ningún caso , carácter gener , mayor part , económico social , administración gener , hace referencia , poner marcha\n",
            "Topic 13:\n",
            "administracion pública , servicio público , presupuesto general , gasto público , deuda pública , sector público , actividad económica , política fiscal , proyecto presupuesto , impuesto sociedad , financiación autonómica , corporacion local , impuesto renta , tribun cuenta , persona física , sistema financiación , administración pública , sector privado , hace referencia , administración central\n",
            "Topic 14:\n",
            "política económica , economía española , creación empleo , izquierda plural , crecimiento económico , déficit público , crisi económica , estabilidad presupuestaria , política social , paí vasco , situación económica , resolv problema , comisión mixta , tan important , puesto trabajo , sistema financiero , largo plazo , tipo interé , deuda pública , interior bruto\n"
          ]
        }
      ]
    }
  ]
}