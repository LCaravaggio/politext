{
  "nbformat": 4,
  "nbformat_minor": 0,
  "metadata": {
    "colab": {
      "provenance": [],
      "include_colab_link": true
    },
    "kernelspec": {
      "name": "python3",
      "display_name": "Python 3"
    },
    "language_info": {
      "name": "python"
    }
  },
  "cells": [
    {
      "cell_type": "markdown",
      "metadata": {
        "id": "view-in-github",
        "colab_type": "text"
      },
      "source": [
        "<a href=\"https://colab.research.google.com/github/LCaravaggio/politext/blob/main/TF_IDF_UP5.ipynb\" target=\"_parent\"><img src=\"https://colab.research.google.com/assets/colab-badge.svg\" alt=\"Open In Colab\"/></a>"
      ]
    },
    {
      "cell_type": "markdown",
      "source": [
        "# Cargar la base"
      ],
      "metadata": {
        "id": "3bR6IbjGTqyw"
      }
    },
    {
      "cell_type": "code",
      "source": [
        "from google.colab import drive\n",
        "drive.mount('/content/drive')"
      ],
      "metadata": {
        "colab": {
          "base_uri": "https://localhost:8080/"
        },
        "id": "1d3u68qTTy95",
        "outputId": "5ce8b6c7-9b09-4a64-f97b-79a4f0423d90"
      },
      "execution_count": 1,
      "outputs": [
        {
          "output_type": "stream",
          "name": "stdout",
          "text": [
            "Mounted at /content/drive\n"
          ]
        }
      ]
    },
    {
      "cell_type": "code",
      "source": [
        "import pandas as pd\n",
        "base=pd.read_csv('/content/drive/MyDrive/base_formateada.csv')"
      ],
      "metadata": {
        "id": "a4Y2nh_NT6vv",
        "colab": {
          "base_uri": "https://localhost:8080/"
        },
        "outputId": "21feeb9a-3eb0-413e-982b-a804ee28f00b"
      },
      "execution_count": 2,
      "outputs": [
        {
          "output_type": "stream",
          "name": "stderr",
          "text": [
            "/usr/local/lib/python3.8/dist-packages/IPython/core/interactiveshell.py:3326: DtypeWarning: Columns (18) have mixed types.Specify dtype option on import or set low_memory=False.\n",
            "  exec(code_obj, self.user_global_ns, self.user_ns)\n"
          ]
        }
      ]
    },
    {
      "cell_type": "code",
      "source": [
        "import nltk\n",
        "nltk.download('stopwords')\n",
        "from nltk.corpus import stopwords\n",
        "stopwords=stopwords.words('spanish')"
      ],
      "metadata": {
        "colab": {
          "base_uri": "https://localhost:8080/"
        },
        "id": "vG2Zxxq3UvyZ",
        "outputId": "c2b6e2e9-e444-482e-e3b1-fd69d5892d36"
      },
      "execution_count": 3,
      "outputs": [
        {
          "output_type": "stream",
          "name": "stderr",
          "text": [
            "[nltk_data] Downloading package stopwords to /root/nltk_data...\n",
            "[nltk_data]   Unzipping corpora/stopwords.zip.\n"
          ]
        }
      ]
    },
    {
      "cell_type": "code",
      "source": [
        "# Se incorporan las stopwords sugeridas por Federico\n",
        "stopwords.extend(['señor', 'señora', 'mucha', 'gracia', 'año', 'pasado', 'cada', 'vez', 'uno', 'dos', 'tres', 'cuatro', 'cinco', 'seis' ,'siete', 'ocho', 'nueve', 'diez'])\n",
        "stopwords.extend(['hoy', 'aquí', 'primer', 'lugar', 'primera', 'segunda', 'primero', 'segundo', 'siguiente', 'tercer'])\n",
        "stopwords.extend(['convergencia', 'esquerra', 'republicana', 'grupo', 'parlamentaria', 'parlamentario', 'partido'])\n",
        "stopwords.extend(['enmienda', 'votación', 'favor', 'abstención', 'ley', 'real', 'decreto', 'decretoley', 'resultado', 'voto', 'sé' ,'sí', 'silencio' ,'favor'])\n",
        "stopwords.extend(['usted', 'señoría', 'presidente', 'presidenta', 'ministro', 'orden' , 'día', 'palabra', 'petición', 'posición', 'punto', 'vista', 'sesión', 'baldoví', 'duran', 'turno'])\n",
        "stopwords.extend(['hacer', 'frente', 'puede' ,'ser', 'va', 'voy', 'decir'])\n",
        "stopwords.extend(['millón', 'euro', 'emitido', 'efectuada', 'dio', 'comienzo', 'partido', 'queda', 'quedan', 'rechazada', 'aceptada', 'comienza', 'usted', 'sabe', 'abstención', 'diputado', 'gobierno'])\n",
        "stopwords.extend(['continuación', 'votamos', 'telemático', 'republicanaizquierda', 'unidainiciativa', 'puede', 'bien', 'propuesta' ,'abstencion', 'mayoría', 'absoluta', 'pregunta', 'don', 'vamos', 'votar', 'llevar', 'cabo', 'millón', 'muchas', 'gracias'])\n",
        "stopwords.extend(['podemosen', 'podemen', 'ministro', 'ministra', 'ss', 'ruego', 'aprobado', 'aprobada'])\n",
        "stopwords.extend(['diputado', 'diputada', 'don', 'doña', 'vicepresidenta', 'sagastizab', 'unzetabarrenetxea', 'agirretxea', 'urresti', 'escrutinio', 'dijo', 'dice', 'quevedo'])\n",
        "stopwords.extend(['campuzano', 'beitialarrangoitia', 'gonzalezmoro', 'mixto'])"
      ],
      "metadata": {
        "id": "D34MOjAhUx_a"
      },
      "execution_count": 4,
      "outputs": []
    },
    {
      "cell_type": "code",
      "source": [
        "# Se incorporan los nombres de los oradores como stopwords\n",
        "from collections import Counter\n",
        "nombres=[]\n",
        "for i in base.namey.unique().tolist(): nombres.extend(str(i).split(' '))\n",
        "nombres = [x.strip(' ') for x in nombres]\n",
        "nombres = [x.strip(' †') for x in nombres]\n",
        "nombres = [x.strip(',') for x in nombres]\n",
        "nombres=list(Counter(nombres))\n",
        "nombres.remove('')"
      ],
      "metadata": {
        "id": "yRV1LnZ51Z8_"
      },
      "execution_count": 5,
      "outputs": []
    },
    {
      "cell_type": "code",
      "source": [
        "stopwords.extend(nombres)"
      ],
      "metadata": {
        "id": "h_aUXBkoJTLY"
      },
      "execution_count": 6,
      "outputs": []
    },
    {
      "cell_type": "code",
      "source": [
        "partidos=pd.read_csv('/content/drive/MyDrive/partidos.csv', encoding='latin1', sep=';')"
      ],
      "metadata": {
        "id": "gVO9-cRc2C2h"
      },
      "execution_count": 7,
      "outputs": []
    },
    {
      "cell_type": "code",
      "source": [
        "for x in partidos['nombre'].unique(): \n",
        "  a=str(x).rstrip(' ')\n",
        "  stopwords.extend(str(a).split())\n",
        "  stopwords.extend(a)\n",
        "\n",
        "for x in partidos['1'].unique():\n",
        "  a=str(x).rstrip(' ')\n",
        "  stopwords.extend(a.split())\n",
        "  stopwords.extend(a)\n",
        "\n",
        "for x in partidos['2'].unique(): \n",
        "  a=str(x).rstrip(' ')\n",
        "  stopwords.extend(a.split())\n",
        "  stopwords.extend(a)\n",
        "\n",
        "for x in partidos['3'].unique(): \n",
        "  a=str(x).rstrip(' ')\n",
        "  stopwords.extend(a.split())\n",
        "  stopwords.extend(a)"
      ],
      "metadata": {
        "id": "tsT8asPdUpq0"
      },
      "execution_count": 8,
      "outputs": []
    },
    {
      "cell_type": "code",
      "source": [
        "len(stopwords)"
      ],
      "metadata": {
        "id": "PcvgCNO-OI4Z",
        "outputId": "85562c96-920d-4f48-c42e-e86a8695459b",
        "colab": {
          "base_uri": "https://localhost:8080/"
        }
      },
      "execution_count": 9,
      "outputs": [
        {
          "output_type": "execute_result",
          "data": {
            "text/plain": [
              "4481"
            ]
          },
          "metadata": {},
          "execution_count": 9
        }
      ]
    },
    {
      "cell_type": "code",
      "source": [
        "# elimino acentos de los tokens\n",
        "a,b = 'áàéèíóúü','aaeeiouu'\n",
        "trans = str.maketrans(a,b)\n",
        "list = []\n",
        "for row in base.values:\n",
        "    row[20]=row[20].translate(trans)\n",
        "    list.append(row)\n",
        "\n",
        "base = pd.DataFrame(list, columns=base.columns)\n",
        "     "
      ],
      "metadata": {
        "id": "uyKVaX_KSoKK"
      },
      "execution_count": 10,
      "outputs": []
    },
    {
      "cell_type": "code",
      "source": [
        "# llevo las stopwords a minúsculas y elimino acentos\n",
        "stopwords=[x.lower() for x in stopwords if type(x)==str]\n",
        "stopwords=[x.translate(trans) for x in stopwords if type(x)==str]"
      ],
      "metadata": {
        "id": "6SxZPE_hSqXS"
      },
      "execution_count": 11,
      "outputs": []
    },
    {
      "cell_type": "markdown",
      "source": [
        "# TF-IDF"
      ],
      "metadata": {
        "id": "6-0E1R8iJtL7"
      }
    },
    {
      "cell_type": "code",
      "source": [
        "# El hiperparámetro min_df del TF-IDF elimina las palabras con menor frecuencia. Por ejemplo, las palabras que aparecen en menos que el 75% de los discursos. \n",
        "# A continuación se adopta un enfoque distinto: Se genera un vocabulario con todos los bigramas, y luego se elimina el 95% de los bigramas con menor TF-IDF (se conserva el 5% superior). \n",
        "# Es decir que entre los 8 millones de bigramas se seleccionan los 400mil de mayor TF-IDF. \n",
        "\n",
        "from sklearn.feature_extraction.text import TfidfVectorizer\n",
        "vect = TfidfVectorizer(ngram_range=[2,2], stop_words=stopwords)\n",
        "bow = vect.fit_transform(base['tokens'])\n",
        "total_features = len(vect.vocabulary_)"
      ],
      "metadata": {
        "id": "EZeRCYHmJuqL",
        "outputId": "415c4c3d-393f-4576-9dda-0ee9e8118c69",
        "colab": {
          "base_uri": "https://localhost:8080/"
        }
      },
      "execution_count": 12,
      "outputs": [
        {
          "output_type": "stream",
          "name": "stderr",
          "text": [
            "/usr/local/lib/python3.8/dist-packages/sklearn/feature_extraction/text.py:396: UserWarning: Your stop_words may be inconsistent with your preprocessing. Tokenizing the stop words generated tokens ['ahuja', 'alcañiz', 'amor', 'arreciado', 'barcena', 'barnuevo', 'capel', 'capitan', 'cascos', 'castejon', 'cienfuegos', 'compromis', 'congr', 'escandon', 'estefani', 'figueroa', 'fortun', 'hickman', 'huarte', 'jeltzalea', 'jovellanos', 'lasquetty', 'latorre', 'legaz', 'lersundi', 'llin', 'machuca', 'maillo', 'mancisidor', 'margallo', 'maribona', 'marlaska', 'medel', 'menchero', 'mendicoa', 'na', 'olivares', 'patxi', 'peces', 'pedrero', 'pinilla', 'piñero', 'ponga', 'pujalte', 'salmones', 'santesmases', 'sito', 'soro', 'sotelo', 'tagle', 'tesorero', 'tizon', 'toledano', 'torrecilla', 'trevijano', 'valdecasas', 'valdes', 'vargas', 'villaseñor', 'ximo', 'yañez'] not in stop_words.\n",
            "  warnings.warn(\n"
          ]
        }
      ]
    },
    {
      "cell_type": "code",
      "source": [
        "total_features"
      ],
      "metadata": {
        "id": "9kQ1WdWHLUln",
        "colab": {
          "base_uri": "https://localhost:8080/"
        },
        "outputId": "29866828-817a-43c2-be82-0922f0407f4c"
      },
      "execution_count": 13,
      "outputs": [
        {
          "output_type": "execute_result",
          "data": {
            "text/plain": [
              "7733805"
            ]
          },
          "metadata": {},
          "execution_count": 13
        }
      ]
    },
    {
      "cell_type": "code",
      "source": [
        "sum_words = bow.sum(axis=0) \n",
        "words_freq = [(word, sum_words[0, idx]) for word, idx in vect.vocabulary_.items()]\n",
        "words_freq = sorted(words_freq, key = lambda x: x[1])\n",
        "vocabulary, _ = zip(*words_freq[:int(total_features * 0.95)])\n",
        "less_vocabulary = vocabulary"
      ],
      "metadata": {
        "id": "u2zudaJdLHAH"
      },
      "execution_count": 14,
      "outputs": []
    },
    {
      "cell_type": "code",
      "source": [
        "voc=vect.vocabulary_.keys()-less_vocabulary"
      ],
      "metadata": {
        "id": "VnN5dupSLLgB"
      },
      "execution_count": 15,
      "outputs": []
    },
    {
      "cell_type": "code",
      "source": [
        "len(voc)"
      ],
      "metadata": {
        "id": "e41pUb63LRQo",
        "colab": {
          "base_uri": "https://localhost:8080/"
        },
        "outputId": "300abccc-fb8e-411e-d95a-9eeab5944e2a"
      },
      "execution_count": 16,
      "outputs": [
        {
          "output_type": "execute_result",
          "data": {
            "text/plain": [
              "386691"
            ]
          },
          "metadata": {},
          "execution_count": 16
        }
      ]
    },
    {
      "cell_type": "code",
      "source": [
        "cv=TfidfVectorizer(ngram_range=[2,2], vocabulary=voc , stop_words=stopwords)\n",
        "vec = cv.fit(base['tokens'])"
      ],
      "metadata": {
        "id": "dKJ3erurMhJQ"
      },
      "execution_count": 17,
      "outputs": []
    },
    {
      "cell_type": "code",
      "source": [
        "matrix = vec.transform(base['tokens'])"
      ],
      "metadata": {
        "id": "iv1xCHcAMjGc"
      },
      "execution_count": 18,
      "outputs": []
    },
    {
      "cell_type": "code",
      "source": [
        "matrix.shape"
      ],
      "metadata": {
        "id": "90gruQRLMoeN",
        "colab": {
          "base_uri": "https://localhost:8080/"
        },
        "outputId": "d98e26f4-7b20-4f46-c138-c7f591b02dcf"
      },
      "execution_count": 19,
      "outputs": [
        {
          "output_type": "execute_result",
          "data": {
            "text/plain": [
              "(334421, 386691)"
            ]
          },
          "metadata": {},
          "execution_count": 19
        }
      ]
    },
    {
      "cell_type": "markdown",
      "source": [
        "# LDA con 10 clusters"
      ],
      "metadata": {
        "id": "cUPM4dCzG-lY"
      }
    },
    {
      "cell_type": "code",
      "source": [
        "from sklearn.decomposition import LatentDirichletAllocation"
      ],
      "metadata": {
        "id": "nrX8JFA8HNjg"
      },
      "execution_count": 20,
      "outputs": []
    },
    {
      "cell_type": "code",
      "source": [
        "# Acá hay un tema porque se sigue usando 10 clusters cuando en realidad habría que chequear el número óptimo de clusters una vez definida la cantidad de bigramas a utilizar. \n",
        "# Sin embargo, \"Text as data\" dice que el número de clústers es generalmente arbitrario, y recomienda arrancar probando con 10. \n",
        "lda = LatentDirichletAllocation(n_components=10, max_iter=5, learning_method='online', learning_offset=50.,random_state=0)     "
      ],
      "metadata": {
        "id": "F-6Mmsh8HQLm"
      },
      "execution_count": 21,
      "outputs": []
    },
    {
      "cell_type": "code",
      "source": [
        "lda.fit(matrix)"
      ],
      "metadata": {
        "id": "KMXpBy7-Hn0m",
        "outputId": "0567402f-b299-4a80-f3e2-1f6853955eb8",
        "colab": {
          "base_uri": "https://localhost:8080/"
        }
      },
      "execution_count": 22,
      "outputs": [
        {
          "output_type": "execute_result",
          "data": {
            "text/plain": [
              "LatentDirichletAllocation(learning_method='online', learning_offset=50.0,\n",
              "                          max_iter=5, random_state=0)"
            ]
          },
          "metadata": {},
          "execution_count": 22
        }
      ]
    },
    {
      "cell_type": "code",
      "source": [
        "def display_topics(model, feature_names, no_top_words):\n",
        "    for topic_idx, topic in enumerate(model.components_):\n",
        "        print(\"Topic %d:\" % (topic_idx + 1))\n",
        "        print(\" , \".join([feature_names[i] for i in topic.argsort()[:-no_top_words - 1:-1]]))"
      ],
      "metadata": {
        "id": "b3BMGoEaHrEt"
      },
      "execution_count": 23,
      "outputs": []
    },
    {
      "cell_type": "code",
      "source": [
        "display_topics(lda, feature_names=cv.get_feature_names_out(), no_top_words=20)"
      ],
      "metadata": {
        "id": "cJxdkzWzHsWi",
        "outputId": "39746e1e-8585-41a0-dc51-cc365e445314",
        "colab": {
          "base_uri": "https://localhost:8080/"
        }
      },
      "execution_count": 24,
      "outputs": [
        {
          "output_type": "stream",
          "name": "stdout",
          "text": [
            "Topic 1:\n",
            "numero formula , desean fijar , interpelacion urgent , rechazado numero , tiempo concluido , momento guarden , convalidacion derogacion , dirigida presidencia , concluir debat , industria energia , olabarria anchuelo , pregunto acepta , dirigida industria , guarden continu , formula lui , orama mismo , dirigida agricultura , transaccion pleno , acepta presentada , reanuda dirigida\n",
            "Topic 2:\n",
            "vaya concluyendo , acabado tiempo , legarda uriart , tarda coma , acatar constitucion , seccion relativo , fijar nombr , contestar interpelacion , ciuro buldo , azpiazu anchuelo , acepta alguna , capella farre , iglesia turrion , sorli fresquet , fijacion azpiazu , azpiazu gorriaran , pasamo interpelacion , eritja ciuro , mardon nombr , siento acabado\n",
            "Topic 3:\n",
            "extraordinaria comision , celebracion extraordinaria , acuerd celebracion , plural coscubiela , gorriaran plural , suficient miembro , permanent pertenecient , plural centella , resto plural , ocupen escaño , formulada plural , pertenecient acuerd , adquirido condicion , condicion plena , nombr feder , plural acuerd , articulo apartado , plena enhorabuena , acuerd convocatoria , ultima formularla\n",
            "Topic 4:\n",
            "confeder unido , unido podemo , dictamen seccion , defensa formulada , plural nuet , formulada intervien , ciudadano torr , guarden adelant , reanudara mañana , ciudadano adelant , presentado defensa , ciudadano girauta , numero numero , dirigida asunto , pleno reanudara , transaccion numero , nombr fomento , votan bloqu , resto confeder , particular numero\n",
            "Topic 5:\n",
            "dirigida hacienda , fijacion intervien , dirigida sanidad , verd verd , verd llamazar , sanidad consumo , dirigida economia , fijacion legarda , verd tarda , ahora dirigida , pasamo mocion , ciudadano viva , vicepresident tercero , mardon verd , fijar verd , llamazar olabarria , ciudadano prend , verd canet , fijacion verd , nombr verd\n",
            "Topic 6:\n",
            "toma consideracion , texto dictamen , vaya terminando , anchuelo plural , disposicion final , procedimiento urgencia , promet acatar , dirigida interior , dictamen comision , tramitacion proyecto , canto plural , tiempo minuto , jura promet , interpelacion urgent , tramitara proyecto , terminado tiempo , siento tiempo , seccion dictamen , juramento promesa , acuerda asi\n",
            "Topic 7:\n",
            "comunidad autonoma , administracion publica , toma consideracion , medio ambient , ir acabando , presupuesto general , defensa presentada , ir terminando , hacienda administracion , servicio igualdad , cultura deport , servicio publico , congreso formula , consecuencia interpelacion , mocion consecuencia , diputacion permanent , violencia genero , sanidad servicio , educacion cultura , creacion empleo\n",
            "Topic 8:\n",
            "pasamo fijacion , pasamo numero , plural sixto , deseen fijar , transaccion presentada , fijacion olabarria , pasamo proposicion , azpiazu llibr , consecuencia toma , jorquera verd , transaccion opon , intervendran representant , orador continu , opon tramitacion , coscubiela terminar , comision estatuto , mardon continuamo , nombr sanidad , fijacion nombr , fijacion gorriaran\n",
            "Topic 9:\n",
            "poder judici , consideracion proposicion , disposicion adicion , asunto exterior , suspend mañana , vota termino , codigo penal , candidato presidencia , aceptacion rechazo , proyecto organica , dictamen comision , formulada numero , dirigida justicia , mañana hora , miembro diputacion , senado proyecto , consejo poder , disposicion transitoria , proposicion organica , articulo unico\n",
            "Topic 10:\n",
            "plural llamazar , resto dictamen , matut jalon , medio ambient , ciudadano mone , uxu barko , solicitado utilizacion , olabarria gorriaran , formular presentada , expresar aceptacion , nombr economia , rufian adelant , minuto comenzara , minuto comenzaran , obra publica , nombr interior , llamazar jane , olabarria finalizar , lui perestelo , fielment obligacion\n"
          ]
        }
      ]
    },
    {
      "cell_type": "markdown",
      "source": [
        "# LASSO por legislatura"
      ],
      "metadata": {
        "id": "8-gb-mEnBIzT"
      }
    },
    {
      "cell_type": "code",
      "source": [
        "from tabulate import tabulate\n",
        "from sklearn.linear_model import LogisticRegression\n",
        "from sklearn.metrics import confusion_matrix,classification_report\n",
        "import numpy as np\n",
        "from numpy import argsort\n",
        "import statistics\n",
        "from statistics import mode\n",
        "from scipy.special import logsumexp\n",
        "import scipy as sp"
      ],
      "metadata": {
        "id": "vhDOUIZfBKmy"
      },
      "execution_count": 25,
      "outputs": []
    },
    {
      "cell_type": "code",
      "source": [
        "def frex(mod, w=0.7):\n",
        "    log_beta = np.log(mod.components_)\n",
        "    log_exclusivity = log_beta - logsumexp(log_beta, axis=0)\n",
        "    exclusivity_ecdf = np.apply_along_axis(ecdf, 1, log_exclusivity)\n",
        "    freq_ecdf = np.apply_along_axis(ecdf, 1, log_beta)\n",
        "    out = 1. / (w / exclusivity_ecdf + (1 - w) / freq_ecdf)\n",
        "    return out\n",
        "\n",
        "def ecdf(arr):\n",
        "    return sp.stats.rankdata(arr, method='max') / arr.size"
      ],
      "metadata": {
        "id": "81XlFaANB8kB"
      },
      "execution_count": 26,
      "outputs": []
    },
    {
      "cell_type": "code",
      "source": [
        "frex_df=pd.DataFrame(frex(lda))"
      ],
      "metadata": {
        "id": "ULyGkadGCBjd"
      },
      "execution_count": 27,
      "outputs": []
    },
    {
      "cell_type": "code",
      "source": [
        "# Topic que presenta mayor FREX para cada bigrama\n",
        "d = []\n",
        "feature_names=vec.get_feature_names_out()\n",
        "for n in enumerate(feature_names):\n",
        "    d.append(\n",
        "        {\n",
        "            'N': n[0],\n",
        "            'Bigrama': n[1],\n",
        "            'Topic':  frex_df[n[0]].argsort()[9]\n",
        "        }\n",
        "    )\n",
        "\n",
        "bi_topic_frex=pd.DataFrame(d)\n",
        "bi_topic_frex.head(20)"
      ],
      "metadata": {
        "id": "bxUhi6ifBuiB",
        "outputId": "293fb565-64ad-4d95-8fda-eab4708f589b",
        "colab": {
          "base_uri": "https://localhost:8080/",
          "height": 677
        }
      },
      "execution_count": 28,
      "outputs": [
        {
          "output_type": "execute_result",
          "data": {
            "text/plain": [
              "     N                Bigrama  Topic\n",
              "0    0       aabstencion nulo      5\n",
              "1    1       aaizpun justicla      4\n",
              "2    2          aarnau bandre      0\n",
              "3    3  aazcarraga anasagasti      3\n",
              "4    4              ab initio      8\n",
              "5    5           ab intestato      8\n",
              "6    6              ab soluto      7\n",
              "7    7             ab tencion      8\n",
              "8    8           abajo arriba      6\n",
              "9    9          abajo firmant      6\n",
              "10  10             abajo sino      9\n",
              "11  11          abalo acabado      1\n",
              "12  12          abalo adelant      1\n",
              "13  13             abalo camp      1\n",
              "14  14         abalo congreso      0\n",
              "15  15            abalo dicho      6\n",
              "16  16            abalo dunio      4\n",
              "17  17         abalo fijacion      1\n",
              "18  18               abalo ir      9\n",
              "19  19              abalo lui      1"
            ],
            "text/html": [
              "\n",
              "  <div id=\"df-e684881a-0765-401e-99ae-a103c85eea7c\">\n",
              "    <div class=\"colab-df-container\">\n",
              "      <div>\n",
              "<style scoped>\n",
              "    .dataframe tbody tr th:only-of-type {\n",
              "        vertical-align: middle;\n",
              "    }\n",
              "\n",
              "    .dataframe tbody tr th {\n",
              "        vertical-align: top;\n",
              "    }\n",
              "\n",
              "    .dataframe thead th {\n",
              "        text-align: right;\n",
              "    }\n",
              "</style>\n",
              "<table border=\"1\" class=\"dataframe\">\n",
              "  <thead>\n",
              "    <tr style=\"text-align: right;\">\n",
              "      <th></th>\n",
              "      <th>N</th>\n",
              "      <th>Bigrama</th>\n",
              "      <th>Topic</th>\n",
              "    </tr>\n",
              "  </thead>\n",
              "  <tbody>\n",
              "    <tr>\n",
              "      <th>0</th>\n",
              "      <td>0</td>\n",
              "      <td>aabstencion nulo</td>\n",
              "      <td>5</td>\n",
              "    </tr>\n",
              "    <tr>\n",
              "      <th>1</th>\n",
              "      <td>1</td>\n",
              "      <td>aaizpun justicla</td>\n",
              "      <td>4</td>\n",
              "    </tr>\n",
              "    <tr>\n",
              "      <th>2</th>\n",
              "      <td>2</td>\n",
              "      <td>aarnau bandre</td>\n",
              "      <td>0</td>\n",
              "    </tr>\n",
              "    <tr>\n",
              "      <th>3</th>\n",
              "      <td>3</td>\n",
              "      <td>aazcarraga anasagasti</td>\n",
              "      <td>3</td>\n",
              "    </tr>\n",
              "    <tr>\n",
              "      <th>4</th>\n",
              "      <td>4</td>\n",
              "      <td>ab initio</td>\n",
              "      <td>8</td>\n",
              "    </tr>\n",
              "    <tr>\n",
              "      <th>5</th>\n",
              "      <td>5</td>\n",
              "      <td>ab intestato</td>\n",
              "      <td>8</td>\n",
              "    </tr>\n",
              "    <tr>\n",
              "      <th>6</th>\n",
              "      <td>6</td>\n",
              "      <td>ab soluto</td>\n",
              "      <td>7</td>\n",
              "    </tr>\n",
              "    <tr>\n",
              "      <th>7</th>\n",
              "      <td>7</td>\n",
              "      <td>ab tencion</td>\n",
              "      <td>8</td>\n",
              "    </tr>\n",
              "    <tr>\n",
              "      <th>8</th>\n",
              "      <td>8</td>\n",
              "      <td>abajo arriba</td>\n",
              "      <td>6</td>\n",
              "    </tr>\n",
              "    <tr>\n",
              "      <th>9</th>\n",
              "      <td>9</td>\n",
              "      <td>abajo firmant</td>\n",
              "      <td>6</td>\n",
              "    </tr>\n",
              "    <tr>\n",
              "      <th>10</th>\n",
              "      <td>10</td>\n",
              "      <td>abajo sino</td>\n",
              "      <td>9</td>\n",
              "    </tr>\n",
              "    <tr>\n",
              "      <th>11</th>\n",
              "      <td>11</td>\n",
              "      <td>abalo acabado</td>\n",
              "      <td>1</td>\n",
              "    </tr>\n",
              "    <tr>\n",
              "      <th>12</th>\n",
              "      <td>12</td>\n",
              "      <td>abalo adelant</td>\n",
              "      <td>1</td>\n",
              "    </tr>\n",
              "    <tr>\n",
              "      <th>13</th>\n",
              "      <td>13</td>\n",
              "      <td>abalo camp</td>\n",
              "      <td>1</td>\n",
              "    </tr>\n",
              "    <tr>\n",
              "      <th>14</th>\n",
              "      <td>14</td>\n",
              "      <td>abalo congreso</td>\n",
              "      <td>0</td>\n",
              "    </tr>\n",
              "    <tr>\n",
              "      <th>15</th>\n",
              "      <td>15</td>\n",
              "      <td>abalo dicho</td>\n",
              "      <td>6</td>\n",
              "    </tr>\n",
              "    <tr>\n",
              "      <th>16</th>\n",
              "      <td>16</td>\n",
              "      <td>abalo dunio</td>\n",
              "      <td>4</td>\n",
              "    </tr>\n",
              "    <tr>\n",
              "      <th>17</th>\n",
              "      <td>17</td>\n",
              "      <td>abalo fijacion</td>\n",
              "      <td>1</td>\n",
              "    </tr>\n",
              "    <tr>\n",
              "      <th>18</th>\n",
              "      <td>18</td>\n",
              "      <td>abalo ir</td>\n",
              "      <td>9</td>\n",
              "    </tr>\n",
              "    <tr>\n",
              "      <th>19</th>\n",
              "      <td>19</td>\n",
              "      <td>abalo lui</td>\n",
              "      <td>1</td>\n",
              "    </tr>\n",
              "  </tbody>\n",
              "</table>\n",
              "</div>\n",
              "      <button class=\"colab-df-convert\" onclick=\"convertToInteractive('df-e684881a-0765-401e-99ae-a103c85eea7c')\"\n",
              "              title=\"Convert this dataframe to an interactive table.\"\n",
              "              style=\"display:none;\">\n",
              "        \n",
              "  <svg xmlns=\"http://www.w3.org/2000/svg\" height=\"24px\"viewBox=\"0 0 24 24\"\n",
              "       width=\"24px\">\n",
              "    <path d=\"M0 0h24v24H0V0z\" fill=\"none\"/>\n",
              "    <path d=\"M18.56 5.44l.94 2.06.94-2.06 2.06-.94-2.06-.94-.94-2.06-.94 2.06-2.06.94zm-11 1L8.5 8.5l.94-2.06 2.06-.94-2.06-.94L8.5 2.5l-.94 2.06-2.06.94zm10 10l.94 2.06.94-2.06 2.06-.94-2.06-.94-.94-2.06-.94 2.06-2.06.94z\"/><path d=\"M17.41 7.96l-1.37-1.37c-.4-.4-.92-.59-1.43-.59-.52 0-1.04.2-1.43.59L10.3 9.45l-7.72 7.72c-.78.78-.78 2.05 0 2.83L4 21.41c.39.39.9.59 1.41.59.51 0 1.02-.2 1.41-.59l7.78-7.78 2.81-2.81c.8-.78.8-2.07 0-2.86zM5.41 20L4 18.59l7.72-7.72 1.47 1.35L5.41 20z\"/>\n",
              "  </svg>\n",
              "      </button>\n",
              "      \n",
              "  <style>\n",
              "    .colab-df-container {\n",
              "      display:flex;\n",
              "      flex-wrap:wrap;\n",
              "      gap: 12px;\n",
              "    }\n",
              "\n",
              "    .colab-df-convert {\n",
              "      background-color: #E8F0FE;\n",
              "      border: none;\n",
              "      border-radius: 50%;\n",
              "      cursor: pointer;\n",
              "      display: none;\n",
              "      fill: #1967D2;\n",
              "      height: 32px;\n",
              "      padding: 0 0 0 0;\n",
              "      width: 32px;\n",
              "    }\n",
              "\n",
              "    .colab-df-convert:hover {\n",
              "      background-color: #E2EBFA;\n",
              "      box-shadow: 0px 1px 2px rgba(60, 64, 67, 0.3), 0px 1px 3px 1px rgba(60, 64, 67, 0.15);\n",
              "      fill: #174EA6;\n",
              "    }\n",
              "\n",
              "    [theme=dark] .colab-df-convert {\n",
              "      background-color: #3B4455;\n",
              "      fill: #D2E3FC;\n",
              "    }\n",
              "\n",
              "    [theme=dark] .colab-df-convert:hover {\n",
              "      background-color: #434B5C;\n",
              "      box-shadow: 0px 1px 3px 1px rgba(0, 0, 0, 0.15);\n",
              "      filter: drop-shadow(0px 1px 2px rgba(0, 0, 0, 0.3));\n",
              "      fill: #FFFFFF;\n",
              "    }\n",
              "  </style>\n",
              "\n",
              "      <script>\n",
              "        const buttonEl =\n",
              "          document.querySelector('#df-e684881a-0765-401e-99ae-a103c85eea7c button.colab-df-convert');\n",
              "        buttonEl.style.display =\n",
              "          google.colab.kernel.accessAllowed ? 'block' : 'none';\n",
              "\n",
              "        async function convertToInteractive(key) {\n",
              "          const element = document.querySelector('#df-e684881a-0765-401e-99ae-a103c85eea7c');\n",
              "          const dataTable =\n",
              "            await google.colab.kernel.invokeFunction('convertToInteractive',\n",
              "                                                     [key], {});\n",
              "          if (!dataTable) return;\n",
              "\n",
              "          const docLinkHtml = 'Like what you see? Visit the ' +\n",
              "            '<a target=\"_blank\" href=https://colab.research.google.com/notebooks/data_table.ipynb>data table notebook</a>'\n",
              "            + ' to learn more about interactive tables.';\n",
              "          element.innerHTML = '';\n",
              "          dataTable['output_type'] = 'display_data';\n",
              "          await google.colab.output.renderOutput(dataTable, element);\n",
              "          const docLink = document.createElement('div');\n",
              "          docLink.innerHTML = docLinkHtml;\n",
              "          element.appendChild(docLink);\n",
              "        }\n",
              "      </script>\n",
              "    </div>\n",
              "  </div>\n",
              "  "
            ]
          },
          "metadata": {},
          "execution_count": 28
        }
      ]
    },
    {
      "cell_type": "code",
      "source": [
        "# Relevancia de bigramas en la predicción por legislatura\n",
        "tabla=[]\n",
        "legislaturas=['I', 'II', 'III', 'IV', 'V', 'VI', 'VII','VIII', 'IX', 'X', 'XI', 'XII','XIII']\n",
        "n=5\n",
        "\n",
        "cv=TfidfVectorizer(ngram_range=[2,2], vocabulary=voc , stop_words=stopwords)\n",
        "\n",
        "for x in legislaturas: \n",
        "  base_year=base[base.legislatura==x]\n",
        "  \n",
        "  vec = cv.fit(base_year['tokens'])\n",
        "  train_matrix = vec.fit_transform(base_year['tokens']) \n",
        "  lr = LogisticRegression(penalty='l1', max_iter=50, solver='liblinear')\n",
        "  lr.fit(train_matrix,base_year['party'])\n",
        "  \n",
        "  features=[]\n",
        "  s=lr.coef_[0]\n",
        "  \n",
        "  print(f\"Legislatura: {x} - Most Frecuent Topic: {mode(bi_topic_frex['Topic'][argsort(s)])}\")\n",
        "  print(tabulate([cv.get_feature_names_out()[argsort(s)[:n]], sorted(s)[:n],bi_topic_frex['Topic'][argsort(s)[:n]],cv.get_feature_names_out()[argsort(s)[-n:]], sorted(s)[-n:],  bi_topic_frex['Topic'][argsort(s)[-n:]]], tablefmt='pretty'))\n",
        "     "
      ],
      "metadata": {
        "id": "M6Sh3m9EBRBW",
        "outputId": "bab81053-35d5-43eb-9a12-fe36f326a425",
        "colab": {
          "base_uri": "https://localhost:8080/"
        }
      },
      "execution_count": 30,
      "outputs": [
        {
          "output_type": "stream",
          "name": "stderr",
          "text": [
            "/usr/local/lib/python3.8/dist-packages/sklearn/feature_extraction/text.py:396: UserWarning: Your stop_words may be inconsistent with your preprocessing. Tokenizing the stop words generated tokens ['ahuja', 'alcañiz', 'amor', 'arreciado', 'barcena', 'barnuevo', 'capel', 'capitan', 'cascos', 'castejon', 'cienfuegos', 'compromis', 'congr', 'escandon', 'estefani', 'figueroa', 'fortun', 'hickman', 'huarte', 'jeltzalea', 'jovellanos', 'lasquetty', 'latorre', 'legaz', 'lersundi', 'llin', 'machuca', 'maillo', 'mancisidor', 'margallo', 'maribona', 'marlaska', 'medel', 'menchero', 'mendicoa', 'na', 'olivares', 'patxi', 'peces', 'pedrero', 'pinilla', 'piñero', 'ponga', 'pujalte', 'salmones', 'santesmases', 'sito', 'soro', 'sotelo', 'tagle', 'tesorero', 'tizon', 'toledano', 'torrecilla', 'trevijano', 'valdecasas', 'valdes', 'vargas', 'villaseñor', 'ximo', 'yañez'] not in stop_words.\n",
            "  warnings.warn(\n"
          ]
        },
        {
          "output_type": "stream",
          "name": "stdout",
          "text": [
            "Legislatura: I - Most Frecuent Topic: 6\n",
            "+---------------------+--------------------+--------------------+-------------------------+---------------------+\n",
            "|    duda ninguna     | publicada boletin  |   articulo pausa   | interpelacion formulada |   nombr centrista   |\n",
            "| -14.106612926414567 | -7.130562443810495 | -6.504855941926496 |   -5.572986201682329    | -5.156964089972759  |\n",
            "|          6          |         6          |         5          |            6            |          8          |\n",
            "|    pasamo examen    |   alguna manera    |   cualquier caso   |   ministerio hacienda   | presupuesto general |\n",
            "| 4.6279455079329415  | 6.534625222880626  | 6.895209231519178  |    7.860193351317102    |  8.916653826721907  |\n",
            "|          4          |         6          |         6          |            6            |          6          |\n",
            "+---------------------+--------------------+--------------------+-------------------------+---------------------+\n",
            "Legislatura: II - Most Frecuent Topic: 6\n",
            "+---------------------+---------------------+---------------------+---------------------+---------------------+\n",
            "|      cabe duda      |    banco derecha    |   opinion publica   |     grave error     |   ninguna manera    |\n",
            "| -12.137321317031287 | -11.925244673978385 | -11.415214595175582 | -10.519494425729684 | -10.124887844518016 |\n",
            "|          6          |          6          |          6          |          6          |          6          |\n",
            "|   terminado debat   |   articulo pausa    |     pausa nulo      |    tiempo minuto    |  dictamen comision  |\n",
            "|  7.554212009494896  |  8.22373006834931   |  9.015748094108117  |  9.32362294951608   | 10.185807199061824  |\n",
            "|          6          |          5          |          5          |          5          |          5          |\n",
            "+---------------------+---------------------+---------------------+---------------------+---------------------+\n",
            "Legislatura: III - Most Frecuent Topic: 6\n",
            "+---------------------+---------------------+---------------------+---------------------+---------------------+\n",
            "|    tan important    | comunidad economica |   buena voluntad    | apoyar proposicion  |  calidad enseñanza  |\n",
            "| -12.068567418530204 | -11.088606875871358 | -10.574589221827832 | -10.522451448265793 | -10.177071011909012 |\n",
            "|          6          |          6          |          6          |          6          |          6          |\n",
            "|  agrupacion pausa   |     pausa nulo      |  minoria catalana   | agrupacion catalana |  dictamen comision  |\n",
            "| 3.6625350909949255  |   4.3224388812718   |  4.440797834190826  |  6.708808054840358  |  8.80095980854472   |\n",
            "|          3          |          5          |          6          |          3          |          5          |\n",
            "+---------------------+---------------------+---------------------+---------------------+---------------------+\n",
            "Legislatura: IV - Most Frecuent Topic: 6\n",
            "+--------------------+--------------------+---------------------+---------------------+---------------------+\n",
            "|    da sensacion    |   aplauso banco    | ministerio economia | ministerio hacienda |      tan grave      |\n",
            "| -16.43011272953759 | -13.96885637484839 | -10.685855105383991 | -10.648359216874324 | -10.390315030319625 |\n",
            "|         6          |         6          |          6          |          6          |          6          |\n",
            "|      cd pausa      |   vall lersundi    |    numero pausa     | seccion ministerio  |   nombr proponent   |\n",
            "| 3.8888877417593903 | 4.050981991641028  |  4.411956340703739  |  4.777257991905633  |  5.862040844776585  |\n",
            "|         1          |         1          |          5          |          4          |          6          |\n",
            "+--------------------+--------------------+---------------------+---------------------+---------------------+\n",
            "Legislatura: V - Most Frecuent Topic: 6\n",
            "+---------------------+---------------------+--------------------+----------------------+--------------------+\n",
            "|    alguna manera    | falta credibilidad  | medio comunicacion |   sanidad publica    |    sido incapaz    |\n",
            "| -14.025529501370222 | -10.797786599353394 | -10.43233529670209 | -10.030606478761506  | -9.824708749507046 |\n",
            "|          6          |          6          |         6          |          6           |         6          |\n",
            "|  dictamen comision  |    desean fijar     |    deseen fijar    | interpelacion urgent |  congreso formula  |\n",
            "|  4.643914217313569  |  4.800069041918248  | 4.866219070444073  |  6.378168321796892   | 18.16012927085811  |\n",
            "|          5          |          0          |         7          |          0           |         6          |\n",
            "+---------------------+---------------------+--------------------+----------------------+--------------------+\n",
            "Legislatura: VI - Most Frecuent Topic: 6\n",
            "+--------------------+--------------------+--------------------+--------------------+----------------------+\n",
            "|  congreso formula  | termino resultant  | presentacion nombr |  creacion empleo   | presentacion defensa |\n",
            "| -8.996154944129993 | -8.011077297406706 | -7.93781708526862  | -7.373971879767655 |  -6.433692014505316  |\n",
            "|         6          |         6          |         6          |         6          |          6           |\n",
            "|     van tener      |   ninguna clase    |    fijar debat     | pura sencillament  |    ciudadano pai     |\n",
            "|  8.82228410162986  | 8.961482638414001  | 9.450880833633502  | 10.225651658672374 |  13.624547900040932  |\n",
            "|         6          |         6          |         8          |         6          |          6           |\n",
            "+--------------------+--------------------+--------------------+--------------------+----------------------+\n",
            "Legislatura: VII - Most Frecuent Topic: 6\n",
            "+---------------------+---------------------+----------------------+--------------------+--------------------+\n",
            "|   numero formula    |  congreso formula   | interpelacion urgent |   ocupen escaño    |   cultura deport   |\n",
            "| -11.687370506949822 | -10.172420399631067 |  -9.907714839196192  | -8.824662473036623 | -8.068149195942176 |\n",
            "|          0          |          6          |          0           |         2          |         6          |\n",
            "|    mala gestion     |    queremo saber    |    grave problema    |    mile persona    |   ciudadano pai    |\n",
            "|  11.55752158392759  | 11.681343447104602  |  12.065341642054902  | 13.209510364437088 | 16.73677144248144  |\n",
            "|          6          |          6          |          6           |         6          |         6          |\n",
            "+---------------------+---------------------+----------------------+--------------------+--------------------+\n",
            "Legislatura: VIII - Most Frecuent Topic: 6\n",
            "+--------------------+---------------------+----------------------+----------------------------+------------------------+\n",
            "|  soberania nacion  |   dar explicacion   |  medio comunicacion  |       tema important       | asumir responsabilidad |\n",
            "| -15.84681211583741 | -14.871677620040332 |  -14.10717224587856  |    -12.186159197895607     |  -11.236582891675091   |\n",
            "|         8          |          6          |          6           |             6              |           6            |\n",
            "|   politica agua    |  tiempo concluido   | proposicion congreso | celebracion extraordinaria |    turismo comercio    |\n",
            "| 4.110815807022841  |  4.195706686648705  |  4.680733548523836   |     5.336812663148638      |   7.582590240139261    |\n",
            "|         6          |          0          |          6           |             2              |           6            |\n",
            "+--------------------+---------------------+----------------------+----------------------------+------------------------+\n",
            "Legislatura: IX - Most Frecuent Topic: 6\n",
            "+--------------------+---------------------+--------------------+----------------------+---------------------+\n",
            "| medio comunicacion |   puesto trabajo    |      tan solo      |     mese despue      |   subir impuesto    |\n",
            "| -15.84549571408921 | -13.852123035763457 | -13.67508600750903 | -11.703696382155528  | -11.305646349118494 |\n",
            "|         6          |          6          |         6          |          6           |          6          |\n",
            "|   entidad local    |  reduccion deficit  |   puesto marcha    | consolidacion fiscal |  turismo comercio   |\n",
            "|  5.70390119089777  |  6.168489893418822  | 9.964708384244176  |  10.39906597997171   | 12.718149949792513  |\n",
            "|         6          |          6          |         6          |          6           |          6          |\n",
            "+--------------------+---------------------+--------------------+----------------------+---------------------+\n",
            "Legislatura: X - Most Frecuent Topic: 6\n",
            "+---------------------+---------------------+---------------------+--------------------+--------------------+\n",
            "| reforma estructural |   creacion empleo   |  servicio igualdad  |  deficit publico   |   pago proveedor   |\n",
            "| -17.86201551795729  | -11.453793068658628 | -10.116496941387354 | -9.777013924392955 | -7.220779093847096 |\n",
            "|          6          |          6          |          6          |         6          |         6          |\n",
            "|  creemo necesario   |   amnistia fiscal   |    queremo saber    |    mile persona    |    tan siquiera    |\n",
            "| 10.782957739101011  | 10.811185716563198  | 11.595607967536667  | 11.620380190442521 | 15.562327856922765 |\n",
            "|          6          |          6          |          6          |         6          |         6          |\n",
            "+---------------------+---------------------+---------------------+--------------------+--------------------+\n",
            "Legislatura: XI - Most Frecuent Topic: 6\n",
            "+---------------------+---------------------+----------------------+---------------------+---------------------+\n",
            "| comunidad autonoma  |   secretaria edad   |     alguna sido      | pasamo intervencion |    hecho alusion    |\n",
            "| -3.3393127389180255 | -2.929725211477734  | -1.5182349963728896  | -0.912685899774494  | -0.3242768092680551 |\n",
            "|          6          |          3          |          8           |          8          |          6          |\n",
            "| encontramo proceso  | encontramo problema | encontramo presencia |     ñor tiempo      |  vaya concluyendo   |\n",
            "|         0.0         |         0.0         |         0.0          |         0.0         | 0.7455183656369304  |\n",
            "|          4          |          6          |          9           |          5          |          1          |\n",
            "+---------------------+---------------------+----------------------+---------------------+---------------------+\n",
            "Legislatura: XII - Most Frecuent Topic: 6\n",
            "+---------------------+------------------------+-------------------------+--------------------+--------------------+\n",
            "|   creacion empleo   |   servicio igualdad    | extraordinaria comision |    pasamo ahora    |    duda alguna     |\n",
            "| -17.737539848601948 |   -9.701803702131784   |   -7.550753129395031    | -7.154122256537211 | -5.56428081529717  |\n",
            "|          6          |           6            |            2            |         6          |         6          |\n",
            "|      dire cosa      | trabajador trabajadora |    senda estabilidad    |   dar respuesta    |   ciudadano pai    |\n",
            "|  9.316708281441922  |   9.467055271646256    |   11.428223140617304    | 11.67166811723088  | 19.260654035745777 |\n",
            "|          6          |           6            |            6            |         6          |         6          |\n",
            "+---------------------+------------------------+-------------------------+--------------------+--------------------+\n",
            "Legislatura: XIII - Most Frecuent Topic: 6\n",
            "+---------------------+---------------------+----------------------------+-----------------------+-------------------+\n",
            "| comunidad autonoma  |    guardia civil    | estabilidad presupuestaria |   cambio climatico    | aabstencion nulo  |\n",
            "| -3.5996687356098342 | -3.5674083257015323 |     -2.747753549276232     |  -2.529843959621363   |        0.0        |\n",
            "|          6          |          8          |             6              |           6           |         5         |\n",
            "| encontramo respecto |     ñor tiempo      |       ir terminando        | candidato presidencia |  confeder podemo  |\n",
            "|         0.0         |         0.0         |    0.10525682359867648     |  0.25598973360615357  | 1.176970812167787 |\n",
            "|          1          |          5          |             6              |           8           |         6         |\n",
            "+---------------------+---------------------+----------------------------+-----------------------+-------------------+\n"
          ]
        }
      ]
    },
    {
      "cell_type": "markdown",
      "source": [
        "# LASSO por año"
      ],
      "metadata": {
        "id": "OFeJludNFKDc"
      }
    },
    {
      "cell_type": "code",
      "source": [
        "# Relevancia de bigramas en la predicción por año\n",
        "tabla=[]\n",
        "vec = cv.fit(base['tokens'])\n",
        "nombres=cv.get_feature_names_out()\n",
        "componentes=lda.components_.transpose()\n",
        "n = 5\n",
        "\n",
        "for x in pd.DatetimeIndex(base.fecha).year.unique().sort_values(): \n",
        "  base_year=base[pd.DatetimeIndex(base.fecha).year==x]\n",
        "  train_matrix = vec.fit_transform(base_year['tokens'])\n",
        "  y_train= base_year['party']\n",
        "  lr = LogisticRegression(penalty='l1', max_iter=1000, solver='liblinear')\n",
        "  lr.fit(train_matrix,y_train)\n",
        "\n",
        "  s = lr.coef_[0]\n",
        "    \n",
        "  print(f\"Año: {x}\")\n",
        "  print(tabulate([cv.get_feature_names_out()[argsort(s)[:n]], sorted(s)[:n],bi_topic_frex['Topic'][argsort(s)[:n]],cv.get_feature_names_out()[argsort(s)[-n:]], sorted(s)[-n:],  bi_topic_frex['Topic'][argsort(s)[-n:]]], tablefmt='pretty'))"
      ],
      "metadata": {
        "id": "iwoTUMp8FMHE",
        "outputId": "f1fde6ee-ab80-49e8-88fb-a9befe3bff1c",
        "colab": {
          "base_uri": "https://localhost:8080/"
        }
      },
      "execution_count": 43,
      "outputs": [
        {
          "output_type": "stream",
          "name": "stdout",
          "text": [
            "Año: 1979\n",
            "+---------------------+--------------------+--------------------+--------------------+--------------------+\n",
            "|  publicada boletin  |  correspond ahora  |   general numero   |     quier uso      |  nombr industria   |\n",
            "| -4.739928163391904  | -4.217650316959833 |  -2.340491509884   | -2.042521994445309 | -1.690891938021166 |\n",
            "|          6          |         6          |         6          |         9          |         0          |\n",
            "| estatuto trabajador | comunidad autonoma |   comite empresa   | formacion politica | convenio colectivo |\n",
            "| 0.6405296288394069  | 0.7544808651543508 | 1.5215755526891195 | 1.6891187544164281 | 1.7516124010385579 |\n",
            "|          6          |         6          |         6          |         6          |         6          |\n",
            "+---------------------+--------------------+--------------------+--------------------+--------------------+\n",
            "Año: 1980\n",
            "+--------------------+----------------------+---------------------+--------------------+--------------------+\n",
            "| publicada boletin  |    articulo pausa    | articulo mantenida  |  senado articulo   | dictamen comision  |\n",
            "| -6.682972177939935 |  -6.39701396578331   | -5.190661594737977  | -4.738951285048147 | -4.325964064233555 |\n",
            "|         6          |          5           |          5          |         5          |         5          |\n",
            "|  seguro desempleo  | jurisdiccion militar | presupuesto general |  justicia militar  |   alguna manera    |\n",
            "| 3.4512146400029753 |  3.669852801104832   | 3.7919982775077403  | 4.571867585688939  | 4.893585226003827  |\n",
            "|         6          |          8           |          6          |         8          |         6          |\n",
            "+--------------------+----------------------+---------------------+--------------------+--------------------+\n",
            "Año: 1981\n",
            "+-------------------------+-------------------------+---------------------+---------------------------+--------------------+\n",
            "| contestar interpelacion | interpelacion formulada |   contestar nombr   | desarrollar interpelacion |     desea uso      |\n",
            "|   -4.049388070999228    |   -3.1275697635437267   | -3.0927343263583995 |    -2.4067438466358855    | -2.353562668721226 |\n",
            "|            1            |            6            |          3          |             5             |         1          |\n",
            "|   encontramo materia    |     interpelant uso     |  ministerio fiscal  |    disposicion adicion    |  pedimo separada   |\n",
            "|           0.0           |  0.003336667663193012   | 0.5679284570565855  |    0.8026154837353849     | 1.5966422255900259 |\n",
            "|            8            |            1            |          8          |             8             |         0          |\n",
            "+-------------------------+-------------------------+---------------------+---------------------------+--------------------+\n",
            "Año: 1982\n",
            "+---------------------+-------------------------+---------------------+--------------------+--------------------+\n",
            "|   junta comunidad   | interpelacion formulada |    duda ninguna     | publica urbanismo  |  contestar nombr   |\n",
            "| -2.6623715292186905 |   -2.4364622119911794   | -1.7731294888909206 | -1.364676075424201 | -1.156210810698773 |\n",
            "|          6          |            6            |          6          |         9          |         3          |\n",
            "|     ñor tiempo      |    terminado tiempo     |  separada apartado  | economia hacienda  | separada articulo  |\n",
            "|         0.0         |   0.4696044132578547    |  0.606454948712519  | 1.3785254642561884 | 1.5553697909717563 |\n",
            "|          5          |            5            |          3          |         6          |         0          |\n",
            "+---------------------+-------------------------+---------------------+--------------------+--------------------+\n",
            "Año: 1983\n",
            "+---------------------+---------------------+--------------------+--------------------+--------------------+\n",
            "|    banco derecha    |   opinion publica   |   puesto trabajo   |   tan important    |     hace falta     |\n",
            "| -11.487484283334844 | -10.649463834050408 | -8.586307437839128 | -7.729227168252804 | -7.28449456124084  |\n",
            "|          6          |          6          |         6          |         6          |         6          |\n",
            "|    numero pausa     |  minoria catalana   |     pausa nulo     |   tiempo minuto    | dictamen comision  |\n",
            "|  5.477667216838378  |  5.596235475909429  | 6.705771037783238  | 7.5509189358864734 | 13.316459679526812 |\n",
            "|          5          |          6          |         5          |         5          |         5          |\n",
            "+---------------------+---------------------+--------------------+--------------------+--------------------+\n",
            "Año: 1984\n",
            "+---------------------+--------------------+-------------------+--------------------+--------------------+\n",
            "|   opinion publica   | politica exterior  |   banco derecha   |  deficit publico   |   puesto trabajo   |\n",
            "| -10.066611478321603 | -9.982069033126212 | -9.04314330011711 | -8.263662110220885 | -6.708010592373835 |\n",
            "|          6          |         6          |         6         |         6          |         6          |\n",
            "|   senado articulo   |     pausa nulo     |   tiempo minuto   |  minoria catalana  | dictamen comision  |\n",
            "|  5.364325829637032  | 5.924400482036066  | 6.284560806655048 | 8.323913026975099  | 9.453144523092549  |\n",
            "|          5          |         5          |         5         |         6          |         5          |\n",
            "+---------------------+--------------------+-------------------+--------------------+--------------------+\n",
            "Año: 1985\n",
            "+---------------------+-------------------+--------------------+-----------------------+----------------------+\n",
            "|      cabe duda      |  opinion publica  |   banco derecha    | articulo constitucion | asistencia sanitaria |\n",
            "| -12.370671041769654 | -9.83844528767153 | -8.365379498887986 |  -8.153834015056777   |  -7.914773025964789  |\n",
            "|          6          |         6         |         6          |           8           |          6           |\n",
            "|     pausa nulo      |      tria be      |  senado articulo   |   minoria catalana    |  dictamen comision   |\n",
            "|   4.3664624034555   | 4.725047269665231 | 4.769078229560209  |   5.430677288262727   |   8.29129335307834   |\n",
            "|          5          |         1         |         5          |           6           |          5           |\n",
            "+---------------------+-------------------+--------------------+-----------------------+----------------------+\n",
            "Año: 1986\n",
            "+---------------------+--------------------+---------------------+----------------------+-------------------+\n",
            "| comunidad economica |   tan important    |   opinion publica   | patrimonio historico |   pide separada   |\n",
            "| -7.240744447319725  | -7.137050353783811 | -6.979712196973597  |  -5.824476295195186  |  -5.22303615713   |\n",
            "|          6          |         6          |          6          |          6           |         4         |\n",
            "|  vaya concluyendo   |     pausa nulo     | agrupacion catalana |  dictamen comision   | minoria catalana  |\n",
            "| 1.2557943851939606  | 1.472264188134971  | 2.9857311502330974  |  3.112839703059288   | 3.369089667062977 |\n",
            "|          1          |         5          |          3          |          5           |         6         |\n",
            "+---------------------+--------------------+---------------------+----------------------+-------------------+\n",
            "Año: 1987\n",
            "+---------------------+---------------------+--------------------+--------------------+---------------------+\n",
            "|     hace falta      | comunidad economica | calidad enseñanza  |  opinion publica   |    gasto publico    |\n",
            "| -11.403767096177178 |  -9.64943881656604  | -7.938581421375703 | -7.872928363790666 | -7.315324268296411  |\n",
            "|          6          |          6          |         6          |         6          |          6          |\n",
            "|  agrupacion liber   |  minoria catalana   |     pausa nulo     | dictamen comision  | agrupacion catalana |\n",
            "|  2.70822275265192   | 3.8687538041143656  | 4.163830804980334  | 4.453588880356357  |  5.593981988739637  |\n",
            "|          3          |          6          |         5          |         5          |          3          |\n",
            "+---------------------+---------------------+--------------------+--------------------+---------------------+\n",
            "Año: 1988\n",
            "+---------------------+---------------------+--------------------+---------------------+--------------------+\n",
            "|    tan important    |   opinion publica   | economica europea  | medio comunicacion  |   impuesto renta   |\n",
            "| -14.659826113352375 | -11.209562063633689 | -11.08756638138268 | -11.016593937856024 | -7.347369817567263 |\n",
            "|          6          |          6          |         6          |          6          |         6          |\n",
            "|  pausa agrupacion   |  agrupacion liber   |  minoria catalana  | agrupacion catalana | dictamen comision  |\n",
            "| 2.9363488798380115  |  3.215754480031875  | 3.6074887732707217 | 3.9328402560194253  | 5.791940606315555  |\n",
            "|          0          |          3          |         6          |          3          |         5          |\n",
            "+---------------------+---------------------+--------------------+---------------------+--------------------+\n",
            "Año: 1989\n",
            "+--------------------+--------------------+---------------------+---------------------+-------------------+\n",
            "|  opinion publica   | medio comunicacion | comunidad economica | tribun constitucion |  medida concreta  |\n",
            "| -8.84933220527419  | -8.317503145231523 | -7.643633250160338  | -6.570018198117829  | -6.32588219502436 |\n",
            "|         6          |         6          |          6          |          8          |         6         |\n",
            "|   pasamo numero    |    fijar pausa     |  dictamen comision  |    desean fijar     | minoria catalana  |\n",
            "| 0.7554884486243861 | 0.7811789359291105 | 1.8807958773808424  | 2.0352002000418907  | 2.469366689918875 |\n",
            "|         7          |         5          |          5          |          0          |         6         |\n",
            "+--------------------+--------------------+---------------------+---------------------+-------------------+\n",
            "Año: 1990\n",
            "+---------------------+--------------------+--------------------+--------------------+-------------------+\n",
            "| comunidad economica |   banco derecha    |    ahora mismo     |   cualquier caso   |   aplauso banco   |\n",
            "| -12.67601827960129  | -8.481128948367425 | -8.101130848606855 | -8.02339614485651  | -7.57279615278069 |\n",
            "|          6          |         6          |         6          |         6          |         6         |\n",
            "|   vergencia pausa   |      cd pausa      |   texto dictamen   | seccion ministerio | dictamen comision |\n",
            "| 2.4867786976896773  | 2.585031372465039  | 2.735438838482286  | 2.7832038517365527 | 4.021984255430021 |\n",
            "|          0          |         1          |         5          |         4          |         5         |\n",
            "+---------------------+--------------------+--------------------+--------------------+-------------------+\n",
            "Año: 1991\n",
            "+---------------------+---------------------+--------------------+---------------------+-----------------------+\n",
            "|    aplauso banco    | medio comunicacion  |   cualquier caso   | presupuesto general | articulo constitucion |\n",
            "| -11.644470806159909 | -11.627545524270717 | -9.954192392401843 | -9.819970086651459  |  -7.971318470609204   |\n",
            "|          6          |          6          |         6          |          6          |           8           |\n",
            "| interpelacion nombr |   medida politica   |   protesta banco   |    numero pausa     |     desean fijar      |\n",
            "| 2.1244449835224737  | 2.1844518186820414  | 2.2081308921444647 |  2.307297509329027  |  2.4719325998490027   |\n",
            "|          6          |          6          |         6          |          5          |           0           |\n",
            "+---------------------+---------------------+--------------------+---------------------+-----------------------+\n",
            "Año: 1992\n",
            "+---------------------+---------------------+---------------------+--------------------+-------------------+\n",
            "|    aplauso banco    |   aplauso escaño    | medio comunicacion  |   billon peseta    | solicita separada |\n",
            "| -12.664160499562515 | -11.093801619582592 | -10.110352818690387 | -9.59544055092084  | -8.77934305860447 |\n",
            "|          6          |          6          |          6          |         6          |         4         |\n",
            "|    desean fijar     |     fijar pausa     |  dictamen comision  |    numero pausa    | ocupa presidencia |\n",
            "| 2.1953809591610924  |  2.597666370657701  | 2.7814053269273105  | 3.1986511679246856 | 3.33134450541013  |\n",
            "|          0          |          5          |          5          |         5          |         6         |\n",
            "+---------------------+---------------------+---------------------+--------------------+-------------------+\n",
            "Año: 1993\n",
            "+---------------------+--------------------+--------------------+--------------------+--------------------+\n",
            "|    aplauso banco    |   puesto trabajo   |  crisi economica   |  empresa publica   | medio comunicacion |\n",
            "| -10.485498608071595 | -9.089888842730817 | -8.917944951654187 | -8.369240668423135 | -8.104095685371142 |\n",
            "|          6          |         6          |         6          |         6          |         6          |\n",
            "|    pasamo numero    | ocupa presidencia  |  nombr proponent   |  congreso formula  |    desean fijar    |\n",
            "| 1.3660692311839953  | 1.5216529139713517 | 2.604613069810665  | 3.548556843024749  | 4.058387219892894  |\n",
            "|          7          |         6          |         6          |         6          |         0          |\n",
            "+---------------------+--------------------+--------------------+--------------------+--------------------+\n",
            "Año: 1994\n",
            "+---------------------+--------------------+-------------------+--------------------+---------------------+\n",
            "|    alguna manera    | medio comunicacion |  sanidad publica  |  campaña elector   | presupuesto general |\n",
            "| -12.403363711602031 | -9.839292513759474 | -8.86053590181595 | -8.657180107648541 | -7.590622046963325  |\n",
            "|          6          |         6          |         6         |         6          |          6          |\n",
            "|  vaya concluyendo   |    deseen fijar    |   ocupen escaño   | dictamen comision  |  congreso formula   |\n",
            "|  3.166727895818722  | 3.176248399992902  | 3.34149773895645  | 3.5221981115878815 | 11.374983265571483  |\n",
            "|          1          |         7          |         2         |         5          |          6          |\n",
            "+---------------------+--------------------+-------------------+--------------------+---------------------+\n",
            "Año: 1995\n",
            "+---------------------+--------------------+--------------------+-----------------------+--------------------+\n",
            "|    alguna manera    | medio comunicacion |   puesto trabajo   | ordenamiento juridico |  empresa publica   |\n",
            "| -10.766213144762666 | -7.629309874023638 | -7.265393751336705 |  -6.986913110785715   | -6.879138177715794 |\n",
            "|          6          |         6          |         6          |           6           |         6          |\n",
            "|  vaya concluyendo   |    deseen fijar    |    desean fijar    | interpelacion urgent  |  congreso formula  |\n",
            "|  2.968540118061051  | 3.2865380616687716 | 3.7685050671993627 |   4.704699329173492   | 14.401707769562666 |\n",
            "|          1          |         7          |         0          |           0           |         6          |\n",
            "+---------------------+--------------------+--------------------+-----------------------+--------------------+\n",
            "Año: 1996\n",
            "+---------------------+-------------------+----------------------+----------------------+----------------------+\n",
            "|  congreso formula   |  numero formula   | interpelacion urgent |    texto dictamen    | acatar constitucion  |\n",
            "| -11.759460975354878 | -7.09765548431961 |  -4.852836994022963  | -2.3835600087609357  | -2.2390069534939743  |\n",
            "|          6          |         0         |          0           |          5           |          1           |\n",
            "|    boletin ofici    |  empresa publica  |   empleado publico   | convalidacion desean | diputacion permanent |\n",
            "|  4.292764890670061  | 4.423171678405048 |  4.598653593932111   |  5.018201686414336   |  6.513930029671762   |\n",
            "|          6          |         6         |          6           |          0           |          6           |\n",
            "+---------------------+-------------------+----------------------+----------------------+----------------------+\n",
            "Año: 1997\n",
            "+--------------------+---------------------------+----------------------+----------------------+--------------------+\n",
            "|   numero formula   | consideracion proposicion | interpelacion urgent | presentacion defensa |    desean fijar    |\n",
            "| -9.374305056525177 |    -5.489557510400206     |  -5.30171168242402   |  -4.727886490425802  | -4.221128585734463 |\n",
            "|         0          |             8             |          0           |          6           |         0          |\n",
            "|   semana pasada    |      resolv problema      |  medio comunicacion  |   interes general    |    fijar debat     |\n",
            "|  6.28823314907779  |     6.59768370870623      |  6.631291742228592   |  6.788302015009238   |  8.2580595007676   |\n",
            "|         6          |             6             |          6           |          6           |         8          |\n",
            "+--------------------+---------------------------+----------------------+----------------------+--------------------+\n",
            "Año: 1998\n",
            "+--------------------------+----------------------+---------------------+--------------------+--------------------+\n",
            "|     congreso formula     | presentacion defensa |     fijar nombr     |   numero formula   | presentacion nombr |\n",
            "|    -6.593883386829965    |  -3.875568024904358  | -3.8741596570262926 | -3.866753823296971 | -3.710227876377438 |\n",
            "|            6             |          6           |          1          |         0          |         6          |\n",
            "| responsabilidad politica |  pura sencillament   |    ciudadano pai    |    fijar debat     | medio comunicacion |\n",
            "|    5.507041558957264     |  7.301490301313099   |  7.322367751843798  | 8.145465877421293  | 8.608657283852756  |\n",
            "|            6             |          6           |          6          |         8          |         6          |\n",
            "+--------------------------+----------------------+---------------------+--------------------+--------------------+\n",
            "Año: 1999\n",
            "+-----------------------+---------------------+--------------------------+--------------------+-------------------+\n",
            "|   congreso formula    |   numero formula    |       fijar nombr        | presentacion nombr |    nombr feder    |\n",
            "|  -12.33979272066261   | -5.963742722246299  |    -5.13937077976804     | -4.67816627568321  | -4.25674550877634 |\n",
            "|           6           |          0          |            1             |         6          |         2         |\n",
            "| articulo constitucion | compañia telefonica | responsabilidad politica | medio comunicacion |    fijar debat    |\n",
            "|  5.2974354887107875   |  5.808909614335427  |    6.5718670783099435    | 8.238015228555314  | 8.922386016409119 |\n",
            "|           8           |          6          |            6             |         6          |         8         |\n",
            "+-----------------------+---------------------+--------------------------+--------------------+-------------------+\n",
            "Año: 2000\n",
            "+---------------------+---------------------+----------------------+---------------------+---------------------+\n",
            "|   numero formula    |  congreso formula   | interpelacion urgent |  vaya concluyendo   | aceptacion rechazo  |\n",
            "| -6.4526692330258255 | -6.1388655614439855 |  -4.168027178118123  | -2.8558652798430146 | -2.6505397284958847 |\n",
            "|          0          |          6          |          0           |          1          |          8          |\n",
            "|   comision nacion   |  poder adquisitivo  |   medida concreta    |   tribun supremo    |    billon peseta    |\n",
            "|  3.996409876692364  |  4.26923139639773   |  4.452168231413557   |  5.224477377156829  |  5.779126426001504  |\n",
            "|          6          |          6          |          6           |          8          |          6          |\n",
            "+---------------------+---------------------+----------------------+---------------------+---------------------+\n",
            "Año: 2001\n",
            "+--------------------+--------------------+----------------------+--------------------------+---------------------+\n",
            "|  congreso formula  |   numero formula   | interpelacion urgent |      ocupen escaño       |   cultura deport    |\n",
            "| -8.766898729591977 | -8.057755602586663 |  -4.957628686536041  |    -4.57742256235235     | -3.8005226838492105 |\n",
            "|         6          |         0          |          0           |            2             |          6          |\n",
            "|     hace mese      |    pasamo debat    |    grave problema    | responsabilidad politica |      vaca loca      |\n",
            "|  7.53230427543291  | 8.213941842738087  |  8.232499764056428   |    9.580434260806594     | 12.300108600604885  |\n",
            "|         6          |         6          |          6           |            6             |          6          |\n",
            "+--------------------+--------------------+----------------------+--------------------------+---------------------+\n",
            "Año: 2002\n",
            "+--------------------+----------------------+--------------------+----------------------+---------------------+\n",
            "|   numero formula   | interpelacion urgent |   ocupen escaño    | presentacion defensa |    desean fijar     |\n",
            "| -7.956173019196143 |  -5.479469797508394  | -4.352542972522744 | -3.2309926364437223  | -3.1371807067866038 |\n",
            "|         0          |          0           |         2          |          6           |          0          |\n",
            "|     hace mese      |    recort derecho    | memoria economica  |   publico privado    | medio comunicacion  |\n",
            "| 7.975462477751532  |  8.000033543186852   | 8.034650218863385  |  8.263997208935516   |  12.93664930273208  |\n",
            "|         6          |          6           |         6          |          6           |          6          |\n",
            "+--------------------+----------------------+--------------------+----------------------+---------------------+\n",
            "Año: 2003\n",
            "+--------------------+----------------------+--------------------+--------------------+--------------------+\n",
            "|   numero formula   | interpelacion urgent |   ocupen escaño    |   texto dictamen   | acuerd celebracion |\n",
            "| -8.035315350462968 |  -6.084544091932939  | -4.693898326853776 | -4.270565591953392 | -4.026009224975119 |\n",
            "|         0          |          0           |         2          |         5          |         2          |\n",
            "|  servicio publico  |    grave problema    |  precio vivienda   |   acced vivienda   |  opinion publica   |\n",
            "| 7.877191618014162  |  8.844471681925612   | 8.907168803199454  | 9.534032263834813  | 11.255624572157686 |\n",
            "|         6          |          6           |         6          |         6          |         6          |\n",
            "+--------------------+----------------------+--------------------+--------------------+--------------------+\n",
            "Año: 2004\n",
            "+--------------------+--------------------+----------------------+--------------------+--------------------+\n",
            "|  programa elector  | medio comunicacion | presupuesto general  |   tan important    | pasada legislatura |\n",
            "| -8.541775455861746 | -7.47652435775167  |  -6.893945335537242  | -6.663553172894448 | -6.588274122245531 |\n",
            "|         6          |         6          |          6           |         6          |         6          |\n",
            "|  congreso adelant  |  vaya concluyendo  | interpelacion urgent |   termino tiempo   |   texto dictamen   |\n",
            "| 2.1183125064513475 | 2.269692340559341  |  2.2977651805904005  | 2.5009278222234554 | 2.8952639924068957 |\n",
            "|         9          |         1          |          0           |         6          |         5          |\n",
            "+--------------------+--------------------+----------------------+--------------------+--------------------+\n",
            "Año: 2005\n",
            "+---------------------+--------------------+-----------------------+--------------------+------------------------+\n",
            "| medio comunicacion  |     pagina web     | respond interpelacion |  soberania nacion  | proceso regularizacion |\n",
            "| -17.127837840432765 | -8.532689159605725 |  -7.4114606080426375  | -7.178576577730212 |   -6.228920731168841   |\n",
            "|          6          |         6          |           9           |         8          |           6            |\n",
            "|    acabo tiempo     |  seccion relativo  |    termino tiempo     |  turismo comercio  |       verd verd        |\n",
            "| 1.7866445199390586  | 2.375577997934606  |   2.473981671674647   | 2.655012617756183  |   2.8514810322015425   |\n",
            "|          6          |         1          |           6           |         6          |           4            |\n",
            "+---------------------+--------------------+-----------------------+--------------------+------------------------+\n",
            "Año: 2006\n",
            "+----------------------+---------------------+--------------------+-----------------------+--------------------+\n",
            "|  medio comunicacion  |   dar explicacion   |  derecho libertad  | regularizacion masiva |  opinion publica   |\n",
            "| -15.721053399981336  | -11.759344327886376 | -10.98990278570507 |  -10.040977321508125  | -9.913156580191377 |\n",
            "|          6           |          6          |         8          |           6           |         6          |\n",
            "| interpelacion urgent |  continuamo nombr   |  seccion relativo  |   tiempo concluido    |  turismo comercio  |\n",
            "|  1.6092737468277925  |  1.760277555901966  |  2.34756659901046  |  2.9318068402807493   | 5.592980478768359  |\n",
            "|          0           |          5          |         1          |           0           |         6          |\n",
            "+----------------------+---------------------+--------------------+-----------------------+--------------------+\n",
            "Año: 2007\n",
            "+---------------------+----------------------+--------------------+----------------------+-------------------+\n",
            "|  programa elector   |  medio comunicacion  | oficina economica  |   comision nacion    |   cond pumpido    |\n",
            "| -13.412555632485992 |  -11.55859467317592  | -9.524487581844154 |  -9.523130275200174  | -9.23551921964368 |\n",
            "|          6          |          6           |         6          |          6           |         8         |\n",
            "|  continuamo nombr   | proposicion congreso |  tiempo concluyo   | interpelacion urgent | tiempo concluido  |\n",
            "| 1.2786148560965855  |  1.504230863670468   | 1.5105421136235295 |  1.8180779296643834  | 3.483020992963707 |\n",
            "|          5          |          6           |         6          |          0           |         0         |\n",
            "+---------------------+----------------------+--------------------+----------------------+-------------------+\n",
            "Año: 2008\n",
            "+---------------------+--------------------+--------------------+--------------------+-------------------+\n",
            "|   crisi economica   |    tomar medida    |   puesto trabajo   |     tasa paro      |  sistema pension  |\n",
            "| -19.130111566755158 | -9.389960251846333 | -8.71872649358517  | -8.533906765745567 | -7.32513599203446 |\n",
            "|          6          |         6          |         6          |         6          |         6         |\n",
            "|   acabado tiempo    |    acabo tiempo    |  politica deport   |    ir acabando     | turismo comercio  |\n",
            "| 1.6271611563020305  | 2.0106332909503606 | 2.1060861440894154 |  2.64733335131398  | 2.793735947520446 |\n",
            "|          1          |         6          |         6          |         6          |         6         |\n",
            "+---------------------+--------------------+--------------------+--------------------+-------------------+\n",
            "Año: 2009\n",
            "+---------------------+---------------------+---------------------+---------------------+---------------------+\n",
            "|      tan solo       | medio comunicacion  | politica economica  |   puesto trabajo    |   subida impuesto   |\n",
            "| -14.604633751704508 | -14.398640477990698 | -12.603539551748968 | -11.238865329055239 | -11.228305761285016 |\n",
            "|          6          |          6          |          6          |          6          |          6          |\n",
            "|  turismo comercio   | trabajo inmigracion |   pasamo examinar   |     debe acabar     |   acabado tiempo    |\n",
            "| 1.8444798140439596  | 1.8569630933869774  | 1.8909294864733315  |  2.096519901839134  | 2.5912687673367003  |\n",
            "|          6          |          6          |          0          |          6          |          1          |\n",
            "+---------------------+---------------------+---------------------+---------------------+---------------------+\n",
            "Año: 2010\n",
            "+---------------------+------------------------+--------------------+---------------------+--------------------+\n",
            "| medio comunicacion  |     puesto trabajo     | politica economica | congelacion pension |    hace tiempo     |\n",
            "| -15.859782833812316 |  -14.464186012773157   | -14.21534343821976 | -11.447909431078179 | -9.837708457566402 |\n",
            "|          6          |           6            |         6          |          6          |         6          |\n",
            "|     debe acabar     | formular interpelacion |  turismo comercio  |  reduccion deficit  |   acabado tiempo   |\n",
            "| 1.8852030810609326  |   2.1621106586750036   | 2.336329842086448  | 2.4019446182363655  | 2.4196628540520075 |\n",
            "|          6          |           6            |         6          |          6          |         1          |\n",
            "+---------------------+------------------------+--------------------+---------------------+--------------------+\n",
            "Año: 2011\n",
            "+---------------------+--------------------+--------------------------+--------------------+----------------------------+\n",
            "|   puesto trabajo    | politica economica | responsabilidad politica |    caso faisan     | estabilidad presupuestaria |\n",
            "| -13.561318439241711 | -10.83585934475492 |   -7.6700261792841165    | -7.600374178572327 |     -7.113540095600702     |\n",
            "|          6          |         6          |            6             |         6          |             6              |\n",
            "|    rural marino     |    debe acabar     | contestar interpelacion  |   acabado tiempo   |      turismo comercio      |\n",
            "| 1.1666727454961363  | 1.1769355357731481 |    1.6086316483353595    | 2.3463743678755606 |     2.4009819943398947     |\n",
            "|          6          |         6          |            1             |         1          |             6              |\n",
            "+---------------------+--------------------+--------------------------+--------------------+----------------------------+\n",
            "Año: 2012\n",
            "+--------------------+--------------------+----------------------+--------------------+-------------------------+\n",
            "|  deficit publico   | servicio igualdad  | interpelacion urgent |   texto dictamen   | hacienda administracion |\n",
            "| -7.257590483459202 | -4.737610691781485 | -3.3681109628806833  | -2.707830948669099 |   -2.2452319364944837   |\n",
            "|         6          |         6          |          0           |         5          |            6            |\n",
            "|   reforma labor    |    clase media     |   amnistia fiscal    |   semana pasada    |      prima riesgo       |\n",
            "| 9.606524253199261  |  9.98768255568356  |  10.005515940784825  | 10.587753560188915 |   13.111107367158663    |\n",
            "|         6          |         6          |          6           |         6          |            6            |\n",
            "+--------------------+--------------------+----------------------+--------------------+-------------------------+\n",
            "Año: 2013\n",
            "+---------------------+-------------------+----------------------------+------------------------+---------------------+\n",
            "|  servicio igualdad  |  deficit publico  | celebracion extraordinaria | administracion publica |   cultura deport    |\n",
            "| -7.789978416501578  | -7.10592324328167 |    -4.5267574209748265     |   -4.301265344399855   | -3.9199170623512387 |\n",
            "|          6          |         6         |             2              |           6            |          6          |\n",
            "| comunidad educativa |  sistema publico  |      sanidad publica       |    amnistia fiscal     |    reforma labor    |\n",
            "|  8.47328759801148   | 8.488182673194782 |     8.548051415995205      |   10.380427728087913   |  10.4241165363671   |\n",
            "|          6          |         6         |             6              |           6            |          6          |\n",
            "+---------------------+-------------------+----------------------------+------------------------+---------------------+\n",
            "Año: 2014\n",
            "+--------------------+-------------------------+---------------------+--------------------+---------------------+\n",
            "| servicio igualdad  | hacienda administracion |   energia turismo   |  rechazado numero  | acuerd celebracion  |\n",
            "| -4.545453405251597 |   -3.305518428820118    | -3.2709880470053143 | -2.455226681764541 | -2.2113181663078887 |\n",
            "|         6          |            6            |          6          |         0          |          2          |\n",
            "|   queremo saber    |     amnistia fiscal     | medio comunicacion  |    tan siquiera    |    reforma labor    |\n",
            "| 8.357154370757945  |    8.964163629802364    |  9.943232988732047  | 11.264920404942906 | 12.398065769345965  |\n",
            "|         6          |            6            |          6          |         6          |          6          |\n",
            "+--------------------+-------------------------+---------------------+--------------------+---------------------+\n",
            "Año: 2015\n",
            "+--------------------+-------------------------+---------------------+---------------------+---------------------+\n",
            "|  creacion empleo   | hacienda administracion |   unico apartado    |    ir terminando    | toma consideracion  |\n",
            "| -7.12444224355654  |   -2.0478572479978077   | -1.7725951311061745 | -1.4852586979209426 | -1.2139569965884711 |\n",
            "|         6          |            6            |          8          |          6          |          5          |\n",
            "|   derecho humano   |     gustaria saber      |   amnistia fiscal   | medio comunicacion  |    reforma labor    |\n",
            "| 7.4128027945799415 |    8.212481754016277    |  8.335243108236542  |  9.502398619525252  | 14.746393027599309  |\n",
            "|         6          |            6            |          6          |          6          |          6          |\n",
            "+--------------------+-------------------------+---------------------+---------------------+---------------------+\n",
            "Año: 2016\n",
            "+--------------------+---------------------+-----------------------+---------------------+---------------------+\n",
            "|   confeder unido   |   legarda uriart    | candidato presidencia |   creacion empleo   |    capella farre    |\n",
            "| -6.605927302767514 | -1.7084932368379722 |  -1.6523472866834175  | -1.4809049647216637 | -1.2525805495299727 |\n",
            "|         3          |          1          |           8           |          6          |          1          |\n",
            "|    pasamo ahora    |   podemo creacion   |     juicio valor      |  vaya concluyendo   |    reforma labor    |\n",
            "| 2.5749423077307587 |  2.622821128637454  |  2.6472848741200474   | 3.7296837966605514  |  5.214771387118666  |\n",
            "|         6          |          6          |           6           |          1          |          6          |\n",
            "+--------------------+---------------------+-----------------------+---------------------+---------------------+\n",
            "Año: 2017\n",
            "+--------------------+--------------------+---------------------+---------------------------+---------------------+\n",
            "| servicio igualdad  |  creacion empleo   | termino transaccion | consideracion proposicion |    pasamo ahora     |\n",
            "| -4.517075980553914 | -3.372059879095136 | -2.744700393890765  |    -2.1430842839745385    | -1.8838984264899803 |\n",
            "|         6          |         6          |          6          |             8             |          6          |\n",
            "|   dar respuesta    |   ciudadano pai    |   amnistia fiscal   |       reforma labor       |     buena tard      |\n",
            "| 7.581473570143674  |  8.42306783706704  | 10.913895354172194  |    11.802918243948051     | 12.979255603528834  |\n",
            "|         6          |         6          |          6          |             6             |          6          |\n",
            "+--------------------+--------------------+---------------------+---------------------------+---------------------+\n",
            "Año: 2018\n",
            "+--------------------+--------------------+--------------------+---------------------+------------------------+\n",
            "|  creacion empleo   |    pasamo ahora    | toma consideracion | acuerd convocatoria | transaccion presentada |\n",
            "| -6.013617087414253 | -4.812680481887776 | -4.794472580375176 | -4.360802241160078  |   -3.587183235082991   |\n",
            "|         6          |         6          |         5          |          2          |           7            |\n",
            "|    ahora mismo     |   ciudadano pai    |  comision europea  |  senda estabilidad  |    fuerza politica     |\n",
            "| 6.683892543659791  |  8.39710793650778  | 8.468534638552821  | 10.241907475532434  |   10.531401331407888   |\n",
            "|         6          |         6          |         6          |          6          |           6            |\n",
            "+--------------------+--------------------+--------------------+---------------------+------------------------+\n",
            "Año: 2019\n",
            "+--------------------+--------------------+--------------------+-----------------------+------------------------+\n",
            "|   confeder unido   |    pasamo ahora    |  formulada numero  |  fijacion intervien   | procedimiento urgencia |\n",
            "| -6.710733653069989 | -4.842664948037548 | -4.406884866238919 |  -3.746203505207176   |  -2.5038190258047273   |\n",
            "|         3          |         6          |         8          |           4           |           5            |\n",
            "| comunidad autonoma |   ir terminando    |  interior funcion  | candidato presidencia |    confeder podemo     |\n",
            "| 2.6439479768933176 | 2.812256440721863  | 2.9566249555508315 |   3.618702402336903   |   8.115107984641115    |\n",
            "|         6          |         6          |         6          |           8           |           6            |\n",
            "+--------------------+--------------------+--------------------+-----------------------+------------------------+\n"
          ]
        }
      ]
    }
  ]
}