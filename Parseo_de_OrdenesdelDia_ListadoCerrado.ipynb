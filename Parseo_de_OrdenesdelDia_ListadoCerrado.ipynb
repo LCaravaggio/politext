{
  "nbformat": 4,
  "nbformat_minor": 0,
  "metadata": {
    "colab": {
      "provenance": [],
      "authorship_tag": "ABX9TyPwVVwSoBhnZd7KbsBfkZsF",
      "include_colab_link": true
    },
    "kernelspec": {
      "name": "python3",
      "display_name": "Python 3"
    },
    "language_info": {
      "name": "python"
    }
  },
  "cells": [
    {
      "cell_type": "markdown",
      "metadata": {
        "id": "view-in-github",
        "colab_type": "text"
      },
      "source": [
        "<a href=\"https://colab.research.google.com/github/LCaravaggio/politext/blob/snowball/Parseo_de_OrdenesdelDia_ListadoCerrado.ipynb\" target=\"_parent\"><img src=\"https://colab.research.google.com/assets/colab-badge.svg\" alt=\"Open In Colab\"/></a>"
      ]
    },
    {
      "cell_type": "code",
      "execution_count": 1,
      "metadata": {
        "colab": {
          "base_uri": "https://localhost:8080/"
        },
        "id": "9S_UEBLg81wW",
        "outputId": "8bf45e11-dc0e-43eb-84c7-576f8077e011"
      },
      "outputs": [
        {
          "output_type": "stream",
          "name": "stdout",
          "text": [
            "Mounted at /content/drive\n",
            "Downloading Scraps%20PDFs.csv.zip to /content\n",
            "100% 234M/234M [00:03<00:00, 84.8MB/s]\n",
            "100% 234M/234M [00:03<00:00, 66.1MB/s]\n",
            "Downloading base_formateada_senado_snowball.csv.zip to /content\n",
            " 99% 141M/143M [00:01<00:00, 90.0MB/s]\n",
            "100% 143M/143M [00:01<00:00, 81.4MB/s]\n"
          ]
        }
      ],
      "source": [
        "import pandas as pd\n",
        "import numpy as np\n",
        "\n",
        "\n",
        "import json\n",
        "from google.colab import drive\n",
        "\n",
        "!mkdir ~/.kaggle\n",
        "!touch ~/.kaggle/kaggle.json\n",
        "\n",
        "drive.mount('/content/drive', force_remount=True)\n",
        "with open(\"/content/drive/My Drive/kaggle.json\", 'r') as f:\n",
        "    api_token= json.load(f)\n",
        "\n",
        "with open('/root/.kaggle/kaggle.json', 'w') as file:\n",
        "    json.dump(api_token, file)\n",
        "\n",
        "!chmod 600 ~/.kaggle/kaggle.json\n",
        "\n",
        "!kaggle datasets download -d leonardocaravaggio/scraps-pdfs -f \"Scraps PDFs.csv\"\n",
        "!kaggle datasets download -d leonardocaravaggio/scraps-pdfs -f \"base_formateada_senado_snowball.csv\""
      ]
    },
    {
      "cell_type": "code",
      "source": [
        "import zipfile\n",
        "import os\n",
        "\n",
        "os.listdir()\n",
        "\n",
        "for file in os.listdir():\n",
        "    if file.endswith('.zip'):\n",
        "      zip_ref = zipfile.ZipFile(file, 'r')\n",
        "      zip_ref.extractall()\n",
        "      zip_ref.close()"
      ],
      "metadata": {
        "id": "gwJL1yMZ9zbE"
      },
      "execution_count": 2,
      "outputs": []
    },
    {
      "cell_type": "code",
      "source": [
        "# Cargamos la base\n",
        "base = pd.read_csv('/content/Scraps PDFs.csv')\n",
        "base_parseada = pd.read_csv('/content/base_formateada_senado_snowball.csv')"
      ],
      "metadata": {
        "id": "IHPR981-91Ps",
        "outputId": "99e5d861-78c3-49ab-c343-d945ab81b05a",
        "colab": {
          "base_uri": "https://localhost:8080/"
        }
      },
      "execution_count": 3,
      "outputs": [
        {
          "output_type": "stream",
          "name": "stderr",
          "text": [
            "<ipython-input-3-e0eeee1141a8>:3: DtypeWarning: Columns (7) have mixed types. Specify dtype option on import or set low_memory=False.\n",
            "  base_parseada = pd.read_csv('/content/base_formateada_senado_snowball.csv')\n"
          ]
        }
      ]
    },
    {
      "cell_type": "code",
      "source": [
        "base_parseada.columns"
      ],
      "metadata": {
        "id": "fgmr3HKFmJeV",
        "outputId": "15796559-0d02-484d-f27e-5ec1c6d1a200",
        "colab": {
          "base_uri": "https://localhost:8080/"
        }
      },
      "execution_count": 4,
      "outputs": [
        {
          "output_type": "execute_result",
          "data": {
            "text/plain": [
              "Index(['Unnamed: 0.1', 'Unnamed: 0', 'Nombre/Cargo', 'Discurso', 'Cargo',\n",
              "       'Nombre', 'Link', 'Legislatura', 'tipo', 'fecha', 'fecha_formato',\n",
              "       'nombre', 'apellidos', 'procedLiteral', 'procedLugar', 'grupoNombre',\n",
              "       'tokens'],\n",
              "      dtype='object')"
            ]
          },
          "metadata": {},
          "execution_count": 4
        }
      ]
    },
    {
      "cell_type": "code",
      "source": [
        "base_parseada.Link[30]"
      ],
      "metadata": {
        "id": "228CnFJaNgyY",
        "outputId": "dfc22fce-f609-477e-9ccb-b843daaa8878",
        "colab": {
          "base_uri": "https://localhost:8080/",
          "height": 35
        }
      },
      "execution_count": 5,
      "outputs": [
        {
          "output_type": "execute_result",
          "data": {
            "text/plain": [
              "'https://www.senado.es/legis10/publicaciones/pdf/senado/ds/DS_P_10_2.PDF'"
            ],
            "application/vnd.google.colaboratory.intrinsic+json": {
              "type": "string"
            }
          },
          "metadata": {},
          "execution_count": 5
        }
      ]
    },
    {
      "cell_type": "code",
      "source": [
        "def eliminar_despues_de_autor(cadena):\n",
        "    # Buscar la posición de la palabra \"Autor\" (sin importar mayúsculas o minúsculas)\n",
        "    posicion_autor = cadena.lower().find('autor')\n",
        "\n",
        "    # Si se encuentra la palabra \"Autor\"\n",
        "    if posicion_autor != -1:\n",
        "        # Eliminar todo lo que está después de la palabra \"Autor\"\n",
        "        cadena = cadena[:posicion_autor]\n",
        "    return cadena"
      ],
      "metadata": {
        "id": "Nnu9spPPtXMS"
      },
      "execution_count": 74,
      "outputs": []
    },
    {
      "cell_type": "code",
      "source": [
        "def unir_strings_con_espacio(lista_strings):\n",
        "    nueva_lista = []\n",
        "    elemento_actual = \"\"\n",
        "\n",
        "    for elemento in lista_strings:\n",
        "        # Verificar si el elemento actual termina con un espacio\n",
        "        if elemento_actual.endswith(' '):\n",
        "            # Concatenar el elemento actual con el siguiente\n",
        "            elemento_actual = elemento_actual + elemento\n",
        "        else:\n",
        "            # Si no termina con espacio, agregar el elemento actual a la nueva lista\n",
        "            if elemento_actual:\n",
        "                nueva_lista.append(elemento_actual)\n",
        "            elemento_actual = elemento\n",
        "\n",
        "    # Agregar el último elemento a la nueva lista\n",
        "    if elemento_actual:\n",
        "        nueva_lista.append(elemento_actual)\n",
        "\n",
        "    return nueva_lista"
      ],
      "metadata": {
        "id": "R6WT2x9yyUV9"
      },
      "execution_count": 109,
      "outputs": []
    },
    {
      "cell_type": "code",
      "source": [
        "def find_last_occurrence(text, substring):\n",
        "    last_occurrence = -1\n",
        "    index = text.find(substring)\n",
        "\n",
        "    while index != -1:\n",
        "        last_occurrence = index\n",
        "        index = text.find(substring, index + 1)\n",
        "\n",
        "    return last_occurrence"
      ],
      "metadata": {
        "id": "fGlVrJdhXdoh"
      },
      "execution_count": 123,
      "outputs": []
    },
    {
      "cell_type": "code",
      "source": [
        "import re\n",
        "\n",
        "def generar(l):\n",
        "  df=pd.DataFrame(columns=['Nombre/Cargo', 'Discurso', 'Cargo',\n",
        "       'Nombre', 'Link', 'Legislatura', 'tipo', 'fecha', 'fecha_formato',\n",
        "       'nombre', 'apellidos', 'procedLiteral', 'procedLugar', 'grupoNombre',\n",
        "       'tokens', 'orden'])\n",
        "  fila=base['link'][base['link'] == l[6]].index[0]\n",
        "  texto=str(base.loc[fila].text)\n",
        "  discurso=str(l[3])\n",
        "\n",
        "  #ordenes = texto[texto.find('ORDEN DEL DÍA'):texto.find('SUMARIO')].split('\\n')\n",
        "  #ordenes=['JURAMENTO O PROMESA DE ACATAMIENTO A LA CONSTITUCIÓN.','1. ACTAS', '2. REGLAMENTO DEL SENADO', '3. INCOMPATIBILIDADES', '4. COMISIONES MIXTAS', '5. CONVENIOS Y ACUERDOS DE COOPERACIÓN ENTRE COMUNIDADES AUTÓNOMAS']\n",
        "  #patron = r'\\n\\n([\\s\\S]*?)\\n\\n'\n",
        "  #ordenes = re.findall(patron, texto[texto.find('ORDEN DEL DÍA'):texto.find('SUMARIO')])\n",
        "  #ordenes=texto[texto.find('ORDEN DEL DÍA'):texto.find('SUMARIO')].split('\\n')\n",
        "  orden_del_dia_pattern = re.compile(r'\\n(.*?)(?=\\n)', re.DOTALL)\n",
        "  matches = orden_del_dia_pattern.findall(texto[texto.find('ORDEN DEL DÍA'):texto.find('SUMARIO')])\n",
        "  adjusted_matches = []\n",
        "  for i, match in enumerate(matches):\n",
        "      # Eliminar espacio inicial si existe\n",
        "      match = match.lstrip()\n",
        "\n",
        "      # Si el match comienza con minúscula, hacer join con el match anterior\n",
        "      if match and match[0].islower() or match[:5]=='Autor' and i > 0:\n",
        "          adjusted_matches[-1] += '' + match\n",
        "      # Si el match comienza con '(', eliminar el match de la lista\n",
        "      elif match and match[0] == '(' or match=='Pleno' or match[:3]=='Núm':\n",
        "          continue\n",
        "      else:\n",
        "          adjusted_matches.append(match)\n",
        "\n",
        "  ordenes=adjusted_matches\n",
        "\n",
        "  o=0\n",
        "  ubic_anterior=0\n",
        "\n",
        "  ordenesnuevo=[]\n",
        "  for orden in ordenes:\n",
        "    if orden != 'JUNTA PREPARATORIA Y SESIÓN CONSTITUTIVA':\n",
        "      orden=str(eliminar_despues_de_autor(orden))\n",
        "      ordenesnuevo.append(orden.replace('— ','').replace('  ',' '))\n",
        "\n",
        "  ordenes=ordenesnuevo\n",
        "  ordenes=unir_strings_con_espacio(ordenes)\n",
        "  #print(ordenes)\n",
        "\n",
        "  for orden in ordenes:\n",
        "    #print(texto[texto.find('SUMARIO'):].replace('\\n','').replace('\\t', '').replace(' ','').find(l[2].replace('\\n','').replace('\\t', '').replace(' ','')+':'+ discurso.replace('\\t', '').replace('\\n','').replace(' ','')))\n",
        "    #print(texto[texto.find('SUMARIO'):].replace('\\n','').replace('\\t', '').replace(' ','').find(orden.upper().replace('\\n','').replace('\\t', '').replace(' ','')))\n",
        "    #print(texto[texto.find('SUMARIO'):].replace('\\n','').replace('\\t', '').replace(' ',''))\n",
        "    #print(l[2].replace('\\n','').replace('\\t', '').replace(' ','')+':'+discurso.replace('\\n','').replace('\\t', '').replace(' ',''))\n",
        "\n",
        "    texto_enelquebuscar=texto[texto.find('SUMARIO'):].replace('\\n','').replace('\\t','').replace(' ','')\n",
        "    discurso_con_nombre=str(l[2]+': '+l[3]).replace('\\n','').replace('\\t','').replace(' ','')\n",
        "    ubic_discurso=texto_enelquebuscar.find(discurso_con_nombre)\n",
        "    #ubic_titulo=texto_enelquebuscar.find(orden.upper().replace('\\n','').replace('\\t', '').replace(' ','')[3:])\n",
        "    ubic_titulo=find_last_occurrence(texto_enelquebuscar, orden.upper().replace('\\n','').replace('\\t', '').replace(' ','')[3:])\n",
        "    if ubic_titulo==-1: ubic_titulo=ubic_anterior+1\n",
        "    ubic_anterior=ubic_titulo\n",
        "    #print(ubic_titulo)\n",
        "    #print(ubic_discurso)\n",
        "    #print('----------')\n",
        "    if ubic_discurso>ubic_titulo: o+=1\n",
        "\n",
        "\n",
        "  #print(texto_enelquebuscar)\n",
        "  #print(discurso_con_nombre)\n",
        "  df['Nombre/Cargo']=[l[2]]\n",
        "  df['Discurso']=[l[3]]\n",
        "  df['Cargo']=[l[4]]\n",
        "  df['Nombre']=[l[5]]\n",
        "  df['Link']=[l[6]]\n",
        "  df['Legislatura']=[l[7]]\n",
        "  df['tipo']=[l[8]]\n",
        "  df['fecha']=[l[9]]\n",
        "  df['fecha_formato']=[l[10]]\n",
        "  df['nombre']=[l[11]]\n",
        "  df['apellidos']=[l[12]]\n",
        "  df['procedLiteral']=[l[13]]\n",
        "  df['procedLugar']=[l[14]]\n",
        "  df['grupoNombre']=[l[15]]\n",
        "  df['tokens']=[l[16]]\n",
        "  try:\n",
        "    df['orden']=[ordenes[o-1].upper()]\n",
        "  except:\n",
        "    df['orden']=[\"\"]\n",
        "\n",
        "\n",
        "  return df"
      ],
      "metadata": {
        "id": "CzfD-9U7rQLj"
      },
      "execution_count": 151,
      "outputs": []
    },
    {
      "cell_type": "code",
      "source": [
        "base2=pd.DataFrame(columns=['Nombre/Cargo', 'Discurso', 'Cargo',\n",
        "       'Nombre', 'Link', 'Legislatura', 'tipo', 'fecha', 'fecha_formato',\n",
        "       'nombre', 'apellidos', 'procedLiteral', 'procedLugar', 'grupoNombre',\n",
        "       'tokens', 'orden'])"
      ],
      "metadata": {
        "id": "44C0UxVP4gjK"
      },
      "execution_count": 152,
      "outputs": []
    },
    {
      "cell_type": "code",
      "source": [
        "for row in base_parseada.values[307:308]:\n",
        "  base2 = pd.concat([base2, generar(row)], axis=0)"
      ],
      "metadata": {
        "id": "ivCarVUHoA1b"
      },
      "execution_count": 153,
      "outputs": []
    },
    {
      "cell_type": "code",
      "source": [
        "base2"
      ],
      "metadata": {
        "id": "shhtu3XeceHo",
        "outputId": "a76bf9df-9564-49a8-cdc1-85ecf38b1c8f",
        "colab": {
          "base_uri": "https://localhost:8080/",
          "height": 205
        }
      },
      "execution_count": 149,
      "outputs": [
        {
          "output_type": "execute_result",
          "data": {
            "text/plain": [
              "                Nombre/Cargo  \\\n",
              "0  El señor FERNÁNDEZ ORTEGA   \n",
              "\n",
              "                                            Discurso             Cargo Nombre  \\\n",
              "0  Termino, señor presidente. …y la participación...  FERNÁNDEZ ORTEGA    NaN   \n",
              "\n",
              "                                                Link Legislatura   tipo  \\\n",
              "0  https://www.senado.es/legis10/publicaciones/pd...          10  PLENO   \n",
              "\n",
              "                fecha fecha_formato       nombre         apellidos  \\\n",
              "0  7 de marzo de 2012    2012-03-07  JUAN MANUEL  FERNÁNDEZ ORTEGA   \n",
              "\n",
              "  procedLiteral       procedLugar grupoNombre  \\\n",
              "0        Electo  Electo:  Granada         GPS   \n",
              "\n",
              "                                              tokens  \\\n",
              "0  ['termin', '…y', 'particip', 'institu', 'socie...   \n",
              "\n",
              "                                               orden  \n",
              "0  5.1. MOCIÓN POR LA QUE SE INSTA AL GOBIERNO A ...  "
            ],
            "text/html": [
              "\n",
              "  <div id=\"df-4eb3212c-d54e-4e0b-94d1-5ddff7b02418\" class=\"colab-df-container\">\n",
              "    <div>\n",
              "<style scoped>\n",
              "    .dataframe tbody tr th:only-of-type {\n",
              "        vertical-align: middle;\n",
              "    }\n",
              "\n",
              "    .dataframe tbody tr th {\n",
              "        vertical-align: top;\n",
              "    }\n",
              "\n",
              "    .dataframe thead th {\n",
              "        text-align: right;\n",
              "    }\n",
              "</style>\n",
              "<table border=\"1\" class=\"dataframe\">\n",
              "  <thead>\n",
              "    <tr style=\"text-align: right;\">\n",
              "      <th></th>\n",
              "      <th>Nombre/Cargo</th>\n",
              "      <th>Discurso</th>\n",
              "      <th>Cargo</th>\n",
              "      <th>Nombre</th>\n",
              "      <th>Link</th>\n",
              "      <th>Legislatura</th>\n",
              "      <th>tipo</th>\n",
              "      <th>fecha</th>\n",
              "      <th>fecha_formato</th>\n",
              "      <th>nombre</th>\n",
              "      <th>apellidos</th>\n",
              "      <th>procedLiteral</th>\n",
              "      <th>procedLugar</th>\n",
              "      <th>grupoNombre</th>\n",
              "      <th>tokens</th>\n",
              "      <th>orden</th>\n",
              "    </tr>\n",
              "  </thead>\n",
              "  <tbody>\n",
              "    <tr>\n",
              "      <th>0</th>\n",
              "      <td>El señor FERNÁNDEZ ORTEGA</td>\n",
              "      <td>Termino, señor presidente. …y la participación...</td>\n",
              "      <td>FERNÁNDEZ ORTEGA</td>\n",
              "      <td>NaN</td>\n",
              "      <td>https://www.senado.es/legis10/publicaciones/pd...</td>\n",
              "      <td>10</td>\n",
              "      <td>PLENO</td>\n",
              "      <td>7 de marzo de 2012</td>\n",
              "      <td>2012-03-07</td>\n",
              "      <td>JUAN MANUEL</td>\n",
              "      <td>FERNÁNDEZ ORTEGA</td>\n",
              "      <td>Electo</td>\n",
              "      <td>Electo:  Granada</td>\n",
              "      <td>GPS</td>\n",
              "      <td>['termin', '…y', 'particip', 'institu', 'socie...</td>\n",
              "      <td>5.1. MOCIÓN POR LA QUE SE INSTA AL GOBIERNO A ...</td>\n",
              "    </tr>\n",
              "  </tbody>\n",
              "</table>\n",
              "</div>\n",
              "    <div class=\"colab-df-buttons\">\n",
              "\n",
              "  <div class=\"colab-df-container\">\n",
              "    <button class=\"colab-df-convert\" onclick=\"convertToInteractive('df-4eb3212c-d54e-4e0b-94d1-5ddff7b02418')\"\n",
              "            title=\"Convert this dataframe to an interactive table.\"\n",
              "            style=\"display:none;\">\n",
              "\n",
              "  <svg xmlns=\"http://www.w3.org/2000/svg\" height=\"24px\" viewBox=\"0 -960 960 960\">\n",
              "    <path d=\"M120-120v-720h720v720H120Zm60-500h600v-160H180v160Zm220 220h160v-160H400v160Zm0 220h160v-160H400v160ZM180-400h160v-160H180v160Zm440 0h160v-160H620v160ZM180-180h160v-160H180v160Zm440 0h160v-160H620v160Z\"/>\n",
              "  </svg>\n",
              "    </button>\n",
              "\n",
              "  <style>\n",
              "    .colab-df-container {\n",
              "      display:flex;\n",
              "      gap: 12px;\n",
              "    }\n",
              "\n",
              "    .colab-df-convert {\n",
              "      background-color: #E8F0FE;\n",
              "      border: none;\n",
              "      border-radius: 50%;\n",
              "      cursor: pointer;\n",
              "      display: none;\n",
              "      fill: #1967D2;\n",
              "      height: 32px;\n",
              "      padding: 0 0 0 0;\n",
              "      width: 32px;\n",
              "    }\n",
              "\n",
              "    .colab-df-convert:hover {\n",
              "      background-color: #E2EBFA;\n",
              "      box-shadow: 0px 1px 2px rgba(60, 64, 67, 0.3), 0px 1px 3px 1px rgba(60, 64, 67, 0.15);\n",
              "      fill: #174EA6;\n",
              "    }\n",
              "\n",
              "    .colab-df-buttons div {\n",
              "      margin-bottom: 4px;\n",
              "    }\n",
              "\n",
              "    [theme=dark] .colab-df-convert {\n",
              "      background-color: #3B4455;\n",
              "      fill: #D2E3FC;\n",
              "    }\n",
              "\n",
              "    [theme=dark] .colab-df-convert:hover {\n",
              "      background-color: #434B5C;\n",
              "      box-shadow: 0px 1px 3px 1px rgba(0, 0, 0, 0.15);\n",
              "      filter: drop-shadow(0px 1px 2px rgba(0, 0, 0, 0.3));\n",
              "      fill: #FFFFFF;\n",
              "    }\n",
              "  </style>\n",
              "\n",
              "    <script>\n",
              "      const buttonEl =\n",
              "        document.querySelector('#df-4eb3212c-d54e-4e0b-94d1-5ddff7b02418 button.colab-df-convert');\n",
              "      buttonEl.style.display =\n",
              "        google.colab.kernel.accessAllowed ? 'block' : 'none';\n",
              "\n",
              "      async function convertToInteractive(key) {\n",
              "        const element = document.querySelector('#df-4eb3212c-d54e-4e0b-94d1-5ddff7b02418');\n",
              "        const dataTable =\n",
              "          await google.colab.kernel.invokeFunction('convertToInteractive',\n",
              "                                                    [key], {});\n",
              "        if (!dataTable) return;\n",
              "\n",
              "        const docLinkHtml = 'Like what you see? Visit the ' +\n",
              "          '<a target=\"_blank\" href=https://colab.research.google.com/notebooks/data_table.ipynb>data table notebook</a>'\n",
              "          + ' to learn more about interactive tables.';\n",
              "        element.innerHTML = '';\n",
              "        dataTable['output_type'] = 'display_data';\n",
              "        await google.colab.output.renderOutput(dataTable, element);\n",
              "        const docLink = document.createElement('div');\n",
              "        docLink.innerHTML = docLinkHtml;\n",
              "        element.appendChild(docLink);\n",
              "      }\n",
              "    </script>\n",
              "  </div>\n",
              "\n",
              "\n",
              "  <div id=\"id_c15d15fa-2a8e-45ab-8b8e-b69f9aedb074\">\n",
              "    <style>\n",
              "      .colab-df-generate {\n",
              "        background-color: #E8F0FE;\n",
              "        border: none;\n",
              "        border-radius: 50%;\n",
              "        cursor: pointer;\n",
              "        display: none;\n",
              "        fill: #1967D2;\n",
              "        height: 32px;\n",
              "        padding: 0 0 0 0;\n",
              "        width: 32px;\n",
              "      }\n",
              "\n",
              "      .colab-df-generate:hover {\n",
              "        background-color: #E2EBFA;\n",
              "        box-shadow: 0px 1px 2px rgba(60, 64, 67, 0.3), 0px 1px 3px 1px rgba(60, 64, 67, 0.15);\n",
              "        fill: #174EA6;\n",
              "      }\n",
              "\n",
              "      [theme=dark] .colab-df-generate {\n",
              "        background-color: #3B4455;\n",
              "        fill: #D2E3FC;\n",
              "      }\n",
              "\n",
              "      [theme=dark] .colab-df-generate:hover {\n",
              "        background-color: #434B5C;\n",
              "        box-shadow: 0px 1px 3px 1px rgba(0, 0, 0, 0.15);\n",
              "        filter: drop-shadow(0px 1px 2px rgba(0, 0, 0, 0.3));\n",
              "        fill: #FFFFFF;\n",
              "      }\n",
              "    </style>\n",
              "    <button class=\"colab-df-generate\" onclick=\"generateWithVariable('base2')\"\n",
              "            title=\"Generate code using this dataframe.\"\n",
              "            style=\"display:none;\">\n",
              "\n",
              "  <svg xmlns=\"http://www.w3.org/2000/svg\" height=\"24px\"viewBox=\"0 0 24 24\"\n",
              "       width=\"24px\">\n",
              "    <path d=\"M7,19H8.4L18.45,9,17,7.55,7,17.6ZM5,21V16.75L18.45,3.32a2,2,0,0,1,2.83,0l1.4,1.43a1.91,1.91,0,0,1,.58,1.4,1.91,1.91,0,0,1-.58,1.4L9.25,21ZM18.45,9,17,7.55Zm-12,3A5.31,5.31,0,0,0,4.9,8.1,5.31,5.31,0,0,0,1,6.5,5.31,5.31,0,0,0,4.9,4.9,5.31,5.31,0,0,0,6.5,1,5.31,5.31,0,0,0,8.1,4.9,5.31,5.31,0,0,0,12,6.5,5.46,5.46,0,0,0,6.5,12Z\"/>\n",
              "  </svg>\n",
              "    </button>\n",
              "    <script>\n",
              "      (() => {\n",
              "      const buttonEl =\n",
              "        document.querySelector('#id_c15d15fa-2a8e-45ab-8b8e-b69f9aedb074 button.colab-df-generate');\n",
              "      buttonEl.style.display =\n",
              "        google.colab.kernel.accessAllowed ? 'block' : 'none';\n",
              "\n",
              "      buttonEl.onclick = () => {\n",
              "        google.colab.notebook.generateWithVariable('base2');\n",
              "      }\n",
              "      })();\n",
              "    </script>\n",
              "  </div>\n",
              "\n",
              "    </div>\n",
              "  </div>\n"
            ]
          },
          "metadata": {},
          "execution_count": 149
        }
      ]
    },
    {
      "cell_type": "code",
      "source": [
        "base2.Link[0]"
      ],
      "metadata": {
        "id": "2f0YJJ_LfFlV",
        "outputId": "3c97e503-f20d-44da-b7a7-33f230f7eef3",
        "colab": {
          "base_uri": "https://localhost:8080/",
          "height": 35
        }
      },
      "execution_count": 154,
      "outputs": [
        {
          "output_type": "execute_result",
          "data": {
            "text/plain": [
              "'https://www.senado.es/legis10/publicaciones/pdf/senado/ds/DS_P_10_8.PDF'"
            ],
            "application/vnd.google.colaboratory.intrinsic+json": {
              "type": "string"
            }
          },
          "metadata": {},
          "execution_count": 154
        }
      ]
    },
    {
      "cell_type": "code",
      "source": [
        "base2=base2.reset_index(drop=True)"
      ],
      "metadata": {
        "id": "eqo1NUGkq_-Z"
      },
      "execution_count": null,
      "outputs": []
    },
    {
      "cell_type": "code",
      "source": [
        "base2['fecha_formato'] = pd.to_datetime(base2['fecha_formato'], errors='coerce')"
      ],
      "metadata": {
        "id": "5a7C0jzjjWdX"
      },
      "execution_count": null,
      "outputs": []
    },
    {
      "cell_type": "code",
      "source": [
        "from google.colab import files\n",
        "base2.to_csv('base_formateada_senado_snowball_conorden.csv', escapechar='\\\\')\n",
        "files.download('base_formateada_senado_snowball_conorden.csv')"
      ],
      "metadata": {
        "id": "MddIYTC4BIJs"
      },
      "execution_count": null,
      "outputs": []
    }
  ]
}