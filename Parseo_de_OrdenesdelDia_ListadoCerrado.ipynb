{
  "nbformat": 4,
  "nbformat_minor": 0,
  "metadata": {
    "colab": {
      "provenance": [],
      "authorship_tag": "ABX9TyOEiyxEpOH5sQnApxNRjqb0",
      "include_colab_link": true
    },
    "kernelspec": {
      "name": "python3",
      "display_name": "Python 3"
    },
    "language_info": {
      "name": "python"
    }
  },
  "cells": [
    {
      "cell_type": "markdown",
      "metadata": {
        "id": "view-in-github",
        "colab_type": "text"
      },
      "source": [
        "<a href=\"https://colab.research.google.com/github/LCaravaggio/politext/blob/snowball/Parseo_de_OrdenesdelDia_ListadoCerrado.ipynb\" target=\"_parent\"><img src=\"https://colab.research.google.com/assets/colab-badge.svg\" alt=\"Open In Colab\"/></a>"
      ]
    },
    {
      "cell_type": "code",
      "execution_count": 1,
      "metadata": {
        "colab": {
          "base_uri": "https://localhost:8080/"
        },
        "id": "9S_UEBLg81wW",
        "outputId": "31960c20-284a-4a7f-9023-ee1f280ed4b6"
      },
      "outputs": [
        {
          "output_type": "stream",
          "name": "stdout",
          "text": [
            "Mounted at /content/drive\n",
            "Downloading Scraps%20PDFs.csv.zip to /content\n",
            " 96% 225M/234M [00:02<00:00, 90.3MB/s]\n",
            "100% 234M/234M [00:02<00:00, 101MB/s] \n",
            "Downloading base_formateada_senado_snowball.csv.zip to /content\n",
            " 90% 129M/143M [00:02<00:00, 43.3MB/s]\n",
            "100% 143M/143M [00:02<00:00, 54.3MB/s]\n"
          ]
        }
      ],
      "source": [
        "import pandas as pd\n",
        "import numpy as np\n",
        "\n",
        "\n",
        "import json\n",
        "from google.colab import drive\n",
        "\n",
        "!mkdir ~/.kaggle\n",
        "!touch ~/.kaggle/kaggle.json\n",
        "\n",
        "drive.mount('/content/drive', force_remount=True)\n",
        "with open(\"/content/drive/My Drive/kaggle.json\", 'r') as f:\n",
        "    api_token= json.load(f)\n",
        "\n",
        "with open('/root/.kaggle/kaggle.json', 'w') as file:\n",
        "    json.dump(api_token, file)\n",
        "\n",
        "!chmod 600 ~/.kaggle/kaggle.json\n",
        "\n",
        "!kaggle datasets download -d leonardocaravaggio/scraps-pdfs -f \"Scraps PDFs.csv\"\n",
        "!kaggle datasets download -d leonardocaravaggio/scraps-pdfs -f \"base_formateada_senado_snowball.csv\""
      ]
    },
    {
      "cell_type": "code",
      "source": [
        "import zipfile\n",
        "import os\n",
        "\n",
        "os.listdir()\n",
        "\n",
        "for file in os.listdir():\n",
        "    if file.endswith('.zip'):\n",
        "      zip_ref = zipfile.ZipFile(file, 'r')\n",
        "      zip_ref.extractall()\n",
        "      zip_ref.close()"
      ],
      "metadata": {
        "id": "gwJL1yMZ9zbE"
      },
      "execution_count": 2,
      "outputs": []
    },
    {
      "cell_type": "code",
      "source": [
        "# Cargamos la base\n",
        "base = pd.read_csv('/content/Scraps PDFs.csv')\n",
        "base_parseada = pd.read_csv('/content/base_formateada_senado_snowball.csv')"
      ],
      "metadata": {
        "id": "IHPR981-91Ps",
        "outputId": "8d9b1ef1-78af-4d75-90aa-4b95c526b5bb",
        "colab": {
          "base_uri": "https://localhost:8080/"
        }
      },
      "execution_count": 3,
      "outputs": [
        {
          "output_type": "stream",
          "name": "stderr",
          "text": [
            "<ipython-input-3-e0eeee1141a8>:3: DtypeWarning: Columns (7) have mixed types. Specify dtype option on import or set low_memory=False.\n",
            "  base_parseada = pd.read_csv('/content/base_formateada_senado_snowball.csv')\n"
          ]
        }
      ]
    },
    {
      "cell_type": "code",
      "source": [
        "base_parseada.columns"
      ],
      "metadata": {
        "id": "fgmr3HKFmJeV",
        "outputId": "ccf7e6d3-f5c9-4475-f084-f29bc1157664",
        "colab": {
          "base_uri": "https://localhost:8080/"
        }
      },
      "execution_count": 4,
      "outputs": [
        {
          "output_type": "execute_result",
          "data": {
            "text/plain": [
              "Index(['Unnamed: 0.1', 'Unnamed: 0', 'Nombre/Cargo', 'Discurso', 'Cargo',\n",
              "       'Nombre', 'Link', 'Legislatura', 'tipo', 'fecha', 'fecha_formato',\n",
              "       'nombre', 'apellidos', 'procedLiteral', 'procedLugar', 'grupoNombre',\n",
              "       'tokens'],\n",
              "      dtype='object')"
            ]
          },
          "metadata": {},
          "execution_count": 4
        }
      ]
    },
    {
      "cell_type": "code",
      "source": [
        "import re\n",
        "\n",
        "def generar(l):\n",
        "  df=pd.DataFrame(columns=['Nombre/Cargo', 'Discurso', 'Cargo',\n",
        "       'Nombre', 'Link', 'Legislatura', 'tipo', 'fecha', 'fecha_formato',\n",
        "       'nombre', 'apellidos', 'procedLiteral', 'procedLugar', 'grupoNombre',\n",
        "       'tokens', 'orden'])\n",
        "  fila=base['link'][base['link'] == l[6]].index[0]\n",
        "  texto=str(base.loc[fila].text)\n",
        "  discurso=str(l[3])\n",
        "\n",
        "\n",
        "  #ordenes = texto[texto.find('ORDEN DEL DÍA'):texto.find('SUMARIO')].split('\\n\\n')\n",
        "  ordenes=['ACTAS', 'REGLAMENTO DEL SENADO', 'INCOMPATIBILIDADES', 'COMISIONES MIXTAS', 'CONVENIOS Y ACUERDOS DE COOPERACIÓN ENTRE COMUNIDADES AUTÓNOMAS']\n",
        "\n",
        "  o=0\n",
        "  for orden in ordenes:\n",
        "    print(texto[texto.find('SUMARIO'):].find(discurso.replace('\\n','')))\n",
        "    print(texto[texto.find('SUMARIO'):].find(orden.upper()))\n",
        "    print('----------')\n",
        "    if texto[texto.find('SUMARIO'):].find(discurso)>texto[texto.find('SUMARIO'):].find(orden.upper()): o+=1\n",
        "\n",
        "  print(o)\n",
        "  df['Nombre/Cargo']=[l[2]]\n",
        "  df['Discurso']=[l[3]]\n",
        "  df['Cargo']=[l[4]]\n",
        "  df['Nombre']=[l[5]]\n",
        "  df['Link']=[l[6]]\n",
        "  df['Legislatura']=[l[7]]\n",
        "  df['tipo']=[l[8]]\n",
        "  df['fecha']=[l[9]]\n",
        "  df['fecha_formato']=[l[10]]\n",
        "  df['nombre']=[l[11]]\n",
        "  df['apellidos']=[l[12]]\n",
        "  df['procedLiteral']=[l[13]]\n",
        "  df['procedLugar']=[l[14]]\n",
        "  df['grupoNombre']=[l[15]]\n",
        "  df['tokens']=[l[16]]\n",
        "  try:\n",
        "    df['orden']=[ordenes[o-1]]\n",
        "  except:\n",
        "    df['orden']=[\"\"]\n",
        "\n",
        "\n",
        "  return df"
      ],
      "metadata": {
        "id": "CzfD-9U7rQLj"
      },
      "execution_count": 144,
      "outputs": []
    },
    {
      "cell_type": "code",
      "source": [
        "base2=pd.DataFrame(columns=['Nombre/Cargo', 'Discurso', 'Cargo',\n",
        "       'Nombre', 'Link', 'Legislatura', 'tipo', 'fecha', 'fecha_formato',\n",
        "       'nombre', 'apellidos', 'procedLiteral', 'procedLugar', 'grupoNombre',\n",
        "       'tokens', 'orden'])"
      ],
      "metadata": {
        "id": "44C0UxVP4gjK"
      },
      "execution_count": 145,
      "outputs": []
    },
    {
      "cell_type": "code",
      "source": [
        "for row in base_parseada.values[26:27]:\n",
        "  base2 = pd.concat([base2, generar(row)], axis=0)"
      ],
      "metadata": {
        "id": "ivCarVUHoA1b",
        "outputId": "272656c2-fb7e-43b6-e07c-5e627f74d52d",
        "colab": {
          "base_uri": "https://localhost:8080/"
        }
      },
      "execution_count": 146,
      "outputs": [
        {
          "output_type": "stream",
          "name": "stdout",
          "text": [
            "7659\n",
            "984\n",
            "----------\n",
            "7659\n",
            "1220\n",
            "----------\n",
            "7659\n",
            "3523\n",
            "----------\n",
            "7659\n",
            "4850\n",
            "----------\n",
            "7659\n",
            "5355\n",
            "----------\n",
            "5\n"
          ]
        }
      ]
    },
    {
      "cell_type": "code",
      "source": [
        "base2"
      ],
      "metadata": {
        "id": "JnTnChTXFry1",
        "outputId": "c2991111-bf8c-418a-96f9-0247a77a88db",
        "colab": {
          "base_uri": "https://localhost:8080/",
          "height": 170
        }
      },
      "execution_count": 147,
      "outputs": [
        {
          "output_type": "execute_result",
          "data": {
            "text/plain": [
              "            Nombre/Cargo   Discurso         Cargo Nombre  \\\n",
              "0  El señor OSÉS RAMÍREZ  Sí, juro.  OSÉS RAMÍREZ    NaN   \n",
              "\n",
              "                                                Link Legislatura  \\\n",
              "0  https://www.senado.es/legis10/publicaciones/pd...          10   \n",
              "\n",
              "                    tipo                fecha fecha_formato  nombre  \\\n",
              "0  PLENOCORTES GENERALES  24 de enero de 2012    2012-01-24  DANIEL   \n",
              "\n",
              "      apellidos procedLiteral        procedLugar grupoNombre   tokens  \\\n",
              "0  OSÉS RAMÍREZ        Electo  Electo:  La Rioja         GPP  ['jur']   \n",
              "\n",
              "                                               orden  \n",
              "0  CONVENIOS Y ACUERDOS DE COOPERACIÓN ENTRE COMU...  "
            ],
            "text/html": [
              "\n",
              "  <div id=\"df-2a475f24-7941-4d49-a929-8934df0aee4c\" class=\"colab-df-container\">\n",
              "    <div>\n",
              "<style scoped>\n",
              "    .dataframe tbody tr th:only-of-type {\n",
              "        vertical-align: middle;\n",
              "    }\n",
              "\n",
              "    .dataframe tbody tr th {\n",
              "        vertical-align: top;\n",
              "    }\n",
              "\n",
              "    .dataframe thead th {\n",
              "        text-align: right;\n",
              "    }\n",
              "</style>\n",
              "<table border=\"1\" class=\"dataframe\">\n",
              "  <thead>\n",
              "    <tr style=\"text-align: right;\">\n",
              "      <th></th>\n",
              "      <th>Nombre/Cargo</th>\n",
              "      <th>Discurso</th>\n",
              "      <th>Cargo</th>\n",
              "      <th>Nombre</th>\n",
              "      <th>Link</th>\n",
              "      <th>Legislatura</th>\n",
              "      <th>tipo</th>\n",
              "      <th>fecha</th>\n",
              "      <th>fecha_formato</th>\n",
              "      <th>nombre</th>\n",
              "      <th>apellidos</th>\n",
              "      <th>procedLiteral</th>\n",
              "      <th>procedLugar</th>\n",
              "      <th>grupoNombre</th>\n",
              "      <th>tokens</th>\n",
              "      <th>orden</th>\n",
              "    </tr>\n",
              "  </thead>\n",
              "  <tbody>\n",
              "    <tr>\n",
              "      <th>0</th>\n",
              "      <td>El señor OSÉS RAMÍREZ</td>\n",
              "      <td>Sí, juro.</td>\n",
              "      <td>OSÉS RAMÍREZ</td>\n",
              "      <td>NaN</td>\n",
              "      <td>https://www.senado.es/legis10/publicaciones/pd...</td>\n",
              "      <td>10</td>\n",
              "      <td>PLENOCORTES GENERALES</td>\n",
              "      <td>24 de enero de 2012</td>\n",
              "      <td>2012-01-24</td>\n",
              "      <td>DANIEL</td>\n",
              "      <td>OSÉS RAMÍREZ</td>\n",
              "      <td>Electo</td>\n",
              "      <td>Electo:  La Rioja</td>\n",
              "      <td>GPP</td>\n",
              "      <td>['jur']</td>\n",
              "      <td>CONVENIOS Y ACUERDOS DE COOPERACIÓN ENTRE COMU...</td>\n",
              "    </tr>\n",
              "  </tbody>\n",
              "</table>\n",
              "</div>\n",
              "    <div class=\"colab-df-buttons\">\n",
              "\n",
              "  <div class=\"colab-df-container\">\n",
              "    <button class=\"colab-df-convert\" onclick=\"convertToInteractive('df-2a475f24-7941-4d49-a929-8934df0aee4c')\"\n",
              "            title=\"Convert this dataframe to an interactive table.\"\n",
              "            style=\"display:none;\">\n",
              "\n",
              "  <svg xmlns=\"http://www.w3.org/2000/svg\" height=\"24px\" viewBox=\"0 -960 960 960\">\n",
              "    <path d=\"M120-120v-720h720v720H120Zm60-500h600v-160H180v160Zm220 220h160v-160H400v160Zm0 220h160v-160H400v160ZM180-400h160v-160H180v160Zm440 0h160v-160H620v160ZM180-180h160v-160H180v160Zm440 0h160v-160H620v160Z\"/>\n",
              "  </svg>\n",
              "    </button>\n",
              "\n",
              "  <style>\n",
              "    .colab-df-container {\n",
              "      display:flex;\n",
              "      gap: 12px;\n",
              "    }\n",
              "\n",
              "    .colab-df-convert {\n",
              "      background-color: #E8F0FE;\n",
              "      border: none;\n",
              "      border-radius: 50%;\n",
              "      cursor: pointer;\n",
              "      display: none;\n",
              "      fill: #1967D2;\n",
              "      height: 32px;\n",
              "      padding: 0 0 0 0;\n",
              "      width: 32px;\n",
              "    }\n",
              "\n",
              "    .colab-df-convert:hover {\n",
              "      background-color: #E2EBFA;\n",
              "      box-shadow: 0px 1px 2px rgba(60, 64, 67, 0.3), 0px 1px 3px 1px rgba(60, 64, 67, 0.15);\n",
              "      fill: #174EA6;\n",
              "    }\n",
              "\n",
              "    .colab-df-buttons div {\n",
              "      margin-bottom: 4px;\n",
              "    }\n",
              "\n",
              "    [theme=dark] .colab-df-convert {\n",
              "      background-color: #3B4455;\n",
              "      fill: #D2E3FC;\n",
              "    }\n",
              "\n",
              "    [theme=dark] .colab-df-convert:hover {\n",
              "      background-color: #434B5C;\n",
              "      box-shadow: 0px 1px 3px 1px rgba(0, 0, 0, 0.15);\n",
              "      filter: drop-shadow(0px 1px 2px rgba(0, 0, 0, 0.3));\n",
              "      fill: #FFFFFF;\n",
              "    }\n",
              "  </style>\n",
              "\n",
              "    <script>\n",
              "      const buttonEl =\n",
              "        document.querySelector('#df-2a475f24-7941-4d49-a929-8934df0aee4c button.colab-df-convert');\n",
              "      buttonEl.style.display =\n",
              "        google.colab.kernel.accessAllowed ? 'block' : 'none';\n",
              "\n",
              "      async function convertToInteractive(key) {\n",
              "        const element = document.querySelector('#df-2a475f24-7941-4d49-a929-8934df0aee4c');\n",
              "        const dataTable =\n",
              "          await google.colab.kernel.invokeFunction('convertToInteractive',\n",
              "                                                    [key], {});\n",
              "        if (!dataTable) return;\n",
              "\n",
              "        const docLinkHtml = 'Like what you see? Visit the ' +\n",
              "          '<a target=\"_blank\" href=https://colab.research.google.com/notebooks/data_table.ipynb>data table notebook</a>'\n",
              "          + ' to learn more about interactive tables.';\n",
              "        element.innerHTML = '';\n",
              "        dataTable['output_type'] = 'display_data';\n",
              "        await google.colab.output.renderOutput(dataTable, element);\n",
              "        const docLink = document.createElement('div');\n",
              "        docLink.innerHTML = docLinkHtml;\n",
              "        element.appendChild(docLink);\n",
              "      }\n",
              "    </script>\n",
              "  </div>\n",
              "\n",
              "    </div>\n",
              "  </div>\n"
            ]
          },
          "metadata": {},
          "execution_count": 147
        }
      ]
    },
    {
      "cell_type": "code",
      "source": [
        "base2=base2.reset_index(drop=True)"
      ],
      "metadata": {
        "id": "eqo1NUGkq_-Z"
      },
      "execution_count": null,
      "outputs": []
    },
    {
      "cell_type": "code",
      "source": [
        "base2['fecha_formato'] = pd.to_datetime(base2['fecha_formato'], errors='coerce')"
      ],
      "metadata": {
        "id": "5a7C0jzjjWdX"
      },
      "execution_count": null,
      "outputs": []
    },
    {
      "cell_type": "code",
      "source": [
        "from google.colab import files\n",
        "base2.to_csv('base_formateada_senado_snowball_conorden.csv', escapechar='\\\\')\n",
        "files.download('base_formateada_senado_snowball_conorden.csv')"
      ],
      "metadata": {
        "id": "MddIYTC4BIJs"
      },
      "execution_count": null,
      "outputs": []
    }
  ]
}