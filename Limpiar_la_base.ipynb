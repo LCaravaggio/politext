{
  "nbformat": 4,
  "nbformat_minor": 0,
  "metadata": {
    "colab": {
      "provenance": [],
      "include_colab_link": true
    },
    "kernelspec": {
      "name": "python3",
      "display_name": "Python 3"
    },
    "language_info": {
      "name": "python"
    }
  },
  "cells": [
    {
      "cell_type": "markdown",
      "metadata": {
        "id": "view-in-github",
        "colab_type": "text"
      },
      "source": [
        "<a href=\"https://colab.research.google.com/github/LCaravaggio/politext/blob/snowball/Limpiar_la_base.ipynb\" target=\"_parent\"><img src=\"https://colab.research.google.com/assets/colab-badge.svg\" alt=\"Open In Colab\"/></a>"
      ]
    },
    {
      "cell_type": "markdown",
      "source": [
        "# Limpiar la base"
      ],
      "metadata": {
        "id": "zhgnMyccrqdv"
      }
    },
    {
      "cell_type": "code",
      "execution_count": 1,
      "metadata": {
        "id": "L5ZNEGEF0aRa"
      },
      "outputs": [],
      "source": [
        "import pandas as pd\n",
        "import numpy as np\n",
        "from collections import Counter\n",
        "import ast"
      ]
    },
    {
      "cell_type": "code",
      "source": [
        "from google.colab import drive\n",
        "drive.mount('/content/drive')"
      ],
      "metadata": {
        "colab": {
          "base_uri": "https://localhost:8080/"
        },
        "id": "bkOUGBwH1bYL",
        "outputId": "f1a483b0-e039-48be-bec7-8ed4344addcc"
      },
      "execution_count": 2,
      "outputs": [
        {
          "output_type": "stream",
          "name": "stdout",
          "text": [
            "Mounted at /content/drive\n"
          ]
        }
      ]
    },
    {
      "cell_type": "code",
      "source": [
        "import pandas as pd\n",
        "import json\n",
        "\n",
        "!mkdir ~/.kaggle\n",
        "!touch ~/.kaggle/kaggle.json\n",
        "\n",
        "drive.mount('/content/drive', force_remount=True)\n",
        "with open(\"/content/drive/My Drive/kaggle.json\", 'r') as f:\n",
        "    api_token= json.load(f)\n",
        "\n",
        "with open('/root/.kaggle/kaggle.json', 'w') as file:\n",
        "    json.dump(api_token, file)\n",
        "\n",
        "!chmod 600 ~/.kaggle/kaggle.json\n",
        "\n",
        "!kaggle datasets download -d leonardocaravaggio/base-diputados"
      ],
      "metadata": {
        "id": "Lhfh9pkhVX1w",
        "outputId": "0306e9cc-91f3-43ea-c6bc-d71d5c816ae2",
        "colab": {
          "base_uri": "https://localhost:8080/"
        }
      },
      "execution_count": 3,
      "outputs": [
        {
          "output_type": "stream",
          "name": "stdout",
          "text": [
            "Mounted at /content/drive\n",
            "Downloading base-diputados.zip to /content\n",
            "100% 480M/480M [00:15<00:00, 36.5MB/s]\n",
            "100% 480M/480M [00:15<00:00, 32.3MB/s]\n"
          ]
        }
      ]
    },
    {
      "cell_type": "code",
      "source": [
        "import zipfile\n",
        "import os\n",
        "\n",
        "os.listdir()\n",
        "\n",
        "for file in os.listdir():\n",
        "    if file.endswith('.zip'):\n",
        "      zip_ref = zipfile.ZipFile(file, 'r')\n",
        "      zip_ref.extractall()\n",
        "      zip_ref.close()"
      ],
      "metadata": {
        "id": "ntZitKUJVj6T"
      },
      "execution_count": 4,
      "outputs": []
    },
    {
      "cell_type": "code",
      "source": [
        "# Se lee la base original\n",
        "base=pd.read_csv('/content/par_esp_interventions_l1_l13.csv')"
      ],
      "metadata": {
        "colab": {
          "base_uri": "https://localhost:8080/"
        },
        "id": "v8kZsj9_1dyL",
        "outputId": "37804adc-9d9b-4096-ad31-55f523a8c261"
      },
      "execution_count": 5,
      "outputs": [
        {
          "output_type": "stream",
          "name": "stderr",
          "text": [
            "<ipython-input-5-5462a4a332af>:2: DtypeWarning: Columns (17) have mixed types. Specify dtype option on import or set low_memory=False.\n",
            "  base=pd.read_csv('/content/par_esp_interventions_l1_l13.csv')\n"
          ]
        }
      ]
    },
    {
      "cell_type": "code",
      "source": [
        "base['partido']=base['party']\n",
        "base.party.replace(dict.fromkeys(['PSC-PSOE', 'PSE-PSOE, PSE-EE', 'PSE-EE', 'PSE-PSOE', 'PDC, PSC-PSOE', 'US-PSP, PSOE', 'UCD, PSOE (PAD), PSOE',\n",
        "                    'PSP, PSOE', 'UCD, PSOE', 'UCD, PSOE', 'PSUC-PCE, PSC-PSOE[1]<U+200B>', 'PCE, PSOE', 'PSOE, IU', 'PSOE, IU', 'PSC-PSOE[1]<U+200B>', 'PSC-PSOE (PSA)',\n",
        "                    'UEC (PSUC), IC, PSC-PSOE', 'IU, PSdeG-PSOE', 'EE, PSE-EE (PSOE)', 'PSE-EE (PSOE)', 'IU, PDNI, PSOE', 'IU, PSOE', 'PSUC-PCE, PSC-PSOE', 'PSOE (Los Verdes)',\n",
        "                    'UPyD, PSOE', 'PSOE, PSOE-NCa', \"PSOE, C's\"],['PSOE']), inplace=True)\n",
        "base.party.replace(dict.fromkeys(['AP, CD, AP-PDP, CP, PP', 'UCD, UPN, AP-PDP, CP, UPN-PP', 'UCD, CP, PP', 'UCD, PP', 'UCD, CD, AP-PDP, CP, PP', 'CD, AP-PDP', 'UCD, AP-PDP, CP', 'UCD, AP-PDP, CP, PP'\n",
        "                    'AP-PDP-UV', 'CAIC, AP-PDP, PAR', 'AP, AP-PDP, CP, PP', 'UPN-AP-PDP', 'AP-PDP-UV, UV', 'CP, PP', 'CP, PP-CG','UCD, CP, UPN-PP', 'PP-CG, PP', 'UPN-PP'\n",
        "                    'PP, PP-PAR', 'PP-PAR, PP', 'PP, PP-EU', 'UV, PP', 'PP-PAR', 'PP, PP-FORO', 'AP-PDP, PP', 'UPN-PP, PP', 'PP-EU', 'PP-EU, PP', 'PP, FORO','AP-PDP-UV, CP'\n",
        "                    'UCD, CDS, PP', 'AP-PDP, CP', 'AP-PDP, CP, PP', 'AP-PDP', 'UCD, AP-PDP, CP, CDS'],['PP']), inplace=True)"
      ],
      "metadata": {
        "id": "Bm_1JmYsUE8r"
      },
      "execution_count": 7,
      "outputs": []
    },
    {
      "cell_type": "code",
      "source": [
        "# Se conservan solamente las intervenciones de los partidos PSOE y PP\n",
        "base=base[(base['party'] == 'PSOE') | (base['party'] == 'PP')]"
      ],
      "metadata": {
        "id": "dgovIufl1oJq"
      },
      "execution_count": 8,
      "outputs": []
    },
    {
      "cell_type": "code",
      "source": [
        "# La base está completa 1979-2019 !!\n",
        "a=pd.DatetimeIndex(base.fecha).year.unique().tolist()\n",
        "a.sort()\n",
        "for x in a:\n",
        "  print(f\"{x}: {base[pd.DatetimeIndex(base.fecha).year==x].party.unique()}\")"
      ],
      "metadata": {
        "id": "XG8WXqQ_x114",
        "outputId": "ee7d0002-a6fd-478b-e95b-a1b25f6caa06",
        "colab": {
          "base_uri": "https://localhost:8080/"
        }
      },
      "execution_count": 9,
      "outputs": [
        {
          "output_type": "stream",
          "name": "stderr",
          "text": [
            "<ipython-input-9-d0bc53e111ae>:2: UserWarning: Parsing dates in DD/MM/YYYY format when dayfirst=False (the default) was specified. This may lead to inconsistently parsed dates! Specify a format to ensure consistent parsing.\n",
            "  a=pd.DatetimeIndex(base.fecha).year.unique().tolist()\n",
            "<ipython-input-9-d0bc53e111ae>:5: UserWarning: Parsing dates in DD/MM/YYYY format when dayfirst=False (the default) was specified. This may lead to inconsistently parsed dates! Specify a format to ensure consistent parsing.\n",
            "  print(f\"{x}: {base[pd.DatetimeIndex(base.fecha).year==x].party.unique()}\")\n"
          ]
        },
        {
          "output_type": "stream",
          "name": "stdout",
          "text": [
            "1979: ['PP' 'PSOE']\n",
            "1980: ['PSOE' 'PP']\n",
            "1981: ['PSOE' 'PP']\n",
            "1982: ['PSOE' 'PP']\n",
            "1983: ['PSOE' 'PP']\n",
            "1984: ['PSOE' 'PP']\n",
            "1985: ['PSOE' 'PP']\n",
            "1986: ['PSOE' 'PP']\n",
            "1987: ['PSOE' 'PP']\n",
            "1988: ['PSOE' 'PP']\n",
            "1989: ['PSOE' 'PP']\n",
            "1990: ['PSOE' 'PP']\n",
            "1991: ['PSOE' 'PP']\n",
            "1992: ['PSOE' 'PP']\n",
            "1993: ['PSOE' 'PP']\n",
            "1994: ['PSOE' 'PP']\n",
            "1995: ['PSOE' 'PP']\n",
            "1996: ['PSOE' 'PP']\n",
            "1997: ['PP' 'PSOE']\n",
            "1998: ['PP' 'PSOE']\n",
            "1999: ['PP' 'PSOE']\n",
            "2000: ['PP' 'PSOE']\n",
            "2001: ['PP' 'PSOE']\n",
            "2002: ['PP' 'PSOE']\n",
            "2003: ['PP' 'PSOE']\n",
            "2004: ['PP' 'PSOE']\n",
            "2005: ['PSOE' 'PP']\n",
            "2006: ['PSOE' 'PP']\n",
            "2007: ['PSOE' 'PP']\n",
            "2008: ['PSOE' 'PP']\n",
            "2009: ['PSOE' 'PP']\n",
            "2010: ['PSOE' 'PP']\n",
            "2011: ['PSOE' 'PP']\n",
            "2012: ['PP' 'PSOE']\n",
            "2013: ['PP' 'PSOE']\n",
            "2014: ['PP' 'PSOE']\n",
            "2015: ['PP' 'PSOE']\n",
            "2016: ['PP' 'PSOE']\n",
            "2017: ['PP' 'PSOE']\n",
            "2018: ['PP' 'PSOE']\n",
            "2019: ['PP' 'PSOE']\n"
          ]
        }
      ]
    },
    {
      "cell_type": "code",
      "source": [
        "# Elimino de la base las intervenciones del Presidente de la cámara\n",
        "base=base[(base['role'] != 'PRESIDENTE, PRESIDENTA') | (base['role'] != 'PRESIDENTE DEL CONGRESO DE LOS DIPUTADOS')]"
      ],
      "metadata": {
        "id": "dhbKq8uX1t_4"
      },
      "execution_count": 10,
      "outputs": []
    },
    {
      "cell_type": "code",
      "source": [
        "import nltk\n",
        "nltk.download('stopwords')\n",
        "from nltk.corpus import stopwords\n",
        "stopwords=stopwords.words('spanish')\n",
        "nltk.download('punkt')\n",
        "from nltk.tokenize import word_tokenize\n",
        "import string\n",
        "from nltk.stem.snowball import SpanishStemmer"
      ],
      "metadata": {
        "colab": {
          "base_uri": "https://localhost:8080/"
        },
        "id": "RNVsu84Y16U5",
        "outputId": "0d55ae7f-7a7e-4cbc-ae33-1dd7efabbe26"
      },
      "execution_count": 11,
      "outputs": [
        {
          "output_type": "stream",
          "name": "stderr",
          "text": [
            "[nltk_data] Downloading package stopwords to /root/nltk_data...\n",
            "[nltk_data]   Unzipping corpora/stopwords.zip.\n",
            "[nltk_data] Downloading package punkt to /root/nltk_data...\n",
            "[nltk_data]   Unzipping tokenizers/punkt.zip.\n"
          ]
        }
      ]
    },
    {
      "cell_type": "code",
      "source": [
        "# Se incorporan las stopwords sugeridas por Federico\n",
        "stopwords.extend(['señor', 'señora', 'mucha', 'gracia', 'año', 'pasado', 'cada', 'vez', 'uno', 'dos', 'tres', 'cuatro', 'cinco', 'seis' ,'siete', 'ocho', 'nueve', 'diez'])\n",
        "stopwords.extend(['hoy', 'aquí', 'primer', 'lugar', 'primera', 'segunda', 'primero', 'segundo', 'siguiente', 'tercer'])\n",
        "stopwords.extend(['convergencia', 'esquerra', 'republicana', 'grupo', 'parlamentaria', 'parlamentario', 'partido'])\n",
        "stopwords.extend(['enmienda', 'votación', 'favor', 'abstención', 'ley', 'real', 'decreto', 'decretoley', 'resultado', 'voto', 'sé' ,'sí', 'silencio' ,'favor'])\n",
        "stopwords.extend(['usted', 'señoría', 'presidente', 'presidenta', 'ministro', 'orden' , 'día', 'palabra', 'petición', 'posición', 'punto', 'vista', 'sesión', 'baldoví', 'duran', 'turno'])\n",
        "stopwords.extend(['hacer', 'frente', 'puede' ,'ser', 'va', 'voy', 'decir'])\n",
        "stopwords.extend(['millón', 'euro', 'emitido', 'efectuada', 'dio', 'comienzo', 'partido', 'queda', 'quedan', 'rechazada', 'aceptada', 'comienza', 'usted', 'sabe', 'abstención', 'diputado', 'gobierno'])\n",
        "stopwords.extend(['continuación', 'votamos', 'telemático', 'republicanaizquierda', 'unidainiciativa', 'puede', 'bien', 'propuesta' ,'abstencion', 'mayoría', 'absoluta', 'pregunta', 'don', 'vamos', 'votar', 'llevar', 'cabo', 'millón', 'muchas', 'gracias'])"
      ],
      "metadata": {
        "id": "RALkdTYF2AGT"
      },
      "execution_count": 12,
      "outputs": []
    },
    {
      "cell_type": "code",
      "source": [
        "# Esta celda tarda unos 21 minutos en correr\n",
        "porter_stemmer = SpanishStemmer()\n",
        "\n",
        "lista = []\n",
        "base['tokens']=\"\"\n",
        "for row in base.values:\n",
        "    #elimino puntuación\n",
        "    non_punctuation = row[2].replace('-',' ')\n",
        "    non_punctuation = non_punctuation.translate(str.maketrans('', '', string.punctuation))\n",
        "    word_tokens = word_tokenize(non_punctuation)\n",
        "\n",
        "    #elimino stopwords\n",
        "    tokens=[w for w in word_tokens if not w.lower() in stopwords]\n",
        "\n",
        "    #stemming\n",
        "    stemmers = [porter_stemmer.stem(word) for word in tokens]\n",
        "    row[19] = [stem for stem in stemmers if stem.isalpha() and len(stem) > 1]\n",
        "    lista.append(row)"
      ],
      "metadata": {
        "id": "3MOXEmLa4bJq"
      },
      "execution_count": 14,
      "outputs": []
    },
    {
      "cell_type": "code",
      "source": [
        "base = pd.DataFrame(lista, columns=base.columns)"
      ],
      "metadata": {
        "id": "zLd0hB4137yF"
      },
      "execution_count": 15,
      "outputs": []
    },
    {
      "cell_type": "markdown",
      "source": [
        "# Guardar la base"
      ],
      "metadata": {
        "id": "OugfPZC5rtYa"
      }
    },
    {
      "cell_type": "code",
      "source": [
        "base.to_csv('/content/base_formateada_snowball.csv')\n",
        "\n",
        "from google.colab import files\n",
        "files.download('/content/base_formateada_snowball.csv')"
      ],
      "metadata": {
        "id": "Fg33RdzRECO3",
        "outputId": "ac36ba8c-b9d9-465e-a3c5-2a0e725ad55c",
        "colab": {
          "base_uri": "https://localhost:8080/",
          "height": 17
        }
      },
      "execution_count": 18,
      "outputs": [
        {
          "output_type": "display_data",
          "data": {
            "text/plain": [
              "<IPython.core.display.Javascript object>"
            ],
            "application/javascript": [
              "\n",
              "    async function download(id, filename, size) {\n",
              "      if (!google.colab.kernel.accessAllowed) {\n",
              "        return;\n",
              "      }\n",
              "      const div = document.createElement('div');\n",
              "      const label = document.createElement('label');\n",
              "      label.textContent = `Downloading \"${filename}\": `;\n",
              "      div.appendChild(label);\n",
              "      const progress = document.createElement('progress');\n",
              "      progress.max = size;\n",
              "      div.appendChild(progress);\n",
              "      document.body.appendChild(div);\n",
              "\n",
              "      const buffers = [];\n",
              "      let downloaded = 0;\n",
              "\n",
              "      const channel = await google.colab.kernel.comms.open(id);\n",
              "      // Send a message to notify the kernel that we're ready.\n",
              "      channel.send({})\n",
              "\n",
              "      for await (const message of channel.messages) {\n",
              "        // Send a message to notify the kernel that we're ready.\n",
              "        channel.send({})\n",
              "        if (message.buffers) {\n",
              "          for (const buffer of message.buffers) {\n",
              "            buffers.push(buffer);\n",
              "            downloaded += buffer.byteLength;\n",
              "            progress.value = downloaded;\n",
              "          }\n",
              "        }\n",
              "      }\n",
              "      const blob = new Blob(buffers, {type: 'application/binary'});\n",
              "      const a = document.createElement('a');\n",
              "      a.href = window.URL.createObjectURL(blob);\n",
              "      a.download = filename;\n",
              "      div.appendChild(a);\n",
              "      a.click();\n",
              "      div.remove();\n",
              "    }\n",
              "  "
            ]
          },
          "metadata": {}
        },
        {
          "output_type": "display_data",
          "data": {
            "text/plain": [
              "<IPython.core.display.Javascript object>"
            ],
            "application/javascript": [
              "download(\"download_e13771dc-4f62-44fe-881e-4686506e67d3\", \"base_formateada_snowball.csv\", 1051952510)"
            ]
          },
          "metadata": {}
        }
      ]
    }
  ]
}