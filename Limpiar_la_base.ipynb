{
  "nbformat": 4,
  "nbformat_minor": 0,
  "metadata": {
    "colab": {
      "provenance": [],
      "authorship_tag": "ABX9TyOi0CS5C4Pj77nrSlDIWvxk",
      "include_colab_link": true
    },
    "kernelspec": {
      "name": "python3",
      "display_name": "Python 3"
    },
    "language_info": {
      "name": "python"
    }
  },
  "cells": [
    {
      "cell_type": "markdown",
      "metadata": {
        "id": "view-in-github",
        "colab_type": "text"
      },
      "source": [
        "<a href=\"https://colab.research.google.com/github/LCaravaggio/politext/blob/main/Limpiar_la_base.ipynb\" target=\"_parent\"><img src=\"https://colab.research.google.com/assets/colab-badge.svg\" alt=\"Open In Colab\"/></a>"
      ]
    },
    {
      "cell_type": "markdown",
      "source": [
        "# Limpiar la base"
      ],
      "metadata": {
        "id": "zhgnMyccrqdv"
      }
    },
    {
      "cell_type": "code",
      "execution_count": null,
      "metadata": {
        "id": "L5ZNEGEF0aRa"
      },
      "outputs": [],
      "source": [
        "import pandas as pd\n",
        "import numpy as np\n",
        "from collections import Counter\n",
        "import ast"
      ]
    },
    {
      "cell_type": "code",
      "source": [
        "from google.colab import drive\n",
        "drive.mount('/content/drive')"
      ],
      "metadata": {
        "colab": {
          "base_uri": "https://localhost:8080/"
        },
        "id": "bkOUGBwH1bYL",
        "outputId": "bf8486f8-2b5d-4a49-db1f-6ea42437fd46"
      },
      "execution_count": null,
      "outputs": [
        {
          "output_type": "stream",
          "name": "stdout",
          "text": [
            "Mounted at /content/drive\n"
          ]
        }
      ]
    },
    {
      "cell_type": "code",
      "source": [
        "# Se lee la base original\n",
        "base=pd.read_csv('/content/drive/MyDrive/par_esp_interventions_l1_l13.csv')"
      ],
      "metadata": {
        "colab": {
          "base_uri": "https://localhost:8080/"
        },
        "id": "v8kZsj9_1dyL",
        "outputId": "a03540b2-47a8-45a4-e5a7-1271e062a5ad"
      },
      "execution_count": null,
      "outputs": [
        {
          "output_type": "stream",
          "name": "stderr",
          "text": [
            "/usr/local/lib/python3.7/dist-packages/IPython/core/interactiveshell.py:3326: DtypeWarning: Columns (17) have mixed types.Specify dtype option on import or set low_memory=False.\n",
            "  exec(code_obj, self.user_global_ns, self.user_ns)\n"
          ]
        }
      ]
    },
    {
      "cell_type": "code",
      "source": [
        "base.party.unique()"
      ],
      "metadata": {
        "id": "QRXafhqcTMPQ",
        "outputId": "f38294b5-8a0d-468e-90f5-4b185be57eeb",
        "colab": {
          "base_uri": "https://localhost:8080/"
        }
      },
      "execution_count": null,
      "outputs": [
        {
          "output_type": "execute_result",
          "data": {
            "text/plain": [
              "array(['UCD, AP-PDP, CP', 'PSOE', 'UCD', 'PNV', 'PDC, CiU',\n",
              "       'AP, CD, AP-PDP, CP, PP', 'PCE', 'PSA', 'UPC', 'PSC-PSOE', 'ERC',\n",
              "       'EE', 'PSE-PSOE, PSE-EE', 'PSUC-PCE', 'UCD, CDS', 'PSdeG-PSOE',\n",
              "       'CAIC, PAR, AP-PDP', 'UN', 'UCD, UPN, AP-PDP, CP, UPN-PP',\n",
              "       'PSA, PA', 'UCD, CC-UCD', 'CD', 'UCD, CP', 'PSE-PSOE', 'PCE, IU',\n",
              "       'UCD, CP, PP', 'Independiente, CD, AP-PDP, CP', nan, 'UCD, PP',\n",
              "       'CC-UCD, CiU', 'CiU', 'UCD, CD, AP-PDP, CP, PP', 'CD, AP-PDP',\n",
              "       'PDC, PSC-PSOE', 'UCD, CC', 'UCD, AP-PDP, CP, PP', 'US-PSP, PSOE',\n",
              "       'UCD, AP-PDP', 'AP, CD, AP-PDP, CP', 'UCD, PSOE (PAD), PSOE',\n",
              "       'UC-DCC, CC-UCD', 'UCD, PSOE (PAD)', 'PSP, PSOE', 'DC, CiU',\n",
              "       'CC-UCD', 'UCD, PSOE', 'PSUC-PCE, PSC-PSOE[1]<U+200B>',\n",
              "       'PCE, PSOE', 'PSOE, IU', 'AL, UCD', 'AP, CD, AP-PDP',\n",
              "       'PSC-PSOE[1]<U+200B>', 'PSC-PSOE (PSA)', 'CiU, PP',\n",
              "       'PNV[3]<U+200B>, EA', 'UCD, CDS, PP', 'AP-PDP, CP',\n",
              "       'AP-PDP, CP, PP', 'AP-PDP', 'UCD, AP-PDP, CP, CDS', 'UCD, AIC, CC',\n",
              "       'AP-PDP-UV, CP, PP', 'AP-PDP-UV, CP', 'UCD, AP-PDP, PP',\n",
              "       'AP-PDP-UV', 'CAIC, AP-PDP, PAR', 'AP-PDP-UV, CP, PP, Vox',\n",
              "       'AP, AP-PDP, CP, PP', 'UPN-AP-PDP', 'AP-PDP-UV, UV', 'CDS', 'IU',\n",
              "       'UEC (PSUC), IC, PSC-PSOE', 'UCD, CG', 'AIC', 'CP',\n",
              "       'IU, PSdeG-PSOE', 'CP, PP', 'PP', 'CP, CDS',\n",
              "       'Independiente[5]<U+200B>, CP', 'UPN-CP', 'CP, CiU', 'CP, PP-CG',\n",
              "       'PNV, EA', 'HB', 'UV', 'PAR', 'IU-EUPV', 'PA', 'IC', 'IU, PDNI',\n",
              "       'UCD, CP, UPN-PP', 'PP-CG, PP', 'UPN-PP', 'PP, PP-PAR', 'EA',\n",
              "       'EE, PSE-EE (PSOE)', 'CC', 'BNG', 'ICV', 'CHA', 'CiU, DL, CDC',\n",
              "       'PP-PAR, PP', 'PSE-EE (PSOE)', 'IU, PDNI, PSOE', 'PP[7]<U+200B>',\n",
              "       'PP, PP-EU', 'UV, PP', 'IU, PSOE', 'IC, ICV', 'PP-PAR',\n",
              "       'PP, PP-FORO', 'IU, Más País', 'IU-EB', 'PSUC-PCE, PSC-PSOE',\n",
              "       'EA, PNV', 'CiU, PDeCAT', 'ICV-EUiA', 'NaBai, GBai', 'ERC-ERPV',\n",
              "       'AP-PDP, PP', 'CC, NC', 'PSOE (Los Verdes)', 'PP, Vox',\n",
              "       'CC, CC-PNC', 'UPyD', 'CC (API-AIC), CC-PNC', 'UPN-PP, PP',\n",
              "       'JxCat', 'IU, IU-UPeC, UP', 'Amaiur', 'FORO',\n",
              "       'Compromís, Podemos-C., Més C.', 'PP-EU', 'UPyD, PSOE',\n",
              "       'CC-NC, PSOE-NCa', 'IU-EUPV, Podemos-Compromís',\n",
              "       'EUiA, ERC (Sobiranistes)', 'PP[7]', \"UPyD, C's\",\n",
              "       'Amaiur, EH Bildu', 'PSOE, PSOE-NCa', 'PP-EU, PP', 'EH Bildu',\n",
              "       'En Marea (EU), UP', 'NA+ (UPN)', 'DL', 'Podemos, UP', \"C's\",\n",
              "       'ECP', 'En Marea (Anova)', 'DL, CDC', 'PP, FORO', 'IU-UPeC',\n",
              "       'Podemos-Compromís', 'Podemos, UP, Más País',\n",
              "       'CiU, DL, CDC, JxCat', 'DL, CDC, JxCat', 'PP-FORO', \"PSOE, C's\",\n",
              "       'Podemos (Equo), UP', 'UP (IU)', 'ECP (ICV)', 'En Marea (Podemos)',\n",
              "       'En Marea (Podemos), UP', 'CDC, JxCat', 'Podemos-Compromís, UP',\n",
              "       'ECP (EUiA)', 'UP', 'Vox', 'PRC'], dtype=object)"
            ]
          },
          "metadata": {},
          "execution_count": 34
        }
      ]
    },
    {
      "cell_type": "code",
      "source": [
        "base['partido']=base['party']\n",
        "base.party.replace(dict.fromkeys(['PSC-PSOE', 'PSE-PSOE, PSE-EE', 'PSE-EE', 'PSE-PSOE', 'PDC, PSC-PSOE', 'US-PSP, PSOE', 'UCD, PSOE (PAD), PSOE', \n",
        "                    'PSP, PSOE', 'UCD, PSOE', 'UCD, PSOE', 'PSUC-PCE, PSC-PSOE[1]<U+200B>', 'PCE, PSOE', 'PSOE, IU', 'PSOE, IU', 'PSC-PSOE[1]<U+200B>', 'PSC-PSOE (PSA)', \n",
        "                    'UEC (PSUC), IC, PSC-PSOE', 'IU, PSdeG-PSOE', 'EE, PSE-EE (PSOE)', 'PSE-EE (PSOE)', 'IU, PDNI, PSOE', 'IU, PSOE', 'PSUC-PCE, PSC-PSOE', 'PSOE (Los Verdes)', \n",
        "                    'UPyD, PSOE', 'PSOE, PSOE-NCa', \"PSOE, C's\"],['PSOE']), inplace=True)\n",
        "base.party.replace(dict.fromkeys(['AP, CD, AP-PDP, CP, PP', 'UCD, UPN, AP-PDP, CP, UPN-PP', 'UCD, CP, PP', 'UCD, PP', 'UCD, CD, AP-PDP, CP, PP', 'CD, AP-PDP', 'UCD, AP-PDP, CP', 'UCD, AP-PDP, CP, PP'\n",
        "                    'AP-PDP-UV', 'CAIC, AP-PDP, PAR', 'AP, AP-PDP, CP, PP', 'UPN-AP-PDP', 'AP-PDP-UV, UV', 'CP, PP', 'CP, PP-CG','UCD, CP, UPN-PP', 'PP-CG, PP', 'UPN-PP'\n",
        "                    'PP, PP-PAR', 'PP-PAR, PP', 'PP, PP-EU', 'UV, PP', 'PP-PAR', 'PP, PP-FORO', 'AP-PDP, PP', 'UPN-PP, PP', 'PP-EU', 'PP-EU, PP', 'PP, FORO','AP-PDP-UV, CP'\n",
        "                    'UCD, CDS, PP', 'AP-PDP, CP', 'AP-PDP, CP, PP', 'AP-PDP', 'UCD, AP-PDP, CP, CDS'],['PP']), inplace=True)"
      ],
      "metadata": {
        "id": "Bm_1JmYsUE8r"
      },
      "execution_count": null,
      "outputs": []
    },
    {
      "cell_type": "code",
      "source": [
        "base.party.unique()"
      ],
      "metadata": {
        "id": "nz9-HyLjbGk6",
        "outputId": "b0a46457-e33d-4ac9-a36f-babca20ab6ff",
        "colab": {
          "base_uri": "https://localhost:8080/"
        }
      },
      "execution_count": null,
      "outputs": [
        {
          "output_type": "execute_result",
          "data": {
            "text/plain": [
              "array(['PP', 'PSOE', 'UCD', 'PNV', 'PDC, CiU', 'PCE', 'PSA', 'UPC', 'ERC',\n",
              "       'EE', 'PSUC-PCE', 'UCD, CDS', 'PSdeG-PSOE', 'CAIC, PAR, AP-PDP',\n",
              "       'UN', 'PSA, PA', 'UCD, CC-UCD', 'CD', 'UCD, CP', 'PCE, IU',\n",
              "       'Independiente, CD, AP-PDP, CP', nan, 'CC-UCD, CiU', 'CiU',\n",
              "       'UCD, CC', 'UCD, AP-PDP, CP, PP', 'UCD, AP-PDP',\n",
              "       'AP, CD, AP-PDP, CP', 'UC-DCC, CC-UCD', 'UCD, PSOE (PAD)',\n",
              "       'DC, CiU', 'CC-UCD', 'AL, UCD', 'AP, CD, AP-PDP', 'CiU, PP',\n",
              "       'PNV[3]<U+200B>, EA', 'UCD, CDS, PP', 'UCD, AIC, CC',\n",
              "       'AP-PDP-UV, CP, PP', 'AP-PDP-UV, CP', 'UCD, AP-PDP, PP',\n",
              "       'AP-PDP-UV', 'AP-PDP-UV, CP, PP, Vox', 'CDS', 'IU', 'UCD, CG',\n",
              "       'AIC', 'CP', 'CP, CDS', 'Independiente[5]<U+200B>, CP', 'UPN-CP',\n",
              "       'CP, CiU', 'PNV, EA', 'HB', 'UV', 'PAR', 'IU-EUPV', 'PA', 'IC',\n",
              "       'IU, PDNI', 'UPN-PP', 'PP, PP-PAR', 'EA', 'CC', 'BNG', 'ICV',\n",
              "       'CHA', 'CiU, DL, CDC', 'PP[7]<U+200B>', 'IC, ICV', 'IU, Más País',\n",
              "       'IU-EB', 'EA, PNV', 'CiU, PDeCAT', 'ICV-EUiA', 'NaBai, GBai',\n",
              "       'ERC-ERPV', 'CC, NC', 'PP, Vox', 'CC, CC-PNC', 'UPyD',\n",
              "       'CC (API-AIC), CC-PNC', 'JxCat', 'IU, IU-UPeC, UP', 'Amaiur',\n",
              "       'FORO', 'Compromís, Podemos-C., Més C.', 'CC-NC, PSOE-NCa',\n",
              "       'IU-EUPV, Podemos-Compromís', 'EUiA, ERC (Sobiranistes)', 'PP[7]',\n",
              "       \"UPyD, C's\", 'Amaiur, EH Bildu', 'EH Bildu', 'En Marea (EU), UP',\n",
              "       'NA+ (UPN)', 'DL', 'Podemos, UP', \"C's\", 'ECP', 'En Marea (Anova)',\n",
              "       'DL, CDC', 'IU-UPeC', 'Podemos-Compromís', 'Podemos, UP, Más País',\n",
              "       'CiU, DL, CDC, JxCat', 'DL, CDC, JxCat', 'PP-FORO',\n",
              "       'Podemos (Equo), UP', 'UP (IU)', 'ECP (ICV)', 'En Marea (Podemos)',\n",
              "       'En Marea (Podemos), UP', 'CDC, JxCat', 'Podemos-Compromís, UP',\n",
              "       'ECP (EUiA)', 'UP', 'Vox', 'PRC'], dtype=object)"
            ]
          },
          "metadata": {},
          "execution_count": 41
        }
      ]
    },
    {
      "cell_type": "code",
      "source": [
        "# Se conservan solamente las intervenciones de los partidos PSOE y PP\n",
        "base=base[(base['party'] == 'PSOE') | (base['party'] == 'PP')]"
      ],
      "metadata": {
        "id": "dgovIufl1oJq"
      },
      "execution_count": null,
      "outputs": []
    },
    {
      "cell_type": "code",
      "source": [
        "# La base está completa 1979-2019 !!\n",
        "a=pd.DatetimeIndex(base.fecha).year.unique().tolist()\n",
        "a.sort()\n",
        "for x in a: \n",
        "  print(f\"{x}: {base[pd.DatetimeIndex(base.fecha).year==x].party.unique()}\")"
      ],
      "metadata": {
        "id": "XG8WXqQ_x114",
        "outputId": "1e0ddbb0-a7cb-4b9e-a504-d6245a6e201d",
        "colab": {
          "base_uri": "https://localhost:8080/"
        }
      },
      "execution_count": null,
      "outputs": [
        {
          "output_type": "stream",
          "name": "stdout",
          "text": [
            "1979: ['PP' 'PSOE']\n",
            "1980: ['PSOE' 'PP']\n",
            "1981: ['PSOE' 'PP']\n",
            "1982: ['PSOE' 'PP']\n",
            "1983: ['PSOE' 'PP']\n",
            "1984: ['PSOE' 'PP']\n",
            "1985: ['PSOE' 'PP']\n",
            "1986: ['PSOE' 'PP']\n",
            "1987: ['PSOE' 'PP']\n",
            "1988: ['PSOE' 'PP']\n",
            "1989: ['PSOE' 'PP']\n",
            "1990: ['PSOE' 'PP']\n",
            "1991: ['PSOE' 'PP']\n",
            "1992: ['PSOE' 'PP']\n",
            "1993: ['PSOE' 'PP']\n",
            "1994: ['PSOE' 'PP']\n",
            "1995: ['PSOE' 'PP']\n",
            "1996: ['PSOE' 'PP']\n",
            "1997: ['PP' 'PSOE']\n",
            "1998: ['PP' 'PSOE']\n",
            "1999: ['PP' 'PSOE']\n",
            "2000: ['PP' 'PSOE']\n",
            "2001: ['PP' 'PSOE']\n",
            "2002: ['PP' 'PSOE']\n",
            "2003: ['PP' 'PSOE']\n",
            "2004: ['PP' 'PSOE']\n",
            "2005: ['PSOE' 'PP']\n",
            "2006: ['PSOE' 'PP']\n",
            "2007: ['PSOE' 'PP']\n",
            "2008: ['PSOE' 'PP']\n",
            "2009: ['PSOE' 'PP']\n",
            "2010: ['PSOE' 'PP']\n",
            "2011: ['PSOE' 'PP']\n",
            "2012: ['PP' 'PSOE']\n",
            "2013: ['PP' 'PSOE']\n",
            "2014: ['PP' 'PSOE']\n",
            "2015: ['PP' 'PSOE']\n",
            "2016: ['PP' 'PSOE']\n",
            "2017: ['PP' 'PSOE']\n",
            "2018: ['PP' 'PSOE']\n",
            "2019: ['PP' 'PSOE']\n"
          ]
        }
      ]
    },
    {
      "cell_type": "code",
      "source": [
        "# Elimino de la base las intervenciones del Presidente de la cámara\n",
        "base=base[(base['role'] != 'PRESIDENTE, PRESIDENTA') | (base['role'] != 'PRESIDENTE DEL CONGRESO DE LOS DIPUTADOS')]"
      ],
      "metadata": {
        "id": "dhbKq8uX1t_4"
      },
      "execution_count": null,
      "outputs": []
    },
    {
      "cell_type": "code",
      "source": [
        "import nltk\n",
        "nltk.download('stopwords')\n",
        "from nltk.corpus import stopwords\n",
        "stopwords=stopwords.words('spanish')\n",
        "nltk.download('punkt')\n",
        "from nltk.tokenize import word_tokenize\n",
        "import string\n",
        "from nltk.stem.porter import PorterStemmer"
      ],
      "metadata": {
        "colab": {
          "base_uri": "https://localhost:8080/"
        },
        "id": "RNVsu84Y16U5",
        "outputId": "85040b18-fe2e-4afb-a11f-1a311134b97b"
      },
      "execution_count": null,
      "outputs": [
        {
          "output_type": "stream",
          "name": "stderr",
          "text": [
            "[nltk_data] Downloading package stopwords to /root/nltk_data...\n",
            "[nltk_data]   Unzipping corpora/stopwords.zip.\n",
            "[nltk_data] Downloading package punkt to /root/nltk_data...\n",
            "[nltk_data]   Unzipping tokenizers/punkt.zip.\n"
          ]
        }
      ]
    },
    {
      "cell_type": "code",
      "source": [
        "# Se incorporan las stopwords sugeridas por Federico\n",
        "stopwords.extend(['señor', 'señora', 'mucha', 'gracia', 'año', 'pasado', 'cada', 'vez', 'uno', 'dos', 'tres', 'cuatro', 'cinco', 'seis' ,'siete', 'ocho', 'nueve', 'diez'])\n",
        "stopwords.extend(['hoy', 'aquí', 'primer', 'lugar', 'primera', 'segunda', 'primero', 'segundo', 'siguiente', 'tercer'])\n",
        "stopwords.extend(['convergencia', 'esquerra', 'republicana', 'grupo', 'parlamentaria', 'parlamentario', 'partido'])\n",
        "stopwords.extend(['enmienda', 'votación', 'favor', 'abstención', 'ley', 'real', 'decreto', 'decretoley', 'resultado', 'voto', 'sé' ,'sí', 'silencio' ,'favor'])\n",
        "stopwords.extend(['usted', 'señoría', 'presidente', 'presidenta', 'ministro', 'orden' , 'día', 'palabra', 'petición', 'posición', 'punto', 'vista', 'sesión', 'baldoví', 'duran', 'turno'])\n",
        "stopwords.extend(['hacer', 'frente', 'puede' ,'ser', 'va', 'voy', 'decir'])\n",
        "stopwords.extend(['millón', 'euro', 'emitido', 'efectuada', 'dio', 'comienzo', 'partido', 'queda', 'quedan', 'rechazada', 'aceptada', 'comienza', 'usted', 'sabe', 'abstención', 'diputado', 'gobierno'])\n",
        "stopwords.extend(['continuación', 'votamos', 'telemático', 'republicanaizquierda', 'unidainiciativa', 'puede', 'bien', 'propuesta' ,'abstencion', 'mayoría', 'absoluta', 'pregunta', 'don', 'vamos', 'votar', 'llevar', 'cabo', 'millón', 'muchas', 'gracias'])"
      ],
      "metadata": {
        "id": "RALkdTYF2AGT"
      },
      "execution_count": null,
      "outputs": []
    },
    {
      "cell_type": "code",
      "source": [
        "# Esta celda tarda unos 45 minutos en correr\n",
        "porter_stemmer = PorterStemmer()\n",
        "\n",
        "base['tokens']=\"\"\n",
        "for ind in base.index:\n",
        "    #elimino puntuación\n",
        "    non_punctuation = base['intervention'][ind].translate(str.maketrans('', '', string.punctuation))\n",
        "    word_tokens = word_tokenize(non_punctuation)\n",
        "\n",
        "    #elimino stopwords\n",
        "    tokens=[w for w in word_tokens if not w.lower() in stopwords]\n",
        "\n",
        "    #stemming\n",
        "    stemmers = [porter_stemmer.stem(word) for word in tokens]\n",
        "    base['tokens'][ind] = [stem for stem in stemmers if stem.isalpha() and len(stem) > 1]"
      ],
      "metadata": {
        "colab": {
          "base_uri": "https://localhost:8080/"
        },
        "id": "3MOXEmLa4bJq",
        "outputId": "6db7188a-5086-48ec-e412-99b588c2a7fb"
      },
      "execution_count": null,
      "outputs": [
        {
          "output_type": "stream",
          "name": "stderr",
          "text": [
            "/usr/local/lib/python3.7/dist-packages/ipykernel_launcher.py:15: SettingWithCopyWarning: \n",
            "A value is trying to be set on a copy of a slice from a DataFrame\n",
            "\n",
            "See the caveats in the documentation: https://pandas.pydata.org/pandas-docs/stable/user_guide/indexing.html#returning-a-view-versus-a-copy\n",
            "  from ipykernel import kernelapp as app\n"
          ]
        }
      ]
    },
    {
      "cell_type": "markdown",
      "source": [
        "# Guardar la base"
      ],
      "metadata": {
        "id": "OugfPZC5rtYa"
      }
    },
    {
      "cell_type": "code",
      "source": [
        "base.to_csv('/content/drive/MyDrive/base_formateada.csv')"
      ],
      "metadata": {
        "id": "Fg33RdzRECO3"
      },
      "execution_count": null,
      "outputs": []
    }
  ]
}