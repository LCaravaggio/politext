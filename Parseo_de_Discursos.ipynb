{
  "nbformat": 4,
  "nbformat_minor": 0,
  "metadata": {
    "colab": {
      "provenance": [],
      "authorship_tag": "ABX9TyPJYyXTsSEkbMI1MMBiLlXZ",
      "include_colab_link": true
    },
    "kernelspec": {
      "name": "python3",
      "display_name": "Python 3"
    },
    "language_info": {
      "name": "python"
    }
  },
  "cells": [
    {
      "cell_type": "markdown",
      "metadata": {
        "id": "view-in-github",
        "colab_type": "text"
      },
      "source": [
        "<a href=\"https://colab.research.google.com/github/LCaravaggio/politext/blob/snowball/Parseo_de_Discursos.ipynb\" target=\"_parent\"><img src=\"https://colab.research.google.com/assets/colab-badge.svg\" alt=\"Open In Colab\"/></a>"
      ]
    },
    {
      "cell_type": "code",
      "execution_count": 1,
      "metadata": {
        "colab": {
          "base_uri": "https://localhost:8080/"
        },
        "id": "9S_UEBLg81wW",
        "outputId": "3c4935eb-a3f7-493a-eb86-e94c8a835068"
      },
      "outputs": [
        {
          "output_type": "stream",
          "name": "stdout",
          "text": [
            "Mounted at /content/drive\n",
            "Downloading scraps-pdfs.zip to /content\n",
            "100% 715M/717M [00:11<00:00, 22.8MB/s]\n",
            "100% 717M/717M [00:11<00:00, 65.6MB/s]\n"
          ]
        }
      ],
      "source": [
        "import pandas as pd\n",
        "import numpy as np\n",
        "\n",
        "\n",
        "import json\n",
        "from google.colab import drive\n",
        "\n",
        "!mkdir ~/.kaggle\n",
        "!touch ~/.kaggle/kaggle.json\n",
        "\n",
        "drive.mount('/content/drive', force_remount=True)\n",
        "with open(\"/content/drive/My Drive/kaggle.json\", 'r') as f:\n",
        "    api_token= json.load(f)\n",
        "\n",
        "with open('/root/.kaggle/kaggle.json', 'w') as file:\n",
        "    json.dump(api_token, file)\n",
        "\n",
        "!chmod 600 ~/.kaggle/kaggle.json\n",
        "\n",
        "!kaggle datasets download -d leonardocaravaggio/scraps-pdfs"
      ]
    },
    {
      "cell_type": "code",
      "source": [
        "import zipfile\n",
        "import os\n",
        "\n",
        "os.listdir()\n",
        "\n",
        "for file in os.listdir():\n",
        "    if file.endswith('.zip'):\n",
        "      zip_ref = zipfile.ZipFile(file, 'r')\n",
        "      zip_ref.extractall()\n",
        "      zip_ref.close()"
      ],
      "metadata": {
        "id": "gwJL1yMZ9zbE"
      },
      "execution_count": 2,
      "outputs": []
    },
    {
      "cell_type": "code",
      "source": [
        "# Cargamos la base\n",
        "base = pd.read_csv('/content/Scraps PDFs.csv')"
      ],
      "metadata": {
        "id": "IHPR981-91Ps"
      },
      "execution_count": 3,
      "outputs": []
    },
    {
      "cell_type": "code",
      "source": [
        "import pandas as pd\n",
        "import re\n",
        "from datetime import datetime\n",
        "\n",
        "month_mapping = {\n",
        "    \"enero\": 1,\n",
        "    \"febrero\": 2,\n",
        "    \"marzo\": 3,\n",
        "    \"abril\": 4,\n",
        "    \"mayo\": 5,\n",
        "    \"junio\": 6,\n",
        "    \"julio\": 7,\n",
        "    \"agosto\": 8,\n",
        "    \"septiembre\": 9,\n",
        "    \"octubre\": 10,\n",
        "    \"noviembre\": 11,\n",
        "    \"diciembre\": 12,\n",
        "}\n",
        "\n",
        "\n",
        "pd.options.mode.chained_assignment = None\n",
        "def generar(l):\n",
        "  df=pd.DataFrame()\n",
        "  lineas = l[2].strip().split(\"\\n\")\n",
        "\n",
        "  coincidencias_nombre_cargo = []\n",
        "  coincidencias_discurso = []\n",
        "  discurso_actual = \"\"\n",
        "\n",
        "  for linea in lineas:\n",
        "      try:\n",
        "        if linea[0].isupper() and (\":\" in linea or \"(\" in linea):\n",
        "          coincidencias_nombre_cargo.append(linea.split(\":\")[0].strip())\n",
        "          coincidencias_discurso.append(discurso_actual)\n",
        "          discurso_actual = linea.strip()\n",
        "        else:\n",
        "          discurso_actual += \" \" + linea.strip()\n",
        "      except: discurso_actual = \" \"\n",
        "\n",
        "  # Agregar la última coincidencia de discurso\n",
        "  coincidencias_discurso.append(discurso_actual)\n",
        "\n",
        "  if coincidencias_nombre_cargo!=[] and linea!=\"(Corrección de errores)\":\n",
        "    # Verificar si hay la misma cantidad de coincidencias para nombre/cargo y discursos\n",
        "    if len(coincidencias_nombre_cargo) == len(coincidencias_discurso[1:]):\n",
        "\n",
        "        # Crear el DataFrame de pandas\n",
        "        data = {\n",
        "            \"Nombre/Cargo\": coincidencias_nombre_cargo,\n",
        "            \"Discurso\": coincidencias_discurso[1:],\n",
        "        }\n",
        "\n",
        "        df = pd.DataFrame(data)\n",
        "        df[\"Discurso\"] = df[\"Discurso\"].str.strip()\n",
        "\n",
        "\n",
        "\n",
        "    else:\n",
        "        print(\"Error: no coincide la cantidad de coincidencias para nombre/cargo y discursos.\")\n",
        "\n",
        "    df = df[df['Nombre/Cargo'].str.contains(r'[A-Z]{2,}')]\n",
        "    discurso=df.apply(lambda row: re.sub(re.escape(row['Nombre/Cargo']) + r':\\s*', '', row['Discurso']), axis=1)\n",
        "    df['Discurso'] = discurso\n",
        "    df['Cargo'] = df['Nombre/Cargo'].apply(lambda x: ' '.join(re.findall(r'\\b[A-Z][A-ZÁÉÍÓÚÜÑ-]+\\b', x)))\n",
        "    df['Nombre'] = df['Nombre/Cargo'].apply(lambda x: re.findall(r'', x)[0] if re.findall(r'', x) else '')\n",
        "    df['Link']=l[1]\n",
        "    df['Legislatura']=l[1][27:29]\n",
        "    df['tipo']= l[2][:re.search('\\n', l[2]).span()[0]]\n",
        "\n",
        "    ordenes=[]\n",
        "    for discurso in df['Discurso']:\n",
        "      anterior=l[2].split(discurso[:15])\n",
        "      matches=re.findall(r'[A-ZÁÉÍÓÚÑ\\s]+[\\n.]', anterior[0], re.UNICODE)\n",
        "      elementos_a_eliminar = ['\\n', ' .', '.', ' \\n', ' \\n','  \\n', ' L.', '  SENADO D.', ' DIARIO DE SESIONES DEL SENADO\\nJUNTA PREPARATORIA Y SESIÓN CONSTITUTIVA\\n', 'DIARIO DE SESIONES DEL SENADO\\nJUNTA PREPARATORIA Y SESIÓN CONSTITUTIVA\\n']\n",
        "      orden = [elemento for elemento in matches if elemento not in elementos_a_eliminar]\n",
        "\n",
        "      if matches:\n",
        "        ordenes.append(orden[-1].replace('\\n', ''))\n",
        "\n",
        "      else:\n",
        "        ordenes.append(' ')\n",
        "\n",
        "    df['Orden']=ordenes\n",
        "\n",
        "    expresion_regular = r\"(\\d+)\\s+de\\s+([a-zA-Z]+)\\s+de\\s+(\\d+)\"\n",
        "    fecha=re.search(expresion_regular, str(l).replace('’',''))[0]\n",
        "    df['fecha']=fecha\n",
        "\n",
        "    if fecha.find('de')-3<0:\n",
        "      if fecha[:fecha.find('de')-1]=='':\n",
        "        day=1\n",
        "      else:\n",
        "        day=int(fecha[:fecha.find('de')-1])\n",
        "    else:\n",
        "      day=int(fecha[fecha.find('de')-3:fecha.find('de')-1])\n",
        "\n",
        "\n",
        "    m=month_mapping.get(fecha[fecha.find('de')+3:fecha[fecha.find('de')+1:].find('de')+fecha.find('de')].lower())\n",
        "    if m is None:\n",
        "      month=1\n",
        "    else:\n",
        "      month=int(m)\n",
        "\n",
        "    if fecha[-4:]=='':\n",
        "      year=int(1000)\n",
        "    else:\n",
        "      year=int(fecha[-4:])\n",
        "    df['fecha_formato']=datetime(year, month, day)\n",
        "\n",
        "  if df.empty:\n",
        "    df['Nombre/Cargo']=None\n",
        "    df['Discurso']=None\n",
        "    df['Cargo']=None\n",
        "    df['Nombre']=None\n",
        "    df['Link']=None\n",
        "    df['Legislatura']=None\n",
        "    df['tipo']=None\n",
        "    df['fecha']=None\n",
        "    df['fecha_formato']=None\n",
        "\n",
        "  return df"
      ],
      "metadata": {
        "id": "HBv6kMypBvn9"
      },
      "execution_count": 395,
      "outputs": []
    },
    {
      "cell_type": "code",
      "source": [
        "base2=pd.DataFrame(columns=['Nombre/Cargo', 'Discurso', 'Orden','Cargo', 'Nombre', 'Link', 'Legislatura', 'tipo', 'fecha', 'fecha_formato'])"
      ],
      "metadata": {
        "id": "I9tt77GTpPnG"
      },
      "execution_count": 396,
      "outputs": []
    },
    {
      "cell_type": "code",
      "source": [
        "for row in base.values:\n",
        "  base2 = pd.concat([base2, generar(row)], axis=0)"
      ],
      "metadata": {
        "id": "ivCarVUHoA1b"
      },
      "execution_count": 397,
      "outputs": []
    },
    {
      "cell_type": "code",
      "source": [
        "base2=base2.reset_index(drop=True)"
      ],
      "metadata": {
        "id": "eqo1NUGkq_-Z"
      },
      "execution_count": 399,
      "outputs": []
    },
    {
      "cell_type": "code",
      "source": [
        "base2['fecha_formato'] = pd.to_datetime(base2['fecha_formato'], errors='coerce')"
      ],
      "metadata": {
        "id": "5a7C0jzjjWdX"
      },
      "execution_count": null,
      "outputs": []
    },
    {
      "cell_type": "code",
      "source": [
        "grupos=pd.read_xml('/content/openData2023731165138.xml')"
      ],
      "metadata": {
        "id": "SpAGt--fa8Nf"
      },
      "execution_count": null,
      "outputs": []
    },
    {
      "cell_type": "code",
      "source": [
        "base2['nombre']=\"\"\n",
        "base2['apellidos']=\"\"\n",
        "base2['procedLiteral']=\"\"\n",
        "base2['procedLugar']=\"\"\n",
        "base2['grupoNombre']=\"\"\n",
        "\n",
        "\n",
        "lista = []\n",
        "\n",
        "for linea in base2.values:\n",
        "\n",
        "    nombres = grupos.loc[grupos['apellidos'] == linea[3].upper()].nombre.tolist()\n",
        "\n",
        "    if next(iter(nombres or []), None)==None:\n",
        "      nombres = grupos.loc[grupos['apellidos'] == linea[2].upper()].nombre.tolist()\n",
        "      linea[9]=next(iter(nombres or []), None)\n",
        "\n",
        "      apellidos = grupos.loc[grupos['apellidos'] == linea[2].upper()].apellidos.tolist()\n",
        "      linea[10]=next(iter(apellidos or []), None)\n",
        "\n",
        "      procedLiteral\t = grupos.loc[grupos['apellidos'] == linea[2].upper()].procedLiteral.tolist()\n",
        "      linea[11]=next(iter(procedLiteral or []), None)\n",
        "\n",
        "      procedLugar\t = grupos.loc[grupos['apellidos'] == linea[2].upper()].procedLugar.tolist()\n",
        "      linea[12]=next(iter(procedLugar or []), None)\n",
        "\n",
        "      grupoNombre\t= grupos.loc[grupos['apellidos'] == linea[2].upper()].grupoNombre.tolist()\n",
        "      linea[13]=next(iter(grupoNombre or []), None)\n",
        "\n",
        "    else:\n",
        "\n",
        "      linea[9]=next(iter(nombres or []), None)\n",
        "\n",
        "      apellidos = grupos.loc[grupos['apellidos'] == linea[3].upper()].apellidos.tolist()\n",
        "      linea[10]=next(iter(apellidos or []), None)\n",
        "\n",
        "      procedLiteral\t = grupos.loc[grupos['apellidos'] == linea[3].upper()].procedLiteral.tolist()\n",
        "      linea[11]=next(iter(procedLiteral or []), None)\n",
        "\n",
        "      procedLugar\t = grupos.loc[grupos['apellidos'] == linea[3].upper()].procedLugar.tolist()\n",
        "      linea[12]=next(iter(procedLugar or []), None)\n",
        "\n",
        "      grupoNombre\t= grupos.loc[grupos['apellidos'] == linea[3].upper()].grupoNombre.tolist()\n",
        "      linea[13]=next(iter(grupoNombre or []), None)\n",
        "\n",
        "    lista.append(linea)"
      ],
      "metadata": {
        "id": "CnBhHjPhkfe9"
      },
      "execution_count": null,
      "outputs": []
    },
    {
      "cell_type": "code",
      "source": [
        "base2=pd.DataFrame(lista, columns=base2.columns)"
      ],
      "metadata": {
        "id": "bECGMYuRqQv-"
      },
      "execution_count": null,
      "outputs": []
    },
    {
      "cell_type": "code",
      "source": [
        "column_name = 'apellidos'\n",
        "null_count = base2[column_name].isnull().sum()"
      ],
      "metadata": {
        "id": "0q27AMsLMvhK"
      },
      "execution_count": null,
      "outputs": []
    },
    {
      "cell_type": "code",
      "source": [
        "null_count"
      ],
      "metadata": {
        "id": "hNz1FJqJdOI7",
        "outputId": "62570821-9388-4035-a91f-295b67a0efba",
        "colab": {
          "base_uri": "https://localhost:8080/"
        }
      },
      "execution_count": null,
      "outputs": [
        {
          "output_type": "execute_result",
          "data": {
            "text/plain": [
              "340921"
            ]
          },
          "metadata": {},
          "execution_count": 225
        }
      ]
    },
    {
      "cell_type": "code",
      "source": [
        "base2[base2[column_name].isnull()].Cargo.value_counts()[:20]"
      ],
      "metadata": {
        "id": "A_miI9BgOxOI",
        "outputId": "3df265b5-b15a-4ac8-f84b-3a92438b3636",
        "colab": {
          "base_uri": "https://localhost:8080/"
        }
      },
      "execution_count": null,
      "outputs": [
        {
          "output_type": "execute_result",
          "data": {
            "text/plain": [
              "PRESIDENTE                 176622\n",
              "PRESIDENTA                  12927\n",
              "VICEPRESIDENTE              11436\n",
              "PRESIDENT                    5619\n",
              "AUTOR                        2527\n",
              "DORREGO GONZALEZ             2335\n",
              "                             1787\n",
              "MINISTRO DEL INTERIOR        1782\n",
              "GARCIA ROYO                  1776\n",
              "CERCOS PEREZ                 1439\n",
              "FUENTES NAVARRO              1144\n",
              "MINISTRO DE JUSTICIA         1113\n",
              "EAJ-PNV                      1016\n",
              "LABORDA MARTIN               1008\n",
              "PRESIDENTE DEL GOBIERNO       959\n",
              "AUTORA                        880\n",
              "BASELGA GARCIA-ESCUDERO       850\n",
              "MINISTRA DE FOMENTO           813\n",
              "LOPEZ HENARES                 771\n",
              "MINISTRO DE FOMENTO           757\n",
              "Name: Cargo, dtype: int64"
            ]
          },
          "metadata": {},
          "execution_count": 226
        }
      ]
    },
    {
      "cell_type": "code",
      "source": [
        "from google.colab import files\n",
        "base2.to_csv('base_parseada.csv', escapechar='\\\\')\n",
        "files.download('base_parseada.csv')"
      ],
      "metadata": {
        "id": "MddIYTC4BIJs",
        "outputId": "cd12bd34-bf3d-43db-fa56-e0c38e1b9525",
        "colab": {
          "base_uri": "https://localhost:8080/",
          "height": 17
        }
      },
      "execution_count": null,
      "outputs": [
        {
          "output_type": "display_data",
          "data": {
            "text/plain": [
              "<IPython.core.display.Javascript object>"
            ],
            "application/javascript": [
              "\n",
              "    async function download(id, filename, size) {\n",
              "      if (!google.colab.kernel.accessAllowed) {\n",
              "        return;\n",
              "      }\n",
              "      const div = document.createElement('div');\n",
              "      const label = document.createElement('label');\n",
              "      label.textContent = `Downloading \"${filename}\": `;\n",
              "      div.appendChild(label);\n",
              "      const progress = document.createElement('progress');\n",
              "      progress.max = size;\n",
              "      div.appendChild(progress);\n",
              "      document.body.appendChild(div);\n",
              "\n",
              "      const buffers = [];\n",
              "      let downloaded = 0;\n",
              "\n",
              "      const channel = await google.colab.kernel.comms.open(id);\n",
              "      // Send a message to notify the kernel that we're ready.\n",
              "      channel.send({})\n",
              "\n",
              "      for await (const message of channel.messages) {\n",
              "        // Send a message to notify the kernel that we're ready.\n",
              "        channel.send({})\n",
              "        if (message.buffers) {\n",
              "          for (const buffer of message.buffers) {\n",
              "            buffers.push(buffer);\n",
              "            downloaded += buffer.byteLength;\n",
              "            progress.value = downloaded;\n",
              "          }\n",
              "        }\n",
              "      }\n",
              "      const blob = new Blob(buffers, {type: 'application/binary'});\n",
              "      const a = document.createElement('a');\n",
              "      a.href = window.URL.createObjectURL(blob);\n",
              "      a.download = filename;\n",
              "      div.appendChild(a);\n",
              "      a.click();\n",
              "      div.remove();\n",
              "    }\n",
              "  "
            ]
          },
          "metadata": {}
        },
        {
          "output_type": "display_data",
          "data": {
            "text/plain": [
              "<IPython.core.display.Javascript object>"
            ],
            "application/javascript": [
              "download(\"download_da9ede64-baf2-4ec7-9636-46df17acdd38\", \"base_parseada.csv\", 674110573)"
            ]
          },
          "metadata": {}
        }
      ]
    }
  ]
}