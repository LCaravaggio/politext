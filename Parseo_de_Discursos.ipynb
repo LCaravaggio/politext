{
  "nbformat": 4,
  "nbformat_minor": 0,
  "metadata": {
    "colab": {
      "provenance": [],
      "authorship_tag": "ABX9TyNqFcjPRTWz8d5biq1UAr+1",
      "include_colab_link": true
    },
    "kernelspec": {
      "name": "python3",
      "display_name": "Python 3"
    },
    "language_info": {
      "name": "python"
    }
  },
  "cells": [
    {
      "cell_type": "markdown",
      "metadata": {
        "id": "view-in-github",
        "colab_type": "text"
      },
      "source": [
        "<a href=\"https://colab.research.google.com/github/LCaravaggio/politext/blob/main/Parseo_de_Discursos.ipynb\" target=\"_parent\"><img src=\"https://colab.research.google.com/assets/colab-badge.svg\" alt=\"Open In Colab\"/></a>"
      ]
    },
    {
      "cell_type": "code",
      "execution_count": 1,
      "metadata": {
        "colab": {
          "base_uri": "https://localhost:8080/"
        },
        "id": "9S_UEBLg81wW",
        "outputId": "691230b0-f1ce-42bd-8667-e18bcd8dced4"
      },
      "outputs": [
        {
          "output_type": "stream",
          "name": "stdout",
          "text": [
            "Mounted at /content/drive\n",
            "Downloading scraps-pdfs.zip to /content\n",
            " 99% 90.0M/90.8M [00:02<00:00, 57.1MB/s]\n",
            "100% 90.8M/90.8M [00:02<00:00, 40.2MB/s]\n"
          ]
        }
      ],
      "source": [
        "import pandas as pd\n",
        "import numpy as np\n",
        "\n",
        "\n",
        "import json\n",
        "from google.colab import drive\n",
        "\n",
        "!mkdir ~/.kaggle\n",
        "!touch ~/.kaggle/kaggle.json\n",
        "\n",
        "drive.mount('/content/drive', force_remount=True)\n",
        "with open(\"/content/drive/My Drive/kaggle.json\", 'r') as f:\n",
        "    api_token= json.load(f)\n",
        "\n",
        "with open('/root/.kaggle/kaggle.json', 'w') as file:\n",
        "    json.dump(api_token, file)\n",
        "\n",
        "!chmod 600 ~/.kaggle/kaggle.json\n",
        "\n",
        "!kaggle datasets download -d leonardocaravaggio/scraps-pdfs"
      ]
    },
    {
      "cell_type": "code",
      "source": [
        "import zipfile\n",
        "import os\n",
        "\n",
        "os.listdir()\n",
        "\n",
        "for file in os.listdir():\n",
        "    if file.endswith('.zip'):\n",
        "      zip_ref = zipfile.ZipFile(file, 'r')\n",
        "      zip_ref.extractall()\n",
        "      zip_ref.close()"
      ],
      "metadata": {
        "id": "gwJL1yMZ9zbE"
      },
      "execution_count": 2,
      "outputs": []
    },
    {
      "cell_type": "code",
      "source": [
        "# Cargamos la base\n",
        "base = pd.read_csv('/content/Scrap PDFs.csv')"
      ],
      "metadata": {
        "id": "IHPR981-91Ps"
      },
      "execution_count": 3,
      "outputs": []
    },
    {
      "cell_type": "code",
      "source": [
        "import pandas as pd\n",
        "import re\n",
        "\n",
        "pd.options.mode.chained_assignment = None\n",
        "def generar(l):\n",
        "  lineas = l[2].strip().split(\"\\n\")\n",
        "\n",
        "  coincidencias_nombre_cargo = []\n",
        "  coincidencias_discurso = []\n",
        "  discurso_actual = \"\"\n",
        "\n",
        "  for linea in lineas:\n",
        "      if linea[0].isupper() and (\":\" in linea or \"(\" in linea):\n",
        "          coincidencias_nombre_cargo.append(linea.split(\":\")[0].strip())\n",
        "          coincidencias_discurso.append(discurso_actual)\n",
        "          discurso_actual = linea.strip()\n",
        "      else:\n",
        "          discurso_actual += \" \" + linea.strip()\n",
        "\n",
        "  # Agregar la última coincidencia de discurso\n",
        "  coincidencias_discurso.append(discurso_actual)\n",
        "\n",
        "  # Verificar si hay la misma cantidad de coincidencias para nombre/cargo y discursos\n",
        "  if len(coincidencias_nombre_cargo) == len(coincidencias_discurso[1:]):\n",
        "      # Crear el DataFrame de pandas\n",
        "      data = {\n",
        "          \"Nombre/Cargo\": coincidencias_nombre_cargo,\n",
        "          \"Discurso\": coincidencias_discurso[1:]\n",
        "      }\n",
        "      df = pd.DataFrame(data)\n",
        "      df[\"Discurso\"] = df[\"Discurso\"].str.strip()\n",
        "\n",
        "  else:\n",
        "      print(\"Error: no coincide la cantidad de coincidencias para nombre/cargo y discursos.\")\n",
        "\n",
        "  df = df[df['Nombre/Cargo'].str.contains(r'[A-Z]{2,}')]\n",
        "  df['Discurso'] = df.apply(lambda row: re.sub(re.escape(row['Nombre/Cargo']) + r':\\s*', '', row['Discurso']), axis=1)\n",
        "  df['Cargo'] = df['Nombre/Cargo'].apply(lambda x: ' '.join(re.findall(r'\\b[A-Z][A-ZÁÉÍÓÚÜÑ-]+\\b', x)))\n",
        "  df['Nombre'] = df['Nombre/Cargo'].apply(lambda x: re.findall(r'\\((.*?)\\)', x)[0] if re.findall(r'\\((.*?)\\)', x) else '')\n",
        "  df['Link']=l[1]\n",
        "  df['Legislatura']=l[1][27:29]\n",
        "  df['fecha']= l[2][l[2].find('Núm.')+7:l[2].find('Pág.')].strip(' ')\n",
        "  df['tipo']= l[2][:re.search('\\n', l[2]).span()[0]]\n",
        "  return df"
      ],
      "metadata": {
        "id": "HBv6kMypBvn9"
      },
      "execution_count": 53,
      "outputs": []
    },
    {
      "cell_type": "code",
      "source": [
        "base2=pd.DataFrame(columns=['Nombre/Cargo', 'Discurso', 'Cargo', 'Nombre'])"
      ],
      "metadata": {
        "id": "I9tt77GTpPnG"
      },
      "execution_count": 58,
      "outputs": []
    },
    {
      "cell_type": "code",
      "source": [
        "for row in base.values:\n",
        "  base2 = pd.concat([base2, generar(row)], axis=0)"
      ],
      "metadata": {
        "id": "ivCarVUHoA1b"
      },
      "execution_count": 59,
      "outputs": []
    },
    {
      "cell_type": "code",
      "source": [
        "base2=base2.reset_index(drop=True)"
      ],
      "metadata": {
        "id": "eqo1NUGkq_-Z"
      },
      "execution_count": 60,
      "outputs": []
    },
    {
      "cell_type": "code",
      "source": [
        "from google.colab import files\n",
        "base2.to_csv('base_parseada.csv', escapechar='\\\\')\n",
        "files.download('base_parseada.csv')"
      ],
      "metadata": {
        "id": "MddIYTC4BIJs",
        "outputId": "718cb5c0-c8eb-4e2b-92c9-4218d85bd821",
        "colab": {
          "base_uri": "https://localhost:8080/",
          "height": 17
        }
      },
      "execution_count": 61,
      "outputs": [
        {
          "output_type": "display_data",
          "data": {
            "text/plain": [
              "<IPython.core.display.Javascript object>"
            ],
            "application/javascript": [
              "\n",
              "    async function download(id, filename, size) {\n",
              "      if (!google.colab.kernel.accessAllowed) {\n",
              "        return;\n",
              "      }\n",
              "      const div = document.createElement('div');\n",
              "      const label = document.createElement('label');\n",
              "      label.textContent = `Downloading \"${filename}\": `;\n",
              "      div.appendChild(label);\n",
              "      const progress = document.createElement('progress');\n",
              "      progress.max = size;\n",
              "      div.appendChild(progress);\n",
              "      document.body.appendChild(div);\n",
              "\n",
              "      const buffers = [];\n",
              "      let downloaded = 0;\n",
              "\n",
              "      const channel = await google.colab.kernel.comms.open(id);\n",
              "      // Send a message to notify the kernel that we're ready.\n",
              "      channel.send({})\n",
              "\n",
              "      for await (const message of channel.messages) {\n",
              "        // Send a message to notify the kernel that we're ready.\n",
              "        channel.send({})\n",
              "        if (message.buffers) {\n",
              "          for (const buffer of message.buffers) {\n",
              "            buffers.push(buffer);\n",
              "            downloaded += buffer.byteLength;\n",
              "            progress.value = downloaded;\n",
              "          }\n",
              "        }\n",
              "      }\n",
              "      const blob = new Blob(buffers, {type: 'application/binary'});\n",
              "      const a = document.createElement('a');\n",
              "      a.href = window.URL.createObjectURL(blob);\n",
              "      a.download = filename;\n",
              "      div.appendChild(a);\n",
              "      a.click();\n",
              "      div.remove();\n",
              "    }\n",
              "  "
            ]
          },
          "metadata": {}
        },
        {
          "output_type": "display_data",
          "data": {
            "text/plain": [
              "<IPython.core.display.Javascript object>"
            ],
            "application/javascript": [
              "download(\"download_02605dfc-0e77-4a47-be59-68ffcf9009f9\", \"base_parseada.csv\", 137980662)"
            ]
          },
          "metadata": {}
        }
      ]
    }
  ]
}