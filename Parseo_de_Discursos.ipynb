{
  "nbformat": 4,
  "nbformat_minor": 0,
  "metadata": {
    "colab": {
      "provenance": [],
      "authorship_tag": "ABX9TyP1DZ4dJyX6Dk4EiV5PpVjY",
      "include_colab_link": true
    },
    "kernelspec": {
      "name": "python3",
      "display_name": "Python 3"
    },
    "language_info": {
      "name": "python"
    }
  },
  "cells": [
    {
      "cell_type": "markdown",
      "metadata": {
        "id": "view-in-github",
        "colab_type": "text"
      },
      "source": [
        "<a href=\"https://colab.research.google.com/github/LCaravaggio/politext/blob/main/Parseo_de_Discursos.ipynb\" target=\"_parent\"><img src=\"https://colab.research.google.com/assets/colab-badge.svg\" alt=\"Open In Colab\"/></a>"
      ]
    },
    {
      "cell_type": "code",
      "execution_count": 1,
      "metadata": {
        "colab": {
          "base_uri": "https://localhost:8080/"
        },
        "id": "9S_UEBLg81wW",
        "outputId": "58c10f84-be2f-4f85-ca30-414fe6a0540c"
      },
      "outputs": [
        {
          "output_type": "stream",
          "name": "stdout",
          "text": [
            "Mounted at /content/drive\n",
            "Downloading scraps-pdfs.zip to /content\n",
            "100% 90.9M/90.9M [00:02<00:00, 64.6MB/s]\n",
            "100% 90.9M/90.9M [00:02<00:00, 45.4MB/s]\n"
          ]
        }
      ],
      "source": [
        "import pandas as pd\n",
        "import numpy as np\n",
        "\n",
        "\n",
        "import json\n",
        "from google.colab import drive\n",
        "\n",
        "!mkdir ~/.kaggle\n",
        "!touch ~/.kaggle/kaggle.json\n",
        "\n",
        "drive.mount('/content/drive', force_remount=True)\n",
        "with open(\"/content/drive/My Drive/kaggle.json\", 'r') as f:\n",
        "    api_token= json.load(f)\n",
        "\n",
        "with open('/root/.kaggle/kaggle.json', 'w') as file:\n",
        "    json.dump(api_token, file)\n",
        "\n",
        "!chmod 600 ~/.kaggle/kaggle.json\n",
        "\n",
        "!kaggle datasets download -d leonardocaravaggio/scraps-pdfs"
      ]
    },
    {
      "cell_type": "code",
      "source": [
        "import zipfile\n",
        "import os\n",
        "\n",
        "os.listdir()\n",
        "\n",
        "for file in os.listdir():\n",
        "    if file.endswith('.zip'):\n",
        "      zip_ref = zipfile.ZipFile(file, 'r')\n",
        "      zip_ref.extractall()\n",
        "      zip_ref.close()"
      ],
      "metadata": {
        "id": "gwJL1yMZ9zbE"
      },
      "execution_count": 2,
      "outputs": []
    },
    {
      "cell_type": "code",
      "source": [
        "# Cargamos la base\n",
        "base = pd.read_csv('/content/Scrap PDFs.csv')"
      ],
      "metadata": {
        "id": "IHPR981-91Ps"
      },
      "execution_count": 188,
      "outputs": []
    },
    {
      "cell_type": "code",
      "source": [
        "import pandas as pd\n",
        "import re\n",
        "from datetime import datetime\n",
        "\n",
        "month_mapping = {\n",
        "    \"enero\": 1,\n",
        "    \"febrero\": 2,\n",
        "    \"marzo\": 3,\n",
        "    \"abril\": 4,\n",
        "    \"mayo\": 5,\n",
        "    \"junio\": 6,\n",
        "    \"julio\": 7,\n",
        "    \"agosto\": 8,\n",
        "    \"septiembre\": 9,\n",
        "    \"octubre\": 10,\n",
        "    \"noviembre\": 11,\n",
        "    \"diciembre\": 12,\n",
        "}\n",
        "\n",
        "\n",
        "pd.options.mode.chained_assignment = None\n",
        "def generar(l):\n",
        "  lineas = l[2].strip().split(\"\\n\")\n",
        "\n",
        "  coincidencias_nombre_cargo = []\n",
        "  coincidencias_discurso = []\n",
        "  discurso_actual = \"\"\n",
        "\n",
        "  for linea in lineas:\n",
        "      if linea[0].isupper() and (\":\" in linea or \"(\" in linea):\n",
        "          coincidencias_nombre_cargo.append(linea.split(\":\")[0].strip())\n",
        "          coincidencias_discurso.append(discurso_actual)\n",
        "          discurso_actual = linea.strip()\n",
        "      else:\n",
        "          discurso_actual += \" \" + linea.strip()\n",
        "\n",
        "  # Agregar la última coincidencia de discurso\n",
        "  coincidencias_discurso.append(discurso_actual)\n",
        "\n",
        "  # Verificar si hay la misma cantidad de coincidencias para nombre/cargo y discursos\n",
        "  if len(coincidencias_nombre_cargo) == len(coincidencias_discurso[1:]):\n",
        "      # Crear el DataFrame de pandas\n",
        "      data = {\n",
        "          \"Nombre/Cargo\": coincidencias_nombre_cargo,\n",
        "          \"Discurso\": coincidencias_discurso[1:]\n",
        "      }\n",
        "      df = pd.DataFrame(data)\n",
        "      df[\"Discurso\"] = df[\"Discurso\"].str.strip()\n",
        "\n",
        "  else:\n",
        "      print(\"Error: no coincide la cantidad de coincidencias para nombre/cargo y discursos.\")\n",
        "\n",
        "  df = df[df['Nombre/Cargo'].str.contains(r'[A-Z]{2,}')]\n",
        "  df['Discurso'] = df.apply(lambda row: re.sub(re.escape(row['Nombre/Cargo']) + r':\\s*', '', row['Discurso']), axis=1)\n",
        "  df['Cargo'] = df['Nombre/Cargo'].apply(lambda x: ' '.join(re.findall(r'\\b[A-Z][A-ZÁÉÍÓÚÜÑ-]+\\b', x)))\n",
        "  df['Nombre'] = df['Nombre/Cargo'].apply(lambda x: re.findall(r'\\((.*?)\\)', x)[0] if re.findall(r'\\((.*?)\\)', x) else '')\n",
        "  df['Link']=l[1]\n",
        "  df['Legislatura']=l[1][27:29]\n",
        "  df['tipo']= l[2][:re.search('\\n', l[2]).span()[0]]\n",
        "  fecha= l[2][l[2].find('Núm.')+7:l[2].find('Pág.')].strip(' ')\n",
        "  if l[2][:re.search('\\n', l[2]).span()[0]][:3]=='Núm':\n",
        "    pattern = r'(?:.*?\\n){5}(\\w+)'\n",
        "    match = re.search(pattern, l[2])\n",
        "    df['tipo']=match.group(1)\n",
        "    fecha=l[2][:re.search('\\n', l[2]).span()[0]]\n",
        "\n",
        "  if fecha=='':\n",
        "    fecha=l[2][l[2].find('Pág.')+7:l[2].find('PLENO')-1].strip(' ')\n",
        "\n",
        "  df['fecha']=fecha\n",
        "\n",
        "  if fecha.find('de')-3<0:\n",
        "    if fecha[:fecha.find('de')-1]=='':\n",
        "      day=1\n",
        "    else:\n",
        "      day=int(fecha[:fecha.find('de')-1])\n",
        "  else:\n",
        "    day=int(fecha[fecha.find('de')-3:fecha.find('de')-1])\n",
        "\n",
        "  m=month_mapping.get(fecha[fecha.find('de')+3:fecha[fecha.find('de')+1:].find('de')+fecha.find('de')].lower())\n",
        "  if m is None:\n",
        "    month=1\n",
        "  else:\n",
        "    month=int(m)\n",
        "\n",
        "  if fecha[-4:]=='':\n",
        "    year=int(1000)\n",
        "  else:\n",
        "    year=int(fecha[-4:])\n",
        "  df['fecha_formato']=datetime(year, month, day)\n",
        "\n",
        "\n",
        "  return df"
      ],
      "metadata": {
        "id": "HBv6kMypBvn9"
      },
      "execution_count": 278,
      "outputs": []
    },
    {
      "cell_type": "code",
      "source": [
        "base2=pd.DataFrame(columns=['Nombre/Cargo', 'Discurso', 'Cargo', 'Nombre', 'Link', 'Legislatura', 'tipo', 'fecha', 'fecha_formato'])"
      ],
      "metadata": {
        "id": "I9tt77GTpPnG"
      },
      "execution_count": 279,
      "outputs": []
    },
    {
      "cell_type": "code",
      "source": [
        "for row in base.values:\n",
        "  base2 = pd.concat([base2, generar(row)], axis=0)"
      ],
      "metadata": {
        "id": "ivCarVUHoA1b"
      },
      "execution_count": 280,
      "outputs": []
    },
    {
      "cell_type": "code",
      "source": [
        "base2=base2.reset_index(drop=True)"
      ],
      "metadata": {
        "id": "eqo1NUGkq_-Z"
      },
      "execution_count": 281,
      "outputs": []
    },
    {
      "cell_type": "code",
      "source": [
        "base2['fecha_formato'] = pd.to_datetime(base2['fecha_formato'], errors='coerce')"
      ],
      "metadata": {
        "id": "5a7C0jzjjWdX"
      },
      "execution_count": 282,
      "outputs": []
    },
    {
      "cell_type": "code",
      "source": [
        "from google.colab import files\n",
        "base2.to_csv('base_parseada.csv', escapechar='\\\\')\n",
        "files.download('base_parseada.csv')"
      ],
      "metadata": {
        "id": "MddIYTC4BIJs",
        "outputId": "702e2b87-8d82-425e-b33d-b3dfeb59214d",
        "colab": {
          "base_uri": "https://localhost:8080/",
          "height": 17
        }
      },
      "execution_count": 284,
      "outputs": [
        {
          "output_type": "display_data",
          "data": {
            "text/plain": [
              "<IPython.core.display.Javascript object>"
            ],
            "application/javascript": [
              "\n",
              "    async function download(id, filename, size) {\n",
              "      if (!google.colab.kernel.accessAllowed) {\n",
              "        return;\n",
              "      }\n",
              "      const div = document.createElement('div');\n",
              "      const label = document.createElement('label');\n",
              "      label.textContent = `Downloading \"${filename}\": `;\n",
              "      div.appendChild(label);\n",
              "      const progress = document.createElement('progress');\n",
              "      progress.max = size;\n",
              "      div.appendChild(progress);\n",
              "      document.body.appendChild(div);\n",
              "\n",
              "      const buffers = [];\n",
              "      let downloaded = 0;\n",
              "\n",
              "      const channel = await google.colab.kernel.comms.open(id);\n",
              "      // Send a message to notify the kernel that we're ready.\n",
              "      channel.send({})\n",
              "\n",
              "      for await (const message of channel.messages) {\n",
              "        // Send a message to notify the kernel that we're ready.\n",
              "        channel.send({})\n",
              "        if (message.buffers) {\n",
              "          for (const buffer of message.buffers) {\n",
              "            buffers.push(buffer);\n",
              "            downloaded += buffer.byteLength;\n",
              "            progress.value = downloaded;\n",
              "          }\n",
              "        }\n",
              "      }\n",
              "      const blob = new Blob(buffers, {type: 'application/binary'});\n",
              "      const a = document.createElement('a');\n",
              "      a.href = window.URL.createObjectURL(blob);\n",
              "      a.download = filename;\n",
              "      div.appendChild(a);\n",
              "      a.click();\n",
              "      div.remove();\n",
              "    }\n",
              "  "
            ]
          },
          "metadata": {}
        },
        {
          "output_type": "display_data",
          "data": {
            "text/plain": [
              "<IPython.core.display.Javascript object>"
            ],
            "application/javascript": [
              "download(\"download_1398a358-131a-449b-a8de-e841fea315de\", \"base_parseada.csv\", 139661422)"
            ]
          },
          "metadata": {}
        }
      ]
    }
  ]
}