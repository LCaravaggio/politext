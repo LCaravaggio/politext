{
  "nbformat": 4,
  "nbformat_minor": 0,
  "metadata": {
    "colab": {
      "provenance": [],
      "include_colab_link": true
    },
    "kernelspec": {
      "name": "python3",
      "display_name": "Python 3"
    },
    "language_info": {
      "name": "python"
    }
  },
  "cells": [
    {
      "cell_type": "markdown",
      "metadata": {
        "id": "view-in-github",
        "colab_type": "text"
      },
      "source": [
        "<a href=\"https://colab.research.google.com/github/LCaravaggio/politext/blob/snowball/GS_Orden_del_D%C3%ADa_v0_2.ipynb\" target=\"_parent\"><img src=\"https://colab.research.google.com/assets/colab-badge.svg\" alt=\"Open In Colab\"/></a>"
      ]
    },
    {
      "cell_type": "code",
      "source": [
        "import numpy as np"
      ],
      "metadata": {
        "id": "bvfnTvznZIRV"
      },
      "execution_count": 1,
      "outputs": []
    },
    {
      "cell_type": "code",
      "execution_count": 2,
      "metadata": {
        "colab": {
          "base_uri": "https://localhost:8080/"
        },
        "id": "CJYxduDTClH_",
        "outputId": "953b162b-d145-43e1-c956-83b5a1578d46"
      },
      "outputs": [
        {
          "output_type": "stream",
          "name": "stdout",
          "text": [
            "Mounted at /content/drive\n"
          ]
        }
      ],
      "source": [
        "from google.colab import drive\n",
        "drive.mount('/content/drive')"
      ]
    },
    {
      "cell_type": "code",
      "source": [
        "import pandas as pd\n",
        "import json\n",
        "\n",
        "!mkdir ~/.kaggle\n",
        "!touch ~/.kaggle/kaggle.json\n",
        "\n",
        "drive.mount('/content/drive', force_remount=True)\n",
        "with open(\"/content/drive/My Drive/kaggle.json\", 'r') as f:\n",
        "    api_token= json.load(f)\n",
        "\n",
        "with open('/root/.kaggle/kaggle.json', 'w') as file:\n",
        "    json.dump(api_token, file)\n",
        "\n",
        "!chmod 600 ~/.kaggle/kaggle.json\n",
        "\n",
        "!kaggle datasets download -d leonardocaravaggio/base-diputados"
      ],
      "metadata": {
        "id": "7Xe22oOAW1dO",
        "outputId": "49b8d1b8-2c7a-4cd3-ba1d-78e4b9237fd4",
        "colab": {
          "base_uri": "https://localhost:8080/"
        }
      },
      "execution_count": 3,
      "outputs": [
        {
          "output_type": "stream",
          "name": "stdout",
          "text": [
            "Mounted at /content/drive\n",
            "Downloading base-diputados.zip to /content\n",
            "100% 696M/696M [00:33<00:00, 25.1MB/s]\n",
            "100% 696M/696M [00:33<00:00, 21.8MB/s]\n"
          ]
        }
      ]
    },
    {
      "cell_type": "code",
      "source": [
        "import zipfile\n",
        "import os\n",
        "\n",
        "os.listdir()\n",
        "\n",
        "for file in os.listdir():\n",
        "    if file.endswith('.zip'):\n",
        "      zip_ref = zipfile.ZipFile(file, 'r')\n",
        "      zip_ref.extractall()\n",
        "      zip_ref.close()"
      ],
      "metadata": {
        "id": "QHN3PWdeXU2_"
      },
      "execution_count": 6,
      "outputs": []
    },
    {
      "cell_type": "code",
      "source": [
        "base=pd.read_csv('/content/base_formateada_snowball.csv')"
      ],
      "metadata": {
        "colab": {
          "base_uri": "https://localhost:8080/"
        },
        "id": "40Uzj-TdCp67",
        "outputId": "bdf66693-d940-4e6c-f1bf-b815dd7653c0"
      },
      "execution_count": 7,
      "outputs": [
        {
          "output_type": "stream",
          "name": "stderr",
          "text": [
            "<ipython-input-7-83e471786f4d>:1: DtypeWarning: Columns (18) have mixed types. Specify dtype option on import or set low_memory=False.\n",
            "  base=pd.read_csv('/content/base_formateada_snowball.csv')\n"
          ]
        }
      ]
    },
    {
      "cell_type": "code",
      "source": [
        "import pickle\n",
        "\n",
        "with open('/content/vocabulary_snowball.voc', 'rb') as f:\n",
        "    inter = pickle.load(f)"
      ],
      "metadata": {
        "id": "hIOMetIRCrlp"
      },
      "execution_count": 9,
      "outputs": []
    },
    {
      "cell_type": "code",
      "source": [
        "base.orden=base.orden.fillna(' ')"
      ],
      "metadata": {
        "id": "WyBPq1cLiaMl"
      },
      "execution_count": 10,
      "outputs": []
    },
    {
      "cell_type": "code",
      "source": [
        "from sklearn.decomposition import LatentDirichletAllocation\n",
        "from sklearn.feature_extraction.text import CountVectorizer\n",
        "\n",
        "vect = CountVectorizer(ngram_range=(2,2), vocabulary=inter)\n",
        "bow_ordenes = vect.fit_transform(base['orden'])\n",
        "lda = LatentDirichletAllocation(n_components=15, max_iter=50, learning_method='batch', learning_offset=50.,random_state=0)\n",
        "lda.fit(bow_ordenes)"
      ],
      "metadata": {
        "colab": {
          "base_uri": "https://localhost:8080/",
          "height": 92
        },
        "id": "8R-YJ-5kDDVZ",
        "outputId": "217f6cf7-1cea-4278-e744-5e09e0506583"
      },
      "execution_count": 11,
      "outputs": [
        {
          "output_type": "execute_result",
          "data": {
            "text/plain": [
              "LatentDirichletAllocation(learning_offset=50.0, max_iter=50, n_components=15,\n",
              "                          random_state=0)"
            ],
            "text/html": [
              "<style>#sk-container-id-1 {color: black;background-color: white;}#sk-container-id-1 pre{padding: 0;}#sk-container-id-1 div.sk-toggleable {background-color: white;}#sk-container-id-1 label.sk-toggleable__label {cursor: pointer;display: block;width: 100%;margin-bottom: 0;padding: 0.3em;box-sizing: border-box;text-align: center;}#sk-container-id-1 label.sk-toggleable__label-arrow:before {content: \"▸\";float: left;margin-right: 0.25em;color: #696969;}#sk-container-id-1 label.sk-toggleable__label-arrow:hover:before {color: black;}#sk-container-id-1 div.sk-estimator:hover label.sk-toggleable__label-arrow:before {color: black;}#sk-container-id-1 div.sk-toggleable__content {max-height: 0;max-width: 0;overflow: hidden;text-align: left;background-color: #f0f8ff;}#sk-container-id-1 div.sk-toggleable__content pre {margin: 0.2em;color: black;border-radius: 0.25em;background-color: #f0f8ff;}#sk-container-id-1 input.sk-toggleable__control:checked~div.sk-toggleable__content {max-height: 200px;max-width: 100%;overflow: auto;}#sk-container-id-1 input.sk-toggleable__control:checked~label.sk-toggleable__label-arrow:before {content: \"▾\";}#sk-container-id-1 div.sk-estimator input.sk-toggleable__control:checked~label.sk-toggleable__label {background-color: #d4ebff;}#sk-container-id-1 div.sk-label input.sk-toggleable__control:checked~label.sk-toggleable__label {background-color: #d4ebff;}#sk-container-id-1 input.sk-hidden--visually {border: 0;clip: rect(1px 1px 1px 1px);clip: rect(1px, 1px, 1px, 1px);height: 1px;margin: -1px;overflow: hidden;padding: 0;position: absolute;width: 1px;}#sk-container-id-1 div.sk-estimator {font-family: monospace;background-color: #f0f8ff;border: 1px dotted black;border-radius: 0.25em;box-sizing: border-box;margin-bottom: 0.5em;}#sk-container-id-1 div.sk-estimator:hover {background-color: #d4ebff;}#sk-container-id-1 div.sk-parallel-item::after {content: \"\";width: 100%;border-bottom: 1px solid gray;flex-grow: 1;}#sk-container-id-1 div.sk-label:hover label.sk-toggleable__label {background-color: #d4ebff;}#sk-container-id-1 div.sk-serial::before {content: \"\";position: absolute;border-left: 1px solid gray;box-sizing: border-box;top: 0;bottom: 0;left: 50%;z-index: 0;}#sk-container-id-1 div.sk-serial {display: flex;flex-direction: column;align-items: center;background-color: white;padding-right: 0.2em;padding-left: 0.2em;position: relative;}#sk-container-id-1 div.sk-item {position: relative;z-index: 1;}#sk-container-id-1 div.sk-parallel {display: flex;align-items: stretch;justify-content: center;background-color: white;position: relative;}#sk-container-id-1 div.sk-item::before, #sk-container-id-1 div.sk-parallel-item::before {content: \"\";position: absolute;border-left: 1px solid gray;box-sizing: border-box;top: 0;bottom: 0;left: 50%;z-index: -1;}#sk-container-id-1 div.sk-parallel-item {display: flex;flex-direction: column;z-index: 1;position: relative;background-color: white;}#sk-container-id-1 div.sk-parallel-item:first-child::after {align-self: flex-end;width: 50%;}#sk-container-id-1 div.sk-parallel-item:last-child::after {align-self: flex-start;width: 50%;}#sk-container-id-1 div.sk-parallel-item:only-child::after {width: 0;}#sk-container-id-1 div.sk-dashed-wrapped {border: 1px dashed gray;margin: 0 0.4em 0.5em 0.4em;box-sizing: border-box;padding-bottom: 0.4em;background-color: white;}#sk-container-id-1 div.sk-label label {font-family: monospace;font-weight: bold;display: inline-block;line-height: 1.2em;}#sk-container-id-1 div.sk-label-container {text-align: center;}#sk-container-id-1 div.sk-container {/* jupyter's `normalize.less` sets `[hidden] { display: none; }` but bootstrap.min.css set `[hidden] { display: none !important; }` so we also need the `!important` here to be able to override the default hidden behavior on the sphinx rendered scikit-learn.org. See: https://github.com/scikit-learn/scikit-learn/issues/21755 */display: inline-block !important;position: relative;}#sk-container-id-1 div.sk-text-repr-fallback {display: none;}</style><div id=\"sk-container-id-1\" class=\"sk-top-container\"><div class=\"sk-text-repr-fallback\"><pre>LatentDirichletAllocation(learning_offset=50.0, max_iter=50, n_components=15,\n",
              "                          random_state=0)</pre><b>In a Jupyter environment, please rerun this cell to show the HTML representation or trust the notebook. <br />On GitHub, the HTML representation is unable to render, please try loading this page with nbviewer.org.</b></div><div class=\"sk-container\" hidden><div class=\"sk-item\"><div class=\"sk-estimator sk-toggleable\"><input class=\"sk-toggleable__control sk-hidden--visually\" id=\"sk-estimator-id-1\" type=\"checkbox\" checked><label for=\"sk-estimator-id-1\" class=\"sk-toggleable__label sk-toggleable__label-arrow\">LatentDirichletAllocation</label><div class=\"sk-toggleable__content\"><pre>LatentDirichletAllocation(learning_offset=50.0, max_iter=50, n_components=15,\n",
              "                          random_state=0)</pre></div></div></div></div></div>"
            ]
          },
          "metadata": {},
          "execution_count": 11
        }
      ]
    },
    {
      "cell_type": "markdown",
      "source": [
        "# Por weights"
      ],
      "metadata": {
        "id": "tdqanb43nJCO"
      }
    },
    {
      "cell_type": "code",
      "source": [
        "matrix=vect.fit_transform(base['orden'])"
      ],
      "metadata": {
        "id": "plXNgyMenFJZ"
      },
      "execution_count": 12,
      "outputs": []
    },
    {
      "cell_type": "code",
      "source": [
        "disc_weights=matrix*lda.components_.transpose()\n",
        "base['Topic_weight']=disc_weights.argmax(axis=1)+1"
      ],
      "metadata": {
        "id": "pMYeGXarmtik"
      },
      "execution_count": 13,
      "outputs": []
    },
    {
      "cell_type": "code",
      "source": [
        "# Por LEGISLATURA por WEIGHTS de ORDENES DEL DIA\n",
        "legislaturas=['I', 'II', 'III', 'IV', 'V', 'VI', 'VII','VIII', 'IX', 'X', 'XI', 'XII','XIII']\n",
        "topics_por_legislatura=pd.DataFrame()\n",
        "for x in legislaturas:\n",
        "  base_legislatura=base[base.legislatura==x]\n",
        "  topics_por_legislatura[x]=base_legislatura['Topic_weight'].value_counts().sort_index()\n",
        "topics_por_legislatura.to_csv('topics_por_legislatura_por_weights_por_ordendeldia_snowball.csv')"
      ],
      "metadata": {
        "id": "Fdt-dRLXmZ8f"
      },
      "execution_count": 14,
      "outputs": []
    },
    {
      "cell_type": "code",
      "source": [
        "base.fecha=pd.to_datetime(base.fecha, infer_datetime_format=True)"
      ],
      "metadata": {
        "id": "_ySuCrs6p5by"
      },
      "execution_count": 15,
      "outputs": []
    },
    {
      "cell_type": "code",
      "source": [
        "# Por AÑO por weights\n",
        "topics_por_año=pd.DataFrame()\n",
        "for x in range (1979, 2020):\n",
        "  base_year=base[pd.DatetimeIndex(base.fecha).year==x]\n",
        "  topics_por_año[x]=base_year['Topic_weight'].value_counts().sort_index()\n",
        "topics_por_año.to_csv('topics_por_año_por_weights_por_ordendeldia_snowball.csv')"
      ],
      "metadata": {
        "id": "6qWs0rR7pvWs"
      },
      "execution_count": 16,
      "outputs": []
    },
    {
      "cell_type": "markdown",
      "source": [
        "# Por FREX"
      ],
      "metadata": {
        "id": "Ej0pwGJbnUcH"
      }
    },
    {
      "cell_type": "code",
      "source": [
        "import scipy as sp\n",
        "from scipy.special import logsumexp\n",
        "import numpy as np\n",
        "\n",
        "def frex(mod, w=0.7):\n",
        "    log_beta = np.log(mod.components_)\n",
        "    log_exclusivity = log_beta - logsumexp(log_beta, axis=0)\n",
        "    exclusivity_ecdf = np.apply_along_axis(ecdf, 1, log_exclusivity)\n",
        "    freq_ecdf = np.apply_along_axis(ecdf, 1, log_beta)\n",
        "    out = 1. / (w / exclusivity_ecdf + (1 - w) / freq_ecdf)\n",
        "    return out\n",
        "\n",
        "def ecdf(arr):\n",
        "    return sp.stats.rankdata(arr, method='max') / arr.size\n",
        "\n",
        "\n",
        "def t_FREX(row):\n",
        "  return frex_df[matrix[row['id']].argmax()].argsort()[9]"
      ],
      "metadata": {
        "id": "xntEduzrnVnY"
      },
      "execution_count": 17,
      "outputs": []
    },
    {
      "cell_type": "code",
      "source": [
        "base['id']=range(0,334421)\n",
        "frex_df=pd.DataFrame(frex(lda))\n",
        "\n",
        "# Se crea una columna con el topic que se asigna por frex a cada discurso de la base\n",
        "base['Topic_FREX']=base.apply (lambda row: t_FREX(row), axis=1)+1"
      ],
      "metadata": {
        "id": "FtQ42A6lnaoG"
      },
      "execution_count": 18,
      "outputs": []
    },
    {
      "cell_type": "code",
      "source": [
        "# Por LEGISLATURA por FREX\n",
        "legislaturas=['I', 'II', 'III', 'IV', 'V', 'VI', 'VII','VIII', 'IX', 'X', 'XI', 'XII','XIII']\n",
        "topics_por_legislatura=pd.DataFrame()\n",
        "for x in legislaturas:\n",
        "  base_legislatura=base[base.legislatura==x]\n",
        "  topics_por_legislatura[x]=base_legislatura['Topic_FREX'].value_counts().sort_index()\n",
        "topics_por_legislatura.to_csv('topics_por_legislatura_por_frex_por_ordendeldia_snowball.csv')"
      ],
      "metadata": {
        "id": "xY4l2AtVpdhm"
      },
      "execution_count": 19,
      "outputs": []
    },
    {
      "cell_type": "code",
      "source": [
        "# Por AÑO por FREX\n",
        "topics_por_año=pd.DataFrame()\n",
        "for x in range (1979, 2020):\n",
        "  base_year=base[pd.DatetimeIndex(base.fecha).year==x]\n",
        "  topics_por_año[x]=base_year['Topic_FREX'].value_counts().sort_index()\n",
        "topics_por_año.to_csv('topics_por_año_por_frex_por_ordendeldia_snowball.csv')"
      ],
      "metadata": {
        "id": "dH1-4i_Jpq4R"
      },
      "execution_count": 20,
      "outputs": []
    },
    {
      "cell_type": "markdown",
      "source": [
        "# A mano"
      ],
      "metadata": {
        "id": "uaETHhtLqE_t"
      }
    },
    {
      "cell_type": "code",
      "source": [
        "base['reglas y procedemientos']=0\n",
        "base['Administración']=0\n",
        "base['Economía']=0\n",
        "base['Energía']=0\n",
        "base['Seguridad']=0\n",
        "base['Política Laboral']=0\n",
        "base['Transporte']=0\n",
        "base['Comunicaciones']=0\n",
        "base['Social']=0\n",
        "base['Educación']=0\n",
        "base['Seguridad Social']=0\n",
        "base['Justicia']=0\n",
        "base['Internacionales']=0\n",
        "base['Política Interna']=0\n",
        "base['Otros']=0"
      ],
      "metadata": {
        "id": "4MqsEfkWqWEc"
      },
      "execution_count": null,
      "outputs": []
    },
    {
      "cell_type": "code",
      "source": [
        "base.shape"
      ],
      "metadata": {
        "colab": {
          "base_uri": "https://localhost:8080/"
        },
        "id": "FQQs0HZkqKI-",
        "outputId": "2945b2c9-7921-41ec-9135-8a698142d059"
      },
      "execution_count": null,
      "outputs": [
        {
          "output_type": "execute_result",
          "data": {
            "text/plain": [
              "(334421, 39)"
            ]
          },
          "metadata": {},
          "execution_count": 54
        }
      ]
    },
    {
      "cell_type": "code",
      "source": [
        "lista=[]\n",
        "for row in base.values:\n",
        "\n",
        "  # Reglas y Procedimientos\n",
        "    if 'dictamen' in row[1]: row[24]=1\n",
        "    if 'designacion' in row[1]: row[24]=1\n",
        "    if 'decreto' in row[1]: row[24]=1\n",
        "    if 'ley' in row[1]: row[24]=1\n",
        "    if 'constitucion' in row[1]: row[24]=1\n",
        "    if 'decisiones' in row[1]: row[24]=1\n",
        "    if 'orden' in row[1]: row[24]=1\n",
        "    if 'votacion' in row[1]: row[24]=1\n",
        "    if 'intervencion' in row[1]: row[24]=1\n",
        "    if 'nuevo gobierno' in row[1]: row[24]=1\n",
        "    if 'resolucion' in row[1]: row[24]=1\n",
        "    if 'modificacion' in row[1]: row[24]=1\n",
        "    if 'comision' in row[1]: row[24]=1\n",
        "    if 'comisión' in row[1]: row[24]=1\n",
        "    if 'comi sion' in row[1]: row[24]=1\n",
        "    if 'parlamentario' in row[1]: row[24]=1\n",
        "    if 'presidencia' in row[1]: row[24]=1\n",
        "    if 'presupuestos generales' in row[1]: row[24]=1\n",
        "    if 'comunicacion del gobierno' in row[1]: row[24]=1\n",
        "    if 'referendum' in row[1]: row[24]=1\n",
        "    if 'eleccion' in row[1]: row[24]=1\n",
        "    if 'miembros de la mesa' in row[1]: row[24]=1\n",
        "    if 'diputa' in row[1]: row[24]=1\n",
        "    if 'institucional' in row[1]: row[24]=1\n",
        "    if 'legislativ' in row[1]: row[24]=1\n",
        "    if 'mocion de censura' in row[1]: row[24]=1\n",
        "    if 'constitución' in row[1]: row[24]=1\n",
        "    if 'juramento' in row[1]: row[24]=1\n",
        "    if 'extraordinaria' in row[1]: row[24]=1\n",
        "    if 'extraorinaria' in row[1]: row[24]=1\n",
        "    if 'votación de conjunto' in row[1]: row[24]=1\n",
        "    if 'reglamento del congreso' in row[1]: row[24]=1\n",
        "    if 'prórroga de plazo' in row[1]: row[24]=1\n",
        "    if 'autoprotección de la cámara' in row[1]: row[24]=1\n",
        "    if 'avocación por el pleno' in row[1]: row[24]=1\n",
        "    if 'minuto de silencio' in row[1]: row[24]=1\n",
        "    if 'prórrogas de plazo' in row[1]: row[24]=1\n",
        "    if 'exclusión de los puntos' in row[1]: row[24]=1\n",
        "    if 'canje de notas' in row[1]: row[24]=1\n",
        "    if 'tramitación directa y en lectura única' in row[1]: row[24]=1\n",
        "    if 'votación final' in row[1]: row[24]=1\n",
        "    if 'expedi' in row[1]: row[24]=1\n",
        "    if 'artícul' in row[1]: row[24]=1\n",
        "    if 'constitucion interina de la cama' in row[1]: row[24]=1\n",
        "    if 'designacion de la' in row[1]: row[24]=1\n",
        "    if 'asuntos tratados y decisiones  adoptadas por l' in row[1]: row[24]=1\n",
        "    if 'cuestiones de orden' in row[1]: row[24]=1\n",
        "    if 'cumplimiento de las previsiones contenidas en' in row[1]: row[24]=1\n",
        "\n",
        "  # Administración\n",
        "    if 'gobierno' in row[1]: row[25]=1\n",
        "    if 'administra' in row[1]: row[25]=1\n",
        "    if 'funcionarios' in row[1]: row[25]=1\n",
        "    if 'acuerdo' in row[1]: row[25]=1\n",
        "    if 'ejecutivo' in row[1]: row[25]=1\n",
        "    if 'publica' in row[1]: row[25]=1\n",
        "    if 'minist' in row[1]: row[25]=1\n",
        "    if 'el rey' in row[1]: row[25]=1\n",
        "    if 'president' in row[1]: row[25]=1\n",
        "    if 'secretari' in row[1]: row[25]=1\n",
        "\n",
        "  # Economía\n",
        "    if 'economi' in row[1]: row[26]=1\n",
        "    if 'empresa' in row[1]: row[26]=1\n",
        "    if 'desequilibrios territoriales' in row[1]: row[26]=1\n",
        "    if 'presupuesto' in row[1]: row[26]=1\n",
        "    if 'industria' in row[1]: row[26]=1\n",
        "    if 'agricultura' in row[1]: row[26]=1\n",
        "    if 'import' in row[1]: row[26]=1\n",
        "    if 'export' in row[1]: row[26]=1\n",
        "    if 'miner' in row[1]: row[26]=1\n",
        "    if 'olivare' in row[1]: row[26]=1\n",
        "    if 'pesca' in row[1]: row[26]=1\n",
        "    if 'garbanzo' in row[1]: row[26]=1\n",
        "    if 'sector' in row[1]: row[26]=1\n",
        "    if 'precio' in row[1]: row[26]=1\n",
        "    if 'siderurg' in row[1]: row[26]=1\n",
        "    if 'financiac' in row[1]: row[26]=1\n",
        "    if 'agraria' in row[1]: row[26]=1\n",
        "    if 'impuesto' in row[1]: row[26]=1\n",
        "    if 'salario' in row[1]: row[26]=1\n",
        "    if 'zona franca' in row[1]: row[26]=1\n",
        "    if 'plan informatico' in row[1]: row[26]=1\n",
        "    if 'arrendamiento' in row[1]: row[26]=1\n",
        "    if 'financier' in row[1]: row[26]=1\n",
        "    if 'pesquer' in row[1]: row[26]=1\n",
        "    if 'deuda' in row[1]: row[26]=1\n",
        "    if 'comercio' in row[1]: row[26]=1\n",
        "    if 'tribunal de cuentas' in row[1]: row[26]=1\n",
        "    if 'forppa' in row[1]: row[26]=1\n",
        "    if 'sociedades de garantia reciproca' in row[1]: row[26]=1\n",
        "    if 'feoga' in row[1]: row[26]=1\n",
        "    if 'competencia' in row[1]: row[26]=1\n",
        "    if 'caucho' in row[1]: row[26]=1\n",
        "    if 'fondo monetario' in row[1]: row[26]=1\n",
        "    if 'inversion' in row[1]: row[26]=1\n",
        "    if 'bankia' in row[1]: row[26]=1\n",
        "    if 'icac' in row[1]: row[26]=1\n",
        "    if 'denominaciones de origen' in row[1]: row[26]=1\n",
        "    if 'montes vecinales' in row[1]: row[26]=1\n",
        "\n",
        "  #Energía\n",
        "    if 'politica energetica' in row[1]: row[27]=1\n",
        "    if 'energetic' in row[1]: row[27]=1\n",
        "    if 'central nuclear' in row[1]: row[27]=1\n",
        "    if 'petrol' in row[1]: row[27]=1\n",
        "    if 'hunosa' in row[1]: row[27]=1\n",
        "    if 'embalse de jánovas' in row[1]: row[27]=1\n",
        "    if 'energia' in row[1]: row[27]=1\n",
        "\n",
        "  # Seguridad\n",
        "    if 'seguridad' in row[1]: row[28]=1\n",
        "    if 'proteccion' in row[1]: row[28]=1\n",
        "    if 'ejercito' in row[1]: row[28]=1\n",
        "    if 'policia' in row[1]: row[28]=1\n",
        "    if 'carceles' in row[1]: row[28]=1\n",
        "    if 'avion' in row[1]: row[28]=1\n",
        "    if 'servicio civil' in row[1]: row[28]=1\n",
        "    if 'arma' in row[1]: row[28]=1\n",
        "    if 'atentado' in row[1]: row[28]=1\n",
        "    if 'militar' in row[1]: row[28]=1\n",
        "    if 'incidentes' in row[1]: row[28]=1\n",
        "    if 'terroris' in row[1]: row[28]=1\n",
        "    if 'misil' in row[1]: row[28]=1\n",
        "    if 'tortura' in row[1]: row[28]=1\n",
        "    if 'fuerzas españolas' in row[1]: row[28]=1\n",
        "    if 'numero de llamada de emergencia' in row[1]: row[28]=1\n",
        "\n",
        "\n",
        "  # Política laboral\n",
        "    if 'politica laboral' in row[1]: row[29]=1\n",
        "    if 'laboral' in row[1]: row[29]=1\n",
        "    if 'patrimonio sindical' in row[1]: row[29]=1\n",
        "    if 'trabaj' in row[1]: row[29]=1\n",
        "    if 'empleo' in row[1]: row[29]=1\n",
        "    if 'oit' in row[1]: row[29]=1\n",
        "\n",
        "  # Transporte\n",
        "    if 'aereo' in row[1]: row[30]=1\n",
        "    if 'aviacion' in row[1]: row[30]=1\n",
        "    if 'aeronaval' in row[1]: row[30]=1\n",
        "    if 'ferrocarril' in row[1]: row[30]=1\n",
        "    if 'carretera' in row[1]: row[30]=1\n",
        "    if 'flota mercante' in row[1]: row[30]=1\n",
        "    if 'grupo iberia' in row[1]: row[30]=1\n",
        "    if 'arrastrero' in row[1]: row[30]=1\n",
        "    if 'seitt' in row[1]: row[30]=1\n",
        "\n",
        "  # Comunicaciones\n",
        "    if 'televisi' in row[1]: row[31]=1\n",
        "    if 'periodico' in row[1]: row[31]=1\n",
        "    if 'comunicacion' in row[1]: row[31]=1\n",
        "    if 'cinematog' in row[1]: row[31]=1\n",
        "    if 'no-do' in row[1]: row[31]=1\n",
        "    if 'tve' in row[1]: row[31]=1\n",
        "    if 'telefon' in row[1]: row[31]=1\n",
        "\n",
        "  # Sociedad\n",
        "    if 'divorcio' in row[1]: row[32]=1\n",
        "    if 'futbol' in row[1]: row[32]=1\n",
        "    if 'dia de la' in row[1]: row[32]=1\n",
        "    if 'censo' in row[1]: row[32]=1\n",
        "    if 'mujer' in row[1]: row[32]=1\n",
        "    if 'jornada maxima' in row[1]: row[32]=1\n",
        "    if 'codigo civil' in row[1]: row[32]=1\n",
        "    if 'parque nacional' in row[1]: row[32]=1\n",
        "\n",
        "  # Educación, Ciencia y Tecnología\n",
        "    if 'colegio' in row[1]: row[33]=1\n",
        "    if 'enseñanza' in row[1]: row[33]=1\n",
        "    if 'escolar' in row[1]: row[33]=1\n",
        "    if 'educacion' in row[1]: row[33]=1\n",
        "    if 'educación' in row[1]: row[33]=1\n",
        "    if 'alumno' in row[1]: row[33]=1\n",
        "    if 'bachillerato' in row[1]: row[33]=1\n",
        "    if 'escuela' in row[1]: row[33]=1\n",
        "    if 'cientifica' in row[1]: row[33]=1\n",
        "    if 'educativo' in row[1]: row[33]=1\n",
        "    if 'technological' in row[1]: row[33]=1\n",
        "\n",
        "\n",
        "  # Seguridad Social y Ambiental\n",
        "    if 'seguridad social' in row[1]: row[34]=1\n",
        "    if 'inundacion' in row[1]: row[34]=1\n",
        "    if 'avenidas de la cuenca' in row[1]: row[34]=1\n",
        "    if 'invalidez' in row[1]: row[34]=1\n",
        "    if 'situacion sanitaria' in row[1]: row[34]=1\n",
        "    if 'tercera edad' in row[1]: row[34]=1\n",
        "    if 'pension' in row[1]: row[34]=1\n",
        "    if 'desempleo' in row[1]: row[34]=1\n",
        "    if 'evacuado' in row[1]: row[34]=1\n",
        "    if 'minusvalido' in row[1]: row[34]=1\n",
        "    if 'droga' in row[1]: row[34]=1\n",
        "    if 'emigra' in row[1]: row[34]=1\n",
        "    if 'inmigra' in row[1]: row[34]=1\n",
        "    if 'vivienda' in row[1]: row[34]=1\n",
        "    if 'matrimoni' in row[1]: row[34]=1\n",
        "    if 'salud' in row[1]: row[34]=1\n",
        "    if 'alimentari' in row[1]: row[34]=1\n",
        "    if 'toxico' in row[1]: row[34]=1\n",
        "    if 'contaminacion' in row[1]: row[34]=1\n",
        "    if 'recursos vivos' in row[1]: row[34]=1\n",
        "    if 'diversidad biologica' in row[1]: row[34]=1\n",
        "    if 'zonas especialmente protegidas' in row[1]: row[34]=1\n",
        "    if 'protocolo de montreal' in row[1]: row[34]=1\n",
        "    if 'medio ambiente' in row[1]: row[34]=1\n",
        "    if 'derechos humanos' in row[1]: row[34]=1\n",
        "    if 'protección' in row[1]: row[34]=1\n",
        "    if 'sanitaria' in row[1]: row[34]=1\n",
        "    if 'derecho de asilo' in row[1]: row[34]=1\n",
        "\n",
        "\n",
        "  # Justicia\n",
        "    if 'justicia' in row[1]: row[35]=1\n",
        "    if 'escuchas telefonicas' in row[1]: row[35]=1\n",
        "    if 'defensor del pueblo' in row[1]: row[35]=1\n",
        "    if 'fiscal' in row[1]: row[35]=1\n",
        "    if 'judicial' in row[1]: row[35]=1\n",
        "    if 'juridico' in row[1]: row[35]=1\n",
        "    if 'jurídico' in row[1]: row[35]=1\n",
        "    if 'amparo' in row[1]: row[35]=1\n",
        "\n",
        "  # Internacionales\n",
        "    if 'internacional' in row[1]: row[36]=1\n",
        "    if 'europ' in row[1]: row[36]=1\n",
        "    if 'estados unidos' in row[1]: row[36]=1\n",
        "    if 'atlantico norte' in row[1]: row[36]=1\n",
        "    if 'norteamerica' in row[1]: row[36]=1\n",
        "    if 'la cee' in row[1]: row[36]=1\n",
        "    if 'jordania' in row[1]: row[36]=1\n",
        "    if 'naciones unidas' in row[1]: row[36]=1\n",
        "    if 'interamericana' in row[1]: row[36]=1\n",
        "    if 'extranjero' in row[1]: row[36]=1\n",
        "    if 'islandia' in row[1]: row[36]=1\n",
        "    if 'holand' in row[1]: row[36]=1\n",
        "    if 'multinacional' in row[1]: row[36]=1\n",
        "    if 'australia' in row[1]: row[36]=1\n",
        "    if 'israel' in row[1]: row[36]=1\n",
        "    if 'artículo k.3' in row[1]: row[36]=1\n",
        "    if 'artículo k. 3' in row[1]: row[36]=1\n",
        "    if 'copenhague' in row[1]: row[36]=1\n",
        "    if 'ocde' in row[1]: row[36]=1\n",
        "    if 'austria' in row[1]: row[36]=1\n",
        "    if 'alfonso dastis quecedo' in row[1]: row[36]=1\n",
        "    if 'convención de la hay' in row[1]: row[36]=1\n",
        "\n",
        "\n",
        "  # Política Interna\n",
        "    if 'vasco' in row[1]: row[37]=1\n",
        "    if 'electoral' in row[1]: row[37]=1\n",
        "    if 'cataluña' in row[1]: row[37]=1\n",
        "    if 'andalucia' in row[1]: row[37]=1\n",
        "    if 'ciudad' in row[1]: row[37]=1\n",
        "    if 'españa' in row[1]: row[37]=1\n",
        "    if 'albacete' in row[1]: row[37]=1\n",
        "    if 'cadiz' in row[1]: row[37]=1\n",
        "    if 'asturia' in row[1]: row[37]=1\n",
        "    if 'palmas' in row[1]: row[37]=1\n",
        "    if 'navarra' in row[1]: row[37]=1\n",
        "    if 'maspalomas' in row[1]: row[37]=1\n",
        "    if 'barcelona' in row[1]: row[37]=1\n",
        "    if 'canaria' in row[1]: row[37]=1\n",
        "    if 'gibraltar' in row[1]: row[37]=1\n",
        "    if 'aragon' in row[1]: row[37]=1\n",
        "    if 'extremadura' in row[1]: row[37]=1\n",
        "    if 'ibiza' in row[1]: row[37]=1\n",
        "    if 'castilla' in row[1]: row[37]=1\n",
        "    if 'autonomia' in row[1]: row[37]=1\n",
        "    if 'segovia' in row[1]: row[37]=1\n",
        "    if 'catalana' in row[1]: row[37]=1\n",
        "    if 'islas baleares' in row[1]: row[37]=1\n",
        "    if 'illes balears' in row[1]: row[37]=1\n",
        "    if 'madrid' in row[1]: row[37]=1\n",
        "    if 'murcia' in row[1]: row[37]=1\n",
        "    if 'ayuntamiento' in row[1]: row[37]=1\n",
        "    if 'estatuto de autonomía' in row[1]: row[37]=1\n",
        "    if 'estatutos de autonomía' in row[1]: row[37]=1\n",
        "    if 'torremolinos' in row[1]: row[37]=1\n",
        "    if 'la misión a la luz de su extensión hacia el oeste y el sur del país' in row[1]: row[37]=1\n",
        "    if 'cuenca' in row[1]: row[37]=1\n",
        "    if 'autoridades locales' in row[1]: row[37]=1\n",
        "    if 'comunidades autonomas' in row[1]: row[37]=1\n",
        "    if 'zoido álvarez' in row[1]: row[37]=1\n",
        "\n",
        "  # Otros\n",
        "    if 'hechos acaecidos' in row[1]: row[38]=1\n",
        "    if 'akáa' in row[1]: row[38]=1\n",
        "    if 'picasso' in row[1]: row[38]=1\n",
        "    if 'muerte' in row[1]: row[38]=1\n",
        "    if 'del señor' in row[1]: row[38]=1\n",
        "    if '1981' in row[1]: row[38]=1\n",
        "    if 'preguntas' in row[1]: row[38]=1\n",
        "    if 'convivencia' in row[1]: row[38]=1\n",
        "    if 'simon bolivar' in row[1]: row[38]=1\n",
        "    if 'interpelaciones urgentes' in row[1]: row[38]=1\n",
        "    if 'recomendaciones' in row[1]: row[38]=1\n",
        "    if 'screto profesional' in row[1]: row[38]=1\n",
        "    if 'octubre de 1986' in row[1]: row[38]=1\n",
        "    if 'sucesivos.' in row[1]: row[38]=1\n",
        "    if 'debate sobre el estado de la nacion' in row[1]: row[38]=1\n",
        "    if '30 de noviembre de 1999' in row[1]: row[38]=1\n",
        "    if 'septiembre de 2000' in row[1]: row[38]=1\n",
        "    if 'propuestas de resolución' in row[1]: row[38]=1\n",
        "    if 'nan' in row[1]: row[38]=1\n",
        "    if 'recuperacion automatica' in row[1]: row[38]=1\n",
        "    if 'del grupo socialista del' in row[1]: row[38]=1\n",
        "    if 'del grupo pa' in row[1]: row[38]=1\n",
        "    if 'coag y upa' in row[1]: row[38]=1\n",
        "    if 'rumores' in row[1]: row[38]=1\n",
        "    if 'psoe que provoca' in row[1]: row[38]=1\n",
        "    if 'viii legislatura' in row[1]: row[38]=1\n",
        "    if 'públicos y privados' in row[1]: row[38]=1\n",
        "    if 'modificación' in row[1]: row[38]=1\n",
        "    if 'públicas' in row[1]: row[38]=1\n",
        "    if 'acudir estos' in row[1]: row[38]=1\n",
        "    if 'públicas' in row[1]: row[38]=1\n",
        "    if 'swd (2013) 472 final' in row[1]: row[38]=1\n",
        "    if 'zurita expósito' in row[1]: row[38]=1\n",
        "    if 'condolencia' in row[1]: row[38]=1\n",
        "    if 'convención de la haya de 1954' in row[1]: row[38]=1\n",
        "    if 'xviii, yo creo que hay que irse a los siglos xix o xx' in row[1]: row[38]=1\n",
        "    if 'dé mayo de .—núm.' in row[1]: row[38]=1\n",
        "    if '| de octubre de .—núm.' in row[1]: row[38]=1\n",
        "    if 'dé mayo de .—núm. ' in row[1]: row[38]=1\n",
        "    if 'final] [swd ()  final] [swd ()  final].' in row[1]: row[38]=1\n",
        "\n",
        "    lista.append(row)\n",
        "\n",
        "base = pd.DataFrame(lista, columns=base.columns)"
      ],
      "metadata": {
        "id": "2LpBrDkzqHuf"
      },
      "execution_count": null,
      "outputs": []
    },
    {
      "cell_type": "code",
      "source": [
        "base['topic_designado_a_mano']=0\n",
        "lista=[]\n",
        "for row in base.values:\n",
        "  if row[24]==1: row[39]=1\n",
        "  if row[25]==1: row[39]=2\n",
        "  if row[26]==1: row[39]=3\n",
        "  if row[27]==1: row[39]=4\n",
        "  if row[28]==1: row[39]=5\n",
        "  if row[29]==1: row[39]=6\n",
        "  if row[30]==1: row[39]=7\n",
        "  if row[31]==1: row[39]=8\n",
        "  if row[32]==1: row[39]=9\n",
        "  if row[33]==1: row[39]=10\n",
        "  if row[34]==1: row[39]=11\n",
        "  if row[35]==1: row[39]=12\n",
        "  if row[36]==1: row[39]=13\n",
        "  if row[37]==1: row[39]=14\n",
        "  if row[38]==1: row[39]=15\n",
        "  lista.append(row)\n",
        "\n",
        "base = pd.DataFrame(lista, columns=base.columns)"
      ],
      "metadata": {
        "id": "4nNSZtr9rrSG"
      },
      "execution_count": null,
      "outputs": []
    },
    {
      "cell_type": "code",
      "source": [
        "# Por LEGISLATURA por DESIGNACION MANUAL\n",
        "legislaturas=['I', 'II', 'III', 'IV', 'V', 'VI', 'VII','VIII', 'IX', 'X', 'XI', 'XII','XIII']\n",
        "topics_por_legislatura=pd.DataFrame()\n",
        "for x in legislaturas:\n",
        "  base_legislatura=base[base.legislatura==x]\n",
        "  topics_por_legislatura[x]=base_legislatura['topic_designado_a_mano'].value_counts().sort_index()\n",
        "topics_por_legislatura.to_csv('topics_por_legislatura_por_designacionamano.csv')"
      ],
      "metadata": {
        "id": "g9_63EYRtB4H"
      },
      "execution_count": null,
      "outputs": []
    },
    {
      "cell_type": "code",
      "source": [
        "# Por AÑO por DESIGNACIÓN MANUAL\n",
        "topics_por_año=pd.DataFrame()\n",
        "for x in range (1979, 2020):\n",
        "  base_year=base[pd.DatetimeIndex(base.fecha).year==x]\n",
        "  topics_por_año[x]=base_year['topic_designado_a_mano'].value_counts().sort_index()\n",
        "topics_por_año.to_csv('topics_por_año_por_designacionamano.csv')"
      ],
      "metadata": {
        "id": "1mn9xSWutMgF"
      },
      "execution_count": null,
      "outputs": []
    },
    {
      "cell_type": "markdown",
      "source": [
        "# Bajada"
      ],
      "metadata": {
        "id": "_f5d0_kachVG"
      }
    },
    {
      "cell_type": "code",
      "source": [
        "from google.colab import files\n",
        "files.download('/content/topics_por_año_por_weights_por_ordendeldia_snowball.csv')\n",
        "files.download('/content/topics_por_legislatura_por_weights_por_ordendeldia_snowball.csv')\n",
        "files.download('/content/topics_por_año_por_frex_por_ordendeldia_snowball.csv')\n",
        "files.download('/content/topics_por_legislatura_por_frex_por_ordendeldia_snowball.csv')"
      ],
      "metadata": {
        "id": "FcWH1M5tciSW",
        "outputId": "25c6fc44-6360-463c-d3dc-e224077bca6f",
        "colab": {
          "base_uri": "https://localhost:8080/",
          "height": 17
        }
      },
      "execution_count": 21,
      "outputs": [
        {
          "output_type": "display_data",
          "data": {
            "text/plain": [
              "<IPython.core.display.Javascript object>"
            ],
            "application/javascript": [
              "\n",
              "    async function download(id, filename, size) {\n",
              "      if (!google.colab.kernel.accessAllowed) {\n",
              "        return;\n",
              "      }\n",
              "      const div = document.createElement('div');\n",
              "      const label = document.createElement('label');\n",
              "      label.textContent = `Downloading \"${filename}\": `;\n",
              "      div.appendChild(label);\n",
              "      const progress = document.createElement('progress');\n",
              "      progress.max = size;\n",
              "      div.appendChild(progress);\n",
              "      document.body.appendChild(div);\n",
              "\n",
              "      const buffers = [];\n",
              "      let downloaded = 0;\n",
              "\n",
              "      const channel = await google.colab.kernel.comms.open(id);\n",
              "      // Send a message to notify the kernel that we're ready.\n",
              "      channel.send({})\n",
              "\n",
              "      for await (const message of channel.messages) {\n",
              "        // Send a message to notify the kernel that we're ready.\n",
              "        channel.send({})\n",
              "        if (message.buffers) {\n",
              "          for (const buffer of message.buffers) {\n",
              "            buffers.push(buffer);\n",
              "            downloaded += buffer.byteLength;\n",
              "            progress.value = downloaded;\n",
              "          }\n",
              "        }\n",
              "      }\n",
              "      const blob = new Blob(buffers, {type: 'application/binary'});\n",
              "      const a = document.createElement('a');\n",
              "      a.href = window.URL.createObjectURL(blob);\n",
              "      a.download = filename;\n",
              "      div.appendChild(a);\n",
              "      a.click();\n",
              "      div.remove();\n",
              "    }\n",
              "  "
            ]
          },
          "metadata": {}
        },
        {
          "output_type": "display_data",
          "data": {
            "text/plain": [
              "<IPython.core.display.Javascript object>"
            ],
            "application/javascript": [
              "download(\"download_f0073c94-a935-464c-8d3a-7c2c01317df4\", \"topics_por_a\\u00f1o_por_weights_por_ordendeldia_snowball.csv\", 1823)"
            ]
          },
          "metadata": {}
        },
        {
          "output_type": "display_data",
          "data": {
            "text/plain": [
              "<IPython.core.display.Javascript object>"
            ],
            "application/javascript": [
              "\n",
              "    async function download(id, filename, size) {\n",
              "      if (!google.colab.kernel.accessAllowed) {\n",
              "        return;\n",
              "      }\n",
              "      const div = document.createElement('div');\n",
              "      const label = document.createElement('label');\n",
              "      label.textContent = `Downloading \"${filename}\": `;\n",
              "      div.appendChild(label);\n",
              "      const progress = document.createElement('progress');\n",
              "      progress.max = size;\n",
              "      div.appendChild(progress);\n",
              "      document.body.appendChild(div);\n",
              "\n",
              "      const buffers = [];\n",
              "      let downloaded = 0;\n",
              "\n",
              "      const channel = await google.colab.kernel.comms.open(id);\n",
              "      // Send a message to notify the kernel that we're ready.\n",
              "      channel.send({})\n",
              "\n",
              "      for await (const message of channel.messages) {\n",
              "        // Send a message to notify the kernel that we're ready.\n",
              "        channel.send({})\n",
              "        if (message.buffers) {\n",
              "          for (const buffer of message.buffers) {\n",
              "            buffers.push(buffer);\n",
              "            downloaded += buffer.byteLength;\n",
              "            progress.value = downloaded;\n",
              "          }\n",
              "        }\n",
              "      }\n",
              "      const blob = new Blob(buffers, {type: 'application/binary'});\n",
              "      const a = document.createElement('a');\n",
              "      a.href = window.URL.createObjectURL(blob);\n",
              "      a.download = filename;\n",
              "      div.appendChild(a);\n",
              "      a.click();\n",
              "      div.remove();\n",
              "    }\n",
              "  "
            ]
          },
          "metadata": {}
        },
        {
          "output_type": "display_data",
          "data": {
            "text/plain": [
              "<IPython.core.display.Javascript object>"
            ],
            "application/javascript": [
              "download(\"download_57994332-f475-4542-94c4-76afc9fd40bf\", \"topics_por_legislatura_por_weights_por_ordendeldia_snowball.csv\", 751)"
            ]
          },
          "metadata": {}
        },
        {
          "output_type": "display_data",
          "data": {
            "text/plain": [
              "<IPython.core.display.Javascript object>"
            ],
            "application/javascript": [
              "\n",
              "    async function download(id, filename, size) {\n",
              "      if (!google.colab.kernel.accessAllowed) {\n",
              "        return;\n",
              "      }\n",
              "      const div = document.createElement('div');\n",
              "      const label = document.createElement('label');\n",
              "      label.textContent = `Downloading \"${filename}\": `;\n",
              "      div.appendChild(label);\n",
              "      const progress = document.createElement('progress');\n",
              "      progress.max = size;\n",
              "      div.appendChild(progress);\n",
              "      document.body.appendChild(div);\n",
              "\n",
              "      const buffers = [];\n",
              "      let downloaded = 0;\n",
              "\n",
              "      const channel = await google.colab.kernel.comms.open(id);\n",
              "      // Send a message to notify the kernel that we're ready.\n",
              "      channel.send({})\n",
              "\n",
              "      for await (const message of channel.messages) {\n",
              "        // Send a message to notify the kernel that we're ready.\n",
              "        channel.send({})\n",
              "        if (message.buffers) {\n",
              "          for (const buffer of message.buffers) {\n",
              "            buffers.push(buffer);\n",
              "            downloaded += buffer.byteLength;\n",
              "            progress.value = downloaded;\n",
              "          }\n",
              "        }\n",
              "      }\n",
              "      const blob = new Blob(buffers, {type: 'application/binary'});\n",
              "      const a = document.createElement('a');\n",
              "      a.href = window.URL.createObjectURL(blob);\n",
              "      a.download = filename;\n",
              "      div.appendChild(a);\n",
              "      a.click();\n",
              "      div.remove();\n",
              "    }\n",
              "  "
            ]
          },
          "metadata": {}
        },
        {
          "output_type": "display_data",
          "data": {
            "text/plain": [
              "<IPython.core.display.Javascript object>"
            ],
            "application/javascript": [
              "download(\"download_af047a12-a3b1-41f9-9168-ee910bff63db\", \"topics_por_a\\u00f1o_por_frex_por_ordendeldia_snowball.csv\", 1822)"
            ]
          },
          "metadata": {}
        },
        {
          "output_type": "display_data",
          "data": {
            "text/plain": [
              "<IPython.core.display.Javascript object>"
            ],
            "application/javascript": [
              "\n",
              "    async function download(id, filename, size) {\n",
              "      if (!google.colab.kernel.accessAllowed) {\n",
              "        return;\n",
              "      }\n",
              "      const div = document.createElement('div');\n",
              "      const label = document.createElement('label');\n",
              "      label.textContent = `Downloading \"${filename}\": `;\n",
              "      div.appendChild(label);\n",
              "      const progress = document.createElement('progress');\n",
              "      progress.max = size;\n",
              "      div.appendChild(progress);\n",
              "      document.body.appendChild(div);\n",
              "\n",
              "      const buffers = [];\n",
              "      let downloaded = 0;\n",
              "\n",
              "      const channel = await google.colab.kernel.comms.open(id);\n",
              "      // Send a message to notify the kernel that we're ready.\n",
              "      channel.send({})\n",
              "\n",
              "      for await (const message of channel.messages) {\n",
              "        // Send a message to notify the kernel that we're ready.\n",
              "        channel.send({})\n",
              "        if (message.buffers) {\n",
              "          for (const buffer of message.buffers) {\n",
              "            buffers.push(buffer);\n",
              "            downloaded += buffer.byteLength;\n",
              "            progress.value = downloaded;\n",
              "          }\n",
              "        }\n",
              "      }\n",
              "      const blob = new Blob(buffers, {type: 'application/binary'});\n",
              "      const a = document.createElement('a');\n",
              "      a.href = window.URL.createObjectURL(blob);\n",
              "      a.download = filename;\n",
              "      div.appendChild(a);\n",
              "      a.click();\n",
              "      div.remove();\n",
              "    }\n",
              "  "
            ]
          },
          "metadata": {}
        },
        {
          "output_type": "display_data",
          "data": {
            "text/plain": [
              "<IPython.core.display.Javascript object>"
            ],
            "application/javascript": [
              "download(\"download_88b98781-606b-4151-9868-216613d71899\", \"topics_por_legislatura_por_frex_por_ordendeldia_snowball.csv\", 696)"
            ]
          },
          "metadata": {}
        }
      ]
    }
  ]
}