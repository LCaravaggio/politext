{
  "nbformat": 4,
  "nbformat_minor": 0,
  "metadata": {
    "colab": {
      "provenance": [],
      "authorship_tag": "ABX9TyNIrWEtyXJgZdNimdottxDa",
      "include_colab_link": true
    },
    "kernelspec": {
      "name": "python3",
      "display_name": "Python 3"
    },
    "language_info": {
      "name": "python"
    }
  },
  "cells": [
    {
      "cell_type": "markdown",
      "metadata": {
        "id": "view-in-github",
        "colab_type": "text"
      },
      "source": [
        "<a href=\"https://colab.research.google.com/github/LCaravaggio/politext/blob/main/LASSO.ipynb\" target=\"_parent\"><img src=\"https://colab.research.google.com/assets/colab-badge.svg\" alt=\"Open In Colab\"/></a>"
      ]
    },
    {
      "cell_type": "code",
      "execution_count": 1,
      "metadata": {
        "colab": {
          "base_uri": "https://localhost:8080/"
        },
        "id": "e_KmfVfHztj9",
        "outputId": "14242311-9699-4e4b-9d13-006253d59559"
      },
      "outputs": [
        {
          "output_type": "stream",
          "name": "stdout",
          "text": [
            "Mounted at /content/drive\n"
          ]
        },
        {
          "output_type": "stream",
          "name": "stderr",
          "text": [
            "<ipython-input-1-9f4a60c4adea>:4: DtypeWarning: Columns (18) have mixed types. Specify dtype option on import or set low_memory=False.\n",
            "  base=pd.read_csv('/content/drive/MyDrive/base_formateada.csv')\n"
          ]
        }
      ],
      "source": [
        "from google.colab import drive\n",
        "drive.mount('/content/drive')\n",
        "import pandas as pd\n",
        "base=pd.read_csv('/content/drive/MyDrive/base_formateada.csv')"
      ]
    },
    {
      "cell_type": "code",
      "source": [
        "import pickle\n",
        "\n",
        "with open('/content/drive/MyDrive/vocabulary.voc', 'rb') as f:\n",
        "    inter = pickle.load(f)"
      ],
      "metadata": {
        "id": "Lk9JLBJvzxIc"
      },
      "execution_count": 2,
      "outputs": []
    },
    {
      "cell_type": "code",
      "source": [
        "from sklearn.feature_extraction.text import CountVectorizer\n",
        "cv = CountVectorizer(ngram_range=(2,2) ,vocabulary=inter)\n",
        "matrix = cv.fit_transform(base['tokens'])"
      ],
      "metadata": {
        "id": "lIsFz8Xrz1E1"
      },
      "execution_count": 3,
      "outputs": []
    },
    {
      "cell_type": "markdown",
      "source": [
        "# LASSO"
      ],
      "metadata": {
        "id": "4JsTfam_ADIt"
      }
    },
    {
      "cell_type": "code",
      "source": [
        "from sklearn.linear_model import LogisticRegression\n",
        "from sklearn.model_selection import train_test_split\n",
        "from sklearn.metrics import f1_score\n",
        "from numpy import argsort\n",
        "\n",
        "n=20\n",
        "macro=[]\n",
        "weighted=[]\n",
        "\n",
        "lr = LogisticRegression(penalty='l1', max_iter=50, solver='liblinear')\n",
        "X_train, X_test, y_train, y_test = train_test_split(base.loc[:, base.columns != 'party'], base['party'], test_size=0.33, random_state=42)\n",
        "train_matrix = cv.fit_transform(X_train['tokens'])\n",
        "test_matrix = cv.transform(X_test['tokens'])  \n",
        "lr.fit(train_matrix,y_train)\n",
        "predictions = lr.predict(test_matrix )\n",
        "macro.append(f1_score(predictions,y_test, average='macro'))\n",
        "weighted.append(f1_score(predictions,y_test, average='weighted'))"
      ],
      "metadata": {
        "id": "VHruWu9qAEFQ"
      },
      "execution_count": 11,
      "outputs": []
    },
    {
      "cell_type": "code",
      "source": [
        "lasso=pd.DataFrame()\n",
        "lasso['negativos']=cv.get_feature_names_out()[argsort(lr.coef_[0])[:20]]\n",
        "lasso['positivos']=cv.get_feature_names_out()[argsort(lr.coef_[0])[-20:]]"
      ],
      "metadata": {
        "id": "EP75frGfEWzi"
      },
      "execution_count": 12,
      "outputs": []
    },
    {
      "cell_type": "code",
      "source": [
        "lasso.to_csv('lasso.csv')"
      ],
      "metadata": {
        "id": "-RGxeNl2EJ_E"
      },
      "execution_count": 13,
      "outputs": []
    },
    {
      "cell_type": "markdown",
      "source": [
        "# LASSO por legislatura"
      ],
      "metadata": {
        "id": "Xm75pXej9l-P"
      }
    },
    {
      "cell_type": "code",
      "source": [
        "# Relevancia de bigramas en la predicción por legislatura\n",
        "tabla=[]\n",
        "legislaturas=['I', 'II', 'III', 'IV', 'V', 'VI', 'VII','VIII', 'IX', 'X', 'XI', 'XII','XIII']\n",
        "n=20\n",
        "\n",
        "macro=[]\n",
        "weighted=[]\n",
        "\n",
        "lr = LogisticRegression(penalty='l1', max_iter=50, solver='liblinear')\n",
        "\n",
        "lasso=pd.DataFrame()\n",
        "\n",
        "for x in legislaturas: \n",
        "  base_year=base[base.legislatura==x]\n",
        "  X_train, X_test, y_train, y_test = train_test_split(base_year.loc[:, base_year.columns != 'party'], base_year['party'], test_size=0.33, random_state=42)\n",
        "  train_matrix = cv.fit_transform(X_train['tokens'])\n",
        "  test_matrix = cv.transform(X_test['tokens'])  \n",
        "  lr.fit(train_matrix,y_train)\n",
        "  predictions = lr.predict(test_matrix )\n",
        "  macro.append(f1_score(predictions,y_test, average='macro'))\n",
        "  weighted.append(f1_score(predictions,y_test, average='weighted'))\n",
        "  s=lr.coef_[0]\n",
        "  lasso[f\"Legislatura: {x} - neg\"] = cv.get_feature_names_out()[argsort(s)[:n]]\n",
        "  lasso[f\"Legislatura: {x} - pos\"] = cv.get_feature_names_out()[argsort(s)[-n:]]"
      ],
      "metadata": {
        "id": "JRRmoh7Q0fdW"
      },
      "execution_count": 14,
      "outputs": []
    },
    {
      "cell_type": "code",
      "source": [
        "lasso.to_csv('lasso_por_legislatura.csv')"
      ],
      "metadata": {
        "id": "HFryxzqZ5-z2"
      },
      "execution_count": 15,
      "outputs": []
    },
    {
      "cell_type": "code",
      "source": [
        "import matplotlib.pyplot as plt\n",
        "plt.plot(legislaturas, macro, marker='o')\n",
        "plt.savefig('lasso_por_legislatura.png')"
      ],
      "metadata": {
        "colab": {
          "base_uri": "https://localhost:8080/",
          "height": 430
        },
        "id": "ar2XYyi79vi7",
        "outputId": "74d0b3a9-fa9b-4ea6-995f-1af97c88106d"
      },
      "execution_count": 16,
      "outputs": [
        {
          "output_type": "display_data",
          "data": {
            "text/plain": [
              "<Figure size 640x480 with 1 Axes>"
            ],
            "image/png": "[encoded data removed]"
          },
          "metadata": {}
        }
      ]
    },
    {
      "cell_type": "markdown",
      "source": [
        "# LASSO por año"
      ],
      "metadata": {
        "id": "Rg0oIvCq9oCl"
      }
    },
    {
      "cell_type": "code",
      "source": [
        "base.fecha=pd.to_datetime(base.fecha, infer_datetime_format=True)"
      ],
      "metadata": {
        "id": "FZe4PWNd-cd_"
      },
      "execution_count": 17,
      "outputs": []
    },
    {
      "cell_type": "code",
      "source": [
        "# Relevancia de bigramas en la predicción por año\n",
        "macro=[]\n",
        "weighted=[]\n",
        "\n",
        "nombres=cv.get_feature_names_out()\n",
        "\n",
        "n = 20\n",
        "lr = LogisticRegression(penalty='l1', max_iter=1000, solver='liblinear')\n",
        "\n",
        "\n",
        "lasso=pd.DataFrame()\n",
        "\n",
        "for x in range (1979, 2020): \n",
        "  base_year=base[pd.DatetimeIndex(base.fecha).year==x]\n",
        "  X_train, X_test, y_train, y_test = train_test_split(base_year.loc[:, base_year.columns != 'party'], base_year['party'], test_size=0.33, random_state=42)\n",
        "  train_matrix = cv.fit_transform(X_train['tokens'])\n",
        "  test_matrix = cv.transform(X_test['tokens'])  \n",
        "  lr.fit(train_matrix,y_train)\n",
        "  predictions = lr.predict(test_matrix )\n",
        "  macro.append(f1_score(predictions,y_test, average='macro'))\n",
        "  weighted.append(f1_score(predictions,y_test, average='weighted'))\n",
        "  s = lr.coef_[0]\n",
        "  lasso[f\"Año: {x} - neg\"] = cv.get_feature_names_out()[argsort(s)[:n]]\n",
        "  lasso[f\"Año: {x} - pos\"] = cv.get_feature_names_out()[argsort(s)[-n:]]"
      ],
      "metadata": {
        "id": "Jf3PprUi9pNW"
      },
      "execution_count": 18,
      "outputs": []
    },
    {
      "cell_type": "code",
      "source": [
        "lasso.to_csv('lasso_por_año.csv')"
      ],
      "metadata": {
        "id": "wN9188mx-MnL"
      },
      "execution_count": 19,
      "outputs": []
    },
    {
      "cell_type": "code",
      "source": [
        "import matplotlib.pyplot as plt\n",
        "plt.plot(range(1979,2020), macro, marker='o')\n",
        "plt.savefig('lasso_por_año.png')"
      ],
      "metadata": {
        "colab": {
          "base_uri": "https://localhost:8080/",
          "height": 430
        },
        "outputId": "98312fd1-378c-4d92-88c7-ae41b2469fc8",
        "id": "Oj_yCfqE-MnL"
      },
      "execution_count": 20,
      "outputs": [
        {
          "output_type": "display_data",
          "data": {
            "text/plain": [
              "<Figure size 640x480 with 1 Axes>"
            ],
            "image/png": "[encoded data removed]"
          },
          "metadata": {}
        }
      ]
    },
    {
      "cell_type": "markdown",
      "source": [
        "# LASSO por Semana"
      ],
      "metadata": {
        "id": "H4AMpSAoLHji"
      }
    },
    {
      "cell_type": "code",
      "source": [
        "len((pd.DatetimeIndex(base.fecha).isocalendar().year.astype(str)  +'-'+ pd.DatetimeIndex(base.fecha).isocalendar().week.astype(str)).unique())"
      ],
      "metadata": {
        "colab": {
          "base_uri": "https://localhost:8080/"
        },
        "id": "TWAK-GH7LKnW",
        "outputId": "7a84b424-1b00-415f-aa51-794b00c20c28"
      },
      "execution_count": 21,
      "outputs": [
        {
          "output_type": "execute_result",
          "data": {
            "text/plain": [
              "1164"
            ]
          },
          "metadata": {},
          "execution_count": 21
        }
      ]
    },
    {
      "cell_type": "code",
      "source": [
        "base['semana']=pd.Series(pd.DatetimeIndex(base.fecha).isocalendar().year.astype(str)  +'-'+ pd.DatetimeIndex(base.fecha).isocalendar().week.astype(str)).values\n"
      ],
      "metadata": {
        "id": "0Q7iu-p2QCCK"
      },
      "execution_count": 22,
      "outputs": []
    },
    {
      "cell_type": "code",
      "source": [
        "import numpy as np\n",
        "lasso = pd.DataFrame(columns=[f\"neg-{x}\" for x in range(1, 21)] + [f\"pos-{x}\" for x in range(1, 21)], index=pd.Index((pd.DatetimeIndex(base.fecha).isocalendar().year.astype(str) + '-' + pd.DatetimeIndex(base.fecha).isocalendar().week.astype(str)).unique(), name='semana'))\n",
        "#lasso = pd.DataFrame(columns=[f\"neg-{x}\" for x in range(1, 21)] + [f\"pos-{x}\" for x in range(1, 21)], index=pd.Index(('1979-12','2019-35'), name='semana'))\n",
        "macro=[]\n",
        "weighted=[]\n",
        "\n",
        "for x in lasso.index:\n",
        "    try:\n",
        "      base_semana = base[base['semana'] == x]\n",
        "      X_train, X_test, y_train, y_test = train_test_split(base_semana.loc[:, base_semana.columns != 'party'], base_semana['party'], test_size=0.33, random_state=42)\n",
        "      train_matrix = cv.fit_transform(X_train['tokens'])\n",
        "      test_matrix = cv.transform(X_test['tokens'])  \n",
        "      lr.fit(train_matrix, y_train)\n",
        "      predictions = lr.predict(test_matrix)\n",
        "      s = lr.coef_[0]\n",
        "      neg_features = cv.get_feature_names_out()[np.argsort(s)[:20]]\n",
        "      pos_features = cv.get_feature_names_out()[np.argsort(s)[-20:]]\n",
        "      lasso.loc[x, [f\"neg-{i+1}\" for i in range(20)]] = neg_features\n",
        "      lasso.loc[x, [f\"pos-{i+1}\" for i in range(20)]] = pos_features\n",
        "      \n",
        "      predictions = lr.predict(test_matrix )\n",
        "      macro.append(f1_score(predictions,y_test, average='macro'))\n",
        "      weighted.append(f1_score(predictions,y_test, average='weighted'))\n",
        "    except: \n",
        "      macro.append(np.nan)\n",
        "      weighted.append(np.nan)  \n"
      ],
      "metadata": {
        "colab": {
          "base_uri": "https://localhost:8080/"
        },
        "id": "RhOoHErjPc01",
        "outputId": "efd80509-9a91-4948-a81b-8cd032cc9fa8"
      },
      "execution_count": 23,
      "outputs": [
        {
          "output_type": "stream",
          "name": "stderr",
          "text": [
            "/usr/local/lib/python3.10/dist-packages/sklearn/svm/_base.py:1244: ConvergenceWarning: Liblinear failed to converge, increase the number of iterations.\n",
            "  warnings.warn(\n",
            "/usr/local/lib/python3.10/dist-packages/sklearn/svm/_base.py:1244: ConvergenceWarning: Liblinear failed to converge, increase the number of iterations.\n",
            "  warnings.warn(\n",
            "/usr/local/lib/python3.10/dist-packages/sklearn/svm/_base.py:1244: ConvergenceWarning: Liblinear failed to converge, increase the number of iterations.\n",
            "  warnings.warn(\n",
            "/usr/local/lib/python3.10/dist-packages/sklearn/svm/_base.py:1244: ConvergenceWarning: Liblinear failed to converge, increase the number of iterations.\n",
            "  warnings.warn(\n",
            "/usr/local/lib/python3.10/dist-packages/sklearn/svm/_base.py:1244: ConvergenceWarning: Liblinear failed to converge, increase the number of iterations.\n",
            "  warnings.warn(\n"
          ]
        }
      ]
    },
    {
      "cell_type": "code",
      "source": [
        "lasso.to_csv('lasso_por_semana.csv')"
      ],
      "metadata": {
        "id": "hr_KPKznZnbM"
      },
      "execution_count": 24,
      "outputs": []
    },
    {
      "cell_type": "code",
      "source": [
        "import matplotlib.pyplot as plt\n",
        "plt.plot((pd.DatetimeIndex(base.fecha).isocalendar().year.astype(str)  +'-'+ pd.DatetimeIndex(base.fecha).isocalendar().week.astype(str)).unique(), macro, marker='o')\n",
        "\n",
        "plt.savefig('lasso_por_semana.png')"
      ],
      "metadata": {
        "colab": {
          "base_uri": "https://localhost:8080/",
          "height": 430
        },
        "id": "KBegoSH6ZrYl",
        "outputId": "463acd12-cc77-4316-e3ca-7a737cd31abc"
      },
      "execution_count": 25,
      "outputs": [
        {
          "output_type": "display_data",
          "data": {
            "text/plain": [
              "<Figure size 640x480 with 1 Axes>"
            ],
            "image/png": "[encoded data removed]"
          },
          "metadata": {}
        }
      ]
    },
    {
      "cell_type": "code",
      "source": [
        "lasso['macro']=macro"
      ],
      "metadata": {
        "id": "Tq_L7mJWMZh3"
      },
      "execution_count": 29,
      "outputs": []
    },
    {
      "cell_type": "code",
      "source": [
        "# Estas son las semanas que tienen macro==1\n",
        "lasso.index[lasso['macro'] == 1]"
      ],
      "metadata": {
        "id": "dL91qXxzMmPa",
        "outputId": "f89a0b79-e58e-40e7-edef-91cbdc2d39a8",
        "colab": {
          "base_uri": "https://localhost:8080/"
        }
      },
      "execution_count": 34,
      "outputs": [
        {
          "output_type": "execute_result",
          "data": {
            "text/plain": [
              "Index(['1981-50', '1982-25', '1982-52', '1989-5', '1989-47', '1990-2',\n",
              "       '1990-35', '1992-27', '2001-36', '2001-42', '2002-34', '2002-35',\n",
              "       '2003-49', '2003-52', '1996-13', '1996-36', '1996-52', '1999-18',\n",
              "       '2000-5', '1993-42', '2004-33', '2006-36', '2006-44', '2007-3',\n",
              "       '2007-29', '2007-31', '2008-5', '2008-15', '2008-27', '2008-43',\n",
              "       '2011-34', '2011-35', '2011-42', '2011-44', '2012-2', '2013-31',\n",
              "       '2015-49'],\n",
              "      dtype='object', name='semana')"
            ]
          },
          "metadata": {},
          "execution_count": 34
        }
      ]
    },
    {
      "cell_type": "code",
      "source": [
        "# Una sola semana tiene macro==0\n",
        "lasso.index[lasso['macro'] == 0]"
      ],
      "metadata": {
        "id": "w2DUV6e5OXhG",
        "outputId": "bd4cdc06-6158-4d6f-c71e-41cf3e0f3b39",
        "colab": {
          "base_uri": "https://localhost:8080/"
        }
      },
      "execution_count": 52,
      "outputs": [
        {
          "output_type": "execute_result",
          "data": {
            "text/plain": [
              "Index(['1981-1'], dtype='object', name='semana')"
            ]
          },
          "metadata": {},
          "execution_count": 52
        }
      ]
    },
    {
      "cell_type": "code",
      "source": [
        "base[base.semana=='1981-1']"
      ],
      "metadata": {
        "id": "IbPAt32eO5nz",
        "outputId": "c8525b6f-b7c7-4d2a-83fd-60c41926e86b",
        "colab": {
          "base_uri": "https://localhost:8080/",
          "height": 866
        }
      },
      "execution_count": 57,
      "outputs": [
        {
          "output_type": "execute_result",
          "data": {
            "text/plain": [
              "      Unnamed: 0                                              orden  \\\n",
              "5387        5387  ENMIENDA DEL SENADO AL PROYECTO DE LEY DE PRES...   \n",
              "5388        5388  ENMIENDA DEL SENADO AL PROYECTO DE LEY DE PRES...   \n",
              "5389        5389  ENMIENDA DEL SENADO AL PROYECTO DE LEY DE PRES...   \n",
              "5390        5390  ENMIENDA DEL SENADO AL PROYECTO DE LEY DE PRES...   \n",
              "5391        5391  ENMIENDA DEL SENADO AL PROYECTO DE LEY DE PRES...   \n",
              "5392        5392  ENMIENDA DEL SENADO AL PROYECTO DE LEY DE PRES...   \n",
              "5393        5393  ELFOCION DE MAGISTRADO DEL TRIBUNAL CONSTITUCI...   \n",
              "\n",
              "                                namex  \\\n",
              "5387                     LLUCH MARTIN   \n",
              "5388                    LLUUCH MARTIN   \n",
              "5389           GARCIA-MARGALLO MARFIL   \n",
              "5390                     LLUCH MARTIN   \n",
              "5391           GARCIA-MARGALLO MARFIL   \n",
              "5392                     BARON CRESPO   \n",
              "5393  VICEPRESIDENTE (Fraile Poujade)   \n",
              "\n",
              "                                           intervention      fecha  \\\n",
              "5387                               Para turno a favor.  1980-12-29   \n",
              "5388   Señor Presidente, señoras Diputadas, señores ... 1980-12-29   \n",
              "5389   Señor Presidente, señoras y señores Diputados... 1980-12-29   \n",
              "5390   Señor Presidente, señoras Diputadas, señores ... 1980-12-29   \n",
              "5391   Señor Presidente, señoras y señores Diputados... 1980-12-29   \n",
              "5392   Señor Presidente, señoras y señores Diputados... 1980-12-29   \n",
              "5393   Vamos a comenzar el escrutinio. (Pausa.)  Pre... 1980-12-29   \n",
              "\n",
              "     legislatura  pleno                            role  \\\n",
              "5387           I  141.0              DIPUTADO, DIPUTADA   \n",
              "5388           I  141.0              DIPUTADO, DIPUTADA   \n",
              "5389           I  141.0              DIPUTADO, DIPUTADA   \n",
              "5390           I  141.0              DIPUTADO, DIPUTADA   \n",
              "5391           I  141.0              DIPUTADO, DIPUTADA   \n",
              "5392           I  141.0              DIPUTADO, DIPUTADA   \n",
              "5393           I  141.0  VICEPRESIDENTE, VICEPRESIDENTA   \n",
              "\n",
              "                     oradorx                                  namey  ...  \\\n",
              "5387            LLUCH MARTIN                 Lluch Martín, Ernest †  ...   \n",
              "5388           LLUUCH MARTIN                 Lluch Martín, Ernest †  ...   \n",
              "5389  GARCIA-MARGALLO MARFIL  García-Margallo y Marfil, José Manuel  ...   \n",
              "5390            LLUCH MARTIN                 Lluch Martín, Ernest †  ...   \n",
              "5391  GARCIA-MARGALLO MARFIL  García-Margallo y Marfil, José Manuel  ...   \n",
              "5392            BARON CRESPO                  Barón Crespo, Enrique  ...   \n",
              "5393          FRAILE POUJADE              Fraile Poujade, Modesto †  ...   \n",
              "\n",
              "                           congreso senado total                   oradory  \\\n",
              "5387              4 (C, I, II, III)      –   4.0              LLUCH MARTIN   \n",
              "5388              4 (C, I, II, III)      –   4.0              LLUCH MARTIN   \n",
              "5389  7 (C, I, III, IV, V, XI, XII)      –   7.0  GARCIA-MARGALLO Y MARFIL   \n",
              "5390              4 (C, I, II, III)      –   4.0              LLUCH MARTIN   \n",
              "5391  7 (C, I, III, IV, V, XI, XII)      –   7.0  GARCIA-MARGALLO Y MARFIL   \n",
              "5392              4 (C, I, II, III)      –   4.0              BARON CRESPO   \n",
              "5393              4 (C, I, II, III)      –   4.0            FRAILE POUJADE   \n",
              "\n",
              "      cataluna estatut  inter_raw          partido  \\\n",
              "5387       0.0     0.0        NaN         PSC-PSOE   \n",
              "5388       0.0     0.0        NaN         PSC-PSOE   \n",
              "5389       0.0     0.0        NaN      UCD, CP, PP   \n",
              "5390       0.0     0.0        NaN         PSC-PSOE   \n",
              "5391       0.0     0.0        NaN      UCD, CP, PP   \n",
              "5392       0.0     0.0        NaN             PSOE   \n",
              "5393       0.0     0.0        NaN  UCD, AP-PDP, CP   \n",
              "\n",
              "                                                 tokens  semana  \n",
              "5387                                                 []  1981-1  \n",
              "5388  ['señora', 'diputada', 'señor', 'diputado', 'm...  1981-1  \n",
              "5389  ['señora', 'señor', 'diputado', 'misma', 'brev...  1981-1  \n",
              "5390  ['señora', 'diputada', 'señor', 'diputado', 's...  1981-1  \n",
              "5391  ['señora', 'señor', 'diputado', 'ratificar', '...  1981-1  \n",
              "5392  ['señora', 'señor', 'diputado', 'aprobado', 'p...  1981-1  \n",
              "5393  ['comenzar', 'escrutinio', 'pausa', 'previamen...  1981-1  \n",
              "\n",
              "[7 rows x 22 columns]"
            ],
            "text/html": [
              "\n",
              "  <div id=\"df-57f0cc0b-f457-4945-ae3c-49053e749901\">\n",
              "    <div class=\"colab-df-container\">\n",
              "      <div>\n",
              "<style scoped>\n",
              "    .dataframe tbody tr th:only-of-type {\n",
              "        vertical-align: middle;\n",
              "    }\n",
              "\n",
              "    .dataframe tbody tr th {\n",
              "        vertical-align: top;\n",
              "    }\n",
              "\n",
              "    .dataframe thead th {\n",
              "        text-align: right;\n",
              "    }\n",
              "</style>\n",
              "<table border=\"1\" class=\"dataframe\">\n",
              "  <thead>\n",
              "    <tr style=\"text-align: right;\">\n",
              "      <th></th>\n",
              "      <th>Unnamed: 0</th>\n",
              "      <th>orden</th>\n",
              "      <th>namex</th>\n",
              "      <th>intervention</th>\n",
              "      <th>fecha</th>\n",
              "      <th>legislatura</th>\n",
              "      <th>pleno</th>\n",
              "      <th>role</th>\n",
              "      <th>oradorx</th>\n",
              "      <th>namey</th>\n",
              "      <th>...</th>\n",
              "      <th>congreso</th>\n",
              "      <th>senado</th>\n",
              "      <th>total</th>\n",
              "      <th>oradory</th>\n",
              "      <th>cataluna</th>\n",
              "      <th>estatut</th>\n",
              "      <th>inter_raw</th>\n",
              "      <th>partido</th>\n",
              "      <th>tokens</th>\n",
              "      <th>semana</th>\n",
              "    </tr>\n",
              "  </thead>\n",
              "  <tbody>\n",
              "    <tr>\n",
              "      <th>5387</th>\n",
              "      <td>5387</td>\n",
              "      <td>ENMIENDA DEL SENADO AL PROYECTO DE LEY DE PRES...</td>\n",
              "      <td>LLUCH MARTIN</td>\n",
              "      <td>Para turno a favor.</td>\n",
              "      <td>1980-12-29</td>\n",
              "      <td>I</td>\n",
              "      <td>141.0</td>\n",
              "      <td>DIPUTADO, DIPUTADA</td>\n",
              "      <td>LLUCH MARTIN</td>\n",
              "      <td>Lluch Martín, Ernest †</td>\n",
              "      <td>...</td>\n",
              "      <td>4 (C, I, II, III)</td>\n",
              "      <td>–</td>\n",
              "      <td>4.0</td>\n",
              "      <td>LLUCH MARTIN</td>\n",
              "      <td>0.0</td>\n",
              "      <td>0.0</td>\n",
              "      <td>NaN</td>\n",
              "      <td>PSC-PSOE</td>\n",
              "      <td>[]</td>\n",
              "      <td>1981-1</td>\n",
              "    </tr>\n",
              "    <tr>\n",
              "      <th>5388</th>\n",
              "      <td>5388</td>\n",
              "      <td>ENMIENDA DEL SENADO AL PROYECTO DE LEY DE PRES...</td>\n",
              "      <td>LLUUCH MARTIN</td>\n",
              "      <td>Señor Presidente, señoras Diputadas, señores ...</td>\n",
              "      <td>1980-12-29</td>\n",
              "      <td>I</td>\n",
              "      <td>141.0</td>\n",
              "      <td>DIPUTADO, DIPUTADA</td>\n",
              "      <td>LLUUCH MARTIN</td>\n",
              "      <td>Lluch Martín, Ernest †</td>\n",
              "      <td>...</td>\n",
              "      <td>4 (C, I, II, III)</td>\n",
              "      <td>–</td>\n",
              "      <td>4.0</td>\n",
              "      <td>LLUCH MARTIN</td>\n",
              "      <td>0.0</td>\n",
              "      <td>0.0</td>\n",
              "      <td>NaN</td>\n",
              "      <td>PSC-PSOE</td>\n",
              "      <td>['señora', 'diputada', 'señor', 'diputado', 'm...</td>\n",
              "      <td>1981-1</td>\n",
              "    </tr>\n",
              "    <tr>\n",
              "      <th>5389</th>\n",
              "      <td>5389</td>\n",
              "      <td>ENMIENDA DEL SENADO AL PROYECTO DE LEY DE PRES...</td>\n",
              "      <td>GARCIA-MARGALLO MARFIL</td>\n",
              "      <td>Señor Presidente, señoras y señores Diputados...</td>\n",
              "      <td>1980-12-29</td>\n",
              "      <td>I</td>\n",
              "      <td>141.0</td>\n",
              "      <td>DIPUTADO, DIPUTADA</td>\n",
              "      <td>GARCIA-MARGALLO MARFIL</td>\n",
              "      <td>García-Margallo y Marfil, José Manuel</td>\n",
              "      <td>...</td>\n",
              "      <td>7 (C, I, III, IV, V, XI, XII)</td>\n",
              "      <td>–</td>\n",
              "      <td>7.0</td>\n",
              "      <td>GARCIA-MARGALLO Y MARFIL</td>\n",
              "      <td>0.0</td>\n",
              "      <td>0.0</td>\n",
              "      <td>NaN</td>\n",
              "      <td>UCD, CP, PP</td>\n",
              "      <td>['señora', 'señor', 'diputado', 'misma', 'brev...</td>\n",
              "      <td>1981-1</td>\n",
              "    </tr>\n",
              "    <tr>\n",
              "      <th>5390</th>\n",
              "      <td>5390</td>\n",
              "      <td>ENMIENDA DEL SENADO AL PROYECTO DE LEY DE PRES...</td>\n",
              "      <td>LLUCH MARTIN</td>\n",
              "      <td>Señor Presidente, señoras Diputadas, señores ...</td>\n",
              "      <td>1980-12-29</td>\n",
              "      <td>I</td>\n",
              "      <td>141.0</td>\n",
              "      <td>DIPUTADO, DIPUTADA</td>\n",
              "      <td>LLUCH MARTIN</td>\n",
              "      <td>Lluch Martín, Ernest †</td>\n",
              "      <td>...</td>\n",
              "      <td>4 (C, I, II, III)</td>\n",
              "      <td>–</td>\n",
              "      <td>4.0</td>\n",
              "      <td>LLUCH MARTIN</td>\n",
              "      <td>0.0</td>\n",
              "      <td>0.0</td>\n",
              "      <td>NaN</td>\n",
              "      <td>PSC-PSOE</td>\n",
              "      <td>['señora', 'diputada', 'señor', 'diputado', 's...</td>\n",
              "      <td>1981-1</td>\n",
              "    </tr>\n",
              "    <tr>\n",
              "      <th>5391</th>\n",
              "      <td>5391</td>\n",
              "      <td>ENMIENDA DEL SENADO AL PROYECTO DE LEY DE PRES...</td>\n",
              "      <td>GARCIA-MARGALLO MARFIL</td>\n",
              "      <td>Señor Presidente, señoras y señores Diputados...</td>\n",
              "      <td>1980-12-29</td>\n",
              "      <td>I</td>\n",
              "      <td>141.0</td>\n",
              "      <td>DIPUTADO, DIPUTADA</td>\n",
              "      <td>GARCIA-MARGALLO MARFIL</td>\n",
              "      <td>García-Margallo y Marfil, José Manuel</td>\n",
              "      <td>...</td>\n",
              "      <td>7 (C, I, III, IV, V, XI, XII)</td>\n",
              "      <td>–</td>\n",
              "      <td>7.0</td>\n",
              "      <td>GARCIA-MARGALLO Y MARFIL</td>\n",
              "      <td>0.0</td>\n",
              "      <td>0.0</td>\n",
              "      <td>NaN</td>\n",
              "      <td>UCD, CP, PP</td>\n",
              "      <td>['señora', 'señor', 'diputado', 'ratificar', '...</td>\n",
              "      <td>1981-1</td>\n",
              "    </tr>\n",
              "    <tr>\n",
              "      <th>5392</th>\n",
              "      <td>5392</td>\n",
              "      <td>ENMIENDA DEL SENADO AL PROYECTO DE LEY DE PRES...</td>\n",
              "      <td>BARON CRESPO</td>\n",
              "      <td>Señor Presidente, señoras y señores Diputados...</td>\n",
              "      <td>1980-12-29</td>\n",
              "      <td>I</td>\n",
              "      <td>141.0</td>\n",
              "      <td>DIPUTADO, DIPUTADA</td>\n",
              "      <td>BARON CRESPO</td>\n",
              "      <td>Barón Crespo, Enrique</td>\n",
              "      <td>...</td>\n",
              "      <td>4 (C, I, II, III)</td>\n",
              "      <td>–</td>\n",
              "      <td>4.0</td>\n",
              "      <td>BARON CRESPO</td>\n",
              "      <td>0.0</td>\n",
              "      <td>0.0</td>\n",
              "      <td>NaN</td>\n",
              "      <td>PSOE</td>\n",
              "      <td>['señora', 'señor', 'diputado', 'aprobado', 'p...</td>\n",
              "      <td>1981-1</td>\n",
              "    </tr>\n",
              "    <tr>\n",
              "      <th>5393</th>\n",
              "      <td>5393</td>\n",
              "      <td>ELFOCION DE MAGISTRADO DEL TRIBUNAL CONSTITUCI...</td>\n",
              "      <td>VICEPRESIDENTE (Fraile Poujade)</td>\n",
              "      <td>Vamos a comenzar el escrutinio. (Pausa.)  Pre...</td>\n",
              "      <td>1980-12-29</td>\n",
              "      <td>I</td>\n",
              "      <td>141.0</td>\n",
              "      <td>VICEPRESIDENTE, VICEPRESIDENTA</td>\n",
              "      <td>FRAILE POUJADE</td>\n",
              "      <td>Fraile Poujade, Modesto †</td>\n",
              "      <td>...</td>\n",
              "      <td>4 (C, I, II, III)</td>\n",
              "      <td>–</td>\n",
              "      <td>4.0</td>\n",
              "      <td>FRAILE POUJADE</td>\n",
              "      <td>0.0</td>\n",
              "      <td>0.0</td>\n",
              "      <td>NaN</td>\n",
              "      <td>UCD, AP-PDP, CP</td>\n",
              "      <td>['comenzar', 'escrutinio', 'pausa', 'previamen...</td>\n",
              "      <td>1981-1</td>\n",
              "    </tr>\n",
              "  </tbody>\n",
              "</table>\n",
              "<p>7 rows × 22 columns</p>\n",
              "</div>\n",
              "      <button class=\"colab-df-convert\" onclick=\"convertToInteractive('df-57f0cc0b-f457-4945-ae3c-49053e749901')\"\n",
              "              title=\"Convert this dataframe to an interactive table.\"\n",
              "              style=\"display:none;\">\n",
              "        \n",
              "  <svg xmlns=\"http://www.w3.org/2000/svg\" height=\"24px\"viewBox=\"0 0 24 24\"\n",
              "       width=\"24px\">\n",
              "    <path d=\"M0 0h24v24H0V0z\" fill=\"none\"/>\n",
              "    <path d=\"M18.56 5.44l.94 2.06.94-2.06 2.06-.94-2.06-.94-.94-2.06-.94 2.06-2.06.94zm-11 1L8.5 8.5l.94-2.06 2.06-.94-2.06-.94L8.5 2.5l-.94 2.06-2.06.94zm10 10l.94 2.06.94-2.06 2.06-.94-2.06-.94-.94-2.06-.94 2.06-2.06.94z\"/><path d=\"M17.41 7.96l-1.37-1.37c-.4-.4-.92-.59-1.43-.59-.52 0-1.04.2-1.43.59L10.3 9.45l-7.72 7.72c-.78.78-.78 2.05 0 2.83L4 21.41c.39.39.9.59 1.41.59.51 0 1.02-.2 1.41-.59l7.78-7.78 2.81-2.81c.8-.78.8-2.07 0-2.86zM5.41 20L4 18.59l7.72-7.72 1.47 1.35L5.41 20z\"/>\n",
              "  </svg>\n",
              "      </button>\n",
              "      \n",
              "  <style>\n",
              "    .colab-df-container {\n",
              "      display:flex;\n",
              "      flex-wrap:wrap;\n",
              "      gap: 12px;\n",
              "    }\n",
              "\n",
              "    .colab-df-convert {\n",
              "      background-color: #E8F0FE;\n",
              "      border: none;\n",
              "      border-radius: 50%;\n",
              "      cursor: pointer;\n",
              "      display: none;\n",
              "      fill: #1967D2;\n",
              "      height: 32px;\n",
              "      padding: 0 0 0 0;\n",
              "      width: 32px;\n",
              "    }\n",
              "\n",
              "    .colab-df-convert:hover {\n",
              "      background-color: #E2EBFA;\n",
              "      box-shadow: 0px 1px 2px rgba(60, 64, 67, 0.3), 0px 1px 3px 1px rgba(60, 64, 67, 0.15);\n",
              "      fill: #174EA6;\n",
              "    }\n",
              "\n",
              "    [theme=dark] .colab-df-convert {\n",
              "      background-color: #3B4455;\n",
              "      fill: #D2E3FC;\n",
              "    }\n",
              "\n",
              "    [theme=dark] .colab-df-convert:hover {\n",
              "      background-color: #434B5C;\n",
              "      box-shadow: 0px 1px 3px 1px rgba(0, 0, 0, 0.15);\n",
              "      filter: drop-shadow(0px 1px 2px rgba(0, 0, 0, 0.3));\n",
              "      fill: #FFFFFF;\n",
              "    }\n",
              "  </style>\n",
              "\n",
              "      <script>\n",
              "        const buttonEl =\n",
              "          document.querySelector('#df-57f0cc0b-f457-4945-ae3c-49053e749901 button.colab-df-convert');\n",
              "        buttonEl.style.display =\n",
              "          google.colab.kernel.accessAllowed ? 'block' : 'none';\n",
              "\n",
              "        async function convertToInteractive(key) {\n",
              "          const element = document.querySelector('#df-57f0cc0b-f457-4945-ae3c-49053e749901');\n",
              "          const dataTable =\n",
              "            await google.colab.kernel.invokeFunction('convertToInteractive',\n",
              "                                                     [key], {});\n",
              "          if (!dataTable) return;\n",
              "\n",
              "          const docLinkHtml = 'Like what you see? Visit the ' +\n",
              "            '<a target=\"_blank\" href=https://colab.research.google.com/notebooks/data_table.ipynb>data table notebook</a>'\n",
              "            + ' to learn more about interactive tables.';\n",
              "          element.innerHTML = '';\n",
              "          dataTable['output_type'] = 'display_data';\n",
              "          await google.colab.output.renderOutput(dataTable, element);\n",
              "          const docLink = document.createElement('div');\n",
              "          docLink.innerHTML = docLinkHtml;\n",
              "          element.appendChild(docLink);\n",
              "        }\n",
              "      </script>\n",
              "    </div>\n",
              "  </div>\n",
              "  "
            ]
          },
          "metadata": {},
          "execution_count": 57
        }
      ]
    },
    {
      "cell_type": "code",
      "source": [
        "# Estas son las semanas en las que el macro es > 0.8\n",
        "lasso.index[lasso['macro'] > 0.8]"
      ],
      "metadata": {
        "id": "FTsOn49GQ819",
        "outputId": "f44b5eb4-81ad-448f-9757-0e0d20ff0750",
        "colab": {
          "base_uri": "https://localhost:8080/"
        }
      },
      "execution_count": 58,
      "outputs": [
        {
          "output_type": "execute_result",
          "data": {
            "text/plain": [
              "Index(['1981-50', '1982-25', '1982-52', '1983-41', '1986-52', '1989-5',\n",
              "       '1989-47', '1990-2', '1990-35', '1991-12', '1992-27', '2001-4',\n",
              "       '2001-36', '2001-42', '2002-34', '2002-35', '2003-4', '2003-12',\n",
              "       '2003-49', '2003-52', '1996-13', '1996-36', '1996-52', '1999-18',\n",
              "       '2000-5', '1993-42', '1994-3', '2004-33', '2006-36', '2006-44',\n",
              "       '2007-3', '2007-29', '2007-31', '2008-5', '2008-15', '2008-27',\n",
              "       '2008-43', '2011-34', '2011-35', '2011-42', '2011-44', '2012-2',\n",
              "       '2013-31', '2015-49', '2018-29'],\n",
              "      dtype='object', name='semana')"
            ]
          },
          "metadata": {},
          "execution_count": 58
        }
      ]
    },
    {
      "cell_type": "markdown",
      "source": [
        "# Asignacion de Topic por semana"
      ],
      "metadata": {
        "id": "bC5nq3XpTRDc"
      }
    },
    {
      "cell_type": "code",
      "source": [
        "from sklearn.decomposition import LatentDirichletAllocation\n",
        "lda = LatentDirichletAllocation(n_components=30, max_iter=50, learning_method='batch', learning_offset=50.,random_state=0)  \n",
        "lda.fit(matrix)"
      ],
      "metadata": {
        "id": "-08gI8V8TWOx",
        "outputId": "c437fe67-b540-421d-df9a-e911a96b5d84",
        "colab": {
          "base_uri": "https://localhost:8080/",
          "height": 92
        }
      },
      "execution_count": 67,
      "outputs": [
        {
          "output_type": "execute_result",
          "data": {
            "text/plain": [
              "LatentDirichletAllocation(learning_offset=50.0, max_iter=50, n_components=30,\n",
              "                          random_state=0)"
            ],
            "text/html": [
              "<style>#sk-container-id-1 {color: black;background-color: white;}#sk-container-id-1 pre{padding: 0;}#sk-container-id-1 div.sk-toggleable {background-color: white;}#sk-container-id-1 label.sk-toggleable__label {cursor: pointer;display: block;width: 100%;margin-bottom: 0;padding: 0.3em;box-sizing: border-box;text-align: center;}#sk-container-id-1 label.sk-toggleable__label-arrow:before {content: \"▸\";float: left;margin-right: 0.25em;color: #696969;}#sk-container-id-1 label.sk-toggleable__label-arrow:hover:before {color: black;}#sk-container-id-1 div.sk-estimator:hover label.sk-toggleable__label-arrow:before {color: black;}#sk-container-id-1 div.sk-toggleable__content {max-height: 0;max-width: 0;overflow: hidden;text-align: left;background-color: #f0f8ff;}#sk-container-id-1 div.sk-toggleable__content pre {margin: 0.2em;color: black;border-radius: 0.25em;background-color: #f0f8ff;}#sk-container-id-1 input.sk-toggleable__control:checked~div.sk-toggleable__content {max-height: 200px;max-width: 100%;overflow: auto;}#sk-container-id-1 input.sk-toggleable__control:checked~label.sk-toggleable__label-arrow:before {content: \"▾\";}#sk-container-id-1 div.sk-estimator input.sk-toggleable__control:checked~label.sk-toggleable__label {background-color: #d4ebff;}#sk-container-id-1 div.sk-label input.sk-toggleable__control:checked~label.sk-toggleable__label {background-color: #d4ebff;}#sk-container-id-1 input.sk-hidden--visually {border: 0;clip: rect(1px 1px 1px 1px);clip: rect(1px, 1px, 1px, 1px);height: 1px;margin: -1px;overflow: hidden;padding: 0;position: absolute;width: 1px;}#sk-container-id-1 div.sk-estimator {font-family: monospace;background-color: #f0f8ff;border: 1px dotted black;border-radius: 0.25em;box-sizing: border-box;margin-bottom: 0.5em;}#sk-container-id-1 div.sk-estimator:hover {background-color: #d4ebff;}#sk-container-id-1 div.sk-parallel-item::after {content: \"\";width: 100%;border-bottom: 1px solid gray;flex-grow: 1;}#sk-container-id-1 div.sk-label:hover label.sk-toggleable__label {background-color: #d4ebff;}#sk-container-id-1 div.sk-serial::before {content: \"\";position: absolute;border-left: 1px solid gray;box-sizing: border-box;top: 0;bottom: 0;left: 50%;z-index: 0;}#sk-container-id-1 div.sk-serial {display: flex;flex-direction: column;align-items: center;background-color: white;padding-right: 0.2em;padding-left: 0.2em;position: relative;}#sk-container-id-1 div.sk-item {position: relative;z-index: 1;}#sk-container-id-1 div.sk-parallel {display: flex;align-items: stretch;justify-content: center;background-color: white;position: relative;}#sk-container-id-1 div.sk-item::before, #sk-container-id-1 div.sk-parallel-item::before {content: \"\";position: absolute;border-left: 1px solid gray;box-sizing: border-box;top: 0;bottom: 0;left: 50%;z-index: -1;}#sk-container-id-1 div.sk-parallel-item {display: flex;flex-direction: column;z-index: 1;position: relative;background-color: white;}#sk-container-id-1 div.sk-parallel-item:first-child::after {align-self: flex-end;width: 50%;}#sk-container-id-1 div.sk-parallel-item:last-child::after {align-self: flex-start;width: 50%;}#sk-container-id-1 div.sk-parallel-item:only-child::after {width: 0;}#sk-container-id-1 div.sk-dashed-wrapped {border: 1px dashed gray;margin: 0 0.4em 0.5em 0.4em;box-sizing: border-box;padding-bottom: 0.4em;background-color: white;}#sk-container-id-1 div.sk-label label {font-family: monospace;font-weight: bold;display: inline-block;line-height: 1.2em;}#sk-container-id-1 div.sk-label-container {text-align: center;}#sk-container-id-1 div.sk-container {/* jupyter's `normalize.less` sets `[hidden] { display: none; }` but bootstrap.min.css set `[hidden] { display: none !important; }` so we also need the `!important` here to be able to override the default hidden behavior on the sphinx rendered scikit-learn.org. See: https://github.com/scikit-learn/scikit-learn/issues/21755 */display: inline-block !important;position: relative;}#sk-container-id-1 div.sk-text-repr-fallback {display: none;}</style><div id=\"sk-container-id-1\" class=\"sk-top-container\"><div class=\"sk-text-repr-fallback\"><pre>LatentDirichletAllocation(learning_offset=50.0, max_iter=50, n_components=30,\n",
              "                          random_state=0)</pre><b>In a Jupyter environment, please rerun this cell to show the HTML representation or trust the notebook. <br />On GitHub, the HTML representation is unable to render, please try loading this page with nbviewer.org.</b></div><div class=\"sk-container\" hidden><div class=\"sk-item\"><div class=\"sk-estimator sk-toggleable\"><input class=\"sk-toggleable__control sk-hidden--visually\" id=\"sk-estimator-id-1\" type=\"checkbox\" checked><label for=\"sk-estimator-id-1\" class=\"sk-toggleable__label sk-toggleable__label-arrow\">LatentDirichletAllocation</label><div class=\"sk-toggleable__content\"><pre>LatentDirichletAllocation(learning_offset=50.0, max_iter=50, n_components=30,\n",
              "                          random_state=0)</pre></div></div></div></div></div>"
            ]
          },
          "metadata": {},
          "execution_count": 67
        }
      ]
    },
    {
      "cell_type": "code",
      "source": [
        "disc_weights=matrix*lda.components_.transpose()\n",
        "base['Topic_weight']=disc_weights.argmax(axis=1)+1"
      ],
      "metadata": {
        "id": "_xtqx-RVkaL8"
      },
      "execution_count": 68,
      "outputs": []
    },
    {
      "cell_type": "code",
      "source": [
        "import statistics as st\n",
        "a=[]\n",
        "for x in lasso.index:\n",
        "      a.append(st.mode(base[base['semana'] == x]['Topic_weight']))"
      ],
      "metadata": {
        "id": "Vq98utQEkwsl"
      },
      "execution_count": 83,
      "outputs": []
    },
    {
      "cell_type": "code",
      "source": [
        "topic_semana=pd.DataFrame(lasso['macro'])"
      ],
      "metadata": {
        "id": "QagugEzjkiDb"
      },
      "execution_count": 109,
      "outputs": []
    },
    {
      "cell_type": "code",
      "source": [
        "topic_semana['topic']=a"
      ],
      "metadata": {
        "id": "GLFvGp_rm0d_"
      },
      "execution_count": 110,
      "outputs": []
    },
    {
      "cell_type": "code",
      "source": [
        "topic_semana.to_csv('topic_por_semana.csv')"
      ],
      "metadata": {
        "id": "D6TqJOj7m4E7"
      },
      "execution_count": 115,
      "outputs": []
    },
    {
      "cell_type": "code",
      "source": [
        "import matplotlib.pyplot as plt\n",
        "plt.scatter((pd.DatetimeIndex(base.fecha).isocalendar().year.astype(str)  +'-'+ pd.DatetimeIndex(base.fecha).isocalendar().week.astype(str)).unique(), topic_semana['topic'], marker='o')\n",
        "plt.savefig('topic_por_semana.png')"
      ],
      "metadata": {
        "id": "_tnuSQ-roGGm",
        "outputId": "fce4b386-e129-4bf2-c001-f79995f8ca0e",
        "colab": {
          "base_uri": "https://localhost:8080/",
          "height": 430
        }
      },
      "execution_count": 114,
      "outputs": [
        {
          "output_type": "display_data",
          "data": {
            "text/plain": [
              "<Figure size 640x480 with 1 Axes>"
            ],
            "image/png": "[encoded data removed]"
          },
          "metadata": {}
        }
      ]
    },
    {
      "cell_type": "code",
      "source": [
        "# Estas son las semanas en las que se habló de temas distintos al Topic 1.\n",
        "topic_semana.index[topic_semana['topic'] != 1]"
      ],
      "metadata": {
        "id": "-QKpFQoKo3ME",
        "outputId": "e5bf251a-a7a9-437e-96e3-b87ad75a3de2",
        "colab": {
          "base_uri": "https://localhost:8080/"
        }
      },
      "execution_count": 116,
      "outputs": [
        {
          "output_type": "execute_result",
          "data": {
            "text/plain": [
              "Index(['1979-20', '1979-21', '1979-22', '1979-24', '1979-25', '1979-43',\n",
              "       '1979-45', '1979-47', '1979-50', '1980-5', '1980-7', '1980-9',\n",
              "       '1980-13', '1980-38', '1980-39', '1980-46', '1980-49', '1980-51',\n",
              "       '1981-1', '1981-12', '1981-13', '1981-14', '1981-17', '1981-20',\n",
              "       '1981-25', '1981-39', '1981-44', '1981-50', '1982-6', '1982-8',\n",
              "       '1982-11', '1982-13', '1982-16', '1982-17', '1982-23', '1982-24',\n",
              "       '1982-26', '1982-47', '1983-49', '1985-41', '1986-5', '1986-17',\n",
              "       '1986-31', '1987-20', '1988-40', '1988-49', '1996-30', '1999-3',\n",
              "       '2011-3', '2016-33', '2018-28', '2019-49'],\n",
              "      dtype='object', name='semana')"
            ]
          },
          "metadata": {},
          "execution_count": 116
        }
      ]
    }
  ]
}